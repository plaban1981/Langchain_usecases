{
  "nbformat": 4,
  "nbformat_minor": 0,
  "metadata": {
    "colab": {
      "provenance": [],
      "authorship_tag": "ABX9TyOBMQPyV5NuBjGwn2aJm0dx",
      "include_colab_link": true
    },
    "kernelspec": {
      "name": "python3",
      "display_name": "Python 3"
    },
    "language_info": {
      "name": "python"
    }
  },
  "cells": [
    {
      "cell_type": "markdown",
      "metadata": {
        "id": "view-in-github",
        "colab_type": "text"
      },
      "source": [
        "<a href=\"https://colab.research.google.com/github/plaban1981/Langchain_usecases/blob/main/Langchain_agents.ipynb\" target=\"_parent\"><img src=\"https://colab.research.google.com/assets/colab-badge.svg\" alt=\"Open In Colab\"/></a>"
      ]
    },
    {
      "cell_type": "markdown",
      "source": [
        "## Agents 🤖\n",
        "Agents are like \"tools\" for LLMs. They allow a LLM to access Google search, perform complex calculations with Python, and even make SQL queries.\n",
        "\n",
        "In this notebook we'll explore agents and how to use them in LangChain.\n",
        "\n",
        "We'll start by installing the prerequisite libraries that we'll be using in this example."
      ],
      "metadata": {
        "id": "1ARiVfIFnY77"
      }
    },
    {
      "cell_type": "code",
      "execution_count": 1,
      "metadata": {
        "colab": {
          "base_uri": "https://localhost:8080/"
        },
        "id": "QCn-Ats9nOZT",
        "outputId": "ef2d3e6d-852d-4570-ad2a-f82617c46398"
      },
      "outputs": [
        {
          "output_type": "stream",
          "name": "stdout",
          "text": [
            "\u001b[?25l     \u001b[90m━━━━━━━━━━━━━━━━━━━━━━━━━━━━━━━━━━━━━━━━\u001b[0m \u001b[32m0.0/626.5 kB\u001b[0m \u001b[31m?\u001b[0m eta \u001b[36m-:--:--\u001b[0m\r\u001b[2K     \u001b[91m━━━━━━━━━━━━━━━━━━━━━━━━━━━━━━━━━━━━━\u001b[0m\u001b[91m╸\u001b[0m \u001b[32m624.6/626.5 kB\u001b[0m \u001b[31m18.8 MB/s\u001b[0m eta \u001b[36m0:00:01\u001b[0m\r\u001b[2K     \u001b[90m━━━━━━━━━━━━━━━━━━━━━━━━━━━━━━━━━━━━━━\u001b[0m \u001b[32m626.5/626.5 kB\u001b[0m \u001b[31m13.5 MB/s\u001b[0m eta \u001b[36m0:00:00\u001b[0m\n",
            "\u001b[?25h\u001b[?25l     \u001b[90m━━━━━━━━━━━━━━━━━━━━━━━━━━━━━━━━━━━━━━━━\u001b[0m \u001b[32m0.0/70.3 kB\u001b[0m \u001b[31m?\u001b[0m eta \u001b[36m-:--:--\u001b[0m\r\u001b[2K     \u001b[90m━━━━━━━━━━━━━━━━━━━━━━━━━━━━━━━━━━━━━━━━\u001b[0m \u001b[32m70.3/70.3 kB\u001b[0m \u001b[31m9.6 MB/s\u001b[0m eta \u001b[36m0:00:00\u001b[0m\n",
            "\u001b[?25h  Preparing metadata (setup.py) ... \u001b[?25l\u001b[?25hdone\n",
            "  Preparing metadata (setup.py) ... \u001b[?25l\u001b[?25hdone\n",
            "\u001b[2K     \u001b[90m━━━━━━━━━━━━━━━━━━━━━━━━━━━━━━━━━━━━━━━━\u001b[0m \u001b[32m90.0/90.0 kB\u001b[0m \u001b[31m10.7 MB/s\u001b[0m eta \u001b[36m0:00:00\u001b[0m\n",
            "\u001b[2K     \u001b[90m━━━━━━━━━━━━━━━━━━━━━━━━━━━━━━━━━━━━━━━━\u001b[0m \u001b[32m1.6/1.6 MB\u001b[0m \u001b[31m60.0 MB/s\u001b[0m eta \u001b[36m0:00:00\u001b[0m\n",
            "\u001b[2K     \u001b[90m━━━━━━━━━━━━━━━━━━━━━━━━━━━━━━━━━━━━━━━━\u001b[0m \u001b[32m1.0/1.0 MB\u001b[0m \u001b[31m46.0 MB/s\u001b[0m eta \u001b[36m0:00:00\u001b[0m\n",
            "\u001b[2K     \u001b[90m━━━━━━━━━━━━━━━━━━━━━━━━━━━━━━━━━━━━━━\u001b[0m \u001b[32m269.3/269.3 kB\u001b[0m \u001b[31m25.8 MB/s\u001b[0m eta \u001b[36m0:00:00\u001b[0m\n",
            "\u001b[2K     \u001b[90m━━━━━━━━━━━━━━━━━━━━━━━━━━━━━━━━━━━━━━\u001b[0m \u001b[32m158.8/158.8 kB\u001b[0m \u001b[31m11.4 MB/s\u001b[0m eta \u001b[36m0:00:00\u001b[0m\n",
            "\u001b[2K     \u001b[90m━━━━━━━━━━━━━━━━━━━━━━━━━━━━━━━━━━━━━━\u001b[0m \u001b[32m114.2/114.2 kB\u001b[0m \u001b[31m10.3 MB/s\u001b[0m eta \u001b[36m0:00:00\u001b[0m\n",
            "\u001b[2K     \u001b[90m━━━━━━━━━━━━━━━━━━━━━━━━━━━━━━━━━━━━━━━━\u001b[0m \u001b[32m49.1/49.1 kB\u001b[0m \u001b[31m6.0 MB/s\u001b[0m eta \u001b[36m0:00:00\u001b[0m\n",
            "\u001b[?25h  Building wheel for google-search-results (setup.py) ... \u001b[?25l\u001b[?25hdone\n",
            "  Building wheel for wikipedia (setup.py) ... \u001b[?25l\u001b[?25hdone\n"
          ]
        }
      ],
      "source": [
        "!pip install -qU langchain openai google-search-results wikipedia"
      ]
    },
    {
      "cell_type": "code",
      "source": [
        "from getpass import getpass\n",
        "OPENAI_API_KEY = getpass()"
      ],
      "metadata": {
        "colab": {
          "base_uri": "https://localhost:8080/"
        },
        "id": "UImC7vHWng1G",
        "outputId": "acbe11de-0caf-497f-fbb8-6c8d11da2ffd"
      },
      "execution_count": 2,
      "outputs": [
        {
          "name": "stdout",
          "output_type": "stream",
          "text": [
            "··········\n"
          ]
        }
      ]
    },
    {
      "cell_type": "code",
      "source": [
        "from langchain import OpenAI\n",
        "\n",
        "llm = OpenAI(\n",
        "    openai_api_key=OPENAI_API_KEY,\n",
        "    temperature=0\n",
        ")"
      ],
      "metadata": {
        "id": "aihXTctentVz"
      },
      "execution_count": 3,
      "outputs": []
    },
    {
      "cell_type": "markdown",
      "source": [
        "## Counting tokens in each call"
      ],
      "metadata": {
        "id": "KRMbsZwVnxJm"
      }
    },
    {
      "cell_type": "code",
      "source": [
        "from langchain.callbacks import get_openai_callback\n",
        "def countTokens(agent,query):\n",
        "  with get_openai_callback() as cb:\n",
        "    result =agent(query)\n",
        "  print(f\"Spent a total of {cb.total_tokens} tokens\")\n",
        "  return result"
      ],
      "metadata": {
        "id": "bLCBtfDzn0w5"
      },
      "execution_count": 4,
      "outputs": []
    },
    {
      "cell_type": "markdown",
      "source": [
        "## What is an agent?\n",
        "####Definition: \n",
        "The key behind agents is giving LLM's the possibility of using tools in their workflow. This is where langchain departs from the popular chatgpt implementation and we can start to get a glimpse of what it offers us as builders. Until now, we covered several building blocks in isolation. Let's see them come to life.\n",
        "\n",
        "The official definition of agents is the following:\n",
        "\n",
        "Agents use an LLM to determine which actions to take and in what order. An action can either be using a tool and observing its output, or returning to the user.\n",
        "\n",
        "In this edition we will cover what we may call 'generic' agents which really able to perform many meta tasks. There are other more specific agents that are tuned for different tasks (called 'agent-toolkits'), but we will cover those in a future edition."
      ],
      "metadata": {
        "id": "R8OYbuoRobgF"
      }
    },
    {
      "cell_type": "markdown",
      "source": [
        "To use agents we need three main components:\n",
        "\n",
        "* Large Language Models (LLMs)\n",
        "* Tools\n",
        "* The Agents themselves"
      ],
      "metadata": {
        "id": "_iUapzD-or8a"
      }
    },
    {
      "cell_type": "code",
      "source": [
        "from langchain.chains import LLMChain,LLMMathChain\n",
        "from langchain.agents import Tool\n",
        "#\n",
        "llm_math = LLMMathChain(llm=llm)\n",
        "#\n",
        "math_tool = Tool(name=\"calculator\",\n",
        "                 func= llm_math.run ,\n",
        "                 description = \"Useful for when we need to answer questions about math.\")\n",
        "#\n",
        "tools =[math_tool]"
      ],
      "metadata": {
        "id": "MkNyd_eaoXMC"
      },
      "execution_count": 5,
      "outputs": []
    },
    {
      "cell_type": "code",
      "source": [
        "tools[0].name, tools[0].description"
      ],
      "metadata": {
        "colab": {
          "base_uri": "https://localhost:8080/"
        },
        "id": "R6ZQXUyAqpyy",
        "outputId": "b9a0af64-cf5b-4dd1-c3dd-5d9aade85754"
      },
      "execution_count": 6,
      "outputs": [
        {
          "output_type": "execute_result",
          "data": {
            "text/plain": [
              "('calculator', 'Useful for when we need to answer questions about math.')"
            ]
          },
          "metadata": {},
          "execution_count": 6
        }
      ]
    },
    {
      "cell_type": "markdown",
      "source": [
        "##Initialize agent"
      ],
      "metadata": {
        "id": "3eSxo0ozpxfd"
      }
    },
    {
      "cell_type": "code",
      "source": [
        "from langchain.agents import initialize_agent\n",
        "zeroshot_agent = initialize_agent(agent ='zero-shot-react-description',\n",
        "                                  tools=tools,\n",
        "                                  llm=llm,\n",
        "                                  verbose=True ,\n",
        "                                  max_iterations=3)"
      ],
      "metadata": {
        "id": "CPzptjF0pzrB"
      },
      "execution_count": 7,
      "outputs": []
    },
    {
      "cell_type": "code",
      "source": [
        "zeroshot_agent(\"what is (4.5*2.1)^2.2?\")"
      ],
      "metadata": {
        "colab": {
          "base_uri": "https://localhost:8080/"
        },
        "id": "Y2bVe-fXpu7o",
        "outputId": "96cc295d-2784-4b3d-84ae-e3146adabc0c"
      },
      "execution_count": 8,
      "outputs": [
        {
          "output_type": "stream",
          "name": "stdout",
          "text": [
            "\n",
            "\n",
            "\u001b[1m> Entering new AgentExecutor chain...\u001b[0m\n",
            "\u001b[32;1m\u001b[1;3m I need to calculate this expression\n",
            "Action: calculator\n",
            "Action Input: (4.5*2.1)^2.2\u001b[0m\n",
            "Observation: \u001b[36;1m\u001b[1;3mAnswer: 139.94261298333066\u001b[0m\n",
            "Thought:\u001b[32;1m\u001b[1;3m I now know the final answer\n",
            "Final Answer: 139.94261298333066\u001b[0m\n",
            "\n",
            "\u001b[1m> Finished chain.\u001b[0m\n"
          ]
        },
        {
          "output_type": "execute_result",
          "data": {
            "text/plain": [
              "{'input': 'what is (4.5*2.1)^2.2?', 'output': '139.94261298333066'}"
            ]
          },
          "metadata": {},
          "execution_count": 8
        }
      ]
    },
    {
      "cell_type": "code",
      "source": [
        "zeroshot_agent(\"if Mary has four apples and Giorgio brings two and a half apple \"\n",
        "                \"boxes (apple box contains eight apples), how many apples do we \"\n",
        "                \"have?\")"
      ],
      "metadata": {
        "colab": {
          "base_uri": "https://localhost:8080/"
        },
        "id": "DvpVw60orrV-",
        "outputId": "2a08e34e-ee0b-4c1b-fdea-cf2b086edf91"
      },
      "execution_count": 9,
      "outputs": [
        {
          "output_type": "stream",
          "name": "stdout",
          "text": [
            "\n",
            "\n",
            "\u001b[1m> Entering new AgentExecutor chain...\u001b[0m\n",
            "\u001b[32;1m\u001b[1;3m We need to calculate the total number of apples.\n",
            "Action: calculator\n",
            "Action Input: 4 + (2.5 * 8)\u001b[0m\n",
            "Observation: \u001b[36;1m\u001b[1;3mAnswer: 24.0\u001b[0m\n",
            "Thought:\u001b[32;1m\u001b[1;3m We now have the total number of apples.\n",
            "Final Answer: We have 24 apples.\u001b[0m\n",
            "\n",
            "\u001b[1m> Finished chain.\u001b[0m\n"
          ]
        },
        {
          "output_type": "execute_result",
          "data": {
            "text/plain": [
              "{'input': 'if Mary has four apples and Giorgio brings two and a half apple boxes (apple box contains eight apples), how many apples do we have?',\n",
              " 'output': 'We have 24 apples.'}"
            ]
          },
          "metadata": {},
          "execution_count": 9
        }
      ]
    },
    {
      "cell_type": "markdown",
      "source": [
        "If we'd like the agent to answer this \"general knowledge\" question. We can, we just need to link it to an LLM tool.\n",
        "\n",
        "We initialize the tool like so:"
      ],
      "metadata": {
        "id": "UrRYE0BRr5h9"
      }
    },
    {
      "cell_type": "code",
      "source": [
        "from langchain.prompts import PromptTemplate\n",
        "from langchain.chains import LLMChain\n",
        "prompt = PromptTemplate(input_variables=[\"query\"],\n",
        "                        template=\"{query}\")\n",
        "llm_chain = LLMChain(llm=llm,\n",
        "                     prompt=prompt)\n"
      ],
      "metadata": {
        "id": "Fmu4jaiwr60V"
      },
      "execution_count": 10,
      "outputs": []
    },
    {
      "cell_type": "markdown",
      "source": [
        "## initialize language tool"
      ],
      "metadata": {
        "id": "ZYJUvE2us7RV"
      }
    },
    {
      "cell_type": "code",
      "source": [
        "llm_tool = Tool(name=\"language_tool\",\n",
        "                func = llm_chain.run,\n",
        "                description = \"Use this tool for general purpose queries\")\n",
        "tools.append(llm_tool)"
      ],
      "metadata": {
        "id": "MYXlSgXis96j"
      },
      "execution_count": 11,
      "outputs": []
    },
    {
      "cell_type": "markdown",
      "source": [
        "##Re-initialize the agent with 2 tools"
      ],
      "metadata": {
        "id": "v4hbFSvIt1Ko"
      }
    },
    {
      "cell_type": "code",
      "source": [
        "zeroshot_agent = initialize_agent(agent =\"zero-shot-react-description\",\n",
        "                                   tools=tools,\n",
        "                                   llm=llm,\n",
        "                                   verbose=True,\n",
        "                                   max_iterations=6)"
      ],
      "metadata": {
        "id": "I5zNZfnItrQd"
      },
      "execution_count": 12,
      "outputs": []
    },
    {
      "cell_type": "code",
      "source": [
        "zeroshot_agent(\"What is the capital of India?\")"
      ],
      "metadata": {
        "colab": {
          "base_uri": "https://localhost:8080/"
        },
        "id": "foYVpJKgucBX",
        "outputId": "4b5093a7-fe2c-472e-bd72-be38739131c5"
      },
      "execution_count": 13,
      "outputs": [
        {
          "output_type": "stream",
          "name": "stdout",
          "text": [
            "\n",
            "\n",
            "\u001b[1m> Entering new AgentExecutor chain...\u001b[0m\n",
            "\u001b[32;1m\u001b[1;3m I need to find out what the capital of India is.\n",
            "Action: language_tool\n",
            "Action Input: \"What is the capital of India?\"\u001b[0m\n",
            "Observation: \u001b[33;1m\u001b[1;3m\n",
            "\n",
            "The capital of India is New Delhi.\u001b[0m\n",
            "Thought:\u001b[32;1m\u001b[1;3m I now know the final answer.\n",
            "Final Answer: The capital of India is New Delhi.\u001b[0m\n",
            "\n",
            "\u001b[1m> Finished chain.\u001b[0m\n"
          ]
        },
        {
          "output_type": "execute_result",
          "data": {
            "text/plain": [
              "{'input': 'What is the capital of India?',\n",
              " 'output': 'The capital of India is New Delhi.'}"
            ]
          },
          "metadata": {},
          "execution_count": 13
        }
      ]
    },
    {
      "cell_type": "code",
      "source": [
        "for query in [\"What is the capital of India?\",\"what is (4.5*2.1)^2.2?\"]:\n",
        "  zeroshot_agent(query)"
      ],
      "metadata": {
        "colab": {
          "base_uri": "https://localhost:8080/"
        },
        "id": "KWK8HfZ-ugy-",
        "outputId": "1f98b623-1370-44db-d7a8-a418799c2603"
      },
      "execution_count": 14,
      "outputs": [
        {
          "output_type": "stream",
          "name": "stdout",
          "text": [
            "\n",
            "\n",
            "\u001b[1m> Entering new AgentExecutor chain...\u001b[0m\n",
            "\u001b[32;1m\u001b[1;3m I need to find out what the capital of India is.\n",
            "Action: language_tool\n",
            "Action Input: Capital of India\u001b[0m\n",
            "Observation: \u001b[33;1m\u001b[1;3m\n",
            "\n",
            "Delhi is the capital of India.\u001b[0m\n",
            "Thought:\u001b[32;1m\u001b[1;3m I now know the final answer.\n",
            "Final Answer: Delhi is the capital of India.\u001b[0m\n",
            "\n",
            "\u001b[1m> Finished chain.\u001b[0m\n",
            "\n",
            "\n",
            "\u001b[1m> Entering new AgentExecutor chain...\u001b[0m\n",
            "\u001b[32;1m\u001b[1;3m I need to calculate this expression\n",
            "Action: calculator\n",
            "Action Input: 4.5*2.1^2.2\u001b[0m\n",
            "Observation: \u001b[36;1m\u001b[1;3mAnswer: 23.01945102298866\u001b[0m\n",
            "Thought:\u001b[32;1m\u001b[1;3m I now know the final answer\n",
            "Final Answer: 23.01945102298866\u001b[0m\n",
            "\n",
            "\u001b[1m> Finished chain.\u001b[0m\n"
          ]
        }
      ]
    },
    {
      "cell_type": "markdown",
      "source": [
        "## Create database\n",
        "We will use the agents to interact with a small sample database of stocks. \n",
        "\n",
        "* This is just a dummy tool we will build for illustrative purposes. Let's create it."
      ],
      "metadata": {
        "id": "LbhKZtQdv8Mc"
      }
    },
    {
      "cell_type": "code",
      "source": [
        "from sqlalchemy import MetaData\n",
        "\n",
        "metadata_obj = MetaData()"
      ],
      "metadata": {
        "id": "31dqTx1cvZGs"
      },
      "execution_count": 15,
      "outputs": []
    },
    {
      "cell_type": "code",
      "source": [
        "from sqlalchemy import Column, Integer, String, Table, Date, Float\n",
        "\n",
        "stocks = Table(\n",
        "    \"stocks\",\n",
        "    metadata_obj,\n",
        "    Column(\"obs_id\", Integer, primary_key=True),\n",
        "    Column(\"stock_ticker\", String(4), nullable=False),\n",
        "    Column(\"price\", Float, nullable=False),\n",
        "    Column(\"date\", Date, nullable=False),    \n",
        ")"
      ],
      "metadata": {
        "id": "ILQU7MN6wIqh"
      },
      "execution_count": 16,
      "outputs": []
    },
    {
      "cell_type": "code",
      "source": [
        "from sqlalchemy import create_engine\n",
        "\n",
        "engine = create_engine(\"sqlite:///:memory:\", pool_size=10,pool_pre_ping=True)\n",
        "metadata_obj.create_all(engine)"
      ],
      "metadata": {
        "id": "g5My7fS8wPV1"
      },
      "execution_count": 42,
      "outputs": []
    },
    {
      "cell_type": "code",
      "source": [
        "from datetime import datetime\n",
        "\n",
        "observations = [\n",
        "    [1, 'ABC', 200, datetime(2023, 1, 1)],\n",
        "    [2, 'ABC', 208, datetime(2023, 1, 2)],\n",
        "    [3, 'ABC', 232, datetime(2023, 1, 3)],\n",
        "    [4, 'ABC', 225, datetime(2023, 1, 4)],\n",
        "    [5, 'ABC', 226, datetime(2023, 1, 5)],\n",
        "    [6, 'XYZ', 810, datetime(2023, 1, 1)],\n",
        "    [7, 'XYZ', 803, datetime(2023, 1, 2)],\n",
        "    [8, 'XYZ', 798, datetime(2023, 1, 3)],\n",
        "    [9, 'XYZ', 795, datetime(2023, 1, 4)],\n",
        "    [10, 'XYZ', 791, datetime(2023, 1, 5)],\n",
        "]"
      ],
      "metadata": {
        "id": "0926s1rkwUQq"
      },
      "execution_count": 18,
      "outputs": []
    },
    {
      "cell_type": "code",
      "source": [
        "observations = [\n",
        "    [11, 'ABC1', 200, datetime(2023, 1, 1)],\n",
        "    [12, 'ABC1', 208, datetime(2023, 1, 2)],\n",
        "    [13, 'ABC1', 232, datetime(2023, 1, 3)],\n",
        "    [14, 'ABC1', 225, datetime(2023, 1, 4)],\n",
        "    [15, 'ABC1', 226, datetime(2023, 1, 5)],\n",
        "    [16, 'XYZ1', 810, datetime(2023, 1, 1)],\n",
        "    [17, 'XYZ1', 803, datetime(2023, 1, 2)],\n",
        "    [18, 'XYZ1', 798, datetime(2023, 1, 3)],\n",
        "    [19, 'XYZ1', 795, datetime(2023, 1, 4)],\n",
        "    [20, 'XYZ1', 791, datetime(2023, 1, 5)],\n",
        "]"
      ],
      "metadata": {
        "id": "k-0E4_5o6Mwc"
      },
      "execution_count": 34,
      "outputs": []
    },
    {
      "cell_type": "code",
      "source": [
        "from sqlalchemy import insert\n",
        "\n",
        "def insert_obs(obs):\n",
        "    stmt = insert(stocks).values(\n",
        "    obs_id=obs[0], \n",
        "    stock_ticker=obs[1], \n",
        "    price=obs[2],\n",
        "    date=obs[3]\n",
        "    )\n",
        "\n",
        "    with engine.begin() as conn:\n",
        "        conn.execute(stmt)"
      ],
      "metadata": {
        "id": "aXHkAA1Swa7V"
      },
      "execution_count": 35,
      "outputs": []
    },
    {
      "cell_type": "markdown",
      "source": [
        "## Insert rows into the table"
      ],
      "metadata": {
        "id": "J44bQ5iMwdST"
      }
    },
    {
      "cell_type": "code",
      "source": [
        "for obs in observations:\n",
        "    insert_obs(obs)"
      ],
      "metadata": {
        "id": "bnCiAAKYwfpA"
      },
      "execution_count": 36,
      "outputs": []
    },
    {
      "cell_type": "code",
      "source": [
        "from langchain.sql_database import SQLDatabase\n",
        "from langchain.chains import SQLDatabaseChain\n",
        "#\n",
        "\n",
        "db = SQLDatabase(engine)\n",
        "sql_chain = SQLDatabaseChain(llm=llm, database=db, verbose=True)"
      ],
      "metadata": {
        "id": "kw8ysY1EyTYT"
      },
      "execution_count": 37,
      "outputs": []
    },
    {
      "cell_type": "markdown",
      "source": [
        "## Create a db Tool"
      ],
      "metadata": {
        "id": "yDcPQ15CzSCf"
      }
    },
    {
      "cell_type": "code",
      "source": [
        "db_tool = Tool(name=\"stock_db\",\n",
        "               func = sql_chain.run,\n",
        "               description=\"Useful for when you need to answer questions about stocks and their prices.\")"
      ],
      "metadata": {
        "id": "lHu9YcitzEZZ"
      },
      "execution_count": 38,
      "outputs": []
    },
    {
      "cell_type": "code",
      "source": [
        "tools.append(db_tool)"
      ],
      "metadata": {
        "id": "pomfHPugzng1"
      },
      "execution_count": 39,
      "outputs": []
    },
    {
      "cell_type": "code",
      "source": [
        "tools[2].name"
      ],
      "metadata": {
        "colab": {
          "base_uri": "https://localhost:8080/",
          "height": 35
        },
        "id": "pCaFIrV94jPh",
        "outputId": "128944d5-ebda-469b-a391-57f3d3074e7a"
      },
      "execution_count": 40,
      "outputs": [
        {
          "output_type": "execute_result",
          "data": {
            "text/plain": [
              "'stock_db'"
            ],
            "application/vnd.google.colaboratory.intrinsic+json": {
              "type": "string"
            }
          },
          "metadata": {},
          "execution_count": 40
        }
      ]
    },
    {
      "cell_type": "markdown",
      "source": [
        "## Initialize the agent again"
      ],
      "metadata": {
        "id": "Cy-yw07N0H7k"
      }
    },
    {
      "cell_type": "code",
      "source": [
        "#Important Note: When interacting with agents it is really important to set the max_iterations parameters because agents can get stuck in infinite loops that consume plenty of tokens. The default value is 15 to allow for many tools and complex reasoning but for most applications you should keep it much lower.\n",
        "\n",
        "from langchain.agents import initialize_agent\n",
        "\n",
        "zeroshot_agent = initialize_agent(\n",
        "    agent=\"zero-shot-react-description\", \n",
        "    tools=tools, \n",
        "    llm=llm,\n",
        "    verbose=True,\n",
        "    max_iterations=6,\n",
        ")"
      ],
      "metadata": {
        "id": "AlWDLbnE0LTG"
      },
      "execution_count": 25,
      "outputs": []
    },
    {
      "cell_type": "code",
      "source": [
        "result = countTokens(\n",
        "    zeroshot_agent, \n",
        "    \"Use sqlite syntax to answer this query:What is the multiplication of the ratio between stock prices for 'ABC' and 'XYZ' in January 3rd and the ratio between the same stock prices in January the 4th?\"\n",
        ")"
      ],
      "metadata": {
        "colab": {
          "base_uri": "https://localhost:8080/"
        },
        "id": "IFMOW22Qzywj",
        "outputId": "ce44e1b9-efa7-453b-9c1b-e8c1b7ea5805"
      },
      "execution_count": 91,
      "outputs": [
        {
          "output_type": "stream",
          "name": "stdout",
          "text": [
            "\n",
            "\n",
            "\u001b[1m> Entering new AgentExecutor chain...\u001b[0m\n",
            "\u001b[32;1m\u001b[1;3m I need to use the stock_db tool to answer this question.\n",
            "Action: stock_db\n",
            "Action Input: SELECT (price_ABC/price_XYZ) AS ratio_Jan3, (price_ABC/price_XYZ) AS ratio_Jan4 FROM stocks WHERE date = 'January 3rd' OR date = 'January 4th'\u001b[0m\n",
            "\n",
            "\u001b[1m> Entering new SQLDatabaseChain chain...\u001b[0m\n",
            "SELECT (price_ABC/price_XYZ) AS ratio_Jan3, (price_ABC/price_XYZ) AS ratio_Jan4 FROM stocks WHERE date = 'January 3rd' OR date = 'January 4th'\n",
            "SQLQuery:\u001b[32;1m\u001b[1;3m SELECT (price/ (SELECT price FROM stocks WHERE stock_ticker = 'XYZ' AND date = '2023-01-03')) AS ratio_Jan3, (price/ (SELECT price FROM stocks WHERE stock_ticker = 'XYZ' AND date = '2023-01-04')) AS ratio_Jan4 FROM stocks WHERE stock_ticker = 'ABC' AND (date = '2023-01-03' OR date = '2023-01-04')\u001b[0m\n",
            "SQLResult: \u001b[33;1m\u001b[1;3m[(0.2907268170426065, 0.2918238993710692), (0.2819548872180451, 0.2830188679245283)]\u001b[0m\n",
            "Answer:\u001b[32;1m\u001b[1;3m The ratio of ABC to XYZ on January 3rd was 0.2907 and on January 4th was 0.2918.\u001b[0m\n",
            "\u001b[1m> Finished chain.\u001b[0m\n",
            "\n",
            "Observation: \u001b[38;5;200m\u001b[1;3m The ratio of ABC to XYZ on January 3rd was 0.2907 and on January 4th was 0.2918.\u001b[0m\n",
            "Thought:\u001b[32;1m\u001b[1;3m I need to multiply the two ratios together to get the answer.\n",
            "Action: calculator\n",
            "Action Input: 0.2907 * 0.2918\u001b[0m\n",
            "Observation: \u001b[36;1m\u001b[1;3mAnswer: 0.08482626\u001b[0m\n",
            "Thought:\u001b[32;1m\u001b[1;3m I now know the final answer.\n",
            "Final Answer: The multiplication of the ratio between stock prices for 'ABC' and 'XYZ' in January 3rd and the ratio between the same stock prices in January the 4th is 0.08482626.\u001b[0m\n",
            "\n",
            "\u001b[1m> Finished chain.\u001b[0m\n",
            "Spent a total of 2447 tokens\n"
          ]
        }
      ]
    },
    {
      "cell_type": "code",
      "source": [
        "for query in [\"What is the capital of India?\",\n",
        "              \"what is (4.5*2.1)^2.2?\",\n",
        "              \"What is the price for stock_ticker XYZ on Januray 5th ?\",\n",
        "              \"What is the maximum value of stock prices for stock_ticker ABC ?\",\n",
        "              \"Use sqlite syntax to answer this query:What is the multiplication of the ratio between stock prices for 'ABC' and 'XYZ' in January 3rd and the ratio between the same stock prices in January the 4th?\"\n",
        "              ]:\n",
        "  zeroshot_agent(query)"
      ],
      "metadata": {
        "colab": {
          "base_uri": "https://localhost:8080/"
        },
        "id": "Fa3sYvKV1sVh",
        "outputId": "b80c8b74-d975-40a6-f797-ad0bad6e9590"
      },
      "execution_count": 92,
      "outputs": [
        {
          "output_type": "stream",
          "name": "stdout",
          "text": [
            "\n",
            "\n",
            "\u001b[1m> Entering new AgentExecutor chain...\u001b[0m\n",
            "\u001b[32;1m\u001b[1;3m India is a country, so I should use a language tool to find the answer.\n",
            "Action: language_tool\n",
            "Action Input: capital of India\u001b[0m\n",
            "Observation: \u001b[33;1m\u001b[1;3m\n",
            "\n",
            "Delhi is the capital of India.\u001b[0m\n",
            "Thought:\u001b[32;1m\u001b[1;3m I now know the final answer.\n",
            "Final Answer: Delhi is the capital of India.\u001b[0m\n",
            "\n",
            "\u001b[1m> Finished chain.\u001b[0m\n",
            "\n",
            "\n",
            "\u001b[1m> Entering new AgentExecutor chain...\u001b[0m\n",
            "\u001b[32;1m\u001b[1;3m I need to calculate this expression\n",
            "Action: calculator\n",
            "Action Input: 4.5*2.1^2.2\u001b[0m\n",
            "Observation: \u001b[36;1m\u001b[1;3mAnswer: 23.01945102298866\u001b[0m\n",
            "Thought:\u001b[32;1m\u001b[1;3m I now know the final answer\n",
            "Final Answer: 23.01945102298866\u001b[0m\n",
            "\n",
            "\u001b[1m> Finished chain.\u001b[0m\n",
            "\n",
            "\n",
            "\u001b[1m> Entering new AgentExecutor chain...\u001b[0m\n",
            "\u001b[32;1m\u001b[1;3m I need to find the price of a stock on a certain date\n",
            "Action: stock_db\n",
            "Action Input: stock_ticker XYZ, date January 5th\u001b[0m\n",
            "\n",
            "\u001b[1m> Entering new SQLDatabaseChain chain...\u001b[0m\n",
            "stock_ticker XYZ, date January 5th\n",
            "SQLQuery:\u001b[32;1m\u001b[1;3m SELECT price FROM stocks WHERE stock_ticker = \"XYZ\" AND date = \"2023-01-05\"\u001b[0m\n",
            "SQLResult: \u001b[33;1m\u001b[1;3m[(791.0,)]\u001b[0m\n",
            "Answer:\u001b[32;1m\u001b[1;3m The price of stock_ticker XYZ on January 5th is 791.0.\u001b[0m\n",
            "\u001b[1m> Finished chain.\u001b[0m\n",
            "\n",
            "Observation: \u001b[38;5;200m\u001b[1;3m The price of stock_ticker XYZ on January 5th is 791.0.\u001b[0m\n",
            "Thought:\u001b[32;1m\u001b[1;3m I now know the final answer\n",
            "Final Answer: The price of stock_ticker XYZ on January 5th is 791.0.\u001b[0m\n",
            "\n",
            "\u001b[1m> Finished chain.\u001b[0m\n",
            "\n",
            "\n",
            "\u001b[1m> Entering new AgentExecutor chain...\u001b[0m\n",
            "\u001b[32;1m\u001b[1;3m I need to find out the maximum value of stock prices for stock_ticker ABC\n",
            "Action: stock_db\n",
            "Action Input: stock_ticker ABC\u001b[0m\n",
            "\n",
            "\u001b[1m> Entering new SQLDatabaseChain chain...\u001b[0m\n",
            "stock_ticker ABC\n",
            "SQLQuery:\u001b[32;1m\u001b[1;3m SELECT stock_ticker, price, date FROM stocks WHERE stock_ticker = \"ABC\" LIMIT 5;\u001b[0m\n",
            "SQLResult: \u001b[33;1m\u001b[1;3m[('ABC', 200.0, '2023-01-01'), ('ABC', 208.0, '2023-01-02'), ('ABC', 232.0, '2023-01-03'), ('ABC', 225.0, '2023-01-04'), ('ABC', 226.0, '2023-01-05')]\u001b[0m\n",
            "Answer:\u001b[32;1m\u001b[1;3m The stock_ticker ABC has a price of 200.0 on 2023-01-01, 208.0 on 2023-01-02, 232.0 on 2023-01-03, 225.0 on 2023-01-04, and 226.0 on 2023-01-05.\u001b[0m\n",
            "\u001b[1m> Finished chain.\u001b[0m\n",
            "\n",
            "Observation: \u001b[38;5;200m\u001b[1;3m The stock_ticker ABC has a price of 200.0 on 2023-01-01, 208.0 on 2023-01-02, 232.0 on 2023-01-03, 225.0 on 2023-01-04, and 226.0 on 2023-01-05.\u001b[0m\n",
            "Thought:\u001b[32;1m\u001b[1;3m I now know the final answer\n",
            "Final Answer: The maximum value of stock prices for stock_ticker ABC is 232.0.\u001b[0m\n",
            "\n",
            "\u001b[1m> Finished chain.\u001b[0m\n",
            "\n",
            "\n",
            "\u001b[1m> Entering new AgentExecutor chain...\u001b[0m\n",
            "\u001b[32;1m\u001b[1;3m I need to use the stock_db tool to answer this question.\n",
            "Action: stock_db\n",
            "Action Input: SELECT (price_ABC/price_XYZ) AS ratio_Jan3, (price_ABC/price_XYZ) AS ratio_Jan4 FROM stocks WHERE date = 'January 3rd' OR date = 'January 4th'\u001b[0m\n",
            "\n",
            "\u001b[1m> Entering new SQLDatabaseChain chain...\u001b[0m\n",
            "SELECT (price_ABC/price_XYZ) AS ratio_Jan3, (price_ABC/price_XYZ) AS ratio_Jan4 FROM stocks WHERE date = 'January 3rd' OR date = 'January 4th'\n",
            "SQLQuery:\u001b[32;1m\u001b[1;3m SELECT (price/ (SELECT price FROM stocks WHERE stock_ticker = 'XYZ' AND date = '2023-01-03')) AS ratio_Jan3, (price/ (SELECT price FROM stocks WHERE stock_ticker = 'XYZ' AND date = '2023-01-04')) AS ratio_Jan4 FROM stocks WHERE stock_ticker = 'ABC' AND (date = '2023-01-03' OR date = '2023-01-04')\u001b[0m\n",
            "SQLResult: \u001b[33;1m\u001b[1;3m[(0.2907268170426065, 0.2918238993710692), (0.2819548872180451, 0.2830188679245283)]\u001b[0m\n",
            "Answer:\u001b[32;1m\u001b[1;3m The ratio of ABC to XYZ on January 3rd was 0.2907 and on January 4th was 0.2918.\u001b[0m\n",
            "\u001b[1m> Finished chain.\u001b[0m\n",
            "\n",
            "Observation: \u001b[38;5;200m\u001b[1;3m The ratio of ABC to XYZ on January 3rd was 0.2907 and on January 4th was 0.2918.\u001b[0m\n",
            "Thought:\u001b[32;1m\u001b[1;3m I need to multiply the two ratios together to get the answer.\n",
            "Action: calculator\n",
            "Action Input: 0.2907 * 0.2918\u001b[0m\n",
            "Observation: \u001b[36;1m\u001b[1;3mAnswer: 0.08482626\u001b[0m\n",
            "Thought:\u001b[32;1m\u001b[1;3m I now know the final answer.\n",
            "Final Answer: The multiplication of the ratio between stock prices for 'ABC' and 'XYZ' in January 3rd and the ratio between the same stock prices in January the 4th is 0.08482626.\u001b[0m\n",
            "\n",
            "\u001b[1m> Finished chain.\u001b[0m\n"
          ]
        }
      ]
    },
    {
      "cell_type": "code",
      "source": [
        "print(zeroshot_agent.agent.llm_chain.prompt.template)"
      ],
      "metadata": {
        "colab": {
          "base_uri": "https://localhost:8080/"
        },
        "id": "0BHJIkSF5vew",
        "outputId": "9c8ac9aa-50d3-465e-d080-f680f0f325b3"
      },
      "execution_count": 93,
      "outputs": [
        {
          "output_type": "stream",
          "name": "stdout",
          "text": [
            "Answer the following questions as best you can. You have access to the following tools:\n",
            "\n",
            "calculator: Useful for when we need to answer questions about math.\n",
            "language_tool: Use this tool for general purpose queries\n",
            "stock_db: Useful for when you need to answer questions about stocks and their prices.\n",
            "\n",
            "Use the following format:\n",
            "\n",
            "Question: the input question you must answer\n",
            "Thought: you should always think about what to do\n",
            "Action: the action to take, should be one of [calculator, language_tool, stock_db]\n",
            "Action Input: the input to the action\n",
            "Observation: the result of the action\n",
            "... (this Thought/Action/Action Input/Observation can repeat N times)\n",
            "Thought: I now know the final answer\n",
            "Final Answer: the final answer to the original input question\n",
            "\n",
            "Begin!\n",
            "\n",
            "Question: {input}\n",
            "Thought:{agent_scratchpad}\n"
          ]
        }
      ]
    },
    {
      "cell_type": "markdown",
      "source": [
        "## How are agents different than chains?\n",
        "\n",
        "If we look at the agent's logic and the prompt we have just printed we will see some clear differences. \n",
        "\n",
        "* First, we have the tools which are included in the prompt. \n",
        "* Second we have a thought process which before was immediate in chains but now involves a \n",
        "* 'thought', \n",
        "* 'action', \n",
        "* 'action input', \n",
        "* 'observation' sequence. \n",
        "\n",
        "What is this all about?\n",
        "\n",
        "Suffice it to say for now that the LLM now has the ability to 'reason' on how to best use tools to solve our query and can combine them in intelligent ways with just a brief description of each of them. \n",
        "\n",
        "#### What is  'agent_scratchpad'?\n",
        "\n",
        "Well, that is where we will be appending every thought or action that the agent has already performed. \n",
        "\n",
        "In this way, at each point in time, the agent will know what it has found out and will be able to continue its thought process. \n",
        "\n",
        "In other words, after using a tool it adds its thoughts and observations to the scratchpad and picks up from there."
      ],
      "metadata": {
        "id": "qxrQlZmc8q6W"
      }
    },
    {
      "cell_type": "markdown",
      "source": [
        "## Agent type #2: Conversational React\n",
        "\n",
        "\n",
        "* The zero shot agent is really interesting but, as we said before, it has no memory. \n",
        "\n",
        "* What if we want an assistant that remembers things we have talked about and can also reason about them and use tools? \n",
        "\n",
        "* For that we have the conversational react agent.\n",
        "\n",
        "We will use the same tools as we specified earlier:"
      ],
      "metadata": {
        "id": "I0LLc9hS-GHA"
      }
    },
    {
      "cell_type": "code",
      "source": [
        "from langchain.agents import load_tools\n",
        "tools = load_tools(\n",
        "    [\"llm-math\"], \n",
        "    llm=llm\n",
        ")"
      ],
      "metadata": {
        "id": "-hznnY0ISK9v"
      },
      "execution_count": 84,
      "outputs": []
    },
    {
      "cell_type": "code",
      "source": [
        "tools.append(db_tool)"
      ],
      "metadata": {
        "id": "amNl5NtPSUCh"
      },
      "execution_count": 86,
      "outputs": []
    },
    {
      "cell_type": "code",
      "source": [
        "tools.append(llm_tool)"
      ],
      "metadata": {
        "id": "SLdNVkULVIdM"
      },
      "execution_count": 98,
      "outputs": []
    },
    {
      "cell_type": "code",
      "source": [
        "from langchain.memory import ConversationBufferMemory\n",
        "\n",
        "memory = ConversationBufferMemory(memory_key=\"chat_history\")"
      ],
      "metadata": {
        "id": "zd8XgNpR-Nox"
      },
      "execution_count": 102,
      "outputs": []
    },
    {
      "cell_type": "code",
      "source": [
        "conversational_agent = initialize_agent(\n",
        "    agent='conversational-react-description', \n",
        "    tools=tools, \n",
        "    llm=llm,\n",
        "    verbose=True,\n",
        "    max_iterations=3,\n",
        "    memory=memory,\n",
        ")"
      ],
      "metadata": {
        "id": "8Z6nAB-99-24"
      },
      "execution_count": 103,
      "outputs": []
    },
    {
      "cell_type": "code",
      "source": [
        "result = countTokens(\n",
        "    conversational_agent, \n",
        "    \"Use sqlite syntax to answer this query:Please provide me the stock prices for ABC on January the 1st\"\n",
        "                     )"
      ],
      "metadata": {
        "colab": {
          "base_uri": "https://localhost:8080/"
        },
        "id": "92t1iycb_RWA",
        "outputId": "25a01091-2b65-40aa-f061-09e41d405c0a"
      },
      "execution_count": 97,
      "outputs": [
        {
          "output_type": "stream",
          "name": "stdout",
          "text": [
            "\n",
            "\n",
            "\u001b[1m> Entering new AgentExecutor chain...\u001b[0m\n",
            "\u001b[32;1m\u001b[1;3m\n",
            "Thought: Do I need to use a tool? Yes\n",
            "Action: stock_db\n",
            "Action Input: stock prices for ABC on January the 1st\u001b[0m\n",
            "\n",
            "\u001b[1m> Entering new SQLDatabaseChain chain...\u001b[0m\n",
            "stock prices for ABC on January the 1st\n",
            "SQLQuery:\u001b[32;1m\u001b[1;3m SELECT price FROM stocks WHERE stock_ticker = \"ABC1\" AND date = \"2023-01-01\"\u001b[0m\n",
            "SQLResult: \u001b[33;1m\u001b[1;3m[(200.0,)]\u001b[0m\n",
            "Answer:\u001b[32;1m\u001b[1;3m The stock price for ABC on January the 1st was 200.0.\u001b[0m\n",
            "\u001b[1m> Finished chain.\u001b[0m\n",
            "\n",
            "Observation: \u001b[33;1m\u001b[1;3m The stock price for ABC on January the 1st was 200.0.\u001b[0m\n",
            "Thought:\u001b[32;1m\u001b[1;3m Do I need to use a tool? No\n",
            "AI: Is there anything else I can help you with?\u001b[0m\n",
            "\n",
            "\u001b[1m> Finished chain.\u001b[0m\n",
            "Spent a total of 1850 tokens\n"
          ]
        }
      ]
    },
    {
      "cell_type": "code",
      "source": [
        "result = countTokens(\n",
        "    conversational_agent, \n",
        "    \"what is the diameter of a circle having a radius as 30 cm\"\n",
        "                     )"
      ],
      "metadata": {
        "colab": {
          "base_uri": "https://localhost:8080/"
        },
        "id": "Z6WEIa1AVNVo",
        "outputId": "5e819fad-58dd-4e10-8f37-7e3c5c804b2c"
      },
      "execution_count": 99,
      "outputs": [
        {
          "output_type": "stream",
          "name": "stdout",
          "text": [
            "\n",
            "\n",
            "\u001b[1m> Entering new AgentExecutor chain...\u001b[0m\n",
            "\u001b[32;1m\u001b[1;3m\n",
            "Thought: Do I need to use a tool? No\n",
            "AI: The diameter of a circle with a radius of 30 cm is 60 cm.\u001b[0m\n",
            "\n",
            "\u001b[1m> Finished chain.\u001b[0m\n",
            "Spent a total of 511 tokens\n"
          ]
        }
      ]
    },
    {
      "cell_type": "code",
      "source": [
        "conversational_agent(\"what is the capital of norway ?\")"
      ],
      "metadata": {
        "colab": {
          "base_uri": "https://localhost:8080/"
        },
        "id": "XbVoWaHaVhpa",
        "outputId": "d32d2c5f-3713-48cf-cff8-7dae7570afaf"
      },
      "execution_count": 104,
      "outputs": [
        {
          "output_type": "stream",
          "name": "stdout",
          "text": [
            "\n",
            "\n",
            "\u001b[1m> Entering new AgentExecutor chain...\u001b[0m\n",
            "\u001b[32;1m\u001b[1;3m\n",
            "Thought: Do I need to use a tool? No\n",
            "AI: The capital of Norway is Oslo.\u001b[0m\n",
            "\n",
            "\u001b[1m> Finished chain.\u001b[0m\n"
          ]
        },
        {
          "output_type": "execute_result",
          "data": {
            "text/plain": [
              "{'input': 'what is the capital of norway ?',\n",
              " 'chat_history': '',\n",
              " 'output': 'The capital of Norway is Oslo.'}"
            ]
          },
          "metadata": {},
          "execution_count": 104
        }
      ]
    },
    {
      "cell_type": "markdown",
      "source": [
        "* As we can see below, the prompt is similar but it includes a great prelude of instructions that make it an effective assistant as well + a spot for including the chat history from the memory component:"
      ],
      "metadata": {
        "id": "xq8BznRMVx-8"
      }
    },
    {
      "cell_type": "code",
      "source": [
        "print(conversational_agent.agent.llm_chain.prompt.template)"
      ],
      "metadata": {
        "colab": {
          "base_uri": "https://localhost:8080/"
        },
        "id": "cMqGKCfAWlZv",
        "outputId": "5f99ed93-d1fa-4c8f-ce04-ea329048e38c"
      },
      "execution_count": 105,
      "outputs": [
        {
          "output_type": "stream",
          "name": "stdout",
          "text": [
            "Assistant is a large language model trained by OpenAI.\n",
            "\n",
            "Assistant is designed to be able to assist with a wide range of tasks, from answering simple questions to providing in-depth explanations and discussions on a wide range of topics. As a language model, Assistant is able to generate human-like text based on the input it receives, allowing it to engage in natural-sounding conversations and provide responses that are coherent and relevant to the topic at hand.\n",
            "\n",
            "Assistant is constantly learning and improving, and its capabilities are constantly evolving. It is able to process and understand large amounts of text, and can use this knowledge to provide accurate and informative responses to a wide range of questions. Additionally, Assistant is able to generate its own text based on the input it receives, allowing it to engage in discussions and provide explanations and descriptions on a wide range of topics.\n",
            "\n",
            "Overall, Assistant is a powerful tool that can help with a wide range of tasks and provide valuable insights and information on a wide range of topics. Whether you need help with a specific question or just want to have a conversation about a particular topic, Assistant is here to assist.\n",
            "\n",
            "TOOLS:\n",
            "------\n",
            "\n",
            "Assistant has access to the following tools:\n",
            "\n",
            "> Calculator: Useful for when you need to answer questions about math.\n",
            "> stock_db: Useful for when you need to answer questions about stocks and their prices.\n",
            "> language_tool: Use this tool for general purpose queries\n",
            "\n",
            "To use a tool, please use the following format:\n",
            "\n",
            "```\n",
            "Thought: Do I need to use a tool? Yes\n",
            "Action: the action to take, should be one of [Calculator, stock_db, language_tool]\n",
            "Action Input: the input to the action\n",
            "Observation: the result of the action\n",
            "```\n",
            "\n",
            "When you have a response to say to the Human, or if you do not need to use a tool, you MUST use the format:\n",
            "\n",
            "```\n",
            "Thought: Do I need to use a tool? No\n",
            "AI: [your response here]\n",
            "```\n",
            "\n",
            "Begin!\n",
            "\n",
            "Previous conversation history:\n",
            "{chat_history}\n",
            "\n",
            "New input: {input}\n",
            "{agent_scratchpad}\n"
          ]
        }
      ]
    },
    {
      "cell_type": "markdown",
      "source": [
        "## Agent type #3: React Docstore\n",
        "This type of agent is similar to the ones we have seen so far but it includes the interaction with a docstore. \n",
        "\n",
        "It will have two and only two tools at its disposal: **'Search' and 'Lookup'**.\n",
        "\n",
        "* With 'Search' it will bring up a relevant article and \n",
        "* with 'Lookup' the agent will find the right piece of information in the article. \n",
        "\n",
        "This is probably easiest to see in an example:"
      ],
      "metadata": {
        "id": "P-60xefMW9ll"
      }
    },
    {
      "cell_type": "code",
      "source": [
        "from langchain import Wikipedia\n",
        "from langchain.agents.react.base import DocstoreExplorer\n",
        "\n",
        "docstore=DocstoreExplorer(Wikipedia())\n",
        "tools_doc = [\n",
        "    Tool(\n",
        "        name=\"Search\",\n",
        "        func=docstore.search,\n",
        "        description='search wikipedia'\n",
        "    ),\n",
        "    Tool(\n",
        "        name=\"Lookup\",\n",
        "        func=docstore.lookup,\n",
        "        description='lookup a term in wikipedia'\n",
        "    )\n",
        "]"
      ],
      "metadata": {
        "id": "fMri1CikZmZo"
      },
      "execution_count": 106,
      "outputs": []
    },
    {
      "cell_type": "code",
      "source": [
        "docstore_agent = initialize_agent(\n",
        "    tools_doc, \n",
        "    llm, \n",
        "    agent=\"react-docstore\", \n",
        "    verbose=True,\n",
        "    max_iterations=6\n",
        ")"
      ],
      "metadata": {
        "id": "2awn3rDLZwOe"
      },
      "execution_count": 111,
      "outputs": []
    },
    {
      "cell_type": "code",
      "source": [
        "docstore_agent(\"What were Archimedes' last words?\")"
      ],
      "metadata": {
        "colab": {
          "base_uri": "https://localhost:8080/"
        },
        "id": "zgc6Do_NZ4z-",
        "outputId": "30b8f6f4-c861-4951-9449-22c42b840f86"
      },
      "execution_count": 109,
      "outputs": [
        {
          "output_type": "stream",
          "name": "stdout",
          "text": [
            "\n",
            "\n",
            "\u001b[1m> Entering new AgentExecutor chain...\u001b[0m\n",
            "\u001b[32;1m\u001b[1;3mThought: I need to search Archimedes and find his last words.\n",
            "Action: Search[Archimedes]\u001b[0m\n",
            "Observation: \u001b[36;1m\u001b[1;3mArchimedes of Syracuse (; c. 287 – c. 212 BC) was a Greek mathematician, physicist, engineer, astronomer, and inventor from the ancient city of Syracuse in Sicily. Although few details of his life are known, he is regarded as one of the leading scientists in classical antiquity. Considered the greatest mathematician of ancient history, and one of the greatest of all time, Archimedes anticipated modern calculus and analysis by applying the concept of the infinitely small and the method of exhaustion to derive and rigorously prove a range of geometrical theorems. These include the area of a circle, the surface area and volume of a sphere, the area of an ellipse, the area under a parabola, the volume of a segment of a paraboloid of revolution, the volume of a segment of a hyperboloid of revolution, and the area of a spiral.Archimedes' other mathematical achievements include deriving an approximation of pi, defining and investigating the Archimedean spiral, and devising a system using exponentiation for expressing very large numbers. He was also one of the first to apply mathematics to physical phenomena, working on statics and hydrostatics. Archimedes' achievements in this area include a proof of the law of the lever, the widespread use of the concept of center of gravity, and the enunciation of the law of buoyancy or Archimedes' principle. He is also credited with designing innovative machines, such as his screw pump, compound pulleys, and defensive war machines to protect his native Syracuse from invasion.\n",
            "Archimedes died during the siege of Syracuse, when he was killed by a Roman soldier despite orders that he should not be harmed. Cicero describes visiting Archimedes' tomb, which was surmounted by a sphere and a cylinder that Archimedes requested be placed there to represent his mathematical discoveries.\n",
            "Unlike his inventions, Archimedes' mathematical writings were little known in antiquity. Mathematicians from Alexandria read and quoted him, but the first comprehensive compilation was not made until c. 530 AD by Isidore of Miletus in Byzantine Constantinople, while commentaries on the works of Archimedes by Eutocius in the 6th century opened them to wider readership for the first time. The relatively few copies of Archimedes' written work that survived through the Middle Ages were an influential source of ideas for scientists during the Renaissance and again in the 17th century, while the discovery in 1906 of previously lost works by Archimedes in the Archimedes Palimpsest has provided new insights into how he obtained mathematical results.\u001b[0m\n",
            "Thought:\u001b[32;1m\u001b[1;3m The paragraph does not mention Archimedes' last words. I need to look up \"last words\".\n",
            "Action: Lookup[last words]\u001b[0m\n",
            "Observation: \u001b[33;1m\u001b[1;3m(Result 1/1) Plutarch (45–119 AD) wrote in his Parallel Lives that Archimedes was related to King Hiero II, the ruler of Syracuse. He also provides at least two accounts on how Archimedes died after the city was taken. According to the most popular account, Archimedes was contemplating a mathematical diagram when the city was captured. A Roman soldier commanded him to come and meet Marcellus, but he declined, saying that he had to finish working on the problem. This enraged the soldier, who killed Archimedes with his sword. Another story has Archimedes carrying mathematical instruments before being killed because a soldier thought they were valuable items. Marcellus was reportedly angered by Archimedes' death, as he considered him a valuable scientific asset (he called Archimedes \"a geometrical Briareus\") and had ordered that he should not be harmed.The last words attributed to Archimedes are \"Do not disturb my circles\" (Latin, \"Noli turbare circulos meos\"; Katharevousa Greek, \"μὴ μου τοὺς κύκλους τάραττε\"), a reference to the mathematical drawing that he was supposedly studying when disturbed by the Roman soldier. There is no reliable evidence that Archimedes uttered these words and they do not appear in Plutarch's account. A similar quotation is found in the work of Valerius Maximus (fl. 30 AD), who wrote in Memorable Doings and Sayings, \"... sed protecto manibus puluere 'noli' inquit, 'obsecro, istum disturbare'\" (\"... but protecting the dust with his hands, said 'I beg of you, do not disturb this'\").\u001b[0m\n",
            "Thought:\u001b[32;1m\u001b[1;3m The last words attributed to Archimedes are \"Do not disturb my circles\", so the answer is \"Do not disturb my circles\".\n",
            "Action: Finish[\"Do not disturb my circles\"]\u001b[0m\n",
            "\n",
            "\u001b[1m> Finished chain.\u001b[0m\n"
          ]
        },
        {
          "output_type": "execute_result",
          "data": {
            "text/plain": [
              "{'input': \"What were Archimedes' last words?\",\n",
              " 'output': '\"Do not disturb my circles\"'}"
            ]
          },
          "metadata": {},
          "execution_count": 109
        }
      ]
    },
    {
      "cell_type": "markdown",
      "source": [
        "In short, it contains several examples of the \n",
        "**Question > Thought > Action > Observation loop**, that include the Search and Lookup tools."
      ],
      "metadata": {
        "id": "CGQrbhRjasyu"
      }
    },
    {
      "cell_type": "code",
      "source": [
        "countTokens(docstore_agent,\"What were Archimedes' last words?\")"
      ],
      "metadata": {
        "colab": {
          "base_uri": "https://localhost:8080/"
        },
        "id": "U8CmwwUxZ-_J",
        "outputId": "6263d844-c81f-4f8d-961f-e12536e49508"
      },
      "execution_count": 112,
      "outputs": [
        {
          "output_type": "stream",
          "name": "stdout",
          "text": [
            "\n",
            "\n",
            "\u001b[1m> Entering new AgentExecutor chain...\u001b[0m\n",
            "\u001b[32;1m\u001b[1;3mThought: I need to search Archimedes and find his last words.\n",
            "Action: Search[Archimedes]\u001b[0m\n",
            "Observation: \u001b[36;1m\u001b[1;3mArchimedes of Syracuse (; c. 287 – c. 212 BC) was a Greek mathematician, physicist, engineer, astronomer, and inventor from the ancient city of Syracuse in Sicily. Although few details of his life are known, he is regarded as one of the leading scientists in classical antiquity. Considered the greatest mathematician of ancient history, and one of the greatest of all time, Archimedes anticipated modern calculus and analysis by applying the concept of the infinitely small and the method of exhaustion to derive and rigorously prove a range of geometrical theorems. These include the area of a circle, the surface area and volume of a sphere, the area of an ellipse, the area under a parabola, the volume of a segment of a paraboloid of revolution, the volume of a segment of a hyperboloid of revolution, and the area of a spiral.Archimedes' other mathematical achievements include deriving an approximation of pi, defining and investigating the Archimedean spiral, and devising a system using exponentiation for expressing very large numbers. He was also one of the first to apply mathematics to physical phenomena, working on statics and hydrostatics. Archimedes' achievements in this area include a proof of the law of the lever, the widespread use of the concept of center of gravity, and the enunciation of the law of buoyancy or Archimedes' principle. He is also credited with designing innovative machines, such as his screw pump, compound pulleys, and defensive war machines to protect his native Syracuse from invasion.\n",
            "Archimedes died during the siege of Syracuse, when he was killed by a Roman soldier despite orders that he should not be harmed. Cicero describes visiting Archimedes' tomb, which was surmounted by a sphere and a cylinder that Archimedes requested be placed there to represent his mathematical discoveries.\n",
            "Unlike his inventions, Archimedes' mathematical writings were little known in antiquity. Mathematicians from Alexandria read and quoted him, but the first comprehensive compilation was not made until c. 530 AD by Isidore of Miletus in Byzantine Constantinople, while commentaries on the works of Archimedes by Eutocius in the 6th century opened them to wider readership for the first time. The relatively few copies of Archimedes' written work that survived through the Middle Ages were an influential source of ideas for scientists during the Renaissance and again in the 17th century, while the discovery in 1906 of previously lost works by Archimedes in the Archimedes Palimpsest has provided new insights into how he obtained mathematical results.\u001b[0m\n",
            "Thought:\u001b[32;1m\u001b[1;3m The paragraph does not mention Archimedes' last words. I need to look up \"last words\".\n",
            "Action: Lookup[last words]\u001b[0m\n",
            "Observation: \u001b[33;1m\u001b[1;3mNo More Results\u001b[0m\n",
            "Thought:\u001b[32;1m\u001b[1;3m I need to instead search \"Archimedes last words\".\n",
            "Action: Search[Archimedes last words]\u001b[0m\n",
            "Observation: \u001b[36;1m\u001b[1;3mA person's last words, their final articulated words stated prior to death or as death approaches, are often recorded because of the decedent's fame, but sometimes because of interest in the statement itself. (People dying of illness are frequently inarticulate at the end, and in such cases their actual last utterances may not be recorded or considered very important.) Last words may be recorded accurately, or, for a variety of reasons, may not. Reasons can include simple error or deliberate intent. Even if reported wrongly, putative last words can constitute an important part of the perceived historical records or demonstration of cultural attitudes toward death at the time.Charles Darwin, for example, was reported to have disavowed his theory of evolution in favor of traditional religious faith at his death. This widely disseminated report served the interests of those who opposed Darwin's theory on religious grounds. However, the putative witness had not been at Darwin's deathbed or seen him at any time near the end of his life.Both Eastern and Western cultural traditions ascribe special significance to words uttered at or near death, but the form and content of reported last words may depend on cultural context. There is a tradition in Hindu and Buddhist cultures of an expectation of a meaningful farewell statement; Zen monks by long custom are expected to compose a poem on the spot and recite it with their last breath. In Western culture particular attention has been paid to last words which demonstrate deathbed salvation – the repentance of sins and affirmation of faith.\u001b[0m\n",
            "Thought:\u001b[32;1m\u001b[1;3m The paragraph does not mention Archimedes' last words. I need to look up \"Archimedes last words\".\n",
            "Action: Lookup[Archimedes last words]\u001b[0m\n",
            "Observation: \u001b[33;1m\u001b[1;3mNo Results\u001b[0m\n",
            "Thought:\u001b[32;1m\u001b[1;3m I need to instead search \"Archimedes death\".\n",
            "Action: Search[Archimedes death]\u001b[0m\n",
            "Observation: \u001b[36;1m\u001b[1;3mArchimedes of Syracuse (; c. 287 – c. 212 BC) was a Greek mathematician, physicist, engineer, astronomer, and inventor from the ancient city of Syracuse in Sicily. Although few details of his life are known, he is regarded as one of the leading scientists in classical antiquity. Considered the greatest mathematician of ancient history, and one of the greatest of all time, Archimedes anticipated modern calculus and analysis by applying the concept of the infinitely small and the method of exhaustion to derive and rigorously prove a range of geometrical theorems. These include the area of a circle, the surface area and volume of a sphere, the area of an ellipse, the area under a parabola, the volume of a segment of a paraboloid of revolution, the volume of a segment of a hyperboloid of revolution, and the area of a spiral.Archimedes' other mathematical achievements include deriving an approximation of pi, defining and investigating the Archimedean spiral, and devising a system using exponentiation for expressing very large numbers. He was also one of the first to apply mathematics to physical phenomena, working on statics and hydrostatics. Archimedes' achievements in this area include a proof of the law of the lever, the widespread use of the concept of center of gravity, and the enunciation of the law of buoyancy or Archimedes' principle. He is also credited with designing innovative machines, such as his screw pump, compound pulleys, and defensive war machines to protect his native Syracuse from invasion.\n",
            "Archimedes died during the siege of Syracuse, when he was killed by a Roman soldier despite orders that he should not be harmed. Cicero describes visiting Archimedes' tomb, which was surmounted by a sphere and a cylinder that Archimedes requested be placed there to represent his mathematical discoveries.\n",
            "Unlike his inventions, Archimedes' mathematical writings were little known in antiquity. Mathematicians from Alexandria read and quoted him, but the first comprehensive compilation was not made until c. 530 AD by Isidore of Miletus in Byzantine Constantinople, while commentaries on the works of Archimedes by Eutocius in the 6th century opened them to wider readership for the first time. The relatively few copies of Archimedes' written work that survived through the Middle Ages were an influential source of ideas for scientists during the Renaissance and again in the 17th century, while the discovery in 1906 of previously lost works by Archimedes in the Archimedes Palimpsest has provided new insights into how he obtained mathematical results.\u001b[0m\n",
            "Thought:\u001b[32;1m\u001b[1;3m The paragraph mentions that Archimedes was killed by a Roman soldier despite orders that he should not be harmed. I need to look up \"Archimedes last words\" to find his last words.\n",
            "Action: Lookup[Archimedes last words]\u001b[0m\n",
            "Observation: \u001b[33;1m\u001b[1;3mNo Results\u001b[0m\n",
            "Thought:\u001b[32;1m\u001b[1;3m\u001b[0m\n",
            "\n",
            "\u001b[1m> Finished chain.\u001b[0m\n",
            "Spent a total of 13696 tokens\n"
          ]
        },
        {
          "output_type": "execute_result",
          "data": {
            "text/plain": [
              "{'input': \"What were Archimedes' last words?\",\n",
              " 'output': 'Agent stopped due to iteration limit or time limit.'}"
            ]
          },
          "metadata": {},
          "execution_count": 112
        }
      ]
    },
    {
      "cell_type": "markdown",
      "source": [
        "## Agent type #4: Self Ask with Search\n",
        "This is the first-choice agent to use when using LLM's to extract information with a search engine. \n",
        "\n",
        "The agent will ask follow-up questions and use the search functionality to get intermediate answers that help it get to a final answer."
      ],
      "metadata": {
        "id": "6UN8jtlla64x"
      }
    },
    {
      "cell_type": "code",
      "source": [
        "from langchain import OpenAI,SerpAPIWrapper\n",
        "from langchain.agents import initialize_agent,Tool\n",
        "#\n",
        "serp_api_key = getpass()\n",
        "search = SerpAPIWrapper(serpapi_api_key=serp_api_key)"
      ],
      "metadata": {
        "colab": {
          "base_uri": "https://localhost:8080/"
        },
        "id": "74Nwbw73bOL6",
        "outputId": "ac5dbd0b-af74-4aa0-823c-6260be19021e"
      },
      "execution_count": 114,
      "outputs": [
        {
          "name": "stdout",
          "output_type": "stream",
          "text": [
            "··········\n"
          ]
        }
      ]
    },
    {
      "cell_type": "code",
      "source": [
        "tools_serp = [\n",
        "    Tool(\n",
        "        name=\"Intermediate Answer\",\n",
        "        func=search.run,\n",
        "        description='google search'\n",
        "    )\n",
        "]"
      ],
      "metadata": {
        "id": "19UjuPfLc46r"
      },
      "execution_count": 115,
      "outputs": []
    },
    {
      "cell_type": "code",
      "source": [
        "self_ask_with_search = initialize_agent(tools_serp, \n",
        "                                        llm, \n",
        "                                        agent=\"self-ask-with-search\", \n",
        "                                        verbose=True)"
      ],
      "metadata": {
        "id": "yhbSxCcPdYTG"
      },
      "execution_count": 116,
      "outputs": []
    },
    {
      "cell_type": "code",
      "source": [
        "self_ask_with_search(\"When did Indian gain its freedom ?\")"
      ],
      "metadata": {
        "colab": {
          "base_uri": "https://localhost:8080/"
        },
        "id": "oKpHYjIvd1Md",
        "outputId": "54ad1e9d-e4f5-495d-ac8c-a22c385d9e9e"
      },
      "execution_count": 118,
      "outputs": [
        {
          "output_type": "stream",
          "name": "stdout",
          "text": [
            "\n",
            "\n",
            "\u001b[1m> Entering new AgentExecutor chain...\u001b[0m\n",
            "\u001b[32;1m\u001b[1;3m Yes.\n",
            "Follow up: Who was the leader of India during its independence?\u001b[0m\n",
            "Intermediate answer: \u001b[36;1m\u001b[1;3mMohandas GANDHI\u001b[0m\n",
            "\u001b[32;1m\u001b[1;3mFollow up: When did India gain its independence?\u001b[0m\n",
            "Intermediate answer: \u001b[36;1m\u001b[1;3mAugust 15, 1947\u001b[0m\n",
            "\u001b[32;1m\u001b[1;3mSo the final answer is: August 15, 1947\u001b[0m\n",
            "\n",
            "\u001b[1m> Finished chain.\u001b[0m\n"
          ]
        },
        {
          "output_type": "execute_result",
          "data": {
            "text/plain": [
              "{'input': 'When did Indian gain its freedom ?', 'output': 'August 15, 1947'}"
            ]
          },
          "metadata": {},
          "execution_count": 118
        }
      ]
    },
    {
      "cell_type": "code",
      "source": [
        "print(self_ask_with_search.agent.llm_chain.prompt.template)"
      ],
      "metadata": {
        "colab": {
          "base_uri": "https://localhost:8080/"
        },
        "id": "ZwStqqwkdnoj",
        "outputId": "dedc8116-f7e5-430b-cbb6-90fda5d38252"
      },
      "execution_count": 117,
      "outputs": [
        {
          "output_type": "stream",
          "name": "stdout",
          "text": [
            "Question: Who lived longer, Muhammad Ali or Alan Turing?\n",
            "Are follow up questions needed here: Yes.\n",
            "Follow up: How old was Muhammad Ali when he died?\n",
            "Intermediate answer: Muhammad Ali was 74 years old when he died.\n",
            "Follow up: How old was Alan Turing when he died?\n",
            "Intermediate answer: Alan Turing was 41 years old when he died.\n",
            "So the final answer is: Muhammad Ali\n",
            "\n",
            "Question: When was the founder of craigslist born?\n",
            "Are follow up questions needed here: Yes.\n",
            "Follow up: Who was the founder of craigslist?\n",
            "Intermediate answer: Craigslist was founded by Craig Newmark.\n",
            "Follow up: When was Craig Newmark born?\n",
            "Intermediate answer: Craig Newmark was born on December 6, 1952.\n",
            "So the final answer is: December 6, 1952\n",
            "\n",
            "Question: Who was the maternal grandfather of George Washington?\n",
            "Are follow up questions needed here: Yes.\n",
            "Follow up: Who was the mother of George Washington?\n",
            "Intermediate answer: The mother of George Washington was Mary Ball Washington.\n",
            "Follow up: Who was the father of Mary Ball Washington?\n",
            "Intermediate answer: The father of Mary Ball Washington was Joseph Ball.\n",
            "So the final answer is: Joseph Ball\n",
            "\n",
            "Question: Are both the directors of Jaws and Casino Royale from the same country?\n",
            "Are follow up questions needed here: Yes.\n",
            "Follow up: Who is the director of Jaws?\n",
            "Intermediate answer: The director of Jaws is Steven Spielberg.\n",
            "Follow up: Where is Steven Spielberg from?\n",
            "Intermediate answer: The United States.\n",
            "Follow up: Who is the director of Casino Royale?\n",
            "Intermediate answer: The director of Casino Royale is Martin Campbell.\n",
            "Follow up: Where is Martin Campbell from?\n",
            "Intermediate answer: New Zealand.\n",
            "So the final answer is: No\n",
            "\n",
            "Question: {input}\n",
            "Are followup questions needed here:{agent_scratchpad}\n"
          ]
        }
      ]
    },
    {
      "cell_type": "markdown",
      "source": [
        "* https://python.langchain.com/en/latest/modules/agents/how_to_guides.html"
      ],
      "metadata": {
        "id": "DSDWLqtveUIJ"
      }
    },
    {
      "cell_type": "code",
      "source": [],
      "metadata": {
        "id": "piWOt3EOdzwl"
      },
      "execution_count": null,
      "outputs": []
    }
  ]
}