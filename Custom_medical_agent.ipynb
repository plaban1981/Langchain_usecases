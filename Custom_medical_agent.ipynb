{
  "nbformat": 4,
  "nbformat_minor": 0,
  "metadata": {
    "colab": {
      "provenance": [],
      "authorship_tag": "ABX9TyNjRl5+4Qb+8dvbhuNywzxh",
      "include_colab_link": true
    },
    "kernelspec": {
      "name": "python3",
      "display_name": "Python 3"
    },
    "language_info": {
      "name": "python"
    }
  },
  "cells": [
    {
      "cell_type": "markdown",
      "metadata": {
        "id": "view-in-github",
        "colab_type": "text"
      },
      "source": [
        "<a href=\"https://colab.research.google.com/github/plaban1981/Langchain_usecases/blob/main/Custom_medical_agent.ipynb\" target=\"_parent\"><img src=\"https://colab.research.google.com/assets/colab-badge.svg\" alt=\"Open In Colab\"/></a>"
      ]
    },
    {
      "cell_type": "code",
      "execution_count": 1,
      "metadata": {
        "colab": {
          "base_uri": "https://localhost:8080/"
        },
        "id": "1KedPsGrR4kU",
        "outputId": "b515b8f6-19cc-4fd7-fd7d-6d53c8e9967f"
      },
      "outputs": [
        {
          "output_type": "stream",
          "name": "stdout",
          "text": [
            "\u001b[2K     \u001b[90m━━━━━━━━━━━━━━━━━━━━━━━━━━━━━━━━━━━━━━━━\u001b[0m \u001b[32m1.1/1.1 MB\u001b[0m \u001b[31m18.7 MB/s\u001b[0m eta \u001b[36m0:00:00\u001b[0m\n",
            "\u001b[2K     \u001b[90m━━━━━━━━━━━━━━━━━━━━━━━━━━━━━━━━━━━━━━━━\u001b[0m \u001b[32m73.6/73.6 kB\u001b[0m \u001b[31m5.6 MB/s\u001b[0m eta \u001b[36m0:00:00\u001b[0m\n",
            "\u001b[2K     \u001b[90m━━━━━━━━━━━━━━━━━━━━━━━━━━━━━━━━━━━━━━━━\u001b[0m \u001b[32m1.7/1.7 MB\u001b[0m \u001b[31m56.9 MB/s\u001b[0m eta \u001b[36m0:00:00\u001b[0m\n",
            "\u001b[2K     \u001b[90m━━━━━━━━━━━━━━━━━━━━━━━━━━━━━━━━━━━━━━━━\u001b[0m \u001b[32m1.0/1.0 MB\u001b[0m \u001b[31m54.6 MB/s\u001b[0m eta \u001b[36m0:00:00\u001b[0m\n",
            "\u001b[2K     \u001b[90m━━━━━━━━━━━━━━━━━━━━━━━━━━━━━━━━━━━━━━━━\u001b[0m \u001b[32m90.0/90.0 kB\u001b[0m \u001b[31m10.9 MB/s\u001b[0m eta \u001b[36m0:00:00\u001b[0m\n",
            "\u001b[2K     \u001b[90m━━━━━━━━━━━━━━━━━━━━━━━━━━━━━━━━━━━━━━━━\u001b[0m \u001b[32m75.4/75.4 kB\u001b[0m \u001b[31m8.9 MB/s\u001b[0m eta \u001b[36m0:00:00\u001b[0m\n",
            "\u001b[2K     \u001b[90m━━━━━━━━━━━━━━━━━━━━━━━━━━━━━━━━━━━━━━━\u001b[0m \u001b[32m114.5/114.5 kB\u001b[0m \u001b[31m5.5 MB/s\u001b[0m eta \u001b[36m0:00:00\u001b[0m\n",
            "\u001b[2K     \u001b[90m━━━━━━━━━━━━━━━━━━━━━━━━━━━━━━━━━━━━━━\u001b[0m \u001b[32m268.8/268.8 kB\u001b[0m \u001b[31m21.0 MB/s\u001b[0m eta \u001b[36m0:00:00\u001b[0m\n",
            "\u001b[2K     \u001b[90m━━━━━━━━━━━━━━━━━━━━━━━━━━━━━━━━━━━━━━\u001b[0m \u001b[32m149.6/149.6 kB\u001b[0m \u001b[31m12.8 MB/s\u001b[0m eta \u001b[36m0:00:00\u001b[0m\n",
            "\u001b[2K     \u001b[90m━━━━━━━━━━━━━━━━━━━━━━━━━━━━━━━━━━━━━━━━\u001b[0m \u001b[32m49.1/49.1 kB\u001b[0m \u001b[31m4.9 MB/s\u001b[0m eta \u001b[36m0:00:00\u001b[0m\n",
            "\u001b[2K     \u001b[90m━━━━━━━━━━━━━━━━━━━━━━━━━━━━━━━━━━━━━━━━\u001b[0m \u001b[32m72.5/72.5 kB\u001b[0m \u001b[31m9.1 MB/s\u001b[0m eta \u001b[36m0:00:00\u001b[0m\n",
            "\u001b[2K     \u001b[90m━━━━━━━━━━━━━━━━━━━━━━━━━━━━━━━━━━━━━━━━\u001b[0m \u001b[32m57.5/57.5 kB\u001b[0m \u001b[31m5.7 MB/s\u001b[0m eta \u001b[36m0:00:00\u001b[0m\n",
            "\u001b[2K     \u001b[90m━━━━━━━━━━━━━━━━━━━━━━━━━━━━━━━━━━━━━━━━\u001b[0m \u001b[32m2.7/2.7 MB\u001b[0m \u001b[31m34.9 MB/s\u001b[0m eta \u001b[36m0:00:00\u001b[0m\n",
            "\u001b[2K     \u001b[90m━━━━━━━━━━━━━━━━━━━━━━━━━━━━━━━━━━━━━━━━\u001b[0m \u001b[32m58.3/58.3 kB\u001b[0m \u001b[31m6.9 MB/s\u001b[0m eta \u001b[36m0:00:00\u001b[0m\n",
            "\u001b[?25h"
          ]
        }
      ],
      "source": [
        "!pip install -qU langchain openai tiktoken duckduckgo-search"
      ]
    },
    {
      "cell_type": "code",
      "source": [
        "import langchain\n",
        "from langchain.prompts.base import StringPromptTemplate\n",
        "from langchain.prompts import PromptTemplate,StringPromptTemplate\n",
        "from langchain.agents import Tool, AgentExecutor, AgentOutputParser,LLMSingleActionAgent,initialize_agent\n",
        "from langchain import OpenAI,LLMChain\n",
        "from langchain.chat_models import ChatOpenAI\n",
        "from langchain.tools import DuckDuckGoSearchRun\n",
        "from langchain.schema import AgentAction,AgentFinish\n",
        "import re\n",
        "from typing import List,Union\n",
        "import os\n",
        "from getpass import getpass"
      ],
      "metadata": {
        "id": "rWhmghbpSxOq"
      },
      "execution_count": 2,
      "outputs": []
    },
    {
      "cell_type": "code",
      "source": [
        "os.environ[\"OPENAI_API_KEY\"] = getpass()"
      ],
      "metadata": {
        "colab": {
          "base_uri": "https://localhost:8080/"
        },
        "id": "hchfbr9p3j7F",
        "outputId": "7dd99d6b-bcf3-4d52-a7ab-1fb932e2e8c8"
      },
      "execution_count": 3,
      "outputs": [
        {
          "name": "stdout",
          "output_type": "stream",
          "text": [
            "··········\n"
          ]
        }
      ]
    },
    {
      "cell_type": "code",
      "source": [
        "search = DuckDuckGoSearchRun()\n",
        "tools = [\n",
        "    Tool(\n",
        "        name = \"Search\",\n",
        "        func=search.run,\n",
        "        description=\"useful for when you need to answer questions about current events\"\n",
        "    )\n",
        "]"
      ],
      "metadata": {
        "id": "UVTmv5O2XDHX"
      },
      "execution_count": 4,
      "outputs": []
    },
    {
      "cell_type": "code",
      "source": [
        "obj = search.run(\"How can I treat a sprained ankle?\")\n",
        "print(type(obj))\n",
        "print(obj)"
      ],
      "metadata": {
        "colab": {
          "base_uri": "https://localhost:8080/"
        },
        "id": "o4Nx7SMx4gQb",
        "outputId": "acebfcd3-3a37-4344-d5c8-fb852eeefce7"
      },
      "execution_count": 5,
      "outputs": [
        {
          "output_type": "stream",
          "name": "stdout",
          "text": [
            "<class 'str'>\n",
            "Sprained ankle — Injury to a ligament of the ankle can usually be treated with at-home care and appropriate exercises to get you back on your feet. This content does not have an English version. This content does not have an Arabic version. Skip to content Care at Mayo Clinic Care at Mayo Clinic About Mayo Clinic Request Appointment Find a Doctor Sprains - Diagnosis and treatment - Mayo Clinic A sprain is a stretching or tearing of ligaments — the tough bands of tissue that connect two bones together in your joints. Ice and elevation can help. This content does not have an English version. This content does not have an Arabic version. Skip to content Care at Mayo Clinic A sprain is a stretching or tearing of ligaments — the tough bands of fibrous tissue that connect two bones together in your joints. The most common location for a sprain is in your ankle. Initial treatment includes rest, ice, compression and elevation. Mild sprains can be successfully treated at home. Here's how it works: Rest the ankle (use crutches if needed) Ice the ankle for 20 to 30 minutes every 2 to 3 hours for the first 2 days. Compress (wrap) the ankle lightly -- not tightly -- with ... At-home ankle sprain treatments. • Rest: The first step in treating a sprained ankle is to let it rest. Take the weight off it; try not to move it too much and consider crutches if the pain is bad enough. • Ice: Use ice or a cold pack on the affected area. Put some ice in a kitchen towel and place it on your foot for about 30 minutes.\n"
          ]
        }
      ]
    },
    {
      "cell_type": "code",
      "source": [
        "search.run(\"site:webmd.com How can I treat a sprained ankle?\")"
      ],
      "metadata": {
        "colab": {
          "base_uri": "https://localhost:8080/",
          "height": 122
        },
        "id": "eMKkwJ0C4roA",
        "outputId": "858ea2ec-c1d1-4a66-8fb2-d2ed379f4fcd"
      },
      "execution_count": 6,
      "outputs": [
        {
          "output_type": "execute_result",
          "data": {
            "text/plain": [
              "\"RICE. 2 /14. It stands for rest, ice, compress, and elevate, and it's the go-to treatment for minor sprains and bruising. Ice the injury as soon as possible and put pressure on it with an ... Seek medical help for burns if they are severe; on the face, hands, feet, or genitals; or bigger than 2 inches. For treating small minor burns at home, rinse the area under running cool water ... You treat it the same way: Rest it, ice it, raise it, and use pain relievers. When to Call the Doctor . 8/13 . A bruise can need medical care if: You think a sprain or broken bone may have caused it. Treatment of myositis varies according to the cause. Causes of Myositis. Myositis is caused by any condition that leads to inflammation in the muscles. Myositis causes can be divided into several ... Being overweight. Stress fractures in your toes or metatarsals. Bunions. Torn ligaments in your feet. A condition known as Morton's neuroma (interdigital neuroma) also causes metatarsalgia-like ...\""
            ],
            "application/vnd.google.colaboratory.intrinsic+json": {
              "type": "string"
            }
          },
          "metadata": {},
          "execution_count": 6
        }
      ]
    },
    {
      "cell_type": "code",
      "source": [
        "def duck_wrapper(input_text):\n",
        "    search_results = search.run(f\"site:webmd.com {input_text}\")\n",
        "    return search_results\n",
        "\n",
        "tools = [\n",
        "    Tool(\n",
        "        name = \"Search WebMD\",\n",
        "        func=duck_wrapper,\n",
        "        description=\"useful for when you need to answer medical and pharmalogical questions\"\n",
        "    )\n",
        "]"
      ],
      "metadata": {
        "id": "aJoSXaXN43vw"
      },
      "execution_count": 7,
      "outputs": []
    },
    {
      "cell_type": "markdown",
      "source": [
        "## Prompt Template\n",
        "This instructs the agent on what to do. Generally, the template should incorporate:\n",
        "\n",
        "**`tools:`** which tools the agent has access and how and when to call them.\n",
        "\n",
        "**`intermediate_steps:`** These are tuples of previous (**`AgentAction`**, **`Observation`**) pairs. These are generally not passed directly to the model, but the prompt template formats them in a specific way.\n",
        "\n",
        "**`input:`** generic user input"
      ],
      "metadata": {
        "id": "Ia5Fnx_D5KCu"
      }
    },
    {
      "cell_type": "code",
      "source": [
        "# Set up the base template\n",
        "template = \"\"\"Answer the following questions as best you can, but speaking as compasionate medical professional. You have access to the following tools:\n",
        "\n",
        "{tools}\n",
        "\n",
        "Use the following format:\n",
        "\n",
        "Question: the input question you must answer\n",
        "Thought: you should always think about what to do\n",
        "Action: the action to take, should be one of [{tool_names}]\n",
        "Action Input: the input to the action\n",
        "Observation: the result of the action\n",
        "... (this Thought/Action/Action Input/Observation can repeat N times)\n",
        "Thought: I now know the final answer\n",
        "Final Answer: the final answer to the original input question\n",
        "\n",
        "Begin! Remember to answer as a compansionate medical professional when giving your final answer.\n",
        "\n",
        "Previous conversation history:\n",
        "{history}\n",
        "\n",
        "Question: {input}\n",
        "\"\"\""
      ],
      "metadata": {
        "id": "s3vB50015Naz"
      },
      "execution_count": 8,
      "outputs": []
    },
    {
      "cell_type": "code",
      "source": [
        "tool_names = [tool.name for tool in tools]\n",
        "history = None\n",
        "prompt = PromptTemplate(template=template,input_variables=[\"tools\",\"tool_names\",\"history\",\"input\"])"
      ],
      "metadata": {
        "id": "x46VDfNo5W6g"
      },
      "execution_count": 9,
      "outputs": []
    },
    {
      "cell_type": "code",
      "source": [
        "prompt"
      ],
      "metadata": {
        "colab": {
          "base_uri": "https://localhost:8080/"
        },
        "id": "ro2pw1Li5rPA",
        "outputId": "fc53ee89-0866-472b-ea73-a3e33c3c3efe"
      },
      "execution_count": 10,
      "outputs": [
        {
          "output_type": "execute_result",
          "data": {
            "text/plain": [
              "PromptTemplate(input_variables=['tools', 'tool_names', 'history', 'input'], output_parser=None, partial_variables={}, template='Answer the following questions as best you can, but speaking as compasionate medical professional. You have access to the following tools:\\n\\n{tools}\\n\\nUse the following format:\\n\\nQuestion: the input question you must answer\\nThought: you should always think about what to do\\nAction: the action to take, should be one of [{tool_names}]\\nAction Input: the input to the action\\nObservation: the result of the action\\n... (this Thought/Action/Action Input/Observation can repeat N times)\\nThought: I now know the final answer\\nFinal Answer: the final answer to the original input question\\n\\nBegin! Remember to answer as a compansionate medical professional when giving your final answer.\\n\\nPrevious conversation history:\\n{history}\\n\\nQuestion: {input}\\n', template_format='f-string', validate_template=True)"
            ]
          },
          "metadata": {},
          "execution_count": 10
        }
      ]
    },
    {
      "cell_type": "code",
      "source": [
        "llm= OpenAI()"
      ],
      "metadata": {
        "id": "u45aNR5o6q8f"
      },
      "execution_count": 11,
      "outputs": []
    },
    {
      "cell_type": "code",
      "source": [
        "from langchain.agents.agent_types import AgentType\n",
        "agent = initialize_agent(tools=tools,\n",
        "                         llm=ChatOpenAI(),\n",
        "                         agent = AgentType.CONVERSATIONAL_REACT_DESCRIPTION,\n",
        "                         verbose=False,\n",
        "                         return_intermediate_steps=True\n",
        "                         )"
      ],
      "metadata": {
        "id": "ZbGNO3qT7T_H"
      },
      "execution_count": 74,
      "outputs": []
    },
    {
      "cell_type": "code",
      "source": [
        "try:\n",
        "    response = agent({\"input\":\"how to treat acid reflux?\",\n",
        "                      \"tools\":tools,\n",
        "                      \"tool_names\":tool_names,\n",
        "                      \"history\":None,\n",
        "                      \"chat_history\":None},\n",
        "                     return_only_outputs=True)\n",
        "except ValueError as e:\n",
        "    response = str(e)\n",
        "    if not response.startswith(\"Could not parse LLM output: `\"):\n",
        "        raise e\n",
        "    response = response.removeprefix(\"Could not parse LLM output: `\").removesuffix(\"`\")"
      ],
      "metadata": {
        "id": "dv_9HTlk0THo"
      },
      "execution_count": 80,
      "outputs": []
    },
    {
      "cell_type": "code",
      "source": [
        "print(response)"
      ],
      "metadata": {
        "colab": {
          "base_uri": "https://localhost:8080/"
        },
        "id": "jTz-SWy5bg3-",
        "outputId": "2e88cee1-d79e-488b-f618-26fb2e19a5db"
      },
      "execution_count": 81,
      "outputs": [
        {
          "output_type": "stream",
          "name": "stdout",
          "text": [
            "{'output': 'There are a few lifestyle changes and home remedies that can help treat acid reflux, such as avoiding food triggers, eating smaller and more frequent meals, elevating the head of the bed while sleeping, and avoiding lying down after eating. Over-the-counter medications such as antacids and proton pump inhibitors can also be effective in treating acid reflux. However, it is always best to consult with a doctor if symptoms persist or worsen.', 'intermediate_steps': [(AgentAction(tool='Search WebMD', tool_input='how to treat acid reflux', log='Thought: Do I need to use a tool? Yes\\nAction: Search WebMD\\nAction Input: how to treat acid reflux'), 'Eat Earlier. Going to bed on a full stomach makes nighttime heartburn more likely. A full stomach puts pressure on the valve at the top of the stomach, which is supposed to keep stomach acid out ... Trim the fat off of meat and poultry, and cut the skin off chicken. Tweaks like these might be enough to tame your heartburn. Tomatoes (including foods like salsa and marinara sauce) and citrus ... Abdominal bloating. Abdominal pain. Vomiting. Indigestion. Burning or gnawing feeling in the stomach between meals or at night. Hiccups. Loss of appetite. Vomiting blood or coffee ground-like ... Esophagitis Symptoms. Symptoms of esophagitis include: Difficult or painful swallowing. Acid reflux. Heartburn. A feeling of something of being stuck in the throat. Chest pain. Nausea. Vomiting. This backflow (acid reflux) can irritate the lining of the esophagus. People with GERD may have heartburn, a burning sensation in the back of the throat, chronic cough, laryngitis, and nausea.')]}\n"
          ]
        }
      ]
    },
    {
      "cell_type": "code",
      "source": [
        "try:\n",
        "    response = agent({\"input\":\"Any specific medications I need to take ?\",\"tools\":tools,\"tool_names\":tool_names,\"history\":response['output'],\"chat_history\":response['output']})\n",
        "except ValueError as e:\n",
        "    response = str(e)\n",
        "    if not response.startswith(\"Could not parse LLM output: `\"):\n",
        "        raise e\n",
        "    response = response.removeprefix(\"Could not parse LLM output: `\").removesuffix(\"`\")"
      ],
      "metadata": {
        "id": "YWC_B6rd0wuW"
      },
      "execution_count": 86,
      "outputs": []
    },
    {
      "cell_type": "code",
      "source": [
        "response"
      ],
      "metadata": {
        "colab": {
          "base_uri": "https://localhost:8080/"
        },
        "id": "02AgE9c602h4",
        "outputId": "cca3c622-f24d-4a0b-90c6-638206cbbbc6"
      },
      "execution_count": 87,
      "outputs": [
        {
          "output_type": "execute_result",
          "data": {
            "text/plain": [
              "{'input': 'Any specific medications I need to take ?',\n",
              " 'tools': [Tool(name='Search WebMD', description='useful for when you need to answer medical and pharmalogical questions', args_schema=None, return_direct=False, verbose=False, callbacks=None, callback_manager=None, handle_tool_error=False, func=<function duck_wrapper at 0x7fb68ff628c0>, coroutine=None)],\n",
              " 'tool_names': ['Search WebMD'],\n",
              " 'history': 'There are several over-the-counter medications that can help relieve acid reflux symptoms, such as antacids, histamine receptor blockers (H2 blockers), and proton pump inhibitors (PPIs). However, it is always best to consult with a doctor before starting any new medication, as they can provide personalized recommendations based on your specific symptoms and medical history.',\n",
              " 'chat_history': 'There are several over-the-counter medications that can help relieve acid reflux symptoms, such as antacids, histamine receptor blockers (H2 blockers), and proton pump inhibitors (PPIs). However, it is always best to consult with a doctor before starting any new medication, as they can provide personalized recommendations based on your specific symptoms and medical history.',\n",
              " 'output': \"The specific medication you need to take for acid reflux will depend on your individual symptoms and medical history. It's best to consult with a doctor or healthcare provider to determine the most appropriate medication for you. They may recommend antacids, H2 blockers, or PPIs, or a combination of these medications. It's important to follow their recommendations and take the medication as directed to achieve the best results.\",\n",
              " 'intermediate_steps': []}"
            ]
          },
          "metadata": {},
          "execution_count": 87
        }
      ]
    },
    {
      "cell_type": "code",
      "source": [
        "response['output']"
      ],
      "metadata": {
        "colab": {
          "base_uri": "https://localhost:8080/",
          "height": 70
        },
        "id": "NHkztakN1HP-",
        "outputId": "76514f1e-8433-4e59-aba3-b0b4928dabee"
      },
      "execution_count": 88,
      "outputs": [
        {
          "output_type": "execute_result",
          "data": {
            "text/plain": [
              "\"The specific medication you need to take for acid reflux will depend on your individual symptoms and medical history. It's best to consult with a doctor or healthcare provider to determine the most appropriate medication for you. They may recommend antacids, H2 blockers, or PPIs, or a combination of these medications. It's important to follow their recommendations and take the medication as directed to achieve the best results.\""
            ],
            "application/vnd.google.colaboratory.intrinsic+json": {
              "type": "string"
            }
          },
          "metadata": {},
          "execution_count": 88
        }
      ]
    },
    {
      "cell_type": "markdown",
      "source": [
        "## Output Parser"
      ],
      "metadata": {
        "id": "ZqKkGHNacQ_u"
      }
    },
    {
      "cell_type": "code",
      "source": [
        "from langchain.output_parsers import ResponseSchema\n",
        "from langchain.output_parsers import StructuredOutputParser"
      ],
      "metadata": {
        "id": "95OMuOIZcchp"
      },
      "execution_count": 17,
      "outputs": []
    },
    {
      "cell_type": "code",
      "source": [
        "disease_schema = ResponseSchema(name=\"Ailment\",\n",
        "                                description = \"This is the name of the diesease or ailment for which the query has been asked\")\n",
        "#\n",
        "treatment_schema = ResponseSchema(name=\"Treatment\",\n",
        "                                  description = \" This is the treatment suggested for the ailment or diesease specified\")\n",
        "#\n",
        "response_schemas = [disease_schema,treatment_schema]\n",
        ""
      ],
      "metadata": {
        "id": "yYOB5EMKdRtw"
      },
      "execution_count": 18,
      "outputs": []
    },
    {
      "cell_type": "code",
      "source": [
        "output_parser = StructuredOutputParser.from_response_schemas(response_schemas)\n",
        "format_instructions = output_parser.get_format_instructions()"
      ],
      "metadata": {
        "id": "dR3QgOhogf6b"
      },
      "execution_count": 19,
      "outputs": []
    },
    {
      "cell_type": "code",
      "source": [
        "format_instructions"
      ],
      "metadata": {
        "colab": {
          "base_uri": "https://localhost:8080/",
          "height": 53
        },
        "id": "mVgxvmJXgv0H",
        "outputId": "fee6293a-59f4-411d-f9a2-d66905881562"
      },
      "execution_count": 20,
      "outputs": [
        {
          "output_type": "execute_result",
          "data": {
            "text/plain": [
              "'The output should be a markdown code snippet formatted in the following schema, including the leading and trailing \"```json\" and \"```\":\\n\\n```json\\n{\\n\\t\"Ailment\": string  // This is the name of the diesease or ailment for which the query has been asked\\n\\t\"Treatment\": string  //  This is the treatment suggested for the ailment or diesease specified\\n}\\n```'"
            ],
            "application/vnd.google.colaboratory.intrinsic+json": {
              "type": "string"
            }
          },
          "metadata": {},
          "execution_count": 20
        }
      ]
    },
    {
      "cell_type": "code",
      "source": [
        "# Set up the base template\n",
        "template = \"\"\"Answer the following questions as best you can, but speaking as compasionate medical professional. You have access to the following tools:\n",
        "\n",
        "{tools}\n",
        "\n",
        "Use the following format:\n",
        "\n",
        "Question: the input question you must answer\n",
        "Thought: you should always think about what to do\n",
        "Action: the action to take, should be one of [{tool_names}]\n",
        "Action Input: the input to the action\n",
        "Observation: the result of the action\n",
        "... (this Thought/Action/Action Input/Observation can repeat N times)\n",
        "Thought: I now know the final answer\n",
        "Final Answer: the final answer to the original input question\n",
        "\n",
        "Begin! Remember to answer as a compansionate medical professional when giving your final answer.\n",
        "\n",
        "Previous conversation history:\n",
        "{history}\n",
        "\n",
        "Question: {input}\n",
        "\n",
        "Based on the Question asked provide the name of the ailment and treatment. Format the output with a JSON with the following keys:\n",
        "Ailment\n",
        "Treatment\n",
        "{format_instructions}\n",
        "\"\"\""
      ],
      "metadata": {
        "id": "EJCc5ZZ-gxUe"
      },
      "execution_count": 38,
      "outputs": []
    },
    {
      "cell_type": "code",
      "source": [
        "response = agent.run({\"input\":\"how to treat acid reflux?\",\"tools\":tools,\"tool_names\":tool_names,\"format_instructions\":format_instructions,\"history\":None,\"chat_history\":None})"
      ],
      "metadata": {
        "colab": {
          "base_uri": "https://localhost:8080/"
        },
        "id": "qHTYpYKnimQE",
        "outputId": "db82f440-7e27-477d-d69a-2cfd442665ca"
      },
      "execution_count": 46,
      "outputs": [
        {
          "output_type": "stream",
          "name": "stdout",
          "text": [
            "\n",
            "\n",
            "\u001b[1m> Entering new  chain...\u001b[0m\n",
            "\u001b[32;1m\u001b[1;3mThought: Do I need to use a tool? Yes\n",
            "Action: Search WebMD\n",
            "Action Input: how to treat acid reflux\u001b[0m\n",
            "Observation: \u001b[36;1m\u001b[1;3mEat Earlier. Going to bed on a full stomach makes nighttime heartburn more likely. A full stomach puts pressure on the valve at the top of the stomach, which is supposed to keep stomach acid out ... Esophagitis Symptoms. Symptoms of esophagitis include: Difficult or painful swallowing. Acid reflux. Heartburn. A feeling of something of being stuck in the throat. Chest pain. Nausea. Vomiting. Abdominal bloating. Abdominal pain. Vomiting. Indigestion. Burning or gnawing feeling in the stomach between meals or at night. Hiccups. Loss of appetite. Vomiting blood or coffee ground-like ... Trim the fat off of meat and poultry, and cut the skin off chicken. Tweaks like these might be enough to tame your heartburn. Tomatoes (including foods like salsa and marinara sauce) and citrus ... Intravenous or injected magnesium is used to treat other conditions, ... (PPIs), a common type of medicine used to treat acid reflux, have also been tied to low magnesium levels.\u001b[0m\n",
            "Thought:\u001b[32;1m\u001b[1;3mDo I need to use a tool? No\n",
            "AI: There are several ways to treat acid reflux, including making lifestyle changes such as eating earlier and avoiding trigger foods like tomatoes and citrus, as well as taking medication such as proton pump inhibitors (PPIs). It's also important to talk to a doctor if symptoms persist or worsen.\u001b[0m\n",
            "\n",
            "\u001b[1m> Finished chain.\u001b[0m\n"
          ]
        }
      ]
    },
    {
      "cell_type": "code",
      "source": [
        "print(response)"
      ],
      "metadata": {
        "colab": {
          "base_uri": "https://localhost:8080/"
        },
        "id": "gxqk6r0JixEo",
        "outputId": "2e0212a9-b511-4d53-84b8-a76950379fde"
      },
      "execution_count": 47,
      "outputs": [
        {
          "output_type": "stream",
          "name": "stdout",
          "text": [
            "There are several ways to treat acid reflux, including making lifestyle changes such as eating earlier and avoiding trigger foods like tomatoes and citrus, as well as taking medication such as proton pump inhibitors (PPIs). It's also important to talk to a doctor if symptoms persist or worsen.\n"
          ]
        }
      ]
    },
    {
      "cell_type": "code",
      "source": [
        "from langchain.prompts import PromptTemplate, ChatPromptTemplate, HumanMessagePromptTemplate\n",
        "from langchain.chat_models import ChatOpenAI\n",
        "\n",
        "llm = ChatOpenAI(temperature=0.0)\n",
        "\n",
        "prompt = ChatPromptTemplate(\n",
        "    messages=[\n",
        "        HumanMessagePromptTemplate.from_template(template)\n",
        "    ],\n",
        "    input_variables=[\"input\",\"tools\",\"tool_names\",\"history\"],\n",
        "    partial_variables={\"format_instructions\": format_instructions},\n",
        "    output_parser=output_parser # here we add the output parser to the Prompt template\n",
        ")"
      ],
      "metadata": {
        "id": "InVq27Y8tvwp"
      },
      "execution_count": 48,
      "outputs": []
    },
    {
      "cell_type": "code",
      "source": [
        "print(prompt.format(input=\"How to treat a twisted ankle?\",\n",
        "                    tools=tools,\n",
        "                    tool_names = tool_names,\n",
        "                    history=None))"
      ],
      "metadata": {
        "colab": {
          "base_uri": "https://localhost:8080/"
        },
        "id": "sygNRSEvuRBe",
        "outputId": "ccd7158c-893b-49dd-8459-e5e91371a702"
      },
      "execution_count": 64,
      "outputs": [
        {
          "output_type": "stream",
          "name": "stdout",
          "text": [
            "Human: Answer the following questions as best you can, but speaking as compasionate medical professional. You have access to the following tools:\n",
            "\n",
            "[Tool(name='Search WebMD', description='useful for when you need to answer medical and pharmalogical questions', args_schema=None, return_direct=False, verbose=False, callbacks=None, callback_manager=None, handle_tool_error=False, func=<function duck_wrapper at 0x7fb68ff628c0>, coroutine=None)]\n",
            "\n",
            "Use the following format:\n",
            "\n",
            "Question: the input question you must answer\n",
            "Thought: you should always think about what to do\n",
            "Action: the action to take, should be one of [['Search WebMD']]\n",
            "Action Input: the input to the action\n",
            "Observation: the result of the action\n",
            "... (this Thought/Action/Action Input/Observation can repeat N times)\n",
            "Thought: I now know the final answer\n",
            "Final Answer: the final answer to the original input question\n",
            "\n",
            "Begin! Remember to answer as a compansionate medical professional when giving your final answer.\n",
            "\n",
            "Previous conversation history:\n",
            "None\n",
            "\n",
            "Question: How to treat a twisted ankle?\n",
            "\n",
            "Based on the Question asked provide the name of the ailment and treatment. Format the output with a JSON with the following keys:\n",
            "Ailment\n",
            "Treatment\n",
            "The output should be a markdown code snippet formatted in the following schema, including the leading and trailing \"```json\" and \"```\":\n",
            "\n",
            "```json\n",
            "{\n",
            "\t\"Ailment\": string  // This is the name of the diesease or ailment for which the query has been asked\n",
            "\t\"Treatment\": string  //  This is the treatment suggested for the ailment or diesease specified\n",
            "}\n",
            "```\n",
            "\n"
          ]
        }
      ]
    },
    {
      "cell_type": "code",
      "source": [
        "from langchain.chains import LLMChain\n",
        "\n",
        "chain = LLMChain(llm=llm,\n",
        "                 prompt=prompt)"
      ],
      "metadata": {
        "id": "z_hCsVx_up3h"
      },
      "execution_count": 65,
      "outputs": []
    },
    {
      "cell_type": "code",
      "source": [
        "response = chain.predict_and_parse(input=\"How to treat a twisted ankle?\",\n",
        "                    tools=tools,\n",
        "                    tool_names = tool_names,\n",
        "                    history=None)"
      ],
      "metadata": {
        "id": "UefUz0O3uxR9"
      },
      "execution_count": 66,
      "outputs": []
    },
    {
      "cell_type": "code",
      "source": [
        "response"
      ],
      "metadata": {
        "colab": {
          "base_uri": "https://localhost:8080/"
        },
        "id": "MqPEvEoGu8Uk",
        "outputId": "566ff934-6e7a-49fd-88f6-a02ea188f11a"
      },
      "execution_count": 67,
      "outputs": [
        {
          "output_type": "execute_result",
          "data": {
            "text/plain": [
              "{'Ailment': 'Twisted ankle',\n",
              " 'Treatment': 'Rest, ice, compression, and elevation (RICE). Over-the-counter pain relievers can also be taken to reduce pain and swelling. In severe cases, a cast or brace may be necessary.'}"
            ]
          },
          "metadata": {},
          "execution_count": 67
        }
      ]
    },
    {
      "cell_type": "code",
      "source": [
        "print(prompt.format(input=\"How to treat acid reflux?\",\n",
        "                    tools=tools,\n",
        "                    tool_names = tool_names,\n",
        "                    history=None))"
      ],
      "metadata": {
        "colab": {
          "base_uri": "https://localhost:8080/"
        },
        "id": "-EydKDb0w63x",
        "outputId": "5d1ff7a3-4da9-4845-b85d-7e7d44c0ae7b"
      },
      "execution_count": 68,
      "outputs": [
        {
          "output_type": "stream",
          "name": "stdout",
          "text": [
            "Human: Answer the following questions as best you can, but speaking as compasionate medical professional. You have access to the following tools:\n",
            "\n",
            "[Tool(name='Search WebMD', description='useful for when you need to answer medical and pharmalogical questions', args_schema=None, return_direct=False, verbose=False, callbacks=None, callback_manager=None, handle_tool_error=False, func=<function duck_wrapper at 0x7fb68ff628c0>, coroutine=None)]\n",
            "\n",
            "Use the following format:\n",
            "\n",
            "Question: the input question you must answer\n",
            "Thought: you should always think about what to do\n",
            "Action: the action to take, should be one of [['Search WebMD']]\n",
            "Action Input: the input to the action\n",
            "Observation: the result of the action\n",
            "... (this Thought/Action/Action Input/Observation can repeat N times)\n",
            "Thought: I now know the final answer\n",
            "Final Answer: the final answer to the original input question\n",
            "\n",
            "Begin! Remember to answer as a compansionate medical professional when giving your final answer.\n",
            "\n",
            "Previous conversation history:\n",
            "None\n",
            "\n",
            "Question: How to treat acid reflux?\n",
            "\n",
            "Based on the Question asked provide the name of the ailment and treatment. Format the output with a JSON with the following keys:\n",
            "Ailment\n",
            "Treatment\n",
            "The output should be a markdown code snippet formatted in the following schema, including the leading and trailing \"```json\" and \"```\":\n",
            "\n",
            "```json\n",
            "{\n",
            "\t\"Ailment\": string  // This is the name of the diesease or ailment for which the query has been asked\n",
            "\t\"Treatment\": string  //  This is the treatment suggested for the ailment or diesease specified\n",
            "}\n",
            "```\n",
            "\n"
          ]
        }
      ]
    },
    {
      "cell_type": "code",
      "source": [
        "response = chain.predict_and_parse(input=\"How to treat acid reflux?\",\n",
        "                    tools=tools,\n",
        "                    tool_names = tool_names,\n",
        "                    history=None,\n",
        "                    output_parser=output_parser)"
      ],
      "metadata": {
        "id": "4i8p42Rzu9HB"
      },
      "execution_count": 69,
      "outputs": []
    },
    {
      "cell_type": "code",
      "source": [
        "response"
      ],
      "metadata": {
        "colab": {
          "base_uri": "https://localhost:8080/"
        },
        "id": "yr2jxt9_vQjO",
        "outputId": "ee6319f3-1358-4499-f96f-94933f945d7e"
      },
      "execution_count": 70,
      "outputs": [
        {
          "output_type": "execute_result",
          "data": {
            "text/plain": [
              "{'Ailment': 'Acid reflux',\n",
              " 'Treatment': \"Treatment options for acid reflux may include lifestyle changes such as avoiding trigger foods, losing weight, and quitting smoking. Over-the-counter medications like antacids and proton pump inhibitors can also help. In more severe cases, prescription medications or surgery may be necessary. It's important to speak with a healthcare provider before starting any new treatment regimen.\"}"
            ]
          },
          "metadata": {},
          "execution_count": 70
        }
      ]
    }
  ]
}