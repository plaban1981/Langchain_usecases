{
  "nbformat": 4,
  "nbformat_minor": 0,
  "metadata": {
    "colab": {
      "provenance": [],
      "authorship_tag": "ABX9TyOYr60EwT/HoIpWJmJC1It5",
      "include_colab_link": true
    },
    "kernelspec": {
      "name": "python3",
      "display_name": "Python 3"
    },
    "language_info": {
      "name": "python"
    }
  },
  "cells": [
    {
      "cell_type": "markdown",
      "metadata": {
        "id": "view-in-github",
        "colab_type": "text"
      },
      "source": [
        "<a href=\"https://colab.research.google.com/github/plaban1981/Langchain_usecases/blob/main/OpenAI_Multi_Functions_Agent.ipynb\" target=\"_parent\"><img src=\"https://colab.research.google.com/assets/colab-badge.svg\" alt=\"Open In Colab\"/></a>"
      ]
    },
    {
      "cell_type": "markdown",
      "source": [
        "## Langchain Agents\n",
        "\n",
        "* Agents involve an LLM making decisions about which Actions to take, taking that Action, seeing an Observation, and repeating that until done.\n",
        "\n",
        "* Agents have access to an array of tools at its disposal and leverages a LLM to make decisions as to which tool to use.\n",
        "\n"
      ],
      "metadata": {
        "id": "SZSiM0LQI5zc"
      }
    },
    {
      "cell_type": "markdown",
      "source": [
        "#### Here will demonstrate how the agent uses OpenAI Function Calling within its own process to format and structure information exchanges between tools."
      ],
      "metadata": {
        "id": "FFJieqIKJLC2"
      }
    },
    {
      "cell_type": "code",
      "execution_count": 1,
      "metadata": {
        "colab": {
          "base_uri": "https://localhost:8080/"
        },
        "id": "_Vx9FZd-Iljv",
        "outputId": "e766bf27-be41-4faa-8588-98659e88556c"
      },
      "outputs": [
        {
          "output_type": "stream",
          "name": "stdout",
          "text": [
            "\u001b[?25l     \u001b[90m━━━━━━━━━━━━━━━━━━━━━━━━━━━━━━━━━━━━━━━━\u001b[0m \u001b[32m0.0/1.2 MB\u001b[0m \u001b[31m?\u001b[0m eta \u001b[36m-:--:--\u001b[0m\r\u001b[2K     \u001b[91m━━━━━━━━━━━━━━━━━━━━━━━━━━━━━━━━━━━━━━━\u001b[0m\u001b[91m╸\u001b[0m \u001b[32m1.2/1.2 MB\u001b[0m \u001b[31m39.9 MB/s\u001b[0m eta \u001b[36m0:00:01\u001b[0m\r\u001b[2K     \u001b[90m━━━━━━━━━━━━━━━━━━━━━━━━━━━━━━━━━━━━━━━━\u001b[0m \u001b[32m1.2/1.2 MB\u001b[0m \u001b[31m23.1 MB/s\u001b[0m eta \u001b[36m0:00:00\u001b[0m\n",
            "\u001b[2K     \u001b[90m━━━━━━━━━━━━━━━━━━━━━━━━━━━━━━━━━━━━━━━━\u001b[0m \u001b[32m73.6/73.6 kB\u001b[0m \u001b[31m7.0 MB/s\u001b[0m eta \u001b[36m0:00:00\u001b[0m\n",
            "\u001b[?25h  Preparing metadata (setup.py) ... \u001b[?25l\u001b[?25hdone\n",
            "\u001b[2K     \u001b[90m━━━━━━━━━━━━━━━━━━━━━━━━━━━━━━━━━━━━━━━━\u001b[0m \u001b[32m1.7/1.7 MB\u001b[0m \u001b[31m39.3 MB/s\u001b[0m eta \u001b[36m0:00:00\u001b[0m\n",
            "\u001b[2K     \u001b[90m━━━━━━━━━━━━━━━━━━━━━━━━━━━━━━━━━━━━━━━━\u001b[0m \u001b[32m90.0/90.0 kB\u001b[0m \u001b[31m9.9 MB/s\u001b[0m eta \u001b[36m0:00:00\u001b[0m\n",
            "\u001b[2K     \u001b[90m━━━━━━━━━━━━━━━━━━━━━━━━━━━━━━━━━━━━━━━━\u001b[0m \u001b[32m49.1/49.1 kB\u001b[0m \u001b[31m5.2 MB/s\u001b[0m eta \u001b[36m0:00:00\u001b[0m\n",
            "\u001b[?25h  Building wheel for google-search-results (setup.py) ... \u001b[?25l\u001b[?25hdone\n"
          ]
        }
      ],
      "source": [
        "! pip install -qU langchain openai google-search-results tiktoken"
      ]
    },
    {
      "cell_type": "markdown",
      "source": [
        "## Import and make modules available:"
      ],
      "metadata": {
        "id": "MLHZVX0AT2tU"
      }
    },
    {
      "cell_type": "code",
      "source": [
        "from langchain import SerpAPIWrapper\n",
        "from langchain.agents import initialize_agent,Tool,AgentType\n",
        "from langchain.chat_models import ChatOpenAI"
      ],
      "metadata": {
        "id": "cpKxNi3hT3vH"
      },
      "execution_count": 2,
      "outputs": []
    },
    {
      "cell_type": "code",
      "source": [
        "from getpass import getpass\n",
        "import os\n",
        "#\n",
        "os.environ['OPENAI_API_KEY'] = getpass()\n",
        "os.environ[\"SERPAPI_API_KEY\"] = getpass()"
      ],
      "metadata": {
        "colab": {
          "base_uri": "https://localhost:8080/"
        },
        "id": "izXZ1FSGfgBg",
        "outputId": "8036d4f3-d0dd-43c7-8ce2-40dd4d092077"
      },
      "execution_count": 3,
      "outputs": [
        {
          "name": "stdout",
          "output_type": "stream",
          "text": [
            "··········\n",
            "··········\n"
          ]
        }
      ]
    },
    {
      "cell_type": "markdown",
      "source": [
        "## Initialize Openai Turbo Model"
      ],
      "metadata": {
        "id": "gZn-0vvwg0fM"
      }
    },
    {
      "cell_type": "code",
      "source": [
        "# Initialize the OpenAI language model\n",
        "#Replace <your_api_key> in openai_api_key=\"<your_api_key>\" with your actual OpenAI key.\n",
        "llm = ChatOpenAI(temperature=0, model=\"gpt-3.5-turbo-0613\")\n",
        "\n",
        "# Initialize the SerpAPIWrapper for search functionality\n",
        "#Replace <your_api_key> in openai_api_key=\"<your_api_key>\" with your actual SerpAPI key.\n",
        "search = SerpAPIWrapper()\n",
        "\n",
        "# Define a list of tools offered by the agent\n",
        "tools = [\n",
        "    Tool(\n",
        "        name=\"Search\",\n",
        "        func=search.run,\n",
        "        description=\"Useful when you need to answer questions about current events. You should ask targeted questions.\"\n",
        "    ),\n",
        "]"
      ],
      "metadata": {
        "id": "T79Ln8jzgrPc"
      },
      "execution_count": 4,
      "outputs": []
    },
    {
      "cell_type": "markdown",
      "source": [
        "## Create verbose output from LangChain:"
      ],
      "metadata": {
        "id": "e7rnBhFIhGhO"
      }
    },
    {
      "cell_type": "code",
      "source": [
        "import langchain\n",
        "langchain.debug = True"
      ],
      "metadata": {
        "id": "q_wXCe_GhIl-"
      },
      "execution_count": 5,
      "outputs": []
    },
    {
      "cell_type": "code",
      "source": [
        "init_agent = initialize_agent(tools, llm,\n",
        "                              agent=AgentType.OPENAI_MULTI_FUNCTIONS,\n",
        "                              verbose=True)"
      ],
      "metadata": {
        "id": "IhLjwR_SiSY9"
      },
      "execution_count": 6,
      "outputs": []
    },
    {
      "cell_type": "code",
      "source": [
        "init_agent.run(\"What is the weather in New Delhi and Mumbai ?\")"
      ],
      "metadata": {
        "colab": {
          "base_uri": "https://localhost:8080/",
          "height": 1000
        },
        "id": "B8ikEK8jiuEI",
        "outputId": "5d1093be-70d1-4f05-fcdc-9097d7d62a32"
      },
      "execution_count": 7,
      "outputs": [
        {
          "output_type": "stream",
          "name": "stdout",
          "text": [
            "\u001b[32;1m\u001b[1;3m[chain/start]\u001b[0m \u001b[1m[1:chain:AgentExecutor] Entering Chain run with input:\n",
            "\u001b[0m{\n",
            "  \"input\": \"What is the weather in New Delhi and Mumbai ?\"\n",
            "}\n",
            "\u001b[32;1m\u001b[1;3m[llm/start]\u001b[0m \u001b[1m[1:chain:AgentExecutor > 2:llm:ChatOpenAI] Entering LLM run with input:\n",
            "\u001b[0m{\n",
            "  \"prompts\": [\n",
            "    \"System: You are a helpful AI assistant.\\nHuman: What is the weather in New Delhi and Mumbai ?\"\n",
            "  ]\n",
            "}\n",
            "\u001b[36;1m\u001b[1;3m[llm/end]\u001b[0m \u001b[1m[1:chain:AgentExecutor > 2:llm:ChatOpenAI] [3.41s] Exiting LLM run with output:\n",
            "\u001b[0m{\n",
            "  \"generations\": [\n",
            "    [\n",
            "      {\n",
            "        \"text\": \"\",\n",
            "        \"generation_info\": null,\n",
            "        \"message\": {\n",
            "          \"content\": \"\",\n",
            "          \"additional_kwargs\": {\n",
            "            \"function_call\": {\n",
            "              \"name\": \"tool_selection\",\n",
            "              \"arguments\": \"{\\n  \\\"actions\\\": [\\n    {\\n      \\\"action_name\\\": \\\"Search\\\",\\n      \\\"action\\\": {\\n        \\\"tool_input\\\": \\\"weather in New Delhi\\\"\\n      }\\n    },\\n    {\\n      \\\"action_name\\\": \\\"Search\\\",\\n      \\\"action\\\": {\\n        \\\"tool_input\\\": \\\"weather in Mumbai\\\"\\n      }\\n    }\\n  ]\\n}\"\n",
            "            }\n",
            "          },\n",
            "          \"example\": false\n",
            "        }\n",
            "      }\n",
            "    ]\n",
            "  ],\n",
            "  \"llm_output\": {\n",
            "    \"token_usage\": {\n",
            "      \"prompt_tokens\": 82,\n",
            "      \"completion_tokens\": 74,\n",
            "      \"total_tokens\": 156\n",
            "    },\n",
            "    \"model_name\": \"gpt-3.5-turbo-0613\"\n",
            "  },\n",
            "  \"run\": null\n",
            "}\n",
            "\u001b[32;1m\u001b[1;3m[tool/start]\u001b[0m \u001b[1m[1:chain:AgentExecutor > 3:tool:Search] Entering Tool run with input:\n",
            "\u001b[0m\"{'tool_input': 'weather in New Delhi'}\"\n",
            "\u001b[36;1m\u001b[1;3m[tool/end]\u001b[0m \u001b[1m[1:chain:AgentExecutor > 3:tool:Search] [1.09s] Exiting Tool run with output:\n",
            "\u001b[0m\"2 Week Extended Forecast in New Delhi, Delhi, India ; Jun 28, 93 / 86 °F · Isolated tstorms. Increasing cloudiness. 104 °F · 56% ; Jun 29, 92 / 85 °F · Isolated ...\"\n",
            "\u001b[32;1m\u001b[1;3m[tool/start]\u001b[0m \u001b[1m[1:chain:AgentExecutor > 4:tool:Search] Entering Tool run with input:\n",
            "\u001b[0m\"{'tool_input': 'weather in Mumbai'}\"\n",
            "\u001b[36;1m\u001b[1;3m[tool/end]\u001b[0m \u001b[1m[1:chain:AgentExecutor > 4:tool:Search] [2.12s] Exiting Tool run with output:\n",
            "\u001b[0m\"Red Warning for Heavy Rainfall · Current Weather. 6:11 PM. 83°F. RealFeel® 93°. Cloudy · MINUTECAST®. Periods of rain ending in 43 min. 6:11 PM. 7:11 PM ...\"\n",
            "\u001b[32;1m\u001b[1;3m[llm/start]\u001b[0m \u001b[1m[1:chain:AgentExecutor > 5:llm:ChatOpenAI] Entering LLM run with input:\n",
            "\u001b[0m{\n",
            "  \"prompts\": [\n",
            "    \"System: You are a helpful AI assistant.\\nHuman: What is the weather in New Delhi and Mumbai ?\\nAI: {'name': 'tool_selection', 'arguments': '{\\\\n  \\\"actions\\\": [\\\\n    {\\\\n      \\\"action_name\\\": \\\"Search\\\",\\\\n      \\\"action\\\": {\\\\n        \\\"tool_input\\\": \\\"weather in New Delhi\\\"\\\\n      }\\\\n    },\\\\n    {\\\\n      \\\"action_name\\\": \\\"Search\\\",\\\\n      \\\"action\\\": {\\\\n        \\\"tool_input\\\": \\\"weather in Mumbai\\\"\\\\n      }\\\\n    }\\\\n  ]\\\\n}'}\\nFunction: 2 Week Extended Forecast in New Delhi, Delhi, India ; Jun 28, 93 / 86 °F · Isolated tstorms. Increasing cloudiness. 104 °F · 56% ; Jun 29, 92 / 85 °F · Isolated ...\\nAI: {'name': 'tool_selection', 'arguments': '{\\\\n  \\\"actions\\\": [\\\\n    {\\\\n      \\\"action_name\\\": \\\"Search\\\",\\\\n      \\\"action\\\": {\\\\n        \\\"tool_input\\\": \\\"weather in New Delhi\\\"\\\\n      }\\\\n    },\\\\n    {\\\\n      \\\"action_name\\\": \\\"Search\\\",\\\\n      \\\"action\\\": {\\\\n        \\\"tool_input\\\": \\\"weather in Mumbai\\\"\\\\n      }\\\\n    }\\\\n  ]\\\\n}'}\\nFunction: Red Warning for Heavy Rainfall · Current Weather. 6:11 PM. 83°F. RealFeel® 93°. Cloudy · MINUTECAST®. Periods of rain ending in 43 min. 6:11 PM. 7:11 PM ...\"\n",
            "  ]\n",
            "}\n",
            "\u001b[36;1m\u001b[1;3m[llm/end]\u001b[0m \u001b[1m[1:chain:AgentExecutor > 5:llm:ChatOpenAI] [2.34s] Exiting LLM run with output:\n",
            "\u001b[0m{\n",
            "  \"generations\": [\n",
            "    [\n",
            "      {\n",
            "        \"text\": \"The weather in New Delhi is currently 83°F with periods of rain ending soon. The real feel temperature is 93°F. It is cloudy in New Delhi.\\n\\nAs for Mumbai, I couldn't find the current weather information.\",\n",
            "        \"generation_info\": null,\n",
            "        \"message\": {\n",
            "          \"content\": \"The weather in New Delhi is currently 83°F with periods of rain ending soon. The real feel temperature is 93°F. It is cloudy in New Delhi.\\n\\nAs for Mumbai, I couldn't find the current weather information.\",\n",
            "          \"additional_kwargs\": {},\n",
            "          \"example\": false\n",
            "        }\n",
            "      }\n",
            "    ]\n",
            "  ],\n",
            "  \"llm_output\": {\n",
            "    \"token_usage\": {\n",
            "      \"prompt_tokens\": 358,\n",
            "      \"completion_tokens\": 47,\n",
            "      \"total_tokens\": 405\n",
            "    },\n",
            "    \"model_name\": \"gpt-3.5-turbo-0613\"\n",
            "  },\n",
            "  \"run\": null\n",
            "}\n",
            "\u001b[36;1m\u001b[1;3m[chain/end]\u001b[0m \u001b[1m[1:chain:AgentExecutor] [8.97s] Exiting Chain run with output:\n",
            "\u001b[0m{\n",
            "  \"output\": \"The weather in New Delhi is currently 83°F with periods of rain ending soon. The real feel temperature is 93°F. It is cloudy in New Delhi.\\n\\nAs for Mumbai, I couldn't find the current weather information.\"\n",
            "}\n"
          ]
        },
        {
          "output_type": "execute_result",
          "data": {
            "text/plain": [
              "\"The weather in New Delhi is currently 83°F with periods of rain ending soon. The real feel temperature is 93°F. It is cloudy in New Delhi.\\n\\nAs for Mumbai, I couldn't find the current weather information.\""
            ],
            "application/vnd.google.colaboratory.intrinsic+json": {
              "type": "string"
            }
          },
          "metadata": {},
          "execution_count": 7
        }
      ]
    },
    {
      "cell_type": "code",
      "source": [
        "response = init_agent.run(\"Can you suggest places for vacation having maritime climate\",)"
      ],
      "metadata": {
        "colab": {
          "base_uri": "https://localhost:8080/"
        },
        "id": "3p5NTBgMkAA8",
        "outputId": "28351e51-6abd-45a5-88ca-e60e8debe7bb"
      },
      "execution_count": 8,
      "outputs": [
        {
          "output_type": "stream",
          "name": "stdout",
          "text": [
            "\u001b[32;1m\u001b[1;3m[chain/start]\u001b[0m \u001b[1m[1:chain:AgentExecutor] Entering Chain run with input:\n",
            "\u001b[0m{\n",
            "  \"input\": \"Can you suggest places for vacation having maritime climate\"\n",
            "}\n",
            "\u001b[32;1m\u001b[1;3m[llm/start]\u001b[0m \u001b[1m[1:chain:AgentExecutor > 2:llm:ChatOpenAI] Entering LLM run with input:\n",
            "\u001b[0m{\n",
            "  \"prompts\": [\n",
            "    \"System: You are a helpful AI assistant.\\nHuman: Can you suggest places for vacation having maritime climate\"\n",
            "  ]\n",
            "}\n",
            "\u001b[36;1m\u001b[1;3m[llm/end]\u001b[0m \u001b[1m[1:chain:AgentExecutor > 2:llm:ChatOpenAI] [15.56s] Exiting LLM run with output:\n",
            "\u001b[0m{\n",
            "  \"generations\": [\n",
            "    [\n",
            "      {\n",
            "        \"text\": \"Sure! Here are some places with maritime climate that you can consider for your vacation:\\n\\n1. San Francisco, California, USA: Known for its cool summers and mild winters, San Francisco offers a perfect maritime climate. You can explore iconic landmarks like the Golden Gate Bridge, visit Alcatraz Island, and enjoy the vibrant food and culture scene.\\n\\n2. Vancouver, Canada: Located on the west coast of Canada, Vancouver experiences mild temperatures throughout the year due to its maritime climate. You can explore Stanley Park, visit the beautiful Granville Island, and enjoy outdoor activities like hiking and skiing.\\n\\n3. Auckland, New Zealand: Auckland has a mild maritime climate with warm summers and mild winters. It is known for its stunning beaches, vibrant city life, and diverse cultural attractions. You can visit the Sky Tower, explore the Auckland Domain park, and take a ferry to the nearby islands.\\n\\n4. Cape Town, South Africa: Cape Town has a Mediterranean climate with mild, wet winters and warm, dry summers. It offers beautiful beaches, stunning landscapes, and a rich cultural heritage. You can visit Table Mountain, explore the Cape Winelands, and enjoy the vibrant waterfront area.\\n\\n5. Sydney, Australia: Sydney has a mild maritime climate with warm summers and mild winters. It is famous for its iconic landmarks like the Sydney Opera House and the Harbour Bridge. You can relax on the beautiful beaches, explore the Royal Botanic Garden, and enjoy the vibrant nightlife.\\n\\nThese are just a few suggestions, and there are many more places with maritime climate around the world. It ultimately depends on your preferences and interests.\",\n",
            "        \"generation_info\": null,\n",
            "        \"message\": {\n",
            "          \"content\": \"Sure! Here are some places with maritime climate that you can consider for your vacation:\\n\\n1. San Francisco, California, USA: Known for its cool summers and mild winters, San Francisco offers a perfect maritime climate. You can explore iconic landmarks like the Golden Gate Bridge, visit Alcatraz Island, and enjoy the vibrant food and culture scene.\\n\\n2. Vancouver, Canada: Located on the west coast of Canada, Vancouver experiences mild temperatures throughout the year due to its maritime climate. You can explore Stanley Park, visit the beautiful Granville Island, and enjoy outdoor activities like hiking and skiing.\\n\\n3. Auckland, New Zealand: Auckland has a mild maritime climate with warm summers and mild winters. It is known for its stunning beaches, vibrant city life, and diverse cultural attractions. You can visit the Sky Tower, explore the Auckland Domain park, and take a ferry to the nearby islands.\\n\\n4. Cape Town, South Africa: Cape Town has a Mediterranean climate with mild, wet winters and warm, dry summers. It offers beautiful beaches, stunning landscapes, and a rich cultural heritage. You can visit Table Mountain, explore the Cape Winelands, and enjoy the vibrant waterfront area.\\n\\n5. Sydney, Australia: Sydney has a mild maritime climate with warm summers and mild winters. It is famous for its iconic landmarks like the Sydney Opera House and the Harbour Bridge. You can relax on the beautiful beaches, explore the Royal Botanic Garden, and enjoy the vibrant nightlife.\\n\\nThese are just a few suggestions, and there are many more places with maritime climate around the world. It ultimately depends on your preferences and interests.\",\n",
            "          \"additional_kwargs\": {},\n",
            "          \"example\": false\n",
            "        }\n",
            "      }\n",
            "    ]\n",
            "  ],\n",
            "  \"llm_output\": {\n",
            "    \"token_usage\": {\n",
            "      \"prompt_tokens\": 81,\n",
            "      \"completion_tokens\": 323,\n",
            "      \"total_tokens\": 404\n",
            "    },\n",
            "    \"model_name\": \"gpt-3.5-turbo-0613\"\n",
            "  },\n",
            "  \"run\": null\n",
            "}\n",
            "\u001b[36;1m\u001b[1;3m[chain/end]\u001b[0m \u001b[1m[1:chain:AgentExecutor] [15.56s] Exiting Chain run with output:\n",
            "\u001b[0m{\n",
            "  \"output\": \"Sure! Here are some places with maritime climate that you can consider for your vacation:\\n\\n1. San Francisco, California, USA: Known for its cool summers and mild winters, San Francisco offers a perfect maritime climate. You can explore iconic landmarks like the Golden Gate Bridge, visit Alcatraz Island, and enjoy the vibrant food and culture scene.\\n\\n2. Vancouver, Canada: Located on the west coast of Canada, Vancouver experiences mild temperatures throughout the year due to its maritime climate. You can explore Stanley Park, visit the beautiful Granville Island, and enjoy outdoor activities like hiking and skiing.\\n\\n3. Auckland, New Zealand: Auckland has a mild maritime climate with warm summers and mild winters. It is known for its stunning beaches, vibrant city life, and diverse cultural attractions. You can visit the Sky Tower, explore the Auckland Domain park, and take a ferry to the nearby islands.\\n\\n4. Cape Town, South Africa: Cape Town has a Mediterranean climate with mild, wet winters and warm, dry summers. It offers beautiful beaches, stunning landscapes, and a rich cultural heritage. You can visit Table Mountain, explore the Cape Winelands, and enjoy the vibrant waterfront area.\\n\\n5. Sydney, Australia: Sydney has a mild maritime climate with warm summers and mild winters. It is famous for its iconic landmarks like the Sydney Opera House and the Harbour Bridge. You can relax on the beautiful beaches, explore the Royal Botanic Garden, and enjoy the vibrant nightlife.\\n\\nThese are just a few suggestions, and there are many more places with maritime climate around the world. It ultimately depends on your preferences and interests.\"\n",
            "}\n"
          ]
        }
      ]
    },
    {
      "cell_type": "code",
      "source": [
        "response"
      ],
      "metadata": {
        "colab": {
          "base_uri": "https://localhost:8080/",
          "height": 123
        },
        "id": "tj3LS2RAncSw",
        "outputId": "f239026c-bbd1-4055-d814-3455d162c47e"
      },
      "execution_count": 10,
      "outputs": [
        {
          "output_type": "execute_result",
          "data": {
            "text/plain": [
              "'Sure! Here are some places with maritime climate that you can consider for your vacation:\\n\\n1. San Francisco, California, USA: Known for its cool summers and mild winters, San Francisco offers a perfect maritime climate. You can explore iconic landmarks like the Golden Gate Bridge, visit Alcatraz Island, and enjoy the vibrant food and culture scene.\\n\\n2. Vancouver, Canada: Located on the west coast of Canada, Vancouver experiences mild temperatures throughout the year due to its maritime climate. You can explore Stanley Park, visit the beautiful Granville Island, and enjoy outdoor activities like hiking and skiing.\\n\\n3. Auckland, New Zealand: Auckland has a mild maritime climate with warm summers and mild winters. It is known for its stunning beaches, vibrant city life, and diverse cultural attractions. You can visit the Sky Tower, explore the Auckland Domain park, and take a ferry to the nearby islands.\\n\\n4. Cape Town, South Africa: Cape Town has a Mediterranean climate with mild, wet winters and warm, dry summers. It offers beautiful beaches, stunning landscapes, and a rich cultural heritage. You can visit Table Mountain, explore the Cape Winelands, and enjoy the vibrant waterfront area.\\n\\n5. Sydney, Australia: Sydney has a mild maritime climate with warm summers and mild winters. It is famous for its iconic landmarks like the Sydney Opera House and the Harbour Bridge. You can relax on the beautiful beaches, explore the Royal Botanic Garden, and enjoy the vibrant nightlife.\\n\\nThese are just a few suggestions, and there are many more places with maritime climate around the world. It ultimately depends on your preferences and interests.'"
            ],
            "application/vnd.google.colaboratory.intrinsic+json": {
              "type": "string"
            }
          },
          "metadata": {},
          "execution_count": 10
        }
      ]
    },
    {
      "cell_type": "code",
      "source": [],
      "metadata": {
        "id": "CSkFwiGsnsgp"
      },
      "execution_count": null,
      "outputs": []
    },
    {
      "cell_type": "code",
      "source": [],
      "metadata": {
        "id": "WorzLiYEn1hR"
      },
      "execution_count": null,
      "outputs": []
    }
  ]
}