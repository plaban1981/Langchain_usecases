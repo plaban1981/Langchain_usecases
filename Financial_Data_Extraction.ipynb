{
  "nbformat": 4,
  "nbformat_minor": 0,
  "metadata": {
    "colab": {
      "provenance": [],
      "authorship_tag": "ABX9TyN+u2gzO0e9ISGxtXE6zHqr",
      "include_colab_link": true
    },
    "kernelspec": {
      "name": "python3",
      "display_name": "Python 3"
    },
    "language_info": {
      "name": "python"
    }
  },
  "cells": [
    {
      "cell_type": "markdown",
      "metadata": {
        "id": "view-in-github",
        "colab_type": "text"
      },
      "source": [
        "<a href=\"https://colab.research.google.com/github/plaban1981/Langchain_usecases/blob/main/Financial_Data_Extraction.ipynb\" target=\"_parent\"><img src=\"https://colab.research.google.com/assets/colab-badge.svg\" alt=\"Open In Colab\"/></a>"
      ]
    },
    {
      "cell_type": "code",
      "execution_count": 1,
      "metadata": {
        "colab": {
          "base_uri": "https://localhost:8080/"
        },
        "id": "ku5msdq-m85c",
        "outputId": "c7459f99-42d2-4488-8fa0-1ee987e2d615"
      },
      "outputs": [
        {
          "output_type": "stream",
          "name": "stdout",
          "text": [
            "\u001b[?25l     \u001b[90m━━━━━━━━━━━━━━━━━━━━━━━━━━━━━━━━━━━━━━━━\u001b[0m \u001b[32m0.0/73.6 kB\u001b[0m \u001b[31m?\u001b[0m eta \u001b[36m-:--:--\u001b[0m\r\u001b[2K     \u001b[90m━━━━━━━━━━━━━━━━━━━━━━━━━━━━━━━━━━━━━━━━\u001b[0m \u001b[32m73.6/73.6 kB\u001b[0m \u001b[31m5.3 MB/s\u001b[0m eta \u001b[36m0:00:00\u001b[0m\n",
            "\u001b[?25h"
          ]
        }
      ],
      "source": [
        "!pip install -qU openai"
      ]
    },
    {
      "cell_type": "code",
      "source": [
        "import openai\n",
        "import os\n",
        "from getpass import getpass\n",
        "#\n",
        "os.environ[\"OPENAI_API_KEY\"] = getpass()"
      ],
      "metadata": {
        "colab": {
          "base_uri": "https://localhost:8080/"
        },
        "id": "q_CsJQirrlaR",
        "outputId": "da0323ae-046d-47c4-e290-4c44905c2661"
      },
      "execution_count": 2,
      "outputs": [
        {
          "name": "stdout",
          "output_type": "stream",
          "text": [
            "··········\n"
          ]
        }
      ]
    },
    {
      "cell_type": "code",
      "source": [
        "prompt = \"\"\"\n",
        "Please retrieve company name, revenue, net income and earnings per share (a.k.a. EPS)\n",
        "from the following news article. If you can't find the information from this article\n",
        "then return \"\". Do not make things up.\n",
        "Then retrieve a stock symbol corresponding to that company. For this you can use\n",
        "your general knowledge (it doesn't have to be from this article). Always return your\n",
        "response as a valid JSON string. The format of that string should be this,\n",
        "    {\n",
        "        \"Company Name\": \"Walmart\",\n",
        "        \"Stock Symbol\": \"WMT\",\n",
        "        \"Revenue\": \"12.34 million\",\n",
        "        \"Net Income\": \"34.78 million\",\n",
        "        \"EPS\": \"2.1 $\"\n",
        "    }\n",
        "News Article:\n",
        "==============\n",
        "```\n",
        "{text}\n",
        "\n",
        "```\n",
        "\n",
        "\"\"\""
      ],
      "metadata": {
        "id": "VPBEA5qhuQkD"
      },
      "execution_count": 4,
      "outputs": []
    },
    {
      "cell_type": "code",
      "source": [
        "text = input(\"Enter the Financial Data:\")\n",
        "prompt = prompt.replace(\"{text}\",text)"
      ],
      "metadata": {
        "colab": {
          "base_uri": "https://localhost:8080/"
        },
        "id": "I8htVCinvVTA",
        "outputId": "dc408f95-2c93-4dbe-b0cb-f62a820430d7"
      },
      "execution_count": 5,
      "outputs": [
        {
          "name": "stdout",
          "output_type": "stream",
          "text": [
            "Enter the Financial Data:Tesla's Earning news in text format: Tesla's earning this quarter blew all the estimates. They reported 4.5 billion $ profit against a revenue of 30 billion $. Their earnings per share was 2.3 $\n"
          ]
        }
      ]
    },
    {
      "cell_type": "code",
      "source": [
        "prompt"
      ],
      "metadata": {
        "colab": {
          "base_uri": "https://localhost:8080/",
          "height": 105
        },
        "id": "PZ57810YxMwT",
        "outputId": "2e6fbfb7-ab8d-45e4-c8af-a5fb3f3e57aa"
      },
      "execution_count": 6,
      "outputs": [
        {
          "output_type": "execute_result",
          "data": {
            "text/plain": [
              "'\\nPlease retrieve company name, revenue, net income and earnings per share (a.k.a. EPS)\\nfrom the following news article. If you can\\'t find the information from this article \\nthen return \"\". Do not make things up.    \\nThen retrieve a stock symbol corresponding to that company. For this you can use\\nyour general knowledge (it doesn\\'t have to be from this article). Always return your\\nresponse as a valid JSON string. The format of that string should be this, \\n    {\\n        \"Company Name\": \"Walmart\",\\n        \"Stock Symbol\": \"WMT\",\\n        \"Revenue\": \"12.34 million\",\\n        \"Net Income\": \"34.78 million\",\\n        \"EPS\": \"2.1 $\"\\n    }\\nNews Article:\\n==============\\n```\\nTesla\\'s Earning news in text format: Tesla\\'s earning this quarter blew all the estimates. They reported 4.5 billion $ profit against a revenue of 30 billion $. Their earnings per share was 2.3 $\\n\\n```\\n  \\n'"
            ],
            "application/vnd.google.colaboratory.intrinsic+json": {
              "type": "string"
            }
          },
          "metadata": {},
          "execution_count": 6
        }
      ]
    },
    {
      "cell_type": "code",
      "source": [
        "openai.api_key = os.environ[\"OPENAI_API_KEY\"]\n",
        "response = openai.ChatCompletion.create(\n",
        "                                model=\"gpt-3.5-turbo\",\n",
        "                                messages=[{\"role\": \"user\",\"content\": prompt}]\n",
        "                                )\n",
        "content = response.choices[0]['message']['content']"
      ],
      "metadata": {
        "id": "j_F5uU1PxNiv"
      },
      "execution_count": 9,
      "outputs": []
    },
    {
      "cell_type": "code",
      "source": [
        "content"
      ],
      "metadata": {
        "colab": {
          "base_uri": "https://localhost:8080/",
          "height": 36
        },
        "id": "LTS8aJeNyNuy",
        "outputId": "fc1d6ff7-8d79-4c9c-e897-0ede50dd5518"
      },
      "execution_count": 10,
      "outputs": [
        {
          "output_type": "execute_result",
          "data": {
            "text/plain": [
              "'{\\n    \"Company Name\": \"Tesla\",\\n    \"Stock Symbol\": \"TSLA\",\\n    \"Revenue\": \"30 billion $\",\\n    \"Net Income\": \"4.5 billion $\",\\n    \"EPS\": \"2.3 $\"\\n}'"
            ],
            "application/vnd.google.colaboratory.intrinsic+json": {
              "type": "string"
            }
          },
          "metadata": {},
          "execution_count": 10
        }
      ]
    },
    {
      "cell_type": "code",
      "source": [
        "import pandas as pd\n",
        "import json\n",
        "try:\n",
        "  data = json.loads(content)\n",
        "  df=  pd.DataFrame(data.items(), columns=[\"Measure\", \"Value\"])\n",
        "\n",
        "except (json.JSONDecodeError, IndexError):\n",
        "        pass"
      ],
      "metadata": {
        "id": "Bjo4KkCZyOle"
      },
      "execution_count": 11,
      "outputs": []
    },
    {
      "cell_type": "code",
      "source": [
        "print(df.to_string())"
      ],
      "metadata": {
        "colab": {
          "base_uri": "https://localhost:8080/"
        },
        "id": "i8CS7Rp3y5xv",
        "outputId": "ce4facc6-be07-4709-98e7-c64ffeb8e472"
      },
      "execution_count": 13,
      "outputs": [
        {
          "output_type": "stream",
          "name": "stdout",
          "text": [
            "        Measure          Value\n",
            "0  Company Name          Tesla\n",
            "1  Stock Symbol           TSLA\n",
            "2       Revenue   30 billion $\n",
            "3    Net Income  4.5 billion $\n",
            "4           EPS          2.3 $\n"
          ]
        }
      ]
    },
    {
      "cell_type": "code",
      "source": [],
      "metadata": {
        "id": "hR6nMWPBy-Gm"
      },
      "execution_count": null,
      "outputs": []
    }
  ]
}