{
  "nbformat": 4,
  "nbformat_minor": 0,
  "metadata": {
    "colab": {
      "provenance": [],
      "machine_shape": "hm",
      "gpuType": "V100",
      "authorship_tag": "ABX9TyOZv84dmuKu6wkNHI5L6KFG",
      "include_colab_link": true
    },
    "kernelspec": {
      "name": "python3",
      "display_name": "Python 3"
    },
    "language_info": {
      "name": "python"
    },
    "accelerator": "GPU"
  },
  "cells": [
    {
      "cell_type": "markdown",
      "metadata": {
        "id": "view-in-github",
        "colab_type": "text"
      },
      "source": [
        "<a href=\"https://colab.research.google.com/github/plaban1981/Langchain_usecases/blob/main/You_Tube_video_transcript_Summarizer_using_whisper_and_langchain.ipynb\" target=\"_parent\"><img src=\"https://colab.research.google.com/assets/colab-badge.svg\" alt=\"Open In Colab\"/></a>"
      ]
    },
    {
      "cell_type": "code",
      "execution_count": 6,
      "metadata": {
        "colab": {
          "base_uri": "https://localhost:8080/"
        },
        "id": "8NGuc6aIiEXM",
        "outputId": "265ce738-d3e8-4e7c-e00f-76485c8a6849"
      },
      "outputs": [
        {
          "output_type": "stream",
          "name": "stdout",
          "text": [
            "\u001b[2K     \u001b[90m━━━━━━━━━━━━━━━━━━━━━━━━━━━━━━━━━━━━━━━━\u001b[0m \u001b[32m73.6/73.6 kB\u001b[0m \u001b[31m2.0 MB/s\u001b[0m eta \u001b[36m0:00:00\u001b[0m\n",
            "\u001b[2K     \u001b[90m━━━━━━━━━━━━━━━━━━━━━━━━━━━━━━━━━━━━━━━━\u001b[0m \u001b[32m1.4/1.4 MB\u001b[0m \u001b[31m9.5 MB/s\u001b[0m eta \u001b[36m0:00:00\u001b[0m\n",
            "\u001b[2K     \u001b[90m━━━━━━━━━━━━━━━━━━━━━━━━━━━━━━━━━━━━━━━━\u001b[0m \u001b[32m1.7/1.7 MB\u001b[0m \u001b[31m15.2 MB/s\u001b[0m eta \u001b[36m0:00:00\u001b[0m\n",
            "\u001b[2K     \u001b[90m━━━━━━━━━━━━━━━━━━━━━━━━━━━━━━━━━━━━━━━━\u001b[0m \u001b[32m57.6/57.6 kB\u001b[0m \u001b[31m5.9 MB/s\u001b[0m eta \u001b[36m0:00:00\u001b[0m\n",
            "\u001b[2K     \u001b[90m━━━━━━━━━━━━━━━━━━━━━━━━━━━━━━━━━━━━━━━━\u001b[0m \u001b[32m90.0/90.0 kB\u001b[0m \u001b[31m10.6 MB/s\u001b[0m eta \u001b[36m0:00:00\u001b[0m\n",
            "\u001b[2K     \u001b[90m━━━━━━━━━━━━━━━━━━━━━━━━━━━━━━━━━━━━━━━━\u001b[0m \u001b[32m49.4/49.4 kB\u001b[0m \u001b[31m4.8 MB/s\u001b[0m eta \u001b[36m0:00:00\u001b[0m\n",
            "\u001b[?25h"
          ]
        }
      ],
      "source": [
        "!pip install -qU openai langchain tiktoken pytube"
      ]
    },
    {
      "cell_type": "code",
      "source": [
        "! pip install git+https://github.com/openai/whisper.git -q"
      ],
      "metadata": {
        "colab": {
          "base_uri": "https://localhost:8080/"
        },
        "id": "VTXr75N9q8B4",
        "outputId": "2f78bb1c-8034-4d7d-b886-be943e5d97ae"
      },
      "execution_count": 7,
      "outputs": [
        {
          "output_type": "stream",
          "name": "stdout",
          "text": [
            "  Installing build dependencies ... \u001b[?25l\u001b[?25hdone\n",
            "  Getting requirements to build wheel ... \u001b[?25l\u001b[?25hdone\n",
            "  Preparing metadata (pyproject.toml) ... \u001b[?25l\u001b[?25hdone\n",
            "\u001b[2K     \u001b[90m━━━━━━━━━━━━━━━━━━━━━━━━━━━━━━━━━━━━━━━━\u001b[0m \u001b[32m1.7/1.7 MB\u001b[0m \u001b[31m8.1 MB/s\u001b[0m eta \u001b[36m0:00:00\u001b[0m\n",
            "\u001b[?25h  Building wheel for openai-whisper (pyproject.toml) ... \u001b[?25l\u001b[?25hdone\n"
          ]
        }
      ]
    },
    {
      "cell_type": "code",
      "source": [
        "! pip install youtube_transcript_api"
      ],
      "metadata": {
        "colab": {
          "base_uri": "https://localhost:8080/"
        },
        "id": "Y4u26UQgKVhA",
        "outputId": "309fe477-9371-4b1a-f7ef-d43cfb4030a4"
      },
      "execution_count": 1,
      "outputs": [
        {
          "output_type": "stream",
          "name": "stdout",
          "text": [
            "Collecting youtube_transcript_api\n",
            "  Downloading youtube_transcript_api-0.6.1-py3-none-any.whl (24 kB)\n",
            "Requirement already satisfied: requests in /usr/local/lib/python3.10/dist-packages (from youtube_transcript_api) (2.27.1)\n",
            "Requirement already satisfied: urllib3<1.27,>=1.21.1 in /usr/local/lib/python3.10/dist-packages (from requests->youtube_transcript_api) (1.26.16)\n",
            "Requirement already satisfied: certifi>=2017.4.17 in /usr/local/lib/python3.10/dist-packages (from requests->youtube_transcript_api) (2023.7.22)\n",
            "Requirement already satisfied: charset-normalizer~=2.0.0 in /usr/local/lib/python3.10/dist-packages (from requests->youtube_transcript_api) (2.0.12)\n",
            "Requirement already satisfied: idna<4,>=2.5 in /usr/local/lib/python3.10/dist-packages (from requests->youtube_transcript_api) (3.4)\n",
            "Installing collected packages: youtube_transcript_api\n",
            "Successfully installed youtube_transcript_api-0.6.1\n"
          ]
        }
      ]
    },
    {
      "cell_type": "code",
      "source": [
        "import os\n",
        "import openai\n",
        "from getpass import getpass\n",
        "#\n",
        "from langchain.chat_models import ChatOpenAI\n",
        "from langchain import PromptTemplate, LLMChain\n",
        "from langchain.prompts.chat import (\n",
        "    ChatPromptTemplate,\n",
        "    SystemMessagePromptTemplate,\n",
        "    AIMessagePromptTemplate,\n",
        "    HumanMessagePromptTemplate,\n",
        ")\n",
        "from langchain.schema import (\n",
        "    AIMessage,\n",
        "    HumanMessage,\n",
        "    SystemMessage\n",
        ")\n",
        "#\n",
        "import re\n",
        "from langchain.prompts import PromptTemplate\n",
        "from langchain.llms import OpenAI\n",
        "from langchain.chains import LLMChain\n",
        "from langchain.chat_models import ChatOpenAI\n",
        "from langchain.text_splitter import CharacterTextSplitter,RecursiveCharacterTextSplitter\n",
        "from langchain.docstore.document import Document\n",
        "from langchain.chains.summarize import load_summarize_chain\n",
        "from langchain.prompts import PromptTemplate\n",
        "import textwrap\n",
        "from youtube_transcript_api import YouTubeTranscriptApi\n",
        "#\n",
        "from pytube import YouTube\n",
        "import whisper"
      ],
      "metadata": {
        "id": "qt8VJuQeichg"
      },
      "execution_count": 8,
      "outputs": []
    },
    {
      "cell_type": "markdown",
      "source": [
        "## Set up Openai Key"
      ],
      "metadata": {
        "id": "565D5ryhjBCU"
      }
    },
    {
      "cell_type": "code",
      "source": [
        "os.environ[\"OPENAI_API_KEY\"] = getpass()"
      ],
      "metadata": {
        "colab": {
          "base_uri": "https://localhost:8080/"
        },
        "id": "KrYGWmVrql6r",
        "outputId": "da52bb63-6008-43df-f42e-2ae95136a927"
      },
      "execution_count": 21,
      "outputs": [
        {
          "name": "stdout",
          "output_type": "stream",
          "text": [
            "··········\n"
          ]
        }
      ]
    },
    {
      "cell_type": "markdown",
      "source": [
        "## Instantiate models"
      ],
      "metadata": {
        "id": "NPErDOMBrFCT"
      }
    },
    {
      "cell_type": "code",
      "source": [
        "def load_models():\n",
        "  model = whisper.load_model(\"large\")\n",
        "  return model"
      ],
      "metadata": {
        "id": "z4aMPRlbqqzs"
      },
      "execution_count": 9,
      "outputs": []
    },
    {
      "cell_type": "code",
      "source": [
        "model = load_models()"
      ],
      "metadata": {
        "colab": {
          "base_uri": "https://localhost:8080/"
        },
        "id": "d4Ca0GJxrdNS",
        "outputId": "2e47addc-32c0-4ec1-b7cd-e5d146f3f355"
      },
      "execution_count": 10,
      "outputs": [
        {
          "output_type": "stream",
          "name": "stderr",
          "text": [
            "100%|██████████████████████████████████████| 2.87G/2.87G [00:29<00:00, 105MiB/s]\n"
          ]
        }
      ]
    },
    {
      "cell_type": "code",
      "source": [
        "import tiktoken\n",
        "tokenizer = tiktoken.get_encoding('cl100k_base')\n",
        "#\n",
        "def tiktoken_len(text):\n",
        "  tokens = tokenizer.encode(text,disallowed_special=())\n",
        "  return len(tokens)"
      ],
      "metadata": {
        "id": "AYsMZ01wtAKD"
      },
      "execution_count": 11,
      "outputs": []
    },
    {
      "cell_type": "code",
      "source": [
        "def get_youtube_transcript(video_url):\n",
        "\n",
        "    pattern = r\"(?<=v=)[\\w-]+|(?<=youtu.be/)[\\w-]+\"\n",
        "    match = re.search(pattern, url)\n",
        "    video_id = match.group()\n",
        "\n",
        "    try:\n",
        "        transcript = YouTubeTranscriptApi.get_transcript(video_id)\n",
        "        context = []\n",
        "        for line in transcript:\n",
        "            context.append(line['text'])\n",
        "        content = \" \".join(context)\n",
        "        return content\n",
        "    except Exception as e:\n",
        "        print(f\"Error fetching transcript: {e}\")\n",
        "        return None"
      ],
      "metadata": {
        "id": "CufQLIsdWjlt"
      },
      "execution_count": 18,
      "outputs": []
    },
    {
      "cell_type": "code",
      "source": [
        "from pytube import YouTube\n",
        "\n",
        "def get_youtube_metadata(video_url):\n",
        "    try:\n",
        "        yt = YouTube(video_url)\n",
        "        yt.check_availability()\n",
        "        metadata = {\n",
        "            'title': yt.title,\n",
        "            'description': yt.description,\n",
        "            'author': yt.author,\n",
        "        }\n",
        "        return metadata\n",
        "    except Exception as e:\n",
        "        print(f\"Error fetching metadata: {e}\")\n",
        "        return None\n"
      ],
      "metadata": {
        "id": "QUib0V1slH6i"
      },
      "execution_count": 68,
      "outputs": []
    },
    {
      "cell_type": "code",
      "source": [
        "url = \"https://youtu.be/I2ZK3ngNvvI\"\n",
        "get_youtube_metadata(url)"
      ],
      "metadata": {
        "colab": {
          "base_uri": "https://localhost:8080/"
        },
        "id": "7xKS7rC9mXEF",
        "outputId": "9f3bed6a-13b9-414d-ced3-43a30ee739b7"
      },
      "execution_count": 69,
      "outputs": [
        {
          "output_type": "execute_result",
          "data": {
            "text/plain": [
              "{'title': 'Advice for machine learning beginners | Andrej Karpathy and Lex Fridman',\n",
              " 'description': None,\n",
              " 'author': 'Lex Clips'}"
            ]
          },
          "metadata": {},
          "execution_count": 69
        }
      ]
    },
    {
      "cell_type": "code",
      "source": [
        "def summarize_yt(url,model):\n",
        "  yt = YouTube(url)\n",
        "  audio = yt.streams.filter(only_audio=True).first().download()\n",
        "  print(\"Audio downloaded\")\n",
        "\n",
        "  audio_transcript = model.transcribe(audio,fp16=False)['text']\n",
        "  print(audio_transcript)\n",
        "\n",
        "  text_splitter = RecursiveCharacterTextSplitter(chunk_size =1000,\n",
        "                                                 chunk_overlap=20,\n",
        "                                                 length_function = tiktoken_len,\n",
        "                                                 separators = ['\\n\\n','\\n','  ',' '])\n",
        "  texts = text_splitter.split_text(audio_transcript)\n",
        "  docs = [Document(page_content=t) for t in texts]\n",
        "  #\n",
        "  transcript = get_youtube_transcript(url)\n",
        "  #\n",
        "  metadata = get_youtube_metadata(url)\n",
        "  print(\"Text split\")\n",
        "  return (docs,transcript,metadata)"
      ],
      "metadata": {
        "id": "IB9pj9N_rflV"
      },
      "execution_count": 70,
      "outputs": []
    },
    {
      "cell_type": "code",
      "source": [
        "def summarize(data):\n",
        "  #\n",
        "  docs,transcript,metadata = data\n",
        "  prompt_template = \"\"\"You are an expert at making strong factual summarizations.Please provide a meaningful and concise summary base on the VIDEO TRANSCRIPT enclosed within 3 single quotes, the VIDEO Metadata and\n",
        "  text provided enclosed within 3 bacticks. Along with the summary please provide a point by point 10 key takeways from the video transcript and text. Don't include opinions.\n",
        "  Then Give each key takeaways a number and keep them direct and to the point\n",
        "  VIDEO Metadata : The tile of the video is {metadata}\n",
        "  VIDEO TRANSCRIPT: '''{transcript}'''\n",
        "  TEXT :```{text}```\"\"\"\n",
        "  prompt_template = prompt_template.replace(\"{transcript}\",transcript).replace(\"{metadata}\",metadata['title'])\n",
        "  PROMPT = PromptTemplate(template=prompt_template, input_variables=[\"text\"])\n",
        "  print(PROMPT)\n",
        "  #\n",
        "  llm = ChatOpenAI(model=\"gpt-4\", temperature=0.0)\n",
        "  #\n",
        "  chain = load_summarize_chain(llm, chain_type=\"stuff\", prompt=PROMPT)\n",
        "  #\n",
        "  response = chain.run(docs)\n",
        "  return response\n",
        "\n"
      ],
      "metadata": {
        "id": "uWt61h2NtWLq"
      },
      "execution_count": 74,
      "outputs": []
    },
    {
      "cell_type": "markdown",
      "source": [
        "## Transcribe the Youtube link provided"
      ],
      "metadata": {
        "id": "OZi58CfYvEGn"
      }
    },
    {
      "cell_type": "code",
      "source": [
        "%%time\n",
        "url = \"https://youtu.be/I2ZK3ngNvvI\"\n",
        "docs = summarize_yt(url,model)"
      ],
      "metadata": {
        "colab": {
          "base_uri": "https://localhost:8080/"
        },
        "id": "OUskvk8Juj3K",
        "outputId": "045797dd-636d-4af1-fab6-fb6658ca8b06"
      },
      "execution_count": 71,
      "outputs": [
        {
          "output_type": "stream",
          "name": "stdout",
          "text": [
            "Audio downloaded\n",
            " You're one of the greatest teachers of machine learning, AI ever, from CS231N to today. What advice would you give to beginners interested in getting into machine learning? Beginners are often focused on like what to do, and I think the focus should be more like how much you do. So I am kind of like believer on a high level in this 10,000 hours kind of concept where just kind of have to just pick the things where you can spend time and you care about and you're interested in. You literally have to put in 10,000 hours of work. It doesn't even matter as much like where you put it and you'll iterate and you'll improve and you'll waste some time. I don't know if there's a better way. You need to put in 10,000 hours, but I think it's actually really nice because I feel like there's some sense of determinism about being an expert at a thing. If you spend 10,000 hours, you can literally pick an arbitrary thing. And I think if you spend 10,000 hours of deliberate effort and work, you actually will become an expert at it. And so I think that's kind of like a nice thought. And so basically I would focus more on like are you spending 10,000 hours? That's what I would focus on. So and then thinking about what kind of mechanisms maximize your likelihood of getting to 10,000 hours, which for us silly humans means probably forming a daily habit of like every single day actually doing the thing. Whatever helps you. So I do think to a large extent it's a psychological problem for yourself. One other thing that I think is helpful for the psychology of it is many times people compare themselves to others in the area. I think this is very harmful. Only compare yourself to you from some time ago, like say a year ago. Are you better than you a year ago? This is the only way to think. And I think this, then you can see your progress and it's very motivating. That's so interesting that focus on the quantity of hours. Because I think a lot of people in the beginner stage, but actually throughout, get paralyzed by the choice. Like which one do I pick? This path or this path? Like they'll literally get paralyzed by like which IDE to use. Well they're worried, yeah. They're worried about all these things. But the thing is, you will waste time doing something wrong. You will eventually figure out it's not right. You will accumulate scar tissue. And next time you'll grow stronger. Because next time you'll have the scar tissue and next time you'll learn from it. And now next time you come to a similar situation, you'll be like, oh, I messed up. I've spent a lot of time working on things that never materialize into anything. And I have all that scar tissue and I have some intuitions about what was useful, what wasn't useful, how things turned out. So all those mistakes were not dead work. So I just think you should focus on working. What have you done? What have you done last week? That's a good question actually to ask for a lot of things, not just machine learning. It's a good way to cut the, I forgot what the term we use, but the fluff, the blubber, whatever, the inefficiencies in life. What do you love about teaching? You seem to find yourself often in the, like drawn to teaching. You're very good at it, but you're also drawn to it. I mean, I don't think I love teaching. I love happy humans. And happy humans like when I teach. I wouldn't say I hate teaching. I tolerate teaching. But it's not like the act of teaching that I like. It's that I have something, I'm actually okay at it. I'm okay at teaching and people appreciate it a lot. And so I'm just happy to try to be helpful. And teaching itself is not like the most, I mean, it can be really annoying, frustrating. I was working on a bunch of lectures just now. I was reminded back to my days of 231N just how much work it is to create some of these materials and make them good. The amount of iteration and thought and you go down blind alleys and just how much you change it. So creating something good in terms of educational value is really hard. And it's not fun. It's difficult. So people should definitely go watch your new stuff you put out. There are lectures where you're actually building the thing from, like you said, the code is truth. So discussing back propagation by building it, by looking through it, just the whole thing. So how difficult is that to prepare for? I think that's a really powerful way to teach. Did you have to prepare for that or are you just live thinking through it? I will typically do like, say, three takes and then I take like the better take. So I do multiple takes and I take some of the better takes and then I just build out a lecture that way. Sometimes I have to delete 30 minutes of content because it just went down an alley that I didn't like too much. So there's a bunch of iteration and it probably takes me, you know, somewhere around 10 hours to create one hour of content. To get one hour. It's interesting. I mean, is it difficult to go back to the basics? Do you draw a lot of like wisdom from going back to the basics? Yeah. I like the propagation loss functions, where they come from. And one thing I like about teaching a lot, honestly, is it definitely strengthens your understanding. So it's not a purely altruistic activity. It's a way to learn. If you have to explain something to someone, you realize you have gaps in knowledge. And so I even surprised myself in those lectures. Like, oh, so the result will obviously look at this and then the result doesn't look like it. And I'm like, okay, I thought I understood this. That's why it's really cool. Literally code, you run it in a notebook and it gives you a result and you're like, oh, wow. And like actual numbers, actual input, actual code. It's not mathematical symbols, etc. The source of truth is the code. It's not slides. It's just like, let's build it. It's beautiful. You're a rare human in that sense. Yeah. Yeah. Yeah. Yeah. Yeah. Yeah. Yeah. Yeah. Yeah. Yeah. Yeah. Yeah. Yeah. Yeah. Yeah. Yeah. Yeah. Yeah. Yeah. Yeah. Yeah. Yeah. Yeah. Yeah. Yeah. Yeah. Yeah. Yeah. Yeah.\n",
            "Text split\n",
            "CPU times: user 1min 13s, sys: 150 ms, total: 1min 13s\n",
            "Wall time: 1min 16s\n"
          ]
        }
      ]
    },
    {
      "cell_type": "markdown",
      "source": [
        "## Response generated by Davinci"
      ],
      "metadata": {
        "id": "CEZcJIrfz-c_"
      }
    },
    {
      "cell_type": "code",
      "source": [
        "%%time\n",
        "response = summarize(docs)\n",
        "print(response)"
      ],
      "metadata": {
        "colab": {
          "base_uri": "https://localhost:8080/"
        },
        "id": "LXHxLfSQvVkR",
        "outputId": "fba66a7a-b2bb-46ff-8dc0-13e7a8f0d1a6"
      },
      "execution_count": 37,
      "outputs": [
        {
          "output_type": "stream",
          "name": "stdout",
          "text": [
            "input_variables=['text'] output_parser=None partial_variables={} template=\"You are an expert at making strong factual summarizations.Please provide a meaningful and concise summary base on the VIDEO TRANSCRIPT enclosed within 3 single quotes and \\n  text provided enclosed within 3 bacticks. Along with the summary please provide a point by point 10 key takeways from the video transcript and text. Don't include opinions.\\n  Give each key takeaways a number and keep them short and to the point.\\n\\n  VIDEO TRANSCRIPT: '''you're one of the greatest teachers of machine learning AI ever from cs231n to today what advice would you give to beginners interested in getting into machine learning beginners are often focused on like what to do and I think the focus should be more like how much you do so I I'm kind of like believer on a high level in this 10 000 hours kind of concept where you just kind of have to just pick the things where you can spend time and you you care about and you're interested in you literally have to put in 10 000 hours of work um it doesn't even like matter as much like where you put it and you'll iterate and you'll improve and you'll waste some time I don't know if there's a better way you need to put in 10 000 hours but I think it's actually really nice because I feel like there's some sense of determinism about being an expert at a thing if you spend ten thousand hours you can literally pick an arbitrary thing and I think if you spend ten thousand hours of deliberate effort and work you actually will become an expert at it and so I think it's kind of like a nice thought um and so uh basically I would focus more on like are you spending ten thousand hours that's what I'm focus on so and then thinking about what kind of mechanisms maximize your likelihood of getting to ten thousand dollars exactly which for us silly humans means probably forming a daily habit of like every single day actually doing the thing whatever helps you so I do think to a large extent is a psychological problem for yourself uh one other thing that I hope that I think is helpful for the psychology of it is many times people compare themselves to others in the area I think this is very harmful only compare yourself to you from some time ago like say a year ago are you better than you year ago this is the only way to think um and I think this then you can see your progress and it's very motivating that's so interesting that focus on the quantity of ours because I think a lot of people uh in the beginner stage but actually throughout get paralyzed uh by uh the choice like which one do I pick this path or this path yeah like they'll literally get paralyzed by like which ID to use well they're worried yeah they're worried about all these things but the thing is some of the you you will waste time doing something wrong yes you will eventually figure out it's not right you will accumulate scar tissue and next time you'll grow stronger because next time you'll have the scar tissue and next time you'll learn from it and now next time you come into a similar situation you'll be like all right I messed up I've spent a lot of time working on things that never materialize into anything and I have all that scar tissue and I have some intuitions about what was useful what wasn't useful how things turned out so all those mistakes were uh were not dead work you know so I just think you should just focus on working what have you done what have you done last week uh that's a good question actually to ask for for a lot of things not just machine learning um it's a good way to cut the the I forgot what the term will use but the fluff the blubber whatever the uh the inefficiencies in life uh what do you love about teaching you seem to find yourself often in the like drawn to teaching you're very good at it but you're also drawn to it I mean I don't think I love teaching I love happy humans and happy humans like when I teach yes I I wouldn't say I hate teaching I tolerate teaching but it's not like the act of teaching that I like it's it's that um you know I I have some I have something I'm actually okay at it yes I'm okay at teaching and people appreciate it a lot yeah and uh so I'm just happy to try to be helpful and uh teaching itself is not like the most I mean it's really no it can be really annoying frustrating I was working on a bunch of lectures just now I was reminded back to my days of 231 and just how much work it is to create some of these materials and make them good the amount of iteration and thought and you go down blind alleys and just how much you change it so creating something good um in terms of like educational value is really hard and uh it's not fun it's difficult so for people should definitely go watch your new stuff you put out there are lectures where you're actually building the thing like from like you said the code is truth so discussing uh back propagation by building it by looking through and just the whole thing so how difficult is that to prepare for I think that's a really powerful way to teach how did you have to prepare for that or are you just live thinking through it I will typically do like say three takes and then I take like the the better take uh so I do multiple takes and I take some of the better takes and then I just build out a lecture that way uh sometimes I have to delete 30 minutes of content because it just went down in alley that I didn't like too much there's about a bunch of iteration and it probably takes me you know somewhere around 10 hours to create one hour of content to give one hour it's interesting I mean is it difficult to go back to the like the basics do you draw a lot of like wisdom from going back to the basics yeah going back to back propagation loss functions where they come from and one thing I like about teaching a lot honestly is it definitely strengthens your understanding uh so it's not a purely altruistic activity it's a way to learn if you have to explain something to someone uh you realize you have gaps in knowledge uh and so I even surprised myself in those lectures like also the result will obviously look at this and then the result doesn't look like it and I'm like okay I thought I understood yeah but that's why it's really cool to literally code you run it in a notebook and it gives you a result and you're like oh wow yes and like actual numbers actual input X you know actual code yeah it's not mathematical symbols Etc the source of Truth is the code it's not slides it's just like let's build it it's beautiful you're a rare human in that sense'''\\n  TEXT :```{text}```\" template_format='f-string' validate_template=True\n",
            "Summary: The video transcript and text discuss the advice that the speaker, who is considered one of the greatest teachers of machine learning and AI, would give to beginners interested in getting into machine learning. The speaker emphasizes the importance of putting in 10,000 hours of deliberate effort and work to become an expert in any field. They suggest focusing on the quantity of hours spent rather than getting paralyzed by the choices and comparing oneself to others. The speaker also discusses the challenges of teaching and the benefits of going back to the basics to strengthen understanding.\n",
            "\n",
            "Key takeaways:\n",
            "1. Beginners should focus on the quantity of hours spent on machine learning rather than getting overwhelmed by choices.\n",
            "2. Putting in 10,000 hours of deliberate effort and work is crucial to becoming an expert in any field.\n",
            "3. It doesn't matter where the 10,000 hours are spent, as long as there is consistent effort and improvement.\n",
            "4. Comparing oneself to one's past self is more motivating and helpful than comparing to others.\n",
            "5. Making mistakes and accumulating scar tissue is part of the learning process and helps in future growth.\n",
            "6. It is important to focus on the work done and progress made, such as what has been accomplished in the past week.\n",
            "7. Teaching can be challenging and time-consuming, but it can also strengthen one's understanding of the subject matter.\n",
            "8. Building and coding in real-time during lectures can be a powerful way to teach and learn.\n",
            "9. Preparation for lectures involves multiple takes and iterations, sometimes requiring the deletion of content that doesn't meet expectations.\n",
            "10. Going back to the basics and understanding concepts like backpropagation and loss functions can enhance knowledge and learning in machine learning.\n",
            "CPU times: user 72.2 ms, sys: 12.6 ms, total: 84.8 ms\n",
            "Wall time: 12.4 s\n"
          ]
        }
      ]
    },
    {
      "cell_type": "markdown",
      "source": [
        "## Response Generated by GPT3"
      ],
      "metadata": {
        "id": "9-ZaIey00kBl"
      }
    },
    {
      "cell_type": "code",
      "source": [
        "%%time\n",
        "response = summarize(docs)\n",
        "print(response)"
      ],
      "metadata": {
        "colab": {
          "base_uri": "https://localhost:8080/"
        },
        "id": "w4jxZfEm0mby",
        "outputId": "ee558bb3-4446-473d-f966-4e779ba64d14"
      },
      "execution_count": 38,
      "outputs": [
        {
          "output_type": "stream",
          "name": "stdout",
          "text": [
            "input_variables=['text'] output_parser=None partial_variables={} template=\"You are an expert at making strong factual summarizations.Please provide a meaningful and concise summary base on the VIDEO TRANSCRIPT enclosed within 3 single quotes and \\n  text provided enclosed within 3 bacticks. Along with the summary please provide a point by point 10 key takeways from the video transcript and text. Don't include opinions.\\n  Give each key takeaways a number and keep them short and to the point.\\n\\n  VIDEO TRANSCRIPT: '''you're one of the greatest teachers of machine learning AI ever from cs231n to today what advice would you give to beginners interested in getting into machine learning beginners are often focused on like what to do and I think the focus should be more like how much you do so I I'm kind of like believer on a high level in this 10 000 hours kind of concept where you just kind of have to just pick the things where you can spend time and you you care about and you're interested in you literally have to put in 10 000 hours of work um it doesn't even like matter as much like where you put it and you'll iterate and you'll improve and you'll waste some time I don't know if there's a better way you need to put in 10 000 hours but I think it's actually really nice because I feel like there's some sense of determinism about being an expert at a thing if you spend ten thousand hours you can literally pick an arbitrary thing and I think if you spend ten thousand hours of deliberate effort and work you actually will become an expert at it and so I think it's kind of like a nice thought um and so uh basically I would focus more on like are you spending ten thousand hours that's what I'm focus on so and then thinking about what kind of mechanisms maximize your likelihood of getting to ten thousand dollars exactly which for us silly humans means probably forming a daily habit of like every single day actually doing the thing whatever helps you so I do think to a large extent is a psychological problem for yourself uh one other thing that I hope that I think is helpful for the psychology of it is many times people compare themselves to others in the area I think this is very harmful only compare yourself to you from some time ago like say a year ago are you better than you year ago this is the only way to think um and I think this then you can see your progress and it's very motivating that's so interesting that focus on the quantity of ours because I think a lot of people uh in the beginner stage but actually throughout get paralyzed uh by uh the choice like which one do I pick this path or this path yeah like they'll literally get paralyzed by like which ID to use well they're worried yeah they're worried about all these things but the thing is some of the you you will waste time doing something wrong yes you will eventually figure out it's not right you will accumulate scar tissue and next time you'll grow stronger because next time you'll have the scar tissue and next time you'll learn from it and now next time you come into a similar situation you'll be like all right I messed up I've spent a lot of time working on things that never materialize into anything and I have all that scar tissue and I have some intuitions about what was useful what wasn't useful how things turned out so all those mistakes were uh were not dead work you know so I just think you should just focus on working what have you done what have you done last week uh that's a good question actually to ask for for a lot of things not just machine learning um it's a good way to cut the the I forgot what the term will use but the fluff the blubber whatever the uh the inefficiencies in life uh what do you love about teaching you seem to find yourself often in the like drawn to teaching you're very good at it but you're also drawn to it I mean I don't think I love teaching I love happy humans and happy humans like when I teach yes I I wouldn't say I hate teaching I tolerate teaching but it's not like the act of teaching that I like it's it's that um you know I I have some I have something I'm actually okay at it yes I'm okay at teaching and people appreciate it a lot yeah and uh so I'm just happy to try to be helpful and uh teaching itself is not like the most I mean it's really no it can be really annoying frustrating I was working on a bunch of lectures just now I was reminded back to my days of 231 and just how much work it is to create some of these materials and make them good the amount of iteration and thought and you go down blind alleys and just how much you change it so creating something good um in terms of like educational value is really hard and uh it's not fun it's difficult so for people should definitely go watch your new stuff you put out there are lectures where you're actually building the thing like from like you said the code is truth so discussing uh back propagation by building it by looking through and just the whole thing so how difficult is that to prepare for I think that's a really powerful way to teach how did you have to prepare for that or are you just live thinking through it I will typically do like say three takes and then I take like the the better take uh so I do multiple takes and I take some of the better takes and then I just build out a lecture that way uh sometimes I have to delete 30 minutes of content because it just went down in alley that I didn't like too much there's about a bunch of iteration and it probably takes me you know somewhere around 10 hours to create one hour of content to give one hour it's interesting I mean is it difficult to go back to the like the basics do you draw a lot of like wisdom from going back to the basics yeah going back to back propagation loss functions where they come from and one thing I like about teaching a lot honestly is it definitely strengthens your understanding uh so it's not a purely altruistic activity it's a way to learn if you have to explain something to someone uh you realize you have gaps in knowledge uh and so I even surprised myself in those lectures like also the result will obviously look at this and then the result doesn't look like it and I'm like okay I thought I understood yeah but that's why it's really cool to literally code you run it in a notebook and it gives you a result and you're like oh wow yes and like actual numbers actual input X you know actual code yeah it's not mathematical symbols Etc the source of Truth is the code it's not slides it's just like let's build it it's beautiful you're a rare human in that sense'''\\n  TEXT :```{text}```\" template_format='f-string' validate_template=True\n",
            "Summary: The video transcript and text discuss the advice that the speaker, who is considered one of the greatest teachers of machine learning and AI, would give to beginners interested in getting into machine learning. The speaker emphasizes the importance of putting in 10,000 hours of deliberate effort and work to become an expert in any field. They suggest focusing on the quantity of hours spent rather than getting paralyzed by the choice of which path to take. The speaker also encourages comparing oneself to their past self to track progress and find motivation. They discuss the challenges of teaching and the value of building and coding to strengthen understanding. Overall, the speaker believes that teaching is a way to learn and be helpful to others.\n",
            "\n",
            "Key takeaways:\n",
            "1. Beginners should focus on the quantity of hours spent on machine learning rather than getting caught up in making the right choices.\n",
            "2. Putting in 10,000 hours of deliberate effort and work is crucial to becoming an expert in any field.\n",
            "3. Comparing oneself to their past self is a more helpful and motivating approach than comparing to others.\n",
            "4. Making mistakes and accumulating scar tissue is a valuable part of the learning process.\n",
            "5. Asking oneself what has been done in the past week is a good way to cut inefficiencies in life.\n",
            "6. The speaker does not necessarily love teaching, but they appreciate being able to help others and being okay at it.\n",
            "7. Creating educational materials that are of high quality and value is challenging and requires a lot of iteration and thought.\n",
            "8. Building and coding are powerful ways to teach and strengthen understanding.\n",
            "9. Teaching is not purely altruistic, as it also helps the teacher learn and identify gaps in their knowledge.\n",
            "10. The source of truth in teaching is the code, not slides or mathematical symbols.\n",
            "CPU times: user 160 ms, sys: 16.5 ms, total: 177 ms\n",
            "Wall time: 12.7 s\n"
          ]
        }
      ]
    },
    {
      "cell_type": "markdown",
      "source": [
        "## Response generated by GP4"
      ],
      "metadata": {
        "id": "82KyzKgv0E6_"
      }
    },
    {
      "cell_type": "code",
      "source": [
        "%%time\n",
        "response = summarize(docs)\n",
        "print(response)"
      ],
      "metadata": {
        "colab": {
          "base_uri": "https://localhost:8080/"
        },
        "id": "3Rl-z5qdzxxK",
        "outputId": "fa33fcee-c293-4796-fff0-f98587455359"
      },
      "execution_count": 75,
      "outputs": [
        {
          "output_type": "stream",
          "name": "stdout",
          "text": [
            "input_variables=['text'] output_parser=None partial_variables={} template=\"You are an expert at making strong factual summarizations.Please provide a meaningful and concise summary base on the VIDEO TRANSCRIPT enclosed within 3 single quotes, the VIDEO Metadata and \\n  text provided enclosed within 3 bacticks. Along with the summary please provide a point by point 10 key takeways from the video transcript and text. Don't include opinions.\\n  Then Give each key takeaways a number and keep them direct and to the point\\n  VIDEO Metadata : The tile of the video is Advice for machine learning beginners | Andrej Karpathy and Lex Fridman \\n  VIDEO TRANSCRIPT: '''you're one of the greatest teachers of machine learning AI ever from cs231n to today what advice would you give to beginners interested in getting into machine learning beginners are often focused on like what to do and I think the focus should be more like how much you do so I I'm kind of like believer on a high level in this 10 000 hours kind of concept where you just kind of have to just pick the things where you can spend time and you you care about and you're interested in you literally have to put in 10 000 hours of work um it doesn't even like matter as much like where you put it and you'll iterate and you'll improve and you'll waste some time I don't know if there's a better way you need to put in 10 000 hours but I think it's actually really nice because I feel like there's some sense of determinism about being an expert at a thing if you spend ten thousand hours you can literally pick an arbitrary thing and I think if you spend ten thousand hours of deliberate effort and work you actually will become an expert at it and so I think it's kind of like a nice thought um and so uh basically I would focus more on like are you spending ten thousand hours that's what I'm focus on so and then thinking about what kind of mechanisms maximize your likelihood of getting to ten thousand dollars exactly which for us silly humans means probably forming a daily habit of like every single day actually doing the thing whatever helps you so I do think to a large extent is a psychological problem for yourself uh one other thing that I hope that I think is helpful for the psychology of it is many times people compare themselves to others in the area I think this is very harmful only compare yourself to you from some time ago like say a year ago are you better than you year ago this is the only way to think um and I think this then you can see your progress and it's very motivating that's so interesting that focus on the quantity of ours because I think a lot of people uh in the beginner stage but actually throughout get paralyzed uh by uh the choice like which one do I pick this path or this path yeah like they'll literally get paralyzed by like which ID to use well they're worried yeah they're worried about all these things but the thing is some of the you you will waste time doing something wrong yes you will eventually figure out it's not right you will accumulate scar tissue and next time you'll grow stronger because next time you'll have the scar tissue and next time you'll learn from it and now next time you come into a similar situation you'll be like all right I messed up I've spent a lot of time working on things that never materialize into anything and I have all that scar tissue and I have some intuitions about what was useful what wasn't useful how things turned out so all those mistakes were uh were not dead work you know so I just think you should just focus on working what have you done what have you done last week uh that's a good question actually to ask for for a lot of things not just machine learning um it's a good way to cut the the I forgot what the term will use but the fluff the blubber whatever the uh the inefficiencies in life uh what do you love about teaching you seem to find yourself often in the like drawn to teaching you're very good at it but you're also drawn to it I mean I don't think I love teaching I love happy humans and happy humans like when I teach yes I I wouldn't say I hate teaching I tolerate teaching but it's not like the act of teaching that I like it's it's that um you know I I have some I have something I'm actually okay at it yes I'm okay at teaching and people appreciate it a lot yeah and uh so I'm just happy to try to be helpful and uh teaching itself is not like the most I mean it's really no it can be really annoying frustrating I was working on a bunch of lectures just now I was reminded back to my days of 231 and just how much work it is to create some of these materials and make them good the amount of iteration and thought and you go down blind alleys and just how much you change it so creating something good um in terms of like educational value is really hard and uh it's not fun it's difficult so for people should definitely go watch your new stuff you put out there are lectures where you're actually building the thing like from like you said the code is truth so discussing uh back propagation by building it by looking through and just the whole thing so how difficult is that to prepare for I think that's a really powerful way to teach how did you have to prepare for that or are you just live thinking through it I will typically do like say three takes and then I take like the the better take uh so I do multiple takes and I take some of the better takes and then I just build out a lecture that way uh sometimes I have to delete 30 minutes of content because it just went down in alley that I didn't like too much there's about a bunch of iteration and it probably takes me you know somewhere around 10 hours to create one hour of content to give one hour it's interesting I mean is it difficult to go back to the like the basics do you draw a lot of like wisdom from going back to the basics yeah going back to back propagation loss functions where they come from and one thing I like about teaching a lot honestly is it definitely strengthens your understanding uh so it's not a purely altruistic activity it's a way to learn if you have to explain something to someone uh you realize you have gaps in knowledge uh and so I even surprised myself in those lectures like also the result will obviously look at this and then the result doesn't look like it and I'm like okay I thought I understood yeah but that's why it's really cool to literally code you run it in a notebook and it gives you a result and you're like oh wow yes and like actual numbers actual input X you know actual code yeah it's not mathematical symbols Etc the source of Truth is the code it's not slides it's just like let's build it it's beautiful you're a rare human in that sense'''\\n  TEXT :```{text}```\" template_format='f-string' validate_template=True\n",
            "Summary:\n",
            "In the video titled \"Advice for machine learning beginners | Andrej Karpathy and Lex Fridman\", Andrej Karpathy, a renowned teacher of machine learning and AI, shares his advice for beginners in the field. He emphasizes the importance of investing time and effort, suggesting that 10,000 hours of deliberate work can make one an expert in any field. He also advises against comparing oneself to others, instead encouraging self-comparison to track personal growth. Karpathy also discusses the psychological challenges involved in learning and the importance of forming daily habits. He shares his experiences with teaching, stating that while it can be frustrating, it is rewarding to see the positive impact on students. He also highlights the importance of practical application in teaching, such as coding and running programs to understand concepts better.\n",
            "\n",
            "10 Key Takeaways:\n",
            "1. Beginners in machine learning should focus on the amount of time and effort they put into learning, rather than what specifically they are learning.\n",
            "2. The concept of 10,000 hours of deliberate work can lead to expertise in any field.\n",
            "3. It's important to form daily habits and routines to maximize the likelihood of reaching the 10,000-hour goal.\n",
            "4. Comparing oneself to others can be harmful; instead, one should compare their current self to their past self to track progress.\n",
            "5. Mistakes and failures are not wasted time but opportunities to learn and grow stronger.\n",
            "6. Asking oneself what they have accomplished in the past week can help cut inefficiencies and maintain focus.\n",
            "7. Teaching is not just about imparting knowledge but also about making a positive impact on students.\n",
            "8. Preparing educational materials and lectures is a challenging process that requires a lot of iteration and thought.\n",
            "9. Teaching also strengthens the teacher's understanding of the subject, as explaining concepts to others can reveal gaps in one's own knowledge.\n",
            "10. Practical application, such as coding and running programs, is a powerful way to understand and teach machine learning concepts.\n",
            "CPU times: user 497 ms, sys: 62.5 ms, total: 560 ms\n",
            "Wall time: 1min 15s\n"
          ]
        }
      ]
    },
    {
      "cell_type": "code",
      "source": [
        "%%time\n",
        "response = summarize(docs)\n",
        "print(response)"
      ],
      "metadata": {
        "colab": {
          "base_uri": "https://localhost:8080/"
        },
        "id": "tAsqfDCgkISa",
        "outputId": "dceb4b9a-f7ea-44b3-ae99-7c03486b02b6"
      },
      "execution_count": 44,
      "outputs": [
        {
          "output_type": "stream",
          "name": "stdout",
          "text": [
            "input_variables=['text'] output_parser=None partial_variables={} template=\"You are an expert at making strong factual summarizations.Please provide a meaningful and concise summary base on the VIDEO TRANSCRIPT enclosed within 3 single quotes and \\n  text provided enclosed within 3 bacticks. Along with the summary please provide a point by point 10 key takeways from the video transcript and text. Don't include opinions.\\n  Then Give each key takeaways a number and keep them direct and to the point\\n  VIDEO TRANSCRIPT: '''you're one of the greatest teachers of machine learning AI ever from cs231n to today what advice would you give to beginners interested in getting into machine learning beginners are often focused on like what to do and I think the focus should be more like how much you do so I I'm kind of like believer on a high level in this 10 000 hours kind of concept where you just kind of have to just pick the things where you can spend time and you you care about and you're interested in you literally have to put in 10 000 hours of work um it doesn't even like matter as much like where you put it and you'll iterate and you'll improve and you'll waste some time I don't know if there's a better way you need to put in 10 000 hours but I think it's actually really nice because I feel like there's some sense of determinism about being an expert at a thing if you spend ten thousand hours you can literally pick an arbitrary thing and I think if you spend ten thousand hours of deliberate effort and work you actually will become an expert at it and so I think it's kind of like a nice thought um and so uh basically I would focus more on like are you spending ten thousand hours that's what I'm focus on so and then thinking about what kind of mechanisms maximize your likelihood of getting to ten thousand dollars exactly which for us silly humans means probably forming a daily habit of like every single day actually doing the thing whatever helps you so I do think to a large extent is a psychological problem for yourself uh one other thing that I hope that I think is helpful for the psychology of it is many times people compare themselves to others in the area I think this is very harmful only compare yourself to you from some time ago like say a year ago are you better than you year ago this is the only way to think um and I think this then you can see your progress and it's very motivating that's so interesting that focus on the quantity of ours because I think a lot of people uh in the beginner stage but actually throughout get paralyzed uh by uh the choice like which one do I pick this path or this path yeah like they'll literally get paralyzed by like which ID to use well they're worried yeah they're worried about all these things but the thing is some of the you you will waste time doing something wrong yes you will eventually figure out it's not right you will accumulate scar tissue and next time you'll grow stronger because next time you'll have the scar tissue and next time you'll learn from it and now next time you come into a similar situation you'll be like all right I messed up I've spent a lot of time working on things that never materialize into anything and I have all that scar tissue and I have some intuitions about what was useful what wasn't useful how things turned out so all those mistakes were uh were not dead work you know so I just think you should just focus on working what have you done what have you done last week uh that's a good question actually to ask for for a lot of things not just machine learning um it's a good way to cut the the I forgot what the term will use but the fluff the blubber whatever the uh the inefficiencies in life uh what do you love about teaching you seem to find yourself often in the like drawn to teaching you're very good at it but you're also drawn to it I mean I don't think I love teaching I love happy humans and happy humans like when I teach yes I I wouldn't say I hate teaching I tolerate teaching but it's not like the act of teaching that I like it's it's that um you know I I have some I have something I'm actually okay at it yes I'm okay at teaching and people appreciate it a lot yeah and uh so I'm just happy to try to be helpful and uh teaching itself is not like the most I mean it's really no it can be really annoying frustrating I was working on a bunch of lectures just now I was reminded back to my days of 231 and just how much work it is to create some of these materials and make them good the amount of iteration and thought and you go down blind alleys and just how much you change it so creating something good um in terms of like educational value is really hard and uh it's not fun it's difficult so for people should definitely go watch your new stuff you put out there are lectures where you're actually building the thing like from like you said the code is truth so discussing uh back propagation by building it by looking through and just the whole thing so how difficult is that to prepare for I think that's a really powerful way to teach how did you have to prepare for that or are you just live thinking through it I will typically do like say three takes and then I take like the the better take uh so I do multiple takes and I take some of the better takes and then I just build out a lecture that way uh sometimes I have to delete 30 minutes of content because it just went down in alley that I didn't like too much there's about a bunch of iteration and it probably takes me you know somewhere around 10 hours to create one hour of content to give one hour it's interesting I mean is it difficult to go back to the like the basics do you draw a lot of like wisdom from going back to the basics yeah going back to back propagation loss functions where they come from and one thing I like about teaching a lot honestly is it definitely strengthens your understanding uh so it's not a purely altruistic activity it's a way to learn if you have to explain something to someone uh you realize you have gaps in knowledge uh and so I even surprised myself in those lectures like also the result will obviously look at this and then the result doesn't look like it and I'm like okay I thought I understood yeah but that's why it's really cool to literally code you run it in a notebook and it gives you a result and you're like oh wow yes and like actual numbers actual input X you know actual code yeah it's not mathematical symbols Etc the source of Truth is the code it's not slides it's just like let's build it it's beautiful you're a rare human in that sense'''\\n  TEXT :```{text}```\" template_format='f-string' validate_template=True\n",
            "Summary:\n",
            "The speaker, a renowned teacher of machine learning and AI, advises beginners in the field to focus on the quantity of work they do rather than what they do. He emphasizes the concept of spending 10,000 hours on deliberate effort and work to become an expert in any field. He also advises against comparing oneself to others, suggesting instead to compare oneself to their past self to track progress. The speaker also discusses the importance of learning from mistakes and the value of forming daily habits. He shares his experience with teaching, stating that while it can be frustrating, it is rewarding to help others and it strengthens one's own understanding. He also highlights the importance of practical application in teaching, such as coding, which he believes is the source of truth.\n",
            "\n",
            "Key Takeaways:\n",
            "1. Beginners in machine learning should focus on the quantity of work they do rather than what they do.\n",
            "2. The speaker believes in the concept of spending 10,000 hours on deliberate effort and work to become an expert in any field.\n",
            "3. It is harmful to compare oneself to others in the field; instead, one should compare oneself to their past self to track progress.\n",
            "4. Mistakes are not wasted efforts; they are opportunities to learn and grow stronger.\n",
            "5. Forming daily habits can help in achieving the goal of spending 10,000 hours on work.\n",
            "6. Teaching is not just about imparting knowledge; it also strengthens the teacher's understanding of the subject.\n",
            "7. Preparing for teaching, especially practical application like coding, requires a lot of effort and iteration.\n",
            "8. The speaker believes that the source of truth is not in slides or theoretical knowledge, but in practical application like coding.\n",
            "9. The speaker enjoys teaching not for the act itself, but for the opportunity to help others and the appreciation he receives.\n",
            "10. Despite the challenges and frustrations, the speaker finds value in teaching and encourages others to watch his lectures.\n",
            "CPU times: user 332 ms, sys: 40.1 ms, total: 372 ms\n",
            "Wall time: 44.2 s\n"
          ]
        }
      ]
    },
    {
      "cell_type": "markdown",
      "source": [
        "## YouTube video metadata and pass that as additional information to the LLM to improve the summary"
      ],
      "metadata": {
        "id": "UjoXImK8KSm4"
      }
    },
    {
      "cell_type": "code",
      "source": [
        "\n",
        "\n",
        "video_id = re.search(r'(?<=v=)[\\w-]+', url).group(0)\n",
        "    print(video_id)\n",
        "    try:\n",
        "        transcript = YouTubeTranscriptApi.get_transcript(video_id)\n",
        "        context = []\n",
        "        for line in transcript:\n",
        "            context.append(line['text'])\n",
        "        # Print out the transcript\n",
        "        #print(\" \".join(context))\n",
        "        content = \" \".join(context)\n",
        "    except Exception as e:\n",
        "        raise Exception(str(e))\n",
        "\n",
        "\n",
        "\n",
        "def print_transcript(transcript):\n",
        "    for item in transcript:\n",
        "        start_time = item['start']\n",
        "        end_time = item['start'] + item['duration']\n",
        "        text = item['text']\n",
        "        print(f\"{start_time} --> {end_time}: {text}\\n\")\n",
        "\n",
        "if __name__ == \"__main__\":\n",
        "    # Replace 'YOUR_VIDEO_ID' with the actual YouTube video ID\n",
        "    video_id = 'I2ZK3ngNvvI'\n",
        "\n",
        "    transcript = get_youtube_transcript(video_id)\n",
        "    if transcript:\n",
        "        print(\"Transcript:\\n\")\n",
        "        print_transcript(transcript)\n",
        "    else:\n",
        "        print(\"No transcript found for the given video.\")\n"
      ],
      "metadata": {
        "colab": {
          "base_uri": "https://localhost:8080/"
        },
        "id": "mYeJZk0UME9L",
        "outputId": "ac39e2db-30df-4843-e242-c8bed4ea2f18"
      },
      "execution_count": 4,
      "outputs": [
        {
          "output_type": "stream",
          "name": "stdout",
          "text": [
            "Transcript:\n",
            "\n",
            "2.76 --> 9.84: you're one of the greatest teachers of\n",
            "\n",
            "4.92 --> 12.36: machine learning AI ever from cs231n to\n",
            "\n",
            "9.84 --> 13.86: today what advice would you give to\n",
            "\n",
            "12.36 --> 15.42: beginners interested in getting into\n",
            "\n",
            "13.86 --> 19.14: machine learning\n",
            "\n",
            "15.42 --> 20.58: beginners are often focused on like what\n",
            "\n",
            "19.14 --> 23.279: to do and I think the focus should be\n",
            "\n",
            "20.58 --> 24.9: more like how much you do so I I'm kind\n",
            "\n",
            "23.279 --> 27.18: of like believer on a high level in this\n",
            "\n",
            "24.9 --> 28.619: 10 000 hours kind of concept where\n",
            "\n",
            "27.18 --> 30.0: you just kind of have to just pick the\n",
            "\n",
            "28.619 --> 31.259999999999998: things where you can spend time and you\n",
            "\n",
            "30.0 --> 32.7: you care about and you're interested in\n",
            "\n",
            "31.26 --> 33.96: you literally have to put in 10 000\n",
            "\n",
            "32.7 --> 35.46: hours of work\n",
            "\n",
            "33.96 --> 37.5: um it doesn't even like matter as much\n",
            "\n",
            "35.46 --> 39.239000000000004: like where you put it and you'll iterate\n",
            "\n",
            "37.5 --> 40.5: and you'll improve and you'll waste some\n",
            "\n",
            "39.239 --> 42.839999999999996: time I don't know if there's a better\n",
            "\n",
            "40.5 --> 43.68: way you need to put in 10 000 hours but\n",
            "\n",
            "42.84 --> 44.7: I think it's actually really nice\n",
            "\n",
            "43.68 --> 47.46: because I feel like there's some sense\n",
            "\n",
            "44.7 --> 48.78: of determinism about being an expert at\n",
            "\n",
            "47.46 --> 51.059: a thing if you spend ten thousand hours\n",
            "\n",
            "48.78 --> 52.8: you can literally pick an arbitrary\n",
            "\n",
            "51.059 --> 54.419999999999995: thing and I think if you spend ten\n",
            "\n",
            "52.8 --> 55.919999999999995: thousand hours of deliberate effort and\n",
            "\n",
            "54.42 --> 58.559000000000005: work you actually will become an expert\n",
            "\n",
            "55.92 --> 60.18: at it and so I think it's kind of like a\n",
            "\n",
            "58.559 --> 62.879: nice thought\n",
            "\n",
            "60.18 --> 64.44: um and so uh basically I would focus\n",
            "\n",
            "62.879 --> 66.24: more on like are you spending ten\n",
            "\n",
            "64.44 --> 68.15899999999999: thousand hours that's what I'm focus on\n",
            "\n",
            "66.24 --> 70.619: so and then thinking about what kind of\n",
            "\n",
            "68.159 --> 72.18: mechanisms maximize your likelihood of\n",
            "\n",
            "70.619 --> 75.36: getting to ten thousand dollars exactly\n",
            "\n",
            "72.18 --> 77.82000000000001: which for us silly humans means probably\n",
            "\n",
            "75.36 --> 79.2: forming a daily habit of like every\n",
            "\n",
            "77.82 --> 81.05999999999999: single day actually doing the thing\n",
            "\n",
            "79.2 --> 82.32000000000001: whatever helps you so I do think to a\n",
            "\n",
            "81.06 --> 84.659: large extent is a psychological problem\n",
            "\n",
            "82.32 --> 86.33999999999999: for yourself uh one other thing that I\n",
            "\n",
            "84.659 --> 88.02000000000001: hope that I think is helpful for the\n",
            "\n",
            "86.34 --> 89.7: psychology of it is many times people\n",
            "\n",
            "88.02 --> 91.56: compare themselves to others in the area\n",
            "\n",
            "89.7 --> 93.36: I think this is very harmful only\n",
            "\n",
            "91.56 --> 95.759: compare yourself to you from some time\n",
            "\n",
            "93.36 --> 97.74: ago like say a year ago are you better\n",
            "\n",
            "95.759 --> 99.0: than you year ago this is the only way\n",
            "\n",
            "97.74 --> 100.74: to think\n",
            "\n",
            "99.0 --> 102.18: um and I think this then you can see\n",
            "\n",
            "100.74 --> 104.939: your progress and it's very motivating\n",
            "\n",
            "102.18 --> 107.22000000000001: that's so interesting that focus on the\n",
            "\n",
            "104.939 --> 109.38: quantity of ours because I think a lot\n",
            "\n",
            "107.22 --> 112.079: of people uh in the beginner stage but\n",
            "\n",
            "109.38 --> 116.22: actually throughout get paralyzed\n",
            "\n",
            "112.079 --> 118.67999999999999: uh by uh the choice like which one do I\n",
            "\n",
            "116.22 --> 120.6: pick this path or this path yeah like\n",
            "\n",
            "118.68 --> 122.399: they'll literally get paralyzed by like\n",
            "\n",
            "120.6 --> 123.65899999999999: which ID to use well they're worried\n",
            "\n",
            "122.399 --> 125.64: yeah they're worried about all these\n",
            "\n",
            "123.659 --> 127.02000000000001: things but the thing is some of the you\n",
            "\n",
            "125.64 --> 128.459: you will waste time doing something\n",
            "\n",
            "127.02 --> 129.899: wrong yes you will eventually figure out\n",
            "\n",
            "128.459 --> 132.12: it's not right you will accumulate scar\n",
            "\n",
            "129.899 --> 133.44: tissue and next time you'll grow\n",
            "\n",
            "132.12 --> 135.239: stronger because next time you'll have\n",
            "\n",
            "133.44 --> 137.22: the scar tissue and next time you'll\n",
            "\n",
            "135.239 --> 138.59900000000002: learn from it and now next time you come\n",
            "\n",
            "137.22 --> 139.68: into a similar situation you'll be like\n",
            "\n",
            "138.599 --> 142.01999999999998: all right\n",
            "\n",
            "139.68 --> 143.52: I messed up I've spent a lot of time\n",
            "\n",
            "142.02 --> 145.20000000000002: working on things that never materialize\n",
            "\n",
            "143.52 --> 146.58: into anything and I have all that scar\n",
            "\n",
            "145.2 --> 148.5: tissue and I have some intuitions about\n",
            "\n",
            "146.58 --> 150.48000000000002: what was useful what wasn't useful how\n",
            "\n",
            "148.5 --> 153.48: things turned out so all those mistakes\n",
            "\n",
            "150.48 --> 154.85999999999999: were uh were not dead work you know so I\n",
            "\n",
            "153.48 --> 157.07999999999998: just think you should just focus on\n",
            "\n",
            "154.86 --> 158.87900000000002: working what have you done what have you\n",
            "\n",
            "157.08 --> 161.04000000000002: done last week\n",
            "\n",
            "158.879 --> 163.07999999999998: uh that's a good question actually to\n",
            "\n",
            "161.04 --> 164.7: ask for for a lot of things not just\n",
            "\n",
            "163.08 --> 167.09900000000002: machine learning\n",
            "\n",
            "164.7 --> 168.89999999999998: um it's a good way to cut the\n",
            "\n",
            "167.099 --> 171.959: the I forgot what the term will use but\n",
            "\n",
            "168.9 --> 174.48000000000002: the fluff the blubber whatever the uh\n",
            "\n",
            "171.959 --> 177.42000000000002: the inefficiencies in life uh what do\n",
            "\n",
            "174.48 --> 178.56: you love about teaching you seem to find\n",
            "\n",
            "177.42 --> 180.66: yourself\n",
            "\n",
            "178.56 --> 182.099: often in the like drawn to teaching\n",
            "\n",
            "180.66 --> 183.66: you're very good at it but you're also\n",
            "\n",
            "182.099 --> 186.83999999999997: drawn to it I mean I don't think I love\n",
            "\n",
            "183.66 --> 190.26: teaching I love happy humans\n",
            "\n",
            "186.84 --> 191.64000000000001: and happy humans like when I teach yes I\n",
            "\n",
            "190.26 --> 193.07999999999998: I wouldn't say I hate teaching I\n",
            "\n",
            "191.64 --> 194.819: tolerate teaching but it's not like the\n",
            "\n",
            "193.08 --> 198.0: act of teaching that I like it's it's\n",
            "\n",
            "194.819 --> 200.28: that um you know I I have some I have\n",
            "\n",
            "198.0 --> 201.48: something I'm actually okay at it yes\n",
            "\n",
            "200.28 --> 204.42: I'm okay at teaching and people\n",
            "\n",
            "201.48 --> 206.879: appreciate it a lot yeah and uh so I'm\n",
            "\n",
            "204.42 --> 209.22: just happy to try to be helpful and uh\n",
            "\n",
            "206.879 --> 210.54: teaching itself is not like the most I\n",
            "\n",
            "209.22 --> 212.4: mean it's really no it can be really\n",
            "\n",
            "210.54 --> 213.959: annoying frustrating I was working on a\n",
            "\n",
            "212.4 --> 216.3: bunch of lectures just now I was\n",
            "\n",
            "213.959 --> 218.04: reminded back to my days of 231 and just\n",
            "\n",
            "216.3 --> 219.59900000000002: how much work it is to create some of\n",
            "\n",
            "218.04 --> 221.159: these materials and make them good the\n",
            "\n",
            "219.599 --> 222.959: amount of iteration and thought and you\n",
            "\n",
            "221.159 --> 226.019: go down blind alleys and just how much\n",
            "\n",
            "222.959 --> 227.879: you change it so creating something good\n",
            "\n",
            "226.019 --> 231.18: um in terms of like educational value is\n",
            "\n",
            "227.879 --> 232.739: really hard and uh it's not fun it's\n",
            "\n",
            "231.18 --> 234.54000000000002: difficult so for people should\n",
            "\n",
            "232.739 --> 236.64000000000001: definitely go watch your new stuff you\n",
            "\n",
            "234.54 --> 238.019: put out there are lectures where you're\n",
            "\n",
            "236.64 --> 240.17999999999998: actually building the thing like from\n",
            "\n",
            "238.019 --> 242.70000000000002: like you said the code is truth so\n",
            "\n",
            "240.18 --> 244.739: discussing uh back propagation by\n",
            "\n",
            "242.7 --> 246.23899999999998: building it by looking through and just\n",
            "\n",
            "244.739 --> 247.799: the whole thing so how difficult is that\n",
            "\n",
            "246.239 --> 250.019: to prepare for I think that's a really\n",
            "\n",
            "247.799 --> 252.12: powerful way to teach how did you have\n",
            "\n",
            "250.019 --> 254.58: to prepare for that or are you just live\n",
            "\n",
            "252.12 --> 256.199: thinking through it I will typically do\n",
            "\n",
            "254.58 --> 258.479: like say three takes and then I take\n",
            "\n",
            "256.199 --> 259.68: like the the better take uh so I do\n",
            "\n",
            "258.479 --> 260.82: multiple takes and I take some of the\n",
            "\n",
            "259.68 --> 262.919: better takes and then I just build out a\n",
            "\n",
            "260.82 --> 264.9: lecture that way uh sometimes I have to\n",
            "\n",
            "262.919 --> 266.09999999999997: delete 30 minutes of content because it\n",
            "\n",
            "264.9 --> 267.9: just went down in alley that I didn't\n",
            "\n",
            "266.1 --> 270.54: like too much there's about a bunch of\n",
            "\n",
            "267.9 --> 271.79999999999995: iteration and it probably takes me you\n",
            "\n",
            "270.54 --> 273.47900000000004: know somewhere around 10 hours to create\n",
            "\n",
            "271.8 --> 276.0: one hour of content to give one hour\n",
            "\n",
            "273.479 --> 278.46: it's interesting I mean is it difficult\n",
            "\n",
            "276.0 --> 280.68: to go back to the like the basics do you\n",
            "\n",
            "278.46 --> 282.29999999999995: draw a lot of like wisdom from going\n",
            "\n",
            "280.68 --> 283.68: back to the basics yeah going back to\n",
            "\n",
            "282.3 --> 285.0: back propagation loss functions where\n",
            "\n",
            "283.68 --> 287.1: they come from and one thing I like\n",
            "\n",
            "285.0 --> 288.06: about teaching a lot honestly is it\n",
            "\n",
            "287.1 --> 290.759: definitely strengthens your\n",
            "\n",
            "288.06 --> 292.5: understanding uh so it's not a purely\n",
            "\n",
            "290.759 --> 294.6: altruistic activity it's a way to learn\n",
            "\n",
            "292.5 --> 297.18: if you have to explain something to\n",
            "\n",
            "294.6 --> 300.47900000000004: someone uh you realize you have gaps in\n",
            "\n",
            "297.18 --> 302.46: knowledge uh and so I even surprised\n",
            "\n",
            "300.479 --> 303.9: myself in those lectures like also the\n",
            "\n",
            "302.46 --> 305.09999999999997: result will obviously look at this and\n",
            "\n",
            "303.9 --> 306.9: then the result doesn't look like it and\n",
            "\n",
            "305.1 --> 308.24: I'm like okay I thought I understood\n",
            "\n",
            "306.9 --> 310.34: yeah\n",
            "\n",
            "308.24 --> 313.08: but that's why it's really cool to\n",
            "\n",
            "310.34 --> 314.58: literally code you run it in a notebook\n",
            "\n",
            "313.08 --> 316.85999999999996: and it gives you a result and you're\n",
            "\n",
            "314.58 --> 319.08: like oh wow yes and like actual numbers\n",
            "\n",
            "316.86 --> 320.82: actual input X you know actual code yeah\n",
            "\n",
            "319.08 --> 322.5: it's not mathematical symbols Etc the\n",
            "\n",
            "320.82 --> 324.84: source of Truth is the code it's not\n",
            "\n",
            "322.5 --> 326.88: slides it's just like let's build it\n",
            "\n",
            "324.84 --> 329.23999999999995: it's beautiful you're a rare human in\n",
            "\n",
            "326.88 --> 329.24: that sense\n",
            "\n"
          ]
        }
      ]
    }
  ]
}