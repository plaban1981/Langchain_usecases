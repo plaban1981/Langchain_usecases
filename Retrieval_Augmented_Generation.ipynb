{
  "nbformat": 4,
  "nbformat_minor": 0,
  "metadata": {
    "colab": {
      "provenance": [],
      "authorship_tag": "ABX9TyO97BDpH/Q+Ajs7Bznmxxw7",
      "include_colab_link": true
    },
    "kernelspec": {
      "name": "python3",
      "display_name": "Python 3"
    },
    "language_info": {
      "name": "python"
    },
    "widgets": {
      "application/vnd.jupyter.widget-state+json": {
        "c8d5671cbc79412d889563d9446f98f7": {
          "model_module": "@jupyter-widgets/controls",
          "model_name": "HBoxModel",
          "model_module_version": "1.5.0",
          "state": {
            "_dom_classes": [],
            "_model_module": "@jupyter-widgets/controls",
            "_model_module_version": "1.5.0",
            "_model_name": "HBoxModel",
            "_view_count": null,
            "_view_module": "@jupyter-widgets/controls",
            "_view_module_version": "1.5.0",
            "_view_name": "HBoxView",
            "box_style": "",
            "children": [
              "IPY_MODEL_99d23f42e3704e1e9a3cbc45675b0720",
              "IPY_MODEL_cf0c8624c6434071a7fad3fde8d90753",
              "IPY_MODEL_c7d32c75a709401c9bdaf2eac684e765"
            ],
            "layout": "IPY_MODEL_ca07682ad00847e4a62cd62e9961ca30"
          }
        },
        "99d23f42e3704e1e9a3cbc45675b0720": {
          "model_module": "@jupyter-widgets/controls",
          "model_name": "HTMLModel",
          "model_module_version": "1.5.0",
          "state": {
            "_dom_classes": [],
            "_model_module": "@jupyter-widgets/controls",
            "_model_module_version": "1.5.0",
            "_model_name": "HTMLModel",
            "_view_count": null,
            "_view_module": "@jupyter-widgets/controls",
            "_view_module_version": "1.5.0",
            "_view_name": "HTMLView",
            "description": "",
            "description_tooltip": null,
            "layout": "IPY_MODEL_948c7c97e5b94ecfb670071754c80684",
            "placeholder": "​",
            "style": "IPY_MODEL_2a0f710cc38f4b3992d4f5332b26f0a4",
            "value": ""
          }
        },
        "cf0c8624c6434071a7fad3fde8d90753": {
          "model_module": "@jupyter-widgets/controls",
          "model_name": "FloatProgressModel",
          "model_module_version": "1.5.0",
          "state": {
            "_dom_classes": [],
            "_model_module": "@jupyter-widgets/controls",
            "_model_module_version": "1.5.0",
            "_model_name": "FloatProgressModel",
            "_view_count": null,
            "_view_module": "@jupyter-widgets/controls",
            "_view_module_version": "1.5.0",
            "_view_name": "ProgressView",
            "bar_style": "success",
            "description": "",
            "description_tooltip": null,
            "layout": "IPY_MODEL_38e0386191a842289970f4021e34a876",
            "max": 1,
            "min": 0,
            "orientation": "horizontal",
            "style": "IPY_MODEL_145a8be66e7c44c689ee5da45708cfc1",
            "value": 1
          }
        },
        "c7d32c75a709401c9bdaf2eac684e765": {
          "model_module": "@jupyter-widgets/controls",
          "model_name": "HTMLModel",
          "model_module_version": "1.5.0",
          "state": {
            "_dom_classes": [],
            "_model_module": "@jupyter-widgets/controls",
            "_model_module_version": "1.5.0",
            "_model_name": "HTMLModel",
            "_view_count": null,
            "_view_module": "@jupyter-widgets/controls",
            "_view_module_version": "1.5.0",
            "_view_name": "HTMLView",
            "description": "",
            "description_tooltip": null,
            "layout": "IPY_MODEL_bad4c152336d4a3b8db36e9fdd278fd7",
            "placeholder": "​",
            "style": "IPY_MODEL_0ec29462462545e8a6484634484f7fb0",
            "value": " 44/? [00:00&lt;00:00, 715.62it/s]"
          }
        },
        "ca07682ad00847e4a62cd62e9961ca30": {
          "model_module": "@jupyter-widgets/base",
          "model_name": "LayoutModel",
          "model_module_version": "1.2.0",
          "state": {
            "_model_module": "@jupyter-widgets/base",
            "_model_module_version": "1.2.0",
            "_model_name": "LayoutModel",
            "_view_count": null,
            "_view_module": "@jupyter-widgets/base",
            "_view_module_version": "1.2.0",
            "_view_name": "LayoutView",
            "align_content": null,
            "align_items": null,
            "align_self": null,
            "border": null,
            "bottom": null,
            "display": null,
            "flex": null,
            "flex_flow": null,
            "grid_area": null,
            "grid_auto_columns": null,
            "grid_auto_flow": null,
            "grid_auto_rows": null,
            "grid_column": null,
            "grid_gap": null,
            "grid_row": null,
            "grid_template_areas": null,
            "grid_template_columns": null,
            "grid_template_rows": null,
            "height": null,
            "justify_content": null,
            "justify_items": null,
            "left": null,
            "margin": null,
            "max_height": null,
            "max_width": null,
            "min_height": null,
            "min_width": null,
            "object_fit": null,
            "object_position": null,
            "order": null,
            "overflow": null,
            "overflow_x": null,
            "overflow_y": null,
            "padding": null,
            "right": null,
            "top": null,
            "visibility": null,
            "width": null
          }
        },
        "948c7c97e5b94ecfb670071754c80684": {
          "model_module": "@jupyter-widgets/base",
          "model_name": "LayoutModel",
          "model_module_version": "1.2.0",
          "state": {
            "_model_module": "@jupyter-widgets/base",
            "_model_module_version": "1.2.0",
            "_model_name": "LayoutModel",
            "_view_count": null,
            "_view_module": "@jupyter-widgets/base",
            "_view_module_version": "1.2.0",
            "_view_name": "LayoutView",
            "align_content": null,
            "align_items": null,
            "align_self": null,
            "border": null,
            "bottom": null,
            "display": null,
            "flex": null,
            "flex_flow": null,
            "grid_area": null,
            "grid_auto_columns": null,
            "grid_auto_flow": null,
            "grid_auto_rows": null,
            "grid_column": null,
            "grid_gap": null,
            "grid_row": null,
            "grid_template_areas": null,
            "grid_template_columns": null,
            "grid_template_rows": null,
            "height": null,
            "justify_content": null,
            "justify_items": null,
            "left": null,
            "margin": null,
            "max_height": null,
            "max_width": null,
            "min_height": null,
            "min_width": null,
            "object_fit": null,
            "object_position": null,
            "order": null,
            "overflow": null,
            "overflow_x": null,
            "overflow_y": null,
            "padding": null,
            "right": null,
            "top": null,
            "visibility": null,
            "width": null
          }
        },
        "2a0f710cc38f4b3992d4f5332b26f0a4": {
          "model_module": "@jupyter-widgets/controls",
          "model_name": "DescriptionStyleModel",
          "model_module_version": "1.5.0",
          "state": {
            "_model_module": "@jupyter-widgets/controls",
            "_model_module_version": "1.5.0",
            "_model_name": "DescriptionStyleModel",
            "_view_count": null,
            "_view_module": "@jupyter-widgets/base",
            "_view_module_version": "1.2.0",
            "_view_name": "StyleView",
            "description_width": ""
          }
        },
        "38e0386191a842289970f4021e34a876": {
          "model_module": "@jupyter-widgets/base",
          "model_name": "LayoutModel",
          "model_module_version": "1.2.0",
          "state": {
            "_model_module": "@jupyter-widgets/base",
            "_model_module_version": "1.2.0",
            "_model_name": "LayoutModel",
            "_view_count": null,
            "_view_module": "@jupyter-widgets/base",
            "_view_module_version": "1.2.0",
            "_view_name": "LayoutView",
            "align_content": null,
            "align_items": null,
            "align_self": null,
            "border": null,
            "bottom": null,
            "display": null,
            "flex": null,
            "flex_flow": null,
            "grid_area": null,
            "grid_auto_columns": null,
            "grid_auto_flow": null,
            "grid_auto_rows": null,
            "grid_column": null,
            "grid_gap": null,
            "grid_row": null,
            "grid_template_areas": null,
            "grid_template_columns": null,
            "grid_template_rows": null,
            "height": null,
            "justify_content": null,
            "justify_items": null,
            "left": null,
            "margin": null,
            "max_height": null,
            "max_width": null,
            "min_height": null,
            "min_width": null,
            "object_fit": null,
            "object_position": null,
            "order": null,
            "overflow": null,
            "overflow_x": null,
            "overflow_y": null,
            "padding": null,
            "right": null,
            "top": null,
            "visibility": null,
            "width": "20px"
          }
        },
        "145a8be66e7c44c689ee5da45708cfc1": {
          "model_module": "@jupyter-widgets/controls",
          "model_name": "ProgressStyleModel",
          "model_module_version": "1.5.0",
          "state": {
            "_model_module": "@jupyter-widgets/controls",
            "_model_module_version": "1.5.0",
            "_model_name": "ProgressStyleModel",
            "_view_count": null,
            "_view_module": "@jupyter-widgets/base",
            "_view_module_version": "1.2.0",
            "_view_name": "StyleView",
            "bar_color": null,
            "description_width": ""
          }
        },
        "bad4c152336d4a3b8db36e9fdd278fd7": {
          "model_module": "@jupyter-widgets/base",
          "model_name": "LayoutModel",
          "model_module_version": "1.2.0",
          "state": {
            "_model_module": "@jupyter-widgets/base",
            "_model_module_version": "1.2.0",
            "_model_name": "LayoutModel",
            "_view_count": null,
            "_view_module": "@jupyter-widgets/base",
            "_view_module_version": "1.2.0",
            "_view_name": "LayoutView",
            "align_content": null,
            "align_items": null,
            "align_self": null,
            "border": null,
            "bottom": null,
            "display": null,
            "flex": null,
            "flex_flow": null,
            "grid_area": null,
            "grid_auto_columns": null,
            "grid_auto_flow": null,
            "grid_auto_rows": null,
            "grid_column": null,
            "grid_gap": null,
            "grid_row": null,
            "grid_template_areas": null,
            "grid_template_columns": null,
            "grid_template_rows": null,
            "height": null,
            "justify_content": null,
            "justify_items": null,
            "left": null,
            "margin": null,
            "max_height": null,
            "max_width": null,
            "min_height": null,
            "min_width": null,
            "object_fit": null,
            "object_position": null,
            "order": null,
            "overflow": null,
            "overflow_x": null,
            "overflow_y": null,
            "padding": null,
            "right": null,
            "top": null,
            "visibility": null,
            "width": null
          }
        },
        "0ec29462462545e8a6484634484f7fb0": {
          "model_module": "@jupyter-widgets/controls",
          "model_name": "DescriptionStyleModel",
          "model_module_version": "1.5.0",
          "state": {
            "_model_module": "@jupyter-widgets/controls",
            "_model_module_version": "1.5.0",
            "_model_name": "DescriptionStyleModel",
            "_view_count": null,
            "_view_module": "@jupyter-widgets/base",
            "_view_module_version": "1.2.0",
            "_view_name": "StyleView",
            "description_width": ""
          }
        },
        "e6c6966a74af43519206c2b374ded916": {
          "model_module": "@jupyter-widgets/controls",
          "model_name": "HBoxModel",
          "model_module_version": "1.5.0",
          "state": {
            "_dom_classes": [],
            "_model_module": "@jupyter-widgets/controls",
            "_model_module_version": "1.5.0",
            "_model_name": "HBoxModel",
            "_view_count": null,
            "_view_module": "@jupyter-widgets/controls",
            "_view_module_version": "1.5.0",
            "_view_name": "HBoxView",
            "box_style": "",
            "children": [
              "IPY_MODEL_10a78f45b6d14a27893e635f0fa13a38",
              "IPY_MODEL_8406425be1674f888e533694c1760e60",
              "IPY_MODEL_6f0191a1c7384a3ba06e2130998cf12f"
            ],
            "layout": "IPY_MODEL_8fc4f9601b4f4e46b0815cd58f05dd42"
          }
        },
        "10a78f45b6d14a27893e635f0fa13a38": {
          "model_module": "@jupyter-widgets/controls",
          "model_name": "HTMLModel",
          "model_module_version": "1.5.0",
          "state": {
            "_dom_classes": [],
            "_model_module": "@jupyter-widgets/controls",
            "_model_module_version": "1.5.0",
            "_model_name": "HTMLModel",
            "_view_count": null,
            "_view_module": "@jupyter-widgets/controls",
            "_view_module_version": "1.5.0",
            "_view_name": "HTMLView",
            "description": "",
            "description_tooltip": null,
            "layout": "IPY_MODEL_70547caa052148ff97847702f95098fd",
            "placeholder": "​",
            "style": "IPY_MODEL_cf917edaacfa4d5ca514dd0e0aedb162",
            "value": "Downloading (…)a8e1d/.gitattributes: 100%"
          }
        },
        "8406425be1674f888e533694c1760e60": {
          "model_module": "@jupyter-widgets/controls",
          "model_name": "FloatProgressModel",
          "model_module_version": "1.5.0",
          "state": {
            "_dom_classes": [],
            "_model_module": "@jupyter-widgets/controls",
            "_model_module_version": "1.5.0",
            "_model_name": "FloatProgressModel",
            "_view_count": null,
            "_view_module": "@jupyter-widgets/controls",
            "_view_module_version": "1.5.0",
            "_view_name": "ProgressView",
            "bar_style": "success",
            "description": "",
            "description_tooltip": null,
            "layout": "IPY_MODEL_cf68901ac8134b8f8fe581a8f8d9455d",
            "max": 1175,
            "min": 0,
            "orientation": "horizontal",
            "style": "IPY_MODEL_89fec76ea2c14c8f8c145e0b07c3e61b",
            "value": 1175
          }
        },
        "6f0191a1c7384a3ba06e2130998cf12f": {
          "model_module": "@jupyter-widgets/controls",
          "model_name": "HTMLModel",
          "model_module_version": "1.5.0",
          "state": {
            "_dom_classes": [],
            "_model_module": "@jupyter-widgets/controls",
            "_model_module_version": "1.5.0",
            "_model_name": "HTMLModel",
            "_view_count": null,
            "_view_module": "@jupyter-widgets/controls",
            "_view_module_version": "1.5.0",
            "_view_name": "HTMLView",
            "description": "",
            "description_tooltip": null,
            "layout": "IPY_MODEL_a34573d3848a4b29abd2a86550384ca2",
            "placeholder": "​",
            "style": "IPY_MODEL_5598514b6f5941eca54b253b5c070e25",
            "value": " 1.18k/1.18k [00:00&lt;00:00, 44.6kB/s]"
          }
        },
        "8fc4f9601b4f4e46b0815cd58f05dd42": {
          "model_module": "@jupyter-widgets/base",
          "model_name": "LayoutModel",
          "model_module_version": "1.2.0",
          "state": {
            "_model_module": "@jupyter-widgets/base",
            "_model_module_version": "1.2.0",
            "_model_name": "LayoutModel",
            "_view_count": null,
            "_view_module": "@jupyter-widgets/base",
            "_view_module_version": "1.2.0",
            "_view_name": "LayoutView",
            "align_content": null,
            "align_items": null,
            "align_self": null,
            "border": null,
            "bottom": null,
            "display": null,
            "flex": null,
            "flex_flow": null,
            "grid_area": null,
            "grid_auto_columns": null,
            "grid_auto_flow": null,
            "grid_auto_rows": null,
            "grid_column": null,
            "grid_gap": null,
            "grid_row": null,
            "grid_template_areas": null,
            "grid_template_columns": null,
            "grid_template_rows": null,
            "height": null,
            "justify_content": null,
            "justify_items": null,
            "left": null,
            "margin": null,
            "max_height": null,
            "max_width": null,
            "min_height": null,
            "min_width": null,
            "object_fit": null,
            "object_position": null,
            "order": null,
            "overflow": null,
            "overflow_x": null,
            "overflow_y": null,
            "padding": null,
            "right": null,
            "top": null,
            "visibility": null,
            "width": null
          }
        },
        "70547caa052148ff97847702f95098fd": {
          "model_module": "@jupyter-widgets/base",
          "model_name": "LayoutModel",
          "model_module_version": "1.2.0",
          "state": {
            "_model_module": "@jupyter-widgets/base",
            "_model_module_version": "1.2.0",
            "_model_name": "LayoutModel",
            "_view_count": null,
            "_view_module": "@jupyter-widgets/base",
            "_view_module_version": "1.2.0",
            "_view_name": "LayoutView",
            "align_content": null,
            "align_items": null,
            "align_self": null,
            "border": null,
            "bottom": null,
            "display": null,
            "flex": null,
            "flex_flow": null,
            "grid_area": null,
            "grid_auto_columns": null,
            "grid_auto_flow": null,
            "grid_auto_rows": null,
            "grid_column": null,
            "grid_gap": null,
            "grid_row": null,
            "grid_template_areas": null,
            "grid_template_columns": null,
            "grid_template_rows": null,
            "height": null,
            "justify_content": null,
            "justify_items": null,
            "left": null,
            "margin": null,
            "max_height": null,
            "max_width": null,
            "min_height": null,
            "min_width": null,
            "object_fit": null,
            "object_position": null,
            "order": null,
            "overflow": null,
            "overflow_x": null,
            "overflow_y": null,
            "padding": null,
            "right": null,
            "top": null,
            "visibility": null,
            "width": null
          }
        },
        "cf917edaacfa4d5ca514dd0e0aedb162": {
          "model_module": "@jupyter-widgets/controls",
          "model_name": "DescriptionStyleModel",
          "model_module_version": "1.5.0",
          "state": {
            "_model_module": "@jupyter-widgets/controls",
            "_model_module_version": "1.5.0",
            "_model_name": "DescriptionStyleModel",
            "_view_count": null,
            "_view_module": "@jupyter-widgets/base",
            "_view_module_version": "1.2.0",
            "_view_name": "StyleView",
            "description_width": ""
          }
        },
        "cf68901ac8134b8f8fe581a8f8d9455d": {
          "model_module": "@jupyter-widgets/base",
          "model_name": "LayoutModel",
          "model_module_version": "1.2.0",
          "state": {
            "_model_module": "@jupyter-widgets/base",
            "_model_module_version": "1.2.0",
            "_model_name": "LayoutModel",
            "_view_count": null,
            "_view_module": "@jupyter-widgets/base",
            "_view_module_version": "1.2.0",
            "_view_name": "LayoutView",
            "align_content": null,
            "align_items": null,
            "align_self": null,
            "border": null,
            "bottom": null,
            "display": null,
            "flex": null,
            "flex_flow": null,
            "grid_area": null,
            "grid_auto_columns": null,
            "grid_auto_flow": null,
            "grid_auto_rows": null,
            "grid_column": null,
            "grid_gap": null,
            "grid_row": null,
            "grid_template_areas": null,
            "grid_template_columns": null,
            "grid_template_rows": null,
            "height": null,
            "justify_content": null,
            "justify_items": null,
            "left": null,
            "margin": null,
            "max_height": null,
            "max_width": null,
            "min_height": null,
            "min_width": null,
            "object_fit": null,
            "object_position": null,
            "order": null,
            "overflow": null,
            "overflow_x": null,
            "overflow_y": null,
            "padding": null,
            "right": null,
            "top": null,
            "visibility": null,
            "width": null
          }
        },
        "89fec76ea2c14c8f8c145e0b07c3e61b": {
          "model_module": "@jupyter-widgets/controls",
          "model_name": "ProgressStyleModel",
          "model_module_version": "1.5.0",
          "state": {
            "_model_module": "@jupyter-widgets/controls",
            "_model_module_version": "1.5.0",
            "_model_name": "ProgressStyleModel",
            "_view_count": null,
            "_view_module": "@jupyter-widgets/base",
            "_view_module_version": "1.2.0",
            "_view_name": "StyleView",
            "bar_color": null,
            "description_width": ""
          }
        },
        "a34573d3848a4b29abd2a86550384ca2": {
          "model_module": "@jupyter-widgets/base",
          "model_name": "LayoutModel",
          "model_module_version": "1.2.0",
          "state": {
            "_model_module": "@jupyter-widgets/base",
            "_model_module_version": "1.2.0",
            "_model_name": "LayoutModel",
            "_view_count": null,
            "_view_module": "@jupyter-widgets/base",
            "_view_module_version": "1.2.0",
            "_view_name": "LayoutView",
            "align_content": null,
            "align_items": null,
            "align_self": null,
            "border": null,
            "bottom": null,
            "display": null,
            "flex": null,
            "flex_flow": null,
            "grid_area": null,
            "grid_auto_columns": null,
            "grid_auto_flow": null,
            "grid_auto_rows": null,
            "grid_column": null,
            "grid_gap": null,
            "grid_row": null,
            "grid_template_areas": null,
            "grid_template_columns": null,
            "grid_template_rows": null,
            "height": null,
            "justify_content": null,
            "justify_items": null,
            "left": null,
            "margin": null,
            "max_height": null,
            "max_width": null,
            "min_height": null,
            "min_width": null,
            "object_fit": null,
            "object_position": null,
            "order": null,
            "overflow": null,
            "overflow_x": null,
            "overflow_y": null,
            "padding": null,
            "right": null,
            "top": null,
            "visibility": null,
            "width": null
          }
        },
        "5598514b6f5941eca54b253b5c070e25": {
          "model_module": "@jupyter-widgets/controls",
          "model_name": "DescriptionStyleModel",
          "model_module_version": "1.5.0",
          "state": {
            "_model_module": "@jupyter-widgets/controls",
            "_model_module_version": "1.5.0",
            "_model_name": "DescriptionStyleModel",
            "_view_count": null,
            "_view_module": "@jupyter-widgets/base",
            "_view_module_version": "1.2.0",
            "_view_name": "StyleView",
            "description_width": ""
          }
        },
        "3c704dd08d2449f6b995c3d8971f9475": {
          "model_module": "@jupyter-widgets/controls",
          "model_name": "HBoxModel",
          "model_module_version": "1.5.0",
          "state": {
            "_dom_classes": [],
            "_model_module": "@jupyter-widgets/controls",
            "_model_module_version": "1.5.0",
            "_model_name": "HBoxModel",
            "_view_count": null,
            "_view_module": "@jupyter-widgets/controls",
            "_view_module_version": "1.5.0",
            "_view_name": "HBoxView",
            "box_style": "",
            "children": [
              "IPY_MODEL_845516f07796419b88eda99ecc66441b",
              "IPY_MODEL_9ed0766e451c4eb0863412562e445028",
              "IPY_MODEL_771764adb633445287f4275552e35289"
            ],
            "layout": "IPY_MODEL_d8de2f61c79d49a88327edd0764c5adc"
          }
        },
        "845516f07796419b88eda99ecc66441b": {
          "model_module": "@jupyter-widgets/controls",
          "model_name": "HTMLModel",
          "model_module_version": "1.5.0",
          "state": {
            "_dom_classes": [],
            "_model_module": "@jupyter-widgets/controls",
            "_model_module_version": "1.5.0",
            "_model_name": "HTMLModel",
            "_view_count": null,
            "_view_module": "@jupyter-widgets/controls",
            "_view_module_version": "1.5.0",
            "_view_name": "HTMLView",
            "description": "",
            "description_tooltip": null,
            "layout": "IPY_MODEL_64f048fb2312479b90529aada6f50793",
            "placeholder": "​",
            "style": "IPY_MODEL_6b110f6f175e47d49fc94b7de5c3a2c9",
            "value": "Downloading (…)_Pooling/config.json: 100%"
          }
        },
        "9ed0766e451c4eb0863412562e445028": {
          "model_module": "@jupyter-widgets/controls",
          "model_name": "FloatProgressModel",
          "model_module_version": "1.5.0",
          "state": {
            "_dom_classes": [],
            "_model_module": "@jupyter-widgets/controls",
            "_model_module_version": "1.5.0",
            "_model_name": "FloatProgressModel",
            "_view_count": null,
            "_view_module": "@jupyter-widgets/controls",
            "_view_module_version": "1.5.0",
            "_view_name": "ProgressView",
            "bar_style": "success",
            "description": "",
            "description_tooltip": null,
            "layout": "IPY_MODEL_96ce2cf731f8433588b37077190a7ef1",
            "max": 190,
            "min": 0,
            "orientation": "horizontal",
            "style": "IPY_MODEL_e27f47b9701b4d1eaffb582f05c9aedf",
            "value": 190
          }
        },
        "771764adb633445287f4275552e35289": {
          "model_module": "@jupyter-widgets/controls",
          "model_name": "HTMLModel",
          "model_module_version": "1.5.0",
          "state": {
            "_dom_classes": [],
            "_model_module": "@jupyter-widgets/controls",
            "_model_module_version": "1.5.0",
            "_model_name": "HTMLModel",
            "_view_count": null,
            "_view_module": "@jupyter-widgets/controls",
            "_view_module_version": "1.5.0",
            "_view_name": "HTMLView",
            "description": "",
            "description_tooltip": null,
            "layout": "IPY_MODEL_d4066e81c3804a829dd87f46958bf414",
            "placeholder": "​",
            "style": "IPY_MODEL_118f472d59c848efaae3095f8742cb74",
            "value": " 190/190 [00:00&lt;00:00, 8.77kB/s]"
          }
        },
        "d8de2f61c79d49a88327edd0764c5adc": {
          "model_module": "@jupyter-widgets/base",
          "model_name": "LayoutModel",
          "model_module_version": "1.2.0",
          "state": {
            "_model_module": "@jupyter-widgets/base",
            "_model_module_version": "1.2.0",
            "_model_name": "LayoutModel",
            "_view_count": null,
            "_view_module": "@jupyter-widgets/base",
            "_view_module_version": "1.2.0",
            "_view_name": "LayoutView",
            "align_content": null,
            "align_items": null,
            "align_self": null,
            "border": null,
            "bottom": null,
            "display": null,
            "flex": null,
            "flex_flow": null,
            "grid_area": null,
            "grid_auto_columns": null,
            "grid_auto_flow": null,
            "grid_auto_rows": null,
            "grid_column": null,
            "grid_gap": null,
            "grid_row": null,
            "grid_template_areas": null,
            "grid_template_columns": null,
            "grid_template_rows": null,
            "height": null,
            "justify_content": null,
            "justify_items": null,
            "left": null,
            "margin": null,
            "max_height": null,
            "max_width": null,
            "min_height": null,
            "min_width": null,
            "object_fit": null,
            "object_position": null,
            "order": null,
            "overflow": null,
            "overflow_x": null,
            "overflow_y": null,
            "padding": null,
            "right": null,
            "top": null,
            "visibility": null,
            "width": null
          }
        },
        "64f048fb2312479b90529aada6f50793": {
          "model_module": "@jupyter-widgets/base",
          "model_name": "LayoutModel",
          "model_module_version": "1.2.0",
          "state": {
            "_model_module": "@jupyter-widgets/base",
            "_model_module_version": "1.2.0",
            "_model_name": "LayoutModel",
            "_view_count": null,
            "_view_module": "@jupyter-widgets/base",
            "_view_module_version": "1.2.0",
            "_view_name": "LayoutView",
            "align_content": null,
            "align_items": null,
            "align_self": null,
            "border": null,
            "bottom": null,
            "display": null,
            "flex": null,
            "flex_flow": null,
            "grid_area": null,
            "grid_auto_columns": null,
            "grid_auto_flow": null,
            "grid_auto_rows": null,
            "grid_column": null,
            "grid_gap": null,
            "grid_row": null,
            "grid_template_areas": null,
            "grid_template_columns": null,
            "grid_template_rows": null,
            "height": null,
            "justify_content": null,
            "justify_items": null,
            "left": null,
            "margin": null,
            "max_height": null,
            "max_width": null,
            "min_height": null,
            "min_width": null,
            "object_fit": null,
            "object_position": null,
            "order": null,
            "overflow": null,
            "overflow_x": null,
            "overflow_y": null,
            "padding": null,
            "right": null,
            "top": null,
            "visibility": null,
            "width": null
          }
        },
        "6b110f6f175e47d49fc94b7de5c3a2c9": {
          "model_module": "@jupyter-widgets/controls",
          "model_name": "DescriptionStyleModel",
          "model_module_version": "1.5.0",
          "state": {
            "_model_module": "@jupyter-widgets/controls",
            "_model_module_version": "1.5.0",
            "_model_name": "DescriptionStyleModel",
            "_view_count": null,
            "_view_module": "@jupyter-widgets/base",
            "_view_module_version": "1.2.0",
            "_view_name": "StyleView",
            "description_width": ""
          }
        },
        "96ce2cf731f8433588b37077190a7ef1": {
          "model_module": "@jupyter-widgets/base",
          "model_name": "LayoutModel",
          "model_module_version": "1.2.0",
          "state": {
            "_model_module": "@jupyter-widgets/base",
            "_model_module_version": "1.2.0",
            "_model_name": "LayoutModel",
            "_view_count": null,
            "_view_module": "@jupyter-widgets/base",
            "_view_module_version": "1.2.0",
            "_view_name": "LayoutView",
            "align_content": null,
            "align_items": null,
            "align_self": null,
            "border": null,
            "bottom": null,
            "display": null,
            "flex": null,
            "flex_flow": null,
            "grid_area": null,
            "grid_auto_columns": null,
            "grid_auto_flow": null,
            "grid_auto_rows": null,
            "grid_column": null,
            "grid_gap": null,
            "grid_row": null,
            "grid_template_areas": null,
            "grid_template_columns": null,
            "grid_template_rows": null,
            "height": null,
            "justify_content": null,
            "justify_items": null,
            "left": null,
            "margin": null,
            "max_height": null,
            "max_width": null,
            "min_height": null,
            "min_width": null,
            "object_fit": null,
            "object_position": null,
            "order": null,
            "overflow": null,
            "overflow_x": null,
            "overflow_y": null,
            "padding": null,
            "right": null,
            "top": null,
            "visibility": null,
            "width": null
          }
        },
        "e27f47b9701b4d1eaffb582f05c9aedf": {
          "model_module": "@jupyter-widgets/controls",
          "model_name": "ProgressStyleModel",
          "model_module_version": "1.5.0",
          "state": {
            "_model_module": "@jupyter-widgets/controls",
            "_model_module_version": "1.5.0",
            "_model_name": "ProgressStyleModel",
            "_view_count": null,
            "_view_module": "@jupyter-widgets/base",
            "_view_module_version": "1.2.0",
            "_view_name": "StyleView",
            "bar_color": null,
            "description_width": ""
          }
        },
        "d4066e81c3804a829dd87f46958bf414": {
          "model_module": "@jupyter-widgets/base",
          "model_name": "LayoutModel",
          "model_module_version": "1.2.0",
          "state": {
            "_model_module": "@jupyter-widgets/base",
            "_model_module_version": "1.2.0",
            "_model_name": "LayoutModel",
            "_view_count": null,
            "_view_module": "@jupyter-widgets/base",
            "_view_module_version": "1.2.0",
            "_view_name": "LayoutView",
            "align_content": null,
            "align_items": null,
            "align_self": null,
            "border": null,
            "bottom": null,
            "display": null,
            "flex": null,
            "flex_flow": null,
            "grid_area": null,
            "grid_auto_columns": null,
            "grid_auto_flow": null,
            "grid_auto_rows": null,
            "grid_column": null,
            "grid_gap": null,
            "grid_row": null,
            "grid_template_areas": null,
            "grid_template_columns": null,
            "grid_template_rows": null,
            "height": null,
            "justify_content": null,
            "justify_items": null,
            "left": null,
            "margin": null,
            "max_height": null,
            "max_width": null,
            "min_height": null,
            "min_width": null,
            "object_fit": null,
            "object_position": null,
            "order": null,
            "overflow": null,
            "overflow_x": null,
            "overflow_y": null,
            "padding": null,
            "right": null,
            "top": null,
            "visibility": null,
            "width": null
          }
        },
        "118f472d59c848efaae3095f8742cb74": {
          "model_module": "@jupyter-widgets/controls",
          "model_name": "DescriptionStyleModel",
          "model_module_version": "1.5.0",
          "state": {
            "_model_module": "@jupyter-widgets/controls",
            "_model_module_version": "1.5.0",
            "_model_name": "DescriptionStyleModel",
            "_view_count": null,
            "_view_module": "@jupyter-widgets/base",
            "_view_module_version": "1.2.0",
            "_view_name": "StyleView",
            "description_width": ""
          }
        },
        "576fc99257de470383312dc0724f8745": {
          "model_module": "@jupyter-widgets/controls",
          "model_name": "HBoxModel",
          "model_module_version": "1.5.0",
          "state": {
            "_dom_classes": [],
            "_model_module": "@jupyter-widgets/controls",
            "_model_module_version": "1.5.0",
            "_model_name": "HBoxModel",
            "_view_count": null,
            "_view_module": "@jupyter-widgets/controls",
            "_view_module_version": "1.5.0",
            "_view_name": "HBoxView",
            "box_style": "",
            "children": [
              "IPY_MODEL_7acdad1310624115bb0281458715ef37",
              "IPY_MODEL_aea96ba02cc74c37925411306f419729",
              "IPY_MODEL_b79e742c1b9048759024e310bed668b6"
            ],
            "layout": "IPY_MODEL_3857fb24fc6c4f7f89c16d00571e0ac4"
          }
        },
        "7acdad1310624115bb0281458715ef37": {
          "model_module": "@jupyter-widgets/controls",
          "model_name": "HTMLModel",
          "model_module_version": "1.5.0",
          "state": {
            "_dom_classes": [],
            "_model_module": "@jupyter-widgets/controls",
            "_model_module_version": "1.5.0",
            "_model_name": "HTMLModel",
            "_view_count": null,
            "_view_module": "@jupyter-widgets/controls",
            "_view_module_version": "1.5.0",
            "_view_name": "HTMLView",
            "description": "",
            "description_tooltip": null,
            "layout": "IPY_MODEL_35bcb7ad1c49469bbd4f283a2242aaf5",
            "placeholder": "​",
            "style": "IPY_MODEL_f1289fbceccc47c08b377444fb33238c",
            "value": "Downloading (…)b20bca8e1d/README.md: 100%"
          }
        },
        "aea96ba02cc74c37925411306f419729": {
          "model_module": "@jupyter-widgets/controls",
          "model_name": "FloatProgressModel",
          "model_module_version": "1.5.0",
          "state": {
            "_dom_classes": [],
            "_model_module": "@jupyter-widgets/controls",
            "_model_module_version": "1.5.0",
            "_model_name": "FloatProgressModel",
            "_view_count": null,
            "_view_module": "@jupyter-widgets/controls",
            "_view_module_version": "1.5.0",
            "_view_name": "ProgressView",
            "bar_style": "success",
            "description": "",
            "description_tooltip": null,
            "layout": "IPY_MODEL_1b41c60800184b10a30d9e72589944fa",
            "max": 10571,
            "min": 0,
            "orientation": "horizontal",
            "style": "IPY_MODEL_0e6777fc535647688fff0b9fd2c22eaf",
            "value": 10571
          }
        },
        "b79e742c1b9048759024e310bed668b6": {
          "model_module": "@jupyter-widgets/controls",
          "model_name": "HTMLModel",
          "model_module_version": "1.5.0",
          "state": {
            "_dom_classes": [],
            "_model_module": "@jupyter-widgets/controls",
            "_model_module_version": "1.5.0",
            "_model_name": "HTMLModel",
            "_view_count": null,
            "_view_module": "@jupyter-widgets/controls",
            "_view_module_version": "1.5.0",
            "_view_name": "HTMLView",
            "description": "",
            "description_tooltip": null,
            "layout": "IPY_MODEL_4d911d39e9ce44e984d0a2c17a1db8cf",
            "placeholder": "​",
            "style": "IPY_MODEL_ec7978a6d7f8459ba16742ff611bf59d",
            "value": " 10.6k/10.6k [00:00&lt;00:00, 343kB/s]"
          }
        },
        "3857fb24fc6c4f7f89c16d00571e0ac4": {
          "model_module": "@jupyter-widgets/base",
          "model_name": "LayoutModel",
          "model_module_version": "1.2.0",
          "state": {
            "_model_module": "@jupyter-widgets/base",
            "_model_module_version": "1.2.0",
            "_model_name": "LayoutModel",
            "_view_count": null,
            "_view_module": "@jupyter-widgets/base",
            "_view_module_version": "1.2.0",
            "_view_name": "LayoutView",
            "align_content": null,
            "align_items": null,
            "align_self": null,
            "border": null,
            "bottom": null,
            "display": null,
            "flex": null,
            "flex_flow": null,
            "grid_area": null,
            "grid_auto_columns": null,
            "grid_auto_flow": null,
            "grid_auto_rows": null,
            "grid_column": null,
            "grid_gap": null,
            "grid_row": null,
            "grid_template_areas": null,
            "grid_template_columns": null,
            "grid_template_rows": null,
            "height": null,
            "justify_content": null,
            "justify_items": null,
            "left": null,
            "margin": null,
            "max_height": null,
            "max_width": null,
            "min_height": null,
            "min_width": null,
            "object_fit": null,
            "object_position": null,
            "order": null,
            "overflow": null,
            "overflow_x": null,
            "overflow_y": null,
            "padding": null,
            "right": null,
            "top": null,
            "visibility": null,
            "width": null
          }
        },
        "35bcb7ad1c49469bbd4f283a2242aaf5": {
          "model_module": "@jupyter-widgets/base",
          "model_name": "LayoutModel",
          "model_module_version": "1.2.0",
          "state": {
            "_model_module": "@jupyter-widgets/base",
            "_model_module_version": "1.2.0",
            "_model_name": "LayoutModel",
            "_view_count": null,
            "_view_module": "@jupyter-widgets/base",
            "_view_module_version": "1.2.0",
            "_view_name": "LayoutView",
            "align_content": null,
            "align_items": null,
            "align_self": null,
            "border": null,
            "bottom": null,
            "display": null,
            "flex": null,
            "flex_flow": null,
            "grid_area": null,
            "grid_auto_columns": null,
            "grid_auto_flow": null,
            "grid_auto_rows": null,
            "grid_column": null,
            "grid_gap": null,
            "grid_row": null,
            "grid_template_areas": null,
            "grid_template_columns": null,
            "grid_template_rows": null,
            "height": null,
            "justify_content": null,
            "justify_items": null,
            "left": null,
            "margin": null,
            "max_height": null,
            "max_width": null,
            "min_height": null,
            "min_width": null,
            "object_fit": null,
            "object_position": null,
            "order": null,
            "overflow": null,
            "overflow_x": null,
            "overflow_y": null,
            "padding": null,
            "right": null,
            "top": null,
            "visibility": null,
            "width": null
          }
        },
        "f1289fbceccc47c08b377444fb33238c": {
          "model_module": "@jupyter-widgets/controls",
          "model_name": "DescriptionStyleModel",
          "model_module_version": "1.5.0",
          "state": {
            "_model_module": "@jupyter-widgets/controls",
            "_model_module_version": "1.5.0",
            "_model_name": "DescriptionStyleModel",
            "_view_count": null,
            "_view_module": "@jupyter-widgets/base",
            "_view_module_version": "1.2.0",
            "_view_name": "StyleView",
            "description_width": ""
          }
        },
        "1b41c60800184b10a30d9e72589944fa": {
          "model_module": "@jupyter-widgets/base",
          "model_name": "LayoutModel",
          "model_module_version": "1.2.0",
          "state": {
            "_model_module": "@jupyter-widgets/base",
            "_model_module_version": "1.2.0",
            "_model_name": "LayoutModel",
            "_view_count": null,
            "_view_module": "@jupyter-widgets/base",
            "_view_module_version": "1.2.0",
            "_view_name": "LayoutView",
            "align_content": null,
            "align_items": null,
            "align_self": null,
            "border": null,
            "bottom": null,
            "display": null,
            "flex": null,
            "flex_flow": null,
            "grid_area": null,
            "grid_auto_columns": null,
            "grid_auto_flow": null,
            "grid_auto_rows": null,
            "grid_column": null,
            "grid_gap": null,
            "grid_row": null,
            "grid_template_areas": null,
            "grid_template_columns": null,
            "grid_template_rows": null,
            "height": null,
            "justify_content": null,
            "justify_items": null,
            "left": null,
            "margin": null,
            "max_height": null,
            "max_width": null,
            "min_height": null,
            "min_width": null,
            "object_fit": null,
            "object_position": null,
            "order": null,
            "overflow": null,
            "overflow_x": null,
            "overflow_y": null,
            "padding": null,
            "right": null,
            "top": null,
            "visibility": null,
            "width": null
          }
        },
        "0e6777fc535647688fff0b9fd2c22eaf": {
          "model_module": "@jupyter-widgets/controls",
          "model_name": "ProgressStyleModel",
          "model_module_version": "1.5.0",
          "state": {
            "_model_module": "@jupyter-widgets/controls",
            "_model_module_version": "1.5.0",
            "_model_name": "ProgressStyleModel",
            "_view_count": null,
            "_view_module": "@jupyter-widgets/base",
            "_view_module_version": "1.2.0",
            "_view_name": "StyleView",
            "bar_color": null,
            "description_width": ""
          }
        },
        "4d911d39e9ce44e984d0a2c17a1db8cf": {
          "model_module": "@jupyter-widgets/base",
          "model_name": "LayoutModel",
          "model_module_version": "1.2.0",
          "state": {
            "_model_module": "@jupyter-widgets/base",
            "_model_module_version": "1.2.0",
            "_model_name": "LayoutModel",
            "_view_count": null,
            "_view_module": "@jupyter-widgets/base",
            "_view_module_version": "1.2.0",
            "_view_name": "LayoutView",
            "align_content": null,
            "align_items": null,
            "align_self": null,
            "border": null,
            "bottom": null,
            "display": null,
            "flex": null,
            "flex_flow": null,
            "grid_area": null,
            "grid_auto_columns": null,
            "grid_auto_flow": null,
            "grid_auto_rows": null,
            "grid_column": null,
            "grid_gap": null,
            "grid_row": null,
            "grid_template_areas": null,
            "grid_template_columns": null,
            "grid_template_rows": null,
            "height": null,
            "justify_content": null,
            "justify_items": null,
            "left": null,
            "margin": null,
            "max_height": null,
            "max_width": null,
            "min_height": null,
            "min_width": null,
            "object_fit": null,
            "object_position": null,
            "order": null,
            "overflow": null,
            "overflow_x": null,
            "overflow_y": null,
            "padding": null,
            "right": null,
            "top": null,
            "visibility": null,
            "width": null
          }
        },
        "ec7978a6d7f8459ba16742ff611bf59d": {
          "model_module": "@jupyter-widgets/controls",
          "model_name": "DescriptionStyleModel",
          "model_module_version": "1.5.0",
          "state": {
            "_model_module": "@jupyter-widgets/controls",
            "_model_module_version": "1.5.0",
            "_model_name": "DescriptionStyleModel",
            "_view_count": null,
            "_view_module": "@jupyter-widgets/base",
            "_view_module_version": "1.2.0",
            "_view_name": "StyleView",
            "description_width": ""
          }
        },
        "fa868545bdcc45a8823c3065286cf48e": {
          "model_module": "@jupyter-widgets/controls",
          "model_name": "HBoxModel",
          "model_module_version": "1.5.0",
          "state": {
            "_dom_classes": [],
            "_model_module": "@jupyter-widgets/controls",
            "_model_module_version": "1.5.0",
            "_model_name": "HBoxModel",
            "_view_count": null,
            "_view_module": "@jupyter-widgets/controls",
            "_view_module_version": "1.5.0",
            "_view_name": "HBoxView",
            "box_style": "",
            "children": [
              "IPY_MODEL_04d12a4243d84188b4606a1e11505007",
              "IPY_MODEL_35b0b8955c3e47cc94048a73a9e32948",
              "IPY_MODEL_8d381b2665914c308f7004436c71221b"
            ],
            "layout": "IPY_MODEL_921b5e9ed3f8459bbc2850a2569ca476"
          }
        },
        "04d12a4243d84188b4606a1e11505007": {
          "model_module": "@jupyter-widgets/controls",
          "model_name": "HTMLModel",
          "model_module_version": "1.5.0",
          "state": {
            "_dom_classes": [],
            "_model_module": "@jupyter-widgets/controls",
            "_model_module_version": "1.5.0",
            "_model_name": "HTMLModel",
            "_view_count": null,
            "_view_module": "@jupyter-widgets/controls",
            "_view_module_version": "1.5.0",
            "_view_name": "HTMLView",
            "description": "",
            "description_tooltip": null,
            "layout": "IPY_MODEL_e4e74c652f6b4721b5eae498e6953558",
            "placeholder": "​",
            "style": "IPY_MODEL_30fef949f0994d83a1a30782d708f76e",
            "value": "Downloading (…)0bca8e1d/config.json: 100%"
          }
        },
        "35b0b8955c3e47cc94048a73a9e32948": {
          "model_module": "@jupyter-widgets/controls",
          "model_name": "FloatProgressModel",
          "model_module_version": "1.5.0",
          "state": {
            "_dom_classes": [],
            "_model_module": "@jupyter-widgets/controls",
            "_model_module_version": "1.5.0",
            "_model_name": "FloatProgressModel",
            "_view_count": null,
            "_view_module": "@jupyter-widgets/controls",
            "_view_module_version": "1.5.0",
            "_view_name": "ProgressView",
            "bar_style": "success",
            "description": "",
            "description_tooltip": null,
            "layout": "IPY_MODEL_0009bd37d0a0482587880c2af42bf7a6",
            "max": 571,
            "min": 0,
            "orientation": "horizontal",
            "style": "IPY_MODEL_bbfc03c503234ddb91e481876be562a4",
            "value": 571
          }
        },
        "8d381b2665914c308f7004436c71221b": {
          "model_module": "@jupyter-widgets/controls",
          "model_name": "HTMLModel",
          "model_module_version": "1.5.0",
          "state": {
            "_dom_classes": [],
            "_model_module": "@jupyter-widgets/controls",
            "_model_module_version": "1.5.0",
            "_model_name": "HTMLModel",
            "_view_count": null,
            "_view_module": "@jupyter-widgets/controls",
            "_view_module_version": "1.5.0",
            "_view_name": "HTMLView",
            "description": "",
            "description_tooltip": null,
            "layout": "IPY_MODEL_156b6efd0d9d480d95ebc50e3b53a4c2",
            "placeholder": "​",
            "style": "IPY_MODEL_c9d95d56595a4973989f1bbbc8e64dfc",
            "value": " 571/571 [00:00&lt;00:00, 11.9kB/s]"
          }
        },
        "921b5e9ed3f8459bbc2850a2569ca476": {
          "model_module": "@jupyter-widgets/base",
          "model_name": "LayoutModel",
          "model_module_version": "1.2.0",
          "state": {
            "_model_module": "@jupyter-widgets/base",
            "_model_module_version": "1.2.0",
            "_model_name": "LayoutModel",
            "_view_count": null,
            "_view_module": "@jupyter-widgets/base",
            "_view_module_version": "1.2.0",
            "_view_name": "LayoutView",
            "align_content": null,
            "align_items": null,
            "align_self": null,
            "border": null,
            "bottom": null,
            "display": null,
            "flex": null,
            "flex_flow": null,
            "grid_area": null,
            "grid_auto_columns": null,
            "grid_auto_flow": null,
            "grid_auto_rows": null,
            "grid_column": null,
            "grid_gap": null,
            "grid_row": null,
            "grid_template_areas": null,
            "grid_template_columns": null,
            "grid_template_rows": null,
            "height": null,
            "justify_content": null,
            "justify_items": null,
            "left": null,
            "margin": null,
            "max_height": null,
            "max_width": null,
            "min_height": null,
            "min_width": null,
            "object_fit": null,
            "object_position": null,
            "order": null,
            "overflow": null,
            "overflow_x": null,
            "overflow_y": null,
            "padding": null,
            "right": null,
            "top": null,
            "visibility": null,
            "width": null
          }
        },
        "e4e74c652f6b4721b5eae498e6953558": {
          "model_module": "@jupyter-widgets/base",
          "model_name": "LayoutModel",
          "model_module_version": "1.2.0",
          "state": {
            "_model_module": "@jupyter-widgets/base",
            "_model_module_version": "1.2.0",
            "_model_name": "LayoutModel",
            "_view_count": null,
            "_view_module": "@jupyter-widgets/base",
            "_view_module_version": "1.2.0",
            "_view_name": "LayoutView",
            "align_content": null,
            "align_items": null,
            "align_self": null,
            "border": null,
            "bottom": null,
            "display": null,
            "flex": null,
            "flex_flow": null,
            "grid_area": null,
            "grid_auto_columns": null,
            "grid_auto_flow": null,
            "grid_auto_rows": null,
            "grid_column": null,
            "grid_gap": null,
            "grid_row": null,
            "grid_template_areas": null,
            "grid_template_columns": null,
            "grid_template_rows": null,
            "height": null,
            "justify_content": null,
            "justify_items": null,
            "left": null,
            "margin": null,
            "max_height": null,
            "max_width": null,
            "min_height": null,
            "min_width": null,
            "object_fit": null,
            "object_position": null,
            "order": null,
            "overflow": null,
            "overflow_x": null,
            "overflow_y": null,
            "padding": null,
            "right": null,
            "top": null,
            "visibility": null,
            "width": null
          }
        },
        "30fef949f0994d83a1a30782d708f76e": {
          "model_module": "@jupyter-widgets/controls",
          "model_name": "DescriptionStyleModel",
          "model_module_version": "1.5.0",
          "state": {
            "_model_module": "@jupyter-widgets/controls",
            "_model_module_version": "1.5.0",
            "_model_name": "DescriptionStyleModel",
            "_view_count": null,
            "_view_module": "@jupyter-widgets/base",
            "_view_module_version": "1.2.0",
            "_view_name": "StyleView",
            "description_width": ""
          }
        },
        "0009bd37d0a0482587880c2af42bf7a6": {
          "model_module": "@jupyter-widgets/base",
          "model_name": "LayoutModel",
          "model_module_version": "1.2.0",
          "state": {
            "_model_module": "@jupyter-widgets/base",
            "_model_module_version": "1.2.0",
            "_model_name": "LayoutModel",
            "_view_count": null,
            "_view_module": "@jupyter-widgets/base",
            "_view_module_version": "1.2.0",
            "_view_name": "LayoutView",
            "align_content": null,
            "align_items": null,
            "align_self": null,
            "border": null,
            "bottom": null,
            "display": null,
            "flex": null,
            "flex_flow": null,
            "grid_area": null,
            "grid_auto_columns": null,
            "grid_auto_flow": null,
            "grid_auto_rows": null,
            "grid_column": null,
            "grid_gap": null,
            "grid_row": null,
            "grid_template_areas": null,
            "grid_template_columns": null,
            "grid_template_rows": null,
            "height": null,
            "justify_content": null,
            "justify_items": null,
            "left": null,
            "margin": null,
            "max_height": null,
            "max_width": null,
            "min_height": null,
            "min_width": null,
            "object_fit": null,
            "object_position": null,
            "order": null,
            "overflow": null,
            "overflow_x": null,
            "overflow_y": null,
            "padding": null,
            "right": null,
            "top": null,
            "visibility": null,
            "width": null
          }
        },
        "bbfc03c503234ddb91e481876be562a4": {
          "model_module": "@jupyter-widgets/controls",
          "model_name": "ProgressStyleModel",
          "model_module_version": "1.5.0",
          "state": {
            "_model_module": "@jupyter-widgets/controls",
            "_model_module_version": "1.5.0",
            "_model_name": "ProgressStyleModel",
            "_view_count": null,
            "_view_module": "@jupyter-widgets/base",
            "_view_module_version": "1.2.0",
            "_view_name": "StyleView",
            "bar_color": null,
            "description_width": ""
          }
        },
        "156b6efd0d9d480d95ebc50e3b53a4c2": {
          "model_module": "@jupyter-widgets/base",
          "model_name": "LayoutModel",
          "model_module_version": "1.2.0",
          "state": {
            "_model_module": "@jupyter-widgets/base",
            "_model_module_version": "1.2.0",
            "_model_name": "LayoutModel",
            "_view_count": null,
            "_view_module": "@jupyter-widgets/base",
            "_view_module_version": "1.2.0",
            "_view_name": "LayoutView",
            "align_content": null,
            "align_items": null,
            "align_self": null,
            "border": null,
            "bottom": null,
            "display": null,
            "flex": null,
            "flex_flow": null,
            "grid_area": null,
            "grid_auto_columns": null,
            "grid_auto_flow": null,
            "grid_auto_rows": null,
            "grid_column": null,
            "grid_gap": null,
            "grid_row": null,
            "grid_template_areas": null,
            "grid_template_columns": null,
            "grid_template_rows": null,
            "height": null,
            "justify_content": null,
            "justify_items": null,
            "left": null,
            "margin": null,
            "max_height": null,
            "max_width": null,
            "min_height": null,
            "min_width": null,
            "object_fit": null,
            "object_position": null,
            "order": null,
            "overflow": null,
            "overflow_x": null,
            "overflow_y": null,
            "padding": null,
            "right": null,
            "top": null,
            "visibility": null,
            "width": null
          }
        },
        "c9d95d56595a4973989f1bbbc8e64dfc": {
          "model_module": "@jupyter-widgets/controls",
          "model_name": "DescriptionStyleModel",
          "model_module_version": "1.5.0",
          "state": {
            "_model_module": "@jupyter-widgets/controls",
            "_model_module_version": "1.5.0",
            "_model_name": "DescriptionStyleModel",
            "_view_count": null,
            "_view_module": "@jupyter-widgets/base",
            "_view_module_version": "1.2.0",
            "_view_name": "StyleView",
            "description_width": ""
          }
        },
        "8e9b767622db45c481043645b0b87ab0": {
          "model_module": "@jupyter-widgets/controls",
          "model_name": "HBoxModel",
          "model_module_version": "1.5.0",
          "state": {
            "_dom_classes": [],
            "_model_module": "@jupyter-widgets/controls",
            "_model_module_version": "1.5.0",
            "_model_name": "HBoxModel",
            "_view_count": null,
            "_view_module": "@jupyter-widgets/controls",
            "_view_module_version": "1.5.0",
            "_view_name": "HBoxView",
            "box_style": "",
            "children": [
              "IPY_MODEL_b65779a8fea643ac88e58394abc77772",
              "IPY_MODEL_dd54ec438254436fa716632228260d55",
              "IPY_MODEL_a47c5d354a1342de90169b629abeb976"
            ],
            "layout": "IPY_MODEL_fd886fc4e8ce455dac8ce09a86b29490"
          }
        },
        "b65779a8fea643ac88e58394abc77772": {
          "model_module": "@jupyter-widgets/controls",
          "model_name": "HTMLModel",
          "model_module_version": "1.5.0",
          "state": {
            "_dom_classes": [],
            "_model_module": "@jupyter-widgets/controls",
            "_model_module_version": "1.5.0",
            "_model_name": "HTMLModel",
            "_view_count": null,
            "_view_module": "@jupyter-widgets/controls",
            "_view_module_version": "1.5.0",
            "_view_name": "HTMLView",
            "description": "",
            "description_tooltip": null,
            "layout": "IPY_MODEL_3571779795fc4e3a8b44c9854421f53d",
            "placeholder": "​",
            "style": "IPY_MODEL_b4af0db0f06644cda72112402fa6b51e",
            "value": "Downloading (…)ce_transformers.json: 100%"
          }
        },
        "dd54ec438254436fa716632228260d55": {
          "model_module": "@jupyter-widgets/controls",
          "model_name": "FloatProgressModel",
          "model_module_version": "1.5.0",
          "state": {
            "_dom_classes": [],
            "_model_module": "@jupyter-widgets/controls",
            "_model_module_version": "1.5.0",
            "_model_name": "FloatProgressModel",
            "_view_count": null,
            "_view_module": "@jupyter-widgets/controls",
            "_view_module_version": "1.5.0",
            "_view_name": "ProgressView",
            "bar_style": "success",
            "description": "",
            "description_tooltip": null,
            "layout": "IPY_MODEL_d7edb7e3806340b88b937dd159e52326",
            "max": 116,
            "min": 0,
            "orientation": "horizontal",
            "style": "IPY_MODEL_e5666d23ad58447dadd1b89f43d9e033",
            "value": 116
          }
        },
        "a47c5d354a1342de90169b629abeb976": {
          "model_module": "@jupyter-widgets/controls",
          "model_name": "HTMLModel",
          "model_module_version": "1.5.0",
          "state": {
            "_dom_classes": [],
            "_model_module": "@jupyter-widgets/controls",
            "_model_module_version": "1.5.0",
            "_model_name": "HTMLModel",
            "_view_count": null,
            "_view_module": "@jupyter-widgets/controls",
            "_view_module_version": "1.5.0",
            "_view_name": "HTMLView",
            "description": "",
            "description_tooltip": null,
            "layout": "IPY_MODEL_bc48ab50871e4f9dbf27ce0d5917dd9a",
            "placeholder": "​",
            "style": "IPY_MODEL_42bf11c45ec5471bb3a844145eecaf26",
            "value": " 116/116 [00:00&lt;00:00, 5.55kB/s]"
          }
        },
        "fd886fc4e8ce455dac8ce09a86b29490": {
          "model_module": "@jupyter-widgets/base",
          "model_name": "LayoutModel",
          "model_module_version": "1.2.0",
          "state": {
            "_model_module": "@jupyter-widgets/base",
            "_model_module_version": "1.2.0",
            "_model_name": "LayoutModel",
            "_view_count": null,
            "_view_module": "@jupyter-widgets/base",
            "_view_module_version": "1.2.0",
            "_view_name": "LayoutView",
            "align_content": null,
            "align_items": null,
            "align_self": null,
            "border": null,
            "bottom": null,
            "display": null,
            "flex": null,
            "flex_flow": null,
            "grid_area": null,
            "grid_auto_columns": null,
            "grid_auto_flow": null,
            "grid_auto_rows": null,
            "grid_column": null,
            "grid_gap": null,
            "grid_row": null,
            "grid_template_areas": null,
            "grid_template_columns": null,
            "grid_template_rows": null,
            "height": null,
            "justify_content": null,
            "justify_items": null,
            "left": null,
            "margin": null,
            "max_height": null,
            "max_width": null,
            "min_height": null,
            "min_width": null,
            "object_fit": null,
            "object_position": null,
            "order": null,
            "overflow": null,
            "overflow_x": null,
            "overflow_y": null,
            "padding": null,
            "right": null,
            "top": null,
            "visibility": null,
            "width": null
          }
        },
        "3571779795fc4e3a8b44c9854421f53d": {
          "model_module": "@jupyter-widgets/base",
          "model_name": "LayoutModel",
          "model_module_version": "1.2.0",
          "state": {
            "_model_module": "@jupyter-widgets/base",
            "_model_module_version": "1.2.0",
            "_model_name": "LayoutModel",
            "_view_count": null,
            "_view_module": "@jupyter-widgets/base",
            "_view_module_version": "1.2.0",
            "_view_name": "LayoutView",
            "align_content": null,
            "align_items": null,
            "align_self": null,
            "border": null,
            "bottom": null,
            "display": null,
            "flex": null,
            "flex_flow": null,
            "grid_area": null,
            "grid_auto_columns": null,
            "grid_auto_flow": null,
            "grid_auto_rows": null,
            "grid_column": null,
            "grid_gap": null,
            "grid_row": null,
            "grid_template_areas": null,
            "grid_template_columns": null,
            "grid_template_rows": null,
            "height": null,
            "justify_content": null,
            "justify_items": null,
            "left": null,
            "margin": null,
            "max_height": null,
            "max_width": null,
            "min_height": null,
            "min_width": null,
            "object_fit": null,
            "object_position": null,
            "order": null,
            "overflow": null,
            "overflow_x": null,
            "overflow_y": null,
            "padding": null,
            "right": null,
            "top": null,
            "visibility": null,
            "width": null
          }
        },
        "b4af0db0f06644cda72112402fa6b51e": {
          "model_module": "@jupyter-widgets/controls",
          "model_name": "DescriptionStyleModel",
          "model_module_version": "1.5.0",
          "state": {
            "_model_module": "@jupyter-widgets/controls",
            "_model_module_version": "1.5.0",
            "_model_name": "DescriptionStyleModel",
            "_view_count": null,
            "_view_module": "@jupyter-widgets/base",
            "_view_module_version": "1.2.0",
            "_view_name": "StyleView",
            "description_width": ""
          }
        },
        "d7edb7e3806340b88b937dd159e52326": {
          "model_module": "@jupyter-widgets/base",
          "model_name": "LayoutModel",
          "model_module_version": "1.2.0",
          "state": {
            "_model_module": "@jupyter-widgets/base",
            "_model_module_version": "1.2.0",
            "_model_name": "LayoutModel",
            "_view_count": null,
            "_view_module": "@jupyter-widgets/base",
            "_view_module_version": "1.2.0",
            "_view_name": "LayoutView",
            "align_content": null,
            "align_items": null,
            "align_self": null,
            "border": null,
            "bottom": null,
            "display": null,
            "flex": null,
            "flex_flow": null,
            "grid_area": null,
            "grid_auto_columns": null,
            "grid_auto_flow": null,
            "grid_auto_rows": null,
            "grid_column": null,
            "grid_gap": null,
            "grid_row": null,
            "grid_template_areas": null,
            "grid_template_columns": null,
            "grid_template_rows": null,
            "height": null,
            "justify_content": null,
            "justify_items": null,
            "left": null,
            "margin": null,
            "max_height": null,
            "max_width": null,
            "min_height": null,
            "min_width": null,
            "object_fit": null,
            "object_position": null,
            "order": null,
            "overflow": null,
            "overflow_x": null,
            "overflow_y": null,
            "padding": null,
            "right": null,
            "top": null,
            "visibility": null,
            "width": null
          }
        },
        "e5666d23ad58447dadd1b89f43d9e033": {
          "model_module": "@jupyter-widgets/controls",
          "model_name": "ProgressStyleModel",
          "model_module_version": "1.5.0",
          "state": {
            "_model_module": "@jupyter-widgets/controls",
            "_model_module_version": "1.5.0",
            "_model_name": "ProgressStyleModel",
            "_view_count": null,
            "_view_module": "@jupyter-widgets/base",
            "_view_module_version": "1.2.0",
            "_view_name": "StyleView",
            "bar_color": null,
            "description_width": ""
          }
        },
        "bc48ab50871e4f9dbf27ce0d5917dd9a": {
          "model_module": "@jupyter-widgets/base",
          "model_name": "LayoutModel",
          "model_module_version": "1.2.0",
          "state": {
            "_model_module": "@jupyter-widgets/base",
            "_model_module_version": "1.2.0",
            "_model_name": "LayoutModel",
            "_view_count": null,
            "_view_module": "@jupyter-widgets/base",
            "_view_module_version": "1.2.0",
            "_view_name": "LayoutView",
            "align_content": null,
            "align_items": null,
            "align_self": null,
            "border": null,
            "bottom": null,
            "display": null,
            "flex": null,
            "flex_flow": null,
            "grid_area": null,
            "grid_auto_columns": null,
            "grid_auto_flow": null,
            "grid_auto_rows": null,
            "grid_column": null,
            "grid_gap": null,
            "grid_row": null,
            "grid_template_areas": null,
            "grid_template_columns": null,
            "grid_template_rows": null,
            "height": null,
            "justify_content": null,
            "justify_items": null,
            "left": null,
            "margin": null,
            "max_height": null,
            "max_width": null,
            "min_height": null,
            "min_width": null,
            "object_fit": null,
            "object_position": null,
            "order": null,
            "overflow": null,
            "overflow_x": null,
            "overflow_y": null,
            "padding": null,
            "right": null,
            "top": null,
            "visibility": null,
            "width": null
          }
        },
        "42bf11c45ec5471bb3a844145eecaf26": {
          "model_module": "@jupyter-widgets/controls",
          "model_name": "DescriptionStyleModel",
          "model_module_version": "1.5.0",
          "state": {
            "_model_module": "@jupyter-widgets/controls",
            "_model_module_version": "1.5.0",
            "_model_name": "DescriptionStyleModel",
            "_view_count": null,
            "_view_module": "@jupyter-widgets/base",
            "_view_module_version": "1.2.0",
            "_view_name": "StyleView",
            "description_width": ""
          }
        },
        "917bc70a015542d5bfe6e4bdd12fbc4f": {
          "model_module": "@jupyter-widgets/controls",
          "model_name": "HBoxModel",
          "model_module_version": "1.5.0",
          "state": {
            "_dom_classes": [],
            "_model_module": "@jupyter-widgets/controls",
            "_model_module_version": "1.5.0",
            "_model_name": "HBoxModel",
            "_view_count": null,
            "_view_module": "@jupyter-widgets/controls",
            "_view_module_version": "1.5.0",
            "_view_name": "HBoxView",
            "box_style": "",
            "children": [
              "IPY_MODEL_cbeb10dec3404d5eb61a485c37cee5ba",
              "IPY_MODEL_3731b4ee2f7d43628a6223f6b8178fa1",
              "IPY_MODEL_69cc6ec3950440b3909e2306651c3eb4"
            ],
            "layout": "IPY_MODEL_daa97c3b18494e8fb78762630e602dde"
          }
        },
        "cbeb10dec3404d5eb61a485c37cee5ba": {
          "model_module": "@jupyter-widgets/controls",
          "model_name": "HTMLModel",
          "model_module_version": "1.5.0",
          "state": {
            "_dom_classes": [],
            "_model_module": "@jupyter-widgets/controls",
            "_model_module_version": "1.5.0",
            "_model_name": "HTMLModel",
            "_view_count": null,
            "_view_module": "@jupyter-widgets/controls",
            "_view_module_version": "1.5.0",
            "_view_name": "HTMLView",
            "description": "",
            "description_tooltip": null,
            "layout": "IPY_MODEL_6397a34c6bfd400984f06e9909bb6cad",
            "placeholder": "​",
            "style": "IPY_MODEL_14b64dacefd64b1f8e1a5b51e7b05166",
            "value": "Downloading (…)e1d/data_config.json: 100%"
          }
        },
        "3731b4ee2f7d43628a6223f6b8178fa1": {
          "model_module": "@jupyter-widgets/controls",
          "model_name": "FloatProgressModel",
          "model_module_version": "1.5.0",
          "state": {
            "_dom_classes": [],
            "_model_module": "@jupyter-widgets/controls",
            "_model_module_version": "1.5.0",
            "_model_name": "FloatProgressModel",
            "_view_count": null,
            "_view_module": "@jupyter-widgets/controls",
            "_view_module_version": "1.5.0",
            "_view_name": "ProgressView",
            "bar_style": "success",
            "description": "",
            "description_tooltip": null,
            "layout": "IPY_MODEL_258e7aa9ee8047669b4c9734972d6f19",
            "max": 39265,
            "min": 0,
            "orientation": "horizontal",
            "style": "IPY_MODEL_5a4479b5bee54cb8b1f1353b693c8f75",
            "value": 39265
          }
        },
        "69cc6ec3950440b3909e2306651c3eb4": {
          "model_module": "@jupyter-widgets/controls",
          "model_name": "HTMLModel",
          "model_module_version": "1.5.0",
          "state": {
            "_dom_classes": [],
            "_model_module": "@jupyter-widgets/controls",
            "_model_module_version": "1.5.0",
            "_model_name": "HTMLModel",
            "_view_count": null,
            "_view_module": "@jupyter-widgets/controls",
            "_view_module_version": "1.5.0",
            "_view_name": "HTMLView",
            "description": "",
            "description_tooltip": null,
            "layout": "IPY_MODEL_06d0185a6f7040ecaec722d910bcd1e0",
            "placeholder": "​",
            "style": "IPY_MODEL_1a2ef4654ec7470d9b06b03daf3aa3f1",
            "value": " 39.3k/39.3k [00:00&lt;00:00, 1.49MB/s]"
          }
        },
        "daa97c3b18494e8fb78762630e602dde": {
          "model_module": "@jupyter-widgets/base",
          "model_name": "LayoutModel",
          "model_module_version": "1.2.0",
          "state": {
            "_model_module": "@jupyter-widgets/base",
            "_model_module_version": "1.2.0",
            "_model_name": "LayoutModel",
            "_view_count": null,
            "_view_module": "@jupyter-widgets/base",
            "_view_module_version": "1.2.0",
            "_view_name": "LayoutView",
            "align_content": null,
            "align_items": null,
            "align_self": null,
            "border": null,
            "bottom": null,
            "display": null,
            "flex": null,
            "flex_flow": null,
            "grid_area": null,
            "grid_auto_columns": null,
            "grid_auto_flow": null,
            "grid_auto_rows": null,
            "grid_column": null,
            "grid_gap": null,
            "grid_row": null,
            "grid_template_areas": null,
            "grid_template_columns": null,
            "grid_template_rows": null,
            "height": null,
            "justify_content": null,
            "justify_items": null,
            "left": null,
            "margin": null,
            "max_height": null,
            "max_width": null,
            "min_height": null,
            "min_width": null,
            "object_fit": null,
            "object_position": null,
            "order": null,
            "overflow": null,
            "overflow_x": null,
            "overflow_y": null,
            "padding": null,
            "right": null,
            "top": null,
            "visibility": null,
            "width": null
          }
        },
        "6397a34c6bfd400984f06e9909bb6cad": {
          "model_module": "@jupyter-widgets/base",
          "model_name": "LayoutModel",
          "model_module_version": "1.2.0",
          "state": {
            "_model_module": "@jupyter-widgets/base",
            "_model_module_version": "1.2.0",
            "_model_name": "LayoutModel",
            "_view_count": null,
            "_view_module": "@jupyter-widgets/base",
            "_view_module_version": "1.2.0",
            "_view_name": "LayoutView",
            "align_content": null,
            "align_items": null,
            "align_self": null,
            "border": null,
            "bottom": null,
            "display": null,
            "flex": null,
            "flex_flow": null,
            "grid_area": null,
            "grid_auto_columns": null,
            "grid_auto_flow": null,
            "grid_auto_rows": null,
            "grid_column": null,
            "grid_gap": null,
            "grid_row": null,
            "grid_template_areas": null,
            "grid_template_columns": null,
            "grid_template_rows": null,
            "height": null,
            "justify_content": null,
            "justify_items": null,
            "left": null,
            "margin": null,
            "max_height": null,
            "max_width": null,
            "min_height": null,
            "min_width": null,
            "object_fit": null,
            "object_position": null,
            "order": null,
            "overflow": null,
            "overflow_x": null,
            "overflow_y": null,
            "padding": null,
            "right": null,
            "top": null,
            "visibility": null,
            "width": null
          }
        },
        "14b64dacefd64b1f8e1a5b51e7b05166": {
          "model_module": "@jupyter-widgets/controls",
          "model_name": "DescriptionStyleModel",
          "model_module_version": "1.5.0",
          "state": {
            "_model_module": "@jupyter-widgets/controls",
            "_model_module_version": "1.5.0",
            "_model_name": "DescriptionStyleModel",
            "_view_count": null,
            "_view_module": "@jupyter-widgets/base",
            "_view_module_version": "1.2.0",
            "_view_name": "StyleView",
            "description_width": ""
          }
        },
        "258e7aa9ee8047669b4c9734972d6f19": {
          "model_module": "@jupyter-widgets/base",
          "model_name": "LayoutModel",
          "model_module_version": "1.2.0",
          "state": {
            "_model_module": "@jupyter-widgets/base",
            "_model_module_version": "1.2.0",
            "_model_name": "LayoutModel",
            "_view_count": null,
            "_view_module": "@jupyter-widgets/base",
            "_view_module_version": "1.2.0",
            "_view_name": "LayoutView",
            "align_content": null,
            "align_items": null,
            "align_self": null,
            "border": null,
            "bottom": null,
            "display": null,
            "flex": null,
            "flex_flow": null,
            "grid_area": null,
            "grid_auto_columns": null,
            "grid_auto_flow": null,
            "grid_auto_rows": null,
            "grid_column": null,
            "grid_gap": null,
            "grid_row": null,
            "grid_template_areas": null,
            "grid_template_columns": null,
            "grid_template_rows": null,
            "height": null,
            "justify_content": null,
            "justify_items": null,
            "left": null,
            "margin": null,
            "max_height": null,
            "max_width": null,
            "min_height": null,
            "min_width": null,
            "object_fit": null,
            "object_position": null,
            "order": null,
            "overflow": null,
            "overflow_x": null,
            "overflow_y": null,
            "padding": null,
            "right": null,
            "top": null,
            "visibility": null,
            "width": null
          }
        },
        "5a4479b5bee54cb8b1f1353b693c8f75": {
          "model_module": "@jupyter-widgets/controls",
          "model_name": "ProgressStyleModel",
          "model_module_version": "1.5.0",
          "state": {
            "_model_module": "@jupyter-widgets/controls",
            "_model_module_version": "1.5.0",
            "_model_name": "ProgressStyleModel",
            "_view_count": null,
            "_view_module": "@jupyter-widgets/base",
            "_view_module_version": "1.2.0",
            "_view_name": "StyleView",
            "bar_color": null,
            "description_width": ""
          }
        },
        "06d0185a6f7040ecaec722d910bcd1e0": {
          "model_module": "@jupyter-widgets/base",
          "model_name": "LayoutModel",
          "model_module_version": "1.2.0",
          "state": {
            "_model_module": "@jupyter-widgets/base",
            "_model_module_version": "1.2.0",
            "_model_name": "LayoutModel",
            "_view_count": null,
            "_view_module": "@jupyter-widgets/base",
            "_view_module_version": "1.2.0",
            "_view_name": "LayoutView",
            "align_content": null,
            "align_items": null,
            "align_self": null,
            "border": null,
            "bottom": null,
            "display": null,
            "flex": null,
            "flex_flow": null,
            "grid_area": null,
            "grid_auto_columns": null,
            "grid_auto_flow": null,
            "grid_auto_rows": null,
            "grid_column": null,
            "grid_gap": null,
            "grid_row": null,
            "grid_template_areas": null,
            "grid_template_columns": null,
            "grid_template_rows": null,
            "height": null,
            "justify_content": null,
            "justify_items": null,
            "left": null,
            "margin": null,
            "max_height": null,
            "max_width": null,
            "min_height": null,
            "min_width": null,
            "object_fit": null,
            "object_position": null,
            "order": null,
            "overflow": null,
            "overflow_x": null,
            "overflow_y": null,
            "padding": null,
            "right": null,
            "top": null,
            "visibility": null,
            "width": null
          }
        },
        "1a2ef4654ec7470d9b06b03daf3aa3f1": {
          "model_module": "@jupyter-widgets/controls",
          "model_name": "DescriptionStyleModel",
          "model_module_version": "1.5.0",
          "state": {
            "_model_module": "@jupyter-widgets/controls",
            "_model_module_version": "1.5.0",
            "_model_name": "DescriptionStyleModel",
            "_view_count": null,
            "_view_module": "@jupyter-widgets/base",
            "_view_module_version": "1.2.0",
            "_view_name": "StyleView",
            "description_width": ""
          }
        },
        "53c18af4d8af4fc09473aad21c8292fb": {
          "model_module": "@jupyter-widgets/controls",
          "model_name": "HBoxModel",
          "model_module_version": "1.5.0",
          "state": {
            "_dom_classes": [],
            "_model_module": "@jupyter-widgets/controls",
            "_model_module_version": "1.5.0",
            "_model_name": "HBoxModel",
            "_view_count": null,
            "_view_module": "@jupyter-widgets/controls",
            "_view_module_version": "1.5.0",
            "_view_name": "HBoxView",
            "box_style": "",
            "children": [
              "IPY_MODEL_a8fdfe7936a24a868da49d482016b3e0",
              "IPY_MODEL_aa14ad73efa9403cb9593c3a84d63ae3",
              "IPY_MODEL_e67fa3837b674806a11639f2f5eb6572"
            ],
            "layout": "IPY_MODEL_9a3c533727a346d09842b3305b4f365f"
          }
        },
        "a8fdfe7936a24a868da49d482016b3e0": {
          "model_module": "@jupyter-widgets/controls",
          "model_name": "HTMLModel",
          "model_module_version": "1.5.0",
          "state": {
            "_dom_classes": [],
            "_model_module": "@jupyter-widgets/controls",
            "_model_module_version": "1.5.0",
            "_model_name": "HTMLModel",
            "_view_count": null,
            "_view_module": "@jupyter-widgets/controls",
            "_view_module_version": "1.5.0",
            "_view_name": "HTMLView",
            "description": "",
            "description_tooltip": null,
            "layout": "IPY_MODEL_a2b7db87094347c997fab2ef51880616",
            "placeholder": "​",
            "style": "IPY_MODEL_de8789cc2409441483e0592c078b2867",
            "value": "Downloading pytorch_model.bin: 100%"
          }
        },
        "aa14ad73efa9403cb9593c3a84d63ae3": {
          "model_module": "@jupyter-widgets/controls",
          "model_name": "FloatProgressModel",
          "model_module_version": "1.5.0",
          "state": {
            "_dom_classes": [],
            "_model_module": "@jupyter-widgets/controls",
            "_model_module_version": "1.5.0",
            "_model_name": "FloatProgressModel",
            "_view_count": null,
            "_view_module": "@jupyter-widgets/controls",
            "_view_module_version": "1.5.0",
            "_view_name": "ProgressView",
            "bar_style": "success",
            "description": "",
            "description_tooltip": null,
            "layout": "IPY_MODEL_60bd3893f28c44ebad336226e89da46a",
            "max": 438011953,
            "min": 0,
            "orientation": "horizontal",
            "style": "IPY_MODEL_ae66b285b8db4a1a893f81b14d10c611",
            "value": 438011953
          }
        },
        "e67fa3837b674806a11639f2f5eb6572": {
          "model_module": "@jupyter-widgets/controls",
          "model_name": "HTMLModel",
          "model_module_version": "1.5.0",
          "state": {
            "_dom_classes": [],
            "_model_module": "@jupyter-widgets/controls",
            "_model_module_version": "1.5.0",
            "_model_name": "HTMLModel",
            "_view_count": null,
            "_view_module": "@jupyter-widgets/controls",
            "_view_module_version": "1.5.0",
            "_view_name": "HTMLView",
            "description": "",
            "description_tooltip": null,
            "layout": "IPY_MODEL_db1e577c9cf94355a5572a94d53f516e",
            "placeholder": "​",
            "style": "IPY_MODEL_8cdfd33f187d452d8558e4e25d19cc39",
            "value": " 438M/438M [00:05&lt;00:00, 109MB/s]"
          }
        },
        "9a3c533727a346d09842b3305b4f365f": {
          "model_module": "@jupyter-widgets/base",
          "model_name": "LayoutModel",
          "model_module_version": "1.2.0",
          "state": {
            "_model_module": "@jupyter-widgets/base",
            "_model_module_version": "1.2.0",
            "_model_name": "LayoutModel",
            "_view_count": null,
            "_view_module": "@jupyter-widgets/base",
            "_view_module_version": "1.2.0",
            "_view_name": "LayoutView",
            "align_content": null,
            "align_items": null,
            "align_self": null,
            "border": null,
            "bottom": null,
            "display": null,
            "flex": null,
            "flex_flow": null,
            "grid_area": null,
            "grid_auto_columns": null,
            "grid_auto_flow": null,
            "grid_auto_rows": null,
            "grid_column": null,
            "grid_gap": null,
            "grid_row": null,
            "grid_template_areas": null,
            "grid_template_columns": null,
            "grid_template_rows": null,
            "height": null,
            "justify_content": null,
            "justify_items": null,
            "left": null,
            "margin": null,
            "max_height": null,
            "max_width": null,
            "min_height": null,
            "min_width": null,
            "object_fit": null,
            "object_position": null,
            "order": null,
            "overflow": null,
            "overflow_x": null,
            "overflow_y": null,
            "padding": null,
            "right": null,
            "top": null,
            "visibility": null,
            "width": null
          }
        },
        "a2b7db87094347c997fab2ef51880616": {
          "model_module": "@jupyter-widgets/base",
          "model_name": "LayoutModel",
          "model_module_version": "1.2.0",
          "state": {
            "_model_module": "@jupyter-widgets/base",
            "_model_module_version": "1.2.0",
            "_model_name": "LayoutModel",
            "_view_count": null,
            "_view_module": "@jupyter-widgets/base",
            "_view_module_version": "1.2.0",
            "_view_name": "LayoutView",
            "align_content": null,
            "align_items": null,
            "align_self": null,
            "border": null,
            "bottom": null,
            "display": null,
            "flex": null,
            "flex_flow": null,
            "grid_area": null,
            "grid_auto_columns": null,
            "grid_auto_flow": null,
            "grid_auto_rows": null,
            "grid_column": null,
            "grid_gap": null,
            "grid_row": null,
            "grid_template_areas": null,
            "grid_template_columns": null,
            "grid_template_rows": null,
            "height": null,
            "justify_content": null,
            "justify_items": null,
            "left": null,
            "margin": null,
            "max_height": null,
            "max_width": null,
            "min_height": null,
            "min_width": null,
            "object_fit": null,
            "object_position": null,
            "order": null,
            "overflow": null,
            "overflow_x": null,
            "overflow_y": null,
            "padding": null,
            "right": null,
            "top": null,
            "visibility": null,
            "width": null
          }
        },
        "de8789cc2409441483e0592c078b2867": {
          "model_module": "@jupyter-widgets/controls",
          "model_name": "DescriptionStyleModel",
          "model_module_version": "1.5.0",
          "state": {
            "_model_module": "@jupyter-widgets/controls",
            "_model_module_version": "1.5.0",
            "_model_name": "DescriptionStyleModel",
            "_view_count": null,
            "_view_module": "@jupyter-widgets/base",
            "_view_module_version": "1.2.0",
            "_view_name": "StyleView",
            "description_width": ""
          }
        },
        "60bd3893f28c44ebad336226e89da46a": {
          "model_module": "@jupyter-widgets/base",
          "model_name": "LayoutModel",
          "model_module_version": "1.2.0",
          "state": {
            "_model_module": "@jupyter-widgets/base",
            "_model_module_version": "1.2.0",
            "_model_name": "LayoutModel",
            "_view_count": null,
            "_view_module": "@jupyter-widgets/base",
            "_view_module_version": "1.2.0",
            "_view_name": "LayoutView",
            "align_content": null,
            "align_items": null,
            "align_self": null,
            "border": null,
            "bottom": null,
            "display": null,
            "flex": null,
            "flex_flow": null,
            "grid_area": null,
            "grid_auto_columns": null,
            "grid_auto_flow": null,
            "grid_auto_rows": null,
            "grid_column": null,
            "grid_gap": null,
            "grid_row": null,
            "grid_template_areas": null,
            "grid_template_columns": null,
            "grid_template_rows": null,
            "height": null,
            "justify_content": null,
            "justify_items": null,
            "left": null,
            "margin": null,
            "max_height": null,
            "max_width": null,
            "min_height": null,
            "min_width": null,
            "object_fit": null,
            "object_position": null,
            "order": null,
            "overflow": null,
            "overflow_x": null,
            "overflow_y": null,
            "padding": null,
            "right": null,
            "top": null,
            "visibility": null,
            "width": null
          }
        },
        "ae66b285b8db4a1a893f81b14d10c611": {
          "model_module": "@jupyter-widgets/controls",
          "model_name": "ProgressStyleModel",
          "model_module_version": "1.5.0",
          "state": {
            "_model_module": "@jupyter-widgets/controls",
            "_model_module_version": "1.5.0",
            "_model_name": "ProgressStyleModel",
            "_view_count": null,
            "_view_module": "@jupyter-widgets/base",
            "_view_module_version": "1.2.0",
            "_view_name": "StyleView",
            "bar_color": null,
            "description_width": ""
          }
        },
        "db1e577c9cf94355a5572a94d53f516e": {
          "model_module": "@jupyter-widgets/base",
          "model_name": "LayoutModel",
          "model_module_version": "1.2.0",
          "state": {
            "_model_module": "@jupyter-widgets/base",
            "_model_module_version": "1.2.0",
            "_model_name": "LayoutModel",
            "_view_count": null,
            "_view_module": "@jupyter-widgets/base",
            "_view_module_version": "1.2.0",
            "_view_name": "LayoutView",
            "align_content": null,
            "align_items": null,
            "align_self": null,
            "border": null,
            "bottom": null,
            "display": null,
            "flex": null,
            "flex_flow": null,
            "grid_area": null,
            "grid_auto_columns": null,
            "grid_auto_flow": null,
            "grid_auto_rows": null,
            "grid_column": null,
            "grid_gap": null,
            "grid_row": null,
            "grid_template_areas": null,
            "grid_template_columns": null,
            "grid_template_rows": null,
            "height": null,
            "justify_content": null,
            "justify_items": null,
            "left": null,
            "margin": null,
            "max_height": null,
            "max_width": null,
            "min_height": null,
            "min_width": null,
            "object_fit": null,
            "object_position": null,
            "order": null,
            "overflow": null,
            "overflow_x": null,
            "overflow_y": null,
            "padding": null,
            "right": null,
            "top": null,
            "visibility": null,
            "width": null
          }
        },
        "8cdfd33f187d452d8558e4e25d19cc39": {
          "model_module": "@jupyter-widgets/controls",
          "model_name": "DescriptionStyleModel",
          "model_module_version": "1.5.0",
          "state": {
            "_model_module": "@jupyter-widgets/controls",
            "_model_module_version": "1.5.0",
            "_model_name": "DescriptionStyleModel",
            "_view_count": null,
            "_view_module": "@jupyter-widgets/base",
            "_view_module_version": "1.2.0",
            "_view_name": "StyleView",
            "description_width": ""
          }
        },
        "214d7c71753044a188162dd1a9e319e8": {
          "model_module": "@jupyter-widgets/controls",
          "model_name": "HBoxModel",
          "model_module_version": "1.5.0",
          "state": {
            "_dom_classes": [],
            "_model_module": "@jupyter-widgets/controls",
            "_model_module_version": "1.5.0",
            "_model_name": "HBoxModel",
            "_view_count": null,
            "_view_module": "@jupyter-widgets/controls",
            "_view_module_version": "1.5.0",
            "_view_name": "HBoxView",
            "box_style": "",
            "children": [
              "IPY_MODEL_2783fb3197dc4dd8b6b23b101ee1d568",
              "IPY_MODEL_a917a5815f984a87aa8a67a91ab09530",
              "IPY_MODEL_ce53611837a94981b0e81dfe8ec5ff4f"
            ],
            "layout": "IPY_MODEL_156d6f23cf90440d8e4bc05d31e4ecd6"
          }
        },
        "2783fb3197dc4dd8b6b23b101ee1d568": {
          "model_module": "@jupyter-widgets/controls",
          "model_name": "HTMLModel",
          "model_module_version": "1.5.0",
          "state": {
            "_dom_classes": [],
            "_model_module": "@jupyter-widgets/controls",
            "_model_module_version": "1.5.0",
            "_model_name": "HTMLModel",
            "_view_count": null,
            "_view_module": "@jupyter-widgets/controls",
            "_view_module_version": "1.5.0",
            "_view_name": "HTMLView",
            "description": "",
            "description_tooltip": null,
            "layout": "IPY_MODEL_b25d349914134298a8cfa20f1af676d2",
            "placeholder": "​",
            "style": "IPY_MODEL_6187c472cee34b18989693aec7ddf8c6",
            "value": "Downloading (…)nce_bert_config.json: 100%"
          }
        },
        "a917a5815f984a87aa8a67a91ab09530": {
          "model_module": "@jupyter-widgets/controls",
          "model_name": "FloatProgressModel",
          "model_module_version": "1.5.0",
          "state": {
            "_dom_classes": [],
            "_model_module": "@jupyter-widgets/controls",
            "_model_module_version": "1.5.0",
            "_model_name": "FloatProgressModel",
            "_view_count": null,
            "_view_module": "@jupyter-widgets/controls",
            "_view_module_version": "1.5.0",
            "_view_name": "ProgressView",
            "bar_style": "success",
            "description": "",
            "description_tooltip": null,
            "layout": "IPY_MODEL_502916ef405a477f9c4d4a24e77f83e0",
            "max": 53,
            "min": 0,
            "orientation": "horizontal",
            "style": "IPY_MODEL_e068e1ccf13d4274ac1369615117204b",
            "value": 53
          }
        },
        "ce53611837a94981b0e81dfe8ec5ff4f": {
          "model_module": "@jupyter-widgets/controls",
          "model_name": "HTMLModel",
          "model_module_version": "1.5.0",
          "state": {
            "_dom_classes": [],
            "_model_module": "@jupyter-widgets/controls",
            "_model_module_version": "1.5.0",
            "_model_name": "HTMLModel",
            "_view_count": null,
            "_view_module": "@jupyter-widgets/controls",
            "_view_module_version": "1.5.0",
            "_view_name": "HTMLView",
            "description": "",
            "description_tooltip": null,
            "layout": "IPY_MODEL_4791c91123e846d3a09e805f8ee5f28f",
            "placeholder": "​",
            "style": "IPY_MODEL_b4ba91b59f4d460388ebfb9c171150db",
            "value": " 53.0/53.0 [00:00&lt;00:00, 2.70kB/s]"
          }
        },
        "156d6f23cf90440d8e4bc05d31e4ecd6": {
          "model_module": "@jupyter-widgets/base",
          "model_name": "LayoutModel",
          "model_module_version": "1.2.0",
          "state": {
            "_model_module": "@jupyter-widgets/base",
            "_model_module_version": "1.2.0",
            "_model_name": "LayoutModel",
            "_view_count": null,
            "_view_module": "@jupyter-widgets/base",
            "_view_module_version": "1.2.0",
            "_view_name": "LayoutView",
            "align_content": null,
            "align_items": null,
            "align_self": null,
            "border": null,
            "bottom": null,
            "display": null,
            "flex": null,
            "flex_flow": null,
            "grid_area": null,
            "grid_auto_columns": null,
            "grid_auto_flow": null,
            "grid_auto_rows": null,
            "grid_column": null,
            "grid_gap": null,
            "grid_row": null,
            "grid_template_areas": null,
            "grid_template_columns": null,
            "grid_template_rows": null,
            "height": null,
            "justify_content": null,
            "justify_items": null,
            "left": null,
            "margin": null,
            "max_height": null,
            "max_width": null,
            "min_height": null,
            "min_width": null,
            "object_fit": null,
            "object_position": null,
            "order": null,
            "overflow": null,
            "overflow_x": null,
            "overflow_y": null,
            "padding": null,
            "right": null,
            "top": null,
            "visibility": null,
            "width": null
          }
        },
        "b25d349914134298a8cfa20f1af676d2": {
          "model_module": "@jupyter-widgets/base",
          "model_name": "LayoutModel",
          "model_module_version": "1.2.0",
          "state": {
            "_model_module": "@jupyter-widgets/base",
            "_model_module_version": "1.2.0",
            "_model_name": "LayoutModel",
            "_view_count": null,
            "_view_module": "@jupyter-widgets/base",
            "_view_module_version": "1.2.0",
            "_view_name": "LayoutView",
            "align_content": null,
            "align_items": null,
            "align_self": null,
            "border": null,
            "bottom": null,
            "display": null,
            "flex": null,
            "flex_flow": null,
            "grid_area": null,
            "grid_auto_columns": null,
            "grid_auto_flow": null,
            "grid_auto_rows": null,
            "grid_column": null,
            "grid_gap": null,
            "grid_row": null,
            "grid_template_areas": null,
            "grid_template_columns": null,
            "grid_template_rows": null,
            "height": null,
            "justify_content": null,
            "justify_items": null,
            "left": null,
            "margin": null,
            "max_height": null,
            "max_width": null,
            "min_height": null,
            "min_width": null,
            "object_fit": null,
            "object_position": null,
            "order": null,
            "overflow": null,
            "overflow_x": null,
            "overflow_y": null,
            "padding": null,
            "right": null,
            "top": null,
            "visibility": null,
            "width": null
          }
        },
        "6187c472cee34b18989693aec7ddf8c6": {
          "model_module": "@jupyter-widgets/controls",
          "model_name": "DescriptionStyleModel",
          "model_module_version": "1.5.0",
          "state": {
            "_model_module": "@jupyter-widgets/controls",
            "_model_module_version": "1.5.0",
            "_model_name": "DescriptionStyleModel",
            "_view_count": null,
            "_view_module": "@jupyter-widgets/base",
            "_view_module_version": "1.2.0",
            "_view_name": "StyleView",
            "description_width": ""
          }
        },
        "502916ef405a477f9c4d4a24e77f83e0": {
          "model_module": "@jupyter-widgets/base",
          "model_name": "LayoutModel",
          "model_module_version": "1.2.0",
          "state": {
            "_model_module": "@jupyter-widgets/base",
            "_model_module_version": "1.2.0",
            "_model_name": "LayoutModel",
            "_view_count": null,
            "_view_module": "@jupyter-widgets/base",
            "_view_module_version": "1.2.0",
            "_view_name": "LayoutView",
            "align_content": null,
            "align_items": null,
            "align_self": null,
            "border": null,
            "bottom": null,
            "display": null,
            "flex": null,
            "flex_flow": null,
            "grid_area": null,
            "grid_auto_columns": null,
            "grid_auto_flow": null,
            "grid_auto_rows": null,
            "grid_column": null,
            "grid_gap": null,
            "grid_row": null,
            "grid_template_areas": null,
            "grid_template_columns": null,
            "grid_template_rows": null,
            "height": null,
            "justify_content": null,
            "justify_items": null,
            "left": null,
            "margin": null,
            "max_height": null,
            "max_width": null,
            "min_height": null,
            "min_width": null,
            "object_fit": null,
            "object_position": null,
            "order": null,
            "overflow": null,
            "overflow_x": null,
            "overflow_y": null,
            "padding": null,
            "right": null,
            "top": null,
            "visibility": null,
            "width": null
          }
        },
        "e068e1ccf13d4274ac1369615117204b": {
          "model_module": "@jupyter-widgets/controls",
          "model_name": "ProgressStyleModel",
          "model_module_version": "1.5.0",
          "state": {
            "_model_module": "@jupyter-widgets/controls",
            "_model_module_version": "1.5.0",
            "_model_name": "ProgressStyleModel",
            "_view_count": null,
            "_view_module": "@jupyter-widgets/base",
            "_view_module_version": "1.2.0",
            "_view_name": "StyleView",
            "bar_color": null,
            "description_width": ""
          }
        },
        "4791c91123e846d3a09e805f8ee5f28f": {
          "model_module": "@jupyter-widgets/base",
          "model_name": "LayoutModel",
          "model_module_version": "1.2.0",
          "state": {
            "_model_module": "@jupyter-widgets/base",
            "_model_module_version": "1.2.0",
            "_model_name": "LayoutModel",
            "_view_count": null,
            "_view_module": "@jupyter-widgets/base",
            "_view_module_version": "1.2.0",
            "_view_name": "LayoutView",
            "align_content": null,
            "align_items": null,
            "align_self": null,
            "border": null,
            "bottom": null,
            "display": null,
            "flex": null,
            "flex_flow": null,
            "grid_area": null,
            "grid_auto_columns": null,
            "grid_auto_flow": null,
            "grid_auto_rows": null,
            "grid_column": null,
            "grid_gap": null,
            "grid_row": null,
            "grid_template_areas": null,
            "grid_template_columns": null,
            "grid_template_rows": null,
            "height": null,
            "justify_content": null,
            "justify_items": null,
            "left": null,
            "margin": null,
            "max_height": null,
            "max_width": null,
            "min_height": null,
            "min_width": null,
            "object_fit": null,
            "object_position": null,
            "order": null,
            "overflow": null,
            "overflow_x": null,
            "overflow_y": null,
            "padding": null,
            "right": null,
            "top": null,
            "visibility": null,
            "width": null
          }
        },
        "b4ba91b59f4d460388ebfb9c171150db": {
          "model_module": "@jupyter-widgets/controls",
          "model_name": "DescriptionStyleModel",
          "model_module_version": "1.5.0",
          "state": {
            "_model_module": "@jupyter-widgets/controls",
            "_model_module_version": "1.5.0",
            "_model_name": "DescriptionStyleModel",
            "_view_count": null,
            "_view_module": "@jupyter-widgets/base",
            "_view_module_version": "1.2.0",
            "_view_name": "StyleView",
            "description_width": ""
          }
        },
        "0877f79862554998af7c2af92143d2d6": {
          "model_module": "@jupyter-widgets/controls",
          "model_name": "HBoxModel",
          "model_module_version": "1.5.0",
          "state": {
            "_dom_classes": [],
            "_model_module": "@jupyter-widgets/controls",
            "_model_module_version": "1.5.0",
            "_model_name": "HBoxModel",
            "_view_count": null,
            "_view_module": "@jupyter-widgets/controls",
            "_view_module_version": "1.5.0",
            "_view_name": "HBoxView",
            "box_style": "",
            "children": [
              "IPY_MODEL_0371ab3f31c741bab270e8feeb650815",
              "IPY_MODEL_8cdd37025dc946f6ab250b66f0003578",
              "IPY_MODEL_1c7250cb3a5e4912a4ef26361650bad1"
            ],
            "layout": "IPY_MODEL_cf81fc93dfa94d928ad34823817b9aa6"
          }
        },
        "0371ab3f31c741bab270e8feeb650815": {
          "model_module": "@jupyter-widgets/controls",
          "model_name": "HTMLModel",
          "model_module_version": "1.5.0",
          "state": {
            "_dom_classes": [],
            "_model_module": "@jupyter-widgets/controls",
            "_model_module_version": "1.5.0",
            "_model_name": "HTMLModel",
            "_view_count": null,
            "_view_module": "@jupyter-widgets/controls",
            "_view_module_version": "1.5.0",
            "_view_name": "HTMLView",
            "description": "",
            "description_tooltip": null,
            "layout": "IPY_MODEL_fcfe6df9ac1c44de91946f3a16ddd1fd",
            "placeholder": "​",
            "style": "IPY_MODEL_485875cee5134953b240bfd5d34adfb6",
            "value": "Downloading (…)cial_tokens_map.json: 100%"
          }
        },
        "8cdd37025dc946f6ab250b66f0003578": {
          "model_module": "@jupyter-widgets/controls",
          "model_name": "FloatProgressModel",
          "model_module_version": "1.5.0",
          "state": {
            "_dom_classes": [],
            "_model_module": "@jupyter-widgets/controls",
            "_model_module_version": "1.5.0",
            "_model_name": "FloatProgressModel",
            "_view_count": null,
            "_view_module": "@jupyter-widgets/controls",
            "_view_module_version": "1.5.0",
            "_view_name": "ProgressView",
            "bar_style": "success",
            "description": "",
            "description_tooltip": null,
            "layout": "IPY_MODEL_80a34ca7b9a3446c89a25c8c141fa0d8",
            "max": 239,
            "min": 0,
            "orientation": "horizontal",
            "style": "IPY_MODEL_92d79c367503436b82ac155b5967585e",
            "value": 239
          }
        },
        "1c7250cb3a5e4912a4ef26361650bad1": {
          "model_module": "@jupyter-widgets/controls",
          "model_name": "HTMLModel",
          "model_module_version": "1.5.0",
          "state": {
            "_dom_classes": [],
            "_model_module": "@jupyter-widgets/controls",
            "_model_module_version": "1.5.0",
            "_model_name": "HTMLModel",
            "_view_count": null,
            "_view_module": "@jupyter-widgets/controls",
            "_view_module_version": "1.5.0",
            "_view_name": "HTMLView",
            "description": "",
            "description_tooltip": null,
            "layout": "IPY_MODEL_5d60e0928d2c46638e995928290321c8",
            "placeholder": "​",
            "style": "IPY_MODEL_bbeffa2fd4ed4c1d998fb784aba92770",
            "value": " 239/239 [00:00&lt;00:00, 4.91kB/s]"
          }
        },
        "cf81fc93dfa94d928ad34823817b9aa6": {
          "model_module": "@jupyter-widgets/base",
          "model_name": "LayoutModel",
          "model_module_version": "1.2.0",
          "state": {
            "_model_module": "@jupyter-widgets/base",
            "_model_module_version": "1.2.0",
            "_model_name": "LayoutModel",
            "_view_count": null,
            "_view_module": "@jupyter-widgets/base",
            "_view_module_version": "1.2.0",
            "_view_name": "LayoutView",
            "align_content": null,
            "align_items": null,
            "align_self": null,
            "border": null,
            "bottom": null,
            "display": null,
            "flex": null,
            "flex_flow": null,
            "grid_area": null,
            "grid_auto_columns": null,
            "grid_auto_flow": null,
            "grid_auto_rows": null,
            "grid_column": null,
            "grid_gap": null,
            "grid_row": null,
            "grid_template_areas": null,
            "grid_template_columns": null,
            "grid_template_rows": null,
            "height": null,
            "justify_content": null,
            "justify_items": null,
            "left": null,
            "margin": null,
            "max_height": null,
            "max_width": null,
            "min_height": null,
            "min_width": null,
            "object_fit": null,
            "object_position": null,
            "order": null,
            "overflow": null,
            "overflow_x": null,
            "overflow_y": null,
            "padding": null,
            "right": null,
            "top": null,
            "visibility": null,
            "width": null
          }
        },
        "fcfe6df9ac1c44de91946f3a16ddd1fd": {
          "model_module": "@jupyter-widgets/base",
          "model_name": "LayoutModel",
          "model_module_version": "1.2.0",
          "state": {
            "_model_module": "@jupyter-widgets/base",
            "_model_module_version": "1.2.0",
            "_model_name": "LayoutModel",
            "_view_count": null,
            "_view_module": "@jupyter-widgets/base",
            "_view_module_version": "1.2.0",
            "_view_name": "LayoutView",
            "align_content": null,
            "align_items": null,
            "align_self": null,
            "border": null,
            "bottom": null,
            "display": null,
            "flex": null,
            "flex_flow": null,
            "grid_area": null,
            "grid_auto_columns": null,
            "grid_auto_flow": null,
            "grid_auto_rows": null,
            "grid_column": null,
            "grid_gap": null,
            "grid_row": null,
            "grid_template_areas": null,
            "grid_template_columns": null,
            "grid_template_rows": null,
            "height": null,
            "justify_content": null,
            "justify_items": null,
            "left": null,
            "margin": null,
            "max_height": null,
            "max_width": null,
            "min_height": null,
            "min_width": null,
            "object_fit": null,
            "object_position": null,
            "order": null,
            "overflow": null,
            "overflow_x": null,
            "overflow_y": null,
            "padding": null,
            "right": null,
            "top": null,
            "visibility": null,
            "width": null
          }
        },
        "485875cee5134953b240bfd5d34adfb6": {
          "model_module": "@jupyter-widgets/controls",
          "model_name": "DescriptionStyleModel",
          "model_module_version": "1.5.0",
          "state": {
            "_model_module": "@jupyter-widgets/controls",
            "_model_module_version": "1.5.0",
            "_model_name": "DescriptionStyleModel",
            "_view_count": null,
            "_view_module": "@jupyter-widgets/base",
            "_view_module_version": "1.2.0",
            "_view_name": "StyleView",
            "description_width": ""
          }
        },
        "80a34ca7b9a3446c89a25c8c141fa0d8": {
          "model_module": "@jupyter-widgets/base",
          "model_name": "LayoutModel",
          "model_module_version": "1.2.0",
          "state": {
            "_model_module": "@jupyter-widgets/base",
            "_model_module_version": "1.2.0",
            "_model_name": "LayoutModel",
            "_view_count": null,
            "_view_module": "@jupyter-widgets/base",
            "_view_module_version": "1.2.0",
            "_view_name": "LayoutView",
            "align_content": null,
            "align_items": null,
            "align_self": null,
            "border": null,
            "bottom": null,
            "display": null,
            "flex": null,
            "flex_flow": null,
            "grid_area": null,
            "grid_auto_columns": null,
            "grid_auto_flow": null,
            "grid_auto_rows": null,
            "grid_column": null,
            "grid_gap": null,
            "grid_row": null,
            "grid_template_areas": null,
            "grid_template_columns": null,
            "grid_template_rows": null,
            "height": null,
            "justify_content": null,
            "justify_items": null,
            "left": null,
            "margin": null,
            "max_height": null,
            "max_width": null,
            "min_height": null,
            "min_width": null,
            "object_fit": null,
            "object_position": null,
            "order": null,
            "overflow": null,
            "overflow_x": null,
            "overflow_y": null,
            "padding": null,
            "right": null,
            "top": null,
            "visibility": null,
            "width": null
          }
        },
        "92d79c367503436b82ac155b5967585e": {
          "model_module": "@jupyter-widgets/controls",
          "model_name": "ProgressStyleModel",
          "model_module_version": "1.5.0",
          "state": {
            "_model_module": "@jupyter-widgets/controls",
            "_model_module_version": "1.5.0",
            "_model_name": "ProgressStyleModel",
            "_view_count": null,
            "_view_module": "@jupyter-widgets/base",
            "_view_module_version": "1.2.0",
            "_view_name": "StyleView",
            "bar_color": null,
            "description_width": ""
          }
        },
        "5d60e0928d2c46638e995928290321c8": {
          "model_module": "@jupyter-widgets/base",
          "model_name": "LayoutModel",
          "model_module_version": "1.2.0",
          "state": {
            "_model_module": "@jupyter-widgets/base",
            "_model_module_version": "1.2.0",
            "_model_name": "LayoutModel",
            "_view_count": null,
            "_view_module": "@jupyter-widgets/base",
            "_view_module_version": "1.2.0",
            "_view_name": "LayoutView",
            "align_content": null,
            "align_items": null,
            "align_self": null,
            "border": null,
            "bottom": null,
            "display": null,
            "flex": null,
            "flex_flow": null,
            "grid_area": null,
            "grid_auto_columns": null,
            "grid_auto_flow": null,
            "grid_auto_rows": null,
            "grid_column": null,
            "grid_gap": null,
            "grid_row": null,
            "grid_template_areas": null,
            "grid_template_columns": null,
            "grid_template_rows": null,
            "height": null,
            "justify_content": null,
            "justify_items": null,
            "left": null,
            "margin": null,
            "max_height": null,
            "max_width": null,
            "min_height": null,
            "min_width": null,
            "object_fit": null,
            "object_position": null,
            "order": null,
            "overflow": null,
            "overflow_x": null,
            "overflow_y": null,
            "padding": null,
            "right": null,
            "top": null,
            "visibility": null,
            "width": null
          }
        },
        "bbeffa2fd4ed4c1d998fb784aba92770": {
          "model_module": "@jupyter-widgets/controls",
          "model_name": "DescriptionStyleModel",
          "model_module_version": "1.5.0",
          "state": {
            "_model_module": "@jupyter-widgets/controls",
            "_model_module_version": "1.5.0",
            "_model_name": "DescriptionStyleModel",
            "_view_count": null,
            "_view_module": "@jupyter-widgets/base",
            "_view_module_version": "1.2.0",
            "_view_name": "StyleView",
            "description_width": ""
          }
        },
        "cc1c96491c764a21bbb91e98c1a23411": {
          "model_module": "@jupyter-widgets/controls",
          "model_name": "HBoxModel",
          "model_module_version": "1.5.0",
          "state": {
            "_dom_classes": [],
            "_model_module": "@jupyter-widgets/controls",
            "_model_module_version": "1.5.0",
            "_model_name": "HBoxModel",
            "_view_count": null,
            "_view_module": "@jupyter-widgets/controls",
            "_view_module_version": "1.5.0",
            "_view_name": "HBoxView",
            "box_style": "",
            "children": [
              "IPY_MODEL_418a8f7126a6442e9eeb9990096e0d9c",
              "IPY_MODEL_7d51a3b6bac3466f9d798f3add2da8cf",
              "IPY_MODEL_113898e30ab145df85753e6e127d8ae4"
            ],
            "layout": "IPY_MODEL_7da08456df9e4b218d00c424444ff767"
          }
        },
        "418a8f7126a6442e9eeb9990096e0d9c": {
          "model_module": "@jupyter-widgets/controls",
          "model_name": "HTMLModel",
          "model_module_version": "1.5.0",
          "state": {
            "_dom_classes": [],
            "_model_module": "@jupyter-widgets/controls",
            "_model_module_version": "1.5.0",
            "_model_name": "HTMLModel",
            "_view_count": null,
            "_view_module": "@jupyter-widgets/controls",
            "_view_module_version": "1.5.0",
            "_view_name": "HTMLView",
            "description": "",
            "description_tooltip": null,
            "layout": "IPY_MODEL_841106efca47410d8beffff5cec07dd6",
            "placeholder": "​",
            "style": "IPY_MODEL_162551a6844c48fb80d6e2082405b14c",
            "value": "Downloading (…)a8e1d/tokenizer.json: 100%"
          }
        },
        "7d51a3b6bac3466f9d798f3add2da8cf": {
          "model_module": "@jupyter-widgets/controls",
          "model_name": "FloatProgressModel",
          "model_module_version": "1.5.0",
          "state": {
            "_dom_classes": [],
            "_model_module": "@jupyter-widgets/controls",
            "_model_module_version": "1.5.0",
            "_model_name": "FloatProgressModel",
            "_view_count": null,
            "_view_module": "@jupyter-widgets/controls",
            "_view_module_version": "1.5.0",
            "_view_name": "ProgressView",
            "bar_style": "success",
            "description": "",
            "description_tooltip": null,
            "layout": "IPY_MODEL_5c8ed9742b9647b69589e7ed593f2cfb",
            "max": 466021,
            "min": 0,
            "orientation": "horizontal",
            "style": "IPY_MODEL_f22030a191494cde935aa127bc9fde23",
            "value": 466021
          }
        },
        "113898e30ab145df85753e6e127d8ae4": {
          "model_module": "@jupyter-widgets/controls",
          "model_name": "HTMLModel",
          "model_module_version": "1.5.0",
          "state": {
            "_dom_classes": [],
            "_model_module": "@jupyter-widgets/controls",
            "_model_module_version": "1.5.0",
            "_model_name": "HTMLModel",
            "_view_count": null,
            "_view_module": "@jupyter-widgets/controls",
            "_view_module_version": "1.5.0",
            "_view_name": "HTMLView",
            "description": "",
            "description_tooltip": null,
            "layout": "IPY_MODEL_34a1f696427e498fa8a2954d531fb707",
            "placeholder": "​",
            "style": "IPY_MODEL_a34095a32e1045d7a8848f89579e484b",
            "value": " 466k/466k [00:00&lt;00:00, 4.52MB/s]"
          }
        },
        "7da08456df9e4b218d00c424444ff767": {
          "model_module": "@jupyter-widgets/base",
          "model_name": "LayoutModel",
          "model_module_version": "1.2.0",
          "state": {
            "_model_module": "@jupyter-widgets/base",
            "_model_module_version": "1.2.0",
            "_model_name": "LayoutModel",
            "_view_count": null,
            "_view_module": "@jupyter-widgets/base",
            "_view_module_version": "1.2.0",
            "_view_name": "LayoutView",
            "align_content": null,
            "align_items": null,
            "align_self": null,
            "border": null,
            "bottom": null,
            "display": null,
            "flex": null,
            "flex_flow": null,
            "grid_area": null,
            "grid_auto_columns": null,
            "grid_auto_flow": null,
            "grid_auto_rows": null,
            "grid_column": null,
            "grid_gap": null,
            "grid_row": null,
            "grid_template_areas": null,
            "grid_template_columns": null,
            "grid_template_rows": null,
            "height": null,
            "justify_content": null,
            "justify_items": null,
            "left": null,
            "margin": null,
            "max_height": null,
            "max_width": null,
            "min_height": null,
            "min_width": null,
            "object_fit": null,
            "object_position": null,
            "order": null,
            "overflow": null,
            "overflow_x": null,
            "overflow_y": null,
            "padding": null,
            "right": null,
            "top": null,
            "visibility": null,
            "width": null
          }
        },
        "841106efca47410d8beffff5cec07dd6": {
          "model_module": "@jupyter-widgets/base",
          "model_name": "LayoutModel",
          "model_module_version": "1.2.0",
          "state": {
            "_model_module": "@jupyter-widgets/base",
            "_model_module_version": "1.2.0",
            "_model_name": "LayoutModel",
            "_view_count": null,
            "_view_module": "@jupyter-widgets/base",
            "_view_module_version": "1.2.0",
            "_view_name": "LayoutView",
            "align_content": null,
            "align_items": null,
            "align_self": null,
            "border": null,
            "bottom": null,
            "display": null,
            "flex": null,
            "flex_flow": null,
            "grid_area": null,
            "grid_auto_columns": null,
            "grid_auto_flow": null,
            "grid_auto_rows": null,
            "grid_column": null,
            "grid_gap": null,
            "grid_row": null,
            "grid_template_areas": null,
            "grid_template_columns": null,
            "grid_template_rows": null,
            "height": null,
            "justify_content": null,
            "justify_items": null,
            "left": null,
            "margin": null,
            "max_height": null,
            "max_width": null,
            "min_height": null,
            "min_width": null,
            "object_fit": null,
            "object_position": null,
            "order": null,
            "overflow": null,
            "overflow_x": null,
            "overflow_y": null,
            "padding": null,
            "right": null,
            "top": null,
            "visibility": null,
            "width": null
          }
        },
        "162551a6844c48fb80d6e2082405b14c": {
          "model_module": "@jupyter-widgets/controls",
          "model_name": "DescriptionStyleModel",
          "model_module_version": "1.5.0",
          "state": {
            "_model_module": "@jupyter-widgets/controls",
            "_model_module_version": "1.5.0",
            "_model_name": "DescriptionStyleModel",
            "_view_count": null,
            "_view_module": "@jupyter-widgets/base",
            "_view_module_version": "1.2.0",
            "_view_name": "StyleView",
            "description_width": ""
          }
        },
        "5c8ed9742b9647b69589e7ed593f2cfb": {
          "model_module": "@jupyter-widgets/base",
          "model_name": "LayoutModel",
          "model_module_version": "1.2.0",
          "state": {
            "_model_module": "@jupyter-widgets/base",
            "_model_module_version": "1.2.0",
            "_model_name": "LayoutModel",
            "_view_count": null,
            "_view_module": "@jupyter-widgets/base",
            "_view_module_version": "1.2.0",
            "_view_name": "LayoutView",
            "align_content": null,
            "align_items": null,
            "align_self": null,
            "border": null,
            "bottom": null,
            "display": null,
            "flex": null,
            "flex_flow": null,
            "grid_area": null,
            "grid_auto_columns": null,
            "grid_auto_flow": null,
            "grid_auto_rows": null,
            "grid_column": null,
            "grid_gap": null,
            "grid_row": null,
            "grid_template_areas": null,
            "grid_template_columns": null,
            "grid_template_rows": null,
            "height": null,
            "justify_content": null,
            "justify_items": null,
            "left": null,
            "margin": null,
            "max_height": null,
            "max_width": null,
            "min_height": null,
            "min_width": null,
            "object_fit": null,
            "object_position": null,
            "order": null,
            "overflow": null,
            "overflow_x": null,
            "overflow_y": null,
            "padding": null,
            "right": null,
            "top": null,
            "visibility": null,
            "width": null
          }
        },
        "f22030a191494cde935aa127bc9fde23": {
          "model_module": "@jupyter-widgets/controls",
          "model_name": "ProgressStyleModel",
          "model_module_version": "1.5.0",
          "state": {
            "_model_module": "@jupyter-widgets/controls",
            "_model_module_version": "1.5.0",
            "_model_name": "ProgressStyleModel",
            "_view_count": null,
            "_view_module": "@jupyter-widgets/base",
            "_view_module_version": "1.2.0",
            "_view_name": "StyleView",
            "bar_color": null,
            "description_width": ""
          }
        },
        "34a1f696427e498fa8a2954d531fb707": {
          "model_module": "@jupyter-widgets/base",
          "model_name": "LayoutModel",
          "model_module_version": "1.2.0",
          "state": {
            "_model_module": "@jupyter-widgets/base",
            "_model_module_version": "1.2.0",
            "_model_name": "LayoutModel",
            "_view_count": null,
            "_view_module": "@jupyter-widgets/base",
            "_view_module_version": "1.2.0",
            "_view_name": "LayoutView",
            "align_content": null,
            "align_items": null,
            "align_self": null,
            "border": null,
            "bottom": null,
            "display": null,
            "flex": null,
            "flex_flow": null,
            "grid_area": null,
            "grid_auto_columns": null,
            "grid_auto_flow": null,
            "grid_auto_rows": null,
            "grid_column": null,
            "grid_gap": null,
            "grid_row": null,
            "grid_template_areas": null,
            "grid_template_columns": null,
            "grid_template_rows": null,
            "height": null,
            "justify_content": null,
            "justify_items": null,
            "left": null,
            "margin": null,
            "max_height": null,
            "max_width": null,
            "min_height": null,
            "min_width": null,
            "object_fit": null,
            "object_position": null,
            "order": null,
            "overflow": null,
            "overflow_x": null,
            "overflow_y": null,
            "padding": null,
            "right": null,
            "top": null,
            "visibility": null,
            "width": null
          }
        },
        "a34095a32e1045d7a8848f89579e484b": {
          "model_module": "@jupyter-widgets/controls",
          "model_name": "DescriptionStyleModel",
          "model_module_version": "1.5.0",
          "state": {
            "_model_module": "@jupyter-widgets/controls",
            "_model_module_version": "1.5.0",
            "_model_name": "DescriptionStyleModel",
            "_view_count": null,
            "_view_module": "@jupyter-widgets/base",
            "_view_module_version": "1.2.0",
            "_view_name": "StyleView",
            "description_width": ""
          }
        },
        "1073323075b44151bc347d83db41d0f5": {
          "model_module": "@jupyter-widgets/controls",
          "model_name": "HBoxModel",
          "model_module_version": "1.5.0",
          "state": {
            "_dom_classes": [],
            "_model_module": "@jupyter-widgets/controls",
            "_model_module_version": "1.5.0",
            "_model_name": "HBoxModel",
            "_view_count": null,
            "_view_module": "@jupyter-widgets/controls",
            "_view_module_version": "1.5.0",
            "_view_name": "HBoxView",
            "box_style": "",
            "children": [
              "IPY_MODEL_26d01e5397884f63908e3a82a0c5a933",
              "IPY_MODEL_bb3b5c0941884d82ab2daa5d5671ea22",
              "IPY_MODEL_1143311e01a247648aa412fe687ab02a"
            ],
            "layout": "IPY_MODEL_55eb783842544b94a930227d522a1909"
          }
        },
        "26d01e5397884f63908e3a82a0c5a933": {
          "model_module": "@jupyter-widgets/controls",
          "model_name": "HTMLModel",
          "model_module_version": "1.5.0",
          "state": {
            "_dom_classes": [],
            "_model_module": "@jupyter-widgets/controls",
            "_model_module_version": "1.5.0",
            "_model_name": "HTMLModel",
            "_view_count": null,
            "_view_module": "@jupyter-widgets/controls",
            "_view_module_version": "1.5.0",
            "_view_name": "HTMLView",
            "description": "",
            "description_tooltip": null,
            "layout": "IPY_MODEL_e020479b20314f8081c7a7a7d203aefa",
            "placeholder": "​",
            "style": "IPY_MODEL_fbf0008c9da948bba2132971f0ab7840",
            "value": "Downloading (…)okenizer_config.json: 100%"
          }
        },
        "bb3b5c0941884d82ab2daa5d5671ea22": {
          "model_module": "@jupyter-widgets/controls",
          "model_name": "FloatProgressModel",
          "model_module_version": "1.5.0",
          "state": {
            "_dom_classes": [],
            "_model_module": "@jupyter-widgets/controls",
            "_model_module_version": "1.5.0",
            "_model_name": "FloatProgressModel",
            "_view_count": null,
            "_view_module": "@jupyter-widgets/controls",
            "_view_module_version": "1.5.0",
            "_view_name": "ProgressView",
            "bar_style": "success",
            "description": "",
            "description_tooltip": null,
            "layout": "IPY_MODEL_8f422db613c3430ca99d6d2232b83267",
            "max": 363,
            "min": 0,
            "orientation": "horizontal",
            "style": "IPY_MODEL_662c62d47f59429bbd20771a4bcbd8cd",
            "value": 363
          }
        },
        "1143311e01a247648aa412fe687ab02a": {
          "model_module": "@jupyter-widgets/controls",
          "model_name": "HTMLModel",
          "model_module_version": "1.5.0",
          "state": {
            "_dom_classes": [],
            "_model_module": "@jupyter-widgets/controls",
            "_model_module_version": "1.5.0",
            "_model_name": "HTMLModel",
            "_view_count": null,
            "_view_module": "@jupyter-widgets/controls",
            "_view_module_version": "1.5.0",
            "_view_name": "HTMLView",
            "description": "",
            "description_tooltip": null,
            "layout": "IPY_MODEL_01b790a6a87547bea7031fef28bd004a",
            "placeholder": "​",
            "style": "IPY_MODEL_98c07aba477043488fbb2d30bb6574ba",
            "value": " 363/363 [00:00&lt;00:00, 21.7kB/s]"
          }
        },
        "55eb783842544b94a930227d522a1909": {
          "model_module": "@jupyter-widgets/base",
          "model_name": "LayoutModel",
          "model_module_version": "1.2.0",
          "state": {
            "_model_module": "@jupyter-widgets/base",
            "_model_module_version": "1.2.0",
            "_model_name": "LayoutModel",
            "_view_count": null,
            "_view_module": "@jupyter-widgets/base",
            "_view_module_version": "1.2.0",
            "_view_name": "LayoutView",
            "align_content": null,
            "align_items": null,
            "align_self": null,
            "border": null,
            "bottom": null,
            "display": null,
            "flex": null,
            "flex_flow": null,
            "grid_area": null,
            "grid_auto_columns": null,
            "grid_auto_flow": null,
            "grid_auto_rows": null,
            "grid_column": null,
            "grid_gap": null,
            "grid_row": null,
            "grid_template_areas": null,
            "grid_template_columns": null,
            "grid_template_rows": null,
            "height": null,
            "justify_content": null,
            "justify_items": null,
            "left": null,
            "margin": null,
            "max_height": null,
            "max_width": null,
            "min_height": null,
            "min_width": null,
            "object_fit": null,
            "object_position": null,
            "order": null,
            "overflow": null,
            "overflow_x": null,
            "overflow_y": null,
            "padding": null,
            "right": null,
            "top": null,
            "visibility": null,
            "width": null
          }
        },
        "e020479b20314f8081c7a7a7d203aefa": {
          "model_module": "@jupyter-widgets/base",
          "model_name": "LayoutModel",
          "model_module_version": "1.2.0",
          "state": {
            "_model_module": "@jupyter-widgets/base",
            "_model_module_version": "1.2.0",
            "_model_name": "LayoutModel",
            "_view_count": null,
            "_view_module": "@jupyter-widgets/base",
            "_view_module_version": "1.2.0",
            "_view_name": "LayoutView",
            "align_content": null,
            "align_items": null,
            "align_self": null,
            "border": null,
            "bottom": null,
            "display": null,
            "flex": null,
            "flex_flow": null,
            "grid_area": null,
            "grid_auto_columns": null,
            "grid_auto_flow": null,
            "grid_auto_rows": null,
            "grid_column": null,
            "grid_gap": null,
            "grid_row": null,
            "grid_template_areas": null,
            "grid_template_columns": null,
            "grid_template_rows": null,
            "height": null,
            "justify_content": null,
            "justify_items": null,
            "left": null,
            "margin": null,
            "max_height": null,
            "max_width": null,
            "min_height": null,
            "min_width": null,
            "object_fit": null,
            "object_position": null,
            "order": null,
            "overflow": null,
            "overflow_x": null,
            "overflow_y": null,
            "padding": null,
            "right": null,
            "top": null,
            "visibility": null,
            "width": null
          }
        },
        "fbf0008c9da948bba2132971f0ab7840": {
          "model_module": "@jupyter-widgets/controls",
          "model_name": "DescriptionStyleModel",
          "model_module_version": "1.5.0",
          "state": {
            "_model_module": "@jupyter-widgets/controls",
            "_model_module_version": "1.5.0",
            "_model_name": "DescriptionStyleModel",
            "_view_count": null,
            "_view_module": "@jupyter-widgets/base",
            "_view_module_version": "1.2.0",
            "_view_name": "StyleView",
            "description_width": ""
          }
        },
        "8f422db613c3430ca99d6d2232b83267": {
          "model_module": "@jupyter-widgets/base",
          "model_name": "LayoutModel",
          "model_module_version": "1.2.0",
          "state": {
            "_model_module": "@jupyter-widgets/base",
            "_model_module_version": "1.2.0",
            "_model_name": "LayoutModel",
            "_view_count": null,
            "_view_module": "@jupyter-widgets/base",
            "_view_module_version": "1.2.0",
            "_view_name": "LayoutView",
            "align_content": null,
            "align_items": null,
            "align_self": null,
            "border": null,
            "bottom": null,
            "display": null,
            "flex": null,
            "flex_flow": null,
            "grid_area": null,
            "grid_auto_columns": null,
            "grid_auto_flow": null,
            "grid_auto_rows": null,
            "grid_column": null,
            "grid_gap": null,
            "grid_row": null,
            "grid_template_areas": null,
            "grid_template_columns": null,
            "grid_template_rows": null,
            "height": null,
            "justify_content": null,
            "justify_items": null,
            "left": null,
            "margin": null,
            "max_height": null,
            "max_width": null,
            "min_height": null,
            "min_width": null,
            "object_fit": null,
            "object_position": null,
            "order": null,
            "overflow": null,
            "overflow_x": null,
            "overflow_y": null,
            "padding": null,
            "right": null,
            "top": null,
            "visibility": null,
            "width": null
          }
        },
        "662c62d47f59429bbd20771a4bcbd8cd": {
          "model_module": "@jupyter-widgets/controls",
          "model_name": "ProgressStyleModel",
          "model_module_version": "1.5.0",
          "state": {
            "_model_module": "@jupyter-widgets/controls",
            "_model_module_version": "1.5.0",
            "_model_name": "ProgressStyleModel",
            "_view_count": null,
            "_view_module": "@jupyter-widgets/base",
            "_view_module_version": "1.2.0",
            "_view_name": "StyleView",
            "bar_color": null,
            "description_width": ""
          }
        },
        "01b790a6a87547bea7031fef28bd004a": {
          "model_module": "@jupyter-widgets/base",
          "model_name": "LayoutModel",
          "model_module_version": "1.2.0",
          "state": {
            "_model_module": "@jupyter-widgets/base",
            "_model_module_version": "1.2.0",
            "_model_name": "LayoutModel",
            "_view_count": null,
            "_view_module": "@jupyter-widgets/base",
            "_view_module_version": "1.2.0",
            "_view_name": "LayoutView",
            "align_content": null,
            "align_items": null,
            "align_self": null,
            "border": null,
            "bottom": null,
            "display": null,
            "flex": null,
            "flex_flow": null,
            "grid_area": null,
            "grid_auto_columns": null,
            "grid_auto_flow": null,
            "grid_auto_rows": null,
            "grid_column": null,
            "grid_gap": null,
            "grid_row": null,
            "grid_template_areas": null,
            "grid_template_columns": null,
            "grid_template_rows": null,
            "height": null,
            "justify_content": null,
            "justify_items": null,
            "left": null,
            "margin": null,
            "max_height": null,
            "max_width": null,
            "min_height": null,
            "min_width": null,
            "object_fit": null,
            "object_position": null,
            "order": null,
            "overflow": null,
            "overflow_x": null,
            "overflow_y": null,
            "padding": null,
            "right": null,
            "top": null,
            "visibility": null,
            "width": null
          }
        },
        "98c07aba477043488fbb2d30bb6574ba": {
          "model_module": "@jupyter-widgets/controls",
          "model_name": "DescriptionStyleModel",
          "model_module_version": "1.5.0",
          "state": {
            "_model_module": "@jupyter-widgets/controls",
            "_model_module_version": "1.5.0",
            "_model_name": "DescriptionStyleModel",
            "_view_count": null,
            "_view_module": "@jupyter-widgets/base",
            "_view_module_version": "1.2.0",
            "_view_name": "StyleView",
            "description_width": ""
          }
        },
        "162be9a7a194440284b5b4545e960964": {
          "model_module": "@jupyter-widgets/controls",
          "model_name": "HBoxModel",
          "model_module_version": "1.5.0",
          "state": {
            "_dom_classes": [],
            "_model_module": "@jupyter-widgets/controls",
            "_model_module_version": "1.5.0",
            "_model_name": "HBoxModel",
            "_view_count": null,
            "_view_module": "@jupyter-widgets/controls",
            "_view_module_version": "1.5.0",
            "_view_name": "HBoxView",
            "box_style": "",
            "children": [
              "IPY_MODEL_8696d86e3ac24454bfaca718835571b9",
              "IPY_MODEL_84f3cd35b8da48a4b6fc97bcde864054",
              "IPY_MODEL_e9583bdec2524dfe8d5f88973392e957"
            ],
            "layout": "IPY_MODEL_0c62dd2218da46ce9f5dc9669290b6ca"
          }
        },
        "8696d86e3ac24454bfaca718835571b9": {
          "model_module": "@jupyter-widgets/controls",
          "model_name": "HTMLModel",
          "model_module_version": "1.5.0",
          "state": {
            "_dom_classes": [],
            "_model_module": "@jupyter-widgets/controls",
            "_model_module_version": "1.5.0",
            "_model_name": "HTMLModel",
            "_view_count": null,
            "_view_module": "@jupyter-widgets/controls",
            "_view_module_version": "1.5.0",
            "_view_name": "HTMLView",
            "description": "",
            "description_tooltip": null,
            "layout": "IPY_MODEL_56fd8eea598047fa95a812587fd06e8c",
            "placeholder": "​",
            "style": "IPY_MODEL_d29026981a2743129ddf5411ae54941b",
            "value": "Downloading (…)8e1d/train_script.py: 100%"
          }
        },
        "84f3cd35b8da48a4b6fc97bcde864054": {
          "model_module": "@jupyter-widgets/controls",
          "model_name": "FloatProgressModel",
          "model_module_version": "1.5.0",
          "state": {
            "_dom_classes": [],
            "_model_module": "@jupyter-widgets/controls",
            "_model_module_version": "1.5.0",
            "_model_name": "FloatProgressModel",
            "_view_count": null,
            "_view_module": "@jupyter-widgets/controls",
            "_view_module_version": "1.5.0",
            "_view_name": "ProgressView",
            "bar_style": "success",
            "description": "",
            "description_tooltip": null,
            "layout": "IPY_MODEL_bfe03b901a5443ada0db6fe475cf0601",
            "max": 13123,
            "min": 0,
            "orientation": "horizontal",
            "style": "IPY_MODEL_36abf80b3e804e02b45cb952f4091674",
            "value": 13123
          }
        },
        "e9583bdec2524dfe8d5f88973392e957": {
          "model_module": "@jupyter-widgets/controls",
          "model_name": "HTMLModel",
          "model_module_version": "1.5.0",
          "state": {
            "_dom_classes": [],
            "_model_module": "@jupyter-widgets/controls",
            "_model_module_version": "1.5.0",
            "_model_name": "HTMLModel",
            "_view_count": null,
            "_view_module": "@jupyter-widgets/controls",
            "_view_module_version": "1.5.0",
            "_view_name": "HTMLView",
            "description": "",
            "description_tooltip": null,
            "layout": "IPY_MODEL_3ef26e1a03b4437a944a82ea81736d6c",
            "placeholder": "​",
            "style": "IPY_MODEL_17ae886ef5ae4b8fbdd53598fefc6dea",
            "value": " 13.1k/13.1k [00:00&lt;00:00, 570kB/s]"
          }
        },
        "0c62dd2218da46ce9f5dc9669290b6ca": {
          "model_module": "@jupyter-widgets/base",
          "model_name": "LayoutModel",
          "model_module_version": "1.2.0",
          "state": {
            "_model_module": "@jupyter-widgets/base",
            "_model_module_version": "1.2.0",
            "_model_name": "LayoutModel",
            "_view_count": null,
            "_view_module": "@jupyter-widgets/base",
            "_view_module_version": "1.2.0",
            "_view_name": "LayoutView",
            "align_content": null,
            "align_items": null,
            "align_self": null,
            "border": null,
            "bottom": null,
            "display": null,
            "flex": null,
            "flex_flow": null,
            "grid_area": null,
            "grid_auto_columns": null,
            "grid_auto_flow": null,
            "grid_auto_rows": null,
            "grid_column": null,
            "grid_gap": null,
            "grid_row": null,
            "grid_template_areas": null,
            "grid_template_columns": null,
            "grid_template_rows": null,
            "height": null,
            "justify_content": null,
            "justify_items": null,
            "left": null,
            "margin": null,
            "max_height": null,
            "max_width": null,
            "min_height": null,
            "min_width": null,
            "object_fit": null,
            "object_position": null,
            "order": null,
            "overflow": null,
            "overflow_x": null,
            "overflow_y": null,
            "padding": null,
            "right": null,
            "top": null,
            "visibility": null,
            "width": null
          }
        },
        "56fd8eea598047fa95a812587fd06e8c": {
          "model_module": "@jupyter-widgets/base",
          "model_name": "LayoutModel",
          "model_module_version": "1.2.0",
          "state": {
            "_model_module": "@jupyter-widgets/base",
            "_model_module_version": "1.2.0",
            "_model_name": "LayoutModel",
            "_view_count": null,
            "_view_module": "@jupyter-widgets/base",
            "_view_module_version": "1.2.0",
            "_view_name": "LayoutView",
            "align_content": null,
            "align_items": null,
            "align_self": null,
            "border": null,
            "bottom": null,
            "display": null,
            "flex": null,
            "flex_flow": null,
            "grid_area": null,
            "grid_auto_columns": null,
            "grid_auto_flow": null,
            "grid_auto_rows": null,
            "grid_column": null,
            "grid_gap": null,
            "grid_row": null,
            "grid_template_areas": null,
            "grid_template_columns": null,
            "grid_template_rows": null,
            "height": null,
            "justify_content": null,
            "justify_items": null,
            "left": null,
            "margin": null,
            "max_height": null,
            "max_width": null,
            "min_height": null,
            "min_width": null,
            "object_fit": null,
            "object_position": null,
            "order": null,
            "overflow": null,
            "overflow_x": null,
            "overflow_y": null,
            "padding": null,
            "right": null,
            "top": null,
            "visibility": null,
            "width": null
          }
        },
        "d29026981a2743129ddf5411ae54941b": {
          "model_module": "@jupyter-widgets/controls",
          "model_name": "DescriptionStyleModel",
          "model_module_version": "1.5.0",
          "state": {
            "_model_module": "@jupyter-widgets/controls",
            "_model_module_version": "1.5.0",
            "_model_name": "DescriptionStyleModel",
            "_view_count": null,
            "_view_module": "@jupyter-widgets/base",
            "_view_module_version": "1.2.0",
            "_view_name": "StyleView",
            "description_width": ""
          }
        },
        "bfe03b901a5443ada0db6fe475cf0601": {
          "model_module": "@jupyter-widgets/base",
          "model_name": "LayoutModel",
          "model_module_version": "1.2.0",
          "state": {
            "_model_module": "@jupyter-widgets/base",
            "_model_module_version": "1.2.0",
            "_model_name": "LayoutModel",
            "_view_count": null,
            "_view_module": "@jupyter-widgets/base",
            "_view_module_version": "1.2.0",
            "_view_name": "LayoutView",
            "align_content": null,
            "align_items": null,
            "align_self": null,
            "border": null,
            "bottom": null,
            "display": null,
            "flex": null,
            "flex_flow": null,
            "grid_area": null,
            "grid_auto_columns": null,
            "grid_auto_flow": null,
            "grid_auto_rows": null,
            "grid_column": null,
            "grid_gap": null,
            "grid_row": null,
            "grid_template_areas": null,
            "grid_template_columns": null,
            "grid_template_rows": null,
            "height": null,
            "justify_content": null,
            "justify_items": null,
            "left": null,
            "margin": null,
            "max_height": null,
            "max_width": null,
            "min_height": null,
            "min_width": null,
            "object_fit": null,
            "object_position": null,
            "order": null,
            "overflow": null,
            "overflow_x": null,
            "overflow_y": null,
            "padding": null,
            "right": null,
            "top": null,
            "visibility": null,
            "width": null
          }
        },
        "36abf80b3e804e02b45cb952f4091674": {
          "model_module": "@jupyter-widgets/controls",
          "model_name": "ProgressStyleModel",
          "model_module_version": "1.5.0",
          "state": {
            "_model_module": "@jupyter-widgets/controls",
            "_model_module_version": "1.5.0",
            "_model_name": "ProgressStyleModel",
            "_view_count": null,
            "_view_module": "@jupyter-widgets/base",
            "_view_module_version": "1.2.0",
            "_view_name": "StyleView",
            "bar_color": null,
            "description_width": ""
          }
        },
        "3ef26e1a03b4437a944a82ea81736d6c": {
          "model_module": "@jupyter-widgets/base",
          "model_name": "LayoutModel",
          "model_module_version": "1.2.0",
          "state": {
            "_model_module": "@jupyter-widgets/base",
            "_model_module_version": "1.2.0",
            "_model_name": "LayoutModel",
            "_view_count": null,
            "_view_module": "@jupyter-widgets/base",
            "_view_module_version": "1.2.0",
            "_view_name": "LayoutView",
            "align_content": null,
            "align_items": null,
            "align_self": null,
            "border": null,
            "bottom": null,
            "display": null,
            "flex": null,
            "flex_flow": null,
            "grid_area": null,
            "grid_auto_columns": null,
            "grid_auto_flow": null,
            "grid_auto_rows": null,
            "grid_column": null,
            "grid_gap": null,
            "grid_row": null,
            "grid_template_areas": null,
            "grid_template_columns": null,
            "grid_template_rows": null,
            "height": null,
            "justify_content": null,
            "justify_items": null,
            "left": null,
            "margin": null,
            "max_height": null,
            "max_width": null,
            "min_height": null,
            "min_width": null,
            "object_fit": null,
            "object_position": null,
            "order": null,
            "overflow": null,
            "overflow_x": null,
            "overflow_y": null,
            "padding": null,
            "right": null,
            "top": null,
            "visibility": null,
            "width": null
          }
        },
        "17ae886ef5ae4b8fbdd53598fefc6dea": {
          "model_module": "@jupyter-widgets/controls",
          "model_name": "DescriptionStyleModel",
          "model_module_version": "1.5.0",
          "state": {
            "_model_module": "@jupyter-widgets/controls",
            "_model_module_version": "1.5.0",
            "_model_name": "DescriptionStyleModel",
            "_view_count": null,
            "_view_module": "@jupyter-widgets/base",
            "_view_module_version": "1.2.0",
            "_view_name": "StyleView",
            "description_width": ""
          }
        },
        "5470c9791d7f464395b8d2c95a324474": {
          "model_module": "@jupyter-widgets/controls",
          "model_name": "HBoxModel",
          "model_module_version": "1.5.0",
          "state": {
            "_dom_classes": [],
            "_model_module": "@jupyter-widgets/controls",
            "_model_module_version": "1.5.0",
            "_model_name": "HBoxModel",
            "_view_count": null,
            "_view_module": "@jupyter-widgets/controls",
            "_view_module_version": "1.5.0",
            "_view_name": "HBoxView",
            "box_style": "",
            "children": [
              "IPY_MODEL_bd5c8e9aa7694870965d4e8b9ca23810",
              "IPY_MODEL_b0dc3896c7ea4b5bb2bc737a0bd26534",
              "IPY_MODEL_e8989d7e16f148c8b3189825f49a3bbb"
            ],
            "layout": "IPY_MODEL_b0259f16ea96471c807c32ad80f52e48"
          }
        },
        "bd5c8e9aa7694870965d4e8b9ca23810": {
          "model_module": "@jupyter-widgets/controls",
          "model_name": "HTMLModel",
          "model_module_version": "1.5.0",
          "state": {
            "_dom_classes": [],
            "_model_module": "@jupyter-widgets/controls",
            "_model_module_version": "1.5.0",
            "_model_name": "HTMLModel",
            "_view_count": null,
            "_view_module": "@jupyter-widgets/controls",
            "_view_module_version": "1.5.0",
            "_view_name": "HTMLView",
            "description": "",
            "description_tooltip": null,
            "layout": "IPY_MODEL_e7f78dd0d71a4279ba8b92b5be985d55",
            "placeholder": "​",
            "style": "IPY_MODEL_392838f2bd824905be26729caa2579db",
            "value": "Downloading (…)b20bca8e1d/vocab.txt: 100%"
          }
        },
        "b0dc3896c7ea4b5bb2bc737a0bd26534": {
          "model_module": "@jupyter-widgets/controls",
          "model_name": "FloatProgressModel",
          "model_module_version": "1.5.0",
          "state": {
            "_dom_classes": [],
            "_model_module": "@jupyter-widgets/controls",
            "_model_module_version": "1.5.0",
            "_model_name": "FloatProgressModel",
            "_view_count": null,
            "_view_module": "@jupyter-widgets/controls",
            "_view_module_version": "1.5.0",
            "_view_name": "ProgressView",
            "bar_style": "success",
            "description": "",
            "description_tooltip": null,
            "layout": "IPY_MODEL_3bd2f9a77209420db64b24af91c2f365",
            "max": 231536,
            "min": 0,
            "orientation": "horizontal",
            "style": "IPY_MODEL_94bb5847886d4073b087398faa9f6c7e",
            "value": 231536
          }
        },
        "e8989d7e16f148c8b3189825f49a3bbb": {
          "model_module": "@jupyter-widgets/controls",
          "model_name": "HTMLModel",
          "model_module_version": "1.5.0",
          "state": {
            "_dom_classes": [],
            "_model_module": "@jupyter-widgets/controls",
            "_model_module_version": "1.5.0",
            "_model_name": "HTMLModel",
            "_view_count": null,
            "_view_module": "@jupyter-widgets/controls",
            "_view_module_version": "1.5.0",
            "_view_name": "HTMLView",
            "description": "",
            "description_tooltip": null,
            "layout": "IPY_MODEL_3de23cc793ad4e92b525c30fb6429aad",
            "placeholder": "​",
            "style": "IPY_MODEL_919ad0d7275f4acbabbebe36c07f9bef",
            "value": " 232k/232k [00:00&lt;00:00, 5.59MB/s]"
          }
        },
        "b0259f16ea96471c807c32ad80f52e48": {
          "model_module": "@jupyter-widgets/base",
          "model_name": "LayoutModel",
          "model_module_version": "1.2.0",
          "state": {
            "_model_module": "@jupyter-widgets/base",
            "_model_module_version": "1.2.0",
            "_model_name": "LayoutModel",
            "_view_count": null,
            "_view_module": "@jupyter-widgets/base",
            "_view_module_version": "1.2.0",
            "_view_name": "LayoutView",
            "align_content": null,
            "align_items": null,
            "align_self": null,
            "border": null,
            "bottom": null,
            "display": null,
            "flex": null,
            "flex_flow": null,
            "grid_area": null,
            "grid_auto_columns": null,
            "grid_auto_flow": null,
            "grid_auto_rows": null,
            "grid_column": null,
            "grid_gap": null,
            "grid_row": null,
            "grid_template_areas": null,
            "grid_template_columns": null,
            "grid_template_rows": null,
            "height": null,
            "justify_content": null,
            "justify_items": null,
            "left": null,
            "margin": null,
            "max_height": null,
            "max_width": null,
            "min_height": null,
            "min_width": null,
            "object_fit": null,
            "object_position": null,
            "order": null,
            "overflow": null,
            "overflow_x": null,
            "overflow_y": null,
            "padding": null,
            "right": null,
            "top": null,
            "visibility": null,
            "width": null
          }
        },
        "e7f78dd0d71a4279ba8b92b5be985d55": {
          "model_module": "@jupyter-widgets/base",
          "model_name": "LayoutModel",
          "model_module_version": "1.2.0",
          "state": {
            "_model_module": "@jupyter-widgets/base",
            "_model_module_version": "1.2.0",
            "_model_name": "LayoutModel",
            "_view_count": null,
            "_view_module": "@jupyter-widgets/base",
            "_view_module_version": "1.2.0",
            "_view_name": "LayoutView",
            "align_content": null,
            "align_items": null,
            "align_self": null,
            "border": null,
            "bottom": null,
            "display": null,
            "flex": null,
            "flex_flow": null,
            "grid_area": null,
            "grid_auto_columns": null,
            "grid_auto_flow": null,
            "grid_auto_rows": null,
            "grid_column": null,
            "grid_gap": null,
            "grid_row": null,
            "grid_template_areas": null,
            "grid_template_columns": null,
            "grid_template_rows": null,
            "height": null,
            "justify_content": null,
            "justify_items": null,
            "left": null,
            "margin": null,
            "max_height": null,
            "max_width": null,
            "min_height": null,
            "min_width": null,
            "object_fit": null,
            "object_position": null,
            "order": null,
            "overflow": null,
            "overflow_x": null,
            "overflow_y": null,
            "padding": null,
            "right": null,
            "top": null,
            "visibility": null,
            "width": null
          }
        },
        "392838f2bd824905be26729caa2579db": {
          "model_module": "@jupyter-widgets/controls",
          "model_name": "DescriptionStyleModel",
          "model_module_version": "1.5.0",
          "state": {
            "_model_module": "@jupyter-widgets/controls",
            "_model_module_version": "1.5.0",
            "_model_name": "DescriptionStyleModel",
            "_view_count": null,
            "_view_module": "@jupyter-widgets/base",
            "_view_module_version": "1.2.0",
            "_view_name": "StyleView",
            "description_width": ""
          }
        },
        "3bd2f9a77209420db64b24af91c2f365": {
          "model_module": "@jupyter-widgets/base",
          "model_name": "LayoutModel",
          "model_module_version": "1.2.0",
          "state": {
            "_model_module": "@jupyter-widgets/base",
            "_model_module_version": "1.2.0",
            "_model_name": "LayoutModel",
            "_view_count": null,
            "_view_module": "@jupyter-widgets/base",
            "_view_module_version": "1.2.0",
            "_view_name": "LayoutView",
            "align_content": null,
            "align_items": null,
            "align_self": null,
            "border": null,
            "bottom": null,
            "display": null,
            "flex": null,
            "flex_flow": null,
            "grid_area": null,
            "grid_auto_columns": null,
            "grid_auto_flow": null,
            "grid_auto_rows": null,
            "grid_column": null,
            "grid_gap": null,
            "grid_row": null,
            "grid_template_areas": null,
            "grid_template_columns": null,
            "grid_template_rows": null,
            "height": null,
            "justify_content": null,
            "justify_items": null,
            "left": null,
            "margin": null,
            "max_height": null,
            "max_width": null,
            "min_height": null,
            "min_width": null,
            "object_fit": null,
            "object_position": null,
            "order": null,
            "overflow": null,
            "overflow_x": null,
            "overflow_y": null,
            "padding": null,
            "right": null,
            "top": null,
            "visibility": null,
            "width": null
          }
        },
        "94bb5847886d4073b087398faa9f6c7e": {
          "model_module": "@jupyter-widgets/controls",
          "model_name": "ProgressStyleModel",
          "model_module_version": "1.5.0",
          "state": {
            "_model_module": "@jupyter-widgets/controls",
            "_model_module_version": "1.5.0",
            "_model_name": "ProgressStyleModel",
            "_view_count": null,
            "_view_module": "@jupyter-widgets/base",
            "_view_module_version": "1.2.0",
            "_view_name": "StyleView",
            "bar_color": null,
            "description_width": ""
          }
        },
        "3de23cc793ad4e92b525c30fb6429aad": {
          "model_module": "@jupyter-widgets/base",
          "model_name": "LayoutModel",
          "model_module_version": "1.2.0",
          "state": {
            "_model_module": "@jupyter-widgets/base",
            "_model_module_version": "1.2.0",
            "_model_name": "LayoutModel",
            "_view_count": null,
            "_view_module": "@jupyter-widgets/base",
            "_view_module_version": "1.2.0",
            "_view_name": "LayoutView",
            "align_content": null,
            "align_items": null,
            "align_self": null,
            "border": null,
            "bottom": null,
            "display": null,
            "flex": null,
            "flex_flow": null,
            "grid_area": null,
            "grid_auto_columns": null,
            "grid_auto_flow": null,
            "grid_auto_rows": null,
            "grid_column": null,
            "grid_gap": null,
            "grid_row": null,
            "grid_template_areas": null,
            "grid_template_columns": null,
            "grid_template_rows": null,
            "height": null,
            "justify_content": null,
            "justify_items": null,
            "left": null,
            "margin": null,
            "max_height": null,
            "max_width": null,
            "min_height": null,
            "min_width": null,
            "object_fit": null,
            "object_position": null,
            "order": null,
            "overflow": null,
            "overflow_x": null,
            "overflow_y": null,
            "padding": null,
            "right": null,
            "top": null,
            "visibility": null,
            "width": null
          }
        },
        "919ad0d7275f4acbabbebe36c07f9bef": {
          "model_module": "@jupyter-widgets/controls",
          "model_name": "DescriptionStyleModel",
          "model_module_version": "1.5.0",
          "state": {
            "_model_module": "@jupyter-widgets/controls",
            "_model_module_version": "1.5.0",
            "_model_name": "DescriptionStyleModel",
            "_view_count": null,
            "_view_module": "@jupyter-widgets/base",
            "_view_module_version": "1.2.0",
            "_view_name": "StyleView",
            "description_width": ""
          }
        },
        "48151b227b0d40b882876003ac0f87b9": {
          "model_module": "@jupyter-widgets/controls",
          "model_name": "HBoxModel",
          "model_module_version": "1.5.0",
          "state": {
            "_dom_classes": [],
            "_model_module": "@jupyter-widgets/controls",
            "_model_module_version": "1.5.0",
            "_model_name": "HBoxModel",
            "_view_count": null,
            "_view_module": "@jupyter-widgets/controls",
            "_view_module_version": "1.5.0",
            "_view_name": "HBoxView",
            "box_style": "",
            "children": [
              "IPY_MODEL_e58fb9c05ef94c7480573ba74da9a678",
              "IPY_MODEL_a92175a8e41a43528efc84725cfeef01",
              "IPY_MODEL_590d314dd1e34d9a82c328ead9857640"
            ],
            "layout": "IPY_MODEL_66d1a9a6b24c47e48c9627365729d059"
          }
        },
        "e58fb9c05ef94c7480573ba74da9a678": {
          "model_module": "@jupyter-widgets/controls",
          "model_name": "HTMLModel",
          "model_module_version": "1.5.0",
          "state": {
            "_dom_classes": [],
            "_model_module": "@jupyter-widgets/controls",
            "_model_module_version": "1.5.0",
            "_model_name": "HTMLModel",
            "_view_count": null,
            "_view_module": "@jupyter-widgets/controls",
            "_view_module_version": "1.5.0",
            "_view_name": "HTMLView",
            "description": "",
            "description_tooltip": null,
            "layout": "IPY_MODEL_17d68d5a91f94dd5a47b14885f92ea64",
            "placeholder": "​",
            "style": "IPY_MODEL_b6670b9bd3234e3d885da04e754235b6",
            "value": "Downloading (…)bca8e1d/modules.json: 100%"
          }
        },
        "a92175a8e41a43528efc84725cfeef01": {
          "model_module": "@jupyter-widgets/controls",
          "model_name": "FloatProgressModel",
          "model_module_version": "1.5.0",
          "state": {
            "_dom_classes": [],
            "_model_module": "@jupyter-widgets/controls",
            "_model_module_version": "1.5.0",
            "_model_name": "FloatProgressModel",
            "_view_count": null,
            "_view_module": "@jupyter-widgets/controls",
            "_view_module_version": "1.5.0",
            "_view_name": "ProgressView",
            "bar_style": "success",
            "description": "",
            "description_tooltip": null,
            "layout": "IPY_MODEL_e26dd29ebe644ad6a21bed0b46b813b6",
            "max": 349,
            "min": 0,
            "orientation": "horizontal",
            "style": "IPY_MODEL_4f0a65d6624843e9bbaed738d1882a5f",
            "value": 349
          }
        },
        "590d314dd1e34d9a82c328ead9857640": {
          "model_module": "@jupyter-widgets/controls",
          "model_name": "HTMLModel",
          "model_module_version": "1.5.0",
          "state": {
            "_dom_classes": [],
            "_model_module": "@jupyter-widgets/controls",
            "_model_module_version": "1.5.0",
            "_model_name": "HTMLModel",
            "_view_count": null,
            "_view_module": "@jupyter-widgets/controls",
            "_view_module_version": "1.5.0",
            "_view_name": "HTMLView",
            "description": "",
            "description_tooltip": null,
            "layout": "IPY_MODEL_ae2f43fa45db496f962c683c7b54b6ae",
            "placeholder": "​",
            "style": "IPY_MODEL_b7f3d63ff36b494c80c54a562dc9d3a0",
            "value": " 349/349 [00:00&lt;00:00, 15.8kB/s]"
          }
        },
        "66d1a9a6b24c47e48c9627365729d059": {
          "model_module": "@jupyter-widgets/base",
          "model_name": "LayoutModel",
          "model_module_version": "1.2.0",
          "state": {
            "_model_module": "@jupyter-widgets/base",
            "_model_module_version": "1.2.0",
            "_model_name": "LayoutModel",
            "_view_count": null,
            "_view_module": "@jupyter-widgets/base",
            "_view_module_version": "1.2.0",
            "_view_name": "LayoutView",
            "align_content": null,
            "align_items": null,
            "align_self": null,
            "border": null,
            "bottom": null,
            "display": null,
            "flex": null,
            "flex_flow": null,
            "grid_area": null,
            "grid_auto_columns": null,
            "grid_auto_flow": null,
            "grid_auto_rows": null,
            "grid_column": null,
            "grid_gap": null,
            "grid_row": null,
            "grid_template_areas": null,
            "grid_template_columns": null,
            "grid_template_rows": null,
            "height": null,
            "justify_content": null,
            "justify_items": null,
            "left": null,
            "margin": null,
            "max_height": null,
            "max_width": null,
            "min_height": null,
            "min_width": null,
            "object_fit": null,
            "object_position": null,
            "order": null,
            "overflow": null,
            "overflow_x": null,
            "overflow_y": null,
            "padding": null,
            "right": null,
            "top": null,
            "visibility": null,
            "width": null
          }
        },
        "17d68d5a91f94dd5a47b14885f92ea64": {
          "model_module": "@jupyter-widgets/base",
          "model_name": "LayoutModel",
          "model_module_version": "1.2.0",
          "state": {
            "_model_module": "@jupyter-widgets/base",
            "_model_module_version": "1.2.0",
            "_model_name": "LayoutModel",
            "_view_count": null,
            "_view_module": "@jupyter-widgets/base",
            "_view_module_version": "1.2.0",
            "_view_name": "LayoutView",
            "align_content": null,
            "align_items": null,
            "align_self": null,
            "border": null,
            "bottom": null,
            "display": null,
            "flex": null,
            "flex_flow": null,
            "grid_area": null,
            "grid_auto_columns": null,
            "grid_auto_flow": null,
            "grid_auto_rows": null,
            "grid_column": null,
            "grid_gap": null,
            "grid_row": null,
            "grid_template_areas": null,
            "grid_template_columns": null,
            "grid_template_rows": null,
            "height": null,
            "justify_content": null,
            "justify_items": null,
            "left": null,
            "margin": null,
            "max_height": null,
            "max_width": null,
            "min_height": null,
            "min_width": null,
            "object_fit": null,
            "object_position": null,
            "order": null,
            "overflow": null,
            "overflow_x": null,
            "overflow_y": null,
            "padding": null,
            "right": null,
            "top": null,
            "visibility": null,
            "width": null
          }
        },
        "b6670b9bd3234e3d885da04e754235b6": {
          "model_module": "@jupyter-widgets/controls",
          "model_name": "DescriptionStyleModel",
          "model_module_version": "1.5.0",
          "state": {
            "_model_module": "@jupyter-widgets/controls",
            "_model_module_version": "1.5.0",
            "_model_name": "DescriptionStyleModel",
            "_view_count": null,
            "_view_module": "@jupyter-widgets/base",
            "_view_module_version": "1.2.0",
            "_view_name": "StyleView",
            "description_width": ""
          }
        },
        "e26dd29ebe644ad6a21bed0b46b813b6": {
          "model_module": "@jupyter-widgets/base",
          "model_name": "LayoutModel",
          "model_module_version": "1.2.0",
          "state": {
            "_model_module": "@jupyter-widgets/base",
            "_model_module_version": "1.2.0",
            "_model_name": "LayoutModel",
            "_view_count": null,
            "_view_module": "@jupyter-widgets/base",
            "_view_module_version": "1.2.0",
            "_view_name": "LayoutView",
            "align_content": null,
            "align_items": null,
            "align_self": null,
            "border": null,
            "bottom": null,
            "display": null,
            "flex": null,
            "flex_flow": null,
            "grid_area": null,
            "grid_auto_columns": null,
            "grid_auto_flow": null,
            "grid_auto_rows": null,
            "grid_column": null,
            "grid_gap": null,
            "grid_row": null,
            "grid_template_areas": null,
            "grid_template_columns": null,
            "grid_template_rows": null,
            "height": null,
            "justify_content": null,
            "justify_items": null,
            "left": null,
            "margin": null,
            "max_height": null,
            "max_width": null,
            "min_height": null,
            "min_width": null,
            "object_fit": null,
            "object_position": null,
            "order": null,
            "overflow": null,
            "overflow_x": null,
            "overflow_y": null,
            "padding": null,
            "right": null,
            "top": null,
            "visibility": null,
            "width": null
          }
        },
        "4f0a65d6624843e9bbaed738d1882a5f": {
          "model_module": "@jupyter-widgets/controls",
          "model_name": "ProgressStyleModel",
          "model_module_version": "1.5.0",
          "state": {
            "_model_module": "@jupyter-widgets/controls",
            "_model_module_version": "1.5.0",
            "_model_name": "ProgressStyleModel",
            "_view_count": null,
            "_view_module": "@jupyter-widgets/base",
            "_view_module_version": "1.2.0",
            "_view_name": "StyleView",
            "bar_color": null,
            "description_width": ""
          }
        },
        "ae2f43fa45db496f962c683c7b54b6ae": {
          "model_module": "@jupyter-widgets/base",
          "model_name": "LayoutModel",
          "model_module_version": "1.2.0",
          "state": {
            "_model_module": "@jupyter-widgets/base",
            "_model_module_version": "1.2.0",
            "_model_name": "LayoutModel",
            "_view_count": null,
            "_view_module": "@jupyter-widgets/base",
            "_view_module_version": "1.2.0",
            "_view_name": "LayoutView",
            "align_content": null,
            "align_items": null,
            "align_self": null,
            "border": null,
            "bottom": null,
            "display": null,
            "flex": null,
            "flex_flow": null,
            "grid_area": null,
            "grid_auto_columns": null,
            "grid_auto_flow": null,
            "grid_auto_rows": null,
            "grid_column": null,
            "grid_gap": null,
            "grid_row": null,
            "grid_template_areas": null,
            "grid_template_columns": null,
            "grid_template_rows": null,
            "height": null,
            "justify_content": null,
            "justify_items": null,
            "left": null,
            "margin": null,
            "max_height": null,
            "max_width": null,
            "min_height": null,
            "min_width": null,
            "object_fit": null,
            "object_position": null,
            "order": null,
            "overflow": null,
            "overflow_x": null,
            "overflow_y": null,
            "padding": null,
            "right": null,
            "top": null,
            "visibility": null,
            "width": null
          }
        },
        "b7f3d63ff36b494c80c54a562dc9d3a0": {
          "model_module": "@jupyter-widgets/controls",
          "model_name": "DescriptionStyleModel",
          "model_module_version": "1.5.0",
          "state": {
            "_model_module": "@jupyter-widgets/controls",
            "_model_module_version": "1.5.0",
            "_model_name": "DescriptionStyleModel",
            "_view_count": null,
            "_view_module": "@jupyter-widgets/base",
            "_view_module_version": "1.2.0",
            "_view_name": "StyleView",
            "description_width": ""
          }
        },
        "ba7977f25f5a4a08bb0fe3ac8a60a436": {
          "model_module": "@jupyter-widgets/controls",
          "model_name": "HBoxModel",
          "model_module_version": "1.5.0",
          "state": {
            "_dom_classes": [],
            "_model_module": "@jupyter-widgets/controls",
            "_model_module_version": "1.5.0",
            "_model_name": "HBoxModel",
            "_view_count": null,
            "_view_module": "@jupyter-widgets/controls",
            "_view_module_version": "1.5.0",
            "_view_name": "HBoxView",
            "box_style": "",
            "children": [
              "IPY_MODEL_614e081715e94abc9d48aedae5231eec",
              "IPY_MODEL_6c11b39aeb4d490298670e3f088b779e",
              "IPY_MODEL_babf7140070f4825ab46b3e0f0ce7e30"
            ],
            "layout": "IPY_MODEL_45bf870142ac41709dffd58c459abe96"
          }
        },
        "614e081715e94abc9d48aedae5231eec": {
          "model_module": "@jupyter-widgets/controls",
          "model_name": "HTMLModel",
          "model_module_version": "1.5.0",
          "state": {
            "_dom_classes": [],
            "_model_module": "@jupyter-widgets/controls",
            "_model_module_version": "1.5.0",
            "_model_name": "HTMLModel",
            "_view_count": null,
            "_view_module": "@jupyter-widgets/controls",
            "_view_module_version": "1.5.0",
            "_view_name": "HTMLView",
            "description": "",
            "description_tooltip": null,
            "layout": "IPY_MODEL_af0ea4ab73d9481aa82ca1a3b07cdef8",
            "placeholder": "​",
            "style": "IPY_MODEL_743fdce434ef4f2f80f2d97b18eff063",
            "value": ""
          }
        },
        "6c11b39aeb4d490298670e3f088b779e": {
          "model_module": "@jupyter-widgets/controls",
          "model_name": "FloatProgressModel",
          "model_module_version": "1.5.0",
          "state": {
            "_dom_classes": [],
            "_model_module": "@jupyter-widgets/controls",
            "_model_module_version": "1.5.0",
            "_model_name": "FloatProgressModel",
            "_view_count": null,
            "_view_module": "@jupyter-widgets/controls",
            "_view_module_version": "1.5.0",
            "_view_name": "ProgressView",
            "bar_style": "success",
            "description": "",
            "description_tooltip": null,
            "layout": "IPY_MODEL_a6ca92989e9b49f6a90b93b7eb66d72c",
            "max": 1,
            "min": 0,
            "orientation": "horizontal",
            "style": "IPY_MODEL_74fca75b479f44329d6cc77154c52f12",
            "value": 1
          }
        },
        "babf7140070f4825ab46b3e0f0ce7e30": {
          "model_module": "@jupyter-widgets/controls",
          "model_name": "HTMLModel",
          "model_module_version": "1.5.0",
          "state": {
            "_dom_classes": [],
            "_model_module": "@jupyter-widgets/controls",
            "_model_module_version": "1.5.0",
            "_model_name": "HTMLModel",
            "_view_count": null,
            "_view_module": "@jupyter-widgets/controls",
            "_view_module_version": "1.5.0",
            "_view_name": "HTMLView",
            "description": "",
            "description_tooltip": null,
            "layout": "IPY_MODEL_e0f73cf650be46bcbd3cb3ddd0cd504b",
            "placeholder": "​",
            "style": "IPY_MODEL_773c5bef15ed43068b7dbc26dc953f71",
            "value": " 44/? [00:29&lt;00:00,  1.36it/s]"
          }
        },
        "45bf870142ac41709dffd58c459abe96": {
          "model_module": "@jupyter-widgets/base",
          "model_name": "LayoutModel",
          "model_module_version": "1.2.0",
          "state": {
            "_model_module": "@jupyter-widgets/base",
            "_model_module_version": "1.2.0",
            "_model_name": "LayoutModel",
            "_view_count": null,
            "_view_module": "@jupyter-widgets/base",
            "_view_module_version": "1.2.0",
            "_view_name": "LayoutView",
            "align_content": null,
            "align_items": null,
            "align_self": null,
            "border": null,
            "bottom": null,
            "display": null,
            "flex": null,
            "flex_flow": null,
            "grid_area": null,
            "grid_auto_columns": null,
            "grid_auto_flow": null,
            "grid_auto_rows": null,
            "grid_column": null,
            "grid_gap": null,
            "grid_row": null,
            "grid_template_areas": null,
            "grid_template_columns": null,
            "grid_template_rows": null,
            "height": null,
            "justify_content": null,
            "justify_items": null,
            "left": null,
            "margin": null,
            "max_height": null,
            "max_width": null,
            "min_height": null,
            "min_width": null,
            "object_fit": null,
            "object_position": null,
            "order": null,
            "overflow": null,
            "overflow_x": null,
            "overflow_y": null,
            "padding": null,
            "right": null,
            "top": null,
            "visibility": null,
            "width": null
          }
        },
        "af0ea4ab73d9481aa82ca1a3b07cdef8": {
          "model_module": "@jupyter-widgets/base",
          "model_name": "LayoutModel",
          "model_module_version": "1.2.0",
          "state": {
            "_model_module": "@jupyter-widgets/base",
            "_model_module_version": "1.2.0",
            "_model_name": "LayoutModel",
            "_view_count": null,
            "_view_module": "@jupyter-widgets/base",
            "_view_module_version": "1.2.0",
            "_view_name": "LayoutView",
            "align_content": null,
            "align_items": null,
            "align_self": null,
            "border": null,
            "bottom": null,
            "display": null,
            "flex": null,
            "flex_flow": null,
            "grid_area": null,
            "grid_auto_columns": null,
            "grid_auto_flow": null,
            "grid_auto_rows": null,
            "grid_column": null,
            "grid_gap": null,
            "grid_row": null,
            "grid_template_areas": null,
            "grid_template_columns": null,
            "grid_template_rows": null,
            "height": null,
            "justify_content": null,
            "justify_items": null,
            "left": null,
            "margin": null,
            "max_height": null,
            "max_width": null,
            "min_height": null,
            "min_width": null,
            "object_fit": null,
            "object_position": null,
            "order": null,
            "overflow": null,
            "overflow_x": null,
            "overflow_y": null,
            "padding": null,
            "right": null,
            "top": null,
            "visibility": null,
            "width": null
          }
        },
        "743fdce434ef4f2f80f2d97b18eff063": {
          "model_module": "@jupyter-widgets/controls",
          "model_name": "DescriptionStyleModel",
          "model_module_version": "1.5.0",
          "state": {
            "_model_module": "@jupyter-widgets/controls",
            "_model_module_version": "1.5.0",
            "_model_name": "DescriptionStyleModel",
            "_view_count": null,
            "_view_module": "@jupyter-widgets/base",
            "_view_module_version": "1.2.0",
            "_view_name": "StyleView",
            "description_width": ""
          }
        },
        "a6ca92989e9b49f6a90b93b7eb66d72c": {
          "model_module": "@jupyter-widgets/base",
          "model_name": "LayoutModel",
          "model_module_version": "1.2.0",
          "state": {
            "_model_module": "@jupyter-widgets/base",
            "_model_module_version": "1.2.0",
            "_model_name": "LayoutModel",
            "_view_count": null,
            "_view_module": "@jupyter-widgets/base",
            "_view_module_version": "1.2.0",
            "_view_name": "LayoutView",
            "align_content": null,
            "align_items": null,
            "align_self": null,
            "border": null,
            "bottom": null,
            "display": null,
            "flex": null,
            "flex_flow": null,
            "grid_area": null,
            "grid_auto_columns": null,
            "grid_auto_flow": null,
            "grid_auto_rows": null,
            "grid_column": null,
            "grid_gap": null,
            "grid_row": null,
            "grid_template_areas": null,
            "grid_template_columns": null,
            "grid_template_rows": null,
            "height": null,
            "justify_content": null,
            "justify_items": null,
            "left": null,
            "margin": null,
            "max_height": null,
            "max_width": null,
            "min_height": null,
            "min_width": null,
            "object_fit": null,
            "object_position": null,
            "order": null,
            "overflow": null,
            "overflow_x": null,
            "overflow_y": null,
            "padding": null,
            "right": null,
            "top": null,
            "visibility": null,
            "width": "20px"
          }
        },
        "74fca75b479f44329d6cc77154c52f12": {
          "model_module": "@jupyter-widgets/controls",
          "model_name": "ProgressStyleModel",
          "model_module_version": "1.5.0",
          "state": {
            "_model_module": "@jupyter-widgets/controls",
            "_model_module_version": "1.5.0",
            "_model_name": "ProgressStyleModel",
            "_view_count": null,
            "_view_module": "@jupyter-widgets/base",
            "_view_module_version": "1.2.0",
            "_view_name": "StyleView",
            "bar_color": null,
            "description_width": ""
          }
        },
        "e0f73cf650be46bcbd3cb3ddd0cd504b": {
          "model_module": "@jupyter-widgets/base",
          "model_name": "LayoutModel",
          "model_module_version": "1.2.0",
          "state": {
            "_model_module": "@jupyter-widgets/base",
            "_model_module_version": "1.2.0",
            "_model_name": "LayoutModel",
            "_view_count": null,
            "_view_module": "@jupyter-widgets/base",
            "_view_module_version": "1.2.0",
            "_view_name": "LayoutView",
            "align_content": null,
            "align_items": null,
            "align_self": null,
            "border": null,
            "bottom": null,
            "display": null,
            "flex": null,
            "flex_flow": null,
            "grid_area": null,
            "grid_auto_columns": null,
            "grid_auto_flow": null,
            "grid_auto_rows": null,
            "grid_column": null,
            "grid_gap": null,
            "grid_row": null,
            "grid_template_areas": null,
            "grid_template_columns": null,
            "grid_template_rows": null,
            "height": null,
            "justify_content": null,
            "justify_items": null,
            "left": null,
            "margin": null,
            "max_height": null,
            "max_width": null,
            "min_height": null,
            "min_width": null,
            "object_fit": null,
            "object_position": null,
            "order": null,
            "overflow": null,
            "overflow_x": null,
            "overflow_y": null,
            "padding": null,
            "right": null,
            "top": null,
            "visibility": null,
            "width": null
          }
        },
        "773c5bef15ed43068b7dbc26dc953f71": {
          "model_module": "@jupyter-widgets/controls",
          "model_name": "DescriptionStyleModel",
          "model_module_version": "1.5.0",
          "state": {
            "_model_module": "@jupyter-widgets/controls",
            "_model_module_version": "1.5.0",
            "_model_name": "DescriptionStyleModel",
            "_view_count": null,
            "_view_module": "@jupyter-widgets/base",
            "_view_module_version": "1.2.0",
            "_view_name": "StyleView",
            "description_width": ""
          }
        },
        "0438cb242a3a4ea3b80c493299998f54": {
          "model_module": "@jupyter-widgets/controls",
          "model_name": "HBoxModel",
          "model_module_version": "1.5.0",
          "state": {
            "_dom_classes": [],
            "_model_module": "@jupyter-widgets/controls",
            "_model_module_version": "1.5.0",
            "_model_name": "HBoxModel",
            "_view_count": null,
            "_view_module": "@jupyter-widgets/controls",
            "_view_module_version": "1.5.0",
            "_view_name": "HBoxView",
            "box_style": "",
            "children": [
              "IPY_MODEL_6cd6a518de6c48e6b4f2811fe6d43f2b",
              "IPY_MODEL_bc17d688e4604dc18679dcfff523e000",
              "IPY_MODEL_50e221fe97b7424c9729a1acf66b715f"
            ],
            "layout": "IPY_MODEL_116b827e104547c9a97a7a1b6c61d031"
          }
        },
        "6cd6a518de6c48e6b4f2811fe6d43f2b": {
          "model_module": "@jupyter-widgets/controls",
          "model_name": "HTMLModel",
          "model_module_version": "1.5.0",
          "state": {
            "_dom_classes": [],
            "_model_module": "@jupyter-widgets/controls",
            "_model_module_version": "1.5.0",
            "_model_name": "HTMLModel",
            "_view_count": null,
            "_view_module": "@jupyter-widgets/controls",
            "_view_module_version": "1.5.0",
            "_view_name": "HTMLView",
            "description": "",
            "description_tooltip": null,
            "layout": "IPY_MODEL_8906c5f79393409db854b1bf05323049",
            "placeholder": "​",
            "style": "IPY_MODEL_31fc04b72be040b18877af01e66c8c68",
            "value": ""
          }
        },
        "bc17d688e4604dc18679dcfff523e000": {
          "model_module": "@jupyter-widgets/controls",
          "model_name": "FloatProgressModel",
          "model_module_version": "1.5.0",
          "state": {
            "_dom_classes": [],
            "_model_module": "@jupyter-widgets/controls",
            "_model_module_version": "1.5.0",
            "_model_name": "FloatProgressModel",
            "_view_count": null,
            "_view_module": "@jupyter-widgets/controls",
            "_view_module_version": "1.5.0",
            "_view_name": "ProgressView",
            "bar_style": "success",
            "description": "",
            "description_tooltip": null,
            "layout": "IPY_MODEL_e02b5bf96d5346df940bc0d2c23c8701",
            "max": 1,
            "min": 0,
            "orientation": "horizontal",
            "style": "IPY_MODEL_7b62df9ce837472fa0c0d2812c7745cc",
            "value": 1
          }
        },
        "50e221fe97b7424c9729a1acf66b715f": {
          "model_module": "@jupyter-widgets/controls",
          "model_name": "HTMLModel",
          "model_module_version": "1.5.0",
          "state": {
            "_dom_classes": [],
            "_model_module": "@jupyter-widgets/controls",
            "_model_module_version": "1.5.0",
            "_model_name": "HTMLModel",
            "_view_count": null,
            "_view_module": "@jupyter-widgets/controls",
            "_view_module_version": "1.5.0",
            "_view_name": "HTMLView",
            "description": "",
            "description_tooltip": null,
            "layout": "IPY_MODEL_64f501212b9b471e9e7c4ea151cf6ee0",
            "placeholder": "​",
            "style": "IPY_MODEL_ff42ee2f67534ca99898dc52a1d75846",
            "value": " 44/? [00:30&lt;00:00,  1.32it/s]"
          }
        },
        "116b827e104547c9a97a7a1b6c61d031": {
          "model_module": "@jupyter-widgets/base",
          "model_name": "LayoutModel",
          "model_module_version": "1.2.0",
          "state": {
            "_model_module": "@jupyter-widgets/base",
            "_model_module_version": "1.2.0",
            "_model_name": "LayoutModel",
            "_view_count": null,
            "_view_module": "@jupyter-widgets/base",
            "_view_module_version": "1.2.0",
            "_view_name": "LayoutView",
            "align_content": null,
            "align_items": null,
            "align_self": null,
            "border": null,
            "bottom": null,
            "display": null,
            "flex": null,
            "flex_flow": null,
            "grid_area": null,
            "grid_auto_columns": null,
            "grid_auto_flow": null,
            "grid_auto_rows": null,
            "grid_column": null,
            "grid_gap": null,
            "grid_row": null,
            "grid_template_areas": null,
            "grid_template_columns": null,
            "grid_template_rows": null,
            "height": null,
            "justify_content": null,
            "justify_items": null,
            "left": null,
            "margin": null,
            "max_height": null,
            "max_width": null,
            "min_height": null,
            "min_width": null,
            "object_fit": null,
            "object_position": null,
            "order": null,
            "overflow": null,
            "overflow_x": null,
            "overflow_y": null,
            "padding": null,
            "right": null,
            "top": null,
            "visibility": null,
            "width": null
          }
        },
        "8906c5f79393409db854b1bf05323049": {
          "model_module": "@jupyter-widgets/base",
          "model_name": "LayoutModel",
          "model_module_version": "1.2.0",
          "state": {
            "_model_module": "@jupyter-widgets/base",
            "_model_module_version": "1.2.0",
            "_model_name": "LayoutModel",
            "_view_count": null,
            "_view_module": "@jupyter-widgets/base",
            "_view_module_version": "1.2.0",
            "_view_name": "LayoutView",
            "align_content": null,
            "align_items": null,
            "align_self": null,
            "border": null,
            "bottom": null,
            "display": null,
            "flex": null,
            "flex_flow": null,
            "grid_area": null,
            "grid_auto_columns": null,
            "grid_auto_flow": null,
            "grid_auto_rows": null,
            "grid_column": null,
            "grid_gap": null,
            "grid_row": null,
            "grid_template_areas": null,
            "grid_template_columns": null,
            "grid_template_rows": null,
            "height": null,
            "justify_content": null,
            "justify_items": null,
            "left": null,
            "margin": null,
            "max_height": null,
            "max_width": null,
            "min_height": null,
            "min_width": null,
            "object_fit": null,
            "object_position": null,
            "order": null,
            "overflow": null,
            "overflow_x": null,
            "overflow_y": null,
            "padding": null,
            "right": null,
            "top": null,
            "visibility": null,
            "width": null
          }
        },
        "31fc04b72be040b18877af01e66c8c68": {
          "model_module": "@jupyter-widgets/controls",
          "model_name": "DescriptionStyleModel",
          "model_module_version": "1.5.0",
          "state": {
            "_model_module": "@jupyter-widgets/controls",
            "_model_module_version": "1.5.0",
            "_model_name": "DescriptionStyleModel",
            "_view_count": null,
            "_view_module": "@jupyter-widgets/base",
            "_view_module_version": "1.2.0",
            "_view_name": "StyleView",
            "description_width": ""
          }
        },
        "e02b5bf96d5346df940bc0d2c23c8701": {
          "model_module": "@jupyter-widgets/base",
          "model_name": "LayoutModel",
          "model_module_version": "1.2.0",
          "state": {
            "_model_module": "@jupyter-widgets/base",
            "_model_module_version": "1.2.0",
            "_model_name": "LayoutModel",
            "_view_count": null,
            "_view_module": "@jupyter-widgets/base",
            "_view_module_version": "1.2.0",
            "_view_name": "LayoutView",
            "align_content": null,
            "align_items": null,
            "align_self": null,
            "border": null,
            "bottom": null,
            "display": null,
            "flex": null,
            "flex_flow": null,
            "grid_area": null,
            "grid_auto_columns": null,
            "grid_auto_flow": null,
            "grid_auto_rows": null,
            "grid_column": null,
            "grid_gap": null,
            "grid_row": null,
            "grid_template_areas": null,
            "grid_template_columns": null,
            "grid_template_rows": null,
            "height": null,
            "justify_content": null,
            "justify_items": null,
            "left": null,
            "margin": null,
            "max_height": null,
            "max_width": null,
            "min_height": null,
            "min_width": null,
            "object_fit": null,
            "object_position": null,
            "order": null,
            "overflow": null,
            "overflow_x": null,
            "overflow_y": null,
            "padding": null,
            "right": null,
            "top": null,
            "visibility": null,
            "width": "20px"
          }
        },
        "7b62df9ce837472fa0c0d2812c7745cc": {
          "model_module": "@jupyter-widgets/controls",
          "model_name": "ProgressStyleModel",
          "model_module_version": "1.5.0",
          "state": {
            "_model_module": "@jupyter-widgets/controls",
            "_model_module_version": "1.5.0",
            "_model_name": "ProgressStyleModel",
            "_view_count": null,
            "_view_module": "@jupyter-widgets/base",
            "_view_module_version": "1.2.0",
            "_view_name": "StyleView",
            "bar_color": null,
            "description_width": ""
          }
        },
        "64f501212b9b471e9e7c4ea151cf6ee0": {
          "model_module": "@jupyter-widgets/base",
          "model_name": "LayoutModel",
          "model_module_version": "1.2.0",
          "state": {
            "_model_module": "@jupyter-widgets/base",
            "_model_module_version": "1.2.0",
            "_model_name": "LayoutModel",
            "_view_count": null,
            "_view_module": "@jupyter-widgets/base",
            "_view_module_version": "1.2.0",
            "_view_name": "LayoutView",
            "align_content": null,
            "align_items": null,
            "align_self": null,
            "border": null,
            "bottom": null,
            "display": null,
            "flex": null,
            "flex_flow": null,
            "grid_area": null,
            "grid_auto_columns": null,
            "grid_auto_flow": null,
            "grid_auto_rows": null,
            "grid_column": null,
            "grid_gap": null,
            "grid_row": null,
            "grid_template_areas": null,
            "grid_template_columns": null,
            "grid_template_rows": null,
            "height": null,
            "justify_content": null,
            "justify_items": null,
            "left": null,
            "margin": null,
            "max_height": null,
            "max_width": null,
            "min_height": null,
            "min_width": null,
            "object_fit": null,
            "object_position": null,
            "order": null,
            "overflow": null,
            "overflow_x": null,
            "overflow_y": null,
            "padding": null,
            "right": null,
            "top": null,
            "visibility": null,
            "width": null
          }
        },
        "ff42ee2f67534ca99898dc52a1d75846": {
          "model_module": "@jupyter-widgets/controls",
          "model_name": "DescriptionStyleModel",
          "model_module_version": "1.5.0",
          "state": {
            "_model_module": "@jupyter-widgets/controls",
            "_model_module_version": "1.5.0",
            "_model_name": "DescriptionStyleModel",
            "_view_count": null,
            "_view_module": "@jupyter-widgets/base",
            "_view_module_version": "1.2.0",
            "_view_name": "StyleView",
            "description_width": ""
          }
        },
        "910fc5263cf742ca93c1a57cc53ff15b": {
          "model_module": "@jupyter-widgets/controls",
          "model_name": "HBoxModel",
          "model_module_version": "1.5.0",
          "state": {
            "_dom_classes": [],
            "_model_module": "@jupyter-widgets/controls",
            "_model_module_version": "1.5.0",
            "_model_name": "HBoxModel",
            "_view_count": null,
            "_view_module": "@jupyter-widgets/controls",
            "_view_module_version": "1.5.0",
            "_view_name": "HBoxView",
            "box_style": "",
            "children": [
              "IPY_MODEL_494ab3b995f74e9a85d12fab24ea1e23",
              "IPY_MODEL_3f6eb10b04834caeaff53c0a5d7a7891",
              "IPY_MODEL_1fc05fb36c224b68a818ba7943ac1aa2"
            ],
            "layout": "IPY_MODEL_04766dde0f124ccea463a7ef122e77ca"
          }
        },
        "494ab3b995f74e9a85d12fab24ea1e23": {
          "model_module": "@jupyter-widgets/controls",
          "model_name": "HTMLModel",
          "model_module_version": "1.5.0",
          "state": {
            "_dom_classes": [],
            "_model_module": "@jupyter-widgets/controls",
            "_model_module_version": "1.5.0",
            "_model_name": "HTMLModel",
            "_view_count": null,
            "_view_module": "@jupyter-widgets/controls",
            "_view_module_version": "1.5.0",
            "_view_name": "HTMLView",
            "description": "",
            "description_tooltip": null,
            "layout": "IPY_MODEL_d52714b3b4a9482982b922fa1c7334a1",
            "placeholder": "​",
            "style": "IPY_MODEL_e666e6382691419e9154933d880e4d39",
            "value": ""
          }
        },
        "3f6eb10b04834caeaff53c0a5d7a7891": {
          "model_module": "@jupyter-widgets/controls",
          "model_name": "FloatProgressModel",
          "model_module_version": "1.5.0",
          "state": {
            "_dom_classes": [],
            "_model_module": "@jupyter-widgets/controls",
            "_model_module_version": "1.5.0",
            "_model_name": "FloatProgressModel",
            "_view_count": null,
            "_view_module": "@jupyter-widgets/controls",
            "_view_module_version": "1.5.0",
            "_view_name": "ProgressView",
            "bar_style": "success",
            "description": "",
            "description_tooltip": null,
            "layout": "IPY_MODEL_426f0f3b868f4364869bd210332a0f69",
            "max": 1,
            "min": 0,
            "orientation": "horizontal",
            "style": "IPY_MODEL_7f0ef41237634f6984d38b39f19f85f1",
            "value": 1
          }
        },
        "1fc05fb36c224b68a818ba7943ac1aa2": {
          "model_module": "@jupyter-widgets/controls",
          "model_name": "HTMLModel",
          "model_module_version": "1.5.0",
          "state": {
            "_dom_classes": [],
            "_model_module": "@jupyter-widgets/controls",
            "_model_module_version": "1.5.0",
            "_model_name": "HTMLModel",
            "_view_count": null,
            "_view_module": "@jupyter-widgets/controls",
            "_view_module_version": "1.5.0",
            "_view_name": "HTMLView",
            "description": "",
            "description_tooltip": null,
            "layout": "IPY_MODEL_4b62002b76084459bffe2c3df5ee6e62",
            "placeholder": "​",
            "style": "IPY_MODEL_081d242552ff45f9b66f4e91bc64a0b1",
            "value": " 44/? [00:30&lt;00:00,  1.31it/s]"
          }
        },
        "04766dde0f124ccea463a7ef122e77ca": {
          "model_module": "@jupyter-widgets/base",
          "model_name": "LayoutModel",
          "model_module_version": "1.2.0",
          "state": {
            "_model_module": "@jupyter-widgets/base",
            "_model_module_version": "1.2.0",
            "_model_name": "LayoutModel",
            "_view_count": null,
            "_view_module": "@jupyter-widgets/base",
            "_view_module_version": "1.2.0",
            "_view_name": "LayoutView",
            "align_content": null,
            "align_items": null,
            "align_self": null,
            "border": null,
            "bottom": null,
            "display": null,
            "flex": null,
            "flex_flow": null,
            "grid_area": null,
            "grid_auto_columns": null,
            "grid_auto_flow": null,
            "grid_auto_rows": null,
            "grid_column": null,
            "grid_gap": null,
            "grid_row": null,
            "grid_template_areas": null,
            "grid_template_columns": null,
            "grid_template_rows": null,
            "height": null,
            "justify_content": null,
            "justify_items": null,
            "left": null,
            "margin": null,
            "max_height": null,
            "max_width": null,
            "min_height": null,
            "min_width": null,
            "object_fit": null,
            "object_position": null,
            "order": null,
            "overflow": null,
            "overflow_x": null,
            "overflow_y": null,
            "padding": null,
            "right": null,
            "top": null,
            "visibility": null,
            "width": null
          }
        },
        "d52714b3b4a9482982b922fa1c7334a1": {
          "model_module": "@jupyter-widgets/base",
          "model_name": "LayoutModel",
          "model_module_version": "1.2.0",
          "state": {
            "_model_module": "@jupyter-widgets/base",
            "_model_module_version": "1.2.0",
            "_model_name": "LayoutModel",
            "_view_count": null,
            "_view_module": "@jupyter-widgets/base",
            "_view_module_version": "1.2.0",
            "_view_name": "LayoutView",
            "align_content": null,
            "align_items": null,
            "align_self": null,
            "border": null,
            "bottom": null,
            "display": null,
            "flex": null,
            "flex_flow": null,
            "grid_area": null,
            "grid_auto_columns": null,
            "grid_auto_flow": null,
            "grid_auto_rows": null,
            "grid_column": null,
            "grid_gap": null,
            "grid_row": null,
            "grid_template_areas": null,
            "grid_template_columns": null,
            "grid_template_rows": null,
            "height": null,
            "justify_content": null,
            "justify_items": null,
            "left": null,
            "margin": null,
            "max_height": null,
            "max_width": null,
            "min_height": null,
            "min_width": null,
            "object_fit": null,
            "object_position": null,
            "order": null,
            "overflow": null,
            "overflow_x": null,
            "overflow_y": null,
            "padding": null,
            "right": null,
            "top": null,
            "visibility": null,
            "width": null
          }
        },
        "e666e6382691419e9154933d880e4d39": {
          "model_module": "@jupyter-widgets/controls",
          "model_name": "DescriptionStyleModel",
          "model_module_version": "1.5.0",
          "state": {
            "_model_module": "@jupyter-widgets/controls",
            "_model_module_version": "1.5.0",
            "_model_name": "DescriptionStyleModel",
            "_view_count": null,
            "_view_module": "@jupyter-widgets/base",
            "_view_module_version": "1.2.0",
            "_view_name": "StyleView",
            "description_width": ""
          }
        },
        "426f0f3b868f4364869bd210332a0f69": {
          "model_module": "@jupyter-widgets/base",
          "model_name": "LayoutModel",
          "model_module_version": "1.2.0",
          "state": {
            "_model_module": "@jupyter-widgets/base",
            "_model_module_version": "1.2.0",
            "_model_name": "LayoutModel",
            "_view_count": null,
            "_view_module": "@jupyter-widgets/base",
            "_view_module_version": "1.2.0",
            "_view_name": "LayoutView",
            "align_content": null,
            "align_items": null,
            "align_self": null,
            "border": null,
            "bottom": null,
            "display": null,
            "flex": null,
            "flex_flow": null,
            "grid_area": null,
            "grid_auto_columns": null,
            "grid_auto_flow": null,
            "grid_auto_rows": null,
            "grid_column": null,
            "grid_gap": null,
            "grid_row": null,
            "grid_template_areas": null,
            "grid_template_columns": null,
            "grid_template_rows": null,
            "height": null,
            "justify_content": null,
            "justify_items": null,
            "left": null,
            "margin": null,
            "max_height": null,
            "max_width": null,
            "min_height": null,
            "min_width": null,
            "object_fit": null,
            "object_position": null,
            "order": null,
            "overflow": null,
            "overflow_x": null,
            "overflow_y": null,
            "padding": null,
            "right": null,
            "top": null,
            "visibility": null,
            "width": "20px"
          }
        },
        "7f0ef41237634f6984d38b39f19f85f1": {
          "model_module": "@jupyter-widgets/controls",
          "model_name": "ProgressStyleModel",
          "model_module_version": "1.5.0",
          "state": {
            "_model_module": "@jupyter-widgets/controls",
            "_model_module_version": "1.5.0",
            "_model_name": "ProgressStyleModel",
            "_view_count": null,
            "_view_module": "@jupyter-widgets/base",
            "_view_module_version": "1.2.0",
            "_view_name": "StyleView",
            "bar_color": null,
            "description_width": ""
          }
        },
        "4b62002b76084459bffe2c3df5ee6e62": {
          "model_module": "@jupyter-widgets/base",
          "model_name": "LayoutModel",
          "model_module_version": "1.2.0",
          "state": {
            "_model_module": "@jupyter-widgets/base",
            "_model_module_version": "1.2.0",
            "_model_name": "LayoutModel",
            "_view_count": null,
            "_view_module": "@jupyter-widgets/base",
            "_view_module_version": "1.2.0",
            "_view_name": "LayoutView",
            "align_content": null,
            "align_items": null,
            "align_self": null,
            "border": null,
            "bottom": null,
            "display": null,
            "flex": null,
            "flex_flow": null,
            "grid_area": null,
            "grid_auto_columns": null,
            "grid_auto_flow": null,
            "grid_auto_rows": null,
            "grid_column": null,
            "grid_gap": null,
            "grid_row": null,
            "grid_template_areas": null,
            "grid_template_columns": null,
            "grid_template_rows": null,
            "height": null,
            "justify_content": null,
            "justify_items": null,
            "left": null,
            "margin": null,
            "max_height": null,
            "max_width": null,
            "min_height": null,
            "min_width": null,
            "object_fit": null,
            "object_position": null,
            "order": null,
            "overflow": null,
            "overflow_x": null,
            "overflow_y": null,
            "padding": null,
            "right": null,
            "top": null,
            "visibility": null,
            "width": null
          }
        },
        "081d242552ff45f9b66f4e91bc64a0b1": {
          "model_module": "@jupyter-widgets/controls",
          "model_name": "DescriptionStyleModel",
          "model_module_version": "1.5.0",
          "state": {
            "_model_module": "@jupyter-widgets/controls",
            "_model_module_version": "1.5.0",
            "_model_name": "DescriptionStyleModel",
            "_view_count": null,
            "_view_module": "@jupyter-widgets/base",
            "_view_module_version": "1.2.0",
            "_view_name": "StyleView",
            "description_width": ""
          }
        },
        "75af4305c708467c89723fb4c8aed129": {
          "model_module": "@jupyter-widgets/controls",
          "model_name": "HBoxModel",
          "model_module_version": "1.5.0",
          "state": {
            "_dom_classes": [],
            "_model_module": "@jupyter-widgets/controls",
            "_model_module_version": "1.5.0",
            "_model_name": "HBoxModel",
            "_view_count": null,
            "_view_module": "@jupyter-widgets/controls",
            "_view_module_version": "1.5.0",
            "_view_name": "HBoxView",
            "box_style": "",
            "children": [
              "IPY_MODEL_5e3fbfff448d4321a2104a052df485b8",
              "IPY_MODEL_84489de7d33d49f4b4086f29020947c5",
              "IPY_MODEL_645d4e3b28994cd0b8609c996273881b"
            ],
            "layout": "IPY_MODEL_88239820e56449c8ad91ce48d1104f90"
          }
        },
        "5e3fbfff448d4321a2104a052df485b8": {
          "model_module": "@jupyter-widgets/controls",
          "model_name": "HTMLModel",
          "model_module_version": "1.5.0",
          "state": {
            "_dom_classes": [],
            "_model_module": "@jupyter-widgets/controls",
            "_model_module_version": "1.5.0",
            "_model_name": "HTMLModel",
            "_view_count": null,
            "_view_module": "@jupyter-widgets/controls",
            "_view_module_version": "1.5.0",
            "_view_name": "HTMLView",
            "description": "",
            "description_tooltip": null,
            "layout": "IPY_MODEL_0d3a4fd025144f7499bbccc19a62fd3a",
            "placeholder": "​",
            "style": "IPY_MODEL_02ed820dfd0b4b4b8aa977688b2398e6",
            "value": ""
          }
        },
        "84489de7d33d49f4b4086f29020947c5": {
          "model_module": "@jupyter-widgets/controls",
          "model_name": "FloatProgressModel",
          "model_module_version": "1.5.0",
          "state": {
            "_dom_classes": [],
            "_model_module": "@jupyter-widgets/controls",
            "_model_module_version": "1.5.0",
            "_model_name": "FloatProgressModel",
            "_view_count": null,
            "_view_module": "@jupyter-widgets/controls",
            "_view_module_version": "1.5.0",
            "_view_name": "ProgressView",
            "bar_style": "success",
            "description": "",
            "description_tooltip": null,
            "layout": "IPY_MODEL_fd127defc3e240fc99b6b6c55ec8b440",
            "max": 1,
            "min": 0,
            "orientation": "horizontal",
            "style": "IPY_MODEL_aa077e0519414faf9399470fb7ec5492",
            "value": 1
          }
        },
        "645d4e3b28994cd0b8609c996273881b": {
          "model_module": "@jupyter-widgets/controls",
          "model_name": "HTMLModel",
          "model_module_version": "1.5.0",
          "state": {
            "_dom_classes": [],
            "_model_module": "@jupyter-widgets/controls",
            "_model_module_version": "1.5.0",
            "_model_name": "HTMLModel",
            "_view_count": null,
            "_view_module": "@jupyter-widgets/controls",
            "_view_module_version": "1.5.0",
            "_view_name": "HTMLView",
            "description": "",
            "description_tooltip": null,
            "layout": "IPY_MODEL_0afbad2db9994824807bf4bda86a6a19",
            "placeholder": "​",
            "style": "IPY_MODEL_b555a16bef9548778a5891b9f5ee0934",
            "value": " 44/? [00:00&lt;00:00, 1057.98it/s]"
          }
        },
        "88239820e56449c8ad91ce48d1104f90": {
          "model_module": "@jupyter-widgets/base",
          "model_name": "LayoutModel",
          "model_module_version": "1.2.0",
          "state": {
            "_model_module": "@jupyter-widgets/base",
            "_model_module_version": "1.2.0",
            "_model_name": "LayoutModel",
            "_view_count": null,
            "_view_module": "@jupyter-widgets/base",
            "_view_module_version": "1.2.0",
            "_view_name": "LayoutView",
            "align_content": null,
            "align_items": null,
            "align_self": null,
            "border": null,
            "bottom": null,
            "display": null,
            "flex": null,
            "flex_flow": null,
            "grid_area": null,
            "grid_auto_columns": null,
            "grid_auto_flow": null,
            "grid_auto_rows": null,
            "grid_column": null,
            "grid_gap": null,
            "grid_row": null,
            "grid_template_areas": null,
            "grid_template_columns": null,
            "grid_template_rows": null,
            "height": null,
            "justify_content": null,
            "justify_items": null,
            "left": null,
            "margin": null,
            "max_height": null,
            "max_width": null,
            "min_height": null,
            "min_width": null,
            "object_fit": null,
            "object_position": null,
            "order": null,
            "overflow": null,
            "overflow_x": null,
            "overflow_y": null,
            "padding": null,
            "right": null,
            "top": null,
            "visibility": null,
            "width": null
          }
        },
        "0d3a4fd025144f7499bbccc19a62fd3a": {
          "model_module": "@jupyter-widgets/base",
          "model_name": "LayoutModel",
          "model_module_version": "1.2.0",
          "state": {
            "_model_module": "@jupyter-widgets/base",
            "_model_module_version": "1.2.0",
            "_model_name": "LayoutModel",
            "_view_count": null,
            "_view_module": "@jupyter-widgets/base",
            "_view_module_version": "1.2.0",
            "_view_name": "LayoutView",
            "align_content": null,
            "align_items": null,
            "align_self": null,
            "border": null,
            "bottom": null,
            "display": null,
            "flex": null,
            "flex_flow": null,
            "grid_area": null,
            "grid_auto_columns": null,
            "grid_auto_flow": null,
            "grid_auto_rows": null,
            "grid_column": null,
            "grid_gap": null,
            "grid_row": null,
            "grid_template_areas": null,
            "grid_template_columns": null,
            "grid_template_rows": null,
            "height": null,
            "justify_content": null,
            "justify_items": null,
            "left": null,
            "margin": null,
            "max_height": null,
            "max_width": null,
            "min_height": null,
            "min_width": null,
            "object_fit": null,
            "object_position": null,
            "order": null,
            "overflow": null,
            "overflow_x": null,
            "overflow_y": null,
            "padding": null,
            "right": null,
            "top": null,
            "visibility": null,
            "width": null
          }
        },
        "02ed820dfd0b4b4b8aa977688b2398e6": {
          "model_module": "@jupyter-widgets/controls",
          "model_name": "DescriptionStyleModel",
          "model_module_version": "1.5.0",
          "state": {
            "_model_module": "@jupyter-widgets/controls",
            "_model_module_version": "1.5.0",
            "_model_name": "DescriptionStyleModel",
            "_view_count": null,
            "_view_module": "@jupyter-widgets/base",
            "_view_module_version": "1.2.0",
            "_view_name": "StyleView",
            "description_width": ""
          }
        },
        "fd127defc3e240fc99b6b6c55ec8b440": {
          "model_module": "@jupyter-widgets/base",
          "model_name": "LayoutModel",
          "model_module_version": "1.2.0",
          "state": {
            "_model_module": "@jupyter-widgets/base",
            "_model_module_version": "1.2.0",
            "_model_name": "LayoutModel",
            "_view_count": null,
            "_view_module": "@jupyter-widgets/base",
            "_view_module_version": "1.2.0",
            "_view_name": "LayoutView",
            "align_content": null,
            "align_items": null,
            "align_self": null,
            "border": null,
            "bottom": null,
            "display": null,
            "flex": null,
            "flex_flow": null,
            "grid_area": null,
            "grid_auto_columns": null,
            "grid_auto_flow": null,
            "grid_auto_rows": null,
            "grid_column": null,
            "grid_gap": null,
            "grid_row": null,
            "grid_template_areas": null,
            "grid_template_columns": null,
            "grid_template_rows": null,
            "height": null,
            "justify_content": null,
            "justify_items": null,
            "left": null,
            "margin": null,
            "max_height": null,
            "max_width": null,
            "min_height": null,
            "min_width": null,
            "object_fit": null,
            "object_position": null,
            "order": null,
            "overflow": null,
            "overflow_x": null,
            "overflow_y": null,
            "padding": null,
            "right": null,
            "top": null,
            "visibility": null,
            "width": "20px"
          }
        },
        "aa077e0519414faf9399470fb7ec5492": {
          "model_module": "@jupyter-widgets/controls",
          "model_name": "ProgressStyleModel",
          "model_module_version": "1.5.0",
          "state": {
            "_model_module": "@jupyter-widgets/controls",
            "_model_module_version": "1.5.0",
            "_model_name": "ProgressStyleModel",
            "_view_count": null,
            "_view_module": "@jupyter-widgets/base",
            "_view_module_version": "1.2.0",
            "_view_name": "StyleView",
            "bar_color": null,
            "description_width": ""
          }
        },
        "0afbad2db9994824807bf4bda86a6a19": {
          "model_module": "@jupyter-widgets/base",
          "model_name": "LayoutModel",
          "model_module_version": "1.2.0",
          "state": {
            "_model_module": "@jupyter-widgets/base",
            "_model_module_version": "1.2.0",
            "_model_name": "LayoutModel",
            "_view_count": null,
            "_view_module": "@jupyter-widgets/base",
            "_view_module_version": "1.2.0",
            "_view_name": "LayoutView",
            "align_content": null,
            "align_items": null,
            "align_self": null,
            "border": null,
            "bottom": null,
            "display": null,
            "flex": null,
            "flex_flow": null,
            "grid_area": null,
            "grid_auto_columns": null,
            "grid_auto_flow": null,
            "grid_auto_rows": null,
            "grid_column": null,
            "grid_gap": null,
            "grid_row": null,
            "grid_template_areas": null,
            "grid_template_columns": null,
            "grid_template_rows": null,
            "height": null,
            "justify_content": null,
            "justify_items": null,
            "left": null,
            "margin": null,
            "max_height": null,
            "max_width": null,
            "min_height": null,
            "min_width": null,
            "object_fit": null,
            "object_position": null,
            "order": null,
            "overflow": null,
            "overflow_x": null,
            "overflow_y": null,
            "padding": null,
            "right": null,
            "top": null,
            "visibility": null,
            "width": null
          }
        },
        "b555a16bef9548778a5891b9f5ee0934": {
          "model_module": "@jupyter-widgets/controls",
          "model_name": "DescriptionStyleModel",
          "model_module_version": "1.5.0",
          "state": {
            "_model_module": "@jupyter-widgets/controls",
            "_model_module_version": "1.5.0",
            "_model_name": "DescriptionStyleModel",
            "_view_count": null,
            "_view_module": "@jupyter-widgets/base",
            "_view_module_version": "1.2.0",
            "_view_name": "StyleView",
            "description_width": ""
          }
        },
        "e8db3d87e06743c0b78506e727192121": {
          "model_module": "@jupyter-widgets/controls",
          "model_name": "HBoxModel",
          "model_module_version": "1.5.0",
          "state": {
            "_dom_classes": [],
            "_model_module": "@jupyter-widgets/controls",
            "_model_module_version": "1.5.0",
            "_model_name": "HBoxModel",
            "_view_count": null,
            "_view_module": "@jupyter-widgets/controls",
            "_view_module_version": "1.5.0",
            "_view_name": "HBoxView",
            "box_style": "",
            "children": [
              "IPY_MODEL_8a035ef397a64e71822da104f5b0fe03",
              "IPY_MODEL_6fbf767224584df6bec2d99851ac6418",
              "IPY_MODEL_63b741a4b82a432c8d47fe4f2de7e9ee"
            ],
            "layout": "IPY_MODEL_dc659f16712e4a68b715560cfcb55426"
          }
        },
        "8a035ef397a64e71822da104f5b0fe03": {
          "model_module": "@jupyter-widgets/controls",
          "model_name": "HTMLModel",
          "model_module_version": "1.5.0",
          "state": {
            "_dom_classes": [],
            "_model_module": "@jupyter-widgets/controls",
            "_model_module_version": "1.5.0",
            "_model_name": "HTMLModel",
            "_view_count": null,
            "_view_module": "@jupyter-widgets/controls",
            "_view_module_version": "1.5.0",
            "_view_name": "HTMLView",
            "description": "",
            "description_tooltip": null,
            "layout": "IPY_MODEL_8f4dd6ebf5fa4831bd447a2fc9133069",
            "placeholder": "​",
            "style": "IPY_MODEL_c3ed7c803f4349f4858438baf8e700a0",
            "value": ""
          }
        },
        "6fbf767224584df6bec2d99851ac6418": {
          "model_module": "@jupyter-widgets/controls",
          "model_name": "FloatProgressModel",
          "model_module_version": "1.5.0",
          "state": {
            "_dom_classes": [],
            "_model_module": "@jupyter-widgets/controls",
            "_model_module_version": "1.5.0",
            "_model_name": "FloatProgressModel",
            "_view_count": null,
            "_view_module": "@jupyter-widgets/controls",
            "_view_module_version": "1.5.0",
            "_view_name": "ProgressView",
            "bar_style": "success",
            "description": "",
            "description_tooltip": null,
            "layout": "IPY_MODEL_57a90153ab7342afa54fc2144d13a71c",
            "max": 1,
            "min": 0,
            "orientation": "horizontal",
            "style": "IPY_MODEL_1915f8745fd64d259dec340859b4079b",
            "value": 1
          }
        },
        "63b741a4b82a432c8d47fe4f2de7e9ee": {
          "model_module": "@jupyter-widgets/controls",
          "model_name": "HTMLModel",
          "model_module_version": "1.5.0",
          "state": {
            "_dom_classes": [],
            "_model_module": "@jupyter-widgets/controls",
            "_model_module_version": "1.5.0",
            "_model_name": "HTMLModel",
            "_view_count": null,
            "_view_module": "@jupyter-widgets/controls",
            "_view_module_version": "1.5.0",
            "_view_name": "HTMLView",
            "description": "",
            "description_tooltip": null,
            "layout": "IPY_MODEL_77e86da2de79422fbcdef6db5b7895a6",
            "placeholder": "​",
            "style": "IPY_MODEL_8fcaa89ad3964b9fb156c33f435da34d",
            "value": " 1/? [00:02&lt;00:00,  2.60s/it]"
          }
        },
        "dc659f16712e4a68b715560cfcb55426": {
          "model_module": "@jupyter-widgets/base",
          "model_name": "LayoutModel",
          "model_module_version": "1.2.0",
          "state": {
            "_model_module": "@jupyter-widgets/base",
            "_model_module_version": "1.2.0",
            "_model_name": "LayoutModel",
            "_view_count": null,
            "_view_module": "@jupyter-widgets/base",
            "_view_module_version": "1.2.0",
            "_view_name": "LayoutView",
            "align_content": null,
            "align_items": null,
            "align_self": null,
            "border": null,
            "bottom": null,
            "display": null,
            "flex": null,
            "flex_flow": null,
            "grid_area": null,
            "grid_auto_columns": null,
            "grid_auto_flow": null,
            "grid_auto_rows": null,
            "grid_column": null,
            "grid_gap": null,
            "grid_row": null,
            "grid_template_areas": null,
            "grid_template_columns": null,
            "grid_template_rows": null,
            "height": null,
            "justify_content": null,
            "justify_items": null,
            "left": null,
            "margin": null,
            "max_height": null,
            "max_width": null,
            "min_height": null,
            "min_width": null,
            "object_fit": null,
            "object_position": null,
            "order": null,
            "overflow": null,
            "overflow_x": null,
            "overflow_y": null,
            "padding": null,
            "right": null,
            "top": null,
            "visibility": null,
            "width": null
          }
        },
        "8f4dd6ebf5fa4831bd447a2fc9133069": {
          "model_module": "@jupyter-widgets/base",
          "model_name": "LayoutModel",
          "model_module_version": "1.2.0",
          "state": {
            "_model_module": "@jupyter-widgets/base",
            "_model_module_version": "1.2.0",
            "_model_name": "LayoutModel",
            "_view_count": null,
            "_view_module": "@jupyter-widgets/base",
            "_view_module_version": "1.2.0",
            "_view_name": "LayoutView",
            "align_content": null,
            "align_items": null,
            "align_self": null,
            "border": null,
            "bottom": null,
            "display": null,
            "flex": null,
            "flex_flow": null,
            "grid_area": null,
            "grid_auto_columns": null,
            "grid_auto_flow": null,
            "grid_auto_rows": null,
            "grid_column": null,
            "grid_gap": null,
            "grid_row": null,
            "grid_template_areas": null,
            "grid_template_columns": null,
            "grid_template_rows": null,
            "height": null,
            "justify_content": null,
            "justify_items": null,
            "left": null,
            "margin": null,
            "max_height": null,
            "max_width": null,
            "min_height": null,
            "min_width": null,
            "object_fit": null,
            "object_position": null,
            "order": null,
            "overflow": null,
            "overflow_x": null,
            "overflow_y": null,
            "padding": null,
            "right": null,
            "top": null,
            "visibility": null,
            "width": null
          }
        },
        "c3ed7c803f4349f4858438baf8e700a0": {
          "model_module": "@jupyter-widgets/controls",
          "model_name": "DescriptionStyleModel",
          "model_module_version": "1.5.0",
          "state": {
            "_model_module": "@jupyter-widgets/controls",
            "_model_module_version": "1.5.0",
            "_model_name": "DescriptionStyleModel",
            "_view_count": null,
            "_view_module": "@jupyter-widgets/base",
            "_view_module_version": "1.2.0",
            "_view_name": "StyleView",
            "description_width": ""
          }
        },
        "57a90153ab7342afa54fc2144d13a71c": {
          "model_module": "@jupyter-widgets/base",
          "model_name": "LayoutModel",
          "model_module_version": "1.2.0",
          "state": {
            "_model_module": "@jupyter-widgets/base",
            "_model_module_version": "1.2.0",
            "_model_name": "LayoutModel",
            "_view_count": null,
            "_view_module": "@jupyter-widgets/base",
            "_view_module_version": "1.2.0",
            "_view_name": "LayoutView",
            "align_content": null,
            "align_items": null,
            "align_self": null,
            "border": null,
            "bottom": null,
            "display": null,
            "flex": null,
            "flex_flow": null,
            "grid_area": null,
            "grid_auto_columns": null,
            "grid_auto_flow": null,
            "grid_auto_rows": null,
            "grid_column": null,
            "grid_gap": null,
            "grid_row": null,
            "grid_template_areas": null,
            "grid_template_columns": null,
            "grid_template_rows": null,
            "height": null,
            "justify_content": null,
            "justify_items": null,
            "left": null,
            "margin": null,
            "max_height": null,
            "max_width": null,
            "min_height": null,
            "min_width": null,
            "object_fit": null,
            "object_position": null,
            "order": null,
            "overflow": null,
            "overflow_x": null,
            "overflow_y": null,
            "padding": null,
            "right": null,
            "top": null,
            "visibility": null,
            "width": "20px"
          }
        },
        "1915f8745fd64d259dec340859b4079b": {
          "model_module": "@jupyter-widgets/controls",
          "model_name": "ProgressStyleModel",
          "model_module_version": "1.5.0",
          "state": {
            "_model_module": "@jupyter-widgets/controls",
            "_model_module_version": "1.5.0",
            "_model_name": "ProgressStyleModel",
            "_view_count": null,
            "_view_module": "@jupyter-widgets/base",
            "_view_module_version": "1.2.0",
            "_view_name": "StyleView",
            "bar_color": null,
            "description_width": ""
          }
        },
        "77e86da2de79422fbcdef6db5b7895a6": {
          "model_module": "@jupyter-widgets/base",
          "model_name": "LayoutModel",
          "model_module_version": "1.2.0",
          "state": {
            "_model_module": "@jupyter-widgets/base",
            "_model_module_version": "1.2.0",
            "_model_name": "LayoutModel",
            "_view_count": null,
            "_view_module": "@jupyter-widgets/base",
            "_view_module_version": "1.2.0",
            "_view_name": "LayoutView",
            "align_content": null,
            "align_items": null,
            "align_self": null,
            "border": null,
            "bottom": null,
            "display": null,
            "flex": null,
            "flex_flow": null,
            "grid_area": null,
            "grid_auto_columns": null,
            "grid_auto_flow": null,
            "grid_auto_rows": null,
            "grid_column": null,
            "grid_gap": null,
            "grid_row": null,
            "grid_template_areas": null,
            "grid_template_columns": null,
            "grid_template_rows": null,
            "height": null,
            "justify_content": null,
            "justify_items": null,
            "left": null,
            "margin": null,
            "max_height": null,
            "max_width": null,
            "min_height": null,
            "min_width": null,
            "object_fit": null,
            "object_position": null,
            "order": null,
            "overflow": null,
            "overflow_x": null,
            "overflow_y": null,
            "padding": null,
            "right": null,
            "top": null,
            "visibility": null,
            "width": null
          }
        },
        "8fcaa89ad3964b9fb156c33f435da34d": {
          "model_module": "@jupyter-widgets/controls",
          "model_name": "DescriptionStyleModel",
          "model_module_version": "1.5.0",
          "state": {
            "_model_module": "@jupyter-widgets/controls",
            "_model_module_version": "1.5.0",
            "_model_name": "DescriptionStyleModel",
            "_view_count": null,
            "_view_module": "@jupyter-widgets/base",
            "_view_module_version": "1.2.0",
            "_view_name": "StyleView",
            "description_width": ""
          }
        },
        "10fceaa841884a719d12da641070372f": {
          "model_module": "@jupyter-widgets/controls",
          "model_name": "HBoxModel",
          "model_module_version": "1.5.0",
          "state": {
            "_dom_classes": [],
            "_model_module": "@jupyter-widgets/controls",
            "_model_module_version": "1.5.0",
            "_model_name": "HBoxModel",
            "_view_count": null,
            "_view_module": "@jupyter-widgets/controls",
            "_view_module_version": "1.5.0",
            "_view_name": "HBoxView",
            "box_style": "",
            "children": [
              "IPY_MODEL_b345eba07b3d477987bc57f51dde8c06",
              "IPY_MODEL_d580b67ed1ac40e39fdb6d208a90d660",
              "IPY_MODEL_27fcbf56a5224e86b171fd45657b8c17"
            ],
            "layout": "IPY_MODEL_4309906dca8c464dbec8e64edcea7637"
          }
        },
        "b345eba07b3d477987bc57f51dde8c06": {
          "model_module": "@jupyter-widgets/controls",
          "model_name": "HTMLModel",
          "model_module_version": "1.5.0",
          "state": {
            "_dom_classes": [],
            "_model_module": "@jupyter-widgets/controls",
            "_model_module_version": "1.5.0",
            "_model_name": "HTMLModel",
            "_view_count": null,
            "_view_module": "@jupyter-widgets/controls",
            "_view_module_version": "1.5.0",
            "_view_name": "HTMLView",
            "description": "",
            "description_tooltip": null,
            "layout": "IPY_MODEL_08f0ec80e34849e8a007e2554d5f3218",
            "placeholder": "​",
            "style": "IPY_MODEL_4e45a4e0b6b14c3dbbfdf7aeae578a1f",
            "value": ""
          }
        },
        "d580b67ed1ac40e39fdb6d208a90d660": {
          "model_module": "@jupyter-widgets/controls",
          "model_name": "FloatProgressModel",
          "model_module_version": "1.5.0",
          "state": {
            "_dom_classes": [],
            "_model_module": "@jupyter-widgets/controls",
            "_model_module_version": "1.5.0",
            "_model_name": "FloatProgressModel",
            "_view_count": null,
            "_view_module": "@jupyter-widgets/controls",
            "_view_module_version": "1.5.0",
            "_view_name": "ProgressView",
            "bar_style": "success",
            "description": "",
            "description_tooltip": null,
            "layout": "IPY_MODEL_95495bce0ed24326ace5c2c3b9fe79e9",
            "max": 1,
            "min": 0,
            "orientation": "horizontal",
            "style": "IPY_MODEL_b6bfcf1d68f3449184b63fb98dd81f33",
            "value": 1
          }
        },
        "27fcbf56a5224e86b171fd45657b8c17": {
          "model_module": "@jupyter-widgets/controls",
          "model_name": "HTMLModel",
          "model_module_version": "1.5.0",
          "state": {
            "_dom_classes": [],
            "_model_module": "@jupyter-widgets/controls",
            "_model_module_version": "1.5.0",
            "_model_name": "HTMLModel",
            "_view_count": null,
            "_view_module": "@jupyter-widgets/controls",
            "_view_module_version": "1.5.0",
            "_view_name": "HTMLView",
            "description": "",
            "description_tooltip": null,
            "layout": "IPY_MODEL_efe92b3c2dd94fceb3f15de9849fff28",
            "placeholder": "​",
            "style": "IPY_MODEL_7edbaef5b1c544879a0f47d1bb5fc18b",
            "value": " 1/? [00:02&lt;00:00,  2.19s/it]"
          }
        },
        "4309906dca8c464dbec8e64edcea7637": {
          "model_module": "@jupyter-widgets/base",
          "model_name": "LayoutModel",
          "model_module_version": "1.2.0",
          "state": {
            "_model_module": "@jupyter-widgets/base",
            "_model_module_version": "1.2.0",
            "_model_name": "LayoutModel",
            "_view_count": null,
            "_view_module": "@jupyter-widgets/base",
            "_view_module_version": "1.2.0",
            "_view_name": "LayoutView",
            "align_content": null,
            "align_items": null,
            "align_self": null,
            "border": null,
            "bottom": null,
            "display": null,
            "flex": null,
            "flex_flow": null,
            "grid_area": null,
            "grid_auto_columns": null,
            "grid_auto_flow": null,
            "grid_auto_rows": null,
            "grid_column": null,
            "grid_gap": null,
            "grid_row": null,
            "grid_template_areas": null,
            "grid_template_columns": null,
            "grid_template_rows": null,
            "height": null,
            "justify_content": null,
            "justify_items": null,
            "left": null,
            "margin": null,
            "max_height": null,
            "max_width": null,
            "min_height": null,
            "min_width": null,
            "object_fit": null,
            "object_position": null,
            "order": null,
            "overflow": null,
            "overflow_x": null,
            "overflow_y": null,
            "padding": null,
            "right": null,
            "top": null,
            "visibility": null,
            "width": null
          }
        },
        "08f0ec80e34849e8a007e2554d5f3218": {
          "model_module": "@jupyter-widgets/base",
          "model_name": "LayoutModel",
          "model_module_version": "1.2.0",
          "state": {
            "_model_module": "@jupyter-widgets/base",
            "_model_module_version": "1.2.0",
            "_model_name": "LayoutModel",
            "_view_count": null,
            "_view_module": "@jupyter-widgets/base",
            "_view_module_version": "1.2.0",
            "_view_name": "LayoutView",
            "align_content": null,
            "align_items": null,
            "align_self": null,
            "border": null,
            "bottom": null,
            "display": null,
            "flex": null,
            "flex_flow": null,
            "grid_area": null,
            "grid_auto_columns": null,
            "grid_auto_flow": null,
            "grid_auto_rows": null,
            "grid_column": null,
            "grid_gap": null,
            "grid_row": null,
            "grid_template_areas": null,
            "grid_template_columns": null,
            "grid_template_rows": null,
            "height": null,
            "justify_content": null,
            "justify_items": null,
            "left": null,
            "margin": null,
            "max_height": null,
            "max_width": null,
            "min_height": null,
            "min_width": null,
            "object_fit": null,
            "object_position": null,
            "order": null,
            "overflow": null,
            "overflow_x": null,
            "overflow_y": null,
            "padding": null,
            "right": null,
            "top": null,
            "visibility": null,
            "width": null
          }
        },
        "4e45a4e0b6b14c3dbbfdf7aeae578a1f": {
          "model_module": "@jupyter-widgets/controls",
          "model_name": "DescriptionStyleModel",
          "model_module_version": "1.5.0",
          "state": {
            "_model_module": "@jupyter-widgets/controls",
            "_model_module_version": "1.5.0",
            "_model_name": "DescriptionStyleModel",
            "_view_count": null,
            "_view_module": "@jupyter-widgets/base",
            "_view_module_version": "1.2.0",
            "_view_name": "StyleView",
            "description_width": ""
          }
        },
        "95495bce0ed24326ace5c2c3b9fe79e9": {
          "model_module": "@jupyter-widgets/base",
          "model_name": "LayoutModel",
          "model_module_version": "1.2.0",
          "state": {
            "_model_module": "@jupyter-widgets/base",
            "_model_module_version": "1.2.0",
            "_model_name": "LayoutModel",
            "_view_count": null,
            "_view_module": "@jupyter-widgets/base",
            "_view_module_version": "1.2.0",
            "_view_name": "LayoutView",
            "align_content": null,
            "align_items": null,
            "align_self": null,
            "border": null,
            "bottom": null,
            "display": null,
            "flex": null,
            "flex_flow": null,
            "grid_area": null,
            "grid_auto_columns": null,
            "grid_auto_flow": null,
            "grid_auto_rows": null,
            "grid_column": null,
            "grid_gap": null,
            "grid_row": null,
            "grid_template_areas": null,
            "grid_template_columns": null,
            "grid_template_rows": null,
            "height": null,
            "justify_content": null,
            "justify_items": null,
            "left": null,
            "margin": null,
            "max_height": null,
            "max_width": null,
            "min_height": null,
            "min_width": null,
            "object_fit": null,
            "object_position": null,
            "order": null,
            "overflow": null,
            "overflow_x": null,
            "overflow_y": null,
            "padding": null,
            "right": null,
            "top": null,
            "visibility": null,
            "width": "20px"
          }
        },
        "b6bfcf1d68f3449184b63fb98dd81f33": {
          "model_module": "@jupyter-widgets/controls",
          "model_name": "ProgressStyleModel",
          "model_module_version": "1.5.0",
          "state": {
            "_model_module": "@jupyter-widgets/controls",
            "_model_module_version": "1.5.0",
            "_model_name": "ProgressStyleModel",
            "_view_count": null,
            "_view_module": "@jupyter-widgets/base",
            "_view_module_version": "1.2.0",
            "_view_name": "StyleView",
            "bar_color": null,
            "description_width": ""
          }
        },
        "efe92b3c2dd94fceb3f15de9849fff28": {
          "model_module": "@jupyter-widgets/base",
          "model_name": "LayoutModel",
          "model_module_version": "1.2.0",
          "state": {
            "_model_module": "@jupyter-widgets/base",
            "_model_module_version": "1.2.0",
            "_model_name": "LayoutModel",
            "_view_count": null,
            "_view_module": "@jupyter-widgets/base",
            "_view_module_version": "1.2.0",
            "_view_name": "LayoutView",
            "align_content": null,
            "align_items": null,
            "align_self": null,
            "border": null,
            "bottom": null,
            "display": null,
            "flex": null,
            "flex_flow": null,
            "grid_area": null,
            "grid_auto_columns": null,
            "grid_auto_flow": null,
            "grid_auto_rows": null,
            "grid_column": null,
            "grid_gap": null,
            "grid_row": null,
            "grid_template_areas": null,
            "grid_template_columns": null,
            "grid_template_rows": null,
            "height": null,
            "justify_content": null,
            "justify_items": null,
            "left": null,
            "margin": null,
            "max_height": null,
            "max_width": null,
            "min_height": null,
            "min_width": null,
            "object_fit": null,
            "object_position": null,
            "order": null,
            "overflow": null,
            "overflow_x": null,
            "overflow_y": null,
            "padding": null,
            "right": null,
            "top": null,
            "visibility": null,
            "width": null
          }
        },
        "7edbaef5b1c544879a0f47d1bb5fc18b": {
          "model_module": "@jupyter-widgets/controls",
          "model_name": "DescriptionStyleModel",
          "model_module_version": "1.5.0",
          "state": {
            "_model_module": "@jupyter-widgets/controls",
            "_model_module_version": "1.5.0",
            "_model_name": "DescriptionStyleModel",
            "_view_count": null,
            "_view_module": "@jupyter-widgets/base",
            "_view_module_version": "1.2.0",
            "_view_name": "StyleView",
            "description_width": ""
          }
        },
        "0d92f487d414411f916fec5f08f2d9a6": {
          "model_module": "@jupyter-widgets/controls",
          "model_name": "HBoxModel",
          "model_module_version": "1.5.0",
          "state": {
            "_dom_classes": [],
            "_model_module": "@jupyter-widgets/controls",
            "_model_module_version": "1.5.0",
            "_model_name": "HBoxModel",
            "_view_count": null,
            "_view_module": "@jupyter-widgets/controls",
            "_view_module_version": "1.5.0",
            "_view_name": "HBoxView",
            "box_style": "",
            "children": [
              "IPY_MODEL_2c0ebb7c14ee44f1a227f1ed6c899182",
              "IPY_MODEL_4a0902c59ced403797eecc8a9b9d99f7",
              "IPY_MODEL_1609ae98100141d7ac69c026a9559999"
            ],
            "layout": "IPY_MODEL_d75d4abbc29e476d9de16c130a3d5119"
          }
        },
        "2c0ebb7c14ee44f1a227f1ed6c899182": {
          "model_module": "@jupyter-widgets/controls",
          "model_name": "HTMLModel",
          "model_module_version": "1.5.0",
          "state": {
            "_dom_classes": [],
            "_model_module": "@jupyter-widgets/controls",
            "_model_module_version": "1.5.0",
            "_model_name": "HTMLModel",
            "_view_count": null,
            "_view_module": "@jupyter-widgets/controls",
            "_view_module_version": "1.5.0",
            "_view_name": "HTMLView",
            "description": "",
            "description_tooltip": null,
            "layout": "IPY_MODEL_1e20a59d37fc41b1ab24893b95853b78",
            "placeholder": "​",
            "style": "IPY_MODEL_3cf19bec8c3a4dc9b5cf468b14093371",
            "value": ""
          }
        },
        "4a0902c59ced403797eecc8a9b9d99f7": {
          "model_module": "@jupyter-widgets/controls",
          "model_name": "FloatProgressModel",
          "model_module_version": "1.5.0",
          "state": {
            "_dom_classes": [],
            "_model_module": "@jupyter-widgets/controls",
            "_model_module_version": "1.5.0",
            "_model_name": "FloatProgressModel",
            "_view_count": null,
            "_view_module": "@jupyter-widgets/controls",
            "_view_module_version": "1.5.0",
            "_view_name": "ProgressView",
            "bar_style": "success",
            "description": "",
            "description_tooltip": null,
            "layout": "IPY_MODEL_86f43bc1dbf842978fac8356e581a105",
            "max": 1,
            "min": 0,
            "orientation": "horizontal",
            "style": "IPY_MODEL_598655a6c02a48b187fbfbc4441f7e1d",
            "value": 1
          }
        },
        "1609ae98100141d7ac69c026a9559999": {
          "model_module": "@jupyter-widgets/controls",
          "model_name": "HTMLModel",
          "model_module_version": "1.5.0",
          "state": {
            "_dom_classes": [],
            "_model_module": "@jupyter-widgets/controls",
            "_model_module_version": "1.5.0",
            "_model_name": "HTMLModel",
            "_view_count": null,
            "_view_module": "@jupyter-widgets/controls",
            "_view_module_version": "1.5.0",
            "_view_name": "HTMLView",
            "description": "",
            "description_tooltip": null,
            "layout": "IPY_MODEL_328a1eca60874776ad57a5848e0d61fb",
            "placeholder": "​",
            "style": "IPY_MODEL_760fa2e58ab14ce09614d1cfcd4e7616",
            "value": " 44/? [00:00&lt;00:00, 1228.23it/s]"
          }
        },
        "d75d4abbc29e476d9de16c130a3d5119": {
          "model_module": "@jupyter-widgets/base",
          "model_name": "LayoutModel",
          "model_module_version": "1.2.0",
          "state": {
            "_model_module": "@jupyter-widgets/base",
            "_model_module_version": "1.2.0",
            "_model_name": "LayoutModel",
            "_view_count": null,
            "_view_module": "@jupyter-widgets/base",
            "_view_module_version": "1.2.0",
            "_view_name": "LayoutView",
            "align_content": null,
            "align_items": null,
            "align_self": null,
            "border": null,
            "bottom": null,
            "display": null,
            "flex": null,
            "flex_flow": null,
            "grid_area": null,
            "grid_auto_columns": null,
            "grid_auto_flow": null,
            "grid_auto_rows": null,
            "grid_column": null,
            "grid_gap": null,
            "grid_row": null,
            "grid_template_areas": null,
            "grid_template_columns": null,
            "grid_template_rows": null,
            "height": null,
            "justify_content": null,
            "justify_items": null,
            "left": null,
            "margin": null,
            "max_height": null,
            "max_width": null,
            "min_height": null,
            "min_width": null,
            "object_fit": null,
            "object_position": null,
            "order": null,
            "overflow": null,
            "overflow_x": null,
            "overflow_y": null,
            "padding": null,
            "right": null,
            "top": null,
            "visibility": null,
            "width": null
          }
        },
        "1e20a59d37fc41b1ab24893b95853b78": {
          "model_module": "@jupyter-widgets/base",
          "model_name": "LayoutModel",
          "model_module_version": "1.2.0",
          "state": {
            "_model_module": "@jupyter-widgets/base",
            "_model_module_version": "1.2.0",
            "_model_name": "LayoutModel",
            "_view_count": null,
            "_view_module": "@jupyter-widgets/base",
            "_view_module_version": "1.2.0",
            "_view_name": "LayoutView",
            "align_content": null,
            "align_items": null,
            "align_self": null,
            "border": null,
            "bottom": null,
            "display": null,
            "flex": null,
            "flex_flow": null,
            "grid_area": null,
            "grid_auto_columns": null,
            "grid_auto_flow": null,
            "grid_auto_rows": null,
            "grid_column": null,
            "grid_gap": null,
            "grid_row": null,
            "grid_template_areas": null,
            "grid_template_columns": null,
            "grid_template_rows": null,
            "height": null,
            "justify_content": null,
            "justify_items": null,
            "left": null,
            "margin": null,
            "max_height": null,
            "max_width": null,
            "min_height": null,
            "min_width": null,
            "object_fit": null,
            "object_position": null,
            "order": null,
            "overflow": null,
            "overflow_x": null,
            "overflow_y": null,
            "padding": null,
            "right": null,
            "top": null,
            "visibility": null,
            "width": null
          }
        },
        "3cf19bec8c3a4dc9b5cf468b14093371": {
          "model_module": "@jupyter-widgets/controls",
          "model_name": "DescriptionStyleModel",
          "model_module_version": "1.5.0",
          "state": {
            "_model_module": "@jupyter-widgets/controls",
            "_model_module_version": "1.5.0",
            "_model_name": "DescriptionStyleModel",
            "_view_count": null,
            "_view_module": "@jupyter-widgets/base",
            "_view_module_version": "1.2.0",
            "_view_name": "StyleView",
            "description_width": ""
          }
        },
        "86f43bc1dbf842978fac8356e581a105": {
          "model_module": "@jupyter-widgets/base",
          "model_name": "LayoutModel",
          "model_module_version": "1.2.0",
          "state": {
            "_model_module": "@jupyter-widgets/base",
            "_model_module_version": "1.2.0",
            "_model_name": "LayoutModel",
            "_view_count": null,
            "_view_module": "@jupyter-widgets/base",
            "_view_module_version": "1.2.0",
            "_view_name": "LayoutView",
            "align_content": null,
            "align_items": null,
            "align_self": null,
            "border": null,
            "bottom": null,
            "display": null,
            "flex": null,
            "flex_flow": null,
            "grid_area": null,
            "grid_auto_columns": null,
            "grid_auto_flow": null,
            "grid_auto_rows": null,
            "grid_column": null,
            "grid_gap": null,
            "grid_row": null,
            "grid_template_areas": null,
            "grid_template_columns": null,
            "grid_template_rows": null,
            "height": null,
            "justify_content": null,
            "justify_items": null,
            "left": null,
            "margin": null,
            "max_height": null,
            "max_width": null,
            "min_height": null,
            "min_width": null,
            "object_fit": null,
            "object_position": null,
            "order": null,
            "overflow": null,
            "overflow_x": null,
            "overflow_y": null,
            "padding": null,
            "right": null,
            "top": null,
            "visibility": null,
            "width": "20px"
          }
        },
        "598655a6c02a48b187fbfbc4441f7e1d": {
          "model_module": "@jupyter-widgets/controls",
          "model_name": "ProgressStyleModel",
          "model_module_version": "1.5.0",
          "state": {
            "_model_module": "@jupyter-widgets/controls",
            "_model_module_version": "1.5.0",
            "_model_name": "ProgressStyleModel",
            "_view_count": null,
            "_view_module": "@jupyter-widgets/base",
            "_view_module_version": "1.2.0",
            "_view_name": "StyleView",
            "bar_color": null,
            "description_width": ""
          }
        },
        "328a1eca60874776ad57a5848e0d61fb": {
          "model_module": "@jupyter-widgets/base",
          "model_name": "LayoutModel",
          "model_module_version": "1.2.0",
          "state": {
            "_model_module": "@jupyter-widgets/base",
            "_model_module_version": "1.2.0",
            "_model_name": "LayoutModel",
            "_view_count": null,
            "_view_module": "@jupyter-widgets/base",
            "_view_module_version": "1.2.0",
            "_view_name": "LayoutView",
            "align_content": null,
            "align_items": null,
            "align_self": null,
            "border": null,
            "bottom": null,
            "display": null,
            "flex": null,
            "flex_flow": null,
            "grid_area": null,
            "grid_auto_columns": null,
            "grid_auto_flow": null,
            "grid_auto_rows": null,
            "grid_column": null,
            "grid_gap": null,
            "grid_row": null,
            "grid_template_areas": null,
            "grid_template_columns": null,
            "grid_template_rows": null,
            "height": null,
            "justify_content": null,
            "justify_items": null,
            "left": null,
            "margin": null,
            "max_height": null,
            "max_width": null,
            "min_height": null,
            "min_width": null,
            "object_fit": null,
            "object_position": null,
            "order": null,
            "overflow": null,
            "overflow_x": null,
            "overflow_y": null,
            "padding": null,
            "right": null,
            "top": null,
            "visibility": null,
            "width": null
          }
        },
        "760fa2e58ab14ce09614d1cfcd4e7616": {
          "model_module": "@jupyter-widgets/controls",
          "model_name": "DescriptionStyleModel",
          "model_module_version": "1.5.0",
          "state": {
            "_model_module": "@jupyter-widgets/controls",
            "_model_module_version": "1.5.0",
            "_model_name": "DescriptionStyleModel",
            "_view_count": null,
            "_view_module": "@jupyter-widgets/base",
            "_view_module_version": "1.2.0",
            "_view_name": "StyleView",
            "description_width": ""
          }
        }
      }
    }
  },
  "cells": [
    {
      "cell_type": "markdown",
      "metadata": {
        "id": "view-in-github",
        "colab_type": "text"
      },
      "source": [
        "<a href=\"https://colab.research.google.com/github/plaban1981/Langchain_usecases/blob/main/Retrieval_Augmented_Generation.ipynb\" target=\"_parent\"><img src=\"https://colab.research.google.com/assets/colab-badge.svg\" alt=\"Open In Colab\"/></a>"
      ]
    },
    {
      "cell_type": "code",
      "execution_count": null,
      "metadata": {
        "id": "LI2Fgvmwrx87",
        "colab": {
          "base_uri": "https://localhost:8080/"
        },
        "outputId": "2eac206c-2d7e-48bf-cc82-0306010fb47c"
      },
      "outputs": [
        {
          "output_type": "stream",
          "name": "stdout",
          "text": [
            "\u001b[2K     \u001b[90m━━━━━━━━━━━━━━━━━━━━━━━━━━━━━━━━━━━━━━━\u001b[0m \u001b[32m73.6/73.6 kB\u001b[0m \u001b[31m795.6 kB/s\u001b[0m eta \u001b[36m0:00:00\u001b[0m\n",
            "\u001b[2K     \u001b[90m━━━━━━━━━━━━━━━━━━━━━━━━━━━━━━━━━━━━━━━━\u001b[0m \u001b[32m1.4/1.4 MB\u001b[0m \u001b[31m16.1 MB/s\u001b[0m eta \u001b[36m0:00:00\u001b[0m\n",
            "\u001b[2K     \u001b[90m━━━━━━━━━━━━━━━━━━━━━━━━━━━━━━━━━━━━━━\u001b[0m \u001b[32m232.6/232.6 kB\u001b[0m \u001b[31m22.0 MB/s\u001b[0m eta \u001b[36m0:00:00\u001b[0m\n",
            "\u001b[2K     \u001b[90m━━━━━━━━━━━━━━━━━━━━━━━━━━━━━━━━━━━━━━━━\u001b[0m \u001b[32m7.4/7.4 MB\u001b[0m \u001b[31m65.2 MB/s\u001b[0m eta \u001b[36m0:00:00\u001b[0m\n",
            "\u001b[2K     \u001b[90m━━━━━━━━━━━━━━━━━━━━━━━━━━━━━━━━━━━━━━━━\u001b[0m \u001b[32m1.7/1.7 MB\u001b[0m \u001b[31m58.9 MB/s\u001b[0m eta \u001b[36m0:00:00\u001b[0m\n",
            "\u001b[2K     \u001b[90m━━━━━━━━━━━━━━━━━━━━━━━━━━━━━━━━━━━━━━\u001b[0m \u001b[32m179.1/179.1 kB\u001b[0m \u001b[31m19.5 MB/s\u001b[0m eta \u001b[36m0:00:00\u001b[0m\n",
            "\u001b[2K     \u001b[90m━━━━━━━━━━━━━━━━━━━━━━━━━━━━━━━━━━━━━━━━\u001b[0m \u001b[32m86.0/86.0 kB\u001b[0m \u001b[31m9.1 MB/s\u001b[0m eta \u001b[36m0:00:00\u001b[0m\n",
            "\u001b[?25h  Preparing metadata (setup.py) ... \u001b[?25l\u001b[?25hdone\n",
            "\u001b[2K     \u001b[90m━━━━━━━━━━━━━━━━━━━━━━━━━━━━━━━━━━━━━━\u001b[0m \u001b[32m132.9/132.9 kB\u001b[0m \u001b[31m17.5 MB/s\u001b[0m eta \u001b[36m0:00:00\u001b[0m\n",
            "\u001b[2K     \u001b[90m━━━━━━━━━━━━━━━━━━━━━━━━━━━━━━━━━━━━━━━━\u001b[0m \u001b[32m90.0/90.0 kB\u001b[0m \u001b[31m12.6 MB/s\u001b[0m eta \u001b[36m0:00:00\u001b[0m\n",
            "\u001b[2K     \u001b[90m━━━━━━━━━━━━━━━━━━━━━━━━━━━━━━━━━━━━━━\u001b[0m \u001b[32m268.8/268.8 kB\u001b[0m \u001b[31m28.4 MB/s\u001b[0m eta \u001b[36m0:00:00\u001b[0m\n",
            "\u001b[2K     \u001b[90m━━━━━━━━━━━━━━━━━━━━━━━━━━━━━━━━━━━━━━━━\u001b[0m \u001b[32m7.8/7.8 MB\u001b[0m \u001b[31m100.4 MB/s\u001b[0m eta \u001b[36m0:00:00\u001b[0m\n",
            "\u001b[2K     \u001b[90m━━━━━━━━━━━━━━━━━━━━━━━━━━━━━━━━━━━━━━━━\u001b[0m \u001b[32m1.3/1.3 MB\u001b[0m \u001b[31m76.3 MB/s\u001b[0m eta \u001b[36m0:00:00\u001b[0m\n",
            "\u001b[2K     \u001b[90m━━━━━━━━━━━━━━━━━━━━━━━━━━━━━━━━━━━━━━━━\u001b[0m \u001b[32m60.0/60.0 kB\u001b[0m \u001b[31m7.7 MB/s\u001b[0m eta \u001b[36m0:00:00\u001b[0m\n",
            "\u001b[2K     \u001b[90m━━━━━━━━━━━━━━━━━━━━━━━━━━━━━━━━━━━━━━\u001b[0m \u001b[32m300.0/300.0 kB\u001b[0m \u001b[31m32.6 MB/s\u001b[0m eta \u001b[36m0:00:00\u001b[0m\n",
            "\u001b[2K     \u001b[90m━━━━━━━━━━━━━━━━━━━━━━━━━━━━━━━━━━━━━━━━\u001b[0m \u001b[32m1.3/1.3 MB\u001b[0m \u001b[31m76.8 MB/s\u001b[0m eta \u001b[36m0:00:00\u001b[0m\n",
            "\u001b[2K     \u001b[90m━━━━━━━━━━━━━━━━━━━━━━━━━━━━━━━━━━━━━━━━\u001b[0m \u001b[32m2.6/2.6 MB\u001b[0m \u001b[31m97.4 MB/s\u001b[0m eta \u001b[36m0:00:00\u001b[0m\n",
            "\u001b[2K     \u001b[90m━━━━━━━━━━━━━━━━━━━━━━━━━━━━━━━━━━━━━━━━\u001b[0m \u001b[32m75.4/75.4 kB\u001b[0m \u001b[31m10.3 MB/s\u001b[0m eta \u001b[36m0:00:00\u001b[0m\n",
            "\u001b[2K     \u001b[90m━━━━━━━━━━━━━━━━━━━━━━━━━━━━━━━━━━━━━━━━\u001b[0m \u001b[32m49.4/49.4 kB\u001b[0m \u001b[31m6.7 MB/s\u001b[0m eta \u001b[36m0:00:00\u001b[0m\n",
            "\u001b[2K     \u001b[90m━━━━━━━━━━━━━━━━━━━━━━━━━━━━━━━━━━━━━━━━\u001b[0m \u001b[32m74.5/74.5 kB\u001b[0m \u001b[31m10.0 MB/s\u001b[0m eta \u001b[36m0:00:00\u001b[0m\n",
            "\u001b[2K     \u001b[90m━━━━━━━━━━━━━━━━━━━━━━━━━━━━━━━━━━━━━━\u001b[0m \u001b[32m304.5/304.5 kB\u001b[0m \u001b[31m27.0 MB/s\u001b[0m eta \u001b[36m0:00:00\u001b[0m\n",
            "\u001b[2K     \u001b[90m━━━━━━━━━━━━━━━━━━━━━━━━━━━━━━━━━━━━━━━━\u001b[0m \u001b[32m5.2/5.2 MB\u001b[0m \u001b[31m104.0 MB/s\u001b[0m eta \u001b[36m0:00:00\u001b[0m\n",
            "\u001b[2K     \u001b[90m━━━━━━━━━━━━━━━━━━━━━━━━━━━━━━━━━━━━━━━━\u001b[0m \u001b[32m57.5/57.5 kB\u001b[0m \u001b[31m5.9 MB/s\u001b[0m eta \u001b[36m0:00:00\u001b[0m\n",
            "\u001b[2K     \u001b[90m━━━━━━━━━━━━━━━━━━━━━━━━━━━━━━━━━━━━━━━━\u001b[0m \u001b[32m58.3/58.3 kB\u001b[0m \u001b[31m5.0 MB/s\u001b[0m eta \u001b[36m0:00:00\u001b[0m\n",
            "\u001b[?25h  Building wheel for sentence-transformers (setup.py) ... \u001b[?25l\u001b[?25hdone\n"
          ]
        }
      ],
      "source": [
        "! pip  install -qU openai langchain PyPDF2 transformers tiktoken pinecone-client sentence-transformers qdrant-client"
      ]
    },
    {
      "cell_type": "markdown",
      "source": [
        "## Packages for scanned documents"
      ],
      "metadata": {
        "id": "vABL40nIG1Bo"
      }
    },
    {
      "cell_type": "code",
      "source": [
        "!apt install tesseract-ocr"
      ],
      "metadata": {
        "colab": {
          "base_uri": "https://localhost:8080/"
        },
        "id": "IfvlenKdG7dR",
        "outputId": "560e849d-d433-4c0e-edae-f0957b449627"
      },
      "execution_count": 2,
      "outputs": [
        {
          "output_type": "stream",
          "name": "stdout",
          "text": [
            "Reading package lists... Done\n",
            "Building dependency tree... Done\n",
            "Reading state information... Done\n",
            "The following additional packages will be installed:\n",
            "  tesseract-ocr-eng tesseract-ocr-osd\n",
            "The following NEW packages will be installed:\n",
            "  tesseract-ocr tesseract-ocr-eng tesseract-ocr-osd\n",
            "0 upgraded, 3 newly installed, 0 to remove and 8 not upgraded.\n",
            "Need to get 4,816 kB of archives.\n",
            "After this operation, 15.6 MB of additional disk space will be used.\n",
            "Get:1 http://archive.ubuntu.com/ubuntu jammy/universe amd64 tesseract-ocr-eng all 1:4.00~git30-7274cfa-1.1 [1,591 kB]\n",
            "Get:2 http://archive.ubuntu.com/ubuntu jammy/universe amd64 tesseract-ocr-osd all 1:4.00~git30-7274cfa-1.1 [2,990 kB]\n",
            "Get:3 http://archive.ubuntu.com/ubuntu jammy/universe amd64 tesseract-ocr amd64 4.1.1-2.1build1 [236 kB]\n",
            "Fetched 4,816 kB in 1s (5,096 kB/s)\n",
            "Selecting previously unselected package tesseract-ocr-eng.\n",
            "(Reading database ... 129824 files and directories currently installed.)\n",
            "Preparing to unpack .../tesseract-ocr-eng_1%3a4.00~git30-7274cfa-1.1_all.deb ...\n",
            "Unpacking tesseract-ocr-eng (1:4.00~git30-7274cfa-1.1) ...\n",
            "Selecting previously unselected package tesseract-ocr-osd.\n",
            "Preparing to unpack .../tesseract-ocr-osd_1%3a4.00~git30-7274cfa-1.1_all.deb ...\n",
            "Unpacking tesseract-ocr-osd (1:4.00~git30-7274cfa-1.1) ...\n",
            "Selecting previously unselected package tesseract-ocr.\n",
            "Preparing to unpack .../tesseract-ocr_4.1.1-2.1build1_amd64.deb ...\n",
            "Unpacking tesseract-ocr (4.1.1-2.1build1) ...\n",
            "Setting up tesseract-ocr-eng (1:4.00~git30-7274cfa-1.1) ...\n",
            "Setting up tesseract-ocr-osd (1:4.00~git30-7274cfa-1.1) ...\n",
            "Setting up tesseract-ocr (4.1.1-2.1build1) ...\n",
            "Processing triggers for man-db (2.10.2-1) ...\n"
          ]
        }
      ]
    },
    {
      "cell_type": "code",
      "source": [
        "! apt-get install poppler-utils"
      ],
      "metadata": {
        "colab": {
          "base_uri": "https://localhost:8080/"
        },
        "id": "H3ERl71RHYrj",
        "outputId": "76c8019b-735f-4201-c2d4-55c6e620465d"
      },
      "execution_count": 3,
      "outputs": [
        {
          "output_type": "stream",
          "name": "stdout",
          "text": [
            "Reading package lists... Done\n",
            "Building dependency tree... Done\n",
            "Reading state information... Done\n",
            "The following NEW packages will be installed:\n",
            "  poppler-utils\n",
            "0 upgraded, 1 newly installed, 0 to remove and 8 not upgraded.\n",
            "Need to get 186 kB of archives.\n",
            "After this operation, 696 kB of additional disk space will be used.\n",
            "Get:1 http://archive.ubuntu.com/ubuntu jammy-updates/main amd64 poppler-utils amd64 22.02.0-2ubuntu0.1 [186 kB]\n",
            "Fetched 186 kB in 0s (394 kB/s)\n",
            "Selecting previously unselected package poppler-utils.\n",
            "(Reading database ... 129871 files and directories currently installed.)\n",
            "Preparing to unpack .../poppler-utils_22.02.0-2ubuntu0.1_amd64.deb ...\n",
            "Unpacking poppler-utils (22.02.0-2ubuntu0.1) ...\n",
            "Setting up poppler-utils (22.02.0-2ubuntu0.1) ...\n",
            "Processing triggers for man-db (2.10.2-1) ...\n"
          ]
        }
      ]
    },
    {
      "cell_type": "code",
      "source": [
        "! pip install -U pytesseract"
      ],
      "metadata": {
        "colab": {
          "base_uri": "https://localhost:8080/"
        },
        "id": "RMhwl_FeHeE8",
        "outputId": "12013603-95d4-4a00-b41b-ea1de3257644"
      },
      "execution_count": 4,
      "outputs": [
        {
          "output_type": "stream",
          "name": "stdout",
          "text": [
            "Collecting pytesseract\n",
            "  Downloading pytesseract-0.3.10-py3-none-any.whl (14 kB)\n",
            "Requirement already satisfied: packaging>=21.3 in /usr/local/lib/python3.10/dist-packages (from pytesseract) (23.1)\n",
            "Requirement already satisfied: Pillow>=8.0.0 in /usr/local/lib/python3.10/dist-packages (from pytesseract) (8.4.0)\n",
            "Installing collected packages: pytesseract\n",
            "Successfully installed pytesseract-0.3.10\n"
          ]
        }
      ]
    },
    {
      "cell_type": "code",
      "source": [
        "! pip install pdf2image"
      ],
      "metadata": {
        "colab": {
          "base_uri": "https://localhost:8080/"
        },
        "id": "8gZuiAPiHqFf",
        "outputId": "f675e216-b096-4888-a4b9-bfc0da681a8f"
      },
      "execution_count": 5,
      "outputs": [
        {
          "output_type": "stream",
          "name": "stdout",
          "text": [
            "Collecting pdf2image\n",
            "  Downloading pdf2image-1.16.3-py3-none-any.whl (11 kB)\n",
            "Requirement already satisfied: pillow in /usr/local/lib/python3.10/dist-packages (from pdf2image) (8.4.0)\n",
            "Installing collected packages: pdf2image\n",
            "Successfully installed pdf2image-1.16.3\n"
          ]
        }
      ]
    },
    {
      "cell_type": "code",
      "source": [
        "import PyPDF2\n",
        "from PyPDF2 import PdfReader\n",
        "import io\n",
        "import pytesseract\n",
        "import shutil\n",
        "import random\n",
        "from PIL import Image\n",
        "from pdf2image import convert_from_path"
      ],
      "metadata": {
        "id": "NSjubOu7t7Ft"
      },
      "execution_count": 6,
      "outputs": []
    },
    {
      "cell_type": "code",
      "source": [
        "!wget \"https://content.accion.org/wp-content/uploads/2018/08/Employee-Stock-Option-Plans-ESOP-Best-Practices-2.pdf\""
      ],
      "metadata": {
        "colab": {
          "base_uri": "https://localhost:8080/"
        },
        "id": "RH4ZPrf-t_Gb",
        "outputId": "a40907d1-1be4-4715-d5aa-c6dfd60fa43d"
      },
      "execution_count": 7,
      "outputs": [
        {
          "output_type": "stream",
          "name": "stdout",
          "text": [
            "--2023-07-26 04:40:49--  https://content.accion.org/wp-content/uploads/2018/08/Employee-Stock-Option-Plans-ESOP-Best-Practices-2.pdf\n",
            "Resolving content.accion.org (content.accion.org)... 151.101.194.159\n",
            "Connecting to content.accion.org (content.accion.org)|151.101.194.159|:443... connected.\n",
            "HTTP request sent, awaiting response... 200 OK\n",
            "Length: 724217 (707K) [application/pdf]\n",
            "Saving to: ‘Employee-Stock-Option-Plans-ESOP-Best-Practices-2.pdf’\n",
            "\n",
            "\r          Employee-   0%[                    ]       0  --.-KB/s               \rEmployee-Stock-Opti 100%[===================>] 707.24K  --.-KB/s    in 0.007s  \n",
            "\n",
            "2023-07-26 04:40:49 (93.8 MB/s) - ‘Employee-Stock-Option-Plans-ESOP-Best-Practices-2.pdf’ saved [724217/724217]\n",
            "\n"
          ]
        }
      ]
    },
    {
      "cell_type": "code",
      "source": [
        "def is_scanned_pdf(file_path):\n",
        "    page_num  = []\n",
        "    page_content = []\n",
        "    pdf_reader = PdfReader(file_path)\n",
        "    text = \"\"\n",
        "    for i,page in enumerate(pdf_reader.pages):\n",
        "      page_num.append(f\"Page{i+1}\")\n",
        "      page_content.append(page.extract_text())\n",
        "      text += page.extract_text()\n",
        "\n",
        "    # if no text found, it is likely a scanned pdf\n",
        "    if text == \"\":\n",
        "        print(\"Scanned PDF\")\n",
        "        return True,page_num,page_content\n",
        "\n",
        "    else:\n",
        "        print(\"Text-based PDF\")\n",
        "        return False,page_num,page_content"
      ],
      "metadata": {
        "id": "VULP_nriuAu_"
      },
      "execution_count": null,
      "outputs": []
    },
    {
      "cell_type": "code",
      "source": [
        "file_path = \"/content/Employee-Stock-Option-Plans-ESOP-Best-Practices-2.pdf\"\n",
        "flag,page_num,page_content = is_scanned_pdf(file_path)"
      ],
      "metadata": {
        "colab": {
          "base_uri": "https://localhost:8080/"
        },
        "id": "KYw0ytXtweIm",
        "outputId": "2b0093d1-3e5e-4643-d1a4-80704833056c"
      },
      "execution_count": null,
      "outputs": [
        {
          "output_type": "stream",
          "name": "stdout",
          "text": [
            "Text-based PDF\n"
          ]
        }
      ]
    },
    {
      "cell_type": "code",
      "source": [
        "len(page_num),len(page_content)"
      ],
      "metadata": {
        "colab": {
          "base_uri": "https://localhost:8080/"
        },
        "id": "wo_pPlKvw4wg",
        "outputId": "811390e1-9aa5-4b11-d665-dfc32c471c09"
      },
      "execution_count": null,
      "outputs": [
        {
          "output_type": "execute_result",
          "data": {
            "text/plain": [
              "(44, 44)"
            ]
          },
          "metadata": {},
          "execution_count": 6
        }
      ]
    },
    {
      "cell_type": "code",
      "source": [
        "page_content[:5]"
      ],
      "metadata": {
        "colab": {
          "base_uri": "https://localhost:8080/"
        },
        "id": "hIr9Lwb8w-Fv",
        "outputId": "16337dc3-3292-4563-8e0e-0a3c88a78ef9"
      },
      "execution_count": null,
      "outputs": [
        {
          "output_type": "execute_result",
          "data": {
            "text/plain": [
              "['Startup Employee Stock \\nOptions Plans (ESOPs)  \\n \\nOverview and Best Practices  \\n',\n",
              " 'Table of Contents  \\nPart I: Intro to Options Plans  \\n•What is an ESOP?  \\n•What is an Option?  \\n•Lifecycle of a Startup ESOP  \\n•Common Terms in an Options Package  \\n•Why Issue Options to Employees ? \\n–A Defining Characteristic of Startup Culture  \\n–A Necessary Part of the Capital Structure  \\n•When to Create an ESOP ? \\n•Communicating Options to Employees: % versus $ \\n \\nPart II: How Much to Grant  \\n•Two Approaches  \\n•The Top -Down Process  \\n–1. How Much Equity to Set Aside in the ESOP ? \\n–2. A Typical Distribution Schedule  \\n•The Bottom -Up Process  \\n–1. Segment Your Human Resources  \\n–2. Establish Pay Multipliers for Each Role \\n–3. Determine the Dollar Value of the Options Grant  \\n–4. Determine the Current Share Price  \\n–5. Calculate the Options Grant  \\n–An Example: Hiring a CTO  \\n•Important Takeaways  Part III : The Fine Print – Terms  \\n•Strike Price  \\n•Vesting Schedule  \\n•The Cliff  \\n–Example: Standard Vesting w/ a Cliff \\n•Vesting in a Liquidity Event  \\n•Exercising Options  \\n•Tax Considerations  \\n•Legal Advice  \\n \\nPart IV: ESOPs for the Long Term  \\n•Retention Grants  \\n•Discretionary Grants  \\n•Social Impact Considerations  \\n•Options Modeling – Overview  \\n•Options Modeling – A Detailed Example  \\n \\nPart V: Resources & Further Reading  ',\n",
              " 'INTRO TO OPTIONS PLANS  Part I  ',\n",
              " 'What is an ESOP?  \\n•An Employee Stock Options Plan (ESOP)  \\n \\n•An allocation  of shares that will be granted to employees in the future \\nin the form of stock options  \\n–How much equity should we set aside for employees?  \\n \\n•A plan for how these options will be distributed:  \\n–How many shares will individual employees receive?  \\n–What terms will govern these grants?  \\n \\n•The plan is as important as the allocation!  ',\n",
              " 'What is an Option?  \\n•Why do options have intrinsic value?  \\n–A effective form of equity ownership  \\n–A locked -in price for shares  \\n•How do startups use options?  \\n–To bring in founding team members \\nwho are not co -founders  \\n–To recruit, compensate and retain \\nearly employees  \\n–To allow later employees to share in \\nthe company’s long -term upside  Terminology:   \\nThis presentation uses “options” \\ngenerally to refer to several types of \\nsecurities that are often issued to startup \\nemployees to provide for effective equity \\nownership, including:  \\n-Stock options (the right to buy \\ncommon stock a set strike price)  \\n-Restricted stock (common stock \\nissued early on to top employees)  \\n-Restricted stock units (a promise to \\nissue common stock in the future)  \\nAppropriate use of these securities will \\nvary based on local regulatory and tax \\nconsiderations.  An option is a right (but not an obligation) to purchase a quantity \\nof a company’s stock at a set price for a certain period of time  ']"
            ]
          },
          "metadata": {},
          "execution_count": 7
        }
      ]
    },
    {
      "cell_type": "code",
      "source": [
        "! pip install -U sentence_transformers"
      ],
      "metadata": {
        "colab": {
          "base_uri": "https://localhost:8080/"
        },
        "id": "uBjm9Uq2x-Lb",
        "outputId": "ab2a3359-cbae-49f2-b896-ba1cf8f0d25a"
      },
      "execution_count": null,
      "outputs": [
        {
          "output_type": "stream",
          "name": "stdout",
          "text": [
            "Requirement already satisfied: sentence_transformers in /usr/local/lib/python3.10/dist-packages (2.2.2)\n",
            "Requirement already satisfied: transformers<5.0.0,>=4.6.0 in /usr/local/lib/python3.10/dist-packages (from sentence_transformers) (4.31.0)\n",
            "Requirement already satisfied: tqdm in /usr/local/lib/python3.10/dist-packages (from sentence_transformers) (4.65.0)\n",
            "Requirement already satisfied: torch>=1.6.0 in /usr/local/lib/python3.10/dist-packages (from sentence_transformers) (2.0.1+cu118)\n",
            "Requirement already satisfied: torchvision in /usr/local/lib/python3.10/dist-packages (from sentence_transformers) (0.15.2+cu118)\n",
            "Requirement already satisfied: numpy in /usr/local/lib/python3.10/dist-packages (from sentence_transformers) (1.22.4)\n",
            "Requirement already satisfied: scikit-learn in /usr/local/lib/python3.10/dist-packages (from sentence_transformers) (1.2.2)\n",
            "Requirement already satisfied: scipy in /usr/local/lib/python3.10/dist-packages (from sentence_transformers) (1.10.1)\n",
            "Requirement already satisfied: nltk in /usr/local/lib/python3.10/dist-packages (from sentence_transformers) (3.8.1)\n",
            "Requirement already satisfied: sentencepiece in /usr/local/lib/python3.10/dist-packages (from sentence_transformers) (0.1.99)\n",
            "Requirement already satisfied: huggingface-hub>=0.4.0 in /usr/local/lib/python3.10/dist-packages (from sentence_transformers) (0.16.4)\n",
            "Requirement already satisfied: filelock in /usr/local/lib/python3.10/dist-packages (from huggingface-hub>=0.4.0->sentence_transformers) (3.12.2)\n",
            "Requirement already satisfied: fsspec in /usr/local/lib/python3.10/dist-packages (from huggingface-hub>=0.4.0->sentence_transformers) (2023.6.0)\n",
            "Requirement already satisfied: requests in /usr/local/lib/python3.10/dist-packages (from huggingface-hub>=0.4.0->sentence_transformers) (2.27.1)\n",
            "Requirement already satisfied: pyyaml>=5.1 in /usr/local/lib/python3.10/dist-packages (from huggingface-hub>=0.4.0->sentence_transformers) (6.0)\n",
            "Requirement already satisfied: typing-extensions>=3.7.4.3 in /usr/local/lib/python3.10/dist-packages (from huggingface-hub>=0.4.0->sentence_transformers) (4.5.0)\n",
            "Requirement already satisfied: packaging>=20.9 in /usr/local/lib/python3.10/dist-packages (from huggingface-hub>=0.4.0->sentence_transformers) (23.1)\n",
            "Requirement already satisfied: sympy in /usr/local/lib/python3.10/dist-packages (from torch>=1.6.0->sentence_transformers) (1.11.1)\n",
            "Requirement already satisfied: networkx in /usr/local/lib/python3.10/dist-packages (from torch>=1.6.0->sentence_transformers) (3.1)\n",
            "Requirement already satisfied: jinja2 in /usr/local/lib/python3.10/dist-packages (from torch>=1.6.0->sentence_transformers) (3.1.2)\n",
            "Requirement already satisfied: triton==2.0.0 in /usr/local/lib/python3.10/dist-packages (from torch>=1.6.0->sentence_transformers) (2.0.0)\n",
            "Requirement already satisfied: cmake in /usr/local/lib/python3.10/dist-packages (from triton==2.0.0->torch>=1.6.0->sentence_transformers) (3.25.2)\n",
            "Requirement already satisfied: lit in /usr/local/lib/python3.10/dist-packages (from triton==2.0.0->torch>=1.6.0->sentence_transformers) (16.0.6)\n",
            "Requirement already satisfied: regex!=2019.12.17 in /usr/local/lib/python3.10/dist-packages (from transformers<5.0.0,>=4.6.0->sentence_transformers) (2022.10.31)\n",
            "Requirement already satisfied: tokenizers!=0.11.3,<0.14,>=0.11.1 in /usr/local/lib/python3.10/dist-packages (from transformers<5.0.0,>=4.6.0->sentence_transformers) (0.13.3)\n",
            "Requirement already satisfied: safetensors>=0.3.1 in /usr/local/lib/python3.10/dist-packages (from transformers<5.0.0,>=4.6.0->sentence_transformers) (0.3.1)\n",
            "Requirement already satisfied: click in /usr/local/lib/python3.10/dist-packages (from nltk->sentence_transformers) (8.1.4)\n",
            "Requirement already satisfied: joblib in /usr/local/lib/python3.10/dist-packages (from nltk->sentence_transformers) (1.3.1)\n",
            "Requirement already satisfied: threadpoolctl>=2.0.0 in /usr/local/lib/python3.10/dist-packages (from scikit-learn->sentence_transformers) (3.1.0)\n",
            "Requirement already satisfied: pillow!=8.3.*,>=5.3.0 in /usr/local/lib/python3.10/dist-packages (from torchvision->sentence_transformers) (8.4.0)\n",
            "Requirement already satisfied: MarkupSafe>=2.0 in /usr/local/lib/python3.10/dist-packages (from jinja2->torch>=1.6.0->sentence_transformers) (2.1.3)\n",
            "Requirement already satisfied: urllib3<1.27,>=1.21.1 in /usr/local/lib/python3.10/dist-packages (from requests->huggingface-hub>=0.4.0->sentence_transformers) (1.26.16)\n",
            "Requirement already satisfied: certifi>=2017.4.17 in /usr/local/lib/python3.10/dist-packages (from requests->huggingface-hub>=0.4.0->sentence_transformers) (2023.5.7)\n",
            "Requirement already satisfied: charset-normalizer~=2.0.0 in /usr/local/lib/python3.10/dist-packages (from requests->huggingface-hub>=0.4.0->sentence_transformers) (2.0.12)\n",
            "Requirement already satisfied: idna<4,>=2.5 in /usr/local/lib/python3.10/dist-packages (from requests->huggingface-hub>=0.4.0->sentence_transformers) (3.4)\n",
            "Requirement already satisfied: mpmath>=0.19 in /usr/local/lib/python3.10/dist-packages (from sympy->torch>=1.6.0->sentence_transformers) (1.3.0)\n"
          ]
        }
      ]
    },
    {
      "cell_type": "code",
      "source": [
        "import sentence_transformers"
      ],
      "metadata": {
        "id": "opueL5H8n2Xp"
      },
      "execution_count": null,
      "outputs": []
    },
    {
      "cell_type": "code",
      "source": [
        "sentence_transformers.__version__"
      ],
      "metadata": {
        "colab": {
          "base_uri": "https://localhost:8080/",
          "height": 35
        },
        "id": "7ro9aR11n6EQ",
        "outputId": "534191db-f1fb-4680-cbae-1bb836998f2d"
      },
      "execution_count": null,
      "outputs": [
        {
          "output_type": "execute_result",
          "data": {
            "text/plain": [
              "'2.2.2'"
            ],
            "application/vnd.google.colaboratory.intrinsic+json": {
              "type": "string"
            }
          },
          "metadata": {},
          "execution_count": 48
        }
      ]
    },
    {
      "cell_type": "code",
      "source": [
        "from langchain.embeddings import HuggingFaceEmbeddings\n",
        "embeddings = HuggingFaceEmbeddings()\n",
        "doc_result = embeddings.embed_documents([page_content[1]])"
      ],
      "metadata": {
        "colab": {
          "base_uri": "https://localhost:8080/",
          "height": 465,
          "referenced_widgets": [
            "e6c6966a74af43519206c2b374ded916",
            "10a78f45b6d14a27893e635f0fa13a38",
            "8406425be1674f888e533694c1760e60",
            "6f0191a1c7384a3ba06e2130998cf12f",
            "8fc4f9601b4f4e46b0815cd58f05dd42",
            "70547caa052148ff97847702f95098fd",
            "cf917edaacfa4d5ca514dd0e0aedb162",
            "cf68901ac8134b8f8fe581a8f8d9455d",
            "89fec76ea2c14c8f8c145e0b07c3e61b",
            "a34573d3848a4b29abd2a86550384ca2",
            "5598514b6f5941eca54b253b5c070e25",
            "3c704dd08d2449f6b995c3d8971f9475",
            "845516f07796419b88eda99ecc66441b",
            "9ed0766e451c4eb0863412562e445028",
            "771764adb633445287f4275552e35289",
            "d8de2f61c79d49a88327edd0764c5adc",
            "64f048fb2312479b90529aada6f50793",
            "6b110f6f175e47d49fc94b7de5c3a2c9",
            "96ce2cf731f8433588b37077190a7ef1",
            "e27f47b9701b4d1eaffb582f05c9aedf",
            "d4066e81c3804a829dd87f46958bf414",
            "118f472d59c848efaae3095f8742cb74",
            "576fc99257de470383312dc0724f8745",
            "7acdad1310624115bb0281458715ef37",
            "aea96ba02cc74c37925411306f419729",
            "b79e742c1b9048759024e310bed668b6",
            "3857fb24fc6c4f7f89c16d00571e0ac4",
            "35bcb7ad1c49469bbd4f283a2242aaf5",
            "f1289fbceccc47c08b377444fb33238c",
            "1b41c60800184b10a30d9e72589944fa",
            "0e6777fc535647688fff0b9fd2c22eaf",
            "4d911d39e9ce44e984d0a2c17a1db8cf",
            "ec7978a6d7f8459ba16742ff611bf59d",
            "fa868545bdcc45a8823c3065286cf48e",
            "04d12a4243d84188b4606a1e11505007",
            "35b0b8955c3e47cc94048a73a9e32948",
            "8d381b2665914c308f7004436c71221b",
            "921b5e9ed3f8459bbc2850a2569ca476",
            "e4e74c652f6b4721b5eae498e6953558",
            "30fef949f0994d83a1a30782d708f76e",
            "0009bd37d0a0482587880c2af42bf7a6",
            "bbfc03c503234ddb91e481876be562a4",
            "156b6efd0d9d480d95ebc50e3b53a4c2",
            "c9d95d56595a4973989f1bbbc8e64dfc",
            "8e9b767622db45c481043645b0b87ab0",
            "b65779a8fea643ac88e58394abc77772",
            "dd54ec438254436fa716632228260d55",
            "a47c5d354a1342de90169b629abeb976",
            "fd886fc4e8ce455dac8ce09a86b29490",
            "3571779795fc4e3a8b44c9854421f53d",
            "b4af0db0f06644cda72112402fa6b51e",
            "d7edb7e3806340b88b937dd159e52326",
            "e5666d23ad58447dadd1b89f43d9e033",
            "bc48ab50871e4f9dbf27ce0d5917dd9a",
            "42bf11c45ec5471bb3a844145eecaf26",
            "917bc70a015542d5bfe6e4bdd12fbc4f",
            "cbeb10dec3404d5eb61a485c37cee5ba",
            "3731b4ee2f7d43628a6223f6b8178fa1",
            "69cc6ec3950440b3909e2306651c3eb4",
            "daa97c3b18494e8fb78762630e602dde",
            "6397a34c6bfd400984f06e9909bb6cad",
            "14b64dacefd64b1f8e1a5b51e7b05166",
            "258e7aa9ee8047669b4c9734972d6f19",
            "5a4479b5bee54cb8b1f1353b693c8f75",
            "06d0185a6f7040ecaec722d910bcd1e0",
            "1a2ef4654ec7470d9b06b03daf3aa3f1",
            "53c18af4d8af4fc09473aad21c8292fb",
            "a8fdfe7936a24a868da49d482016b3e0",
            "aa14ad73efa9403cb9593c3a84d63ae3",
            "e67fa3837b674806a11639f2f5eb6572",
            "9a3c533727a346d09842b3305b4f365f",
            "a2b7db87094347c997fab2ef51880616",
            "de8789cc2409441483e0592c078b2867",
            "60bd3893f28c44ebad336226e89da46a",
            "ae66b285b8db4a1a893f81b14d10c611",
            "db1e577c9cf94355a5572a94d53f516e",
            "8cdfd33f187d452d8558e4e25d19cc39",
            "214d7c71753044a188162dd1a9e319e8",
            "2783fb3197dc4dd8b6b23b101ee1d568",
            "a917a5815f984a87aa8a67a91ab09530",
            "ce53611837a94981b0e81dfe8ec5ff4f",
            "156d6f23cf90440d8e4bc05d31e4ecd6",
            "b25d349914134298a8cfa20f1af676d2",
            "6187c472cee34b18989693aec7ddf8c6",
            "502916ef405a477f9c4d4a24e77f83e0",
            "e068e1ccf13d4274ac1369615117204b",
            "4791c91123e846d3a09e805f8ee5f28f",
            "b4ba91b59f4d460388ebfb9c171150db",
            "0877f79862554998af7c2af92143d2d6",
            "0371ab3f31c741bab270e8feeb650815",
            "8cdd37025dc946f6ab250b66f0003578",
            "1c7250cb3a5e4912a4ef26361650bad1",
            "cf81fc93dfa94d928ad34823817b9aa6",
            "fcfe6df9ac1c44de91946f3a16ddd1fd",
            "485875cee5134953b240bfd5d34adfb6",
            "80a34ca7b9a3446c89a25c8c141fa0d8",
            "92d79c367503436b82ac155b5967585e",
            "5d60e0928d2c46638e995928290321c8",
            "bbeffa2fd4ed4c1d998fb784aba92770",
            "cc1c96491c764a21bbb91e98c1a23411",
            "418a8f7126a6442e9eeb9990096e0d9c",
            "7d51a3b6bac3466f9d798f3add2da8cf",
            "113898e30ab145df85753e6e127d8ae4",
            "7da08456df9e4b218d00c424444ff767",
            "841106efca47410d8beffff5cec07dd6",
            "162551a6844c48fb80d6e2082405b14c",
            "5c8ed9742b9647b69589e7ed593f2cfb",
            "f22030a191494cde935aa127bc9fde23",
            "34a1f696427e498fa8a2954d531fb707",
            "a34095a32e1045d7a8848f89579e484b",
            "1073323075b44151bc347d83db41d0f5",
            "26d01e5397884f63908e3a82a0c5a933",
            "bb3b5c0941884d82ab2daa5d5671ea22",
            "1143311e01a247648aa412fe687ab02a",
            "55eb783842544b94a930227d522a1909",
            "e020479b20314f8081c7a7a7d203aefa",
            "fbf0008c9da948bba2132971f0ab7840",
            "8f422db613c3430ca99d6d2232b83267",
            "662c62d47f59429bbd20771a4bcbd8cd",
            "01b790a6a87547bea7031fef28bd004a",
            "98c07aba477043488fbb2d30bb6574ba",
            "162be9a7a194440284b5b4545e960964",
            "8696d86e3ac24454bfaca718835571b9",
            "84f3cd35b8da48a4b6fc97bcde864054",
            "e9583bdec2524dfe8d5f88973392e957",
            "0c62dd2218da46ce9f5dc9669290b6ca",
            "56fd8eea598047fa95a812587fd06e8c",
            "d29026981a2743129ddf5411ae54941b",
            "bfe03b901a5443ada0db6fe475cf0601",
            "36abf80b3e804e02b45cb952f4091674",
            "3ef26e1a03b4437a944a82ea81736d6c",
            "17ae886ef5ae4b8fbdd53598fefc6dea",
            "5470c9791d7f464395b8d2c95a324474",
            "bd5c8e9aa7694870965d4e8b9ca23810",
            "b0dc3896c7ea4b5bb2bc737a0bd26534",
            "e8989d7e16f148c8b3189825f49a3bbb",
            "b0259f16ea96471c807c32ad80f52e48",
            "e7f78dd0d71a4279ba8b92b5be985d55",
            "392838f2bd824905be26729caa2579db",
            "3bd2f9a77209420db64b24af91c2f365",
            "94bb5847886d4073b087398faa9f6c7e",
            "3de23cc793ad4e92b525c30fb6429aad",
            "919ad0d7275f4acbabbebe36c07f9bef",
            "48151b227b0d40b882876003ac0f87b9",
            "e58fb9c05ef94c7480573ba74da9a678",
            "a92175a8e41a43528efc84725cfeef01",
            "590d314dd1e34d9a82c328ead9857640",
            "66d1a9a6b24c47e48c9627365729d059",
            "17d68d5a91f94dd5a47b14885f92ea64",
            "b6670b9bd3234e3d885da04e754235b6",
            "e26dd29ebe644ad6a21bed0b46b813b6",
            "4f0a65d6624843e9bbaed738d1882a5f",
            "ae2f43fa45db496f962c683c7b54b6ae",
            "b7f3d63ff36b494c80c54a562dc9d3a0"
          ]
        },
        "id": "ODnyjCN4ztFL",
        "outputId": "588cbf0d-75ca-4372-cf06-04ac4b9d6bd8"
      },
      "execution_count": null,
      "outputs": [
        {
          "output_type": "display_data",
          "data": {
            "text/plain": [
              "Downloading (…)a8e1d/.gitattributes:   0%|          | 0.00/1.18k [00:00<?, ?B/s]"
            ],
            "application/vnd.jupyter.widget-view+json": {
              "version_major": 2,
              "version_minor": 0,
              "model_id": "e6c6966a74af43519206c2b374ded916"
            }
          },
          "metadata": {}
        },
        {
          "output_type": "display_data",
          "data": {
            "text/plain": [
              "Downloading (…)_Pooling/config.json:   0%|          | 0.00/190 [00:00<?, ?B/s]"
            ],
            "application/vnd.jupyter.widget-view+json": {
              "version_major": 2,
              "version_minor": 0,
              "model_id": "3c704dd08d2449f6b995c3d8971f9475"
            }
          },
          "metadata": {}
        },
        {
          "output_type": "display_data",
          "data": {
            "text/plain": [
              "Downloading (…)b20bca8e1d/README.md:   0%|          | 0.00/10.6k [00:00<?, ?B/s]"
            ],
            "application/vnd.jupyter.widget-view+json": {
              "version_major": 2,
              "version_minor": 0,
              "model_id": "576fc99257de470383312dc0724f8745"
            }
          },
          "metadata": {}
        },
        {
          "output_type": "display_data",
          "data": {
            "text/plain": [
              "Downloading (…)0bca8e1d/config.json:   0%|          | 0.00/571 [00:00<?, ?B/s]"
            ],
            "application/vnd.jupyter.widget-view+json": {
              "version_major": 2,
              "version_minor": 0,
              "model_id": "fa868545bdcc45a8823c3065286cf48e"
            }
          },
          "metadata": {}
        },
        {
          "output_type": "display_data",
          "data": {
            "text/plain": [
              "Downloading (…)ce_transformers.json:   0%|          | 0.00/116 [00:00<?, ?B/s]"
            ],
            "application/vnd.jupyter.widget-view+json": {
              "version_major": 2,
              "version_minor": 0,
              "model_id": "8e9b767622db45c481043645b0b87ab0"
            }
          },
          "metadata": {}
        },
        {
          "output_type": "display_data",
          "data": {
            "text/plain": [
              "Downloading (…)e1d/data_config.json:   0%|          | 0.00/39.3k [00:00<?, ?B/s]"
            ],
            "application/vnd.jupyter.widget-view+json": {
              "version_major": 2,
              "version_minor": 0,
              "model_id": "917bc70a015542d5bfe6e4bdd12fbc4f"
            }
          },
          "metadata": {}
        },
        {
          "output_type": "display_data",
          "data": {
            "text/plain": [
              "Downloading pytorch_model.bin:   0%|          | 0.00/438M [00:00<?, ?B/s]"
            ],
            "application/vnd.jupyter.widget-view+json": {
              "version_major": 2,
              "version_minor": 0,
              "model_id": "53c18af4d8af4fc09473aad21c8292fb"
            }
          },
          "metadata": {}
        },
        {
          "output_type": "display_data",
          "data": {
            "text/plain": [
              "Downloading (…)nce_bert_config.json:   0%|          | 0.00/53.0 [00:00<?, ?B/s]"
            ],
            "application/vnd.jupyter.widget-view+json": {
              "version_major": 2,
              "version_minor": 0,
              "model_id": "214d7c71753044a188162dd1a9e319e8"
            }
          },
          "metadata": {}
        },
        {
          "output_type": "display_data",
          "data": {
            "text/plain": [
              "Downloading (…)cial_tokens_map.json:   0%|          | 0.00/239 [00:00<?, ?B/s]"
            ],
            "application/vnd.jupyter.widget-view+json": {
              "version_major": 2,
              "version_minor": 0,
              "model_id": "0877f79862554998af7c2af92143d2d6"
            }
          },
          "metadata": {}
        },
        {
          "output_type": "display_data",
          "data": {
            "text/plain": [
              "Downloading (…)a8e1d/tokenizer.json:   0%|          | 0.00/466k [00:00<?, ?B/s]"
            ],
            "application/vnd.jupyter.widget-view+json": {
              "version_major": 2,
              "version_minor": 0,
              "model_id": "cc1c96491c764a21bbb91e98c1a23411"
            }
          },
          "metadata": {}
        },
        {
          "output_type": "display_data",
          "data": {
            "text/plain": [
              "Downloading (…)okenizer_config.json:   0%|          | 0.00/363 [00:00<?, ?B/s]"
            ],
            "application/vnd.jupyter.widget-view+json": {
              "version_major": 2,
              "version_minor": 0,
              "model_id": "1073323075b44151bc347d83db41d0f5"
            }
          },
          "metadata": {}
        },
        {
          "output_type": "display_data",
          "data": {
            "text/plain": [
              "Downloading (…)8e1d/train_script.py:   0%|          | 0.00/13.1k [00:00<?, ?B/s]"
            ],
            "application/vnd.jupyter.widget-view+json": {
              "version_major": 2,
              "version_minor": 0,
              "model_id": "162be9a7a194440284b5b4545e960964"
            }
          },
          "metadata": {}
        },
        {
          "output_type": "display_data",
          "data": {
            "text/plain": [
              "Downloading (…)b20bca8e1d/vocab.txt:   0%|          | 0.00/232k [00:00<?, ?B/s]"
            ],
            "application/vnd.jupyter.widget-view+json": {
              "version_major": 2,
              "version_minor": 0,
              "model_id": "5470c9791d7f464395b8d2c95a324474"
            }
          },
          "metadata": {}
        },
        {
          "output_type": "display_data",
          "data": {
            "text/plain": [
              "Downloading (…)bca8e1d/modules.json:   0%|          | 0.00/349 [00:00<?, ?B/s]"
            ],
            "application/vnd.jupyter.widget-view+json": {
              "version_major": 2,
              "version_minor": 0,
              "model_id": "48151b227b0d40b882876003ac0f87b9"
            }
          },
          "metadata": {}
        }
      ]
    },
    {
      "cell_type": "code",
      "source": [
        "embeddings"
      ],
      "metadata": {
        "colab": {
          "base_uri": "https://localhost:8080/"
        },
        "id": "_GcQtwMrBiYY",
        "outputId": "e52e57dd-4e3e-4b93-9c57-732763988424"
      },
      "execution_count": null,
      "outputs": [
        {
          "output_type": "execute_result",
          "data": {
            "text/plain": [
              "HuggingFaceEmbeddings(client=SentenceTransformer(\n",
              "  (0): Transformer({'max_seq_length': 384, 'do_lower_case': False}) with Transformer model: MPNetModel \n",
              "  (1): Pooling({'word_embedding_dimension': 768, 'pooling_mode_cls_token': False, 'pooling_mode_mean_tokens': True, 'pooling_mode_max_tokens': False, 'pooling_mode_mean_sqrt_len_tokens': False})\n",
              "  (2): Normalize()\n",
              "), model_name='sentence-transformers/all-mpnet-base-v2', cache_folder=None, model_kwargs={}, encode_kwargs={})"
            ]
          },
          "metadata": {},
          "execution_count": 9
        }
      ]
    },
    {
      "cell_type": "code",
      "source": [
        "doc_result = embeddings.embed_documents(page_content)"
      ],
      "metadata": {
        "id": "I6Uh04P91Xhi"
      },
      "execution_count": null,
      "outputs": []
    },
    {
      "cell_type": "code",
      "source": [
        "len(doc_result)"
      ],
      "metadata": {
        "colab": {
          "base_uri": "https://localhost:8080/"
        },
        "id": "8Uo0gssl1cMB",
        "outputId": "e3767ea9-6ea2-4670-aead-3656e90339b9"
      },
      "execution_count": null,
      "outputs": [
        {
          "output_type": "execute_result",
          "data": {
            "text/plain": [
              "44"
            ]
          },
          "metadata": {},
          "execution_count": 18
        }
      ]
    },
    {
      "cell_type": "code",
      "source": [
        "len(doc_result[0]),len(doc_result[1])"
      ],
      "metadata": {
        "colab": {
          "base_uri": "https://localhost:8080/"
        },
        "id": "MxTFuD9_1-GR",
        "outputId": "a2ecdd94-754e-497c-9253-a0f42fb85ff9"
      },
      "execution_count": null,
      "outputs": [
        {
          "output_type": "execute_result",
          "data": {
            "text/plain": [
              "(768, 768)"
            ]
          },
          "metadata": {},
          "execution_count": 19
        }
      ]
    },
    {
      "cell_type": "code",
      "source": [
        "import openai\n",
        "from getpass import getpass\n",
        "import os\n",
        "os.environ[\"OPENAI_API_KEY\"] =getpass()"
      ],
      "metadata": {
        "colab": {
          "base_uri": "https://localhost:8080/"
        },
        "id": "QviiR4Kx2B6J",
        "outputId": "d281614d-b372-45d7-a5c0-a284d6feb231"
      },
      "execution_count": null,
      "outputs": [
        {
          "name": "stdout",
          "output_type": "stream",
          "text": [
            "··········\n"
          ]
        }
      ]
    },
    {
      "cell_type": "markdown",
      "source": [
        "## VectorDatabase"
      ],
      "metadata": {
        "id": "5jeWBgTZ9GtB"
      }
    },
    {
      "cell_type": "code",
      "source": [
        "index_name = 'langchain-retrieval-augmentation'"
      ],
      "metadata": {
        "id": "ZPRmPZY28WSk"
      },
      "execution_count": null,
      "outputs": []
    },
    {
      "cell_type": "code",
      "source": [
        "os.environ[\"PINECONE_API_KEY\"] = getpass()"
      ],
      "metadata": {
        "colab": {
          "base_uri": "https://localhost:8080/"
        },
        "id": "-lLnWC6R_dge",
        "outputId": "a9e45a7a-2af9-41d4-95bd-5cc2f3dea1ea"
      },
      "execution_count": null,
      "outputs": [
        {
          "name": "stdout",
          "output_type": "stream",
          "text": [
            "··········\n"
          ]
        }
      ]
    },
    {
      "cell_type": "code",
      "source": [
        "os.environ[\"PINECONE_ENVIRONMENT\"] = \"us-west1-gcp\""
      ],
      "metadata": {
        "id": "Ey5-21np_wpV"
      },
      "execution_count": null,
      "outputs": []
    },
    {
      "cell_type": "code",
      "source": [
        "import pinecone\n",
        "\n",
        "# find API key in console at app.pinecone.io\n",
        "PINECONE_API_KEY = os.getenv('PINECONE_API_KEY')\n",
        "# find ENV (cloud region) next to API key in console\n",
        "PINECONE_ENVIRONMENT = os.getenv('PINECONE_ENVIRONMENT')\n",
        "\n",
        "pinecone.init(\n",
        "    api_key=PINECONE_API_KEY ,\n",
        "    environment=PINECONE_ENVIRONMENT,\n",
        ")\n",
        "\n",
        "if index_name not in pinecone.list_indexes():\n",
        "    # we create a new index\n",
        "    pinecone.create_index(\n",
        "        name=index_name,\n",
        "        metric='cosine',\n",
        "        dimension=len(doc_result[0])  # 768\n",
        "    )"
      ],
      "metadata": {
        "id": "anJjDLGu_YRj"
      },
      "execution_count": null,
      "outputs": []
    },
    {
      "cell_type": "markdown",
      "source": [
        "## Connect to Index"
      ],
      "metadata": {
        "id": "o6kL7jyzBMcn"
      }
    },
    {
      "cell_type": "code",
      "source": [
        "index = pinecone.Index(index_name)\n",
        "\n",
        "index.describe_index_stats()"
      ],
      "metadata": {
        "colab": {
          "base_uri": "https://localhost:8080/"
        },
        "id": "urgImHKFBOiT",
        "outputId": "14550670-e4e8-4c5c-d175-c255f1ac891c"
      },
      "execution_count": null,
      "outputs": [
        {
          "output_type": "execute_result",
          "data": {
            "text/plain": [
              "{'dimension': 768,\n",
              " 'index_fullness': 0.0,\n",
              " 'namespaces': {},\n",
              " 'total_vector_count': 0}"
            ]
          },
          "metadata": {},
          "execution_count": 35
        }
      ]
    },
    {
      "cell_type": "code",
      "source": [
        "page_num[0]"
      ],
      "metadata": {
        "colab": {
          "base_uri": "https://localhost:8080/",
          "height": 35
        },
        "id": "aLuJ7mGMDTh1",
        "outputId": "148d2f06-efac-4872-f4b0-ed15627af051"
      },
      "execution_count": null,
      "outputs": [
        {
          "output_type": "execute_result",
          "data": {
            "text/plain": [
              "'Page1'"
            ],
            "application/vnd.google.colaboratory.intrinsic+json": {
              "type": "string"
            }
          },
          "metadata": {},
          "execution_count": 37
        }
      ]
    },
    {
      "cell_type": "code",
      "source": [
        "import tiktoken\n",
        "\n",
        "tokenizer = tiktoken.get_encoding('cl100k_base')\n",
        "\n",
        "# create the length function\n",
        "def tiktoken_len(text):\n",
        "    tokens = tokenizer.encode(\n",
        "        text,\n",
        "        disallowed_special=()\n",
        "    )\n",
        "    return len(tokens)\n",
        "\n",
        "tiktoken_len(page_content[1])"
      ],
      "metadata": {
        "colab": {
          "base_uri": "https://localhost:8080/"
        },
        "id": "d4lvA4qaFchr",
        "outputId": "7fb6959d-a6d6-41b9-ddd6-ac448f003138"
      },
      "execution_count": null,
      "outputs": [
        {
          "output_type": "execute_result",
          "data": {
            "text/plain": [
              "310"
            ]
          },
          "metadata": {},
          "execution_count": 39
        }
      ]
    },
    {
      "cell_type": "code",
      "source": [],
      "metadata": {
        "id": "5pzkqiyWJ1_w"
      },
      "execution_count": null,
      "outputs": []
    },
    {
      "cell_type": "markdown",
      "source": [
        "## Populate the vector database with huggingface embedings"
      ],
      "metadata": {
        "id": "t025_oB1BZCS"
      }
    },
    {
      "cell_type": "markdown",
      "source": [
        "* We can perform the indexing task using the LangChain vector store object. But for now it is much faster to do it via the Pinecone python client directly. We will do this in batches of 10"
      ],
      "metadata": {
        "id": "A6CmQzAICEaA"
      }
    },
    {
      "cell_type": "code",
      "source": [
        "from tqdm.auto import tqdm\n",
        "from uuid import uuid4\n",
        "from langchain.text_splitter import RecursiveCharacterTextSplitter\n",
        "batch_limit = 100\n",
        "\n",
        "texts = []\n",
        "metadatas = []\n",
        "#\n",
        "text_splitter = RecursiveCharacterTextSplitter(\n",
        "    chunk_size=1000,\n",
        "    chunk_overlap=200,\n",
        "    length_function=tiktoken_len,\n",
        "    separators=[\"\\n\\n\", \"\\n\", \" \", \"\"]\n",
        ")\n",
        "\n",
        "for p,record in tqdm(zip(page_num,page_content)):\n",
        "    # first get metadata fields for this record\n",
        "    metadata = {'page number': p}\n",
        "    # now we create chunks from the record text\n",
        "    record_texts = text_splitter.split_text(record)\n",
        "    # create individual metadata dicts for each chunk\n",
        "    record_metadatas = [{\n",
        "        \"chunk\": j, \"text\": text, **metadata\n",
        "    } for j, text in enumerate(record_texts)]\n",
        "    # append these to current batches\n",
        "    texts.extend(record_texts)\n",
        "    metadatas.extend(record_metadatas)\n",
        "    # if we have reached the batch_limit we can add texts\n",
        "    if len(texts) >= batch_limit:\n",
        "        ids = [str(uuid4()) for _ in range(len(texts))]\n",
        "        embeds = embeddings.embed_documents(texts)\n",
        "        index.upsert(vectors=zip(ids, embeds, metadatas))\n",
        "        texts = []\n",
        "        metadatas = []\n",
        "\n",
        "if len(texts) > 0:\n",
        "    ids = [str(uuid4()) for _ in range(len(texts))]\n",
        "    embeds = embeddings.embed_documents(texts)\n",
        "    index.upsert(vectors=zip(ids, embeds, metadatas))"
      ],
      "metadata": {
        "colab": {
          "base_uri": "https://localhost:8080/",
          "height": 49,
          "referenced_widgets": [
            "c8d5671cbc79412d889563d9446f98f7",
            "99d23f42e3704e1e9a3cbc45675b0720",
            "cf0c8624c6434071a7fad3fde8d90753",
            "c7d32c75a709401c9bdaf2eac684e765",
            "ca07682ad00847e4a62cd62e9961ca30",
            "948c7c97e5b94ecfb670071754c80684",
            "2a0f710cc38f4b3992d4f5332b26f0a4",
            "38e0386191a842289970f4021e34a876",
            "145a8be66e7c44c689ee5da45708cfc1",
            "bad4c152336d4a3b8db36e9fdd278fd7",
            "0ec29462462545e8a6484634484f7fb0"
          ]
        },
        "id": "1oSviqNqB81V",
        "outputId": "14ccccc1-1c27-40e0-c2a8-c9fcda361c9d"
      },
      "execution_count": null,
      "outputs": [
        {
          "output_type": "display_data",
          "data": {
            "text/plain": [
              "0it [00:00, ?it/s]"
            ],
            "application/vnd.jupyter.widget-view+json": {
              "version_major": 2,
              "version_minor": 0,
              "model_id": "c8d5671cbc79412d889563d9446f98f7"
            }
          },
          "metadata": {}
        }
      ]
    },
    {
      "cell_type": "code",
      "source": [
        "index.describe_index_stats()"
      ],
      "metadata": {
        "colab": {
          "base_uri": "https://localhost:8080/"
        },
        "id": "Se4Twz_sJ5h5",
        "outputId": "d6e5d046-3368-44c0-92c2-8a07b8cc7ecf"
      },
      "execution_count": null,
      "outputs": [
        {
          "output_type": "execute_result",
          "data": {
            "text/plain": [
              "{'dimension': 768,\n",
              " 'index_fullness': 0.0,\n",
              " 'namespaces': {'': {'vector_count': 44}},\n",
              " 'total_vector_count': 44}"
            ]
          },
          "metadata": {},
          "execution_count": 46
        }
      ]
    },
    {
      "cell_type": "code",
      "source": [
        "query = \"What is an ESOP?\"\n",
        "xq = embeddings.embed_documents([query])\n",
        "response = index.query(xq,top_k=1, include_metadata=True)\n",
        "print(response['matches'][0]['metadata']['page number'])\n",
        "print(response['matches'][0]['metadata']['text'])"
      ],
      "metadata": {
        "colab": {
          "base_uri": "https://localhost:8080/"
        },
        "id": "biYSIusTRDaY",
        "outputId": "abc03e41-1254-45aa-afb1-34f2c75814cc"
      },
      "execution_count": null,
      "outputs": [
        {
          "output_type": "stream",
          "name": "stdout",
          "text": [
            "Page4\n",
            "What is an ESOP?  \n",
            "•An Employee Stock Options Plan (ESOP)  \n",
            " \n",
            "•An allocation  of shares that will be granted to employees in the future \n",
            "in the form of stock options  \n",
            "–How much equity should we set aside for employees?  \n",
            " \n",
            "•A plan for how these options will be distributed:  \n",
            "–How many shares will individual employees receive?  \n",
            "–What terms will govern these grants?  \n",
            " \n",
            "•The plan is as important as the allocation!\n"
          ]
        }
      ]
    },
    {
      "cell_type": "code",
      "source": [
        "print(response['matches'][1]['metadata']['page number'])\n",
        "print(response['matches'][1]['metadata']['text'])"
      ],
      "metadata": {
        "colab": {
          "base_uri": "https://localhost:8080/"
        },
        "id": "341gEVY1UPLO",
        "outputId": "afdb83a6-47dd-482c-cd83-0a4382964aa5"
      },
      "execution_count": null,
      "outputs": [
        {
          "output_type": "stream",
          "name": "stdout",
          "text": [
            "Page14\n",
            "Two Approaches  \n",
            "In reality, creating an ESOP will require a combination of \n",
            "top-down and bottom -up planning  Top Down  Bottom Up  \n",
            "Decide the total amount of \n",
            "equity to be granted; allocate \n",
            "these shares to employees \n",
            "over time  Decide the appropriate size of \n",
            "individual equity grants by \n",
            "position; issue these shares as \n",
            "employees are hired\n"
          ]
        }
      ]
    },
    {
      "cell_type": "code",
      "source": [
        "print(response['matches'][2]['metadata']['page number'])\n",
        "print(response['matches'][2]['metadata']['text'])"
      ],
      "metadata": {
        "colab": {
          "base_uri": "https://localhost:8080/"
        },
        "id": "e0wT-z8fUT0m",
        "outputId": "3fc3543b-f075-469a-f259-d3ecd5e0c87a"
      },
      "execution_count": null,
      "outputs": [
        {
          "output_type": "stream",
          "name": "stdout",
          "text": [
            "Page35\n",
            "ESOPS FOR THE LONG TERM  Part IV\n"
          ]
        }
      ]
    },
    {
      "cell_type": "code",
      "source": [
        "response"
      ],
      "metadata": {
        "colab": {
          "base_uri": "https://localhost:8080/"
        },
        "id": "E8ZdgmCgUERe",
        "outputId": "62785a63-914e-4d26-e34f-5a446fef3977"
      },
      "execution_count": null,
      "outputs": [
        {
          "output_type": "execute_result",
          "data": {
            "text/plain": [
              "{'matches': [{'id': '2486fbd3-1ab1-4d00-8be9-6c71679c46cc',\n",
              "              'metadata': {'chunk': 0.0,\n",
              "                           'page number': 'Page4',\n",
              "                           'text': 'What is an ESOP?  \\n'\n",
              "                                   '•An Employee Stock Options Plan (ESOP)  \\n'\n",
              "                                   ' \\n'\n",
              "                                   '•An allocation  of shares that will be '\n",
              "                                   'granted to employees in the future \\n'\n",
              "                                   'in the form of stock options  \\n'\n",
              "                                   '–How much equity should we set aside for '\n",
              "                                   'employees?  \\n'\n",
              "                                   ' \\n'\n",
              "                                   '•A plan for how these options will be '\n",
              "                                   'distributed:  \\n'\n",
              "                                   '–How many shares will individual employees '\n",
              "                                   'receive?  \\n'\n",
              "                                   '–What terms will govern these grants?  \\n'\n",
              "                                   ' \\n'\n",
              "                                   '•The plan is as important as the '\n",
              "                                   'allocation!'},\n",
              "              'score': 0.771634936,\n",
              "              'values': []},\n",
              "             {'id': '8858c9e6-91fc-49e3-9f06-caef677ee3ab',\n",
              "              'metadata': {'chunk': 0.0,\n",
              "                           'page number': 'Page14',\n",
              "                           'text': 'Two Approaches  \\n'\n",
              "                                   'In reality, creating an ESOP will require '\n",
              "                                   'a combination of \\n'\n",
              "                                   'top-down and bottom -up planning  Top '\n",
              "                                   'Down  Bottom Up  \\n'\n",
              "                                   'Decide the total amount of \\n'\n",
              "                                   'equity to be granted; allocate \\n'\n",
              "                                   'these shares to employees \\n'\n",
              "                                   'over time  Decide the appropriate size '\n",
              "                                   'of \\n'\n",
              "                                   'individual equity grants by \\n'\n",
              "                                   'position; issue these shares as \\n'\n",
              "                                   'employees are hired'},\n",
              "              'score': 0.60951817,\n",
              "              'values': []},\n",
              "             {'id': '072bac2a-dd76-4bed-82a6-a37297685164',\n",
              "              'metadata': {'chunk': 0.0,\n",
              "                           'page number': 'Page35',\n",
              "                           'text': 'ESOPS FOR THE LONG TERM  Part IV'},\n",
              "              'score': 0.588353693,\n",
              "              'values': []}],\n",
              " 'namespace': ''}"
            ]
          },
          "metadata": {},
          "execution_count": 58
        }
      ]
    },
    {
      "cell_type": "markdown",
      "source": [
        "## Generative Question-Answering\n",
        "In GQA we take the query as a question that is to be answered by a LLM, but the LLM must answer the question based on the information it is seeing being returned from the vectorstore.\n",
        "\n",
        "To do this we initialize a RetrievalQA object like so:"
      ],
      "metadata": {
        "id": "ZrGXF5lmSR1T"
      }
    },
    {
      "cell_type": "code",
      "source": [
        "from langchain.chat_models import ChatOpenAI\n",
        "from langchain.chains import RetrievalQA\n",
        "from langchain.chains import RetrievalQAWithSourcesChain"
      ],
      "metadata": {
        "id": "_bKmehT3RxRE"
      },
      "execution_count": 68,
      "outputs": []
    },
    {
      "cell_type": "code",
      "source": [
        "# completion llm\n",
        "llm = ChatOpenAI(\n",
        "    openai_api_key=os.environ[\"OPENAI_API_KEY\"],\n",
        "    model_name='gpt-3.5-turbo',\n",
        "    temperature=0.0\n",
        ")"
      ],
      "metadata": {
        "id": "7aInOzzRSeNu"
      },
      "execution_count": null,
      "outputs": []
    },
    {
      "cell_type": "code",
      "source": [
        "from langchain.vectorstores import Pinecone\n",
        "\n",
        "text_field = \"text\"\n",
        "\n",
        "# switch back to normal index for langchain\n",
        "index = pinecone.Index(index_name)\n",
        "\n",
        "vectorstore = Pinecone(\n",
        "    index, embeddings.embed_query, text_field\n",
        ")"
      ],
      "metadata": {
        "id": "HHNRSJLBS3cf"
      },
      "execution_count": null,
      "outputs": []
    },
    {
      "cell_type": "code",
      "source": [
        "qa = RetrievalQA.from_chain_type(\n",
        "    llm=llm,\n",
        "    chain_type=\"stuff\",\n",
        "    retriever=vectorstore.as_retriever(),\n",
        ")"
      ],
      "metadata": {
        "id": "UGdO6kDTUj0e"
      },
      "execution_count": null,
      "outputs": []
    },
    {
      "cell_type": "code",
      "source": [
        "qa(query)"
      ],
      "metadata": {
        "colab": {
          "base_uri": "https://localhost:8080/"
        },
        "id": "IHFpLXmeUmfP",
        "outputId": "6c8259c4-964c-44d6-eac9-1fec96631244"
      },
      "execution_count": null,
      "outputs": [
        {
          "output_type": "execute_result",
          "data": {
            "text/plain": [
              "{'query': 'What is an ESOP?',\n",
              " 'result': 'An ESOP, or Employee Stock Options Plan, is a program that allows employees to receive shares of company stock in the form of stock options. It involves allocating a certain amount of equity to be granted to employees in the future. The plan also includes determining how many shares each employee will receive and the terms that will govern these grants. It is important to seek legal advice from an experienced startup lawyer when structuring an ESOP.'}"
            ]
          },
          "metadata": {},
          "execution_count": 64
        }
      ]
    },
    {
      "cell_type": "code",
      "source": [
        "qa_with_sources = RetrievalQAWithSourcesChain.from_chain_type(\n",
        "    llm=llm,\n",
        "    chain_type=\"stuff\",\n",
        "    retriever=vectorstore.as_retriever()\n",
        ")"
      ],
      "metadata": {
        "id": "Ztm7cUfkSoOW"
      },
      "execution_count": null,
      "outputs": []
    },
    {
      "cell_type": "code",
      "source": [
        "qa_with_sources(query)"
      ],
      "metadata": {
        "colab": {
          "base_uri": "https://localhost:8080/",
          "height": 328
        },
        "id": "hej_QkMDTF91",
        "outputId": "b33cc0e3-955c-45dc-9c53-c3c64e7a0abc"
      },
      "execution_count": null,
      "outputs": [
        {
          "output_type": "error",
          "ename": "ValueError",
          "evalue": "ignored",
          "traceback": [
            "\u001b[0;31m---------------------------------------------------------------------------\u001b[0m",
            "\u001b[0;31mValueError\u001b[0m                                Traceback (most recent call last)",
            "\u001b[0;32m<ipython-input-56-71ada0a3b81d>\u001b[0m in \u001b[0;36m<cell line: 1>\u001b[0;34m()\u001b[0m\n\u001b[0;32m----> 1\u001b[0;31m \u001b[0mqa_with_sources\u001b[0m\u001b[0;34m(\u001b[0m\u001b[0mquery\u001b[0m\u001b[0;34m)\u001b[0m\u001b[0;34m\u001b[0m\u001b[0;34m\u001b[0m\u001b[0m\n\u001b[0m",
            "\u001b[0;32m/usr/local/lib/python3.10/dist-packages/langchain/chains/base.py\u001b[0m in \u001b[0;36m__call__\u001b[0;34m(self, inputs, return_only_outputs, callbacks, tags, metadata, include_run_info)\u001b[0m\n\u001b[1;32m    241\u001b[0m         \u001b[0;32mexcept\u001b[0m \u001b[0;34m(\u001b[0m\u001b[0mKeyboardInterrupt\u001b[0m\u001b[0;34m,\u001b[0m \u001b[0mException\u001b[0m\u001b[0;34m)\u001b[0m \u001b[0;32mas\u001b[0m \u001b[0me\u001b[0m\u001b[0;34m:\u001b[0m\u001b[0;34m\u001b[0m\u001b[0;34m\u001b[0m\u001b[0m\n\u001b[1;32m    242\u001b[0m             \u001b[0mrun_manager\u001b[0m\u001b[0;34m.\u001b[0m\u001b[0mon_chain_error\u001b[0m\u001b[0;34m(\u001b[0m\u001b[0me\u001b[0m\u001b[0;34m)\u001b[0m\u001b[0;34m\u001b[0m\u001b[0;34m\u001b[0m\u001b[0m\n\u001b[0;32m--> 243\u001b[0;31m             \u001b[0;32mraise\u001b[0m \u001b[0me\u001b[0m\u001b[0;34m\u001b[0m\u001b[0;34m\u001b[0m\u001b[0m\n\u001b[0m\u001b[1;32m    244\u001b[0m         \u001b[0mrun_manager\u001b[0m\u001b[0;34m.\u001b[0m\u001b[0mon_chain_end\u001b[0m\u001b[0;34m(\u001b[0m\u001b[0moutputs\u001b[0m\u001b[0;34m)\u001b[0m\u001b[0;34m\u001b[0m\u001b[0;34m\u001b[0m\u001b[0m\n\u001b[1;32m    245\u001b[0m         final_outputs: Dict[str, Any] = self.prep_outputs(\n",
            "\u001b[0;32m/usr/local/lib/python3.10/dist-packages/langchain/chains/base.py\u001b[0m in \u001b[0;36m__call__\u001b[0;34m(self, inputs, return_only_outputs, callbacks, tags, metadata, include_run_info)\u001b[0m\n\u001b[1;32m    235\u001b[0m         \u001b[0;32mtry\u001b[0m\u001b[0;34m:\u001b[0m\u001b[0;34m\u001b[0m\u001b[0;34m\u001b[0m\u001b[0m\n\u001b[1;32m    236\u001b[0m             outputs = (\n\u001b[0;32m--> 237\u001b[0;31m                 \u001b[0mself\u001b[0m\u001b[0;34m.\u001b[0m\u001b[0m_call\u001b[0m\u001b[0;34m(\u001b[0m\u001b[0minputs\u001b[0m\u001b[0;34m,\u001b[0m \u001b[0mrun_manager\u001b[0m\u001b[0;34m=\u001b[0m\u001b[0mrun_manager\u001b[0m\u001b[0;34m)\u001b[0m\u001b[0;34m\u001b[0m\u001b[0;34m\u001b[0m\u001b[0m\n\u001b[0m\u001b[1;32m    238\u001b[0m                 \u001b[0;32mif\u001b[0m \u001b[0mnew_arg_supported\u001b[0m\u001b[0;34m\u001b[0m\u001b[0;34m\u001b[0m\u001b[0m\n\u001b[1;32m    239\u001b[0m                 \u001b[0;32melse\u001b[0m \u001b[0mself\u001b[0m\u001b[0;34m.\u001b[0m\u001b[0m_call\u001b[0m\u001b[0;34m(\u001b[0m\u001b[0minputs\u001b[0m\u001b[0;34m)\u001b[0m\u001b[0;34m\u001b[0m\u001b[0;34m\u001b[0m\u001b[0m\n",
            "\u001b[0;32m/usr/local/lib/python3.10/dist-packages/langchain/chains/qa_with_sources/base.py\u001b[0m in \u001b[0;36m_call\u001b[0;34m(self, inputs, run_manager)\u001b[0m\n\u001b[1;32m    143\u001b[0m             \u001b[0mdocs\u001b[0m \u001b[0;34m=\u001b[0m \u001b[0mself\u001b[0m\u001b[0;34m.\u001b[0m\u001b[0m_get_docs\u001b[0m\u001b[0;34m(\u001b[0m\u001b[0minputs\u001b[0m\u001b[0;34m)\u001b[0m  \u001b[0;31m# type: ignore[call-arg]\u001b[0m\u001b[0;34m\u001b[0m\u001b[0;34m\u001b[0m\u001b[0m\n\u001b[1;32m    144\u001b[0m \u001b[0;34m\u001b[0m\u001b[0m\n\u001b[0;32m--> 145\u001b[0;31m         answer = self.combine_documents_chain.run(\n\u001b[0m\u001b[1;32m    146\u001b[0m             \u001b[0minput_documents\u001b[0m\u001b[0;34m=\u001b[0m\u001b[0mdocs\u001b[0m\u001b[0;34m,\u001b[0m \u001b[0mcallbacks\u001b[0m\u001b[0;34m=\u001b[0m\u001b[0m_run_manager\u001b[0m\u001b[0;34m.\u001b[0m\u001b[0mget_child\u001b[0m\u001b[0;34m(\u001b[0m\u001b[0;34m)\u001b[0m\u001b[0;34m,\u001b[0m \u001b[0;34m**\u001b[0m\u001b[0minputs\u001b[0m\u001b[0;34m\u001b[0m\u001b[0;34m\u001b[0m\u001b[0m\n\u001b[1;32m    147\u001b[0m         )\n",
            "\u001b[0;32m/usr/local/lib/python3.10/dist-packages/langchain/chains/base.py\u001b[0m in \u001b[0;36mrun\u001b[0;34m(self, callbacks, tags, metadata, *args, **kwargs)\u001b[0m\n\u001b[1;32m    443\u001b[0m \u001b[0;34m\u001b[0m\u001b[0m\n\u001b[1;32m    444\u001b[0m         \u001b[0;32mif\u001b[0m \u001b[0mkwargs\u001b[0m \u001b[0;32mand\u001b[0m \u001b[0;32mnot\u001b[0m \u001b[0margs\u001b[0m\u001b[0;34m:\u001b[0m\u001b[0;34m\u001b[0m\u001b[0;34m\u001b[0m\u001b[0m\n\u001b[0;32m--> 445\u001b[0;31m             return self(kwargs, callbacks=callbacks, tags=tags, metadata=metadata)[\n\u001b[0m\u001b[1;32m    446\u001b[0m                 \u001b[0m_output_key\u001b[0m\u001b[0;34m\u001b[0m\u001b[0;34m\u001b[0m\u001b[0m\n\u001b[1;32m    447\u001b[0m             ]\n",
            "\u001b[0;32m/usr/local/lib/python3.10/dist-packages/langchain/chains/base.py\u001b[0m in \u001b[0;36m__call__\u001b[0;34m(self, inputs, return_only_outputs, callbacks, tags, metadata, include_run_info)\u001b[0m\n\u001b[1;32m    241\u001b[0m         \u001b[0;32mexcept\u001b[0m \u001b[0;34m(\u001b[0m\u001b[0mKeyboardInterrupt\u001b[0m\u001b[0;34m,\u001b[0m \u001b[0mException\u001b[0m\u001b[0;34m)\u001b[0m \u001b[0;32mas\u001b[0m \u001b[0me\u001b[0m\u001b[0;34m:\u001b[0m\u001b[0;34m\u001b[0m\u001b[0;34m\u001b[0m\u001b[0m\n\u001b[1;32m    242\u001b[0m             \u001b[0mrun_manager\u001b[0m\u001b[0;34m.\u001b[0m\u001b[0mon_chain_error\u001b[0m\u001b[0;34m(\u001b[0m\u001b[0me\u001b[0m\u001b[0;34m)\u001b[0m\u001b[0;34m\u001b[0m\u001b[0;34m\u001b[0m\u001b[0m\n\u001b[0;32m--> 243\u001b[0;31m             \u001b[0;32mraise\u001b[0m \u001b[0me\u001b[0m\u001b[0;34m\u001b[0m\u001b[0;34m\u001b[0m\u001b[0m\n\u001b[0m\u001b[1;32m    244\u001b[0m         \u001b[0mrun_manager\u001b[0m\u001b[0;34m.\u001b[0m\u001b[0mon_chain_end\u001b[0m\u001b[0;34m(\u001b[0m\u001b[0moutputs\u001b[0m\u001b[0;34m)\u001b[0m\u001b[0;34m\u001b[0m\u001b[0;34m\u001b[0m\u001b[0m\n\u001b[1;32m    245\u001b[0m         final_outputs: Dict[str, Any] = self.prep_outputs(\n",
            "\u001b[0;32m/usr/local/lib/python3.10/dist-packages/langchain/chains/base.py\u001b[0m in \u001b[0;36m__call__\u001b[0;34m(self, inputs, return_only_outputs, callbacks, tags, metadata, include_run_info)\u001b[0m\n\u001b[1;32m    235\u001b[0m         \u001b[0;32mtry\u001b[0m\u001b[0;34m:\u001b[0m\u001b[0;34m\u001b[0m\u001b[0;34m\u001b[0m\u001b[0m\n\u001b[1;32m    236\u001b[0m             outputs = (\n\u001b[0;32m--> 237\u001b[0;31m                 \u001b[0mself\u001b[0m\u001b[0;34m.\u001b[0m\u001b[0m_call\u001b[0m\u001b[0;34m(\u001b[0m\u001b[0minputs\u001b[0m\u001b[0;34m,\u001b[0m \u001b[0mrun_manager\u001b[0m\u001b[0;34m=\u001b[0m\u001b[0mrun_manager\u001b[0m\u001b[0;34m)\u001b[0m\u001b[0;34m\u001b[0m\u001b[0;34m\u001b[0m\u001b[0m\n\u001b[0m\u001b[1;32m    238\u001b[0m                 \u001b[0;32mif\u001b[0m \u001b[0mnew_arg_supported\u001b[0m\u001b[0;34m\u001b[0m\u001b[0;34m\u001b[0m\u001b[0m\n\u001b[1;32m    239\u001b[0m                 \u001b[0;32melse\u001b[0m \u001b[0mself\u001b[0m\u001b[0;34m.\u001b[0m\u001b[0m_call\u001b[0m\u001b[0;34m(\u001b[0m\u001b[0minputs\u001b[0m\u001b[0;34m)\u001b[0m\u001b[0;34m\u001b[0m\u001b[0;34m\u001b[0m\u001b[0m\n",
            "\u001b[0;32m/usr/local/lib/python3.10/dist-packages/langchain/chains/combine_documents/base.py\u001b[0m in \u001b[0;36m_call\u001b[0;34m(self, inputs, run_manager)\u001b[0m\n\u001b[1;32m    104\u001b[0m         \u001b[0;31m# Other keys are assumed to be needed for LLM prediction\u001b[0m\u001b[0;34m\u001b[0m\u001b[0;34m\u001b[0m\u001b[0m\n\u001b[1;32m    105\u001b[0m         \u001b[0mother_keys\u001b[0m \u001b[0;34m=\u001b[0m \u001b[0;34m{\u001b[0m\u001b[0mk\u001b[0m\u001b[0;34m:\u001b[0m \u001b[0mv\u001b[0m \u001b[0;32mfor\u001b[0m \u001b[0mk\u001b[0m\u001b[0;34m,\u001b[0m \u001b[0mv\u001b[0m \u001b[0;32min\u001b[0m \u001b[0minputs\u001b[0m\u001b[0;34m.\u001b[0m\u001b[0mitems\u001b[0m\u001b[0;34m(\u001b[0m\u001b[0;34m)\u001b[0m \u001b[0;32mif\u001b[0m \u001b[0mk\u001b[0m \u001b[0;34m!=\u001b[0m \u001b[0mself\u001b[0m\u001b[0;34m.\u001b[0m\u001b[0minput_key\u001b[0m\u001b[0;34m}\u001b[0m\u001b[0;34m\u001b[0m\u001b[0;34m\u001b[0m\u001b[0m\n\u001b[0;32m--> 106\u001b[0;31m         output, extra_return_dict = self.combine_docs(\n\u001b[0m\u001b[1;32m    107\u001b[0m             \u001b[0mdocs\u001b[0m\u001b[0;34m,\u001b[0m \u001b[0mcallbacks\u001b[0m\u001b[0;34m=\u001b[0m\u001b[0m_run_manager\u001b[0m\u001b[0;34m.\u001b[0m\u001b[0mget_child\u001b[0m\u001b[0;34m(\u001b[0m\u001b[0;34m)\u001b[0m\u001b[0;34m,\u001b[0m \u001b[0;34m**\u001b[0m\u001b[0mother_keys\u001b[0m\u001b[0;34m\u001b[0m\u001b[0;34m\u001b[0m\u001b[0m\n\u001b[1;32m    108\u001b[0m         )\n",
            "\u001b[0;32m/usr/local/lib/python3.10/dist-packages/langchain/chains/combine_documents/stuff.py\u001b[0m in \u001b[0;36mcombine_docs\u001b[0;34m(self, docs, callbacks, **kwargs)\u001b[0m\n\u001b[1;32m    161\u001b[0m             \u001b[0melement\u001b[0m \u001b[0mreturned\u001b[0m \u001b[0;32mis\u001b[0m \u001b[0ma\u001b[0m \u001b[0mdictionary\u001b[0m \u001b[0mof\u001b[0m \u001b[0mother\u001b[0m \u001b[0mkeys\u001b[0m \u001b[0mto\u001b[0m \u001b[0;32mreturn\u001b[0m\u001b[0;34m.\u001b[0m\u001b[0;34m\u001b[0m\u001b[0;34m\u001b[0m\u001b[0m\n\u001b[1;32m    162\u001b[0m         \"\"\"\n\u001b[0;32m--> 163\u001b[0;31m         \u001b[0minputs\u001b[0m \u001b[0;34m=\u001b[0m \u001b[0mself\u001b[0m\u001b[0;34m.\u001b[0m\u001b[0m_get_inputs\u001b[0m\u001b[0;34m(\u001b[0m\u001b[0mdocs\u001b[0m\u001b[0;34m,\u001b[0m \u001b[0;34m**\u001b[0m\u001b[0mkwargs\u001b[0m\u001b[0;34m)\u001b[0m\u001b[0;34m\u001b[0m\u001b[0;34m\u001b[0m\u001b[0m\n\u001b[0m\u001b[1;32m    164\u001b[0m         \u001b[0;31m# Call predict on the LLM.\u001b[0m\u001b[0;34m\u001b[0m\u001b[0;34m\u001b[0m\u001b[0m\n\u001b[1;32m    165\u001b[0m         \u001b[0;32mreturn\u001b[0m \u001b[0mself\u001b[0m\u001b[0;34m.\u001b[0m\u001b[0mllm_chain\u001b[0m\u001b[0;34m.\u001b[0m\u001b[0mpredict\u001b[0m\u001b[0;34m(\u001b[0m\u001b[0mcallbacks\u001b[0m\u001b[0;34m=\u001b[0m\u001b[0mcallbacks\u001b[0m\u001b[0;34m,\u001b[0m \u001b[0;34m**\u001b[0m\u001b[0minputs\u001b[0m\u001b[0;34m)\u001b[0m\u001b[0;34m,\u001b[0m \u001b[0;34m{\u001b[0m\u001b[0;34m}\u001b[0m\u001b[0;34m\u001b[0m\u001b[0;34m\u001b[0m\u001b[0m\n",
            "\u001b[0;32m/usr/local/lib/python3.10/dist-packages/langchain/chains/combine_documents/stuff.py\u001b[0m in \u001b[0;36m_get_inputs\u001b[0;34m(self, docs, **kwargs)\u001b[0m\n\u001b[1;32m    117\u001b[0m         \"\"\"\n\u001b[1;32m    118\u001b[0m         \u001b[0;31m# Format each document according to the prompt\u001b[0m\u001b[0;34m\u001b[0m\u001b[0;34m\u001b[0m\u001b[0m\n\u001b[0;32m--> 119\u001b[0;31m         \u001b[0mdoc_strings\u001b[0m \u001b[0;34m=\u001b[0m \u001b[0;34m[\u001b[0m\u001b[0mformat_document\u001b[0m\u001b[0;34m(\u001b[0m\u001b[0mdoc\u001b[0m\u001b[0;34m,\u001b[0m \u001b[0mself\u001b[0m\u001b[0;34m.\u001b[0m\u001b[0mdocument_prompt\u001b[0m\u001b[0;34m)\u001b[0m \u001b[0;32mfor\u001b[0m \u001b[0mdoc\u001b[0m \u001b[0;32min\u001b[0m \u001b[0mdocs\u001b[0m\u001b[0;34m]\u001b[0m\u001b[0;34m\u001b[0m\u001b[0;34m\u001b[0m\u001b[0m\n\u001b[0m\u001b[1;32m    120\u001b[0m         \u001b[0;31m# Join the documents together to put them in the prompt.\u001b[0m\u001b[0;34m\u001b[0m\u001b[0;34m\u001b[0m\u001b[0m\n\u001b[1;32m    121\u001b[0m         inputs = {\n",
            "\u001b[0;32m/usr/local/lib/python3.10/dist-packages/langchain/chains/combine_documents/stuff.py\u001b[0m in \u001b[0;36m<listcomp>\u001b[0;34m(.0)\u001b[0m\n\u001b[1;32m    117\u001b[0m         \"\"\"\n\u001b[1;32m    118\u001b[0m         \u001b[0;31m# Format each document according to the prompt\u001b[0m\u001b[0;34m\u001b[0m\u001b[0;34m\u001b[0m\u001b[0m\n\u001b[0;32m--> 119\u001b[0;31m         \u001b[0mdoc_strings\u001b[0m \u001b[0;34m=\u001b[0m \u001b[0;34m[\u001b[0m\u001b[0mformat_document\u001b[0m\u001b[0;34m(\u001b[0m\u001b[0mdoc\u001b[0m\u001b[0;34m,\u001b[0m \u001b[0mself\u001b[0m\u001b[0;34m.\u001b[0m\u001b[0mdocument_prompt\u001b[0m\u001b[0;34m)\u001b[0m \u001b[0;32mfor\u001b[0m \u001b[0mdoc\u001b[0m \u001b[0;32min\u001b[0m \u001b[0mdocs\u001b[0m\u001b[0;34m]\u001b[0m\u001b[0;34m\u001b[0m\u001b[0;34m\u001b[0m\u001b[0m\n\u001b[0m\u001b[1;32m    120\u001b[0m         \u001b[0;31m# Join the documents together to put them in the prompt.\u001b[0m\u001b[0;34m\u001b[0m\u001b[0;34m\u001b[0m\u001b[0m\n\u001b[1;32m    121\u001b[0m         inputs = {\n",
            "\u001b[0;32m/usr/local/lib/python3.10/dist-packages/langchain/schema/prompt_template.py\u001b[0m in \u001b[0;36mformat_document\u001b[0;34m(doc, prompt)\u001b[0m\n\u001b[1;32m    181\u001b[0m             \u001b[0miv\u001b[0m \u001b[0;32mfor\u001b[0m \u001b[0miv\u001b[0m \u001b[0;32min\u001b[0m \u001b[0mprompt\u001b[0m\u001b[0;34m.\u001b[0m\u001b[0minput_variables\u001b[0m \u001b[0;32mif\u001b[0m \u001b[0miv\u001b[0m \u001b[0;34m!=\u001b[0m \u001b[0;34m\"page_content\"\u001b[0m\u001b[0;34m\u001b[0m\u001b[0;34m\u001b[0m\u001b[0m\n\u001b[1;32m    182\u001b[0m         ]\n\u001b[0;32m--> 183\u001b[0;31m         raise ValueError(\n\u001b[0m\u001b[1;32m    184\u001b[0m             \u001b[0;34mf\"Document prompt requires documents to have metadata variables: \"\u001b[0m\u001b[0;34m\u001b[0m\u001b[0;34m\u001b[0m\u001b[0m\n\u001b[1;32m    185\u001b[0m             \u001b[0;34mf\"{required_metadata}. Received document with missing metadata: \"\u001b[0m\u001b[0;34m\u001b[0m\u001b[0;34m\u001b[0m\u001b[0m\n",
            "\u001b[0;31mValueError\u001b[0m: Document prompt requires documents to have metadata variables: ['source']. Received document with missing metadata: ['source']."
          ]
        }
      ]
    },
    {
      "cell_type": "markdown",
      "source": [
        "## Langchain with Qdrant"
      ],
      "metadata": {
        "id": "TWcgwSk6mmFv"
      }
    },
    {
      "cell_type": "markdown",
      "source": [
        "## Qdrant Metadata\n",
        "Qdrant stores your vector embeddings along with the optional JSON-like payload. Payloads are optional, but since LangChain assumes the embeddings are generated from the documents, we keep the context data, so you can extract the original texts as well.\n",
        "\n",
        "By default, your document is going to be stored in the following payload structure:\n",
        "```\n",
        "{\n",
        "    \"page_content\": \"Lorem ipsum dolor sit amet\",\n",
        "    \"metadata\": {\n",
        "        \"foo\": \"bar\"\n",
        "    }\n",
        "}\n",
        "```"
      ],
      "metadata": {
        "id": "vJW4AAxwriqL"
      }
    },
    {
      "cell_type": "code",
      "source": [
        "from qdrant_client import models, QdrantClient"
      ],
      "metadata": {
        "id": "wXRJf4zpmoja"
      },
      "execution_count": null,
      "outputs": []
    },
    {
      "cell_type": "markdown",
      "source": [
        "## Define storage location"
      ],
      "metadata": {
        "id": "vdPZbYRc39gA"
      }
    },
    {
      "cell_type": "code",
      "source": [
        "qdrant = QdrantClient(\":memory:\")"
      ],
      "metadata": {
        "id": "xiiseUzg3-mc"
      },
      "execution_count": null,
      "outputs": []
    },
    {
      "cell_type": "markdown",
      "source": [
        "## Create a collection"
      ],
      "metadata": {
        "id": "CsDGozul4D00"
      }
    },
    {
      "cell_type": "code",
      "source": [
        "qdrant.recreate_collection(\n",
        "\tcollection_name=\"langchain-retrieval-augmentation\",\n",
        "\tvectors_config=models.VectorParams(\n",
        "\t\tsize=len(doc_result[0]), # Vector size is defined by used model\n",
        "\t\tdistance=models.Distance.COSINE\n",
        "\t)\n",
        ")"
      ],
      "metadata": {
        "colab": {
          "base_uri": "https://localhost:8080/"
        },
        "id": "shbgIcoV4EwW",
        "outputId": "5aa391cb-125e-4758-8318-dc059e8a321b"
      },
      "execution_count": null,
      "outputs": [
        {
          "output_type": "execute_result",
          "data": {
            "text/plain": [
              "True"
            ]
          },
          "metadata": {},
          "execution_count": 219
        }
      ]
    },
    {
      "cell_type": "code",
      "source": [
        "type(doc_result)"
      ],
      "metadata": {
        "colab": {
          "base_uri": "https://localhost:8080/"
        },
        "id": "2AuqEB236k4a",
        "outputId": "d61602b3-48e0-414d-b4ca-68ce48dbddb1"
      },
      "execution_count": null,
      "outputs": [
        {
          "output_type": "execute_result",
          "data": {
            "text/plain": [
              "list"
            ]
          },
          "metadata": {},
          "execution_count": 220
        }
      ]
    },
    {
      "cell_type": "code",
      "source": [
        "index_name = 'langchain-retrieval-augmentation'"
      ],
      "metadata": {
        "id": "h4msMJ6v77XF"
      },
      "execution_count": null,
      "outputs": []
    },
    {
      "cell_type": "code",
      "source": [
        "from tqdm.auto import tqdm\n",
        "from uuid import uuid4\n",
        "from langchain.text_splitter import RecursiveCharacterTextSplitter\n",
        "batch_limit = 10\n",
        "\n",
        "texts = []\n",
        "metadatas = []\n",
        "#\n",
        "text_splitter = RecursiveCharacterTextSplitter(\n",
        "    chunk_size=1000,\n",
        "    chunk_overlap=200,\n",
        "    separators=[\"\\n\\n\", \"\\n\", \" \", \"\"]\n",
        ")\n",
        "\n",
        "for p,record in tqdm(zip(page_num,page_content)):\n",
        "    # first get metadata fields for this record\n",
        "    metadata = {'page number': p}\n",
        "    # now we create chunks from the record text\n",
        "    record_texts = text_splitter.split_text(record)\n",
        "    # create individual metadata dicts for each chunk\n",
        "    record_metadatas = [{\n",
        "        \"chunk\": j, \"text\": text, **metadata\n",
        "    } for j, text in enumerate(record_texts)]\n",
        "    # append these to current batches\n",
        "    texts.extend(record_texts)\n",
        "    metadatas.extend(record_metadatas)\n",
        "    # if we have reached the batch_limit we can add texts\n",
        "    if len(texts) >= batch_limit:\n",
        "        ids = [str(uuid4()) for _ in range(len(texts))]\n",
        "        embeds = embeddings.embed_documents(texts)\n",
        "        qdrant.upsert(\n",
        "        collection_name=index_name,\n",
        "        points=models.Batch(ids=ids, vectors=embeds, payloads=metadatas),\n",
        "        )\n",
        "        texts = []\n",
        "        metadatas = []\n",
        "\n",
        "if len(texts) > 0:\n",
        "    ids = [str(uuid4()) for _ in range(len(texts))]\n",
        "    embeds = embeddings.embed_documents(texts)\n",
        "    qdrant.upsert(\n",
        "        collection_name=index_name,\n",
        "        points=models.Batch(ids=ids, vectors=embeds, payloads=metadatas),\n",
        "        )"
      ],
      "metadata": {
        "colab": {
          "base_uri": "https://localhost:8080/",
          "height": 49,
          "referenced_widgets": [
            "ba7977f25f5a4a08bb0fe3ac8a60a436",
            "614e081715e94abc9d48aedae5231eec",
            "6c11b39aeb4d490298670e3f088b779e",
            "babf7140070f4825ab46b3e0f0ce7e30",
            "45bf870142ac41709dffd58c459abe96",
            "af0ea4ab73d9481aa82ca1a3b07cdef8",
            "743fdce434ef4f2f80f2d97b18eff063",
            "a6ca92989e9b49f6a90b93b7eb66d72c",
            "74fca75b479f44329d6cc77154c52f12",
            "e0f73cf650be46bcbd3cb3ddd0cd504b",
            "773c5bef15ed43068b7dbc26dc953f71"
          ]
        },
        "id": "cA2kJWoL6nHX",
        "outputId": "80d9e279-3885-4143-b889-8d2c1ed6d1d8"
      },
      "execution_count": null,
      "outputs": [
        {
          "output_type": "display_data",
          "data": {
            "text/plain": [
              "0it [00:00, ?it/s]"
            ],
            "application/vnd.jupyter.widget-view+json": {
              "version_major": 2,
              "version_minor": 0,
              "model_id": "ba7977f25f5a4a08bb0fe3ac8a60a436"
            }
          },
          "metadata": {}
        }
      ]
    },
    {
      "cell_type": "code",
      "source": [
        "query = \"What are the Common Terms in an Options Package?\"\n",
        "xq = embeddings.embed_documents([query])"
      ],
      "metadata": {
        "id": "Arc8D1PNAtxl"
      },
      "execution_count": null,
      "outputs": []
    },
    {
      "cell_type": "code",
      "source": [
        "type(xq)"
      ],
      "metadata": {
        "colab": {
          "base_uri": "https://localhost:8080/"
        },
        "id": "EpwWqKztAvuU",
        "outputId": "e7624cf9-24ee-4686-b0a9-f9dcd90a359a"
      },
      "execution_count": null,
      "outputs": [
        {
          "output_type": "execute_result",
          "data": {
            "text/plain": [
              "list"
            ]
          },
          "metadata": {},
          "execution_count": 30
        }
      ]
    },
    {
      "cell_type": "code",
      "source": [
        "collections = qdrant.get_collections()\n",
        "print(collections)"
      ],
      "metadata": {
        "colab": {
          "base_uri": "https://localhost:8080/"
        },
        "id": "iY8ynX8kDFjo",
        "outputId": "f53c1404-9ff2-4651-f6c4-9e1a3a9861c2"
      },
      "execution_count": null,
      "outputs": [
        {
          "output_type": "stream",
          "name": "stdout",
          "text": [
            "collections=[CollectionDescription(name='langchain-retrieval-augmentation')]\n"
          ]
        }
      ]
    },
    {
      "cell_type": "code",
      "source": [
        "collection_vector_count = qdrant.get_collection(collection_name=index_name).vectors_count\n",
        "print(f\"Vector count in collection: {collection_vector_count}\")"
      ],
      "metadata": {
        "colab": {
          "base_uri": "https://localhost:8080/"
        },
        "id": "pbC9G-SVCwWn",
        "outputId": "0290de65-2b66-4a0e-f596-0e2c4f901faf"
      },
      "execution_count": null,
      "outputs": [
        {
          "output_type": "stream",
          "name": "stdout",
          "text": [
            "Vector count in collection: 50\n"
          ]
        }
      ]
    },
    {
      "cell_type": "code",
      "source": [
        "type(xq)"
      ],
      "metadata": {
        "colab": {
          "base_uri": "https://localhost:8080/"
        },
        "id": "fHaH14iMRZ9f",
        "outputId": "0ef440c1-cda0-4dff-a24f-2e6e2a3c115f"
      },
      "execution_count": null,
      "outputs": [
        {
          "output_type": "execute_result",
          "data": {
            "text/plain": [
              "list"
            ]
          },
          "metadata": {},
          "execution_count": 58
        }
      ]
    },
    {
      "cell_type": "code",
      "source": [
        "def get_match(query_embed):\n",
        "  result = qdrant.search(\n",
        "            collection_name=index_name,\n",
        "            query_vector=query_embed[0],\n",
        "            limit=1,\n",
        "            with_vectors=True,\n",
        "            with_payload=True,\n",
        "        )\n",
        "  #print(result)\n",
        "  context = [[x.payload[\"text\"], x.payload[\"page number\"]] for x in result]\n",
        "  #print(context)\n",
        "  response = {\"text\":context[0][0],\"page_number\":context[0][1]}\n",
        "  return response"
      ],
      "metadata": {
        "id": "aYxM2FeaCLnP"
      },
      "execution_count": null,
      "outputs": []
    },
    {
      "cell_type": "markdown",
      "source": [
        "## Query1"
      ],
      "metadata": {
        "id": "2ajZRwQmf_Hf"
      }
    },
    {
      "cell_type": "code",
      "source": [
        "query = \"What are the Common Terms in an Options Package?'\"\n",
        "xq = embeddings.embed_documents([query])\n",
        "get_match(xq)"
      ],
      "metadata": {
        "colab": {
          "base_uri": "https://localhost:8080/"
        },
        "id": "LRjgGxBogBP9",
        "outputId": "8a60ec52-6cfb-4d73-bce7-ef6015d2630a"
      },
      "execution_count": null,
      "outputs": [
        {
          "output_type": "execute_result",
          "data": {
            "text/plain": [
              "{'text': 'Common Terms in an Options Package  \\nNumber of Shares  The total number of  options granted to an \\nemployee, and therefore the maximum number of \\nshares that employee has access to   \\nStrike Price  The price the  employee must pay to purchase \\neach share if and when the employee chooses to \\nexercise the option  \\nVesting  Schedule  The timeline over which the options become \\nwholly owned and exercisable  by the employee \\n(no longer subject to repurchase by the company)  \\nCliff Period  The trial  period during which no vesting occurs; in \\nthis period vesting accrues, but the total effect of \\nthis vesting is realized immediately after the cliff  \\nExpiration Date  The last date on which the options  may be \\nexercised and converted into common shares by \\nthe employee  \\nWe will discuss the mechanics in further detail, but these basic \\nterms are helpful to understanding options grants',\n",
              " 'page_number': 'Page7'}"
            ]
          },
          "metadata": {},
          "execution_count": 227
        }
      ]
    },
    {
      "cell_type": "markdown",
      "source": [
        "## query = 2"
      ],
      "metadata": {
        "id": "XMhpePsFdXfN"
      }
    },
    {
      "cell_type": "code",
      "source": [
        "query = \"How do startups use options?\"\n",
        "xq = embeddings.embed_documents([query])\n",
        "get_match(xq)"
      ],
      "metadata": {
        "colab": {
          "base_uri": "https://localhost:8080/"
        },
        "id": "oUNcq3M3dazu",
        "outputId": "da40484d-9e4e-4f7d-d594-7be4f80332f0"
      },
      "execution_count": null,
      "outputs": [
        {
          "output_type": "execute_result",
          "data": {
            "text/plain": [
              "{'text': 'What is an Option?  \\n•Why do options have intrinsic value?  \\n–A effective form of equity ownership  \\n–A locked -in price for shares  \\n•How do startups use options?  \\n–To bring in founding team members \\nwho are not co -founders  \\n–To recruit, compensate and retain \\nearly employees  \\n–To allow later employees to share in \\nthe company’s long -term upside  Terminology:   \\nThis presentation uses “options” \\ngenerally to refer to several types of \\nsecurities that are often issued to startup \\nemployees to provide for effective equity \\nownership, including:  \\n-Stock options (the right to buy \\ncommon stock a set strike price)  \\n-Restricted stock (common stock \\nissued early on to top employees)  \\n-Restricted stock units (a promise to \\nissue common stock in the future)  \\nAppropriate use of these securities will \\nvary based on local regulatory and tax \\nconsiderations.  An option is a right (but not an obligation) to purchase a quantity',\n",
              " 'page_number': 'Page5'}"
            ]
          },
          "metadata": {},
          "execution_count": 87
        }
      ]
    },
    {
      "cell_type": "code",
      "source": [
        "query = \"What is an options?\"\n",
        "xq = embeddings.embed_documents([query])\n",
        "get_match(xq)"
      ],
      "metadata": {
        "colab": {
          "base_uri": "https://localhost:8080/"
        },
        "id": "ASxxWOrqgQkB",
        "outputId": "131e737d-ae8d-4f5c-f587-04a0d17eb955"
      },
      "execution_count": null,
      "outputs": [
        {
          "output_type": "execute_result",
          "data": {
            "text/plain": [
              "{'text': 'Appropriate use of these securities will \\nvary based on local regulatory and tax \\nconsiderations.  An option is a right (but not an obligation) to purchase a quantity \\nof a company’s stock at a set price for a certain period of time',\n",
              " 'page_number': 'Page5'}"
            ]
          },
          "metadata": {},
          "execution_count": 105
        }
      ]
    },
    {
      "cell_type": "markdown",
      "source": [
        "## Final Inference Script"
      ],
      "metadata": {
        "id": "iQZA5GSQjC-L"
      }
    },
    {
      "cell_type": "code",
      "source": [
        "import os\n",
        "os.mkdir(\"db\")"
      ],
      "metadata": {
        "id": "xXjGA4wdFXf2"
      },
      "execution_count": null,
      "outputs": []
    },
    {
      "cell_type": "code",
      "source": [
        "!pip install -qU transformers"
      ],
      "metadata": {
        "id": "dvoaoPqiKtR2"
      },
      "execution_count": null,
      "outputs": []
    },
    {
      "cell_type": "code",
      "source": [
        "from qdrant_client import models, QdrantClient\n",
        "from langchain.embeddings import HuggingFaceEmbeddings\n",
        "import PyPDF2\n",
        "from PyPDF2 import PdfReader\n",
        "from tqdm.auto import tqdm\n",
        "from uuid import uuid4\n",
        "from langchain.text_splitter import RecursiveCharacterTextSplitter\n",
        "from transformers import pipeline\n",
        "from sentence_transformers import SentenceTransformer\n",
        "from time import time,sleep\n",
        "#\n",
        "import os\n",
        "import json\n",
        "#\n",
        "import io\n",
        "import pytesseract\n",
        "import shutil\n",
        "import random\n",
        "from PIL import Image\n",
        "from pdf2image import convert_from_path\n",
        "\n",
        "#\n",
        "def is_scanned_pdf(file_path):\n",
        "    page_num  = []\n",
        "    page_content = []\n",
        "    pdf_reader = PdfReader(file_path)\n",
        "    text = \"\"\n",
        "    for i,page in enumerate(pdf_reader.pages):\n",
        "      page_num.append(f\"Page{i+1}\")\n",
        "      page_content.append(page.extract_text())\n",
        "      text += page.extract_text()\n",
        "\n",
        "    # if no text found, it is likely a scanned pdf\n",
        "    if text == \"\":\n",
        "        print(\"Scanned PDF\")\n",
        "        return True,page_num,page_content\n",
        "\n",
        "    else:\n",
        "        print(\"Text-based PDF\")\n",
        "        return False,page_num,page_content\n",
        "#\n",
        "def convert_pdf_to_image(pdf_path):\n",
        "    pages = convert_from_path(pdf_path, 350)\n",
        "    #\n",
        "    output_dir=\"pdf_img_dir\"\n",
        "    if not os.path.exists(output_dir):\n",
        "        os.makedirs(output_dir)\n",
        "    i = 1\n",
        "    for page in pages:\n",
        "        image_name = \"Page_\" + str(i) + \".jpg\"\n",
        "        image_path = os.path.join(output_dir,image_name)\n",
        "        page.save(image_path, \"JPEG\")\n",
        "        i = i+1\n",
        "    return output_dir\n",
        "\n",
        "# Extract text from image\n",
        "#\n",
        "def extract_text_from_image(image_path):\n",
        "    extractedInformation = pytesseract.image_to_string(Image.open(image_path))\n",
        "    return extractedInformation\n",
        "#\n",
        "#\n",
        "def Upsert_collection(qdrant,page_num,page_content,index_name,embeddings):\n",
        "    texts = []\n",
        "    metadatas = []\n",
        "    if len(page_num) <= 10:\n",
        "      batch_limit = 1\n",
        "    elif (len(page_num) > 10) and (len(page_num) < 50):\n",
        "      batch_limit = 10\n",
        "    elif (len(page_num) > 50) and (len(page_num) < 200):\n",
        "      batch_limit = 25\n",
        "    else :\n",
        "      batch_limit = 50\n",
        "\n",
        "    for p,record in tqdm(zip(page_num,page_content)):\n",
        "      # first get metadata fields for this record\n",
        "      metadata = {'page number': p}\n",
        "      # now we create chunks from the record text\n",
        "      record_texts = get_text_chunks(record)\n",
        "      # create individual metadata dicts for each chunk\n",
        "      record_metadatas = [{\n",
        "          \"chunk\": j, \"text\": text, **metadata\n",
        "      } for j, text in enumerate(record_texts)]\n",
        "      # append these to current batches\n",
        "      texts.extend(record_texts)\n",
        "      metadatas.extend(record_metadatas)\n",
        "\n",
        "      if len(texts) >= batch_limit:\n",
        "          #print(texts)\n",
        "          #print(metadatas)\n",
        "          #\n",
        "          ids = [str(uuid4()) for _ in range(len(texts))]\n",
        "          embeds = embeddings.embed_documents(texts)\n",
        "\n",
        "          qdrant.upsert(\n",
        "          collection_name=index_name,\n",
        "          points=models.Batch(ids=ids, vectors=embeds, payloads=metadatas),\n",
        "          )\n",
        "          texts = []\n",
        "          metadatas = []\n",
        "\n",
        "    if len(texts) > 0:\n",
        "        ids = [str(uuid4()) for _ in range(len(texts))]\n",
        "        embeds = embeddings.embed_documents(texts)\n",
        "        qdrant.upsert(\n",
        "            collection_name=index_name,\n",
        "            points=models.Batch(ids=ids, vectors=embeds, payloads=metadatas),\n",
        "            )\n",
        "    collection_vector_count = qdrant.get_collection(collection_name=index_name).vectors_count\n",
        "    print(f\"Vector count in collection: {collection_vector_count}\")\n",
        "\n",
        "#\n",
        "\n",
        "#\n",
        "def get_text_chunks(text):\n",
        "    text_splitter = RecursiveCharacterTextSplitter(\n",
        "                            chunk_size=1000,\n",
        "                            chunk_overlap=200,\n",
        "                            separators=[\"\\n\\n\", \"\\n\", \" \", \"\"]\n",
        "                            )\n",
        "    chunks = text_splitter.split_text(text)\n",
        "    return chunks\n",
        "#\n",
        "def preprocess_function(request_data,content_type=None):\n",
        "  pdf_docs = request_data[\"pdf1\"]\n",
        "  prompt = request_data[\"query\"]\n",
        "  flag,page_num,page_content = is_scanned_pdf(pdf_docs)\n",
        "  pdf_name = \"temppdf\"\n",
        "  f_path = os.path.join(\"/tmp\", pdf_name)\n",
        "  #\n",
        "  if flag:\n",
        "    #with open(f_path, \"wb\") as f:\n",
        "    #  f.write(pdf_docs.getbuffer())\n",
        "    #print(f\"filesize : {os.path.getsize(f_path)}\")\n",
        "    page_num  = []\n",
        "    page_content = []\n",
        "    text = \"\"\n",
        "    f_path = pdf_docs\n",
        "    image_dir = convert_pdf_to_image(f_path)\n",
        "    for i,file in enumerate(os.listdir(image_dir)):\n",
        "      page_num.append(f\"Page{i+1}\")\n",
        "      image_path = os.path.join(image_dir,file)\n",
        "      page_content.append(extract_text_from_image(image_path))\n",
        "      text += extract_text_from_image(image_path)\n",
        "      print(f\"Text read from image: {text}\")\n",
        "\n",
        "  return (flag,page_num,page_content,prompt)\n",
        "#\n",
        "def model_load_function(content):\n",
        "  flag,page_num,page_content,prompt = content\n",
        "  embeddings = HuggingFaceEmbeddings()\n",
        "  return embeddings\n",
        "#\n",
        "def predict_function(context,model, content_type=None):\n",
        "    embeddings = model\n",
        "    flag,page_num,page_content,prompt = context\n",
        "\n",
        "    print(len(page_num),len(page_content))\n",
        "    print(prompt)\n",
        "    #qdrant = QdrantClient(path =\"/content/db\")\n",
        "    qdrant = QdrantClient(\":memory:\")\n",
        "    collection_name = \"DOC_Search\"\n",
        "    collections = qdrant.get_collections()\n",
        "    print(collections)\n",
        "    #qdrant = QdrantClient(path =\"/content/db\")\n",
        "    doc_embed = embeddings.embed_documents(page_content[0])\n",
        "    print(doc_embed)\n",
        "    print(len(doc_embed[0]))\n",
        "    # only create collection if it doesn't exist\n",
        "    if collection_name not in collections:\n",
        "          qdrant.recreate_collection(\n",
        "              collection_name=collection_name,\n",
        "              vectors_config=models.VectorParams(\n",
        "                  size=len(doc_embed[0]),\n",
        "                  distance=models.Distance.COSINE,\n",
        "              ),\n",
        "          )\n",
        "    collections = qdrant.get_collections()\n",
        "    print(collections)\n",
        "    # insert records into vectorstore\n",
        "    Upsert_collection(qdrant,page_num,page_content,collection_name,embeddings)\n",
        "    #\n",
        "    collection_vector_count = qdrant.get_collection(collection_name=collection_name).vectors_count\n",
        "    print(f\"Vector count in collection: {collection_vector_count}\")\n",
        "    # Get Similar records\n",
        "    query_embed = embeddings.embed_documents([prompt])\n",
        "    print(query_embed)\n",
        "    result = qdrant.search(\n",
        "            collection_name=collection_name,\n",
        "            query_vector=query_embed[0],\n",
        "            limit=3,\n",
        "            with_payload=True,\n",
        "            search_params=models.SearchParams(\n",
        "        hnsw_ef=128,\n",
        "        exact=False\n",
        "    ),\n",
        "        )\n",
        "    print(result)\n",
        "    context = [[x.payload[\"text\"], x.payload[\"page number\"]] for x in result]\n",
        "    print(context)\n",
        "    t = []\n",
        "    pg = []\n",
        "    s = []\n",
        "    for items in context:\n",
        "      print(items)\n",
        "\n",
        "    response = {\"text\":context[0][0],\"page_number\":context[0][1]}\n",
        "    #\n",
        "    qdrant.delete_collection(collection_name=\"Doc_Search\")\n",
        "    return response\n",
        "#\n",
        "def postprocess_function(predictions, content_type=None):\n",
        "  return json.dumps({\"response\": predictions})\n",
        "\n",
        "\n",
        "\n",
        "\n"
      ],
      "metadata": {
        "id": "0GAl7iFWjGVz"
      },
      "execution_count": null,
      "outputs": []
    },
    {
      "cell_type": "code",
      "source": [
        "request_data = {\"pdf1\":\"/content/trade.pdf\",\n",
        "                \"query\":\"Will interest be charged if the amount is not paid within due date?\"}\n",
        "content = preprocess_function(request_data,content_type=None)"
      ],
      "metadata": {
        "colab": {
          "base_uri": "https://localhost:8080/"
        },
        "id": "wz3FNKG3KagO",
        "outputId": "15f6f552-c6bf-417e-cb52-550352aeaec0"
      },
      "execution_count": null,
      "outputs": [
        {
          "output_type": "stream",
          "name": "stdout",
          "text": [
            "Scanned PDF\n",
            "Text read from image: ij\n",
            "\n",
            "@ KEYTRADE ORIGINAL\n",
            "\n",
            "Buyer:\n",
            "GOULDING CHEMICALS LTD.,\n",
            "CENTRE PARK ROAD,\n",
            "\n",
            "MARINA, CORK\n",
            "SWITZERLAND IRELAND\n",
            "VAT NO: NL822947778B01 VAT NO: IE8Z56076R\n",
            "\n",
            " \n",
            "\n",
            "COMMERCIAL INVOICE NO: 0000448 DATE: 28 March 2018\n",
            "NO. NUMBER CODE NAME NO TERMS\n",
            "CELINA\n",
            "201710299 FREE\n",
            "\n",
            "Description of Goods QUANTITY UNIT PRICE AMOUNT\n",
            "\n",
            "(Metric Tons)! (EUR Per MT) (EUR)\n",
            "\n",
            "  \n",
            " \n",
            "\n",
            "    \n",
            "\n",
            "GRANULAR CALCIUM AMMONIUM NITRATE (CAN) 27 % IN BULK\n",
            "\n",
            "5'476.100 183.00 4'002'126.30\n",
            "CIF FOYNES\n",
            "\n",
            "TOTAL AMOUNT CIF FOYNES, IRELAND, EUR 4'002'126.30\n",
            "\n",
            "VAT ZERO RATE IN CONFORMITY WITH ARTICLE 141 EC DIRECTIVE 2006/112\n",
            "\n",
            "TOTAL VAT RATE VAT AMOUNT EUR TOTAL oe\n",
            "\n",
            "PAYMENT: BY TT WITHIN 90 DAYS FROM BIL DATE (28.03.2018), I.E. LATEST BY 26 JUNE 2018\n",
            "\n",
            " \n",
            "\n",
            "Shipment details:\n",
            "\n",
            "PORT OF LOADING : KLAIPEDA, LITHUANIA\n",
            "PORT OF DISCHARGE: FOYNES, IRELAND\n",
            "\n",
            "BILL OF LADING : 5'476.100 METRIC TONS\n",
            "BILL OF LADING NO. 1\n",
            "BILL OF LADING DATE: 28 March 2018\n",
            "\n",
            "ORIGIN: LITHUANIA\n",
            "\n",
            "Unless otherwise provided in the sales contract or agreed to in writing, the amount IRENEFICIARY'S BANK DETAILS:\n",
            "\n",
            "shown on this invoice is to be pald on or before due date by Telegraphic Transfer of | CREDIT EUROPE BANK N.V\n",
            "\n",
            "immediately available funds. “\n",
            "\n",
            "interest will be charged for any amounts not paid within the term of this invoice. | SWIFT: FBHLNLZAXXX\n",
            "\n",
            "This invoice is subject to the terms and conditions |KEYTRADE AG EUR ACCOUNT: 07813 17 614\n",
            "\n",
            "set forth in KEYTRADE AG's sales contract. IBAN NO: NL45 FBHL 0781 3176 14\n",
            "\n",
            "meray te ACY\n",
            "ZURCHEROTRA 3 Ari\n",
            "'\n",
            "\n",
            "wit, oy\n",
            "Hoo9e¢\n",
            "\n",
            "ee ms\n",
            "VAT tia ae NLELLOS\n",
            "\n",
            " \n",
            "\n",
            " \n",
            "  \n",
            " \n",
            "\n",
            "  \n",
            "\f\n"
          ]
        }
      ]
    },
    {
      "cell_type": "code",
      "source": [
        "flag,page_num,page_content,prompt = content"
      ],
      "metadata": {
        "id": "s5PWiA6sOJmc"
      },
      "execution_count": null,
      "outputs": []
    },
    {
      "cell_type": "code",
      "source": [
        "len(page_num),len(page_content)"
      ],
      "metadata": {
        "colab": {
          "base_uri": "https://localhost:8080/"
        },
        "id": "KAM9guVMOSpR",
        "outputId": "f9d48f7a-5fcc-420f-ac9d-85d3f7ffbcf9"
      },
      "execution_count": null,
      "outputs": [
        {
          "output_type": "execute_result",
          "data": {
            "text/plain": [
              "(1, 1)"
            ]
          },
          "metadata": {},
          "execution_count": 33
        }
      ]
    },
    {
      "cell_type": "code",
      "source": [
        "request_data = {\"pdf1\":\"/content/Employee-Stock-Option-Plans-ESOP-Best-Practices-2.pdf\",\n",
        "                \"query\":\"Why Issue Options to Employees?\"}\n",
        "content = preprocess_function(request_data,content_type=None)"
      ],
      "metadata": {
        "colab": {
          "base_uri": "https://localhost:8080/"
        },
        "id": "F03aqHKZ9JtA",
        "outputId": "4f016a5e-3d6a-4509-c8ce-15b484de223e"
      },
      "execution_count": null,
      "outputs": [
        {
          "output_type": "stream",
          "name": "stdout",
          "text": [
            "Text-based PDF\n",
            "collections=[CollectionDescription(name='DOC_Search')]\n",
            "768\n",
            "collections=[CollectionDescription(name='DOC_Search')]\n"
          ]
        }
      ]
    },
    {
      "cell_type": "code",
      "source": [
        "model_load_function(content)"
      ],
      "metadata": {
        "colab": {
          "base_uri": "https://localhost:8080/"
        },
        "id": "vAdWRGZD9f92",
        "outputId": "eecc6c20-8d05-4014-cd94-afe3d7779774"
      },
      "execution_count": null,
      "outputs": [
        {
          "output_type": "execute_result",
          "data": {
            "text/plain": [
              "HuggingFaceEmbeddings(client=SentenceTransformer(\n",
              "  (0): Transformer({'max_seq_length': 384, 'do_lower_case': False}) with Transformer model: MPNetModel \n",
              "  (1): Pooling({'word_embedding_dimension': 768, 'pooling_mode_cls_token': False, 'pooling_mode_mean_tokens': True, 'pooling_mode_max_tokens': False, 'pooling_mode_mean_sqrt_len_tokens': False})\n",
              "  (2): Normalize()\n",
              "), model_name='sentence-transformers/all-mpnet-base-v2', cache_folder=None, model_kwargs={}, encode_kwargs={})"
            ]
          },
          "metadata": {},
          "execution_count": 357
        }
      ]
    },
    {
      "cell_type": "code",
      "source": [
        "model = model_load_function(content)\n"
      ],
      "metadata": {
        "id": "ICePKSQhPnOx"
      },
      "execution_count": null,
      "outputs": []
    },
    {
      "cell_type": "code",
      "source": [
        "response = predict_function(content,model, content_type=None)"
      ],
      "metadata": {
        "colab": {
          "base_uri": "https://localhost:8080/",
          "height": 416,
          "referenced_widgets": [
            "e8db3d87e06743c0b78506e727192121",
            "8a035ef397a64e71822da104f5b0fe03",
            "6fbf767224584df6bec2d99851ac6418",
            "63b741a4b82a432c8d47fe4f2de7e9ee",
            "dc659f16712e4a68b715560cfcb55426",
            "8f4dd6ebf5fa4831bd447a2fc9133069",
            "c3ed7c803f4349f4858438baf8e700a0",
            "57a90153ab7342afa54fc2144d13a71c",
            "1915f8745fd64d259dec340859b4079b",
            "77e86da2de79422fbcdef6db5b7895a6",
            "8fcaa89ad3964b9fb156c33f435da34d"
          ]
        },
        "id": "PZ9vg9-7MOpj",
        "outputId": "04ddbb0c-4413-4904-bf23-1701a5bfb826"
      },
      "execution_count": null,
      "outputs": [
        {
          "output_type": "stream",
          "name": "stdout",
          "text": [
            "1 1\n",
            "Will interest be charged if the amount is not paid within due date?\n",
            "collections=[]\n"
          ]
        },
        {
          "output_type": "stream",
          "name": "stderr",
          "text": [
            "IOPub data rate exceeded.\n",
            "The notebook server will temporarily stop sending output\n",
            "to the client in order to avoid crashing it.\n",
            "To change this limit, set the config variable\n",
            "`--NotebookApp.iopub_data_rate_limit`.\n",
            "\n",
            "Current values:\n",
            "NotebookApp.iopub_data_rate_limit=1000000.0 (bytes/sec)\n",
            "NotebookApp.rate_limit_window=3.0 (secs)\n",
            "\n"
          ]
        },
        {
          "output_type": "display_data",
          "data": {
            "text/plain": [
              "0it [00:00, ?it/s]"
            ],
            "application/vnd.jupyter.widget-view+json": {
              "version_major": 2,
              "version_minor": 0,
              "model_id": "e8db3d87e06743c0b78506e727192121"
            }
          },
          "metadata": {}
        },
        {
          "output_type": "stream",
          "name": "stdout",
          "text": [
            "Vector count in collection: 2\n",
            "Vector count in collection: 2\n",
            "[[0.02206660993397236, -0.0353192463517189, 0.011373501271009445, -0.027146635577082634, -0.002202652394771576, 0.03277724236249924, 0.05897736921906471, -0.008239415474236012, 0.0007316850824281573, 0.03801165148615837, 0.043808307498693466, 0.026091687381267548, 0.010354757308959961, -0.03132372722029686, -0.00912400707602501, 0.05384654924273491, 0.024481190368533134, -0.010559437796473503, 0.03301302343606949, -0.013390344567596912, -0.059536777436733246, 0.04444413259625435, -0.06473233550786972, -0.03266296535730362, -0.010130748152732849, -0.01265908032655716, -0.07600044459104538, -0.03248683363199234, 0.029863525182008743, 0.0013414041604846716, 0.006890547927469015, -0.01935729943215847, -0.026337819173932076, 0.025879869237542152, 9.881160849545267e-07, -0.023567311465740204, 0.02319829724729061, 0.00043093811837024987, -0.0017402874073013663, 0.08678232133388519, -0.029855243861675262, 0.016800880432128906, 0.001526899286545813, 0.02999633550643921, -0.08606918901205063, 0.013198559172451496, 0.04544467478990555, 0.020898113027215004, 0.05156205594539642, -0.004253180231899023, -0.02869809977710247, 0.0010227534221485257, 0.005607184022665024, 0.027862029150128365, 0.08933982998132706, 0.009017004631459713, -0.0195524450391531, 0.04347933828830719, -0.06672810763120651, -0.02945360727608204, 0.040408968925476074, 0.010974084958434105, 0.004447254352271557, -0.03620193153619766, 0.030340353026986122, -0.002659052377566695, -0.06122496724128723, 0.05393103510141373, -0.029006442055106163, -0.012916545383632183, -0.011584495194256306, 0.009102923795580864, 0.006246400531381369, 0.008846303448081017, -0.016089539974927902, -0.0073731429874897, -0.024169132113456726, -0.0042805434204638, 0.0023264260962605476, -0.026227110996842384, 0.03746180236339569, 0.00488543463870883, 0.022349370643496513, 0.03889954090118408, 0.011482713744044304, 0.04241800680756569, 0.00212191347964108, -0.03493117168545723, -0.029727984219789505, -0.022039685398340225, -0.046956971287727356, -0.011384646408259869, 0.03916723281145096, 0.011515551246702671, 0.0228405874222517, -0.032875172793865204, 0.01596885547041893, 0.033312004059553146, 0.05298946797847748, -0.04819847643375397, -0.05626282840967178, 0.008634870871901512, -0.013066883198916912, -0.03440733253955841, 0.037519097328186035, 0.03596222773194313, -0.03600318357348442, -0.05128663778305054, -0.01305918488651514, 0.07151196897029877, 0.019273091107606888, -0.007648162078112364, 0.0068992068991065025, 0.02446838468313217, 0.036591339856386185, -0.002095673233270645, 0.0024581493344157934, 0.023660406470298767, 0.027796724811196327, 0.05972388759255409, 0.016005385667085648, 0.022681284695863724, 0.0026454972103238106, 0.05701952427625656, -0.015971053391695023, 0.026953961700201035, -0.049035295844078064, -0.0020067414734512568, 0.04269418492913246, 0.049903109669685364, 0.03954337164759636, -0.03828135505318642, 0.010979346930980682, 0.0012094442499801517, -0.02972956746816635, 0.05413465574383736, -0.02686883509159088, -0.03234024718403816, 0.000981666031293571, 0.031807128340005875, 0.056867338716983795, 0.03471800312399864, 0.005788974929600954, 0.015857314690947533, -0.027146998792886734, 0.040618278086185455, -0.032763250172138214, 0.05050859600305557, -0.03862269967794418, 0.04042282700538635, 0.016464142128825188, 0.0025507500395178795, 0.03330240771174431, 0.05818349868059158, -0.01425129733979702, -0.057084500789642334, 0.009085905738174915, -0.02313336357474327, 0.019344212487339973, 0.007786665577441454, 0.012931691482663155, -0.04804665222764015, -0.011013885028660297, -0.01797378808259964, 0.031197907403111458, -0.0017788260011002421, 0.08020022511482239, -0.06172172725200653, -0.05177948251366615, -0.041976720094680786, -0.07453268766403198, 0.040985286235809326, 0.03509758412837982, -0.01610458642244339, -0.012524934485554695, 0.006575424689799547, -0.05241852626204491, -0.005133397411555052, -0.013579064048826694, 0.012956235557794571, 0.011097685433924198, 0.04018161818385124, -0.012126483954489231, 0.038068365305662155, -0.026865804567933083, -0.010133619420230389, 0.023084640502929688, -0.039631061255931854, -0.010488390922546387, -0.014709081500768661, -0.009777411818504333, 0.01031353510916233, 0.0005911353509873152, -0.0239652618765831, 0.021965036168694496, -0.01107257604598999, -0.005521118175238371, 0.05115772411227226, 0.01860467717051506, -0.022953173145651817, -0.007644158322364092, 0.006771949585527182, 0.019577961415052414, -0.012410297058522701, 0.008557471446692944, -0.026369456201791763, 0.015087505802512169, -0.01855013705790043, -0.01028378214687109, -0.033208686858415604, 0.05352795496582985, 0.0036577375140041113, 0.003935290966182947, 0.021349390968680382, 0.009101415984332561, 0.028183095157146454, -0.01828794740140438, 0.03351975604891777, -0.010974379256367683, 0.01740751415491104, -0.02782156504690647, 0.016916507855057716, -0.08912897855043411, -0.004673901479691267, 0.022786220535635948, -0.024643290787935257, -0.028486045077443123, -0.010099279694259167, 0.0036674567963927984, -0.0032206871546804905, 0.008631046861410141, -0.018969710916280746, 0.04384302347898483, -0.01751319319009781, -0.010963011533021927, -0.0008159881690517068, -0.04872638359665871, -0.08182455599308014, 0.026555223390460014, -0.0287137720733881, -0.025682903826236725, -0.06913426518440247, 0.009577339515089989, -0.03565870225429535, 0.048622164875268936, 0.010595827363431454, 0.03539321571588516, -0.018706612288951874, 0.022433552891016006, -0.004579301457852125, -0.01031652744859457, -0.04715542495250702, 0.025221195071935654, -0.011755663901567459, 0.10524027794599533, 0.02100273035466671, 0.012309377081692219, -0.025387585163116455, 0.07976343482732773, -0.062150243669748306, -0.03690382093191147, 0.0105288689956069, -0.061421044170856476, 0.01762217842042446, -0.059568826109170914, 0.019817350432276726, 0.008217415772378445, -0.015156266279518604, -0.018973128870129585, 0.02071613445878029, -0.0302619356662035, -0.048188988119363785, 0.0215684175491333, -0.001454479992389679, -0.032482195645570755, -0.029037846252322197, -0.0471845418214798, -0.0007681396091356874, -0.004908934235572815, -0.02398836426436901, 0.004618291277438402, 0.015709562227129936, 0.02994021400809288, -0.027654079720377922, -0.010088584385812283, -0.05240809544920921, 0.0234639011323452, -0.029454035684466362, -0.010690632276237011, -0.009812911041080952, -0.0007424415671266615, -0.00633680634200573, -0.009720849804580212, 0.058596398681402206, -0.0079274857416749, -0.005770324729382992, 0.022258752956986427, 0.035319384187459946, -0.032929956912994385, -0.02246944233775139, 0.002499209251254797, 0.03619886189699173, -0.011630027554929256, 0.018585147336125374, -0.009954867884516716, -0.014960480853915215, 0.022959930822253227, -0.027636181563138962, -0.03181019052863121, 0.04414304345846176, 0.049134135246276855, 0.038823723793029785, -0.03582924231886864, -0.02101576328277588, -0.006086481269448996, -0.005484228488057852, 0.10930836200714111, 0.0621294341981411, -0.01091444306075573, 0.04770967364311218, 0.04126690328121185, 0.025168143212795258, 0.03483271971344948, 0.017393769696354866, -0.06570041179656982, 0.09682714939117432, -0.00023716788564343005, 0.033141639083623886, -0.0034854677505791187, 0.07216385751962662, -0.009331542998552322, 0.013034796342253685, -0.07879096269607544, 0.01520172506570816, 0.011273002251982689, 0.034394413232803345, -0.010702281259000301, -0.005030173342674971, 0.04607156291604042, -0.030154505744576454, 0.02341306023299694, 0.05739865079522133, -0.006024079862982035, -0.03331873565912247, 0.05894261226058006, 0.0009001492871902883, -0.07389921694993973, 0.0353008508682251, -0.07313589751720428, -0.02977561578154564, -0.11515944451093674, -0.03618321567773819, -0.06592367589473724, 0.01141283567994833, -0.023370293900370598, -0.0026944628916680813, 0.004336952697485685, 0.0006455208058468997, -0.011954781599342823, -0.009118428453803062, -0.04304295405745506, -0.06048303842544556, -0.04001211002469063, -0.07703427970409393, 0.04287004843354225, 0.030998246744275093, 0.04741855338215828, 0.027576683089137077, -0.009558865800499916, 0.013752204366028309, -0.03951117768883705, 0.0740327313542366, -0.023141812533140182, 0.034427717328071594, 0.07431498169898987, -0.02714380994439125, -0.009567458182573318, -0.08667481690645218, 0.03883368521928787, 0.07186917960643768, 0.013592857867479324, 0.029006488621234894, 0.05907663702964783, -0.025431189686059952, -0.027710214257240295, 0.009768862277269363, -0.012680312618613243, -0.02883111499249935, 0.0010549805592745543, 0.015062754042446613, -0.057548195123672485, 0.04962534457445145, -0.04235383868217468, 0.05622796341776848, -0.03679986670613289, -0.010601303540170193, 0.016793010756373405, 0.012448059394955635, 0.028507377952337265, 0.005540754646062851, 0.01461104303598404, -0.009526219218969345, 0.11368276178836823, 0.021454041823744774, 0.014139924198389053, -0.012328811921179295, 0.057246774435043335, -0.030381683260202408, -0.05029424652457237, -0.06882499158382416, -0.025311097502708435, 0.09213986992835999, -0.04567902907729149, -0.047524888068437576, -0.0018458109116181731, 0.013903874903917313, -0.05156557634472847, -0.030446311458945274, -0.0345272533595562, 0.013443876057863235, 0.019977988675236702, -0.027163032442331314, 0.01007151696830988, -0.025156643241643906, 0.04946744441986084, -0.06117532402276993, -0.06852102279663086, 0.009438494220376015, 0.01814449019730091, -0.03336422145366669, 0.02016555517911911, 0.002046438166871667, -0.018678119406104088, 0.015102125704288483, -0.015467353165149689, 0.022099778056144714, -0.036169059574604034, 0.05359223857522011, 0.04193452373147011, 0.007938031107187271, -0.04293441027402878, -0.044948760420084, -0.025986112654209137, 0.013370450586080551, -0.008614209480583668, 0.04152068495750427, -0.0028101629577577114, -0.053965695202350616, 0.010118951089680195, 0.03077513352036476, -0.03598451241850853, -0.02386358566582203, -0.03667743504047394, -0.08381825685501099, 0.0034938929602503777, 0.03530310466885567, -0.08589928597211838, -0.03748899698257446, 0.019167864695191383, -0.008239690214395523, -0.03639720380306244, 0.0049506621435284615, -0.004700168035924435, -0.01259265374392271, -0.0070579503662884235, -0.04100695624947548, -0.014190376736223698, 0.0453229658305645, -0.03244965523481369, -0.025585589930415154, 0.0009440131252631545, 0.008396564982831478, 0.0016290360363200307, -0.06191115081310272, 0.051642417907714844, 0.01843826286494732, -0.04285700246691704, -0.004412214737385511, 0.0657697319984436, 0.053702112287282944, 0.058748580515384674, 0.05972926691174507, -0.009261414408683777, -0.10194339603185654, -0.010128526017069817, -0.039118893444538116, 0.04416535049676895, -0.018336037173867226, -0.043880995362997055, 0.005453507415950298, -0.04376492276787758, 0.007600598502904177, 5.481696643983014e-05, -0.021760083734989166, -0.04626651853322983, -0.029532484710216522, -0.04394005984067917, 0.039215389639139175, 0.010222557000815868, 0.05312579870223999, -0.02857021987438202, 0.04016071557998657, 0.03394105285406113, 0.018518036231398582, -0.017098624259233475, -0.010559716261923313, 0.03564998134970665, -0.04003927856683731, -0.004442719742655754, 0.03250952064990997, -0.026701439172029495, -0.01542691607028246, -0.007914272136986256, 0.08204907178878784, 0.024135226383805275, 0.01948580890893936, -0.02956315502524376, -0.0469537153840065, -0.013731666840612888, -0.02176707237958908, 0.02419050596654415, 0.008480989374220371, 0.02651657722890377, 0.014055908657610416, 0.010397862643003464, 0.0036379238590598106, 0.025571061298251152, -0.021323760971426964, -0.005360533017665148, 0.04439389705657959, -0.006003227550536394, 0.035166896879673004, 0.007504953537136316, -0.02133684977889061, 0.020785022526979446, -0.011549479328095913, -0.017666177824139595, -0.00824604369699955, 0.01982199214398861, 0.00706278532743454, 0.04221246764063835, -0.02590571530163288, -0.0007857140735723078, -0.0019372595706954598, -0.017515096813440323, -0.012628365308046341, -0.01716991327702999, -0.05315911024808884, 0.0025138319469988346, 0.016175633296370506, -0.030835477635264397, 0.08334670215845108, -0.032536741346120834, 0.01783922128379345, -0.052073776721954346, -3.890851036391247e-33, -0.05241476744413376, 0.004289873875677586, 0.020855342969298363, 0.11276284605264664, 0.01403093058615923, 0.0520201101899147, -0.06370735913515091, 0.02558749169111252, 0.0032004560343921185, 0.08123450726270676, -0.05892517790198326, 0.04354095831513405, 0.027282778173685074, -0.009746914729475975, 0.057064175605773926, -0.036689382046461105, -0.025392862036824226, -0.03812606632709503, 0.032083407044410706, -0.07069848477840424, -0.029883624985814095, 0.00149747752584517, 0.03447664901614189, 0.10328235477209091, 0.024058032780885696, -0.03061467409133911, -0.013798054307699203, 0.0048169768415391445, 0.00975537858903408, -0.02050587721168995, 0.030787618830800056, 0.019685082137584686, -0.03203169256448746, -0.04073521867394447, 0.024122729897499084, -0.07939866185188293, 0.016872838139533997, -0.029828159138560295, -0.05494598671793938, 0.020667998120188713, -0.011649858206510544, 0.011886145919561386, -0.009264055639505386, -0.031116006895899773, -0.04815319553017616, 0.019694549962878227, -0.033116016536951065, 0.019679700955748558, 0.006417566444724798, -0.04641859233379364, -0.025340918451547623, 0.048760686069726944, -0.013944531790912151, 0.002990416483953595, 0.020760614424943924, 0.019950930029153824, 0.09032128751277924, 0.022689737379550934, 0.01497061550617218, 0.05408051237463951, -0.02052875980734825, 0.04125182703137398, -0.03567745164036751, 0.039238978177309036, 0.00862495880573988, -0.0726075991988182, 0.035634931176900864, -0.019315117970108986, 0.03292873874306679, 0.06593591719865799, 0.037385404109954834, -0.02193436771631241, -0.03386611491441727, -0.08985825628042221, 0.0322224423289299, -0.014967238530516624, 0.06793523579835892, 0.04298419877886772, 0.020333699882030487, 0.01567939668893814, 0.048653122037649155, 0.035032015293836594, 0.03969598934054375, -0.06704110652208328, 0.025014879181981087, 0.017147013917565346, -0.03346945717930794, 0.06542690843343735, -0.0014105698792263865, -0.030361393466591835, 0.0808028131723404, -0.02478645369410515, -0.0012589964317157865, -0.007509823422878981, -0.0036151183303445578, 0.012578066438436508, 0.00047754409024491906, -0.011813032440841198, -0.023801477625966072, 0.023476051166653633, -0.005763337016105652, 0.032426316291093826, -0.04915069416165352, -0.03847290575504303, 0.026441054418683052, 0.024002596735954285, 0.01701570674777031, 0.03524332121014595, 0.025468505918979645, -0.010382629930973053, 0.018996376544237137, -0.028757955878973007, 0.040963996201753616, 0.0910654291510582, -0.01949935033917427, 0.01594500057399273, -0.03591421619057655, -0.015439491719007492, -0.008096512407064438, -0.004820477683097124, 0.01296805590391159, -0.010920579545199871, -0.050035301595926285, 0.046796392649412155, -0.09898616373538971, -0.006212684791535139, 0.01683204062283039, 0.055589690804481506, -0.027200018987059593, 0.0017679303418844938, -0.01104326918721199, 0.055694326758384705, 1.7886739556161046e-07, -0.014965307898819447, 0.021970633417367935, -0.015002964064478874, 0.050400346517562866, -0.01478327251970768, -0.018318921327590942, -0.017989778891205788, -0.024781957268714905, 0.0017413552850484848, 0.04791582375764847, 0.008170478977262974, -0.016721086576581, 0.01606520637869835, -0.03160683438181877, -0.016301797702908516, -0.0475006103515625, 0.016972282901406288, -0.026870114728808403, 0.00484709395095706, 0.014360561966896057, -0.04890462011098862, 0.02377401851117611, 0.011009636335074902, 0.028559979051351547, -0.001148441107943654, -0.016825970262289047, 4.091224036528729e-05, 0.036166876554489136, -0.01571040041744709, -0.06147181987762451, -0.013430093415081501, 0.025941230356693268, 0.001392640988342464, 0.0668950155377388, 7.732850644970313e-05, -0.04516613110899925, 0.028993194922804832, -0.046909090131521225, -0.045117706060409546, -0.02164485864341259, 0.028367100283503532, -0.045620907098054886, -0.023568734526634216, 0.06081042438745499, -0.03543141484260559, 0.020539645105600357, -0.06953674554824829, -0.011762804351747036, 0.06226097047328949, 0.03567563742399216, 0.016005851328372955, 0.03727107122540474, 0.018016640096902847, -0.014941010624170303, -0.03438109531998634, -0.03075902909040451, 0.00035370441037230194, -0.01199424173682928, -0.02025594376027584, 0.03874213993549347, 0.035951755940914154, -0.0025947990361601114, -0.023746559396386147, 0.05966496840119362, -0.07241148501634598, 0.05072249099612236, 0.05369381606578827, 5.670073913419336e-35, 0.010651720687747002, -0.023965314030647278, -0.05386500433087349, 0.024104883894324303, -0.04923202842473984, -0.02927374839782715, 0.009793512523174286, -0.01584753207862377, 0.00772304879501462, -0.02102590911090374, -0.029913268983364105]]\n",
            "[ScoredPoint(id='76d03302-b5c7-4762-83e2-aa5473a1715f', version=0, score=0.1086374805267335, payload={'chunk': 1, 'text': \"PORT OF LOADING : KLAIPEDA, LITHUANIA\\nPORT OF DISCHARGE: FOYNES, IRELAND\\n\\nBILL OF LADING : 5'476.100 METRIC TONS\\nBILL OF LADING NO. 1\\nBILL OF LADING DATE: 28 March 2018\\n\\nORIGIN: LITHUANIA\\n\\nUnless otherwise provided in the sales contract or agreed to in writing, the amount IRENEFICIARY'S BANK DETAILS:\\n\\nshown on this invoice is to be pald on or before due date by Telegraphic Transfer of | CREDIT EUROPE BANK N.V\\n\\nimmediately available funds. “\\n\\ninterest will be charged for any amounts not paid within the term of this invoice. | SWIFT: FBHLNLZAXXX\\n\\nThis invoice is subject to the terms and conditions |KEYTRADE AG EUR ACCOUNT: 07813 17 614\\n\\nset forth in KEYTRADE AG's sales contract. IBAN NO: NL45 FBHL 0781 3176 14\\n\\nmeray te ACY\\nZURCHEROTRA 3 Ari\\n'\\n\\nwit, oy\\nHoo9e¢\\n\\nee ms\\nVAT tia ae NLELLOS\", 'page number': 'Page1'}, vector=None), ScoredPoint(id='e7189f4c-de38-4be7-a131-da348fbb8350', version=0, score=0.06713823832611242, payload={'chunk': 0, 'text': \"ij\\n\\n@ KEYTRADE ORIGINAL\\n\\nBuyer:\\nGOULDING CHEMICALS LTD.,\\nCENTRE PARK ROAD,\\n\\nMARINA, CORK\\nSWITZERLAND IRELAND\\nVAT NO: NL822947778B01 VAT NO: IE8Z56076R\\n\\n \\n\\nCOMMERCIAL INVOICE NO: 0000448 DATE: 28 March 2018\\nNO. NUMBER CODE NAME NO TERMS\\nCELINA\\n201710299 FREE\\n\\nDescription of Goods QUANTITY UNIT PRICE AMOUNT\\n\\n(Metric Tons)! (EUR Per MT) (EUR)\\n\\n  \\n \\n\\n    \\n\\nGRANULAR CALCIUM AMMONIUM NITRATE (CAN) 27 % IN BULK\\n\\n5'476.100 183.00 4'002'126.30\\nCIF FOYNES\\n\\nTOTAL AMOUNT CIF FOYNES, IRELAND, EUR 4'002'126.30\\n\\nVAT ZERO RATE IN CONFORMITY WITH ARTICLE 141 EC DIRECTIVE 2006/112\\n\\nTOTAL VAT RATE VAT AMOUNT EUR TOTAL oe\\n\\nPAYMENT: BY TT WITHIN 90 DAYS FROM BIL DATE (28.03.2018), I.E. LATEST BY 26 JUNE 2018\\n\\n \\n\\nShipment details:\\n\\nPORT OF LOADING : KLAIPEDA, LITHUANIA\\nPORT OF DISCHARGE: FOYNES, IRELAND\\n\\nBILL OF LADING : 5'476.100 METRIC TONS\\nBILL OF LADING NO. 1\\nBILL OF LADING DATE: 28 March 2018\\n\\nORIGIN: LITHUANIA\", 'page number': 'Page1'}, vector=None)]\n",
            "[[\"PORT OF LOADING : KLAIPEDA, LITHUANIA\\nPORT OF DISCHARGE: FOYNES, IRELAND\\n\\nBILL OF LADING : 5'476.100 METRIC TONS\\nBILL OF LADING NO. 1\\nBILL OF LADING DATE: 28 March 2018\\n\\nORIGIN: LITHUANIA\\n\\nUnless otherwise provided in the sales contract or agreed to in writing, the amount IRENEFICIARY'S BANK DETAILS:\\n\\nshown on this invoice is to be pald on or before due date by Telegraphic Transfer of | CREDIT EUROPE BANK N.V\\n\\nimmediately available funds. “\\n\\ninterest will be charged for any amounts not paid within the term of this invoice. | SWIFT: FBHLNLZAXXX\\n\\nThis invoice is subject to the terms and conditions |KEYTRADE AG EUR ACCOUNT: 07813 17 614\\n\\nset forth in KEYTRADE AG's sales contract. IBAN NO: NL45 FBHL 0781 3176 14\\n\\nmeray te ACY\\nZURCHEROTRA 3 Ari\\n'\\n\\nwit, oy\\nHoo9e¢\\n\\nee ms\\nVAT tia ae NLELLOS\", 'Page1'], [\"ij\\n\\n@ KEYTRADE ORIGINAL\\n\\nBuyer:\\nGOULDING CHEMICALS LTD.,\\nCENTRE PARK ROAD,\\n\\nMARINA, CORK\\nSWITZERLAND IRELAND\\nVAT NO: NL822947778B01 VAT NO: IE8Z56076R\\n\\n \\n\\nCOMMERCIAL INVOICE NO: 0000448 DATE: 28 March 2018\\nNO. NUMBER CODE NAME NO TERMS\\nCELINA\\n201710299 FREE\\n\\nDescription of Goods QUANTITY UNIT PRICE AMOUNT\\n\\n(Metric Tons)! (EUR Per MT) (EUR)\\n\\n  \\n \\n\\n    \\n\\nGRANULAR CALCIUM AMMONIUM NITRATE (CAN) 27 % IN BULK\\n\\n5'476.100 183.00 4'002'126.30\\nCIF FOYNES\\n\\nTOTAL AMOUNT CIF FOYNES, IRELAND, EUR 4'002'126.30\\n\\nVAT ZERO RATE IN CONFORMITY WITH ARTICLE 141 EC DIRECTIVE 2006/112\\n\\nTOTAL VAT RATE VAT AMOUNT EUR TOTAL oe\\n\\nPAYMENT: BY TT WITHIN 90 DAYS FROM BIL DATE (28.03.2018), I.E. LATEST BY 26 JUNE 2018\\n\\n \\n\\nShipment details:\\n\\nPORT OF LOADING : KLAIPEDA, LITHUANIA\\nPORT OF DISCHARGE: FOYNES, IRELAND\\n\\nBILL OF LADING : 5'476.100 METRIC TONS\\nBILL OF LADING NO. 1\\nBILL OF LADING DATE: 28 March 2018\\n\\nORIGIN: LITHUANIA\", 'Page1']]\n",
            "[\"PORT OF LOADING : KLAIPEDA, LITHUANIA\\nPORT OF DISCHARGE: FOYNES, IRELAND\\n\\nBILL OF LADING : 5'476.100 METRIC TONS\\nBILL OF LADING NO. 1\\nBILL OF LADING DATE: 28 March 2018\\n\\nORIGIN: LITHUANIA\\n\\nUnless otherwise provided in the sales contract or agreed to in writing, the amount IRENEFICIARY'S BANK DETAILS:\\n\\nshown on this invoice is to be pald on or before due date by Telegraphic Transfer of | CREDIT EUROPE BANK N.V\\n\\nimmediately available funds. “\\n\\ninterest will be charged for any amounts not paid within the term of this invoice. | SWIFT: FBHLNLZAXXX\\n\\nThis invoice is subject to the terms and conditions |KEYTRADE AG EUR ACCOUNT: 07813 17 614\\n\\nset forth in KEYTRADE AG's sales contract. IBAN NO: NL45 FBHL 0781 3176 14\\n\\nmeray te ACY\\nZURCHEROTRA 3 Ari\\n'\\n\\nwit, oy\\nHoo9e¢\\n\\nee ms\\nVAT tia ae NLELLOS\", 'Page1']\n",
            "[\"ij\\n\\n@ KEYTRADE ORIGINAL\\n\\nBuyer:\\nGOULDING CHEMICALS LTD.,\\nCENTRE PARK ROAD,\\n\\nMARINA, CORK\\nSWITZERLAND IRELAND\\nVAT NO: NL822947778B01 VAT NO: IE8Z56076R\\n\\n \\n\\nCOMMERCIAL INVOICE NO: 0000448 DATE: 28 March 2018\\nNO. NUMBER CODE NAME NO TERMS\\nCELINA\\n201710299 FREE\\n\\nDescription of Goods QUANTITY UNIT PRICE AMOUNT\\n\\n(Metric Tons)! (EUR Per MT) (EUR)\\n\\n  \\n \\n\\n    \\n\\nGRANULAR CALCIUM AMMONIUM NITRATE (CAN) 27 % IN BULK\\n\\n5'476.100 183.00 4'002'126.30\\nCIF FOYNES\\n\\nTOTAL AMOUNT CIF FOYNES, IRELAND, EUR 4'002'126.30\\n\\nVAT ZERO RATE IN CONFORMITY WITH ARTICLE 141 EC DIRECTIVE 2006/112\\n\\nTOTAL VAT RATE VAT AMOUNT EUR TOTAL oe\\n\\nPAYMENT: BY TT WITHIN 90 DAYS FROM BIL DATE (28.03.2018), I.E. LATEST BY 26 JUNE 2018\\n\\n \\n\\nShipment details:\\n\\nPORT OF LOADING : KLAIPEDA, LITHUANIA\\nPORT OF DISCHARGE: FOYNES, IRELAND\\n\\nBILL OF LADING : 5'476.100 METRIC TONS\\nBILL OF LADING NO. 1\\nBILL OF LADING DATE: 28 March 2018\\n\\nORIGIN: LITHUANIA\", 'Page1']\n"
          ]
        }
      ]
    },
    {
      "cell_type": "code",
      "source": [
        "response = predict_function(content,model, content_type=None)"
      ],
      "metadata": {
        "colab": {
          "base_uri": "https://localhost:8080/",
          "height": 416,
          "referenced_widgets": [
            "10fceaa841884a719d12da641070372f",
            "b345eba07b3d477987bc57f51dde8c06",
            "d580b67ed1ac40e39fdb6d208a90d660",
            "27fcbf56a5224e86b171fd45657b8c17",
            "4309906dca8c464dbec8e64edcea7637",
            "08f0ec80e34849e8a007e2554d5f3218",
            "4e45a4e0b6b14c3dbbfdf7aeae578a1f",
            "95495bce0ed24326ace5c2c3b9fe79e9",
            "b6bfcf1d68f3449184b63fb98dd81f33",
            "efe92b3c2dd94fceb3f15de9849fff28",
            "7edbaef5b1c544879a0f47d1bb5fc18b"
          ]
        },
        "id": "Xz8Ldjk19qPB",
        "outputId": "96d4e6f8-b124-4de5-9225-d05c18c816a2"
      },
      "execution_count": null,
      "outputs": [
        {
          "output_type": "stream",
          "name": "stdout",
          "text": [
            "1 1\n",
            "Will interest be charged if the amount is not paid within due date?\n",
            "collections=[]\n"
          ]
        },
        {
          "output_type": "stream",
          "name": "stderr",
          "text": [
            "IOPub data rate exceeded.\n",
            "The notebook server will temporarily stop sending output\n",
            "to the client in order to avoid crashing it.\n",
            "To change this limit, set the config variable\n",
            "`--NotebookApp.iopub_data_rate_limit`.\n",
            "\n",
            "Current values:\n",
            "NotebookApp.iopub_data_rate_limit=1000000.0 (bytes/sec)\n",
            "NotebookApp.rate_limit_window=3.0 (secs)\n",
            "\n"
          ]
        },
        {
          "output_type": "display_data",
          "data": {
            "text/plain": [
              "0it [00:00, ?it/s]"
            ],
            "application/vnd.jupyter.widget-view+json": {
              "version_major": 2,
              "version_minor": 0,
              "model_id": "10fceaa841884a719d12da641070372f"
            }
          },
          "metadata": {}
        },
        {
          "output_type": "stream",
          "name": "stdout",
          "text": [
            "Vector count in collection: 2\n",
            "Vector count in collection: 2\n",
            "[[0.02206660993397236, -0.0353192463517189, 0.011373501271009445, -0.027146635577082634, -0.002202652394771576, 0.03277724236249924, 0.05897736921906471, -0.008239415474236012, 0.0007316850824281573, 0.03801165148615837, 0.043808307498693466, 0.026091687381267548, 0.010354757308959961, -0.03132372722029686, -0.00912400707602501, 0.05384654924273491, 0.024481190368533134, -0.010559437796473503, 0.03301302343606949, -0.013390344567596912, -0.059536777436733246, 0.04444413259625435, -0.06473233550786972, -0.03266296535730362, -0.010130748152732849, -0.01265908032655716, -0.07600044459104538, -0.03248683363199234, 0.029863525182008743, 0.0013414041604846716, 0.006890547927469015, -0.01935729943215847, -0.026337819173932076, 0.025879869237542152, 9.881160849545267e-07, -0.023567311465740204, 0.02319829724729061, 0.00043093811837024987, -0.0017402874073013663, 0.08678232133388519, -0.029855243861675262, 0.016800880432128906, 0.001526899286545813, 0.02999633550643921, -0.08606918901205063, 0.013198559172451496, 0.04544467478990555, 0.020898113027215004, 0.05156205594539642, -0.004253180231899023, -0.02869809977710247, 0.0010227534221485257, 0.005607184022665024, 0.027862029150128365, 0.08933982998132706, 0.009017004631459713, -0.0195524450391531, 0.04347933828830719, -0.06672810763120651, -0.02945360727608204, 0.040408968925476074, 0.010974084958434105, 0.004447254352271557, -0.03620193153619766, 0.030340353026986122, -0.002659052377566695, -0.06122496724128723, 0.05393103510141373, -0.029006442055106163, -0.012916545383632183, -0.011584495194256306, 0.009102923795580864, 0.006246400531381369, 0.008846303448081017, -0.016089539974927902, -0.0073731429874897, -0.024169132113456726, -0.0042805434204638, 0.0023264260962605476, -0.026227110996842384, 0.03746180236339569, 0.00488543463870883, 0.022349370643496513, 0.03889954090118408, 0.011482713744044304, 0.04241800680756569, 0.00212191347964108, -0.03493117168545723, -0.029727984219789505, -0.022039685398340225, -0.046956971287727356, -0.011384646408259869, 0.03916723281145096, 0.011515551246702671, 0.0228405874222517, -0.032875172793865204, 0.01596885547041893, 0.033312004059553146, 0.05298946797847748, -0.04819847643375397, -0.05626282840967178, 0.008634870871901512, -0.013066883198916912, -0.03440733253955841, 0.037519097328186035, 0.03596222773194313, -0.03600318357348442, -0.05128663778305054, -0.01305918488651514, 0.07151196897029877, 0.019273091107606888, -0.007648162078112364, 0.0068992068991065025, 0.02446838468313217, 0.036591339856386185, -0.002095673233270645, 0.0024581493344157934, 0.023660406470298767, 0.027796724811196327, 0.05972388759255409, 0.016005385667085648, 0.022681284695863724, 0.0026454972103238106, 0.05701952427625656, -0.015971053391695023, 0.026953961700201035, -0.049035295844078064, -0.0020067414734512568, 0.04269418492913246, 0.049903109669685364, 0.03954337164759636, -0.03828135505318642, 0.010979346930980682, 0.0012094442499801517, -0.02972956746816635, 0.05413465574383736, -0.02686883509159088, -0.03234024718403816, 0.000981666031293571, 0.031807128340005875, 0.056867338716983795, 0.03471800312399864, 0.005788974929600954, 0.015857314690947533, -0.027146998792886734, 0.040618278086185455, -0.032763250172138214, 0.05050859600305557, -0.03862269967794418, 0.04042282700538635, 0.016464142128825188, 0.0025507500395178795, 0.03330240771174431, 0.05818349868059158, -0.01425129733979702, -0.057084500789642334, 0.009085905738174915, -0.02313336357474327, 0.019344212487339973, 0.007786665577441454, 0.012931691482663155, -0.04804665222764015, -0.011013885028660297, -0.01797378808259964, 0.031197907403111458, -0.0017788260011002421, 0.08020022511482239, -0.06172172725200653, -0.05177948251366615, -0.041976720094680786, -0.07453268766403198, 0.040985286235809326, 0.03509758412837982, -0.01610458642244339, -0.012524934485554695, 0.006575424689799547, -0.05241852626204491, -0.005133397411555052, -0.013579064048826694, 0.012956235557794571, 0.011097685433924198, 0.04018161818385124, -0.012126483954489231, 0.038068365305662155, -0.026865804567933083, -0.010133619420230389, 0.023084640502929688, -0.039631061255931854, -0.010488390922546387, -0.014709081500768661, -0.009777411818504333, 0.01031353510916233, 0.0005911353509873152, -0.0239652618765831, 0.021965036168694496, -0.01107257604598999, -0.005521118175238371, 0.05115772411227226, 0.01860467717051506, -0.022953173145651817, -0.007644158322364092, 0.006771949585527182, 0.019577961415052414, -0.012410297058522701, 0.008557471446692944, -0.026369456201791763, 0.015087505802512169, -0.01855013705790043, -0.01028378214687109, -0.033208686858415604, 0.05352795496582985, 0.0036577375140041113, 0.003935290966182947, 0.021349390968680382, 0.009101415984332561, 0.028183095157146454, -0.01828794740140438, 0.03351975604891777, -0.010974379256367683, 0.01740751415491104, -0.02782156504690647, 0.016916507855057716, -0.08912897855043411, -0.004673901479691267, 0.022786220535635948, -0.024643290787935257, -0.028486045077443123, -0.010099279694259167, 0.0036674567963927984, -0.0032206871546804905, 0.008631046861410141, -0.018969710916280746, 0.04384302347898483, -0.01751319319009781, -0.010963011533021927, -0.0008159881690517068, -0.04872638359665871, -0.08182455599308014, 0.026555223390460014, -0.0287137720733881, -0.025682903826236725, -0.06913426518440247, 0.009577339515089989, -0.03565870225429535, 0.048622164875268936, 0.010595827363431454, 0.03539321571588516, -0.018706612288951874, 0.022433552891016006, -0.004579301457852125, -0.01031652744859457, -0.04715542495250702, 0.025221195071935654, -0.011755663901567459, 0.10524027794599533, 0.02100273035466671, 0.012309377081692219, -0.025387585163116455, 0.07976343482732773, -0.062150243669748306, -0.03690382093191147, 0.0105288689956069, -0.061421044170856476, 0.01762217842042446, -0.059568826109170914, 0.019817350432276726, 0.008217415772378445, -0.015156266279518604, -0.018973128870129585, 0.02071613445878029, -0.0302619356662035, -0.048188988119363785, 0.0215684175491333, -0.001454479992389679, -0.032482195645570755, -0.029037846252322197, -0.0471845418214798, -0.0007681396091356874, -0.004908934235572815, -0.02398836426436901, 0.004618291277438402, 0.015709562227129936, 0.02994021400809288, -0.027654079720377922, -0.010088584385812283, -0.05240809544920921, 0.0234639011323452, -0.029454035684466362, -0.010690632276237011, -0.009812911041080952, -0.0007424415671266615, -0.00633680634200573, -0.009720849804580212, 0.058596398681402206, -0.0079274857416749, -0.005770324729382992, 0.022258752956986427, 0.035319384187459946, -0.032929956912994385, -0.02246944233775139, 0.002499209251254797, 0.03619886189699173, -0.011630027554929256, 0.018585147336125374, -0.009954867884516716, -0.014960480853915215, 0.022959930822253227, -0.027636181563138962, -0.03181019052863121, 0.04414304345846176, 0.049134135246276855, 0.038823723793029785, -0.03582924231886864, -0.02101576328277588, -0.006086481269448996, -0.005484228488057852, 0.10930836200714111, 0.0621294341981411, -0.01091444306075573, 0.04770967364311218, 0.04126690328121185, 0.025168143212795258, 0.03483271971344948, 0.017393769696354866, -0.06570041179656982, 0.09682714939117432, -0.00023716788564343005, 0.033141639083623886, -0.0034854677505791187, 0.07216385751962662, -0.009331542998552322, 0.013034796342253685, -0.07879096269607544, 0.01520172506570816, 0.011273002251982689, 0.034394413232803345, -0.010702281259000301, -0.005030173342674971, 0.04607156291604042, -0.030154505744576454, 0.02341306023299694, 0.05739865079522133, -0.006024079862982035, -0.03331873565912247, 0.05894261226058006, 0.0009001492871902883, -0.07389921694993973, 0.0353008508682251, -0.07313589751720428, -0.02977561578154564, -0.11515944451093674, -0.03618321567773819, -0.06592367589473724, 0.01141283567994833, -0.023370293900370598, -0.0026944628916680813, 0.004336952697485685, 0.0006455208058468997, -0.011954781599342823, -0.009118428453803062, -0.04304295405745506, -0.06048303842544556, -0.04001211002469063, -0.07703427970409393, 0.04287004843354225, 0.030998246744275093, 0.04741855338215828, 0.027576683089137077, -0.009558865800499916, 0.013752204366028309, -0.03951117768883705, 0.0740327313542366, -0.023141812533140182, 0.034427717328071594, 0.07431498169898987, -0.02714380994439125, -0.009567458182573318, -0.08667481690645218, 0.03883368521928787, 0.07186917960643768, 0.013592857867479324, 0.029006488621234894, 0.05907663702964783, -0.025431189686059952, -0.027710214257240295, 0.009768862277269363, -0.012680312618613243, -0.02883111499249935, 0.0010549805592745543, 0.015062754042446613, -0.057548195123672485, 0.04962534457445145, -0.04235383868217468, 0.05622796341776848, -0.03679986670613289, -0.010601303540170193, 0.016793010756373405, 0.012448059394955635, 0.028507377952337265, 0.005540754646062851, 0.01461104303598404, -0.009526219218969345, 0.11368276178836823, 0.021454041823744774, 0.014139924198389053, -0.012328811921179295, 0.057246774435043335, -0.030381683260202408, -0.05029424652457237, -0.06882499158382416, -0.025311097502708435, 0.09213986992835999, -0.04567902907729149, -0.047524888068437576, -0.0018458109116181731, 0.013903874903917313, -0.05156557634472847, -0.030446311458945274, -0.0345272533595562, 0.013443876057863235, 0.019977988675236702, -0.027163032442331314, 0.01007151696830988, -0.025156643241643906, 0.04946744441986084, -0.06117532402276993, -0.06852102279663086, 0.009438494220376015, 0.01814449019730091, -0.03336422145366669, 0.02016555517911911, 0.002046438166871667, -0.018678119406104088, 0.015102125704288483, -0.015467353165149689, 0.022099778056144714, -0.036169059574604034, 0.05359223857522011, 0.04193452373147011, 0.007938031107187271, -0.04293441027402878, -0.044948760420084, -0.025986112654209137, 0.013370450586080551, -0.008614209480583668, 0.04152068495750427, -0.0028101629577577114, -0.053965695202350616, 0.010118951089680195, 0.03077513352036476, -0.03598451241850853, -0.02386358566582203, -0.03667743504047394, -0.08381825685501099, 0.0034938929602503777, 0.03530310466885567, -0.08589928597211838, -0.03748899698257446, 0.019167864695191383, -0.008239690214395523, -0.03639720380306244, 0.0049506621435284615, -0.004700168035924435, -0.01259265374392271, -0.0070579503662884235, -0.04100695624947548, -0.014190376736223698, 0.0453229658305645, -0.03244965523481369, -0.025585589930415154, 0.0009440131252631545, 0.008396564982831478, 0.0016290360363200307, -0.06191115081310272, 0.051642417907714844, 0.01843826286494732, -0.04285700246691704, -0.004412214737385511, 0.0657697319984436, 0.053702112287282944, 0.058748580515384674, 0.05972926691174507, -0.009261414408683777, -0.10194339603185654, -0.010128526017069817, -0.039118893444538116, 0.04416535049676895, -0.018336037173867226, -0.043880995362997055, 0.005453507415950298, -0.04376492276787758, 0.007600598502904177, 5.481696643983014e-05, -0.021760083734989166, -0.04626651853322983, -0.029532484710216522, -0.04394005984067917, 0.039215389639139175, 0.010222557000815868, 0.05312579870223999, -0.02857021987438202, 0.04016071557998657, 0.03394105285406113, 0.018518036231398582, -0.017098624259233475, -0.010559716261923313, 0.03564998134970665, -0.04003927856683731, -0.004442719742655754, 0.03250952064990997, -0.026701439172029495, -0.01542691607028246, -0.007914272136986256, 0.08204907178878784, 0.024135226383805275, 0.01948580890893936, -0.02956315502524376, -0.0469537153840065, -0.013731666840612888, -0.02176707237958908, 0.02419050596654415, 0.008480989374220371, 0.02651657722890377, 0.014055908657610416, 0.010397862643003464, 0.0036379238590598106, 0.025571061298251152, -0.021323760971426964, -0.005360533017665148, 0.04439389705657959, -0.006003227550536394, 0.035166896879673004, 0.007504953537136316, -0.02133684977889061, 0.020785022526979446, -0.011549479328095913, -0.017666177824139595, -0.00824604369699955, 0.01982199214398861, 0.00706278532743454, 0.04221246764063835, -0.02590571530163288, -0.0007857140735723078, -0.0019372595706954598, -0.017515096813440323, -0.012628365308046341, -0.01716991327702999, -0.05315911024808884, 0.0025138319469988346, 0.016175633296370506, -0.030835477635264397, 0.08334670215845108, -0.032536741346120834, 0.01783922128379345, -0.052073776721954346, -3.890851036391247e-33, -0.05241476744413376, 0.004289873875677586, 0.020855342969298363, 0.11276284605264664, 0.01403093058615923, 0.0520201101899147, -0.06370735913515091, 0.02558749169111252, 0.0032004560343921185, 0.08123450726270676, -0.05892517790198326, 0.04354095831513405, 0.027282778173685074, -0.009746914729475975, 0.057064175605773926, -0.036689382046461105, -0.025392862036824226, -0.03812606632709503, 0.032083407044410706, -0.07069848477840424, -0.029883624985814095, 0.00149747752584517, 0.03447664901614189, 0.10328235477209091, 0.024058032780885696, -0.03061467409133911, -0.013798054307699203, 0.0048169768415391445, 0.00975537858903408, -0.02050587721168995, 0.030787618830800056, 0.019685082137584686, -0.03203169256448746, -0.04073521867394447, 0.024122729897499084, -0.07939866185188293, 0.016872838139533997, -0.029828159138560295, -0.05494598671793938, 0.020667998120188713, -0.011649858206510544, 0.011886145919561386, -0.009264055639505386, -0.031116006895899773, -0.04815319553017616, 0.019694549962878227, -0.033116016536951065, 0.019679700955748558, 0.006417566444724798, -0.04641859233379364, -0.025340918451547623, 0.048760686069726944, -0.013944531790912151, 0.002990416483953595, 0.020760614424943924, 0.019950930029153824, 0.09032128751277924, 0.022689737379550934, 0.01497061550617218, 0.05408051237463951, -0.02052875980734825, 0.04125182703137398, -0.03567745164036751, 0.039238978177309036, 0.00862495880573988, -0.0726075991988182, 0.035634931176900864, -0.019315117970108986, 0.03292873874306679, 0.06593591719865799, 0.037385404109954834, -0.02193436771631241, -0.03386611491441727, -0.08985825628042221, 0.0322224423289299, -0.014967238530516624, 0.06793523579835892, 0.04298419877886772, 0.020333699882030487, 0.01567939668893814, 0.048653122037649155, 0.035032015293836594, 0.03969598934054375, -0.06704110652208328, 0.025014879181981087, 0.017147013917565346, -0.03346945717930794, 0.06542690843343735, -0.0014105698792263865, -0.030361393466591835, 0.0808028131723404, -0.02478645369410515, -0.0012589964317157865, -0.007509823422878981, -0.0036151183303445578, 0.012578066438436508, 0.00047754409024491906, -0.011813032440841198, -0.023801477625966072, 0.023476051166653633, -0.005763337016105652, 0.032426316291093826, -0.04915069416165352, -0.03847290575504303, 0.026441054418683052, 0.024002596735954285, 0.01701570674777031, 0.03524332121014595, 0.025468505918979645, -0.010382629930973053, 0.018996376544237137, -0.028757955878973007, 0.040963996201753616, 0.0910654291510582, -0.01949935033917427, 0.01594500057399273, -0.03591421619057655, -0.015439491719007492, -0.008096512407064438, -0.004820477683097124, 0.01296805590391159, -0.010920579545199871, -0.050035301595926285, 0.046796392649412155, -0.09898616373538971, -0.006212684791535139, 0.01683204062283039, 0.055589690804481506, -0.027200018987059593, 0.0017679303418844938, -0.01104326918721199, 0.055694326758384705, 1.7886739556161046e-07, -0.014965307898819447, 0.021970633417367935, -0.015002964064478874, 0.050400346517562866, -0.01478327251970768, -0.018318921327590942, -0.017989778891205788, -0.024781957268714905, 0.0017413552850484848, 0.04791582375764847, 0.008170478977262974, -0.016721086576581, 0.01606520637869835, -0.03160683438181877, -0.016301797702908516, -0.0475006103515625, 0.016972282901406288, -0.026870114728808403, 0.00484709395095706, 0.014360561966896057, -0.04890462011098862, 0.02377401851117611, 0.011009636335074902, 0.028559979051351547, -0.001148441107943654, -0.016825970262289047, 4.091224036528729e-05, 0.036166876554489136, -0.01571040041744709, -0.06147181987762451, -0.013430093415081501, 0.025941230356693268, 0.001392640988342464, 0.0668950155377388, 7.732850644970313e-05, -0.04516613110899925, 0.028993194922804832, -0.046909090131521225, -0.045117706060409546, -0.02164485864341259, 0.028367100283503532, -0.045620907098054886, -0.023568734526634216, 0.06081042438745499, -0.03543141484260559, 0.020539645105600357, -0.06953674554824829, -0.011762804351747036, 0.06226097047328949, 0.03567563742399216, 0.016005851328372955, 0.03727107122540474, 0.018016640096902847, -0.014941010624170303, -0.03438109531998634, -0.03075902909040451, 0.00035370441037230194, -0.01199424173682928, -0.02025594376027584, 0.03874213993549347, 0.035951755940914154, -0.0025947990361601114, -0.023746559396386147, 0.05966496840119362, -0.07241148501634598, 0.05072249099612236, 0.05369381606578827, 5.670073913419336e-35, 0.010651720687747002, -0.023965314030647278, -0.05386500433087349, 0.024104883894324303, -0.04923202842473984, -0.02927374839782715, 0.009793512523174286, -0.01584753207862377, 0.00772304879501462, -0.02102590911090374, -0.029913268983364105]]\n",
            "[ScoredPoint(id='7c6b85ba-aa49-47f5-a11a-6bb9e274ffe2', version=0, score=0.1086374805267335, payload={'chunk': 1, 'text': \"PORT OF LOADING : KLAIPEDA, LITHUANIA\\nPORT OF DISCHARGE: FOYNES, IRELAND\\n\\nBILL OF LADING : 5'476.100 METRIC TONS\\nBILL OF LADING NO. 1\\nBILL OF LADING DATE: 28 March 2018\\n\\nORIGIN: LITHUANIA\\n\\nUnless otherwise provided in the sales contract or agreed to in writing, the amount IRENEFICIARY'S BANK DETAILS:\\n\\nshown on this invoice is to be pald on or before due date by Telegraphic Transfer of | CREDIT EUROPE BANK N.V\\n\\nimmediately available funds. “\\n\\ninterest will be charged for any amounts not paid within the term of this invoice. | SWIFT: FBHLNLZAXXX\\n\\nThis invoice is subject to the terms and conditions |KEYTRADE AG EUR ACCOUNT: 07813 17 614\\n\\nset forth in KEYTRADE AG's sales contract. IBAN NO: NL45 FBHL 0781 3176 14\\n\\nmeray te ACY\\nZURCHEROTRA 3 Ari\\n'\\n\\nwit, oy\\nHoo9e¢\\n\\nee ms\\nVAT tia ae NLELLOS\", 'page number': 'Page1'}, vector=None), ScoredPoint(id='3c055439-493d-4013-a809-d18f6584256c', version=0, score=0.06713823832611242, payload={'chunk': 0, 'text': \"ij\\n\\n@ KEYTRADE ORIGINAL\\n\\nBuyer:\\nGOULDING CHEMICALS LTD.,\\nCENTRE PARK ROAD,\\n\\nMARINA, CORK\\nSWITZERLAND IRELAND\\nVAT NO: NL822947778B01 VAT NO: IE8Z56076R\\n\\n \\n\\nCOMMERCIAL INVOICE NO: 0000448 DATE: 28 March 2018\\nNO. NUMBER CODE NAME NO TERMS\\nCELINA\\n201710299 FREE\\n\\nDescription of Goods QUANTITY UNIT PRICE AMOUNT\\n\\n(Metric Tons)! (EUR Per MT) (EUR)\\n\\n  \\n \\n\\n    \\n\\nGRANULAR CALCIUM AMMONIUM NITRATE (CAN) 27 % IN BULK\\n\\n5'476.100 183.00 4'002'126.30\\nCIF FOYNES\\n\\nTOTAL AMOUNT CIF FOYNES, IRELAND, EUR 4'002'126.30\\n\\nVAT ZERO RATE IN CONFORMITY WITH ARTICLE 141 EC DIRECTIVE 2006/112\\n\\nTOTAL VAT RATE VAT AMOUNT EUR TOTAL oe\\n\\nPAYMENT: BY TT WITHIN 90 DAYS FROM BIL DATE (28.03.2018), I.E. LATEST BY 26 JUNE 2018\\n\\n \\n\\nShipment details:\\n\\nPORT OF LOADING : KLAIPEDA, LITHUANIA\\nPORT OF DISCHARGE: FOYNES, IRELAND\\n\\nBILL OF LADING : 5'476.100 METRIC TONS\\nBILL OF LADING NO. 1\\nBILL OF LADING DATE: 28 March 2018\\n\\nORIGIN: LITHUANIA\", 'page number': 'Page1'}, vector=None)]\n",
            "[[\"PORT OF LOADING : KLAIPEDA, LITHUANIA\\nPORT OF DISCHARGE: FOYNES, IRELAND\\n\\nBILL OF LADING : 5'476.100 METRIC TONS\\nBILL OF LADING NO. 1\\nBILL OF LADING DATE: 28 March 2018\\n\\nORIGIN: LITHUANIA\\n\\nUnless otherwise provided in the sales contract or agreed to in writing, the amount IRENEFICIARY'S BANK DETAILS:\\n\\nshown on this invoice is to be pald on or before due date by Telegraphic Transfer of | CREDIT EUROPE BANK N.V\\n\\nimmediately available funds. “\\n\\ninterest will be charged for any amounts not paid within the term of this invoice. | SWIFT: FBHLNLZAXXX\\n\\nThis invoice is subject to the terms and conditions |KEYTRADE AG EUR ACCOUNT: 07813 17 614\\n\\nset forth in KEYTRADE AG's sales contract. IBAN NO: NL45 FBHL 0781 3176 14\\n\\nmeray te ACY\\nZURCHEROTRA 3 Ari\\n'\\n\\nwit, oy\\nHoo9e¢\\n\\nee ms\\nVAT tia ae NLELLOS\", 'Page1'], [\"ij\\n\\n@ KEYTRADE ORIGINAL\\n\\nBuyer:\\nGOULDING CHEMICALS LTD.,\\nCENTRE PARK ROAD,\\n\\nMARINA, CORK\\nSWITZERLAND IRELAND\\nVAT NO: NL822947778B01 VAT NO: IE8Z56076R\\n\\n \\n\\nCOMMERCIAL INVOICE NO: 0000448 DATE: 28 March 2018\\nNO. NUMBER CODE NAME NO TERMS\\nCELINA\\n201710299 FREE\\n\\nDescription of Goods QUANTITY UNIT PRICE AMOUNT\\n\\n(Metric Tons)! (EUR Per MT) (EUR)\\n\\n  \\n \\n\\n    \\n\\nGRANULAR CALCIUM AMMONIUM NITRATE (CAN) 27 % IN BULK\\n\\n5'476.100 183.00 4'002'126.30\\nCIF FOYNES\\n\\nTOTAL AMOUNT CIF FOYNES, IRELAND, EUR 4'002'126.30\\n\\nVAT ZERO RATE IN CONFORMITY WITH ARTICLE 141 EC DIRECTIVE 2006/112\\n\\nTOTAL VAT RATE VAT AMOUNT EUR TOTAL oe\\n\\nPAYMENT: BY TT WITHIN 90 DAYS FROM BIL DATE (28.03.2018), I.E. LATEST BY 26 JUNE 2018\\n\\n \\n\\nShipment details:\\n\\nPORT OF LOADING : KLAIPEDA, LITHUANIA\\nPORT OF DISCHARGE: FOYNES, IRELAND\\n\\nBILL OF LADING : 5'476.100 METRIC TONS\\nBILL OF LADING NO. 1\\nBILL OF LADING DATE: 28 March 2018\\n\\nORIGIN: LITHUANIA\", 'Page1']]\n",
            "[\"PORT OF LOADING : KLAIPEDA, LITHUANIA\\nPORT OF DISCHARGE: FOYNES, IRELAND\\n\\nBILL OF LADING : 5'476.100 METRIC TONS\\nBILL OF LADING NO. 1\\nBILL OF LADING DATE: 28 March 2018\\n\\nORIGIN: LITHUANIA\\n\\nUnless otherwise provided in the sales contract or agreed to in writing, the amount IRENEFICIARY'S BANK DETAILS:\\n\\nshown on this invoice is to be pald on or before due date by Telegraphic Transfer of | CREDIT EUROPE BANK N.V\\n\\nimmediately available funds. “\\n\\ninterest will be charged for any amounts not paid within the term of this invoice. | SWIFT: FBHLNLZAXXX\\n\\nThis invoice is subject to the terms and conditions |KEYTRADE AG EUR ACCOUNT: 07813 17 614\\n\\nset forth in KEYTRADE AG's sales contract. IBAN NO: NL45 FBHL 0781 3176 14\\n\\nmeray te ACY\\nZURCHEROTRA 3 Ari\\n'\\n\\nwit, oy\\nHoo9e¢\\n\\nee ms\\nVAT tia ae NLELLOS\", 'Page1']\n",
            "[\"ij\\n\\n@ KEYTRADE ORIGINAL\\n\\nBuyer:\\nGOULDING CHEMICALS LTD.,\\nCENTRE PARK ROAD,\\n\\nMARINA, CORK\\nSWITZERLAND IRELAND\\nVAT NO: NL822947778B01 VAT NO: IE8Z56076R\\n\\n \\n\\nCOMMERCIAL INVOICE NO: 0000448 DATE: 28 March 2018\\nNO. NUMBER CODE NAME NO TERMS\\nCELINA\\n201710299 FREE\\n\\nDescription of Goods QUANTITY UNIT PRICE AMOUNT\\n\\n(Metric Tons)! (EUR Per MT) (EUR)\\n\\n  \\n \\n\\n    \\n\\nGRANULAR CALCIUM AMMONIUM NITRATE (CAN) 27 % IN BULK\\n\\n5'476.100 183.00 4'002'126.30\\nCIF FOYNES\\n\\nTOTAL AMOUNT CIF FOYNES, IRELAND, EUR 4'002'126.30\\n\\nVAT ZERO RATE IN CONFORMITY WITH ARTICLE 141 EC DIRECTIVE 2006/112\\n\\nTOTAL VAT RATE VAT AMOUNT EUR TOTAL oe\\n\\nPAYMENT: BY TT WITHIN 90 DAYS FROM BIL DATE (28.03.2018), I.E. LATEST BY 26 JUNE 2018\\n\\n \\n\\nShipment details:\\n\\nPORT OF LOADING : KLAIPEDA, LITHUANIA\\nPORT OF DISCHARGE: FOYNES, IRELAND\\n\\nBILL OF LADING : 5'476.100 METRIC TONS\\nBILL OF LADING NO. 1\\nBILL OF LADING DATE: 28 March 2018\\n\\nORIGIN: LITHUANIA\", 'Page1']\n"
          ]
        }
      ]
    },
    {
      "cell_type": "code",
      "source": [
        "response = predict_function(content,model, content_type=None)"
      ],
      "metadata": {
        "colab": {
          "base_uri": "https://localhost:8080/",
          "height": 399,
          "referenced_widgets": [
            "0438cb242a3a4ea3b80c493299998f54",
            "6cd6a518de6c48e6b4f2811fe6d43f2b",
            "bc17d688e4604dc18679dcfff523e000",
            "50e221fe97b7424c9729a1acf66b715f",
            "116b827e104547c9a97a7a1b6c61d031",
            "8906c5f79393409db854b1bf05323049",
            "31fc04b72be040b18877af01e66c8c68",
            "e02b5bf96d5346df940bc0d2c23c8701",
            "7b62df9ce837472fa0c0d2812c7745cc",
            "64f501212b9b471e9e7c4ea151cf6ee0",
            "ff42ee2f67534ca99898dc52a1d75846"
          ]
        },
        "id": "zPIBLv-EOBfh",
        "outputId": "a2555740-92b8-4d3d-df00-51d247c309f1"
      },
      "execution_count": null,
      "outputs": [
        {
          "output_type": "stream",
          "name": "stdout",
          "text": [
            "44 44\n",
            "What are the Common Terms in an Options Package?\n",
            "collections=[CollectionDescription(name='DOC_Search')]\n"
          ]
        },
        {
          "output_type": "display_data",
          "data": {
            "text/plain": [
              "0it [00:00, ?it/s]"
            ],
            "application/vnd.jupyter.widget-view+json": {
              "version_major": 2,
              "version_minor": 0,
              "model_id": "0438cb242a3a4ea3b80c493299998f54"
            }
          },
          "metadata": {}
        },
        {
          "output_type": "stream",
          "name": "stdout",
          "text": [
            "['Startup Employee Stock \\nOptions Plans (ESOPs)  \\n \\nOverview and Best Practices', 'Table of Contents  \\nPart I: Intro to Options Plans  \\n•What is an ESOP?  \\n•What is an Option?  \\n•Lifecycle of a Startup ESOP  \\n•Common Terms in an Options Package  \\n•Why Issue Options to Employees ? \\n–A Defining Characteristic of Startup Culture  \\n–A Necessary Part of the Capital Structure  \\n•When to Create an ESOP ? \\n•Communicating Options to Employees: % versus $ \\n \\nPart II: How Much to Grant  \\n•Two Approaches  \\n•The Top -Down Process  \\n–1. How Much Equity to Set Aside in the ESOP ? \\n–2. A Typical Distribution Schedule  \\n•The Bottom -Up Process  \\n–1. Segment Your Human Resources  \\n–2. Establish Pay Multipliers for Each Role \\n–3. Determine the Dollar Value of the Options Grant  \\n–4. Determine the Current Share Price  \\n–5. Calculate the Options Grant  \\n–An Example: Hiring a CTO  \\n•Important Takeaways  Part III : The Fine Print – Terms  \\n•Strike Price  \\n•Vesting Schedule  \\n•The Cliff  \\n–Example: Standard Vesting w/ a Cliff \\n•Vesting in a Liquidity Event  \\n•Exercising Options', '•Important Takeaways  Part III : The Fine Print – Terms  \\n•Strike Price  \\n•Vesting Schedule  \\n•The Cliff  \\n–Example: Standard Vesting w/ a Cliff \\n•Vesting in a Liquidity Event  \\n•Exercising Options  \\n•Tax Considerations  \\n•Legal Advice  \\n \\nPart IV: ESOPs for the Long Term  \\n•Retention Grants  \\n•Discretionary Grants  \\n•Social Impact Considerations  \\n•Options Modeling – Overview  \\n•Options Modeling – A Detailed Example  \\n \\nPart V: Resources & Further Reading', 'INTRO TO OPTIONS PLANS  Part I', 'What is an ESOP?  \\n•An Employee Stock Options Plan (ESOP)  \\n \\n•An allocation  of shares that will be granted to employees in the future \\nin the form of stock options  \\n–How much equity should we set aside for employees?  \\n \\n•A plan for how these options will be distributed:  \\n–How many shares will individual employees receive?  \\n–What terms will govern these grants?  \\n \\n•The plan is as important as the allocation!', 'What is an Option?  \\n•Why do options have intrinsic value?  \\n–A effective form of equity ownership  \\n–A locked -in price for shares  \\n•How do startups use options?  \\n–To bring in founding team members \\nwho are not co -founders  \\n–To recruit, compensate and retain \\nearly employees  \\n–To allow later employees to share in \\nthe company’s long -term upside  Terminology:   \\nThis presentation uses “options” \\ngenerally to refer to several types of \\nsecurities that are often issued to startup \\nemployees to provide for effective equity \\nownership, including:  \\n-Stock options (the right to buy \\ncommon stock a set strike price)  \\n-Restricted stock (common stock \\nissued early on to top employees)  \\n-Restricted stock units (a promise to \\nissue common stock in the future)  \\nAppropriate use of these securities will \\nvary based on local regulatory and tax \\nconsiderations.  An option is a right (but not an obligation) to purchase a quantity', 'Appropriate use of these securities will \\nvary based on local regulatory and tax \\nconsiderations.  An option is a right (but not an obligation) to purchase a quantity \\nof a company’s stock at a set price for a certain period of time', 'Lifecycle of a Startup ESOP  \\n•Founders and early investors  create an ESOP by setting aside a \\npercentage of shares to be granted to future employees  \\n•Management and the Board of Directors  issue these shares to \\nemployees as options packages granted for hiring, promotion and \\nretention  \\n•Employees  receive all of their options upfront, but the company \\nmaintains a right to force forfeit that diminishes over time through a \\nprocess called “vesting”  \\n•Options are exercised  by employees when the company is acquired \\nor taken public. The employee pays the “strike price” to acquire the \\nshares, but those shares are now marketable at a higher value', 'Common Terms in an Options Package  \\nNumber of Shares  The total number of  options granted to an \\nemployee, and therefore the maximum number of \\nshares that employee has access to   \\nStrike Price  The price the  employee must pay to purchase \\neach share if and when the employee chooses to \\nexercise the option  \\nVesting  Schedule  The timeline over which the options become \\nwholly owned and exercisable  by the employee \\n(no longer subject to repurchase by the company)  \\nCliff Period  The trial  period during which no vesting occurs; in \\nthis period vesting accrues, but the total effect of \\nthis vesting is realized immediately after the cliff  \\nExpiration Date  The last date on which the options  may be \\nexercised and converted into common shares by \\nthe employee  \\nWe will discuss the mechanics in further detail, but these basic \\nterms are helpful to understanding options grants', 'Why Issue Options to Employees?  \\n•Attract Talent:  options can be used to attract top recruits, particularly \\nengineers, product managers and other technical team members  \\n•Retain Employees:  options vest over several years, creating strong \\nincentives for employees to remain employees  \\n•Align Incentives:  by making employees equity owners, options align \\nincentives with the long -term goals of the company  \\n•Reward Value Creation:  options reward tangible contributions that \\nincrease corporate valuation by giving employees a slice of that value  \\n•Encourage Long -term Thinking : options typically pay off only in a \\nliquidity event or exit, and thus push employees to build the company \\nfor long -term success']\n",
            "[{'chunk': 0, 'text': 'Startup Employee Stock \\nOptions Plans (ESOPs)  \\n \\nOverview and Best Practices', 'page number': 'Page1'}, {'chunk': 0, 'text': 'Table of Contents  \\nPart I: Intro to Options Plans  \\n•What is an ESOP?  \\n•What is an Option?  \\n•Lifecycle of a Startup ESOP  \\n•Common Terms in an Options Package  \\n•Why Issue Options to Employees ? \\n–A Defining Characteristic of Startup Culture  \\n–A Necessary Part of the Capital Structure  \\n•When to Create an ESOP ? \\n•Communicating Options to Employees: % versus $ \\n \\nPart II: How Much to Grant  \\n•Two Approaches  \\n•The Top -Down Process  \\n–1. How Much Equity to Set Aside in the ESOP ? \\n–2. A Typical Distribution Schedule  \\n•The Bottom -Up Process  \\n–1. Segment Your Human Resources  \\n–2. Establish Pay Multipliers for Each Role \\n–3. Determine the Dollar Value of the Options Grant  \\n–4. Determine the Current Share Price  \\n–5. Calculate the Options Grant  \\n–An Example: Hiring a CTO  \\n•Important Takeaways  Part III : The Fine Print – Terms  \\n•Strike Price  \\n•Vesting Schedule  \\n•The Cliff  \\n–Example: Standard Vesting w/ a Cliff \\n•Vesting in a Liquidity Event  \\n•Exercising Options', 'page number': 'Page2'}, {'chunk': 1, 'text': '•Important Takeaways  Part III : The Fine Print – Terms  \\n•Strike Price  \\n•Vesting Schedule  \\n•The Cliff  \\n–Example: Standard Vesting w/ a Cliff \\n•Vesting in a Liquidity Event  \\n•Exercising Options  \\n•Tax Considerations  \\n•Legal Advice  \\n \\nPart IV: ESOPs for the Long Term  \\n•Retention Grants  \\n•Discretionary Grants  \\n•Social Impact Considerations  \\n•Options Modeling – Overview  \\n•Options Modeling – A Detailed Example  \\n \\nPart V: Resources & Further Reading', 'page number': 'Page2'}, {'chunk': 0, 'text': 'INTRO TO OPTIONS PLANS  Part I', 'page number': 'Page3'}, {'chunk': 0, 'text': 'What is an ESOP?  \\n•An Employee Stock Options Plan (ESOP)  \\n \\n•An allocation  of shares that will be granted to employees in the future \\nin the form of stock options  \\n–How much equity should we set aside for employees?  \\n \\n•A plan for how these options will be distributed:  \\n–How many shares will individual employees receive?  \\n–What terms will govern these grants?  \\n \\n•The plan is as important as the allocation!', 'page number': 'Page4'}, {'chunk': 0, 'text': 'What is an Option?  \\n•Why do options have intrinsic value?  \\n–A effective form of equity ownership  \\n–A locked -in price for shares  \\n•How do startups use options?  \\n–To bring in founding team members \\nwho are not co -founders  \\n–To recruit, compensate and retain \\nearly employees  \\n–To allow later employees to share in \\nthe company’s long -term upside  Terminology:   \\nThis presentation uses “options” \\ngenerally to refer to several types of \\nsecurities that are often issued to startup \\nemployees to provide for effective equity \\nownership, including:  \\n-Stock options (the right to buy \\ncommon stock a set strike price)  \\n-Restricted stock (common stock \\nissued early on to top employees)  \\n-Restricted stock units (a promise to \\nissue common stock in the future)  \\nAppropriate use of these securities will \\nvary based on local regulatory and tax \\nconsiderations.  An option is a right (but not an obligation) to purchase a quantity', 'page number': 'Page5'}, {'chunk': 1, 'text': 'Appropriate use of these securities will \\nvary based on local regulatory and tax \\nconsiderations.  An option is a right (but not an obligation) to purchase a quantity \\nof a company’s stock at a set price for a certain period of time', 'page number': 'Page5'}, {'chunk': 0, 'text': 'Lifecycle of a Startup ESOP  \\n•Founders and early investors  create an ESOP by setting aside a \\npercentage of shares to be granted to future employees  \\n•Management and the Board of Directors  issue these shares to \\nemployees as options packages granted for hiring, promotion and \\nretention  \\n•Employees  receive all of their options upfront, but the company \\nmaintains a right to force forfeit that diminishes over time through a \\nprocess called “vesting”  \\n•Options are exercised  by employees when the company is acquired \\nor taken public. The employee pays the “strike price” to acquire the \\nshares, but those shares are now marketable at a higher value', 'page number': 'Page6'}, {'chunk': 0, 'text': 'Common Terms in an Options Package  \\nNumber of Shares  The total number of  options granted to an \\nemployee, and therefore the maximum number of \\nshares that employee has access to   \\nStrike Price  The price the  employee must pay to purchase \\neach share if and when the employee chooses to \\nexercise the option  \\nVesting  Schedule  The timeline over which the options become \\nwholly owned and exercisable  by the employee \\n(no longer subject to repurchase by the company)  \\nCliff Period  The trial  period during which no vesting occurs; in \\nthis period vesting accrues, but the total effect of \\nthis vesting is realized immediately after the cliff  \\nExpiration Date  The last date on which the options  may be \\nexercised and converted into common shares by \\nthe employee  \\nWe will discuss the mechanics in further detail, but these basic \\nterms are helpful to understanding options grants', 'page number': 'Page7'}, {'chunk': 0, 'text': 'Why Issue Options to Employees?  \\n•Attract Talent:  options can be used to attract top recruits, particularly \\nengineers, product managers and other technical team members  \\n•Retain Employees:  options vest over several years, creating strong \\nincentives for employees to remain employees  \\n•Align Incentives:  by making employees equity owners, options align \\nincentives with the long -term goals of the company  \\n•Reward Value Creation:  options reward tangible contributions that \\nincrease corporate valuation by giving employees a slice of that value  \\n•Encourage Long -term Thinking : options typically pay off only in a \\nliquidity event or exit, and thus push employees to build the company \\nfor long -term success', 'page number': 'Page8'}]\n",
            "['The defining difference between Silicon Valley companies and almost \\nevery other industry in the U.S. is the virtually universal practice among \\ntech companies of distributing meaningful equity (usually in the form of \\nstock options) to ordinary employees .  A Defining Characteristic of Startup Culture  \\nSteven Johnson, Technology Writer  \\n•Startups are a unique case . Unlike at larger corporations, employee \\nownership is an essential element of startup communities and culture  \\n–As high -risk/high -reward enterprises, startups use options to align \\nemployee compensation with the risk -prone mentality of the \\nbusiness  \\n–Startups seeking to achieve a “big exit” use options to align all \\nemployees to drive toward this desired outcome', \"A Necessary Part of the Capital Structure  \\n•Venture capitalists require ESOPs . For many VCs, establishing a \\nstock option pool is a prerequisite to closing a deal  \\n–In an industry where options are ubiquitous, startups are compelled \\nto offer options packages to compete for top talent with other \\nventure -backed companies  \\n–When operating budgets are tight, competitive compensation \\npackages may not be possible; options can be used to incentivize \\nemployees instead of cash  \\nI can't think of a term sheet that we have issued that didn't have a \\nspecific provision for employee equity.  \\nFred Wilson, Union Square Ventures\", 'When to Create an ESOP?  \\nStage  Considerations  Takeaway  \\nPre-seed  Founders focused on traction  (often too \\nbusy for an ESOP).  Key employees are \\ngiven equity/options on an ad hoc basis  ESOP  not necessary, but it can be \\nhelpful to sanity check how much equity \\nyou are giving away to early hires  \\nSeed  First outside financing round. Investors \\neither angel or institutional; institutional \\ninvestors will require an ESOP  Seed rounds can be closed without an \\nESOP; the benefit to doing so is that \\nseed investors then share in the dilution  \\nEarly -VC The first true VC round. Investors will \\nrequire an ESOP in place. New hires \\nwill be seek large equity grants.  ESOP must be created  (to appease \\ninvestors and to serve as a guideline for \\nthe size of new -hire options grants)  \\nLate-VC Flush with capital,  startups at this stage \\nbegin to steadily ramp -up hiring, yet \\nemployees still want equity  Important to have standardized the  \\nESOP and the amount of equity granted', 'Late-VC Flush with capital,  startups at this stage \\nbegin to steadily ramp -up hiring, yet \\nemployees still want equity  Important to have standardized the  \\nESOP and the amount of equity granted \\nto new hires at each level  \\nGrowth  Company is aggressively pursuing \\ngrowth and hiring; likely to have \\nexhausted most of the ESOP  Most of the ESOP is gone, but shares \\nremaining are more valuable; use them \\nto allow  new hires to share in the upside  Make employee equity allocations and set up an ESOP sometime \\nbetween the pre -seed and early -VC stage', 'Communicating Options to Employees: % versus $  \\nOptions packages can be communicated either as (1) a percentage \\nof ownership in the company, or (2) a dollar value based on the \\ncurrent valuation; we encourage the latter when possible  \\n% $ \\n“We are granting you options equivalent to \\n0.5% of the company’s equity”  \\nConsiderations:  \\n•At an early stage, the only way  to \\ncommunicate options grants given no true \\nvaluation of the company  \\n•Hard for employees to grasp  what they \\nare really getting (“0.5% seems too little”)  \\n•Invites a negotiation  about what percent \\nof the company an employee really \\ndeserves  “We are granting you options equivalent to \\n$200,000 of company stock”  \\nConsiderations:  \\n•Once valuation is established, highly \\neffective  way to communicate the true \\nvalue of an options grant  \\n•Easy for employees to grasp  what they \\nare really getting (“$200,000 is a lot”)  \\n•Grounds negotiations  in a discussion \\nabout concrete dollar amounts, rather', 'value of an options grant  \\n•Easy for employees to grasp  what they \\nare really getting (“$200,000 is a lot”)  \\n•Grounds negotiations  in a discussion \\nabout concrete dollar amounts, rather \\nthan a percent of the company  \\nNote: Although we recommend communicating options packages as a dollar value, we do not suggest \\nrefusing employees information about their effective percentage ownership ; all options holders are \\nentitled to this information, and to refuse would be unethical .', 'HOW MUCH TO GRANT  Part II', 'Two Approaches  \\nIn reality, creating an ESOP will require a combination of \\ntop-down and bottom -up planning  Top Down  Bottom Up  \\nDecide the total amount of \\nequity to be granted; allocate \\nthese shares to employees \\nover time  Decide the appropriate size of \\nindividual equity grants by \\nposition; issue these shares as \\nemployees are hired', 'The Top -Down Process  \\n1.Determine how much equity to set aside for non -founder employees  \\n2.Create a schedule of how this equity will be distributed over time', '1. How Much Equity to Set Aside in the ESOP?  \\n•Founders  are top managers \\nwith functional roles that are \\nnot redundant  \\n•DNA  of the company is in a \\nnon-technical industry; no \\ntechnology emphasis  \\n•Geographic focus  is on a \\nregion that is not considered a \\nstartup hub  \\n•Hiring needs are primarily \\nadministrative or back -office \\nteam members  <15%  20% 25% Generally non-founder employees  get 15 -20% of the company, with some \\ncompanies issuing up to 25% (and a current trend toward bigger ESOPs)  \\n•Founders  are top mangers, \\nbut hire others to fill key \\ntechnical or functional roles  \\n•DNA  of the company is in \\napplying technology to a non -\\ntechnical industry  \\n•Geographic focus  is either \\nwholly or partially in a startup \\nhub \\n•Hiring needs are primarily \\nsales and marketing team \\nmembers  •Founders  are not top \\nmanagers in the business, or \\nplan to step aside  \\n•DNA  of the company is in \\ntechnology, engineering, or \\ndata science  \\n•Geographic focus  is in a', 'members  •Founders  are not top \\nmanagers in the business, or \\nplan to step aside  \\n•DNA  of the company is in \\ntechnology, engineering, or \\ndata science  \\n•Geographic focus  is in a \\nleading startup hub such as \\nSF, NYC or Boston  \\n•Hiring needs are primarily \\nengineering, development, or \\ntechnical team members  \\nThere are no hard and fast rules, but by looking your company’s founders, its DNA, \\nits geographic focus, and its hiring needs you can begin to benchmark how much \\nequity to set aside for the ESOP']\n",
            "[{'chunk': 0, 'text': 'The defining difference between Silicon Valley companies and almost \\nevery other industry in the U.S. is the virtually universal practice among \\ntech companies of distributing meaningful equity (usually in the form of \\nstock options) to ordinary employees .  A Defining Characteristic of Startup Culture  \\nSteven Johnson, Technology Writer  \\n•Startups are a unique case . Unlike at larger corporations, employee \\nownership is an essential element of startup communities and culture  \\n–As high -risk/high -reward enterprises, startups use options to align \\nemployee compensation with the risk -prone mentality of the \\nbusiness  \\n–Startups seeking to achieve a “big exit” use options to align all \\nemployees to drive toward this desired outcome', 'page number': 'Page9'}, {'chunk': 0, 'text': \"A Necessary Part of the Capital Structure  \\n•Venture capitalists require ESOPs . For many VCs, establishing a \\nstock option pool is a prerequisite to closing a deal  \\n–In an industry where options are ubiquitous, startups are compelled \\nto offer options packages to compete for top talent with other \\nventure -backed companies  \\n–When operating budgets are tight, competitive compensation \\npackages may not be possible; options can be used to incentivize \\nemployees instead of cash  \\nI can't think of a term sheet that we have issued that didn't have a \\nspecific provision for employee equity.  \\nFred Wilson, Union Square Ventures\", 'page number': 'Page10'}, {'chunk': 0, 'text': 'When to Create an ESOP?  \\nStage  Considerations  Takeaway  \\nPre-seed  Founders focused on traction  (often too \\nbusy for an ESOP).  Key employees are \\ngiven equity/options on an ad hoc basis  ESOP  not necessary, but it can be \\nhelpful to sanity check how much equity \\nyou are giving away to early hires  \\nSeed  First outside financing round. Investors \\neither angel or institutional; institutional \\ninvestors will require an ESOP  Seed rounds can be closed without an \\nESOP; the benefit to doing so is that \\nseed investors then share in the dilution  \\nEarly -VC The first true VC round. Investors will \\nrequire an ESOP in place. New hires \\nwill be seek large equity grants.  ESOP must be created  (to appease \\ninvestors and to serve as a guideline for \\nthe size of new -hire options grants)  \\nLate-VC Flush with capital,  startups at this stage \\nbegin to steadily ramp -up hiring, yet \\nemployees still want equity  Important to have standardized the  \\nESOP and the amount of equity granted', 'page number': 'Page11'}, {'chunk': 1, 'text': 'Late-VC Flush with capital,  startups at this stage \\nbegin to steadily ramp -up hiring, yet \\nemployees still want equity  Important to have standardized the  \\nESOP and the amount of equity granted \\nto new hires at each level  \\nGrowth  Company is aggressively pursuing \\ngrowth and hiring; likely to have \\nexhausted most of the ESOP  Most of the ESOP is gone, but shares \\nremaining are more valuable; use them \\nto allow  new hires to share in the upside  Make employee equity allocations and set up an ESOP sometime \\nbetween the pre -seed and early -VC stage', 'page number': 'Page11'}, {'chunk': 0, 'text': 'Communicating Options to Employees: % versus $  \\nOptions packages can be communicated either as (1) a percentage \\nof ownership in the company, or (2) a dollar value based on the \\ncurrent valuation; we encourage the latter when possible  \\n% $ \\n“We are granting you options equivalent to \\n0.5% of the company’s equity”  \\nConsiderations:  \\n•At an early stage, the only way  to \\ncommunicate options grants given no true \\nvaluation of the company  \\n•Hard for employees to grasp  what they \\nare really getting (“0.5% seems too little”)  \\n•Invites a negotiation  about what percent \\nof the company an employee really \\ndeserves  “We are granting you options equivalent to \\n$200,000 of company stock”  \\nConsiderations:  \\n•Once valuation is established, highly \\neffective  way to communicate the true \\nvalue of an options grant  \\n•Easy for employees to grasp  what they \\nare really getting (“$200,000 is a lot”)  \\n•Grounds negotiations  in a discussion \\nabout concrete dollar amounts, rather', 'page number': 'Page12'}, {'chunk': 1, 'text': 'value of an options grant  \\n•Easy for employees to grasp  what they \\nare really getting (“$200,000 is a lot”)  \\n•Grounds negotiations  in a discussion \\nabout concrete dollar amounts, rather \\nthan a percent of the company  \\nNote: Although we recommend communicating options packages as a dollar value, we do not suggest \\nrefusing employees information about their effective percentage ownership ; all options holders are \\nentitled to this information, and to refuse would be unethical .', 'page number': 'Page12'}, {'chunk': 0, 'text': 'HOW MUCH TO GRANT  Part II', 'page number': 'Page13'}, {'chunk': 0, 'text': 'Two Approaches  \\nIn reality, creating an ESOP will require a combination of \\ntop-down and bottom -up planning  Top Down  Bottom Up  \\nDecide the total amount of \\nequity to be granted; allocate \\nthese shares to employees \\nover time  Decide the appropriate size of \\nindividual equity grants by \\nposition; issue these shares as \\nemployees are hired', 'page number': 'Page14'}, {'chunk': 0, 'text': 'The Top -Down Process  \\n1.Determine how much equity to set aside for non -founder employees  \\n2.Create a schedule of how this equity will be distributed over time', 'page number': 'Page15'}, {'chunk': 0, 'text': '1. How Much Equity to Set Aside in the ESOP?  \\n•Founders  are top managers \\nwith functional roles that are \\nnot redundant  \\n•DNA  of the company is in a \\nnon-technical industry; no \\ntechnology emphasis  \\n•Geographic focus  is on a \\nregion that is not considered a \\nstartup hub  \\n•Hiring needs are primarily \\nadministrative or back -office \\nteam members  <15%  20% 25% Generally non-founder employees  get 15 -20% of the company, with some \\ncompanies issuing up to 25% (and a current trend toward bigger ESOPs)  \\n•Founders  are top mangers, \\nbut hire others to fill key \\ntechnical or functional roles  \\n•DNA  of the company is in \\napplying technology to a non -\\ntechnical industry  \\n•Geographic focus  is either \\nwholly or partially in a startup \\nhub \\n•Hiring needs are primarily \\nsales and marketing team \\nmembers  •Founders  are not top \\nmanagers in the business, or \\nplan to step aside  \\n•DNA  of the company is in \\ntechnology, engineering, or \\ndata science  \\n•Geographic focus  is in a', 'page number': 'Page16'}, {'chunk': 1, 'text': 'members  •Founders  are not top \\nmanagers in the business, or \\nplan to step aside  \\n•DNA  of the company is in \\ntechnology, engineering, or \\ndata science  \\n•Geographic focus  is in a \\nleading startup hub such as \\nSF, NYC or Boston  \\n•Hiring needs are primarily \\nengineering, development, or \\ntechnical team members  \\nThere are no hard and fast rules, but by looking your company’s founders, its DNA, \\nits geographic focus, and its hiring needs you can begin to benchmark how much \\nequity to set aside for the ESOP', 'page number': 'Page16'}]\n",
            "['2. A Typical Distribution Schedule  \\nSeniority  Equity Allocation  \\nFirst 10 Employees  10% \\nNext 20 Employees  5% \\nNext 50 Employees  5% \\n•Early -stage equity grants are always a negotiation, but generally:  \\n–CTO: 1 -5% \\n–Key Developer or Engineer: 1 -2% \\n–Other Functional Team Member: 0.5 -1.5%  \\n–No non -founding member of the senior team should receive over 10%', 'The Bottom -Up Process  \\n1.Segment your human resources  \\n2.Create pay multipliers for each job function  \\n3.Determine the dollar value of an options grant  \\n4.Determine the current share price  \\n5.Calculate options grants', '1. Segment Your Human Resources  \\nSegment  Roles  Award  \\nin % or $?  \\nFounders  Co-Founders  % \\nFounding Team  Technical & Product  % \\nEarly -Stage Hires  Senior Team  (C-Level)  $ \\nDirectors / VPs  $ \\nFunctional / Technical Team  $ \\nSupport Team  $ \\n•Think about the early -stage team in three segments  \\n–Founders : the founding partners in the business  \\n–Founding Team : the people you hire to build your product  \\n–Early -Stage Hires : the team you build as you raise capital  \\n•As early as possible, begin communicating options grants in terms of \\ndollars rather than percentages', '2. Establish Pay Multipliers for Each Role  \\nSegment  Roles  Award  \\nin % or $?  Options Multiplier  \\n(Multiple  of Salary)  \\nFounders  Co-Founders  % -- \\nFounding Team  Technical & Product  % Negotiated  \\nEarly -Stage Hires  Senior Team  (C-Level)  $ 0.5x – 1.0x base  salary  \\nDirectors / VPs  $ 0.25x – 0.5x base salary  \\nFunctional / Technical Team  $ 0.1x – 0.25x base  salary  \\nSupport Team  $ 0.0x – 0.1x base salary  \\n•After segmenting the early -stage team, establish a standardized \\nmultiple of base salary to be granted as an option package  \\n–These ranges provide a ballpark grant for each role  \\n–Get away from actively negotiating packages with employees  \\n–Be transparent about this methodology  \\nSource: This range of multiples was provided by Fred Wilson of Union Square Ventures, \\nwhich he created in collaboration with a leading HR consulting firm.', '3. Determine the Dollar Value of the Options Grant  \\nEmployee  \\nBase Salary  = x Options  \\nMultiplier  Dollar Value  \\nof Options Grant  Base Salary as negotiated with \\nthe employee at the time of hire \\nor promotion  \\nOptions Multiplier is decided \\nbased on the employee’s role in \\nthe HR segmentation schedule', '4. Determine the Current Share Price  \\nLatest “True” Valuation  \\nFully -Diluted Share Count  Current Share Price  = What is the company actually worth today?  Or, at what \\nvaluation could you raise capital or sell the company? This \\nis an internal valuation (not published). Things to consider:  \\n-The latest financing round  \\n-Any bonafide  acquisition offer  \\n-Comparable company valuations / DCF analysis  \\nHow many shares are outstanding?  This should include \\nall shares issued, as well as any dilutive securities:  \\n-Common shares  \\n-Preferred shares  \\n-Shares authorized for issuance  \\n-Options or warrants', '5. Calculate the Options Grant  \\nOptions Grant  \\n(Number of Shares)  = Dollar Value  \\nof Options Grant  \\nCurrent Share Price', '0.8 An Example: Hiring a CTO  \\nEmployee Information  \\n•CTO (Senior Team)  \\n•$100,000 salary  \\n•0.8x options multiplier  \\nCompany Information  \\n•Last valuation round: $5M  \\n•Amount raised: $2M  \\n•Current valuation: $7M  \\n•Diluted share count: 50,000  Dollar Value of \\nOptions Grant  = $100,000  x $80,000  = \\nCurrent  \\nShare Price  = $7M \\n$140  = \\n50,000  \\nOptions Grant  = $80,000  \\n571 shares  = \\n$140  \\nNote that this employee received 1.1% of the diluted shares outstanding; \\nhowever, the grant is communicated as an $80,000 grant of 571 options, \\nrather than as a percentage ownership stake in the company  CALCULATION STEPS', 'Important Takeaways  \\n•Top-down planning (“the allocation”)  \\n–Holistically consider what percentage of the company should \\nbelong to employees  \\n–Allocate these shares to an ESOP  \\n•Bottom -up planning (“the plan”)  \\n–Specifically consider how much equity each employee should be \\nawarded  \\n–Use this framework for individual equity grants  \\n•Key Takeaway : Get away from ad hoc equity awards and personal \\nnegotiations by standardizing both the amount of equity available to \\nemployees and the process by which packages are awarded', 'THE FINE PRINT – TERMS  Part III']\n",
            "[{'chunk': 0, 'text': '2. A Typical Distribution Schedule  \\nSeniority  Equity Allocation  \\nFirst 10 Employees  10% \\nNext 20 Employees  5% \\nNext 50 Employees  5% \\n•Early -stage equity grants are always a negotiation, but generally:  \\n–CTO: 1 -5% \\n–Key Developer or Engineer: 1 -2% \\n–Other Functional Team Member: 0.5 -1.5%  \\n–No non -founding member of the senior team should receive over 10%', 'page number': 'Page17'}, {'chunk': 0, 'text': 'The Bottom -Up Process  \\n1.Segment your human resources  \\n2.Create pay multipliers for each job function  \\n3.Determine the dollar value of an options grant  \\n4.Determine the current share price  \\n5.Calculate options grants', 'page number': 'Page18'}, {'chunk': 0, 'text': '1. Segment Your Human Resources  \\nSegment  Roles  Award  \\nin % or $?  \\nFounders  Co-Founders  % \\nFounding Team  Technical & Product  % \\nEarly -Stage Hires  Senior Team  (C-Level)  $ \\nDirectors / VPs  $ \\nFunctional / Technical Team  $ \\nSupport Team  $ \\n•Think about the early -stage team in three segments  \\n–Founders : the founding partners in the business  \\n–Founding Team : the people you hire to build your product  \\n–Early -Stage Hires : the team you build as you raise capital  \\n•As early as possible, begin communicating options grants in terms of \\ndollars rather than percentages', 'page number': 'Page19'}, {'chunk': 0, 'text': '2. Establish Pay Multipliers for Each Role  \\nSegment  Roles  Award  \\nin % or $?  Options Multiplier  \\n(Multiple  of Salary)  \\nFounders  Co-Founders  % -- \\nFounding Team  Technical & Product  % Negotiated  \\nEarly -Stage Hires  Senior Team  (C-Level)  $ 0.5x – 1.0x base  salary  \\nDirectors / VPs  $ 0.25x – 0.5x base salary  \\nFunctional / Technical Team  $ 0.1x – 0.25x base  salary  \\nSupport Team  $ 0.0x – 0.1x base salary  \\n•After segmenting the early -stage team, establish a standardized \\nmultiple of base salary to be granted as an option package  \\n–These ranges provide a ballpark grant for each role  \\n–Get away from actively negotiating packages with employees  \\n–Be transparent about this methodology  \\nSource: This range of multiples was provided by Fred Wilson of Union Square Ventures, \\nwhich he created in collaboration with a leading HR consulting firm.', 'page number': 'Page20'}, {'chunk': 0, 'text': '3. Determine the Dollar Value of the Options Grant  \\nEmployee  \\nBase Salary  = x Options  \\nMultiplier  Dollar Value  \\nof Options Grant  Base Salary as negotiated with \\nthe employee at the time of hire \\nor promotion  \\nOptions Multiplier is decided \\nbased on the employee’s role in \\nthe HR segmentation schedule', 'page number': 'Page21'}, {'chunk': 0, 'text': '4. Determine the Current Share Price  \\nLatest “True” Valuation  \\nFully -Diluted Share Count  Current Share Price  = What is the company actually worth today?  Or, at what \\nvaluation could you raise capital or sell the company? This \\nis an internal valuation (not published). Things to consider:  \\n-The latest financing round  \\n-Any bonafide  acquisition offer  \\n-Comparable company valuations / DCF analysis  \\nHow many shares are outstanding?  This should include \\nall shares issued, as well as any dilutive securities:  \\n-Common shares  \\n-Preferred shares  \\n-Shares authorized for issuance  \\n-Options or warrants', 'page number': 'Page22'}, {'chunk': 0, 'text': '5. Calculate the Options Grant  \\nOptions Grant  \\n(Number of Shares)  = Dollar Value  \\nof Options Grant  \\nCurrent Share Price', 'page number': 'Page23'}, {'chunk': 0, 'text': '0.8 An Example: Hiring a CTO  \\nEmployee Information  \\n•CTO (Senior Team)  \\n•$100,000 salary  \\n•0.8x options multiplier  \\nCompany Information  \\n•Last valuation round: $5M  \\n•Amount raised: $2M  \\n•Current valuation: $7M  \\n•Diluted share count: 50,000  Dollar Value of \\nOptions Grant  = $100,000  x $80,000  = \\nCurrent  \\nShare Price  = $7M \\n$140  = \\n50,000  \\nOptions Grant  = $80,000  \\n571 shares  = \\n$140  \\nNote that this employee received 1.1% of the diluted shares outstanding; \\nhowever, the grant is communicated as an $80,000 grant of 571 options, \\nrather than as a percentage ownership stake in the company  CALCULATION STEPS', 'page number': 'Page24'}, {'chunk': 0, 'text': 'Important Takeaways  \\n•Top-down planning (“the allocation”)  \\n–Holistically consider what percentage of the company should \\nbelong to employees  \\n–Allocate these shares to an ESOP  \\n•Bottom -up planning (“the plan”)  \\n–Specifically consider how much equity each employee should be \\nawarded  \\n–Use this framework for individual equity grants  \\n•Key Takeaway : Get away from ad hoc equity awards and personal \\nnegotiations by standardizing both the amount of equity available to \\nemployees and the process by which packages are awarded', 'page number': 'Page25'}, {'chunk': 0, 'text': 'THE FINE PRINT – TERMS  Part III', 'page number': 'Page26'}]\n",
            "['Strike Price  \\n•Options are “struck” at a specific strike price when issued; the holder \\nmust pay this amount in order to exercise the option  \\n–The expectation is that the shares will have significantly increased \\nin value, and the holder will profit from the spread  \\n–Regulations for how strike prices can be set will vary by region  \\n•However, it is generally in the best interest of both company and \\nemployee if the strike price is set as low as possible  \\n–This is because options are typically exercised only after an \\nacquisition or IPO, so while a higher strike price costs the \\nemployee more, none of the current shareholders benefit  The strike price is the amount that the employee must pay to turn one \\noption into one share of stock. Also known as the “exercise price”', 'Vesting Schedule  \\n•Vesting protects the company  \\n–It stages the accrual of options, mitigating the risk that an employee \\nwill depart with an undeserved equity stake  \\n–Continually incentivizes employees as they earn their options \\npackage over the course of the vesting period  \\n•Standard vesting period: 4 years  \\n–Alternatively, some companies offer 3 -year vesting, although with a \\nshorter vesting period they may offer a smaller options package  The vesting schedule is the timetable over which an employee accrues the \\nright to keep the options that have been awarded', 'The Cliff  \\n•The cliff protects the company  \\n•This trial period exists so that the company can avoid giving shares to \\nemployees immediately, reserving the opportunity part ways if the \\nemployee does not perform well  \\n•Standard cliff: 1 year  \\n–Alternatively, some companies require a 2 -year cliff. However, in \\nstartup communities where employees know what is “standard” this \\ncan cause significant discontent  \\n–Firing an employee right as their cliff is about to expire is legal, but \\nunethical – begin to communicate discontent as early as possible \\nduring the trail period  The trial period during which no vesting occurs; in this period vesting \\naccrues, but the accrued shares are earned immediately after the cliff', '200 shares400 shares600 shares800 shares1,000 shares\\n0 months 12 months 24 months 36 months 48 monthsExample: Standard Vesting with a Cliff  \\n•New hire  \\n•Granted options for 1,000 shares  \\n•4-year vesting schedule with 1 -year cliff  \\n–At 12 months earns 250 shares  \\n–Then earns ~21 shares per month  \\nMonths on the Job  Vested Options  \\nThe cliff  Monthly vesting', 'Vesting in a Liquidity Event  \\nThe terms of an options package should specifically address what \\nhappens in a liquidity event such as an IPO or acquisition  \\n•Vested options generally become exercisable  \\n•Unvested options can either:  \\n–Roll over and remain unvested  \\n–Receive accelerated vesting  \\n•These options vest automatically upon change of control – not \\ncommon for everyone, but typical for top employees  \\n–Receive double -trigger vesting  \\n•These options vest automatically upon change of control, but \\nonly if the employee is terminated – not common for everyone, \\nbut typical for employees who may be extraneous in a merger \\n(CFO, General Counsel)', 'Exercising Options  \\n•Options are “in the money” if the share value is above the strike price  \\n•To exercise an option, the employee pays the strike price to the \\ncompany and receives shares for each option exercised  \\n•If there has been a liquidity event  \\n–In the case of an IPO , the employee can now sell these shares in \\nthe public markets  \\n–In the case of a cash acquisition , an employee’s shares are \\nbought out at the cash offer price  \\n–In the case of a stock acquisition , an employee’s shares are \\nconverted to shares in the new company  Options are usually exercised following a liquidity event, but employees \\ncan exercise them at any time after they vest', 'Tax Considerations  \\nOptions can have material tax consequences for employees; startups \\nneed to understand the tax implications and be upfront with new hires  \\n•Tax treatment of options will vary by region  \\n•Tax treatment will vary by the type option security issued  \\n•Several possibilities:  \\n–Taxable event upon grant  \\n–Taxable event upon leaving company  \\n–Taxable event upon exercise  \\n–No effective tax event  \\n•It is important for employees to fully understand the tax implications of \\nthe securities they are receiving', 'Legal Advice  \\nWhen structuring an ESOP, engage an experienced \\nstartup lawyer with regional expertise to standardize the \\nterms and language', 'ESOPS FOR THE LONG TERM  Part IV', 'Retention Grants  \\n•Retention grants are used to incentive employees to stay with the \\ncompany beyond their 4 -year vesting period: a “top off”  \\n–Do not wait until an employee is fully vested to make a retention \\ngrant! This creates a natural exit incentive at the end of 4 years  \\n–Instead, consider making smaller retention grants every 2 years  \\n•A framework for retention grants:  \\nGrant Date  Every 2  years, beginning 2 years after initial package  \\nOptions Multiplier:  Use ½ of the employee’s standard options multiplier  \\nSalary Baseline:  Use current salary  if employee has received a raise   \\nValuation & Shares  Use current valuation and share count, if changed  \\nRetention  \\nGrant  = Current \\nSalary  New (Latest) Valuation  \\nDiluted Share Count  x 50% of Options \\nMultiplier  ÷']\n",
            "[{'chunk': 0, 'text': 'Strike Price  \\n•Options are “struck” at a specific strike price when issued; the holder \\nmust pay this amount in order to exercise the option  \\n–The expectation is that the shares will have significantly increased \\nin value, and the holder will profit from the spread  \\n–Regulations for how strike prices can be set will vary by region  \\n•However, it is generally in the best interest of both company and \\nemployee if the strike price is set as low as possible  \\n–This is because options are typically exercised only after an \\nacquisition or IPO, so while a higher strike price costs the \\nemployee more, none of the current shareholders benefit  The strike price is the amount that the employee must pay to turn one \\noption into one share of stock. Also known as the “exercise price”', 'page number': 'Page27'}, {'chunk': 0, 'text': 'Vesting Schedule  \\n•Vesting protects the company  \\n–It stages the accrual of options, mitigating the risk that an employee \\nwill depart with an undeserved equity stake  \\n–Continually incentivizes employees as they earn their options \\npackage over the course of the vesting period  \\n•Standard vesting period: 4 years  \\n–Alternatively, some companies offer 3 -year vesting, although with a \\nshorter vesting period they may offer a smaller options package  The vesting schedule is the timetable over which an employee accrues the \\nright to keep the options that have been awarded', 'page number': 'Page28'}, {'chunk': 0, 'text': 'The Cliff  \\n•The cliff protects the company  \\n•This trial period exists so that the company can avoid giving shares to \\nemployees immediately, reserving the opportunity part ways if the \\nemployee does not perform well  \\n•Standard cliff: 1 year  \\n–Alternatively, some companies require a 2 -year cliff. However, in \\nstartup communities where employees know what is “standard” this \\ncan cause significant discontent  \\n–Firing an employee right as their cliff is about to expire is legal, but \\nunethical – begin to communicate discontent as early as possible \\nduring the trail period  The trial period during which no vesting occurs; in this period vesting \\naccrues, but the accrued shares are earned immediately after the cliff', 'page number': 'Page29'}, {'chunk': 0, 'text': '200 shares400 shares600 shares800 shares1,000 shares\\n0 months 12 months 24 months 36 months 48 monthsExample: Standard Vesting with a Cliff  \\n•New hire  \\n•Granted options for 1,000 shares  \\n•4-year vesting schedule with 1 -year cliff  \\n–At 12 months earns 250 shares  \\n–Then earns ~21 shares per month  \\nMonths on the Job  Vested Options  \\nThe cliff  Monthly vesting', 'page number': 'Page30'}, {'chunk': 0, 'text': 'Vesting in a Liquidity Event  \\nThe terms of an options package should specifically address what \\nhappens in a liquidity event such as an IPO or acquisition  \\n•Vested options generally become exercisable  \\n•Unvested options can either:  \\n–Roll over and remain unvested  \\n–Receive accelerated vesting  \\n•These options vest automatically upon change of control – not \\ncommon for everyone, but typical for top employees  \\n–Receive double -trigger vesting  \\n•These options vest automatically upon change of control, but \\nonly if the employee is terminated – not common for everyone, \\nbut typical for employees who may be extraneous in a merger \\n(CFO, General Counsel)', 'page number': 'Page31'}, {'chunk': 0, 'text': 'Exercising Options  \\n•Options are “in the money” if the share value is above the strike price  \\n•To exercise an option, the employee pays the strike price to the \\ncompany and receives shares for each option exercised  \\n•If there has been a liquidity event  \\n–In the case of an IPO , the employee can now sell these shares in \\nthe public markets  \\n–In the case of a cash acquisition , an employee’s shares are \\nbought out at the cash offer price  \\n–In the case of a stock acquisition , an employee’s shares are \\nconverted to shares in the new company  Options are usually exercised following a liquidity event, but employees \\ncan exercise them at any time after they vest', 'page number': 'Page32'}, {'chunk': 0, 'text': 'Tax Considerations  \\nOptions can have material tax consequences for employees; startups \\nneed to understand the tax implications and be upfront with new hires  \\n•Tax treatment of options will vary by region  \\n•Tax treatment will vary by the type option security issued  \\n•Several possibilities:  \\n–Taxable event upon grant  \\n–Taxable event upon leaving company  \\n–Taxable event upon exercise  \\n–No effective tax event  \\n•It is important for employees to fully understand the tax implications of \\nthe securities they are receiving', 'page number': 'Page33'}, {'chunk': 0, 'text': 'Legal Advice  \\nWhen structuring an ESOP, engage an experienced \\nstartup lawyer with regional expertise to standardize the \\nterms and language', 'page number': 'Page34'}, {'chunk': 0, 'text': 'ESOPS FOR THE LONG TERM  Part IV', 'page number': 'Page35'}, {'chunk': 0, 'text': 'Retention Grants  \\n•Retention grants are used to incentive employees to stay with the \\ncompany beyond their 4 -year vesting period: a “top off”  \\n–Do not wait until an employee is fully vested to make a retention \\ngrant! This creates a natural exit incentive at the end of 4 years  \\n–Instead, consider making smaller retention grants every 2 years  \\n•A framework for retention grants:  \\nGrant Date  Every 2  years, beginning 2 years after initial package  \\nOptions Multiplier:  Use ½ of the employee’s standard options multiplier  \\nSalary Baseline:  Use current salary  if employee has received a raise   \\nValuation & Shares  Use current valuation and share count, if changed  \\nRetention  \\nGrant  = Current \\nSalary  New (Latest) Valuation  \\nDiluted Share Count  x 50% of Options \\nMultiplier  ÷', 'page number': 'Page36'}]\n",
            "Vector count in collection: 50\n",
            "Vector count in collection: 50\n",
            "[[-0.023321891203522682, -0.1582910716533661, -0.0001131415119743906, -0.06381350010633469, -0.028524242341518402, 0.035816773772239685, 0.04359596595168114, 0.012815504334867, -0.03111344948410988, -0.028604954481124878, 0.012296732515096664, -0.009423041716217995, 0.04114820808172226, 0.09315576404333115, -0.005507315043359995, -0.03669087961316109, 0.02707391418516636, 0.007248507812619209, -0.06020623445510864, -0.009035998024046421, -0.011427745223045349, 0.010916284285485744, -0.007837501354515553, 0.02297469787299633, 0.04469601437449455, -0.03594139590859413, 0.009334280155599117, -0.0182975884526968, 0.03555344417691231, 0.02154596522450447, 0.02657388709485531, 0.01694474369287491, -0.012484152801334858, -0.0537082776427269, 1.7053863530236413e-06, -0.05087537318468094, -0.0189918614923954, -0.010362396016716957, -0.05659521371126175, -0.0037433167453855276, -0.01890038326382637, 0.027705451473593712, 0.04427868127822876, -0.01458760816603899, 0.03099338710308075, -0.05671856924891472, 0.07806210219860077, 0.006641672924160957, -0.054658759385347366, -0.028598671779036522, 0.014455687254667282, -0.006354617420583963, -0.053656645119190216, -0.058263737708330154, -0.030790818855166435, 0.020525595173239708, 0.018270976841449738, -0.038869716227054596, 0.01842762529850006, 0.07250086218118668, 0.014734621159732342, -0.04669001325964928, 0.025859562680125237, 0.011152041144669056, 0.025640267878770828, 0.0221748985350132, 0.002683500060811639, -0.03265984728932381, -0.026365989819169044, 0.0291934572160244, 0.08696188032627106, 0.011018427088856697, -0.001705216709524393, -0.0009135290747508407, -0.037065017968416214, 0.04010731354355812, -0.01447622012346983, 0.015607628040015697, -0.014037535525858402, -0.02072914130985737, 0.02808704413473606, 0.034584205597639084, -0.016431108117103577, 0.005910032894462347, -0.0007703874725848436, 0.08455630391836166, 0.0018388821044936776, 0.01819527894258499, 0.005452708341181278, -0.026111720129847527, -0.054630111902952194, -0.07419072091579437, 0.025104373693466187, -0.012677019461989403, 0.044512175023555756, -0.019093219190835953, -0.0057301148772239685, 0.02532937377691269, 0.06858516484498978, -0.03578308969736099, -0.06360675394535065, -0.024376392364501953, -0.009506108239293098, 0.04446263238787651, 0.02600952610373497, -0.011445468291640282, 0.033921558409929276, 0.010666034184396267, -0.033967871218919754, 0.04531848058104515, 0.027742404490709305, 0.022980211302638054, -0.026097362861037254, 0.019191890954971313, -0.024998394772410393, -0.044434525072574615, -0.03340053930878639, 0.006116131786257029, 0.003621380776166916, 0.04303651675581932, 0.026547342538833618, 0.00304706790484488, -0.033882491290569305, -0.04587453231215477, -0.051121339201927185, -0.08310386538505554, -0.04437365382909775, 0.01295273844152689, 0.04231015965342522, 0.033711038529872894, -0.016777556389570236, -0.046813853085041046, 0.023220911622047424, -0.029872993007302284, -0.017823899164795876, 0.04792465642094612, 0.02540932036936283, 0.04316675662994385, 0.10159263014793396, 0.0008837973582558334, 0.012240629643201828, 0.04122881963849068, -0.08521176874637604, 0.008801901713013649, -0.01623711548745632, -0.003812340321019292, 0.029296496883034706, 0.024775320664048195, -0.03407149016857147, 0.013210348784923553, -0.018273429945111275, -0.02554350718855858, 0.04618029668927193, -0.00018988510419148952, 0.00732314633205533, 0.0333099327981472, 0.0077972933650016785, -0.04673793911933899, -0.07372079789638519, 0.04481985792517662, 0.02253347635269165, -0.05298428237438202, 0.006749940570443869, -0.01373997051268816, -0.050840746611356735, 0.010924413800239563, -0.01611648127436638, -0.0269134771078825, 0.012605610303580761, -0.06151976436376572, -0.039456602185964584, -0.06068209186196327, -0.039594147354364395, -0.06805917620658875, 0.016659259796142578, 0.043839145451784134, 0.08451589941978455, 0.01822599209845066, 0.0178198404610157, 0.030122367665171623, 0.0017052015755325556, -0.06842005252838135, 0.014838428236544132, 0.017481710761785507, 0.0037404196336865425, 0.02684970758855343, -0.011707733385264874, -0.004016651306301355, 0.023005273193120956, -0.024082958698272705, 0.0029629243072122335, 0.002744961529970169, -0.034752801060676575, 0.00343374558724463, -0.018539175391197205, -0.008671046234667301, -0.00016068194236140698, -0.02663358673453331, -0.0356745645403862, 0.023366650566458702, -0.04491713270545006, 0.0376916378736496, 0.0019815575797110796, 0.07526776939630508, -0.011201852932572365, 0.025132842361927032, -0.06070968508720398, 0.04033365100622177, -0.08103761821985245, 0.024552416056394577, 0.04119430482387543, 0.0010940002975985408, 0.02261904627084732, -0.0138273686170578, 0.004219279158860445, 0.06230122968554497, 0.026517221704125404, 0.041889291256666183, -0.06180126592516899, -0.01911257952451706, -0.037361085414886475, 0.08749859780073166, -0.02105250395834446, -0.024642441421747208, 0.04031796008348465, -0.056729502975940704, 0.01943141780793667, -0.010577970184385777, -0.014234975911676884, -0.024968059733510017, 0.005819770507514477, -0.003816222306340933, -0.023646976798772812, 0.02953033149242401, -0.020620329305529594, 0.00710274139419198, 0.032343730330467224, 0.06609641015529633, -0.010369290597736835, 0.041750892996788025, -0.017436537891626358, -0.04797935485839844, 0.002087072702124715, -0.016437837854027748, -0.000773895182646811, 0.02815292403101921, -0.022960199043154716, 0.014441330917179585, 0.003369612153619528, 0.008021066896617413, 0.023608006536960602, 0.027006326243281364, 0.0186237171292305, -0.004746801685541868, 0.006603177171200514, 0.018206095322966576, 0.03504980728030205, 0.0034186651464551687, -0.008451364003121853, 0.008126059547066689, 0.03735048323869705, -0.03857019543647766, -0.017099419608712196, 0.023719625547528267, -0.0015923824394121766, -0.0011170023353770375, 0.056852683424949646, -0.03801185265183449, 0.036513522267341614, 0.013692612759768963, 0.008022425696253777, -0.0030134471599012613, -0.008410646580159664, -0.018543247133493423, 0.009089164435863495, 0.0162470992654562, -0.019054757431149483, -0.06647374480962753, 0.0016608096193522215, -0.0036486478056758642, 0.0063789417035877705, -0.017453964799642563, 0.02155723236501217, -0.029704829677939415, 0.03175937011837959, 0.007216121535748243, -0.054292283952236176, -0.01107065286487341, 0.0037380699068307877, 0.025405261665582657, -0.02640017680823803, -0.017639055848121643, -0.010195126757025719, -0.021535921841859818, -0.025491653010249138, 0.03386417031288147, -0.06210131198167801, 0.01525554247200489, 0.003963632043451071, -0.003511228831484914, -0.03299592807888985, 0.0164400115609169, -0.04985989257693291, -0.004267947748303413, -0.06213761493563652, -0.010850765742361546, 0.039685044437646866, 0.01440675463527441, -0.04412491247057915, 0.06393390893936157, 0.006154307164251804, -0.004628440365195274, -0.01967291720211506, -0.025204533711075783, 0.004714276175945997, -0.042425014078617096, -0.023808926343917847, 0.004485624842345715, 0.016618924215435982, 0.0883590579032898, -0.003613749984651804, -0.026903454214334488, 0.007956305518746376, -0.018590722233057022, -0.00083226861897856, -0.05375512316823006, -0.102887824177742, 0.011639994569122791, -0.010356046259403229, -0.03553662449121475, 0.011490105651319027, 0.03936637565493584, -0.010774947702884674, 0.025121573358774185, 0.02400866709649563, 0.09519311785697937, -0.03194226697087288, 0.04011956974864006, 0.0014905709540471435, 0.024876438081264496, 0.0025094200391322374, 0.027622226625680923, 0.037878938019275665, -0.024348830804228783, 0.07469218969345093, 0.005982321687042713, 0.023155327886343002, 0.004210402257740498, 0.008078455924987793, 0.007712878752499819, -0.017653003334999084, 0.01855996996164322, 0.008724614977836609, 0.04177065193653107, -0.018705446273088455, -0.043482813984155655, 0.04561489447951317, -0.0003695146588142961, 0.009768134914338589, 0.0018506471533328295, 0.013417436741292477, -0.014951112680137157, -0.07467037439346313, -0.026417043060064316, 0.03172958269715309, 0.010915634222328663, 0.04202735424041748, -0.014805220998823643, -0.0022921450436115265, 0.0115275913849473, -0.03079156018793583, -0.015177293680608273, 0.03603024780750275, 0.016773296520113945, -0.02457314170897007, -0.033230528235435486, -0.008440248668193817, 0.0004024977970402688, 0.041696999222040176, -0.016336509957909584, -0.02664080262184143, -0.03855707496404648, 0.07464049756526947, -0.037019047886133194, -0.03423051908612251, -0.014023651368916035, 0.0340212918817997, -0.00501624122262001, -0.0020472626201808453, 5.08793382323347e-05, 0.0011890500318259, -0.026049790903925896, 0.04348314180970192, 0.05115732550621033, 0.00873496662825346, -0.026722261682152748, -0.03099125623703003, -0.031963299959897995, 0.0026843296363949776, -0.01975339651107788, 0.03123580850660801, 0.02028723992407322, 0.021257657557725906, -0.0181095190346241, 0.01635560393333435, -0.037280235439538956, 0.01588856615126133, -0.06736750900745392, -0.08449137955904007, 0.02181312069296837, 0.017662163823843002, -0.008132370188832283, -0.026899736374616623, -0.008832265622913837, -0.021730193868279457, -6.19070342509076e-05, -0.008177070878446102, 0.004411994479596615, 0.03889951854944229, 0.0473848320543766, -0.0071034058928489685, -0.03099869377911091, 0.01052385289222002, -0.018490543588995934, -0.017122697085142136, -0.013106446713209152, 0.04992256686091423, -0.011909360066056252, 0.03115837275981903, -0.004153429996222258, 0.010087821632623672, -0.05743684619665146, -0.007869944907724857, -0.0019755049142986536, -0.045866549015045166, 0.008047693409025669, -0.016720764338970184, -0.09049773216247559, -0.06262290477752686, -0.011491968296468258, 0.017345091328024864, 0.054802779108285904, -0.0001863235520431772, 0.012350700795650482, 0.04304782301187515, -0.01898791268467903, -0.00037598106428049505, -0.012769549153745174, 0.021598000079393387, 0.04970434680581093, -0.025425385683774948, 0.041257377713918686, -0.0334109328687191, -0.012279277667403221, 0.02036452665925026, -0.03119944967329502, 0.005606588441878557, 0.05218302458524704, -0.020168248564004898, -0.02614361047744751, 0.03391789272427559, 0.03257778286933899, -0.01965312473475933, -0.011985313147306442, -0.02475532330572605, -0.01839372329413891, 0.029938742518424988, 0.07853598892688751, -0.007726228330284357, 0.01031842827796936, 0.023740993812680244, -0.016053766012191772, -0.02188381552696228, -0.008209585212171078, 0.03396277874708176, -0.05494675040245056, -0.006834239698946476, 0.0010572235332801938, 0.012856944464147091, 0.03908628970384598, -0.06661314517259598, -0.033291496336460114, -0.03626802936196327, 0.012320108711719513, -0.001921802177093923, 0.017487376928329468, 0.04050181061029434, 0.008966346271336079, 0.016591141000390053, -0.00850461795926094, 0.031714003533124924, -0.07185095548629761, 0.004612758290022612, 0.011899316683411598, 0.00595727376639843, 0.06317510455846786, 0.02972414903342724, -0.005863239988684654, 0.0010463366052135825, -0.008679554797708988, 0.016186630353331566, 0.0335543267428875, -0.025443589314818382, -0.0674588605761528, -0.011671126820147038, 0.00919299852102995, 0.03253394365310669, 0.040685079991817474, 0.022191641852259636, 0.004398977849632502, 0.012976151891052723, 0.01958412677049637, 0.058911047875881195, -0.10828442126512527, 0.012609279714524746, -0.023364268243312836, -0.04999244958162308, -0.04513201862573624, -0.00041212589712813497, -0.008032423444092274, 0.00292065367102623, -0.05537092685699463, 0.002142338315024972, -0.008226918987929821, 0.0388355627655983, 0.009410864673554897, 0.0026743162889033556, 0.0029823894146829844, -0.04516645148396492, 0.05501136556267738, 0.007025998085737228, 0.008775627240538597, -0.056282512843608856, 0.005344931036233902, 0.024642573669552803, -0.026079818606376648, -0.05779314786195755, 0.054073516279459, -0.0046268654987216, -0.015918191522359848, -0.09209582954645157, -0.010790707543492317, -0.009110170416533947, 0.020676542073488235, 0.05181335285305977, 0.00892390962690115, -0.017772037535905838, 0.026839351281523705, 0.026251835748553276, 0.022561218589544296, -0.0032296408899128437, 0.041499458253383636, -0.12500333786010742, -0.005457013845443726, 0.009418460540473461, -5.642344965956148e-33, -0.04355992004275322, -0.026532495394349098, 0.03861105069518089, 0.022914070636034012, 0.018395977094769478, -0.00748934131115675, 0.016630515456199646, -0.005397320259362459, -0.020526183769106865, -0.0041520558297634125, 0.06395242363214493, -0.022963115945458412, 0.009353706613183022, -0.000789722369518131, 0.0497141070663929, -0.003047165460884571, -0.0568665936589241, 0.006504541728645563, 0.0024072930682450533, -0.0365663580596447, 0.012934144586324692, -0.02419000118970871, 0.051567383110523224, 0.028213733807206154, 0.02227221429347992, -0.0009068461949937046, 0.043733205646276474, 0.009598663076758385, -0.0012680389918386936, 0.021085767075419426, -0.005984800402075052, -0.07096225023269653, 0.014585030265152454, -0.05612959712743759, -0.0032291666138917208, 0.06590713560581207, -0.007689628750085831, -0.043120577931404114, 0.06787027418613434, -0.0495322048664093, -0.0380142480134964, -0.028955968096852303, -0.027308659628033638, 0.05553242936730385, -0.033215928822755814, -0.04454675316810608, -0.004510072059929371, -0.024417424574494362, -0.07877076417207718, 0.0450500063598156, 0.04364287853240967, 0.02655510976910591, 0.013448243029415607, 0.04749978333711624, -0.01228074636310339, 0.12872713804244995, -0.00878833420574665, 0.050326328724622726, 0.08536339551210403, 0.03372498229146004, 0.04801035672426224, 0.05568491667509079, 0.033626899123191833, -0.04592036455869675, 0.019701635465025902, 0.020336568355560303, -0.10149331390857697, -0.04040998965501785, -0.06032133474946022, -0.01051949430257082, -0.04442444443702698, 0.13090161979198456, -0.04013495147228241, 0.036613162606954575, -0.00411349069327116, 0.029090719297528267, 0.05000307038426399, 0.04487525299191475, 0.015682661905884743, -0.008085999637842178, -0.020764056593179703, 0.008813435211777687, -0.014465422369539738, 0.005315177142620087, -0.0419735461473465, -0.025825636461377144, -0.02581874653697014, -0.06051437556743622, 0.049301933497190475, -0.025371208786964417, 0.010790516622364521, 0.06733403354883194, -0.006087341345846653, 0.02485145814716816, -0.007227038033306599, -0.0626353770494461, 0.0338263064622879, 0.007363226730376482, 0.003947291988879442, -0.01949705369770527, 0.015204483643174171, 0.023727694526314735, -0.018937287852168083, -0.03031461127102375, 0.002448274986818433, -0.02668210305273533, -0.031113848090171814, -0.009045622311532497, 0.04591957479715347, 0.034347355365753174, 0.011435252614319324, -0.04173639044165611, -0.010327198542654514, -0.010217162780463696, -0.01469013374298811, -0.00532922800630331, 0.02426193468272686, 0.025797177106142044, -0.024395709857344627, -0.045087721198797226, 0.0028051414992660284, -0.049423228949308395, 0.009921811521053314, -0.028071338310837746, 0.015172685496509075, 0.055769503116607666, 0.0368579737842083, 0.009005866013467312, 0.11474519222974777, 0.09135207533836365, 0.021171387284994125, 0.048391785472631454, 2.2687058276460448e-07, -0.006757473107427359, 0.05860069394111633, 0.03986410051584244, -0.012589078396558762, 0.03304099291563034, 0.03277924656867981, 0.03297790139913559, 0.029219184070825577, -0.0368875190615654, -0.014382919296622276, 0.019898204132914543, -0.07182203978300095, 0.011244753375649452, -0.028644533827900887, 0.036993492394685745, -0.04097670316696167, 0.019267236813902855, -0.0382920540869236, -0.03753255307674408, -0.08640103787183762, 0.04373082146048546, -0.003257675562053919, -0.01655077189207077, 0.014211555942893028, -0.013518400490283966, 0.025457032024860382, -0.012736639939248562, -0.10858103632926941, -0.013632132671773434, 0.018108556047081947, -0.053393181413412094, 0.0034669425804167986, 0.028299527242779732, -0.013270609080791473, -0.025341494008898735, -0.022597862407565117, 0.08479315042495728, 0.05914495140314102, 0.053097210824489594, -0.021101590245962143, -0.013238002546131611, -0.07317221909761429, 0.0028770125936716795, -0.03161736577749252, -0.009763054549694061, 0.05330001562833786, 0.0037894644774496555, -0.08942519128322601, -0.052586428821086884, 5.279203105601482e-05, -0.016684604808688164, -0.008230890147387981, 0.04081901162862778, -0.00317586213350296, 0.01058234553784132, 0.03472781926393509, 0.021595828235149384, -0.00798032246530056, 0.01935047283768654, 0.07467690110206604, -0.011838631704449654, -0.010361090302467346, -0.05032454803586006, 0.019403308629989624, 0.029694391414523125, 0.012417414225637913, -0.02175452560186386, 1.6099368590770502e-34, -0.013848159462213516, -0.03533753752708435, -0.03641496226191521, 0.06048065796494484, -0.0034170730505138636, -0.020965997129678726, 0.03584325686097145, 0.007069546263664961, -0.014461918734014034, -0.012401268817484379, -0.022145066410303116]]\n",
            "[ScoredPoint(id='f44b10d2-d347-4a59-9c7f-a8129818823c', version=0, score=0.664095337765988, payload={'chunk': 0, 'text': 'Common Terms in an Options Package  \\nNumber of Shares  The total number of  options granted to an \\nemployee, and therefore the maximum number of \\nshares that employee has access to   \\nStrike Price  The price the  employee must pay to purchase \\neach share if and when the employee chooses to \\nexercise the option  \\nVesting  Schedule  The timeline over which the options become \\nwholly owned and exercisable  by the employee \\n(no longer subject to repurchase by the company)  \\nCliff Period  The trial  period during which no vesting occurs; in \\nthis period vesting accrues, but the total effect of \\nthis vesting is realized immediately after the cliff  \\nExpiration Date  The last date on which the options  may be \\nexercised and converted into common shares by \\nthe employee  \\nWe will discuss the mechanics in further detail, but these basic \\nterms are helpful to understanding options grants', 'page number': 'Page7'}, vector=None), ScoredPoint(id='e1025974-c309-4490-9994-ea446cdc28d8', version=0, score=0.5762392539134086, payload={'chunk': 1, 'text': 'Appropriate use of these securities will \\nvary based on local regulatory and tax \\nconsiderations.  An option is a right (but not an obligation) to purchase a quantity \\nof a company’s stock at a set price for a certain period of time', 'page number': 'Page5'}, vector=None), ScoredPoint(id='fafabe9e-dc78-4881-9414-f0a930312954', version=0, score=0.5053940771566183, payload={'chunk': 0, 'text': 'What is an Option?  \\n•Why do options have intrinsic value?  \\n–A effective form of equity ownership  \\n–A locked -in price for shares  \\n•How do startups use options?  \\n–To bring in founding team members \\nwho are not co -founders  \\n–To recruit, compensate and retain \\nearly employees  \\n–To allow later employees to share in \\nthe company’s long -term upside  Terminology:   \\nThis presentation uses “options” \\ngenerally to refer to several types of \\nsecurities that are often issued to startup \\nemployees to provide for effective equity \\nownership, including:  \\n-Stock options (the right to buy \\ncommon stock a set strike price)  \\n-Restricted stock (common stock \\nissued early on to top employees)  \\n-Restricted stock units (a promise to \\nissue common stock in the future)  \\nAppropriate use of these securities will \\nvary based on local regulatory and tax \\nconsiderations.  An option is a right (but not an obligation) to purchase a quantity', 'page number': 'Page5'}, vector=None)]\n",
            "[['Common Terms in an Options Package  \\nNumber of Shares  The total number of  options granted to an \\nemployee, and therefore the maximum number of \\nshares that employee has access to   \\nStrike Price  The price the  employee must pay to purchase \\neach share if and when the employee chooses to \\nexercise the option  \\nVesting  Schedule  The timeline over which the options become \\nwholly owned and exercisable  by the employee \\n(no longer subject to repurchase by the company)  \\nCliff Period  The trial  period during which no vesting occurs; in \\nthis period vesting accrues, but the total effect of \\nthis vesting is realized immediately after the cliff  \\nExpiration Date  The last date on which the options  may be \\nexercised and converted into common shares by \\nthe employee  \\nWe will discuss the mechanics in further detail, but these basic \\nterms are helpful to understanding options grants', 'Page7'], ['Appropriate use of these securities will \\nvary based on local regulatory and tax \\nconsiderations.  An option is a right (but not an obligation) to purchase a quantity \\nof a company’s stock at a set price for a certain period of time', 'Page5'], ['What is an Option?  \\n•Why do options have intrinsic value?  \\n–A effective form of equity ownership  \\n–A locked -in price for shares  \\n•How do startups use options?  \\n–To bring in founding team members \\nwho are not co -founders  \\n–To recruit, compensate and retain \\nearly employees  \\n–To allow later employees to share in \\nthe company’s long -term upside  Terminology:   \\nThis presentation uses “options” \\ngenerally to refer to several types of \\nsecurities that are often issued to startup \\nemployees to provide for effective equity \\nownership, including:  \\n-Stock options (the right to buy \\ncommon stock a set strike price)  \\n-Restricted stock (common stock \\nissued early on to top employees)  \\n-Restricted stock units (a promise to \\nissue common stock in the future)  \\nAppropriate use of these securities will \\nvary based on local regulatory and tax \\nconsiderations.  An option is a right (but not an obligation) to purchase a quantity', 'Page5']]\n",
            "['Common Terms in an Options Package  \\nNumber of Shares  The total number of  options granted to an \\nemployee, and therefore the maximum number of \\nshares that employee has access to   \\nStrike Price  The price the  employee must pay to purchase \\neach share if and when the employee chooses to \\nexercise the option  \\nVesting  Schedule  The timeline over which the options become \\nwholly owned and exercisable  by the employee \\n(no longer subject to repurchase by the company)  \\nCliff Period  The trial  period during which no vesting occurs; in \\nthis period vesting accrues, but the total effect of \\nthis vesting is realized immediately after the cliff  \\nExpiration Date  The last date on which the options  may be \\nexercised and converted into common shares by \\nthe employee  \\nWe will discuss the mechanics in further detail, but these basic \\nterms are helpful to understanding options grants', 'Page7']\n",
            "['Appropriate use of these securities will \\nvary based on local regulatory and tax \\nconsiderations.  An option is a right (but not an obligation) to purchase a quantity \\nof a company’s stock at a set price for a certain period of time', 'Page5']\n",
            "['What is an Option?  \\n•Why do options have intrinsic value?  \\n–A effective form of equity ownership  \\n–A locked -in price for shares  \\n•How do startups use options?  \\n–To bring in founding team members \\nwho are not co -founders  \\n–To recruit, compensate and retain \\nearly employees  \\n–To allow later employees to share in \\nthe company’s long -term upside  Terminology:   \\nThis presentation uses “options” \\ngenerally to refer to several types of \\nsecurities that are often issued to startup \\nemployees to provide for effective equity \\nownership, including:  \\n-Stock options (the right to buy \\ncommon stock a set strike price)  \\n-Restricted stock (common stock \\nissued early on to top employees)  \\n-Restricted stock units (a promise to \\nissue common stock in the future)  \\nAppropriate use of these securities will \\nvary based on local regulatory and tax \\nconsiderations.  An option is a right (but not an obligation) to purchase a quantity', 'Page5']\n"
          ]
        }
      ]
    },
    {
      "cell_type": "code",
      "source": [
        "response = predict_function(content,model, content_type=None)"
      ],
      "metadata": {
        "colab": {
          "base_uri": "https://localhost:8080/",
          "height": 399,
          "referenced_widgets": [
            "910fc5263cf742ca93c1a57cc53ff15b",
            "494ab3b995f74e9a85d12fab24ea1e23",
            "3f6eb10b04834caeaff53c0a5d7a7891",
            "1fc05fb36c224b68a818ba7943ac1aa2",
            "04766dde0f124ccea463a7ef122e77ca",
            "d52714b3b4a9482982b922fa1c7334a1",
            "e666e6382691419e9154933d880e4d39",
            "426f0f3b868f4364869bd210332a0f69",
            "7f0ef41237634f6984d38b39f19f85f1",
            "4b62002b76084459bffe2c3df5ee6e62",
            "081d242552ff45f9b66f4e91bc64a0b1"
          ]
        },
        "id": "I5_iETYpQPkR",
        "outputId": "f67d66e7-4d44-4a6b-e914-6d23b40f5c13"
      },
      "execution_count": null,
      "outputs": [
        {
          "output_type": "stream",
          "name": "stdout",
          "text": [
            "44 44\n",
            "Why Issue Options to Employees?\n",
            "collections=[CollectionDescription(name='DOC_Search')]\n"
          ]
        },
        {
          "output_type": "display_data",
          "data": {
            "text/plain": [
              "0it [00:00, ?it/s]"
            ],
            "application/vnd.jupyter.widget-view+json": {
              "version_major": 2,
              "version_minor": 0,
              "model_id": "910fc5263cf742ca93c1a57cc53ff15b"
            }
          },
          "metadata": {}
        },
        {
          "output_type": "stream",
          "name": "stdout",
          "text": [
            "['Startup Employee Stock \\nOptions Plans (ESOPs)  \\n \\nOverview and Best Practices', 'Table of Contents  \\nPart I: Intro to Options Plans  \\n•What is an ESOP?  \\n•What is an Option?  \\n•Lifecycle of a Startup ESOP  \\n•Common Terms in an Options Package  \\n•Why Issue Options to Employees ? \\n–A Defining Characteristic of Startup Culture  \\n–A Necessary Part of the Capital Structure  \\n•When to Create an ESOP ? \\n•Communicating Options to Employees: % versus $ \\n \\nPart II: How Much to Grant  \\n•Two Approaches  \\n•The Top -Down Process  \\n–1. How Much Equity to Set Aside in the ESOP ? \\n–2. A Typical Distribution Schedule  \\n•The Bottom -Up Process  \\n–1. Segment Your Human Resources  \\n–2. Establish Pay Multipliers for Each Role \\n–3. Determine the Dollar Value of the Options Grant  \\n–4. Determine the Current Share Price  \\n–5. Calculate the Options Grant  \\n–An Example: Hiring a CTO  \\n•Important Takeaways  Part III : The Fine Print – Terms  \\n•Strike Price  \\n•Vesting Schedule  \\n•The Cliff  \\n–Example: Standard Vesting w/ a Cliff \\n•Vesting in a Liquidity Event  \\n•Exercising Options', '•Important Takeaways  Part III : The Fine Print – Terms  \\n•Strike Price  \\n•Vesting Schedule  \\n•The Cliff  \\n–Example: Standard Vesting w/ a Cliff \\n•Vesting in a Liquidity Event  \\n•Exercising Options  \\n•Tax Considerations  \\n•Legal Advice  \\n \\nPart IV: ESOPs for the Long Term  \\n•Retention Grants  \\n•Discretionary Grants  \\n•Social Impact Considerations  \\n•Options Modeling – Overview  \\n•Options Modeling – A Detailed Example  \\n \\nPart V: Resources & Further Reading', 'INTRO TO OPTIONS PLANS  Part I', 'What is an ESOP?  \\n•An Employee Stock Options Plan (ESOP)  \\n \\n•An allocation  of shares that will be granted to employees in the future \\nin the form of stock options  \\n–How much equity should we set aside for employees?  \\n \\n•A plan for how these options will be distributed:  \\n–How many shares will individual employees receive?  \\n–What terms will govern these grants?  \\n \\n•The plan is as important as the allocation!', 'What is an Option?  \\n•Why do options have intrinsic value?  \\n–A effective form of equity ownership  \\n–A locked -in price for shares  \\n•How do startups use options?  \\n–To bring in founding team members \\nwho are not co -founders  \\n–To recruit, compensate and retain \\nearly employees  \\n–To allow later employees to share in \\nthe company’s long -term upside  Terminology:   \\nThis presentation uses “options” \\ngenerally to refer to several types of \\nsecurities that are often issued to startup \\nemployees to provide for effective equity \\nownership, including:  \\n-Stock options (the right to buy \\ncommon stock a set strike price)  \\n-Restricted stock (common stock \\nissued early on to top employees)  \\n-Restricted stock units (a promise to \\nissue common stock in the future)  \\nAppropriate use of these securities will \\nvary based on local regulatory and tax \\nconsiderations.  An option is a right (but not an obligation) to purchase a quantity', 'Appropriate use of these securities will \\nvary based on local regulatory and tax \\nconsiderations.  An option is a right (but not an obligation) to purchase a quantity \\nof a company’s stock at a set price for a certain period of time', 'Lifecycle of a Startup ESOP  \\n•Founders and early investors  create an ESOP by setting aside a \\npercentage of shares to be granted to future employees  \\n•Management and the Board of Directors  issue these shares to \\nemployees as options packages granted for hiring, promotion and \\nretention  \\n•Employees  receive all of their options upfront, but the company \\nmaintains a right to force forfeit that diminishes over time through a \\nprocess called “vesting”  \\n•Options are exercised  by employees when the company is acquired \\nor taken public. The employee pays the “strike price” to acquire the \\nshares, but those shares are now marketable at a higher value', 'Common Terms in an Options Package  \\nNumber of Shares  The total number of  options granted to an \\nemployee, and therefore the maximum number of \\nshares that employee has access to   \\nStrike Price  The price the  employee must pay to purchase \\neach share if and when the employee chooses to \\nexercise the option  \\nVesting  Schedule  The timeline over which the options become \\nwholly owned and exercisable  by the employee \\n(no longer subject to repurchase by the company)  \\nCliff Period  The trial  period during which no vesting occurs; in \\nthis period vesting accrues, but the total effect of \\nthis vesting is realized immediately after the cliff  \\nExpiration Date  The last date on which the options  may be \\nexercised and converted into common shares by \\nthe employee  \\nWe will discuss the mechanics in further detail, but these basic \\nterms are helpful to understanding options grants', 'Why Issue Options to Employees?  \\n•Attract Talent:  options can be used to attract top recruits, particularly \\nengineers, product managers and other technical team members  \\n•Retain Employees:  options vest over several years, creating strong \\nincentives for employees to remain employees  \\n•Align Incentives:  by making employees equity owners, options align \\nincentives with the long -term goals of the company  \\n•Reward Value Creation:  options reward tangible contributions that \\nincrease corporate valuation by giving employees a slice of that value  \\n•Encourage Long -term Thinking : options typically pay off only in a \\nliquidity event or exit, and thus push employees to build the company \\nfor long -term success']\n",
            "[{'chunk': 0, 'text': 'Startup Employee Stock \\nOptions Plans (ESOPs)  \\n \\nOverview and Best Practices', 'page number': 'Page1'}, {'chunk': 0, 'text': 'Table of Contents  \\nPart I: Intro to Options Plans  \\n•What is an ESOP?  \\n•What is an Option?  \\n•Lifecycle of a Startup ESOP  \\n•Common Terms in an Options Package  \\n•Why Issue Options to Employees ? \\n–A Defining Characteristic of Startup Culture  \\n–A Necessary Part of the Capital Structure  \\n•When to Create an ESOP ? \\n•Communicating Options to Employees: % versus $ \\n \\nPart II: How Much to Grant  \\n•Two Approaches  \\n•The Top -Down Process  \\n–1. How Much Equity to Set Aside in the ESOP ? \\n–2. A Typical Distribution Schedule  \\n•The Bottom -Up Process  \\n–1. Segment Your Human Resources  \\n–2. Establish Pay Multipliers for Each Role \\n–3. Determine the Dollar Value of the Options Grant  \\n–4. Determine the Current Share Price  \\n–5. Calculate the Options Grant  \\n–An Example: Hiring a CTO  \\n•Important Takeaways  Part III : The Fine Print – Terms  \\n•Strike Price  \\n•Vesting Schedule  \\n•The Cliff  \\n–Example: Standard Vesting w/ a Cliff \\n•Vesting in a Liquidity Event  \\n•Exercising Options', 'page number': 'Page2'}, {'chunk': 1, 'text': '•Important Takeaways  Part III : The Fine Print – Terms  \\n•Strike Price  \\n•Vesting Schedule  \\n•The Cliff  \\n–Example: Standard Vesting w/ a Cliff \\n•Vesting in a Liquidity Event  \\n•Exercising Options  \\n•Tax Considerations  \\n•Legal Advice  \\n \\nPart IV: ESOPs for the Long Term  \\n•Retention Grants  \\n•Discretionary Grants  \\n•Social Impact Considerations  \\n•Options Modeling – Overview  \\n•Options Modeling – A Detailed Example  \\n \\nPart V: Resources & Further Reading', 'page number': 'Page2'}, {'chunk': 0, 'text': 'INTRO TO OPTIONS PLANS  Part I', 'page number': 'Page3'}, {'chunk': 0, 'text': 'What is an ESOP?  \\n•An Employee Stock Options Plan (ESOP)  \\n \\n•An allocation  of shares that will be granted to employees in the future \\nin the form of stock options  \\n–How much equity should we set aside for employees?  \\n \\n•A plan for how these options will be distributed:  \\n–How many shares will individual employees receive?  \\n–What terms will govern these grants?  \\n \\n•The plan is as important as the allocation!', 'page number': 'Page4'}, {'chunk': 0, 'text': 'What is an Option?  \\n•Why do options have intrinsic value?  \\n–A effective form of equity ownership  \\n–A locked -in price for shares  \\n•How do startups use options?  \\n–To bring in founding team members \\nwho are not co -founders  \\n–To recruit, compensate and retain \\nearly employees  \\n–To allow later employees to share in \\nthe company’s long -term upside  Terminology:   \\nThis presentation uses “options” \\ngenerally to refer to several types of \\nsecurities that are often issued to startup \\nemployees to provide for effective equity \\nownership, including:  \\n-Stock options (the right to buy \\ncommon stock a set strike price)  \\n-Restricted stock (common stock \\nissued early on to top employees)  \\n-Restricted stock units (a promise to \\nissue common stock in the future)  \\nAppropriate use of these securities will \\nvary based on local regulatory and tax \\nconsiderations.  An option is a right (but not an obligation) to purchase a quantity', 'page number': 'Page5'}, {'chunk': 1, 'text': 'Appropriate use of these securities will \\nvary based on local regulatory and tax \\nconsiderations.  An option is a right (but not an obligation) to purchase a quantity \\nof a company’s stock at a set price for a certain period of time', 'page number': 'Page5'}, {'chunk': 0, 'text': 'Lifecycle of a Startup ESOP  \\n•Founders and early investors  create an ESOP by setting aside a \\npercentage of shares to be granted to future employees  \\n•Management and the Board of Directors  issue these shares to \\nemployees as options packages granted for hiring, promotion and \\nretention  \\n•Employees  receive all of their options upfront, but the company \\nmaintains a right to force forfeit that diminishes over time through a \\nprocess called “vesting”  \\n•Options are exercised  by employees when the company is acquired \\nor taken public. The employee pays the “strike price” to acquire the \\nshares, but those shares are now marketable at a higher value', 'page number': 'Page6'}, {'chunk': 0, 'text': 'Common Terms in an Options Package  \\nNumber of Shares  The total number of  options granted to an \\nemployee, and therefore the maximum number of \\nshares that employee has access to   \\nStrike Price  The price the  employee must pay to purchase \\neach share if and when the employee chooses to \\nexercise the option  \\nVesting  Schedule  The timeline over which the options become \\nwholly owned and exercisable  by the employee \\n(no longer subject to repurchase by the company)  \\nCliff Period  The trial  period during which no vesting occurs; in \\nthis period vesting accrues, but the total effect of \\nthis vesting is realized immediately after the cliff  \\nExpiration Date  The last date on which the options  may be \\nexercised and converted into common shares by \\nthe employee  \\nWe will discuss the mechanics in further detail, but these basic \\nterms are helpful to understanding options grants', 'page number': 'Page7'}, {'chunk': 0, 'text': 'Why Issue Options to Employees?  \\n•Attract Talent:  options can be used to attract top recruits, particularly \\nengineers, product managers and other technical team members  \\n•Retain Employees:  options vest over several years, creating strong \\nincentives for employees to remain employees  \\n•Align Incentives:  by making employees equity owners, options align \\nincentives with the long -term goals of the company  \\n•Reward Value Creation:  options reward tangible contributions that \\nincrease corporate valuation by giving employees a slice of that value  \\n•Encourage Long -term Thinking : options typically pay off only in a \\nliquidity event or exit, and thus push employees to build the company \\nfor long -term success', 'page number': 'Page8'}]\n",
            "['The defining difference between Silicon Valley companies and almost \\nevery other industry in the U.S. is the virtually universal practice among \\ntech companies of distributing meaningful equity (usually in the form of \\nstock options) to ordinary employees .  A Defining Characteristic of Startup Culture  \\nSteven Johnson, Technology Writer  \\n•Startups are a unique case . Unlike at larger corporations, employee \\nownership is an essential element of startup communities and culture  \\n–As high -risk/high -reward enterprises, startups use options to align \\nemployee compensation with the risk -prone mentality of the \\nbusiness  \\n–Startups seeking to achieve a “big exit” use options to align all \\nemployees to drive toward this desired outcome', \"A Necessary Part of the Capital Structure  \\n•Venture capitalists require ESOPs . For many VCs, establishing a \\nstock option pool is a prerequisite to closing a deal  \\n–In an industry where options are ubiquitous, startups are compelled \\nto offer options packages to compete for top talent with other \\nventure -backed companies  \\n–When operating budgets are tight, competitive compensation \\npackages may not be possible; options can be used to incentivize \\nemployees instead of cash  \\nI can't think of a term sheet that we have issued that didn't have a \\nspecific provision for employee equity.  \\nFred Wilson, Union Square Ventures\", 'When to Create an ESOP?  \\nStage  Considerations  Takeaway  \\nPre-seed  Founders focused on traction  (often too \\nbusy for an ESOP).  Key employees are \\ngiven equity/options on an ad hoc basis  ESOP  not necessary, but it can be \\nhelpful to sanity check how much equity \\nyou are giving away to early hires  \\nSeed  First outside financing round. Investors \\neither angel or institutional; institutional \\ninvestors will require an ESOP  Seed rounds can be closed without an \\nESOP; the benefit to doing so is that \\nseed investors then share in the dilution  \\nEarly -VC The first true VC round. Investors will \\nrequire an ESOP in place. New hires \\nwill be seek large equity grants.  ESOP must be created  (to appease \\ninvestors and to serve as a guideline for \\nthe size of new -hire options grants)  \\nLate-VC Flush with capital,  startups at this stage \\nbegin to steadily ramp -up hiring, yet \\nemployees still want equity  Important to have standardized the  \\nESOP and the amount of equity granted', 'Late-VC Flush with capital,  startups at this stage \\nbegin to steadily ramp -up hiring, yet \\nemployees still want equity  Important to have standardized the  \\nESOP and the amount of equity granted \\nto new hires at each level  \\nGrowth  Company is aggressively pursuing \\ngrowth and hiring; likely to have \\nexhausted most of the ESOP  Most of the ESOP is gone, but shares \\nremaining are more valuable; use them \\nto allow  new hires to share in the upside  Make employee equity allocations and set up an ESOP sometime \\nbetween the pre -seed and early -VC stage', 'Communicating Options to Employees: % versus $  \\nOptions packages can be communicated either as (1) a percentage \\nof ownership in the company, or (2) a dollar value based on the \\ncurrent valuation; we encourage the latter when possible  \\n% $ \\n“We are granting you options equivalent to \\n0.5% of the company’s equity”  \\nConsiderations:  \\n•At an early stage, the only way  to \\ncommunicate options grants given no true \\nvaluation of the company  \\n•Hard for employees to grasp  what they \\nare really getting (“0.5% seems too little”)  \\n•Invites a negotiation  about what percent \\nof the company an employee really \\ndeserves  “We are granting you options equivalent to \\n$200,000 of company stock”  \\nConsiderations:  \\n•Once valuation is established, highly \\neffective  way to communicate the true \\nvalue of an options grant  \\n•Easy for employees to grasp  what they \\nare really getting (“$200,000 is a lot”)  \\n•Grounds negotiations  in a discussion \\nabout concrete dollar amounts, rather', 'value of an options grant  \\n•Easy for employees to grasp  what they \\nare really getting (“$200,000 is a lot”)  \\n•Grounds negotiations  in a discussion \\nabout concrete dollar amounts, rather \\nthan a percent of the company  \\nNote: Although we recommend communicating options packages as a dollar value, we do not suggest \\nrefusing employees information about their effective percentage ownership ; all options holders are \\nentitled to this information, and to refuse would be unethical .', 'HOW MUCH TO GRANT  Part II', 'Two Approaches  \\nIn reality, creating an ESOP will require a combination of \\ntop-down and bottom -up planning  Top Down  Bottom Up  \\nDecide the total amount of \\nequity to be granted; allocate \\nthese shares to employees \\nover time  Decide the appropriate size of \\nindividual equity grants by \\nposition; issue these shares as \\nemployees are hired', 'The Top -Down Process  \\n1.Determine how much equity to set aside for non -founder employees  \\n2.Create a schedule of how this equity will be distributed over time', '1. How Much Equity to Set Aside in the ESOP?  \\n•Founders  are top managers \\nwith functional roles that are \\nnot redundant  \\n•DNA  of the company is in a \\nnon-technical industry; no \\ntechnology emphasis  \\n•Geographic focus  is on a \\nregion that is not considered a \\nstartup hub  \\n•Hiring needs are primarily \\nadministrative or back -office \\nteam members  <15%  20% 25% Generally non-founder employees  get 15 -20% of the company, with some \\ncompanies issuing up to 25% (and a current trend toward bigger ESOPs)  \\n•Founders  are top mangers, \\nbut hire others to fill key \\ntechnical or functional roles  \\n•DNA  of the company is in \\napplying technology to a non -\\ntechnical industry  \\n•Geographic focus  is either \\nwholly or partially in a startup \\nhub \\n•Hiring needs are primarily \\nsales and marketing team \\nmembers  •Founders  are not top \\nmanagers in the business, or \\nplan to step aside  \\n•DNA  of the company is in \\ntechnology, engineering, or \\ndata science  \\n•Geographic focus  is in a', 'members  •Founders  are not top \\nmanagers in the business, or \\nplan to step aside  \\n•DNA  of the company is in \\ntechnology, engineering, or \\ndata science  \\n•Geographic focus  is in a \\nleading startup hub such as \\nSF, NYC or Boston  \\n•Hiring needs are primarily \\nengineering, development, or \\ntechnical team members  \\nThere are no hard and fast rules, but by looking your company’s founders, its DNA, \\nits geographic focus, and its hiring needs you can begin to benchmark how much \\nequity to set aside for the ESOP']\n",
            "[{'chunk': 0, 'text': 'The defining difference between Silicon Valley companies and almost \\nevery other industry in the U.S. is the virtually universal practice among \\ntech companies of distributing meaningful equity (usually in the form of \\nstock options) to ordinary employees .  A Defining Characteristic of Startup Culture  \\nSteven Johnson, Technology Writer  \\n•Startups are a unique case . Unlike at larger corporations, employee \\nownership is an essential element of startup communities and culture  \\n–As high -risk/high -reward enterprises, startups use options to align \\nemployee compensation with the risk -prone mentality of the \\nbusiness  \\n–Startups seeking to achieve a “big exit” use options to align all \\nemployees to drive toward this desired outcome', 'page number': 'Page9'}, {'chunk': 0, 'text': \"A Necessary Part of the Capital Structure  \\n•Venture capitalists require ESOPs . For many VCs, establishing a \\nstock option pool is a prerequisite to closing a deal  \\n–In an industry where options are ubiquitous, startups are compelled \\nto offer options packages to compete for top talent with other \\nventure -backed companies  \\n–When operating budgets are tight, competitive compensation \\npackages may not be possible; options can be used to incentivize \\nemployees instead of cash  \\nI can't think of a term sheet that we have issued that didn't have a \\nspecific provision for employee equity.  \\nFred Wilson, Union Square Ventures\", 'page number': 'Page10'}, {'chunk': 0, 'text': 'When to Create an ESOP?  \\nStage  Considerations  Takeaway  \\nPre-seed  Founders focused on traction  (often too \\nbusy for an ESOP).  Key employees are \\ngiven equity/options on an ad hoc basis  ESOP  not necessary, but it can be \\nhelpful to sanity check how much equity \\nyou are giving away to early hires  \\nSeed  First outside financing round. Investors \\neither angel or institutional; institutional \\ninvestors will require an ESOP  Seed rounds can be closed without an \\nESOP; the benefit to doing so is that \\nseed investors then share in the dilution  \\nEarly -VC The first true VC round. Investors will \\nrequire an ESOP in place. New hires \\nwill be seek large equity grants.  ESOP must be created  (to appease \\ninvestors and to serve as a guideline for \\nthe size of new -hire options grants)  \\nLate-VC Flush with capital,  startups at this stage \\nbegin to steadily ramp -up hiring, yet \\nemployees still want equity  Important to have standardized the  \\nESOP and the amount of equity granted', 'page number': 'Page11'}, {'chunk': 1, 'text': 'Late-VC Flush with capital,  startups at this stage \\nbegin to steadily ramp -up hiring, yet \\nemployees still want equity  Important to have standardized the  \\nESOP and the amount of equity granted \\nto new hires at each level  \\nGrowth  Company is aggressively pursuing \\ngrowth and hiring; likely to have \\nexhausted most of the ESOP  Most of the ESOP is gone, but shares \\nremaining are more valuable; use them \\nto allow  new hires to share in the upside  Make employee equity allocations and set up an ESOP sometime \\nbetween the pre -seed and early -VC stage', 'page number': 'Page11'}, {'chunk': 0, 'text': 'Communicating Options to Employees: % versus $  \\nOptions packages can be communicated either as (1) a percentage \\nof ownership in the company, or (2) a dollar value based on the \\ncurrent valuation; we encourage the latter when possible  \\n% $ \\n“We are granting you options equivalent to \\n0.5% of the company’s equity”  \\nConsiderations:  \\n•At an early stage, the only way  to \\ncommunicate options grants given no true \\nvaluation of the company  \\n•Hard for employees to grasp  what they \\nare really getting (“0.5% seems too little”)  \\n•Invites a negotiation  about what percent \\nof the company an employee really \\ndeserves  “We are granting you options equivalent to \\n$200,000 of company stock”  \\nConsiderations:  \\n•Once valuation is established, highly \\neffective  way to communicate the true \\nvalue of an options grant  \\n•Easy for employees to grasp  what they \\nare really getting (“$200,000 is a lot”)  \\n•Grounds negotiations  in a discussion \\nabout concrete dollar amounts, rather', 'page number': 'Page12'}, {'chunk': 1, 'text': 'value of an options grant  \\n•Easy for employees to grasp  what they \\nare really getting (“$200,000 is a lot”)  \\n•Grounds negotiations  in a discussion \\nabout concrete dollar amounts, rather \\nthan a percent of the company  \\nNote: Although we recommend communicating options packages as a dollar value, we do not suggest \\nrefusing employees information about their effective percentage ownership ; all options holders are \\nentitled to this information, and to refuse would be unethical .', 'page number': 'Page12'}, {'chunk': 0, 'text': 'HOW MUCH TO GRANT  Part II', 'page number': 'Page13'}, {'chunk': 0, 'text': 'Two Approaches  \\nIn reality, creating an ESOP will require a combination of \\ntop-down and bottom -up planning  Top Down  Bottom Up  \\nDecide the total amount of \\nequity to be granted; allocate \\nthese shares to employees \\nover time  Decide the appropriate size of \\nindividual equity grants by \\nposition; issue these shares as \\nemployees are hired', 'page number': 'Page14'}, {'chunk': 0, 'text': 'The Top -Down Process  \\n1.Determine how much equity to set aside for non -founder employees  \\n2.Create a schedule of how this equity will be distributed over time', 'page number': 'Page15'}, {'chunk': 0, 'text': '1. How Much Equity to Set Aside in the ESOP?  \\n•Founders  are top managers \\nwith functional roles that are \\nnot redundant  \\n•DNA  of the company is in a \\nnon-technical industry; no \\ntechnology emphasis  \\n•Geographic focus  is on a \\nregion that is not considered a \\nstartup hub  \\n•Hiring needs are primarily \\nadministrative or back -office \\nteam members  <15%  20% 25% Generally non-founder employees  get 15 -20% of the company, with some \\ncompanies issuing up to 25% (and a current trend toward bigger ESOPs)  \\n•Founders  are top mangers, \\nbut hire others to fill key \\ntechnical or functional roles  \\n•DNA  of the company is in \\napplying technology to a non -\\ntechnical industry  \\n•Geographic focus  is either \\nwholly or partially in a startup \\nhub \\n•Hiring needs are primarily \\nsales and marketing team \\nmembers  •Founders  are not top \\nmanagers in the business, or \\nplan to step aside  \\n•DNA  of the company is in \\ntechnology, engineering, or \\ndata science  \\n•Geographic focus  is in a', 'page number': 'Page16'}, {'chunk': 1, 'text': 'members  •Founders  are not top \\nmanagers in the business, or \\nplan to step aside  \\n•DNA  of the company is in \\ntechnology, engineering, or \\ndata science  \\n•Geographic focus  is in a \\nleading startup hub such as \\nSF, NYC or Boston  \\n•Hiring needs are primarily \\nengineering, development, or \\ntechnical team members  \\nThere are no hard and fast rules, but by looking your company’s founders, its DNA, \\nits geographic focus, and its hiring needs you can begin to benchmark how much \\nequity to set aside for the ESOP', 'page number': 'Page16'}]\n",
            "['2. A Typical Distribution Schedule  \\nSeniority  Equity Allocation  \\nFirst 10 Employees  10% \\nNext 20 Employees  5% \\nNext 50 Employees  5% \\n•Early -stage equity grants are always a negotiation, but generally:  \\n–CTO: 1 -5% \\n–Key Developer or Engineer: 1 -2% \\n–Other Functional Team Member: 0.5 -1.5%  \\n–No non -founding member of the senior team should receive over 10%', 'The Bottom -Up Process  \\n1.Segment your human resources  \\n2.Create pay multipliers for each job function  \\n3.Determine the dollar value of an options grant  \\n4.Determine the current share price  \\n5.Calculate options grants', '1. Segment Your Human Resources  \\nSegment  Roles  Award  \\nin % or $?  \\nFounders  Co-Founders  % \\nFounding Team  Technical & Product  % \\nEarly -Stage Hires  Senior Team  (C-Level)  $ \\nDirectors / VPs  $ \\nFunctional / Technical Team  $ \\nSupport Team  $ \\n•Think about the early -stage team in three segments  \\n–Founders : the founding partners in the business  \\n–Founding Team : the people you hire to build your product  \\n–Early -Stage Hires : the team you build as you raise capital  \\n•As early as possible, begin communicating options grants in terms of \\ndollars rather than percentages', '2. Establish Pay Multipliers for Each Role  \\nSegment  Roles  Award  \\nin % or $?  Options Multiplier  \\n(Multiple  of Salary)  \\nFounders  Co-Founders  % -- \\nFounding Team  Technical & Product  % Negotiated  \\nEarly -Stage Hires  Senior Team  (C-Level)  $ 0.5x – 1.0x base  salary  \\nDirectors / VPs  $ 0.25x – 0.5x base salary  \\nFunctional / Technical Team  $ 0.1x – 0.25x base  salary  \\nSupport Team  $ 0.0x – 0.1x base salary  \\n•After segmenting the early -stage team, establish a standardized \\nmultiple of base salary to be granted as an option package  \\n–These ranges provide a ballpark grant for each role  \\n–Get away from actively negotiating packages with employees  \\n–Be transparent about this methodology  \\nSource: This range of multiples was provided by Fred Wilson of Union Square Ventures, \\nwhich he created in collaboration with a leading HR consulting firm.', '3. Determine the Dollar Value of the Options Grant  \\nEmployee  \\nBase Salary  = x Options  \\nMultiplier  Dollar Value  \\nof Options Grant  Base Salary as negotiated with \\nthe employee at the time of hire \\nor promotion  \\nOptions Multiplier is decided \\nbased on the employee’s role in \\nthe HR segmentation schedule', '4. Determine the Current Share Price  \\nLatest “True” Valuation  \\nFully -Diluted Share Count  Current Share Price  = What is the company actually worth today?  Or, at what \\nvaluation could you raise capital or sell the company? This \\nis an internal valuation (not published). Things to consider:  \\n-The latest financing round  \\n-Any bonafide  acquisition offer  \\n-Comparable company valuations / DCF analysis  \\nHow many shares are outstanding?  This should include \\nall shares issued, as well as any dilutive securities:  \\n-Common shares  \\n-Preferred shares  \\n-Shares authorized for issuance  \\n-Options or warrants', '5. Calculate the Options Grant  \\nOptions Grant  \\n(Number of Shares)  = Dollar Value  \\nof Options Grant  \\nCurrent Share Price', '0.8 An Example: Hiring a CTO  \\nEmployee Information  \\n•CTO (Senior Team)  \\n•$100,000 salary  \\n•0.8x options multiplier  \\nCompany Information  \\n•Last valuation round: $5M  \\n•Amount raised: $2M  \\n•Current valuation: $7M  \\n•Diluted share count: 50,000  Dollar Value of \\nOptions Grant  = $100,000  x $80,000  = \\nCurrent  \\nShare Price  = $7M \\n$140  = \\n50,000  \\nOptions Grant  = $80,000  \\n571 shares  = \\n$140  \\nNote that this employee received 1.1% of the diluted shares outstanding; \\nhowever, the grant is communicated as an $80,000 grant of 571 options, \\nrather than as a percentage ownership stake in the company  CALCULATION STEPS', 'Important Takeaways  \\n•Top-down planning (“the allocation”)  \\n–Holistically consider what percentage of the company should \\nbelong to employees  \\n–Allocate these shares to an ESOP  \\n•Bottom -up planning (“the plan”)  \\n–Specifically consider how much equity each employee should be \\nawarded  \\n–Use this framework for individual equity grants  \\n•Key Takeaway : Get away from ad hoc equity awards and personal \\nnegotiations by standardizing both the amount of equity available to \\nemployees and the process by which packages are awarded', 'THE FINE PRINT – TERMS  Part III']\n",
            "[{'chunk': 0, 'text': '2. A Typical Distribution Schedule  \\nSeniority  Equity Allocation  \\nFirst 10 Employees  10% \\nNext 20 Employees  5% \\nNext 50 Employees  5% \\n•Early -stage equity grants are always a negotiation, but generally:  \\n–CTO: 1 -5% \\n–Key Developer or Engineer: 1 -2% \\n–Other Functional Team Member: 0.5 -1.5%  \\n–No non -founding member of the senior team should receive over 10%', 'page number': 'Page17'}, {'chunk': 0, 'text': 'The Bottom -Up Process  \\n1.Segment your human resources  \\n2.Create pay multipliers for each job function  \\n3.Determine the dollar value of an options grant  \\n4.Determine the current share price  \\n5.Calculate options grants', 'page number': 'Page18'}, {'chunk': 0, 'text': '1. Segment Your Human Resources  \\nSegment  Roles  Award  \\nin % or $?  \\nFounders  Co-Founders  % \\nFounding Team  Technical & Product  % \\nEarly -Stage Hires  Senior Team  (C-Level)  $ \\nDirectors / VPs  $ \\nFunctional / Technical Team  $ \\nSupport Team  $ \\n•Think about the early -stage team in three segments  \\n–Founders : the founding partners in the business  \\n–Founding Team : the people you hire to build your product  \\n–Early -Stage Hires : the team you build as you raise capital  \\n•As early as possible, begin communicating options grants in terms of \\ndollars rather than percentages', 'page number': 'Page19'}, {'chunk': 0, 'text': '2. Establish Pay Multipliers for Each Role  \\nSegment  Roles  Award  \\nin % or $?  Options Multiplier  \\n(Multiple  of Salary)  \\nFounders  Co-Founders  % -- \\nFounding Team  Technical & Product  % Negotiated  \\nEarly -Stage Hires  Senior Team  (C-Level)  $ 0.5x – 1.0x base  salary  \\nDirectors / VPs  $ 0.25x – 0.5x base salary  \\nFunctional / Technical Team  $ 0.1x – 0.25x base  salary  \\nSupport Team  $ 0.0x – 0.1x base salary  \\n•After segmenting the early -stage team, establish a standardized \\nmultiple of base salary to be granted as an option package  \\n–These ranges provide a ballpark grant for each role  \\n–Get away from actively negotiating packages with employees  \\n–Be transparent about this methodology  \\nSource: This range of multiples was provided by Fred Wilson of Union Square Ventures, \\nwhich he created in collaboration with a leading HR consulting firm.', 'page number': 'Page20'}, {'chunk': 0, 'text': '3. Determine the Dollar Value of the Options Grant  \\nEmployee  \\nBase Salary  = x Options  \\nMultiplier  Dollar Value  \\nof Options Grant  Base Salary as negotiated with \\nthe employee at the time of hire \\nor promotion  \\nOptions Multiplier is decided \\nbased on the employee’s role in \\nthe HR segmentation schedule', 'page number': 'Page21'}, {'chunk': 0, 'text': '4. Determine the Current Share Price  \\nLatest “True” Valuation  \\nFully -Diluted Share Count  Current Share Price  = What is the company actually worth today?  Or, at what \\nvaluation could you raise capital or sell the company? This \\nis an internal valuation (not published). Things to consider:  \\n-The latest financing round  \\n-Any bonafide  acquisition offer  \\n-Comparable company valuations / DCF analysis  \\nHow many shares are outstanding?  This should include \\nall shares issued, as well as any dilutive securities:  \\n-Common shares  \\n-Preferred shares  \\n-Shares authorized for issuance  \\n-Options or warrants', 'page number': 'Page22'}, {'chunk': 0, 'text': '5. Calculate the Options Grant  \\nOptions Grant  \\n(Number of Shares)  = Dollar Value  \\nof Options Grant  \\nCurrent Share Price', 'page number': 'Page23'}, {'chunk': 0, 'text': '0.8 An Example: Hiring a CTO  \\nEmployee Information  \\n•CTO (Senior Team)  \\n•$100,000 salary  \\n•0.8x options multiplier  \\nCompany Information  \\n•Last valuation round: $5M  \\n•Amount raised: $2M  \\n•Current valuation: $7M  \\n•Diluted share count: 50,000  Dollar Value of \\nOptions Grant  = $100,000  x $80,000  = \\nCurrent  \\nShare Price  = $7M \\n$140  = \\n50,000  \\nOptions Grant  = $80,000  \\n571 shares  = \\n$140  \\nNote that this employee received 1.1% of the diluted shares outstanding; \\nhowever, the grant is communicated as an $80,000 grant of 571 options, \\nrather than as a percentage ownership stake in the company  CALCULATION STEPS', 'page number': 'Page24'}, {'chunk': 0, 'text': 'Important Takeaways  \\n•Top-down planning (“the allocation”)  \\n–Holistically consider what percentage of the company should \\nbelong to employees  \\n–Allocate these shares to an ESOP  \\n•Bottom -up planning (“the plan”)  \\n–Specifically consider how much equity each employee should be \\nawarded  \\n–Use this framework for individual equity grants  \\n•Key Takeaway : Get away from ad hoc equity awards and personal \\nnegotiations by standardizing both the amount of equity available to \\nemployees and the process by which packages are awarded', 'page number': 'Page25'}, {'chunk': 0, 'text': 'THE FINE PRINT – TERMS  Part III', 'page number': 'Page26'}]\n",
            "['Strike Price  \\n•Options are “struck” at a specific strike price when issued; the holder \\nmust pay this amount in order to exercise the option  \\n–The expectation is that the shares will have significantly increased \\nin value, and the holder will profit from the spread  \\n–Regulations for how strike prices can be set will vary by region  \\n•However, it is generally in the best interest of both company and \\nemployee if the strike price is set as low as possible  \\n–This is because options are typically exercised only after an \\nacquisition or IPO, so while a higher strike price costs the \\nemployee more, none of the current shareholders benefit  The strike price is the amount that the employee must pay to turn one \\noption into one share of stock. Also known as the “exercise price”', 'Vesting Schedule  \\n•Vesting protects the company  \\n–It stages the accrual of options, mitigating the risk that an employee \\nwill depart with an undeserved equity stake  \\n–Continually incentivizes employees as they earn their options \\npackage over the course of the vesting period  \\n•Standard vesting period: 4 years  \\n–Alternatively, some companies offer 3 -year vesting, although with a \\nshorter vesting period they may offer a smaller options package  The vesting schedule is the timetable over which an employee accrues the \\nright to keep the options that have been awarded', 'The Cliff  \\n•The cliff protects the company  \\n•This trial period exists so that the company can avoid giving shares to \\nemployees immediately, reserving the opportunity part ways if the \\nemployee does not perform well  \\n•Standard cliff: 1 year  \\n–Alternatively, some companies require a 2 -year cliff. However, in \\nstartup communities where employees know what is “standard” this \\ncan cause significant discontent  \\n–Firing an employee right as their cliff is about to expire is legal, but \\nunethical – begin to communicate discontent as early as possible \\nduring the trail period  The trial period during which no vesting occurs; in this period vesting \\naccrues, but the accrued shares are earned immediately after the cliff', '200 shares400 shares600 shares800 shares1,000 shares\\n0 months 12 months 24 months 36 months 48 monthsExample: Standard Vesting with a Cliff  \\n•New hire  \\n•Granted options for 1,000 shares  \\n•4-year vesting schedule with 1 -year cliff  \\n–At 12 months earns 250 shares  \\n–Then earns ~21 shares per month  \\nMonths on the Job  Vested Options  \\nThe cliff  Monthly vesting', 'Vesting in a Liquidity Event  \\nThe terms of an options package should specifically address what \\nhappens in a liquidity event such as an IPO or acquisition  \\n•Vested options generally become exercisable  \\n•Unvested options can either:  \\n–Roll over and remain unvested  \\n–Receive accelerated vesting  \\n•These options vest automatically upon change of control – not \\ncommon for everyone, but typical for top employees  \\n–Receive double -trigger vesting  \\n•These options vest automatically upon change of control, but \\nonly if the employee is terminated – not common for everyone, \\nbut typical for employees who may be extraneous in a merger \\n(CFO, General Counsel)', 'Exercising Options  \\n•Options are “in the money” if the share value is above the strike price  \\n•To exercise an option, the employee pays the strike price to the \\ncompany and receives shares for each option exercised  \\n•If there has been a liquidity event  \\n–In the case of an IPO , the employee can now sell these shares in \\nthe public markets  \\n–In the case of a cash acquisition , an employee’s shares are \\nbought out at the cash offer price  \\n–In the case of a stock acquisition , an employee’s shares are \\nconverted to shares in the new company  Options are usually exercised following a liquidity event, but employees \\ncan exercise them at any time after they vest', 'Tax Considerations  \\nOptions can have material tax consequences for employees; startups \\nneed to understand the tax implications and be upfront with new hires  \\n•Tax treatment of options will vary by region  \\n•Tax treatment will vary by the type option security issued  \\n•Several possibilities:  \\n–Taxable event upon grant  \\n–Taxable event upon leaving company  \\n–Taxable event upon exercise  \\n–No effective tax event  \\n•It is important for employees to fully understand the tax implications of \\nthe securities they are receiving', 'Legal Advice  \\nWhen structuring an ESOP, engage an experienced \\nstartup lawyer with regional expertise to standardize the \\nterms and language', 'ESOPS FOR THE LONG TERM  Part IV', 'Retention Grants  \\n•Retention grants are used to incentive employees to stay with the \\ncompany beyond their 4 -year vesting period: a “top off”  \\n–Do not wait until an employee is fully vested to make a retention \\ngrant! This creates a natural exit incentive at the end of 4 years  \\n–Instead, consider making smaller retention grants every 2 years  \\n•A framework for retention grants:  \\nGrant Date  Every 2  years, beginning 2 years after initial package  \\nOptions Multiplier:  Use ½ of the employee’s standard options multiplier  \\nSalary Baseline:  Use current salary  if employee has received a raise   \\nValuation & Shares  Use current valuation and share count, if changed  \\nRetention  \\nGrant  = Current \\nSalary  New (Latest) Valuation  \\nDiluted Share Count  x 50% of Options \\nMultiplier  ÷']\n",
            "[{'chunk': 0, 'text': 'Strike Price  \\n•Options are “struck” at a specific strike price when issued; the holder \\nmust pay this amount in order to exercise the option  \\n–The expectation is that the shares will have significantly increased \\nin value, and the holder will profit from the spread  \\n–Regulations for how strike prices can be set will vary by region  \\n•However, it is generally in the best interest of both company and \\nemployee if the strike price is set as low as possible  \\n–This is because options are typically exercised only after an \\nacquisition or IPO, so while a higher strike price costs the \\nemployee more, none of the current shareholders benefit  The strike price is the amount that the employee must pay to turn one \\noption into one share of stock. Also known as the “exercise price”', 'page number': 'Page27'}, {'chunk': 0, 'text': 'Vesting Schedule  \\n•Vesting protects the company  \\n–It stages the accrual of options, mitigating the risk that an employee \\nwill depart with an undeserved equity stake  \\n–Continually incentivizes employees as they earn their options \\npackage over the course of the vesting period  \\n•Standard vesting period: 4 years  \\n–Alternatively, some companies offer 3 -year vesting, although with a \\nshorter vesting period they may offer a smaller options package  The vesting schedule is the timetable over which an employee accrues the \\nright to keep the options that have been awarded', 'page number': 'Page28'}, {'chunk': 0, 'text': 'The Cliff  \\n•The cliff protects the company  \\n•This trial period exists so that the company can avoid giving shares to \\nemployees immediately, reserving the opportunity part ways if the \\nemployee does not perform well  \\n•Standard cliff: 1 year  \\n–Alternatively, some companies require a 2 -year cliff. However, in \\nstartup communities where employees know what is “standard” this \\ncan cause significant discontent  \\n–Firing an employee right as their cliff is about to expire is legal, but \\nunethical – begin to communicate discontent as early as possible \\nduring the trail period  The trial period during which no vesting occurs; in this period vesting \\naccrues, but the accrued shares are earned immediately after the cliff', 'page number': 'Page29'}, {'chunk': 0, 'text': '200 shares400 shares600 shares800 shares1,000 shares\\n0 months 12 months 24 months 36 months 48 monthsExample: Standard Vesting with a Cliff  \\n•New hire  \\n•Granted options for 1,000 shares  \\n•4-year vesting schedule with 1 -year cliff  \\n–At 12 months earns 250 shares  \\n–Then earns ~21 shares per month  \\nMonths on the Job  Vested Options  \\nThe cliff  Monthly vesting', 'page number': 'Page30'}, {'chunk': 0, 'text': 'Vesting in a Liquidity Event  \\nThe terms of an options package should specifically address what \\nhappens in a liquidity event such as an IPO or acquisition  \\n•Vested options generally become exercisable  \\n•Unvested options can either:  \\n–Roll over and remain unvested  \\n–Receive accelerated vesting  \\n•These options vest automatically upon change of control – not \\ncommon for everyone, but typical for top employees  \\n–Receive double -trigger vesting  \\n•These options vest automatically upon change of control, but \\nonly if the employee is terminated – not common for everyone, \\nbut typical for employees who may be extraneous in a merger \\n(CFO, General Counsel)', 'page number': 'Page31'}, {'chunk': 0, 'text': 'Exercising Options  \\n•Options are “in the money” if the share value is above the strike price  \\n•To exercise an option, the employee pays the strike price to the \\ncompany and receives shares for each option exercised  \\n•If there has been a liquidity event  \\n–In the case of an IPO , the employee can now sell these shares in \\nthe public markets  \\n–In the case of a cash acquisition , an employee’s shares are \\nbought out at the cash offer price  \\n–In the case of a stock acquisition , an employee’s shares are \\nconverted to shares in the new company  Options are usually exercised following a liquidity event, but employees \\ncan exercise them at any time after they vest', 'page number': 'Page32'}, {'chunk': 0, 'text': 'Tax Considerations  \\nOptions can have material tax consequences for employees; startups \\nneed to understand the tax implications and be upfront with new hires  \\n•Tax treatment of options will vary by region  \\n•Tax treatment will vary by the type option security issued  \\n•Several possibilities:  \\n–Taxable event upon grant  \\n–Taxable event upon leaving company  \\n–Taxable event upon exercise  \\n–No effective tax event  \\n•It is important for employees to fully understand the tax implications of \\nthe securities they are receiving', 'page number': 'Page33'}, {'chunk': 0, 'text': 'Legal Advice  \\nWhen structuring an ESOP, engage an experienced \\nstartup lawyer with regional expertise to standardize the \\nterms and language', 'page number': 'Page34'}, {'chunk': 0, 'text': 'ESOPS FOR THE LONG TERM  Part IV', 'page number': 'Page35'}, {'chunk': 0, 'text': 'Retention Grants  \\n•Retention grants are used to incentive employees to stay with the \\ncompany beyond their 4 -year vesting period: a “top off”  \\n–Do not wait until an employee is fully vested to make a retention \\ngrant! This creates a natural exit incentive at the end of 4 years  \\n–Instead, consider making smaller retention grants every 2 years  \\n•A framework for retention grants:  \\nGrant Date  Every 2  years, beginning 2 years after initial package  \\nOptions Multiplier:  Use ½ of the employee’s standard options multiplier  \\nSalary Baseline:  Use current salary  if employee has received a raise   \\nValuation & Shares  Use current valuation and share count, if changed  \\nRetention  \\nGrant  = Current \\nSalary  New (Latest) Valuation  \\nDiluted Share Count  x 50% of Options \\nMultiplier  ÷', 'page number': 'Page36'}]\n",
            "Vector count in collection: 50\n",
            "Vector count in collection: 50\n",
            "[[-0.008683400228619576, 0.0013802740722894669, -0.00950046069920063, -0.05471232160925865, -0.05094366893172264, 0.07279931008815765, 0.06799104809761047, 0.024859841912984848, 0.013527731411159039, 0.002963270992040634, 0.07364299893379211, 0.037931133061647415, -0.017391707748174667, 0.017144590616226196, -0.04749321565032005, 0.03222521394491196, -0.018459241837263107, -0.007567330729216337, -0.021009474992752075, -0.016683941707015038, -0.04281237721443176, 0.009243760257959366, 0.004107718355953693, -0.010874668136239052, 0.010091331787407398, -0.018626835197210312, 0.05693542957305908, -0.036485910415649414, 0.03627529367804527, 0.0046107093803584576, -0.019908107817173004, -0.02328268066048622, 0.03220432624220848, -0.07968733459711075, 1.3341533531274763e-06, -0.026154162362217903, -0.007102690637111664, 0.010138307698071003, -0.10908213257789612, -0.003116773208603263, -0.023970920592546463, -0.011350568383932114, 0.023339327424764633, -0.0030402622651308775, -0.0038237818516790867, 0.0128366369754076, 0.03436190262436867, -0.0055178506299853325, -0.039091408252716064, 0.026868540793657303, 0.0023806418757885695, 0.031720492988824844, -0.08254840970039368, -0.036824245005846024, -0.10133595764636993, 0.0194315854460001, -0.0020832866430282593, -0.09584201127290726, 0.009251253679394722, 0.05560409277677536, 0.03102879226207733, -0.007092031184583902, 0.021866576746106148, -0.021394850686192513, -0.016781417652964592, -0.004870913922786713, 0.07482905685901642, -0.0617884136736393, 0.018169602379202843, 0.0036813165061175823, 0.049038052558898926, 0.03141848370432854, 0.010921865701675415, -0.03919157385826111, 0.06258762627840042, 0.09261447191238403, 0.028381677344441414, 0.033785659819841385, 0.010873720049858093, 0.018857991322875023, 0.015286104753613472, 0.06417202204465866, -0.013676168397068977, 0.006198396906256676, 0.011768439784646034, 0.04763597249984741, -0.018937772139906883, 0.02924412116408348, 0.013990947976708412, 0.050817620009183884, -0.008578812703490257, -0.042453743517398834, 0.05472865328192711, 0.017990346997976303, -0.010252084583044052, -0.025374138727784157, 0.009483993984758854, 0.001770855044014752, -0.013843118213117123, -0.037101637572050095, -0.06886820495128632, 0.017973337322473526, 0.003332796972244978, 0.025964172556996346, 0.016492100432515144, -0.04137782007455826, -0.05369125306606293, 0.02388845570385456, -0.053149182349443436, 0.01262326817959547, 0.03822045028209686, 0.012781954370439053, 0.0035258897114545107, 0.023540062829852104, -0.043865106999874115, -0.016568101942539215, 0.006384215317666531, 0.03451039642095566, -0.0027448025066405535, 0.030863385647535324, -0.03680185228586197, 0.006266306154429913, 0.0007417108281515539, -0.006521628703922033, -0.041557133197784424, -0.0211612731218338, -0.04423237219452858, 0.013232496567070484, 0.01177044864743948, 0.10610630363225937, 0.016938256099820137, -0.031229227781295776, 0.044320277869701385, 0.031251341104507446, 0.0009332578047178686, 0.02418268844485283, 0.01496896706521511, 0.0032172310166060925, 0.017237259075045586, -0.02991619147360325, 0.01681266538798809, 0.023209629580378532, -0.044550441205501556, -0.00487804040312767, -0.0026701423339545727, -0.008821173571050167, -0.05024521052837372, 0.008903290145099163, 0.004470345564186573, -0.010868454352021217, -0.0451887883245945, -0.03631147742271423, 0.01475649606436491, -0.012565488927066326, 0.017007047310471535, 0.029550381004810333, 0.02853120118379593, 0.018454276025295258, -0.01105230301618576, 0.027820302173495293, -0.008163551799952984, -0.012989156879484653, -0.0284678116440773, -0.017692632973194122, -0.06865498423576355, 0.03523998335003853, 0.06123902276158333, 0.030641475692391396, -0.07433760911226273, -0.004937591962516308, -0.007353333756327629, -0.022577762603759766, -0.04093696177005768, 0.024669284000992775, -0.05309004336595535, 0.0005713779828511178, 0.028735756874084473, -0.04977801442146301, -0.02834894508123398, 0.00036349863512441516, -0.07060838490724564, 0.009832719340920448, 0.07172313332557678, 0.050872839987277985, 0.0390276201069355, 0.01159240584820509, 0.01024630106985569, -0.0599256306886673, -0.036062091588974, -0.012134214863181114, 0.015599043108522892, 0.010402183048427105, -0.019502539187669754, 0.06391708552837372, 0.01146315410733223, -0.00833460409194231, 0.003943791147321463, -0.027922268956899643, 0.019421257078647614, -0.005304244346916676, 0.00041503491229377687, -0.023346856236457825, -0.008442895486950874, 0.07757022976875305, -0.017941415309906006, 0.061875611543655396, 0.0404113344848156, -0.015112800523638725, -0.04070129618048668, 0.04471000283956528, 0.1089027151465416, -0.006788384635001421, -0.04595708101987839, -0.02299664355814457, -0.04453934356570244, 0.010161261074244976, -0.026466351002454758, 0.04861460253596306, -0.018058625981211662, 0.020761847496032715, -0.03521755337715149, 0.015204129740595818, -0.0488094799220562, -0.0019910684786736965, 0.015485135838389397, -0.07034149020910263, 0.015763817355036736, 0.03198659047484398, -0.0341796875, 0.02516777254641056, 0.03472084179520607, -0.004818250425159931, -0.032880332320928574, -0.021123506128787994, -0.027159640565514565, -0.016605079174041748, -0.055211156606674194, 0.05100854113698006, -0.05413508042693138, 0.05016461759805679, -0.01475182082504034, -0.02653980627655983, 0.0052351816557347775, 0.007587550673633814, -0.011408070102334023, 0.045014869421720505, -0.023675667122006416, -0.04486408084630966, -0.04808070510625839, -0.008615528233349323, -0.00621373625472188, -0.0458611361682415, 0.003942099865525961, 0.009866610169410706, -0.0632684975862503, 0.00418343348428607, 0.06730173528194427, -0.0037068575620651245, -0.09012238681316376, 0.031519580632448196, 0.07296724617481232, 0.026071922853589058, -0.009633783251047134, 0.012009300291538239, 0.03121189773082733, -0.013964836485683918, 0.028464948758482933, -0.028188474476337433, 0.017124352976679802, 0.0029590639751404524, -0.025870414450764656, -0.011406445875763893, 0.003804907901212573, 0.0053788176737725735, 0.0012493625981733203, -0.036201369017362595, -0.01925104670226574, -0.002892089309170842, 0.04894540458917618, 0.011731928214430809, 0.021551230922341347, 0.0003469605289865285, 0.012173078954219818, -0.013100654818117619, 0.02254781685769558, -0.025585046038031578, 0.06465939432382584, 0.05395100638270378, -0.059573616832494736, 0.02453671582043171, -0.0014288114616647363, -0.0009923659963533282, 0.014321698807179928, 0.0019688038155436516, -0.016429847106337547, 0.008691840805113316, -0.027569903060793877, 0.023540712893009186, -0.014015771448612213, 0.05908995121717453, 0.009433326311409473, 0.07289444655179977, -0.022736480459570885, -0.018167683854699135, -0.06660620123147964, -0.036918576806783676, 0.023674117401242256, 0.012015951797366142, -0.02972664311528206, -0.04794050380587578, -0.0023249380756169558, -0.011015364900231361, -0.016126781702041626, 0.054266102612018585, -0.03519930690526962, -0.0024440635461360216, -0.03272039443254471, -0.03420284017920494, -0.0367937870323658, 0.12119999527931213, 0.03734132647514343, -0.02025134116411209, 0.010101337917149067, 0.012582595460116863, 0.007552827708423138, -0.058980390429496765, -0.008617152459919453, -0.03828775882720947, 0.02042507939040661, -0.027248766273260117, -0.009455583989620209, 0.06096665561199188, 0.002630092902109027, -0.028203073889017105, 0.005816650576889515, 0.051417864859104156, -0.017615634948015213, -0.0023753545247018337, 0.012103230692446232, 0.01491912268102169, 0.02008061669766903, -0.022855669260025024, 0.011228502728044987, -0.0669361874461174, 0.044505294412374496, -0.021682601422071457, -0.00015210894343908876, 0.026081440970301628, 0.024328842759132385, -0.04002026841044426, 0.027682920917868614, 0.018166499212384224, 0.00804854929447174, 0.02479657344520092, -0.005960289854556322, -0.055035196244716644, -0.007263482082635164, 0.05190148949623108, -0.00023740017786622047, -0.040057819336652756, 0.04590208828449249, -0.0056860498152673244, -0.026881229132413864, -0.02463100105524063, 0.020681610330939293, 0.039566632360219955, -7.806270878063515e-05, 0.03591865673661232, 0.006915098521858454, -0.003563473466783762, 0.03872833773493767, 0.02572890743613243, 0.023791873827576637, 0.015290310606360435, -0.02564035914838314, -0.022838955745100975, 0.002892044372856617, 0.01575576327741146, 0.04902883991599083, 0.0035505781415849924, 0.03536321967840195, 0.022552350535988808, 0.05762280896306038, 0.006054996512830257, 0.054029833525419235, -0.05715760961174965, 0.012641899287700653, -0.0015046000480651855, -0.008105453103780746, 0.05272534489631653, -0.02370031550526619, 0.03818824142217636, 0.050785090774297714, 0.07369959354400635, 0.006917736493051052, -0.01871137134730816, -0.004430435132235289, -0.013443555682897568, 0.008938244543969631, -0.021866748109459877, 0.06262021511793137, 0.03169802203774452, 0.004572616424411535, 0.015955673530697823, -0.023925434798002243, -0.06643316149711609, 0.09280615299940109, -0.014904572628438473, -0.02357887662947178, -0.011892651207745075, -0.023370789363980293, 0.02249498851597309, 0.012632115744054317, 0.008487630635499954, 0.045189570635557175, 0.008035528473556042, -0.014318205416202545, 0.03619689121842384, 0.04568512365221977, 0.006575280800461769, 0.012512917630374432, 0.011102394200861454, 0.014385788701474667, 0.018999211490154266, -0.07557521015405655, -0.0030200534965842962, 0.0025519533082842827, 0.0055567738600075245, -0.01354745402932167, -0.016885854303836823, -0.08203216642141342, 0.04470112919807434, -0.02302110195159912, -0.01920495368540287, -0.023241858929395676, 0.016670269891619682, 0.015900330618023872, -0.051760733127593994, -0.05670744925737381, -0.003500786144286394, -0.03257102146744728, 0.06170685961842537, 0.022714506834745407, 0.026401424780488014, -0.03685448318719864, -0.006014463026076555, 0.016870670020580292, 0.08734215795993805, -0.0012026051990687847, -0.011136995628476143, -0.02999374084174633, 0.005942229647189379, -0.04201853647828102, -0.053617868572473526, 0.013213809579610825, 0.010277872905135155, -0.05679237097501755, 0.04567403346300125, -0.003399037988856435, -0.015294897370040417, 0.00980464182794094, 0.03821038454771042, -0.017160017043352127, 0.007363754790276289, -0.013483607210218906, 0.010519213043153286, 0.018969034776091576, 0.04482755437493324, 0.028525669127702713, -0.0003627805854193866, 0.04248339682817459, -0.03442582115530968, -0.0019678594544529915, -0.02252943255007267, -0.008443837985396385, 0.040059905499219894, -0.006495446898043156, 0.013568665832281113, 0.01762331835925579, 0.03470318391919136, -0.021195989102125168, -0.0871342197060585, 0.019717970862984657, 0.006496840622276068, -0.02364952862262726, -0.03993808478116989, 0.050968099385499954, 0.008867107331752777, 0.026883836835622787, -0.014444226399064064, 0.024297596886754036, 0.013384238816797733, 0.004368513822555542, -0.04992002248764038, 0.020939413458108902, 0.02315806783735752, 0.06312423199415207, 0.0776754841208458, 0.0005661800969392061, -0.034015171229839325, 0.041797440499067307, 0.029118705540895462, -0.03744367137551308, 0.022551506757736206, -0.007002314552664757, 0.0036654225550591946, 0.02243606187403202, 0.04458921030163765, 0.007441767491400242, -0.0012579121394082904, -0.008964760228991508, 0.0012069139629602432, 0.017981961369514465, -0.1175895556807518, 0.07586529850959778, -0.03471310809254646, -0.08385229110717773, -0.057382673025131226, -0.020177913829684258, -0.0362301841378212, -0.010431612841784954, 0.027144908905029297, 0.017894843593239784, 0.053405389189720154, 0.030264899134635925, -0.006581662688404322, -0.017353646457195282, -0.034405507147312164, -0.028882792219519615, 0.027223624289035797, 0.06789478659629822, -0.031852837651968, -0.10505927354097366, 0.06591418385505676, -0.004613411612808704, -0.029214389622211456, 0.009534943848848343, 0.02775324322283268, -0.0009426723700016737, -0.02882891334593296, -0.05354073643684387, 0.02765221707522869, -0.016757210716605186, -0.03758414462208748, 0.00026827986584976315, -0.04345646873116493, -0.03833464905619621, 0.016094455495476723, 0.00018510533845983446, -0.004591576289385557, -0.023319745436310768, 0.03729499503970146, -0.021292230114340782, 0.021670108661055565, -0.04163332283496857, -4.525988633897776e-33, -0.00912889651954174, -0.02772591821849346, -0.006137321703135967, -0.017464308068156242, 0.03419158235192299, -0.013485707342624664, 0.026715490967035294, -0.01694222167134285, -0.05387997254729271, -0.03921186178922653, -0.010683272033929825, -0.018943307921290398, 0.005838705226778984, -0.02881237119436264, 0.049531541764736176, -0.04267468303442001, -0.030264999717473984, -0.0046323505230247974, -0.011353228241205215, -0.02513834461569786, -0.015827255323529243, -0.03049120306968689, 0.012076927348971367, 0.05597827211022377, -0.016015484929084778, 0.012453418225049973, -0.007515324279665947, 0.0043480354361236095, -0.08701502531766891, -0.030340222641825676, 0.02804313600063324, -0.04348072409629822, -0.009884661994874477, -0.07361599057912827, -0.007742454297840595, 0.1224030926823616, -0.004424578510224819, -0.028532959520816803, 0.03273842856287956, 0.0007305435719899833, 0.005730922799557447, -0.058102041482925415, -0.018357375636696815, 0.051364850252866745, -0.022592226043343544, -0.01664983667433262, -0.015133620239794254, -0.018418828025460243, -0.007225224282592535, 0.07346326112747192, 0.015037411823868752, -0.017005713656544685, 0.015240770764648914, 0.0634017065167427, 0.02480735071003437, 0.05833028629422188, -0.03214208781719208, -0.02007966861128807, -0.051613859832286835, -0.01702127605676651, 0.06123986840248108, -0.01174156367778778, -0.019315602257847786, -0.009165314957499504, -0.023204438388347626, 0.006120262201875448, -0.12791748344898224, 0.0012480589793995023, -0.02010306902229786, -0.008318442851305008, -0.009970584884285927, 0.030453749001026154, -0.05104577913880348, 0.030738674104213715, -0.02181272581219673, 0.008464893326163292, 0.021720966324210167, 0.0334719642996788, -0.04287856072187424, -0.030682604759931564, 0.09900768846273422, 0.025794902816414833, -0.05758214741945267, -0.07619834691286087, 0.013240334577858448, -0.061874017119407654, -0.034249238669872284, -0.034195031970739365, -0.003204111009836197, 0.016425807029008865, -0.022644823417067528, 0.027036700397729874, 0.006573617458343506, 0.01269987877458334, 0.029481524601578712, -0.030399639159440994, 0.006522181909531355, 0.014079015702009201, 0.01777808368206024, -0.08711309731006622, -0.08529398590326309, 0.02289750799536705, -0.05822765827178955, 0.031493790447711945, 0.02151312679052353, 0.03451462835073471, 0.01069895550608635, -0.06777684390544891, -0.013887288048863411, 0.027250222861766815, -0.017177192494273186, 0.032947417348623276, -0.035583171993494034, -0.03706691414117813, -0.028364423662424088, 0.010081812739372253, 0.02337905392050743, 0.0052351634949445724, 0.0032971317414194345, -0.04614541679620743, -0.03703095018863678, -0.00984970759600401, 0.024813173338770866, -0.03625486046075821, -0.013149857521057129, 0.056880272924900055, 0.06399459391832352, 0.019246630370616913, 0.038908425718545914, -0.0043781111016869545, -0.01390478853136301, -0.025285638868808746, 1.8664256629108422e-07, 0.011993546038866043, -0.031684812158346176, -0.008726412430405617, -0.005604519974440336, 0.007175239734351635, 0.07478562742471695, 0.048540033400058746, 0.0013358697760850191, 0.061618514358997345, -0.007664232049137354, 0.06656496971845627, -0.061584848910570145, -0.03832143917679787, 0.01995440013706684, 0.011457969434559345, -0.08241088688373566, 0.03809575363993645, -0.016050951555371284, 0.01940743997693062, -0.04063166305422783, 0.06938440352678299, -0.016322188079357147, 0.04003298282623291, 0.006488618906587362, 0.007783189881592989, 0.05294930934906006, 0.045074816793203354, -0.1042388528585434, 0.025078902021050453, -0.039302028715610504, -0.022929105907678604, 0.024537881836295128, -0.008650632575154305, -0.0125067587941885, -0.013143863528966904, 0.019152672961354256, 0.011617851443588734, 0.08424193412065506, 0.02876635082066059, -0.02947557531297207, 0.0023097414523363113, -0.07339301705360413, 0.014410167932510376, -0.01632826216518879, 0.02388813905417919, 0.009672229178249836, -0.030963251367211342, -0.02327483892440796, 0.03030645102262497, -0.0100099490955472, -0.05940388888120651, 0.0017112167552113533, 0.008135300129652023, 0.005530087277293205, 0.0025987722910940647, -0.01683158427476883, 0.03131209686398506, 0.011869238689541817, 0.024934686720371246, 0.04975644126534462, -0.007172817829996347, -0.010776940733194351, 0.04184888303279877, 0.048674680292606354, 0.009137189947068691, 0.04291955381631851, -0.03247196972370148, 1.2872226781861718e-34, -0.05747513473033905, 0.05131508782505989, 0.005604912526905537, -0.030587410554289818, -0.005669036880135536, 0.023772822692990303, 0.07290685176849365, -0.014521542936563492, 0.04377804324030876, 0.009548095986247063, -0.04366525262594223]]\n",
            "[ScoredPoint(id='d4a17d90-5e8e-40f1-9abe-e9395e87384b', version=0, score=0.7976679039069843, payload={'chunk': 0, 'text': 'Why Issue Options to Employees?  \\n•Attract Talent:  options can be used to attract top recruits, particularly \\nengineers, product managers and other technical team members  \\n•Retain Employees:  options vest over several years, creating strong \\nincentives for employees to remain employees  \\n•Align Incentives:  by making employees equity owners, options align \\nincentives with the long -term goals of the company  \\n•Reward Value Creation:  options reward tangible contributions that \\nincrease corporate valuation by giving employees a slice of that value  \\n•Encourage Long -term Thinking : options typically pay off only in a \\nliquidity event or exit, and thus push employees to build the company \\nfor long -term success', 'page number': 'Page8'}, vector=None), ScoredPoint(id='37b20da9-1841-4f09-9d2c-5510c454c195', version=0, score=0.6261894833322696, payload={'chunk': 0, 'text': 'Social Impact Considerations  \\n•Companies focused on social impact goals and/or in developing \\nmarkets may have unique ESOP considerations  \\n•Consider two possible scenarios:  \\n–Financial Inclusion Goals : Employee -friendly hiring practices and \\nESOPs can help build local financial inclusion. If this is part of your \\ncorporate mandate, consider the added social impact value of \\noffering your options program to all levels of employees  \\n–Local Ownership Culture : Conversely, in certain regions stock \\noptions may have negligible value to employees, either because of \\nrisk aversion, lack of liquidity, or lack of understanding. If this is the \\ncase, it is not worth extensively offering options to employees who \\nwould rather be paid in cash', 'page number': 'Page38'}, vector=None), ScoredPoint(id='67661dd4-27c4-4c10-911b-7d409047289e', version=0, score=0.6122536460885372, payload={'chunk': 0, 'text': 'Communicating Options to Employees: % versus $  \\nOptions packages can be communicated either as (1) a percentage \\nof ownership in the company, or (2) a dollar value based on the \\ncurrent valuation; we encourage the latter when possible  \\n% $ \\n“We are granting you options equivalent to \\n0.5% of the company’s equity”  \\nConsiderations:  \\n•At an early stage, the only way  to \\ncommunicate options grants given no true \\nvaluation of the company  \\n•Hard for employees to grasp  what they \\nare really getting (“0.5% seems too little”)  \\n•Invites a negotiation  about what percent \\nof the company an employee really \\ndeserves  “We are granting you options equivalent to \\n$200,000 of company stock”  \\nConsiderations:  \\n•Once valuation is established, highly \\neffective  way to communicate the true \\nvalue of an options grant  \\n•Easy for employees to grasp  what they \\nare really getting (“$200,000 is a lot”)  \\n•Grounds negotiations  in a discussion \\nabout concrete dollar amounts, rather', 'page number': 'Page12'}, vector=None)]\n",
            "[['Why Issue Options to Employees?  \\n•Attract Talent:  options can be used to attract top recruits, particularly \\nengineers, product managers and other technical team members  \\n•Retain Employees:  options vest over several years, creating strong \\nincentives for employees to remain employees  \\n•Align Incentives:  by making employees equity owners, options align \\nincentives with the long -term goals of the company  \\n•Reward Value Creation:  options reward tangible contributions that \\nincrease corporate valuation by giving employees a slice of that value  \\n•Encourage Long -term Thinking : options typically pay off only in a \\nliquidity event or exit, and thus push employees to build the company \\nfor long -term success', 'Page8'], ['Social Impact Considerations  \\n•Companies focused on social impact goals and/or in developing \\nmarkets may have unique ESOP considerations  \\n•Consider two possible scenarios:  \\n–Financial Inclusion Goals : Employee -friendly hiring practices and \\nESOPs can help build local financial inclusion. If this is part of your \\ncorporate mandate, consider the added social impact value of \\noffering your options program to all levels of employees  \\n–Local Ownership Culture : Conversely, in certain regions stock \\noptions may have negligible value to employees, either because of \\nrisk aversion, lack of liquidity, or lack of understanding. If this is the \\ncase, it is not worth extensively offering options to employees who \\nwould rather be paid in cash', 'Page38'], ['Communicating Options to Employees: % versus $  \\nOptions packages can be communicated either as (1) a percentage \\nof ownership in the company, or (2) a dollar value based on the \\ncurrent valuation; we encourage the latter when possible  \\n% $ \\n“We are granting you options equivalent to \\n0.5% of the company’s equity”  \\nConsiderations:  \\n•At an early stage, the only way  to \\ncommunicate options grants given no true \\nvaluation of the company  \\n•Hard for employees to grasp  what they \\nare really getting (“0.5% seems too little”)  \\n•Invites a negotiation  about what percent \\nof the company an employee really \\ndeserves  “We are granting you options equivalent to \\n$200,000 of company stock”  \\nConsiderations:  \\n•Once valuation is established, highly \\neffective  way to communicate the true \\nvalue of an options grant  \\n•Easy for employees to grasp  what they \\nare really getting (“$200,000 is a lot”)  \\n•Grounds negotiations  in a discussion \\nabout concrete dollar amounts, rather', 'Page12']]\n",
            "['Why Issue Options to Employees?  \\n•Attract Talent:  options can be used to attract top recruits, particularly \\nengineers, product managers and other technical team members  \\n•Retain Employees:  options vest over several years, creating strong \\nincentives for employees to remain employees  \\n•Align Incentives:  by making employees equity owners, options align \\nincentives with the long -term goals of the company  \\n•Reward Value Creation:  options reward tangible contributions that \\nincrease corporate valuation by giving employees a slice of that value  \\n•Encourage Long -term Thinking : options typically pay off only in a \\nliquidity event or exit, and thus push employees to build the company \\nfor long -term success', 'Page8']\n",
            "['Social Impact Considerations  \\n•Companies focused on social impact goals and/or in developing \\nmarkets may have unique ESOP considerations  \\n•Consider two possible scenarios:  \\n–Financial Inclusion Goals : Employee -friendly hiring practices and \\nESOPs can help build local financial inclusion. If this is part of your \\ncorporate mandate, consider the added social impact value of \\noffering your options program to all levels of employees  \\n–Local Ownership Culture : Conversely, in certain regions stock \\noptions may have negligible value to employees, either because of \\nrisk aversion, lack of liquidity, or lack of understanding. If this is the \\ncase, it is not worth extensively offering options to employees who \\nwould rather be paid in cash', 'Page38']\n",
            "['Communicating Options to Employees: % versus $  \\nOptions packages can be communicated either as (1) a percentage \\nof ownership in the company, or (2) a dollar value based on the \\ncurrent valuation; we encourage the latter when possible  \\n% $ \\n“We are granting you options equivalent to \\n0.5% of the company’s equity”  \\nConsiderations:  \\n•At an early stage, the only way  to \\ncommunicate options grants given no true \\nvaluation of the company  \\n•Hard for employees to grasp  what they \\nare really getting (“0.5% seems too little”)  \\n•Invites a negotiation  about what percent \\nof the company an employee really \\ndeserves  “We are granting you options equivalent to \\n$200,000 of company stock”  \\nConsiderations:  \\n•Once valuation is established, highly \\neffective  way to communicate the true \\nvalue of an options grant  \\n•Easy for employees to grasp  what they \\nare really getting (“$200,000 is a lot”)  \\n•Grounds negotiations  in a discussion \\nabout concrete dollar amounts, rather', 'Page12']\n"
          ]
        }
      ]
    },
    {
      "cell_type": "code",
      "source": [
        "postprocess_function(response, content_type=None)"
      ],
      "metadata": {
        "colab": {
          "base_uri": "https://localhost:8080/",
          "height": 157
        },
        "id": "5xh-HimvDo9j",
        "outputId": "58e1c816-379a-451f-c572-7d3246065988"
      },
      "execution_count": null,
      "outputs": [
        {
          "output_type": "execute_result",
          "data": {
            "text/plain": [
              "'{\"response\": {\"text\": \"PORT OF LOADING : KLAIPEDA, LITHUANIA\\\\nPORT OF DISCHARGE: FOYNES, IRELAND\\\\n\\\\nBILL OF LADING : 5\\'476.100 METRIC TONS\\\\nBILL OF LADING NO. 1\\\\nBILL OF LADING DATE: 28 March 2018\\\\n\\\\nORIGIN: LITHUANIA\\\\n\\\\nUnless otherwise provided in the sales contract or agreed to in writing, the amount IRENEFICIARY\\'S BANK DETAILS:\\\\n\\\\nshown on this invoice is to be pald on or before due date by Telegraphic Transfer of | CREDIT EUROPE BANK N.V\\\\n\\\\nimmediately available funds. \\\\u201c\\\\n\\\\ninterest will be charged for any amounts not paid within the term of this invoice. | SWIFT: FBHLNLZAXXX\\\\n\\\\nThis invoice is subject to the terms and conditions |KEYTRADE AG EUR ACCOUNT: 07813 17 614\\\\n\\\\nset forth in KEYTRADE AG\\'s sales contract. IBAN NO: NL45 FBHL 0781 3176 14\\\\n\\\\nmeray te ACY\\\\nZURCHEROTRA 3 Ari\\\\n\\'\\\\n\\\\nwit, oy\\\\nHoo9e\\\\u00a2\\\\n\\\\nee ms\\\\nVAT tia ae NLELLOS\", \"page_number\": \"Page1\"}}'"
            ],
            "application/vnd.google.colaboratory.intrinsic+json": {
              "type": "string"
            }
          },
          "metadata": {},
          "execution_count": 42
        }
      ]
    },
    {
      "cell_type": "code",
      "source": [
        "qdrant.delete_collection(collection_name=\"Doc_Search\")"
      ],
      "metadata": {
        "colab": {
          "base_uri": "https://localhost:8080/",
          "height": 165
        },
        "id": "LZTouzIHyRIb",
        "outputId": "d0d249f7-046d-49eb-a24a-36bb6755e8f8"
      },
      "execution_count": null,
      "outputs": [
        {
          "output_type": "error",
          "ename": "NameError",
          "evalue": "ignored",
          "traceback": [
            "\u001b[0;31m---------------------------------------------------------------------------\u001b[0m",
            "\u001b[0;31mNameError\u001b[0m                                 Traceback (most recent call last)",
            "\u001b[0;32m<ipython-input-22-6a0e48535e58>\u001b[0m in \u001b[0;36m<cell line: 1>\u001b[0;34m()\u001b[0m\n\u001b[0;32m----> 1\u001b[0;31m \u001b[0mqdrant\u001b[0m\u001b[0;34m.\u001b[0m\u001b[0mdelete_collection\u001b[0m\u001b[0;34m(\u001b[0m\u001b[0mcollection_name\u001b[0m\u001b[0;34m=\u001b[0m\u001b[0;34m\"Doc_Search\"\u001b[0m\u001b[0;34m)\u001b[0m\u001b[0;34m\u001b[0m\u001b[0;34m\u001b[0m\u001b[0m\n\u001b[0m",
            "\u001b[0;31mNameError\u001b[0m: name 'qdrant' is not defined"
          ]
        }
      ]
    },
    {
      "cell_type": "markdown",
      "source": [
        "## Using Langchain + Qdrant for Question Answering."
      ],
      "metadata": {
        "id": "C0aIGWW6t6cU"
      }
    },
    {
      "cell_type": "code",
      "source": [
        "from langchain import VectorDBQA\n",
        "from getpass import getpass\n",
        "import os\n",
        "os.environ[\"OPENAI_API_KEY\"] = getpass()"
      ],
      "metadata": {
        "colab": {
          "base_uri": "https://localhost:8080/"
        },
        "id": "14CZDl7eYDAF",
        "outputId": "25a80a1b-40b6-4d87-df3e-75871b784282"
      },
      "execution_count": 8,
      "outputs": [
        {
          "name": "stdout",
          "output_type": "stream",
          "text": [
            "··········\n"
          ]
        }
      ]
    },
    {
      "cell_type": "code",
      "source": [
        "metadatas = []\n",
        "for p,record in tqdm(zip(page_num,page_content)):\n",
        "      # first get metadata fields for this record\n",
        "      metadata = {'page number': p}\n",
        "      # now we create chunks from the record text\n",
        "      record_texts = get_text_chunks(record)\n",
        "      # create individual metadata dicts for each chunk\n",
        "      record_metadatas = [{\n",
        "          \"chunk\": j, \"text\": text, **metadata\n",
        "      } for j, text in enumerate(record_texts)]\n",
        "      # append these to current batches\n",
        "      texts.extend(record_texts)\n",
        "      metadatas.extend(record_metadatas)"
      ],
      "metadata": {
        "colab": {
          "base_uri": "https://localhost:8080/",
          "height": 49,
          "referenced_widgets": [
            "75af4305c708467c89723fb4c8aed129",
            "5e3fbfff448d4321a2104a052df485b8",
            "84489de7d33d49f4b4086f29020947c5",
            "645d4e3b28994cd0b8609c996273881b",
            "88239820e56449c8ad91ce48d1104f90",
            "0d3a4fd025144f7499bbccc19a62fd3a",
            "02ed820dfd0b4b4b8aa977688b2398e6",
            "fd127defc3e240fc99b6b6c55ec8b440",
            "aa077e0519414faf9399470fb7ec5492",
            "0afbad2db9994824807bf4bda86a6a19",
            "b555a16bef9548778a5891b9f5ee0934"
          ]
        },
        "id": "iUm3UDeglMET",
        "outputId": "0423e82b-8e50-4247-fcdf-613fbbe2b359"
      },
      "execution_count": null,
      "outputs": [
        {
          "output_type": "display_data",
          "data": {
            "text/plain": [
              "0it [00:00, ?it/s]"
            ],
            "application/vnd.jupyter.widget-view+json": {
              "version_major": 2,
              "version_minor": 0,
              "model_id": "75af4305c708467c89723fb4c8aed129"
            }
          },
          "metadata": {}
        }
      ]
    },
    {
      "cell_type": "markdown",
      "source": [
        "## Qdrant Vectorstore - Cloud"
      ],
      "metadata": {
        "id": "_grhM-2huIFU"
      }
    },
    {
      "cell_type": "code",
      "source": [
        "from langchain.vectorstores.qdrant import Qdrant\n",
        "from langchain.chat_models import ChatOpenAI\n",
        "llm = ChatOpenAI(openai_api_key=os.environ[\"OPENAI_API_KEY\"],temperature=0)\n",
        "doc_store = Qdrant.from_texts(page_content,\n",
        "                              metadatas=metadatas,\n",
        "                              embedding=embeddings,\n",
        "                              api_key=\"crjy1brG_LtCyAMKBsK8ni2bLIZl_NPfo9fB7x6vInwYRnsTtXmr0A\",\n",
        "                              url=\"https://f2d7092d-7da3-4b40-a8bf-41caebc0558f.us-east-1-0.aws.cloud.qdrant.io:6333\")"
      ],
      "metadata": {
        "id": "8m-jDMJHdGcO"
      },
      "execution_count": null,
      "outputs": []
    },
    {
      "cell_type": "code",
      "source": [
        "from langchain.llms import OpenAI\n",
        "llm = OpenAI(openai_api_key=os.environ[\"OPENAI_API_KEY\"],temperature=0)"
      ],
      "metadata": {
        "id": "gXbTFk91rmr9"
      },
      "execution_count": 9,
      "outputs": []
    },
    {
      "cell_type": "code",
      "source": [
        "llm = ChatOpenAI(openai_api_key=os.environ[\"OPENAI_API_KEY\"],temperature=0)"
      ],
      "metadata": {
        "id": "k1igUHiMr6pf"
      },
      "execution_count": null,
      "outputs": []
    },
    {
      "cell_type": "markdown",
      "source": [
        "![image.png](data:image/png;base64,iVBORw0KGgoAAAANSUhEUgAABj0AAAK8CAYAAAC0pH3+AAAAAXNSR0IArs4c6QAAAARnQU1BAACxjwv8YQUAAAAJcEhZcwAAEnQAABJ0Ad5mH3gAAN72SURBVHhe7N0JgE1l48fxn20kE5mylTUpIWRfooWRMrKkyBKlslV6K1KKNm20qIQiekMSI/8GZamYKPuW5aUJQxHiJfLOYPzPc+65M3dm7p25s5k71/dTx33Oc8892505M3N+93mefCXKXHtOAIAMyqd8+ax/7X/yK3/+fDoYu9l5DgAAAAAAAEBuyO88AgAAAAAAAAAA5GmEHgAAAAAAAAAAICgQegAAAAAAAAAAgKBA6AEAAAAAAAAAAIICA5kDQKbk3kDmCQnndDYhwS6f4woOAOeFudwbBfK7rvkAAAAAgMBESw8AyCNM2HH6zFmdOZtghx0EHgBw/rivu+YabK7F5poMAAAAAAg8hB4AkAeYm2zusAMAkLvc4YeZAAAAAACBhdADAAKcuanGJ4oBIPCYazPBBwAAAAAEFkIPAAhg5oYagQcABC6u0wAAAAAQWAg9ACCAuQcsBwAELq7VAAAAABA4CD0AIECZTw4zhgcABD5zraa1BwAAAAAEBkIPAAhQfHIYAPIOrtkAAAAAEBgIPQAAAAAAAAAAQFAg9ACAAEXXVgCQd3DNBgAAAIDAQOgBAAAAAAAAAACCAqEHAAAAAAAAAAAICoQeAAAAAAAAAAAgKBB6AAAAAAAAAACAoEDoAQAAAAAAAAAAgkKeDz2uq15HQ58fo4539XZqAAAAAAAAAADAhShfiTLXnnPKecrlJcvowX7P2KGH2+FDB/Tj0gWaM3uKUwMAOSWf8uWz/rX/ya/8+fPpYOxm57nsEX/6rFM6P7748iv99PMaxe77XV06t1eXuzs4zyTn73IAcKEJKVTAKQEAAAAAckueCz1M2NG8RRt16Hy/U5OaCT8mjn9N27ZucGoAILsFV+jRqcv9+umn1c6ciwkz3n3rFWfOxd/lAOBCROgBAAAAALkvT3VvZbqweuu9L9IMPAwTjJgur0xLEFMGAPj21jsfpgoyDNOiw0xu/i53/mzUmAo11WfuYWc+I7LyWqSybrTKVuivyAPOPHIH70OWxPy2R0eO/teZAwAAAADkVXki9DBdWPkTdqTU/KY2eobxPgAg00w3Vv7wd7l0HYhUnwo1VTbZ1ETtnhqtyE0XSECReA7aa8ymOKcytUNz+1vL5LEb3PZN+dHKjq+WNWNSfp3UVK3w7npmcrRiTzoLwT+7P1dncw77R+qQU3WhMYHH2I8+0ytvfEDwAQAAAAB5XECHHu4WG2bKbIsN8zoTlpjQhPADAFLbu+8Pp5Q2f5fLDs0GvaFZMyZZ0xt669kIVdj4uQZG3KaBc/c5S1wIYvT68CnK3k7Tgk0rvWZ/nUzS1PefUreG0ncj+qtR99FaQ/Dht83ffKod97RSp3mztWi3U3kBcQceVa6qqLASlxJ8AAAAAEAeF5Chhwkq3F1ZeQ5UnhWe4Ud2rRMAgkGTxvWdUmrly13hlPxfLjsUv7qRmjU1U1t16zdMYxfN1dhOUuTLn2q578YPQeWOnm1Vf937emN6jFOD1Mqppv110kgt2/fW0JHTtOyr3tZ5m6J3511IAVkWxK3UvImH1KfbU2rZdqOmfLPdeeLCYMINd+Ax8OGeeu7pRwg+AAAAACCPC7jQw99xOzLL3XqE8T4AwMUMRN6kSQNnLompe/JfA5w5/5fLGeXUqfu90sFobf7VqQp2DR/Wq0OqaMnQ4Zp+AX76PrMK1+2q+2+TlmzcrmNOHXyLW7tY03WvmtUtp5YdWmnzV0svqNZFJuC4rVULO/BwM8FHw3q17ecAAAAAAHlPwIQemR23I7MY7wMAkkR+MVnvvvWKHWCYcMOUTV1K/i6XIwqYfw4p7qw959Ox/8zTmKc6q0V91zgPjTo8rvGr0xgP5MhKTRnW3VneNX7I/JjUzUn8W6/HAOkHV2r8U+3VyIyVUP9m9Xh1nmLPOIv5pbiuv/8lDa27UU++EalYpzY9ae9nnJa/Wc+qf1pLvCUCuz9XD+s1T3573KmwzviKKXqmv3McFeqpxQMjFenl/KRy0joXHazXdBiuJe5GF3Wf0v7Yp5SszZB9/vuoXQvX/trjcmSplcZFUkHr4WSc4l0VlsNaM/lp9Qg3x+4e+2NlilDE/d7t07HVEzTQXjZpzJS4GC/ndV3SebKdOazl1nb6dGhiL2N/PfV/WlNSfZ0cVmR/6/kxG603bLsiX/X8+puizV7em0y/D2k6riWRn6vMgxH2e1K8Qbi6bf1I81aksV7r69rz/Srbor2enLgx+bm0jmn+mMfV2Tnf9tf/MOvr33k60JjQI6Wud7dzSgAAAACAvCbXQw93y4usjNuRWZ5dXhF+ALjQmRDDHWqYsi/+LpfdNq9abP3bSjUruua9OhCpJ8KHK7pAhIa+5xoTpFtYtF68q4/3QcGPL9OYAaO0+epues0s/3FfXfPrFPXp8rgiPe+7Z3S91joGdv9ICn9Wb8+YpEm9r9Sm8U8r4u2VytBt6qK11W9Yb10/b7heTLZDPqS7n4XVrO3Dul7ztHh1ihv2ls2LP9WSUveq083FXBXrRqtW1wk6WK2XXjVjZ3z6lJod+VwDrfMzP60B1E/GaPqwB/T6kVaa9MFLalnOqU/pyGI907qPxh1pqP6vm/0dpxciimn5rr+cBTLhyEotnyddX7OKStoV+xT5+G1qN3afaj7yrrWNSXrnoSraObaPmg9bnLo1yKr39cT31fXCgrXaHztOncyvJlsmqPMt1nktdpdGOOe1f41D2rk3KVaxQ54et6nz2Bhd2v45ezuzPh1sfcUu0zN3+RiP5sgijen7nPX118/++ps6OlyaOVqtH/s8eUCQ2fchPQcWa/bMcurUvJprPqy5Wt4TpzHzor22komz9qNd/T56O+Zy3TXMnAdrGtZRIQf3JQVM+yI1sGVn9Zn9t5o753vWqMfU4Pg+Wt4AAAAAAM6LfCXKXHvOKZ9XJnBo3qLNeWvZ4Y/Dhw5o4vjXtG3rBqcGAHzJp3z5rH/tf/Irf/58OhibvZ3CxJ9Op0lDMDoQqT4Nh0vv/6BJ7S931Z3cpzUzR2vgiMUqNXyWvn7QuUFrfzK/uzZ5LntgsabvqKNuLZx542S0nrmuv6YMmqT9TzZyKl2vfV3NNXbFOHXyvClvLf/iTf01u+27in6xlYqbuoyut5S13q881xun5a82VefxrTR18xtqaa/Uh1TnIE5r3mqvdp9X1qSocbrD+XzAobn9VetRaewq58a84dd+7tP0Xm30ZMk3tH10W9fx2bZrfJvOiuwwSwv7Oed40zxNL9pK3aoUds0bMVPU+ZbRKv7uN5rkPsB1o1W2Q4yzLyZkaK+BPzZMcQ5SOzTPOob+8dZ7MCn5cqZFjGmtkYY1Y2qq3Vu99XViy5E4HYtZrHHDhmvMr9Z5Xmid5zCP85TifY5bPVrt7lqsTgu+Ub8apsZ576o/qoXf9NX19lIumz+op9Zv3uuxLUfiflrv0RjrPfqsspdjNs/dY+2r9f5teFd3WPvkaulxswbOq6KhX83UoLpJ5zd2enc1GvqXRiTulyVT74OrKi2xM61tfdIi2fEeW/y0qj0Q57GvDjugelzzbnxJUe92UgWnOjnra6hDZ70o632ZZp2rok71BSSkkN0kDQAAAACQi3KlpUd2j9tRaMtWp5Q17lYnZv/Od6sTAMgtX3z5ld5650M9/uRz6tTlfnsyZVO34qfV2rvvd2fJJO5l01sus+Y/erOrWxwzXddG7UasVM0Xp2lqYuDhQ5lWyW/4G0WvU4O21uOvv+uQqyZJv25qm/KmfNHm6tSvnA5N3qCdTlWG13tv7xQ3vgurZsNW1uNhHfvbVeO/wqrf70UNujxaQ1+fl3pbnvzaz3IK79RcmrlIy4/YFS7rovTh1trq3cbjHNdqm/xGu1HlBlmv1vy9XlpjmO6d3hzoV+BhFCtRTiW1QUtWpWgFkU7gkWSK2rm/TirUU7VbntZ0tdWkr1yBhxSjRTOjvb7PhRs0163ap9W/puh6KrxOssDDKF7KnJNoLU/ZOsa9n3GrNO+tfbr+wUFejtl6/7r00h1arHk/pdjWbb3U0SPwMCrUbmFtf5/++49TYWT0ffDLds3/ZKOu73BTsuM1XVz1tvZ1+uLk78mh6NmacrCVXh/uK/CwmK+hdeU0YuSFGXgAAAAAAALDeQ09snvcjgKHDinsxZfs6fKBj6rol7OcZ7LG7B/jfQAIZiakMIGFuVlsHke/86Edfvxk1ZvJlE3dXV3uV8Omt9nLeIYaT/6rv/bt/SPd5TKr2aA3XN3i2NMsbdr5kybdX9ujVUIajsRo+dwpGv/W0+rTvbM6h9+mgfOc51K4o1plpbiVbCtTsrL1b4xiPbsOysh6r67ilJIUDzOdLa3U3oOu+Qwp2kj/evZeKXK43l6culuqZPzYz5LNI9RNizU72mOsj8Wf61DbuxReyalyxB3Yrvkz39f4Vx9XZ2t97VqYFjLeHNKS0X3U+YNQjfj03XQDD6Nw015658HKin68jWqF99eYuRt1KEP9f7XSa4lfJ5P09fcrtGnGS7ojcdsndCjaehjfX5USwxH31EdjrKfm707+9XpH5SudUpIKbZ/Xa20P6vW7mqpRr6c15fsYHfMcn+XoIbs7qmbVzdeNF2WqqJb1EL0rxfdGzSqpA4TLSqq89bDzj+QBif/vg5+2LFXkVo+urdyKN1dEP2nJ3OhkXWzt2W2dyOaNVNOz9UcKh/bGWF8FzXX91U5FHjHjy6915Oh/nTmXVWs3pqoDAAAAAOQN5yX0cLegyK5xO0zYYQIOE3S4W3mYutAUdVlh9pPxPgAEI9Myw4QUJrDwl1nWhBrmtUb5clfawUdKKZfLrOJXN1Kzpu6pmkp6Sya8iJ33uBrVaa8nJm/Qn0XLqeV9g/WvF9/QiNucBVIqcJFT8KaYihdxlTK83hxQuMVTGtdPmjJ0pJZ4ttDw4Pd+hrVSp0cKa37kIteN7bhVWvxBnLp1aOWMg2HEac0HndWgYXe9/s0+/Tesjro9OFhD3x0m7z8Vi6t8zdqqr+368add1qv9Ye3j8FlavWqSht4izX65u2o166wx6/xNPsqpZuLXSSPVr+KMRZJC/Uc8Q7QUU0SKoMLb10TRauo97idtX/CG7i+3T+N6tVe1Wx/XfD+GWcm6jL4P/ojT8nkfabP26cXbU4ZB9dR5vLVI9Keav8W1dKKL/flGLKzCfn6/BgITbPz62x597hF8jP3oMzsIAQAAAADkTTkaepjgwN2VlWnlkR3cYYcJOLxxt/4o9uE4u5xVnuFHdh0DAOQWd8uMzHK3CDHSGsTcc7nzZ6PmjFis4oMmadlX72pEv0fV7TZXaFLKWSKl1Sk+5e8Spx1boqXqV6mU3bQk4+vNGYXVrN8b6q15+tf4aKX+DHpG9tMZ0Pz7KP24Wzr2w2yN9xzA3DgwT+Pe3K4G787Vsk/e0NB+vdXpFmt9da/y0eImRNdEvKSx7zfUppe66wl/Bl53FC7TSN2eHadlS2bptQbb9frD72uN81zWFFbh6tKaM8VU3yMcSTb5CEq8KV6jrfqNnKaVa95Vv4sXq8/ISFeXYSVK2i02lm/dZeZSOxCjTdZD22o+WoKkJcPvgx+ckCt5iyrPaZh6l9qnD+clDbxfuGg56duV2pnGaOQhRc25XKw1KcOSABZW4lLde3c7HT16zA4+TOAR89seDXy4p/0cAAAAACDvybHQIyfG7Ugr7EipyA9LVeKFl7KtyysTfjzY75mAGO+jXoEiGl64tOZeXCnZ1K6Q/zduAFyYvpg11yllnuc6TIsPX7JjWxlycJ92HLT2qfKVybus2h2tyG+dcgqHPovSkpQ3cXdHatx4qX5nZ6yDTKw3x4S10tDX20rjR2r2r0ltMmwZ3c8aN6lT9Y2KXBGtJV8t1vUP3qVmni88+LtWWw9Vyyfvpypu2WJNd8reVGj/rj4ZYrqsaq+Bc9MJPjy7iDKKV9Ot4Y2sbR/SsTRurvuvmpp1sPZ//HTNy0qrjJT7WaqV2oZbj7sOye4BrXBDtXqksDZPHKPUWU+c1nzxqeaXaqtWdTPxczqT70Na7JDLOjed7mrrPQhq2kkR9xTWoZmLtcZJPa5v1UstNU/vTtmYGISkVLxJhPqZsOTjyGRdYwW6KldVTAw+3IGHqQMAAAAA5E3ZHnrk5LgdGW254dnlVXaEH+5WH7k53ocJNsYXKWc/XpG/ULKpbL5CzlIAcH6UK3+FUwoApWqr2S3S/Fef1utzo7V8xUotmTlcnYduUHkf3VA1u3Gf3m3XR+O/XZm0fOeRWlK3t0bc64x1kIn15qTirQbr9U6HNGZMpFPjyPB+VtMdD9TW8pmjNXleigHMjWsbqlspaczIxzXFOT/zx/dR+LfHZe73+1ZY9R+Zpk+eLKfIR9MOPg7N668Wj45W5Peu9S//doJefHelSvaL0I2ZbsaQ3PU939DQutEa2KGznpw8z7UdcyzWcT/Ta4JfLUrWjG2iHsOmaL7zWnNeX/9canlfK2cQ8MJqNvATDS2XYjvfR2pM/5vV7i1p6EcvOYOrZ1Cm3wdf9mne9MVS87t0Y4rxW5JYx9PqXpU8+Lkif3DGkKl0r159v7n2vNVdLfonvWdL5r6vZ151Btgv2tw6zt6qGDlcEV2fTtzf5d9+rhcfnaDN9oqkzZM7q1aLxzU/ccyc41ryUhOVbTHcI4Q8rPmP11OtrlMSX5eT3MEHgQcAAAAA5H3ZHnqMfO1dlS3r+5O//jKBRcpxOzLLM/zIjvE+8uXLp/IVr1GlKtWdmvPjinyF7BYeAABvyqnbO5M04uYTmvNof3Xu+rgmb7xOIyY8qgYFnUVSKH7LME39oJX2TH/cWr6PenywURV7vqFl055S/aLOQplYb866XHcMfUmdUvVZlfH9rNCqm7qti9GaWyJS3wAv3Ej/+uIl9QvboLcf6qPOjz2teXG9NfXFbqkH306lsOoPGqtJ94Qo8tG79aSPZhbFrm6hZmei9UYva/3W+X9i3CpVeGSaop9tnry1SlYUra1Bn87SpJ7ltGPy0/Z2zLF88v0hXdu7rRNapK1ig7tUOmaKhprXdh2gFyOPq9WobzSpm8eA9WY7077R1AfLWV9Pw13bGfyeVof11dQVMzWobiaPKEvvgxe7ozX/e6lZ24Zpv75uhAZYv+ZM/2qxK9CwVGg/TktmPKVb5X7PrHPxeYzKNKwmdxuWwnWf0tRFb6hPuRh9MswsY97Xxfpf3cb+7e9Z5zFRnP3/+WDCDgIPAAAAAMj78pUoc+05p5wtfl61XafPnNWx46f019GTTm3GmLDD326sMuPUzTfp5N2ddbZkiq5B/LDix8U6nVBQFxe9RFFzJmp3TNZDFH89HHKZHgrx/THRj+OP6KP4v5w5ADkrn/Llc4Wgypdf+fPn08HY7P08cvzpVHf/suzxJ59T7D5v41j4r1njBnryXwPsclrr81wOAerIPD1Z52nrB8gKvXUbXSQCWRVSqIBTAgAAAADklhwJPdwyGn6YVhjFs2kA8vSYwMMdfvjjv0f/0pp1q1X80qSg5HyHHqaVR1rjdhB6AOdT3gw9AE+xM7ur0ZvVNWv5sOTjeQDIFEIPAAAAAMh9OTaQuVGoYAFdHhaqqyperiJFQpza1EzIkdlxOzLLs8urtMb7OPLXIf3001Lt/G13ssADAIC8bbvmf7Ix9QDmAAAAAAAAeViOhh5uJvyocEUJlSlVzC67meAhu8btyCzP8MNzH/46dEBrVv2omN2xKhgS6tQCaTPjrnhOABBoDn3/uSJXzNP4/vfrRfXWqz1TDGAOAAAAAACQh52X0MOt+CVFVP7KErqsRNHEsCMnx+7ICHdrk5C339b6+XO0aesWnStQxHkW8K2e9XUyvkg5rQ6tqrlFKyVOwy9i0HkAAeifZRrY9WlN/idCUyd6DtgOAAAAAACQ953X0MNwd3lVdNkypyZrzNgcxwf01wk/x+ZIT4mfV6l4XD6Fhl7q1AC+uQMP8wgAeUHJtuO0P/YXrfx0mFqWcyoBAAAAAACCxHkPPdzym8F/s8CEHSboODz2/cQByU35dI3qzhJAzjLdV5nAAwAAAAAAAAAQGHIt9MiXhdDDHXaYoMOTCUKOjBhut/wwZSAnlc1f0CkBAAAAAAAAAAJBroUemWFacfw5c0aqsCMl0/Lj6AvDs63LK8CbegUudkpAzshigzgAwHnENRsAAAAAAkOeCD3cLTjM5C/zGneXV4QfAAAAAAAAAAAEv4APPY7eeUeWxupwhx9/vPOWUwMAeUOB/HmqMR4AXNC4ZgMAAABAYMhXosy155xytvh51XanlLbjEfcqYf8BZ863YlGf60TopTr83xM6HX/Wqc2Y3/f/od9/369bx41X0b//dmp9++nervqrQnlnzreoORO1O2arM5dx7QoV0w35i+iK/IVUNl9B7T93RuvOnrKfW3v2H+1POKM/zp22543hhUvbr/Hl4/gj+ij+L2fOOzP4dsqxKNY623Qzy0RY26lboIi9X24TTx/R16ePO3O+ubdhun8qY73efXyGOUbjj4TTWp9wyq/1pcWf43k45DL70fN4zH5kZR/qWetqW7BYmu+H2Y+P03g/Uu4n8pp8dlcm9vhE+fIrf/58Ohi72Xku+5w+c1bnsvUqDQDIbuZHQaGCBZw5AAAAAEBuyhOhR/6yZezykaMnddiazvl5B/DwX3/pj/1/KC4u3p5vOf4jFTl2zC6nJadDj/TCC0/mhvzE+CN2+JGV0MOEA8MvKm3frE+p/cndieFKWtsw+/JS3J/OXGr+BAEpmeDB3Px3H6O/fB2PWVe/U/vsstkPczzpMfsw78zf6QZGhglQHgoJc+aypsGJnU4JedP5CT0SEs7pzNkEZw4AEIgKFnD9HAAAAAAA5L481Q4/rERRXVXhMhUvlvrGvae///5b/9mxQ7t2704MPAKBuUE/9+JKGQoFzLLjilxp3+TPLPPauUUreQ083Mwy44uUy9C+ubmPKzOvN61A3MfobpGRHn+Ox4Qd/gQehtkHE2Skt7w5vuwKPAB/mZto3EgDgMDFdRoAAAAAAkue63y4YMECKlOymCpcGaaiRUKcWpf40/F20LF9xw4d96Mbq/PJ3KA3N83NDfaMMq8xN/kz81rDtIhIj69WIOkxQUVmj8uTO3jwJ/hI73jMOjIT3pjX+Nq+OTeZOT++mNYlgL/4BDEABCZzbTbXaAAAAABA4Mizf6UVuaiQyl1RQmVLF1ehQgX0xx/7tXHTL3aXVoHG3YoiqzJ70z291z0YEpapdZuQILtbPrQteEm6+5LW82bMjqzsk9m+N2Z8kuxkutMCMsLcVDOT6U0LAJC7zLXYfV0GAAAAAASWPP+XWrHQixR36qQ9WLkUmKP9+tPSIqf40y1WZlpFGGvPmIG6jzhzvplWDWY8EH8G7na1+PDd2iO948mOFifeQhUzCHp2MefDn/FDgJTMJ4rNQLnu8IMABADOH/d111yDzbWYFngAAAAAEJjy1EDmvmz7zx6t3bjFmfMtNwYyd48/cT54G8g8O7fvbSBzs/4ILy0+zLLzzqQOOszypmVJekGLGYzcW0hyPs6n52DobqalTmZaw6Rk1v2x9R75EwAh0J2fgcwBAAAAAAAA+I82+TnMDNDtD3drCBMqmMkEGObG+Pke+8Fsz2zbTO59MZPZtwPnzjhLJfnj3GlFWc95tvhwv8bbjX2zvHnOc3lvsqM7Kfc5dR9Lett0M11kpWSCChOEeE5m3Wkx2/dcvv3J3fYjgQcAAAAAAAAA5AxCjxxkWgb4092SuRnf/p/dieGCmUyLDftGuVWf3s317GJuxpvtmW2byb0vZjL75qtLJs/gw+yzP/trlk/r5n8ZL8FDRriPxb3fZp/Mowke0uOtiyuzvpSTtxDI037rec/lzXkCAAAAAAAAAOQcQo8c1LZg+mNlpBUmuGWklUJmmVDABBaZZW7om+MwN/f9YZZPqxVLVsfm8HUs7pYmAAAAAAAAAIDgE/ChR/yXXzulrPFnLI/slt6NexMQ+NMqwjCBQk52dZUTQYAZf8O0mDDjdzwcclniNLxwaXtKa4wMb11M+Su9c2oGYAcAAAAAAAAABJ+ADz3i/j1dJ2+/R2e/+9GpyRgTdlzz4wq/BzHPTukNfG3GiciIeWf+dkrZy9/gJT0m5DChhhn0e3VoVXvAcVM2AYcZ6Nw9mRDETFltzeHL+oS0Qw1/upnKqX0DAAAAAAAAAOScPNC9VT7l++uozjz7ss4+OlTndsY49elzhx3XLF/u1Jw/JgBIj79dQbmtPfuPU8pe6YUE6XGHHSbkMKFGemGPP7ISOvjTkiO9c1/Wj/cPAAAAAAAAABBY8kDocS7xv3xrNynk0WHK/9zrznPeXRa7N9fCDrey+dPunikzXVVlNCTxV1a6zfIMO7KbP8ERAAAAAAAAAABueaKlh+tf69H6/9w/p3TxT2tUIqKnCr8w2n7OzXRf1eTzGfaUG2N4eEqvpUJmWjLkVAiwP+GMU8oYE3jkRNiRVf50XwUAAAAAAAAACD55oqWH61/r0VW0FTxzRmXW/qIy7R9Q8fnf6KqlS+3WHaaVRyDwp/VERkOM9FqPnE+mC6uMBB7mfLgHbndPOdVyBQAAAAAAAABwYcq10COkXRunlB67jYf9bz5Xo4/EefNvsfwFdP0336v6z6vs5/KSjIYY9Qpc7JRynxmcPD0m1Oh3ap8anNip9v/stssvxf2ZOK0j9AAAAAAAAAAAZKNcCz0u6ttLxaI+10UP93ZqfLHbeNj/nnNaetjz9oxHRYAxN/zTa+3xUMhlTsk/gdKVlGnlkV73XCbgMNOF3JqjbL7AaZmDnBaAFyEAAAAAAADgApSr3VvlL1smMfwoWL+OU5uSq3mHe0wPV9n842rpkZeZ8KBdoWLOXNrM+BmBIr3Aw9+uq8oEeShgzhODsV8IAjd8BQAAAAAAAC40ATGmhwk/Qie8o4tfeNouJ+e6k+g5poe7JrEiQM0787dT8s10E2UCjbRujo8vUi4gBwz35cC59AdGN8frb+CTl9UrWMQpIfgkXX/yWUVXmzQAAAAAAAAAuSmgBjI343yEfvxOii6v7NE8XP95tPQw84ktPQK0wUfU6eN+DWhuAo3hF5VODEBMGGAezfzq0Kp2i5BAkt4x1fVjf83x5nX7z6X/3pr30LyfJuRxB1vm/fRnTBTkDa741aQehB4AAAAAAABAbstXosy12Xqn7udV251S1iTsP6D4//tWcR9PUcH8BVQgf36F5C+okIKFdFGhQipiPV4cUliFrce/Tv6tmL/+dF6ZdT/d21V/VSjvzPkWNWeidsdsdea8c9/0Ph8+jj+ij+L/cuZczI32uUUrOXPetT+5W3/4cQPfzZ91mn1Ze/afVN1cmTCnbcFL0u0iy/C2X/5s2wycnh7TeiatMMnbuUzJvN6sJ7P82U8EtnxON3uuh3za9Z+1Skgw4w+5JoMWIAAAAAAAAMD5k+2hR916DfX88NdUtuyVTk3WJOzao7gRryv/jt9UqEABhRRwQo9CIbrYmvwJPU4VL669NWuq/C+/qMixY06tb9kZepib9OOKXOnXTf6sOl+hh5FeaOBmWoXsP3fGHtQ7o+cg0EMPY+7FlTL93hJ6BAN34GGXtOfX9XaDj3Mm+DD/2cFHgDZFAwAAAAAAAIJQtocehgk82rbtqAcffsSpybrT/56hAtPnKOSf/zmhRyFdXCj9lh47mjXTjhub2uWW4z8676GHYVp6PFgoLMeDj8yGHpm5+W5abOT0OCPe9ut8hR4vxf1pD8ieHn/DH28IPYKDq7WHeZRif91ol12BR1Lc4W71AQAAAAAAACBn5Ujo4Zbd4Yfp8ir/hM8UGr3SbuVRxA49Cuqvf/5WzOHkoYcJLTbccbvdysMtt0IPIyPdOvnS79S+NLtTykzLCHNj39zgz4ysdN1lWoCYgd59BSe+9iu7jie9sMLf1i9mfzLTksccf/t/djtzyOvcwcfvuzZb/7oCD8MOO2joAQAAAAAAAJw3ORp6uJnw47nhr6levYZOTRbt+FUXj/tMJX/dk6qlhwk5TNjhLbTIzdDDMDfZTVCQmRvk5ka+GR/DDGzuja/umNILCTLTtZWbWbcZkDyjLR3cx1OvwMU+Qw9f+5Vdx5NW6OFv11ZumQk+CD2CUL582r/bhB4udG0FAAAAAAAAnH/nJfRwi4joqD4PPZJt430Ujl6lsA8mK/7oUe3If1Yx11yb2JWVN7kderhlpLurlC0XvIUe5nlfXTH5CgnMTff+p37PdODhZtZfr2ARv4/HM1Dw1kVWevvl63hMIPTS//70+3i8hR5m26b1SUYCDzezrrYFi9mP/pwH02on5SDvyPv27/nF+tcJOsg7AAAAAAAAgPPuvIYeRk6M95Hw0juaXu1aZ863QAk93MwNctPaoa5z890M9m0G/TY339cnnPIaZHjeqN+fYC2bzk1+ExKUzV/QmXPJiZvt7vDDuCG/68a/OR4TIhhrz/6Tarsp982f/cqu40kZeGTnOTFhjpHyfTVcwcrxbN0eAseB2C1OCQAAAAAAAEBuOO+hh1t2hh+79vyh5Ss3OHO+BVroASC4EHoAAAAAAAAAuSu/83je7d//uyZO/EAd27fU2rWrnFoAAAAAAAAAAIDMybXQw82EHwP736dXXnrGLuck18DCAAAAAAAAAAAgGOV66OEWFTVHA/rdp4kffeDUZL8zZ7I2aDcAAAAAAAAAAAhcARN6GJ5dXuVE+HGW0AMAAAAAAAAAgKAVUKGHW06M93H82BFtyn/Gmcu6ndvX69jRv5w5AAAAAAAAAACQ2wIy9HDLrvE+Vq34Vp9NHKnXTu/X2/n/qz911nkm4/7cv0dfz/5Y30Z9pqNH/nRqAQAAAAAAAABAbstXosy1eWJ077Jlr1Tbth314MOPODVJdu35Q8tXbnDmkmzfssYOPI4fS94io7QKqPa5EHVPuMQup/TTvV31V4XyzpzLqZMntOqnb7V5w3KnBgCSOxC7xSkBAAAAAAAAyA15JvRw8xZ+pAw9ft/3m1av+Fb7Ync6Nd6ZwCM84WL1OBfq1LikDD3Wrf7eDk/OnI53agAgNUIPAAAAAAAAIHfludDDzYQfzw1/TfXqNUwMPf4+ftRujbFtc8bGAUkZfrhDj1//s9Fe35HDB+x6AEgLoQcAAAAAAACQu/Js6OEWEdFRbdv30OxZM/TdotlKSEhwnsk4E37cVay8CjZspv/btV67Y7Y6zwBA+gg9AAAAAAAAgNyV50MPAAgUhB4AAAAAAABA7srvPAIAAAAAAAAAAORphB4AAAAAAAAAACAoEHoAAAAAAAAAAICgQOgBAAAAAAAAAACCAqEHAAAAAAAAAAAICoQeAAAAAAAAAAAgKBB6AAAAAAAAAACAoEDoAQAAAAAAAAAAggKhBwAAAAAAAAAACAqEHgAAAAAAAAAAICgQegAAAAAAAAAAgKBA6AEAAAAAAAAAAIICoQcAAAAAAAAAAAgKhB4AAAAAAAAAACAoEHoAAAAAAAAAAICgQOgBAAAAAAAAAACCAqEHAAAAAAAAAAAICoQeAAAAAAAAAAAgKBB6AAAAAAAAAACAoEDoAQAAAAAAAAAAggKhBwAAAAAAAAAACAqEHgAAAAAAAAAAICgQegAAAAAAAAAAgKBA6AEAAAAAAAAAAIICoQcAAAAAAAAAAAgKhB4AAAAAAAAAACAoEHoAAAAAAAAAAICgQOgBAAAAAAAAAACCAqEHAAAAAAAAAAAICoQeAAAAAAAAAAAgKBB6AAAAAAAAAACAoEDoAQAAAAAAAAAAggKhBwAAAAAAAAAACAqEHgAAAAAAAAAAICgQegAAAAAAAAAAgKBA6AEAAAAAAAAAAIICoQcAAAAAAAAAAAgKhB4AAAAAAAAAACAoEHoAAAAAAAAAAICgQOgBAAAAAAAAAACCAqEHAAAAAAAAAAAICoQeAAAAAAAAAAAgKBB6AAAAAAAAAACAoEDoAQAAAAAAAAAAggKhBwAAAAAAAAAACAqEHgAAAAAAAAAAICgQegAAAAAAAAAAgKBA6AEAAAAAAAAAAIICoQcAAAAAAAAAAAgKhB4AAAAAAAAAACAoEHoAAAAAAAAAAICgQOgBAAAAAAAAAACCAqEHAAAAAAAAAAAICoQeAAAAAAAAAAAgKBB6AAAAAAAAAACAoEDoAQAAAAAAAAAAggKhBwAAAAAAAAAACAqEHgAAAAAAAAAAICgQegAAAAAAAAAAgKBA6AEAAAAAAAAAAIICoQcAAAAAAAAAAAgKhB4AAAAAAAAAACAoEHoAAAAAAAAAAICgQOgBAAAAAAAAAACCAqEHAAAAAAAAAAAICoQeAAAAAAAAAAAgKOS7vlGbc04ZAJAFa6KjnBIAAAAAAACA3JCvRJlrCT0AIBsciN3ilAAAAAAAAADkBrq3AgAAAAAAAAAAQYHQAwAAAAAAAAAABAVCDwAAAAAAAAAAEBQIPQAAAAAAAAAAQFAg9AAAAAAAAAAAAEGB0AMAAAAAAAAAAAQFQg8AAAAAAAAAABAUCD0AAP5bN1plK9RMPfWP1CFnEQAAAAAAACC3EHoAwAUjToe2RCty8kg92b2z2rVIEVzUv1mdrfo+w0Zrytxobd4X57wOAAAAAAAAyBvylShz7TmnDADIggOxW5xSgInbp+XT39c7Y+dp+UGnzk9Dv/pFg+o6M4Zp6dFhijPjoe1L2jSuk0o6swAAAAAAAEBuoKUHAASxQ9+PVudmbdR5RMYDDwAAAAAAACCvIfQAgKB0XGs+6KyWvaYQdmTGycPauSJS44d1V4sPNjqVAAAAAAAACHSEHgAQdOK0ZkxPtXtzO4OLZ0DcvpWu8U46NFHZ625Wi67D9eJnG7XzrLMAAAAAAAAAAh6hBwAEmdi5j+uBt2KcOR8qVdEdPXvrtffHadaMSfY09f2nNGJQW91R9xJnoQvL5tl9NHDE55q+7m+nBgAAAAAAAHkNoQcABJMtEzTw0WjfLTwqNdKIGd9o97K5mjTyKfVu31zNmjayp5bte6vfk29o0lc/af+GuZr6bHMVLui8DgAAAAAAAMgDCD0AIGgcVuQH72uNM5dSyVaPauHXk9SvaTkVdup8Cquilv3GqV8tZx4AAAAAAADIAwg9ACBYbJmt8fOcckp1e+uT9/vq+uLOPAAAAAAAABCE8pUoc+05pwwAyIIDsVucUm6I0/I3m6rzB3HOvKcqGrFgrvrVcGazYt1ole0wxZnx0PYlbRrXSSWdWVtGlnU7EKk+DYdrvjObpLe+jn1K9Z25VOL2afMP0Zq3bLHWxMRox4rDiV18VahbTeWvvkGtGtZRs6atdH05dzuXw4rsf7MG+gqKfGqusavGqVMZZzYlZ18iF83WmlXbtWa3q7rktdV0Te0bFNE8Qm3b1FbJNJvbbNSYCt31ujOXxGPbB1dqypiPNDt6pWsblR7VwmV9db29nIcjMVoeHa3F0VHa/OvvWp44ZklhVW1aWVWrNFbzhs3VrHkdVQ1Ltw0QAAAAAABAQKOlBwAEhe1aM9Nb4GG552Hdmx2BR0A6rDXj+6tFszZq/dBIjflspZZ7BB5G7LrtWj7zc7341NNq3dR3919Zd1w75w5XZ2dfxs9MCjyMQ/9x7cczj3ZXrWad9eLcGPl4x9IVt2602tXvo2es403cxu6/k6/vZIwiX+2uRnXaq/Ojo+39SQo8jDjtXLFd8z+bYu1TH7UYNs/3WDAAAAAAAAB5BKEHAASD3VsVfdApp9C7TXMFZ69W+xT5+G1q92q0dvo49vPmZIymP3WbWjwaqeX+7MvB7Rr/aHt1HrMx48HHH/P0xMNT0g5vTm7UmO7tNXD8RsU6VQAAAAAAABcCQg8ACAJxsb9puVNOrpquv7qYUw4usdOf1sDIzLaVyE77FDnsHj0507MVhX/WvPWAnph32JnzxyFFjhmuyDSDlTgtH/OAXl/nzAIAAAAAAFxACD0AIAgcP7rPKaVUUpde7BSDykbNeXujU06u/j1PadJXc7Vp8wpt3/yDln31ht7q11xVSzkLJApRhVv6asSzrqn3LU51Sre0TVzGNbVQhSLOcxaf4Uup2hr0/jStdO/Hp4/qjkrOc4niFDligpb7nd1s15Lv01n44GJNH+9tmcJq+chLmrrgG2t/zD59o4WfvqQRPWurgrMEAAAAAABAXkfoAQBBrYpKpbrZHwQOxGiT19YOvTVidG/dUbeKShYvpuLFL1fVum3V7dlxWrZklsY+eLmShuoupvr3PKp+/VzTXXWd6pTqdktcxjXdq/ru/sKOzNOYoV7Cl1LNNfaraRravrYquPfjlr6a9O9haukskujg54r84bgz46dStTX007navvMX7Y+1pp0rtPKrCFU0z+3bpkh7oRRuG6ZXh3RSyxrlrP0x+1RO19/SSf1GTtPKNZM0ohqDmAMAAAAAgLyP0AMAgtohHTvmFC8Ii7V4hY8AoXg1dRreW9c7s9nhUHSUpjtlTy2HDFOncs6Mp0ptdX9Pp+xh+rJV8v9tqqIRn07ToFuqqLg7pyhcTBXqVlNJZ9arbxfpR18Ngko1Ur9BbdN+PQAAAAAAQB5A6AEAQe2wjmV8qInAV6Kkjy6Z9mlM11vU+ekpmr9ln+LOONU54rg2rYp2yp4aqVNTb4mHUUzFvbW8+Xab3wOOl3zkWd1fw5nxJuxKNXOKyUXryaZN1GdMpJbHHM74AOoAAAAAAAB5AKEHAASBkKK+Bitfqc2/BeHt7cIN1eoRX90xxWn556PV5/Y2qnRVE/UYNkVLdmew+yi/7NIv3zrFZFZqYNOaKlvB+9TuLWcxTwfj/A4hut3SyKOLLi8qNVcnX+OT6G/Nf2u4Ot9ysyrVv1kDx0RqTZqDogMAAAAAAOQthB4AEASKl73KZ7dNs3/eEISf6i+sZgM/0VBf43Ak+ltLPhutHi2aqlH/Kdqc3V19nffAoLmuKe8UfSqnbiNfUqf0xnI5eFiRbw1Xu/r11PmleYrN0VYxAAAAAAAA5wehBwAEg6ur++jSSDr0wRTNO+DMBJOitTVo2lyNfTCdsSwcsfNGq3Wv0Vpz0qkIZuU6aezCSRrR9hKnIi1xWj7xaUU8Fel3F1sAAAAAAACBitADAIKB6e6pn1NOJVovvJ5Hbmj/Ly4DA3pbilZRp+GztGnNNI19tq1aVnLqfVk3RQ+MXZnDLV8Kq2rTamrWPCPT5Wl3WZUZYY3Ub9xP2r5snN7q11xV02n5cShyuJ6d6WukcwAAAAAAgLyB0AMAgkJh1b/5Xp8tHswN7YFvRmcsUMgpuw7JV8OTuNjftNwpZ0ip2urU7w1NXfaLdq+YprFP+r7Jf+iDaG12ylkTqpLNnWIyldXv9VmaNS0jU2+f3ZNlVfFKzdXt2XFatmattn8/Tq/1rO1jEHhpyferdMgpAwAAAAAA5EWEHgAQJAo37aWhPgewltZ80F/Nuw5X5Jb0B/WO27dRkWP6a/wmpyIzCl/i/Ub+1kVaG+OUkzmuH7+NdMqZV7hcbXUaNE7LlkzSoOpOZTIxis1Id18nj/toGVJF1zT01j5ju6Z8s90pB5LCKl6luXqPnKaVK4bpDqc2mXm/aY9TBAAAAAAAyIsIPQAgaJRTtyGPqr4z582hFZEaeHtT1QrvrCdffV/jZ87T8hUrtfz7SE0Z/75efKqz2rWoqUpNu2vgW9GKy8rg1iXLqapTTG673n7/c+1M1uzkuHZOf1r/+szPjqcOzNOY8dHaecSZ96b4lT4G/S6n0iWcoodS5Rs5pRTGT9dsH70+Xd+gk9fWNZtffVrPfJtOV1Fx+7Rm5nBNyUqw5M2mKXpx5kYdSutUlrvK+3vT/EqlN/45AAAAAABAIMtXosy155wyACALDsRucUq5K3Zuf0U8Gp0t3RQN/eoXDarrzBjrRqtshynOjIe2L2nTuJQBQIymd2+vJ6Od2VQuUf3mV9pjWcTt3a41u1213vXW17FPJQU6ByLVp+FwzTfjZ7TvpH4RrXTN1VVU9fIQ68l4HYzZptVRY/T6xO2pz8Mtw7Ty03tTdfEUt2ykKvX43JlLKWlfdbKcuo1/V53KmJl9mt6rjZ783pRTK3ltc93VLVw3XnulLnLqju1bpdWrFmv+zBh7nJVU59i2UWMqdNfrzlyS5hq7apyzbR8S36NL1LJnN3Vq1VBVq16nCvaY5scVu2Wjln/2il6c97epSKbkI5O0ekgj13ECAAAAAADkQYQeAJBNAiX0kOK0c/rjumto1oOPrIUeUuzM7mr01EZnLn31OzVX4choL+N6+Ao9Mqqwen/yvV5rVcyZ93Bknp6s87SmO7O+pQge9kVqYIfhijzozGdQzoUeGVVFIxbMVb8aziwAAAAAAEAeRPdWABB0Cqtqt3GKntpbzXK5r6IK7YdoaKob+t6V7PSSxj4VruLOfPYrrGZDPtEL3gIPI6yVeg+p4sxkQLlOevujvrl+rrPmEnUbN5bAAwAAAAAA5HmEHgAQpIq3eEqzlszSpCebq2ombsibrpnKhzkzmVW4tgZ9Mk6DmqbdYVKFe4Zp9shOqlDQqchulRppxIxvNeuR2ml03VRY1z8yVpPusfuBypDCdR/VrPmTNKJtxl6bLec4i0o27aSxi77VW23LOTUAAAAAAAB5F91bAUA2CZzurbw4E6fY/yzWj98s05J1MTqYcgyNUper2bWXq2KNm3R9jTqqV6+hri/nJR7IYPdWSY4r9vtIjZsZpeWrt2un6QrKbPPmCHXr1lud6l7uWsxnt1UpureyxB2J0ZroaEWvitaamBjtWHE4qTsv+3iqqGrdVmreprla1iiXRtiR2qF1kZo9e54Wr9qg5f9JGhG8Qt1qqlkjQv2H9FZ9H01S4g5s15Jls7Vk7nrtSHGezevLX32DWjWso2ZNW3k/x7YsdG9lidtn7cOKRVq9aqk2//q7lq/zGL+jUhU1K19Z17dqoVYtWqlZFR8tXwAAAAAAAPIgQg8AyCYBHXoAAAAAAAAAFwC6twIAAAAAAAAAAEGB0AMAAAAAAAAAAAQFQg8AAAAAAAAAABAUCD0AAAAAAAAAAEBQIPQAAAAAAAAAAABBgdADAAAAAAAAAAAEBUIPAAAAAAAAAAAQFAg9AAAAAAAAAABAUCD0AAAAAAAAAAAAQYHQAwAAAAAAAAAABAVCDwAAAAAAAAAAEBQIPQAAAAAAAAAAQFAg9AAAAAAAAAAAAEGB0AMAAAAAAAAAAAQFQg8AAAAAAAAAABAUCD0AAAAAAAAAAEBQIPQAAAAAAAAAAABBgdADAAAAAAAAAAAEBUIPAAAAAAAAAAAQFAg9AAAAAAAAAABAUCD0AAAAAAAAAAAAQYHQAwAAAAAAAAAABAVCDwAAAAAAAAAAEBQIPQAAAAAAAAAAQFDIV6LMteec8nkWppoRt6lWMWfW0/Ediopaq+POrKdiNdspolaoayZ2lab/GOMqeypWTxER1yj5qv9U9PTvtFdV1LxbQ5W3avYu+1zR+1zP2hJfd0Kbor7WL9YOJNueJx/7mHr5pHWlUu5WdWtR2lX2tj7P55NxH4vD53JejhFAjjkQu8UpAQAAAAAAAMgNgdnSo9g1iuh2r5qXc+YThalCJY9AoUJFO7xIxgQAqQKPHGD2MaKex3ZMmHKvl4AkVLUirPqaYc58kvKVPIKKYleogt87Xdra1q2pj92L8i3utc6H534CAAAAAAAAABCcAiL0OL7pW02f/rlrWvanU2tu2Ke4sV+ssirZd+9P6LjdJKK0KiULRsJUs45Hywn3Oq0pOtZVnWke60tcV7HiKu4Uy9/oaj3iatmRervFajVTzWTJQxVVqmAe3ccSas2nDkZcTMsO1/qiNp1w6lIeu5G03PTp32qTu9lIsWvUwkvoAgAAAAAAAABAMAm8lh77vvMIPpLf2C9W4QpXi4XYrVq223Xzv3ylKvZjevb+6NEdVHaJ3eNaZ7F6qm0HGCbAWZ6sK6u9P65ythuqWrU89rWc00rl+B9atsF1vMUqVU63Rcbx2D+8dvuV2hH9EpUUfPizbgAAAAAAAAAA8rLA7N5qnxMmWIpf6m6hkNS11d7dMTr+35N2OXkXV0cU64Qh7i6yvHUr5WZ3/WQtkzil1S2Wsz6zXPMKJtz4Nmk8kWLFnded0O7YI3YpSYxV5xQvvTRx/e6urY7v3qXjx4+5ggw/urgqX8u9j39qd7pjdXiej6RWKQAAAAAAAAAABKPADD28SezayrnZnxiMJG8NcvyXr5N1ZVWs1m2uoCJVV1BZY6/3RlfLjWKXFrUfpZM65lczjKSureyQ5Pgu7bZf56uLKzOGR1LgYuxdlgMtVwAAAAAAAAAAyMPyTOiR2LXV8WM6ZtcktaBI2cXV3h+Tj6dhlG/RLsWYGiY4cI9/4UxRO3x3HeUxpkdi91sVGtphSmKrExVV8XRaatjcXVslhiRJLTL86YbK7Hd0uq08AAAAAAAAAAC4sARk6FGsZvXEQcFd3UUldW2VspspW7IurpLY4UdikJHWQOEZlLL7LXf3VF634W7VYS1murKyHt1dW3m24Iio5T4+b11cuQYodw9ibrrl8q/lShXVdq/XPf4IAAAAAAAAAABBKvBCj3K3JgUAx/9QrEkJEru28qW0attjd4SpZsStXgMQ49h/U463kTlJoYyzzsTuqaznajXzaFFi9qdhigAnKQTxLsWA5x48u+4q38L3cbp4blv2OCgAAAAAAAAAAASzfCXKXHvOKZ9n5qb8barlM8wwrRtc41YUq9nOCUKS6lw81mG6n4rapQo+1+l+bRU17+YKA1J1E1WsniLswcxPaFPU1/rluOe2vbC3udZp5ZG0Xm8St1XuVnVrYVp6JG3DrfyN7tYrzr4mLutx3In7aG1+07eK+uWIxzq9S1wOQI46ELvFKQEAAAAAAADIDQHZvZW5ST89MdxIq4umpLEwXN1Cecx7MuFEsrAkGyQLPIwYmS6oPMcRcTGBhTtcCVPNOk444W7F4mHvbmeskBSDsydzfK2WOd1cmcHU0+7myrVtAg8AAAAAAAAAwIUgF1t6AEBwoaUHAAAAAAAAkLsCsqUHAAAAAAAAAABARhF6AAAAAAAAAACAoEDoAQAAAAAAAAAAggKhBwAAAAAAAAAACAqEHgAAAAAAAAAAICgQegAAAAAAAAAAgKBA6AEAAAAAAAAAAIICoQcAAAAAAAAAAAgKhB4AAAAAAAAAACAoEHoAAAAAAAAAAICgQOgBAAAAAAAAAACCAqEHAAAAAAAAAAAICoQeAAAAAAAAAAAgKOQrUebac04ZAJAFB2K3OKXcd+6cdWnPl88UkuYBAAAAAACAIEfoAQDZJBBCD3e4YR7y57OmAvlVwCrkMwEIAAAAAAAAEOTo3goAgoQJOkzokc/6LySkgDUVVMEC+Qk8AAAAAAAAcMEg9ACAIGDad5yz/itQIL8deOQn6AAAAAAAAMAFiNADAPI4dwuPAvnyqVDBAk4tAAAAAAAAcOEh9ACAPMyEHefOJci06yhUiMADAAAAAAAAFzZCDwDI4xISRAsPAAAAAAAAwELoAQB5lKuVh3Uhz3/OmhjDAwAAAAAAACD0AIC8Kl8+JSQkqEB+LuUAAAAAAACAwZ0yAMirTEsP678CBbiUAwAAAAAAAAZ3ygAgDzNdXOWnpQcAAAAAAABg404ZAORR7jE9AAAAAAAAALgQegBAHmaCDwAAAAAAAAAuhB4AAAAAAAAAACAoEHoAAAAAAAAAAICgQOgBAAAAAAAAAACCQp4NPcJKlFCD+vXsRwAAAAAAAAAAgDwZepig45lnn9Y9Xe5W3/4PE3wAAAAAAAAAAIC8F3q4Aw83M0/wAQAAAAAAAAAA8lTokTLwcCP48KaEWvXoolaXO7MAAAAAAAAAAAS5fCXKXHvOKQc0X4GHpyNHj2rCuI/sx+wUWqeLhvRtrbqVSis0xKk8+ad2rlmocW99oXUnnboAUnfYJL19a2nrpPyk4XeP1DKnHkDOORC7xSmdHwkJCYo/fUbFQos4NQAAAAAAAMCFLU+09PAn8DByosVHjftHa8ZbPdXiGifwOBWv+LPWY9HSqnpTT709ZaTuqW4vGlD+OnRC8dZj/OED2uOqAgAAAAAAAAAgqAV8Sw9/Aw9P2dbiI3yYIoc2UZhVPLEjSu8+P16LD7ueCru1n954PEJVi0rxu6L0rwfH6/x+xhtAoKGlBwAAAAAAAJC7ArqlR2YCDyN7WnyU16DursAjPmaOnu6fFHgYR74br4eGLtR+qxxS+Wb1udNVDwAAAAAAAAAAckfAhh6ZDTzcshx8FG2tmuVN4ah+njzJeyuOre9p/lbTiVSoat7U0R5H44clUfph2mDVdS3h6Ki3o6z6JTP0thOOhN7YT2OnzXAtb6aoz/TxoJvskMU2YIyr/qM+qtFlpCIXWuXIEWrVY7QWmvoFo9XTWdSlvIb827WuTwdZO+7xek9pbTfU/Zpk+5+03s+H1XbqLM5+LHy/i1MBAAAAAAAAAEDuCtjQIyuBh1uWgo+m5VTWPJ6K1S8/2TVezfnPn/ZjyCVhWjd9tWv8jDLVdEd9u9rlrvqqaXqfObxZM/9PCm0zQv9+MUI1Skp7dsRo5469OqISqnrnYI0d1sD1GreLaunx3rUVVsCZn/qDfjEDp4dcpcY9XFW2yh11w5XWY/x2LZu411WXQnrbPbEgxm65ojLl1Lio/RJrvW1Vw6zXUrZifYW6irrnhqtkhjjZs22eqwIAAAAAAAAAgFwWkKFHlSpXOaWsM4FHltYXH68jTtGbEwmmpYdj1zyts/OG0qpxk91MxHZP0+vsgGD/pij9rJv03MMNFBa/V3Me76pe/Qfpof791WnkT/Z2yjbpoHvsVzmurKLLtn6mJ+6M0M2dXtRiRSl62wnriRBVvaGjaxlLxU617ZAm/tfVmmRCkVT82O6uOVr/u1m2vGo4qw69/TpV1AmdMOssf51c1bV1TRlzRHv1ywKzLwAAAAAAAAAA5L6ADD2OHjmq1WvWatHCxU5N5sz84kt7HWZdWWFu7/sSmt/z2b2atHS7TAxStnZHVbTrOqrxta6A4OfpG6WbbtQ1xa3ZkPLq+L7TxZSZXnGNH6IiobrcPLrFb9e84V9onUeQMeerzXZQEXJtfScgKa8utUtbjyf0y6Iv7JpU/NruXi22W66EqGK1m0ytOl5XXjq2TfM3nbCqy6lGuFVZtImqlrEef9+mr3bZiwEAAAAAAAAAkOsCMvQ4cvSoHVgsXJS10MOEHZlex69H9bd5LH61Gjexa7y6o7IJG6QTB391Pc7cqJ0m9biytrpUth6drq3it67QJBMQhBR0hSin9mrZnCjNSTX9oHXmebfff9UXKVtu/LRQv5hB1Ytcp8Z3WY/urq2c7rO88nO761bFyrTdCK3cUHVlrbdyiOJ3bdKH62MUr1BVbFhb6ni13apk/3+WurrzAgAAAAAAAAAgAATsmB65btcc/Wx3VVVCjbt1SRzLIpnqj6ljHRMlnNCOVUtddSc/01J7cPPSqnFneadrq3jtXDfHDhMSFTipPZPHa8wHKSdru84itoTTyV9nW61Jq1wtMq5pGJHYtdWRLQuTv9ab9La7aK12mJClzFVq3qaWrili7fv6OdLsTXaYY8b16FijnLXlE9qzaqN5BQAAAAAAAAAAAYHQw6e9mjRjtasbqeo99e83uqixR79TYbf208evt3aNo7FjkcZ4tLCYuXSbHVRUrNHP1bXVyW1aPNmJLhZt1x6TiYRUU9tnWicLU8LuHKbnujkz6dgT6Ro0PbRqEw2yu7baq6Wfrbaf88rv7UbpZ7upSmnV7VrBWm6vtswx9fO0xYRA5eurQwXr1cesY1pk6gEAAAAAAAAACAx5MvQw3V+ZsTrck5nPCSe+eVHPzzbdOklh9Xvq9S+itDAqUgsXRilyWISqFrWeOPyT3n1qUvJunv7vJ1drifLX2V1bHVnzlezcwPaFPvzaWWeTxxT15Th9PG6MPp02Q5GDmqjipa6l0uUeNL24tY2SHt1n+eT/dmeu/81aLkQVy5eWYjbp33b3Wic0z4z3EVJeFctY29u1SVnrfAwAAAAAAAAAgOyVJ0OPCeM+ssfqcE9mPqds+XCQuo6co593HVX8WSmkSIhCCkjxx/7Ulv8bpU5dRmp+yjE3FKWZa45aC1vL6qh+WZS8BcaWD4dp6KTV2nMsXgorr6rXVFHFMGn/L1H6YqazULrcg6Zb2wjx0n2WF35vd862xBBn/38WJq53zybXeB/W0bu6vAIAAAAAAAAAIIDkK1Hm2nNOOSCNGvW6U0oyePBQp5TE3+UAIKcciN3ilM6PhIQExZ8+o2KhRZwaAAAAAAAA4MLGmB4AAAAAAAAAACAoBHzoERPzm1NKm7/LAQAAAAAAAACA4BTw3VuFlSihKlWuUgnr0VizZq3Xgcv9XQ4AcgrdWwEAAAAAAAC5K+BDDwDIKwg9AAAAAAAAgNzFmB4AAAAAAAAAACAoEHoAAAAAAAAAAICgQOgBAAAAAAAAAACCAqEHAAAAAAAAAAAICoQeAAAAAAAAAAAgKBB6AAAAAAAAAACAoEDoAQAAAAAAAAAAggKhBwAAAAAAAAAACAqEHgAAAAAAAAAAICgQegAAAAAAAAAAgKBA6AEAAPx0WLMevk6XlbWmdzY4dQAAAAAAAIGD0AMAkCmbPgx33fwue6+m7nIqU4hb/rKus5epo5HL45xaJNq7SMMf7qReLy/SHqcKAAAAAAAAmUfoAQDIlFpdB6mHXdqgSQu22aXkjmvRrOk6aIq3DlGPZoXtWiTZNGewxn69TVEfPqbZa51KAAAAAAAAZBqhBwAgc8LC1WNIObu4acInWnTELib5Zbo+mGEK5TTsibtU0a688Bz7ZbYmvfyYOjwV5QqAPFx76yBFVJZKNeun5tWcSiR3ZJtmTXpZgzoPVtR+pw4AAAAAAMAHQg8AQCYVVoOu/RRhigejNGnhPrvWJU7RX4/XalNs10896l24rTx2LHpOQz5cpOjjqbv3Klzzfn26Ypu2zRqkBkWdSiS362v1fW66pi4/rv85VQAAAAAAAL4QegAAMq9shB58zBVoLJoYpU12yXJkkWa9Z27yl9OwvhEq5aoFAAAAAAAAchShBwAgCwqredchCjfFLeP1tTNY+aYZYzTVFLoOUp8UrTyObY/S2KH3q01TM8C5NdVurg7/elOz1h52lkiy+h1nmYdnp+oa6uCcvs5A6n01K7Hbo8Oa9bDzmnc2uAYK797Qnu/7der1J3PmsFbPGaMhD0eorr1ea2oaoV4vz9aOY84yKRzbtUyTvBxLtLU/7v1r86az8NfPOYO6X6dec5x9Wfum63WJx7BPU7s76/JyzMmO719RStwte9/f1KAI17FeVrah2lj7EbX9uLOAn9zr6dw8cV/rRtyvITO2Ka1h6JPeizddrXs8JR7jdXo7xbglB5dP1/B/dVKT2q7n7fM9dLJWmwPbP1u9TF3EZNfCWqa+dZ3lUpwb1/twb+J6rrvlXg2Z9LMOnnEWsPn3tZHmPgEAAAAAgIBH6AEAyJrKd2mg3dojTm/PWqRjcT/r6wmmq6tyeqlPhIrbCxlxWv1eJzW+ZbCGf/qzVu9yqg8eVvSMyeob0Uod3tuQ5s31DDmxVG/3f0xjv/vbnv1fshvgqa1+v7naDBivSV/vU+Fm16l5NeuYdsUo6sPn1KT7m1p90lnQsWfOY7qlaV8N8XIsq/9w5jOsnNr1sCMk6eulWpVynJT9S/X116ZQWE90Dned25Mb9HbXVta+T9bUtVKDFtepQeW/tdraj163tFDfOZ7djqXh2M9J61l+ODFU2LP2Z036bmtSwJItXF8LN3V+WWNnbNOOolXU3Nrva05a59s6n3v+cRbzw56v3e/DBv03zHrfml0ubd+gSc/dr+s6pH7fbF6/NrJvnwAAAAAAQO4h9AAAZJFHa48ZX2vqpOl6+6BUqtcQ9ahpL2A7tvA53ffaNh20lg9/ZrK27d6mv/Zb06+LNOOxKtYScYp+rbdGO61FsuzD8fq48vP6abtrO592vNx5wocCdTRsWpR+27tBP82K1Fffb9Bvc+9XA/Pc2sn6YGFSa4C4VW+q94BF2mOVK1rH/s26Da5jsV67blY/lSpoHX/HCXbdN0Ncr1G7V7TNLJPOvhRv1Fo97NIiLVuTvKXGwZ8XKsoUavRTu2YmaDquRS/31kjrnDXoM0rr9q7SN19E6psV27Tu/RYqZZ3TWS+MST3IfCr7NGvw/fZ6VOo6PfGJOQ+uff1jS6QmNCrmLJdNDi7SRPtrQYp4Z5H+WhGlr6z9/mnjBm2b1lrFC1hPlL1Ln5rzFXW//RKphSasc+3TXx/d5eoy7Zfx6vuw9T6UqqOXvlmpbd9b79usaG3bPlnD6lnPW+/b89O2mSWT8/a14c8+AQAAAACAgEfoAQDIusoR6tPL3IRfpuEvL7Ieq+iRHk5LBNs2TX0zyr6hXGrAe/r0scYq5e71qmg5hT8zRmNuNTNxevvrZdnTqqBUN330ejddk7QTaWrw2Od64tYqKl7QqbAUb9hND97uKkftdreY2Kcvx0x2jV/S7hXNeed+NSjrHEzBwqrYbJB61HbNZkpYC0X0chUnfbfS41wc1rIFy+xSrU43qZYp7IrS2E9NSHSXnnwmQhU99r1i5/td4cnBKC1KEZ6kFLd8sp63W5CU0xMff65htyedh8Jh16lzn/DsHZflbFzioOSlS5V0SkZhlbr1LoX7tbE4Rc8ZY3en1fyJVzSwtkcwU7yx7urd2C6unrk0aawZN29fG9myTwAAAAAAILflK1Hm2nNOOVMKh4QopHCIChYooPz5yVAABIaEhASdOXtW8XHxiouPd2pz1oHYLU7p/DDHGH/6jIqFFnFqctkv49Um3HUTulSv9/Tz6x6hx8Eo9a09WLOs4sAZG/TSTe7EI8meqZ1Ud/A268X99P3GQfZNfTOmhz0mhmkl4f50v8OMI3HdABMCmBYAE9S5rKk14zY0V19zA3/ABP3xfAul3pJvcfu3adnPP2vH/n3asXS99hz8TdHbnZYnQz7XX/+q49exeErrGOzxLuwxKzyPwYQQL6tO5+k6qAjN2D5K4eZEmjEu6j6nKNXRmBWfq0dla1e+ts7Bw64gJC0RH0an2bpk03t1dMtr1nG2eF7rvuimik59ah7n130+LEnvxf36Zv8QV+sYt8RjlIZFbdMTpgWGPXZJuAZ9Z8qXKLxXf/XoEa7wmuVSv18+zpG0QW/Xvlcj3f1w+eTep/S+NjKwTwAAAAAAIGBlOqUwYUeJS4srNLSoQgoVIvAAEFDMNclcm8w1ylyrzDULOaxmY7V2ig0b3eDRysPi8Sn6S0O930IuUtT5dP3BOGVLB1ehxTJws/qwot/spDp1O6nrgDc1/OXZWnXWqq4Trs41XEsk8uNYsqpw/XD1sNORKEVvcJ2NxK6t2nVW68p2lZQ4Tskl9lgeZgwKb1PFos5iPsRZx2QrXljnJ0Irpx4fRWnCw9eplP7Wok/fVK/wcF3R9H6NXZXOgPOenMCjVDXvx+2aSqb+OvD6tZFN+wQAAAAAAHJVppKKiy8uYt9IJOgAkBeYa5W5ZplrF3LfKRMmeHHq5CFXoUZGworscey7d/XwO2Y8hxZ6c9FK/bXfGdfjnacVfpWzkBe+jiXLCjdWu77l7OLYZSsV59G1VY+O3rqa6qyXv7D218f0Uut0xjNxO2Mdk1PMcUWrqPOLkdq2JUpffXi/IkyQs+tnDW/fW29vzFjs1XDge16P2zXd7+oKzB/ZuE8AAAAAACB3ZDi1MDcNi1x0kTMHAHmHuXYRfOSSstXV0GkxMfXbZV5acsQoeoFrwOlSLevoWrvk4bdDOuAUXeL0n+0rnXLW7dg429VooF1rtavpOWj3If35m1N0S/dYsketFne5btbPWqpVu5bqa9MtU6lu6nxr0v6VqlDFCUCm6+ulmd+Ta6rZw9BLC2YpepermDn79GeKQdP37FzvlHwIq6LmHYfo00WT9YR9XmP08VIvg4+nUk4V2rlKUXOW2YPKZ5tM7xMAAAAAAMhtGQo9TPcwBB4A8jJzDaOrq9xwne4e2MIuHfzwMfV672fTi5XLyX1a9NogZyyFKnqkXePElh7X1IhwFbaM19ip25xBveO0Z8HLGvle9sUNhQs4W1y5UMv2uoo6c9jar8EanmqolusU0dsZy8I6li5vRmmH+0b/mePa8d0YTd3ozHta+bNWpTv+hIea4epjTtnB2fp60s9211aluoaroWczmHrt9Ig9Rkacxj72mKb+4jlgeZyO/TJbwz/d4Mz7VrxFZw2005MNGtT9MU1auy8xzInbv0FTJy1y9yTlVamqNzitKRbpgwnLdNDpduvY2vF6+jUv2z9oHc/ypG3YErvqkq4Nu8QpeVqpVWs8u5m6XOGdI1yhz3cvq+9r1nY9V2h9XUV/+Kai9jvz6cnUPgEAAAAAgECTodCDT0gDCAZcy3JHqY4j9dVjVaxSnBa9dr+uq3SdLitrTVeHq+t7MVZ9FfX5dLwG1rQXtxW/qbuGOTf1Zw3upKvM8mXrqO7QQ2r9r8b2Mtmh1q39XINvH1ymvg2vU91bmuu68s312B8t9MTt9iLJVOwxSjP6uI4l+p3BalLDOZbyjdSk+/jEm/5GrYbdXDfmD0apV23Xcr3m+DNGhGltYMKVOE2aZCKPcskCIZfrNHDcK+psNmDt+6DwRq79cM7TVeHPaWyKlhdeFW2hYdMGKdysZ9ciDYkI1xXOeq6oe68GrfQMU7yo2VlPdnbt2er3+lrnzvXaqyKi1LD3XXZ9Mmd/15edzTbqqEnnTurQ2Trf1e7X2yZgqne/hnU059ZR03oP7BNonYeHm7uO7WFXy5zirV/Rv4e4lrW36/6aMpP1ddXh5ZjE8VfSlZF9AgAAAAAAAcvv0MN8MpoxPAAEA3Mto7VHbrhczZ+J0rZZz2tg1yqq6NSqchVF9BqirzZG6c3WrnEsEhWuoyf+PVlv9qqja+wb34V1TetumjD7PfWomo3vYc1++mLuEPW51fVp/j1xxdX6+cla+s4DuragXZVCOYW/Yo7Fek27pGMxA2r3GDJKEdWcCkvhZkM098NuCq/mxBXW8V5T3L99r9ionZyOp6Rb71eERyCUqPxdmrAsUp8OCVdz9zbMeWrWWH2eH6XvrXPnj8LWOZiRaj2XqEG7CL354E1exhHxdLkiXp9tv7aBM8h6xXrhemnuFD3RwrO7MEdYdYX3amxtR9qxfJuilx9WkXrW/r4yQeumDVEDz4HXCzfWU7Nf0cDWlzv7YO1TZffg5IXV4F+p3wdzjpt37aYx1tdau7JOXXoysk8AAAAAACBg5StR5tpzTjlNl1wSqpBChZw5AMjb4k+f1t9/n3DmsseB2FT9IOWohIQE6zjOqFgoLVcAAAAAAAAAw++mGwULFHBKAJD3cU0DAAAAAAAAgo/foQddWwEIJlzTAAAAAAAAgODDXT8AAAAAAAAAABAUCD0AAAAAAAAAAEBQIPQAAAAAAAAAAABBgdADAAAAAAAAAAAEBUIPAAAAAAAAAAAQFAg9AAAAAAAAAABAUCD0AAAAAAAAAAAAQYHQAwAAAAAAAAAABIV8Jcpce84pp+mysBJOKee9eaa4SidkXx7zZ/4EDSl4zJkDAJe/jhx1StnjQOwWp3R+JCQkKP70GRULLeLUAAAAAAAAABe2gGzpYQKP0iqgqQVP6a2CJ+zQwsxnesrGAMW7AnrpzOX6Jt5MRfWQUwsAAAAAAAAAAM6fgO7ealO+09qU/7Qzl8sSijqhRvJpVkIBZwEAAAAAAAAAAJCbAjr0ePJsqN3VVa2EQk5NbgjRWBNwnMn97mMesluT0JIEAAAAAAAAAABvAnJMj/CEi5xS9lmU/39OKSNM4FFMVZw55T+uNgXjnRlLQlHN0v/UOb/00pkSaphgKk9pdshJfWwvkF1M91k5uX7gwsSYHgAAAAAAAEBwCcjQI1CYlhV32UGDdKLgUXXOf9Y1k0pOhxKEHkBOIPQAAAAAAAAAgktAhh49zl6s0ueyr+etP/MlaGqBf5w5f3m28kgvaPAWSni8Pv9JvVHwlL43ZR/1tyRcqqfPFDS1ieygRRf56FrLc59StEixxBQ8rIHuU2jGI3HWcaLgcW1NKGbvqzvI8bltnyEPEBwIPQAAAAAAAIDgEpBjeoSfLZzYxZUJLMyYHmY+05O1vgw7V0ClnaLyJ+hXp5gTTIuSlKGD3+wB1pMHHkYVa53eBlkPPeMKPNyytG0AAAAAAAAAAAJIQA9kPrXAKbuFxp/5Pe7Sny/n8ivUKUpnnVYaOSFEddyHZ1p+hBxWGzMVOqk/nbo2IUe1KvGdMi08zDJOaxJ3KxAz3ojz2jcKnrGrQs9c5GXQ8zNaVci1XOf8BdLeNgAAAAAAAAAAeUhAhx7hCYVdXV0lBPRuZtFZ/eU+vISiejr+co01QUS+UxqYXvdSCYWSWngkFNM31mvNlNRyo5DKp+y8LP8/Gp7PKWdl2wAAAAAAAAAABJiATBM25T+tRfn/Z4/rYSb3fGYn8/oMy5egE07RhAupW0xkl7MaXuBk0rYspmsqE17YAUSWFNRlKUKPE8nCjJzcNgAAAAAAAAAA51dADmQeGDwHJ09vYO8MDGR+rohmnS7q6jrLs96WckBy97q8rd+SbIDyNPbPr+V8bRsIXgxkDgAAAAAAAASXgGzpkeWBy1NMZn0Zd1bD859yymZ8jBKpBwZPKOp1sHAXz66jCusWJ1q65Vxhj7FCDNe4HLfY5XgNDDms2YnvipfuqTzr8p9WjFMMPXOJXvJc9lwRjfW5b24Z3TYAAAAAAAAAAIErIFt6fBpfQqVVQH/qrD2IuRnTw8xnlllPr5DMfaL7loRLPcbISM3VckJeW2Kk91pXS4+z6pyshYUHj5YgD525XHcl63LKtZ1f09hGYqsOny09Urbu8JCqFQoQfGjpAQAAAAAAAASXgGzp4Tak0HENKXjMDj5yy/f5/6s2IUe1yuuZOqOt+Xx1eeV6bVLLCcMEFccTW2ekxYQTbTxCh4+teW/7YO9foeTjcric0rc+u+NKW8ptAwAAAAAAAACQFwR0Sw8TeBhPngnNtZYeAIIXLT0AAAAAAACA4BKwoUd2Mi1F3AEKALgRegAAAAAAAADBJSBDDwA4Hwg9AAAAAAAAgOAS0GN6AAAAAAAAAAAA+IvQAwAAAAAAAAAABAVCDwAAAAAAAAAAEBQIPQAAAAAAAAAAQFAg9AAAAAAAAAAAAEGB0AMAAAAAAAAAAAQFQg8AAAAAAAAAABAUCD0AAAAAAAAAAEBQ8Dv0SEhIcEoAkPdxTQMAAAAAAACCj9+hx5mzZ50SAOR9XNMAAAAAAACA4ON36BEfF++UACDv45oGAAAAAAAABB+/Q4+4+Hi6gwEQFMy1zFzTAAAAAAAAAASXDA1k/s8/p5wSAORdXMsAAAAAAACA4JSh0MN8MvrU//7nzAFA3mOuYbTyAAAAAAAAAIJThkIPw3xCmuADQF5krl208gAAAAAAAACCV4ZDD8PcNDxx4iRjfADIE8y1ylyzCDwAAAAAAACA4Jap0MMw3cMc/e8x+0Zi/OnTBCAAAoq5Jplrk7lGmWsVXVoBAAAAAAAAwS9fiTLXnnPKAIAsOBC7xSmdH65g54zy53MqAAAAAAAAgAtcplt6AAAAAAAAAAAABBJCDwAAAAAAAAAAEBQIPQAAAAAAAAAAQFAg9AAAAAAAAAAAAEGB0AMAAAAAAAAAAAQFQg8AAAAAAAAAABAUCD0AAAAAAAAAAEBQIPQAAAAAAAAAAABBgdADAAAAAAAAAAAEBUIPAAAAAAAAAAAQFAg9AAAAAAAAAABAUCD0AAAAAAAAAAAAQYHQAwAAAAAAAAAABAVCDwAAAAAAAAAAEBQIPQAAAAAAAAAAQFAg9AAAAAAAAAAAAEGB0AMAAAAAAAAAAAQFQg8AAAAAAAAAABAUCD0AAAAAAAAAAEBQIPQAAAAAAAAAAABBIV+JMteec8oAgCw4ELvFKZ0fCQkJij99RvnzORXIE46s+lITZnyvlTuP6YQ1H1KspBreO1gvRFxpP7/1w+56bEG43vu6t6rbNZ62aEK7V/Xl7c9q8YAaTp3LkagXdM8E6cmJL+j20k7l8T1a8u9pmrZ0i2L/ZyoKqUKrgXpvUAOFbpiiVs8vshfzplHfdzQyopT05yINe3CKVjr1bonPW1z7bBddQi5W9TqtdX//u3XD5U5dShncvjy2l2P7BABZ5Vx3v/xph349ftqqsK67VW/Woy/01g3FXIsYyX8WFFJYxeq6+77euruhc51zc18rL7d+Loyzfi5c5NQb7muh588EH9fWu1+epr51rIK3a6qbl30PK32Fbrh7oJ65zfUzyr3+xPUlOqgFg/+lt9RbM0eFK8yzbrs943JRcd1409164P5bVKGoU+dp6zT1eHq+DoQ01ahpA3WDc7yun3E7XTNeJO6Pz/3LwXMOZIdUv9tY147rw/XooO66wf17nSVDv9+k/J52vv963HeLrk68Hv2uuY8M0fv7ra/3mdbXewGn2vHr5IfUL7KoHv3gXbWv6P331FT7ZG3n6qo3qP097XV7HR/fXykkfc9m4rqBPO3Ezu81bfKXWrDZ9beReb/bPz5ajza72P9rv+2Yljw/QK9tkKrf/6be6+T83HL//eTMpVLN/XMrG//OshcAkNto6QEAwPlw9qB+fHWA7nn5K0X/WUotI8LVzZo6W38Mxh74r7NQNjq7U9MHPavXvj+oqrf11sjnB+uZ+5qpavwJxZvnK96iUVadPT1ys662qq6+7cHEuu71LjVLJfJ8ztvzUg31dZ57plNVxW/4SoMHT9OvZ52nU8rg9r3J9n0CgCyI3zpNj91vXXe/3aGQas3sa3y3CHPdPagjp5yF9I+2TnhcPczPguOVdLuzzA3/26oJLw9RvwlbXNfolA4v0ujPfd/4SenG7knXRjPdXtF5wpd98zTM7Pv3u3RZnZudfb9Zba4N1c69WfwZVfZmPWPvx0A9edOl2vDtRPUbtcJ1cyuFX1f8oAMhhRQSv0I/rk06E6H17k46nu6um1Gex5j28Z2fcw5kB/fvNiP7NtNlO+dr8IA39eNR58lEfvx+s3+RXujjuh5d4v6ebuh8//V5VUv2O8vpSjW69UrrAvaDojc7VYl2atXif6zf2cLVKL1riHufBvdW31Y1dNme5Xrr+X/pgQ+9f3+le43KwHUDedh26+fmExM192Al3dl3oPV+P6hHb6oknXC90xm69h9dp+gNUoj1M2TrN6sV61RL5XS7ex3W+u8ua1Ulfn1Z0321Mx5SpPd3FoCAQOgBAMB5EPvlaL3w0z9q1P1VfTXtBT3at7ceMNPgZ/XJgznwadGtyzX1sHT7oFf1zIPWH6sN66jl3Q/pmcG3uD6BW6KibrDq7KlOJV1mVV1WqUZiXfWyIWapRJ7PeXteukI1nOdadh+iF+6z/go5vFM7rX3wKoPb9ybb9wkAMuvkak14fr62FmuqkZOn6L3nH3Jd4/ta190Phqil88nQ+A0z9WrUIZW5fbBmThiivu5lJnyoUbdfrF+j3tXkDalvmVS4vLhiIz/W3D1ORTrKVku6NpqpQgnnCW9ObtCEp6drpdn3CR9r5GDn51N2/YwqXsnZj6a6/ZFXNaKVdR7W7vC4IeU4u0VLFvyjMhEd1KOYNHfRmsQbnCFlPa731a6w6zyPMa3jO1/nHMgO7t9tGkU8pFEv3qEy8Ru1YPlB51m39H6/OagFb0/RjwlV9eS4KXYQ4fp+tn4HHddNjRK26LW3F+mIs3SZhjepuk4rek2KkG/PFi07LlW/tY7KOFW+OfvUIlx39x2okf8231/W99CCUXrr+2POMknSvUb5e91AnrZ16SLrPW2gEWOG6IGIptb7fYvaPzJEj97maiGUkWv/keVL9aNqq2/X6tL+efoxsbVQcVVwr6NhDVUobqrcX1/WdH0ppf9XRwrp/Z0FICAQegC5bMBHUfphSZQ+HuBUAAg+/1utuV/+LtXppWe6Vsz4L9ZZcORo7nwmLv7EP9a/F+uSIq75QBCI+wQgOBz49kvNjb9YDwweqEY+u9D7R6u+WmR33fToA3UU6tmNTIGLdUOvHrrdWubLRRtTfVK00f0P6+5iv+v9D+bpQDa3Vjvw7XR9eTy9fc8u/yj+pPVQrFCqn4Xxq36wz+EdTTqoYauLpbU/asNx58lMC8xzDvjl2hpqbj2sjD3kmvch1e832xdp2napeveHdHs5p86tXFv17VTSWmaeot2BXrk6alnRuhZ8v0q/OlVG7E8/WPNXqmVDdzdBGWC+v/oO1N0hp7Vk6ZYsttDwfd1AMPivjmT5Wv+7or/ZKdW7US1vsybra2b+TznfUi+3/s4C4J+ADj3CSpRQ6/BW9tSv38O6p8vdalC/nvNszmv1ygz7ZnTKaWHkJH38Sh/dUT7weuoLvX+0Fjr7+fmT5Z3aYBKquh0f09hpM7Rwocd7EvWZPh10k7MMAASY3Tu0Ml5qeWuj89fHa/U79Gj1Qlo5cYj6vT5PW/906nPMH9qyaoPWW9OSaa/qhRn/VfWuHdXQow/78y8Q9wlA8PlHv276XSp2sxqmHozJwy7tMN3HNG6oGp7jRLgVvVrVq1mPO3/XAVdNkmJ1dP+ApgrZ/qUmL0v9qenM83ffs+DYbvs6vH7VCi0Y84pe/Km4bu8bbndrmCReW35arfiQZqpTVbr6hmYK0UYtXpXVYw3Ecw746eDvdghxw5UlXfOJ0v795siundbXc0m1rOc9rKhQwwyCcEix+9xRn9PF1fEftCrx0/G/a/13h6SKN6lRyuDEXwWqqk5j63FzJlpo+HXdQF5X/c7uahSyU2898rjeityiI5kNmPdZ3wt7pEb1r1ZosatVx7quH1i8Kue6tD3vf2cByIyADT2qVLlKzzz7tMJbt7InM28CDxN8mHoTiJw3Z+MVf8o9SSHFS6tqk44aMuXf+viRTPT/17CnXh83SVFfDFMrpyp7hOq+JtUSP/1Qtm5X1XXKQaFobfV5f6LefqS1apQJVUgB688j855YP8hCipRQxRo5+CtQ5dYa8sY4RS4YIxpkAMiw/522b6aElbjYNX8+FCil2199UyNvK6UDy6frsQd7a/DEDZn+Y2LlhH+pVbvuzvSCFqT65X6LJrw8SoOt6bWv43X32x/pve5Vc/QTeYG4TwAuRCf0t/kU8hWl0u3W4rS5x1j0Yh/XoVKqWNl62P9fr5+KDmnWQ8/Wk5Z8MFUrzfbS8OXz7mujmaZoq1Ofmrd9N4O5+vt6P+z/Qa/Z1+KxemtzZbvbmydbpBjc+H8b9eP3pxXSsoFrIOXrG6i9dZJ+XLoui58QP3/nHMhW8b9ryYSvtF5X6sZ6Kb5f0vv9xv5d71KFeAv6jLJXqpH1cOBo0ng9ri6u/tGyDb+7KsxN5P1SozYN/OjaypcQXWIGHk/ZjMqS7jXKn+sG8r6y4Rr54UDdXeq/WjD5Vd3T9VlNX5vxkDn2x0XW11BV3djAfI2UUqObqrpCvP+4ns922fx3FoCcEZChhwk3TMsOX0zg0bf/w+cv+Ng9T60jOjlThCJ6v6c5O8yvxSGq2vEZPdcmg7FH/fpqfE1phRYq6FRkk8o91KiK9XjqqOzBEsvUUocm9jNBoLwGjB6hntWtc332hHb+33vqdWeE6z1pHaFOI6O086CX36ayy9VN1KJ+eYVxpwxAFsSfzMHrlDfWL+SNHnlTX/37BT3Z7FJtmTtKPV7O3CCQyQcNv1s3mP5wkwnXe19P0+KJA9W+yE69P3FpjncHEoj7BOACduykf9fXk//4GOj0oPbssh6uKukjPCmuG/t3VyOtsK5nG3yswyX5IMG3qIJT71OyfXcP+uoM+JpV1XprpnUt/urtu9Xo6A96//PUAxuf+Ol7zbUeb69d1VXh/oT4hqWKzo5P0J6Hcw5kh8QPdNw1RK+tLaTbn3hK7VO1tPDn95v/Kv5/TjGl/b9rpfVQoaxHiOB0cfXrd64BoI9sWO1xEzmz/tERMxxJ2UtTfVA03WuUH9cNBInSTdV33BR9Naq3bi/+hz55YZBe8zIOjG879ePXh6yvszqq4YyfFXZ9HV1tff1N/WGLqyInZOPfWQByRsCFHibIMK053I4cPapFCxdr5hdfavWatU5t6uXOpxN7F2pM/xc0Z5f5sRuqxl17yPr9INdVvLO2vR/x/4nUjP+YfSuhmuEN7OfyvDv76Y5rTOJwVD+//aAeGrNQezw+bXXku/F66LnPnDkACDBXXaOW1sOClan7DM+YEF1iui74z+5U3XAc+H239W9JhaW68W8pUVW3D31X47uWVPzaKEXvd+ozIPmg4TVUxtenB80fLg82lbZO0fsLUg68mb0CcZ8AXIhKqWr1i6X9K7R+n1PlVWXVMD31/rxKW7zdjDz5q7Zut67011by/cnq0uF69L6qOrD4I01d57vpQfJBgium0TLd2767B311Bnz1dFEhe99+3ZPyWnpI+3+zHkqlvrnpFlq1g/refaViF6QcOPyYVn630S7Nff1+55Pf92vYMlOzUwuWO588z5Tzd86B7JD0gY4XNHX2h3ryljRCBx+/34RdXdX6ej6kJWu9f+/Ebtlg/VtVFZKFKU4XV/a14KBWLt0p1blJzZ2byJlycoNWrrW+v+pY23Kq3Py9Rvm+biDYhFYL15MTXlTfsqe15KsfU3c56MvWVZpvxgTZ/6UecLceeuRLu2u4+CU/aL2v8C+V3Ps7C0DOCLjQo1XrpA6fTODx2qtvaOGixXbgYYIPM7mZLq9M8JHelDMtQrZrzIJtrptX5Wurg2m2qRJqNWikPv0yMnGsiR8WztCnr3RUDfO0btLrkVbdXaY5hqV4Az1nL+fqMim0The9ZLq9WuC81oxV8eUYDbrR958pScqrSz0zhke8flkxRzNXuPYtrM4dXrvQCru1X/JxMRZGKuqNLs6zzr5M/Cz5uBkTH0vqLqtoEw0aY+2rx+sjx/VTq8TBD825GK3P/y/p9T/8n3Us9V3Pplq/ef0rEa4nvegZfp39i9CJNV9o6Dd+ZOfW/vV5Y1zycxk5Tq938+yOzHk/lszQ621qq8+YpP1Z+OVo9XH6NbYHGh/awHldFd1jr896Tbh5coxr/R/1UY0uIxVpXh85wjnn1dRx8BhFRrnWaU9Rn+njQTel2/UBgCBTrI5ubVFI8d9P1oTlWekXvKKqmG6Yf1uqle7BJw3rj8roZaetpyupoq8b/5aQUNO91j+Kz+G/GUOaWX+gVpRWTv4yYLoDCcR9AhA8rr61rarrd014/yvF+rzGXKyG4U0VEr9C73+yQSc8P5l99h+t/3SqFqi4etzq+svBlzIRD+nRisc0fd4K/e3UZcXV4R2cffdjwO5K19jd4qxftEKxHsvGr12h76yfLdWrXJHUxY4XFTrcrfYh/+jLifOTXn90naLNPdhqd2hk4ie/zXS3brSqt363wf+bX6kE5jkHfEn6QEdVlfGjlwGvv99UvVl3W3Vbp32sBSmD2H3zNCHykELqtU4VaJRpFm59f/+uVf83Xz9ul268qa7PMCJdZ3/XklGTtSCkqp68K+3vr/R4vW4gOBUoolAzIP+p035/UOzXFT9YPyMuVvsHPX9+DNYzt5W0fjit1o/r/V1T3vg7C4D/Ai70MEGG2+KFi51SEhN+xMSYjxG5mK6w0ptyrCusb/bKFeKWUNmm5rGTutitLf7Uzh0x1rRXJ6xfEyo26aPnhpkWF/9V7H+s+gPOTfv4o9pjL7fPXk/jzh3VokpR/f27qYvRnsPxCgmroo7DXlBPO1RJQ5P71NiMU3Zqm36ebT3OXqNfTBdXxa/THXeaBZLUGDBGM4ZFuMbF+N+f9j7sOWRtq5jrV5rQNsP07zd7qkXlEtYfLc4+7j0qXXKJ62Z90dZ6fcowdaxp/Zb0h7Ov1tNh10TouTGDZVqiNx42Ws/dWU1lLzrhHONeHbkoTGXN21C0i954zbV+Hd3rer21/bBSvj5GcpNqXGl+44vXjlVRrqq0OPvXs355hRZw7f8e65yHFC+vxn1G6uOhKVu/hOiaPiPUs7y1rzHWe2b9IhUSVk09h7mOZf9v1v7vOur80D2h/fbxbFOsdcyJLqqlx3vXVpjpg9hWTQM+elWD2lRRWIj1ml3OOSxSQlXvHKwZY7pk/hdIAHnQxWo0YLDuvvyY5r4+QB36v6kJE6boEzONelUPTEzZ9DppgErXtEUH7E8phahRuztUwfqD9P0nHtdrH5h1fKzXBr2rL48X190P3pL0SdXN0/TYyx/ry6gVrkEgJ76pF/5t/QZf8WbdkIkBKf/avcVjf6zpt7TCmyt1e3fXTaYJM3c6ddkvEPcJwAWqYgc927eqtPVLPXDfQxo2yrnGm2v0I29qidNFU0iz+zX69uKKXTBKPax618+CsRp23wANXvCPGvV9Qd3MwNppKXCl2j9i/SzY83vWxtpwK9dWzw6ooZCt09Wj67N6P/Hn04eanPRnl8tFDXR7p+LSni/Vr6+z/x+8qcde/UEHLg9Xv9u8D5ycyHr93d2tZfZ8pWnO4OBHli/Vj9Zjyzs6qlHiJ7/NdIfa31LIWnZR8htQGRSQ5xzINl5+vzFfr8N6q5F26q1BSdejCS8PsX4Hna6VxcI1enDT1H+Plq6tG63vhZULrO851VDzet4+1u6L+3fX7zXX+v4a3HWIXttcVN2eH6KWXv7M37/d4/c3a9q6P407xV6uGwgOWydbXycffKkFy6yvg2WL9MkLr+p96+dO9VsbpN8to3F2i5ZY13EVu1m3t/f8+VFHLTuEq7pOa+6P/ra0z72/swDkjIDs3srNtPTwxle9LznWFdbJlOnzr1o0aZgi7u6vh/oPsqb+6vp/e+1nyla/WXW1UR8+Y9Uvd/7qOfWrPrOXG6U51uyR9XP0SreuuvdBUzdIvbqM18/mZ3rIVWrc0X6FT43Dq9mBRPx/1mimXTNHP9tdXIXqmmYeLSiKdtGAdlWsy3m89i99TxF39lEvs63uXdW6/yRrgQZ6vGcT++b9ia1faGDrnvbzD/XuqdZdRsrEUK2eeUCNw+K1Z85Tiujt3tfXtOyw9WSZJrrnLqluRddvNnv+70HX661z0anbaM00bQybVlNFk2EcW613u7jOVa/uD+qJD5fbr/EtXvGm2WI6Og43+2cVjqzWmx1d+2+Ob+DsGPv9KntTF/VJFiKFKPTYQg3sZPalvyJG/KQjprpMNbWqb53J1639/+JX573+U9H28byoD9fYFS5XVtFlWz/TE3dG6OZOL2rnoEG6p4p1kPExmvm4855a5zBi1Gp73SE1IzQkaMZbAeCXojXUd+I7GtW1tioc32r9krxI06N+0I/W36eNapR0FnJLGqDSNX2p9e6/8ap113tv91b7sicV/a1Zx3Ktv6i6+r7wmvrW8RgovdgVKnt0i76cbP3h+fJYvf/9Hypzy4P65I0OqpAY0Prv128neuyPNX2TZh8uCmlytx61/nCOjZzmZYDx7BGI+wTgwlUm4gXNfPtB3X1tIW1ZZq7PizRr2RYdKV1DFRPvHV6s6gM+1Mzn71Cd0zs11/5ZsFr7SzfQo6+O0cgIP/vPr3a3norIyA3JtJW5/VlNNfte9R9FL3Tt+/RVB1Wxzh16ZlRHOQ2gbVffN1rj+zbV1aecn2Xf71RInQ4aNaq3qqf3QS1LmTt66e5ip7Vk4hxt/d/viv7G3KhtqlubePwMs4WoRpMG1r+H9OV3WQmrA/OcA9nF6+83ZoDoya/qycYltX+V63t67vZ41Wk/UFM/8PW96gwAbdRpokYZ+tyo+3fXiZqwbKeK3tRb7334rh7w/N3Uw4/TPH5/s6Zpa5MGVfcm+XXDqUSeF3bF5TqyYaHeH2V9HYyapm/2lVL7Qa9qdNd0AnRH/KofNDfe+rnU7mZd7dQlcsap0bLvtcqP+0i2XPo7C0DOyFeizLXnnHJAMAOYu1t7jB//UbJWHW7PPPt0hlpuuLvJyqhWr8zQc01CpZg5uvlhEwikUPkxfT6xtcrqTy1+uo9eWWO6bYpQn843q2a50qp4eVGFFHHapB5brVc6vWiHBnaXSKaLK886Wwm16vGg7mh2lcqWLq3LQkMU4lwwd86O0EMfusqpmW6aBqtx8Xit+7CTnjAtPYy7RmrhgNoKObVRH0YMc4UhPUZr4f3VFHL4Jw3tMlI/2wt6qD9Yn79xk8rGb9dnnZ/SpFTN85vopS+HqUUa/TOZfZ1fcYYG1bfO3amj2rI0Up9NnqOfTShiVO6nTydG2OOPnNi1WvNnfaJ/f2NaxfjiPr4T+nlUVw39xqn2yr1/8doyuZMGTnWqba2t9TxmnyfXcz7OW+Jy1vZet7a3yKoKH6Eou4urGM1sOUiJb4X7vUxxvgaMi9I910j7vxume0e6+ih2CdWgiTPUsXLSc6b7rHusVaT9HiMvOBCbgwOleZGQkKD402eUP59TAQAAAAAAAFzgAq6lx28eIYe38ThMd1WedZ6DmxspW4FkNvDwR+jtVVTWFE4d0A4TeLQZoX+/1U8dm1RT2UIntGfLT5qzwd9WKaY7pEl67v6bVLdSqOL//E3rFv2kPaaLqvTc2Vo17Q8dhajuAI/xI0zgYaqLXKebepiCpVghV92xA6kDD6PExbrEPJ76O9lA4UncQUy89iyN0pw5qadF1rmY89IYzdnh6s6pRps+ev2LKEWO6am65hMlu8brzY9W2+sPrdxA9wwep6j/G6eX7vQVZP2mI3YiEqprGqY3MHvS/v2d6lO8CxVrBy/WMmaAqkQpW5DEOY8Z8Puv+sLzfDlh1YmjnoGHcUJbnO7NLilyqf0IAAAAAAAAAMgeARd6rPEIMUy4YcbjMOFH6/BW9uTZTZV7cPNFztgfplWICTjc8zkZeJhxI55r5RqQ/MSGhZqp8hrQrYHdxdT+b55SRPf+eujpURoTY3eUlL67eqqD6Q7JtMrobLpkekpDR/2otLq2dOvYrIqrP86z8Yo/lWKyB/oKUdVGPV3LuBUNU+Kg5N4UucQV6KThxN6pGvPB+FTTzFXWkyd/0pj+PXVzlxf14f9ttI8jrGYXvfTMTfZrt3zxonrd2VW9Rn2mxTtOWPtTXi36v6ABle2nU9irL9a6ugkLa9JDAzzb1/sUoktS9R3aWhXsgda9BSJZlHDaa0uV0BK1nZJbqD2WivH30dStmAAAAAAAAAAAmRdwoYcJKkyQ4WaCD9O6I7x1K3tyM8utdQKShYsW268x3WG5503wkVOBR1jDLnr7E9P9kTVzZLU+fG2pVbhKYU6qEH/K3ad4NQ2oU94pe+d0fiWVDnWV4+N1wmkxENrmZl2TbrexHdW8htlwvLb8u5NaR6SYJrgGbQq5ura6mFYWC7bJHgewTBP1f6R28iDEWLRWO8z2Q6qp42sRroHLk1mqLb/ba1SNO57UHZ59gV4eoZeGdrEKtXXHnc66D6/WzDHDNPAbV2gRWupqKTxCHe3w4YT2fPOFXuk/VevsbZZWhVQdMbrsmTjHGd+kiu55c5yGtCnvse+hqtimnz5+padVXqqVO038YO1f+xHJ9q/GgLaqa85n/G9an2YXWWkJUSGv/Z8mN2+LM5bLjQ8kC2lC2zypm+xg509tWeFaBgAAAAAAAACQPQJuTA83E3S0at3K69gd7mDE23gf2SlxTA/TgsLd4qJAiELcScXhjfrwxWGaudU123NMpPrUtJ48e0J7Yv6UwsqrbDFZy1t1nuN3JI4PIcUf3qv9OqKVo/6r5mYsDaduzxGpbJXSCjnr2p7P8R7cY3TEb9ek25/SZ051ko56O6qP6hYx6+hqr+OOF8dpyI3OeT35p/b8fkIqVlpljy+yBzOvMWCM3rnLDHZuiT+qPbuPKL5ImCoW2a43zWDm1fvo47c6qqpZ4Kz1fIz1fKFQla1QWqG7zfgnv7rGyji7VzsPuwKSslXKK7SAtH/+U7r3VH/90KG09sf+qROnrWet81TxcmtlJ63zea91Pj27ifIQWqef3nklQlWtY7G53xfrBNldWrnHXqls7d/71v6Z5Zz9M8dX0W5hEW+dh2et87DdKnuMFeIeu8Pmpb6otc7/s9Zpnj5mHddx61im9dfwqs6YHqnGfblJL30xWC1MuGN9PdjHWjBMVcu7zvuRH9/TfSMW2q1DGNMjeDCmBwAAAAAAAJC7Aq6lh5vpumrCuI/scMOUTcBhWm+YedOCI6cDj2RM0FHEmQrE68SBGC2b/KI6dUkKPIzPnh2vxXtPWMuHquI1VXTJkYV6ZZ6XT/MveksffrdXJ85KIZeXV8VihRW3ZpRembpdR+JddVWvlH6Z9JnWpTmmR6j6NLrKDifif13tJfAw5ih6i6vjpaoNe6iiTmj+iP56YtJq7TlmbaxoaXtfK4ZJf+139fm05cNB6joySjvtnSlhP1/1iqI6cfCA7M66tk7Sv575TD9bxxov5/kKJaRD2zVnRqS1wG/a8p8/dSLUOg7z3DXlFXLiT22ZM1IPvbVd2rnN2naIylY2z1nbtl56ZNdP+nCo78DDOLFhvB7q/aImLd2rI+a8uN8Xay9OHNiu+VHLXQvummQtN0pzfrH2wdk/E3iYZeaM7OMEHhl0cpLeNe+P6S6suHVcV1hbNYGLT0s1/IFhrn09G+o61vIlFH9kr5ZNGpYYeAAAAAAAAAAAsk/AtvQAgLyGlh4AAAAAAABA7grYlh4AAAAAAAAAAAAZQegBAAAAAAAAAACCAqEHAAAAAAAAAAAICoQeAAAAAAAAAAAgKBB6AAAAAAAAAACAoEDoAQAAAAAAAAAAggKhBwAAAAAAAAAACAqEHgAAAAAAAAAAICgQegAAAAAAAAAAgKBA6AEAAAAAAAAAAIICoQcAAAAAAAAAAAgKhB4AAAAAAAAAACAoEHoAAAAAAAAAAICgkK9EmWvPOWUAQBYciN3ilM6PhIQExZ8+o2KhRZwaAAAAAAAA4MJGSw8AAAAAAAAAABAUCD0AAAAAAAAAAEBQIPQAAAAAAAAAAABBgdADAAAAAAAAAAAEBUIPAAAAAAAAAAAQFAg9AAAAAAAAAABAUCD0AAAAAAAAAAAAQYHQAwAAAAAAAAAABAVCDwAAAAAAAAAAEBQIPQAAAAAAAAAAQFAg9AAAAAAAAAAAAEGB0AMAAAAAAAAAAAQFQg8AAAAAAAAAABAUCD0AAAAAAAAAAEBQIPQAAAAAAAAAAABBgdADAAAAAAAAAAAEBUIPAAAAAAAAAAAQFAg9AAAAAAAAAABAUCD0AAAAAAAAAAAAQYHQAwAAAAAAAAAABAVCDwAAAAAAAAAAEBQIPQAAAAAAAAAAQFAg9AAAAAAAAAAAAEGB0AMAAAAActDfkUt0auVmu2wezTwAAACAnEHoAQAAAAA55My+gzr49LuJQYd5NPOmHgAAAED2y1eizLXnnDIAIAsOxG5xSudHQkKC4k+fUbHQIk4NAAAIFEff/1yn9/2pM78ftFt3FLyylIo0ut4um7pLOrW0lzN17jIAAACArCP0AIBsQugBAAAMd2sOf5V64/HMBR+/zNTD66/TRz2vdypS27/4Y4349pgzl6TsbffpxVal7LL3ZYqrw+CHdIdrER8Oav6of+urVI1W0nntwSUaMWq99pe6QS8ObqmyTnWSzRo3+Fut92cf0l0XAAAALjR0bwUAAAAA2cg9fscVU19Vxe8npTkZ7uUzYt1no/Xwp7HOnBcmDBg8WiPWX6UXRz2ljzynXhW0f/+fzoJuFdTPY5l+tY7pq1Efa74/vXDVui3Z+l+8TdZrR2vcL87zKezf9Jv2lyqusgd/0/o012/tw7dpn5t1367XfqcMAAAAGIQeAAAAAJANzDgdnmN1FLqytAqW895MwbPedHfl7xgfplXGw4NHa/wmp8KrzRo3ar102336yFvrh5r3pNk6xKjb8zbdoGNaucm//fJUtlV7dbAOb/16b4HFQav+mG64vb0alUp7/WVLFZc2bdM6Zz61zdbrneUAAAAAB6EHAAAAAGSDU6s2a88tfRIHLTdMmGHqUk6eIYdp6WHqPF/ny/79xxJbVvSr5VSmsO6zb7W+1A3q53Rfdf6VUpkyTjGlX37QVwcrqFHNUrrhhuLav36z75YaN1ylGxSruYu9ByP7F/9sH2ejMqm77wIAAMCFK0+GHmElSqh1eCv16/ew7ulytz0PAAAAALnJDFZuxuYwjyll9rmU6vZ8Kp1WGq7WDzfcnsXxLQ4e1AHroUyZzAQn1mutF5ctW9qZT7JufaxU6zrVtcpla12lsgfX6ysf3WBJ16tRLfkIRjbrq2+PqewN18tXvgIAAIALU54MPfr2f1jhrVupSpWr1KB+PXs+p4XeP1oLl0TpB2v6/MnyTm0w6KOPneMy08cDQp361BoP/yxxuahXbnJqAQAAABhFGl1vD0puHlPK7HMZ9ss2ewDwillq5HFQ8z9dr/21blP/mk5VBqz7zAxuXkHtU7U0cQKZG5zjLHW9GlmLeO8Gy6XubTd4D0bs4/S2DQAAAFzo8lzoYUKOlC073C0/ck6o7mtSTSHOXNm6Xe1PJgWjqg17qKJTTi5C99SnRU2Oq9xaQ94Yp8gFYzTAqQIAAEDeYLqpOvj0u14HJs/sc9nml5n2WCCJ06glKVpPxGp84vOu0KJfOuN+JNr0bbJ1r7zBDGh+T+q/mZygolFikOLq4irNcTtKtVT7WtL6BZ77e1DzFyS1GAEAAAA8BWzoYUIMM6UMOEr46Mrq0jDvQYgJSbKscg81qmI9njqqI6esxzK11KGJ/UwQOaETJ62H8g3UpbKrJpk7m+iaolL8qXinAjni6iZqUb+8wtwJGwAAAPIMMyC5GZfDPKaU2eeyjRm8fJQJI57Si7d5G/i7gvo5z9tTL9khyAgf42kk44wx8tGo+1wDmH8600uI4T2osLu4UqxW+uziSqp7QwXr5b9pvXtXDm7WyoPF1eG2bGgZAwAAgKATkKGHGafDdF9lppRdV8X89ptTSm5XTPJ6dxdYZl1myoqKd9a2Wz/E/ydSM/5jbvqXUM3wBvZzweSvIyesf0urcc+UxxaqPuHXWf+e0J4/CD0AAAAAb4o0vF4Vv59kj8/hydSlnAqWS+qWyXRrZepSvi5TSl2msjqmPVnNT2reY4cj+7/9wXcrjFRK6Y7Bt9mDj4//LEWrFTuosB5TtAp5eNR6uwVH8pYcKdS8WR1KHdNX37rWue5b0/VWY91Bz1YAAADwIiBDD8/WHabsOX/0yFEtWrjYmXOJiflNq9esdeZkj/Xh+Rozn3nl1aWeGcMjXr+smKOZK7ZZJWu/6twhbx1qhd3aT2OnzdDChc44GQsjFfVGF+dZKbROF7008bOk561p4cTHkj7tVLSJBo2ZpCiP10eO66dWlzvPq4RaDRqtz/8v6fU//N8YDarvejbV+s3rX4lwPZmO/Us364j1mOrYinZR4+oh0uHN+jnVH09mf0bq0y8jk/Zn4Qx9+kpH1XCWkG7S65HmuRl6vU1t9RmTtH8LvxytPtWdxSz2/o+zjn+Bsy57Gev4bvQcayRUdbuN0Kfuc2Bt7/M3euqeV2bY88nHG6mme4ab7qLcy1rvx5QR6lknaX0DPnI99/EAa9lXxiWee7PcPWbfqvfU29Z7ar/emsz70aKo67Uu6W3Dv+O392NoA+vojCq6x96e9ZpwuwIAAAABzgQZnmHG6d//dEqpndl3MPF5M4C55+uyxI9xMvxVtoy3FiHpuV4dTEuSTT9rvsffDvs3/ab9KVuTOJPd8sSzJUcqHt1gHVyiuZ7jggAAAAApBGTosdYjwDCBxpGjR5052eWFixZr/PiPNPOLL+1HM3kyrzGT2+IUIUmGNLlPja+0Hk9t08+zrcfZa/SL6eKq+HW6406zQJIaA8ZoxrAI1SgTqpD//ak9O2K051C8Qoq5bmOHthmmf7/ZUy0ql1CIjtrP79xrHdsllyjMLFC0tV6fMkwda5aW/rCeM6+3ng67JkLPjRmsxtYijYeN1nN3VlPZi064Xr9jr45cFKayJuMp2kVvvOZav47udb3e2n5YKWt9/ti3UL8cth5THFvFB+urqvW4f9W/tcdV5aGTutgtYf60t2f254RCVbFJHz03LGWLkRBd02eEepa39j3GWu6sVRNWTT2HuY7NaNy5o1pUKaq/f3eO/7B1/sKqqOOwF9TTCRpqDBip1/s0UEUzf8Q6zpijKnxDFz1YL2WfUNU04KNXNeCm8go97jofO/+IV2j5Burz/+3dCWAU5f3/8Q+HQSSE00DkCIKAKDeCBwQvDrXBolgVBKmiXLZa/QtFUSkKisaqaJVDqUWoeHFU4sEhPwFRBLlBFAQlIIHIFYgHkeM/zzOzyWazSTYhkLB5v37/6c48MzszO9u/lf3wfb5PZZ7PJ+bK4RrcPEJ7k3bbezPHDR72rF4ec4ualt3vfFemEsb9PoY+5AtW8nON3D9/8lbnvd/vt6GamW4s2T7PjUrK/K8/AAAATgO+huQ7ez+sbVf2y3Ex+41CaWCeIVrXXVvXVlSMy2XKqFAk70r11vInptMf3cqMyb7qjRStWuWcK4ceHDGdLlErperLtTmXp7jHJOl/k7cqObqVuhegwToAAABKhmIZepiqjaeefNpWdAQGGr5eHQ3q11ebi9rYxW4HVHOYQMS3+FeB5Nclnc+3gUT6t1/pHTsyU0vtFFeRatTer4Kiwi0a3K2BIpSu5IUvKv76fuo76D71ve1WdRk0yTmgrf7W51JVLSOlff227unSx+6/+8991OWW0TKxTKeH7tQlVdO1beaDiv+zs8+8/5antMgEETUv1c09pNaxboCx7f273PcPGqQbez2rd75zBi87X7Hmd//U5XrhlkHu+2+7Sw+8ssS+J2/LNenz7c5rpJpefoM7pBbq085UumzX0hlmX6DvNG/ScMX/yb2euZ9b33ePi7ngioA/1EQoMnWu7rnRHDtI8SO+sJUlqnm+OnmVKvtWzdSoXreq512+zz9eS82ftSLq6xJ7S/Hqd415zs4fwj72Xdc8g0la/3vW0CN28CB1bxChtGUv6kbvedz957s05Wvn+4s4X9cNNJ8rU2SZ7/RMT+d7u6ufbp2wRjbiqHW+Gu6aqfvN+/98q4YtdBOIyMYd1NF5zd81cv/8M8c47337Oy/02K3F9nmO1Ctf2QEAAACcJsw0V9FP/81OV+WbsspUc5h182r49lW9t1fGMYXGm5pq1eTgPTmSk0MIM9a/oxFzUhXTNfDf6UPhBS8pqzTLBC/rP9Us5zZyrs5opoubO/e1al3OU1x5FSTJKc49OeeJ8UYBAACAQMV2eqsqVato//79GdNUmVAjIWGMHnr47xn9PsyYaVRu1gcO7G/3mQDE8FWH+FeJ5N/l6t7SXN+d2srHN8VV5IWX6mZ3SLqhrRqa39z3rNDYx+e6P5j7u+gKXVjTeU3/RjOHTdEGd9TPperY2FSERCj2hmfdaZLsMkId7dRWEapYw/mDwH73zLHXjNPLQ27QJWbfnjVa+b3z+t1u7TU7K7XV4NdGaPA1dWT6cKxc/Y0ZDcm2177SZuc14oL26meqFC6NV2vnvtO//lyTzDWyWagPv66jfqOe1av/maK5iTOUeIP3Q3/5s9wKlgzOc/xofOZn/2K5Ntk/b1VQpDcb2crpc6Vrhui5ceM0bcYMzZ17ry6xVfURiohyXi5voXrmvpzn+GGCF0wYe2Zq/oasT/0PzdxwJLLdvUrMeJ5vqY+ZqstRsUrWoCx5xSx9aJq5O9Kmm/J7w7nnOZMy7nnpsu/ca5Ypa8+dv2vk/fkBAABw+jNTVZkgwwQfVf/ay46Zag6z7avqMONmu8pfe9rtwhbT6W5NTOiqmnPeyNpDw1nGr62k7n2vDggOkmzj8ozjJqeq+5AHNbJTAafdsn043Kbm761Kcgbq6uJcqjPcZuVeSJIDt+l5Xf2xoPcEAACAEqFYhR4m4PAFGybE8DUgN+GG2c6LeX+btm3s8WbdvN+8z3dOX4ASsuu7qKn3g3vrwb4ftJ1lcAv7Q7fKN9Hlvc2KI+oMdyx1l5bagQBVzlJF8/rrIW3zfljPKkIRZcxrurYtTNTMmdmXeV9JMx8fq5mb9jvXrqILr+mnMW8nasbYPmptgoDvx+uZicvt+SPPbaubh4xT4vvj9Pj1+fjcP7+tpV6VwiV9I3VD92aq6tzT5i+nZA9yHJHXjNAb/xyoGy49XzFnpGnbhi80c3VOQVO60g96q9Zh79XHTBU1SY/ccbla14tU+u6tWjnvC20z04n5RLhhg3mOgX8LLP2ot+Jjn6e0b3Xw5znzs6zN79P2r/HW/AXc8wldI6/PDwAAgHDkq/owfGFIYfTwaN3nQU3sk9vUWM00KEgPjYkJd2dpAu4GJLkfE5xpXO4cG/QevH0JN+smc5/Oa64VI01vttcdZIMR976zBS7RV2tkkPPY5zAkMMQBAABASVWsQo8Bg7IHG6ZSw0xhFSobfDjHm/f59/Uw48HOn5sb2jdwm0ofTVf6rwGL/fE7Qg0v7uMe41Ohau7/Ml++Yp7/Mp62farG/mt8tuWdZc7On7/Q2EF9dMUtI/XK+2uUnO58tqa36HGvx8SGt0eq7/W3qm/CFM3flObcTx11HPQPDT7X7g5BmibN22gDjoYtH1Lchc6n+3mj5k9192ZVR4N7tbXVHMkfP6j42wbp7r8naOwWO2lT/vXoY6eK0q9r9MpNZvqvBzUs4TP7GbOJiAioInGeQ3m3uiKb1BVBn+ekj4NN11VAp+IaAAAAOO34qj58FR7mtdCnswIAAACQodhVevjz9eLIb4VGTsfn7zw3uD/4K10b3rhRXeIDlglrnD1SxHktdIupsvhoo9vku+alGvSXFlmDEGPeCm0yFR4R5+uGp+Kz/WBvpona8KM9oy687v/pOv8G2NXj9fiwW5yVFrrueu/ce5brnbHDdY/3o3pk9HlS53jdYKfCStO2j9/WqEFTtdJes4bqOrtD9v5crTfTLjVoodblnbOtnavMyb381VdV74Om/7rDXTHVGi2z9soIWY1It4ojPV1pXjVM5DVXqJGttvF8vsOt8CjfRH/4y/l2yLpgoP7gTSnls3Tbbvta9dLeGnyBXXVVaKF+wwfanhwn6uRdI0Jn+P93AAAAAAAAAACQp2IVepjKDP/lwL7MvhyB+3JbtjpLTu8LWe/2alreeU3fqqXBqhymf6X1ZtolbxoofT9Vb39m7jdCDW8YrcT3J2nyuLGa/N+3NHdcP2c8UZM+3mKDkqrtBmrGR1PsftsH4+3hMp1Ipoz7QJvtAW01dKa3/7VJSnxzoDrWN+lCZXX8s3Pud8fpVbNv3Di98Qc3YEj+donUsLPue/MtTXvN7HOu/fad7rRXP2/Rys/tYSFaqFkZU1Tt18oPFnrrgRZqw3a3DCP2+tfcz/v2k+pewMxDy7xAo1Jb/e1t8xnH6a0HWijSvYTr57c18wv3OZveJ4n/dY4zz+iFLqqY5n+gtPKFt7XUFJ1ENNDNL/ieyzjNmDlafdrUcAOWE1To1/CFOqqjG6Y4n+0/4/R4ZzsAAAAAAAAAAMhDsQo9xo+fmGWZO2++HX/n7Xez7cttye19oYlUv4vr2x+s079brinuYICZWuw1zm7YrrdilaYPRwzSA5OWa1tqulShhmIbNVBsVWlvslsNsOGV+3Tr6ERt3ufsj6hi9zc8p4LSUnbJTgj19STd/9AULd2epnR5++tWkX76RjPfmuEcsFUbvt2ttMg6amj2NaqjiLTd2jBztO7+5zfS5o3OtSMUc67Z51zbeeu+77/QK8OG652gfURytnTKErdy5cflmvSFHQpqysPjNd+5X5WJtPdbcd9cjfqggFM6fZWgUVO/kX081Z3PWEtaP2mKVvr39DDP+ZHReuWL7Uo76nxTNc1xEUp+P0GvfZs19NDPczVsUILtgZLufKfuc6mjyNTtWvTerOC9V/KrsK/x8yS9YJ6BmT6tkvPZzokwhS8AAAAAAAAAgBCUqlKz8XFvHTiNRWrwxLd0cwMpecFw9RwdrCk5cHLtStrgrZ0ax44dU/rvRxQVacrSAAAAAAAAABSrSg+goKpe///UqYFZ26/NCwg8AAAAAAAAAKAkotIDp51OI6doaBspefs+t5l89TqKrep2z9j3xYu6/ZG5ciceA04tKj0AAAAAAACAokWlB047+37crTRVcHuemN4lVSOUvm+7Vr6foLsIPAAAAAAAAACgxKLSAwAKCZUeAAAAAArTjh07tGDBAi1fvlxJSUn69ddfVadOHV133XXq3r27ypQpY4/76KOP9NNPP6lFixZ28bdy5Upt2LBB1atX17XXXuuNulJTU5WYmKiyZcvqT3/6k0qXLq2jR4/q448/1ocffmivWb58eTVs2FAdOnTI9n4AAIojQg8AKCSEHgAAAAAKy+bNm22AYYIOwwQSx48ft4vRpUsXG06UKlXKhhFm/YILLtD69evtmGECjKpVq+rgwYN2e9euXapRo4ZdN/75z3/qwQcfVLVq1ZScnGzfd8cdd2jq1Kl2/xlnnGFff//9d/s6atQoDR8+3K4DAFBcMb0VAAAAAABAMWOqO3777Tf1799fa9as0c8//6x9+/bp+uuvt/vnzp2rd955x65feeWV9jUlJUVHjhyx68b27dszAg9j6dKl3prrs88+s69169a1Acdzzz1nAw9T3fHWW2/ZSpBDhw5p7dq1+uMf/2jPBwBAcUfoAQAAAAAAUMyY6aYOHDigCRMmqHnz5jrzzDNVuXJlzZgxI2OaKVOlYSo/evToYbdNKGIWn61bt9rXpk2b2tfA0GPdunX2dcCAAfbVnNvo3bu3brnlFht+lCtXTs2aNdOsWbP08ssv2/0AABRnhB4AAAAAAADFjKm8iIqK8rYymT4eV111lV3fs2eP0tPT1aBBAzsVlpkC99///rfdZyxbtsxOWfXaa6/Z85n+Hj6mX8j333+vChUq2JDD8E2LZabWCsbXQwQAgOKMnh4AUEjo6QEAMFLTftfcz3do+fqftHnbQe1NPez8M/v0/1fu0qVLqVqlcmoYG6W2Tc9Wl8tqq1KkO9c7AODk2bt3r51WyoQbpuqiSpUqmjZtmoYNG2arP8wUVBEREXr88cc1YsQIxcbG2jDDBBhXXHGFvvrqKxtwtG3b1k51Zfp6mH1PP/20PUdcXJwWLVpkr/XKK6/or3/9q/2zRuvWrfWPf/zDVomY6a8IPAAApwtCDwAoJIQeyN1qPRfTU6O9LX+xbS5Rpxvu0D23dlRsBW8wqMNa/NTF6v7iYbvV+fl5euvW2nY9L6nfL9Lsqe/pvS+XavGKQ95oRbXteKGat+msbn16KC6mnDeeybxv6lMP6rHZN+nj5KFq640DCG7ie99qauJ3YRFy5MWEIL3jz1P/mxp7IwCAwmSmrTLBhGkcbv7dPxj/0GPhwoU25DB2796tihUrKjIyUtWrV7ehR7du3TRnzhzbH8RMl9WqVSutXr1ajz76qA1MfAYNGqSJEydmuaYJPV5//fWMChMAAIozprcCAKCIbVuxVJMeGaDWtzyj5T97g8GkLtJsL/Aw5s1epG3eeo6O7FDiiBt1yWUDdN8r8/wCD+OQli9yrv38E3ptaeb44X1btHjmWA29rZ3qO+97bLb/ewAE88OPh9TvscV64/3NJSLwMMznNJ/XfG7z+QEAhevee+/NCDw6d+5se3v861//suNmOqtAF110kcqWLWvXTWXIl19+ad/boUMHO7WVqegw3n//fdvs3FR8GDfddJN99THXMMHIkCFDbHBiJCUlqWvXrvrb3/5mtwEAKM4IPQAAOMXiX1msvckb7bLzm3ma9VBLRZsdK17X7S8uVWaskVXq57M1yazc1ll21uUF72nx92YlBz9v1Mv94tV34kalOJuxV8XrmX/P0MpvvtRWs6xJ1MfvJWjs4I6q7P752LFHs4fFq/vg8Zq0IF2x52av/gCQlfnB//5nvtS3P6R6IyWL+dzm8xN8AEDh+emnn2zIYUILE3zMnTtX/fv31z333KOxY8dq4MCB3pGZTG+OW2+91a4vWbJEX3zxhV3/85//bF+vu+46+/rJJ5/o0KFDth/I+eefb6s+/JlprMyUVs8884xtir5gwQJdffXVNigxjcyTk5O9IwEAKJ4IPQAAKELlKtVW3L0v6Ylu7nbKW1/qW3c1wEEtnjvPrvXrMlTxfc3aRk2at9GOZXdYi5/rqcfmmgilnG5KSNQX/01Qv2ubKLZSlCqZJbqB2raPV+9HJ2hst+ru24wKDdR76Ch9vPJLzRxysTcIICdPTFitn/b/5m2VTObzm+cAACgcpvfG0aNH7XqXLl3sqz9TeeFjpsHyMcGI6dfxzjvvaMWKFSpfvryuvfZau89MZ2Wmutq2bZvtCWJCjB49eth9OTGVI1deeaXt9WGYezL3BgBAcUboAQBAkauu2Cbeasrh4JUeyfP07ltmpaPaNautFhd3tMNr31motXYtwPrX9dgr7pnaDv2PXuzdQKHVbFTXTc8nauz9PdQ2ppzoGAPkzvTwKKkVHoHMczDPAwBw4ky1hQkvDBNS+Nu0aZNee+01u24qQX77LTN4b9y4sQ0qPv/8c9ucvF69ehlTXhmXXXaZrdQw1SKGqeDwd+DAAdswPZCpCjFKly5tgxQAAIozGpkDQCGhkTlyl9nI3ExvNfkGv8oKbdTLnW7UY+a/Qn1f1NYxnVXJ3ZFh21s91fr+1VK3Udo4sYeik6erb+tHlKjaenzePN3T1DvQs/z5lrrmGRN6dNbkDS8qvqo7nl8pMweoyeBFztodNDIHAqSm/a5uf5nr/PM4+L9OD3s6XvEx3kaGNCXe/qnGeFtFoc2dVygh7iztXLxMvf/t/ohVWExz89n/6qJKkWd4IwCAgvj111919tln6+eff1ZUVJTuu+8+G2D873//s9NTVa5cWT/++KMNRkwDc1+/DvNnhNjYWNu43DDNy00PD58xY8booYcesusmWDFN0M20WD4NGza0oYdpWG56gZx11ln69NNP9e6772r//v122ivT/Ny8FzgVPti9Q4v27tKaQ/v0/S9pOuD89/OY+CmzMJRWKVWOiNC5Z0WqRcWq6litpv5Qo7a3Fzi9UekBAEAROpyyUe89MsQNPNRAj/fOHnhIO7R4tjttTFxHr/9HTEt1tsUeO/SveYFTymzUsg+8epG+3RRXwMADQO7mfr4jx8Aj02GtX/Kj5mUsyVrv7Tkl2jfX+Be66rMnM+drr3pWaUWcpN+qzPMwzwUAcGJMNYVpRG4CDDOd1BNPPKF+/frZAOP222/XqlWrdM0119jjIiIivHe5lRgjR470tmSbj/u7+OLMqUtNrw//wMMwlR87d+7Uf/7zH911113q1auXJk6caAMPM02W6RVC4IGT7dCR3/Xk5rVq/H8z9OfVi/Xv7Zu14sBe7Us/TOBRiMyzNM/UPFvzjM2zNs/cPHvzHQCnMyo9AKCQUOmB3GVWegQT3b6HnhjzqG46L8gkVN+/qe6XPaHFaqKxn89Q73Pd4W1Tb1TrIRudN/fSrGWPKi7jrX7XGjpNe+9vaUdde/Re/zgNmO1tZgheyUGlB5Czoc8t0+erU7yt7NxKjyKu7LjmEn3cq7oik5PU4e9BJ8MrdJe1jNYzD7TztkqeIztS9Ouydd5W6CremHWKGQAwzNRVM2fO1LfffquqVava4MFUYxi//PKLXUyfjkAbN260vT6aNGmSMU2Wz4YNG2w/D9PEvFy57P/uafqFzJ8/317TVJpER0erU6dOdmos4GR788etGrlptf0xHkWnakQ5jWjUUr1q1fdGgNMLoQcAFBJCD+Qul9CjzUB9/PZ9apv1L9plWPtKZ135xA7pwvv0f/MHKuPva68frys7j9ValdMD732p4e19f2gl9ABOhRvum59rA/PcQ4/mmvpGXdXbvUdflKmqS6uX1g+LEtV7di395c7GurHRWW41xi+/aMWn63XfW164UiOP/f7uukKfdYz0Nlz2GnLH7bo7JbwadW6lx7rXUr2KzsbRY0pLTtbEsas0Y7ez7Z0neaNzjXOjFXNm7kHO2VXO1MyxnbytkmdLw27eWv6UrRWt2E8neVsAAJQ8f//6K1txgOLjzjoN9fQFF3lbwOmD6a0AADjFTE+PvckbtXfNBD3QxhlYMV639x2vtUH/MtNGLZ7hThXT/MbLMwMPo+nluulCs3JYzy34MngD9LSDAePV1S3hS239xl2+SLjEGweQX3tTC+FvINaornrbvtadt5sAorqG3ddCtzY5QztXb9Zz7yZp/W9nqs11LZRgp7PLa3+ATcmatzZNth1t6n47vdbCTXZPVtdcohf71NI5v+9X4rvrNXn1L1LtWvrLXy+Qf0uSmEaR2vTuYnXIo3KlUJ7LaerQjE+8tfw78mOKfv0y/xUiAACEgwFrPyfwKIbMd2K+G+B0Q+gBAEBRie6o4eNG6aZoKWXJWA2dsDp7cLFitv7lFRGtfeJGVYtp4rd4zc+NV2ZrUaq3rtpqdJO3+t5SBU5oU65SlCp5S+UKmXNAAzgZIhX/Rrw+8y1PZ4kupV/2aPrYH2SziI71dVnt0tq3dqN6j/1WM2av1cC5+5Smcmrcplbe+wMt+lYj1//mhh6/HNLICav0qincyuIsPdChuiKPpirxqSUaM/sHvTp2mb7YLUXUqqYe3lFG2qYfNHxexj9oUECmosM3lZV5Nds+JvgIxcopz6r/EN/yqj7M423J81/1Oz5zGTE/tOuFZp3GBblG/ylekLP+nez7nCXwHuxnS/hEyd52ILvfd04AJ93333+v4cOH2/4hl156qe0J0rlzZ7300kveEcCJMxUeM5K3eVsobsx3Y74j4HRC6AEAQFGq00MPD3Gnn1r+1NN693u76jmsxXPfVGg/SSUq8fOD3np1xV3X2V1NeVPvzvWNAyhM1SoF6cGTTUAj868OeOOe1F/0lreqRmepqvNStXnzzJDk1uoyE1RFnOlcK6/9BVJTsWYq+DKVdGOCd843rlLnGmasjD23z56ftnpruQvtuYQ/E2aUv7hZlsUwr9FP/y1j8Y2HyvzoP35XK41MeFATnWVkV2lWQt7Bh6Iz3+NbRnbKDFxOhBvCzJH6Zj3/xCGtslQLSZXUfUjW/ZrzBiEGEOD666/XhAkTlJ5uY+si89BDD6l9+/aaPn26UlJS9Ouvv9peIabfx//7f//POwo4MaaHBxUexZ/5jsx3BZwuCD0AAChisX+6Tw/Y351W676nnD9U2lHH4VVa9JZb+xF97+vaaabEyrbM0ON2iitp6txF8v0d7EpX3anhZuosHdakIUM09buSO90McLI0jI3y1nLzu36YsMpWWdjl3SRvPGfJy/yO95anZu3y9ua9v0B+2a+3As45csLXmuHtzo/Qnkv4i+rRSedMfTJjiR7zNztupsAyi6nyMNNZ5WtKrJRP9L+1ldS979UZYUJMpz+qe3SqZs0pmuDAVJGMX1tXAxMe1KCm3qBP9NUa2SeXUMfZP7BrJWntRq30hgDIVlH885//1DnnnKP//e9/Sk0tmiq7J598Ujt37tQ333yjlStXavXq1Tb8qFSpkqpUqeIdBRTcoSO/26blOD2Y78p8Z8DpgNADAICiVu4S3f0Pb0L+2U/oXwvdgOLw0nl6ziYg5XR3l0uc/wymieJurO2uvjVb83zzgZRrqXtGDlScCVNSFum+uDj1fX66Fn+3x/mD80GlpmzR8o9e1+j/fukeDyDf2jY921srJDt+U5rzElOzStbqEGdZuPGXvPcXyC4lm9/SzjpLsWWynnPekhR32q18KvTncpo6OH2+tl3RL3O5sp8dN2GHWUzYYao8fFNdhSJ57VYlR9dXqywFGtFq1Sr34CDZfMk1owOqLgpByicaPydVrfrerNbeUH7FNK/v3FeqdoVW1giUCLGxsVq3bp1atGih7t27KyYmRk888YS399QpVaqUfd20aZNuueUW558lySpTpoxd2rVrZ/cBJ+Kl7zdqXzp/Oet0Yb4r850BpwNCDwDASfPh3IV2Qd6ib/ibV7FxWC8nvK61OqhFH71p9ym6l+Js1UZwzTv28BqcL9J7C92m50a5Nvfp7emPqve5ZuuQEp95RN3j4lT//ItVv0W8rrnzGU1d4lWStD9blewagFB1uay2Spd2fxAqFB/v1DoTQNStp9efbKdhfZpq2IB2+vdL7TUslP3BrPpFe8xr9eoaO+ASjbjVjvr5RZPXpCpd5XRp36s0/i9N9UCfVhr90BWa+mB975jQmedhngvc/hz+i4+p7tjZ+2Gl/P0F+xp6pUeKVq0KHl7E1DT/BC/M4CBFHybk0DvD9uZwp9NyQ5hW6h5Y4QHghJUrV85OI/X222/b9ccee8xWWHTo0EGvvfaa0tJMDH7yfPvtt7rvvvvUpEkTXXjhhdqyZYvKly+v/fv328oTE8YAJ2ryju+8NZwu+M5wuiD0AACcFHv3HdCHcz61y4jRY71R5KyJeg+Nl/3LuyvG6p+TZylxst2h6D93UVt3Nbiml+smb4qrebMXyb8FYLnzemnsoi/1xX+Hql+3JmqU8beDy6lRe+eagx/V5HnztPq9O9TI2wMgNJUiz1Dv+PO8rcKQpCHPfauFyb8rIiZa8Z3rKf6S6jrn0CGtD2l/ELu/U+KqX5Re+iy1aV9dsUFKxpLfXKGnPtmvfb+fpabt6unGzrV0aWxp7f0+//2AzPMwzwWZ/BuVGyYAMcGH4XvNj5gY03AlQHS1XKo4UrTLzH62do5fA/G8eoDkXD2yclWSs9tUm+QcwuSHDU5UyZwGQABTaXHzzTc7/39tle644w4dcv55v2TJEt19992qWbOmOnXqpH/84x+aPXu2kpKSdPz4ce+d+XP48GGtWbNGr7/+ugYOHGhDjvPPP18vvviitm3bpkcffVSffvqpKleurKeeekoRERG67rrrvHcDBfPB7h2hVXnEXqXvuvbUd23P9wYyDW7bQz917aEZsd6A0fQPzljPbMuSIAF93SbXePu7aXw1b9BfTtfO4Rq+JeN477hg136hgzn2D3rBbtXQ+Dj3vQua+HdUk+K8c6xoHuR///00q3uZllwd/Dn53N/uZudcfp/1rFiNbNtNOzLuI2/mOzPfHVDclapSs3HB/lcRAJDFrqQN3tqpcezYMaX/fkRRkeW9keJn7CuTtXnLD3a9WtXKGjn8PrsOAOGk32OL9e0PpgSjZGtcr5ImPR7nbZVMpmrDVHD4a7B5tq3o8AUcZkqrwCDEV+1hGpvnPN2Vqb54Q1+2uj17A/KUTzQiYZVq9g3SVyMI2wx9rdQqt+ODnnOdxnkNywc1de9nVs2umphb3w4fUyEyOVXdh9yt63y3b8eSstxHRqP2IZl9S/zZ/QrxmkCY+frrr/WXv/xFS5cutU3FA5k+GxdddJGaNm2qBg0aqHbt2oqKilLZsmVtgGL//JCerp9++smGJKaaw4Qd69evz9Y03QQcV199tW2oXq2a+wupqS4x4+PHj9ddd91lx4CC+vvXX4XWwNwED+fXkPat0nnLv/EGXSb0GFlVWvzNdN3o+5tfJiSoFaWUA9u02G/2z6R9n+vJH70NK1JjLuumfhXdraRdC9RmzW53wyena9dqrvFVvXAiooriq0dJP+9UYqrb7+JA2hYN+945l3cvm36cpvYBf0PFhB63VTio/875QLbrV4PO2nFedZU7vFN/+3Sh/muPOl8zrm6luFJ79Pzn8/RksNlMYy/TkvqxahThbqYGeU7WWRdpQYeGapa2WW0+365+7S5Tv8pnqpwtWva7jxDcWaehnr7gIm8LKJ6o9AAAnDS9b/2jGjaoZ9dN5QcVHwDC0aMDWursKmd6WyWT+fzmOSCTf7+OwPWqf+2VsZjtwlFJsSFWS7Tu86AGNpdWffSJfK2gsom+Wn8MPGb9Rq1SXV0cQrASXKpmmWmzfBUnNgQJLagBIF1wwQVasGCBbS7es2dPnXHGGRl9Nwwz9dS8efP0/PPP23DETEF11VVXqWPHjoqLi9Pll1+uzp07q1evXho2bJit7DANyn2BR+nSpXXmmWfq4Ycftg3L33vvvYzAw9i4caN9/5133umNAAW35tA+b+3kOPDz5xq4LnPJGng4zrpAcSbwOLRH645Ldaucrx7unrz9uDbz3Ht+1W/O0G+Hd2eM2cAjv7asVaIJNcrVUL/z3UAlrmkDxZWVkn7aEDzwMCpWUeyx/Urcud/5X9mc1Y2trmaljmr57q+UpCpqdlZpbdu/WfML0BbuZH93QGEg9AAAnDSmuoPgA0C4q1erop4ferGtdCiJzOc2n988B2Sq8teetnIjcN00OE8Z9kLGEnpPD1dycpAfUlL25hxe5CAmxvnvax7va92qrnPMVq2yU2Gl6MOPkqTmTbym5dGqWdN52ZWSj2tXsiHHxATf4lf1ASBkptrizTff1K5du/Tll19q8ODBqlq1qrc3/xo2bKhRo0bZqo89e/Zo9OjRNlAJ1LJlS33wwQc2HAFO1Pe/nNy+NHmJO6+Gnd533b55WmxupVxV3XSO3VVEduvJ5D06rDJqFt1SnXShHqoZJR3do+mbd3rHBLH+A9Ve+LHuOJi1WiurGnq4ehXnXPs1b4vZ/kY3fjpd7Zd/pd0FmP+nqL87IBT8LxUA4KQi+ABQEpgf/M3UTrdf37Bwm5sXY+Zzms9rPjeBR3ZmSqstDbtlW696by+dM/XJjMUEIqHJOWRI3mX+budJ6IvRtIlaKVVfrk2RUtbpy5RK6t41szIlayhSOHIPY9z+JEH7mgAlkAk62rZtq5dfftlWZnzzzTf63//+p7Fjx+qBBx7Qbbfdpvj4eFud0aVLF1v5Yao0HnnkEb366qu2UfqOHTu0adMmDR8+3E6LVaFCBe/s2ZkghMADheVAwJRqp1YN3VbJVFMc1NokadJB08fsTDWPaWD3FpWk7zZonpm5rvw5evjS+mpbJo8qj1DVOl9xZzn/K7p/q573hk5E0X53QGj4XysAwEnnCz7Mq2GCD7MAQLjpf1Njzf5XF93X+0Jd1jLaTvsULiGI+Rzm85jPZT6f+Zzm8yJ3ppfH7zsyqzP2vfimtl3RL2MxgUiogocMXkPxjAqMUIT6nmbq3rWSklet00rTcNw2MPd2GU2vUPfoVM2anMs0WfkU07y+YpSkL4N15/eCl4ubUx4CBCpTpowaN26s66+/Xvfee6/++c9/aurUqbbJ+dy5czVnzhzNnDlTkyZN0hNPPGF7cpieHbVq1fLOABRvlaq2sg29/ZeRVb1GFkE0quV/bECj7moN1fYs5/Xnn/TcL1LS1p+0ydmMrlhbt9kDClfWe3GX24Lmizs1YqdX7REVKZlpq3Kr8gjR4HOqK1ppWvyDLfMASgQamQNAIaGRee78m5qbqo/7Bve16wAAhAsTcOQnxAiUeyNzw2sersxG38nzX9WIOZU0MOFmL8Bwm42vau5r9u1sT5EG+TX+dhuZm6mmQpheymtobkKN4I3Pveuprt89eEyj8lVN3PsI1sg8B8HvL/BzAQBOZ43/b4b2pR/2tnLhNROvlJ6mTenHvEHXmRFRqhuRHkIj8zQtXrfWaw4u9Wh9g8affaZf8/Iaer3jVYovH3CuXJqoZ8jtGO9eDv92UNuOeGOeyuWjFF0mWAPxBpp2RTt1Kuf8T/BPy3ThyhCDihzv40J92Km52v62RW0+W6Ykb9QnW0P1EFSNKKdvr7zR2wKKJyo9AAAnHYEHAKAkOKNWwaddKlsrOo/Aw4jWdUNuV3et0givGXjWwCMHa+dkNg93lvG7WmlkqP00opvpYntcTg3Mm2lQwoMa2TVV4/2uYZfJSWrVKv8BhWm0PrKrsjY9HzJH6vsggQcAhIlzz3KbdYcqNW2z2i/5IMsyKS3naZayNjLPDDxMqHBT1Jl2rW7Nq7zKCxN4mJEItatxod1XmLbtzXrfZplnup8HtUWLfzafK13f7j3xyoy6TerYabLW7f06W+BRUPn97oCiQKUHABQSKj2CI/AAAJQkR3ak6Ndl67yt0OUdeAAAED7+/vVX+vf2zd5WLnKppBjctodGVlXQSo9NP05T+2BTJda6XBuanqPoI/uVmHJQmbUmFRRnpoE6ukdPzp/n9r4opEqPYPeSW4VF0M+Vl6D3Eelcp5tuO9PvMwUoSKXHnXUa6ukLLvK2gOKJSg8AwElD4AEAKGnK1nYrNvK7AABQknSsVtNbOzkqV7hM45tlLmPOdasx3f4WUsr+jbojoxLErQax02GVqaLO59lDM5xZrkaWc41vWLQNz0NWrbniKkipqdsLpYG5z8n+7oDCQOgBADgpTNhB4AEAAAAACPSHGrVtb4iTJbpyrHqck7ncVL2KM3qh4iuZ5udpWrYtsIRit/6bmua8llHb6FbukKdchXOynKtHjWrenuLttno1VFe/afnOHKpUCsB8Z+a7A4o7prcCgELC9FbZfTh3oX29rsvl9hUAAAAAAOPJzWv1/NZT++fokuN8zbi6leLSt+nGxZ9rsTd6ou6vf6Eebtjc2wKKLyo9AAAnjQk7CDwAAAAAAIH+em6Tk1rtUaI1qKN2ZaV1e9YWWuBhvivznQGnA0IPAAAAAAAAAKdUxbJnaESjlt4WCtWWeao9Z5qu2mim7Coc5rsy3xlwOiD0AACguEierr4xA/ResrddYqzWczFN1HfmHm8bRsrMAaoW84yWe9sAAABAuOlVq77urNPQ20JxZb4j810BpwtCDwAAThn3x/1qWZaSGHIAAAAAgOvpCy7SjTGx3haKG/PdmO8IOJ0QegAAcCqseEbVYnpKiRu1Nzlz+Xiotx8AAAAASqgJzS+j4qMYMt+J+W6A0w2hBwAAJ90evTfhdWnoND3QxhvytL1/gm6K8TYAAAAAoIQy1QRjm15Mc/NiwHwH5rugwgOnK0IPAABOuh1Kmi3F16vtbQMAAAAAApm+EV/FddP99S8k/CgC5pmbZ2++A3p44HRG6AEAwEnXUnFDpcTB/w65KfXy5/37fgRvZu02us7hONsUvYmeW+Fte9zzBpwvpAbqe/Ref/9rOcvzq719Rl77M2X9bNnv0Sfw84Xa6Dy397nXDvysXq+VjPsN0nsly2dx95v7zvJZ+k9XitltpzLLHA/6HZjzed9RtvfnIdTnBwAAAJyOKpY9Qw83bK5vr7xR/2kZZ6dYalO5mv1BvrRKeUfhRJlnaZ6pebbmGZtnbZ65efbmOwBOZ6Wq1Gx83FsHAJyAXUkbvLVT49ixY0r//YiiIst7IyjezA/lPTXaWYt/ZbEm31DdHfZnfgRv/YgSndXhiRu9qbBMmBCnARqljRN7KNoM+cZm36GPk4eqrR1zfwy/5pmOmrDSTJnlHdNkmvbe39I7wvc+//O7IUGTj7r4nT+Qd+/d/O/BGXteesCc23ffQ/2vFew9wT5L8Ofifha/z+ddQzk9O0/e78v+XOx7Nmbek3keU+tOyJyKLNs5Mu854zn6junW0fn+Mp+lfbaD5X0nzoDDvV5HxTvHJQQ+B7/n5b63gd93HOT5mYAl/vUs3ycAAAAAACUZlR4AAJwSLfWA17g8cXCc/Rv6OVUumB//M3/Arq6bBtwhzZ6rRb7qhBX/zhZ4GG3vX6wJ3RZpwFumKqG6Ol7bUXpmrl/1x0LNdt433LmHNUm+a+/Roo8WKf7ay70f37Nb/nxgeGE4n8cXGrwVGHgYzv6VoxQ/+xFN9VUi+O478DzmOG/LSp6ufz1jAgW/zxfTQwmvdMy9Wiak9znPc6RzvWd6uhUS9j0dNWFk5j1F3+AXeBjOOf5ivrcfdngDHv8eLb5jZivgXIM0XIs0e2nAdz27gf4S7Dn4P69A9vllvVe1GWr/OzV6QmhVIgAAAAAAhDtCDwAATqG292/UXv/wI9sUUB3V7ZKASoZzGihei5S0091cvsg0Re+SJfBwZQ06oi/p4rxvi7Z5YUnK0rlKdN7Xu15HJX600PuR3O030qJuTtUTq7X4GeUSirj7h3f0Dzw8MZerWzdp9CL3M+Z43zEN1MJbNex9dhul3gGVC9F1Gzj/mfl5AoX8Pi8IGT3hGT03wlRwjA7STN5UVWROIXWN8xm1cUuWYCHwM8c6z1VqoNhQGtPn8hwyA6ms3Oc3KNu92uvOdj6ftw0AAAAAQElG6AEAQBGw4UfiHZKv4iBke7Rto7eaFxs6+KoM3IoO80O9DUN8lSMr5mq07lBcQFCQIXmL1jgvOYYi3v68hX7f235YJM1+RE28wCFjiX/dOyK4/Lwv+obRmqDXnc8+SgkB02WZ6aeqxcRp9rWLbUDlC6mKlvf8nP++ZPlsztJksPO5AQAAAACARegBAEBRaXOnJvhVQoSmumKbeKt5co+1VR3e1FY23PDCEFM5knPViCegCiObvPZnCP2+beWCmU7LCxyyLpm9MQLl530pM4drgDra6aSG+E8ztuIZry/Kxlx7h5xMwQMm7/mZacSCfr6sU50BAAAAAFBSEXoAAFDE4uvV9tZCY3/c9+/VkcGt5vAPMdp2NP1AtmiRN7WVO+7+gD560XRbPRB0aqoMtVU312Aml/02aMk8f473batNMtnpqPx7mIQo5PclT9eQwYs0fMAETU68Q4mDh+u9XN/jTuFVqHJ8Dh1V9xxvO0DO3zsAAECYWPFMkOlfAQDIH0IPAABOutV6LuaZbD9WL38+zjb2/ks+Kwrs1EzdXtc1Aef0ne9j/4bibbpouLZotje1lY8NQzbOzaz+yFFm4++sfwB1PpPdzmV/a7fBua/Zt9vU27nv/v5Nt53jAqefshUwizSgdcAzS56u53Jo/m6F9L49em+E333ZRuDOe0Z49+T1T/FvPG4buXvrhcd5Dv7Py7nHvuY5BOnZ4RP8+TlWPJPPKdIAAABODjtNaAFDC/vePKYzBQAgFIQeAACcEiakyNqL4ZqNZiqmgkxLVF03TTR9JrKeM/j5Wipu6CIlBoYbJgyZ7Yx3a6BYbyhHMT00OXmahmfpJ9FT8oUoOexf88pi7fUPYJx7ecAcl6XvxlzFmTHvCFfwz1et9RbF5RoQ5fU+05w8ezDU9tZRdpqrJuYP6Oaz2OqPuIz3L+54Enp6DJ2mjfXG+d2jaage+LwCmee3WBMU0LdkQoNszdsBAABOFykzB9h/p7mmsCtrAQAlVqkqNRsf99YBACdgV9IGb+3UOHbsmNJ/P6KoyPLeCIDTgflbjNdoWh4BBwAAwOmnIP+e4/8e/j0JAFAYqPQAAAAAAAAoKqaPRcyA7D3GzPSXMU2yTmNpj/Wr+AwyhWqOvPNlvDdwykxbFeu3P8Rj+pppRL37stUaGdW/od1b2/s3EnIAAAoVoQcAAAAAnKAjO1K0/6VpJ7yY8wBAUCZYiN+iCSs3am+yu4Q8Bad5b+tH1CLR915vykz/UGPFvzX72sUZ597rm5Y0o0eHN1Vok2mZx6wcpRZmV5uhdtvez1Df/oJM4woAwIkj9AAAAACAE/T7j7u178U39euX61S2VrR9Ndv5Xcx5ACCYlKQtUrcu6hjjDTja3h9KsLBH70143YYRD2T0Aauum0a6fc2m+ipJ2gzV5Cz901qq9ysdpY1bvGBkh5JmS8N9fd2MmB56INeeawAAnHr09ACAQkJPDwAASi4Tcuzs/bCq3ttLVf7a066bsfw6Z+qTKn9xM28riJRPNCJhlTJnwamrgQk3q7W3lSHwuOZdNbFPTuddp3FD5miVt5XJ/9w5HJPreT3r31H/yUneRlat+j6oQU29jQzutXZ1vV0jO0V7Y0awe6ik7kPu1nX2sJzel6IPE97QrBT/Y4FiJKOCY4Ju8gs07HRUXnWGDSvscW54kX06qNV6LqanRntbVrdR2jixh6LteeaqW+D5vfeseWVxlrDD9tXI0lT8Dn1sqza8So/ZHbPfqydYTw7TqLzJ4EXelmu47zMFoKcHAKAwUOkBAAAAAIXk4PT52nZFvwIFHnmyQcZWXTzkQU1MMMvt6h6dpPFD3tFK7xDLCzxq9vUd11Wt1s5R/ynZ72nllGfVf8gcKeNY32LOnapdAbNtxXS9PfOYIa0Uk8N5szOBg//53ffvmmyuH3D/wZjgJMh9Dmzu7c/FyikEHggTZgqplaMUH7RnRks94JtyyreYwMPs2rlFiVqkAa2z9uKoFhCSmHDCjNvQwTvHRlPpkaG6bppoprDKPJft55GH6BsmZL0vZwkWeAAAUFgIPQAAAADgBJnqjAabZyv200l2MesFWXKt8lC0/pjlh/toXde3lWKUpC/Xe0OOlXNWKbl5V78KimYa1LeutHapPvQLMZLnv6rxa001R7BqC+fceYUE0VdrYNdKznk35h1aBOO8f6QvuEn4xK96JVCKPvwoyVaVBN5n6z6536P7GQk8UMyd00Dx3mqeYnposg0OFmtCt9d1TbAG6IHs+U11RtbgwbfYKo/k6RoyeJGtwMirysI2HjfvTbxDiYPjVC2j5wcAAMUDoQcAAAAAFAJT3XGiS66NzKObqXXgD/fR0arpvOzKKMlYpy/XSq1aBYQnTZuolVKdfd5xKZ9o/JxUteobZGqsUypa111b17mfrVqV40ffrW3OvpiYGt52iNa/oxH2MxJ44HSwSEk7vVVPytK5SvTWszNVF9M0PMj7solpoBbOcbOX5l2VkdUeLfoo67RUWbQZ6laCZPT8AACgeCD0AAAAAIATZAIL08cj5e8v6NCMT+yr2c7vcsKNzNdv1CpVUmy2H/lr2LHkZPf8yWu3Kjm6lbpnq/DIn+TkVCm6moJM7R+6wEAmm2a6uLlzrTmfhl5RYqb4mpxkp+PKXsUCFDMxl6tbN2l0vN90VV7lhb+Umc9krepYMVej1VF1z/G2c+Q2JDdVGc/5mpZbe/Te89PdwMIGI849LMqs2kiZOVwDZnsb1mo9l6WqwwtFmjRwp9FyxNbrKD0z12/aLQAATj1CDwAAAAAoJFE9Oin66b/pjNr5rEooKC/kuLi5f8pRSTWzhR7RqmlKQqwUrVqVKnPQCYUV699xp47qe/WJnScgkAmmdZ+uaiXTv+RZjZif198pX6dxpol7864BDc2B4spXtWGmq/L6bYyQEkz/Du8I15asfTmCNT/Pge2rkXiHRsf7vT8mTkkdvb4fpidIln4hTTREowN6ejj89pv3D2iStel49A2D/D6Hf88RAABOnVJVajY+7q0DAE7ArqQN3tqpcezYMaX/fkRRkeW9EQAAUFR8lR6mJ0fZWtG22qMgzpn6ZB59Pfx4DcvV9fbMH/dNw+/J0sCE7NNWmabl43e10sghzbQq4Q3NqtlVE/v4XytFH5pxv0yhVV9fv491GjdkjpyrZWEqKfIMFuw9pebSV8O7bsb9uNfaFeTc9jOsddezX9v/HunjAQAAUFJR6QEAAAAAJ+iMWjVsYFHlrz1V8car7XpBllADD9Ogu39Bqhlyre4wzcsf1MQEs5jKiuxM0ODuN8vtunjVG+o/5J2CNTIvgNZ93GsPtNNdOdeess7bkymma1d1j07VrIRTd18AAAAoPgg9AAAAAOAEla0dbQOLE11CYaod3AbdDwZUavikKqOveYYU7drlrfqmunIO8m8PkH8mJHGnnfpfnlNO5cZtVJ6t+XoubPjRt660do7GrfcGM9TIuK/xCZ+c4GcEAADA6YbQAwAAAABOkJneakvDbtp2RT+7mPWCLOY8OTPTQJnpnczUTb5ppwLYpuKpNkTIyg0WYmLcXiOtW9V1TrdVq04kq7DcfhwnxPYlqauL89twvOkV6u5ce9WqYM+smQYNaaWYlFUaQfABAABQopQpH1n9H956kajToafiOzRTs2aZS+zxndqU8qtU+yr1ir8kyz67xJbTtl3nqHOPK3RR4L6MJVoHtlVVx7yOWfe9DmZcx9t27iuqaTf16NTGHpdxPz5RbRRvz3uujm/bpJTD3riRwz1X3r9eSebEVlU1je+uThfldgyA082D99/jrZ0ax48f19Fjx1Qu4gxvBAAAFJUjP6bYPh6V7/ijao4brt+Wrbdj+WWmxsqxCfr6D5TwuXLvVVEhUr+uWaNP0yqqWwu/86xfqFfXSJ1u7KiGFZzt6LNVZs0yzVrzqy5qX18V3aP8pOireVuklpeprb2Wu512XgtdWd+cwGer5s8KNu4nZYNmrzms89u3ca/tz/QleeVbVez6R/XKeH9O1wr0szZ/vkapDdt7xwW8r0J9XXnODs3+/Ft9ujvgeQAAACBsFWGlh/nhv6fi6nqbxVhU85aq463nzP08vTrm9S/SDRTXq6uaR3mbAAAAAMLG7zt22/DDvBa2lauSpOaX5NGcO1rXXRs47dM6jZucpJiuf/R7rzc1lamECNaTIyVFGbNh5chUnpjG4XX1x/z0FfH4+pJkacQelGlQnv0eV04xTdfzuHbTmzWyayX7PEac0BRcAAAAOF2UqlKz8XFv/dQyFRFeQLB90TQt3mFXbRVFXN3vtXj9Pr9jdmvxmwu03T0iu1COy+2YIPtMpUd880i720papjc/2+Kum0qP+EaKUprWJs7W+oNuxYovwDno/At1orl/jzlXiwOz7WfMPG/mey3nHuK0IPM5ADjt7Era4K2dGseOHVP670cUFVneGwEAAEXlyI4UHZr5ibdVcBVvuNr2BwnG9PIYv9bbyKauBibcrNbelta/o/6Tk7wNtwF5TsGCCR9Mj5Bsmnf16xliggcTcATIckwOAu4lQ3QrjRxydZDG6u61dmXccw7Xzvb+wPdlynh2odwvAAAATmvFL/TwF0qYYYRyXG7HBNmXEU4cTNPBqEiZwoyM+8wWepjqjXa2GiQw8AiUY+gB4LRH6AEAAAAAAAAUraKb3mrHtozgoU7HnurV66pcppCqobhe5hh3iW9a1Rs/FXZqzdo0u1anYw73WDvWG0/TD0k5Bx7GwaSdtmeIFKnmZjqs+DY2UAEAAAAAAAAAACemCHt6bNHixE1eAGB4wUYxDAFS1y/RWnujNdQiSOASVdnXXO9npXofyEx35Qtp7OL7XAdXKHGR3/y+UY0Ub/Z3aOANAAAAAAAAAACAgijC0MNhAoA3p+lN//DDhADZAgAz7ZRznLfkNn3UybFP6xe59xjVvL2aBqQyBw/87K1VUKVQEpsdC9zP4h9+1G13iitYAAAAAAAAAAAIL0Ubevh44cdiX2+7ur7poooR5x4X2WmuItW8o+nn4edgasaUVfXqusHF9s+8gMabGisoG37M8apIpKh65zLVFQAAAAAAAAAABVR0oUftq3KubDiYqlRvtTg5uP7r4E3SD36vH3zBRfOuiqvtrgdjGpnnuP/AAb/pvgAAAAAAAAAAQH4UaaWHCQj8+17E1XXHD/7wfcCP/1kbmefe9Pxk2qLF/lNSZdin9YnLAhqzu0t880hvNJP//l69uqq5V96x/Yct7goAAAAAAAAAAMi3ogs9dmwLWjWxfVFR9OzIhx0LMqfhymKL7TsSfN9uLU5cYYOcg0k7g1RzpGltovPeHd4mAAAAAAAAAADIt1JVajY+7q0DAE7ArqQN3tqpcezYMaX/fkRRkeW9EQAAAAAAAKBkKx6NzAEAAAAAAAAAAE4QoQcAAAAAAAAAAAgLhB4AAAAAAAAAACAsEHoAAAAAAAAAAICwQOgBAAAAAAAAAADCAqEHAAAAAAAAAAAIC4QeAAAAAAAAAAAgLBB6AAAAAAAAAACAsEDoAQAAAAAAAAAAwgKhBwAAAAAAAAAACAuEHgAAAAAAAAAAICwQegAAAAAAAAAAgLBA6AEAAAAAAAAAAMICoQcAAAAAAAAAAAgLhB4AAAAAAAAAACAsEHoAAAAAAAAAAICwQOgBAAAAAAAAAADCAqEHAAAAAAAAAAAIC4QeAAAAAAAAAAAgLBB6AMBprFSpUjp67Ji3BQAAAAAAAJRshB4AcJoygYfz/3TkyFFvBAAAAAAAACjZCD0A4DRmgo/ffz/ibQEAAAAAAAAlG6EHAJyuTKWH83+/Hz3GFFcAAAAAAACAg9ADAE5Xx4+rdOnSKlumtH759bA3CAAAAAAAAJRchB4AcJry9fQoU7qsjhw9RvABAAAAAACAEo/QAwBOc6Wdf5JHlC2rXw+nE3wAAAAAAACgRCtVpWbj4946AOAE7Era4K2dWsedf4ofd/7vyO9HdPj3352NUjp69Liz0OcDAAAAAAAAJQuhBwAUkqIKPQzzD/Ljx4/r6JGjSj9yREec5YwzyurMiDN0RtmyKlOGwj4AAAAAAACEP0IPACgkRRl6GLbi4/gxHTsmHT12xPb5OHbkqI46YyplDjBHmRUAAAAAAAAgPBF6AEAhKerQwzDVHu6rdOzYMTvtlRlzF7sLAAAAAAAACFuEHgBQSIpD6OFjw49Spdz0w7cNAAAAAAAAhDlCDwAoJMUp9AAAAAAAAABKomIbevTseYtat27lbRWMmdpl9eo1mjbtbW/kZIlU6xv+oNjvP9DM1Wnu0OCx+rRHA2nLTF3Rf5IzcLnGzBiiSyqlaemYWzVsnjmoijr17iJ9/Lbm7zHbAE5nhB4AAAAAAABA0SrtvRYrbdu2OeHAwyhdurQ9jzlfQXQa9ZY+/SQx6zJ3hhL/M0J9WkZ6Rzl6/0Nj/tJH9/1ztAZ7Q6FoPfxZPXJHHz0ybrg6emMAAAAAAAAAAKBgimXoUaVyFW+tcJzw+X7erc2btmjz9v1KV4Qi67RVv6dGa/C53v7d+5V21Hndk6JN7khI9v6U5pxPSt+zS9vcIQAAAAAAAAAAUEDFMvTw2bJl6wkvhWLX57p70H26+8991OWGSVr5szMW0UCtrnV3a95o3dglXlfcMlrzvaFQbJt4n7pcHa8ugyYRegAAAAAAAAAAcIJoZJ4LM73VI5dG+vXlMOpo6BvjdF2tdG14/UbdM9UbDhRSTw8A4YSeHgAAAAAAAEDRKtaVHsVOhTrq2P8+dazlrO9boZm+wKPzCCWafh8zRqiTNxQSE4yY903s5w2YYMT0DnlLY65poX5jp2juXLeXyNx3n1W/C7zDrEi17jVCk99393869y1Ne7qPbvb6kCSOutw7DgAAAAAAAACAkqFYVnq0vaiN2jhLYVnx1Qotd5b8yqj0CJD+40K98ECCPtzjDZjQY1hbRaYu16gbR7pTXIVS6ZHjMenat0+qWma3Nu+WYhrUUWQZZ/euhRp2W4KWOqsXOu993nlvhLOufdu12bmXaua4o+mKiIhQ2hcJin9kodkL4BSh0gMAAAAAAAAoWsWzkXmVKmrQoH6hLeZ8J8S/kflRKaLW5Rr6n0l65JrsgUjhiFBk6lzdc+Mg3T1okOJHfKF9Zrjm+ep0kVmJV79r3MAj+ePhiv+Te9yNvSZp/e82BgEAAAAAAAAAoMRheqtQ+Dcy7/Kg3tmSLpWvoU59BukS75DCla71H41Xxt8Z/2K5NqWalQqKNPnN5S1Ur4Lzmv6NPkxYozSzy9gzU/M3ZGwBAAAAAAAAAFCiEHrk2zd6Zc5GpZvVmrXV2o4VtnSlH/RWrcPeqyeirDut1a+HlGwHMplKFAAAAAAAAAAASqJiH3q88/a7GjJkmJ568umMvhzBxkqkiAhV9VZ9qpZneisAAAAAAAAAQMlU7EOPffv3Z7x+v2Vrxrrv1Td26pyvwV2buJUWe1K00o6dYp/vcCs8yjfRH/5yvh2yLhioP1xA6AEAAAAAAAAAKJmKfehx8y1/skuXzp3sa05jJ1XNy/TquLF69bVJSvzoWd3cwAQL+7X09bFa6h5xav38tmZ+YYKfCMXe8KwS/zvOvbcXuqhimp14CwAAAAAAAACAEqdYhh5btmZWb1StUkVtL2qjzl06eSPBx3Ljf74CqVBDDRs1UMNzayiyTLrStq/RlBGDNOzjomoanqYPHxmtV77YrrSjUmTNOmpYK0LJ7yfotW8JPQAAAAAAAAAAJVOpKjUbH/fWixVTxRFqqJETM/3V/LnzS1Dfj0gNnviWbm4gJS8Yrp6j13jjAE6FXUkbvDUAAAAAAAAARaHYhh7Iv6rXj9Br97VVVe3Xokf66LEvvB0ATglCDwAAAAAAAKBoEXqcpjqNnKKhbaTk7ftkJrSKqF5HsVXdJub7vnhRtz8yV0U1+RZQUhF6AAAAAAAAAEWr2DcyR3D7ftytNFVQrOk14iwm8Ejft10r30/QXQQeAAAAAAAAAIASiEoPACgkVHoAAAAAAAAARYtKDwAAAAAAAAAAEBYIPQAAAAAAAAAAQFgg9AAAAAAAAAAAAGGB0AMAAAAAAAAAAIQFQg8AAAAAAAAAABAWCD0AAAAAAAAAAEBYIPQAAAAAAAAAAABhgdADAAAAAAAAAACEBUIPAAAAAAAAAAAQFgg9AAAAAAAAAABAWCD0AAAAAAAAAAAAYYHQAwAAAAAAAAAAhAVCDwAAAAAAAAAAEBYIPQAAAAAAAAAAQFgg9AAAAAAAAAAAAGGB0AMAAAAAAAAAAIQFQg8AAAAAAAAAABAWCD0AAAAAAAAAAEBYIPQAAAAAAAAAAABhgdADAAAAAAAAAACEBUIPAAAAAAAAAAAQFgg9AAAAAAAAAABAWCD0AAAAAAAAAAAAYYHQAwAAAAAAAAAAhAVCDwAAAAAAAAAAEBYIPQAAAAAAAAAAQFgg9AAAAAAAAAAAAGGB0AMAAAAAAAAAAIQFQg8AAAAAAAAAABAWCD0AAAAAAAAAAEBYIPQAAAAAAAAAAABhgdADAAAAAAAAAACEBUIPAAAAAAAAAAAQFgg9AAAAAAAAAABAWCD0AAAAAAAAAAAAYYHQAwAAAAAAAAAAhAVCDwAAAAAAAAAAEBYIPQAAAAAAAAAAQFgg9AAAAAAAAAAAAGGB0AMAAAAAAAAAAIQFQg8AAAAAAAAAABAWCD0AAAAAAAAAAEBYIPQAAAAAAAAAAABhgdADAAAAAAAAAACEBUIPAAAAAAAAAAAQFgg9AAAAAAAAAABAWCjV7OJrjnvrAIAT8NXiRG8NAAAAAAAAQFEoVaVmY0IPACgEu5I2eGsAAAAAAAAAigLTWwEAAAAAAAAAgLBA6AEAAAAAAAAAAMICoQcAAAAAAAAAAAgLhB4AAAAAAAAAACAsEHoAAAAAAAAAAICwQOgBAAAAAAAAAADCAqEHAAAAAAAAAAAIC4QeAAAAAAAAAAAgLBB6AAAAAAAAAACAsEDoAQAAAAAAAAAAwgKhBwAAAAAAAAAACAuEHgAAAAAAAAAAICwQegAAAAAAAAAAgLBA6AEAAAAAAAAAAMICoQcAAAAAAAAAAAgLhB4AAAAAAAAAACAsEHoAAAAAAAAAAICwQOgBAAAAAAAAAADCAqEHAAAAAAAAAAAIC4QeAAAAAAAAAAAgLBB6AAAAAAAAAACAsEDoAQAAAAAAAAAAwgKhBwAAAAAAAAAACAuEHgAAAAAAAAAAICwQegAAAAAAAAAAgLBA6AEAAAAAAAAAAMJCWIQe/acuUtJ3q7R+ah9v5BS6Y4LWO9dOWjVB/b0hAAAAAAAAAABw6uUr9PCFC2ZZ8mwHb9RfH01b5e5fMMYbKi584cR305XgDWX1mBbkuv8kuPouTZg5X+s3uM8s6ZulWj/3JT1ytbcfAAAAAAAAAACErMCVHnWuvV8JwXIPhK7ztbq2WTWVO3JYh38+LJUtp6j6HdR/DFUjAAAAAAAAAADkV8FCjyPOUq6+uv/9AdVxR1AQO9Zo1uM91bDFJXZpf/8CbTfjVZroyrvtEQAAAAAAAAAAIEQFCz12bdV3h6VyTbrrmbtreYPIt389rnvf+MbbkLbPXq2kQ2atoipF2yEAAAAAAAAAABCigoUe6Wv0xEc/OisV1b7/YyFMxdRBj0yanrV3xacT9Ei3rIHJlX9/SQuWL3WPcZbNqxI1bfi1ftUktdR9+AQt8fqG2PPMHKaTmg/E3qIXTd+Nb/yu+eGT6tvM2x9Ewlz32AVjaqnvs87n9r13wyItePaWnKtjbmqnRhWd1yNbtWGhOwQAAAAAAAAAAEJT4J4e//fgGH20w1mp0k4DJtzgDgbVQQlzn1X/y+ur3MGt+m6Ts+xKV1Ttduo/5lk9EusedeWY6Zp4dwedd1aae8ymH3W4fC21v2OEJgx3w5H2o19Uwh3tVMcEA/t/1Hdb90hNblHfVmYgVPV1iwkgsi036DzviAyxfTTtvWHq3qyaW91i7mu/FNXoWj0x8SXd4h2Wk0qXTNAT8bV0OGmrtjvvU7mKOq/7/Zo8JkgzlKsf0Ky/d9DZzupPC6dqyGfuMAAAAAAAAAAACE2BQw/pMw3412f6yVk7++p+mnC1Oxqo/Zj7dUv9cjq49DlddWkPXXWds1zRU5M3OjvLna9rH2wndXhMj3avr3KHlmnUdZ3cY66L17Vvmqmfyqlp5wfUXndpSLxzjDPy08Ixat823h7T9E8va0O6uVLoTNPwYEug/qPvVvsq0vZZf1XTK7x7v/RpLbAfuq16/s09LidnVzmkiX+6RG269LD3O2qpmbuqnM7r2idrdYwJV8b0UWvnWgeXvqy+A2Z6OwAAAAAAAAAAQKhOIPRwvPdXTfjM/JBfS9c+9KSudEez6N68vn2NuuQBLcmoqkhU3yZ2WJWqNJaubaHzyjobFdvpkU8yqy+W3H6+d1CkLry9rc6r4Kwf+UYz+73tNvw21r2mDzfYRhgh2qpZXuPwrMuH+s47wnWLrmzsVpDU6f5Sxj0lffeYrjLlGCqnqJp2d45+WvqGRq3zNvSjJo5f7t53xepqaMdc3f/e14Yrh7fO1F97v6b13jgAAAAAAAAAAAjdiYUejokjXtUSkznUu0qPjk7TwVR3PIMJMxw/rfpIs2ZlX2Yu/FYq4x6jn9YGPWbW+59pg++YXw8qxVs9uSK8ez+s7xYGuSdn+egre2COUvd/5K15Pkt1zpZd+/OqOf95WBs+fFz/5w4BAAAAAAAAAIB8OuHQQ9umaOjktTpspm3qfrPqHPHGAx1crnsffDjb8uiry7wDjINaEuSYe0dM0RLvCJU+U5W8VZ9K5SK8tZOhnH7b9nL2e3KWhPe8Q3JQrmzWRu26o1bQpuspqSYKMZUjAccDAAAAAAAAAICQnXjo4dj+wsOavPGwTI+OpvW8Qc+S7/fa17Mv6a0E/74fsdfqiQlPqq9ZX7rT9gYxfTIGZGnyXUvdR76kF293Vhf86FZ4VGiu7s/6HXP1Y7r2AtPpo7BN0QbTqN3RtNtj6u81XLea3aX/vPKAt5GzOpf7v6+DEnq2UJRZ/eFbzbJjroQ/XaK657XSVcN+9EYAAAAAAAAAAEB+FUroYfpVjHr6Q30XZO6mWU9O1pL9zkq5+rrl5aVaMXe6FnyYqPVznlTfdtVk44pZYzTB1+T7ppe0+TNzzHQtWZ6oF29robPN1FbbHtdbtn+I22PDHjN3vja/fJ2ifwk2adSJG/XCTPczVWmnR+Ys0hLnnuw1371HV50X6R6Ui8MRLfTI+/O9z/KSbeguHdKS/z6cWbni6D9pvu0Xsv7te1THGwMAAAAAAAAAAPlTSKGH47PH9cRHQSoVtk1RzzvHaNamQ3YKrLPr19d5jWqp3KGtWvDeLLldL37UxN799eisrTpoCkZqmmPqq85Zh/Tdwll6e4E9SBP//LAmLv1RB494x9SK0PbE5/Xit+nuAYXtk8fVd9gULdlh7r2i6jj3dF7dSB3e841mTX3HOyhn2+eN1OStEe5nMY3K92/VrMf7q+fr3gEAAAAAAAAAAKDQlKpSs/Fxbx2FJGHuKt1SX/ruPTNllTcIIOztStrgrQEAAAAAAAAoCoVX6QEAAAAAAAAAAFCECD0AAAAAAAAAAEBYIPQAAAAAAAAAAABhgZ4eAFBI6OkBAAAAAAAAFC0qPQAAAAAAAAAAQFgg9AAAAAAAAAAAAGGB0AMAAAAAAAAAAIQFQg8AAAAAAAAAABAWCD0AAAAAAAAAAEBYIPQAAAAAAAAAAABhgdADAAAAAAAAAACEBUIPAAAAAAAAAAAQFk5a6FGnQ0/16tDA2zq5opp2U6/4Norytk9fVdU0/tQ9NwAAAAAAAAAAwknBQ4/aV6lXr57Zlrja3n4AAAAAAAAAAIBTqAChRwPFmYCjo7T4zWl6029JXJvmHQMAAAAAAAAAAHBq5TP0MNMvtVOdpGV6880F2u6N+hxcP1uLd3gbAAAAAAAAAAAAp1C+Qo+opu3VPGq3Fn+2xRsBAAAAAAAAAAAoHkpVqdn4uLeeB1Pl0VX1fpijxPX7vLGcmUbmcVqmN9dWVnx8o4wm4wfXBnl/VJssx+jgJiUmrtBBb9PlXr+5f7dyU3Hy2RbbyDy+3s4s77HXr5vD9fyZ3iQda3gbRprWJs7W+oyLm+m82qlStvN493PAvQffcVo0TT/Uc6/tu7+c2PtuHultmXtd5ry3nd85fdxz1/G2jOCfK+dnZAReL/hzBlBQu5I2eGsAAAAAAAAAikKZ8pHV/+Gt5y7qArVrVk2p3y5XUgi/kleq20yxdWupWc29mjd9rr5at17r9kfronYtVHn/+sxzmNChc6xSFk3TB0ucY9bt1PFGFyuuUTlt25Ssw/Yg86P/5Wp0eJMSfeda96sq15WSkvarXHRjNap8SJu8493Aw4QX0/XZ9l/tGYIxx8U3lz3uk6/MOddr2/HGiotr43ePVRXbrJbO3L1Fm1L8z1Ve0Y3OU43fftQ65x58x1Wqcq7KfzPd/Sx2PDhz7c6N9mvxm7O1xH6enYpod7kbWKT6zukwzye+sUqtnaPpnyy397huWzk1irtYF1X61e8auT8jN/D4Ocv1jkdXUWqS7xkDOFEP3n+PtwYAAAAAAACgKBSgkXl+7NZi/0qCHau11tmoU6+BN1BVTVvWsNUImb1A9mn9ok06GNVILWq7I3U6tFOdbFUJW4JOs5UZePhXawQR1UYtghxn+5IkOedp2Saz8iQfog58nXdfk4xr+/dFcT534rKAPinu88lW1XFwhRIX7ZbqXqCm3k3m9YwqVY50nvO2rNf7jCoPAAAAAAAAAED4OLmhR5Yf2Y19Sj3gvFSu7AYKUeeqXlSa1q4NCC8OHlCq81KpclXnPxuonpmm6ofv8/yBvlLTbqEFHo6ouuco6uDOoFUr23/Y7RxwjuoWIPU4eCDn6g6fnK+9X/v9x7zn80NSkOm5dphnG+k8m9CeUeqBNKluO8U3NccDAAAAAAAAABB+Qg89sgQRhSSqkqIUqebxPdWrl//i178iqrIqOS+pB3Lpy2FENVJc80gdXLskz8DDsJUPJ0Ge9+kI+dr2+YQghGdkKljeXLRbUc27us84vmCVLAAAAAAAAAAAFFf5qPTYoh+SpKh65xbej+UHU3XQNg6fpjffzL7YKZ28sCVPZmon70f9UKoZbOVDSAKqLwpByNe2zycEoT6jHQu8Z7tM26MaKb7XVVmaowMAAAAAAAAAcDrL1/RW29e6vTY6FtYUSfbHet8UTTlxQ4fMPiC5MD/qhxh8HDzws3KawqpOvRrOAVmnn4qqXMVb89ipp7z1fMrx2oHnzO351I5VHfmmvsrHM7K2aHGi812qgioVWoIFAAAAAAAAAEDRyl9PD6+Btp0iqUP2H9htE3Gv+XhotmjN2jR7vqzvq6qmHXzTL3mNzeu2C7hmA8UFuQcTfCR658w1+HCOW5xkptbqltEM3Ijy9QVZ5GvyvU9JP7j9MDLv0bm/jo0KXvFiG7qba/tXWgQ75xYtDhbiRLVRfEfT4Nw3lVfez6hOh6xVHbaviH5Wql+wAwAAAAAAAADA6axUlZqNj3vr+VBVTeO7qnm2X/13a/GbC2zzchuAaJne/Cxrk3I7XnmTEhN9oYKj9lXq1bGGt+HavmiaFu/wNqwGivPv9eHwHWOCivh6O7Oc0441j5Sd9sr/WgEyjsuQ+Rn82fuu623YKbmWSB2dZ3DA9xnd+1O2+85J4DMMdk6PCTniswYi2Z+PkfMzynr/RvDPCaDgdiVt8NYAAAAAAAAAFIUChh4AgECEHgAAAAAAAEDRyt/0VgAAAAAAAAAAAMUUoQcAAAAAAAAAAAgD0v8Hk+IdPMtQIuEAAAAASUVORK5CYII=)"
      ],
      "metadata": {
        "id": "n14z_2pamcAk"
      }
    },
    {
      "cell_type": "markdown",
      "source": [
        "![image.png](data:image/png;base64,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)"
      ],
      "metadata": {
        "id": "7F6kT5AEpDTm"
      }
    },
    {
      "cell_type": "code",
      "source": [
        "doc_store = Qdrant.from_texts(page_content,\n",
        "                              metadatas=metadatas,\n",
        "                              embedding=embeddings,\n",
        "                              location=\":memory:\",\n",
        "                              collection=\"doc_search\")"
      ],
      "metadata": {
        "id": "xR7SYCx808ij"
      },
      "execution_count": null,
      "outputs": []
    },
    {
      "cell_type": "code",
      "source": [
        "qa = VectorDBQA.from_chain_type(llm=llm,\n",
        "                                chain_type=\"stuff\",\n",
        "                                vectorstore=doc_store,\n",
        "                                return_source_documents=True)"
      ],
      "metadata": {
        "colab": {
          "base_uri": "https://localhost:8080/"
        },
        "id": "YyQZBTQEmc5-",
        "outputId": "0bbcda78-deb9-4abf-bfa8-ab7ba98d1ae6"
      },
      "execution_count": null,
      "outputs": [
        {
          "output_type": "stream",
          "name": "stderr",
          "text": [
            "/usr/local/lib/python3.10/dist-packages/langchain/chains/retrieval_qa/base.py:245: UserWarning: `VectorDBQA` is deprecated - please use `from langchain.chains import RetrievalQA`\n",
            "  warnings.warn(\n"
          ]
        }
      ]
    },
    {
      "cell_type": "code",
      "source": [
        "result = qa(\"What are the Common Terms in an Options Package?\")"
      ],
      "metadata": {
        "id": "kTh4uieWnASu"
      },
      "execution_count": null,
      "outputs": []
    },
    {
      "cell_type": "code",
      "source": [
        "result"
      ],
      "metadata": {
        "colab": {
          "base_uri": "https://localhost:8080/"
        },
        "id": "TjsWTY_YnK_V",
        "outputId": "c3942266-6695-4666-93de-b227ebf17e92"
      },
      "execution_count": null,
      "outputs": [
        {
          "output_type": "execute_result",
          "data": {
            "text/plain": [
              "{'query': 'What are the Common Terms in an Options Package?',\n",
              " 'result': 'The common terms in an options package include the number of shares, strike price, vesting schedule, cliff period, and expiration date.',\n",
              " 'source_documents': [Document(page_content='Common Terms in an Options Package  \\nNumber of Shares  The total number of  options granted to an \\nemployee, and therefore the maximum number of \\nshares that employee has access to   \\nStrike Price  The price the  employee must pay to purchase \\neach share if and when the employee chooses to \\nexercise the option  \\nVesting  Schedule  The timeline over which the options become \\nwholly owned and exercisable  by the employee \\n(no longer subject to repurchase by the company)  \\nCliff Period  The trial  period during which no vesting occurs; in \\nthis period vesting accrues, but the total effect of \\nthis vesting is realized immediately after the cliff  \\nExpiration Date  The last date on which the options  may be \\nexercised and converted into common shares by \\nthe employee  \\nWe will discuss the mechanics in further detail, but these basic \\nterms are helpful to understanding options grants  ', metadata={'chunk': 1, 'page number': 'Page5', 'text': 'Appropriate use of these securities will \\nvary based on local regulatory and tax \\nconsiderations.  An option is a right (but not an obligation) to purchase a quantity \\nof a company’s stock at a set price for a certain period of time'}),\n",
              "  Document(page_content='What is an Option?  \\n•Why do options have intrinsic value?  \\n–A effective form of equity ownership  \\n–A locked -in price for shares  \\n•How do startups use options?  \\n–To bring in founding team members \\nwho are not co -founders  \\n–To recruit, compensate and retain \\nearly employees  \\n–To allow later employees to share in \\nthe company’s long -term upside  Terminology:   \\nThis presentation uses “options” \\ngenerally to refer to several types of \\nsecurities that are often issued to startup \\nemployees to provide for effective equity \\nownership, including:  \\n-Stock options (the right to buy \\ncommon stock a set strike price)  \\n-Restricted stock (common stock \\nissued early on to top employees)  \\n-Restricted stock units (a promise to \\nissue common stock in the future)  \\nAppropriate use of these securities will \\nvary based on local regulatory and tax \\nconsiderations.  An option is a right (but not an obligation) to purchase a quantity \\nof a company’s stock at a set price for a certain period of time  ', metadata={'chunk': 0, 'page number': 'Page4', 'text': 'What is an ESOP?  \\n•An Employee Stock Options Plan (ESOP)  \\n \\n•An allocation  of shares that will be granted to employees in the future \\nin the form of stock options  \\n–How much equity should we set aside for employees?  \\n \\n•A plan for how these options will be distributed:  \\n–How many shares will individual employees receive?  \\n–What terms will govern these grants?  \\n \\n•The plan is as important as the allocation!'}),\n",
              "  Document(page_content='Strike Price  \\n•Options are “struck” at a specific strike price when issued; the holder \\nmust pay this amount in order to exercise the option  \\n–The expectation is that the shares will have significantly increased \\nin value, and the holder will profit from the spread  \\n–Regulations for how strike prices can be set will vary by region  \\n•However, it is generally in the best interest of both company and \\nemployee if the strike price is set as low as possible  \\n–This is because options are typically exercised only after an \\nacquisition or IPO, so while a higher strike price costs the \\nemployee more, none of the current shareholders benefit  The strike price is the amount that the employee must pay to turn one \\noption into one share of stock. Also known as the “exercise price”  ', metadata={'chunk': 0, 'page number': 'Page22', 'text': '4. Determine the Current Share Price  \\nLatest “True” Valuation  \\nFully -Diluted Share Count  Current Share Price  = What is the company actually worth today?  Or, at what \\nvaluation could you raise capital or sell the company? This \\nis an internal valuation (not published). Things to consider:  \\n-The latest financing round  \\n-Any bonafide  acquisition offer  \\n-Comparable company valuations / DCF analysis  \\nHow many shares are outstanding?  This should include \\nall shares issued, as well as any dilutive securities:  \\n-Common shares  \\n-Preferred shares  \\n-Shares authorized for issuance  \\n-Options or warrants'}),\n",
              "  Document(page_content='INTRO TO OPTIONS PLANS  Part I  ', metadata={'chunk': 1, 'page number': 'Page2', 'text': '•Important Takeaways  Part III : The Fine Print – Terms  \\n•Strike Price  \\n•Vesting Schedule  \\n•The Cliff  \\n–Example: Standard Vesting w/ a Cliff \\n•Vesting in a Liquidity Event  \\n•Exercising Options  \\n•Tax Considerations  \\n•Legal Advice  \\n \\nPart IV: ESOPs for the Long Term  \\n•Retention Grants  \\n•Discretionary Grants  \\n•Social Impact Considerations  \\n•Options Modeling – Overview  \\n•Options Modeling – A Detailed Example  \\n \\nPart V: Resources & Further Reading'})]}"
            ]
          },
          "metadata": {},
          "execution_count": 290
        }
      ]
    },
    {
      "cell_type": "code",
      "source": [
        "result['query']"
      ],
      "metadata": {
        "colab": {
          "base_uri": "https://localhost:8080/",
          "height": 35
        },
        "id": "0n4HxkhOnsBU",
        "outputId": "6e208523-68ca-4287-db42-8cf358cf8b06"
      },
      "execution_count": null,
      "outputs": [
        {
          "output_type": "execute_result",
          "data": {
            "text/plain": [
              "'What are the Common Terms in an Options Package?'"
            ],
            "application/vnd.google.colaboratory.intrinsic+json": {
              "type": "string"
            }
          },
          "metadata": {},
          "execution_count": 262
        }
      ]
    },
    {
      "cell_type": "code",
      "source": [
        "result['result']"
      ],
      "metadata": {
        "colab": {
          "base_uri": "https://localhost:8080/",
          "height": 53
        },
        "id": "n-MFLaVTnvYE",
        "outputId": "ae4428ea-423e-4be2-a582-199e2aaf7bc5"
      },
      "execution_count": null,
      "outputs": [
        {
          "output_type": "execute_result",
          "data": {
            "text/plain": [
              "'The common terms in an options package include the number of shares, strike price, vesting schedule, cliff period, and expiration date.'"
            ],
            "application/vnd.google.colaboratory.intrinsic+json": {
              "type": "string"
            }
          },
          "metadata": {},
          "execution_count": 251
        }
      ]
    },
    {
      "cell_type": "code",
      "source": [
        "type(result[\"source_documents\"][0])"
      ],
      "metadata": {
        "colab": {
          "base_uri": "https://localhost:8080/"
        },
        "id": "796eUitdqr4w",
        "outputId": "ac26380f-7abb-42d0-c41d-6dc647fac66a"
      },
      "execution_count": null,
      "outputs": [
        {
          "output_type": "execute_result",
          "data": {
            "text/plain": [
              "langchain.schema.document.Document"
            ]
          },
          "metadata": {},
          "execution_count": 281
        }
      ]
    },
    {
      "cell_type": "code",
      "source": [
        "print(result[\"source_documents\"][0].page_content)"
      ],
      "metadata": {
        "colab": {
          "base_uri": "https://localhost:8080/"
        },
        "id": "nmBE047Qs-cl",
        "outputId": "b6aff3e9-0b09-4d40-eeca-73ecd044edbd"
      },
      "execution_count": null,
      "outputs": [
        {
          "output_type": "stream",
          "name": "stdout",
          "text": [
            "Common Terms in an Options Package  \n",
            "Number of Shares  The total number of  options granted to an \n",
            "employee, and therefore the maximum number of \n",
            "shares that employee has access to   \n",
            "Strike Price  The price the  employee must pay to purchase \n",
            "each share if and when the employee chooses to \n",
            "exercise the option  \n",
            "Vesting  Schedule  The timeline over which the options become \n",
            "wholly owned and exercisable  by the employee \n",
            "(no longer subject to repurchase by the company)  \n",
            "Cliff Period  The trial  period during which no vesting occurs; in \n",
            "this period vesting accrues, but the total effect of \n",
            "this vesting is realized immediately after the cliff  \n",
            "Expiration Date  The last date on which the options  may be \n",
            "exercised and converted into common shares by \n",
            "the employee  \n",
            "We will discuss the mechanics in further detail, but these basic \n",
            "terms are helpful to understanding options grants  \n"
          ]
        }
      ]
    },
    {
      "cell_type": "code",
      "source": [
        "result[\"source_documents\"][0].metadata['page number']"
      ],
      "metadata": {
        "colab": {
          "base_uri": "https://localhost:8080/",
          "height": 35
        },
        "id": "3Kbel4v7szsb",
        "outputId": "8a705a38-4d0a-47de-80e7-49b098681072"
      },
      "execution_count": null,
      "outputs": [
        {
          "output_type": "execute_result",
          "data": {
            "text/plain": [
              "'Page5'"
            ],
            "application/vnd.google.colaboratory.intrinsic+json": {
              "type": "string"
            }
          },
          "metadata": {},
          "execution_count": 305
        }
      ]
    },
    {
      "cell_type": "code",
      "source": [
        "final_output = {\"Question\":result['query'],\n",
        "                \"Answer\":result['result'],\n",
        "                \"Page Number\":result[\"source_documents\"][0].metadata['page number'],\n",
        "                \"Page Content\":result[\"source_documents\"][0].page_content\n",
        "}"
      ],
      "metadata": {
        "id": "CiPBku2dn15c"
      },
      "execution_count": null,
      "outputs": []
    },
    {
      "cell_type": "code",
      "source": [
        "final_output"
      ],
      "metadata": {
        "colab": {
          "base_uri": "https://localhost:8080/"
        },
        "id": "nplVI1S1tu4A",
        "outputId": "457d34f5-7b34-4ca1-bf40-4d02638b0db3"
      },
      "execution_count": null,
      "outputs": [
        {
          "output_type": "execute_result",
          "data": {
            "text/plain": [
              "{'Question': 'What are the Common Terms in an Options Package?',\n",
              " 'Answer': 'The common terms in an options package include the number of shares, strike price, vesting schedule, cliff period, and expiration date.',\n",
              " 'Page Number': 'Page5',\n",
              " 'Page Content': 'Common Terms in an Options Package  \\nNumber of Shares  The total number of  options granted to an \\nemployee, and therefore the maximum number of \\nshares that employee has access to   \\nStrike Price  The price the  employee must pay to purchase \\neach share if and when the employee chooses to \\nexercise the option  \\nVesting  Schedule  The timeline over which the options become \\nwholly owned and exercisable  by the employee \\n(no longer subject to repurchase by the company)  \\nCliff Period  The trial  period during which no vesting occurs; in \\nthis period vesting accrues, but the total effect of \\nthis vesting is realized immediately after the cliff  \\nExpiration Date  The last date on which the options  may be \\nexercised and converted into common shares by \\nthe employee  \\nWe will discuss the mechanics in further detail, but these basic \\nterms are helpful to understanding options grants  '}"
            ]
          },
          "metadata": {},
          "execution_count": 311
        }
      ]
    },
    {
      "cell_type": "code",
      "source": [
        "result = qa(\"When to Create an ESOP?\")\n",
        "final_output = {\"Question\":result['query'],\n",
        "                \"Answer\":result['result'],\n",
        "                \"Page Number\":result[\"source_documents\"][0].metadata['page number'],\n",
        "                \"Page Content\":result[\"source_documents\"][0].page_content\n",
        "}"
      ],
      "metadata": {
        "id": "_uPamCsktwLA"
      },
      "execution_count": null,
      "outputs": []
    },
    {
      "cell_type": "code",
      "source": [
        "final_output"
      ],
      "metadata": {
        "colab": {
          "base_uri": "https://localhost:8080/"
        },
        "id": "tiaKDEei1nda",
        "outputId": "72478860-107e-433c-e582-c2420c551bb6"
      },
      "execution_count": null,
      "outputs": [
        {
          "output_type": "execute_result",
          "data": {
            "text/plain": [
              "{'Question': 'When to Create an ESOP?',\n",
              " 'Answer': 'An ESOP (Employee Stock Ownership Plan) should be created sometime between the pre-seed and early-VC stage of a startup. This is when the company is starting to gain traction and outside financing is being sought. Institutional investors will typically require an ESOP to be in place, and new hires will be seeking large equity grants. It is important to have a standardized ESOP and guidelines for the size of new-hire options grants.',\n",
              " 'Page Number': 'Page9',\n",
              " 'Page Content': 'When to Create an ESOP?  \\nStage  Considerations  Takeaway  \\nPre-seed  Founders focused on traction  (often too \\nbusy for an ESOP).  Key employees are \\ngiven equity/options on an ad hoc basis  ESOP  not necessary, but it can be \\nhelpful to sanity check how much equity \\nyou are giving away to early hires  \\nSeed  First outside financing round. Investors \\neither angel or institutional; institutional \\ninvestors will require an ESOP  Seed rounds can be closed without an \\nESOP; the benefit to doing so is that \\nseed investors then share in the dilution  \\nEarly -VC The first true VC round. Investors will \\nrequire an ESOP in place. New hires \\nwill be seek large equity grants.  ESOP must be created  (to appease \\ninvestors and to serve as a guideline for \\nthe size of new -hire options grants)  \\nLate-VC Flush with capital,  startups at this stage \\nbegin to steadily ramp -up hiring, yet \\nemployees still want equity  Important to have standardized the  \\nESOP and the amount of equity granted \\nto new hires at each level  \\nGrowth  Company is aggressively pursuing \\ngrowth and hiring; likely to have \\nexhausted most of the ESOP  Most of the ESOP is gone, but shares \\nremaining are more valuable; use them \\nto allow  new hires to share in the upside  Make employee equity allocations and set up an ESOP sometime \\nbetween the pre -seed and early -VC stage  '}"
            ]
          },
          "metadata": {},
          "execution_count": 344
        }
      ]
    },
    {
      "cell_type": "code",
      "source": [
        "prompt = \"When to Communicate Options to Employees: % versus $\"\n",
        "result = qa(prompt)\n",
        "final_output = {\"Question\":result['query'],\n",
        "                \"Answer\":result['result'],\n",
        "                \"Page Number\":result[\"source_documents\"][0].metadata['page number'],\n",
        "                \"Page Content\":result[\"source_documents\"][0].page_content\n",
        "}\n",
        "final_output"
      ],
      "metadata": {
        "colab": {
          "base_uri": "https://localhost:8080/"
        },
        "id": "Ix32MRsX1pCq",
        "outputId": "dc2986a7-3845-4faf-9e91-a4e6cb521820"
      },
      "execution_count": null,
      "outputs": [
        {
          "output_type": "execute_result",
          "data": {
            "text/plain": [
              "{'Question': 'When to Communicate Options to Employees: % versus $',\n",
              " 'Answer': 'Options can be communicated to employees either as a percentage of ownership in the company or as a dollar value based on the current valuation. It is recommended to communicate options grants as a dollar value when possible. However, at an early stage when there is no true valuation of the company, it may be necessary to communicate options grants as a percentage. Once the valuation is established, communicating the options grant as a dollar value is a highly effective way to communicate the true value of the grant.',\n",
              " 'Page Number': 'Page10',\n",
              " 'Page Content': 'Communicating Options to Employees: % versus $  \\nOptions packages can be communicated either as (1) a percentage \\nof ownership in the company, or (2) a dollar value based on the \\ncurrent valuation; we encourage the latter when possible  \\n% $ \\n“We are granting you options equivalent to \\n0.5% of the company’s equity”  \\nConsiderations:  \\n•At an early stage, the only way  to \\ncommunicate options grants given no true \\nvaluation of the company  \\n•Hard for employees to grasp  what they \\nare really getting (“0.5% seems too little”)  \\n•Invites a negotiation  about what percent \\nof the company an employee really \\ndeserves  “We are granting you options equivalent to \\n$200,000 of company stock”  \\nConsiderations:  \\n•Once valuation is established, highly \\neffective  way to communicate the true \\nvalue of an options grant  \\n•Easy for employees to grasp  what they \\nare really getting (“$200,000 is a lot”)  \\n•Grounds negotiations  in a discussion \\nabout concrete dollar amounts, rather \\nthan a percent of the company  \\nNote: Although we recommend communicating options packages as a dollar value, we do not suggest \\nrefusing employees information about their effective percentage ownership ; all options holders are \\nentitled to this information, and to refuse would be unethical . '}"
            ]
          },
          "metadata": {},
          "execution_count": 345
        }
      ]
    },
    {
      "cell_type": "code",
      "source": [
        "prompt =\"For the question asked in 3 backticks  please provide concise answer and also mention quotes from the vectorstore. ```What are the approaches to grant ESOP?```\"\n",
        "result = qa(prompt)\n",
        "final_output = {\"Question\":result['query'],\n",
        "                \"Answer\":result['result'],\n",
        "                \"Page Number\":result[\"source_documents\"][0].metadata['page number'],\n",
        "                \"Page Content\":result[\"source_documents\"][0].page_content\n",
        "}\n",
        "final_output"
      ],
      "metadata": {
        "colab": {
          "base_uri": "https://localhost:8080/"
        },
        "id": "AnSerQ1q-Q4X",
        "outputId": "ded106b9-02ee-4093-e369-d0524fa8deff"
      },
      "execution_count": null,
      "outputs": [
        {
          "output_type": "execute_result",
          "data": {
            "text/plain": [
              "{'Question': 'What are the approaches to grant ESOP?',\n",
              " 'Answer': 'The two approaches to grant ESOP are top-down planning and bottom-up planning. \\n\\nTop-down planning involves deciding the total amount of equity to be granted and allocating these shares to employees over time. This approach looks at the overall percentage of the company that should belong to employees and then distributes the shares accordingly.\\n\\nBottom-up planning involves deciding the appropriate size of individual equity grants by position and issuing these shares as employees are hired. This approach considers the specific equity awards for each employee based on their role or position within the company.\\n\\nIt is important to note that both approaches should be used in combination when creating an ESOP.',\n",
              " 'Page Number': 'Page11',\n",
              " 'Page Content': 'Two Approaches  \\nIn reality, creating an ESOP will require a combination of \\ntop-down and bottom -up planning  Top Down  Bottom Up  \\nDecide the total amount of \\nequity to be granted; allocate \\nthese shares to employees \\nover time  Decide the appropriate size of \\nindividual equity grants by \\nposition; issue these shares as \\nemployees are hired  '}"
            ]
          },
          "metadata": {},
          "execution_count": 372
        }
      ]
    },
    {
      "cell_type": "code",
      "source": [
        "from qdrant_client import models, QdrantClient\n",
        "from langchain.embeddings import HuggingFaceEmbeddings\n",
        "from langchain.vectorstores.qdrant import Qdrant\n",
        "import PyPDF2\n",
        "from PyPDF2 import PdfReader\n",
        "from tqdm.auto import tqdm\n",
        "from uuid import uuid4\n",
        "from langchain.text_splitter import RecursiveCharacterTextSplitter\n",
        "from transformers import pipeline\n",
        "from sentence_transformers import SentenceTransformer\n",
        "from time import time,sleep\n",
        "import openai\n",
        "from langchain import VectorDBQA\n",
        "from langchain.chains import RetrievalQA\n",
        "from langchain.llms import OpenAI\n",
        "#\n",
        "import os\n",
        "import json\n",
        "#\n",
        "import io\n",
        "import pytesseract\n",
        "import shutil\n",
        "import random\n",
        "from PIL import Image\n",
        "from pdf2image import convert_from_path\n",
        "from configparser import ConfigParser\n",
        "\n",
        "ai_for_world_config = ConfigParser()\n",
        "\n",
        "#\n",
        "def read_config(parser: ConfigParser, location: str) -> None:\n",
        "    assert parser.read(location), f\"Could not read config {location}\"\n",
        "#\n",
        "def is_scanned_pdf(file_path):\n",
        "    page_num  = []\n",
        "    page_content = []\n",
        "    pdf_reader = PdfReader(file_path)\n",
        "    text = \"\"\n",
        "    for i,page in enumerate(pdf_reader.pages):\n",
        "      page_num.append(f\"Page{i+1}\")\n",
        "      page_content.append(page.extract_text())\n",
        "      text += page.extract_text()\n",
        "\n",
        "    # if no text found, it is likely a scanned pdf\n",
        "    if text == \"\":\n",
        "        print(\"Scanned PDF\")\n",
        "        return True,page_num,page_content\n",
        "\n",
        "    else:\n",
        "        print(\"Text-based PDF\")\n",
        "        return False,page_num,page_content\n",
        "#\n",
        "#\n",
        "def convert_pdf_to_image(pdf_path):\n",
        "    pages = convert_from_path(pdf_path, 350)\n",
        "    #\n",
        "    output_dir=\"pdf_img_dir\"\n",
        "    if not os.path.exists(output_dir):\n",
        "        os.makedirs(output_dir)\n",
        "    i = 1\n",
        "    for page in pages:\n",
        "        image_name = \"Page_\" + str(i) + \".jpg\"\n",
        "        image_path = os.path.join(output_dir,image_name)\n",
        "        page.save(image_path, \"JPEG\")\n",
        "        i = i+1\n",
        "    return output_dir\n",
        "\n",
        "# Extract text from image\n",
        "#\n",
        "def extract_text_from_image(image_path):\n",
        "    extractedInformation = pytesseract.image_to_string(Image.open(image_path))\n",
        "    return extractedInformation\n",
        "#\n",
        "#\n",
        "def get_text_chunks(text):\n",
        "    text_splitter = RecursiveCharacterTextSplitter(\n",
        "                            chunk_size=1000,\n",
        "                            chunk_overlap=200,\n",
        "                            separators=[\"\\n\\n\", \"\\n\", \" \", \"\"]\n",
        "                            )\n",
        "    chunks = text_splitter.split_text(text)\n",
        "    return chunks\n",
        "#\n",
        "def preprocess_function(request_data,content_type=None):\n",
        "  pdf_docs = request_data[\"pdf1\"]\n",
        "  prompt = request_data[\"query\"]\n",
        "  flag,page_num,page_content = is_scanned_pdf(pdf_docs)\n",
        "  pdf_name = \"temppdf\"\n",
        "  f_path = os.path.join(\"/tmp\", pdf_name)\n",
        "  #\n",
        "  print(pdf_docs)\n",
        "  if flag:\n",
        "    with open(f_path, \"wb\") as f:\n",
        "        f.write(pdf_docs.getbuffer())\n",
        "    print(f\"filesize : {os.path.getsize(f_path)}\")\n",
        "    page_num  = []\n",
        "    page_content = []\n",
        "    text = \"\"\n",
        "    # convert pdf to image\n",
        "    image_dir = convert_pdf_to_image(f_path)\n",
        "    for i,file in enumerate(os.listdir(image_dir)):\n",
        "      page_num.append(f\"Page{i+1}\")\n",
        "      image_path = os.path.join(image_dir,file)\n",
        "      text += extract_text_from_image(image_path)\n",
        "      page_content.append(extract_text_from_image(image_path))\n",
        "\n",
        "      print(f\"Text read from image: {text}\")\n",
        "  #\n",
        "  metadatas = []\n",
        "  texts = []\n",
        "  for p,record in tqdm(zip(page_num,page_content)):\n",
        "        # first get metadata fields for this record\n",
        "        metadata = {'page number': p}\n",
        "        # now we create chunks from the record text\n",
        "        record_texts = get_text_chunks(record)\n",
        "        # create individual metadata dicts for each chunk\n",
        "        record_metadatas = [{\n",
        "            \"chunk\": j, \"text\": text, **metadata\n",
        "        } for j, text in enumerate(record_texts)]\n",
        "        # append these to current batches\n",
        "        texts.extend(record_texts)\n",
        "        metadatas.extend(record_metadatas)\n",
        "  c = []\n",
        "  for i in range(len(metadatas)):\n",
        "    c.append(metadatas[i]['text'])\n",
        "\n",
        "  page_content = c\n",
        "  return (flag,page_num,page_content,metadatas,prompt)\n",
        "#\n",
        "def model_load_function(model_path):\n",
        "  embeddings = HuggingFaceEmbeddings()\n",
        "  #\n",
        "  return (embeddings,model_path)\n",
        "#\n",
        "def predict_function(context,model,content_type=None):\n",
        "  embeddings,model_path = model\n",
        "  flag,page_num,page_content,metadatas,prompt = context\n",
        "  #Read config file for openai api key\n",
        "  #\n",
        "  '''\n",
        "  CONFIG_FILE = os.path.join(model_path, \"env.conf\")\n",
        "  read_config(ai_for_world_config, CONFIG_FILE)\n",
        "  api_key = ai_for_world_config.get(\"openai\", \"api_key\").strip()\n",
        "  #define llm\n",
        "  '''\n",
        "  #\n",
        "  llm = OpenAI(openai_api_key=os.environ[\"OPENAI_API_KEY\"],temperature=0)\n",
        "  #create vector store\n",
        "  #\n",
        "\n",
        "  doc_store = Qdrant.from_texts(page_content,\n",
        "                              metadatas=metadatas,\n",
        "                              embedding=embeddings,\n",
        "                              location=\":memory:\",\n",
        "                              collection=\"doc_search\")\n",
        "\n",
        "  #query vector store\n",
        "  prompt_template = \"\"\"Use the following pieces of context to answer the question enclosed within  3 backticks at the end. If you don't know the answer, just say that you don't know, don't try to make up an answer.\n",
        "  Please provide an answer which is factually correct and based on the information retrieved from the vector store.\n",
        "  Please also mention any quotes supporting the answer if any present in the context supplied within two double quotes \"\" .\n",
        "\n",
        "{context}\n",
        "\n",
        "QUESTION:```{question}```\n",
        "ANSWER:\n",
        "  \"\"\"\n",
        "  PROMPT = PromptTemplate(\n",
        "    template=prompt_template, input_variables=[\"context\",\"question\"]\n",
        "  )\n",
        "  #\n",
        "  chain_type_kwargs = {\"prompt\": PROMPT}\n",
        "  '''\n",
        "  qa = RetrievalQA.from_chain_type(llm=OpenAI(),\n",
        "                                   chain_type=\"stuff\",\n",
        "                                   retriever=docsearch.as_retriever(),\n",
        "                                   return_source_documents=True)\n",
        "  '''\n",
        "  qa = RetrievalQA.from_chain_type(llm=ChatOpenAI(model_name='gpt-3.5-turbo-16k',\n",
        "                                                  openai_api_key=os.environ[\"OPENAI_API_KEY\"],\n",
        "                                                  temperature=0),\n",
        "                                  chain_type=\"stuff\",\n",
        "                                  chain_type_kwargs={\"prompt\": PROMPT},\n",
        "                                  retriever=doc_store.as_retriever(),\n",
        "                                      return_source_documents=True\n",
        "                                  )\n",
        "\n",
        "\n",
        "\n",
        "  # Serach for answer\n",
        "  print(prompt)\n",
        "  result = qa(prompt)\n",
        "  return result\n",
        "#\n",
        "def postprocess_function(result, content_type=None):\n",
        "  query = result['query']\n",
        "  answer = result['result']\n",
        "  referrences = []\n",
        "  pages = []\n",
        "  #\n",
        "  for i in range(len(result[\"source_documents\"])):\n",
        "    print(f\"Content : {result['source_documents'][i].page_content}\")\n",
        "    referrences.append(result['source_documents'][i].page_content)\n",
        "    print(f\"Page Number : {result['source_documents'][i].metadata['page number']}\")\n",
        "    pages.append(result['source_documents'][i].metadata['page number'])\n",
        "\n",
        "  # Format the response\n",
        "  predictions = {\"Query\":query,\n",
        "                 \"Answer\":answer,\n",
        "                 \"Referrences\":referrences,\n",
        "                 \"Page Numbers\":pages}\n",
        "  # delete temp directories if any created\n",
        "  output_dir=\"pdf_img_dir\"\n",
        "  if os.path.exists(output_dir):\n",
        "    for  file in os.listdir(output_dir):\n",
        "      file_name = os.path.join(output_dir,file)\n",
        "      if os.path.exists(file_name) and os.path.isfile(file_name):\n",
        "        print(f\"File {file_name} exists. Hence Removing\")\n",
        "        os.remove(file_name)\n",
        "  return json.dumps({\"response\": predictions})\n"
      ],
      "metadata": {
        "id": "D8V634Gngf1-"
      },
      "execution_count": 69,
      "outputs": []
    },
    {
      "cell_type": "code",
      "source": [
        "!pip install -U langchain"
      ],
      "metadata": {
        "colab": {
          "base_uri": "https://localhost:8080/"
        },
        "id": "sWYrAFlf8zMD",
        "outputId": "8e5cc992-8b5d-43fa-e9b0-b42d6a067227"
      },
      "execution_count": 54,
      "outputs": [
        {
          "output_type": "stream",
          "name": "stdout",
          "text": [
            "Requirement already satisfied: langchain in /usr/local/lib/python3.10/dist-packages (0.0.242)\n",
            "Requirement already satisfied: PyYAML>=5.4.1 in /usr/local/lib/python3.10/dist-packages (from langchain) (6.0.1)\n",
            "Requirement already satisfied: SQLAlchemy<3,>=1.4 in /usr/local/lib/python3.10/dist-packages (from langchain) (2.0.19)\n",
            "Requirement already satisfied: aiohttp<4.0.0,>=3.8.3 in /usr/local/lib/python3.10/dist-packages (from langchain) (3.8.4)\n",
            "Requirement already satisfied: async-timeout<5.0.0,>=4.0.0 in /usr/local/lib/python3.10/dist-packages (from langchain) (4.0.2)\n",
            "Requirement already satisfied: dataclasses-json<0.6.0,>=0.5.7 in /usr/local/lib/python3.10/dist-packages (from langchain) (0.5.13)\n",
            "Requirement already satisfied: langsmith<0.1.0,>=0.0.11 in /usr/local/lib/python3.10/dist-packages (from langchain) (0.0.14)\n",
            "Requirement already satisfied: numexpr<3.0.0,>=2.8.4 in /usr/local/lib/python3.10/dist-packages (from langchain) (2.8.4)\n",
            "Requirement already satisfied: numpy<2,>=1 in /usr/local/lib/python3.10/dist-packages (from langchain) (1.22.4)\n",
            "Requirement already satisfied: openapi-schema-pydantic<2.0,>=1.2 in /usr/local/lib/python3.10/dist-packages (from langchain) (1.2.4)\n",
            "Requirement already satisfied: pydantic<2,>=1 in /usr/local/lib/python3.10/dist-packages (from langchain) (1.10.11)\n",
            "Requirement already satisfied: requests<3,>=2 in /usr/local/lib/python3.10/dist-packages (from langchain) (2.27.1)\n",
            "Requirement already satisfied: tenacity<9.0.0,>=8.1.0 in /usr/local/lib/python3.10/dist-packages (from langchain) (8.2.2)\n",
            "Requirement already satisfied: attrs>=17.3.0 in /usr/local/lib/python3.10/dist-packages (from aiohttp<4.0.0,>=3.8.3->langchain) (23.1.0)\n",
            "Requirement already satisfied: charset-normalizer<4.0,>=2.0 in /usr/local/lib/python3.10/dist-packages (from aiohttp<4.0.0,>=3.8.3->langchain) (2.0.12)\n",
            "Requirement already satisfied: multidict<7.0,>=4.5 in /usr/local/lib/python3.10/dist-packages (from aiohttp<4.0.0,>=3.8.3->langchain) (6.0.4)\n",
            "Requirement already satisfied: yarl<2.0,>=1.0 in /usr/local/lib/python3.10/dist-packages (from aiohttp<4.0.0,>=3.8.3->langchain) (1.9.2)\n",
            "Requirement already satisfied: frozenlist>=1.1.1 in /usr/local/lib/python3.10/dist-packages (from aiohttp<4.0.0,>=3.8.3->langchain) (1.4.0)\n",
            "Requirement already satisfied: aiosignal>=1.1.2 in /usr/local/lib/python3.10/dist-packages (from aiohttp<4.0.0,>=3.8.3->langchain) (1.3.1)\n",
            "Requirement already satisfied: marshmallow<4.0.0,>=3.18.0 in /usr/local/lib/python3.10/dist-packages (from dataclasses-json<0.6.0,>=0.5.7->langchain) (3.20.1)\n",
            "Requirement already satisfied: typing-inspect<1,>=0.4.0 in /usr/local/lib/python3.10/dist-packages (from dataclasses-json<0.6.0,>=0.5.7->langchain) (0.9.0)\n",
            "Requirement already satisfied: typing-extensions>=4.2.0 in /usr/local/lib/python3.10/dist-packages (from pydantic<2,>=1->langchain) (4.5.0)\n",
            "Requirement already satisfied: urllib3<1.27,>=1.21.1 in /usr/local/lib/python3.10/dist-packages (from requests<3,>=2->langchain) (1.26.16)\n",
            "Requirement already satisfied: certifi>=2017.4.17 in /usr/local/lib/python3.10/dist-packages (from requests<3,>=2->langchain) (2023.5.7)\n",
            "Requirement already satisfied: idna<4,>=2.5 in /usr/local/lib/python3.10/dist-packages (from requests<3,>=2->langchain) (3.4)\n",
            "Requirement already satisfied: greenlet!=0.4.17 in /usr/local/lib/python3.10/dist-packages (from SQLAlchemy<3,>=1.4->langchain) (2.0.2)\n",
            "Requirement already satisfied: packaging>=17.0 in /usr/local/lib/python3.10/dist-packages (from marshmallow<4.0.0,>=3.18.0->dataclasses-json<0.6.0,>=0.5.7->langchain) (23.1)\n",
            "Requirement already satisfied: mypy-extensions>=0.3.0 in /usr/local/lib/python3.10/dist-packages (from typing-inspect<1,>=0.4.0->dataclasses-json<0.6.0,>=0.5.7->langchain) (1.0.0)\n"
          ]
        }
      ]
    },
    {
      "cell_type": "code",
      "source": [
        "%%time\n",
        "from langchain import PromptTemplate\n",
        "\n",
        "request_data = {\"pdf1\":\"/content/Employee-Stock-Option-Plans-ESOP-Best-Practices-2.pdf\",\n",
        "                \"query\":\"what is a neccessary Part of the Capital Structure according to Fred Wilson?\"}\n",
        "content = preprocess_function(request_data,content_type=None)"
      ],
      "metadata": {
        "colab": {
          "base_uri": "https://localhost:8080/",
          "height": 118,
          "referenced_widgets": [
            "0d92f487d414411f916fec5f08f2d9a6",
            "2c0ebb7c14ee44f1a227f1ed6c899182",
            "4a0902c59ced403797eecc8a9b9d99f7",
            "1609ae98100141d7ac69c026a9559999",
            "d75d4abbc29e476d9de16c130a3d5119",
            "1e20a59d37fc41b1ab24893b95853b78",
            "3cf19bec8c3a4dc9b5cf468b14093371",
            "86f43bc1dbf842978fac8356e581a105",
            "598655a6c02a48b187fbfbc4441f7e1d",
            "328a1eca60874776ad57a5848e0d61fb",
            "760fa2e58ab14ce09614d1cfcd4e7616"
          ]
        },
        "id": "yVGpGquig2F6",
        "outputId": "aa029011-d44b-4466-dd10-f1109528fd62"
      },
      "execution_count": 74,
      "outputs": [
        {
          "output_type": "stream",
          "name": "stdout",
          "text": [
            "Text-based PDF\n",
            "/content/Employee-Stock-Option-Plans-ESOP-Best-Practices-2.pdf\n"
          ]
        },
        {
          "output_type": "display_data",
          "data": {
            "text/plain": [
              "0it [00:00, ?it/s]"
            ],
            "application/vnd.jupyter.widget-view+json": {
              "version_major": 2,
              "version_minor": 0,
              "model_id": "0d92f487d414411f916fec5f08f2d9a6"
            }
          },
          "metadata": {}
        },
        {
          "output_type": "stream",
          "name": "stdout",
          "text": [
            "CPU times: user 1.34 s, sys: 5.83 ms, total: 1.35 s\n",
            "Wall time: 1.53 s\n"
          ]
        }
      ]
    },
    {
      "cell_type": "code",
      "source": [
        "%%time\n",
        "model = model_load_function(model_path=None)\n"
      ],
      "metadata": {
        "colab": {
          "base_uri": "https://localhost:8080/"
        },
        "id": "6argjmKxhEua",
        "outputId": "ba7d011c-0b5e-44d3-be10-c820252f3a26"
      },
      "execution_count": 75,
      "outputs": [
        {
          "output_type": "stream",
          "name": "stdout",
          "text": [
            "CPU times: user 1.02 s, sys: 143 ms, total: 1.16 s\n",
            "Wall time: 1.17 s\n"
          ]
        }
      ]
    },
    {
      "cell_type": "code",
      "source": [
        "%%time\n",
        "response = predict_function(content,model,content_type=None)"
      ],
      "metadata": {
        "colab": {
          "base_uri": "https://localhost:8080/"
        },
        "id": "HjEXGw7dhpyX",
        "outputId": "6e42a8da-5bb2-4a91-ef96-1076e8237575"
      },
      "execution_count": 76,
      "outputs": [
        {
          "output_type": "stream",
          "name": "stdout",
          "text": [
            "what is a neccessary Part of the Capital Structure according to Fred Wilson?\n",
            "CPU times: user 42 s, sys: 7.92 s, total: 49.9 s\n",
            "Wall time: 52.5 s\n"
          ]
        }
      ]
    },
    {
      "cell_type": "code",
      "source": [
        "%%time\n",
        "out = postprocess_function(response, content_type=None)"
      ],
      "metadata": {
        "colab": {
          "base_uri": "https://localhost:8080/"
        },
        "id": "5Im6D8O1h-JN",
        "outputId": "b49c5d50-5fd4-4cc5-b564-8b9acc0fd00f"
      },
      "execution_count": 77,
      "outputs": [
        {
          "output_type": "stream",
          "name": "stdout",
          "text": [
            "Content : A Necessary Part of the Capital Structure  \n",
            "•Venture capitalists require ESOPs . For many VCs, establishing a \n",
            "stock option pool is a prerequisite to closing a deal  \n",
            "–In an industry where options are ubiquitous, startups are compelled \n",
            "to offer options packages to compete for top talent with other \n",
            "venture -backed companies  \n",
            "–When operating budgets are tight, competitive compensation \n",
            "packages may not be possible; options can be used to incentivize \n",
            "employees instead of cash  \n",
            "I can't think of a term sheet that we have issued that didn't have a \n",
            "specific provision for employee equity.  \n",
            "Fred Wilson, Union Square Ventures\n",
            "Page Number : Page10\n",
            "Content : The Top -Down Process  \n",
            "1.Determine how much equity to set aside for non -founder employees  \n",
            "2.Create a schedule of how this equity will be distributed over time\n",
            "Page Number : Page15\n",
            "Content : Resources & Further Reading  \n",
            "•Fred Wilson / Union Square Ventures Series on Employee Equity  \n",
            "–What are options?  \n",
            "–Structures and allocations  \n",
            "–How many options to issue?  \n",
            "–Vesting, cliffs, and change of control  \n",
            "–Trends in increasing issuance size  \n",
            "–Dilution  \n",
            "–Video: Class on Employee Equity\n",
            "Page Number : Page42\n",
            "Content : Resources & Further Reading  \n",
            "•Andy Rachleff  / Wealthfront  materials  \n",
            "–The Wealthfront  startup equity plan  \n",
            "–The Wealthfront  equity tool for benchmarking startup options \n",
            "packages  \n",
            "•Sam Altman and Paul Graham / Y -Combinator  \n",
            "–Why employees don’t get enough options  \n",
            "–The “Equity Equation”  \n",
            "•Startup Lawyer  \n",
            "–Vesting\n",
            "Page Number : Page43\n",
            "CPU times: user 1.87 ms, sys: 5 µs, total: 1.87 ms\n",
            "Wall time: 1.88 ms\n"
          ]
        }
      ]
    },
    {
      "cell_type": "code",
      "source": [
        "out"
      ],
      "metadata": {
        "colab": {
          "base_uri": "https://localhost:8080/",
          "height": 139
        },
        "id": "BjqMcbbYiKI3",
        "outputId": "5823a2d3-d2fa-49be-fcc9-bd85e99d54a4"
      },
      "execution_count": 78,
      "outputs": [
        {
          "output_type": "execute_result",
          "data": {
            "text/plain": [
              "'{\"response\": {\"Query\": \"what is a neccessary Part of the Capital Structure according to Fred Wilson?\", \"Answer\": \"According to Fred Wilson, a necessary part of the capital structure is employee equity or ESOPs (Employee Stock Ownership Plans). He states, \\\\\"I can\\'t think of a term sheet that we have issued that didn\\'t have a specific provision for employee equity.\\\\\" This suggests that offering stock options to employees is a prerequisite for venture capitalists when closing a deal.\", \"Referrences\": [\"A Necessary Part of the Capital Structure  \\\\n\\\\u2022Venture capitalists require ESOPs . For many VCs, establishing a \\\\nstock option pool is a prerequisite to closing a deal  \\\\n\\\\u2013In an industry where options are ubiquitous, startups are compelled \\\\nto offer options packages to compete for top talent with other \\\\nventure -backed companies  \\\\n\\\\u2013When operating budgets are tight, competitive compensation \\\\npackages may not be possible; options can be used to incentivize \\\\nemployees instead of cash  \\\\nI can\\'t think of a term sheet that we have issued that didn\\'t have a \\\\nspecific provision for employee equity.  \\\\nFred Wilson, Union Square Ventures\", \"The Top -Down Process  \\\\n1.Determine how much equity to set aside for non -founder employees  \\\\n2.Create a schedule of how this equity will be distributed over time\", \"Resources & Further Reading  \\\\n\\\\u2022Fred Wilson / Union Square Ventures Series on Employee Equity  \\\\n\\\\u2013What are options?  \\\\n\\\\u2013Structures and allocations  \\\\n\\\\u2013How many options to issue?  \\\\n\\\\u2013Vesting, cliffs, and change of control  \\\\n\\\\u2013Trends in increasing issuance size  \\\\n\\\\u2013Dilution  \\\\n\\\\u2013Video: Class on Employee Equity\", \"Resources & Further Reading  \\\\n\\\\u2022Andy Rachleff  / Wealthfront  materials  \\\\n\\\\u2013The Wealthfront  startup equity plan  \\\\n\\\\u2013The Wealthfront  equity tool for benchmarking startup options \\\\npackages  \\\\n\\\\u2022Sam Altman and Paul Graham / Y -Combinator  \\\\n\\\\u2013Why employees don\\\\u2019t get enough options  \\\\n\\\\u2013The \\\\u201cEquity Equation\\\\u201d  \\\\n\\\\u2022Startup Lawyer  \\\\n\\\\u2013Vesting\"], \"Page Numbers\": [\"Page10\", \"Page15\", \"Page42\", \"Page43\"]}}'"
            ],
            "application/vnd.google.colaboratory.intrinsic+json": {
              "type": "string"
            }
          },
          "metadata": {},
          "execution_count": 78
        }
      ]
    },
    {
      "cell_type": "code",
      "source": [
        "print(out)"
      ],
      "metadata": {
        "colab": {
          "base_uri": "https://localhost:8080/"
        },
        "id": "dEo45ntriKw6",
        "outputId": "85835edc-328c-4f19-abe9-07345e108288"
      },
      "execution_count": 73,
      "outputs": [
        {
          "output_type": "stream",
          "name": "stdout",
          "text": [
            "{\"response\": {\"Query\": \"what did fred wilson say about capital structure?\", \"Answer\": \"Fred Wilson said that establishing a stock option pool is a prerequisite to closing a deal for venture capitalists. He also mentioned that he can't think of a term sheet that they have issued that didn't have a specific provision for employee equity.\", \"Referrences\": [\"Resources & Further Reading  \\n\\u2022Fred Wilson / Union Square Ventures Series on Employee Equity  \\n\\u2013What are options?  \\n\\u2013Structures and allocations  \\n\\u2013How many options to issue?  \\n\\u2013Vesting, cliffs, and change of control  \\n\\u2013Trends in increasing issuance size  \\n\\u2013Dilution  \\n\\u2013Video: Class on Employee Equity\", \"A Necessary Part of the Capital Structure  \\n\\u2022Venture capitalists require ESOPs . For many VCs, establishing a \\nstock option pool is a prerequisite to closing a deal  \\n\\u2013In an industry where options are ubiquitous, startups are compelled \\nto offer options packages to compete for top talent with other \\nventure -backed companies  \\n\\u2013When operating budgets are tight, competitive compensation \\npackages may not be possible; options can be used to incentivize \\nemployees instead of cash  \\nI can't think of a term sheet that we have issued that didn't have a \\nspecific provision for employee equity.  \\nFred Wilson, Union Square Ventures\", \"The Top -Down Process  \\n1.Determine how much equity to set aside for non -founder employees  \\n2.Create a schedule of how this equity will be distributed over time\", \"Resources & Further Reading  \\n\\u2022Andy Rachleff  / Wealthfront  materials  \\n\\u2013The Wealthfront  startup equity plan  \\n\\u2013The Wealthfront  equity tool for benchmarking startup options \\npackages  \\n\\u2022Sam Altman and Paul Graham / Y -Combinator  \\n\\u2013Why employees don\\u2019t get enough options  \\n\\u2013The \\u201cEquity Equation\\u201d  \\n\\u2022Startup Lawyer  \\n\\u2013Vesting\"], \"Page Numbers\": [\"Page42\", \"Page10\", \"Page15\", \"Page43\"]}}\n"
          ]
        }
      ]
    },
    {
      "cell_type": "code",
      "source": [],
      "metadata": {
        "id": "WvjH3JWSEYcP"
      },
      "execution_count": null,
      "outputs": []
    }
  ]
}