{
  "nbformat": 4,
  "nbformat_minor": 0,
  "metadata": {
    "colab": {
      "provenance": [],
      "include_colab_link": true
    },
    "kernelspec": {
      "name": "python3",
      "display_name": "Python 3"
    },
    "language_info": {
      "name": "python"
    }
  },
  "cells": [
    {
      "cell_type": "markdown",
      "metadata": {
        "id": "view-in-github",
        "colab_type": "text"
      },
      "source": [
        "<a href=\"https://colab.research.google.com/github/plaban1981/Langchain_usecases/blob/main/YT_16k_Arxiv_Papers_Langchain.ipynb\" target=\"_parent\"><img src=\"https://colab.research.google.com/assets/colab-badge.svg\" alt=\"Open In Colab\"/></a>"
      ]
    },
    {
      "cell_type": "code",
      "execution_count": null,
      "metadata": {
        "id": "RRYSu48huSUW",
        "colab": {
          "base_uri": "https://localhost:8080/"
        },
        "outputId": "433565f1-26f8-4e41-e575-1c430e00b0a0"
      },
      "outputs": [
        {
          "output_type": "stream",
          "name": "stdout",
          "text": [
            "\u001b[2K     \u001b[90m━━━━━━━━━━━━━━━━━━━━━━━━━━━━━━━━━━━━━━━━\u001b[0m \u001b[32m1.0/1.0 MB\u001b[0m \u001b[31m16.7 MB/s\u001b[0m eta \u001b[36m0:00:00\u001b[0m\n",
            "\u001b[2K     \u001b[90m━━━━━━━━━━━━━━━━━━━━━━━━━━━━━━━━━━━━━━━━\u001b[0m \u001b[32m73.6/73.6 kB\u001b[0m \u001b[31m6.4 MB/s\u001b[0m eta \u001b[36m0:00:00\u001b[0m\n",
            "\u001b[2K     \u001b[90m━━━━━━━━━━━━━━━━━━━━━━━━━━━━━━━━━━━━━━━━\u001b[0m \u001b[32m1.7/1.7 MB\u001b[0m \u001b[31m26.5 MB/s\u001b[0m eta \u001b[36m0:00:00\u001b[0m\n",
            "\u001b[2K     \u001b[90m━━━━━━━━━━━━━━━━━━━━━━━━━━━━━━━━━━━━━━━━\u001b[0m \u001b[32m1.0/1.0 MB\u001b[0m \u001b[31m59.4 MB/s\u001b[0m eta \u001b[36m0:00:00\u001b[0m\n",
            "\u001b[2K     \u001b[90m━━━━━━━━━━━━━━━━━━━━━━━━━━━━━━━━━━━━━━━━\u001b[0m \u001b[32m90.0/90.0 kB\u001b[0m \u001b[31m7.2 MB/s\u001b[0m eta \u001b[36m0:00:00\u001b[0m\n",
            "\u001b[2K     \u001b[90m━━━━━━━━━━━━━━━━━━━━━━━━━━━━━━━━━━━━━━\u001b[0m \u001b[32m114.5/114.5 kB\u001b[0m \u001b[31m11.7 MB/s\u001b[0m eta \u001b[36m0:00:00\u001b[0m\n",
            "\u001b[2K     \u001b[90m━━━━━━━━━━━━━━━━━━━━━━━━━━━━━━━━━━━━━━\u001b[0m \u001b[32m268.8/268.8 kB\u001b[0m \u001b[31m17.5 MB/s\u001b[0m eta \u001b[36m0:00:00\u001b[0m\n",
            "\u001b[2K     \u001b[90m━━━━━━━━━━━━━━━━━━━━━━━━━━━━━━━━━━━━━━\u001b[0m \u001b[32m149.6/149.6 kB\u001b[0m \u001b[31m14.6 MB/s\u001b[0m eta \u001b[36m0:00:00\u001b[0m\n",
            "\u001b[2K     \u001b[90m━━━━━━━━━━━━━━━━━━━━━━━━━━━━━━━━━━━━━━━━\u001b[0m \u001b[32m49.1/49.1 kB\u001b[0m \u001b[31m4.2 MB/s\u001b[0m eta \u001b[36m0:00:00\u001b[0m\n",
            "\u001b[?25hLooking in indexes: https://pypi.org/simple, https://us-python.pkg.dev/colab-wheels/public/simple/\n",
            "Collecting arxiv\n",
            "  Downloading arxiv-1.4.7-py3-none-any.whl (12 kB)\n",
            "Collecting PyPDF2\n",
            "  Downloading pypdf2-3.0.1-py3-none-any.whl (232 kB)\n",
            "\u001b[2K     \u001b[90m━━━━━━━━━━━━━━━━━━━━━━━━━━━━━━━━━━━━━━━\u001b[0m \u001b[32m232.6/232.6 kB\u001b[0m \u001b[31m5.6 MB/s\u001b[0m eta \u001b[36m0:00:00\u001b[0m\n",
            "\u001b[?25hCollecting feedparser (from arxiv)\n",
            "  Downloading feedparser-6.0.10-py3-none-any.whl (81 kB)\n",
            "\u001b[2K     \u001b[90m━━━━━━━━━━━━━━━━━━━━━━━━━━━━━━━━━━━━━━━━\u001b[0m \u001b[32m81.1/81.1 kB\u001b[0m \u001b[31m8.2 MB/s\u001b[0m eta \u001b[36m0:00:00\u001b[0m\n",
            "\u001b[?25hCollecting sgmllib3k (from feedparser->arxiv)\n",
            "  Downloading sgmllib3k-1.0.0.tar.gz (5.8 kB)\n",
            "  Preparing metadata (setup.py) ... \u001b[?25l\u001b[?25hdone\n",
            "Building wheels for collected packages: sgmllib3k\n",
            "  Building wheel for sgmllib3k (setup.py) ... \u001b[?25l\u001b[?25hdone\n",
            "  Created wheel for sgmllib3k: filename=sgmllib3k-1.0.0-py3-none-any.whl size=6046 sha256=01b1b9cba05ea31c9fd7bfac45d35c830a28af3506a501d0207c4f1570009e81\n",
            "  Stored in directory: /root/.cache/pip/wheels/f0/69/93/a47e9d621be168e9e33c7ce60524393c0b92ae83cf6c6e89c5\n",
            "Successfully built sgmllib3k\n",
            "Installing collected packages: sgmllib3k, PyPDF2, feedparser, arxiv\n",
            "Successfully installed PyPDF2-3.0.1 arxiv-1.4.7 feedparser-6.0.10 sgmllib3k-1.0.0\n"
          ]
        }
      ],
      "source": [
        "!pip -q install langchain openai tiktoken\n",
        "!pip install arxiv PyPDF2"
      ]
    },
    {
      "cell_type": "code",
      "source": [
        "import os\n",
        "\n",
        "os.environ[\"OPENAI_API_KEY\"] = \"\""
      ],
      "metadata": {
        "id": "dNA4TsHpu6OM"
      },
      "execution_count": null,
      "outputs": []
    },
    {
      "cell_type": "code",
      "source": [
        "!pip show langchain"
      ],
      "metadata": {
        "id": "J-KFB7J_u_3L",
        "colab": {
          "base_uri": "https://localhost:8080/"
        },
        "outputId": "3d68d054-c222-427c-8640-8012fb646336"
      },
      "execution_count": null,
      "outputs": [
        {
          "output_type": "stream",
          "name": "stdout",
          "text": [
            "Name: langchain\n",
            "Version: 0.0.201\n",
            "Summary: Building applications with LLMs through composability\n",
            "Home-page: https://www.github.com/hwchase17/langchain\n",
            "Author: \n",
            "Author-email: \n",
            "License: MIT\n",
            "Location: /usr/local/lib/python3.10/dist-packages\n",
            "Requires: aiohttp, async-timeout, dataclasses-json, langchainplus-sdk, numexpr, numpy, openapi-schema-pydantic, pydantic, PyYAML, requests, SQLAlchemy, tenacity\n",
            "Required-by: \n"
          ]
        }
      ]
    },
    {
      "cell_type": "markdown",
      "source": [
        "# Arxiv Paper Summarizer\n",
        "\n",
        "1. download the paper as pdf or latext\n",
        "2. reads it in in one shot\n",
        "3. makes a summary\n"
      ],
      "metadata": {
        "id": "HqwsGJDhvAQ5"
      }
    },
    {
      "cell_type": "markdown",
      "source": [
        "### If getting a 403 error you will need to manually download the PDF"
      ],
      "metadata": {
        "id": "e61k19JNPwDg"
      }
    },
    {
      "cell_type": "code",
      "source": [
        "THE_PAPER = \"https://arxiv.org/abs/2305.10601\" #\"https://arxiv.org/abs/2305.16291\" #"
      ],
      "metadata": {
        "id": "IVMk9b4MFSAP"
      },
      "execution_count": null,
      "outputs": []
    },
    {
      "cell_type": "code",
      "source": [
        "import os\n",
        "import requests\n",
        "\n",
        "def download_arxiv_pdf(arxiv_url, directory=\"papers\"):\n",
        "    # extract paper id from URL\n",
        "    paper_id = arxiv_url.split('/')[-1]\n",
        "    pdf_url = f\"https://arxiv.org/pdf/{paper_id}.pdf\"\n",
        "\n",
        "    # make directory if it doesn't exist\n",
        "    if not os.path.exists(directory):\n",
        "        os.makedirs(directory)\n",
        "\n",
        "    response = requests.get(pdf_url)\n",
        "\n",
        "    # ensure the request was successful\n",
        "    if response.status_code == 200:\n",
        "        pdf_path = f\"{directory}/{paper_id}.pdf\"\n",
        "        with open(f\"{directory}/{paper_id}.pdf\", 'wb') as f:\n",
        "            f.write(response.content)\n",
        "        return pdf_path\n",
        "    else:\n",
        "        print(f\"Error: Unable to download the paper. Status code {response.status_code}\")\n",
        "\n",
        "\n",
        "# Example usage\n",
        "PAPER_PATH = download_arxiv_pdf(THE_PAPER)\n"
      ],
      "metadata": {
        "id": "N0trHRHjFy-S",
        "colab": {
          "base_uri": "https://localhost:8080/"
        },
        "outputId": "a8775bf8-2154-47ca-b28d-bc56ac9c89ec"
      },
      "execution_count": null,
      "outputs": [
        {
          "output_type": "stream",
          "name": "stdout",
          "text": [
            "Error: Unable to download the paper. Status code 403\n"
          ]
        }
      ]
    },
    {
      "cell_type": "code",
      "source": [
        "PAPER_PATH= \"/content/2305.10601.pdf\""
      ],
      "metadata": {
        "id": "WmAuTPfwQCLe"
      },
      "execution_count": null,
      "outputs": []
    },
    {
      "cell_type": "markdown",
      "source": [
        "## PDF Text Extraction"
      ],
      "metadata": {
        "id": "4RacPGvAK0GR"
      }
    },
    {
      "cell_type": "code",
      "source": [
        "from PyPDF2 import PdfReader\n",
        "import tiktoken\n",
        "\n",
        "reader = PdfReader(PAPER_PATH)"
      ],
      "metadata": {
        "id": "CZ_tMCkYIhO1"
      },
      "execution_count": null,
      "outputs": []
    },
    {
      "cell_type": "code",
      "source": [
        "print(f\"Number of pages: {len(reader.pages)}\")"
      ],
      "metadata": {
        "colab": {
          "base_uri": "https://localhost:8080/"
        },
        "id": "xCqijfhlMbMC",
        "outputId": "84fc86ee-cd42-48f9-dbdd-e4da82a6cb8f"
      },
      "execution_count": null,
      "outputs": [
        {
          "output_type": "stream",
          "name": "stdout",
          "text": [
            "Number of pages: 11\n"
          ]
        }
      ]
    },
    {
      "cell_type": "code",
      "source": [
        "reader.pages[5].extract_text"
      ],
      "metadata": {
        "colab": {
          "base_uri": "https://localhost:8080/"
        },
        "id": "8stz0O2tMlw9",
        "outputId": "6f920e1f-7214-4878-f752-567f481b6d18"
      },
      "execution_count": null,
      "outputs": [
        {
          "output_type": "execute_result",
          "data": {
            "text/plain": [
              "<bound method PageObject.extract_text of {'/Type': '/Page', '/Annots': [IndirectObject(188, 0, 140571611498480), IndirectObject(189, 0, 140571611498480), IndirectObject(230, 0, 140571611498480), IndirectObject(231, 0, 140571611498480), IndirectObject(232, 0, 140571611498480), IndirectObject(233, 0, 140571611498480), IndirectObject(234, 0, 140571611498480)], '/Contents': IndirectObject(237, 0, 140571611498480), '/MediaBox': [0, 0, 612, 792], '/Parent': IndirectObject(61, 0, 140571611498480), '/Resources': IndirectObject(235, 0, 140571611498480)}>"
            ]
          },
          "metadata": {},
          "execution_count": 19
        }
      ]
    },
    {
      "cell_type": "code",
      "source": [
        "parts = []\n",
        "\n",
        "def visitor_body(text, cm, tm, fontDict, fontSize):\n",
        "    y = tm[5]\n",
        "    if y > 50 and y < 720:\n",
        "        parts.append(text)\n",
        "\n",
        "for page in reader.pages:\n",
        "    # page = reader.pages[3]\n",
        "    page.extract_text(visitor_text=visitor_body)\n",
        "\n",
        "text_body = \"\".join(parts)\n",
        "\n",
        "print(text_body)"
      ],
      "metadata": {
        "colab": {
          "base_uri": "https://localhost:8080/"
        },
        "id": "RgvP0FyXMZYZ",
        "outputId": "f203ab67-f92c-4e28-db2d-2005fc923403"
      },
      "execution_count": null,
      "outputs": [
        {
          "output_type": "stream",
          "name": "stdout",
          "text": [
            "Tree of Thoughts: Deliberate Problem Solving\n",
            "with Large Language Models\n",
            "Shunyu Yao\n",
            "Princeton UniversityDian Yu\n",
            "Google DeepMindJeffrey Zhao\n",
            "Google DeepMindIzhak Shafran\n",
            "Google DeepMind\n",
            "Thomas L. Grifﬁths\n",
            "Princeton UniversityYuan Cao\n",
            "Google DeepMindKarthik Narasimhan\n",
            "Princeton University\n",
            "Abstract\n",
            "Language models are increasingly being deployed for general problem solving\n",
            "across a wide range of tasks, but are still conﬁned to token-level, left-to-right\n",
            "decision-making processes during inference. This means they can fall short in\n",
            "tasks that require exploration, strategic lookahead, or where initial decisions play\n",
            "a pivotal role. To surmount these challenges, we introduce a new framework for\n",
            "language model inference, “Tree of Thoughts” (ToT), which generalizes over the\n",
            "popular “Chain of Thought” approach to prompting language models, and enables\n",
            "exploration over coherent units of text (“thoughts”) that serve as intermediate steps\n",
            "toward problem solving. ToT allows LMs to perform deliberate decision making\n",
            "by considering multiple different reasoning paths and self-evaluating choices to\n",
            "decide the next course of action, as well as looking ahead or backtracking when\n",
            "necessary to make global choices. Our experiments show that ToT signiﬁcantly\n",
            "enhances language models’ problem-solving abilities on three novel tasks requiring\n",
            "non-trivial planning or search: Game of 24, Creative Writing, and Mini Crosswords.\n",
            "For instance, in Game of 24, while GPT-4 with chain-of-thought prompting only\n",
            "solved 4% of tasks, our method achieved a success rate of 74%. Code repo with all\n",
            "prompts: https://github.com/ysymyth/tree-of-thought-llm .\n",
            "1 Introduction\n",
            "Originally designed to generate text, scaled-up versions of language models (LMs) such as GPT [ 22,\n",
            "23,1,20] and PaLM [ 5] have been shown to be increasingly capable of performing an ever wider\n",
            "range of tasks requiring mathematical, symbolic, commonsense, and knowledge reasoning. It is\n",
            "perhaps surprising that underlying all this progress is still the original autoregressive mechanism for\n",
            "generating text, which makes token-level decisions one by one and in a left-to-right fashion. Is such\n",
            "a simple mechanism sufﬁcient for a LM to be built toward a general problem solver? If not, what\n",
            "problems would challenge the current paradigm, and what should be alternative mechanisms?\n",
            "The literature on human cognition provides some clues to answer these questions. Research on “dual\n",
            "process” models suggests that people have two modes in which they engage with decisions – a fast,\n",
            "automatic, unconscious mode (“System 1”) and a slow, deliberate, conscious mode (“System 2”)\n",
            "[27,28,13,12]. These two modes have previously been connected to a variety of mathematical\n",
            "models used in machine learning. For example, research on reinforcement learning in humans and\n",
            "other animals has explored the circumstances under which they engage in associative “model free”\n",
            "learning or more deliberative “model based” planning [ 6]. The simple associative token-level choices\n",
            "of LMs are also reminiscent of “System 1”, and thus might beneﬁt from augmentation by a more\n",
            "deliberate “System 2” planning process that (1) maintains and explores diverse alternatives for current\n",
            "Preprint. Under review.arXiv:2305.10601v1  [cs.CL]  17 May 2023Figure 1: Schematic illustrating various approaches to problem solving with LLMs. Each rectangle\n",
            "box represents a thought , which is a coherent language sequence that serves as an intermediate\n",
            "step toward problem solving. See concrete examples of how thoughts are generated, evaluated, and\n",
            "searched in Figures 2,4,6.\n",
            "choices instead of just picking one, and (2) evaluates its current status and actively looks ahead or\n",
            "backtracks to make more global decisions.\n",
            "To design such a planning process, we return to the origins of artiﬁcial intelligence (and cognitive\n",
            "science), drawing inspiration from the planning processes explored by Newell, Shaw, and Simon\n",
            "starting in the 1950s [ 18,19]. Newell and colleagues characterized problem solving [ 18] as search\n",
            "through a combinatorial problem space, represented as a tree. We thus propose the Tree of Thoughts\n",
            "(ToT) framework for general problem solving with language models. As Figure 1 illustrates, while\n",
            "existing methods (detailed below) sample continuous language sequences for problem solving, ToT\n",
            "actively maintains a tree of thoughts, where each thought is a coherent language sequence that serves\n",
            "as an intermediate step toward problem solving (Table 1). Such a high-level semantic unit allows the\n",
            "LM to self-evaluate the progress different intermediate thoughts make towards solving the problem\n",
            "through a deliberate reasoning process that is also instantiated in language (Figures 2,4,6). This\n",
            "implementation of search heuristics via LM self-evaluation and deliberation is novel, as previous\n",
            "search heuristics are either programmed or learned. Finally, we combine this language-based\n",
            "capability to generate and evaluate diverse thoughts with search algorithms, such as breadth-ﬁrst\n",
            "search (BFS) or depth-ﬁrst search (DFS), which allow systematic exploration of the tree of thoughts\n",
            "with lookahead and backtracking.\n",
            "Empirically, we propose three new problems that challenge existing LM inference methods even with\n",
            "the state-of-the-art language model, GPT-4 [ 20]: Game of 24, Creative Writing, and Crosswords\n",
            "(Table 1). These tasks require deductive, mathematical, commonsense, lexical reasoning abilities,\n",
            "and a way to incorporate systematic planning or search. We show ToT obtains superior results on\n",
            "all three tasks by being general and ﬂexible enough to support different levels of thoughts, different\n",
            "ways to generate and evaluate thoughts, and different search algorithms that adapt to the nature of\n",
            "different problems. We also analyze how such choices affect model performances via systematic\n",
            "ablations and discuss future directions to better train and use LMs.\n",
            "2 Background\n",
            "We ﬁrst formalize some existing methods that use large language models for problem-solving,\n",
            "which our approach is inspired by and later compared with. We use p\u0012to denote a pre-trained LM\n",
            "with parameters \u0012, and lowercase letters x;y;z;s;\u0001\u0001\u0001to denote a language sequence , i.e.x=\n",
            "(x[1];\u0001\u0001\u0001;x[n])where eachx[i]is a token, so that p\u0012(x) =Qn\n",
            "i=1p\u0012(x[i]jx[1:::i]). We use uppercase\n",
            "lettersS;\u0001\u0001\u0001to denote a collection of language sequences.\n",
            "Input-output (IO) prompting is the most common way to turn a problem input xinto outputywith\n",
            "LM:y\u0018p\u0012(yjpromptIO(x)), where promptIO(x)wraps inputxwith task instructions and/or few-\n",
            "shot input-output examples. For simplicity, let us denote pprompt\n",
            "\u0012(outputjinput ) =p\u0012(outputj\n",
            "prompt (input )), so that IO prompting can be formulated as y\u0018pIO\n",
            "\u0012(yjx)Chain-of-thought (CoT) prompting [35] was proposed to address cases where the mapping of\n",
            "inputxto outputyis non-trivial (e.g. when xis a math question and yis the ﬁnal numerical answer).\n",
            "The key idea is to introduce a chain of thoughtsz1;\u0001\u0001\u0001;znto bridgexandy, where each ziis a\n",
            "coherent language sequence that serves as a meaningful intermediate step toward problem solving\n",
            "(e.g.zicould be an intermediate equation for math QA). To solve problems with CoT, each thought\n",
            "zi\u0018pCoT\n",
            "\u0012(zijx;z1\u0001\u0001\u0001i\u00001)is sampled sequentially, then the output y\u0018pCoT\n",
            "\u0012(yjx;z1\u0001\u0001\u0001n). In\n",
            "practice, [z1\u0001\u0001\u0001n;y]\u0018pCoT\n",
            "\u0012(z1\u0001\u0001\u0001n;yjx)is sampled as a continuous language sequence, and the\n",
            "decomposition of thoughts (e.g. is each zia phrase, a sentence, or a paragraph) is left ambiguous.\n",
            "Self-consistency with CoT (CoT-SC) [33] is an ensemble approach that samples ki.i.d. chains\n",
            "of thought: [z(i)\n",
            "1\u0001\u0001\u0001n;y(i)]\u0018pCoT\n",
            "\u0012(z1\u0001\u0001\u0001n;yjx) (i= 1\u0001\u0001\u0001k), then returns the most frequent output:\n",
            "arg maxy#fijy(i)=yg. CoT-SC improves upon CoT, because there are generally different\n",
            "thought processes for the same problem (e.g. different ways to prove the same theorem), and the\n",
            "output decision can be more faithful by exploring a richer set of thoughts. However, within each\n",
            "chain there is no local exploration of different thought steps, and the “most frequent” heuristic only\n",
            "applies when the output space is limited (e.g. multi-choice QA).\n",
            "3 Tree of Thoughts: Deliberate Problem Solving with LM\n",
            "A genuine problem-solving process involves the repeated use of available informa-\n",
            "tion to initiate exploration, which discloses, in turn, more information until a way\n",
            "to attain the solution is ﬁnally discovered.—— Newell et al. [18]\n",
            "Research on human problem-solving suggests that people search through a combinatorial problem-\n",
            "space – a tree where the nodes represent partial solutions, and the branches correspond to operators\n",
            "that modify them [ 18,19]. Which branch to take is determined by heuristics that help to navigate the\n",
            "problem-space and guide the problem-solver towards a solution. This perspective highlights two key\n",
            "shortcomings of existing approaches that use LMs to solve general problems: 1) Locally, they do not\n",
            "explore different continuations within a thought process – the branches of the tree. 2) Globally, they\n",
            "do not incorporate any type of planning, lookahead, or backtracking to help evaluate these different\n",
            "options – the kind of heuristic-guided search that seems characteristic of human problem-solving.\n",
            "To address these shortcomings, we introduce Tree of Thoughts (ToT) , a paradigm that allows LMs to\n",
            "explore multiple reasoning paths over thoughts (Figure 1(c)). ToT frames any problem as a search\n",
            "over a tree, where each node is a states= [x;z1\u0001\u0001\u0001i]representing a partial solution with the input and\n",
            "the sequence of thoughts so far. A speciﬁc instantiation of ToT involves answering four questions:\n",
            "1. How to decompose the intermediate process into thought steps; 2. How to generate potential\n",
            "thoughts from each state; 3. How to heuristically evaluate states; 4. What search algorithm to use.\n",
            "1. Thought decomposition. While CoT samples thoughts coherently without explicit decomposition,\n",
            "ToT leverages problem properties to design and decompose intermediate thought steps. As Table 1\n",
            "shows, depending on different problems, a thought could be a couple of words (Crosswords), a line of\n",
            "equation (Game of 24), or a whole paragraph of writing plan (Creative Writing). In general, a thought\n",
            "should be “small” enough so that LMs can generate promising and diverse samples (e.g. generating\n",
            "a whole book is usually too “big” to be coherent), yet “big” enough so that LMs can evaluate its\n",
            "prospect toward problem solving (e.g. generating one token is usually too “small” to evaluate).\n",
            "2. Thought generator G(p\u0012;s;k).Given a tree state s= [x;z1\u0001\u0001\u0001i], we consider two strategies to\n",
            "generatekcandidates for the next thought step:\n",
            "(a)Sample i.i.d. thoughts from a CoT prompt (Creative Writing, Figure 4): z(j)\u0018\n",
            "pCoT\n",
            "\u0012(zi+1js) =pCoT\n",
            "\u0012(zi+1jx;z1\u0001\u0001\u0001i) (j= 1\u0001\u0001\u0001k). This works better when the thought\n",
            "space is rich (e.g. each thought is a paragraph), and i.i.d. samples lead to diversity;\n",
            "(b)Propose thoughts sequentially using a “propose prompt” (Game of 24, Figure 2; Crosswords,\n",
            "Figure 6): [z(1);\u0001\u0001\u0001;z(k)]\u0018ppropose\n",
            "\u0012(z(1\u0001\u0001\u0001k)\n",
            "i+1js). This works better when the thought\n",
            "space is more constrained (e.g. each thought is just a word or a line), so proposing different\n",
            "thoughts in the same context avoids duplication.\n",
            "3. State evaluator V(p\u0012;S).Given a frontier of different states, the state evaluator evaluates the\n",
            "progress they make towards solving the problem, serving as a heuristic for the search algorithm\n",
            "to determine which states to keep exploring and in which order. While heuristics are a standard\n",
            "learned (e.g. AlphaGo [ 26]). We propose a third alternative, by using the LM to deliberately reason\n",
            "about states. When applicable, such a deliberate heuristic can be more ﬂexible than programmed\n",
            "rules, and more sample-efﬁcient than learned models. Similar to the thought generator, we consider\n",
            "two strategies to evaluate states either independently or together:\n",
            "(a)Value each state independently: V(p\u0012;S)(s)\u0018pvalue\n",
            "\u0012(vjs)8s2S, where a value\n",
            "prompt reasons about the state sto generate a scalar value v(e.g. 1-10) or a classiﬁca-\n",
            "tion (e.g. sure/likely/impossible) that could be heuristically turned into a value. The basis\n",
            "of such evaluative reasoning can vary across problems and thought steps. In this work, we\n",
            "explore evaluation via few lookahead simulations (e.g. quickly conﬁrm that 5, 5, 14 can\n",
            "reach 24 via 5 + 5 + 14, or “hot l” can mean “inn” via ﬁlling “e” in “ ”) plus commonsense\n",
            "(e.g. 1 2 3 are too small to reach 24, or no word can start with “tzxc”). While the former\n",
            "might promote “good” states, the latter could help eliminate “bad” states. Such valuations\n",
            "do not need to be perfect, and only need to be approximately\n",
            "(b)Vote across states: V(p\u0012;S)(s) =1[s=s\u0003], where a “good” state s\u0003\u0018pvote\n",
            "\u0012(s\u0003jS)is\n",
            "voted out based on deliberately comparing different states in Sin a vote prompt. When\n",
            "problem success is harder to directly value (e.g. passage coherency), it is natural to to instead\n",
            "compare different partial solutions and vote for the most promising one. This is similar\n",
            "in spirit to a “step-wise” self-consistency strategy, i.e. cast “which state to explore” as a\n",
            "multi-choice QA, and use LM samples to vote for it.\n",
            "For both strategies, we could prompt the LM multiple times to aggregate the value or vote results to\n",
            "trade time/resource/cost for more faithful/robust heuristics.\n",
            "Algorithm 1 ToT-BFS(x;p\u0012;G;k;V;T;b )\n",
            "Require: Inputx, LMp\u0012, thought generator G()\n",
            "& size limitk, states evaluator V(), step limitT,\n",
            "breadth limit b.\n",
            "S0 fxg\n",
            "fort= 1;\u0001\u0001\u0001;Tdo\n",
            "S0\n",
            "t f[s;z]js2St\u00001;zt2G(p\u0012;s;k)g\n",
            "Vt V(p\u0012;S0\n",
            "t)\n",
            "St arg maxS\u001aS0\n",
            "t;jSj=bP\n",
            "s2SVt(s)\n",
            "end for\n",
            "returnG(p\u0012;arg maxs2STVT(s);1)Algorithm 2 ToT-DFS(s;t;p\u0012;G;k;V;T;v th)\n",
            "Require: Current state s, stept, LMp\u0012, thought\n",
            "generatorG()and size limit k, states evaluator\n",
            "V(), step limitT, thresholdvth\n",
            "ift>T then record output G(p\u0012;s;1)\n",
            "end if\n",
            "fors02G(p\u0012;s;k)do.sorted candidates\n",
            "ifV(p\u0012;fs0g)(s)>vthres then.pruning\n",
            "DFS(s0;t+ 1)\n",
            "end if\n",
            "end for\n",
            "4. Search algorithm. Finally, within the ToT framework, one can plug and play different search\n",
            "algorithms depending on the tree structure. We explore two relatively simple search algorithms and\n",
            "leave more advanced ones (e.g. A* [9], MCTS [2]) for future work:\n",
            "(a)Breadth-ﬁrst search (BFS) (Algorithm 1) maintains a set of the bmost promising states\n",
            "per step. This is used for Game of 24 and Creative Writing where the tree depth is limit\n",
            "(T\u00143), and initial thought steps can be evaluated and pruned to a small set ( b\u00145).\n",
            "(b)Depth-ﬁrst search (DFS) (Algorithm 2) explores the most promising state ﬁrst, until the\n",
            "ﬁnal output is reached ( t > T ), or the state evaluator deems it impossible to solve the\n",
            "problem from the current s(V(p\u0012;fsg)(s)\u0014vthfor a value threshold vth). In the latter\n",
            "case, the subtree from sispruned to trade exploration for exploitation. In both cases, DFS\n",
            "backtracks to the parent state of sto continue exploration.\n",
            "Conceptually, ToT has several beneﬁts as a method for general problem-solving with LMs: (1) Gener-\n",
            "ality. IO, CoT, CoT-SC, and self-reﬁnement can be seen as special cases of ToT (i.e. trees of limited\n",
            "depth and breadth; Figure 1). (2) Modularity. The base LM, as well as the thought decomposition,\n",
            "generation, evaluation, and search procedures can all be varied independently. (3) Adaptability .\n",
            "Different problem properties, LM capabilities, and resource constraints can be accommodated. (4)\n",
            "Convenience. No extra training is needed, just a pre-trained LM is sufﬁcient. The next section will\n",
            "show how these conceptual beneﬁts translate to strong empirical performance in different problems.\n",
            "4 Experiments\n",
            "We propose three tasks that are hard even when sampling from the state-of-the-art language model,\n",
            "Game of 24 Creative Writing 5x5 Crosswords\n",
            "Input 4 numbers (4 9 10 13) 4 random sentences 10 clues (h1. presented;..)\n",
            "Output An equation to reach 24\n",
            "(13-9)*(10-4)=24A passage of 4 paragraphs\n",
            "ending in the 4 sentences5x5 letters: SHOWN;\n",
            "WIRRA; A V AIL; ...\n",
            "Thoughts 3 intermediate equations\n",
            "(13-9=4 (left 4,4,10); 10-\n",
            "4=6 (left 4,6); 4*6=24)A short writing plan\n",
            "(1. Introduce a book that\n",
            "connects...)Words to ﬁll in for clues:\n",
            "(h1. shown; v5. naled; ...)\n",
            "#ToT steps 3 1 5-10 (variable)\n",
            "Table 1: Task overview. Input, output, thought examples are in blue.\n",
            "deliberate search in trees of thoughts (ToT) produces better results, and more importantly, interesting\n",
            "and promising new ways to use language models to solve problems requiring search or planning.\n",
            "Unless otherwise stated, we perform experiments using a Chat Completion mode GPT-41with a\n",
            "sampling temperature of 0.7.\n",
            "4.1 Game of 24\n",
            "Game of 24 is a mathematical reasoning challenge, where the goal is to use 4 numbers and basic\n",
            "arithmetic operations (+-*/) to obtain 24. For example, given input “4 9 10 13”, a solution output\n",
            "could be “(10 - 4) * (13 - 9) = 24”.\n",
            "ĵŝŝđæĦòˤĮòƅƜˤŝŤòŔŝʝˤˤˤʳʛʛʛĭĵŗòˤĦđĮòŝʟʴɾɽˤɾʁʝˤɾɽˤ̌ˤɾʁˤ̐ˤɿʁʛˤŝũŗòʳĭĵŗòˤòƅÊĭŔĦòŝʴɾɽˤɾʀˤɾʀĎòŗòˤƓŝˤĮĵˤƀÊƆˤƘĵˤĵæŤÊđĮˤɿʁˤƀƓƜĎˤƛĎòŝòˤĮũĭæòŗŝʛˤđĭŔĵŝŝđæĦòĵŝŝđæĦòˤĮòƅƜˤŝŤòŔŝʝˤˤˤʳʛʛʛĭĵŗòˤĦđĮòŝʟʴɾɽˤɾʁʝˤɾɽˤ̌ˤɾʁˤ̐ˤɿʁʛˤŝũŗòʳĭĵŗòˤòƅÊĭŔĦòŝʴɾɽˤɾʀˤɾʀƘĵˤĵæŤÊđĮˤɿʁˤƀƓƜĎˤƛĎòŝòˤæƓĈˤĮũĭæòŗŝʛˤđĭŔĵŝŝđæĦòʳĵĮòˤòƅÊĭŔĦòʴˤGĮŔũƜʝˤʁˤʆˤɾɽˤɾʀĵŝŝđæĦòˤĮòƅƜˤŝŤòŔŝʝˤˤˤ3URSRVH\u00033URPSWʁˤ̌ˤʆˤ̐ˤɾʀˤʱĦòƙƜʝˤɾɽˤɾʀˤɾʀʲɾɽˤˊˤʁˤ̐ˤʃˤʱĦòƙƜʝˤʃˤʆˤɾʀʲʳʛʛʛĭĵŗòˤĦđĮòŝʟʴ7KRXJKW\u0003*HQHUDWLRQ/0)ſÊĦũÊŤòˤđƙˤĈƓſòĮˤĮũĭæòŗŝˤçÊĮˤŗòÊçĎˤɿʁˤʱŝũŗòʫĦđģòĦƆʫđĭŔĵŝŝđæĦòʲɾɽˤɾʁʝˤɾɽˤ̌ˤɾʁˤ̐ˤɿʁʛˤŝũŗòʳĭĵŗòˤòƅÊĭŔĦòŝʴɾɽˤɾʀˤɾʀ9DOXH\u00033URPSWʱɾʀˤˊˤɾɽʲˤʦˤɾʀˤ̐ˤʀˤʦˤɾʀˤ̐ˤʀʆɾɽˤ̌ˤɾʀˤ̌ˤɾʀˤ̐ˤʀʃĎòŗòˤƓŝˤĮĵˤƀÊƆˤƘĵˤĵæŤÊđĮˤɿʁˤƀƓƜĎˤƛĎòŝòˤĮũĭæòŗŝʛˤđĭŔĵŝŝđæĦò7KRXJKW\u0003(YDOXDWLRQʱæʲʱçʲ/0GĮŔũƜʝˤʁˤʆˤɾɽˤɾʀʁ̌ʆ̐ɾʀʱĦòƙƜʝˤɾɽˤɾʀˤɾʀʲɾɽˁʁ̐ʃʱĦòƙƜʝˤʃˤʆˤɾʀʲʟʟɾʀˁʃ̐ʄʱĦòƙƜʝˤʄˤʆʲɾʀˁʆ̐ʁʱĦòƙƜʝˤʁˤʃʲʟʟʁʦʃ̐ɿʁʱĦòƙƜʝˤɿʁʲʁ̌ʃ̐ɾɽʱĦòƙƜʝˤɾɽʲʟʟʱÊʲ\n",
            "ʳĵĮòˤòƅÊĭŔĦòʴˤGĮŔũƜʝˤʁˤʆˤɾɽˤɾʀĵŝŝđæĦòˤĮòƅƜˤŝŤòŔŝʝˤˤˤ\u000bD\f\u00033URSRVH\u00033URPSWʁˤ̌ˤʆˤ̐ˤɾʀˤʱĦòƙƜʝˤɾɽˤɾʀˤɾʀʲɾɽˤˊˤʁˤ̐ˤʃˤʱĦòƙƜʝˤʃˤʆˤɾʀʲʳʛʛʛĭĵŗòˤĦđĮòŝʟʴ7KRXJKW\u0003*HQHUDWLRQ/0)ſÊĦũÊŤòˤđƙˤĈƓſòĮˤĮũĭæòŗŝˤçÊĮˤŗòÊçĎˤɿʁˤʱŝũŗòʫĦđģòĦƆʫđĭŔĵŝŝđæĦòʲɾɽˤɾʁʝˤɾɽˤ̌ˤɾʁˤ̐ˤɿʁʛˤŝũŗòʳĭĵŗòˤòƅÊĭŔĦòŝʴɾɽˤɾʀˤɾʀ\u000bE\f\u00039DOXH\u00033URPSWʱɾʀˤˊˤɾɽʲˤʦˤɾʀˤ̐ˤʀˤʦˤɾʀˤ̐ˤʀʆɾɽˤ̌ˤɾʀˤ̌ˤɾʀˤ̐ˤʀʃˤĎòŗòˤƓŝˤĮĵˤƀÊƆˤƘĵˤĵæŤÊđĮˤɿʁˤƀƓƜĎˤƛĎòŝòˤæƓĈˤĮũĭæòŗŝʛˤđĭŔĵŝŝđæĦò7KRXJKW\u0003(YDOXDWLRQ/0GĮŔũƜʝˤʁˤʆˤɾɽˤɾʀʁ̌ʆ̐ɾʀʱĦòƙƜʝˤɾɽˤɾʀˤɾʀʲɾɽˁʁ̐ʃʱĦòƙƜʝˤʃˤʆˤɾʀʲʟʟɾʀˁʃ̐ʄʱĦòƙƜʝˤʄˤʆʲɾʀˁʆ̐ʁʱĦòƙƜʝˤʁˤʃʲʟʟʁʦʃ̐ɿʁʱĦòƙƜʝˤɿʁʲʁ̌ʃ̐ɾɽʱĦòƙƜʝˤɾɽʲʟʟ)L[\u0003FRORU\u0003\u000bE\\\u0003<XTLDQ\f0DUN\u0003GLII\u0003SURPSW\u0003ZLWK\u0003FRORU\n",
            "Figure 2: ToT in a game of 24. The LM is prompted for (a) thought generation and (b) valuation.\n",
            "Task Setup. We scrape data from 4nums.com, which has 1,362 games that are sorted from easy to\n",
            "hard by human solving time, and use a subset of relatively hard games indexed 901-1,000 for testing.\n",
            "For each task, we consider the output as success if it is a valid equation that equals 24 and uses the\n",
            "input numbers each exactly once. We report the success rate across 100 games as the metric.\n",
            "Baselines. We use a standard input-output (IO) prompt with 5 in-context examples. For chain-of-\n",
            "thought (CoT) prompting, we augment each input-output pair with 3 intermediate equations, each\n",
            "operating on two remaining numbers. For example, given input “4 9 10 13”, the thoughts could be\n",
            "“13 - 9 = 4 (left: 4 4 10); 10 - 4 = 6 (left: 4 6); 4 * 6 = 24 (left: 24)”. For each game, we sample IO\n",
            "and CoT prompting for 100 times for average performance. We also consider a CoT self-consistency\n",
            "baseline, which takes the majority output from 100 CoT samples, and an iterative-reﬁne approach on\n",
            "top of an IO sample for at most 10iterations. At each iteration, the LM is conditioned on all previous\n",
            "history to “reﬂect on your mistakes and generate a reﬁned answer” if the output is incorrect. Note\n",
            "that it uses groundtruth feedback signals about equation correctness.\n",
            "ToT Setup. To frame Game of 24 into ToT, it is natural to decompose the thoughts into 3 steps,\n",
            "each an intermediate equation. As shown in Figure 2(a), at each tree node, we exact the “left”\n",
            "numbers and prompt the LM to propose some possible next steps. The same “propose prompt” is\n",
            "used for all 3 thought steps, though it only has one example with 4 input numbers. We perform a\n",
            "breadth-ﬁrst search (BFS) in ToT, where at each step we keep the best b= 5candidates. To perform\n",
            "deliberate BFS in ToT, as shown in Figure 2(b), we prompt LM to evaluate each thought candidate as\n",
            "“sure/maybe/impossible” with regard to reaching 24. The aim is to promote correct partial solutions\n",
            "that can be verdicted within few lookahead trials, and eliminate impossible partial solutions based on\n",
            "“too big/small” commonsense, and keep the rest “maybe”. We sample values 3times for each thought.\n",
            "1Experiments were done between May 5-16, 2023.Method Success\n",
            "IO prompt 7.3%\n",
            "CoT prompt 4.0%\n",
            "CoT-SC (k=100) 9.0%\n",
            "ToT (ours) (b=1) 45%\n",
            "ToT (ours) (b=5) 74%\n",
            "IO + Reﬁne (k=10) 27%\n",
            "IO(best of 100) 33%\n",
            "CoT (best of 100) 49%\n",
            "Table 2: Game of 24 Results.\n",
            "0 25 50 75 1000.20.40.6(a) Success rate with nodes visited\n",
            "IO (best of k)\n",
            "CoT (best of k)\n",
            "ToT (b=1...5)\n",
            "1 2 3 4Correct0.00.20.40.6(b) Samples failed at each step\n",
            "CoT\n",
            "ToT (b=5) Figure 3: Game of 24 (a) scale analysis & (b) error analysis.\n",
            "Results. As shown in Table 2, IO, CoT, and CoT-SC prompting methods perform badly on the task,\n",
            "achieving only 7.3%, 4.0%, and 9.0% success rates. In contrast, ToT with a breadth of b= 1already\n",
            "achieves a success rate of 45%, whileb= 5 achieves 74%. We also consider an oracle setup for\n",
            "IO/CoT, by calculating the success rate using best of ksamples (1\u0014k\u0014100) . To compare IO/CoT\n",
            "(best of k) with ToT, we consider calculating the tree nodes visited per task in ToT across b= 1\u0001\u0001\u00015,\n",
            "and map the 5 success rates in Figure 3(a), treating IO/CoT (best of k) as visitingknodes in a bandit.\n",
            "Not surprisingly, CoT scales better than IO, and best of 100 CoT samples achieve a success rate of\n",
            "49%, but still much worse than exploring more nodes in ToT ( b>1).\n",
            "Error Analysis. Figure 3(b) breaks down at which step CoT and ToT samples fail the task, i.e. the\n",
            "thought (in CoT) or all bthoughts (in ToT) are invalid or impossible to reach 24. Notably, around\n",
            "60% of CoT samples already failed the task after generating the ﬁrst step, or equivalently, the ﬁrst\n",
            "three words (e.g. “ 4 + 9 ”). This highlights the issues with direct left-to-right decoding.\n",
            "4.2 Creative writing\n",
            "Next, we invent a creative writing task where the input is 4 random sentences and the output should\n",
            "be a coherent passage with 4 paragraphs that end in the 4 input sentences respectively. Such a task is\n",
            "open-ended and exploratory, and challenges creative thinking as well as high-level planning.\n",
            "Task setup. We sample random sentences from randomwordgenerator.com to form 100 inputs, and\n",
            "there is no groundtruth passage for each input constraint. As we ﬁnd that GPT-4 can follow the\n",
            "input constraints most of the time, we focus on evaluating passage coherency in two ways: using a\n",
            "GPT-4 zero-shot prompt to provide a 1-10 scalar score, or using human judgments to compare pairs\n",
            "of outputs from different methods. For the former, we sample 5 scores and average them for each task\n",
            "output, and we ﬁnd these 5 scores usually consistent, with a standard deviation of around 0:56on\n",
            "average across outputs. For the latter, we employ a subset of the authors in a blind study to compare\n",
            "the coherency of CoT vs. ToT generated passage pairs, where the order of passages is random ﬂipped\n",
            "over 100 inputs.\n",
            "Baselines. Given the creative nature of the task, both IO and CoT prompts are zero-shot. While the\n",
            "former prompts the LM to directly generate a coherent passage given input constraints, the latter\n",
            "prompts the LM to ﬁrst make a brief plan then write the passage, i.e. the plan serves as the intermediate\n",
            "thought step. We generate 10 IO and CoT samples per task. We also consider an iterative-reﬁne\n",
            "(k\u00145) method on top of a random IO sample for each task, where the LM is conditioned on input\n",
            "constraints and the last generated passage to decide if the passage is already “perfectly coherent”,\n",
            "and if not generate a reﬁned one.\n",
            "ToT setup. We build a ToT with depth 2 (and only 1 intermediate thought step) — the LM ﬁrst\n",
            "generatesk= 5plans and votes for the best one (Figure 4), then similarly generate k= 5passages\n",
            "based on the best plan then vote for the best one. Here the breadth limit b= 1, as only one choice is\n",
            "kept per step. A simple zero-shot vote prompt (“analyze choices below, then conclude which is most\n",
            "promising for the instruction”) is used to sample 5 votes at both steps.\n",
            "Results. Figure 5(a) shows average GPT-4 scores across 100 tasks, where ToT (7.56) is deemed to\n",
            "generate more coherent passages than IO (6.19) and CoT (6.93) on average. While such an automatic\n",
            "metric might be noisy, Figure 5(b) conﬁrms the ﬁnding by showing that humans prefer ToT over\n",
            "CoT in 41 out of 100 passage pairs, while only prefer CoT over ToT in 21 (other 38 pairs are found\n",
            ")ÊçĎˤŔòŗŝĵĮˤƀĎĵˤģĮĵƀŝˤƆĵũˤĎÊŝˤÊˤíđƙćòŗòĮƜˤŔòŗçòŔƜƓĵĮˤĵƙˤƀĎĵˤƆĵũˤÊŗòʛˤˤÊˤŝƓƜũÊƜƓĵĮˤƀĎòŗòˤÊˤƀĵĭÊĮˤũŝòŝˤŝƓĈĮˤĦÊĮĈũÊĈòˤƘĵˤÊſĵƓíˤũĮƀÊĮŤòíˤÊƜŤòĮƜƓĵĮˤʁʛˤĎòˤƚđĮÊĦˤŔÊŗÊĈŗÊŔĎˤòƅŔĦÊđĮŝˤĎĵƀˤòſòŗƆĵĮòˤĎÊŝˤíđƙćòŗòĮƜˤŔòŗçòŔƜƓĵĮŝˤĵƙˤĵƜĎòŗŝƚŗĵĭˤÊŝƜŗĵĮÊũŤŝʜˤđĮçĦũíđĮĈˤƛĎòˤŝĭòĦĦˤĵƙˤŝŔÊçòʛˤʀʛˤ#òŝçŗđæòˤÊˤƀĵĭÊĮ˙ŝˤçĦòſòŗˤƘÊçƜƓçˤƗĵŗˤÊſĵƓíđĮĈˤũĮƀÊĮŤòíˤÊƜŤòĮƜƓĵĮˤÊƜˤÊˤæÊŗʛˤʁʛˤ\u001dĵĮŤòĭŔĦÊŤòˤĎĵƀˤíđƙćòŗòĮƜˤŔòŗçòŔƜƓĵĮŝˤĵƙˤĵĮòŝòĦƙˤçÊĮˤŝĎÊŔòˤĵĮò˙ŝˤƓíòĮƜƓŤƆʛʱʀˤĭĵŗòˤĵĭƓƜŤòíʲŝòĦƙˊđĭŔŗĵſòĭòĮƜˤÊĮíˤòĭæŗÊçđĮĈˤçĎÊĦĦòĮĈòŝʜˤĭÊģđĮĈˤƗĵŗˤÊˤçĵĎòŗòĮƜˤŔÊŝŝÊĈòʛˤˤʳʛʛʛʴˤĎòˤæòŝƜˤçĎĵƓçòˤƓŝˤɿʛŝòĦƙˊđĭŔŗĵſòĭòĮƜˤÊĮíˤòĭæŗÊçđĮĈˤçĎÊĦĦòĮĈòŝʜˤĭÊģđĮĈˤƗĵŗˤÊˤçĵĎòŗòĮƜˤŔÊŝŝÊĈòʛˤˤʳʛʛʛʴˤĎòˤæòŝƜˤçĎĵƓçòˤƓŝˤɿʛŝòĦƙˊđĭŔŗĵſòĭòĮƜˤÊĮíˤòĭæŗÊçđĮĈˤçĎÊĦĦòĮĈòŝʜˤĭÊģđĮĈˤƗĵŗˤÊˤçĵĎòŗòĮƜˤŔÊŝŝÊĈòʛˤˤʳʛʛʛʴˤĎòˤæòŝƜˤçĎĵƓçòˤƓŝˤɿʛŝòĦƙˊđĭŔŗĵſòĭòĮƜˤÊĮíˤòĭæŗÊçđĮĈˤçĎÊĦĦòĮĈòŝʜˤĭÊģđĮĈˤƗĵŗˤÊˤçĵĎòŗòĮƜˤŔÊŝŝÊĈòʛˤˤʳʛʛʛʴˤĎòˤæòŝƜˤçĎĵƓçòˤƓŝˤɿʛŝòĦƙˊđĭŔŗĵſòĭòĮƜˤÊĮíˤòĭæŗÊçđĮĈˤçĎÊĦĦòĮĈòŝʜˤĭÊģđĮĈˤƗĵŗˤÊˤçĵĎòŗòĮƜˤŔÊŝŝÊĈòʛˤˤʳʛʛʛʴˤĎòˤæòŝƜˤçĎĵƓçòˤƓŝˤɿʛ)ÊçĎˤŔòŗŝĵĮˤƀĎĵˤģĮĵƀŝˤƆĵũˤĎÊŝˤÊˤíđƙćòŗòĮƜˤŔòŗçòŔƜƓĵĮˤĵƙˤƀĎĵˤƆĵũˤÊŗòʛˤˤŝŔÊçòˤʀʛˤ#òŝçŗđæòˤÊˤŝƓƜũÊƜƓĵĮˤƀĎòŗòˤÊˤƀĵĭÊĮˤũŝòŝˤŝƓĈĮˤĦÊĮĈũÊĈòˤƘĵˤÊſĵƓíˤũĮƀÊĮŤòíˤÊƜŤòĮƜƓĵĮˤʁʛˤĎòˤƚđĮÊĦˤŔÊŗÊĈŗÊŔĎˤòƅŔĦÊđĮŝˤĎĵƀˤòſòŗƆĵĮòˤĎÊŝˤíđƙćòŗòĮƜˤŔòŗçòŔƜƓĵĮŝˤĵƙˤĵƜĎòŗŝƛĎđĮĈŝˤĦòÊŗĮòíˤƚŗĵĭˤÊŝƜŗĵĮÊũŤŝʜˤđĮçĦũíđĮĈˤƛĎòˤŝĭòĦĦˤĵƙˤŝŔÊçòʛˤʀʛˤ#òŝçŗđæòˤÊˤƀĵĭÊĮ˙ŝˤçĦòſòŗˤƘÊçƜƓçˤƗĵŗˤÊſĵƓíđĮĈˤũĮƀÊĮŤòíˤÊƜŤòĮƜƓĵĮˤÊƜˤÊˤæÊŗʛˤʁʛˤ\u001dĵĮŤòĭŔĦÊŤòˤĎĵƀˤíđƙćòŗòĮƜˤŔòŗçòŔƜƓĵĮŝˤĵƙˤĵĮòŝòĦƙˤçÊĮˤŝĎÊŔòˤĵĮò˙ŝˤƓíòĮƜƓŤƆʛŝòĦƙˊđĭŔŗĵſòĭòĮƜˤÊĮíˤòĭæŗÊçđĮĈˤçĎÊĦĦòĮĈòŝʜˤĭÊģđĮĈˤƗĵŗˤÊˤçĵĎòŗòĮƜˤŔÊŝŝÊĈòʛˤˤʳʛʛʛʴˤĎòˤæòŝƜˤçĎĵƓçòˤƓŝˤɿʛʟʛʟʛɿʟʟŝòĦƙˊđĭŔŗĵſòĭòĮƜˤÊĮíˤòĭæŗÊçđĮĈˤçĎÊĦĦòĮĈòŝʜˤĭÊģđĮĈˤƗĵŗˤÊˤçĵĎòŗòĮƜˤŔÊŝŝÊĈòʛˤˤʳʛʛʛʴˤĎòˤæòŝƜˤçĎĵƓçòˤƓŝˤɿʛŝòĦƙˊđĭŔŗĵſòĭòĮƜˤÊĮíˤòĭæŗÊçđĮĈˤçĎÊĦĦòĮĈòŝʜˤĭÊģđĮĈˤƗĵŗˤÊˤçĵĎòŗòĮƜˤŔÊŝŝÊĈòʛˤˤʳʛʛʛʴˤĎòˤæòŝƜˤçĎĵƓçòˤƓŝˤɿʛŝòĦƙˊđĭŔŗĵſòĭòĮƜˤÊĮíˤòĭæŗÊçđĮĈˤçĎÊĦĦòĮĈòŝʜˤĭÊģđĮĈˤƗĵŗˤÊˤçĵĎòŗòĮƜˤŔÊŝŝÊĈòʛˤˤʳʛʛʛʴˤĎòˤæòŝƜˤçĎĵƓçòˤƓŝˤɿʛŝòĦƙˊđĭŔŗĵſòĭòĮƜˤÊĮíˤòĭæŗÊçđĮĈˤçĎÊĦĦòĮĈòŝʜˤĭÊģđĮĈˤƗĵŗˤÊˤçĵĎòŗòĮƜˤŔÊŝŝÊĈòʛˤˤʳʛʛʛʴˤĎòˤæòŝƜˤçĎĵƓçòˤƓŝˤɿʛFigure 4: A step of deliberate search in a randomly picked Creative Writing task. Given the input, the\n",
            "LM samples 5 different plans, then votes 5 times to decide which plan is best. The majority choice is\n",
            "used to consequently write the output passage with the same sample-vote procedure.\n",
            "IO CoT ToT IO\n",
            "+refineToT\n",
            "+refine468\n",
            "(a) GPT-4 coherency scores\n",
            "CoT > ToT Similar ToT > CoT010203040\n",
            "213841(b) Human coherency comparison\n",
            "Figure 5: Creative Writing results.Method Success Rate (%)\n",
            "Letter Word Game\n",
            "IO 38.7 14 0\n",
            "CoT 40.6 15.6 1\n",
            "ToT (ours) 78 60 20\n",
            "+best state 82.4 67.5 35\n",
            "-prune 65.4 41.5 5\n",
            "-backtrack 54.6 20 5\n",
            "Table 3: Mini Crosswords results.\n",
            "it improves IO coherency score from 6.19 to 7.67, and ToT coherency score from 7.56 to 7.91. We\n",
            "believe it could be thought of as a third approach to thought generation in the ToT framework, where\n",
            "new thoughts can arise from reﬁning old thoughts instead of i.i.d. or sequentially generated.\n",
            "4.3 Mini Crosswords\n",
            "In Game of 24 and Creative Writing, ToT is relatively shallow — at most 3 thought steps are needed\n",
            "to reach the ﬁnal output. Here we explore 5\u00025mini crosswords as a harder search problem involving\n",
            "natural language. Again, the goal is not just to solve the task, as more general crosswords can be\n",
            "readily solved with specialized NLP pipelines [ 31] that leverages large-scale retrieval instead of LM.\n",
            "Rather, we aim to explore the limit of LM as a general problem solver that explores its own thoughts\n",
            "and guides its own exploration with deliberate reasoning as heuristics.\n",
            "Task Setup. We scrape data from GooBix, which contains 156 games of 5\u00025mini crosswords. As\n",
            "we observe adjacent games contain similar clues, we use 20 games with indices 1;6;\u0001\u0001\u0001;91;96for\n",
            "testing, and games 136;141;146;151;156for prompting. For each task, the input describes the 5\n",
            "horizontal clues and 5 vertical clues, and the output should be a board of 5\u00025 = 25 letters to solve\n",
            "the crosswords. For evaluation, we consider three levels of success: the portion of correct letters (25\n",
            "per game), words (10 per game), and games.\n",
            "Baselines. We provide 5 example input-output pairs in the IO prompt, and in the CoT prompt\n",
            "additionally include intermediate words in the order h1..5 then v1..5. We run each prompt for 10\n",
            "samples and average the results.\n",
            "ToT Setup. We leverage a depth-ﬁrst search (Algorithm 2) that keeps exploring the most promising\n",
            "subsequent word clue until the state is no longer promising, then backtrack to the parent state to\n",
            "explore alternative thoughts. To make search tractable, subsequent thoughts are constrained not to\n",
            "change any ﬁlled words or letters, so that the ToT has at most 10 intermediate steps. For thought\n",
            "generation, at each state we translate all existing thoughts (e.g. “h2.motor; h1.tasks” for the state\n",
            "in Figure 6(a)) into letter constraints for remaining clues (e.g. “v1.To heap: tm ;...”) and prompt\n",
            "a proposal prompt 5times to come up with candidates for where and what to ﬁll in the next word.\n",
            "PHULW\n",
            "\u000f\u0003\u0013\u0011\u0017\f\u000f\u0003\u000b\n",
            "Y\u0014\u0011\u0003DOORZ\n",
            "\u000f\u0003\u0013\u0011\u0015\f\u000f\u0003\u000b\n",
            "Y\u0015\u0011\u0003JULQG\n",
            "\u000f\u0003\u0013\u0011\u0014\f\u000f\u0003\u000b\n",
            "K\u0017\u0011\u0003OHSHU\n",
            "\u000f\u0003\u0013\u0011\u0014\f@VFRUH\u000f\u0003DJJUHJDWHYLRODWH\u0016\u0011')6ˈˤˈˤˈˤˈˤˈFigure 6: In Mini Crosswords, (a) how thoughts are proposed and aggregated in a priority queue\n",
            "for depth-ﬁrst search (DFS), and (b) how a state is evaluated based on the possibility of ﬁlling in\n",
            "each remaining word clue, and pruned if any remaining clue is deemed not possible to ﬁll by the LM.\n",
            "Then DFS backtracks to the parent state and explore the next promising thought for clue.\n",
            "these across proposals to obtain a sorted list of next thoughts to explore (Figure 6(a)). For state\n",
            "evaluations, we similarly translate each state into letter constraints for remaining clues, then evaluate\n",
            "for each clue if it is possible to ﬁll given the constraints. If any remaining clue is deemed “impossible”\n",
            "to ﬁll in (e.g. “v1. To heap: tm s”), then the exploration of the state’s subtree is pruned and DFS\n",
            "backtracks to its parent to explore the next promising thought. We limit DFS search steps to 100, and\n",
            "simply render the deepest explored state (the ﬁrst explored one if multiple) into the ﬁnal output.\n",
            "Results. As shown in Table 3, IO and CoT prompting methods perform poorly with a word-level\n",
            "success rate less than 16%, while ToT signiﬁcantly improves all metrics, achieving a word-level\n",
            "success rate of 60% and solving 4 out of 20 games. Such an improvement is not surprising, given IO\n",
            "and CoT lack mechanisms to try different clues, make changes to decisions, or backtrack.\n",
            "Oracle and ablation studies. When outputting from the oracle best DFS state (instead of the\n",
            "heuristically determined best state) per task, ToT performance is even higher and actually solves\n",
            "7/20 games (Table 3, “+best state”), indicating our simple output heuristics can be readily improved.\n",
            "Interestingly, sometimes when the crosswords game is actually solved, the state evaluator might still\n",
            "deem some words as “impossible” and prune — possibly because 5\u00025crosswords by design have\n",
            "some rare or obselete words that GPT-4 cannot recognize2. Given the state evaluation as a pruning\n",
            "heuristic is imperfect, we also explore ablating the pruning, and ﬁnd the performance generally worse\n",
            "(Table 3, “-prune”). However, it could actually ﬁnd the correct solution for 4/20 games (though only\n",
            "outputting 1 via heuristic), 3 of which are games ToT+pruning cannot solve within 100 steps. Thus,\n",
            "better heuristics for DFS pruning are critical for problem solving in this case. Lastly, we conﬁrm the\n",
            "importance of backtracking by running an ablation that keeps ﬁlling the most promising clue for at\n",
            "most 20 steps, allowing overwrites. This is similar to a “greedy” BFS search with breadth limit of\n",
            "b= 1, and performs poorly with a word level success of only 20% (Table 3, “-backtrack”).\n",
            "5 Related Work\n",
            "Planning and decision making. Smart planning and decision making are critical to achieving\n",
            "predeﬁned goals. As they are trained on vast amount of world knowledge and human examples, LMs\n",
            "are known to have already absorbed rich commonsense that makes it possible to propose reasonable\n",
            "plans conditioned on problem setting and environmental states [ 10,39,34,11,32,38,37]. Our\n",
            "proposed Tree-of-Thought approach extends existing planning formulations by considering multiple\n",
            "potentially feasible plans simultaneously at each problem-solving step, and proceeding with the most\n",
            "promising ones. The integration between thought sampling and value feedback organically integrates\n",
            "planning and decision-making mechanisms, enabling effective search inside a solution tree. On the\n",
            "other hand, traditional decision-making procedures usually require training dedicated reward and\n",
            "policy models as in reinforcement learning (for example CHAI [ 30]), whereas we use the LM itself\n",
            "to provide the value estimates for decision making.\n",
            "2For example, “agend” is an obsolete form of “agendum”, but GPT-4 deems it a typo for “agenda”. External\n",
            "retrieval or web interaction could augment LM for problem solving under knowledge uncertainty.Self-reﬂection. Using LLMs to assess the viability of their own predictions is becoming an in-\n",
            "creasingly important procedure in problem solving. [ 25,17,21] introduced the “self-reﬂection”\n",
            "mechanism, in which LMs provide feedback to their generation candidates. [ 4] improves LMs code\n",
            "generation accuracy by injecting feedback messages generated by the LM itself based on its code\n",
            "execution results. Similarly, [ 14] also introduces “critic” or review steps over the actions and states,\n",
            "deciding the next action to take in solving computer operation tasks. Another recent work very\n",
            "relevant to ours is “self-eval guided decoding” [ 36]. Similar to our method, self-eval decoding\n",
            "also follows a tree-search procedure with leaves sampled from stochastic beam search decoding,\n",
            "which are then evaluated by LLM itself with carefully prepared self-eval prompts. Their approach\n",
            "however, uses the PAL formulation [ 7] which represents thoughts as codes, which makes it difﬁcult\n",
            "to tackle challenging tasks like creative writing which we consider in this paper. Our Tree-of-Thought\n",
            "formulation is thus more versatile and handles challenging tasks on which GPT-4 only achieves very\n",
            "low accuracy with standard prompts.\n",
            "Program-guided LLM generation. Our proposal is also related to recent advancements that or-\n",
            "ganize LM’s behavior with symbolic program guidance. For example [ 24] embeds LMs in an\n",
            "algorithmic search procedure to help solve problems like question answering step-by-step, in which\n",
            "the search trees are expanded by relevant paragraphs that might provide answers. This approach\n",
            "however differs from ours in that trees are expanded by sampling external paragraphs instead of the\n",
            "LM’s own thoughts, and there is no reﬂection or voting steps. Another approach, LLM+P [ 15], goes\n",
            "one step further and delegates the actual planning process to a classical planner.\n",
            "Classical search methods. Last but not least, our approach can be treated as a modern rendition\n",
            "of classical search methods for problem solving. For example it can be considered as a heuristic\n",
            "search algorithm like A* [ 8], in which the heuristic at each search node is provided by the LM’s\n",
            "self-assessment. From this perspective, our method is also related to NeuroLogic A*esque decoding\n",
            "proposed in [ 16], which is inspired by A* search but introduces look-ahead heuristics that are\n",
            "efﬁcient for LMs to improve the beam-search or top-k sampling decoding. This method however is\n",
            "constrained to sentence generation tasks, whereas our framework are designed for complex, multi-step\n",
            "problem solving guarded by value feedback.\n",
            "6 Discussion\n",
            "Limitations and future directions. Deliberate search such as ToT might not be necessary for\n",
            "many existing tasks that GPT-4 already excels at, and as an initial step this work only explores\n",
            "three relatively simple tasks that challenges GPT-4 and calls of better search and planning abilities\n",
            "incorporated with LMs. However, as we begin to deploy LMs for more real-world decision making\n",
            "applications (e.g. coding, data analysis, robotics, etc.), more complex tasks could emerge and present\n",
            "new opportunities to study these research questions. Also, search methods like ToT requires more\n",
            "resources (e.g. GPT-4 API cost) than sampling methods in order to improve task performances,\n",
            "but the modular ﬂexibility of ToT allows users to customize such performance-cost tradeoffs, and\n",
            "ongoing open-source efforts [ 29] should readily reduce such costs in the near future. Lastly, this work\n",
            "focuses on using an off-the-shelf LM, and ﬁne-tuning LMs using a ToT-style high-level counterfactual\n",
            "decision making (e.g. deliberating over potential choices for the next paragraph, instead of predicting\n",
            "the next token) might present opportunities to enhance the problem-solving capabilities of LMs.\n",
            "Broader impact. ToT is a framework that empowers LMs to more autonomously and intelligently\n",
            "make decisions and solve problems. While current tasks are limited to reasoning and search problems,\n",
            "future applications involving interaction with external environments or humans could bring potential\n",
            "danger, e.g. facilitating harmful uses of LMs. On the other hand, ToT also improves the interpretability\n",
            "of model decisions and the opportunity for human alignment, as the resulting representations are\n",
            "readable, high-level language reasoning instead of implicit, low-level token values.\n",
            "Conclusion. The associative “System 1” of LMs can be beneﬁcially augmented by a “System 2”\n",
            "based on searching a tree of possible paths to the solution to a problem. The Tree of Thoughts\n",
            "framework provides a way to translate classical insights about problem-solving into actionable\n",
            "methods for contemporary LMs. At the same time, LMs address a weakness of these classical\n",
            "methods, providing a way to solve complex problems that are not easily formalized, such as creative\n",
            "writing. We see this intersection of LMs with classical approaches to AI as an exciting direction for\n",
            "References\n",
            "[1]T. Brown, B. Mann, N. Ryder, M. Subbiah, J. D. Kaplan, P. Dhariwal, A. Neelakantan, P. Shyam,\n",
            "G. Sastry, A. Askell, et al. Language models are few-shot learners. Advances in neural\n",
            "information processing systems , 33:1877–1901, 2020.\n",
            "[2]C. Browne, E. J. Powley, D. Whitehouse, S. M. M. Lucas, P. I. Cowling, P. Rohlfshagen,\n",
            "S. Tavener, D. P. Liebana, S. Samothrakis, and S. Colton. A survey of monte carlo tree search\n",
            "methods. IEEE Transactions on Computational Intelligence and AI in Games , 4:1–43, 2012.\n",
            "[3]M. Campbell, A. J. Hoane Jr, and F.-h. Hsu. Deep blue. Artiﬁcial intelligence , 134(1-2):57–83,\n",
            "2002.\n",
            "[4]X. Chen, M. Lin, N. Sch ¨arli, and D. Zhou. Teaching large language models to self-debug, 2023.\n",
            "[5]A. Chowdhery, S. Narang, J. Devlin, M. Bosma, G. Mishra, A. Roberts, P. Barham, H. W.\n",
            "Chung, C. Sutton, S. Gehrmann, et al. Palm: Scaling language modeling with pathways. arXiv\n",
            "preprint arXiv:2204.02311 , 2022.\n",
            "[6]N. D. Daw, Y . Niv, and P. Dayan. Uncertainty-based competition between prefrontal and\n",
            "dorsolateral striatal systems for behavioral control. Nature neuroscience , 8(12):1704–1711,\n",
            "2005.\n",
            "[7]L. Gao, A. Madaan, S. Zhou, U. Alon, P. Liu, Y . Yang, J. Callan, and G. Neubig. Pal: Program-\n",
            "aided language models, 2023.\n",
            "[8]P. E. Hart, N. J. Nilsson, and B. Raphael. A formal basis for the heuristic determination of\n",
            "minimum cost paths. IEEE Transactions on Systems Science and Cybernetics , 4(2):100–107,\n",
            "1968. doi: 10.1109/TSSC.1968.300136.\n",
            "[9]P. E. Hart, N. J. Nilsson, and B. Raphael. A formal basis for the heuristic determination of\n",
            "minimum cost paths. IEEE transactions on Systems Science and Cybernetics , 4(2):100–107,\n",
            "1968.\n",
            "[10] W. Huang, P. Abbeel, D. Pathak, and I. Mordatch. Language models as zero-shot planners:\n",
            "Extracting actionable knowledge for embodied agents, 2022.\n",
            "[11] W. Huang, F. Xia, T. Xiao, H. Chan, J. Liang, P. Florence, A. Zeng, J. Tompson, I. Mordatch,\n",
            "Y . Chebotar, et al. Inner monologue: Embodied reasoning through planning with language\n",
            "models. arXiv preprint arXiv:2207.05608 , 2022.\n",
            "[12] D. Kahneman. Thinking, fast and slow . Macmillan, 2011.\n",
            "[13] D. Kahneman, S. Frederick, et al. Representativeness revisited: Attribute substitution in intuitive\n",
            "judgment. Heuristics and biases: The psychology of intuitive judgment , 49(49-81):74, 2002.\n",
            "[14] G. Kim, P. Baldi, and S. McAleer. Language models can solve computer tasks, 2023.\n",
            "[15] B. Liu, Y . Jiang, X. Zhang, Q. Liu, S. Zhang, J. Biswas, and P. Stone. Llm+p: Empowering\n",
            "large language models with optimal planning proﬁciency, 2023.\n",
            "[16] X. Lu, S. Welleck, P. West, L. Jiang, J. Kasai, D. Khashabi, R. L. Bras, L. Qin, Y . Yu,\n",
            "R. Zellers, N. A. Smith, and Y . Choi. Neurologic a*esque decoding: Constrained text generation\n",
            "with lookahead heuristics. In North American Chapter of the Association for Computational\n",
            "Linguistics , 2021.\n",
            "[17] A. Madaan, N. Tandon, P. Gupta, S. Hallinan, L. Gao, S. Wiegreffe, U. Alon, N. Dziri,\n",
            "S. Prabhumoye, Y . Yang, S. Welleck, B. P. Majumder, S. Gupta, A. Yazdanbakhsh, and P. Clark.\n",
            "Self-reﬁne: Iterative reﬁnement with self-feedback, 2023.\n",
            "[18] A. Newell, J. C. Shaw, and H. A. Simon. Report on a general problem solving program. In IFIP\n",
            "congress , volume 256, page 64. Pittsburgh, PA, 1959.\n",
            "[19] A. Newell, H. A. Simon, et al. Human problem solving[20] OpenAI. Gpt-4 technical report. ArXiv , abs/2303.08774, 2023.\n",
            "[21] D. Paul, M. Ismayilzada, M. Peyrard, B. Borges, A. Bosselut, R. West, and B. Faltings. Reﬁner:\n",
            "Reasoning feedback on intermediate representations, 2023.\n",
            "[22] A. Radford, K. Narasimhan, T. Salimans, I. Sutskever, et al. Improving language understanding\n",
            "by generative pre-training. OpenAI blog , 2018.\n",
            "[23] A. Radford, J. Wu, R. Child, D. Luan, D. Amodei, I. Sutskever, et al. Language models are\n",
            "unsupervised multitask learners. OpenAI blog , 1(8):9, 2019.\n",
            "[24] I. Schlag, S. Sukhbaatar, A. Celikyilmaz, W. tau Yih, J. Weston, J. Schmidhuber, and X. Li.\n",
            "Large language model programs, 2023.\n",
            "[25] N. Shinn, B. Labash, and A. Gopinath. Reﬂexion: an autonomous agent with dynamic memory\n",
            "and self-reﬂection, 2023.\n",
            "[26] D. Silver, J. Schrittwieser, K. Simonyan, I. Antonoglou, A. Huang, A. Guez, T. Hubert, L. Baker,\n",
            "M. Lai, A. Bolton, et al. Mastering the game of go without human knowledge. nature , 550\n",
            "(7676):354–359, 2017.\n",
            "[27] S. A. Sloman. The empirical case for two systems of reasoning. Psychological bulletin , 119(1):\n",
            "3, 1996.\n",
            "[28] K. E. Stanovich. Who is rational? Studies of individual differences in reasoning . Psychology\n",
            "Press, 1999.\n",
            "[29] H. Touvron, T. Lavril, G. Izacard, X. Martinet, M.-A. Lachaux, T. Lacroix, B. Rozi `ere, N. Goyal,\n",
            "E. Hambro, F. Azhar, et al. Llama: Open and efﬁcient foundation language models. arXiv\n",
            "preprint arXiv:2302.13971 , 2023.\n",
            "[30] S. Verma, J. Fu, S. Yang, and S. Levine. Chai: A chatbot ai for task-oriented dialogue with\n",
            "ofﬂine reinforcement learning. In Proceedings of the 2022 Conference of the North American\n",
            "Chapter of the Association for Computational Linguistics: Human Language Technologies ,\n",
            "pages 4471–4491, 2022.\n",
            "[31] E. Wallace, N. Tomlin, A. Xu, K. Yang, E. Pathak, M. Ginsberg, and D. Klein. Automated\n",
            "crossword solving. arXiv preprint arXiv:2205.09665 , 2022.\n",
            "[32] L. Wang, W. Xu, Y . Lan, Z. Hu, Y . Lan, R. K.-W. Lee, and E.-P. Lim. Plan-and-solve prompting:\n",
            "Improving zero-shot chain-of-thought reasoning by large language models, 2023.\n",
            "[33] X. Wang, J. Wei, D. Schuurmans, Q. Le, E. Chi, and D. Zhou. Self-consistency improves chain\n",
            "of thought reasoning in language models. arXiv preprint arXiv:2203.11171 , 2022.\n",
            "[34] Z. Wang, S. Cai, A. Liu, X. Ma, and Y . Liang. Describe, explain, plan and select: Interactive\n",
            "planning with large language models enables open-world multi-task agents, 2023.\n",
            "[35] J. Wei, X. Wang, D. Schuurmans, M. Bosma, E. Chi, Q. Le, and D. Zhou. Chain of thought\n",
            "prompting elicits reasoning in large language models. arXiv preprint arXiv:2201.11903 , 2022.\n",
            "[36] Y . Xie, K. Kawaguchi, Y . Zhao, X. Zhao, M.-Y . Kan, J. He, and Q. Xie. Decomposition\n",
            "enhances reasoning via self-evaluation guided decoding, 2023.\n",
            "[37] S. Yang, O. Nachum, Y . Du, J. Wei, P. Abbeel, and D. Schuurmans. Foundation models for\n",
            "decision making: Problems, methods, and opportunities, 2023.\n",
            "[38] S. Yao, J. Zhao, D. Yu, N. Du, I. Shafran, K. Narasimhan, and Y . Cao. ReAct: Synergizing\n",
            "reasoning and acting in language models. arXiv preprint arXiv:2210.03629 , 2022.\n",
            "[39] S. Zhang, Z. Chen, Y . Shen, M. Ding, J. B. Tenenbaum, and C. Gan. Planning with large\n",
            "language models for code generation. In The Eleventh International Conference on Learning\n",
            "Representations , 2023. URL https://openreview.net/forum?id=Lr8cOOtYbfL\n"
          ]
        }
      ]
    },
    {
      "cell_type": "code",
      "source": [
        "# count the tokens\n",
        "def num_tokens_from_string(string: str, encoding_name: str) -> int:\n",
        "    \"\"\"Returns the number of tokens in a text string.\"\"\"\n",
        "    # encoding = tiktoken.get_encoding(encoding_name)\n",
        "    encoding = tiktoken.encoding_for_model(\"gpt-3.5-turbo\")\n",
        "    num_tokens = len(encoding.encode(string))\n",
        "    return num_tokens\n",
        "\n",
        "num_tokens_from_string(text_body, \"gpt-3.5-turbo\")"
      ],
      "metadata": {
        "colab": {
          "base_uri": "https://localhost:8080/"
        },
        "id": "GevqPcyhlZPn",
        "outputId": "2688240f-2fa1-4fff-c763-5535f45ab0a1"
      },
      "execution_count": null,
      "outputs": [
        {
          "output_type": "execute_result",
          "data": {
            "text/plain": [
              "17137"
            ]
          },
          "metadata": {},
          "execution_count": 24
        }
      ]
    },
    {
      "cell_type": "code",
      "source": [
        "import re\n",
        "\n",
        "def remove_citations(text):\n",
        "    split_text = re.split(r'(\\[\\d+\\].*?(?=\\[\\d+\\]|$))', text, flags=re.DOTALL)\n",
        "    no_citations = [chunk for i, chunk in enumerate(split_text) if i % 2 == 0]\n",
        "    citations = [chunk for i, chunk in enumerate(split_text) if i % 2 != 0]\n",
        "    return ''.join(no_citations), ''.join(citations)\n",
        "\n",
        "def remove_after_references(text: str) -> str:\n",
        "    \"\"\"Remove everything after a line containing 'References'.\"\"\"\n",
        "    lines = text.split('\\n')\n",
        "    for i, line in enumerate(lines):\n",
        "        if 'References' in line:\n",
        "            return '\\n'.join(lines[:i+1])\n",
        "    return text\n"
      ],
      "metadata": {
        "id": "MYT8d97sRGUU"
      },
      "execution_count": null,
      "outputs": []
    },
    {
      "cell_type": "code",
      "source": [
        "text_body = remove_after_references(text_body)\n"
      ],
      "metadata": {
        "id": "Eu-bpGxAmTJ4"
      },
      "execution_count": null,
      "outputs": []
    },
    {
      "cell_type": "code",
      "source": [
        "num_tokens_from_string(text_body, \"gpt-3.5-turbo\")"
      ],
      "metadata": {
        "colab": {
          "base_uri": "https://localhost:8080/"
        },
        "id": "evKALEHhmbdo",
        "outputId": "9d26c200-20c4-4dda-e584-a5671a18d46a"
      },
      "execution_count": null,
      "outputs": [
        {
          "output_type": "execute_result",
          "data": {
            "text/plain": [
              "14783"
            ]
          },
          "metadata": {},
          "execution_count": 28
        }
      ]
    },
    {
      "cell_type": "code",
      "source": [
        "type(text_body)"
      ],
      "metadata": {
        "colab": {
          "base_uri": "https://localhost:8080/"
        },
        "id": "hGM7FFmjRZnu",
        "outputId": "4d17809f-3675-4cf7-afeb-bdd5ef9707e3"
      },
      "execution_count": null,
      "outputs": [
        {
          "output_type": "execute_result",
          "data": {
            "text/plain": [
              "str"
            ]
          },
          "metadata": {},
          "execution_count": 29
        }
      ]
    },
    {
      "cell_type": "code",
      "source": [
        "import textwrap\n",
        "import os\n",
        "\n",
        "def wrap_text(text: str, width: int = 120) -> str:\n",
        "    \"\"\"Wrap text to a specified width.\"\"\"\n",
        "    return '\\n'.join(textwrap.wrap(text, width))\n",
        "\n",
        "def write_string_to_file(filename: str, text: str) -> None:\n",
        "    \"\"\"Write a string to a file.\"\"\"\n",
        "    with open(filename, 'w') as f:\n",
        "        f.write(text)\n",
        "\n",
        "def extract_filename(path_string):\n",
        "    \"\"\"Extract filename without extension from a path string.\"\"\"\n",
        "    base_name = os.path.basename(path_string)  # Get the filename with extension\n",
        "    file_name_without_ext = os.path.splitext(base_name)[0]  # Remove the extension\n",
        "    return file_name_without_ext\n"
      ],
      "metadata": {
        "id": "Mz0TMHCAW7mk"
      },
      "execution_count": null,
      "outputs": []
    },
    {
      "cell_type": "markdown",
      "source": [
        "## LangChain"
      ],
      "metadata": {
        "id": "WET__9nVK4ER"
      }
    },
    {
      "cell_type": "code",
      "source": [
        "from langchain.prompts import (\n",
        "    ChatPromptTemplate,\n",
        "    PromptTemplate,\n",
        "    SystemMessagePromptTemplate,\n",
        "    AIMessagePromptTemplate,\n",
        "    HumanMessagePromptTemplate,\n",
        ")\n",
        "from langchain.schema import (\n",
        "    AIMessage,\n",
        "    HumanMessage,\n",
        "    SystemMessage\n",
        ")\n",
        "\n",
        "from langchain.chat_models import ChatOpenAI\n",
        "from langchain.chains import LLMChain\n"
      ],
      "metadata": {
        "id": "hd8oAWwbPCe-"
      },
      "execution_count": null,
      "outputs": []
    },
    {
      "cell_type": "markdown",
      "source": [
        "#### System prompt"
      ],
      "metadata": {
        "id": "E9yfv1ucRUMl"
      }
    },
    {
      "cell_type": "code",
      "source": [
        "context_template=\"You are a helpful AI Researcher that specializes in analysing ML, AI and LLM papers. Please use all your expertise to approach this task. Output your content in markdown format and include titles where relevant.\"\n",
        "\n",
        "system_message_prompt = SystemMessagePromptTemplate.from_template(context_template)\n"
      ],
      "metadata": {
        "id": "2ADvKgwEQvmw"
      },
      "execution_count": null,
      "outputs": []
    },
    {
      "cell_type": "markdown",
      "source": [
        "#### Human Prompt\n"
      ],
      "metadata": {
        "id": "f1IOIqNqT04Z"
      }
    },
    {
      "cell_type": "code",
      "source": [
        "human_template=\"Please summarize this paper focusing the key important takeaways for each section. Expand the summary on methods so they can be clearly understood. \\n\\n PAPER: \\n\\n{paper_content}\"\n",
        "\n",
        "human_message_prompt = HumanMessagePromptTemplate(\n",
        "        prompt=PromptTemplate(\n",
        "            template=human_template,\n",
        "            input_variables=[\"paper_content\"],\n",
        "        )\n",
        "    )"
      ],
      "metadata": {
        "id": "bvIEpkvHeBm2"
      },
      "execution_count": null,
      "outputs": []
    },
    {
      "cell_type": "code",
      "source": [
        "\n",
        "chat_prompt_template = ChatPromptTemplate.from_messages([system_message_prompt,\n",
        "                                                         human_message_prompt])\n",
        "\n",
        "chat = ChatOpenAI(model_name=\"gpt-3.5-turbo-16k\",\n",
        "                  temperature=0.2)\n"
      ],
      "metadata": {
        "id": "NRZbyik8Sfob"
      },
      "execution_count": null,
      "outputs": []
    },
    {
      "cell_type": "code",
      "source": [
        "summary_chain = LLMChain(llm=chat, prompt=chat_prompt_template)\n"
      ],
      "metadata": {
        "id": "bjfAKyu4Sfrh"
      },
      "execution_count": null,
      "outputs": []
    },
    {
      "cell_type": "markdown",
      "source": [
        "## Full output"
      ],
      "metadata": {
        "id": "WZl2G9pvXerW"
      }
    },
    {
      "cell_type": "code",
      "source": [
        "%%time\n",
        "from langchain.callbacks import get_openai_callback\n",
        "\n",
        "with get_openai_callback() as cb:\n",
        "    output = summary_chain.run(text_body)\n",
        "\n",
        "    print(f\"Total Tokens: {cb.total_tokens}\")\n",
        "    print(f\"Prompt Tokens: {cb.prompt_tokens}\")\n",
        "    print(f\"Completion Tokens: {cb.completion_tokens}\")\n",
        "    print(f\"Total Cost (USD): ${cb.total_cost}\")\n",
        "    print(f\"Calc Total Cost (USD): ${(cb.prompt_tokens/1000)*0.003 + (cb.completion_tokens/1000)*0.004}\")"
      ],
      "metadata": {
        "colab": {
          "base_uri": "https://localhost:8080/"
        },
        "id": "KXQjJ4W0Sf30",
        "outputId": "e24fd5e4-cd4d-40ba-e168-bb71f8d5c53a"
      },
      "execution_count": null,
      "outputs": [
        {
          "output_type": "stream",
          "name": "stdout",
          "text": [
            "Total Tokens: 15305\n",
            "Prompt Tokens: 14867\n",
            "Completion Tokens: 438\n",
            "Total Cost (USD): $0.0\n",
            "Calc Total Cost (USD): $0.046353000000000005\n",
            "CPU times: user 268 ms, sys: 33.6 ms, total: 302 ms\n",
            "Wall time: 45.5 s\n"
          ]
        }
      ]
    },
    {
      "cell_type": "code",
      "source": [
        "print(wrap_text(output))"
      ],
      "metadata": {
        "colab": {
          "base_uri": "https://localhost:8080/"
        },
        "id": "mzqHOHalSf6G",
        "outputId": "ef90a513-16e5-4564-87e1-d744b3f89369"
      },
      "execution_count": null,
      "outputs": [
        {
          "output_type": "stream",
          "name": "stdout",
          "text": [
            "# Tree of Thoughts: Deliberate Problem Solving with Large Language Models  ## Abstract Language models (LMs) are\n",
            "powerful tools for problem-solving, but they are limited by their token-level, left-to-right decision-making processes.\n",
            "This paper introduces a new framework called \"Tree of Thoughts\" (ToT) that allows LMs to perform deliberate decision-\n",
            "making by considering multiple reasoning paths and self-evaluating choices. ToT enables exploration over coherent units\n",
            "of text (\"thoughts\") that serve as intermediate steps toward problem-solving. The authors demonstrate the effectiveness\n",
            "of ToT on three novel tasks: Game of 24, Creative Writing, and Mini Crosswords.  ## Introduction This section discusses\n",
            "the limitations of current language models in problem-solving and introduces the concept of \"System 1\" and \"System 2\"\n",
            "decision-making processes. The authors propose the Tree of Thoughts framework as a way to incorporate deliberate\n",
            "decision-making into language model inference.  ## Background This section provides background information on existing\n",
            "methods that use large language models for problem-solving, such as input-output prompting and chain-of-thought\n",
            "prompting.  ## Tree of Thoughts: Deliberate Problem Solving with LM This section introduces the Tree of Thoughts\n",
            "framework for problem-solving with language models. It discusses the thought decomposition, thought generation, state\n",
            "evaluation, and search algorithm components of ToT.  ## Experiments The authors conduct experiments on three tasks: Game\n",
            "of 24, Creative Writing, and Mini Crosswords. They compare the performance of ToT with other baselines and analyze the\n",
            "results.  ## Results The results show that ToT significantly improves language models' problem-solving abilities on the\n",
            "three tasks compared to other baselines.  ## Related Work This section discusses related work on planning and decision-\n",
            "making, self-reflection in language models, program-guided language model generation, and classical search methods.  ##\n",
            "Discussion The authors discuss the limitations and future directions of the Tree of Thoughts framework, as well as its\n",
            "broader impact and implications.  ## Conclusion The authors conclude that the Tree of Thoughts framework enhances\n",
            "language models' problem-solving abilities by incorporating deliberate decision-making processes. They highlight the\n",
            "potential of this framework for future applications and research.\n"
          ]
        }
      ]
    },
    {
      "cell_type": "code",
      "source": [
        "write_string_to_file(f'{extract_filename(PAPER_PATH)}-summary.txt', output)"
      ],
      "metadata": {
        "id": "5pQUakRDSf-C"
      },
      "execution_count": null,
      "outputs": []
    },
    {
      "cell_type": "code",
      "source": [
        "PAPER_PATH"
      ],
      "metadata": {
        "colab": {
          "base_uri": "https://localhost:8080/",
          "height": 35
        },
        "id": "50W7Q0GRSgBW",
        "outputId": "fc38031e-2873-4d30-8d74-24484826c5fb"
      },
      "execution_count": null,
      "outputs": [
        {
          "output_type": "execute_result",
          "data": {
            "text/plain": [
              "'papers/2305.10601.pdf'"
            ],
            "application/vnd.google.colaboratory.intrinsic+json": {
              "type": "string"
            }
          },
          "metadata": {},
          "execution_count": 144
        }
      ]
    }
  ]
}