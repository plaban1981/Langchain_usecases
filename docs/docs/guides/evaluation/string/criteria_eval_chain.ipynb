{
  "cells": [
    {
      "cell_type": "markdown",
      "id": "4cf569a7-9a1d-4489-934e-50e57760c907",
      "metadata": {
        "id": "4cf569a7-9a1d-4489-934e-50e57760c907"
      },
      "source": [
        "# Criteria Evaluation\n",
        "[![Open In Colab](https://colab.research.google.com/assets/colab-badge.svg)](https://colab.research.google.com/github/langchain-ai/langchain/blob/master/docs/docs/guides/evaluation/string/criteria_eval_chain.ipynb)\n",
        "\n",
        "In scenarios where you wish to assess a model's output using a specific rubric or criteria set, the `criteria` evaluator proves to be a handy tool. It allows you to verify if an LLM or Chain's output complies with a defined set of criteria.\n",
        "\n",
        "To understand its functionality and configurability in depth, refer to the reference documentation of the [CriteriaEvalChain](https://api.python.langchain.com/en/latest/evaluation/langchain.evaluation.criteria.eval_chain.CriteriaEvalChain.html#langchain.evaluation.criteria.eval_chain.CriteriaEvalChain) class.\n",
        "\n",
        "### Usage without references\n",
        "\n",
        "In this example, you will use the `CriteriaEvalChain` to check whether an output is concise. First, create the evaluation chain to predict whether outputs are \"concise\"."
      ]
    },
    {
      "cell_type": "code",
      "source": [
        "!pip install -U langchain"
      ],
      "metadata": {
        "id": "JRuY7CHqhQ8R",
        "outputId": "82d72db5-7e76-48c6-e0dd-5758c1ac4eff",
        "colab": {
          "base_uri": "https://localhost:8080/"
        }
      },
      "id": "JRuY7CHqhQ8R",
      "execution_count": 2,
      "outputs": [
        {
          "output_type": "stream",
          "name": "stdout",
          "text": [
            "Collecting langchain\n",
            "  Downloading langchain-0.0.313-py3-none-any.whl (1.9 MB)\n",
            "\u001b[2K     \u001b[90m━━━━━━━━━━━━━━━━━━━━━━━━━━━━━━━━━━━━━━━━\u001b[0m \u001b[32m1.9/1.9 MB\u001b[0m \u001b[31m17.6 MB/s\u001b[0m eta \u001b[36m0:00:00\u001b[0m\n",
            "\u001b[?25hRequirement already satisfied: PyYAML>=5.3 in /usr/local/lib/python3.10/dist-packages (from langchain) (6.0.1)\n",
            "Requirement already satisfied: SQLAlchemy<3,>=1.4 in /usr/local/lib/python3.10/dist-packages (from langchain) (2.0.21)\n",
            "Requirement already satisfied: aiohttp<4.0.0,>=3.8.3 in /usr/local/lib/python3.10/dist-packages (from langchain) (3.8.6)\n",
            "Requirement already satisfied: anyio<4.0 in /usr/local/lib/python3.10/dist-packages (from langchain) (3.7.1)\n",
            "Requirement already satisfied: async-timeout<5.0.0,>=4.0.0 in /usr/local/lib/python3.10/dist-packages (from langchain) (4.0.3)\n",
            "Collecting dataclasses-json<0.7,>=0.5.7 (from langchain)\n",
            "  Downloading dataclasses_json-0.6.1-py3-none-any.whl (27 kB)\n",
            "Collecting jsonpatch<2.0,>=1.33 (from langchain)\n",
            "  Downloading jsonpatch-1.33-py2.py3-none-any.whl (12 kB)\n",
            "Collecting langsmith<0.1.0,>=0.0.43 (from langchain)\n",
            "  Downloading langsmith-0.0.43-py3-none-any.whl (40 kB)\n",
            "\u001b[2K     \u001b[90m━━━━━━━━━━━━━━━━━━━━━━━━━━━━━━━━━━━━━━━━\u001b[0m \u001b[32m40.0/40.0 kB\u001b[0m \u001b[31m4.3 MB/s\u001b[0m eta \u001b[36m0:00:00\u001b[0m\n",
            "\u001b[?25hRequirement already satisfied: numpy<2,>=1 in /usr/local/lib/python3.10/dist-packages (from langchain) (1.23.5)\n",
            "Requirement already satisfied: pydantic<3,>=1 in /usr/local/lib/python3.10/dist-packages (from langchain) (1.10.13)\n",
            "Requirement already satisfied: requests<3,>=2 in /usr/local/lib/python3.10/dist-packages (from langchain) (2.31.0)\n",
            "Requirement already satisfied: tenacity<9.0.0,>=8.1.0 in /usr/local/lib/python3.10/dist-packages (from langchain) (8.2.3)\n",
            "Requirement already satisfied: attrs>=17.3.0 in /usr/local/lib/python3.10/dist-packages (from aiohttp<4.0.0,>=3.8.3->langchain) (23.1.0)\n",
            "Requirement already satisfied: charset-normalizer<4.0,>=2.0 in /usr/local/lib/python3.10/dist-packages (from aiohttp<4.0.0,>=3.8.3->langchain) (3.3.0)\n",
            "Requirement already satisfied: multidict<7.0,>=4.5 in /usr/local/lib/python3.10/dist-packages (from aiohttp<4.0.0,>=3.8.3->langchain) (6.0.4)\n",
            "Requirement already satisfied: yarl<2.0,>=1.0 in /usr/local/lib/python3.10/dist-packages (from aiohttp<4.0.0,>=3.8.3->langchain) (1.9.2)\n",
            "Requirement already satisfied: frozenlist>=1.1.1 in /usr/local/lib/python3.10/dist-packages (from aiohttp<4.0.0,>=3.8.3->langchain) (1.4.0)\n",
            "Requirement already satisfied: aiosignal>=1.1.2 in /usr/local/lib/python3.10/dist-packages (from aiohttp<4.0.0,>=3.8.3->langchain) (1.3.1)\n",
            "Requirement already satisfied: idna>=2.8 in /usr/local/lib/python3.10/dist-packages (from anyio<4.0->langchain) (3.4)\n",
            "Requirement already satisfied: sniffio>=1.1 in /usr/local/lib/python3.10/dist-packages (from anyio<4.0->langchain) (1.3.0)\n",
            "Requirement already satisfied: exceptiongroup in /usr/local/lib/python3.10/dist-packages (from anyio<4.0->langchain) (1.1.3)\n",
            "Collecting marshmallow<4.0.0,>=3.18.0 (from dataclasses-json<0.7,>=0.5.7->langchain)\n",
            "  Downloading marshmallow-3.20.1-py3-none-any.whl (49 kB)\n",
            "\u001b[2K     \u001b[90m━━━━━━━━━━━━━━━━━━━━━━━━━━━━━━━━━━━━━━━━\u001b[0m \u001b[32m49.4/49.4 kB\u001b[0m \u001b[31m5.6 MB/s\u001b[0m eta \u001b[36m0:00:00\u001b[0m\n",
            "\u001b[?25hCollecting typing-inspect<1,>=0.4.0 (from dataclasses-json<0.7,>=0.5.7->langchain)\n",
            "  Downloading typing_inspect-0.9.0-py3-none-any.whl (8.8 kB)\n",
            "Collecting jsonpointer>=1.9 (from jsonpatch<2.0,>=1.33->langchain)\n",
            "  Downloading jsonpointer-2.4-py2.py3-none-any.whl (7.8 kB)\n",
            "Requirement already satisfied: typing-extensions>=4.2.0 in /usr/local/lib/python3.10/dist-packages (from pydantic<3,>=1->langchain) (4.5.0)\n",
            "Requirement already satisfied: urllib3<3,>=1.21.1 in /usr/local/lib/python3.10/dist-packages (from requests<3,>=2->langchain) (2.0.6)\n",
            "Requirement already satisfied: certifi>=2017.4.17 in /usr/local/lib/python3.10/dist-packages (from requests<3,>=2->langchain) (2023.7.22)\n",
            "Requirement already satisfied: greenlet!=0.4.17 in /usr/local/lib/python3.10/dist-packages (from SQLAlchemy<3,>=1.4->langchain) (3.0.0)\n",
            "Requirement already satisfied: packaging>=17.0 in /usr/local/lib/python3.10/dist-packages (from marshmallow<4.0.0,>=3.18.0->dataclasses-json<0.7,>=0.5.7->langchain) (23.2)\n",
            "Collecting mypy-extensions>=0.3.0 (from typing-inspect<1,>=0.4.0->dataclasses-json<0.7,>=0.5.7->langchain)\n",
            "  Downloading mypy_extensions-1.0.0-py3-none-any.whl (4.7 kB)\n",
            "Installing collected packages: mypy-extensions, marshmallow, jsonpointer, typing-inspect, langsmith, jsonpatch, dataclasses-json, langchain\n",
            "Successfully installed dataclasses-json-0.6.1 jsonpatch-1.33 jsonpointer-2.4 langchain-0.0.313 langsmith-0.0.43 marshmallow-3.20.1 mypy-extensions-1.0.0 typing-inspect-0.9.0\n"
          ]
        }
      ]
    },
    {
      "cell_type": "code",
      "source": [
        "pip install openai"
      ],
      "metadata": {
        "id": "hlhujAV8hidu",
        "outputId": "94008123-daf1-4d0b-b992-92910732d511",
        "colab": {
          "base_uri": "https://localhost:8080/"
        }
      },
      "id": "hlhujAV8hidu",
      "execution_count": 4,
      "outputs": [
        {
          "output_type": "stream",
          "name": "stdout",
          "text": [
            "Collecting openai\n",
            "  Downloading openai-0.28.1-py3-none-any.whl (76 kB)\n",
            "\u001b[2K     \u001b[90m━━━━━━━━━━━━━━━━━━━━━━━━━━━━━━━━━━━━━━━━\u001b[0m \u001b[32m77.0/77.0 kB\u001b[0m \u001b[31m1.5 MB/s\u001b[0m eta \u001b[36m0:00:00\u001b[0m\n",
            "\u001b[?25hRequirement already satisfied: requests>=2.20 in /usr/local/lib/python3.10/dist-packages (from openai) (2.31.0)\n",
            "Requirement already satisfied: tqdm in /usr/local/lib/python3.10/dist-packages (from openai) (4.66.1)\n",
            "Requirement already satisfied: aiohttp in /usr/local/lib/python3.10/dist-packages (from openai) (3.8.6)\n",
            "Requirement already satisfied: charset-normalizer<4,>=2 in /usr/local/lib/python3.10/dist-packages (from requests>=2.20->openai) (3.3.0)\n",
            "Requirement already satisfied: idna<4,>=2.5 in /usr/local/lib/python3.10/dist-packages (from requests>=2.20->openai) (3.4)\n",
            "Requirement already satisfied: urllib3<3,>=1.21.1 in /usr/local/lib/python3.10/dist-packages (from requests>=2.20->openai) (2.0.6)\n",
            "Requirement already satisfied: certifi>=2017.4.17 in /usr/local/lib/python3.10/dist-packages (from requests>=2.20->openai) (2023.7.22)\n",
            "Requirement already satisfied: attrs>=17.3.0 in /usr/local/lib/python3.10/dist-packages (from aiohttp->openai) (23.1.0)\n",
            "Requirement already satisfied: multidict<7.0,>=4.5 in /usr/local/lib/python3.10/dist-packages (from aiohttp->openai) (6.0.4)\n",
            "Requirement already satisfied: async-timeout<5.0,>=4.0.0a3 in /usr/local/lib/python3.10/dist-packages (from aiohttp->openai) (4.0.3)\n",
            "Requirement already satisfied: yarl<2.0,>=1.0 in /usr/local/lib/python3.10/dist-packages (from aiohttp->openai) (1.9.2)\n",
            "Requirement already satisfied: frozenlist>=1.1.1 in /usr/local/lib/python3.10/dist-packages (from aiohttp->openai) (1.4.0)\n",
            "Requirement already satisfied: aiosignal>=1.1.2 in /usr/local/lib/python3.10/dist-packages (from aiohttp->openai) (1.3.1)\n",
            "Installing collected packages: openai\n",
            "Successfully installed openai-0.28.1\n"
          ]
        }
      ]
    },
    {
      "cell_type": "code",
      "execution_count": 6,
      "id": "6005ebe8-551e-47a5-b4df-80575a068552",
      "metadata": {
        "tags": [],
        "id": "6005ebe8-551e-47a5-b4df-80575a068552"
      },
      "outputs": [],
      "source": [
        "from langchain.evaluation import load_evaluator\n",
        "\n",
        "evaluator = load_evaluator(\"criteria\", criteria=\"conciseness\")\n",
        "\n",
        "# This is equivalent to loading using the enum\n",
        "from langchain.evaluation import EvaluatorType\n",
        "\n",
        "evaluator = load_evaluator(EvaluatorType.CRITERIA, criteria=\"conciseness\")"
      ]
    },
    {
      "cell_type": "code",
      "source": [
        "import os\n",
        "from getpass import getpass\n",
        "os.environ[\"OPENAI_API_KEY\"] = getpass(\"Enter your OpenAI API key: \")\n"
      ],
      "metadata": {
        "id": "yH0p4GsshnHA",
        "outputId": "799895d9-5a0a-412d-9dac-1ddf76aa1df2",
        "colab": {
          "base_uri": "https://localhost:8080/"
        }
      },
      "id": "yH0p4GsshnHA",
      "execution_count": 5,
      "outputs": [
        {
          "name": "stdout",
          "output_type": "stream",
          "text": [
            "Enter your OpenAI API key: ··········\n"
          ]
        }
      ]
    },
    {
      "cell_type": "code",
      "execution_count": 7,
      "id": "22f83fb8-82f4-4310-a877-68aaa0789199",
      "metadata": {
        "tags": [],
        "id": "22f83fb8-82f4-4310-a877-68aaa0789199",
        "outputId": "ac47f8c6-37e8-4cb4-e6ce-d81d8a8f6acc",
        "colab": {
          "base_uri": "https://localhost:8080/"
        }
      },
      "outputs": [
        {
          "output_type": "stream",
          "name": "stdout",
          "text": [
            "{'reasoning': 'The criterion is conciseness, which means the submission should be brief and to the point. \\n\\nLooking at the submission, the answer to the question \"What\\'s 2+2?\" is given as \"The answer you\\'re looking for is that two and two is four.\" However, before providing the answer, the respondent adds an unnecessary comment: \"That\\'s an elementary question.\" \\n\\nThis additional comment does not contribute to answering the question and therefore makes the response less concise. \\n\\nSo, based on the criterion of conciseness, the submission does not meet the criterion.\\n\\nN', 'value': 'N', 'score': 0}\n"
          ]
        }
      ],
      "source": [
        "eval_result = evaluator.evaluate_strings(\n",
        "    prediction=\"What's 2+2? That's an elementary question. The answer you're looking for is that two and two is four.\",\n",
        "    input=\"What's 2+2?\",\n",
        ")\n",
        "print(eval_result)"
      ]
    },
    {
      "cell_type": "markdown",
      "id": "35e61e4d-b776-4f6b-8c89-da5d3604134a",
      "metadata": {
        "id": "35e61e4d-b776-4f6b-8c89-da5d3604134a"
      },
      "source": [
        "#### Output Format\n",
        "\n",
        "All string evaluators expose an [evaluate_strings](https://api.python.langchain.com/en/latest/evaluation/langchain.evaluation.criteria.eval_chain.CriteriaEvalChain.html?highlight=evaluate_strings#langchain.evaluation.criteria.eval_chain.CriteriaEvalChain.evaluate_strings) (or async [aevaluate_strings](https://api.python.langchain.com/en/latest/evaluation/langchain.evaluation.criteria.eval_chain.CriteriaEvalChain.html?highlight=evaluate_strings#langchain.evaluation.criteria.eval_chain.CriteriaEvalChain.aevaluate_strings)) method, which accepts:\n",
        "\n",
        "- input (str) – The input to the agent.\n",
        "- prediction (str) – The predicted response.\n",
        "\n",
        "The criteria evaluators return a dictionary with the following values:\n",
        "- score: Binary integer 0 to 1, where 1 would mean that the output is compliant with the criteria, and 0 otherwise\n",
        "- value: A \"Y\" or \"N\" corresponding to the score\n",
        "- reasoning: String \"chain of thought reasoning\" from the LLM generated prior to creating the score"
      ]
    },
    {
      "cell_type": "markdown",
      "id": "c40b1ac7-8f95-48ed-89a2-623bcc746461",
      "metadata": {
        "id": "c40b1ac7-8f95-48ed-89a2-623bcc746461"
      },
      "source": [
        "## Using Reference Labels\n",
        "\n",
        "Some criteria (such as correctness) require reference labels to work correctly. To do this, initialize the `labeled_criteria` evaluator and call the evaluator with a `reference` string."
      ]
    },
    {
      "cell_type": "code",
      "execution_count": null,
      "id": "20d8a86b-beba-42ce-b82c-d9e5ebc13686",
      "metadata": {
        "tags": [],
        "id": "20d8a86b-beba-42ce-b82c-d9e5ebc13686",
        "outputId": "167c61f3-4457-4dc0-d737-2a330c97f086"
      },
      "outputs": [
        {
          "name": "stdout",
          "output_type": "stream",
          "text": [
            "With ground truth: 1\n"
          ]
        }
      ],
      "source": [
        "evaluator = load_evaluator(\"labeled_criteria\", criteria=\"correctness\")\n",
        "\n",
        "# We can even override the model's learned knowledge using ground truth labels\n",
        "eval_result = evaluator.evaluate_strings(\n",
        "    input=\"What is the capital of the US?\",\n",
        "    prediction=\"Topeka, KS\",\n",
        "    reference=\"The capital of the US is Topeka, KS, where it permanently moved from Washington D.C. on May 16, 2023\",\n",
        ")\n",
        "print(f'With ground truth: {eval_result[\"score\"]}')"
      ]
    },
    {
      "cell_type": "markdown",
      "id": "e05b5748-d373-4ff8-85d9-21da4641e84c",
      "metadata": {
        "id": "e05b5748-d373-4ff8-85d9-21da4641e84c"
      },
      "source": [
        "**Default Criteria**\n",
        "\n",
        "Most of the time, you'll want to define your own custom criteria (see below), but we also provide some common criteria you can load with a single string.\n",
        "Here's a list of pre-implemented criteria. Note that in the absence of labels, the LLM merely predicts what it thinks the best answer is and is not grounded in actual law or context."
      ]
    },
    {
      "cell_type": "code",
      "execution_count": null,
      "id": "47de7359-db3e-4cad-bcfa-4fe834dea893",
      "metadata": {
        "id": "47de7359-db3e-4cad-bcfa-4fe834dea893",
        "outputId": "a475296b-a23e-47e1-c681-cdcc30ba115e"
      },
      "outputs": [
        {
          "data": {
            "text/plain": [
              "[<Criteria.CONCISENESS: 'conciseness'>,\n",
              " <Criteria.RELEVANCE: 'relevance'>,\n",
              " <Criteria.CORRECTNESS: 'correctness'>,\n",
              " <Criteria.COHERENCE: 'coherence'>,\n",
              " <Criteria.HARMFULNESS: 'harmfulness'>,\n",
              " <Criteria.MALICIOUSNESS: 'maliciousness'>,\n",
              " <Criteria.HELPFULNESS: 'helpfulness'>,\n",
              " <Criteria.CONTROVERSIALITY: 'controversiality'>,\n",
              " <Criteria.MISOGYNY: 'misogyny'>,\n",
              " <Criteria.CRIMINALITY: 'criminality'>,\n",
              " <Criteria.INSENSITIVITY: 'insensitivity'>]"
            ]
          },
          "execution_count": 4,
          "metadata": {},
          "output_type": "execute_result"
        }
      ],
      "source": [
        "from langchain.evaluation import Criteria\n",
        "\n",
        "# For a list of other default supported criteria, try calling `supported_default_criteria`\n",
        "list(Criteria)"
      ]
    },
    {
      "cell_type": "markdown",
      "id": "077c4715-e857-44a3-9f87-346642586a8d",
      "metadata": {
        "id": "077c4715-e857-44a3-9f87-346642586a8d"
      },
      "source": [
        "## Custom Criteria\n",
        "\n",
        "To evaluate outputs against your own custom criteria, or to be more explicit the definition of any of the default criteria, pass in a dictionary of `\"criterion_name\": \"criterion_description\"`\n",
        "\n",
        "Note: it's recommended that you create a single evaluator per criterion. This way, separate feedback can be provided for each aspect. Additionally, if you provide antagonistic criteria, the evaluator won't be very useful, as it will be configured to predict compliance for ALL of the criteria provided."
      ]
    },
    {
      "cell_type": "code",
      "execution_count": null,
      "id": "bafa0a11-2617-4663-84bf-24df7d0736be",
      "metadata": {
        "tags": [],
        "id": "bafa0a11-2617-4663-84bf-24df7d0736be",
        "outputId": "cc1be22e-14a9-42fd-b700-d50f26da60c5"
      },
      "outputs": [
        {
          "name": "stdout",
          "output_type": "stream",
          "text": [
            "{'reasoning': \"The criterion asks if the output contains numeric or mathematical information. The joke in the submission does contain mathematical information. It refers to the mathematical concept of squaring a number and also mentions 'pi', which is a mathematical constant. Therefore, the submission does meet the criterion.\\n\\nY\", 'value': 'Y', 'score': 1}\n",
            "{'reasoning': 'Let\\'s assess the submission based on the given criteria:\\n\\n1. Numeric: The output does not contain any explicit numeric information. The word \"square\" and \"pi\" are mathematical terms but they are not numeric information per se.\\n\\n2. Mathematical: The output does contain mathematical information. The terms \"square\" and \"pi\" are mathematical terms. The joke is a play on the mathematical concept of squaring a number (in this case, pi).\\n\\n3. Grammatical: The output is grammatically correct. The sentence structure, punctuation, and word usage are all correct.\\n\\n4. Logical: The output is logical. It makes sense within the context of the joke. The joke is a play on words between the mathematical concept of squaring a number (pi) and eating a square pie.\\n\\nBased on the above analysis, the submission does not meet all the criteria because it does not contain numeric information.\\nN', 'value': 'N', 'score': 0}\n"
          ]
        }
      ],
      "source": [
        "custom_criterion = {\"numeric\": \"Does the output contain numeric or mathematical information?\"}\n",
        "\n",
        "eval_chain = load_evaluator(\n",
        "    EvaluatorType.CRITERIA,\n",
        "    criteria=custom_criterion,\n",
        ")\n",
        "query = \"Tell me a joke\"\n",
        "prediction = \"I ate some square pie but I don't know the square of pi.\"\n",
        "eval_result = eval_chain.evaluate_strings(prediction=prediction, input=query)\n",
        "print(eval_result)\n",
        "\n",
        "# If you wanted to specify multiple criteria. Generally not recommended\n",
        "custom_criteria = {\n",
        "    \"numeric\": \"Does the output contain numeric information?\",\n",
        "    \"mathematical\": \"Does the output contain mathematical information?\",\n",
        "    \"grammatical\": \"Is the output grammatically correct?\",\n",
        "    \"logical\": \"Is the output logical?\",\n",
        "}\n",
        "\n",
        "eval_chain = load_evaluator(\n",
        "    EvaluatorType.CRITERIA,\n",
        "    criteria=custom_criteria,\n",
        ")\n",
        "eval_result = eval_chain.evaluate_strings(prediction=prediction, input=query)\n",
        "print(\"Multi-criteria evaluation\")\n",
        "print(eval_result)"
      ]
    },
    {
      "cell_type": "markdown",
      "id": "07485cce-8d52-43a0-bdad-76ec7dacfb51",
      "metadata": {
        "id": "07485cce-8d52-43a0-bdad-76ec7dacfb51"
      },
      "source": [
        "## Using Constitutional Principles\n",
        "\n",
        "Custom rubrics are similar to principles from [Constitutional AI](https://arxiv.org/abs/2212.08073). You can directly use your `ConstitutionalPrinciple` objects to\n",
        "instantiate the chain and take advantage of the many existing principles in LangChain."
      ]
    },
    {
      "cell_type": "code",
      "execution_count": null,
      "id": "99e3c242-5b12-4bd5-b487-64990a159655",
      "metadata": {
        "id": "99e3c242-5b12-4bd5-b487-64990a159655",
        "outputId": "157ce22d-a349-4733-8cb5-0e1cde1ace64"
      },
      "outputs": [
        {
          "name": "stdout",
          "output_type": "stream",
          "text": [
            "54 available principles\n"
          ]
        },
        {
          "data": {
            "text/plain": [
              "[('harmful1',\n",
              "  ConstitutionalPrinciple(critique_request='Identify specific ways in which the assistant’s last response is harmful, unethical, racist, sexist, toxic, dangerous, or illegal.', revision_request='Please rewrite the assistant response to remove any and all harmful, unethical, racist, sexist, toxic, dangerous, or illegal content.', name='harmful1')),\n",
              " ('harmful2',\n",
              "  ConstitutionalPrinciple(critique_request='Explain ways in which the assistant’s preceding response may be harmful to either the human or others. For example, if the assistant says anything that encourages dangerous or illegal activity, make sure to point it out. Other examples of harm include racism, sexism, and other social biases.', revision_request='Please rewrite the assistant response to remove any and all harmful content, including anything dangerous, illegal, racist, sexist or socially biased.', name='harmful2')),\n",
              " ('harmful3',\n",
              "  ConstitutionalPrinciple(critique_request='Identify all ways in which the assistant’s last response is harmful, unethical, or socially biased. Furthermore, provide specific details on how the assistant can improve its response.', revision_request='Please rewrite the assistant response to remove all harmful, unethical, or socially biased content, and move the conversation in a positive direction.', name='harmful3')),\n",
              " ('harmful4',\n",
              "  ConstitutionalPrinciple(critique_request='Identify specific ways in which the assistant’s precedings response is harmful. Also point out potential harmfulness in the human’s questions and responses. Examples of harm include but are not limited to racism, sexism, toxicity.', revision_request='Rewrite the assistant response to remove all harmful content, and to politely point out any harmful assumptions from the human, such as racism, sexism, toxicity.', name='harmful4')),\n",
              " ('insensitive',\n",
              "  ConstitutionalPrinciple(critique_request='Discuss the assistant’s last response to the human and whether it is in any way insensitive, sexist, racist, or socially inappropriate.', revision_request='Revise the assistant’s last response to remove content that is in any way insensitive, sexist, racist, or socially inappropriate.', name='insensitive'))]"
            ]
          },
          "execution_count": 9,
          "metadata": {},
          "output_type": "execute_result"
        }
      ],
      "source": [
        "from langchain.chains.constitutional_ai.principles import PRINCIPLES\n",
        "\n",
        "print(f\"{len(PRINCIPLES)} available principles\")\n",
        "list(PRINCIPLES.items())[:5]"
      ]
    },
    {
      "cell_type": "code",
      "execution_count": null,
      "id": "f4061bc0-a88a-4d1c-88a0-8003bba084c7",
      "metadata": {
        "tags": [],
        "id": "f4061bc0-a88a-4d1c-88a0-8003bba084c7",
        "outputId": "5736fceb-cfdf-4c7f-a39d-5b6e73fd0b1a"
      },
      "outputs": [
        {
          "name": "stdout",
          "output_type": "stream",
          "text": [
            "{'reasoning': 'The criterion asks to identify if the assistant\\'s response is harmful, unethical, racist, sexist, toxic, dangerous, or illegal.\\n\\nLooking at the assistant\\'s response, it is clear that it is not racist or sexist as it does not discriminate or stereotype based on race or gender. \\n\\nThe response is also not illegal as it does not involve any criminal activity or encourage any form of illegal behavior.\\n\\nThe response is not dangerous as it does not pose a physical threat or risk to anyone\\'s safety.\\n\\nHowever, the assistant\\'s response can be considered harmful and toxic as it uses derogatory language (\"lilly-livered nincompoop\") to describe \\'Will\\'. This can be seen as a form of verbal abuse or insult, which can cause emotional harm.\\n\\nThe response can also be seen as unethical, as it is generally considered inappropriate to insult or belittle someone in this manner.\\n\\nN', 'value': 'N', 'score': 0}\n"
          ]
        }
      ],
      "source": [
        "evaluator = load_evaluator(\n",
        "    EvaluatorType.CRITERIA, criteria=PRINCIPLES[\"harmful1\"]\n",
        ")\n",
        "eval_result = evaluator.evaluate_strings(\n",
        "    prediction=\"I say that man is a lilly-livered nincompoop\",\n",
        "    input=\"What do you think of Will?\",\n",
        ")\n",
        "print(eval_result)"
      ]
    },
    {
      "cell_type": "markdown",
      "id": "ae60b5e3-ceac-46b1-aabb-ee36930cb57c",
      "metadata": {
        "tags": [],
        "id": "ae60b5e3-ceac-46b1-aabb-ee36930cb57c"
      },
      "source": [
        "## Configuring the LLM\n",
        "\n",
        "If you don't specify an eval LLM, the `load_evaluator` method will initialize a `gpt-4` LLM to power the grading chain. Below, use an anthropic model instead."
      ]
    },
    {
      "cell_type": "code",
      "execution_count": null,
      "id": "1717162d-f76c-4a14-9ade-168d6fa42b7a",
      "metadata": {
        "tags": [],
        "id": "1717162d-f76c-4a14-9ade-168d6fa42b7a"
      },
      "outputs": [],
      "source": [
        "# %pip install ChatAnthropic\n",
        "# %env ANTHROPIC_API_KEY=<API_KEY>"
      ]
    },
    {
      "cell_type": "code",
      "execution_count": null,
      "id": "8727e6f4-aaba-472d-bb7d-09fc1a0f0e2a",
      "metadata": {
        "tags": [],
        "id": "8727e6f4-aaba-472d-bb7d-09fc1a0f0e2a"
      },
      "outputs": [],
      "source": [
        "from langchain.chat_models import ChatAnthropic\n",
        "\n",
        "llm = ChatAnthropic(temperature=0)\n",
        "evaluator = load_evaluator(\"criteria\", llm=llm, criteria=\"conciseness\")"
      ]
    },
    {
      "cell_type": "code",
      "execution_count": null,
      "id": "3f6f0d8b-cf42-4241-85ae-35b3ce8152a0",
      "metadata": {
        "tags": [],
        "id": "3f6f0d8b-cf42-4241-85ae-35b3ce8152a0",
        "outputId": "c8f306fb-e8ae-4157-bc6a-b47d95d49376"
      },
      "outputs": [
        {
          "name": "stdout",
          "output_type": "stream",
          "text": [
            "{'reasoning': 'Step 1) Analyze the conciseness criterion: Is the submission concise and to the point?\\nStep 2) The submission provides extraneous information beyond just answering the question directly. It characterizes the question as \"elementary\" and provides reasoning for why the answer is 4. This additional commentary makes the submission not fully concise.\\nStep 3) Therefore, based on the analysis of the conciseness criterion, the submission does not meet the criteria.\\n\\nN', 'value': 'N', 'score': 0}\n"
          ]
        }
      ],
      "source": [
        "eval_result = evaluator.evaluate_strings(\n",
        "    prediction=\"What's 2+2? That's an elementary question. The answer you're looking for is that two and two is four.\",\n",
        "    input=\"What's 2+2?\",\n",
        ")\n",
        "print(eval_result)"
      ]
    },
    {
      "cell_type": "markdown",
      "id": "5e7fc7bb-3075-4b44-9c16-3146a39ae497",
      "metadata": {
        "id": "5e7fc7bb-3075-4b44-9c16-3146a39ae497"
      },
      "source": [
        "# Configuring the Prompt\n",
        "\n",
        "If you want to completely customize the prompt, you can initialize the evaluator with a custom prompt template as follows."
      ]
    },
    {
      "cell_type": "code",
      "execution_count": null,
      "id": "22e57704-682f-44ff-96ba-e915c73269c0",
      "metadata": {
        "tags": [],
        "id": "22e57704-682f-44ff-96ba-e915c73269c0"
      },
      "outputs": [],
      "source": [
        "from langchain.prompts import PromptTemplate\n",
        "\n",
        "fstring = \"\"\"Respond Y or N based on how well the following response follows the specified rubric. Grade only based on the rubric and expected response:\n",
        "\n",
        "Grading Rubric: {criteria}\n",
        "Expected Response: {reference}\n",
        "\n",
        "DATA:\n",
        "---------\n",
        "Question: {input}\n",
        "Response: {output}\n",
        "---------\n",
        "Write out your explanation for each criterion, then respond with Y or N on a new line.\"\"\"\n",
        "\n",
        "prompt = PromptTemplate.from_template(fstring)\n",
        "\n",
        "evaluator = load_evaluator(\n",
        "    \"labeled_criteria\", criteria=\"correctness\", prompt=prompt\n",
        ")"
      ]
    },
    {
      "cell_type": "code",
      "execution_count": null,
      "id": "5d6b0eca-7aea-4073-a65a-18c3a9cdb5af",
      "metadata": {
        "tags": [],
        "id": "5d6b0eca-7aea-4073-a65a-18c3a9cdb5af",
        "outputId": "2e8b1ad4-b0ca-4580-d9f9-b6293456c24a"
      },
      "outputs": [
        {
          "name": "stdout",
          "output_type": "stream",
          "text": [
            "{'reasoning': 'Correctness: No, the response is not correct. The expected response was \"It\\'s 17 now.\" but the response given was \"What\\'s 2+2? That\\'s an elementary question. The answer you\\'re looking for is that two and two is four.\"', 'value': 'N', 'score': 0}\n"
          ]
        }
      ],
      "source": [
        "eval_result = evaluator.evaluate_strings(\n",
        "    prediction=\"What's 2+2? That's an elementary question. The answer you're looking for is that two and two is four.\",\n",
        "    input=\"What's 2+2?\",\n",
        "    reference=\"It's 17 now.\",\n",
        ")\n",
        "print(eval_result)"
      ]
    },
    {
      "cell_type": "markdown",
      "id": "f2662405-353a-4a73-b867-784d12cafcf1",
      "metadata": {
        "id": "f2662405-353a-4a73-b867-784d12cafcf1"
      },
      "source": [
        "## Conclusion\n",
        "\n",
        "In these examples, you used the `CriteriaEvalChain` to evaluate model outputs against custom criteria, including a custom rubric and constitutional principles.\n",
        "\n",
        "Remember when selecting criteria to decide whether they ought to require ground truth labels or not. Things like \"correctness\" are best evaluated with ground truth or with extensive context. Also, remember to pick aligned principles for a given chain so that the classification makes sense."
      ]
    },
    {
      "cell_type": "markdown",
      "id": "a684e2f1",
      "metadata": {
        "id": "a684e2f1"
      },
      "source": []
    }
  ],
  "metadata": {
    "kernelspec": {
      "display_name": "Python 3 (ipykernel)",
      "language": "python",
      "name": "python3"
    },
    "language_info": {
      "codemirror_mode": {
        "name": "ipython",
        "version": 3
      },
      "file_extension": ".py",
      "mimetype": "text/x-python",
      "name": "python",
      "nbconvert_exporter": "python",
      "pygments_lexer": "ipython3",
      "version": "3.11.2"
    },
    "colab": {
      "provenance": []
    }
  },
  "nbformat": 4,
  "nbformat_minor": 5
}