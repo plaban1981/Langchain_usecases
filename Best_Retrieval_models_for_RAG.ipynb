{
  "nbformat": 4,
  "nbformat_minor": 0,
  "metadata": {
    "colab": {
      "provenance": [],
      "authorship_tag": "ABX9TyOJeYQLd+xfBk2sBOxI5W2+",
      "include_colab_link": true
    },
    "kernelspec": {
      "name": "python3",
      "display_name": "Python 3"
    },
    "language_info": {
      "name": "python"
    },
    "widgets": {
      "application/vnd.jupyter.widget-state+json": {
        "8b3e5c286aef492e9c55bea00ded706e": {
          "model_module": "@jupyter-widgets/controls",
          "model_name": "HBoxModel",
          "model_module_version": "1.5.0",
          "state": {
            "_dom_classes": [],
            "_model_module": "@jupyter-widgets/controls",
            "_model_module_version": "1.5.0",
            "_model_name": "HBoxModel",
            "_view_count": null,
            "_view_module": "@jupyter-widgets/controls",
            "_view_module_version": "1.5.0",
            "_view_name": "HBoxView",
            "box_style": "",
            "children": [
              "IPY_MODEL_87824f31f09c4011959201e0505e2da3",
              "IPY_MODEL_718b10a9872d4ddba9b821de5959f19c",
              "IPY_MODEL_b2269f55a26c4dcf9cb2109e0dac6396"
            ],
            "layout": "IPY_MODEL_9f625efe91424627b9a25172ef6d33ae"
          }
        },
        "87824f31f09c4011959201e0505e2da3": {
          "model_module": "@jupyter-widgets/controls",
          "model_name": "HTMLModel",
          "model_module_version": "1.5.0",
          "state": {
            "_dom_classes": [],
            "_model_module": "@jupyter-widgets/controls",
            "_model_module_version": "1.5.0",
            "_model_name": "HTMLModel",
            "_view_count": null,
            "_view_module": "@jupyter-widgets/controls",
            "_view_module_version": "1.5.0",
            "_view_name": "HTMLView",
            "description": "",
            "description_tooltip": null,
            "layout": "IPY_MODEL_54dcf746fcb04860b368ccb0362bbeba",
            "placeholder": "​",
            "style": "IPY_MODEL_6eaa4e04d7b047a5b1b3beddc6d4e7c9",
            "value": "100%"
          }
        },
        "718b10a9872d4ddba9b821de5959f19c": {
          "model_module": "@jupyter-widgets/controls",
          "model_name": "FloatProgressModel",
          "model_module_version": "1.5.0",
          "state": {
            "_dom_classes": [],
            "_model_module": "@jupyter-widgets/controls",
            "_model_module_version": "1.5.0",
            "_model_name": "FloatProgressModel",
            "_view_count": null,
            "_view_module": "@jupyter-widgets/controls",
            "_view_module_version": "1.5.0",
            "_view_name": "ProgressView",
            "bar_style": "success",
            "description": "",
            "description_tooltip": null,
            "layout": "IPY_MODEL_7eb2d3d25a964b36bac6238ff9d87b7b",
            "max": 163,
            "min": 0,
            "orientation": "horizontal",
            "style": "IPY_MODEL_361154f1f5db49b9a7db37ed93701d91",
            "value": 163
          }
        },
        "b2269f55a26c4dcf9cb2109e0dac6396": {
          "model_module": "@jupyter-widgets/controls",
          "model_name": "HTMLModel",
          "model_module_version": "1.5.0",
          "state": {
            "_dom_classes": [],
            "_model_module": "@jupyter-widgets/controls",
            "_model_module_version": "1.5.0",
            "_model_name": "HTMLModel",
            "_view_count": null,
            "_view_module": "@jupyter-widgets/controls",
            "_view_module_version": "1.5.0",
            "_view_name": "HTMLView",
            "description": "",
            "description_tooltip": null,
            "layout": "IPY_MODEL_da6dcb5136104b53b5fa562c1b61eb62",
            "placeholder": "​",
            "style": "IPY_MODEL_2c4f10299bbb4bd0ac846301724ad3d1",
            "value": " 163/163 [03:58&lt;00:00,  1.31s/it]"
          }
        },
        "9f625efe91424627b9a25172ef6d33ae": {
          "model_module": "@jupyter-widgets/base",
          "model_name": "LayoutModel",
          "model_module_version": "1.2.0",
          "state": {
            "_model_module": "@jupyter-widgets/base",
            "_model_module_version": "1.2.0",
            "_model_name": "LayoutModel",
            "_view_count": null,
            "_view_module": "@jupyter-widgets/base",
            "_view_module_version": "1.2.0",
            "_view_name": "LayoutView",
            "align_content": null,
            "align_items": null,
            "align_self": null,
            "border": null,
            "bottom": null,
            "display": null,
            "flex": null,
            "flex_flow": null,
            "grid_area": null,
            "grid_auto_columns": null,
            "grid_auto_flow": null,
            "grid_auto_rows": null,
            "grid_column": null,
            "grid_gap": null,
            "grid_row": null,
            "grid_template_areas": null,
            "grid_template_columns": null,
            "grid_template_rows": null,
            "height": null,
            "justify_content": null,
            "justify_items": null,
            "left": null,
            "margin": null,
            "max_height": null,
            "max_width": null,
            "min_height": null,
            "min_width": null,
            "object_fit": null,
            "object_position": null,
            "order": null,
            "overflow": null,
            "overflow_x": null,
            "overflow_y": null,
            "padding": null,
            "right": null,
            "top": null,
            "visibility": null,
            "width": null
          }
        },
        "54dcf746fcb04860b368ccb0362bbeba": {
          "model_module": "@jupyter-widgets/base",
          "model_name": "LayoutModel",
          "model_module_version": "1.2.0",
          "state": {
            "_model_module": "@jupyter-widgets/base",
            "_model_module_version": "1.2.0",
            "_model_name": "LayoutModel",
            "_view_count": null,
            "_view_module": "@jupyter-widgets/base",
            "_view_module_version": "1.2.0",
            "_view_name": "LayoutView",
            "align_content": null,
            "align_items": null,
            "align_self": null,
            "border": null,
            "bottom": null,
            "display": null,
            "flex": null,
            "flex_flow": null,
            "grid_area": null,
            "grid_auto_columns": null,
            "grid_auto_flow": null,
            "grid_auto_rows": null,
            "grid_column": null,
            "grid_gap": null,
            "grid_row": null,
            "grid_template_areas": null,
            "grid_template_columns": null,
            "grid_template_rows": null,
            "height": null,
            "justify_content": null,
            "justify_items": null,
            "left": null,
            "margin": null,
            "max_height": null,
            "max_width": null,
            "min_height": null,
            "min_width": null,
            "object_fit": null,
            "object_position": null,
            "order": null,
            "overflow": null,
            "overflow_x": null,
            "overflow_y": null,
            "padding": null,
            "right": null,
            "top": null,
            "visibility": null,
            "width": null
          }
        },
        "6eaa4e04d7b047a5b1b3beddc6d4e7c9": {
          "model_module": "@jupyter-widgets/controls",
          "model_name": "DescriptionStyleModel",
          "model_module_version": "1.5.0",
          "state": {
            "_model_module": "@jupyter-widgets/controls",
            "_model_module_version": "1.5.0",
            "_model_name": "DescriptionStyleModel",
            "_view_count": null,
            "_view_module": "@jupyter-widgets/base",
            "_view_module_version": "1.2.0",
            "_view_name": "StyleView",
            "description_width": ""
          }
        },
        "7eb2d3d25a964b36bac6238ff9d87b7b": {
          "model_module": "@jupyter-widgets/base",
          "model_name": "LayoutModel",
          "model_module_version": "1.2.0",
          "state": {
            "_model_module": "@jupyter-widgets/base",
            "_model_module_version": "1.2.0",
            "_model_name": "LayoutModel",
            "_view_count": null,
            "_view_module": "@jupyter-widgets/base",
            "_view_module_version": "1.2.0",
            "_view_name": "LayoutView",
            "align_content": null,
            "align_items": null,
            "align_self": null,
            "border": null,
            "bottom": null,
            "display": null,
            "flex": null,
            "flex_flow": null,
            "grid_area": null,
            "grid_auto_columns": null,
            "grid_auto_flow": null,
            "grid_auto_rows": null,
            "grid_column": null,
            "grid_gap": null,
            "grid_row": null,
            "grid_template_areas": null,
            "grid_template_columns": null,
            "grid_template_rows": null,
            "height": null,
            "justify_content": null,
            "justify_items": null,
            "left": null,
            "margin": null,
            "max_height": null,
            "max_width": null,
            "min_height": null,
            "min_width": null,
            "object_fit": null,
            "object_position": null,
            "order": null,
            "overflow": null,
            "overflow_x": null,
            "overflow_y": null,
            "padding": null,
            "right": null,
            "top": null,
            "visibility": null,
            "width": null
          }
        },
        "361154f1f5db49b9a7db37ed93701d91": {
          "model_module": "@jupyter-widgets/controls",
          "model_name": "ProgressStyleModel",
          "model_module_version": "1.5.0",
          "state": {
            "_model_module": "@jupyter-widgets/controls",
            "_model_module_version": "1.5.0",
            "_model_name": "ProgressStyleModel",
            "_view_count": null,
            "_view_module": "@jupyter-widgets/base",
            "_view_module_version": "1.2.0",
            "_view_name": "StyleView",
            "bar_color": null,
            "description_width": ""
          }
        },
        "da6dcb5136104b53b5fa562c1b61eb62": {
          "model_module": "@jupyter-widgets/base",
          "model_name": "LayoutModel",
          "model_module_version": "1.2.0",
          "state": {
            "_model_module": "@jupyter-widgets/base",
            "_model_module_version": "1.2.0",
            "_model_name": "LayoutModel",
            "_view_count": null,
            "_view_module": "@jupyter-widgets/base",
            "_view_module_version": "1.2.0",
            "_view_name": "LayoutView",
            "align_content": null,
            "align_items": null,
            "align_self": null,
            "border": null,
            "bottom": null,
            "display": null,
            "flex": null,
            "flex_flow": null,
            "grid_area": null,
            "grid_auto_columns": null,
            "grid_auto_flow": null,
            "grid_auto_rows": null,
            "grid_column": null,
            "grid_gap": null,
            "grid_row": null,
            "grid_template_areas": null,
            "grid_template_columns": null,
            "grid_template_rows": null,
            "height": null,
            "justify_content": null,
            "justify_items": null,
            "left": null,
            "margin": null,
            "max_height": null,
            "max_width": null,
            "min_height": null,
            "min_width": null,
            "object_fit": null,
            "object_position": null,
            "order": null,
            "overflow": null,
            "overflow_x": null,
            "overflow_y": null,
            "padding": null,
            "right": null,
            "top": null,
            "visibility": null,
            "width": null
          }
        },
        "2c4f10299bbb4bd0ac846301724ad3d1": {
          "model_module": "@jupyter-widgets/controls",
          "model_name": "DescriptionStyleModel",
          "model_module_version": "1.5.0",
          "state": {
            "_model_module": "@jupyter-widgets/controls",
            "_model_module_version": "1.5.0",
            "_model_name": "DescriptionStyleModel",
            "_view_count": null,
            "_view_module": "@jupyter-widgets/base",
            "_view_module_version": "1.2.0",
            "_view_name": "StyleView",
            "description_width": ""
          }
        },
        "071c60ba122c48bba91b5e9683ad3d4e": {
          "model_module": "@jupyter-widgets/controls",
          "model_name": "HBoxModel",
          "model_module_version": "1.5.0",
          "state": {
            "_dom_classes": [],
            "_model_module": "@jupyter-widgets/controls",
            "_model_module_version": "1.5.0",
            "_model_name": "HBoxModel",
            "_view_count": null,
            "_view_module": "@jupyter-widgets/controls",
            "_view_module_version": "1.5.0",
            "_view_name": "HBoxView",
            "box_style": "",
            "children": [
              "IPY_MODEL_5f832e785ab74e0495bff108a0c05c48",
              "IPY_MODEL_9a661f0b318a4befbcf0dc66a2c37d4b",
              "IPY_MODEL_d289476c1693443baf34e021547280d2"
            ],
            "layout": "IPY_MODEL_ebd11f5cb94e44a5bbac356666bd6f6b"
          }
        },
        "5f832e785ab74e0495bff108a0c05c48": {
          "model_module": "@jupyter-widgets/controls",
          "model_name": "HTMLModel",
          "model_module_version": "1.5.0",
          "state": {
            "_dom_classes": [],
            "_model_module": "@jupyter-widgets/controls",
            "_model_module_version": "1.5.0",
            "_model_name": "HTMLModel",
            "_view_count": null,
            "_view_module": "@jupyter-widgets/controls",
            "_view_module_version": "1.5.0",
            "_view_name": "HTMLView",
            "description": "",
            "description_tooltip": null,
            "layout": "IPY_MODEL_556b357ff5164e34a22133eddc8d6845",
            "placeholder": "​",
            "style": "IPY_MODEL_5f31a1ff287843698d7e3a0d7371746d",
            "value": "  0%"
          }
        },
        "9a661f0b318a4befbcf0dc66a2c37d4b": {
          "model_module": "@jupyter-widgets/controls",
          "model_name": "FloatProgressModel",
          "model_module_version": "1.5.0",
          "state": {
            "_dom_classes": [],
            "_model_module": "@jupyter-widgets/controls",
            "_model_module_version": "1.5.0",
            "_model_name": "FloatProgressModel",
            "_view_count": null,
            "_view_module": "@jupyter-widgets/controls",
            "_view_module_version": "1.5.0",
            "_view_name": "ProgressView",
            "bar_style": "danger",
            "description": "",
            "description_tooltip": null,
            "layout": "IPY_MODEL_d254f611e9464f46a4c61ea908fbe86e",
            "max": 3,
            "min": 0,
            "orientation": "horizontal",
            "style": "IPY_MODEL_d7002c632b3a4a9283f6e37f18a318ba",
            "value": 0
          }
        },
        "d289476c1693443baf34e021547280d2": {
          "model_module": "@jupyter-widgets/controls",
          "model_name": "HTMLModel",
          "model_module_version": "1.5.0",
          "state": {
            "_dom_classes": [],
            "_model_module": "@jupyter-widgets/controls",
            "_model_module_version": "1.5.0",
            "_model_name": "HTMLModel",
            "_view_count": null,
            "_view_module": "@jupyter-widgets/controls",
            "_view_module_version": "1.5.0",
            "_view_name": "HTMLView",
            "description": "",
            "description_tooltip": null,
            "layout": "IPY_MODEL_c8ee4d9d21c645e0b05f2cf425bf93e8",
            "placeholder": "​",
            "style": "IPY_MODEL_a9f4b3b605e04b6383fd3f928ba9ff3b",
            "value": " 0/3 [00:02&lt;?, ?it/s]"
          }
        },
        "ebd11f5cb94e44a5bbac356666bd6f6b": {
          "model_module": "@jupyter-widgets/base",
          "model_name": "LayoutModel",
          "model_module_version": "1.2.0",
          "state": {
            "_model_module": "@jupyter-widgets/base",
            "_model_module_version": "1.2.0",
            "_model_name": "LayoutModel",
            "_view_count": null,
            "_view_module": "@jupyter-widgets/base",
            "_view_module_version": "1.2.0",
            "_view_name": "LayoutView",
            "align_content": null,
            "align_items": null,
            "align_self": null,
            "border": null,
            "bottom": null,
            "display": null,
            "flex": null,
            "flex_flow": null,
            "grid_area": null,
            "grid_auto_columns": null,
            "grid_auto_flow": null,
            "grid_auto_rows": null,
            "grid_column": null,
            "grid_gap": null,
            "grid_row": null,
            "grid_template_areas": null,
            "grid_template_columns": null,
            "grid_template_rows": null,
            "height": null,
            "justify_content": null,
            "justify_items": null,
            "left": null,
            "margin": null,
            "max_height": null,
            "max_width": null,
            "min_height": null,
            "min_width": null,
            "object_fit": null,
            "object_position": null,
            "order": null,
            "overflow": null,
            "overflow_x": null,
            "overflow_y": null,
            "padding": null,
            "right": null,
            "top": null,
            "visibility": null,
            "width": null
          }
        },
        "556b357ff5164e34a22133eddc8d6845": {
          "model_module": "@jupyter-widgets/base",
          "model_name": "LayoutModel",
          "model_module_version": "1.2.0",
          "state": {
            "_model_module": "@jupyter-widgets/base",
            "_model_module_version": "1.2.0",
            "_model_name": "LayoutModel",
            "_view_count": null,
            "_view_module": "@jupyter-widgets/base",
            "_view_module_version": "1.2.0",
            "_view_name": "LayoutView",
            "align_content": null,
            "align_items": null,
            "align_self": null,
            "border": null,
            "bottom": null,
            "display": null,
            "flex": null,
            "flex_flow": null,
            "grid_area": null,
            "grid_auto_columns": null,
            "grid_auto_flow": null,
            "grid_auto_rows": null,
            "grid_column": null,
            "grid_gap": null,
            "grid_row": null,
            "grid_template_areas": null,
            "grid_template_columns": null,
            "grid_template_rows": null,
            "height": null,
            "justify_content": null,
            "justify_items": null,
            "left": null,
            "margin": null,
            "max_height": null,
            "max_width": null,
            "min_height": null,
            "min_width": null,
            "object_fit": null,
            "object_position": null,
            "order": null,
            "overflow": null,
            "overflow_x": null,
            "overflow_y": null,
            "padding": null,
            "right": null,
            "top": null,
            "visibility": null,
            "width": null
          }
        },
        "5f31a1ff287843698d7e3a0d7371746d": {
          "model_module": "@jupyter-widgets/controls",
          "model_name": "DescriptionStyleModel",
          "model_module_version": "1.5.0",
          "state": {
            "_model_module": "@jupyter-widgets/controls",
            "_model_module_version": "1.5.0",
            "_model_name": "DescriptionStyleModel",
            "_view_count": null,
            "_view_module": "@jupyter-widgets/base",
            "_view_module_version": "1.2.0",
            "_view_name": "StyleView",
            "description_width": ""
          }
        },
        "d254f611e9464f46a4c61ea908fbe86e": {
          "model_module": "@jupyter-widgets/base",
          "model_name": "LayoutModel",
          "model_module_version": "1.2.0",
          "state": {
            "_model_module": "@jupyter-widgets/base",
            "_model_module_version": "1.2.0",
            "_model_name": "LayoutModel",
            "_view_count": null,
            "_view_module": "@jupyter-widgets/base",
            "_view_module_version": "1.2.0",
            "_view_name": "LayoutView",
            "align_content": null,
            "align_items": null,
            "align_self": null,
            "border": null,
            "bottom": null,
            "display": null,
            "flex": null,
            "flex_flow": null,
            "grid_area": null,
            "grid_auto_columns": null,
            "grid_auto_flow": null,
            "grid_auto_rows": null,
            "grid_column": null,
            "grid_gap": null,
            "grid_row": null,
            "grid_template_areas": null,
            "grid_template_columns": null,
            "grid_template_rows": null,
            "height": null,
            "justify_content": null,
            "justify_items": null,
            "left": null,
            "margin": null,
            "max_height": null,
            "max_width": null,
            "min_height": null,
            "min_width": null,
            "object_fit": null,
            "object_position": null,
            "order": null,
            "overflow": null,
            "overflow_x": null,
            "overflow_y": null,
            "padding": null,
            "right": null,
            "top": null,
            "visibility": null,
            "width": null
          }
        },
        "d7002c632b3a4a9283f6e37f18a318ba": {
          "model_module": "@jupyter-widgets/controls",
          "model_name": "ProgressStyleModel",
          "model_module_version": "1.5.0",
          "state": {
            "_model_module": "@jupyter-widgets/controls",
            "_model_module_version": "1.5.0",
            "_model_name": "ProgressStyleModel",
            "_view_count": null,
            "_view_module": "@jupyter-widgets/base",
            "_view_module_version": "1.2.0",
            "_view_name": "StyleView",
            "bar_color": null,
            "description_width": ""
          }
        },
        "c8ee4d9d21c645e0b05f2cf425bf93e8": {
          "model_module": "@jupyter-widgets/base",
          "model_name": "LayoutModel",
          "model_module_version": "1.2.0",
          "state": {
            "_model_module": "@jupyter-widgets/base",
            "_model_module_version": "1.2.0",
            "_model_name": "LayoutModel",
            "_view_count": null,
            "_view_module": "@jupyter-widgets/base",
            "_view_module_version": "1.2.0",
            "_view_name": "LayoutView",
            "align_content": null,
            "align_items": null,
            "align_self": null,
            "border": null,
            "bottom": null,
            "display": null,
            "flex": null,
            "flex_flow": null,
            "grid_area": null,
            "grid_auto_columns": null,
            "grid_auto_flow": null,
            "grid_auto_rows": null,
            "grid_column": null,
            "grid_gap": null,
            "grid_row": null,
            "grid_template_areas": null,
            "grid_template_columns": null,
            "grid_template_rows": null,
            "height": null,
            "justify_content": null,
            "justify_items": null,
            "left": null,
            "margin": null,
            "max_height": null,
            "max_width": null,
            "min_height": null,
            "min_width": null,
            "object_fit": null,
            "object_position": null,
            "order": null,
            "overflow": null,
            "overflow_x": null,
            "overflow_y": null,
            "padding": null,
            "right": null,
            "top": null,
            "visibility": null,
            "width": null
          }
        },
        "a9f4b3b605e04b6383fd3f928ba9ff3b": {
          "model_module": "@jupyter-widgets/controls",
          "model_name": "DescriptionStyleModel",
          "model_module_version": "1.5.0",
          "state": {
            "_model_module": "@jupyter-widgets/controls",
            "_model_module_version": "1.5.0",
            "_model_name": "DescriptionStyleModel",
            "_view_count": null,
            "_view_module": "@jupyter-widgets/base",
            "_view_module_version": "1.2.0",
            "_view_name": "StyleView",
            "description_width": ""
          }
        },
        "37ddb0cf9c93422bab8332eac1745de7": {
          "model_module": "@jupyter-widgets/controls",
          "model_name": "HBoxModel",
          "model_module_version": "1.5.0",
          "state": {
            "_dom_classes": [],
            "_model_module": "@jupyter-widgets/controls",
            "_model_module_version": "1.5.0",
            "_model_name": "HBoxModel",
            "_view_count": null,
            "_view_module": "@jupyter-widgets/controls",
            "_view_module_version": "1.5.0",
            "_view_name": "HBoxView",
            "box_style": "",
            "children": [
              "IPY_MODEL_189a6d92e653454db73238b2d263d0e7",
              "IPY_MODEL_fdb26395c8414ed9a4b331a346f759ce",
              "IPY_MODEL_3285c43493544dce854f3250176029aa"
            ],
            "layout": "IPY_MODEL_eea6928ac06740919ee0145d1b4c49c5"
          }
        },
        "189a6d92e653454db73238b2d263d0e7": {
          "model_module": "@jupyter-widgets/controls",
          "model_name": "HTMLModel",
          "model_module_version": "1.5.0",
          "state": {
            "_dom_classes": [],
            "_model_module": "@jupyter-widgets/controls",
            "_model_module_version": "1.5.0",
            "_model_name": "HTMLModel",
            "_view_count": null,
            "_view_module": "@jupyter-widgets/controls",
            "_view_module_version": "1.5.0",
            "_view_name": "HTMLView",
            "description": "",
            "description_tooltip": null,
            "layout": "IPY_MODEL_37df624d80c142b6b3807dde57d7ef16",
            "placeholder": "​",
            "style": "IPY_MODEL_73cd38374953444281fa19557748a49d",
            "value": "  1%"
          }
        },
        "fdb26395c8414ed9a4b331a346f759ce": {
          "model_module": "@jupyter-widgets/controls",
          "model_name": "FloatProgressModel",
          "model_module_version": "1.5.0",
          "state": {
            "_dom_classes": [],
            "_model_module": "@jupyter-widgets/controls",
            "_model_module_version": "1.5.0",
            "_model_name": "FloatProgressModel",
            "_view_count": null,
            "_view_module": "@jupyter-widgets/controls",
            "_view_module_version": "1.5.0",
            "_view_name": "ProgressView",
            "bar_style": "danger",
            "description": "",
            "description_tooltip": null,
            "layout": "IPY_MODEL_4d15d3c028544d79aecf30fb84434e50",
            "max": 163,
            "min": 0,
            "orientation": "horizontal",
            "style": "IPY_MODEL_27870c79d2f44d9bafbe59df701998ff",
            "value": 1
          }
        },
        "3285c43493544dce854f3250176029aa": {
          "model_module": "@jupyter-widgets/controls",
          "model_name": "HTMLModel",
          "model_module_version": "1.5.0",
          "state": {
            "_dom_classes": [],
            "_model_module": "@jupyter-widgets/controls",
            "_model_module_version": "1.5.0",
            "_model_name": "HTMLModel",
            "_view_count": null,
            "_view_module": "@jupyter-widgets/controls",
            "_view_module_version": "1.5.0",
            "_view_name": "HTMLView",
            "description": "",
            "description_tooltip": null,
            "layout": "IPY_MODEL_9c1623451d8347fe90442d6124bc51e4",
            "placeholder": "​",
            "style": "IPY_MODEL_b1763595f60047169a8395170a716486",
            "value": " 1/163 [11:48&lt;16:12:52, 360.32s/it]"
          }
        },
        "eea6928ac06740919ee0145d1b4c49c5": {
          "model_module": "@jupyter-widgets/base",
          "model_name": "LayoutModel",
          "model_module_version": "1.2.0",
          "state": {
            "_model_module": "@jupyter-widgets/base",
            "_model_module_version": "1.2.0",
            "_model_name": "LayoutModel",
            "_view_count": null,
            "_view_module": "@jupyter-widgets/base",
            "_view_module_version": "1.2.0",
            "_view_name": "LayoutView",
            "align_content": null,
            "align_items": null,
            "align_self": null,
            "border": null,
            "bottom": null,
            "display": null,
            "flex": null,
            "flex_flow": null,
            "grid_area": null,
            "grid_auto_columns": null,
            "grid_auto_flow": null,
            "grid_auto_rows": null,
            "grid_column": null,
            "grid_gap": null,
            "grid_row": null,
            "grid_template_areas": null,
            "grid_template_columns": null,
            "grid_template_rows": null,
            "height": null,
            "justify_content": null,
            "justify_items": null,
            "left": null,
            "margin": null,
            "max_height": null,
            "max_width": null,
            "min_height": null,
            "min_width": null,
            "object_fit": null,
            "object_position": null,
            "order": null,
            "overflow": null,
            "overflow_x": null,
            "overflow_y": null,
            "padding": null,
            "right": null,
            "top": null,
            "visibility": null,
            "width": null
          }
        },
        "37df624d80c142b6b3807dde57d7ef16": {
          "model_module": "@jupyter-widgets/base",
          "model_name": "LayoutModel",
          "model_module_version": "1.2.0",
          "state": {
            "_model_module": "@jupyter-widgets/base",
            "_model_module_version": "1.2.0",
            "_model_name": "LayoutModel",
            "_view_count": null,
            "_view_module": "@jupyter-widgets/base",
            "_view_module_version": "1.2.0",
            "_view_name": "LayoutView",
            "align_content": null,
            "align_items": null,
            "align_self": null,
            "border": null,
            "bottom": null,
            "display": null,
            "flex": null,
            "flex_flow": null,
            "grid_area": null,
            "grid_auto_columns": null,
            "grid_auto_flow": null,
            "grid_auto_rows": null,
            "grid_column": null,
            "grid_gap": null,
            "grid_row": null,
            "grid_template_areas": null,
            "grid_template_columns": null,
            "grid_template_rows": null,
            "height": null,
            "justify_content": null,
            "justify_items": null,
            "left": null,
            "margin": null,
            "max_height": null,
            "max_width": null,
            "min_height": null,
            "min_width": null,
            "object_fit": null,
            "object_position": null,
            "order": null,
            "overflow": null,
            "overflow_x": null,
            "overflow_y": null,
            "padding": null,
            "right": null,
            "top": null,
            "visibility": null,
            "width": null
          }
        },
        "73cd38374953444281fa19557748a49d": {
          "model_module": "@jupyter-widgets/controls",
          "model_name": "DescriptionStyleModel",
          "model_module_version": "1.5.0",
          "state": {
            "_model_module": "@jupyter-widgets/controls",
            "_model_module_version": "1.5.0",
            "_model_name": "DescriptionStyleModel",
            "_view_count": null,
            "_view_module": "@jupyter-widgets/base",
            "_view_module_version": "1.2.0",
            "_view_name": "StyleView",
            "description_width": ""
          }
        },
        "4d15d3c028544d79aecf30fb84434e50": {
          "model_module": "@jupyter-widgets/base",
          "model_name": "LayoutModel",
          "model_module_version": "1.2.0",
          "state": {
            "_model_module": "@jupyter-widgets/base",
            "_model_module_version": "1.2.0",
            "_model_name": "LayoutModel",
            "_view_count": null,
            "_view_module": "@jupyter-widgets/base",
            "_view_module_version": "1.2.0",
            "_view_name": "LayoutView",
            "align_content": null,
            "align_items": null,
            "align_self": null,
            "border": null,
            "bottom": null,
            "display": null,
            "flex": null,
            "flex_flow": null,
            "grid_area": null,
            "grid_auto_columns": null,
            "grid_auto_flow": null,
            "grid_auto_rows": null,
            "grid_column": null,
            "grid_gap": null,
            "grid_row": null,
            "grid_template_areas": null,
            "grid_template_columns": null,
            "grid_template_rows": null,
            "height": null,
            "justify_content": null,
            "justify_items": null,
            "left": null,
            "margin": null,
            "max_height": null,
            "max_width": null,
            "min_height": null,
            "min_width": null,
            "object_fit": null,
            "object_position": null,
            "order": null,
            "overflow": null,
            "overflow_x": null,
            "overflow_y": null,
            "padding": null,
            "right": null,
            "top": null,
            "visibility": null,
            "width": null
          }
        },
        "27870c79d2f44d9bafbe59df701998ff": {
          "model_module": "@jupyter-widgets/controls",
          "model_name": "ProgressStyleModel",
          "model_module_version": "1.5.0",
          "state": {
            "_model_module": "@jupyter-widgets/controls",
            "_model_module_version": "1.5.0",
            "_model_name": "ProgressStyleModel",
            "_view_count": null,
            "_view_module": "@jupyter-widgets/base",
            "_view_module_version": "1.2.0",
            "_view_name": "StyleView",
            "bar_color": null,
            "description_width": ""
          }
        },
        "9c1623451d8347fe90442d6124bc51e4": {
          "model_module": "@jupyter-widgets/base",
          "model_name": "LayoutModel",
          "model_module_version": "1.2.0",
          "state": {
            "_model_module": "@jupyter-widgets/base",
            "_model_module_version": "1.2.0",
            "_model_name": "LayoutModel",
            "_view_count": null,
            "_view_module": "@jupyter-widgets/base",
            "_view_module_version": "1.2.0",
            "_view_name": "LayoutView",
            "align_content": null,
            "align_items": null,
            "align_self": null,
            "border": null,
            "bottom": null,
            "display": null,
            "flex": null,
            "flex_flow": null,
            "grid_area": null,
            "grid_auto_columns": null,
            "grid_auto_flow": null,
            "grid_auto_rows": null,
            "grid_column": null,
            "grid_gap": null,
            "grid_row": null,
            "grid_template_areas": null,
            "grid_template_columns": null,
            "grid_template_rows": null,
            "height": null,
            "justify_content": null,
            "justify_items": null,
            "left": null,
            "margin": null,
            "max_height": null,
            "max_width": null,
            "min_height": null,
            "min_width": null,
            "object_fit": null,
            "object_position": null,
            "order": null,
            "overflow": null,
            "overflow_x": null,
            "overflow_y": null,
            "padding": null,
            "right": null,
            "top": null,
            "visibility": null,
            "width": null
          }
        },
        "b1763595f60047169a8395170a716486": {
          "model_module": "@jupyter-widgets/controls",
          "model_name": "DescriptionStyleModel",
          "model_module_version": "1.5.0",
          "state": {
            "_model_module": "@jupyter-widgets/controls",
            "_model_module_version": "1.5.0",
            "_model_name": "DescriptionStyleModel",
            "_view_count": null,
            "_view_module": "@jupyter-widgets/base",
            "_view_module_version": "1.2.0",
            "_view_name": "StyleView",
            "description_width": ""
          }
        }
      }
    }
  },
  "cells": [
    {
      "cell_type": "markdown",
      "metadata": {
        "id": "view-in-github",
        "colab_type": "text"
      },
      "source": [
        "<a href=\"https://colab.research.google.com/github/plaban1981/Langchain_usecases/blob/main/Best_Retrieval_models_for_RAG.ipynb\" target=\"_parent\"><img src=\"https://colab.research.google.com/assets/colab-badge.svg\" alt=\"Open In Colab\"/></a>"
      ]
    },
    {
      "cell_type": "markdown",
      "source": [
        "## Best Retrieval models for Retrieval Augmented Generation(RAG)"
      ],
      "metadata": {
        "id": "K-4TIiCSd9LJ"
      }
    },
    {
      "cell_type": "markdown",
      "source": [
        "* There are ebeding models which perform comparatively better than OpenAIEmbeddings model ada-002.\n",
        "* Not everything works as per the embeddings model in the leaderboard.\n",
        "* The real life usage decides which embedding models work better\n",
        "* popular embedding models leaderboard is MTEB(Massive Text Embedding BenchMark (https://huggingface.co/spaces/mteb/leaderboard))"
      ],
      "metadata": {
        "id": "sOpw7WoNeKfj"
      }
    },
    {
      "cell_type": "markdown",
      "source": [
        "![image.png](data:image/png;base64,iVBORw0KGgoAAAANSUhEUgAABfEAAALNCAYAAACPuyu0AAAAAXNSR0IArs4c6QAAAARnQU1BAACxjwv8YQUAAAAJcEhZcwAAEnQAABJ0Ad5mH3gAAABjaVRYdFNuaXBNZXRhZGF0YQAAAAAAeyJjbGlwUG9pbnRzIjpbeyJ4IjowLCJ5IjowfSx7IngiOjE1MjEsInkiOjB9LHsieCI6MTUyMSwieSI6NzE3fSx7IngiOjAsInkiOjcxN31dfdwWhk0AAP82SURBVHhe7P0PXBTXvT/+v3rNhVx6IbVKYvGSEK8aE0VbxCaf9UMebC4WUgxGPiYo8eKfSKQNYuLF6Eda+Mmn+NNmr6lIEgyJIrUoCUWhoYGPXtePfLKNCdAokCh6DQlXaoLWBlo+WRrq95yZs3+ARZZ/gvB6Ph4Ds2dmZ2dnzs6cOXPmfb5xXUAfNV2+Ar9JE9UrIiIiIiIiIiIiIiIaCn+n/hMRERERERERERER0QjDSnwiIiIiIiIiIiIiohGKlfhERERERERERERERCMUK/GJiIiIiIiIiIiIiEYoVuITEREREREREREREY1QrMQnIiIiIiIiIiIiIhqhWIlPRERERERERERERDRCsRKfiIiIiIiIiIiIiGiEYiU+EY1YHR0daLz4B3x6/r+0cSIiIiIiIiIiorHmG9cFNe62pstX4DdponpFRDS4Pr/UjMI3fot3j1ai3dqupXl4esCwYC6WrI7EpH/y1dKIiIiIiIiIiIhGO1biu6UdzafP4PxfPDFtbiB8PUWStQl1VU348pt+mDvHDzKJ+qflfCVqm4E77w/G1PEq8XI9LFcmwDBrgkq4MZfL6M21Blg+vgL43gfDNG+VOHRs63jHPbMxc7KHSu2/fn3nm6YVFyzn8IX4Zdh/M27429+u49d7S/HWG6W43eOviPkfV7A/31ekOx4aGjduHB5fEY4n4xdq40RERERERERERKPZsFfit1y04J3SM2iRL3zvhSHEOCgVnIPrKorXRmJ9hQG7ju/Eokki6XIJEh7ZhrKQLfhgTxRctQu2VbK6riS2VXI6KmHt8/doImYZAuDj9N5unG4quFre7ZPuxcx7JsDzBnWfPa9H3ypk3VVtegjRe4HkA+8hMUim1CArOB6mNg8kHzyJxDnabDfUfRluqM5EwPJ8YHUOGpIDVeLQsa1jREYpshe7d3PiRvr1nW8asQ8fEPsQTr+ZXsgK/J3/cw/eM/9ee/3t8X/Fyqe+wKtvTML/+3/dM2xwyGy88OKP8Xd/9w2VQkRERERERERENPoMX0z8jiaUPb8AsxduwKZXc5Ehh/Q0RC4Iw6rX6mFVs93KLhQnInaNGH78a9SpNLvPypEhp4mh7BM9yT5/j0MJLmhzNqDM5XQxvFKp3xARXC0vemEk7nswHjm1eogSV3pej32wXFMzDSk/TA0LQNCcJQi6WyXRqHe85P/aK/ClP177e+zMmuyyAv/+6W2orDiDY4dPqhQiIiIiIiIiIqLRaZgq8dtR/dIGJJS3wjdoJfLLjuLMu0fxwZtbEDelHeZfrMELJVfVvKPApRJYatW40niyBGY1bhP0Y307aMPLS/TEp3Y60t5NQOcG10uwzz5NDaaIbk8FJL5sm16K0i0G+LbVIOP5/O43FrpwvM82bEXETQlFPgER2w+h6GASDCMuTEz/eXqOtCdMhpiX+u+motwyNSbe+g8d+Ltxrh8S+n5wq9ZCf+K3/4rCfb9VqURERERERERERKPT8FTif1aC3XsbAK8l2PVaAgx3e8NnvDd8Z0Uh3SQrqttRnP4rVHcA1rPlyNmdjZxjTerNyrUaFMj0UqdW+5crUZC+GbFPxiFhcz7Mnzm3Nm9F9SEx/6EatHRcRfXeNCQ8mYiC82JSRysumAth2pzYw3sHICgUiyY34UhFvUqQ6lG2vx4zHwzuXCnvpW8HbbhDVfh6OqWN71oJ7IE77NPU4N29ovj2O2zTJ2Dm8lVYIRMvtfT6tIPjfY7BHobnsxPafjF/JvbRZxbkadsuEal7K8X2VfMoLXIfqm27KV3sA7nfXO1TO7WvdheiulUlCY7PkfsoG2VnnSZqxHcX69dsyUfqmjjErklD3ql+3AxqFftnt8wfYhlJmSg+3WUZ1xpgPpSpf4b2nS1obFPTnDi+92ZkiXzqOSlYTems2VKIjKQeltWq5/MCuSGuVOrff02heiJD+Urk58OZ2NTjdhEu16DYZPttuJ7HeknMs9ekLUdb58Pyt6ImSs77/Hw5suQ6Z1j0Jz/kb6g0W98mYpuVnfWE/1ztXW651HAZXzRdUa8gPr8ZC3/g+rGP638TBy5Vwf/HL/6Exos95SMiIiIiIiIiIqJb37BU4jd/aNFaofsuDYeha2vdGT/AigfF/7YTqDoPeN7rjS9kqJ0d/7tTy/HmE/u0MDxf+ARo8d+t1dmIXZiITSU12vQvKjKxKiIOWadtlfHtaDSL5Zhr8E7GYkSbylFWC9zu1YTitQsQ9qwJBadaxOf+AWUl4r3Rm1F2Wb11IKr9MOsJP9S9UQKLrda81oIjl/zw+H+bjmqVdNNcPIcq+T/8PkzVEvrpyhktBFLBnm1YFrEBqSWVsNRWIs+UiPVvOSpVm0s24F+i0/Ba/QQEhczGl+UydFI+CswiD3zWUwW72levWtD4F5V0Nlf/nAq9orflVD4SlmegzFHvK0xE1YtLMW9NJvIs9bBYypG6ajMKPlOT3XGpHJtEvkkQn631OVBTiPXLFmO97cmQSyVImL8Uq9ILYfkj8NUl+Z03IHpjOZy7EbBWZ2Kl+N4ZYrs0tjXhSFocwtIsaqpNO6p3x+GHa0w4omXbKzCLZYU8mY06W175yycwi+1srilHRkSivp07PJw6UvZAwUaRnzPKxefIvJuLhOh4p3xv+23EY/1e8Z2+Bi4ck/NEYtVepxtgYn3DFoh5xO9C3tf64uIJmFLisfKVGsc8ap9XnSxEwqI0mI6JbXybB3y0J2viEbYxV2z3P+Cr/yrHT6PjsL5Cvc8Nlz51/NgmTmiHMeRLPLrgGv7hH7rcERI+qPbGv2dOxpU//r32+tKnn2v/iYiIiIiIiIiIRqNhqcT/4tNK7f/cf/bT/nfmB/+Z8n8TGj9tBTyDYVwqXl46jtqLMl1qRdVJWSG6BMbvewAd9cjblAvL+Fjkm0uR/2Yeio5mIXFyA0wHVEthm4pMmOpXo/TUe2ioycKiyX6IeG4n8o+exAfmPOS/fRQVWwKBNgvyjjWoNw1EO2YGR2FmWwksVXrFal1FCepmxcLoRoetN/Yb/ExrNW0btsHcqVJbV5Bqm74UIQtNqJ0RhX3J4fBR03vieJ8+ZJR3r3QvO9GCmKKjaPjoPZzbFwu568zmSlWhXY8juy1olk9cHNyK5HXJyN6TIOZpx9ynX0b+avc7k22sPK7d8EjceUjbv/nHSlFRlIKITv0rN+GC7xIck/v2o5MoWiHzVw3MVe62xm9FmSkNBdcM2FF2FEXa5xzCrpB2FO/+jX4TaXIE1r2chQ9+fxLHikQ+O3kIO8R+bDb/Csdt+VPLj/lifQOQvE/kp7fzxDqVYle4mm5Tm4+fvlqPO1dk4T+Oic968xCOyW14MRcFJzq3lC/bkYkLz+TgTI34bq9HwV+ly/zl+8Pt+EAsX8u7GQb4QuT7XLNqIa9+G22BSHnzmLbOx8xZSJZhq0ypyDurLQSYI/bRy3li+fr3PnZyJ+K9gOpXy1HV5ZGNrG2F8H+xSNvnDcnB+veQT9ZMiUXRKfH+olJ8cHwrYtT87mi3/lX7/8CMNuzY+iluuw349re/xs6MBvhP7rICwuUvHE+ctH81SE/NEBERERERERERjUDDUolvtbpX6fZFm5zPA3PDlsBXhqB5X7Xwbq2CpVz8X2rAXNkkufY4XrsEBD1hxKyvW9FyTQzWezE3REwrPdM59AimY13aSsz0FqMqNIznLAMMkz3EirWisbYSjR0TtHTLZRdhSfqsCc1+oYib1Y6sY5WwdtTDUtQEY7QBdzQN9CZBK6prxfLswxW0fK0mueQBTy+g+awZBeVdQqW40HjRedn1LkPGYPFTiJkhN6bYjg/MhhZBpaIBjVqKFVaxXxA4Hf62puMTv61VQBd83Lfvfofvvdp/GVrGIkMdjfOG/9365zqL+dclmKole2Dqd/WbBGX/6Wa4lSsWvCPzVVQ4HvFW+ajFG1MNYjmXRD7SGot7YKYxGL7i+1hbm1B36gqsk2R6PZr/JP8LKj8iJBYxD6p1HDcB/pP1UZs6817UIQCPL7gPaNE/z/rPs2EQ0/JqumyfWQlIeToQPjLPdunn9ZFHDfBVaf4/XILH5Uj5OVyQ+9e2LpFiP81SFd/ewYh5Wn5KA46cVGGexvkhyDhdW771cgOqP2yF5xQ5QeTfrlFtFichJVLdgBPz698DiHj6KQTZdskkP6cbDb0bP0G/pfT5538PyynH7aX/OHkHrn3Z5Qt3MX7iHWqMiIiIiIiIiIho9BmWSnzfe1Rs8K+7t7CVLYu/UpXFs+7RK9M954YixsvRwtv6YSXyxP94Y7AWVqT5Yr2WXv2LeMyev0ANkVh1SCR2MxF3dK37vVyJnGcjMe97CxCyMg1Zb2kBZwZRAAzRgcAhCyyVMpROICIMrp5C6KtYFMnW0PZhJxZpFcqdxaTLVt76cOzUUeSv8EaZ6VmYzDe+SZF8wHnZ7yF7sb4/euQ9AXeqUd19CHrKAziVj+JT+mc1njiBMngg7rsB2mt3+YQlaS33b6/ORWzEw5gXnYaC0zdefx/fXta3q8/OoVj+L0nDPHs+WoDIHXqIJptmSy7WGx/GfQ9GY2VKJo68rybYfNWuP4kw7d5unQw7XMWFWnmTqgEZyx2fNfvhzcjRZ+hs/D/ijhvXZes8vaFXaTegUayE7beBuyZ0evLC9x59+9e1qN+gjGl/2IRV8x/CfY8sxfptv0KZ/cmXLmTfCGpUsmo32xy/1/64b85U3O7liavX/h5v/PIufNF8Gz6s+SYKj0zEn/98m5qrOw/Pv8d9s7W7DURERERERERERKPSsFTi+//zdK1ys8xS0znUjWQ9A0uJHDHA31bP7TkbhsUeQEUValvbUWUuFIkqlI7gM1GfMei5HJx592iXQXaUewPWSpgWJiLj1H1IfvMoGipLkZ/+mJo4ePxDH0MECmH6SQnqQh7DI3erCTfbOG8YFoSKkXbkfTgY4YJuxAOGpHTEyfAuqxYg4IGHEJJeCcOPXkZKWPdW9Dc0bgIMyTmoePeQFgpo2mfl2LQsHjm2cDCD4Vt+Wit4RG3FB93y0VZEiExrtZjwwzXZsDyQhNJ339NCMP1ksfZuBz1UO9Dh6iaVjTd8tZb5AUg50PWzxPBj90MNdSI+8yttxA++4x2/ja7rYv1L56dhGt/agLCUQnz5w5344PfvoeLtl7DO3Y5p1c2Fr/SIOP1y223jELFE5kvdf5z4Fo6f6C3gE/CD6Ifh4ameMCAiIiIiIiIiIhqFhqUSH3Mi8IxsPFu+B69ZnFtTy44+TchqA3wjo2C0tyr3gOFRGVKnHOaTFlSXiOlPheqhdATPadMRIf5Xm8/hSx9v+Ix3Hnqp4KuzaJ+HpasQM0tVLA+gMrJHk4x4PFx83KUmxEQZb9BCe+hdqNFblke47JNgMLWjLjcbebOSUHpKVU7//iTy1wV2asntlo52WGV4mPEBMK7eiuztMsB8A6o+djfevRvuuU/vaPlYDc57ds1H3vCUoWMshVrL9hVPL8HM8dq7xLqp/zYT/WCU/4+JvOpcd95pPg9MC9RD2lg+utrts3y6dvjsJqvlBArkSMh0TBMb2XNWoB6bvtO6yBth2p0yxAXKFvlXxW9H5gmD+F4GLVSQWJKczS2+/6TfcDBXOHWCa7+Z4L7oVY9i4l3f1saPlE7AqaobV+J/2/dbeDJ+8G+4ERERERERERERjSTDU4k/bjri0mMRhCZkrYlE7MZM5OzORoYYj5YdZHoZ8JPnQjt3vDrHiBVeQN4vMvFOmwdijLMdFcGTIrDuRwHAaROiV2Si2FwJi6UceRs3ODru7ImtwvXEb1Ag3mc+nIlVz+Zrk5x5ahE9GlBb1aRXVN7mqX/+xXpUyRjtvfKGIUJWPIcj4uE+tkLvUdeObeWQr3fA6qTqzWxt++bszkTqsgUIk+Fhxi9BXPiNw5907dhWDnmn1US3tKLxrNifFytRVXkOtR+LoaoS1RevwhbFRfJULalrT/UUp78d1S/FIWy5SdtHFosFRw6bRbof5k7rfwgXjPPQb6acr0Kd7BB4XCBiUg3wbSsU33Uz8kr1zyo2bUBGuX6zyVZhffzXhTDLaTvisXa/luRwdzjiIsV3upSP9c/K/CjzYly3+Xx/uArJUwDztjis2lEilic+rzQfm0T+q3O5HVwzrUtExqFymA9tw6rn5U2GACT/OEL/buONiJO/DbEua5+W62JBQdoarD8k8uycZMRrT0R4w/duuQ8qceStcv23k7QB60/JBfTOP/wpxInfZt1e8R6T+B7yOzyxAVlquru8vvkP+Lftz2Dyvd/BJH/fGw7/NOU7+Lf//zPw+sd/UO8mIiIiIiIiIiIanYanEl/wDErCweItiJ/jqVVcZryaixyLFVONCSgq24lFXToBlRWsxqf9gEtNqPOKgmGucwt7D8z8cQ5Kkw2446ysOE1E7Jo07K4ErG03jpuOu6OQ/FwgfC+WYJN43wuZDTC+sR2JarJuAuaGG+CLJuRszEeVrICeGIxHjbKithAJuZWOFsg34BO+FQ0fbYVxsOrwu3VsK4cr3dbFXJKrbd+MV/PxzuXvIGb1VhwrS9Zbnd9A145t5dBbZ7idTRD7bCWC2ixI1faJPkQvjMTs7y3AplK9Ff3Uh+UNHaBs94t451MtqQsP+BsiEHRZ30exazYg9ZQ3YlJ3Im6WmqU/ZszHCvlESEU2Msr00EK+UTtR9OISGK+dQOpG/bPWHxZ5yHpV267+URuREuSBahk/fs1m7P7MiNzMWO29Dt4wbn0d6QZvNFpkfkxDzn8FY9eLsZ2fwPAMROLBHKSLDFG7f5tYnvi8jdmoQjus3eJM9cArFrtS/VBnSsOq9BJYMB3xL+1E4hzb76Prb2MDNr3VgDsik3HsjSXw10LheMCwMh1xU9phfjVNfGcTzBNXIT9VCy7Uu/GhSMlNQsT4VpTtFd9j4z58YdiO7NXOv1H3BEz7J/zgyRA8Gmu84bDgiRDcI+YlIiIiIiIiIiIa7b5xXVDjbmu6fAV+kyaqV4OgrVVvme3lDZ8+x1npoqMdLXJht3nCx7sPlYjaOoj33Cj8jot5rNdaYZWhV/oZ/mRU66hHzqI4HAnZidxnbCF0WtF4LB8vpBWiLmQLPtgTpVdsW8W2bQM8ffSwNT2xtort/XXv87nNll9c5D1t34q1dpUn3N3v2vrKZfSWF9X37/dvQH2PG26XG3xXTW/TezPQ9wuXm5pR9bsz6tWNBT0YiO/8U+eulImIiIiIiIiIiEabYWuJ34ms9JNxwPtZ8dfJOA99WX2pwJe0dejlPS7m8RxA/PJRr/Y4XrsIzP1+MHzldtIGP8z8rh/uEJN97/ZzhExSMeh7q5j39HZvPrfZ8ouLvKft2x7yhLv7XVtfd/KiLQZ/f38D6nvccLvc4Ltqepvem4G+X/hL61/UWO/+3Id5iYiIiIiIiIiIblUjoyU+jU7WSpjmJyILE7Ao6jHMkh3Btv0BZhl3fVIU9u3ZAmPXsEk0pv3tb3/Dp//5X/jrX79WKa6Nu20cAqb8k/afiIiIiIiIiIhoNGMlPg2t1gaYSwtRVnQGjeKlz5RgGEMi8EjEdPiy/pWIiIiIiIiIiIjohliJT0REREREREREREQ0Qo2MmPhERERERERERERERNQNK/GJiIiIiIiIiIiIiEYoVuITEREREREREREREY1QrMQnIiIiIiIiIiIiIhqhWIlPRERERERERERERDRCsRKfiIiIiIiIiIiIiGiEYiU+EREREREREREREdEIxUp8IiIiIiIiIiIiIqIRipX4REREREREREREREQjFCvxiYiIiIiIiIiIiIhGKFbiExERERERERERERGNUKzEJyIiIiIiIiIiIiIaoViJT0REREREREREREQ0QrESn4iIiIiIiIiIiIhohGIlPhERERERERERERHRCMVKfCIiIiIiIiIiIiKiEYqV+DdBc20l6i6rF7eCjnZYrWp8NOm4irrD+cjZnY2cknqMxq/Yk5bzlbCcb1WvhpC1CXWWGjSPpY1LREREREREREQ0hEZtJb71Ug0slkpYTje5qKxtR/NpMU1Mr7vUrtKGyOls/PDJREQuzEadShqQy/VivXuqJG3FBfmdLg/kO7XDsj0M983fBvNNqPO9mereeBaRGWZ8Ica/FIOnljo2XChORGxxg3o1hK5VYveafbBcU6+JiIiIiIiIiIhoQEZtJX7L+/sQuyYRscv2wNK1Mtp6BvufFtPE9N3v97Gm+nQ25j3wEBIOX1UJvbjrXjw6JQDGpbPhr5IG5izy1jyLAld3BM7+GuvX7EFtu4dK6A8PTHswCjFRBkz1UkmjQj0sbzUgYtNWpKxLQHLUdJU+GK7CnBaHjHI388SNXDmBjCe3wXxFvR4up/MR+2T+4Nx4IiIiIiIiIiIion4bA+F0ylF2snNFvfX9E8hqUy/66qt2NKtRt0wKR/rbh7Av2QAflTQgk4JhnNOO/cdrVIJDY+Vx1M0Kh+FuldBPvmHJ2JEaCv9xKmFUsMJ6Sfy7bWja37dcrkdjf/OUs69b0Fh7BS1fq9fDpeMKLGI9GBWHiIiIiIiIiIhoeI37/wlq3G2tf26D9z8OrJl23cf1KCp5B5W/P4N/+IfbcafvBDVlcLSdLUfO8X/GorAG/LphKlZHTFXhU1pRkfU/UfztYERcagL+5SksvN/pu7TWo+y1TJj+fR/yKxpxm99UzJgkp7ei+tA+/Oo3/4H3G1rheb0dbRfPoLrVD3OneKPxWDbeLP0z7nzQD82lL2PHT17G6YlhMEysR8Frh/G7TzwxbdZdnUK4NFsK8YsXtyN732G8/6kX7g2cim/LGWTs9uJjqPvmvbj3jq416d6446uTyPr17VgQ913cqVJla/ATL+9Gyw+SsHr2t/QkaxOqf/Mb/Gr/HhRb/oS2b/mp76JrqS5EXt23MPeedljefAU5B67AP+Q+3HZGpP+fjm7r23LRgiOvvY6sN6vwx6+84Tf9LnzTfhtI3z5vX9a3h432GV2XdbkSBfvy8cuccpxu84T/Pf64w/mDetQE8+5yXHvgAXzzk3LkmX6J33nNxvf99e9kW79fvl2DP1jH495/ngBPuX4yTvv776Oi5BQuqP3W8p1gsW3FNLGtq4uPYO+rv0LFhT/htnsegP8/aovTyP1a9qf7MOsfP9XyRd7vvDHrIT98U03Xl30KJw9XoO5LlSec97V9+Xtw7Ewb4OePe8e7/rIyBNT7776Pt0/U4Muvr+G/Tlfiwt+Lz/6OmL+jFRf+z2/w61/mIeedj/CXcf6Ydq83blPvlVpEni9445d41cX++YPldRQgCs8Z7tIT0I66wzkorgKmzfbrvJ9l/PyKChS/3wjPvzXhwvuVTturl/X48zm8vb8B01aEY4LIR6++nIeyqi9gnRiAqROdPkUu551fY+9elTe9Rd78zsCOKURERERERERERKPRsLTEz37jAOLi1+Pq1T9qgxyXaYOvHbNmhQPlhXjnM5V0zYKyUiDuvwWrBCeXyrEpIg4Jr1q0uOmoKcT6ZYuxvkSGSWlHozkXWeYmOQV15kJkvJqLjA/1ECrNH4rxV8/AcuBZhG3MR0FtPeDlDfzlE5jlfOZPHK2aO5pgTlmKeWtMyDn2B3wl49DvTcMLuTXaPM2lGYhM2YZV0XtdhjPxN0TBcOk4ai+qBOnyu3inwg/G4AD99WclSJi/ArtPtWBaeCwMnmb8THwXk8URL9/6qQUZVZUoTopDzoce8J/sA09Ple68vkLj4Q34l4VpMI+bi5hwP9T98lnMW5SJanvrc3372LaHTbdlXS7H+oUbUIZALFodjmn/lY9VqeVuPt1wFXVi39Qey0TCj8rxxeQJ8P2mfsNAW78ns3HhnnAsCg/AFwfXYOVL+vZE+1XUVp3T96mzthpkLYrE+tJ2zF26BHO/WQmTWLdi2WJfkfvVXGNG1orn8c6178BnkmfnJyq0ZVfhgtN77NTy1/7yHPzFPpg77gRSF4rPO6znoa6sn59DnVjPbvvcWomshyORUNgAn7lL8Pj0JhQ8G42EQ47lWE9nY2X0Pu37xy0NBCwvYv1r3Z/WsGk8vBkrM+pxpzG42xMiX35aiapaF/Hz3VgPXQMKfqx/zzsmB8DnShl+Gh2PrGpb3mtH3SvxCHu1QWyXlVg0V6zuz55Hzukh7p+CiIiIiIiIiIjoVnS9Hy79oVmN9U/Q/Ijr/3XpD+rVdW1cptV+dE6lDNwXRc9fv+f+f71+qMp8/af3P3h95cFLWvqXb28S6S9ef7e++Ppakb626IqWfv16y/V3nntQTHv++qFPVdLXl64feUakhe27XquSql6U8zi/T2dLvycy4/o79veL4Q/659zzTPH1L/TU61+WpV4PFmnBP37r+vm/qMQ/XLr+pZxf+OrdF7Xp9yx96/pnelIXn1w/9ITjO0lymc7ref269fqXf1SjGuv141vEMpPN179UKfo2CrmeVORYjqSlO63v9U/fur5SzPezk1aVIHwt1mGp+A4/++D6V1rCFX1bvXhGe2XTdVna65XFnb+X+t69O3N9t7aNd12vsm03SVu/NdcP/ad6Lf3l3es/m7v4+msfq9fqvY79Zr3+7s9CrgdvfVetv+6zX67ptI30/RpzfXeV03fvpuuyJX352j50+n5fnZT7VqyrLY90VbVLy4NHHD8PzZd/bFFjuvO5/9o9X27/QL1SnD5Xm672zVcfvnp9cS/fSc8bYjur1za9rYee3xdf/9nxLttiq9oW2mt9e734nvZC53YeICIiIiIiIiIiGluGpSV+dNSjmOw3Sb2CNi7TKizvq5TBUo9mGBCxFDAXWdCIVliOnYDvU6GY29qAMjWX5ooF75SL/1HheMS7FS3XxNDijamGQODSGVy4rM/Wm7h/S0aELSa9y5jyV2EpkS3P/fDMj5Y4Oo+d5AcfNb+nIRn/99RRnDuwpIfOcAMwK8wPZnOlasHejtpT5Zj5hAEztdeSB3zGq9GOdrRcbgJ8pkN8qU4t7DErCcmL/dQL1xpPlsA8eTUeD3HqMHdcAB5dHormX51AVacF3pjPXX7wPZWPAnMTrB0qsY+x9+M3JSDIKfKKtn4hj+GRKSpB8roPs+Y2oba+h85mrZUw/wpYsdDQKZSM/wNif5vPirziZGkS4oP62Fmwtvx2xK0M79S3gKchCs9MrkHxSRct3W/AZ7wKUST35TWx7UT+wSXHvvT9J7Heb8knQJz6f3C1XdtqkJOSD/+MnUjs63cSelsPncif9zuHx/LAXGMUcNqCOq3D3gnwnQMU5BWi7po2Q5/zABERERERERER0VgxLJX4N5cH5oYtgW9tCSynLDCXeyDGOLtTxa3ms3Molv9L0jBv/gLMVkPkjp5Dkrhy5x29VYw24YJZ/g/AnRO1BJc8vb3heYOKzZkPR2FmRRW0OltZYXzID48bpusTlZbThchYHol5D8fhhV+UoOqzP6spTsZ74HY12pPmy/XAlG87xd/X+XxHVv43odlWEesGeYOi6GUDLvwkGvc9HI/UvZVotlXmu+mOb3bextr6VWzDvAceQoB9iMT6CrFpelr2tStoRDtMy53fI4bl+UBbe+dKaS+xL9So27Tli/zg6+gfQDNuAu6cAlgud+5suTfWzyzISVqKkAcXIyEtH5aPO9+c8H9iJ0qTvVG8cgHmGTcgq7QeLV2/e8cnKN74LEwyDNO4Pn8jTW/r0RNPtc+sWoe9foh5LQfJXiVYOf9hhD2bibKzfdseREREREREREREY8WwVOLLDm0vNTmatstxmRZi+L5KGVyeD4ZjhVc98n6yBwVeS/DIgy4q2r/lB4P8H7UVH7x7FGc6DVsR4avNNQi84TtL/m8H+lh53ckMAx6fXA7Lh2I5dZU44hWKuferaYK1woR/ebocd244JL7PIWRvT8KKMBUvvz/Ex3ylRu3+qv73kb8xCdknT+KD3eHwfHsD5i3KRd1AtoUUuR1nPnoPDV2G7MU36jDZDylF3d/T8FESgtQcA/VVt21k1bZln1wsREJEJhrDt+PYqVLkZyYj/slANVEZ542ZS7ci/9RRHEydjdptcfiXzSfQoiZr9m/Dz5CMY68vwYX0TJj7cPNF4856uMs7EDEv5om8mYeUWfXIiI5Eajkr8omIiIiIiIiIiLoalkr8+FVPIerJVcj4eaY2yHGZNvP+zi3JB824QBif9kPdpSbMfDoCQa5auN9zHwwyRMuxGpz39NbChjgPtlbxvpMGuo4BmPZ9eROhEkfMXUKq2CqyO66i7nAJzJ/dqLZ3OgzRfjhy8gyqK08AS41O36sdVeZCND+xFvFBXVqC98PUwHDglMUR+kSpqxafO3k2pjoiI3XzZYsWP6W7cR7wDVqClN3JiLhYAst5ld4P2vqZK1Fr72TXDZNmYO7kJlgq+xbWxm3a8sVqVderBOVaDSyngLhA92+oNFpEXngwFvGRATd8OkMzzhtTjSuRvTMWzaVmVDnXi89JQO6LUZhqWIVkoxkv7LZ0CYNzY31ajy7qTvWQV8YHwPijLOxa0Y68Y1WdbzoQERERERERERHR8FTiJzy9HHk5uzBhwre1QY7LtKE00xiFmfDD48YeKuHHBSIm1QDftkLEPrkZeaWVsFgsKDZtQIZTC+E7p8yGbJRf9sYeFJgrYa51L5yIs6BlyVjkBZi3xSPBVAKzpRx5G+MQ+4Ze4dtcmoHIlG1YFb0XdVqKazNDonDnYRN+9tYVrHjEuUW0B+4Y7wF8WI8L6sZAsyUbL2RY9Bd95BP2FFKmnMBPf1KIC2pTNJtN+OnuK4hL/h8qDv8ETJ3rB5SbYZGV/R2tuHB4G0xvOd+IaEf1q2nIsTi2WcunDWhEIKZOlq+uouz5BZgXnYu6PtQua+s3qRDrNzrWT35+XXXDDSqppyMmORy12zbDZHasj/VSDeouqRdu84N/CFBVc04PYaNtc335X+xOdSy/tR4FP8lAwZQExIT1cHPFLwARqETtx+qLiGXd7jMRqBH7UiW1nC1Bamq+/kIjtlvaNhQ7haRp/KQBmHwv7nT+mLlzMVPrS8Abxn9LgaFEfPcK1zeKfO8JEPm8BrW2myturYdNJQr2l+OCuuljyyuL1j2m55XL5chIK3HaV004f1Hk52l+8FFJREREREREREREpBu2mPiy1b2suJfDkLXAdzZjJUo/KkL8DPXaBd+onSh6cQmM104gdWMiYtdswPrDrYD1qr0y2PPBWPyvcG/gYgk2PZuIVa/aOpftg8lR+PnBLWJdrCjbuw2r1qQh1Sy2ia+H9jk+E/20GwWYNvHGlZr3z8WjaED1tSgEOXq01cyMTke8NRthgTLW+8NYX+6HlBdj1dQ+Gjcd8QdzsM66B2EP6rHj5208g7kvHkK63BbKzKgkxHnmI3a+mCcwEqn1ofj5T7UgRYoH/Ofci9qUxfYY9LOTKmF4aS2MtsW0W9F8dq/sW9Z9tvXDPixT6xcQGA3T2+fwxQ1uBviEbxX7Oxh1P4m0r89/X74PliuOynD3TEDE2lj4H9qA2XJ7R+RqN1/05c9G9Ua1/AfjkGVNQOnBlZjZU0v2SRF4ZrUfcp5doL0n8o16+IYlIP275Vilvluk6Y94PGMLItRb0OGBqd/1wJGn9ffIIWR3O9JfinXq6LiLSeFI3hSMnPRsVLt6gmHOEvzEeA6pi/TlpR5r7X097KKwaFYNMhbq883baMa01Dz8PEqFNvrmvZg17jf25ch9ldWRhJ8vvwnHASIiIiIiIiIiolvMN64LatxtTZevwG/SDXplHQWs11phhSd8ZIt2F6ytYvrXgKfPjTug7U1Py5HpWoeqA1i2pH0PsRyf/vVj2l1bK1qsN/jeHe1okTP08pk9b78mFK/ajK9+moeYKSqpL6xi/dr6vl+07XSb2N/erve3W3r6bNs2kWGatJbwvdO3T+f8p6WNu/Eyesu3feVqu7izHhr1vXvNK33YLkRERERERERERGMNK/FpRGmpMCHhUCB2vRyuP41ARERERERERERENIYNWzgdom4+K0HGselIf5EV+EREREREREREREQSW+ITEREREREREREREY1QbIlPRERERERERERERDRCsRKfiIiIiIiIiIiIiGiEYiU+EREREREREREREdEIxUp8IiIiIiIiIiIiIqIRipX4REREREREREREREQjFCvxiYiIiIiIiIiIiIhGKFbiExERERERERERERGNUKzEJyIiIiIiIiIiIiIaoViJT0REREREREREREQ0QrESn4iIiIiIiIiIiIhohGIlPhERERERERERERHRCMVKfCIiIiIiIiIiIiKiEYqV+EREREREREREREREIxQr8YmIiIiIiIiIiIiIRihW4hMRERERERERERERjVCsxCciIiIiIiIiIiIiGqFYiU+3jJbzlbCcb1WvhI52WK1q3A3d3k9EREREREREREQ0wo3aSnzrpRpYLJWou9SuUmiw2bZx96EGzX2oXHfXheJExBY3qFftsGwPw33zt8HsZr185/cTERERERERERERjXyjthK/5f19iF2TiN3vs+X1UNG38f+E6ReZyOo0/Aa1Q77ZPTDtwSjERBkw1UslEREREREREREREY0yDKdDA/QYfvJmHvI7DVtgnKgmDyHfsGTsSA2F/ziVQERERERERERERDTKfOO6oMbd1nT5CvwmDayWtu7jelRY3tfGQwzfx8z7p2vjg6X58AbMS7EgIqMU2YsnqNQuOlpx4WQ5jpSfQPXFFvhMiUDMj5fAeLeHmqEV1Yd+hSrMR8wTfmgs+RXyDlaicVIw4tYlIGKabT6h4yosb+1DcdEZNPrci6A538Ed2oSJmLtyCYK8m2DeXYILmIGIdaHw16YBjceyUfYxMHVRgvhclXitAebyEpiPVeJCiw+mRsQifqkB/s4tznv9PDmP+H5lYp0PW8Ry/GBY9hTiogLh41Tp3XK6BHlvFMJyGfCfFYVFzyyBYZI+zfqZBWVV3jB2eY+Nvo0DUPRREoJUWjetNSjIvQqD+M53nBXb+k0z6jAbxicfQ8QMuZIOLXJ6sQV11yZg6mTHtrVtm2rTQ4hGDhqSA7X0lupCFNTfh5ilYv20FOFyJQreEvvzdCt8w8IREym2m/oY+/uf9xPb7lcos1yFj+ExrHgiGL68EUBEREREREREREQj0LC0xM9+4wDi4tfj6tU/aoMcl2k3VxOK1y5A2LMmFJxqAdr+gLKSTKyK3oyyy2oWtKPRnIuMokKYVixGZEo+CmrrYTmWj4RlmbDY4r5ba5C1KBKx6eX4cpYBQeM/QcGr4n2HTsBcUY8vtfmuok6mvXoGzdqbdM0fyrRc1F1RCZdKkDB/KValF8LyR+CrS5XIM21A9MZyx/vc+byOJpQlRyNsYy7M8vt8XYP9KfH4lyTHclrK0/Avy7Zhf43++ny5CbFrxLpo61uDnOgNWC/e89PSqzKhf/7yCcyvWlD2WjyiTTWwjg+Az2f7kBCdhmL7dhbboWQD/mV5IVpmPYZFUQH40pyPDPMfcKPQ+tZPLWKeTxzzXC7H+oUbUIZALFodjmn/lY9VqU7bTTr/G6Q+8TyKP/WA/2RZsZ+IlS+J9VKTiYiIiIiIiIiIiEaSYanEz9n3K5S8uQ8pLyRpgxyXabJ1/s3jh4jndiL/6El8YM5D/ttHUbElEGizIO9Yl85Pa824ELgdH9S8h4aaIuwKEWlthaiu0ye3nCiE6SJgTN2P7NQEJL/4Mv5XuJjgFYGUg30MLTM5AutezsIHvz+JY0V5KDp5CDvmAM3mX+G4+AzJnc9rKctEQnkrIlKLUPG2+H5FpSjaahDL2YMjZ+VS2lF7SlZwB+MnB/QwOEUnS1GxJxYzPeX0CfCdJv97wH9i5xbzndXgyO5s5DgN5s/UJLsy1HqloPT1ZMSvS0DKy1sRDwuOv2+7OVAvlmHBI1t3IjEyGAZDFJJNSTCI9Zy50ukJhV40/64cxYHJSF8XLpZhwKLkLBwzhcNXTddc8kDEa3nYsSkB8Zu2Ysdz01F36F1cUJOJiIiIiIiIiIiIRpJhqcSPjnoUk/1UzBZBjss0W3idm8VzlgEGGbbF2orG2ko0duhhdyyXu/bKGoyYFQY95Mo4P0yd66el1n6qV0Jb2/T5Z96rpwPeuHOy+HfpDC50agbuDg/MNAbD11OuVhPqTl2BVdtU9Wj+kzaDG593FZbfnhD/w/F4iDdarrVqwx33B8OIJlR9LNfbA3dMku+vxP5XSlB3pV18twnwt4ex8UPMgZM4c+oYkg1OYYP6JRiPhAVAuzcged6HWSFAc4ttO1thvQT4f8fpZsE9AQjCOTQ6tdbvjc9dfvA9lY8CcxOsHSqxa5ic0HAYnG6q+D8QDLT9WT0tQURERERERERERDSyjO2ObS9XIufZSMz73gKErExD1ltVasKN3ekboMZ0vnMNMIr/BXklaJSVx62VOF4u/k8JxkzHvQq3NVtysd74MO57MBorUzJxpMu9jd4/rwkXzPJ/ORIWLMDs+Wp4MhNasjJz+U7siJyAxsPbEPnwwwhZI6Y7t6If5wEf794q8APx+LoErYW9bXC35bzjZkkAZkZ64J2jlfawNlbLCRR4BWOqm8uSPA3JKHrZgAs/icZ9D8cjdW8lmm2V+TfUhOZrapSIiIiIiIiIiIhoBBmWSvyikndwqcnRxFqOyzTZwe1NY62EaWEiMk7dh+Q3j6KhshT56Y+piX109xKkJAeg2bwNIYEPIeDBRGS1hSJ7TyymqlncZbWY8MM12bA8kITSd9/TQv38ZLGaaNPr53nDd5b8H47so0dx5t3Ow89/qDr69QpAzIul+L9Hc7BrdTBgyceq6DSYb3qFtjeM65Lgv38DIp81wbQ5HmHPn8GK15JgsDffd4+/MQnZJ0/ig93h8Hx7A+YtykWdWxX5RERERERERERERCPPsFTix696ClFPrkLGzzO1QY7LtJn3T1dz3AR1FmS1if9LVyFmlgrj8lf9X59dLsfuVxoQl1mqKspPouHd7YiQIW6ceck/DY4QMR1NOH9ejSt1lkKtI9YVTy/BzPF6GrpWQvf6eQGY9n3Zgt6Mqoue8Bnv3XmwVYxb27V/npMDtfjx+5IDgLZy1H2iJcP6mQXFh2vQMuSV4O2w/DITd2w/hKKfLsGjz2zHsVN5SAzqZxifcR7wDVqClN3JiLhYAkuXbUxERERERERERER0qxiWSvyEp5cjL2cXJkz4tjbIcZk2FKoyn0fsk3GdhrzTYsJEPy0kDU78BgXmSpgPZ2LVs/kype8+/wSWNqD21Luo/ficGM7AYqlH4zW9klx3H4Ki5H8LTD8xIWd3JjY9sRSmqs4V1b7/FKj9P/7rQpgtFhTviMfa/VqSgxufF7Q8BYu82pGzNg6b9paL6fp3XJ92Ai1yho4mFG+IRNizuSgT0yyWEhwpkh36hmLqvXKGGuREb8D6lHj8tNTWAa0r7fhSxdx3Huwx6d3SiubPxHLa2uHpG4CZUybAs2sse5uOnoLXt6P61TTkWBzr2vJpAxoRiKldb6YQERERERERERER3SKGLSa+bHUvK+7lMJQt8Js/r4eltvOgtSy/OwrJzwXC92IJNj2biBcyG2B8YzsS9bf1zawo/CRsAqp/tQ2xaxLVEIeQ+Q9jXnQu6rR6Zw8Ynt6KmPFAo6UQGa/+Bl8ufBm/fVGr2bfzj9qIlCAPVB82YdWazdj9mRG5mbFqquLO500Kx66irYifcxUFpjRtnlUpv0HLOKvqxNUbM8PC4f9hNhK0929D1rVAJO/ZiAjtCYAJ8J0m/3vAf6JTh7PdFGKVLea+05Ajb5S4bQIiVizBhfSluE+GB3pADcGRWJV+Qo/7L0wNDIfv/kQkvNWkJ3Qi1nPOvahNWWx//+ykShheWgvjjVafiIiIiIiIiIiIaAT7xnVBjbut6fIV+E2aqF7d4tpa0WKVIWf6GbpFaClPw78834rk4q14VG0W67VzOLIjERkVQPKB95AYpKejox0tLVbAyymsjQtW2ZrdU8yjheDprE+fJ2nfEfD08XbZwl37LPG/23S5rm1wo3PbAbLWIOt/ZMLnpRzETdbXVUu+9Bv89MlM+O85iZQQfR2srWJdPXrZdnKer3v+vkRERERERERERES3imFriT9iyMr0AVTgA1dhKSlH86xgzJ0il6UPvlNmY6pWwR4IX+f7HeM8Osel74GnnMdFBX6fP0/SvmPPFdraZ7maLtd1qCvwpTozTN8Kh1G2/Ffrqn2n+6djKjw6rZent5jW27aT89zg+xIRERERERERERHdKtgSfxA0HopHSHoN/OeEY5HhO7hDpH1x+tfIsVhhfO51ZD8zHb3UO/fJzf68IXe5BAmP5OPOjHSsCwuArxfQcukc3tmTAdOfYlGUGQV/VsgTERERERERERHRGMRK/EHSXF2CI2/+b5gvym5j/TAzwgBjqBGGKUMTkP1mf95Qs35mQcEr+Sg7dQaWdj8Y7r8PxsVPISZiOnxYgU9ERERERERERERjFCvxiYiIiIiIiIiIiIhGKMbEJyIiIiIiIiIiIiIaoViJT0REREREREREREQ0QrESn4iIiIiIiIiIiIhohGIlPhERERERERERERHRCMVKfCIiIiIiIiIiIiKiEYqV+EREREREREREREREIxQr8YmIiIiIiIiIiIiIRihW4hMRERERERERERERjVCsxCciIiIiIiIiIiIiGqFYiU9ERERERERERERENEKxEp+IiIiIiIiIiIiIaIRiJT4RERERERERERER0QjFSnwiIiIiIiIiIiIiohGKlfhERERERERERERERCMUK/GJiIiIiIiIiIiIiEYoVuITEREREREREREREY1QrMQnIiIiIiIiIiIiIhqhWIlPRERERERERERERDRCsRKfiIiIiIiIiIiIiGiEYiU+EREREREREREREdEIxUp8IiIiIiIiIiIiIqIRipX4REREREREREREREQjFCvxiYiIiIiIiIiIiIhGKFbiExERERERERERERGNUKzEJyIiIiIiIiIiIiIaoViJT0REREREREREREQ0QrESn4iIiIiIiIiIiIhohGIlPhERERERERERERHRCMVKfCIiIiIiIiIiIiKiEYqV+EREREREREREREREI9Q3rgtq3G1Nl6/Ab9JE9WrwfN3Rga++asdX1nb89a9fox+rRkRERERERERERER0y/nGN76Bv//723C7pwduv90Dt40bp6ePhEp8WXn/py//jL8TK/lNr3+Ah8dt2grTwAzVzRbqG+6HkYP7ggYL89LYxv1PvWEeobGA+ZwGC/MSjQXM59Qb5pHRq6WlRY25T6sXF0PH13/D13+7jm/d8Y/DH05Htry/9qdW3OHzj/j2eB94ev49K/CJiIiIiIiIiIiIaMyRbe6v/+1v+Lu/A273vA1/+rJ1eCvxZQV+2//7Cr4TvoW/v01/NICIiIiIiIiIiIiIaKz7W0cHPG77u+GrxJchdFr/0qa1viciIiIiIiIiIiIiou6GrRJfxsD/1h3e6hUREREREREREREREXU1LJX4shX+uL/7O4bQISIiIiIiIiIiIiK6gWGpxJex8L3+4Xb1ioiIiIiIiIiIiIiIXBmeSnxrOzw8blOviIiIiIiIiIiIiIjIlWGpxP/rX7/GN77xDfWKiIiIiIiIiIiIiIhcGZZK/OvXr6sxIiIiIiIiIiIiIqKxq6SkRI25NiyV+EREREREREREREREY52tAv9GFfmsxCciIiIiIiIiIiIiusm6Vtz3VJHPSnwiIiIiIiIiIiIiopuopwp7V+msxCciIiIiIiIiIiIiukluFDpH6jr9G9f70cts0+Ur8Js0Ub3qu4G+n9zD7TwycD+MHNwXNFiYl8Y27n/qDfMIjQXM5zRYmJdoLGA+p94wj4xeLS0tamxg2BKfiIiIiIiIiIiIiGiEYiU+ERERERER3RQtZ0uQsWYpQh54CAEPPIyw5SYUn21VU6WrKF4rp3UesqrV5JumBlnaZ29A8WWVdJO1VGQiNvghzIvORnWbSiTBtm+6DMGRWJVeggsD3latsOyIwzyRP2N318CqUoluqsslSHCRz+cZ45G6txItHWq+W4bj2J5w+KpKc0NHAwrWLBDvW4BNJU0qkTRDmkeG6Bw4kvdndWan7agNa0vQrCaPBKzEJyIiIiIioiHXcmwbIqO3IcfSgEYtpR0XqguxPjoaqcecK/JJunAqH5Y2oPlsLixnVSL1rO0qzIe2YdnGEjQOqPKqAdX769Es8qflVTPqVCrRSND8eQ3yTIlY+coYucHUfAZmizw/tKKgtHJEVaiOVCM6j3B/Dggr8YmIiIiIiGhoWSvx2uYSrfI+aHUWztS8h4aao8hfHSBSWpG3eQ8sWm3DBCzaI6Z9JIccJMukMWrqg7EweAG+M1bCMEMlDppWmFNka8iR19KwL5IP2PLKezizJxYzRVqzORdl5/Xp/ROAoBXT4QsPGH5k1JZJNHwM2HVc5fOak6hINWip1a8WQqsLHe18Z8No8BYj3oiJDBa/y0F2Nl974kkeC2/+E1+D5RbKI0O9PwciKMl+PvkgQ9+GIw0r8YmIiIiIiGhIWd8/gSwZ5sRrCZLXBcNnnBgf5w3DumQkjp8AY9hEWa88clw8hyo1Olx8QpKQX/kePihKQJCXShwsVyw4cnh01QD6hBjxqDbWhKqP+xCuoxuRLzfl4YOPTiJ/XSA8VSrRsBvnAf/QUERoL8you6iNjG7jAhDz+lE0fHQUO6L8VOLgqTuarT3xNGoMVh4ZqnPgEO/P0Y6V+ERERERERDSkLnxs0UfmTsc051pRz2Akv1uKfdtXwjBRpbnLFr+2S0vy5sMbXKa3nC1HVlIcwlSrSxlDPTYpE2X2mPxOsdYXmmDW0ixY/4hKc7FMXK5E3uZ4+zJDFm5GVml951jELuLsai0+PytHxjK9Nbw9RrSrmLwPZKJbA1H7fGJaRxPK0uP1fgbmxyP1UH23EArW8/K72/oiEOv5RCYscxJQWvkeGvZEjazWkIOs23dfmOgyXnS1SZ/eaTDVqKkO3efT909jqQmr5svXw9ePAo0l7YBzHh7sY5HQciofqcsjMU+b92GERctlNnQ+vvTxWNSV9Xwh1mvrvBSppbYY6a77RukeS985zn4TWk7nY73xYfFarOuz4hh3Sc1m03EV1XvTsEqbR7xPnAPWH5qIuBeLtNbXiUFqvlGjr3mkL+dAF/tITutoRd3eDeozbOcud/en0ut6tqLseX1a5Gv1Kk2xVsKkvS8aObUqTXArL98CWIlPREREREREQ8raoipnpt07PBXGZ3OxMjoNpmP1jo5P267CciwfCcl7YLmi0vriUgnWywrhkhr7MhsvnoBpYxxWZljQoie59pcaZD2dhpzTA20N3w7LS4lIOFSj9zNwrQZ56WvwQolT5Yj47ssWye9u64tArOfnV9F8Ohsr007ceD1vIS0VZryjjflh7v0TtDFrdWb3736xctDjRX8lPidhYyHM11QC0VDoaEfjiRMo016EY+Y0bWRIjkWNhzfgX1ZlIq9aHCu0lHZcOKsvs9Pxxc6NY1EX1tpcJCwzobgtAIl7XkZ65ABaZv9nIV5Yloniz9vFC7Gu5nzErs1Gnf1H3grz5sWINpXDrM0jiHPAhWtNyNu4ATmjpd+RocgjfdBYkoZIk6X/HYy7tZ7eMEYv0cbq3rJ07rekzoIC+b5ZsYiYpSf1PS8PnQ8//HBAAyvxiYiIiIiIaAhdReOAYpQPXN3RvXqLwCe26/H4VezgD97OQumeZPUUQCASVTzchuNbVDgCp1jDcrC3Wm9FmWkbitv8EJ9ZhHO2Zb6bh/QQoPqQCQW2VoD2OLuOGP9ffngVM3+p3iOG7MV6pbNzTN6GA7F62g1V4qu5Ofr8vz+EXUYPkdaO4nJHh4G27z5zheqLQMx75nUVP770DC44t9S8xZiW660x5TB7bb5WmeNrXIvHbX0IePjgjvGBSDkgwzeI715zFMc22eJFd+60NihZbXcxFK1WiS7Y57Pvn3ZU/zEYubY88NFOLJqkJhENmFNL6MCHEZKuP9UU9KMl0EKLD9WxyGsi/KdEIfvtk/q0mlLsWyor2cXxpfTdzk8kaXo/FjnTKvBXZsPcFoDkfWJ9QtTnapz7RinFLvE9elP1iR+ST+nvkcc3rVH9xXyYbZXzMoRYqay8N2BHmVp2TRF2aMtuQFWN7SmAW9Fg5ZG+nAMd+8gRP74e5z0SHOfYj5L0/eD2/nQ/L3t+PxSJMszcpZJOHb9XHy/U8psx2gB/PakfeXnkYiU+ERERERERDaEJ8Le1BhwunipWz1ubMTvwIcwzxiH2+Uy8c9oTd/anwrW1CpZyOdKEnKRo3CeWqVWgzI9DaoWefsTS5TF/Z981wDgoFb0GPGJUlV+eATCEBevjXzvamFutqtVpT2T/BKOB1wQYl27BwRfD7U97eM5aiX0ncxAfpNVkie/qjalhtnjRgycoxADf0bIdaWSbGIzkF/OQ+2PVX8MQHYv8w7egqHgLIqbIynhhnPh9hYfq4y71fiyyaanZhxe0CnwgLjMHiQ+q3+cAzA0zYqpajI/BiEe0MadwMmI9bvjkzW2jqPeLwc4j7rom9nvkdL3Pm/7oy3p6BuORpTJvirSTKq2jBpZD+o2ax0MdT3X0PS+PXKzEJyIiIiIioiHl6aMuqM9/Miyt3mYu34rkGeoCXmj+vB6WY4VITYnHvEXOIRfc9JcWfKFGe1LX0vNC7/imY12G2tT79cqKuv2J2g0MWSkye43eaj3ouQjVUvLWlHzA1rpTDJWl2JcahanOnQB3XIVlfxoSFurxvrVhwTYVamKweOB29n5LQ0a1hC5LhlG+vHIFnv/sVFE6VMei1nqUvbQZsbb48XJYla8mDozlUCGKVaiUvF/sQ3V/Q6/0he8MzJ0sRyzYFKG+T2A0NsnKYa9wxIQ6PwlwqxnaPOK28eJYqEb7pY/rGRSxWnuirO7YGT2E02kz9su8FB7e+cbUEOblm42V+ERERERERDSkpt6vHrevqsd557oC2Qnd/Eis2pzbv7j00rV2fKVGe+QViMS3juHM2znYl5GElB+tRHxYgP64/cVcmDsF1XXDN31wpzYSjF1HnSqSnYfkQG2O4eYTsRH5K6bDd7y3PbyA/5RQvaXm09NVymikx8CONZWj7OJA+x4gGmZ3RyFea3ncgNfecOrLYiiORR31yFkWh4S9J2CxxY8fRL5BCSg9dQg75ogXF/Ox1mQZ+g5Gx01H3CvJiBnvAX8xaOTTO1FJyH97K4zj9aRb2s3MI0Ohr+s5y4DH5Y2Z2hJYLgJ1p05ojQTiIgzw0WYQhjgv32ysxCciIiIiIqIhZY9f21YI0+5KtMgQBx2tsOw2IevaVZiPXZF91fXNOA89bEptIYotqpL2Wj3eKdPjATuzni9E1ktmNHrdB+PiWMSvS0DK1iQs0lpm9oP3XBjC5Ugl9r9S7ujEz9qE6r1p2HSgYegrpdx17RPUXfLDT355FBWqIqTi7e1IHEjYg1tCA+q0GNhAfKaKiS+GcweTYIvgTHTr8IDhydXakzPNpdkosMUBH4pjUfNZVF2UI4FIL7LFET+JMy9FaZMHau7/eAwzvQMQY9qCReK80HxoM144PNQx6dvRWNuALxbvxLF31XeST+9sj4Vh1PRhcRPzyFDo83pOR8TTslK/HmXvl8NSJPKQ1xJEhDoVJoY4L99srMQnIiIiIiKioeUZjGe2R2ktwav3qrAugQsQu7dBpHgjbvtaGLSQJFdRvFY97v5APEwySXDuwDRL66FWmDEfK7RK+AaY1qhwKQuy0TKtSxWttQZ5mzJh2puGyEecHqefvwFZl8T0KQkwyhahzmSLQC0si1OHgXJYW6LCAXkjIlmvgKo+nIawYDX9e9GINpWj4BfZMNueLKjOVO93/X0SDl9VqYJ9XjEstz3un49oW5r9891Xd3ADMo6dwPqFahm2IVg+AZGP6v4+ATHiBWCqViEE5CQ5wun897dbYNDyjdyuG1B8WZsF1SbHtoneq6dhb7w9zbaf7PO52j9OyyMadDP+B9ZFdm1pPQTHInvomRqkRqtjZuDDWF//bcTJ5IptmPdApt5Z+EBMjkJyigG+soPRlDQUaJWtkvN5IBLrtXjoQFlKpH1d7ecBd10xY3dKIczi/HOfWoZtCFm4GVmlI+jG60AMNI/Y9HoOdOyjeSnqxrmWL2zzOucPd/dn39fT3xCuhRAyp6chQ5zPfReHYq5zeLO+5GWn86/L79SP8+9gYyU+ERERERERDTmfsC0oLdqCeIMKYwMPTA1agl1FRUgP60fHhp6BSHxjK+KDJmgt8n3vMiA9dzti/lmfbCfmi3/rMIoyYhEzQ59X8r1rOmJWb8WxN1diZtcW6d6hSH4pFsa7VNgFVyZHYdfbWUiPCkaQLRTD+AB9mebtiFB96Q63qQsSEOEqVETbVZhLMhG9Mhd1ts4fRxVvRKTnYEdUoMpv3nrHt88nIGZTFAxaBRXRrUTk4RV6HPBOLa0H+1g0bjri39iJZKM6XnpNwKJ1Wdj149XitxNsD8s1GPwXb8cuLQRMDTYlZQ5dfPyJwXj8ien247+zxosnYNoYh4zy0RB2a5DyiDvnwKHQ1/W8Oxwx6mYt4IdnFgXrnfna3MS8fDN847qgxt3WdPkK/Cb1v0Qy0PeTe7idRwbuh5GD+4IGC/PS2Mb9T71hHqGxgPn8VtGOC4czkfFhIH6eGg5f55sV104gdf5m5GmdIu7EomEKKcG8RGMB8/kwu1KJnPQ9wNM5iHd+8qqjHXX71yDSVA+szhnW2PDMI6NXS4v+TMSHH36o/e8vtsQnGmEcj3E+3OkRMavFZH+Mp9MjtwNhf1yoH4/CXS5BglofxzAIj9QREY1WVgsynI6Zg3Ysp9HjsrjATIqzPz4sH+/OsXTOJ87hHm6ZvHSxEAnzxbrO34wyGbrkBhrLTVhldAp30tP368MyB5fjkXC3HuUftvUkUmwhJKrO4by9l0Ndy6UmfKHGPW9TI0REo5AeVuwcausbYHV+8ujrK/jiv/6sjfp2asJNNPKwEp9oxGrH/ncqVVy2dlSZhz/+FhERDUBdJY6oUanMUqPiVBIJZ/MRuzBRXGDW2zvyko93Z6xZjNi99XrCLar5tAVl18TItRM48v4NbjhcK0fW84Uwf653RHkjbi9zmN0q60mjmKcn7pBhYy6KY4y8oeR0g2z2k5koE5N8I6NgYONPIhrFPL/pJ/62ozhtKe6TfbLYjoXfi8aqQ7JT3QA8s2D4WuETuYOV+EQjWPPhE6iStfjWSph/1fsF7U01KQrZsmdvORyIVYlERNSTxo8qtZuxhvBQaF0ullaidlT0oGXTCnOK6jhwBHT8dGtpQsHWTFjaAF/jFlT8Xpxba06iYqve2ZvF9CIKPtPnDEpW596PSrErRE8b6XznGPR43OND8fj3J+iJrnxyDgXaSCyKbGUMMWQv7v4et5c5zG6V9aRRzDsUKQe3IiUqGAbn2MZeE2AwhCPlxTz8x/ZQ+KhkIqLRaOqKl1GUugQxs2x9suj8p0xHzNJk5B8/hPgZKpFohGIlPtEIFbc4CmgrgaWqHdb3LchBIOKXBqupRER0a7mK6grZmtoDhn9dDeNkmVaC6jr5f5S4YsGRw6OhQ7BhcNGC4tNyJBDJm6LgLx/nHucB/yeSkTzHG0Fh9+EO6wi7md8XU5Yg+9330PDudkRoeX8QDMUy3dF2DrVVatwdw7WeRE48p4UjfnsW8s0n7TfHGipLkf/6VsRHTodP1059iYhGm3ETELQ0GTvePIQKp4YCFW/nYUfqEhiGqU8Qor5gJT7RCHVnxA+Q6NWOrGNlKCspBEIew6OBLnoGv1KDgvRERKvHY+cZ45G6txLNznHeJNmRS9JShMgWksGRWP9qJVr+qqZ11VqPMtPm3pdJRETuaa1BVYUciULQzADM1FpQt+OdSqcwKbW5iJTH6AfSYO5SF954KF5v4f58uSMET0crLpRmYtNC1fpdHNtXbc6H5bKarnHE77YPspW8eG/d3g0q9rpTfyZtDZ2O/wHzlyJBLLP6ipruxHq+HFm284oYQp7IhGVOAkorxUXRnij4qvncW8+xreV8DSzaWCCm3a2NKH6IOXgURZnJiJjmogzQm46rqN6b5ogxL7Z9bFImys67uCFwuRJ5mx3liYAHFiB6TRryusTkt+/P6Eh7Xz3zjHHYZCrHBed867LvnA0o7rrf7f3ziGF5vkrMR7TT++wx8d1dpo0bfQxI3fLywkSt3NNiL/c4/Y6CNyBHhTsyLVdp2uD0O+rTeraj0ZzrtD3Fdpf76Gzng4C9LwRTDfBZOTKW6b+nkGVpKKi9hW/wEBEREZFbWIlPNFJ9czYMi8UF+6FtWF8KRETMh+/XXS7SLpVgfUQ8Nh2qRLWMtyo0f16DPFMi5i0SF5PqIhPWGmStlHF2G9AoX7eJi9HdiVj/C3Eh2FWbmHdZHBL2nui2zB+uKMQFVuQTEfWZ9cNK5MmRkOmY5umBad/VAuqg7tgZ/bgszQpF3Cw5Ug6zxbkC7yqqzfrxOj7aqEIetKP6pXiEbcxHwUU1rzi2m0syEbswXqTpST1pLElDpMlij72ukcf/J5d2Ov7jWgPKxDKjV2ajzjn0z9lcLFuUBpPtvCI0fn4VzaezsTLthFOs/4Gt51hhbVPbJqTzI94D0tGE4qTFiDaJ/GSLMS+2veVYPhKWbUaZc4XytRNIlRXXJY7yhAyPVG0pR2pSmthPjvJH3Rtqf54V+1ulNX9ej4K9aXjhJcuI6efBWi3y7SOu+xhYf1jGvtXJ+brl5Yvi9yrKPStfqVF9Ew0V8fswxSHk2Wyn7Sm2u9xH0ZGd1tOuzYysp9OQc1rPM42ny7FpZZf9SURERESjDivxiUaor/7qAcOjS1RLxlA8HjoBzZ9Waq90rTC/YkKxFj83GaXyUe2P3sO5ozuROEVMvpiP3SX6xV/LiUKYtIqSACS/flR/dKzmKJIjvLXpzur2iwtZMW/EpjycqVGPmf2+CPuW+qG52oScMueKJSIickfdqRLt/8y5M7Tjuu8sgx4Xv9aCOnsr9wAYovUOtfKOVTkqQy+/i3dkK36vJTB+X7XGrs3HT/c2ACFJ9uO/jKH+QeYSzGyrwabdthb7E7Bojz79gwz9xgFQj/MeCY5j/EdJCNLSPeH5LW8Yn8uxTztTlIQIOeliLsxOoX/qju7VWh3PXJHlmPf1WMwUac2lZxw3fN1ez7Gt8T/1dviDzedbfghavFWPsS+3/fHtiJchXdosOPI7R4v05ooS5MmK7iD1JIXaT2fKcpB/cCdiptieAqiB+TWxP4X4l1R5Qg6VpTj2eg52pRgccbWd+845vkXPR64EJTmWY+9jp4eY+O4uE0048mK+lkeDntqJD9T3l3k0SORza/NVR77z8MEd4wORcsBRPjq2Sf+tVL9qhp7tHb+jho9ykKylAckHbGlysP2OBHfX83whfiZ/H+K3n/hyEc7J35L4/NItel8IxRn5sHS9i/B+O2b+Ul/2ube3YJHssFTsz3fYaS4RERHRqMZKfKIR6kKTuBibE4Fn5MV2uBEG2SmaM2sNLIf1lnErnl6CmWq652QDYlbosfPNZr0TxcZ6s/YaS5MQb1AV9+O8MTMwQB+3q4elSK/4L9sRh9m2XtvtPbYDBSecKpaIiMgN9agql8drDzwaPF1Puuc+GGTlGyyo+tjRytk/9DG9wq/UjCp1z7T5dydQJv77Lg2HQcZKF+osJXrlYkUmIm3hTwIfxrykQj29XCy3p3uu1wJgcBUD2Ws64vcfxb5nAu3TfGaE4tEH9XFn1t7is6v3D2g9xxD/f7bdYBlE4/xgzDiEovRwPca+NEnszzA17sTTU5UNqrMRKUPPzF+K2LUZeM3SCv9JzmF8POGpyhs5z8twLg8jLFoPpVN3ux/8R0pc7UuVMGt9DARjxUoDfNX39zEkIPfUUWTLPK4nwXPWSuw7mYP4IEf5aGpY6A1uEAyexlNlegiekFisMPrBU24/WT5bFosYmd5W2L3fjNBwGFXcXs8p8/HIXH3cyicliYiIiEY1VuITjWTjpsMQ7Ye4CKeWbTbXrjhCMHRx+23qgrtCfzTcXtni5S0uv2/ECuslNdqTlpYhfrSciGiUuXgGZu3Y2u6IoR0YD5MK8XHk1Dl9RJpkxOPhcqQclg/lsfsqLGWylbYfnonQW+lL1hYXYTY6aUXLX9RoV+M9cLsa7ar5VD5S1zhigwc8EI31p9REJ1PvD9X+1+1PtN/wnb0mX6uYD3ouwt4ieUDrOYZ4ivOzRp23B0vL2XJkPe+ICS+H6P1qohOfsLXIDnd6Ou9aAywW8d70DQgxbnAK1TIdcTtWqhtQUjsunK1HwaFMrF8eiejdQx1+xk2fN2g3vuSNM9sNJZ0HfJy+pqZD/Mb2pyHB1meDHBZsU+8fWs2XnfrEcDbO0/4brf2ULeyJiIiIiJX4RCPeTONWPB7a9YpTGD+xx7i5X9li56vYup6eqlK/rbWXi2tPeMqW/0LiPvUYeNfBubNCIiLqVfNpi+q01LXm8iq9VbrGG4YIrRYfOeZKWK9VwiJD6UyOgkGLl6/z9PHTR1ZkuT5Wf7QTi1RrXXe1lKfhh2sykWfpvSLZJ2Ij8ldMh+94b/u5yH9KKJJfzEPu0+ppA2Eo1nM08pkWqIdXQg3Of6aNKE0oWCY7OjW57oz2Rs7mYmW0jPXuiAnfo3F+iHjpKM6V5SH/xWSk/GglEqMCMVWFanEOveMZlID8d0tx7MBO7EpeKeZdgpgpejnFEX5mmN0VoFrSi23WpYW6tdX50Y9WmDcvRqypHGW2PhtuIt9Jjt9KJx1WfKVGZ92jQgkRERER0ZjGSnyikW5GIIJcNZ/3FBf8suNbYf8bhahTHdFZL1lQsF+PnW80BmsV7v7TjdprHMpEjq2zxI5W1NXocW0d9Jb/UsHuXFRfURUGYt4LpZlYv8OCFj6uTUTUB62otehV+L6rczpXYB+I1W+KXjqOWqcOXn1CH0OirDwtscB8QhzTxajx6R9o8eZtZhqi9Ndv7UFO9VV7KI2Wi+UwPZsJiz3Ovvsu1JTrHWs+sd0RL78yB+lONw/srn2Cukt++Mkvj6JCfZ+Kt7cjsUuYnqFYz1FpigGL5siRGph2lKBR3nHvaEfjWyaYTsuOTs/hS9sNeTc1f3xGD9USlIRjtpj4vy9F9mJtcmdXLMhJz0cVvoO5EUsQvy4ByVtTEK9CtTi044IoS2Qdu4o7Zoh1Xp0g5k1GyqbHOuXPYTc5GEZte1Zif64FzaoFQ0ttIV4wRiI2rVzfxmhAXale1onPdMT4P3cwSd1UGVr+D6qnVirysd/cpP8+ZPnsYL72u5f9YASNqA1LRERERMPlG9cFNe62pstX4DdponrVdwN9P7mH23lk6Ot+qDY9hOi9QESGvNDu3Pqq27RLJVi/aJvWuW03U2JR9GYSgmRFkLUGWf8jXnVu62CcEwjz6RoxJjuQUx2ytYl5n+w+ry4AKQfzED/HA7hcgoRHbvS4udMyRwj+JmiwMC+NbX3a/x3imPqgHjonfs9JpIQ4VcRaK2Gan4gsMa3zMb8dlowwxP7K1vI6EDvKchBzt3qpaRfnhDhxTuh6M1YXtC4HRT+S4XeuonhtJNbL1vwuOY7VLaWbMXvjCT3ZxmsJkpdaYNqrh8WxrWfd7ocR+aqLluFeE2AMewrrkmMRpG0id9dzdOnXMeJsPmKXZ8LS7ZzuAUPy68hfrbfatpUFemLPS7W5iHwyu0vL+EAk/8gPplfL9ZfyxlKyH8wbl2JVaQ8t0b3Cse/oVhhlLPzTuYh9OtvFOuqCnstD0TOqdbm75YS+lCf6MK+1OhPLluud23YV9KMcHFwXCE+0ouz5BUhQm8PG96mVWHEiFyYtDJYBu447PzHSgLyFS5HarZzUn/W80e/DA4syDmHXYr1xhX2/a/vM9ptx/L5dlRuHGs+FNFiYl2gsYD6n3jCPjF4tLXrPkh9++KH2v7/YEp/oVjY5CrvKcrBjaTCCVEdzvncFIi45Cx8Ui4tDW8xaz0Ak5mYhJUwPryMrWRaty8Ku51xUnHiJeQ/mIXt1KAx3qcomWSkTlYT844f0CnwiInLPx1V4R6vwDIfhu12On56zYYjSR8ssNU6dhnvAsGi1o2Vz+BI82qkCX/JA0PM5OPZiLGJmTFBhzjwwNSgc6a+X9qti3CciBaWp4XplreA/Zwl2HUxC4vIkxM/ovO5TFyQgQs3XSdtVmEsyEb0yF3Vaq/vBX89Ra0Ys8t+W5+rpehgbQYYoSnn9sL0Cv09mrUT2y7FYpM7lvncZkLJvOxKfeQrptk7uNeIcv70IFS8nIc6gygnS+ABEiHN/UZmqwJfmrBTrmINdzmUEuT9nyFBKh3DQVoE/AngGiXU/noV0W1ggQQ/5JNZTq8CXvBGRLspRYh79e3vDuHQLDj6fgJhNUU6x/50FIOalZMSpEEIDI34fyXli24vPs/8+vBEUFovsolJ7BT4REREREVvij2LcziMD98PI0dd90Vtrx+QD7yGxT48a1CDrgXiYxFjf39tX7n9W8+ENmJdiAUK24AMXfR60VGQi4fl8nL97JfYcSHDcHBrD+vW7vlyJvF/k4khFJapl+CuvCTAYwhH341WImDEYlUF0s/C43o4LhzOR8WEgfp4aDl/njkOvnUDq/M3I69Z6eWxhHqGxoN/53GpBxvc2IEe9HI6nCGhk6XdeEmWrnG2ZKLDofX/IG3VxWzYi3uDIT67K8yM+z10sRMK/mlCGUGS/uR0Rqs8yVxrLTUjdXgLz546n41x+vz4sc3A5nhhy6/pn2NZz6PGYSb1hHhm92BKfiIhuigun8rXQCc1nc2E5qxKpb2Toq4WJSC1RFfhS21VYjuUjIVpc2BzWQ5UQ3RKumLE7pRDmqnM473h8QNNyqQlfqHHP29QIEZGzukocUaNS5yeRiNwkQ5CJslWGU+fdjRdPIGPNYsTurdcTblGyQ/wyWV68dgJH3nd0LN7NtXJkPS/Ox04V+D1xe5nD7FZZz5uKx0zqDfPImMFKfCKi3nTtjFINQ9uSfuSY+mCsFlLAd8ZKGGaoxEHTCnPKAgQ88BAC1pbonWqOOu2w5Jr0vitCklD6rspDvy9FaUYUgryC8cj3GTKBbiGenrhDPpFzMR+x88VvV/5+1TD7yUwtDrhvZBQMbIhORC40flSpne8N4aF6B8KllahVnQ+PDmOhbDPcmlCwVe9DxNe4BRWy8+6ak6jYaoCvLHeZXkTBZ/qcQcm2snspdoXoaSOd7xyDHrJufCge//4NWtN+ck7vBFvrZ8P2Pd9z2QLX7WUOs1tlPW8mHjOpN8wjt47vfve7AxpYiU9ERDfkE5KE/Mr38EHREITSuWLBkcM9dKY4arSi+TO9hVRERDhm2mJLe07AzMVbcPDdnVg0ih4VpjHAOxQpB7ciJSrYKS66oEJEpbyYh//YHgoflUxE5HAV1RWylbQHDP+6Gkbt/FeC6s49MN/axkTZZphdtKD4tBwJRPKmKPjLTi7GecD/iWQkz5H9StyHO6y9t04fsaYsQbZs9PHuIIaTGYpluqPtHGqr1Lg7hms9RyweM6k3zCNjCSvxiYgGRMae1+8IN57ORWzwQwh5vhyNHe2o3h2HeQ88jLCN8rWa3U7GlDZhldaKVcyz3ITi810uNjpacaE0E5sWqrvOwZFYtTkflstquk2HOHG/uhnRtmU9m4vqK65vvVvPlyBjeaRYLzHv/HhkHG7Al2paJ9WZ+md2GjJRrSbb2ecT0zqaUJYejxD5Wiw79VA9uq6F9Xw5spKW6vOIIeSJTFjmJKC0UhTWXcTjHy1sYUWqTlWipUte8NR7V+yk2ZKPVNt+emABopMyUXa2a8FF5SHjw/q2XCbzUAOK1+rbNuGwegT5cgkStOV02X/O+04laVrrUWay5aeHMM8o9uXeSjQ7r7d9mRtQfKkVdXs3IEzkfZlH15ss3fO7zMtiXROc83J6CS64KIu5991puHlOC0f89izkm0/aW/41VJYi//WtiI+cDh/nOPlERDatNaiqkCNRCJoZgJlay+h2vFPpFP6kNheR2jkgDeYuh//GQ/H6eUSUteyhAtwqL8m43HKZToNszSfeaz+HOZ8P2xo6nQsD5i9Fglhm9RU13YnbZRt3y3XUq5bzNbBoY4GY1qnjdz/EHDyKosxkREzr0pm8O2SZem+avWwl91GsLId0LaNLsq+jzYmOPCLLLGvSkGfpEgLGtt+jbWUbWbaKwyZTeedykL1s5TyIclbX/OFcRl+erxLzEe30vu5lQOfBxTJtZB8DSXHq9yDy8sLNyOn6fYRueV6GjBRlRUcZ1+n3FrwBOSrckWm5StMGp99bn9azHY3mXKft6bqsKPtC0JZjqgE+K0fGMv13F7IsDQW1t9ANHh4zeczsDfPImMojrMQnIurNXnVi6zR0qfjEH1GWm6091ttYnoGC1/bip6/Wo1lWtJZmoLhWzaY0vpmBZTKmtBYfXcxTXYj1yzajzH7CaUf1S/EI25iPgovqTNt2FeaSTMQujBdpepKcr+6VZxG9+4SKtS6WZc5G9Lo96Nbo5XI5Xli2DTnVV/VH0K7VICclDhlvujhz9lk7LC8lIuFQDRrlS7HsvPQ1eKHEqeB/NhfLFqXBdKxBn0do/Fysy+lsrEw7MYrj9k2AISpcK2w0l6Rh9oPiglBc5Jn2lsBc2wRrlwrvxsMb8MM1mciz7Se0olqLnR+PjApHqau5ZLOeh1Qc1MbTMg9l4IiWD/qprQZZy+KQsNeWn8TnfC72pSkRP1xRiAtdK+eFxoNpiDRZ9Hi0Io8Wi0Lb+ldqHDdwOppQnBSJMLGuZc55+dA2hC0TvyN1YSe5+92JiOjWZP2wEnlyJGQ6pnl6YNp3tQf/UXfsjL1sgFmhiJslR8phtjgf+6+i2lyjjcVHG9XTPu6Wl1xrFOdl+znMRp4Ln1za6VyIaw0oE8uMXpmNOucWCm6XbQa2ntSZtU1tw5AA+OtjA6eVVxYj2iTynS3GvNhHWv9FncroguzEvWtfR7LMYilHalKa2J+OSuK6N9R+P2sr28iyVT0K9qbhhZcsI6b8a60W+fsR130MOPfdJOfrlucvit+1KCuudC7/DQnxOzLFIeTZbKftaSsr9tDHVJsZWU+nIee0nmcaT5dj08ou+3ME4zGTx8zeMI+MrTzCSnwiosFQdQUzM97DuT1LIGNxZtXfi9ya93Bs03QxsR3nP+3ciqXWy4jfyvidH4n3vL0Fi2SYmjYL8sTJSp8hHz/dK8adY6jXnMQHmUswU5wEN+1Wd8pbLSh4VX9P0OosnBGfKec9k2JE1wbedSV79LjsXgbselu1nv39IcTd/2d9BmdBSfp0ORyIVYk3Uomv5qq+A8Qydxll66d2FJfr8fmkuqN7tRsfM1c4refrsZgp0ppLz7isIB4tfMKSkZscrF9oygtCcZGXZdqGVU9G47+vyEWdrZAjOyhLsaB58hLsO+po4XzmzSREoAE56b9Gnbad6nFkt5hPjNljwYr5zhU/han2i8m+q9svCkyiwBOxKc++jxp+X4R9S/3QXG1CTplzoU+qxPlJCfq8NUeRvzpAS63e/y4uaGOiYHkqHz8zi4tZke92vHlULVPPI74ef8YXV9SFrtvfnYiIblV1p0q0/zPnztBubvvOMujxe2stqLO3KQiAITpQG8s7VuW4YL/8Lt6RrQ29lsD4fdXK2t3yEiZg0R59+gcZegWHPJee91DnMO2ckwS9uyNPeH7LG8bnchzllSJ5LhIu5sLsFKLA7bKN2+tJ7mj8T70d/mDz+ZYfghZvtZerGo5vR7wMTSHK6Ed+5yjLN1eUIE+W3YJUy1C1P8+U5SD/4E7ETLE9BVAD82t6OT3+JVUGkkNlKY69noNdKQZH6LlJUci2TT++Rc9vrrgso/cQE9/dZaIJR17M1/Jy0FM78YH6/jIvB4nfg7X5qiN/evjgjvGBSDmgvo8o/x3bpP+mql81Q/95OH5vDR/lIFlLA5IP2NLkYPu9Ce6u5/lC/Ez+jsQxIvHlIpxT5c/SLXpfCMUZ+bB0vYvwfjtm/lJf9jmna653bpFOc3nM5DGzN8wjYyuPsBKfiKg3Lju2dSp4SnOnY5ooFHpOm4658vVkP/iOA+7w0Xt27Nra+tGFofBVteyeU6LwzDN6x6aW353TKmbrLCV6IbgiE5G2R84CH8a8pEI9vdyCKlmfevEs3pGvsQTJ64LtISx8ZgVCu9ludxWNp/XWKYbnkrDIdnHh6YdZgXrF68AY8IhRXTB4ikJCWLA+/rWjJG3tLTbpaA6/Mc4bM1dniYvCo6h4Mwv7MpKQGDldK2g1V2fjhf36444t71v0DsouFWLVAvUotxhsnYXiUgks58X/K5+g9pJMmI7kf1OxYAXPyWK/T9HH+64eliI9j5TtiMPsQJXvvheNVYf09IITToU+TTAeCVOhU8R3NDyiCnBt7faWWHUVhfqNnCdiETPLW0uTeWTRi6X4j7fEhdrdel50+7sTEdEtqh5V5bIs4IFHg2UjB+Ge+7TO80UJCFUfO8oJ/qGP6Rf3pWa9vCM0/+6E3nH20nAY1HnP7fKSK9dEecVV+C+v6YjffxT7ngl0lKtmhOLRB/VxZ+6WbQa0ntSN/z/bKowG0Tg/GDMOoSg93F6uwiSx38PUuBNPT1WeEWW4SBkyYv5SxK7NwGuWVvhPslXgS57wVH0h5Twvwz08jLBoPZRO3e1+8B8pZd9LlTBrfQwEY8VKg/0axceQgNxTR5Etfwt6EjxnrcS+kzmID1LbQJT/poaF3uAGweBpPFWmVe4hJBYrjH7wVOXPmctEGVOmtxV2jwMeGg7jJH3Uc8p8PKJdqHW/NhuZeMzkMbM3zCNjLY+wEp+IaAS401dVpKtKb2uLi8dBO2lFy1/Ev4521dLdA7fbLjh6YP1a/+/zTVXovsmm3h+q/a/bn2ivIJ69Jl87yQY9F9H5pshoJS76/GcFw7g4Fskv5uGg9qSG2CZm/XFH++PhPWoS84h/Ip/oOWUibtcKaYNBLFO7MXADLS19fEz6KhptjzKO65JBvbw7FfDc/u5ERHRrungGZu080+6IjR0YD5M6th85dU4fkSYZ8Xi4HCmH5UN5QX8VljLZ+toPz0TorQklt8tLrowXZSc12lXzqXykrnHE4w14IBrrT6mJTtwt2wxoPakbT1GG0FQ4wi0Mhpaz5ch63hETXg7R+9VEJz5ha5Ed7lSevtagP2WZvgEhxg1OoVqmI27HSlWhJrXjwtl6FBzKxPrlkYjePdThZ9z0eYPeYEJcT3RuVOMBn66XDR3it7g/zdHPkRwWbFPvH1rNl51ifDsTZUzbb7m2y9PPtzQeM2+Ax0wN88gNjM48wkp8IqIR4Itm+WiocJte0enpo7fMx4osF08ByGEnFslWJeM8tNbc8sT9VS9XAbbOVVv+Mjy3pH0iNiJ/xXT4jve2xy/1nxKqVWbnPq1aDoxWrfW44KKC3Pakho39ovTBLahwud/fQ6IsuYh8oueUK/jK7Yrt3vKIWKZ8ZFxI3Of6s/ve+fAEsY/VaEeXD7eKgpVTKyi3vzsREd2Smk9bVGekrjWXV+mt5zTeMERotQ3IMVfCeq0SFvnI/+QoGJweNXS7vNQHLeVpev8slt4riN0t2wzFeo5lPtMC9XARqMH5z7QRpQkFy2RHpybXndHeyNlcrIyWcZgdMeF7NM4PES8dxbmyPOS/mIyUH61EYlQgpsrK+i6hdzyDEpD/bimOHdiJXckrxbxLEDNFL/M4ws8Ms7sCVEt6sc26tFC3tjpfN7TCvHkxYk3ljn6ObiLfST1cL4gy5ldqdNY96sngUYDHTIHHzBtiHhHGWB5hJT4R0TB45+0TaFZ1mtaLJXjtNf1OsuG/3adVks40RGlx3/DWHq0jWtsjny0Xy2F6NhMWW3y7KTPwqDZSCNPuSnulaEttDTr3pTsB/nP0E53lF5kotnW4ZW1CbY26gTDUrn2Cukt++Mkvj9oraSve3q6Flen2yN1o0qZ3Fhu2KB5Z5gb7PrJesmD/G3qxy3dOAO4U/32+b9AfBz6Vj5zSBvt+t16qQd7GNBTYLkgn3otZWoV7PUz/XoJGW14S89V27cTHXuFfgoIStUyx380iD3Y2HYZoPY8U7M5FtS1Wver1f/0OS6dKd3fNDJH9RAhv5aOgVl3wyc83xWP2w4n2jsbc/u5ERHQLakWtRZ3zuoYpPBCrnycuHe90DvMJfQyJslK0xALzCT3kmvHpH+jlI8Xt8lIfXKgpV2Hgtjvi+lbmIL1znEKdm2WboVjPMW2KAYvmyJEamHaoclBHOxrfMsEkyhXVx87hS0/nsDa9a/74jB6qJSgJx2wx8X9fiuzF2uTOrliQk56PKnwHcyOWIH5dApK3piBehWpxaMeFQ5nIOnYVd8wQ67w6QcybjJRNj3XKx8NucjCM2vasxP5ci/0apaW2EC8YIxGbVq7Kmg2oK9XLY/GZjhj/5w4mqZsqQ8v/QdUKtyIf+81N+u9IlFPrDooypkz3WoKgEbVhB4LHTB4ze8M8MhbzyDeuC2rcbU2Xr8BvUufWg30x0PeTe7idRwbuh5Gjr/ui2vQQoveqFy7IzpkSg2qQ9UA8TCFb8IFspXy5BAmPbEOZPJEmB6L58AbMS7EgIkNeBDTp84r3xkSF43iJOpnZeBmQ/fZORGh3jNvF58eJz3ddwR60LgdFP5KPvbWjbnccIlXntnZzAmE8XQOzGNXXU4xcLsf6hWl657Z2HqLQHgDz6XrA9h1kcnUmApbna3O4ZJvXPp/sUMvRT4Dtezsvs273w2I9XVTEek2AMewprEuORdAt8lPpU17qaEJZ8goklPfQYml8KLJ/vV3td6BRbLto2cGr/rIT3/Ct+O1L4dr2bC7ZgB9u7jKfl9jvU8R+r4XKc7I10lUUr43EetnSwi4AyT8KhunVQjHutO/kDYcnRR7teiNAE4CUg3mInyMuim35XFyy7Tru1MrBVX4Q3784aSnWy85tu+qU593/7sONx3XqDfMIjQV9OxeK88uD+iP+8XtOIiXEqYLVWgnT/ERkiWmOc5fUDktGGGJ/ZTt/BGJHWQ5i7lYvNe6Wl1ydC505zlstpZsxe2OXG91eS5C81ALTXr3RhW093S/buLueY1O/jpln8xG7PBOWbq3mPWBIfh35q/UWm72V5+15rjYXkU9md2kZHyjKS36ivFSuv9TK934wb1yKVaU9lOu8wrHv6FYYZSz807mIfTrbxTrqgp7LQ9EzqmWpvWzVE5VH3Z1PjvZhXqsowy0TZTjtRkYXQT/KwcF1gfBEK8qeXyDKtGqC4vvUSqw4kQuT9tRpl7IhGpC3cClSu5Ut+7OeN/odeWBRxiHsWqw3SLHvd3VNpnMcBzofa24OHjN5zOwN88jozSMtLYPTzS5b4hMRDQP/J1NwMGOJXsAXhc6pQUuw66CjIlemBT2fg2MvxiJmxgRVcSnnC0f666VOJyQPzPzxyyhaF4og27KMCSjavVbvYNfZpHD8/OAWxAep5Y0PRHxGHlKe7ONFUz9NXZCACNW5VydtV2EuyUT0ylzUqTvoo4p65PqD15MQZwiwPxboe9d0xKzeimNlzvtd5I3FO/HbLvPaHiH8D5OjEts3arueh+7SC2z+c2QeSsHj3bbxBCwy5SA9TC1P7veXdiJxvlNBz8YrEIkH85C9OhQGtVytwBSVhPzjh/QK/L4S339RZqmel9Xj47ZlFpU5KvAld7/7aGA9X4j1wQ9hXnQmzPbYuUQ0ZK6IC8WFDyFg/mYUnL35YSDGvI+r8I5WkRkOw3e7nEs8Z8MQpY+WWWqcOlD3gGHRakcLwfAleLRTRYPkbnnJfT4RKShNDVdlNNv5NQmJy5MQP6Pzurtfthn89RzzZsQi/+0spIRN18PYCLLMkPL6YXsFfp/MWonsl2OxSJV/fO8yIGXfdiQ+8xTSDc6B4UUZZnsRKl7uXF7B+ABEaGUbVYEvzVkp1jEHu5zLVXK/z5Blm0M4aKvAHwE8g8S6H89Cui0skKCXwcR6ahX4kjci0nOwQ8yjf29vGJduwcHnExCzKcop9r+zAMS8lIw4WxlwQMTvKDlPbHvxefbfkTeCwmKRXVRqr8AfFXjM5DGzN8wjYzKP3AIt8VUrV/XKTpwkYxavQvyPw+0nmaHg+g7uraFP29n57rdza1wtrmA0Nmm91TvdLR+Qgd0Bd9Waoj/LuVn69XuR4SvK9iHnjXIcP3tVa5XqPyUYxuiVWLciGL6uQo9cLETCv5rEPgxF9pvbEaFiW5PDQI9dNBDtuHA4ExkfBuLn4gTeKQ9fO4HU+ZuR163lzsg1cvPS8LYwGisGvP8vlWD9om0oniTOq2+K86pzOeaGT8H08BtprUHe8xuQamkFpkRh1/Z1WDRrMC6Wqb/6n0caUPDkUmxS8dDk49Ef3GLlzxHJ9pTRZfEbKha/IRdlpMa3NiAkTX8sXXJ5DLWVz179DQq0eNCy8ugxPPPjVYiYMfZ+cyxXja6yzXBiXqKxgPmcx8zeMI+M3jzClvjXxEXO3jQs29glHAUNXMVvcNzWQdBnFpRpFfh087Sj+qV4hG3MR4GqwJcaL1Yiz5SIeYsyUa3dce1MdmpSdk2MiIPbkfdHUa/8NDpcMWN3SiHMVedwvsv5q+VSE75Q47bOd4lGr6soTt+GYlkA3dOlAl9o/i/Xj4T2SOtzIV6rwA9avBUVxVtYgX8ru3xGC4dl07lDMuofUa56JQ2miwFIfm27ywp8GUZivVMFvmtXYU5V5TN7h44y9nY+EqLjkVXt4tFvGt1YtiEich+PmdQb5pFe3VKV+DKus62jhjN7YrVHQJrNe3DkrD59LDBX/E6NDaUalFn0uFSNJ0u0mNojSVCyLR+UYleIShxGn3yqBf8bPJ+VYLcW18sP8ZlFOKc6/jhXloXkIA8EhRox08XTJ75zDPpjR+ND8fj3x17r20HfDzS4PD1xh8y3F/MRO/8hBDzgGGY/mak9BeQbGQXDCGx4wLw1Ng3Vfrda9uFnFYDxuSSXlYlQIaWcyzyOoUurE9nfwMZntT4MglZnITc9HP6untSiITWYecV6vl5/KjI8VO/ouUuHZKNB3d44zNOO/5kuYy8POq1c1QTfpUmIF+Wobi6V4IVn9DjQxi07eyxbyt/uC4dF+czLgB1FqkPHd/OQrs3fANOLJWjU5hz9eF5UbuGyzXBi/qGxhnle4TGzE+YLF5hHenXLtsT3CTHiUW2sCbX1Y6PV8W/eOYbcA2+pV0PkwSjEzQLMxRZxIdIAS0m9uOhZgjg1mTo7e74B1WcG+S7SlSZ14yQUj4b5wVNVyHjeHYzE/cdw8HlbTMIupixB9rvygnLshdIZkv1Ag8s7FCkHtyIlKtgpJqjgNQEGQzhSZMzz7aHwUckjBfPW2DR0+70VlsOFaBbH95jIAJXW2RfN7rfEbzyYpnUY7Gvcgl3PB8OHFfg33WDnlbpTJdr/iIdXIyJSjtXDfHo0lXNrYH6l/qY+RVtXli/KVX54JtrQvfwkn2RZu03v8D1kC9KX3aenu+B5/xL8PHUJ4lOSEWMLnTN+Oh6NMOjjp5vGxNPBPC86uUXLNsOJ+YfGGuZ5Jzxm2jFf9IB5pFejomNbq1NHiNbz5chKWooQdbcmZGEiUvdWosVpHi3+uzZ9A4ovtaJu7waEBYvXwZFYb7Kg0XleV2wdYz3wMFa9VtN52UPkK6sV+w68hU8bLyH/zWKVOgQ8ZiEiOlBciJTAcvgE8mo9sGJhKO5Ukx3a0WjOxaboSNWaagGikzJR1q2jMBnTyoRVxof1/bHMhOLzPXcm1mzJR+ry3pY5Mnz9dYc48H6MP33ZijN151XqIBjnofojqEFVbZdHs8U0W6W+xp6XnQeRr7t1kij7lug6n9OwtqTzhWdrPcpMmxGt7n7OM8Zrv6Pmm5DX+2rI9gMNOs9p4YjfnoV880lHy+LKUuS/vhXxkdNHXAXkrZm3JmDRHn3bMh5+/wzpfrfWwFIq/huNmOuqwybB2iKfhDPA/66rqH5VlU/E+XDV5nxUX9Hn0VgrUfCLGjFiwE+e8UNZkn7ulMfrjMMNsOpz0RAa/LxSj6pyed6fDuOc6ZgqBqlTh2TXyrFJO3dHI6fLtZ/VYtLLTws6dxLuTtlK9jfUuWygt5JvLBVlOK0s4FS26BB5c2+avWwny8+xcpnnXYSTuVKJvM3xKh/L/LkZBePDkX1UHqc697M0NGXABtQeE78prx/AMEslOfOcAP97xEWilwG7UqNu/CTL+AAYlyYjZTR1nNhHLHN1d6uVbYYT8w+NNczz3fGYyXzRG+aRG7tlK/FbKsx4Rxvzw9z79YoKGc9y2aI0mI412B9ntcURX/lKjcsLWtmKLdJkwQXZAqftKor3bsD6HubVXDqB1JUbkHXRA4u25CH7mcCbkolkC/w/XvuTNr7vV2/hytU/auNDYZohHEZxIbkpJRt1XktgmAN8pabp2sXFXhxCns12itluiwkaifWH9VA8UnPJZiyTMa0+1y/sGk8XYv2yDByRsdu7aDy8AT9ck4m86q7LjEdGxciryJcH3v/3//ScIsfb2jpvpX6b9QiemSJHapDx5MMIWRiHTeliW5fW4IKL7TbotPjKcUjYewLV6vOaP6/Rfkc/XFGICyOsIn/I9gONecxbY9OQ7vdP6qFF3b7XT92sdUE7xraj6hfPInq3Kp+I86G5JBPRi0ywqD5RWk78BllyPNwP51MSkWHWz53yeJ2TshTLXqvX5qOhM+h55eIZmOWT1V7BmHYP4B9o0PNJaSVq9Y8BxhuxaKkcacKRk533cZ1FvyFvWBGKmapsOpCy1VeiXJ2wUZThnMseMoRT0mJEm8rtZTtZfrbIZS7bjDLnRgSyA7KIRKSWiPKLyrfNn19F46VyJKztfKNhyMqArQ2ok30MzPVz0SBFGOeHRS++jF3bU1yHt+qN2B6WMj2Wvu9TBi3U52jWNc8T9cWgHzOJRjgeM8kVHgtpIG6pSnzTcr0Vjxxmr83XOvryNa7F4zP06fDwwR3jA5FyQMWprDmKY5v0R1yrXzW76BisEucnJeCMjDku5s1frT/aXr3/XVzQxrqQFfhrNyNPVuBvPYRdywNchzUZZJ982ohDv/6NegX89a9/1VrlDwlxPfbV3UY8ruKBznw6AkHNTZ23x/lC/EyL2R6AxJdVzHax/Uq3yIvNdhRn5MOiHZPqcWS3RbsYk4/6V/xev4t2rvgpTO1aGX2tHFkpYt7JS7DvqOOO25k3kxCBBuSk/7rTxd5wu/anFtR85NgqHR1/G7wT87jpiH9lK+Jn6I8PNV6sR8GhXGzaGI+w+UuRWu64SYJJUchW26rh+BaxrXoSiETbfGo4s28lDFpsfbEfl8+3VyjV7ZedvwERm/L034ac//dF2LfUD83VJuSUjZwbKkO6H2hMY94am4Z8v7e19NJJaSu+8gyGYcYVfHF3Mj5Qx+Azr8fqLZavFSLjgF5xe+HDcu0/yitx+xZV7pHH6qdUWeYXv4J55N3/HjWGIq/IDuq16mDjbEyVlfAzZuNx+RolqLa3uvfA3LAl2jm77i2LIz911MBySFaqB2LRwypUUx/KVvb+hg7E6gmywcYfg5FrKwc49cfg8y0/vRNlVa5rOL4d8bICvM2CI79zhP5prihBnqy8D0lGhW05Zcl6WeViJS7YKvyHsgz4lxZ7J2g98hLbLKw/Ty61o+6NNK2PC9mS/389HXxTrguGi6s8T+QulqtorOExk1zhsZAG6hYOpzMdMZuy8NvMcHvlo+esldh3MgfxQSpO5ThvTA0LvUHFZjAeCVOPY4h5DY+omJZt7d1b4l8qh0mrwJcXOq9j1xM371FaVxX2peXHcaZuCGJonWpAMybAGBUqXvjh8RD9UW5njafK9I7IQmKxwqhitovtN3NZrN4JW1shquVV5ZVPUKv11TEdyf8WBX91ZeM5ORCztJbmDi3vW1AgRy4VYtUC9Xi2vFmjOq+QnY5ZRtCTRq7il5278Ck+/2KQ4tbeHY6UopM4d/wQil7fih0/WqJ3WisuZvOeF9tkgC3yG8u3YeWqXFjExX7Km3lIDrFdvNbDUqTfJCjbEYfZgerG2feiseqQnl5wosrxWP8wG/L9QGMW89bYNPz7XZRFnstCftEhZK8Lhq9qTe1jSECy1voaqKs6K87TV9Fo6+xUdtZpUOUeTz8Yn45V5Z5y8AndoTP4eaUVtRa9RXeEIVCP9el5H2ZpjSraYalx9JXg+WA4Vsib8LJsZFuN02bs1yrMH8Mjd+tJAy1bBYUY7HnQbpzIYxmibCI7UbbVWE+SffiocWc3rHj3EMvSx261MqCmoxXVu9dg5S9q0Cw7uj24HRHOnU6PQq7yPJG7WK6isYbHTHKFx0IaqFuqEj/5wHto+H0WErXWww3wnHRf54uLjquw7E9DwsIF9guAgAXb9AuAgSovRJa6YK5+JRvFN6kj6f/7uw9w8t1T6lVnQ9nJrY/BiJjJUS7jhzZf7uER/XGeuF2N1n4qDkJfW9XNkIm4XdtnPbO29dZcsEnMo0aH2aeNf0DDZ06t4Z0M9snac1IAggzhiFmXjOyjO1UHwye6x8p3WzsuHNiA6OdLUC3jvxblIH6WU4chYo9Ze8vbLS09h5u6iW7mfqCxhXlrbLop+93Lp5/hNjx6Po96eXdu/TvpXrgK/U2DZ0jyiq2/BKEsJVKVYyOxXrbyFiwVZ1SYGWFcIIxPy8YkTTBX6pX71cdlh8lATJTR3rhlYGUrked6aFbecrYcWc/H2ePcyyF6v5roxHfabD2/V5gQYmsUEGHSyuW+kVEwqkrvIS0DftPHdRidgZAhhZKjEf1qPZqnRCG7aCdipjmXpUafG+V5ot6wXEVjDY+Z5AqPhTQYbr2W+J7BiHkuUIy0I2+38+O1rTBvXoxYUznKLg7B8+OikL7v6FHkLxWF9DYL1icX9t4B7iDYn1+oxrqrPl2LsqMn1KtBNt6AmB2hLisbfCd1b52v6bDaY+fPumcCcJunqli4gq96ufjy9FKtCB/cggr1GHXXIdG597Nh9Puang+wTZebUf+fn6lX/ddY66JTQrGNBnQhqlqNLdtm0S469xXvxCLVWs9B7DMVEzZxn+v90LAnyl5BMJxuxn6gsYl5a2y6Kfv93unQnvn7pMlRIdtVRxPKSrr2zdPuOI/6+Igj9QT42yoN21o7z3v5E8gQ4PJpOs9ebqBT/wxJXqmrxBE16lJFFWqdirczjVFaGc1SUinKo7YOccMR8bAqTwlDUrY6m4uV0bL/qXp7nPsezYrFrtRQ+Iv18Fd50feuQMQlZ+G320P1pw2EIS0DegdgpryrVdXUe1gdd7TWIGfFUqwvb4VvUAJK39yCiG5lqdHnRnmeqDcsV9FYw2MmucJjIQ2GWzKcjn/kU4iTFwMX96LgmO2KpgF1pXrr5PhMFRtWDOcOJukXzAMV+hiMk71hSH4ZyTIUzGkT1r90gw5wB8Fbh0tx/j8dj0+7kptfiOvXr6tXg8kbQUEqpmoX/g9G6LF5K/Kx39wEq7yZ0dGKuoP5+uPQXksQJK8sJ96LWVqFcD1M/16CRrWxrJdqUGsLA6D4fN+gh+I5lY+c0gZ9mYKcN29jGgrO97fl+eCq/fgCrv7xS/XKNXlwHsgukZ27RT+5VOsQuPqS+t5y+x7YB72hWyCm3tPHFl8dTTCnxmutxjBjJYoObhH5WU3rZDoM0XqoqILduai+4vj8C6WZWL/DgpabcPOqNzdjP9DY5G7eotHlph1TPANhiBT/zWZUuQqLZq1BzhNLkbB5A1IP1duPty2WbJgOyTEPxIXN1So/ZxrUDdVDmcixqLKQVRzr38jXn0CcEgXDNC2VBtFQHSPqKk/oN3ZCtuADp8prR3835bB86FQWmvEDxM0R/2tFeqkFRy4Bvk89BltkJWkoylbNH5/RQyoGJeGYLSb+70uRvVib3FlbE+rqryImsxQVlfq8H5hzkL7aESpKGtoyYABmhYlyTdv/hkW/u9V/sm+sZfHIqG5H0FM78R/7V2LmGLhR5k6eJ+oJy1U01vCYSa7wWEiD5RvX+1ED3HT5CvwmTVSv+q5v769B1gPxMIkxGU7H1hKn7rWliPxFg7hITUBpsShEj2tF2fMLkKD6ebPxfWolVpzIhUkLEWLAruM7sQglSHhEhtlRr20xLKszEbA8X4zEouijJK2iutr0EKL3ipHVOWhIlk8AiIsKMd8yMV+1uJiO33MMKSGD/whtS+ufkZL+onp1Y9+bPROr//VJ9cqhT9v5sm2bOL67Xbdp7WK7xInt4uoGgwcWZRzCrsV6RXBzyQb8cLOlc4tDr0AYp9TALC6mIjLkhZ8ej12rvJYdm2mvOvMN34rfvqT3f2DfJz1wXuZgslrbcfT/uA5t1NV37pqIuXPu18b7+nuxVmdj1TO5sLhs4eYBw7qXse9HgfpTDvZ90xO1z9ydT462id/ck+I31+VGiy4AKQfzED9n+B4b7+9+kAZ67KLRrS95K2j2/cxLo0R/jikDOZZYLSb89zWFmLXlEPYt736z/EbnQn9xLsw3hcNfqwC9wbnYazqSX3tdlJmG71g9Gg3dMeIqitfqoXMMIl/kd8oXTShYFo1Np0VZSJRFP1BlUanxUDxC0mvUKw8kvn4MyYbO+3xwylZO5eXaXEQ+md2lg+ZAJP/ID6ZXVSFclZllGXCeKAN2542gsMfwzLoERKgnStxdz375rBCrIkyoXboT/zfV0Dn8lGQv//dMXoPEfCq+j1jHGxmqMuhw6S3P81xIN8JyFY01PGaSKzwWktTSMjg9S96ylfi4Vo5N89NQIFulvVSK9HBv7RHXgoxMZJXUoFFcIBiXrkNKchTusGzD+s0lsLQNTiW+1HhAXDhtExdOMq64DEvislXz8OrTdu5TJb7UjkZzPrJ2v4XjZ6+Kiy51QfbjVYiY4dQMTMx34XAmMjJLYP68Hf5zliA5fQlgWqpdrHa92Gm25GP3XjGvpUHsQ8B/SihifrQacRGqA2JhuCrx+6tfv5fWepTt2Yu8UgssYrtpF7wGAx5fnYQ4g9N3G4pKfKnr53tNgDHsKcQ/FwvDLdxx20CPXUQ2zEtj28D2v6qwreq5/CBjjue9sg8Fx3o+F2rkU1Jl+5Dz6m9QIEMJjpJj9WjQpzxiL9P6IaWoCPEzVLrSeCBOlDnrgckJKD260hHq0P4+QU4rk41atCmdDLxs1bm83GjOhCm9EMWifOB7lwHPbE9B/HevIu/ZZ5EqnwqxlZkvn0DGj1ORc7aHlvRe4dh3dCuMWsf97q1n/8gbXkvF9/MQ1xJ53W9usRK/3wbjXGg9X4gXlplguTsWP38lyd5XAo0tLFeNQFcsMK3cgKxrodjxRgpiOl3jU3/wmEm9YR4ZvcZQJT71F7fzyMD9MHL0bV84WkY6eGBqkBFxP+5yM8VZRwMK1sZjk7jOj9m+Hzui9KdSbmUtFZlIeD4f5+9eiT0HEhDEONt9/13bb6R1uXk8UtkqtWRoD1f9YNxq32eQDfi4fqkE6xdtQ/GkWBS9mcTf1CjEc784d5zKRcZuIE6GnXGuhLfWI+9f45Ba26WBzlCyPWV4eeQ2vrkVDf2xsB3VO5Yier+jI8Ae84xYVsICpwYrPZ2/aETqf14S5e4nl2KTCpfV9Ykl6qdejpl6Y4Nf4YhF7x/F967peCTyKcSvDcdU1vX36KaVH2UH7D+Otl/H3rRzLQ3YyDivuqoHcdKlgTO5Z7Aq8W/JmPhERMOjHReqy5G6ZjHWH3bdszyaz8CsxaduRUFppcvQALeaC6fytfBOzWdzYWGoPqKBmxyFnx9MxqLL+Vi7PBPmyyqdaNSoQd6z2Sg4ewYXPu3cEt96pQmNWp8QHsCAWtj3gVcgEnN3InGSBeuf3CzWy9anFg2fqyhO34ZieTN4j+vKqMbDm7HWqaKhR7LCce2NnjilUeuyKHc79XfRXF7VJdwX9V07ql9Jg+liAJJf296tAr+xfFu3Ds6bP69Hwd40hC3LRHVvnZ5TP/V+zLRpLjXhZz1VwNIoNljnVVFOq1KjNOKwEp+IqBfy8Xit876aoyjdYoCvKNwWp5hQ7KrizXc2jFrPgt6IiQweFS3Apj4YC4MoBPjOWAlDlzAPdAu7dgKp8x9CwAMPIeHwVZVIN4vntCXYVfkePijiY640GnnDR+brNgvWL3xYO87YhvsWbEaO7KtqymoYZ2kz3xwTDUh+W5zL393OsBAjgNWyT6tkMj6X5PLJCNkH2XqtnwTZB9lOJKv0bmSL043P6n05zUlG/laDnk5jgvV8vX7zJjxU7yD70nHUuuzX69ZVtzcO87TjZ6besfhQ+6wEu/c2wXdpEuK79a3TjpZPP9FCF8ek5uFMjd5p+ZnXY/WwrBfzsf8Yy5RDobdjpt3lcvwsXRw75yxB/IMqjcaEQTuvSvJmnHyiTdaBdB3YCn9YsRKfiMhd47wxc3kykufIFxYcOeHiLva4AMS8flSc4I6OilA6kk9IEvK1ykaG0hlNmitKkKe1hu2u8SNbZ5lERP0RgLjcLOxYGgrDFOcKc28EzQpFfGoWPih2HcOfxoJWWA4XohmhiIns3sG3DAfwwjP5WoXlzBU7kRzS002XdlS/tAHrzfJpDwN2mZZg2m36FBob6k6VaP8jHl6NiEg5Vg/z6dFUiVwD8yv1N/XJ3rqyfJjhh2eiXXQEDg/MfCYHRWX7xfHd0V+Jj2EJYlQ4DmuH/p8GUy/HTLtWmP89A8VtgdiREYtZXe/B0Cg2WOdVofUqvlCjNPKwEp+IqE/8MG2uPmauqoce2UzGjXO0MrQNXVs3Nx/eoKVnVV9F2fMLEBAcJ8bFhecl2TmheM/8eOTI1zay08rSTGxaKOaVywyOxKrN+bB0egLA8dkJh5vQcjof642y1ePDCHs2ExbZ2tFZx1VY9qYhwbZMMYQsTETq3ko0Oxe6ZUx0Nd0x9NACSCyz7pDJscybuZ6jlOzgMXV5pGp5tQDRSZko6xL+QXZEqW0bUw3wWTkylunbKmRZGgpqu3Yk2d45L4llLnupEsZ1eTj30Xt6R4xO+1zruF2q2KbWQR9cttgX+bRu7waEBYt5xL5fb7KgkRdwRDQxGDGp25H/tryxbWvBdRRFb25HytJg+LICf+yy1sBSKv4bjZirOjbuZPy9mCaf5JgSi/+1LthFRaKNB3z/2Q++4v+ijOQbt06lUageVeWyvDMdxjnTMVUMUpmlRpXPBdkBuFaGiUZOl5CQVotJL+MsyEWdU7mlT2Uw+6CXkRtLTVilPeW4wfHErijTVosy7Sqt3CumibJSrFzm+a5lNeFKJfI2x+tlKjHvPONmFIwPR/ZRefxM0lu7K+6sZ981oPZYE+D1Axhu8KSU/91ODZU62tFszkeB3ABeBjz+38ZO5943TW/HTMVasQcvlLbDuCUFMVN6PnLSKDRo51XhLy16Jf60e+FzvsR+jTnPuAFZpQ2wajPRcGElPhFRH/n/s3pUu6WlXyexr079BrvLRSG7rR6mPfnIMaWhQLaIvlaDjDfMqrWNbF0mCvEbRaH4oiqQt12FuSQTsQvjRZqe1Ml/yp7oM1H8ubwoaMcFUaCOXZuNOvtKtsK8eTFiTeUosy1TaLwoLhhMG/DTgw0qpQ/kY+xJixGZXuhYpm09H1mq36ToajjW8xbSeHgDfrgmE3nVV1VeaEX1sXwkRMcjo8KxPezazMh6Og05p/VpjafFBevKzShzuolS91pc57wklnlBbH/z7jXIkHlxABoPpiHSZNHjoop9X7x3A9a/UsMCHhERufZJPSzy/72yAt4F2YfBnu3Izuj9CUD/xduxJyMdP1k8Op5+pD64eAZm2QjEKxjT7hF5IVCGvBRKK1FrK4SMN2LRUjnShCMn67UkmzpLiVbOMqwItT8V1OcymJOvqjORsLEQZuenHFU5OVqUac1auVcQZSWLXOayzmU1LcxhRCJSS2qcYs1fReOlciSs7XyjYSDreUOtDaiTfQzM9cOdekrPbI0/Ah/GvGdL0GKMRfbB7YhgiMDB19sxU2qzwPR8IZqnJCB52Y1a69OoNIjnVdiONZcKkbFsm/0as/lzkcc2xmH9odF9LT7SsRKfiGjAJmDRHlsrw1LsClHJPajzDkVpzSHskGF5KkpgXSneV7kTcXLiqU/0O9+1+fjpXnGCDElC6btq2TUn8UHmEsxsq8Gm3eWOVkZK1Sd+SD6lz+scm9Jsa3l0xYIjpfICIhApb55U6/sezp0qQtHredi13KnAF5Rkn95wIFYldtdizsXP5GPsXgbseFO1tvx9EfY9JZfVANOLJWjUZ7Ub1PUcba6VI0vGKpy8BPuOOr77mTeTECG2Z076rztdxGneb8fMX6pt9PYWLJIFM1GQf+d9W6v5Gphfk4UtPyRqoZ7EvDVHkb9CVni0I+/Dc9pczvv8gwx1o6pLLEStxX4nlTg/KUGPiSqXuVrfN9X738UFbYyIiKiLtpbeOx+dHIqIOe7EgvBA0OLQniu2aNRqPm3RK62MszFVVsLPmI3H5WuUoNre6t4Dc8OWaPmj7i2LI9911MBySC9rLnpYlSv7UAYLSlZlI3sZuR3VfwxGrooR3/DRTixSldk+3/ITeXQrKn6vph3fjnj51Igoqx35neMJRy3MoRaHOhkVtuWUJYvPFi5W4oKtwr8/ZUV32Vrg9lk7LnxYg6r6K+o1Dapej5ki/+02IactACkmhqobkwbzvCqOH3fMmo6gy56Ye8B2fX8Iu4zyve0oS98H88DagNEAsBKfiOgmm/uAuFgYF6DC8gTA/y7xz8tbb/HS1q61YJatg7QTcUUmIlXno1pLl6RCPb3cgqouJ8+5YUZMVeHtfAxGPKKNiQsUW0He0xN3aCM1yHhSPtK7ANFPJiLjFQu+nDThxo/VudSOWtWKCUtXIWaW+nBPPxhXxuoXHeICq7pTWJ3hWM9bR8v7FhTIkUuFWLVAPXYthtlPZuodt10qgeW8HHESGm7vGNVzynw8osI9dYpJqlp0uTRuIFs0GI+EqZio47xheERV/qt8TERERDT4WkUZVKvCR4QhED5yxPM+zNIa0rTDUuNoKer5YDhWyAYOsgxlq9w/bcZ+rcL8MTxyt57UrzKYk6AQQ/cwYeNEmTjjEIrSw+FvK25NCsWjYWrc2Q0r3j3EsvSxga7noLE1/qg5iTMHEmC01iBn41JkVMibI3QzWauz8bP9TQh6Lh3xM1QiUX/dHYUdb+ah6OAWLJphu74PwKJ/S4J+pVeOuptxjCGXWIlPRNRHjf+pXzTAx2fIKpStLS46ze2kFS1/UaPu8g5F/PZQ+KuX2qO3tZXI22/CqoWRWF/S147AWtHcNZa9jf0ixoLG3r5KV4O+nrcOa1tvzRqaxDxq1G0BmBou/zcha42KiR+4ALGisC+npSwMlBOJiIhuDi8fzFSjRP1ii/8slKVEqopsUUas0NMsFWdUmBlhXCCMT8unD5tgrtQr96uPyw4ggZgoo/0pjoGVwTxwew8XBS1ny5H1fJw9zr0coveriU58p83WfxcVJoQEqnkjTFrFvG9klL3BxtCUFZVv+vQeRqercR7wCVqJdU/IF+3IKbF0e1qYBqiXY2bdcb3D0upfxNnzmPPvwbRcvnbqp4FGn5txXvUSv3U1SsOHlfhERH3ShPNV+phhTsCQncg8fVRs1xVZ9sdkOw+Ox3T7wj9qOyoqi1D6+lbs+NFKpKwIh/Eu/dG44tJ3HRc8bvGGb0+dyNlbExng348wtYO7nrcOTy/V2uHBLahwud/fQ6Jzr2Zu8UZEyk4kzvCA/3i1fJEWFBaL7KIcttghIqKb697pemu+T5pG7fmchlhdJY6oUZcqqlDrVNc90xilVXBZSirR2GHrEDccEQ/bykVDVAY7m4uV0WkwHau3x7nv0axY7EoNhb9YD38Vs9r3rkDEJWfht9tD7dccQ1NWVLwDMFN2aFvV1HNYndZKFJffoIVOm5VPYw42HjOpN4OcR1pOlcDc9aZPW7u6QecnjkPaCA0DVuITEbmroxV1B0wwnZYvnGJoDoGZBv1iA2/tQU71VXtolJaL5TA9mwlLf0JOdlyF5VUT8j4E/OeGI2ZdAuKTU5C+NljN0FcemCXWU2vBdGgfCmxXS9YmmHPz9Ud65xgQ1NebDYO+nrcOn+8bECNHTuUjR/b+r/a79VIN8jamoeB8/x5RbvnPejTfk4z8kyqu4UdHUZSZhAjbI5JEREQ3i2cgDJHiv9mMKudOQIncVFd5Qq+o6tJ3T8PxLXo4R5TD8qFTmWnGDxAn+6KqFemlFhy5BPg+9RgMTsWgoSiDNX98RmshLUPPHLPFxP99KbIXa5M7a2tCXf1VxGSWoqJSn/cDcw7SVwd3CtMzVGVFXQBmhfmJdfnfsMgObru6WIj1EYlY//wGmMxNjuuT6lzsVk8XGEMC2UfFYOvlmGnvo6HT4OinLfmAfN2/BmB0ixjE82pzeRoiV23DCz/OhPmSOp5YG1D875l6PyRTomCYpqXSMGAlPhFRL+yP6QYuQOQ2i7ho8MCijK2IUTE0gasoXtv90UXH470PIUsrwffBrFj8L9lJaFsNMpZH4j71WO3shWnIMufD9FaNmtF9zccysWl3IVLXRGP299T6Bj6MkHR5OvZAXLTjkWJUZ9rXPWB5vkrMR7Qtba0eC9/HuBI/kZ3ctFmw6UkVquV70Vj1K/m4cgCSN0Y5hcVxT5/W85ZjwfpH1HdyHkxqf44PR2KGQXy/BnEhttS+3+9bEI/U0nKYXjH3o3WFuKh7NhsF5dscj2erYZ5RLHdvJVrURZiNp/dEfRtXbMM8p/kTDo/eUEZERHSzeMOwWHY2egIFpY7Y5c6aD29wOl/Fw6TS9bAQcrCFhqhBln0+cV5LUSEPnc9ftnMsjRJXcaFKbwluCJnduUw4KRhGWVkvHDmlOu7X+MGwSIYPrMGmzdmoE+XJGOPszmEx+1AGqzapvOWqjOwUtsQeIkeUq8NsZdrvbcaFSVqcQ/1aQeVPWf5df6gGpjWOOPf6sADRSZkos1XOD0lZ0WFmRCyMaMJrRZbuLeqnRGHFYtmIqQFZz0Y7rk+WZ8MsUn1nrMS6qH48gku96P2YSWPd4J1XfUOWIGaKmP9svqPfje8txXqzOAZ5TUdyeiw7Tx5GrMQnuhVcscC0UBw8529Gwdne4iAOUGs9Cp4VB+vgOGSdGuLPuuV4YGpQONJfP4xdi4e6gOqBoOdzcOzFWMTMmKAuUGyfX4qiH/U9jrlv+FaUvr0T6VHBCBqvEmVYFYNY5r7DSA/vR6vscX5YlHkYpalLEDFFvd9rAoxRScg/fgiJQTIETt8MyXreQvwX78RvX09CnCHAfgPEf0ookl/Mw3+YwlVe6Iv7YFwX7PJmSvPnNcgzJWLlG/UqRedjXItdqwMxlY9K0kjU0YoLBzZg3gMPI3Z395tQRFKz2aRVqoU8X4JG5pERx9OwCj8JAcy/yERxT/3rELny/7F3L/A51v8fx9/9/X7WT00HFJNSSeWQHCqWsHIqh7GcSaih0kQTWRGln34WkUqUWDlFmEOOOTcqmxzLIU1qTltqK7WV/K/vdV87b3a6cdtez8fj5r6+93fX7t3X5/7e9/25v9fne3KrIuwJMz7yq5PxrFgf+baobF87sSJSu+1rLhWatXPNYDfK99KD92R+j+r292DVemjSW13kb5eEtN7jXuurkA9Gq1/vrhqZ9jQAS5m7WyvwtqzeNycoavVM9e08SmudGbbuf6+YxvWt9XQvH52YPUFTojLO6rc+nwTP1lfmd9dK/nxifncdV9mfuX1Vi/eO5wRjJnLithgpUV39wpdqZnByOVvT5ny+XxKWr8/3cJ9Lzlic67kWczRWPmVLO1t5V9CfR+7wOHuGAh+HUzs1sUOgQo/6anz4WPlnrEF+KlrL356kyQvWKcp6Y2dqJz74SB8FP1pHJVO+ITWzlFK/bU1m+rYJGqSnW1dO09dyOkbhQebbVh8Ff1R4BmqeE3CXiyqWrDEiPHSUdtUerZAWpZxGl/gVr+qOAYtcp6O/65RGQo7cdfzNjBh71miBHv/k8d16jVjjyadKu/9+HrYevwDr8avQa4pmBVc/ZwuN54fbxghzVpQ907OL5u8JUv7KHJuzxVxniZlT6vNdK/mcc//9TLQev87W43fYb6jmT2itCswcc6sCx/lPi9Tf/1WFl7Xi+2Mrvkn+FVm8Rzc1qKdp1JtS9+k90s9yTdynsEe6a9iu8ziG5/T5E/nCmImcECOFV3y8e5b8ZiY+4NGSFPX2cIUerKjgyaMzv4FKNG+wOqnvVFcC30ieWftA0IocT6U0faeEdM80C9eeXT1mrPqVj1bosKnazepEwEUr+fTsyG++Tz9j+XSCDltvFG3/8qT0J5A7FdqO1ruP+ihq6ihN2V6QGsAorLxqBWn8CF97Vn7oUsqBeZzyrfW/WcHyPzpTfbpNyLyIHlBkOKUPv92hA4fSv54lxsbosP05r7j1Gc1uOvfMTNxp1mfBshHq3+E8nAmO3GHMRE6IkUKPJD7gyX5YpDenxqhMpyAFZjEb/vCCCQo9aF0p304frHEtYrPjgy72TL0Ta0dpekTmpIZrYRvrsnOVZj7qKgkTNTci3emmthJ11Du4mcocnKY3P+WDL3Cx8irhqm8fNbWf7khbE9+s8fCas85Aa1NbFbjYFFet3kHqXiJaoW8vL1ANYBReFQL6KuSmJIW/OUNRTErwOF63tNP4rVv01fwg+bHoIoosb5U08X8qQv1bpq+Jf2uTIZpiSmPc1Et+1ezO50dpXwUvsT4zfj5aHW8r3KUsLyaMmcgJMVK4kcQHPNju5TO1Vj7qHeCbRZmAaEXMdy2E1PzJnikDdMl7+iq4q7cq1fLTFTrLrIli3vJt0sh1/af4zAsXWUo27qre5aXls9bqsNMG4OJSsnGwZo3poe6+ldPVuC9zbWU1b91Dk+YvLfTrDBRqB/cq0rnq0c7V/byqkTo+5iNtnKc15kttZHZqr3ZdDEFyru5nscrq+IT1fuenmVr2JWdsAPBEFdV92kS91qmRfJPXmLJ5q1a1RgocNlFfhWcoswMAKHJI4gMeK1q7VsdIJZrKN6tZF7F7FbHLXCmuajelrXNdXL4hq7T6oxEK9E1f/zqd0wmKWLXOvlqmq6+q2tcysD741m5WXNq1SBEkR4CLVHFVatFXI98L0+qtzpk41uWrtWGaNLqvmjO76rxI3L9Io7q10F1mZt29gRq1IFq/OrdlFP/FTA1L7lulgRoHDNHEpdFpvmw19eWdWXotQ7XWbotQ//udNnPpsyjdzPSc9+k4HaeIqcPVt2WTlH3d17Kfhk3dqhMZFwc9ulVhQwLVuE5yP7PPfWnKNuXjfn67QhODuqfss2KdFuoSNEHLz3Iqf9V7GqmM9ik8ItppuUjFbtWUoE66z/m7+7+zVfF/ObdlkLjfPE5OX+uSfIxSH3tTXz75MRyoKadcraHdnDb7MkFRrmZbzvt0mIWFl07Q4IDkeKqru/y6a3DoCh3IeJgS9ml56BAF3JvcLzBDLOX9frrirl/KPitWaaKAx4crLCL7swZL1vZVc+v/KWu3ZjlpAQAuuNJ11HHYaM1csirlvVr0nlWa//FohXSqozIk8AGgyCOJD3iqhGjtNkn62j66xtWSXmKi80G0jipca1/JlZQPxtWbqMt0yf+ZifpsSJ1sFwSscHMd6999OvATs9cAIF+OrtBznV/VlKg4V8L6pGs9klEfO2sSpGEWa32g5wSFJfdVkg58u06hg7rruUX5K22W+30maO2QtuoSukLLD6ZmYw8f3Kqw0IF6cVaaJLlZOMskeRft1AEn8Xr4oGufPUZFKF9LN307TT0Chit0tfWa4+xTp+IUsXqm+ga/q4jMD5eLT0XVtv6LOBhz8SZozRo3Pfpp1Opo15lv1t8d/mY/9X/DdcZdWvZirf7mcXL6WlzHqJ96vL0zX49BXva5+/1ANR40U3O+TY4ns8bOPs2ZOlzPjUtz7M3CiJ27Z7luz0OPztOBjF8O5MbJdRpmx93WlH2auI2KWKFhQcM152A271XK3ih7PsSuGB23GwAAAICLC0l8wFP9Hn/2D5rHorXcuZosKjR5VppzCc384T+9GIVPn6aFu3JerOhwbM59AACZ7V70rsJNUrqEr8Yv2eCaXbdttrrf/purQ1olSqvCTa01KbnfzqX6oJNZvyRJ4Us/d5Km1dUveZbemqH2DGPJ2rezNop9ebd16joHudqnJTZCC5eaJGh1hXzs9LUue7+Yr/nvhWl8t4qufkrQ8tBXrb/JR4ET5mvvTud3fh6mkfdZr0WzQzXHPlMsb/dz96qprhnX7UdrR/I+d27QV0smaum7wfItbXfL3k+x+fvywAPEr5vnWuNGFRX8njMLc+cqBTfP4kyZ4iV1xVXWMfootd/qwb72TVHvrHXWuCkl/3edx3DPFAXbbWnWxbEvQfYaOrZc7dPYqbWTXV/mBI5LM1t061Ktfm+Kxof4qqR9q3U8p5uF+aXmg8NSj+e2+XbsnYgK1ZTl5n1F3u7niY2LFGaeS7X6amnymUVWjOxYPkUzZ41Vx5syrx+Uzq6Y1HgHAAAALiIk8YGL1ZU+cn28zpu0H4y/mtBOVU9u1bDHQrU2ZUYbAMB94nR4e4x9zfeZIPknJxm9fFStenJSPFWFZkM1P3yomif3K1ZKfs2c9UvyKdf79PLSFfaVnRrVwSys10QBHfpp1NsR+rVsqdQzthIiFbHCXInRlKAA3Zq8YPK93TVso6t9YcQ+cyVvvJws/dwh9iLMpkRLlwETtGy7l64p5AtzHd7nKjYks5C9r5O4L+atqlnEiFe1HvpgwxQF1krtV6lxI+dLkvzJ/T695HWV69qUAabkkinN5Cqls/tSH1VIKfewTxHzXXG//LXuqYtq1wxQz9mu9jnrIvP8pYuXl3P/oiaphSm5dG8ndekzSpMjElShbA4JfAAAAOAiRhIf8FSXlcy6jE6yEsWd2W4ROuz6PKxawU5yflTu0vtlGjfTg+bKqRWK2HX2cjkVSmcxGxAAkKPEv13/l7wsF+OoqSE+boi6+JkkupP47DnTuTGfcrtP70YKHN1IFZxNu0zJrq0Kmx6qni1bqH9y6Z2czhSz7I7Pe1GXqt1GKPi21ESsKdESsXqehoUE6i7/Sdqd0y7Ll06ZBX6xSUx0XoNLeGdb3i6FWbdgevp1Cyo2eTXT2Xl5kut9Vlb313rIN2WRbFOaaZ/mzJ6g/t1aKODN5NI7iUr8yb6SvfisF9U/m5KN+2hS2oW4T0YrImKFJo4cqPv8Bmr5Uac9O9V8Us9QAQAAAC4iJPEBT+VdUVVNAdfIbOq3mvquzofoyH1OFt/x5995r1+feCrrj9KHv9tq/VtZlcozww0A8sPrX67/43/PoSzZ6X2a4tQQjziW93E8S3ncZ4XWo7Vx63wtfW+EXnuih0IebSa/a834n6b0TsqXzHU0flXq2V3pLsHV7R55UqK6+s1drR1LpuiDUUEKsX5/YOOKri8VDk7T2tSaLunFRCvS+s/3Jp+cE+AeysvLeY09lZBDYjvrdQsKJm/79KrVVzM/X6rVH43V+GArRp5op443uRLrqaV3vORV3r6ifh9kER/mkrbkU24V81Hzcau0d3mYZo4JtmOkX+vqqmTeD52K0MLN2awbcfR72RWeqmWzzhAAAADg4UjiAx6roqo19rE+lK5UhP3JM6Pq8u3k+tC/NjRU4cmLuR2N0JzpJvGesxOrV2iZfa2yqt6SxQzR0/sUucLab7XW8r3JaQMA5EEpVahh6s9LEW9MSB2rE2O0a2eahWKNE98q0q6LXl0j5yfXr9+gHeNa2zfnS172aWZjvxOqsK+lCrWbqePTfRUYHKKRfcwC52l415ZvM3Nlq6a/vSJ1EVrrb4qaOlyDP4rO8wxrI3H/PE0ct1aHS9wqv7ZdFGj9/pARQfJ3ksHZ2f3FOp2wXsf8fTOXnrlYVKjs57oye4KmRDiJ9NMJ2p0xRhSt3fa6BVLghNSa9HtnBeWrxJ5LXvaZpAPWfZy4Ok5X3OYr/15WjDwdrJDBrVTV6eFSWb4Brrif8+Y0RcU6cW/9TQeWTlD/1yIUn5+FbWMjNGXkTEWqnGo3b2fHSPCIEAWalY3PIj4ywj6rINAv+4X8AQAAAE92yRmLcz3XYo7GyqdsTquLZa+gP4/c4XH2DAU6Dj/MU8/modrVaaw2DfPN/MHz6Ar1bznctWBiiuoK7OSlKbO3Sr2mOLMhd2pilUCFujpkUqbFaH02plGmMgTxK4brgQErVHvUUk1qW8ppvXjxnIC7EEtFW56Pf5ZjdXH51aiotdv3SfcN1VdmVrKZNd+8u0ZlKEPi90QPVXhnmsLsrS6an3ZB0oR1GuY3xLXYZ1r52GcFa8wPsMb8w3ZbRsXVfdxSjUwuZfLTIvX3N4vbujbTKdFIk5aPVvO0D1FO9zNxp6Z0fkqjvnWSvRnd1FdLw3uoakrNdcdJa79NrP3WdvbjNF9oeY4R6++f+LD1Om1/4ZLKr0Z1K0bMIvXJxz1Bywc0UV97TYJUZbr20KPrpinUPs5m8eCx8k9ZRyBaYS07aViGfedrn8emqctjkxSR1XG31HomTPN7V3ZtnLL+pg6Z/yaXigqZFabAGmnP8svpfsZp7aBO6rk0m7MFSjTTB6tGyM+p2Z/CPAf8redAorWfJdZ+yOK7Da+FcBdiCUUBcY6cECOFV3x8XleCyhoz8QFPdn1rPd3LRyfMzLyoLBIbZZvpf7OGWh+CXUmVMtf6KuSD0epePZelb66qqI5PT9SnozMn8HVqqyaHrtCJm3ro6Ycu/gQ+AFwwyWN1rVKuJPNV1RU4KkwhHTK8SS9WWYHvj1Wwn9OvRCn5W2P0+Cd7qePgOmlq1afh3UjB47o4JW+ykId9lmk2QkuXjNXI1nVUKyUR6q1avs008oMFqQl8o3xrjV8yMX1f85rSa4RWr82QwDdyup9e1mMyd4Hmj+qijrc599VS5trKrn1+nEUCX0mKmjxBYacqKvjJ5h6TwM8X6+/vN22iQpLLByUfp2cyliXyVvORU/Ra6+rOsfOWX6ehmjWgr3U8W6epVZ+WdVzGBau7U/Imszzss0YPzVwyReN7NZJvyrEsrkq3Wcd3zGzNSk7gG6Y80qwwTUrb1/q7/FoHaeaa2RkS+EZO99P62dHztfGtIHX3dR4nw4q75tY+5y/PIoFvOTx/kkYdLG49nl1J4KNwMWe2fDRQd1VpoC5vbs3f2S2A48TaUAVUqav7BizSYWIJhRFjJnJyMcSImYmfVz8dOeFcy5+C/jxyh8fZMxT4OPy+48ybLe45c0PtAWcW/ui0nWt//3Rm4ZP3nbnh9o5n3oxMdBovfjwn4C7EUtHG8fcMP8wfcKbO7fecaTtmx5k/nTZPQYx4hj8jx59pa8VInSfDz/zwt9MIt3FXnB+3nss3WMfpht7hZ447bXlnvV82+7jder98xGnySO6/n548FuaW28ZM6zlvx9Lt489EOk15F3tmYW+zj3usz0FOk0dy//1kzDy3GDPzo2iNmcRIflwcMfLrr7+65cJMfMDTmZls08aqX9kI9e8wRHO+dddCdtlI2Kc5QZ3U/4uKCv5givrVymbWJAAAF4IzSyYgZKtueWKipg2oTp1zZGJmlXbuNlMnmg3V/AmtVSHTmRxA4VCh7Wi9+6iPoqaO0pTt2ZQkA3LBq1aQxo/wtcfP0KXZLBQOXOQYM5ETT44RkvjAxaC0r4KXbFH056PV8bbsTjN3E+/K6vjWBkVvDVO/e87x7wIAIK+KeatSt7H6as8GzXy6jkqSnEUWyvgFa/6eLdo4jgQ+CrviqtU7SN1LRCv07eU64bQC+VEhoK9CbkpS+JszFJWfVeoBj8eYiZx4boyQxAcAAAAAXLwO7lWkc9Wjnav7eVUjdXzMR9o4T2uyXEwauXZqr3ZdDMF0ru5nscrq+EQj6aeZWvYls5QLLcZMxsycECMeGSMk8QEAAAAA51zi/kUa1a2F7qpSVxXvDdSoBdH61bkto/gvZmpYct8qDdQ4YIgmLo1W6uTgnZpo32ZdWoZqrd0Wof73O23m0mdRuhl0Oe/TcTpOEVOHq2/LJin7uq9lPw2bulUnMi50d3SrwoYEqnGd5H5mn/vSLIiXj/v57QpNDOqess+KdVqoS9AELT9LWc2q9zRSGe1TeES001LIxW7VlKBOus95fPq/s1Xxfzm3ZZC43zyeTl/rknwsU49RnML7JD/WAzXllKs1tJvTZl8mKMrVbMt5nw5TAm7pBA0OSI67urrLr7sGh67QgYyHM2GflocOUcC9yf0CM8Rc3u+nKz77peyzYpUmCnh8uMIisi+XU7K2r5pb/09ZuzXzcwPnFWMmY2ZOiJGiFSMk8QEAAAAA59bRFXqu86uaEhXn+mB9cqemhHTXqI9j7ZvTOrxgoB7oOUFhyX2VpAPfrlPooO56blH+anXnfp8JWjukrbqErtDyg6kf7g8f3Kqw0IF6cVaaD/M/LVJ/k4RYtFMHnITq4YOuffYYFaF4V1PefDtNPQKGK3T1vpR96lScIlbPVN/gdxWR+eFy8amo2tZ/EQdjCn/iNXGnJvbop1Gro3XYbFuPT/ib/dT/jZ32zWklRk1QZ3/zeDp9La5j2U893t6Zr8cqL/vc/X6gGg+aqTnfJseddOLYPs2ZOlzPjUsTI6esv6lzd/Wduk5RJ11NJ47ttPf50KPzdCBjkis3Tq7TMDs+t6bs08R3VMQKDQsarjkHs5lpX/ZGVTP/74rRcbsBFwRjZu4U5TGTGMmdwhQjzkK5eVLQFZPdtvo8zorH2TNwHDwHxwLuQiwVbRx/5IQYQVGQ1zjf9W7bMzfcfs+ZG2oPOLPwu0RX458/nVkzwmnvHX7muKv1zA/LR51p22LUmWXJ/f6OzbJfiiPhZ/qY22639n3Eacsg1/s8sfxMkL2vx89M3un0tfwZ/9OZyM+/P/Ons33mTPyZZc+Yfm3PvLLqpzN//u00/7z3zPTervbJO522ZLm4n7sm3Oe6T8PWnvk1eZ9/J545/t1XZ3b96GxnJXnfWT0+Hi6vsfTr8mGux+j2jmfe/Dze1fh3/Jld0wY47ePPRLpaz/y584MzPXytYxmZ2m9/Fv1S7Tjzpn3bPWfezHyjLff7tPZV27WvV5Y7fY3fY8/s/3zHmR+Sj69l19uuWOwzbW/qcU/z/HhuSZqft+V8P4+HO/ep6wdndv3uNFqx9OuhHWc+35ca25kl7zurxwf5xZjJmJkTYqTwxsivv/7qlgsz8QEAAAAA51CcDm+Psa/5PhMk/5uK29fl5aNq1Su6rqdRodlQzQ8fqubJ/YqVkl+zRq7r+ZTrfXp56Qr7yk6N6tBAdvmRDv006u0I/Vq2lLzs2ywJkYpYYa7EaEpQgG6t7pyif293Ddvoal8Ysc9cyRuv0q7/5w7RHdY+TemVLgMmaNl2L11T1nVTUXd4n6t4gjoFKdDX23W9mLeqZhFLXtV66IMNUxRYK7VfpcaN7HIx+ZX7fXrJ6yrXtSkDTAkJU2rCVUpn96U+aRbd3qeI+a7nx/LXutvH3Y6lmgHqOdvVPmddZJ5noHp5OfcvapJamBIS93ZSlz6jNDkiQRXKOs8DeCjGzFwrsmMmMZJrhShGSOIDAAAAAM6pxL9d/5e8zEksno2pDT5uiLr4mQ/7zof4njOdG/Mpt/v0bqTA0Y1Uwdm0flBRu7YqbHqoerZsof7JJQJ+j8+x1Mju+LyfgF+12wgF3+YkRCym9ErE6nkaFhKou/wnaXdOuyxfWiWdq4VVYqJTBqaEd2ryJzumDvP09HWYKzZ5Vcudm/Ml1/usrO6v9ZBvCWfTLjWxT3NmT1D/bi0U8GZy6Z1EJf5kX8lefHyeyzmUbNxHk5qleb6djFZExApNHDlQ9/kN1PKjTnt2qvmojHMV5x9jZu4U5TGTGMmdwhQjJPEBAAAAAOeU179c/8f/nv0icrbT+zTFqQ0ecSybmt15lcd9Vmg9Whu3ztfS90botSd6KOTRZvK71iQAkhS+9HNX7d/LSuoa87/qaPyqLYrek8UluLrdI09KVFe/uau1Y8kUfTAqSCHW7w9sXNGV/Dg4TWt3270yi4lWpPWf700+OSe2L3JeXk4y5lRCDontrOswF0ze9ulVq69mfr5Uqz8aq/HBViw90U4db3Il3KLeWSvX4fSSV3n7ivp9kEUcmcu7rfOeUC/mo+bjVmnv8jDNHBNsx1K/1tVVyXypcCpCCzdnUwf76PfaZf6v5uPEOC4ExsxcKsJjJjGSS4UoRkjiAwAAAADOoVKqUMPHvhbxxgSFJy+omRijXTvTLGhnnPhWkQfNleoaOX+D60P7zg3aMa61fXO+5GWfZpb1O6EK+1qqULuZOj7dV4HBIRrZp47TweFdW77NzJWtmv72itTF8qy/KWrqcA3+KDpfC+El7p+niePW6nCJW+XXtosCrd8fMiJI/k6SNzu7v1inE6osf9/MZRQKmwqV/VxXZk/QlAgneXU6QbszxpKitXupK9YCJ6xKSQLtnRUkX7s1P/KyzyQdsO7jxNVxuuI2X/n3smLp6WCFDG6lqk4Pl8ryDXA9P+a8OU1Rsc7zw/qbDiydoP6vRSg+PwvbxkZoysiZilQ51W7ezo6l4BEhCjQrNZ5FfGSEfVZBoF+dQv+FkOdizMytojtmEiO5VZhi5BJTYN+5nmsxR2PlU9apKZQPBf155A6Ps2fgOHgOjgXchVgq2jj+yAkxgqIgz3F+dIX6txyu8OQP5bbi8qtRUWu375PuG6qvzGxjM7uveXeNylBexO+JHqrwzjSF2VtdNH9PkGrZ1y0J6zTMb4jC0u3bko99VlgxXAEDVuiw3ZZRcXUft1Qjk0uU/LRI/f1fzfA3OUo00qTlo9U87UOU0/1M3KkpnZ/SqG+dZExGN/XV0vAeqppSS91x0tpvE2u/tZ39OM0XizzHkvU4TXw4UKF2AimVX43qVizttK4lx0eClg9oor52jeVUZbr20KPrpinUjgdfjV8zVv4pdZGjFdayk4Zl2He+9nlsmro8NkkRWcWHpdYzYZrfu7Jr45T1N3XI/De5VFTIrDAF1kgtB5Hz/YzT2kGd1HNpNjN0SzTTB6tGyM+p2Z/CPFf8redKorWfJdZ+yOK7DWOmhTHzrIgRSyGNkfj4vK5qkjVm4gMAAAAAzq2yzfS/WUMVWKuU68PwVdUVOCpMIR0yJCyKVVbg+2MV7Of0K1FK/k9P1Pgne6nj4Dppauqm4d1IweO6OKfmZyEP+yzTbISWLhmrka3rqFZKgtNbtXybaeQHC1ITDUb51hq/ZGL6vldVVMdeI7R6bYZEg5HT/fSyHpO5CzR/VBd1vM25r5Yy11Z27fPjLBINSlLU5AkKO1VRwU82L3Ci4aJgPU79pk1USHI5hOTj+UzGMgveaj5yil5rXd05xt7y6zRUswb0tY576zS16tOyjt+4YHV3St5klod91uihmUumaHyvRvJNOebFVek2Kw7GzNas5AS+Yco9zArTpLR9rb/Lr3WQZq6ZnSGBb+R0P62fHT1fG98KUndf53EyrPhsbu1z/vIsEviWw/MnadTB4tbj2ZUE/oXGmJnz/SzqYyYxUuRihJn4hRiPs2fgOHgOjgXchVgq2jj+yAkxgqKAOPcMhxcMVEBIhCr0mqJZwdUvyvInxJJnSIyaoM7dZuqw31DNn9BaFTIltlAQxLln8OQxkxjxDOciRpiJDwAAAABAUWTqpX9kEg1bdcsTEzVtwMWZwIdnOLE21E7gn2hGAh+FFGMmcnIRxAgz8QsxHmfPwHHwHBwLuAuxVLRx/JETYgRFAXEOdyGWUBQQ58gJMVJ4MRMfAAAAAAAAAIBCjiQ+AAAAAAAAAAAeiiQ+AAAAAAAAAAAeiiQ+AAAAAAAAAAAeiiQ+AAAAAAAAAAAeiiQ+AAAAAAAAAAAeiiQ+AAAAAAAAAAAeiiQ+AAAAAAAAAAAeiiQ+AAAAAAAAAAAeiiQ+AAAAAAAAAAAeiiQ+AAAAAAAAAAAeiiQ+AAAAAAAAAAAeiiQ+AAAAAAAAAAAeiiQ+AAAAAAAAAAAe6pIzFud6rsUcjZVP2dLOVt6Zny/pXUL//POP8vHrkUtxP/+qUldf4WzhQuE4eA6OBdyFWCraOP7ICTGCooA4h7sQSygKiHPkhBgpvC6Re3LfFyyJf+UVl5PAP8fi4n5RqVJXOlu4UDgOnoNjAXchloo2jj9yQoygKCDO4S7EEooC4hw5IUYKr9N//+VcK5gLlsQ33y6RxD+3Yq0BoDQDwAXHcfAcHAu4C7FUtHH8kRNiBEUBcQ53IZZQFBDnyAkxUnglJf7pXCuYC5bEJzDPPQYAz8Bx8BwcC7gLsVS0cfyRE2IERQFxDnchllAUEOfICTFSeP35xynnWsGwsC0AAAAAAAAAAB6KJD4AAAAAAAAAAB6KJD4AAAAAAAAAAB6KJD4AAAAAAAAAAB6KJD4AAAAAAAAAAB6KJD4AAAAAAAAAAB6KJD4AAAAAAAAAAB6KJD4AAAAAAAAAAB6KJD4AAAAAAAAAAB6KJD4AAAAAAAAAAB6KJD4AAAAAAAAAAB6KJD4AAAAAAAAAAB6KJD4AAAAAAAAAAB6KJD4AAAAAAAAAAB6KJD4AAAAAAAAAAB6KJD4KjT3vdVXlGvWty0Rtc9oAAAAAAAAA4GJGEh8p9rzbXpWDVyre2U5xer+mPlhfIcsSnAaX+L1LNLqHv3ztxPmD6jggTFuOOTfaErQyuL7avLvf2U4ri9sS9mvluBB1bGT2Z10adVXIu5GKPe3cntbpI1qfpu/9bfpq9Cf1NCdqk/Zt76eaTjcj8cBKvTOgq+7P9n4CAAAAAAAAgGciiY8UVeq3UpVVq7Q+Y4L7281aFNNUTet7Ow1S/JrRatNjvW4e9JEitm/SvqhwvdUmVuPaDNLiGKeTvFW3WVPtmbZYWxKdpmSHV2nuqnJq3egWp+GQ5j7ZU+8nttRbK0wi3roseF43b+qv1qM3K/2Px2nlgK4ad6ppSt9lbz+qml6zNfqD9F8YJG6bqO4PT9efbUK1zCT4oz7W8EYxGe4nAAAAAAAAAHgmkvhIVbWhulbdrBVb4pwGlz2bFmtPhyaqm5zDP71f88YsUb1hw9S+qtNYrLhKNxyo4T2i9eyE9Smz+Us2aKEnNF+L16Sfxf/j5pVaf0dnNb3VadANav/uMk0ZVE+lvZymq6qpa58AxX68WdvSZvGPbdai9Ulq9lDDlL5ePvXUvsMt2vbJZu1xNVmOaNHY2So5+FUNaFhOXsWspmLequI/UAP8I/Xs2CzOOgAAAAAAAAAAD0ISH2ncoHptqmnlvPX60WnR6V1aPy1OT9xfW8m5df2wU+tiaqtujdSZ+cmuKVtRWrZT3znb8qqtZj3Kae7MVWn2uV8rP9il9l2a6DqnyVbCWyVNoj0Nr8uKW/8e0YlfXNu2pKQMM/PTuOpylXSuKiZS63eUU73aNzgNyYqr0u21pVX79F3aUj3HlqifXXIn7YX6+gAAAAAAAAAuHJL4SOe6hi3VdMdKbT7s2k78cqU+VIAa3W2S6Y5fYrRF1naGhHuqQ/oxTUmeKg91VsMdi7X5e9d24peL9d4vAWp1f/ovAVy163vqwXppkug9Zju3puFTXfVulFZ8ul6xTjY/MWaz5n58SK26NEz9YuBYtFbqiEZ3SLM/5+I7bLPVwbqfsa6utmtbaqIp45Pukr6+PgAAAAAAAACcTyTxkd61DdW6yS4t3njI2kjStvVLdE2PZqqZNmF/pY/qWrcpqwVnbTfoutLOVaNCE7Vvsl8zVpp69QnaEj7f2mcr1U2Z2m85uV6jHxmp3bWGas66NEn0aZ2cDmkUu0W93h6luttHyPduV1L+wSeX6NI+H+jVlqWcTpZrK6qpauv1ZWn2l+4yRq2udfoCAAAAAAAAgAciiY8MXIvRbvlwvfYkRmrdrFJpFp91XF9djXwitWV7+jr3xvGj0dKD1XVzuln63mr4cICOmwVuYzZr5bJq6vpQhn1G79SMU/XUrOktKpk2uf+X8386SdqzcqXUc25KQn7NwlF64sEbUkv+GPaM/azvJwAAAAAAAABcDEjiIxN7MdpfFmvRa0s0Nd3is45it6jdoJbaPHKk5u52EuSnkxS7fqxGTKuo14Maptald3jd3UqPX7lEbz8zXXPrt5RfBeeGZJWqq2uJzVqxcr/inRn+iYcjtf7X0mrl2kwVu04zxsWowk1pZt1n6Qa1G95JB0YO0jubjygxeb+x+7V4WF89+/Gh7GvrAwAAAAAAAIAHIImPzLyqq55/nKZ+sl4NW9VLv/iso+T9Q7RwWkN9N6abfE2d+Vr+emphaQ1YOEatfJxOaRW7RU17VtaWvYfUvmVDpa22Y/NuqCEfDtF1nwWreS1rf/X8NfSzkqrbJEDd+sTqv03r653kFWZLN1K7HkkakanW/YPqOGCitsQ4/SxeNfsp7MMA6eNgPWj2a0rvPD5RUTcFavjDGWbuAwAAAAAAAICHueSMxbmeazFHY+VTNlMaNtfMz5cudaWzhXMlNu4Xj3qcEzeNVfVBUti6genr4edR4u7ZGvrh5RowqqWuS1u253SC9swcqTaf1NayhZ10s9N8oXnacSjKOBZwF2KpaOP4IyfECIoC4hzuQiyhKCDOkRNipPD6849TzrWCIYlfiOVlAGjQJEBHjx93ttzD1KpPlaCVwQ/q7Vs+0MI+t9gz4vNj3/ZwrQzyV78bJ2nfgGpOaxoHZqvjw9F6ctMQNfRWvn9PVjoEtNQrw4c4W7nHQOw5OBZwF2KpaOP4IyfECIoC4hzuQiyhKCDOkRNipPAiiY8cedQAcHKlQhrN151LJql9xnr4ebTn3fZqs7CeprzfTw19ijutrlr3i0b20TgN0aIJTTOX7LlAGIg9B8cC7kIsFW0cf+SEGEFRQJzDXYglFAXEOXJCjBRe7kriUxMf51Rs+CBXvfqH3pKGPa/WBUzgG1Uen6Q5HX/T3Gfau+rx25f71ebJafqu/hgtGuc5CXwAAAAAAAAAKAhm4hdifIvnGTgOnoNjAXchloo2jj9yQoygKCDO4S7EEooC4hw5IUYKL2biAwAAAAAAAABQyJHEBwAAAAAAAADAQ5HEBwAAAAAAAADAQ5HEBwAAAAAAAADAQ5HEBwAAAAAAAADAQ5HEBwAAAAAAAADAQ5HEBwAAAAAAAADAQ5HEBwAAAAAAAADAQ5HEBwAAAAAAAADAQ5HER4rY8EGqXKN+mssgLT7m3HgWP37SX7417le/T444LVk4tkT9rH2+s83ZBgAAAAAAAADkiCQ+UpT2H6N92ze5LtM6Oa0AAAAAAAAAgAuFJD4K7LqHxyti+xpNfLic0wIAAAAAAAAAcAeS+Dg/En5TvHMVAAAAAAAAAJA7JPGRL7mqn79tYurtD0/UFqtpXI+0P1Nf/cLjXH0diQdW6p0BXXW/ffuD6jggTFtyUZcfAAAAAAAAAAojkvjIl3T181cOUVOnPZ2a/TL1GTDN2XYuE/1LufpaErdNVPeHp+vPNqFaFmXdHvWxhjeK0bg2g7Q4xukEAAAAAAAAAEUISXx4iCNaNHa2Sg5+VQMalpNXMaupmLeq+A/UAP9IPTt2JeV4AAAAAAAAABQ5JPHhGWIitX5HOdWrfYPTkKy4Kt1eW1q1T9+ddpqMY0vUL01ZHtdlorY5NwMAAAAAAABAYUASH57hWLRW6ohGd8iYmK8v32GbrQ6H9GOsq6vt2paamKYsj+vSTzWdmwEAAAAAAACgMCCJD89wbUU1VW29vixjYj75MkatrnX6AgAAAAAAAEARQRIfnsGnuurdGKkt2xOcBgAAAAAAAAAASXycHyW8Vca5mrUb1G54Jx0YOUjvbD6iRKf+fWLsfi0e1lfPfnxIia4mAAAAAAAAACgyLjljca7nWszRWPmULe1s5Z35+dKlrnS2cK7Exv2Sp8c5NnyQU38+awOmbdITTtH5vPR1SdKeDwepX2ikfnRajKYjwzXRv5SzJSUeWKmpb03X3DWH7H7X3VhbDdt014BHaqtkMVefi01ejwPOHY4F3IVYKto4/sgJMYKigDiHuxBLKAqIc+SEGCm8/vzjlHOtYEjiF2IMAJ6B4+A5OBZwF2KpaOP4IyfECIoC4hzuQiyhKCDOkRNipPAiiY8c5WUAaNAkQEePH3e2Ln4dAlrqleFDnK0Li4HYc3As4C7EUtHG8UdOiBEUBcQ53IVYQlFAnCMnxEjhRRIfOWIA8AwcB8/BsYC7EEtFG8cfOSFGUBQQ53AXYglFAXGOnBAjhZe7kvgsbAsAAAAAAAAAgIciiQ8AAAAAAAAAgIciiQ8AAAAAAAAAgIciiQ8AAAAAAAAAgIciiQ8AAAAAAAAAgIciiQ8AAAAAAAAAgIciiQ8AAAAAAAAAgIciiQ8AAAAAAAAAgIciiQ8AAAAAAAAAgIciiQ8AAAAAAAAAgIe6eJL4p+O0ZXRXVa5R37oM0uJjTjvcyzzO74aoYyPzONeXb5NBemfZISU6N6fDMUEREb9prDracV5f/cLjnNbMYjeHKaTNg67nRD1/PTtupb475dyYRuzm2RrRw1++9j7v14M9RmrGl9nv13Z6v6a2cd2HyuN2OY24aO0NS4mpd7Y5bWnE712i0Skx8qACQ2ZrW6xzY1qnDmnluLRjdl+NDt+v+NPO7Vn4cdlo63c/qJCPz94P58jpBO15r6986/XUuPU5PO8t8atGOnHgvtfZs+8zSd8tm5huLAsctUTfJTg349zYNtH1eGd7magshgqXHMaTnMVp8VMZf1/6S8bXvvgv076OPaiOA8K0hfeByKNf4xPUP3iYHWNvvTvNaZVO/vKrej35bLoYzHiJ3LbT6Z1/n63bqJq+TdW6fQ99H/2D04qLxd+nT2vlZ+v1aO9n7Ji4u8FDdjx9ufVrnTlzxumVXmxsnJ4LeUVPDRiqwz/GOK159+efiRr28phMcWkuJnZNDBsmTrPqk3xJ2xfIyqJPV2YZO+aScRw8cuyYXg19U42at7NvN8+NiC1b9c8//zg9cq8g43B2YzvOjdzGyNmOqRnPzLiWV3nZp7k+a+5Cte/W277dxGnIS6O1d/9Bpwdy4+JI4p8+ovUjgtR9Sz3NmdDJaYT7xWnlgPYauLu2hi/YpH3bN2nt9AD9+W5XdX9vv9PHwTFBEfHjqtEKfCpSjaaN0QCnLSuxSwap9cCdunPUx/ZzZ9+6SWqdOF0PdgnTnjSJUpM8a913sUr2nKS1UVa/qOX6sOflWhQYpHe2JTm9Mvtxzusa7R2gXnc7Dbh4nT6kua9MVskOAWrqNKWVuGOyAjvMkldKjHysAVUj9VSrkVp/0ulknNqld7p01fuJLfXWCteYHfHxs7r5sz4KnLAriy9fk/TdzEHqMGSnGk35WKM63KKSxZybcH6YL7/H9FWb9731/McfaEDDUs4N2Ti1WW8PW6fWHVo6DW5w1n0madu4nnrw3SQ1fTvcNZZt+kgDblyvRx6ZqG1ZfCkJd+qkOeYxT3dZo7DOxaUSxeXl9Eonh/EkL5qOdI552suSgWpo3eaVZqz4MXyQmvePVJVBHynC9IkK11ttYjWuzSAtzn9ODEWMSbIuX7VOiUlJauzXwGlNb9a0dzLF5PTJb+jqq69SsWIF+xh77PgJfTjrE3V8uLXTgouJiZ8Zs+drygczNKBfoL7dtkERaxfLv1UzhYwYrTXrNzk9U8UcOaqhI15TiRKX6n+vvKAK1/k4t+Td6dOnXQmpLGJ06tuv66orr3B6SvXvvUdfrF+ars83URv0VJ8e+lexYvq//6M4ArJ36tQf6v/k4+niJ/lSu2Z1p5f03feH7MT5zTdW1PKFM7T3640a8UKwps+cq6XLV2f7xVZO8joO52Zsh3vlNkb++usvlbj0Uq0In5mp38gXB+nSS7N8p3lWud1nkhUPb7w1RWs3RGjMq8Ps+DRxekf1quo3cKh27v7W7oecef4rxukjWjm4lwJ31NOcD/upZkmnHW6XuHm6XvqqpcaODlCVq1xtXj71NGBUbyW+OU0rk5NHHBMUET8uCVH3YJPwnKQnano7rVlIjNSHoyLVeswota/q9PMqp4aDXtKQxMmasTJ5CusRrV+8Wdc8+ZIGNCznSooUK67SDftpQIdDGvfeSmU12VoxSzT6tQQNeaGzqhZ32nDR+nHhRIUk9NaAnpWdlrSOaNGYMJUc/GqaGPFWlS7D9NK9KzXu49QvVH9cMlHjEntr+KB6Kp38nuuqW9R+xBBVmjZRiw47bY7ETRP1yGsxemTaB3ri7rPEM86ZH+dYY0q4j17/ZIxaVXAas5WkbW+P1aKGw/XkQ5c7bQWVwz4PL9Hb05I0ZNRANfRxBpvk+Ks0W28vOeJqw/mTsFkrZiWpSg8/VXGa0jr7eFJwe1bM0no1VLN7nS+crNe7uaM3y2/YsNTXO/t1bKCG94jWf8Misz57E8jgYPQPWrj4Uz32aCeVLuV88MiBSRas3bhZte+srhsrXu+05p2Zwf3Jwk91W+VKanRfPacVF5OTJ3/R2g2fq0vHtrrzjqp2ItwkxBvWr6fmTf20KeJLJSamTo757bffNf6t91W+3LV6buBTuuyyEs4t+ZNkxWLsybQzK/Lm2PHj2vzFVtW7q7ZKervrNR6FUVxcznF2+vQ/WrJsle6odrvatmpmJ04vueQSVbz+Oj3Vu4cWL1ttn4XiDjmNw/kZ21EwuYkR4/ffT+n3P/5wttwjt/v88aej+nzzlwrs0cWOSxOfJk5bNn9ANe+opojNXzk9kROPT+In/mB9ePmhhStZTM7hnNqzZYliG9ZWlYzvaarWUrMS67Xic9fAzzFBkZB4SJtXxqi9SeDnlPDcs1lzTzVSvRoZMuzFblHdVsU1d9lmJzlfTq0mLNPCx2+xt1IV13U3Wm2bopUh72qJ08rRY/Vjj+fV9VYy+Be9Yys1LjRaA4Z3UpWsZsEfi9T6HeVUr/YNTkMyb9VqVE97pq3VHns7Tns27ZIeqJp5P1dVV927d2n9l2kSrqc2a9yg+arQ53n1qkkcXRDfz9eI1/apVcgQtcrF5L/EHdM0+sOKen5AQ7nru/Kc9hm7fbOdsK15m9OQwltV6tXW+lWR+tFpgZvV7Kd92633Vc5msvhNKzVD1dT1oYyvG5acxpNcK6VWb23SRP8MZ4ac3q8tnxxR6c4Bapj8OXxvpPV6V1t1a2R+XaxSs6FiZ21Od/YZkBUzg3nGnPlqVN9XVW7L/AWUmcVsZjOnnUFoHDseq21f71SjBr66omT+P4Rs37FHGyO22LPw//1vXhMvRgm/n1J8fIKuv+46p8XFzAy+tLiXfjpyTH8mur5SNDODl65Yo4PRh/Rot44q8Z//2O0FVfxf/5aX19njx8Rwxpn5xq49e/Xrrwmqf+/ddjILOJvLSpw9Zn/7/Xft/mafqla5VcWLp4/J63zK2rOgo3/I2zu4/IzDOY3tOHdyipFkXtZrXk7jVl7lZp/xCQnW6+2/VbrU1U6LS7Fixexk/tHjx9N98YrseXwS3+vGAL0+i2TxuRenHw9YT5prS2Xxwb6crqslLd7vSghxTFAkeN2g9uNyN2M59odDitXVyurz5DXla0vr96VPzmeRbIn/5ZDkUzJTuYT4VW/ZZ8gM6VMt61IKuIgkaP240drccmD2ifSYaK1URZW50tlOo3T5G6RT+/WdU3c6MYdE2cofUmfc/LhkuqYqQAN6EEcXRpK2zJmo9Xf004AHcyihY5zerxnDzBkZ/dTqWqetoHKzz5ySr19G64RzFefDEa2YuV5qEqBmmc7cyMV4UkCJXy7WezHl9Hir2qnjxumkrM8YS3FIP569A6DPt3ypg98fUpvWze0P8Lm1+ctI+/96d1vvrfLJ1GoOmzFXbVo9pIo35HhKFDzU1Vdeoet8fPTDj+kTk2ZG8p9Jiap6e2VdftlldpuZgbxs5Wdq17aVbqhQ3m4rqPiE3/TX33/lOnGW1qk//rDL/dxb7y633R8UTiapGRsXp6tzmNFuat6bM4zO5six4861gjnbOJzfsR35l9sYMczrnxm3/uOmLzKN3O7zmjKlVLz4v637+rPT4pJcmqzK7be6/cuFwuriKMDG8/88OKIfN0lNbypnb303zSxY+6BGr0+zkt33Makf3DgmKApyGeeHD26W6leU/VHwwGx7gcH7R25WvH2rcUgnzpbUMLMdFyep5sP10pdLcGpXNxsZqLoFO+sXHiBx0xQ9v76R/vtkvWwT6eYLIekGXWeSrAnrNaJeffl2mK3v7FuNSP1oJ/FL6eaa1nj92e7Ms15P7pT1HjqN/Vr5wS5V6dFU130+VoFN7rcXE7q/TYimbnbPqbXIgVMSpX2Xeor/MHkhYrOo9Vgt3pt5xVh7DQz11oCOGc/IyL/c7LP0bdWtMWi9tmUqS5mgPZtdH9pwHu1epRk7iuuJhxtlmmCRm/GkYBK0/pP5ir2js5pWdZqMStXV1RqHtmzPHLd7tq13rgHZS65F/0jnh3XtNWWc1pyZRMG6DRGq73u3ypXN37ebybWajeZNGjED+iLm7X25HunysMKXrNDXO3anJDHXb9qsnbu+UeuHmqbU696x51u75MOtt9ykl0a9bi+AaxZUHDdxsn7+OX8lcf6xftc/VjzFWj//4sjX7AWSk/f5y6+pnwCycuC7aOt92jY9YL0XyDhrGkjLjFnmi6nTf/+t2fPC7RgzsWZq33+zN7XE5uWXlVClmypq95699qz7tH6MOar9Vsy5w9nG4fyO7SiY3MaIYfqZlRGiDx22F/c2nweb+XdR2Mx5diI9P3K7TxMvj3Rup6lhc+yzQsz9NrcvWf6ZXZ7s/ga+Tk/k5OJI4sMznOb0FiC/zjZr2k6ueXXSkC5pyyW4aldPrTVQTzXhtJeL3qlIvT1qvmoNeSq1LEW+WOOwE0tVWgWq1S+TNWLMZsUmv0c6uV8rN0SreInUL2UVs1dRMcVV8+Q+bfYJ1JRVa7Qvao0+HlBKK/q217NLSOSfc9/s1AzVlvf363Wi6XDNWbfJXgz09aZH9N8OffXOjjSvr/YaGHFuKJGSRm73eWsLPdkwTqNDxmp9jHOfTidoz5L1+q5E8dQvK3EeJGnL4mna49NDze7OkORx23hyFodXae4qqX2XJkpXrMK7ntr3uUFzR47U3N1OIt/Mzt+0RNsSTJ0o50tIIAvJteivv6687q2bt5X693yz1y4X4dfg3pTkbF6ZWs2fLFyibp0DClSOB56hTq0aCnriMYW8NFq31WygKrUaKmzmXI14YVBKrW6TKNpjxU2Z0qW1/7vvNeiZJ/Tlhk8198NJdgL/xZfH5DuR/1dSkvYf+F6DB/ZT1Ocr9OF7E3T4xyMa/nKonezMikl4mVr+5kwBM/MUyA0z9t1b9y6tXTZXG1cu0B3Vb1dQ8Ispi4GaMiXNHmik9Zu2aMHiFXZy1MT+ocM/2V9yXX1lSZUv53wuKIDsxuGCjO1wj5xiJNmp33/XkWPH9Pp/h9sLgoe+OkxrN0bYi85m/AIot3KzT/OlefMm9yvAv7k6PfqEbr3zPt1xzwOKjNquYUOeUakMZXaQPZL4yNLNPWZo3/ZlGtIwzRvcYvmcKXBsifrVMLMO014maptzM1CoVOqkOds3ac2weulmTtoLlGYhftNYPfumt15/u59qpplt76pdXUqjgluqtNOGi1WS9kwbq3dKD9SQlrkopZLMu6GGb96kiI876WanyayfkHKGyLVN9frC8Wp2bKI63G2Nq/X89ezH8ap146Xadqqcat3m/K5jpkRPkpJqNMm8EOWTpbT4raVOnX2cK7FHzBkWMbqmYafMC8Y2OaRxM5PP3HGtgRHVwZ0lUvKyz1JqOm6uwh6M09tdzBkb9+vBAQuUeFdFeX2VpCo1b2U8Ol9OrtPiWUlq2LNJhi9e8jme5NGeT2dpfYkAtbo/Y6KzuKr0maRlQ8pp5TP+9nu6+3tM1OaytVXmaKT0YPU04xWQnqlFbxKYXTsG2DVwc8skAT5bt0l1766pSjdXdFrzxiS1TK3munfXVs0709d4xsXHxMSk9z7UzDkLNGnCa9r79UbtiVqvgU/30SuvvaGly1fbSUxTauLEiTiZky6aPtBQl1/uKrFTpkxp9Xmsu46fiNW2nbvttrwwXxJ89P5EdenQxt6nSVBVuM5HTwR2174D32nrtu1Oz/SOHD1mL7pb0HUdUDSYcXLki4P0wuBn7PgycWbirbMVd6ZW/eJlq+yFZo1ad1bTG/8baS8QWu/+Vmrd/lHt2v2NvbisWci5XNmCzY4/2zic37EdBZeXGDHbs6dP0kNNH7B/ziwIXr3qberdo4t9ltq+A9/b/fIit/s0NfFf+d8bivp6lxZ//IH2bd+k3VvXqtVDTRQ06EV9Ffm13Q85I4kPRzldV19aeTDNQogZ3eiTvw/v17bUROtJap6oqZfMi7cBF6sKN9XLZlHaZDfI+qyQyY/hIWrzQpwe+2RMhoUuD2nesDDp6WfV/kanCRevA/M14l1pyAsBui6HmdWlrzelTg45JXOyUjv9LNdra6vXuBlaY8bVzeF6vU91HTCzd00JjHQTvLJfiFIxO1Pq7ONcyn7BWC2zjoG1Fb9mil76yr0lUvK8z2KlVLfPKNfZAtvXaNmE7qqyf6Xei6mmrs2yWFwV58SPq+ZrrhUz7ZtkmDmXh/Ek3xIjtWLaEVXp0Up1swqaYt662X+g66wea+xZ8+FAtSq2WXNXFdcT/um/wAaS/fbb7/pw1jy1fLCJKt9yk9OaO2Y26eebv9L9Devne1HSLV9Gat/+7+zFbP9FreaLXuS2HVq0dIUCe3ZNSVyZ43pHtdvVo2sHvfv+R3Z5h2S33VpJJb0vd7ZcSpW6yi6x8+23B5yWgjOLNpbzKavDP/zktKTnjnUdADMOVihfXkePHE8pWWKeA+YMj/GhI7UtYqUWzwtTw/r1tH7jFtW7p46uveYau19+ZTcOF2Rsx7mTVYxkp+y119jj47ET7lv5KuM+V6xeb58N1fORjvaXqIY5g+S+e++xY2fS+x/q55O/2O04O5L4cJTSdZWKS8fi0tTxTnZEP0ZJrW4p+ClYQGFkEq+l9bOyOnP2+E/Wm/WGlTOUoEjSnvf6qsPoJA2YOUpN0yXwjQTFfy9te7NnmrNXzMVfz26ybp7W197uF04ZlItCQqy26ZBGd0h7LK1L09Faad08rofZHqTFJpHuU1FNFa0TWbyHif3pkPWO7BbdfJZSFYnbJmvcx1KvPi1TS2Bc6aO6ztWseaskay6cU96lcnj9dBa1TkqIU+yplQq0a+anufSYbd26Wc82Ndt5O5OtwPs8tUtTQ+dLHR5Va2rpnB+nXetYlO4ckLlcTl7Gk3yKXzNf75yqpq4P5fJLm9NHtHica+Hm9hlL/wCOv/7+W/G//aZR/xtvn0afHLvmdHpTx3f82+/Z24s+NZGcysym3vT5l7r22jKqeUfaBRryxvzuL7d+Lb8H26X8bnPp3OMJfbvvgF3Dt9eTz+rkL786PwFPdiLuZztZfs01mWfJXHrppfYx/fnkr3aS6Iorz/7VYn4Wp83Jpf+51LmWyh3rOgBpJc98zooZO83s+D3f7lXzxn75LkNmnG0czu/YjvPjbDGS0aXF3X8WRfI+jx+P1U03XK+S3pknlZWwxmBzxtSvOawnAheS+EhRpW5LlV4fqT2nnIZku6O04lRDNbv33J22DVzUqtRT+xLrtHl7hjpyzoK17R+sl3oWy+kjWj+sp9q8763nM83AT1ZNT6Q7cyX5Eq7X61s395hkb0/05zl5UajZL8NxdC4rh6ipdfOAaWbbigXzee7a2mp4xxFtjjTlV9JKUNS6zarSwy/94sdpxW7W2yNmW/ExQQPqp0mk3VhbzW48y0KUd1TTzZzRfU551aitriWyXzC2dMOqdgmS0v5jMseJuUzrZN1aT6+vNNt5O5OtQPs8HactE/6rceqktwacqwVUkVHil4v1Xkw5Pd6qdubHPC/jSb4c0YqZ1rjQJEDNcvWlTZK+mzNW//2qtl5/7RyeHYCL3lVXXqGpb7+eKXZ3fPGZOrXzV/8nH7e3zYKkacXGxmn955vV8F7rvVTp/L/vMfvN+LvNZda0d3Rb5UpaET7Tvn/mfsLzlSl1tY7EHLUTQxn9+eef9jG9+qor7MRl7RrVtX//94pP+M3p4RIXd1IHDkbr1sp5LwJmFso1s5JNcjOt2LifdeL4Cd1yc+YZye5Y1wFFi1mw+cuvtmVaY+HUH3/o8E8/qeINFewEaFZMrJmFZnv36lbgGfJnG4fzO7bDPfISI2bxYbNGQkZHjx3Xv/5VTD7l8v7mMbf7NF+4Hjz0g11WJ6NTp/5QmTKldMUVnMuZG7x6IIVXvUf10l1LNHDIfO1x1vdJjNmscSGT5fV0DzU9V4unARc7r9p6JKS2Fg0KSV3oL/GI1o95SaO9eqtr0+QMaYLWj+iqwFU+ej3bBD6KtnJqPai74l8bqnHrj7gWRDYLi84cqZc+b6oBHbKZGRtrjdWPD9Lc64fo9aBqGRJ/N6jd8E46kHEhyvVjNeLt4howKM2sfZwb3g312JCKei/jgrH2ca2nl3pmkazNg9hlIbq/Rn35dphtl+VxC5PAHxOk7uHWeJVhzQ6cS9brxCfzFWtKYuV/0nEmiTvC1L1efVVuNFrrM39+SrV7lWbsKK4nHm6Ui7I4SfpuZogeeS1Gj7w9itc0nBPbduzWsWMnVP/eu+1yEWezbNUa3d3gIT0X8opd4gGFV407qqru3bX07tSPdPjHGDuZbhbX3LHrG70XNssuz1ChQnm779131VSpUlfai94mx8WJE7F69/0we3HZmjUyr5EQuW2nfXbGo72fsRdszGjHrj0aOXqcPgn/1E6Wmd9v7sc7U8J0V52adlmTtNyxrgOKHvOl0PsfztYbEyfbyVITZyaGZ328UAe//0EPNX8gy3Fx1569GvHq62rs10APNsu6j5HbMTMv4zDOr9zGiEn2m3JeZiHwNes/t+vkmzaz8O3kaTP1kBUn11fI/InwbDGSl33e38BX3pddrg8+nGOPv4bpv/HzLzR77kK1admML9Fz6SJI4u/SO84pOfYl3enfrgslJdzFtaDd2KqRGtHW9dj6PTpfl/aZobDH0yaOOCYoGraNSxPnNfpqnNW2cphrIT/78tQSJc//Kd1yjBaNra6vQzq4bmvUV4u8HtWymd3TLEqYpPi4JOmU9Xx5MHm/6S88d+B1R29N+bizEj/oK79aVlzU6qBxu2vrrcXDMpfWsMTvna+QdoO05Y5h+nhcyyxnwnrV7Kcp0xrquzHd5GtirZa/nlpYXI998oGeuIPyF+fDdf7WGDG4tFY+6Ywh9bs5x3WMmnraWfUJ+zV3cDd131JdEz/mC8fz6vAqzV0lte/S5AJ8uZakLWZNDZ8eapZTWZzTcVof2kePvJmgxz+cpCfcthAzkMokR9es36R7692lG5yELGCYes+DBjypOrVq6Pnhr9plPO6670G7dEfPrh3U69FOKWsfJPc1ZRwe7hpovwY/OWConcB/7pkn7XITeWUWSB4/ZqS2fb1TD7V9xP795n7c39BXQwY+lWmf7ljXAUXPNWVK678vDVG5a69Vn6efs+PMxPBvv/+uSeNHq+L16d8pmASqKdk0+IVX7JnvPbq1L/AaIIzDni23MWJK6piYGDZkgMIXr9C9D/irdv3meuOtKQp8tIt6de+U5zOE8rLPUqWu1qjhz+mqK65QYL9B9jhs+i9YvFzDhz5rf/HKF0S5c8kZ81VNHsUcjZVP2XwtcWozP1+61JXOFs6V2LhfeJw9AMfBc3As4C7EUtHG8UdOiBEUBcQ53IVYQlFAnCMnxEjh9ecfGeuW5w9J/EIsLwNAgyYBOnr8uLN1fnUIaKlXhg9xtgofBmLPwbGAuxBLRRvHHzkhRlAUEOdwF2IJRQFxjpwQI4UXSXzkiAHAM3AcPAfHAu5CLBVtHH/khBhBUUCcw12IJRQFxDlyQowUXu5K4rOwLQAAAAAAAAAAHookPgAAAAAAAAAAHookPgAAAAAAAAAAHookPgAAAAAAAAAAHookPgAAAAAAAAAAHookPgAAAAAAAAAAHookPgAAAAAAAAAAHookPgAAAAAAAAAAHookPgAAAAAAAAAAHookPgAAAAAAAAAAHookPrKWGKlxjeqrcqOJ2pbotJ0n28ZZv/epJYp1tgEAAAAAAACgqCKJDwAAAAAAAACAhyKJj6x51daAdZu0b10/1fRy2gAAAAAAAAAA5xVJfHiYJMWfdK4CAAAAAAAAQBFHEh9p7NI7NeqrctrLuF3ObenZdeut2xIPLNHoRx60+97fJkQzdiQ4PdKIjdSMkP7qaGrsm3026qp+IbO15Zhzu+K0+Cnnthr3KzDcato0Wr7J98G+TNQ2V2fX705zW7/wONf96OHv/ExyX2e/mf4GV7v5uYx+XD9RIW1cf0/lev4KtO7nNorzAwAAAAAAALhASOIjjWp6Yvsm7XMuc3o4zdk5tUvbfq6tAdOWaV/UGoU9kqS3HhmkuYed243EXXrnkf7afFs/TVnh7HvFBD15d7TG9RmrLXaCvJRavZXh99Yfoghn23Xpp5qmq6XmgOS2cL1e32o4uFRTPyunx98Nd34mtW9e/Phxf3UYl6Smb4e79r9ukrp5L1bHx8O057TTCQAAAAAAAADOI5L4KIAbVPPucvIqZl0tVlzXPdxPA6ru0uKNh1w3G3ujNDemnpo1vUUlk2vre5VSFf8hmvPJQNUt7bQVwMqfyqprn9oqXZDa/SdX6p1RMXp81EA19CnuavMqp4ZPvaplb3dSFfM3AgAAAAAAAMB5RhIf+VfCW+nz5pfr0qukLcfSlNS5tapaXbVZH701X9sOJyj+lNNuuCkx3rRedZV0rudX4u5dmqvquvl6pyGZ9w26OTmpDwAAAAAAAADnGUl8nFtetTVg8Qd6rOwuvT+4r9rUMzXrH1THviM148vMNenz5V8FT7InxB2x/r1aJb1d2wAAAAAAAADgCUji49zzvkVNnxymiTNnaI2pNb/5Iw1vIs0NDNKMA06fC8y7VDnr358Vn8W6vAAAAAAAAABwoZDEx7l1Ok6x9uK1aZQopSoPB6iZDunA9+cya17cNbP+VIISXQ2On3XioHPV4VW1mtprp777wWlIkaA928wsfQAAAAAAAAA4/0ji4xxK0ndzRqp1q756Z/0hxSdn0hPjtGfmdH1Yop7q3ZG5fo2Xt5kV7w7eqvlAU5X+eLpmbHO+LDidYP3uyXovxrWZ4qqm6jrgcr0XMlbrDye52qz7ue29QXr8yVnakraWPwAAAAAAAACcJyTxkcYuvVPD1Kx3XTpOs5qm9U3ZrvzUEmWcVH92xXVzl/FaPi1AWviSOjZy9tOol8btrq2xC8eo6bVO1zSqtOqnXifGyjf599qXidrm3L5tXHKbv57dJK0c5p+m3yAtPuZ0tJRsMkQfjqyszc+5+vg2H6RFlwXoqfpOhzSq9PhAiwaX1sqnnf3Z99NXby0eqLolnE4AAAAAAAAAcB5dcsbiXM+1mKOx8ilb2tnKO/PzpUtd6WzhXImN+4XH2QNwHDwHxwLuQiwVbRx/5IQYQVFAnMNdiCUUBcQ5ckKMFF5//uGe8h4k8QuxvAwADZoE6Ojx484WstIhoKVeGT7E2co9BmLPwbGAuxBLRRvHHzkhRlAUEOdwF2IJRQFxjpwQI4UXSXzkiAHAM3AcPAfHAu5CLBVtHH/khBhBUUCcw12IJRQFxDlyQowUXu5K4lMTHwAAAAAAAAAAD0USHwAAAAAAAAAAD0USHwAAAAAAAAAAD0USHwAAAAAAAAAAD0USHwAAAAAAAAAAD0USHwAAAAAAAAAAD0USHwAAAAAAAAAAD0USHwAAAAAAAAAAD0USHwAAAAAAAAAAD0USHwAAAAAAAAAAD0USH5kdW6J+NerrnW3ONgAAAAAAAADggiCJDwAAAAAAAACAhyKJDwAAAAAAAACAhyKJj8wSflO8cxUAAAAAAAAAcOGQxIfLtomqXKO+6/LwRG2xmsb1cLadS7/wOFdfAAAAAAAAAMB5QRIfLjX7ad/2Ta7LyiFqajUNmOZsO5eJ/qVcfQEAAAAAAAAA5wVJfAAAAAAAAAAAPBRJfAAAAAAAAAAAPBRJfAAAAAAAAAAAPBRJfAAAAAAAAAAAPBRJfAAAAAAAAAAAPBRJfGRWwltlnKsAAAAAAAAAgAuHJD4y866n9sG1NbdHfVWukXrpFx7ndAAAAAAAAAAAnA8k8ZGF4qryyHit2b5J+9JcJvqXcm4HAAAAAAAAAJwPJPFha9AkIN2s++wuL4wY7fwEAAAAAAAAAOBcu+SMxbmeazFHY+VTtrSzlXfm50uXutLZwrkSG/cLj7MH4Dh4Do4F3IVYKto4/sgJMYKigDiHuxBLKAqIc+SEGCm8/vzjlHOtYJiJDwAAAAAAAACAhyKJDwAAAAAAAACAhyKJDwAAAAAAAACAhyKJDwAAAAAAAACAhyKJDwAAAAAAAACAhyKJDwAAAAAAAACAhyKJDwAAAAAAAACAhyKJDwAAAAAAAACAhyKJDwAAAAAAAACAhyKJDwAAAAAAAACAhyKJDwAAAAAAAACAhyKJDwAAAAAAAACAhyKJDwAAAAAAAACAhyKJDwAAAAAAAACAhyKJDwAAAAAAAACAh7rkjMW5nmsxR2PlU7a0s5V3Bf155A6Ps2fgOHgOjgXchVgq2jj+yAkxgqKAOIe7EEsoCohz5IQYKbzi4+OdawXDTHwAAAAAAAAAADwUSXwAAAAAAAAAADwUSXwAAAAAAAAAADwUSXwAAAAAAAAAADwUSXwAAAAAAAAAADwUSXwAAAAAAAAAADwUSXwAAAAAAAAAADwUSXwAAAAAAAAAADwUSXwAAAAAAAAAADwUSXwAAAAAAAAAADwUSXwAAAAAAAAAADwUSXwAAAAAAAAAADwUSXwAAAAAAAAAADwUSXwAAAAAAAAAADwUSXwAAAAAAAAAADwUSXxkEv/FTA3r1kJ3VamrilWaKCBogpbvT3JuzaOji9S3ykCFH3W2AQAAAAAAAAC5RhIf6ZxYNFAPPLVVVYfM1ld7tih653y9UG2nXuw8ROE/OZ0AAAAAAAAAAOcFSXykStyq6SMjdP+IEepYzdvVVsxbtXqP1gv3JWj/vjhXGwAAAAAAAADgvCCJjxSJX67TxFPt5N/YSeCnKCX/cVMU7FfK2QYAAAAAAAAAnA8k8ZHiwDcRUrWKquDlNOQg/ttFGpWudv40RWRX+/50nKLeGajGday+dVqo58gVOnzauS2NxP0rNDGok+47yz6jQs1tqZe+C+Ksn0t7XyYoyulr5GafAAAAAAAAAOCJSOIjRWJ8jHRVcV3qbJ9N/OpX1aLbOlVKqZ2/VO+2jVVoy4FZ1s4/HLlXXp3GavVWq++qEar95XAFjN6qROd2IzFqgjr7f6A/21r9drrq8b/sF5Npn7WCrdvM79yzVOPvsxq+W6wpq33U+/2lrvuyJ0i1XF1zvU8AAAAAAAAA8EQk8ZF3p/dpzmuL5Juudn5xlfEL1suPRav/G+sU72p1xKpMNV9VvcrZvKqOAge304kZ6xSZksWP0cIxM3XF0NEK9vORVzGrqZi3qrYNVnDbreofuiLDPlMt/6mcuj9RR2UynUGQ/30CAAAAAAAAgCcgiY+8O7RDa3+qI987M9bOl64pW1FaukMHnG2X0rq0hHPV4XVZcevfGJ046drWT1u1druPfOtYP59Ocd1SpY60Yq8OZFF+x2juW10lnevp5HWfRxepb5oyPa5L+tI8AAAAAAAAAHA+kcRHCq+SPtLJJP3pbGfrlxhFqLhkZrZnKVqH81pz/li0litGowIyJtHr6q6QCKuDtc8Trq6Z/CubIv553WfZ1ppkl+NJe0ktzQMAAAAAAAAA5xtJfKSodLuvtCtah9MWqs/KlT7yVZKUzcx4qaIqlHGu5ta1FdVcdTR+VcYkevJlrPzLOn1z61zsEwAAAAAAAADOI5L4SOF1dyP1KzFP4asTnJZkcQofEKjQtXGuzRvukF/5rYr4OmM/6fjRaKnFHaqU7Sz9bJS/Q743Zb3PfDsX+wQAAAAAAACA84gkPlJ51dGjw3y1ZvhwzdnlJL5PJyhq8hC9stFbt1Qu5WorVlkdB7dWRLp+STqxNlQvvl9R459plHWN+rOqqI4ju2j/8IGaGBGjRGeWf2LsPoWHBKr/7GjldIJAZudinwAAAAAAAABw/pDERzplWo/VZ2/V0e7RnXSXqR9fPUCv7Kqul2eNln95p5OlZOOhWvpRIx1I6ddCfRaUVvCSsen65YVXrSDNmtVOmj1Qjau7atc37jFBkTf30cvtKyq58n1UaHJt+xbqv1FaHtIipdZ9xSoDFZ6mHn9u9wkAAAAAAAAAnuiSMxbneq7FHI2VT9nSzlbeFfTnkTs8zp6B4+A5OBZwF2KpaOP4IyfECIoC4hzuQiyhKCDOkRNipPCKj493rhUMSfxCLC+Pcz2/1jpy7Lizhax0atdao0cOdbZyj3j3HBwLuAuxVLRx/JETYgRFAXEOdyGWUBQQ58gJMVJ4kcRHjnicPQPHwXNwLOAuxFLRxvFHTogRFAXEOdyFWEJRQJwjJ8RI4eWuJD418QEAAAAAAAAA8FAk8QEAAAAAAAAA8FAk8QEAAAAAAAAA8FAk8QEAAAAAAAAA8FAk8QEAAAAAAAAA8FAk8QEAAAAAAAAA8FAk8QEAAAAAAAAA8FAk8QEAAAAAAAAA8FAk8QEAAAAAAAAA8FAk8QEAAAAAAAAA8FAk8XFuRU1QxSoDFX7U2T6XzufvAgAAAAAAAIDzgCQ+AAAAAAAAAAAeiiQ+AAAAAAAAAAAeiiQ+AAAAAAAAAAAeiiQ+0jsdp6ipw9XTr4EqVqmru/wCNWrBPsWfdm63nFgwUBX7LNLujRPUpU5d3TdghQ6fjtHa4d11V5UG6jJ8nU44fVMkRCt8ZKAaW/0rVmmigKBpiop1bksjcf8KTQzqpPus353cLyKLGveJ+xdpVLcW1u+z+t3bSYPf2ar4v5wbAQAAAAAAAKCQIImPVKdjFB7UVn0iqyt4/gZF79miTR/10RWfPK4e43Yq0elmOxitxNpBmrlhovx3vavwpUmqNCxMX4X3ldfcqVpz0Olni9acj7aq0tNTtHrrFkV//pYe9V6ugB6TtDvNThOjJqiz/wf6s+1Yrd5p9ds5Xy/7xSi05UCF/+R0Mo6u0HOdQ3WgwWh9ts3sb7ZGtk7SnCkRTgcAAAAAAAAAKBxI4iNF4hcz9coXrTV+TDtVvcrV5lW+jvq9GqQrpg5X2C5Xm+2miqpQwvq/xI265aYY7UosrgrFrO1bqqu29unEL3Yvh4869k7dp66qLP+QIHU/OE1z1iU4jTFaOGamrhg6WsF+PvIy+yrmraptgxXcdqv6h65QvKujoj4apfBbgjSyd3WV9HK1eZX3VfdH67g2AAAAAAAAAKCQIImPFLs3ztMJvzqqZpLzaV1/q2orRpHfxDgNWfiXk03PUnHJJOXTKmHt8z4pbGe0a/unrVq73Ue+dSq6tlMU1y1V6kgr9uqAXdInTof3J0m1b1UF+/ZUXpdZvycLUaGmNE/6S98Fcc6tAAAAAAAAAOC5SOLDEafDpgTO0iG6I0PCu2KVQIVaNy0/dA4T38eitVwxGhWQ8XfX1V0hpkxOtA7bhfZjdDztGQG5UCt4i10aKO1lUttSzq0AAAAAAAAA4LlI4sNRShVusv57dGKmhHfKJbi6q+u5cG1FNVcdjV+Vxe+1L2PlX9Z09NE11eyfAAAAAAAAAIBCjyQ+UlSq3VplVu/SbrtsjTslSRn3eWqvIjdK3as75XPK3yHfm7Yq4uvkGvnZKaVKd/pIkXt12GlJlvi79XsAAAAAAAAAoBAhiY8UJf166IXKU/XisEXafdJpPJ2kwxGT1LdzqCJinbY8i9GcyfNS93lyn8JHTVDYTT3UsZG301hRHUd20f7hAzUxIkaJTtI/MdbqGxKo/rOjlehqUtW2feS/f4KGTd6peKcx8acIhU3f6toAAAAAAAAAgEKCJD5SFfOR/4QFeuHmSIUGNHDVpL+nrQbPTlKbkUHyLe30y7OK6titjg68GajGdax93vuUpic01/xpfVU1zXq4XrWCNGtWO2n2QDWu7qqH37jHBEXe3Ecvt6+olK5lm+l/s4JVacMQPVDT7K+Thi0qro6Bvk4HAAAAAAAAACgcLjljca7nWszRWPmUzXdGN+8/fzpOEdMnaMqHa7X2WJJUopT8GnfV08FdVCv/d6PQK+hxgntwHDxHfo9F/MZQ9egzT1HW9eajlma7MPKJiGkKfXWG5hxMsMcp/05BevrJZqpUwungOBExU2++PUPLouJ0QsVVqZafuj8dpO73nGXB5dP7NMW/u0aZBah7TTm3a1QgR3mPpTiF92mh/hudzXS6aP6eINVytmzmdW/0U+oyI9ra8NX4NcnrgqQX/+0Khb39geasjrZLjFW4qZE6PtFXgS3SfPEJtyvQuH46QbvfH6gekxPVccw4BfudfaH1+BXD9cCAFdZYkX0c5FV2+zyxYKCzmHw27huqr95trTLOJrKX1xjZGrVD7br1drYya1C/rsb/b4SuuvIKp8XlRGyc/hs6Ub+fOqWQQUG6vkJ555aC2bHrGz3xzPP6Keao5n00WXVq3eHcIpmPDl9u/Vrvh83W51u+0r//9S892NRPT/XuoevKl3N6oSgo6HvcX+MTNHT4aC1d8ZkGPt1bQU/0sttP/vKr+j83XBs2bbG3s5IxLvNj1ZoNembwS7r+uvJ6a+wruunGG5xbpJ9/Pqk5nyzW3IVLdfD7Q/Zt3ToFqFO71irxn/84veAu+Ymlv0+f1uo1G/XhrE/ssejKK0rq3rp3qXuXdrq7zp265JJL7H5//pmokaPf0MyPF9jbaWU3tuZGzNFjen/6bC1ftdYeK6veXlktmzdW5w5t7PuSlaSkJI15Y5KmTJupLh3aatiQZ3TppbxjKyryE+cLl6zQM9Z4mJWM4+C3+76zYnKWPbb98mu87rmrplo/1EQP+7fId5yZsXDqh3O0YPFyO84faFRfvXt2TfccS2Z+52tj39KsueEFem4VZecyRs722sp4dO7Fx8c71wrmIkjiJ2jtoBbq+U1rffBukPzKF5cSY7Q2dKB6bvbV/I+DVCtDggwueXmc6/m11pFjx52tomXzmkUqV/YaZ8v9Cvp8gfvk51gcXvGq+g/Yofs/CpK6DdSubJL4JxYN1EMjpeBpI9Sxmneacaq5lob3UNVirn6u5NledXxrrJ5u4CMvJenEhgnq89RW63eEqV8ta4zLwuGPAnXf0lsVeOk8TalKEv9Cy3ssRWtOh046MWSLdYydpuyctmJnmBU7263XuGelgKeis07efjtNAQFTVWHoe3q5c2WVtGIsftc8vdhjghQyW+Pb+jgd4W75HteTv5xZ4KPx861jer3Tnp1TERrVYIjUurmmzI51TxL/LPu0k/jLG2WRqI/RnM4BGnz1CH31VjOS+LmQ1xgxSfwJk6Zm+sB7+vQ/Gv/2e9q1Z6/GvfaSriiZXIZQ9ofpF18eI59y1+r5Z/vpssvc84b4t99+1/BRr1sf5C5V5LbtemXY4JQPgOZjw6KlKzVtxlz7w16N6lX0j9W2bsNmvTd9ptX3OVW6yVnvCIVeQd7jmliaPW+RPlu3Sf/3f/+nalVuzZTED+rbK1Oi3iRrg4KH6b23xqhmjWpOa94dPXZCwUNH6vZbb9GmzV+lS+Kb5Oygoa/YSdnHe3TWNWVK68jR4xrzxjv28+z54H4k8t0sr7Fk4ueDjz62x6Phzw9INxa98r/xChn0tJrc38Du+/vvp+yx0iSpCvrFT7IffzqiZwYPV/16d+vxRzvr8ssv0/ETsRo3cYri43/TqyOGpBuvk234/AtNnvqRSpe6WiVKlCBpVsTkZ8w0Xz7Fxp1MGR+zY758Dxo0TH16dVPbVs3l5VVc0T/8qJdHv6GbrbFt0DN9Vbx41p8zs2MS+M+/NNoeJ02clyjxH23fucf+UuzJwO4pzzHD9H3lfxPsMfK2yjdrxWcbSOLnw7mMkWPHY633d6F67pkn0n1pjfPDXUl8zy+n80OEFkaUVsjoYFcC3/DykV9wkAIPztTkFXGuNhTI5rWLFL1nS5G8nMsEPi5uhxcNUReTwP9givrVyvxGPEXiVk0fuVVtxo12JfANM04NGamQxEkKW568YHOM1i6K0DVPj1Swn4+8TGK/WHGV8QtScKdohb67XCdcHdP7aZFGvZqgkOFdVC1v773gMRJ0Ypdz9WxOx2h58KOuBP6sINXK9n1vkqKWz9XhZiF6uZsrgW+UrNZOwc9UVPioeYpy+yLlKKjDs6wxxSTww3ORwDfH+M1QLfQbqadbXu60FVQ+9/ntSoVtlzo+5EsC/zw7euy4nbT0vaeOSnqnHjOTaB/75mSV9ymroYOedlsC3yTGVq3daM9cbdfmIV1ySfqPCmbm/9wFS+wkgUmgmuTrv4oV0wON7lXjRvfZCTXzxQOQk+++P6RPwpeqd88udkIzN/766y+tWR9hJ2ILkoAwM7hNHJvElF/DzOU4y117jUa88KydEDEJfLvN+rzwaNf21u//XHv3fWe34cI5efIXrVm3SY90fjjdWOTXwFcPNbvfTpYnJibZfZOsuIn9OXlxNvf4Yus2Xerlpe7W7zcJfMPEyqNd2mvv/u/sszcyMuNn2Mx5dhyRQENumeRsTsxrtxmb6t5VU21aNbO/GDKz5G+8oYJ6PtJRW76KUszRvE/YNO8HLr/sspQvqszzzDzfzHuAeQuX2mdTGbFxP+vFl0PtJP+QgU9Z70lczwmcH7mJEeP333/X76f+cLZwsfL8JP71zTR+w3wFZpxo4eWjSlbb8u9inAYAcKPEaEWsiFFHk8C/5ywJfGN3hOac8pPvnRky7MUqy7d1cc35NMJJzvvI/61VWtq7sr2Vqrgq3GS1bXSVREkvTstfDdXhXiHqfhszdS5uPvLKIc+WeChCyw61ciXwzxp2xVXrmaX6KrSZMp6wfc0Nd0inrFjK8hshXDAH52nYq3vlPyxE/rmoeJK4fapemV5RLzzbKNMxzq+c9lmm7VhFZ1EuZ/faRdpdop38G+cwFiLfTFIybPIbmWas7dz9rX79NUEN6t+Tctq6+bC+eNlqOwnaq3snt84INrP2Zs8L16Nd22U5i9TM/jezpG+5+UanxcXctzuq3aaor3da9/dXpxXImvmSyJRAub/Bvap6+61OayrzPDDPh4yzps3s+chtO3R/w3uzjM/c+nr7bq3ftFmd2/ur+L8zz44w8WzOKElOzibztrZLenvzRZUHiP/tdzuBeEOF65wWl2LF/s9Orpux6s/ERKfVetf073/bM5Pd5ZgVi9dbv9vMpk+rePF/69/W7zK/Py0TM/MXLbMT/ff53uO0ArlzWYmzv84nJf2luJ9PyqdcWf3n0kudVhezfTD6B/uLr7ww4/T2nd+oym23ZBoLb7u1kj2rO/nLqj3f7NM115R261mByJucYiSZV/Hi1lhITuFidnEsbOvMMEwvQScOSlVLEoAAzgGviuo4ISznBL7lxKFonVApXZFF12uuqyOt3Zs+OZ/FmBZ/MloqXzJTHfP4FRP04hetFfJkdWqcX8xiY7RfFXXNlc52Nrxuaqfxc3NK4KeRZSyZL7e9VZJJMB4kSRGzJmhtjSAFtzh7DXzb6X0KC5mmK4YGuaUGvi2/+0zcqmXvx6jqY63lyyB0Xp364w+tXrdR9/nerYrXpyaqzGzOpctXq+PDrdO1F5Sp1TxzzgLVqVlDtWpmXXLCJKJOn87+NJ+4n3+xa+ICZ7Mx4gt9dzBaAf4PqVixLD/oZSnii632/+bMlPwyid8PPpxj14i+sWKOp0SlY0qPnjnzj0qWdNfZUcivUlddqQrlfXTo8I9Oi4sZo0zy3pRnMjOIDXPMzVkcuU1y5cYtt9ykH6zfferUKafFxSRTS5S4VJWt29Pa/c1eLVu51p65T/kc5JY5m8S85pfK4Wwl8wWVeT8Qc+So/vjzT6fVxWzXvKOqfeZeXpif+zHmSJa/23yJWtK6HDr8k71937336MXB/UngXwC5jREjeSw0Z0zg4nVxJPGzsitSy05VVJsGGWe0AoCb5PJz5eHvIqx3LxVVwWzsn6mAKnV13/AIpaYxonU81rmaldP7FLEoSbXa+6qq02Q7FaE3Q9bqwVF95Mt7oovb34my54Ml7FPYUy10lxUjFeu0UM+Ri3Qg/ee/XMdd1hIUuTZCZVr4qXb+JynC3RIitHxGkjp281X89CEKuNc6/lUaqHG3UIV/m1xuK9XhWWM0Sn0V3Nl9tcXzu8/41fM08VR1dW/B+63zbf+B77X5i0g1vv++dHVst+/6Rr/9fsquOfvCyDG6s15T3du4jULHT7Jr0ubXlq+2acfub+zZyaYsRVZMSRHzIX3/d987LS7m7IAdu751toDsmdn002fMtUuKlL029wW6TPLBlItocO899mzT/DBx+umKNfZ1U3Il46KM2TE/9/2hw5oaNkfdOj2sm29k3YcLzdv7cvXo1l4LFi3Ttu279M8//9hlktZuiNCOnXvUpmUze1a+8Y/Vburlm5I6zw//r6redX/KmJnfLx3vrVtHt1S6SWGzPrHLmxmmJn7YrHlq+kDDdOVyzO0m5lu3aKpbrXEbyC0z9thfnv/9t1333MStid+nBoRoz7f7nF4u/lbMm/cGCxevsGfRJ49bpoST+dK/TOlcTCJJw8zcP3EiTtf5lLMTv6Nff0v3t+iY7vfGOGecmLHUlNrB+ZeXGDH9zIKo30f/oD5Bg63PInXtY2rWFzExg4vDxYZnzuIAAGfiSURBVPlMOx2tOaMmycsuL+G0AYAHS/zbuZIFO7nm1UUvdEubJHPVrp5SO1hPNyMbWzjEKiIiXg+OXaqv9mzR3vARqr0vVI07TNNuN9WvT9z4rl7c6KsXnnFfCRa4wZ4dClMdlTy4TsebjdT8z7coeudSjW8eo1cCAjVxu6tur81eAyNOwSO7pCyIXWD53meMln20TmrWTg/mbcIqCsh80DILfprZpNWqpL7ZNR/Wdu/Za5dk2HfgoJ5/9il9vXmlFsx6zz6V3ixAl59EvpnFNc36ENe5fRtdV76c05pZ2WuvsRNUk97/MF3i7IuvtunnX35RmTKldNVVOZxyhCIruRa9KUOS15Iiu/Z8ay/w/ECj+inJ2bwyJag+nr8423JRGZlSEQ+2fUQ3Vq2nRwOf0cP+D9nPkfz+frjXXbXv1IB+gRr84qu6qZqvKlW/1xrH5uiV4YMz1Zw3Zxrt239QIYOCtOvLzzTrg7f0w48xCnnpNfsLorwyZcyCg/q4Zv3f/YCdDLu7YUt7nYXHundK+SLUjNmmrrj5Hf4PNc31F0dAWmbsM4sob1q1QF+sXawad1TRkwNC7MVsk5m1RV4aOtB6PY7SbbUa2uNWu6691SGgpVo0f+CcxJ4Z0+EZchMjhqmLbxZvH/+/kTq4K0JvvPaS/QX56xPetcdJeL6L7x3I6ThFjB6i0KuHavwAyksA8DC3dNH8PVu0cYRvuiSq17+cKxnEbwxV/ze8Nf7dINVKM9veVbu6lF4bnLk+NS5CZVtr0p4wvfZoHZVxXri8ytdRv1eD5HdwkuaszvsHyIwS98/TcwO26tHJo3NVcx3nz4mYaOvfGF3j1yV1kf5i3qrabYRebhat0I+Sz9xxrYER2SlYgbXcVbu3APvcZRa0La5+7f34Uug8M6fEm4UZM9b+NqdNHz8RZ30Yl5o38Uu3oOKTgY/aNWojt+dmFe1U5gsDU6vZ1CFv3Ki+05o1k7zs2a2Dej3SUSP+O85OnD01YKh9Kv8fp/6wa+Vfzun0yIapRW++nMprSRGTWFi9ZqPq3VNbt1RKvx5DbiXX4TeleLIrF5WRSQQvW/Choq33dfNmvKuvd+zWK/8bb5e6woVlYuKtydPtY/reW2P0/e7NOrDzcw165gmNeHWsFn+6yk6gG+Y4zpn+jrp1CrDHTJPMvL5CefXr08NehPbLyK/tfnnx7d4D9kzWW2+5Wd9GrbdjZPuWVXYJkmcGv2Qv9GmYdUbMTOjuXdqpVKmr7DYgt8w4+epLgzV86EA7Zk3smhg2sVyn1h0KX7rSniVvmPcMTw0MscuUmeeCeU4s/SRMX0Vu18uvFWzcMus8DHn2Ka1ZOkdVbkuddJbdWXs4f/ISI2b7kxlT1LJ5Y/vnzNkTd1S7XX0f66ZPV66xxsODdj94tosriX86RuHBnTQ4tqfmT2itCowZADxAhZt9s1mUNllFXVPauZrG4QVD1GJIrHqHj82QdI3WnJBp0jOD1DF9SU0UNtffqtrWf5GHjri28yn+i0nq2WORbpkcpn5uS/7CvRqp9u3O1RTequpbR1q6QwesrfjV7+rFL/z0v6d93TZJIf/7TFJE+FTtLt9LD95DTJ1vOdX+NrM9S3qnr8tduvTVdomdb77d77Tkzt79B+zT7015k4yL12XFlPYxZSEWzn7fTly9O+E1e+G8zV9G6v6GvvaHfSAjU1Jk2oyP81VSxCRCN0Z8qcaN7sv3Qs7mOfXtvgNnLRd1NuaLssce7axv9u7Xys82OK24UL6K2m6NW8vV97FHUhJX5rjWqF7FXvD77SlhdsmIszHlRXx8yuoHK77ywiRD3wubpTus39X6oaYpX0iZL1y7dmhrL6I7a264/UXDnHmLVKfmHap7V027D+AOZhy8/rryOnLkmP0FpSnlNHnqR/K3xldTcsw8F8xzwpQsy++4Zc6qM2fXmbr42THPH3imjDFyNuWuvcZetP3o8RNOCzzZxZPEP7VPUx7tpFeSntbM0GYk8AF4jDI3VFQZxenXLCZTH/9xq+R3q6tefook7Z4cqIBRSQr+eLSaZ5o1naD4g1LUG93t03NTLy3Uf6N189RAe7vvgjhXd1z0riiR/yTp4RWvqkfPdfJ98z0S+B6qZGkf51o2nEWtExNideLUCvW0a+anuXSbad0aof73m+0JirJ/KHfyvc+TaxU+I0l+jzV1X1kf5MrZan+bBPmVV579vIi8Lt546tSf9gf81h16posRUyfVtLfr1tsuKWJKi2TFJLRmfLxAVW+/VTWqVXFagfT++vtvxSf8ppH/HWeXeUiOM1P2wdTxHfvmZHt74ZIVzk+4mNnUGzZ9YSejat1ZzWnNO/O7Tdmn+k3apvxuczHxbeLcxHv33s/o5C+/Oj+RWfHi/7a/xPrBWcwRF86J2J/tBOK1WayrYL5UNMf055PZH8u0/vOfS51ruZN8RlTlSjdlKq1kFmq+1Pr9R44et8dWE3dTps1U5TsbpIs7E+8m7k38T3hnqvPTQN4kz6Y2X5KaheUrV8r8BWl+xy3zPDL18OOcs0rSMu9T4q3LDRU49dfTJcdIblzq5a4pRDiXLo4k/k/rNKxDd02+IpgZ+AA8T1VfdSyxVhFfZ6gj5yxY2/Eh39SSOKdjtDaku1pM9tYLmWbgJ6uufnu22DMc01+Wavx91s29ptjbk9rmbYEiXEDWcV++Iv3iQrYf9ipSxeVbJT+L5DlfBg3Yofs/Yga+J/O6s466l1inyPRlKS0J2h2xVWUaVVMla6tM27EZnvPO5aMu1q2+Gr/GbAeplv2zuZPffR5eMU9z1Egdm+XwBQTc7my1v822mdVpajub5FBasbE/2wvO3nariabcM6dXZxUj5rR5M+N/3keT7ZIiGWtMG6YerilbYe7vE4HdczWTH0WTKdcUNvmNTHFmSpF06dBWA5/ubW+bBUnTMus1rNsYoUb3We+l8rgwY1pmvxl/t7mY+DZxbuLd3D9zP83iu2bmfnI5lmRmNuOff/xpz/zGhVWm9NX2oprHrGOVkSlpY47p1VddYW///vsp+0yOjMfTxNbx4yeyTHyejSkfdk2ZUva6JKYcWVqnrTHxT+v3m0XAr7jC2y5zkVXcmXg3cW/iP+iJXs5PA+mZdWe2fBmVad0G8+X5Dz/+pBsrXq8SJf5jv/aWuvpKKya/c3qkSkr6yz4rJK/jlkn+1qh+u/Z8uz9l8eZkppzUtdeUzvJ9Ac6v3MaIYV7bzHpGGR05dlz/+lcxlS93rdMCT+b5SfyEdRrmP0TLbhhKAh+AZ/Kqo0eH1dHCAUM0Z5fzApoYo7Wjh2mUV191b55czzhBa4d1Us8VPhqfbQIfhVH81nmaPOApDZ69T/HOGY2JP23VxKETtMsvRB3zkpV1HJjaXS3eSNCjJPA9n3cjBYZU1OQhoVr7k/Nl3+kE7f5ouL0Q8cuP1SlQ+ZwTS4fovip1dVfATLssT4Gd3qfl7+9Uma7t5EcJ3/MqN7W/695dy66t/MGHc1I+WJtT6d+eMt1eBLf2nZnrfW+N2mHPNO7a62l7QTN3MAn8TxYu1TvvfaghA59SpZvy82UkcHZRX++yEw8N6t9jl4c4m6UrPtOd9Zpq4JARmZJOuWUSIiaBP/Sl1+yzApLLEJjnmHnOXXFFSdWvd5fdhgunZo1q9jj59nth9gxjk6A3Y9L2nXs0+YMZdtmm66+/zu779c7dGj7qdXtRZZPYMn3Nz0x8d5ruuauWvYB4RmcbM02ZivZtWmrt+ggt+nRlSoyYJJo5K+n7Q4f1YFO/HOMVyIk548ScyRE6fpI9DprYNWPbR7Pn67uDh9TywcZ2nJkvONu3bakZcxbYtfHNc8H0NT/z/vRZ8r788izHrZzGzCZ+9+m333/Xe9Y+zO1mfDRJ4HenfqR2bVrkaoFwnFu5jZHk1zazEPjqtZvsOvmmzSx8O+n9j+x+N1yfvnYAPJPnJ/F/j9fxU1Zwrn1V91VPPQUt9TJQ4UedvgDgRlGhaceaQIVabctDWqS29Vmk5Pk/ZVqP1acT7lDUkADXbfcGaqFXT63+uEeaUhRJio9Nkk5FqH+T5P2mv1Aip3AqeU+Qps0PVoWIVxTglDVp3Geafn34PX02oVmaxYt3amLamEhX8sR1SY6R+J/NYqnRCu2W/hTtlEvoTrsfPEOFttYYMbS0lvdxxpB7Oil0Vx29u3ysmntYSdHELxZp8k8+6u1fsC8XkHe5qf1t2p8P7qeS1ofn1h172fHU++nBdiLq+Wf7pdRnPpdMIuztydPtBRtDR72ou+vc6dwCuI+Js9XrNuo+37tV0UnInmum7ICZtf/ayKHa+PkXquvXKuU5Zmayjh8zQqVLXe30xoWSPA7eXftODXrhFbtEU426TewyNY9176TAnl1S1j4wa4u8NfYVRW7bqSatOtt9zc+YhbxDBj2drzHTjHljRw+zZ8A+0LKjHSNtOz+uX39N0KTxo/lSE25hZruPeSVEPmWv1WNPPmvHrnndN0na998aoxtvcCVdTZK21UNN9MJz/V3rMNR/0O5rfsas5zH2v8PyNW5dffVV+u9LQ/T333+rWZuu9mL25ssv88V9Yz9zeriLKbdnyu7Z72+tyzPPDdeGTVtU07dZSpv5Ygzul9sYSX5tGxHyrBYsWqa7GrRQ9Xsa6/UJ76pPr24K7NEl09mf8EyXnDFf1eRRzNFYK0iyWKUxlwr688idi+txNokrV5I0hSkZElzd2chG4laF3t9PE9VF89cEqVZ+P7ceXaS+96/Tg2vGyt/NyRTi3XNwLOAuxFLRxvFHTogRFAXEOdyFWEJRQJwjJ8RI4RUfH+9cKxi+aoGHSFsD3Kn7DQAAAAAAAABFHEl8XNy86ij48y2K/rwAs/ABAAAAAAAAwEORxMcFsXtyJ6c+2gRFOW0AAAAAAAAAgPRI4iO903GKmjpcPf1cCyXe5ReoUQv2Kf60c7vDXvAzdKcS9y/SqM5N7L73tRyisO0JTo80TsdobeiQlMUc72tp7XOur+bvNKVzglTL6ZZ7GRZ+NJdsF3BM0oGlEzQ4oIXusvs2UOOAIZq4NPPfZDN//zsD1biO1bdOC/UcuUKHs+oHAAAAAAAAAOcBSXykOh2j8KC26hNZXcHzN9j16Td91EdXfPK4eozbqUSnW4pTOxX5cx0Ff7RK0Ts3aOajSXqz80DN+cG53Ran5UGdFHqqud5d46p5v/rdnqrlNVOvvL/P6ZNXaevnb9H8Xk5zFk4sGKLGbySp+RsL9JXdf4OWvtFOmvWUnpsVnelvOhy5V16dxmr1VqvvqhGq/eVwBYzemvlvBwAAAAAAAIDzgCQ+UiR+MVOvfNFa48e0U9WrXG1e5euo36tBumLqcIXtcrWlqqja9/jIq5h1tVhxVWgfpOBqOxW+Idp1s3H0cy1cm6QHWzZSGadmvVd5X3XsVFlRcyO029V0jsQpckOE1KyZ/K4v7rRZv/9662+avkqTulVU+jL6sSpTzTflb9dVdRQ4uJ1OzFinSLL4AAAAAAAAAC4AkvhIsXvjPJ3wq6NqJZyGZNffqtqKUeQ3MU6Do4R3hiS4ty69Soo4mqakTlJS9rPYr7pcJZ2r50YpVfWtozKzJ2ji2midOJmgxOTSOOaLh0xK69IMf7vXZSb5H2P9rGsbAAAAAAAAAM4nkvhwxOnwQeu/pUN0R8Z681UCFWrdtPxQnN0zT8rfId+bpGVL1umEk81P/ClCc2ZHy7+bnyq4ms6ZCu0n6tMJzfTrgmHqH9BCt1Y3df67a3DoCh045XQCAAAAAAAAAA9FEh+OUqpwk/XfoxNTas1nugRXd3XNi2KVFfjuaPl+PUx31XR9KdC4zyJd+kSY/te6lNPp3Crj204hE8I0c+0Gu3b/Z9ODVCFyuDqPWqd4pw8AAAAAAAAAeCKS+EhRqXZrlVm9S7uTS864RZJ2r1guPbYg5cuAjUtGq1+LjPXoz43Eo3Hpy/kUK66S19dRxw6+OvFltA47zQAAAAAAAADgiUjiI0VJvx56ofJUvThskXYn14A/naTDEZPUt3OoImKdtryIXauw0BhVuPn8zLpPJzZCoY+3UOeQeYr6IclplBJ/iND09yNUq3VtVXLaAAAAAAAAAMATkcRHqmI+8p+wQC/cHKnQgAauevj3tNXg2UlqMzJIvqWdfnlR2k8deyVpWEDaGvvm0kQBQRMU8ZPTTzs1MeW2Fuq/0WqaGpjav88inXB1tKTtW1cBU62mrPqW9lVI+FIF37xTk59skXJ74ydd5XymPVn9vJwNAAAAAAAAAAD5dckZi3M912KOxsqnbH4yui4F/Xnkjic8zom7Zuq56ZcreHRrVSjmNBqnE7T7o+FqMbeOVi/pUqhnxBPvnoNjAXchloo2jj9yQoygKCDO4S7EEooC4hw5IUYKr/h496zISRK/EMvL41zPr7WOHDvubLlH9J6lWv5UC/W9cUrWi+Lun6kA/2g9/cVQ+XnLniXvyTq1a63RI4c6W7lHvHsOjgXchVgq2jj+yAkxgqKAOIe7EEsoCohz5IQYKbxI4iNHnvA4734nQC3m++qDaUHyK1/caZUSY/dp4fDHFaoQffpWM5Vx2gsj4t1zcCzgLsRS0cbxR06IERQFxDnchVhCUUCcIyfESOHlriQ+NfFxTlXtPUXzOydoztNtdVdyzfoqDdSi91QduG+sPp1QuBP4AAAAAAAAAFAQJPFxbhUrpVq9RmjS/KX6as8WRduXDVo9f7RCOtVRmbR18gEAAAAAAAAA6ZDEBwAAAAAAAADAQ5HEBwAAAAAAAADAQ5HEBwAAAAAAAADAQ5HEBwAAAAAAAADAQ5HEBwAAAAAAAADAQ5HEBwAAAAAAAADAQ5HEBwAAAAAAAADAQ5HEBwAAAAAAAADAQ5HExzkX/+0KTQzqpPuq1FVF63JfyyGaEhHn3JpPp+MU8c4QBdzr2uddfgM1cWm0Ep2bAQAAAAAAAKAwIImPcyp+7atqEfCBjvuN1NKdWxS9Z4uWjrxNEUFt1X9BjNMrr+K03Pz8rjp6eYlrn5s+aqc/3+mkzpP3OX0AAAAAAAAA4OJHEh/nVMkGT2vSrNEa2bayShZz2mr1UPBjpRU+apF2u5ryJDHiA734RWuNH9NOVa9ytXmV91Xw6L5KfGOqlp90tQEAAAAAAADAxY4kPs6tYt6qWqOis5HqmrJW26mkfJW/2R2xSCf86qhaCachWbXaerDEOi3bWMBSPQAAAAAAAADgIUjiI+9OrtDgKgGassvZTiN+6RBVbDJNu087DVlK0v49W6UaPirjtORenA7vT5KuLaWSTksqH1WoLYXvy2+ZHgAAAAAAAADwLCTxkXdX+cqvWYwmL9/pNCRLUMTqdara3ldVndI5mZxO0om1ExS64FaNHN5aFZzm3IvR4Y1S85t97K0DUzupYpUmGrU2wd62fR+jE85VAAAAAAAAALiYkcRHPnjLL6CdTsxeq6i0M+5PRmjtisrq3riy05DqxIKBqlilripWb6C73kxS7/lvqfttxZ1b3ezv/BTpAQAAAAAAAADPQxIf6R1dpL4m2Z7uMkFRzs3JvO5upH6apzVfJDkt0ol1KzSnRmv53uQ0pFGm7VhF79liX3aMrKaIJ1to8KKCl72p1Gu2tc9VCvHzdlos//JyrgAAAAAAAADAxY0kPtIr21qTnGR76iVItZybU3jV0f2dpDlrdziL08ZozccRat7BL8cSOSWrtVbI4GaaMyRU4UedxlzzUYX7pOXfneULgBvzU2sfAAAAAAAAADwPSXzkW63mvXTNjHWKNFn8HyK0fHsjtWlUynVjDrwuM6V0InQ4z5PxS6nCLdbPHotTvNOSKkaHIyX/yq56+QAAAAAAAABwsSOJj/yr5qs25edp+boEHd6wSGtbNJfvVc5tjvgvrPafnI00En/9zfrXVxXykW+v6ttaZdZu1a5TTkOyXZFadqqRHrwvd18kAAAAAAAAAICnI4mPAqis5o9VV9jyNxU2PVr92vqqpHOLLTFGa8NC1bPPqwrfleA0SvG7FmnU64tUq1dPNS/rNKaRuH2autSpq4r3vqq1qT+Wwsu3p16+Z5H6D5qn3SddbYk/RSh0yCR5PdNLzTN8kQAAAAAAAAAAFyuS+CiQCr7N5LdikaacbC3f2qZEThpePvKfsEAzuxVXxJAAZ5HcBgoYHalKQ5dqfnB15W8J2lJqbu13fLWterGla/Hd+t3m6dInZmtW78pOHwAAAAAAAAC4+F1yxuJcz7WYo7HyKVva2cq7gv48cofH2TNwHDwHxwLuQiwVbRx/5IQYQVFAnMNdiCUUBcQ5ckKMFF7x8ZlX9cwPkviFWF4e53p+rXXk2HFn6+LXqV1rjR451Nm6sIh3z8GxgLsQS0Ubxx85IUZQFBDncBdiCUUBcY6cECOFF0l85IjH2TNwHDwHxwLuQiwVbRx/5IQYQVFAnMNdiCUUBcQ5ckKMFF7uSuJTEx8AAAAAAAAAAA9FEh8AAAAAAAAAAA9FEh8AAAAAAAAAAA9FEh8AAAAAAAAAAA9FEh8AAAAAAAAAAA9FEh8AAAAAAAAAAA9FEh8AAAAAAAAAAA9FEh8AAAAAAAAAAA9FEh8AAAAAAAAAAA9FEh8AAAAAAAAAAA9FEh8AAAAAAAAAAA9FEh8AAAAAAAAAAA9FEh8AAAAAAAAAAA9FEh8AAAAAAAAAAA9FEh8AAAAAAAAAAA91yRmLcz3XYo7GyqdsaWcr78zPly51pbOFcyU27hceZw/AcfAcHAu4C7FUtHH8kRNiBEUBcQ53IZZQFBDnyAkxUnj9+ccp51rBMBMfAAAAAAAAAAAPRRIfAAAAAAAAAAAPRRIfAAAAAAAAAAAPRRIfAAAAAAAAAAAPRRIfAAAAAAAAAAAPRRIfAAAAAAAAAAAPRRIfAAAAAAAAAAAPRRIfAAAAAAAAAAAPRRIfAAAAAAAAAAAPRRIfAAAAAAAAAAAPRRIfAAAAAAAAAAAPRRIfAAAAAAAAAAAPRRIfAAAAAAAAAAAPRRIfAAAAAAAAAAAPRRIfAAAAAAAAAAAPRRIfKSK37VTr9j30ffQPTgsAAAAAAAAA4EIiiQ8AAAAAAAAAgIciiQ8AAAAAAAAAgIciiQ+3+SnmqDr3eEKVa9TXok9XOq0AAAAAAAAAgPwiiY9MTv7yq8ZNnKxGzdvp7gYP6cWRr+nIsWPOrS5nzpzR1zt268lnhqqmb1O77wsv/08dHm6tfds3qfVDTZ2e0p9/JmrW3IVq3623neA3/y9ZtkpJSUlODwAAAAAAAABAVkjiI524k79o1ZoN6tYxQOuWz9PST8J0+eWX65XR4/XzzyedXlLU17v02tiJCuzZRZGblmv5whlq3thPnyxcas/IT3bqjz/sfnu+2au3x72qvV9v1NjRL2nN+ghN+2iu/j592ukJAAAAAAAAAMiIJD7SufrKkmrftpXKlCltb5v/H+3aXr/88qu27dxttxlbvozULTffpNtvvUX/93//p0sv9ZJfg3rSJZfo2/0HnF7S9h279f2hw+rXt5e9r0us2ytc56MnArtr+ao12vPNPqcnAAAAAAAAACAjkvhI55JL/s/k4dO58oordPNNFfXtt67k/D///KOkv7IvhXNpcS/7f1NyZ+u2Hap8y826+qor7bZkpUtdrSuttu++j3ZaXN56d5pdcifthfr6AAAAAAAAAIoqkvjIMzPz/o5qt2vXnm/1zd79dlLf1L1fu2Gzrr7iSt1+ayW7X2Jikk6ciNO0D+eoah2/dIn5exq20KbPv1BMTPpa+0/16WHX1E97SVtfHwAAAAAAAACKEpL4yJeG9/mqXdtW6vP0c7qtZgM1b9PVnlX//HP9dPXVV9l9vLyKq0yZUnr6iV52LfyMyXlzMUl7AAAAAAAAAEDWSOIjnTNn/rEuzobjl19/1XcHo3Xbba4Z9saPPx3RidhYfTr/QzsZbxbBHRr8tMpde63Tw5TmuUTVq9ym/fu/V3zCb04rAAAAAAAAACC3SOIjnZ9/idfcBYt14kSsvW3+nz5jrq688grVrF7VbjNWfbbeLqFTsqS305K1u++qqVKlrtSk98JS9vnXX39p4+dfaPCLo3Tk6FG7DQAAAAAAAACQGUl8pFPqqivV5P4G+mjOfDVq3k4tHu6u3377TS8M6Z9SJse4v1F9bY3armp33Z+u1n37br31Sfin+vv0abtfif/8R4MH9tP1FcrryQFD7T5NWnXW8lVr1at7Z5UrW9buBwAAAAAAAADI7JIzFud6rsUcjZVP2dLOVt6Zny9d6kpnC+dKbNwv5+RxPvXHH5r24ceqfWd1e6a9KZtjmFA69MOPevm1N/RIp4fVqIGv3V7UnavjgLzjWMBdiKWijeOPnBAjKAqIc7gLsYSigDhHToiRwuvPP0451wqGJH4hlpcBoEGTAB09ftzZyp6pf//1jt0a+d+xev2/w3VjxeudW1zMDPxxb05WuWuvUbfOD9sz791pw8r5Kmvt+2LCQOw5OBZwF2KpaOP4IyfECIoC4hzuQiyhKCDOkRNipPAiiY8cnasBwCxqO2DwcD3cpoXatGyuSy/1sttNrfsNEV9o/MT3NHzos6pds7rdXtQxEHsOjgXchVgq2jj+yAkxgqKAOIe7EEsoCohz5IQYKbzclcSnJj7y7Lry5fTK8CHatfsb+XfsmVIPv2W7R7V5y1b9b9QLqnVnNac3AAAAAAAAACC/mIlfiPEtnmfgOHgOjgXchVgq2jj+yAkxgqKAOIe7EEsoCohz5IQYKbyYiQ8AAAAAAAAAQCFHEh8AAAAAAAAAAA9FEh8AAAAAAAAAAA9FEh8AAAAAAAAAAA9FEh8AAAAAAAAAAA9FEh8AAAAAAAAAAA9FEh8AAAAAAAAAAA9FEh8AAAAAAAAAAA91USTxT/3xh2Z+vFDtu/VW5Rr11ah5O42bOFk//3zS6QF3WPTpSvvxTb60bt9D30f/4NyK8+3PPxP15jtT3XYs8vs82rn7W7uv+ZnIbTud1qLjzJkz2rBpS8pjYJ4nWfnnn38UsWWrHu39TMrjO+m9MP3ya7zTw8X0++LLKD35zFDV9G1qX8z1L7d+bf+u7Pwan6D+wcPsfb/17jSnFRcL83we9vIY+/hlvPR68lmd/OVXp6dLbp7/Jl6+3XdAzw97VXc3eMjua+Jv5Wfr9ffp004veJqkpCR9OHOeWgQ8onUbIuwx4Ww+W7fRHicK8jqQl3HHvCZMfv8jNfPvYseU+X/6jLn2awjOHfP6mjwmZHVJO07kdTzJLfN6lfbYt7feLyxZtsqO2WR5uZ9ATnL73ubg9z+o5xMDNeLV1wv8+c/8vHn/m/y+rk/Q4CzHQvM8mzU3/fvmkJdGa+/+g04PXGjmvY55z5P83tu8FzLxlPZ4nm28TL5k994+N3bt2ZsSI9nFcFafwV4NfVNHjh1zegA5y837x9yOb3mR233y/vHCyZjHS3s5W/7mfH/GyDhmm5gir5t3Hp/ET0j4zXrDNlZbo7Zr7OiXtPfrjQr/+AOdtoIlZMT/FBf3s9MTBdX6oabat32TfZk17R2nFReCebF7e8p07fl2v8aHjnRa8y+/z6PffvtdH836RA3r19Wtt9zktBYd5oVn1ZoNCh0/SYOffVL1773HuSWzZSvX6I23pmhAv0B9u22Dlsybrr/+/lvDXw61P6QmW7vhc73w8v/Urm0LfbVxmX0x11957Q19Fbnd6ZWeuR/LV61TovXmrbFfA6cVF5PT1psWOyFgja3J42zyZerbr+uqK69weub++W8+OD797Au6s0Z1bVi5wI47E3/vTZupZSs+K9AbdpwbJgbetT7gmDfb4/43Qo0a+Or//i/7t2LHjp/Qh9YY3PHh1k5L/uR23DEJhQFDRujkr7/qo/cm2PE5ffIb2m3F2phxb/NB7BwzrzFfrF+abnz4JmqDnurTQ/8qViwlVvIynuSWeR/w/LD/KvGvJH0yY4q9r7fHvaovvorStI/mpvtiMLf3Ezib3L63Ma91g198RXVr19TzwU/r6quvcm7JO5MoePHlMfrXv/5lv08zr5tPPN7dep/3jtas3+T0ciXLzHu6tRsiNObVYfb75uULZ+iO6lXVb+BQe4ILLiwTPzNmz9eUD2akvPeOWLtY/q2aWZ9tRqc7nkbof4elG7PMZen8D3XzjTfY41Z+bNu+Sy9Yv+vhNi2t1+lWTmt6JpYmvP2+1m1MjSUTe96XX6aRr75BLgO5kpv3j7kd3/Iit/vk/eOFderUH+r/5OOZxjhzqV2zutMrvfP9GcO8j5w6fbbmLVyqES8Ep7yu+pQrZ8cYY2Huefy7bG/vyxX0xGMKGfS0Klzno0suuURXlPRWp4f9FRsXpy+2bnN6AoWDeZEb++Zk7T/wvV4KGahrSpdxbsm//DyPzJvjz6wXZ/OmoW3rB62fKVofys3f/+mKz/T6hHc11Hrc7qlTy7klsxMnYjUv/FP7Mb7zjqr2m6rLrTfn3bu0t16w/raTIIY5tp9v2aou7dvKz3rzZT40mEvD+vXUsEE9e8ajebwzOhj9gxYu/lSPPdpJpUvl/8MrLpykv/5S7MmcZxnk9vl/+vQ/itj8lf0mvq31gfXSS73suDPxF+D/kBYuWcFsWA9jxpTwpSu14fMtGv1yiCpXOvsXo+bN7icLP9VtlSup0X31nNa8y8u4U/aaazTs+QF6qneP/2/vPsCjKNoAjr9I7yX0DtJBmvTeOwgIUgRRVGz4qSiCoFIEFAt2bKhIUREVFJSOIL333msgCS30Evjuneydl0vC3SWX5JL8f89zj7m9ZXNmZ2dn3p15R3Llyhm+LU9u6dXjQVsjfZXsZQRqvDsdFCSr1qyX2tXvlyy2e7nytD7xxuJ/V9rqkBTmvqX3L6Vl4KnHH5HV6ze6HaEV1fcE7saTto0GGcZ++Lk0b9JQHn+sp6RJk8b6JGYWLV0hmTJmlMd6dTPl3H7ffOLRnvL7H3Mcgy6OnzglK1atlSdt24sWLmjazXqfbdeqqVSpWMHcf5Gwzp07b4JHPbt1crS97fe2Vi0ay/KVa+X69f9mEUVlhW0fLQcVK5Sztnhu3YbN8vqIsfLYI92lQ9vm0faTTpw8Jdt37pb+Tz3mKEv6OzVwdvHyJVlhqzeBu/G0/ehp/eYNT49J+zFhnTnjXZswIfoY2o6cu2BxhLpQ76vaj82XN7dph8IziSIqVyB/XgkIyGG9C5cxYwbJnCVzhJFBSHq04dPj0WfMdJvYTHVMTI4cPS5Xr1w1Abw8uWMfwLfz9jo6cuyETP99lu3m29kE/JObi5cuycbN22TE0JelZvWq5kYTnaPHA+Wa7SZWvFhha0s4/btVLF/WBDa0I5EhfXp5Y9CL0qdX1wjHS5nyHimQL68cDzwlV69ds7aG0xvf1Gm/S6N6daRcmVLWViRGaVKllrRp7x6A8PT61zLz1BO9ZfCA/pGCGoUK5Jfg4DNywSWVExKWdmCm/DRdHu31kBn5586WrTtl2crVpqOfOnXMA1fe1Dv6uX437ag50xGDGpjVh0eIGzpSKqpR9DoK+cKFi1Kvbo0I58+T+sRTen/auWuPlCldIlIAPiAgu+TPk8sEoZS33xOIiidtG22bTp02Q7JkyiRdOrYxgYHY0N+5bfsuKWsr5651XOlSJSQoOMTxsCr04kVbvZtacrq0m1PavoMGHU4FBbkNECNuXbx8RUJDL0rhggWtLeH03pYuTVo5EXharl2/bs7XyDcGmhnnzjT4uG7jFqlXp4bky5vH2uoZHV2vqSL6Pd5L2rduLvfcZaBTsaKFZdI3n8h95ctYW8JlzJDBVrfmkWPHTlpbgKh50n70pn7zlDfHpP2Y8DJmSG/95F5C9DH27T8oWbJkloL585r3dtqPLV+utO07bY8UB0HUEu3Q2pAzZyU4KFhyuTSuED88zXmmuQHt+bjsgfhde/aZfIWaL8s5d6o+Zd68dYcjn5bmyNKpOQ/ZKhedCuTc+NKbinOeSv2va97WxKps6ZK2xuarPg3gRye660j/jj/b/r5VK1eUKpWjnoKV1GXJnFmGvvqC2wC+OhEYKOltjfH0thuZq3z588iR4ycd14YeS0cxuLpwPlQypc8QqZO6YvVaOXjoiHTs0Mp0HpE4hV68JDdv3XTbwPL2+tdGkqsLoaGSIUM6nwX4EHvaeZm78B8pV6a0GZ3ijgYXJtnuqR3bt5GiRQpZW2PO23rH1anTQbZ79G1b45sR1vFJ7xs6Xb1u7epSpFABa6vn9YmntP3lroN98mT0uZuj+55AdDxp22hw6B9buerRtWOsUujYaXBAAwo5ohj1r0EmHdRy9PgJ8z53rgBJkya1aSc7s6eyKle2NPfYBJYjW1YpmD+/7Zwdt7aE07rs2o3rUr5sKTOCODr64HLHrr3SuEHdKNtSd6NBp2eefMT0TaO6t7rSfVz7EvqQ6rytvearehxJk6ftR2/qN0/54pi0H+OePlDWzApRnaeoJFQfw93g65Ong839Fe55d8fyE5q6YtLUX6Rxw3pSpVLyDDAmpMtXrsrYD8dHyJuqOc80AP/lhMkRLlDNj6qfb12zSLp3eUD27j8oW7btktHDB8mmlfMjjObauHm7jB33mTz5WE/ZsHyuyZHVqllj+W3mX2ZEvp12FnU/bXxpvlbNp6V53hcvXRkpb2ti5W1jMibudh3p6BIddadPZ2M78ikxi6rRHRUdRVMwX15Jny6deUilD6A0JcrNmzfN5+fPnTdBl+jozXTrjl1yf9WKEUYw2HPV9e7xYLw81EHcuW2rl27fuSMhmlty5FjHg0pdzMd18ePYXP/6AE5nkFSuWCHSCEIkHHuqkYb1a8nsuQvNg28tA/pAW4MIGkS10581T7Rq1byRR3VQTERX7zjT73L46HGZaGvs93iosxQv6n4GAXxn/4HDsnrtJmnaqF6EGTfe1Cee0JGqxYsWlt179ke6V+kUbXcLeUb3PYGoeNq20VQnhQsVNPWTffBPbBZKPH/+goQEn5EC+fKZ9tl7H31hjqftNrtA62GVjszu3aOLfDdpmqkDtS7U4MLsuYtMOqsmDeqY/ZBwNFVo754Pyh+z55k+qC6uqH3ApctXmdHDGmCPrj2lbaVFS5ZLrRpVpMS9Ra2t3vG0jxAdnXl54kSg7R5cydoCROZp+9Gb+s1TsTkm7cf4o39rfdgTduuW/PzrH6Y9aC8jzudK6b4J1cfQMhB4KkiOO8X1lNbHunYCPJdogvg6WltHbeuo6/YPPSalS5aQZ5/sYzoeiF86YmD40Jflqb69HBel5jzr0rGtbNyy7a6rS1+7ek06d2gVZcBg9doNUvLe4mYkqjaM9Nw2blBbH+/J7n37rb10+s8OOXTkmPR/uq/JuaaVj+Z51xERmmdrp+2Ghqh5ch2FhJyRST/9amZAaAoexN6tW2Em6BIV+8309u07Jteq/WaqHRHNVVe4YAGpW6uG2YbE7aatkaK57gcN6C8bV8yTyRM+kWPHAyMtfhwb+gBuq63z2rVze4JpfkQfRF++fEWOHjshtWrcbx5Sr1o8S+rUri4vvvqmeYhtp3mif5s5O05TmUVX79jpCNgOXR+V0pXry+NPD5BO7VuZh7rx8YAZ4bRDpvmedTSpjvp15ev6pFHDumZq/KQfp5tF7ZU+7F9la5ultbURChXKb7a5cvc9AWeetm10BOj+g4fMSGotl2NHDTXl/KtP35UVq9fJ+x9/GScj9uwDgbRObNW8iXR+oJV07/OMqQsr1mwqGzZukTcHvxgpPSUSRrWqlcLX/Br+jpSp0kDKVW1o6rARrw80aWyioylDV6xaJ00a1jPpIOKb1rG6KO8D7VpJ2TIlra1AZN60H92Ji4GOrsek/Zhw9KFO3VrV5Z8502XZ/BlS8b6y8r9X3oiwEHtC9jFKFC9qZmx+9tX3ER6Or1y93vbfa44BkXAv0VxNOlpbR23rqO6Fs36W67bOy+A3x7CKcQLRC8w1QJTOti30wkVzo4mO5ruKKrCkoydu3Iw+FY7mNlR6sa/ftFVKlbxXcmTPZrbZ6ajTbLZtBw4dtraEc03po6/kkl/flbvrSDvjuiBm9qxZpUmDumYbvKMPoZbM/VUGPN/P5FNVqVKllHuimNGg5XnZijUya858eeXFpyN0CjVXnQZGHu7WmYeVSYB2Jqd8+5n0fKijeYjp/PBx7/4Dtnrtv9X7Y0pzUn/53WR55YVnPMq5jvgTeDpIzp4PlTq2xrXrYk4N69WSeYuWmFFO2pjVPNHaUYurVGZ3q3fstLz+OX2iuVf8/MN42bJtp7z9wacxGv2KmAk8ddoszKiLV7t2tOKiPtFy+dG7IyUoKFiatOlqRnL9Pf8fKVKwgFljI7pRdHf7noArT9s2Whfq1PrMmTOaRfd0Xy3nWk51UTwNwO4/GLG97w1tnw188RmZ98ePpt1mZ599qjnxR737kQmQzfrle1MX7lj/j7Rv01z+N/ANs6gpEpaO3tQZ4D9OmyFffjLWzMzeuXGprf39lIwa+5H8NXehud+50m3LV6yVPHlySZWK5a2t8UfL9veTp5m0hxpIS84znuGep+1HZ+7qt5jw9Ji0H+Oflgdd9+P1QS+atqCWEW0b9rC1EXUdo1lzFvhFH0O/5ysvPG0eNDz1/KtStW5LGTHmA8mbN7ecs5VxnRF6t3YB/pMoH4lpodTULGlslcm032ZFeYNG3NKp1TrqQTt59sC4LkDrTnR5L3XkfcUKZU0KF532o0F9rWh0NfMcWbPZbhYlzH6a80s7kxNtjZ/y1RpHCMzXbNjW1ihbEylvqz2lj/PLOb9+chXVdaSd/z//mm9WktfP4Rkdoei8cIsrfbjkuliglnFdx+HriVPlrdcHRgi66gidyT/9Ku1aN5dSJYtbW5EU6cPHfPnzyrGj3uWpdKbX7tp1m2yd1g/lhWcelxrVKlufwJ+UvLdotIs5aTDq0uUrZkba3n0H4iyV2d3qnejojLfHeneT3Xv3y8J/lllbEdd0BLyqbetseSq29YnOvnvrzUGy9t+/zcPoh7t3luWr10mVSuUjLdxuF5PvieQpJm2bqAb/aD2az9bpP3j4iLXFM9myZZWcuQLMOkbR0XWM1LyFS2XfgUOm7tM6UGkQq37dmub7f/ntZDl77rzZjoSxYdNWW59lnjz52MOOwJXeN7U/+ejDD8lX306Rw0eOWXv/R2ccL12xShrWrS05cwZYW+OHDnR776PxcuHiRRn40rMJMgsAiY8n7Udv6jdPxfaYtB8TltYvhQoUkFOBQSau5g99DP1OfR7uah4GaWrtt0cOsdXJZ+XoseNStw6ZBzyVaOe1aDBYn9ToYhka2EX80Wldw0e/J/fZGkl/z5jsCIz/NPELa4+YaVi/jnTp1N48mdMpka06PmxG1b/2an/Hgla6iFQu283k+Wf6mhEXzoF5+0uD9vCM63V05co1c6N9sOcTER6QaP473a4PanSKnLer2yd1mivw6pUrcjWKUQaaK7CIrXPh3FDXqYc6ckhzwo4Y+kqkKb83b92S0EuXZPS7H5vpiPbzoFO5Ndfdx+MnmPfJdUZJUpQufcymD2oAf8Hif2WUrawMeP5pqX4/AXx/FJD97otN2Rd+0uteUyI1bv3fA3J9ad2rdbDWxc4LwnvDXb1zNxq80g6jrv+BuKfpcJb8u1Lq2To0mpvbWzGtT1xt3LRN5sxfLO1aNY8y2BTb74nkxZu2jQ4wyemm3syYMYP1k2d0FrFO1z97JnLaT10L4qKtPGuaHxUUFCLFixSWLJkjzy7JkCG9GVB0IQbrT8B3gs+cNQ8tc+cOf8jiTGeH6z3z7LnI98pNW3fI6dPBUq9uDRP4jy+abnbEmHEm0KWzdQngwxOeth+9qd885Ytj0n5MeBrr0QGz/tjH0GwQU23/Ttdo9KZfktz5fRBfn1gvXroiUr4tnRJy5cpVk4tdA7uIP6dsDZ/Ll69KzWpVIjRAbt+OXZ614ycCJTgkRP7+PfzBgI4CG/LK85Ivz38dQ21s3VeujOzbdyjS4muInqfXkU65cn0ooi99WlqmVAnzoEanyFHJRlS4YD5JZ7sWDh6K+HDDvqhL7ZrVHPWUTif8ZPy38sdf88zT56ieUjunPXJ+2ReIfuHZJ8x7ZpQkHnoN6vR/15ljIbbGS3BQsFkPxFt6PWtOVV1oSqdQMgLffxUvVkhS2BrQ0S3mdO+9RSRDhgzmmna97vWlda/WwVoXOy8I7ylP6h2lC07qSB3Xcnr9+nW5fvVatHnR4Vu6cL/mNm3coG6UeWTjoj5xdTLwlEz44Ufp2qm91KoZ9Sh7d98TcOZN20YD9DqiWutHrSedaT0aGoOAlAYydADSrj37Hes+2O3Zu19y58rpaN9qYPjgkaMmrY4rbTfrgKKsWbNYW5AQcgXkkEBbWdAHLq40v7LeM3Nkj3iv1Hvh4qXLTV7mIoW8Kz+xofmfXx76lq1cp2cEPrziafvRm/rNU94ck/ZjwtEHgzoj23U9JK3vjp04IUWLFDIPnxO6j+FKZwf8+MtM83Ofnl3iZHZAUuX3Le6t23fK2+9/Kj9M+cVReeh/f/l9lhw9fkJaxuGqyoha/ny5JEuWTLJm/SZz8WnFoQsE6cJT2qiNqQWLlprjZXGTU7VG9SoSEJBNvpwwySy6pjQYrfm3Br0xWgJPRbzJJQf6dxv93idmJXJ7ZeiM6yhu6XTBLg+0kU+++FY2b91hrgn9++riWqlSppKa1aua/bSc6hoNq9asl3feGurxTQ6Jn16DI9/5UH7742/T2NFG7rHjJ+WLbyZJ9WpVzKKQ3vrZdq1P+OEnGT1sMAF8P5c3Tx7p3L6VfP71xAiLOc2YNc8sRKyL28UmCDpnwWKp0aCNvDp0lKOOt/O03tF6S1OjvPHWe2YkrH4/pffZH6ZOt92bs0jdmtXMNsQd7ZgvWrJcatWoIiXuLWptjSgm9cmGTdvMKKs+/V6UwNMR0w660gD+8DHjpEC+PNHmbPbkewKx0bpFY1ubPsjUk1ofaTnX+lMXxWvTsmmU6zTcrS5UTRvWlUuXL8v3U6aZz7Xe03bbhIk/SucHWjvWdWjSoI5kzpjJ5C537Wv8PH2mdGzX0utAB3yrUsXytvqnqnz13RRT/2n50MENek+dMOknk/aokEugfv+Bw7J67SZp2qhepDRNrrypM+9G+6Wvj3hHitq+CwF8eMub9qOn9ZszX9SZtB8Tlg7g+Hbyz/LRZ1+bhylaRvRc/WTrJ+oAwzZOi8vGhC/6GK60jHzz/VT5d8XqaNfnQvT8PoivCy98+sEo06Fo16WPmfLx4MNPStitMPny43cIgvmQVrpRTauxb9PGjMqXN68MffUFWbV6g9Ru0l6atHnIXLhNG9U3OVE793zCsa99UVn7VNlXXhvpOJ5rWpYmtgbV+o1bpEL1Jo599NW1Vz/TUbWPItfGz6AB/aWwrTH07EtDzD7N2/eQuQv+kb6P9DDfLzHTKUw6lcn+/x/VufA2jQrXUcw4L4psX3PBuQy/aWus2BsqrVs0kRefe1I+/Owbkw5K/86pU6WSEW+84mg06cLBFy9eMov8tO74sOM4zi9vzy0SB70GP35vpGzavE3adOptUgm8NmyMNGlYRwYPeM6MdlHeXP864kKv6V6P93d85vzS8gv/oI3ntq2aSZ+eXWXYqPfN+benjPv4/ZFmsbK44mm9o1NtO7RpYR4KrVi5Thq06GQ+0/tsoYIF5IN33qSRHQ90UISOsm/SsF60wR5P6xNvacdv247d8vJrI0zOcl0kO7rv4Mn3BGJD65u33hhou88FmvpSy7nWn106tpVHe3eL0YNPTc+px7x165Zpp2l77YsJk0xZ17Jsp7979LBXJXvWrPJk/4GmLqzb9AGZMWuuDBvysgkQM/glYWm9o0HxalUrmfpPy0f1+q1NWqbHHn5I+vbpHuEBpN4LdVFlfchZrmxpa2vMOfebXVNC6cueluLatRsSGnrJpIyoXKu543P7izSluBtv2o+e1m/e8OSYtB8Tls6IeHv4YJO9QtNSaxnROI8+fNE4jz/0MZxparGx4z6TjVu3y9i3XicOFQMpbA12r1eFPXkqRPLnjZx/zlP673MGZLPeIa6EnDmfaP7OOpJs4uRf5P7K95mR9vaGsRbPI0ePy1tjP5Le3R+URg3qmO2JSWI6D0kd5wK+QllK3jj/cIcyguSAcg5foSwhOaCcwx3KSNJ17eoV66fYIYifhHlTATRo3llOBQVZ7+KX5uLSaVkj3x4nH7w9LFK+Nh2B/+GnX0u+PLmlV48HzRM9X/p3/u8mJ3xcoSL2H5wL+AplKXnj/MMdygiSA8o5fIWyhOSAcg53KCNJF0F8uJWYKgBd1PalQcPkwY5tpWO7Vo6p4Jpn69+Va+TjzyaY6au68GpiQ0XsPzgX8BXKUvLG+Yc7lBEkB5Rz+AplCckB5RzuUEaSLl8F8f0+Jz6Sh4IF8smoYYNl+45d8kC3xxw5tDT32qrV6+Xd0a9L1coVrL0BAAAAAAAAIHlgJH4SxlM8/8B58B+cC/gKZSl54/zDHcoIkgPKOXyFsoTkgHIOdygjSRcj8QEAAAAAAAAASOII4gMAAAAAAAAA4KcI4gMAAAAAAAAA4KcI4gMAAAAAAAAA4KcI4gMAAAAAAAAA4KcI4gMAAAAAAAAA4KcI4gMAAAAAAAAA4KcI4gMAAAAAAAAA4KcI4iPR2r5zj3Tt1U9KVaonn3810doaM9euXZc333rPHMv11ffZl+Xc+QvWngAAAAAAAAAQfwjiI1HatGW7vD7iHXmwYzvp9mB7a2vMhYWFmUD+TxO/kL1blkd4fTf+A8meLau1JwAAAAAAAADEH4L4SHTWbdgsr48YK4890l06tG0uKVLEvhjfuHlTQs6ds94BAAAAAAAAgH8giI9E5caNG7J2/Wbp93gvad+6udzjgwC+XZpUqSVt2jTWOwAAAAAAAABIeATxEYFJKTN9piPXvP539pwFJnjuTHPQ62vXnn3y3EtDzL59+r0oGzdvkzt37lh7ee74iUDp9Xh/2bp9l7XlP/MXLTW/40LoRUmTJo088+Qj0qFNC7nnHt8V39CLl+TmrZuSMUN6awsAAAAAAAAAJDyC+HC4cvWqjB33mezctUfGfzhG9mxeJuPeGS6Ll66UiVOmy62wMGvPcMEhIXLz5i35+P23ZOfGpdKxfUsZNuo92X/wsLWH53LnCpAypUrI8pVrIzwECB95v0mqV60kWbNkNts0eJ8iRQrzs6/ctv2/3bb93pCz5+SNkWOlSp0W0qhVF/nws6/l/IVQay8AAAAAAAAAiF8E8eGwZesOOXTkmPR/uq/kypXTBMoLFcxvRr7PXbBYdu7aa+0ZLnOWzFK+bGlJlTKlebVo0lDKli4lGzZttfbwnI6wb9ygrmzYvFXOnb9gbRUJCj5jHgrUrlnN2hJ3bt64Ifv2H5JBA/rLxhXzZPKET+TY8UAZ9tb7ZhYAAAAAAAAAAMQ3gvgwdPT7+k1bpVTJeyVH9mzW1nA5A3JINtu2A4cijrBPlyatpEz5XxFKmTKlpEuXVs6cibhA7KHDR6VD10dNyh37q++zL0cI1qtSJYqZ0fB79u63tohs3LJN8ubJJYUK5be2xI1iRQvLlG8/k54PdZRMmTJGeICxd/8B299mi7UnAAAAAAAAAMQfgvgwrl+/IcHBZ2Ti5GlSvlrjCAH3mg3byvIVa+TkydPW3t7RAPmf0yfK3i3LHa/vxn8g2bNltfYIlzNngFSvUknWbtgsYWG3TXqflavXSZ1a1SVD+oTJVa8PMPLlzyvHjp6wtgAAAAAAAABA/CGIDyNt2jSSK1eAPP9MX5ML3zngbn8999Sj1t5xQ0e/16tTQ7Zs3yVnzp6VEydPSVDIWala6T5rj4STLn066ycAAAAAAAAAiD8E8WFoAP2+cmVk375DEnrxkrU1/hUrUkgypc8g23buNrn1SxQvKnly57Q+jTuXL1+RFavWRVhUV4WcOSvBQcFS8t7i1hYAAAAAAAAAiD8E8eFQo3oVCQjIJl9OmCTBwSFm282bN2XZijUy6I3REnjqlNkWlzJnziT169WUWbPny4LF/0rj+rUlderU1qcxt2HTNmn5QE/p0+9FCTwdOS3Q1u07ZeQ7H8pvf/xt0vhoMP/Y8ZPyxTeTpHq1KlK+bClrTwAAAAAAAACIPwTx4aB55wcN6C+FCxWQZ18aYvLhN2/fQ+Yu+Ef6PtJD8uXNa+0ZtypXLC979h2QsLAwMxLf1Z9/z3fk669Ys6n8/Osf8vH4CY5tUS2a606tGvfLx++NlE2bt0mbTr2ldOX68tqwMdKkYR0ZPOA5s2AvAAAAAAAAAMS3FHdc84d44OSpEMmfN+YpTvTf5wzIZr1DXAk5c56/sx/gPPgPzgV8hbKUvHH+4Q5lBMkB5Ry+QllCckA5hzuUkaTr2tUr1k+xQxA/CfOmAmjQvLOcCgqy3iEqD3VuJ6OGDbbeeY6K2H9wLuArlKXkjfMPdygjSA4o5/AVyhKSA8o53KGMJF0E8eEWFYB/4Dz4D84FfIWylLxx/uEOZQTJAeUcvkJZQnJAOYc7lJGky1dBfHLiAwAAAAAAAADgpwjiAwAAAAAAAADgpwjiAwAAAAAAAADgpwjiAwAAAAAAAADgpwjiAwAAAAAAAADgpwjiAwAAAAAAAADgpwjiAwAAAAAAAADgpwjiAwAAAAAAAADgpwjiAwAAAAAAAADgpwjiAwAAAAAAAADgpwjiAwAAAAAAAADgpwjiAwAAAAAAAADgpwjiAwAAAAAAAADgpwjiAwAAAAAAAADgp1LcsbF+9tjJUyGSP29O6533Yvvv4Rn+zv6B8+A/OBfwFcpS8sb5hzuUESQHlHP4CmUJyQHlHO5QRpKu0NBQ66fYYSQ+AAAAAAAAAAB+iiA+AAAAAAAAAAB+iiA+AAAAAAAAAAB+iiA+AAAAAAAAAAB+iiA+AAAAAAAAAAB+iiA+AAAAAAAAAAB+iiA+AAAAAAAAAAB+iiA+AAAAAAAAAAB+iiA+AAAAAAAAAAB+iiA+AAAAAAAAAAB+iiA+AAAAAAAAAAB+iiA+AAAAAAAAAAB+iiA+AAAAAAAAAAB+iiA+AAAAAAAAAAB+iiA+AAAAAAAAAAB+iiA+Irhz546sWbdJ+j0/SMpXbyKVa7eQgUNHye69B6w9vHPw0BHp/eQL5r8AAAAAAAAAAO8QxEcEs+cslHfGfS7PPNFbtq1ZKKv/mSVly5SU14a9LfsPHrb2AgAAAAAAAADEB4L4cAgKDpFpv/0pT/XtJVUqVZB77rlH0qVLKz27dpTqVSvJseMnrT0BAAAAAAAAAPGBID4c9uw7KLfCwkwA35kG8ocMfF4aN6hjbQEAAAAAAAAAxAeC+HDYu++A5M+bRzJlzGBtiZ7mzt++c48899JQR+58Tblz/ESgtUdE165fl+8mT5O6zTqa10efT5DLl69Yn/5Hc+9rDn49XnTH/OSL76RouVqO18zZ82Tn7r2O7/JIvxfl3PkL1t6eHRMAAAAAAAAA/BFBfDhcvnJV0qVLJylTprS2RG/RkhUyfMwH8sSjPUzu/PXL50jTRvXllaFvRZk7X0f5t2vVVFYsnCnTJ38pO3btla++myJhYbetPcQsqPvSoOHSslkjczzNx1+jWpVIx/zfM33l8M7VsnvjUun5UCfbsQ/I5q07ZexbQ2THusUy6euPJHu2rGZfT48JAAAAAAAAAP6IID68diH0okyfMUue6NPTkTs/VcqU0rRRXWnWqL78NP0PuXnzprW3yI0bN6RsqRKSO1dO8z5/vrzySM8usnbDZgk5c9Zsu3L1qkyfOdts1+Po8TSNT4c2LaTG/ZVl6s+/m+NE5drVa9KlYxvJlCmjtSVcbI4JAAAAAAAAAP6AID68Fhh4Ws6duyAl7y1mbQmXIkUKyZkzh+w7cEguOaXKSZMmje2V2noXLn26dHLhwkW5fPmyeR8YGCT7DxyWCuVKm+PYpUx5jxQvViT8mJfC93VVoXwZ8ztceXvMg4eOSOtOvSOk6nFNzQMAAAAAAAAA8YkgPhwyZkgv165dk7CwMGtL1DRAf/HSZXGKi0cQHHxGzp07b73zjAbKN2/dIe27PhohiK6vF18dJmfOnpfzF0KtvSOKLv2Pt8fUwP6cGZNNqh77yzk1DwAAAAAAAADEN4L4cChV8l45eep0hFH0UdGFbzNnyih37lgbXATkyCbZsmax3nlGA+V1a1WXRbOnRQii218aXNcguzfi4pgAAAAAAAAAEJ8I4sOhdMniJm/8pi3brS3hrl27LmPe+1T++XeleZ8vXx7Jnj2rSUfj7M6dOxISclZKlyohmTNnsrZ6Jk/unFEeMzbi4pgAAAAAAAAAEJ8I4sNBF57t9mAH+eq7KSaQf/v2bRPA/3H6TFm3cYsUKpjf7Jc1S2bp2qm9TPjhR8d+t8LCZNGSFbJwyTLp0fUBSZ06Yg58d3RR2t7dH5RvJk6Vf1esMcfThwKnTgfL2A/Hy/QZsyUs7La1t2fi4pgAAAAAAAAAEJ8I4iOCdq2byeABz8kXEybLfTWbSa3G7WXX7n3y9ojXpETxotZeIk0b1ZXhQ16WCRN/MvtVq9daFi1ZJu+PfiPCft6oWb2KjB42WGb9vcAcr1j52vLCq29Kwfx5pX3r5mZBWvXJF9+ZvPZlqjaUH3+ZYfLb23Pd68K0ukCtnafHBAAAAAAAAAB/lOKODk320slTIZI/b07rnfdi++/hGf7O/oHz4D84F/AVylLyxvmHO5QRJAeUc/gKZQnJAeUc7lBGkq7Q0FDrp9ghiJ+EefN3rt24gwSeDrLeISrdu3SQd0YOsd55jvLuPzgX8BXKUvLG+Yc7lBEkB5Rz+AplCckB5RzuUEaSLoL4cIu/s3/gPPgPzgV8hbKUvHH+4Q5lBMkB5Ry+QllCckA5hzuUkaTLV0F8EoIDAAAAAAAAAOCnCOIDAAAAAAAAAOCnCOIDAAAAAAAAAOCnCOIDAAAAAAAAAOCnCOIDAAAAAAAAAOCnCOIDAAAAAAAAAOCnCOIDAAAAAAAAAOCnCOIDAAAAAAAAAOCnCOIDAAAAAAAAAOCnCOIDAAAAAAAAAOCnCOIDAAAAAAAAAOCnCOIjTq3fuFVad+otBw8dsbbEnfj8XQAAAAAAAAAQHwjiAwAAAAAAAADgpwjiAwAAAAAAAADgpwjiAwAAAAAAAADgpwjiI4Jr167L1Gm/S8fuj0vRcrXMf//8a77cuHHD2kNk5ux5MmT4WJm3cIk0adtNRrz9oYScOSsffPKV3F+vtYz79GtzHGfnzl+Q9z/+Uuo26yiVa7eQ14a9LSdPnbY+/c/uvQdk4NBRZh/7fsdPBFqf/mfn7r3y3EtDpXz1JuY7fD/lF7l2PeLvBAAAAAAAAIDEjiA+HK5cvSqj3/tEtu/cI19/OlYO7Vgln7w3UhYuWS7fTpomt8LCrD1FgoJDpHLFCjLth/FyMvCUrNuwRZ5+4hH54euPZMXqdXL4yDFrT5EzZ8/JvIVL5ZGeXWTFwpky/88fJXOmTDJizDg5a/vMbs26TfLSoOHSslkjWb98jqz+Z5bUqFZFXhn6luw/eNjaS+SQ7dhDR7wr91etKOv+/UsWzf5ZGtWvbR42AAAAAAAAAEBSQhAfDpu2bJdDh4/KC88+Iblz5ZQUKVJI4UIFpP9Tj8rf8xbJjp17rD3FfJ41S2YTjA/IkcM8AMiYIb0UyJ9XMmbMKJcuX7H2FMmRPat0e7CD+TdK//tY725y7twF2WD7nUr//fSZs02gv2mjupIqZUpJly6tdGjTQmrcX1mm/vy7mQ1w584dmT1nodxbvIh079JBMqRPb75nsSKFpH2b5uZYAAAAAAAAAJBUEMSHocFxHU1fulQJCciRzdoaLlfOAMmePVuE0fCuUqZMaf0UWYoU99he1htL9mxZpcS9xWTX7n3mfWBgkOw/cFgqlCttgvJ2KVPeI8WLFZF9Bw7JpUuX5fr1GxJ4KkgKFyxgAvjO0qdLZ/0U0SdffGdSAzm/NCUQAAAAAAAAAPg7gvgwNDgeFHxGvv3hJylZqX6EgHeVOi3l3+Wr5cTJU9bevqc58zdv3SHtuz4a4Xfr68VXh8mZs+fl/IVQuX7jhgSHnLH+lWf+90xfObxzdYRXx3YtrU8BAAAAAAAAwH8RxIeRNm0ayZ0rQF587gmTC9816K0vDYbHFR2ZX7dWdVk0e1qUv3vOjMlmRH7aNGnMzAAAAAAAAAAASA4I4sPQFDYVK5SVvfsOSujFS9ZW37hz57btZb2x6Mj7/QcOSdkyJc37PLlzSvbsWU3anLvRhw3FixaWo8dPmDz6zq5eu2b9BAAAAAAAAABJA0F8ONSqUVUCArLL519NlKDgELPt5s2bsnT5anl5yEg5GRizdDpnz12Qab/96Tim/vf7ydNM0P7+ShXMtkyZMkrv7g/KNxOnyr8r1sitsDCTp//U6WAZ++F4mT5jtoSF3TYPG5o2ricHDh6Rn3/90wTydb9DR47JrL8XmGMBAAAAAAAAQFJBEB8OulDs0IH/kyKFC0i/5weZfPSNWneVv+ctlicffVjy58tr7emdgBzZpWWzhjLpx1+lbrOO0qJDT7l46ZIMGzJActg+s6tZvYqMHjbYBOOr1WstxcrXlhdefVMK5s8r7Vs3N4vcqmJFCtn2e1U2bNwq1Ru0labtusuSZaukQ9sW5nMAAAAAAAAASCpS3NFhzF46eSpE8ufNab3zXmz/PTzD39k/cB78B+cCvkJZSt44/3CHMoLkgHIOX6EsITmgnMMdykjSFRoaav0UOwTxkzBv/s61G3eQwNNB1rvkZdXiPyVf3tzWO9+jvPsPzgV8hbKUvHH+4Q5lBMkB5Ry+QllCckA5hzuUkaSLID7c4u/sHzgP/oNzAV+hLCVvnH+4QxlBckA5h69QlpAcUM7hDmUk6fJVEJ+c+AAAAAAAAAAA+CmC+AAAAAAAAAAA+CmC+AAAAAAAAAAA+CmC+AAAAAAAAAAA+CmC+AAAAAAAAAAA+CmC+AAAAAAAAAAA+CmC+AAAAAAAAAAA+CmC+AAAAAAAAAAA+CmC+AAAAAAAAAAA+CmC+AAAAAAAAAAA+KlEF8S/ceOGjH73EylarpYMGT5Wrl27bn0CfzRz9jxzruyv1p16y8FDR6xPo/bJF995fG5DzpyVPv1eNC/92dm58xfkEdt259+vx3bnbsdE8nPnzh1ZsmyV1G3W0ZQhLdNRuX37tixftU4e7vu82U/3//zriXL+Qqi1Rzjdb9WaDdLv+UFSvnoT89Kf16zbZH5XdC6EXpTnXhrqcTmGf9H6TOs1e13k/NJ6SusrZ7r/R59PMJ9HV29qedm1Z58MHDpKKtduYfbV8jd3wRK5FRZm7QV/o+2YiVN+kRYdesripStMnXA3Cxb/a+oJT+6fd3P27Dl5/+MvHXXZ48++Em29o/XWa8PejrZ8wvfWb9xq/t7RvaI7D8EhZ2TA4BHy1P8GydFjJ6ytMXPl6lX5bvI0adK2m/mdD/V+Otr6xJM6CnDH07bNgYNHpPeTL8gbb71n6jJfiItjIn5p3aR1lL3trW0hLU93a1P7ss5U23bslo7dH79rGb5b/R5dvwKwc42nOL+0bKmo4h6uL/u+3tq990CEvka3Ps/I1Gm/Rxur8badi9jzpIyoqOIQWmdu37nnrnEId7wtI4rYRswluiD+attNWYMWHdu1tLbAn+l5OrxztXn9OuVra2v8yJ4tq0z6+iPzu3dvXCo9H+pkfQJ4Rm9m8xYulbHjxsuQgc9Lg3q1rE8i+2vuIvngk6/klReekoPbV8q8mVPl5s1bMnT4WHOTslu0ZLm8Nvwdeahze9myeoF56c/Dx4yTtes3W3tFpN/j73mL5bqtUdSiaUNrKxKTMFtH89q1a6YetNeJ9pfWU1pf2Wkg7dMvv5cdu/bK5x+OtrZGph3HZ14cIlUr3yer/5llyp2Wv6++myJ/zVkYq8YY4oY2Zsd/M8k0tj/94C1p0rCu3HNP9E2xU6eD5Yep06Vn147WlpjRAJXWO6lSpTJ1k5aV/k89Ku+M+1wW/rPM2iuc7jvy7Q/NvqOHvWptRXzQe8ymlfMi1A8Htq2U/z3TV1KlTBmprJw4eUoGvTFGMmRIL+PeHiaFCxWwPvGelk291+3bf1B+nvi5HNqxSsaOGiq//D5LJv34a4T6xNM6CrgbT9s2eq97echIqV29qrwx6AXJkSO79UnMxcUxEb+0/Gjd9OW3kx1t7/XL50inDq1l0JtjIt3blC/rTLVx8zYZbPtd2o7v0fUBa2tkV23tP+2Han/UuX7XFzENuHPlyhUZ8Hy/SGVHX9WqVrT2ChdVP2Pqd59KgK2OS5nS+9Df1u275OkXBjv6Gto2eGfkEFt/doXp92rA3pm37Vz4hidlROvMn6bPlFHvfiy9und2xCFat2xsAvDRxSHc8baMKE/v/4haorqi9Mm53qz7PNxVihcrYm1FcpYzIIf88PVH5qU/+0JcHBOJj95cZs9ZKO9+9IW8MfgFqV3jfuuTyIKCQ+SXGbPlpf5PSpVKFUxjJVOmjPJY725yK+yWeeKtNPCho/V7dessTRvVNUEZfTVuUEcaN6wjf/w1P8on1gcOHZHf/vhL+j3WkzKZSN24eVNCPBjpp2XkvY++lL37D8pbbwyUPLlyWZ9EFBZ2W5avXGsaxw8+0FrSpUtryp2Wv66d2srvf85h9LSf0Tplxqy5ZmbP+2PekNIl77U+iZqOMJxuq1fKli5p6ofYWPDPMsmUMaM80aeHqZvsZeWpvr3k15l/OR406uyzN9563wQ4Bg94TjLa/g0S1qnTQbJi9TqpU7OaZMmcydoqcunSZRn36ddSIH9e85A5Y8YM1icxs2HzVjlw8LC88OwTkjtXTkmRIoUUK1LI9v5xmbdwiRw/EWj287SOAtzxpG2jDzLHvP+ptGzWSPo93kvSpEljfRJzcXFMxL9z587L4iXLpXePBx1tb3ubuk3LJvLvijVy/fp/wSNf15lr12+SwW++LU882lM6tm9pqzOjD6ucYaYHYiHkTMzLz01b/2Px0pUmkOtt/EzbrTqSvlb1KqaMa1/D3jbQPu7qdRvl5Kkga2/v27nwHU/KiJ67ju1ayYdjh0uDujUdcYgWTRqYczx77sIIdaYnvC0jdsQ2YifRBPE1YKFBCe1Y1K9T09qKpEaDFleuXLXeAQnn4qVLsmHTVhn15kATwNcbUnSOHjspV69elXtdGkdZs2SWShXKmQCM3hQzpE8vw4cMkL6PdItwPB0ZUdDWqTh+MtCM1nGmQf3JP/0mTRrUlfJlS1tbkRilSZ1a0qa9e7Dg8JFjpg7U4FjePNEHx7TMPNuvjwwd+L9IAYhCBQtIUPAZOU8Q36/s2XtAfpj6izz+SHcpUbyotTV6m7fskKXLV5nRfWlSxzzIpHXIlm27pFyZkiaA76xM6RJyOijEkQpl5669kjt3Tnnt5f6xDnDAO9rBdp2Vo3TE8IULF6VBvZqO+4Z2mmbNWWg6QX1t5UnvLbGhx9u4ebuULlVCAnJks7aGK2rriGXMkMFWhnaa957WUcDdeNK20T6B7qMPr7p1bmeCDbEVF8dEwgi9dNk8gC5SqKC1JZy2j9KlTWtG3V+7Hj4wxtd1po4s1ewAzzz5iDzQtoXcc5cAvl369OliNBIaUBkz3L3M2jMQ2Edd2+lDS+3P6qAf7Zd648aNm+YBVP58eSV9unTW1nD6/uDho+Zhmp237Vz4lrsyorRtX6pEcetdOO1HZs+ezcRbta70hrdlRBHbiL1EcyfZsWuPzJn/jzzS40HzhAe+Zc+j9s+/K03eZs2HqiMMNm3ZLg881Ne8dKqM0gtP93HNXWXf7m1uP/u/03xYJe6ra6ZF/vjLDClTtaEjl5dzLtiocr7FNo9WXBwTiVuWzJnlzddechvAVxp8z5Ahgxm96ip//rxy5NgJM3pR6bGimlZ4/nyoZLIdw7VDuWzlGjM6svMDbWyNfzqbiZV2NHU0jLsGVrkypWTM8MEeB8ei6hBeuBBqK4vpJK2tEwv/oA3jv+cvNo1VHSXojpaX7ydPkwcfaCvFiha2tsaMPhjUOiogipEu2qHLYntpHaXq161pUksQwPcPet9YuGSZ1K9TQ4oW/i9QpTNT/5q7ULo92CHC9pjSh8yBp4JMeUidOrW1NVxaW+cub57cpiOmvK2jgKh40rbRh4uLbOX/4W6dfZbuJi6OiYQRkD2bFCqQ33b/Om5tCaf3Ww3eVyhX2sxAU76uMzXopSnpNBVOVG16VydPnoqyfgXc0fuzlt+o2nCeWLlmvfmvzubzlg480uvlZOCpSIPM9H2ViuXNzBblbTsXvhPbMqJtzaPHT0jOgOxe11HelBE7YhuxlyiC+Dr9TXPCdmjbQkqXYlpOXNLF7HR01fNPP2amQ2mDY/qUL6Vuneoyd+ESU0H7mj6UGTN8kCNvl+bzcs0b6Dw6zTnXvX3/2IqLYyLx04a5uwC+0oWxCubPZ54479y91ywcqekGNGir9Am0c158V/rZlu07pdr9lSKMlLXnw9YUYgRMErfbYWFy+84dk1JHFwzVhYS0nOhCo66LH8dmpJaODtMRN1Ur3Se5cjI90V/YU6Jox+bPv+ebB+XRLSalP2ueSKUpATypg+5G65/g4DOmjtI66Z0PPje/X+sqOw0wqOgeMiJh7Nt/yKRja9akfoQZN1u275JLl69IGVub+PWR75mFxOz1SUwW6LQ/6LHnh9b7jh5TB3bYaQfRPs2a0aSIDU/bNstWrJEihQtKZlu7SOtKrTO17tLFl+0DI7wVF8dEwsicOZM82qurzPhzjhl0pgs26kwLrbe2bttpAuz2usrXdabytI+g9HvpvX3+oqXSquPDZrCYLsarAVZvR74iedHyofGXsFu3zCBHLbf29qNzOy4q2r/UVCeaOkVHSsfEA7brSK+dmbPmmYGX+n0OHTlmUlzrQ7FcOQPMft60c+FbsSkjek7/mD3f9BO6dGwbo/adp2VEEdvwDb9vhWsh0FyuWgk90KZFrDuzuDsd0aAXr/732PGTki1rFtNx1Gk3OlLYHpQE4Llbt8JMEDcqWsdpwO727TvSoU1zRx2nDX7Nh124UEFSiCURGmDfu++gSYGzfe0i+en7z+WorZ51Xfw4NnR692Zb57Vblw6R0uwg4Zw4GSiXbQ1cHTFYu2Y1WTT7Z9mwbI7Uq1ND+r/8umzYtM3aMzxPpC4m2ufhLl5PfY4prW/gX7RDpguh62jSCuXKWFvD7xk7bB1iTS+peelfe/k52bxqvsz4aYKZ0qwLGMc0KHU3+n30dwOx4WnbRh8s7TtwyIyk1pRfH7z9prlvfjv+fbMejC7CrMECb8TFMZGwqt9f2axHpYvVFq9Qx8zonjhlmowaNsiR/zuh6kw7/f3attdUZPny5pG/f59sBqp16dTWzESPagFewJUGwuvVriHLF8yQNf/MkkoVy8mzLw11ZEqIyvadu82/a9qoXowfvmu+ck0Fu2bdRpMloVj52tLl4X7yUOd20rZVU0e/1Zt2LuKGN2VEM07ow0Q9p1u27TAL0cZ0oW9PywixDd/x+yD+4aPHzVOcR3p2kYAApj3Gp3tSppQUjMgDvKKpBlYsnCkDX3zaMSUtVaqU5npypQ37pctXyx9/zZNBA56NsLCL5sPWAA4pxJIG7UxO++EL6dW9s5ltoQ0abSzpdOw9+w7I2g2brT1jTnNnj//mB7MgKbko/Ysu6nT23AXTuNbFnvT863WtixI3rl9b5iz4xzwk1wCS5onUac9Vq0TMa+oLWicNfvk5WfzXNFNX2ZEX2v/o1GRdmNE1j62Ohtc1L7RP1Kp5Y8fsLQ1QPftkHxOc3LBlu9kWUzpCSoNczlPiNQBg74gBMeVp20brQq03NXd9k4Z1zL5a/uyLLS9budYE5L0RF8dEwtGBEZ9//YO5Z074/D05tGOV7N+2wtb+fkZGjBkns/5eYNrZ8VFn3o2WMZ3hrotJ3le+jBnBr2WvQ5sWZvDOjD/nysWLl6y9gYi0rGjGgmFDBph+g5YnLcPan6hWtaKtDzk/ykGWen0sXLxMate8X0qWKGZt9Z62Q54bMNSkPtHrS6+zv36bJOs2bJG3xn7smMHkaTsXvheTMvK/Z/qa7BN6Ttu0bCovDhpmUmnHhKdlhNiG7/h1hFYL27Rf/5Rqto5srepVrK0A4F/0hhnVorR2uliM64hanfb7p+2mqmtAjBk2KELQVVOITZz6CynEkgGdYqjrJhw9GjGnqze0k7p67UYZPuYDGdD/SanJ/dIvlbJ1ogoVyGe9C6ezJSrYOvUaONKpqDq1fvfe/WYxW18F1rX+yZUrwNRR0dEyCP/iLo9t2dIlTTDSWc6cOUy6iF2791lbPKOp4DTdkqaGi47WVe4W5gbuJiZtG60fXWeVaT2aP29uM2spJuLimIh/6zZukZmz5srTj/d2BK70vlnpvnJm8drx30ySQ9ZaHsqXdaYv6INRHeBxOjhYQgniw0u6OHPhggUkMPB0lDOIdCCsPphs1qh+jBdyDgoOka+/m2IWb9aUPHp96XWmaVAe79NDdu3ZJ/MX/Wvt7Vk7F/HHXRlRek713Oo51oeiZ10WoXXH0zJCbMO3/DqIr1N39ab2zcQfpVTlBhEWHR336deOxU9ZgBRAQtLgx5UrV2yvyPlUNdd0EVvnwrkBpdPJdOTQxKnTZdSbrzqm/NrdvHXL1H0j3/7QTEmz13ta32m9p/Wfvvd2EWn4r/TpI67o7ykN4M9buFRG2MrKqy8+KzWqEcD3RwFuFlC0L2qt1/2adZukXvNOjuteX1169TMNYc0x6rzQuyfsAdozZ85aW/6jaZxCbS+to+A/7pbHVmdTZMuWxXoXNXcLaLvS4Hy+vLnN73UdrXX9xg2T67Z4LBdYBrxp26SxlfOcbupNbxfgjotjIuEEh5w1D6DzRJFXWe97es/UkcFxUWf6kn6/VKlSWe8A7+iIZte1jLRv8O/yNSaQWrVyBWur9zTweubseSlVInLQNU2a1CZAb3/472k7F/EvqjLiKoPt/OiMpfNe9C+Up2WE2IZv+XUQ3z41xL7YqPPLefFTnQ6C+KMjBzTgpCv/64MWO+34eXvhA0lB4UL5bddE+kgjuDQgogvW1q1V3TGCUaeUffjpN2bh6PdGvx5l2hPXhZbtL63vtN7T+k/f66JdSBw0T6SOiNGGtTNdLDIoKDjKxo87+jBI0829M+5zk4uQEfj+695ihU16umMnIo6G1+nO23fslhL3FjUNaL2mXa97ff065WszilDT4Dgv9O4JbUtVuq+s7Ny9zzS2ne3es1/y5M4Z6UEiEtbd8tjqe52hqutraIfIWUjIWTParUzpEtYWz+ioKe3o79m733TGnGke58tXrpjRrUBseNO20WC6ljmtH7WedKb1qLavvH34GBfHRMLRxft1oMzp08HWlv/ozFi9Z+bInjVO6kxvaLtvy7adcvLUaWtLOO1DH7T1G4oXLRJv698g8dGZ2zrbVusnZ9qfPHr8hBQrWtjWfoz4EEr7FkuWrZRG9etEWFTUW5qSJSBHNtm7/4C15T83btw09ajOglGetnPhe56WEd1P+6IhLoN6tI7S/kHuXAGSzYv+hfK0jBDb8C2/DuLDP+mIAU1vpHnW1m/cYioEnaIze+4iWbpitbVXzCXkaAggJjSv5kOd2smHn30jm7ZsN9eE3gy/nzxNUqVMZfIRKn3Q9cn478zq/e+PeYO85cnI5m07ZNjoD8yCPtqo0gaTjkz47KuJUrN6VbN4pbem/vy7fP39VBk7cggBfD+ni9l1eaCNmTl46Mgxc/71vvnbH3PMQsSdOrSOFKz1xl/zFknl2i1kwOARkQL1qnnj+nLp8mWZ8MNP5nOto7Su+uq7KdKlY1sCCH5EOzzu8tjWqlHVrBOl9xj7+dYpzbomhi6Ce3/lyOsprN+41czkeLjv85GCSUr/zb22e9LH4yeYY2kZ1bL68fhvpWWzRlLQZYo8ENd0QTwtq1pPan3pXCbbtW4m9xaL3IZyVxfG5JjwT1UqVTD15PgJk0x7Ss+lDm7QgLm2jTRtQ+HCBc2+cVFnekoHcfzy+2yTp1+D9vZ+859/z5cFtrq+s+3+T35oREdnnGhWivc//lJOnQ425VzL8BRbH+DAwSOm3tIH8c42bt5u9m1Qr2akz1zdrc7UBwBdbf3bqdNmmLznen3p79djf2trT2bOlEnq1a5u9o3rdi6i52kZ0f0mTvlFRr7zUYQ6UwP7P02faeqiqAYJ+aqMwHe4khAjjRvWNYv0vP3BZ1K8Qh3p/uizcs89KaR1i8bWHuF0Sox9uoxzOgD7Nm0guWrepIGcDgo202vs+zmnD9D/6nv7Zzr9xj4FR1+60r/eNJz3c52q47yfN8dE8mJfuV1fVeq0lH+Xr5YXXx0WZbnQjuHL/3vKdgP9ylwTLTs+LKlTp5LRwwc5AmT2FGGbt+6QZu26O47j/GIaWdKkea0/HzdKNmzaJs3b9zBTCQe+PkqaNaonQwc+7+jAudZFUdWb9jKiIy5OnDwl3fo84/jM+UWqOf+hjef2bZrLY727yesj3jXnv2m7brL/4GH5/MPRZhGwuJQjR3Z5e/hguXXrlqmbtI7SB0i6CHKzxvWtvcQEGFp36u0oQ1rfab2n9Z99W1T3bfiOJ3lsdftrr/SXLLZ7S4dufc156ff8IPMw8LWX+8coIKT/RhdYL1miuK1N95wpo4NeHy0PdW4vj/Ts4ggEeFNHAbGhi/1rvXXiZKCpL7VMav2pZVJz7cYkIBQXx0TCsNeDNe6vbNpTei4r1Wpu+m+PP9JdnnyspyN9R1zUmc593Kj6mVpPan2pI1WHvvq81K9TU14b/o65/2rZW7dhs3zz2btm4UkgOjpb8r1RQyV/3jzy+LMvm3KuZViDqd9+/l6k9qMOFFq4ZJmtvNWQotZDrJiyt11ff/WF8HUq67U2v1+/hw5gG/f2m6ZOdd43odq5yZmnZcS+333lysj/Br5p9tNzqouA6+BCffBpb+t5ypsyAt9JcUcflXjp5KkQWyHJab3zXmz/PTzD39k/cB78B+cCvkJZSt44/3CHMoLkgHIOX6EsITmgnMMdykjSFRoaav0UOwTxkzBv/s61G3eQwNNB1jtEpXuXDvLOyCHWO89R3v0H5wK+QllK3jj/cIcyguSAcg5foSwhOaCcwx3KSNJFEB9u8Xf2D5wH/8G5gK9QlpI3zj/coYwgOaCcw1coS0gOKOdwhzKSdPkqiE/iPwAAAAAAAAAA/BRBfAAAAAAAAAAA/BRBfAAAAAAAAAAA/BQ58ZMw/s7+gfPgPzgX8BXKUvLG+Yc7lBEkB5Rz+AplCckB5RzuUEaSruhy4vfp08f6KXo//PCD9RMj8QEAAAAAAAAAiDfOAfqoRPxc5P975wfQRJlcBwAAAABJRU5ErkJggg==)"
      ],
      "metadata": {
        "id": "rPZd5UlXfzN7"
      }
    },
    {
      "cell_type": "markdown",
      "source": [
        "## Embedding Models we will look into\n",
        "* Cohere/Cohere-embed-english-v3.0\n",
        "* intfloat/e5-base-v2 ==> this model is not huge but works well"
      ],
      "metadata": {
        "id": "idU07mw4f6fK"
      }
    },
    {
      "cell_type": "markdown",
      "source": [
        "## Install Required Dependencies"
      ],
      "metadata": {
        "id": "n2ffxq8NgvBd"
      }
    },
    {
      "cell_type": "code",
      "execution_count": null,
      "metadata": {
        "id": "iKQ6BxYJdyqv"
      },
      "outputs": [],
      "source": [
        "%%capture\n",
        "! pip install -q datasets==2.14.6 openai==1.2.2 cohere==4.34 transformers==4.35.0"
      ]
    },
    {
      "cell_type": "code",
      "source": [
        "%%capture\n",
        "!pip install openai==0.28"
      ],
      "metadata": {
        "id": "AQ3CWZ2agVgJ"
      },
      "execution_count": null,
      "outputs": []
    },
    {
      "cell_type": "markdown",
      "source": [
        "## Download data"
      ],
      "metadata": {
        "id": "JYWs5isshIbu"
      }
    },
    {
      "cell_type": "code",
      "source": [
        "from datasets import load_dataset\n",
        "data = load_dataset('jamescalam/ai-arxiv-chunked',split='train')"
      ],
      "metadata": {
        "id": "-psOnanXhAOD"
      },
      "execution_count": null,
      "outputs": []
    },
    {
      "cell_type": "code",
      "source": [
        "data"
      ],
      "metadata": {
        "colab": {
          "base_uri": "https://localhost:8080/"
        },
        "id": "hHBikPoChWHG",
        "outputId": "ea2ffba3-af9f-4e52-f535-3b3805cad0d5"
      },
      "execution_count": null,
      "outputs": [
        {
          "output_type": "execute_result",
          "data": {
            "text/plain": [
              "Dataset({\n",
              "    features: ['doi', 'chunk-id', 'chunk', 'id', 'title', 'summary', 'source', 'authors', 'categories', 'comment', 'journal_ref', 'primary_category', 'published', 'updated', 'references'],\n",
              "    num_rows: 41584\n",
              "})"
            ]
          },
          "metadata": {},
          "execution_count": 2
        }
      ]
    },
    {
      "cell_type": "markdown",
      "source": [
        "## Define Embedding Models"
      ],
      "metadata": {
        "id": "bNnVtSDzhmx-"
      }
    },
    {
      "cell_type": "markdown",
      "source": [
        "#### Openai Embeddings"
      ],
      "metadata": {
        "id": "BhwdgTL7hq8k"
      }
    },
    {
      "cell_type": "code",
      "source": [
        "import os\n",
        "from getpass import getpass\n",
        "import openai\n",
        "os.environ[\"OPENAI_API_KEY\"] = getpass(\"Enter OpenAI API Key: \")\n",
        "openai.api_key = os.getenv(\"OPENAI_API_KEY\")\n"
      ],
      "metadata": {
        "colab": {
          "base_uri": "https://localhost:8080/"
        },
        "id": "dIONc1WPhbRs",
        "outputId": "d42b0224-337b-4972-86cc-7f450dbf1d23"
      },
      "execution_count": null,
      "outputs": [
        {
          "name": "stdout",
          "output_type": "stream",
          "text": [
            "Enter OpenAI API Key: ··········\n"
          ]
        }
      ]
    },
    {
      "cell_type": "code",
      "source": [
        "def embed(docs:list[str]) -> list[list[float]]:\n",
        "  res = openai.Embedding.create(input=docs,model=\"text-embedding-ada-002\")\n",
        "  doc_embeds = [r.embedding for r in res.data]\n",
        "  return doc_embeds"
      ],
      "metadata": {
        "id": "JtPRbo_fiHg6"
      },
      "execution_count": null,
      "outputs": []
    },
    {
      "cell_type": "markdown",
      "source": [
        "## Cohere Embedings"
      ],
      "metadata": {
        "id": "VkJkeQZNG5Tg"
      }
    },
    {
      "cell_type": "code",
      "source": [
        "import cohere\n",
        "import os\n",
        "from getpass import getpass\n",
        "#\n",
        "co = cohere.Client(getpass(\"Enter Cohere API Key: \"))\n",
        "#\n",
        "def cohere_embed(docs:list[str]) -> list[list[float]]:\n",
        "  doc_embeds = co.embed(docs,\n",
        "                        input_type=\"search_document\",\n",
        "                        model='embed-english-v3.0')\n",
        "  res = doc_embeds.embeddings\n",
        "  return res\n",
        "\n"
      ],
      "metadata": {
        "colab": {
          "base_uri": "https://localhost:8080/"
        },
        "id": "JBOq7KvqGgph",
        "outputId": "b1def31e-74f7-40ed-8a05-cf2d8f48aa45"
      },
      "execution_count": null,
      "outputs": [
        {
          "name": "stdout",
          "output_type": "stream",
          "text": [
            "Enter Cohere API Key: ··········\n"
          ]
        }
      ]
    },
    {
      "cell_type": "markdown",
      "source": [
        "## HuggingFace Embeddings"
      ],
      "metadata": {
        "id": "EpMojoFYIT4A"
      }
    },
    {
      "cell_type": "code",
      "source": [
        "import torch\n",
        "from transformers import AutoTokenizer, AutoModel\n",
        "#\n",
        "device = \"cuda\" if torch.cuda.is_available() else \"cpu\"\n",
        "#\n",
        "print(f\"Using {device}\")\n",
        "#\n",
        "tokenizer = AutoTokenizer.from_pretrained(\"intfloat/e5-base-v2\")\n",
        "model = AutoModel.from_pretrained(\"intfloat/e5-base-v2\").to(device)\n",
        "model.eval()"
      ],
      "metadata": {
        "colab": {
          "base_uri": "https://localhost:8080/"
        },
        "id": "D3ZPvDePIW3g",
        "outputId": "0058f2b1-ab80-4a12-b542-a677b01a8a11"
      },
      "execution_count": null,
      "outputs": [
        {
          "output_type": "stream",
          "name": "stdout",
          "text": [
            "Using cpu\n"
          ]
        },
        {
          "output_type": "execute_result",
          "data": {
            "text/plain": [
              "BertModel(\n",
              "  (embeddings): BertEmbeddings(\n",
              "    (word_embeddings): Embedding(30522, 768, padding_idx=0)\n",
              "    (position_embeddings): Embedding(512, 768)\n",
              "    (token_type_embeddings): Embedding(2, 768)\n",
              "    (LayerNorm): LayerNorm((768,), eps=1e-12, elementwise_affine=True)\n",
              "    (dropout): Dropout(p=0.1, inplace=False)\n",
              "  )\n",
              "  (encoder): BertEncoder(\n",
              "    (layer): ModuleList(\n",
              "      (0-11): 12 x BertLayer(\n",
              "        (attention): BertAttention(\n",
              "          (self): BertSelfAttention(\n",
              "            (query): Linear(in_features=768, out_features=768, bias=True)\n",
              "            (key): Linear(in_features=768, out_features=768, bias=True)\n",
              "            (value): Linear(in_features=768, out_features=768, bias=True)\n",
              "            (dropout): Dropout(p=0.1, inplace=False)\n",
              "          )\n",
              "          (output): BertSelfOutput(\n",
              "            (dense): Linear(in_features=768, out_features=768, bias=True)\n",
              "            (LayerNorm): LayerNorm((768,), eps=1e-12, elementwise_affine=True)\n",
              "            (dropout): Dropout(p=0.1, inplace=False)\n",
              "          )\n",
              "        )\n",
              "        (intermediate): BertIntermediate(\n",
              "          (dense): Linear(in_features=768, out_features=3072, bias=True)\n",
              "          (intermediate_act_fn): GELUActivation()\n",
              "        )\n",
              "        (output): BertOutput(\n",
              "          (dense): Linear(in_features=3072, out_features=768, bias=True)\n",
              "          (LayerNorm): LayerNorm((768,), eps=1e-12, elementwise_affine=True)\n",
              "          (dropout): Dropout(p=0.1, inplace=False)\n",
              "        )\n",
              "      )\n",
              "    )\n",
              "  )\n",
              "  (pooler): BertPooler(\n",
              "    (dense): Linear(in_features=768, out_features=768, bias=True)\n",
              "    (activation): Tanh()\n",
              "  )\n",
              ")"
            ]
          },
          "metadata": {},
          "execution_count": 6
        }
      ]
    },
    {
      "cell_type": "code",
      "source": [
        "def hf_embed(docs:list[str]) -> list[list[float]]:\n",
        "  #prefix every token with passage to tell the model that this is a passage and not a query\n",
        "  docs = [f\"passage: {d}\" for d in docs]\n",
        "  #tokenize\n",
        "  inputs = tokenizer(docs,\n",
        "                     return_tensors=\"pt\",\n",
        "                     padding=True,\n",
        "                     max_length=512,\n",
        "                     truncation=True\n",
        "                     ).to(device)\n",
        "  with torch.no_grad():\n",
        "    out = model(**inputs)\n",
        "    hidden_state = out.last_hidden_state\n",
        "    #max padding tokens\n",
        "    last_hidden = hidden_state.masked_fill(inputs[\"attention_mask\"][...,None].bool(),0.0)\n",
        "    #\n",
        "    #create mean pooled embeddings -turn all into a single embedding\n",
        "    doc_embeds = last_hidden.sum(dim=1) / inputs[\"attention_mask\"].sum(dim=1)[...,None]\n",
        "    res = doc_embeds.cpu().numpy()\n",
        "  return res"
      ],
      "metadata": {
        "id": "WQkggiPKJDxB"
      },
      "execution_count": null,
      "outputs": []
    },
    {
      "cell_type": "markdown",
      "source": [
        "## Process embeddings"
      ],
      "metadata": {
        "id": "Eu40XRPoc4rP"
      }
    },
    {
      "cell_type": "code",
      "source": [
        "data[\"chunk\"][0:3]"
      ],
      "metadata": {
        "colab": {
          "base_uri": "https://localhost:8080/"
        },
        "id": "yJCqHg4tdpgl",
        "outputId": "dd808826-50ae-4928-b88b-9f4a676671dc"
      },
      "execution_count": null,
      "outputs": [
        {
          "output_type": "execute_result",
          "data": {
            "text/plain": [
              "['DistilBERT, a distilled version of BERT: smaller,\\nfaster, cheaper and lighter\\nVictor SANH, Lysandre DEBUT, Julien CHAUMOND, Thomas WOLF\\nHugging Face\\n{victor,lysandre,julien,thomas}@huggingface.co\\nAbstract\\nAs Transfer Learning from large-scale pre-trained models becomes more prevalent\\nin Natural Language Processing (NLP), operating these large models in on-theedge and/or under constrained computational training or inference budgets remains\\nchallenging. In this work, we propose a method to pre-train a smaller generalpurpose language representation model, called DistilBERT, which can then be ﬁnetuned with good performances on a wide range of tasks like its larger counterparts.\\nWhile most prior work investigated the use of distillation for building task-speciﬁc\\nmodels, we leverage knowledge distillation during the pre-training phase and show\\nthat it is possible to reduce the size of a BERT model by 40%, while retaining 97%\\nof its language understanding capabilities and being 60% faster. To leverage the\\ninductive biases learned by larger models during pre-training, we introduce a triple\\nloss combining language modeling, distillation and cosine-distance losses. Our\\nsmaller, faster and lighter model is cheaper to pre-train and we demonstrate its',\n",
              " 'loss combining language modeling, distillation and cosine-distance losses. Our\\nsmaller, faster and lighter model is cheaper to pre-train and we demonstrate its\\ncapabilities for on-device computations in a proof-of-concept experiment and a\\ncomparative on-device study.\\n1 Introduction\\nFigure 1: Parameter counts of several recently released\\npretrained language models.The last two years have seen the rise\\nof Transfer Learning approaches in\\nNatural Language Processing (NLP)\\nwith large-scale pre-trained language\\nmodels becoming a basic tool in\\nmany NLP tasks [Devlin et al., 2018,\\nRadford et al., 2019, Liu et al., 2019].\\nWhile these models lead to signiﬁcant improvement, they often have\\nseveral hundred million parameters\\nand current research1on pre-trained\\nmodels indicates that training even\\nlarger models still leads to better performances on downstream tasks.\\nThe trend toward bigger models\\nraises several concerns. First is the\\nenvironmental cost of exponentially scaling these models’ computational requirements as mentioned\\nin Schwartz et al. [2019], Strubell et al. [2019]. Second, while operating these models on-device\\nin real-time has the potential to enable novel and interesting language processing applications, the\\ngrowing computational and memory requirements of these models may hamper wide adoption.',\n",
              " 'in real-time has the potential to enable novel and interesting language processing applications, the\\ngrowing computational and memory requirements of these models may hamper wide adoption.\\n1See for instance the recently released MegatronLM ( https://nv-adlr.github.io/MegatronLM )\\nEMC^2: 5th Edition Co-located with NeurIPS’19arXiv:1910.01108v4  [cs.CL]  1 Mar 2020\\nIn this paper, we show that it is possible to reach similar performances on many downstream-tasks\\nusing much smaller language models pre-trained with knowledge distillation, resulting in models\\nthat are lighter and faster at inference time, while also requiring a smaller computational training\\nbudget. Our general-purpose pre-trained models can be ﬁne-tuned with good performances on several\\ndownstream tasks, keeping the ﬂexibility of larger models. We also show that our compressed models\\nare small enough to run on the edge, e.g. on mobile devices.\\nUsing a triple loss, we show that a 40% smaller Transformer (Vaswani et al. [2017]) pre-trained\\nthrough distillation via the supervision of a bigger Transformer language model can achieve similar\\nperformance on a variety of downstream tasks, while being 60% faster at inference time. Further']"
            ]
          },
          "metadata": {},
          "execution_count": 17
        }
      ]
    },
    {
      "cell_type": "markdown",
      "source": [
        "#### 1. Openai embeddings"
      ],
      "metadata": {
        "id": "KtVNq0Ulc-um"
      }
    },
    {
      "cell_type": "code",
      "source": [
        "from tqdm.auto import tqdm\n",
        "import numpy as np\n",
        "#\n",
        "chunks = data[\"chunk\"]\n",
        "batch_size =  256\n",
        "for i in tqdm(range(0,len(chunks),batch_size)):\n",
        "  i_end  = min(len(chunks),i+batch_size)\n",
        "  chunk_batch = chunks[i:i_end]\n",
        "  # embed current batch\n",
        "  embed_batch = embed(chunk_batch)\n",
        "  # add to existing np array if exists\n",
        "  if i == 0:\n",
        "    arr = np.array(embed_batch)\n",
        "  else:\n",
        "    arr = np.concatenate([arr,np.array(embed_batch)])\n"
      ],
      "metadata": {
        "colab": {
          "base_uri": "https://localhost:8080/",
          "height": 49,
          "referenced_widgets": [
            "8b3e5c286aef492e9c55bea00ded706e",
            "87824f31f09c4011959201e0505e2da3",
            "718b10a9872d4ddba9b821de5959f19c",
            "b2269f55a26c4dcf9cb2109e0dac6396",
            "9f625efe91424627b9a25172ef6d33ae",
            "54dcf746fcb04860b368ccb0362bbeba",
            "6eaa4e04d7b047a5b1b3beddc6d4e7c9",
            "7eb2d3d25a964b36bac6238ff9d87b7b",
            "361154f1f5db49b9a7db37ed93701d91",
            "da6dcb5136104b53b5fa562c1b61eb62",
            "2c4f10299bbb4bd0ac846301724ad3d1"
          ]
        },
        "id": "uJfuu7bpc9xJ",
        "outputId": "96182725-b888-4538-b321-98a35a3e49c9"
      },
      "execution_count": null,
      "outputs": [
        {
          "output_type": "display_data",
          "data": {
            "text/plain": [
              "  0%|          | 0/163 [00:00<?, ?it/s]"
            ],
            "application/vnd.jupyter.widget-view+json": {
              "version_major": 2,
              "version_minor": 0,
              "model_id": "8b3e5c286aef492e9c55bea00ded706e"
            }
          },
          "metadata": {}
        }
      ]
    },
    {
      "cell_type": "code",
      "source": [
        "arr.shape"
      ],
      "metadata": {
        "colab": {
          "base_uri": "https://localhost:8080/"
        },
        "id": "rZA9qGCRjLLw",
        "outputId": "08395964-4dd4-4bea-80bc-5f6844c4a1cf"
      },
      "execution_count": null,
      "outputs": [
        {
          "output_type": "execute_result",
          "data": {
            "text/plain": [
              "(41584, 1536)"
            ]
          },
          "metadata": {},
          "execution_count": 15
        }
      ]
    },
    {
      "cell_type": "markdown",
      "source": [
        "## Build a query mechanism"
      ],
      "metadata": {
        "id": "AoBg20Cukaue"
      }
    },
    {
      "cell_type": "code",
      "source": [
        "from numpy.linalg import norm\n",
        "#\n",
        "#convert chunks list to array for easy indexing\n",
        "chunk_arr = np.array(chunks)\n",
        "#\n",
        "def query(text:str,top_k: int=3) -> list[str]:\n",
        "  #create query embedding\n",
        "  res = openai.Embedding.create(input=text,model=\"text-embedding-ada-002\")\n",
        "  xq = np.array(res.data[0].embedding)\n",
        "  #calculate dot product similarity\n",
        "  sim = np.dot(arr,xq.T)\n",
        "  #get indices of top k records\n",
        "  idx = np.argpartition(sim,-top_k)[-top_k:]\n",
        "  print(sim[idx])\n",
        "  docs = chunk_arr[idx]\n",
        "  print(docs.shape)\n",
        "  for d in docs.tolist():\n",
        "    print(d)\n",
        "    print(\"----------------------\")\n"
      ],
      "metadata": {
        "id": "L2mOTl3Ckd0S"
      },
      "execution_count": null,
      "outputs": []
    },
    {
      "cell_type": "code",
      "source": [
        "query(\"why should i use llama 2\")"
      ],
      "metadata": {
        "colab": {
          "base_uri": "https://localhost:8080/"
        },
        "id": "RHKEcTeTnsMG",
        "outputId": "73ce9265-b4c1-40cd-978d-c21b779c6834"
      },
      "execution_count": null,
      "outputs": [
        {
          "output_type": "stream",
          "name": "stdout",
          "text": [
            "[0.78111972 0.8172689  0.81056528]\n",
            "(3,)\n",
            "models will be released as we improve model safety with community feedback.\n",
            "License A custom commercial license is available at: ai.meta.com/resources/\n",
            "models-and-libraries/llama-downloads/\n",
            "Where to send commentsInstructions on how to provide feedback or comments on the model can be\n",
            "found in the model README, or by opening an issue in the GitHub repository\n",
            "(https://github.com/facebookresearch/llama/ ).\n",
            "Intended Use\n",
            "Intended Use Cases L/l.sc/a.sc/m.sc/a.sc /two.taboldstyle is intended for commercial and research use in English. Tuned models\n",
            "are intended for assistant-like chat, whereas pretrained models can be adapted\n",
            "for a variety of natural language generation tasks.\n",
            "Out-of-Scope Uses Use in any manner that violates applicable laws or regulations (including trade\n",
            "compliancelaws). UseinlanguagesotherthanEnglish. Useinanyotherway\n",
            "that is prohibited by the Acceptable Use Policy and Licensing Agreement for\n",
            "L/l.sc/a.sc/m.sc/a.sc /two.taboldstyle.\n",
            "Hardware and Software (Section 2.2)\n",
            "Training Factors We usedcustomtraininglibraries, Meta’sResearchSuperCluster, andproductionclustersforpretraining. Fine-tuning,annotation,andevaluationwerealso\n",
            "----------------------\n",
            "asChatGPT,BARD,andClaude. TheseclosedproductLLMsareheavilyﬁne-tunedtoalignwithhuman\n",
            "preferences, which greatly enhances their usability and safety. This step can require signiﬁcant costs in\n",
            "computeandhumanannotation,andisoftennottransparentoreasilyreproducible,limitingprogresswithin\n",
            "the community to advance AI alignment research.\n",
            "In this work, we develop and release Llama 2, a family of pretrained and ﬁne-tuned LLMs, L/l.sc/a.sc/m.sc/a.sc /two.taboldstyle and\n",
            "L/l.sc/a.sc/m.sc/a.sc /two.taboldstyle-C/h.sc/a.sc/t.sc , at scales up to 70B parameters. On the series of helpfulness and safety benchmarks we tested,\n",
            "L/l.sc/a.sc/m.sc/a.sc /two.taboldstyle-C/h.sc/a.sc/t.sc models generally perform better than existing open-source models. They also appear to\n",
            "be on par with some of the closed-source models, at least on the human evaluations we performed (see\n",
            "----------------------\n",
            "Alan Schelten Ruan Silva Eric Michael Smith Ranjan Subramanian Xiaoqing Ellen Tan Binh Tang\n",
            "Ross Taylor Adina Williams Jian Xiang Kuan Puxin Xu Zheng Yan Iliyan Zarov Yuchen Zhang\n",
            "Angela Fan Melanie Kambadur Sharan Narang Aurelien Rodriguez Robert Stojnic\n",
            "Sergey Edunov Thomas Scialom\u0003\n",
            "GenAI, Meta\n",
            "Abstract\n",
            "In this work, we develop and release Llama 2, a collection of pretrained and ﬁne-tuned\n",
            "large language models (LLMs) ranging in scale from 7 billion to 70 billion parameters.\n",
            "Our ﬁne-tuned LLMs, called L/l.sc/a.sc/m.sc/a.sc /two.taboldstyle-C/h.sc/a.sc/t.sc , are optimized for dialogue use cases. Our\n",
            "models outperform open-source chat models on most benchmarks we tested, and based on\n",
            "ourhumanevaluationsforhelpfulnessandsafety,maybeasuitablesubstituteforclosedsource models. We provide a detailed description of our approach to ﬁne-tuning and safety\n",
            "----------------------\n"
          ]
        }
      ]
    },
    {
      "cell_type": "code",
      "source": [
        "query(\"what is the difference between gpt-4 and llama 2?\")"
      ],
      "metadata": {
        "colab": {
          "base_uri": "https://localhost:8080/"
        },
        "id": "hTrDRlQRoARz",
        "outputId": "27eb92d4-1870-411d-97fc-6d7dcdf9fab8"
      },
      "execution_count": null,
      "outputs": [
        {
          "output_type": "stream",
          "name": "stdout",
          "text": [
            "[0.82866045 0.84211606 0.84723095]\n",
            "(3,)\n",
            "31.39%LLaMA-GPT4 \n",
            " 25.99%\n",
            "Tie \n",
            " 42.61%\n",
            "HonestyAlpaca \n",
            "  25.43%LLaMA-GPT4 \n",
            " 16.48%\n",
            "Tie \n",
            " 58.10%\n",
            "Harmlessness(a) LLaMA-GPT4 vs Alpaca ( i.e.,LLaMA-GPT3 )\n",
            " GPT4 \n",
            "  44.11%\n",
            "LLaMA-GPT4 \n",
            " 42.78% Tie \n",
            " 13.11%\n",
            "Helpfulness GPT4 \n",
            "  37.48%\n",
            "LLaMA-GPT4 \n",
            " 37.88% Tie \n",
            " 24.64%\n",
            "Honesty GPT4 \n",
            "  35.36% LLaMA-GPT4 \n",
            " 31.66% Tie \n",
            " 32.98%\n",
            "Harmlessness\n",
            "(b) LLaMA-GPT4 vs GPT-4\n",
            "Figure 3: Human evaluation.\n",
            "4.2 H UMAN EVALUATION WITH ALIGNMENT CRITERIA\n",
            "To evaluate the alignment quality of our instruction-tuned LLMs, we follow alignment criteria from\n",
            "Anthropic Askell et al. (2021): an assistant is aligned if it is helpful, honest, and harmless (HHH).\n",
            "----------------------\n",
            "(ii)For GPT-4 results alone, the translated responses show superior performance over the generated\n",
            "response in Chinese, probably because GPT-4 is trained in richer English corpus than Chinese, which\n",
            "leads to stronger English instruction-following ability. In Figure 5 (c), we show results for all models\n",
            "who are asked to answer in Chinese.\n",
            "We compare LLaMA-GPT4 with GPT-4 and Alpaca unnatural instructions in Figure 6. In terms of the\n",
            "average ROUGE-L scores, Alpaca outperforms the other two models. We note that LLaMA-GPT4 and\n",
            "GPT4 is gradually performing better when the ground truth response length is increasing, eventually\n",
            "showing higher performance when the length is longer than 4. This means that they can better follow\n",
            "instructions when the scenarios are more creative. Across different subsets, LLaMA-GPT4 can\n",
            "7\n",
            "0-2 3-5 6-10 10>\n",
            "Groundtruth Response Length0.30.40.5RougeL\n",
            "-0.043\n",
            "-0.009+0.0132-0.004 +0.0562\n",
            "+0.0387-0.012\n",
            "----------------------\n",
            "to GPT-3 corresponds to the Stanford Alpaca model. From Figure 3(a), we observe that ( i) For the\n",
            "“Helpfulness” criterion, GPT-4 is the clear winner with 54.12% of the votes. GPT-3 only wins 19.74%\n",
            "of the time. ( ii) For the “Honesty” and “Harmlessness” criteria, the largest portion of votes goes\n",
            "to the tie category, which is substantially higher than the winning categories but GPT-3 (Alpaca) is\n",
            "slightly superior.\n",
            "Second, we compare GPT-4-instruction-tuned LLaMA models against the teacher model GPT-4 in\n",
            "Figure 3(b). The observations are quite consistent over the three criteria: GPT-4-instruction-tuned\n",
            "LLaMA performs similarly to the original GPT-4. We conclude that learning from GPT-4 generated\n",
            "5\n",
            "60% 70% 80% 90% 100%12345BRanking Group 94% 624 : 66792% 614 : 67091% 623 : 68289% 597 : 66989% 605 : 67891% 609 : 666\n",
            "----------------------\n"
          ]
        }
      ]
    },
    {
      "cell_type": "markdown",
      "source": [
        "#### 2. Cohere Embeddings"
      ],
      "metadata": {
        "id": "ikv332a_i-Pj"
      }
    },
    {
      "cell_type": "code",
      "source": [
        "from tqdm.auto import tqdm\n",
        "import numpy as np\n",
        "#\n",
        "chunks = data[\"chunk\"]\n",
        "batch_size =  15000\n",
        "for i in tqdm(range(0,len(chunks),batch_size)):\n",
        "  i_end  = min(len(chunks),i+batch_size)\n",
        "  chunk_batch = chunks[i:i_end]\n",
        "  # embed current batch\n",
        "  embed_batch = cohere_embed(chunk_batch)\n",
        "  # add to existing np array if exists\n",
        "  if i == 0:\n",
        "    arr = np.array(embed_batch)\n",
        "  else:\n",
        "    arr = np.concatenate([arr,np.array(embed_batch)])\n"
      ],
      "metadata": {
        "colab": {
          "base_uri": "https://localhost:8080/",
          "height": 422,
          "referenced_widgets": [
            "071c60ba122c48bba91b5e9683ad3d4e",
            "5f832e785ab74e0495bff108a0c05c48",
            "9a661f0b318a4befbcf0dc66a2c37d4b",
            "d289476c1693443baf34e021547280d2",
            "ebd11f5cb94e44a5bbac356666bd6f6b",
            "556b357ff5164e34a22133eddc8d6845",
            "5f31a1ff287843698d7e3a0d7371746d",
            "d254f611e9464f46a4c61ea908fbe86e",
            "d7002c632b3a4a9283f6e37f18a318ba",
            "c8ee4d9d21c645e0b05f2cf425bf93e8",
            "a9f4b3b605e04b6383fd3f928ba9ff3b"
          ]
        },
        "id": "uGJ-ycoQbXaY",
        "outputId": "140ef37f-6c3d-4963-9d59-51b1e3be67e1"
      },
      "execution_count": null,
      "outputs": [
        {
          "output_type": "display_data",
          "data": {
            "text/plain": [
              "  0%|          | 0/3 [00:00<?, ?it/s]"
            ],
            "application/vnd.jupyter.widget-view+json": {
              "version_major": 2,
              "version_minor": 0,
              "model_id": "071c60ba122c48bba91b5e9683ad3d4e"
            }
          },
          "metadata": {}
        },
        {
          "output_type": "error",
          "ename": "KeyboardInterrupt",
          "evalue": "ignored",
          "traceback": [
            "\u001b[0;31m---------------------------------------------------------------------------\u001b[0m",
            "\u001b[0;31mKeyboardInterrupt\u001b[0m                         Traceback (most recent call last)",
            "\u001b[0;32m<ipython-input-23-ffd316e3e0e9>\u001b[0m in \u001b[0;36m<cell line: 6>\u001b[0;34m()\u001b[0m\n\u001b[1;32m      8\u001b[0m   \u001b[0mchunk_batch\u001b[0m \u001b[0;34m=\u001b[0m \u001b[0mchunks\u001b[0m\u001b[0;34m[\u001b[0m\u001b[0mi\u001b[0m\u001b[0;34m:\u001b[0m\u001b[0mi_end\u001b[0m\u001b[0;34m]\u001b[0m\u001b[0;34m\u001b[0m\u001b[0;34m\u001b[0m\u001b[0m\n\u001b[1;32m      9\u001b[0m   \u001b[0;31m# embed current batch\u001b[0m\u001b[0;34m\u001b[0m\u001b[0;34m\u001b[0m\u001b[0m\n\u001b[0;32m---> 10\u001b[0;31m   \u001b[0membed_batch\u001b[0m \u001b[0;34m=\u001b[0m \u001b[0mcohere_embed\u001b[0m\u001b[0;34m(\u001b[0m\u001b[0mchunk_batch\u001b[0m\u001b[0;34m)\u001b[0m\u001b[0;34m\u001b[0m\u001b[0;34m\u001b[0m\u001b[0m\n\u001b[0m\u001b[1;32m     11\u001b[0m   \u001b[0;31m# add to existing np array if exists\u001b[0m\u001b[0;34m\u001b[0m\u001b[0;34m\u001b[0m\u001b[0m\n\u001b[1;32m     12\u001b[0m   \u001b[0;32mif\u001b[0m \u001b[0mi\u001b[0m \u001b[0;34m==\u001b[0m \u001b[0;36m0\u001b[0m\u001b[0;34m:\u001b[0m\u001b[0;34m\u001b[0m\u001b[0;34m\u001b[0m\u001b[0m\n",
            "\u001b[0;32m<ipython-input-5-a9da37652a97>\u001b[0m in \u001b[0;36mcohere_embed\u001b[0;34m(docs)\u001b[0m\n\u001b[1;32m      6\u001b[0m \u001b[0;31m#\u001b[0m\u001b[0;34m\u001b[0m\u001b[0;34m\u001b[0m\u001b[0m\n\u001b[1;32m      7\u001b[0m \u001b[0;32mdef\u001b[0m \u001b[0mcohere_embed\u001b[0m\u001b[0;34m(\u001b[0m\u001b[0mdocs\u001b[0m\u001b[0;34m:\u001b[0m\u001b[0mlist\u001b[0m\u001b[0;34m[\u001b[0m\u001b[0mstr\u001b[0m\u001b[0;34m]\u001b[0m\u001b[0;34m)\u001b[0m \u001b[0;34m->\u001b[0m \u001b[0mlist\u001b[0m\u001b[0;34m[\u001b[0m\u001b[0mlist\u001b[0m\u001b[0;34m[\u001b[0m\u001b[0mfloat\u001b[0m\u001b[0;34m]\u001b[0m\u001b[0;34m]\u001b[0m\u001b[0;34m:\u001b[0m\u001b[0;34m\u001b[0m\u001b[0;34m\u001b[0m\u001b[0m\n\u001b[0;32m----> 8\u001b[0;31m   doc_embeds = co.embed(docs,\n\u001b[0m\u001b[1;32m      9\u001b[0m                         \u001b[0minput_type\u001b[0m\u001b[0;34m=\u001b[0m\u001b[0;34m\"search_document\"\u001b[0m\u001b[0;34m,\u001b[0m\u001b[0;34m\u001b[0m\u001b[0;34m\u001b[0m\u001b[0m\n\u001b[1;32m     10\u001b[0m                         model='embed-english-v3.0')\n",
            "\u001b[0;32m/usr/local/lib/python3.10/dist-packages/cohere/client.py\u001b[0m in \u001b[0;36membed\u001b[0;34m(self, texts, model, truncate, compression, input_type)\u001b[0m\n\u001b[1;32m    425\u001b[0m \u001b[0;34m\u001b[0m\u001b[0m\n\u001b[1;32m    426\u001b[0m         \u001b[0mmeta\u001b[0m \u001b[0;34m=\u001b[0m \u001b[0;32mNone\u001b[0m\u001b[0;34m\u001b[0m\u001b[0;34m\u001b[0m\u001b[0m\n\u001b[0;32m--> 427\u001b[0;31m         \u001b[0;32mfor\u001b[0m \u001b[0mresult\u001b[0m \u001b[0;32min\u001b[0m \u001b[0mself\u001b[0m\u001b[0;34m.\u001b[0m\u001b[0m_executor\u001b[0m\u001b[0;34m.\u001b[0m\u001b[0mmap\u001b[0m\u001b[0;34m(\u001b[0m\u001b[0;32mlambda\u001b[0m \u001b[0mjson_body\u001b[0m\u001b[0;34m:\u001b[0m \u001b[0mself\u001b[0m\u001b[0;34m.\u001b[0m\u001b[0m_request\u001b[0m\u001b[0;34m(\u001b[0m\u001b[0mcohere\u001b[0m\u001b[0;34m.\u001b[0m\u001b[0mEMBED_URL\u001b[0m\u001b[0;34m,\u001b[0m \u001b[0mjson\u001b[0m\u001b[0;34m=\u001b[0m\u001b[0mjson_body\u001b[0m\u001b[0;34m)\u001b[0m\u001b[0;34m,\u001b[0m \u001b[0mjson_bodys\u001b[0m\u001b[0;34m)\u001b[0m\u001b[0;34m:\u001b[0m\u001b[0;34m\u001b[0m\u001b[0;34m\u001b[0m\u001b[0m\n\u001b[0m\u001b[1;32m    428\u001b[0m             \u001b[0mresponses\u001b[0m\u001b[0;34m[\u001b[0m\u001b[0;34m\"embeddings\"\u001b[0m\u001b[0;34m]\u001b[0m\u001b[0;34m.\u001b[0m\u001b[0mextend\u001b[0m\u001b[0;34m(\u001b[0m\u001b[0mresult\u001b[0m\u001b[0;34m[\u001b[0m\u001b[0;34m\"embeddings\"\u001b[0m\u001b[0;34m]\u001b[0m\u001b[0;34m)\u001b[0m\u001b[0;34m\u001b[0m\u001b[0;34m\u001b[0m\u001b[0m\n\u001b[1;32m    429\u001b[0m             \u001b[0mresponses\u001b[0m\u001b[0;34m[\u001b[0m\u001b[0;34m\"compressed_embeddings\"\u001b[0m\u001b[0;34m]\u001b[0m\u001b[0;34m.\u001b[0m\u001b[0mextend\u001b[0m\u001b[0;34m(\u001b[0m\u001b[0mresult\u001b[0m\u001b[0;34m.\u001b[0m\u001b[0mget\u001b[0m\u001b[0;34m(\u001b[0m\u001b[0;34m\"compressed_embeddings\"\u001b[0m\u001b[0;34m,\u001b[0m \u001b[0;34m[\u001b[0m\u001b[0;34m]\u001b[0m\u001b[0;34m)\u001b[0m\u001b[0;34m)\u001b[0m\u001b[0;34m\u001b[0m\u001b[0;34m\u001b[0m\u001b[0m\n",
            "\u001b[0;32m/usr/lib/python3.10/concurrent/futures/_base.py\u001b[0m in \u001b[0;36mresult_iterator\u001b[0;34m()\u001b[0m\n\u001b[1;32m    619\u001b[0m                     \u001b[0;31m# Careful not to keep a reference to the popped future\u001b[0m\u001b[0;34m\u001b[0m\u001b[0;34m\u001b[0m\u001b[0m\n\u001b[1;32m    620\u001b[0m                     \u001b[0;32mif\u001b[0m \u001b[0mtimeout\u001b[0m \u001b[0;32mis\u001b[0m \u001b[0;32mNone\u001b[0m\u001b[0;34m:\u001b[0m\u001b[0;34m\u001b[0m\u001b[0;34m\u001b[0m\u001b[0m\n\u001b[0;32m--> 621\u001b[0;31m                         \u001b[0;32myield\u001b[0m \u001b[0m_result_or_cancel\u001b[0m\u001b[0;34m(\u001b[0m\u001b[0mfs\u001b[0m\u001b[0;34m.\u001b[0m\u001b[0mpop\u001b[0m\u001b[0;34m(\u001b[0m\u001b[0;34m)\u001b[0m\u001b[0;34m)\u001b[0m\u001b[0;34m\u001b[0m\u001b[0;34m\u001b[0m\u001b[0m\n\u001b[0m\u001b[1;32m    622\u001b[0m                     \u001b[0;32melse\u001b[0m\u001b[0;34m:\u001b[0m\u001b[0;34m\u001b[0m\u001b[0;34m\u001b[0m\u001b[0m\n\u001b[1;32m    623\u001b[0m                         \u001b[0;32myield\u001b[0m \u001b[0m_result_or_cancel\u001b[0m\u001b[0;34m(\u001b[0m\u001b[0mfs\u001b[0m\u001b[0;34m.\u001b[0m\u001b[0mpop\u001b[0m\u001b[0;34m(\u001b[0m\u001b[0;34m)\u001b[0m\u001b[0;34m,\u001b[0m \u001b[0mend_time\u001b[0m \u001b[0;34m-\u001b[0m \u001b[0mtime\u001b[0m\u001b[0;34m.\u001b[0m\u001b[0mmonotonic\u001b[0m\u001b[0;34m(\u001b[0m\u001b[0;34m)\u001b[0m\u001b[0;34m)\u001b[0m\u001b[0;34m\u001b[0m\u001b[0;34m\u001b[0m\u001b[0m\n",
            "\u001b[0;32m/usr/lib/python3.10/concurrent/futures/_base.py\u001b[0m in \u001b[0;36m_result_or_cancel\u001b[0;34m(***failed resolving arguments***)\u001b[0m\n\u001b[1;32m    317\u001b[0m     \u001b[0;32mtry\u001b[0m\u001b[0;34m:\u001b[0m\u001b[0;34m\u001b[0m\u001b[0;34m\u001b[0m\u001b[0m\n\u001b[1;32m    318\u001b[0m         \u001b[0;32mtry\u001b[0m\u001b[0;34m:\u001b[0m\u001b[0;34m\u001b[0m\u001b[0;34m\u001b[0m\u001b[0m\n\u001b[0;32m--> 319\u001b[0;31m             \u001b[0;32mreturn\u001b[0m \u001b[0mfut\u001b[0m\u001b[0;34m.\u001b[0m\u001b[0mresult\u001b[0m\u001b[0;34m(\u001b[0m\u001b[0mtimeout\u001b[0m\u001b[0;34m)\u001b[0m\u001b[0;34m\u001b[0m\u001b[0;34m\u001b[0m\u001b[0m\n\u001b[0m\u001b[1;32m    320\u001b[0m         \u001b[0;32mfinally\u001b[0m\u001b[0;34m:\u001b[0m\u001b[0;34m\u001b[0m\u001b[0;34m\u001b[0m\u001b[0m\n\u001b[1;32m    321\u001b[0m             \u001b[0mfut\u001b[0m\u001b[0;34m.\u001b[0m\u001b[0mcancel\u001b[0m\u001b[0;34m(\u001b[0m\u001b[0;34m)\u001b[0m\u001b[0;34m\u001b[0m\u001b[0;34m\u001b[0m\u001b[0m\n",
            "\u001b[0;32m/usr/lib/python3.10/concurrent/futures/_base.py\u001b[0m in \u001b[0;36mresult\u001b[0;34m(self, timeout)\u001b[0m\n\u001b[1;32m    451\u001b[0m                     \u001b[0;32mreturn\u001b[0m \u001b[0mself\u001b[0m\u001b[0;34m.\u001b[0m\u001b[0m__get_result\u001b[0m\u001b[0;34m(\u001b[0m\u001b[0;34m)\u001b[0m\u001b[0;34m\u001b[0m\u001b[0;34m\u001b[0m\u001b[0m\n\u001b[1;32m    452\u001b[0m \u001b[0;34m\u001b[0m\u001b[0m\n\u001b[0;32m--> 453\u001b[0;31m                 \u001b[0mself\u001b[0m\u001b[0;34m.\u001b[0m\u001b[0m_condition\u001b[0m\u001b[0;34m.\u001b[0m\u001b[0mwait\u001b[0m\u001b[0;34m(\u001b[0m\u001b[0mtimeout\u001b[0m\u001b[0;34m)\u001b[0m\u001b[0;34m\u001b[0m\u001b[0;34m\u001b[0m\u001b[0m\n\u001b[0m\u001b[1;32m    454\u001b[0m \u001b[0;34m\u001b[0m\u001b[0m\n\u001b[1;32m    455\u001b[0m                 \u001b[0;32mif\u001b[0m \u001b[0mself\u001b[0m\u001b[0;34m.\u001b[0m\u001b[0m_state\u001b[0m \u001b[0;32min\u001b[0m \u001b[0;34m[\u001b[0m\u001b[0mCANCELLED\u001b[0m\u001b[0;34m,\u001b[0m \u001b[0mCANCELLED_AND_NOTIFIED\u001b[0m\u001b[0;34m]\u001b[0m\u001b[0;34m:\u001b[0m\u001b[0;34m\u001b[0m\u001b[0;34m\u001b[0m\u001b[0m\n",
            "\u001b[0;32m/usr/lib/python3.10/threading.py\u001b[0m in \u001b[0;36mwait\u001b[0;34m(self, timeout)\u001b[0m\n\u001b[1;32m    318\u001b[0m         \u001b[0;32mtry\u001b[0m\u001b[0;34m:\u001b[0m    \u001b[0;31m# restore state no matter what (e.g., KeyboardInterrupt)\u001b[0m\u001b[0;34m\u001b[0m\u001b[0;34m\u001b[0m\u001b[0m\n\u001b[1;32m    319\u001b[0m             \u001b[0;32mif\u001b[0m \u001b[0mtimeout\u001b[0m \u001b[0;32mis\u001b[0m \u001b[0;32mNone\u001b[0m\u001b[0;34m:\u001b[0m\u001b[0;34m\u001b[0m\u001b[0;34m\u001b[0m\u001b[0m\n\u001b[0;32m--> 320\u001b[0;31m                 \u001b[0mwaiter\u001b[0m\u001b[0;34m.\u001b[0m\u001b[0macquire\u001b[0m\u001b[0;34m(\u001b[0m\u001b[0;34m)\u001b[0m\u001b[0;34m\u001b[0m\u001b[0;34m\u001b[0m\u001b[0m\n\u001b[0m\u001b[1;32m    321\u001b[0m                 \u001b[0mgotit\u001b[0m \u001b[0;34m=\u001b[0m \u001b[0;32mTrue\u001b[0m\u001b[0;34m\u001b[0m\u001b[0;34m\u001b[0m\u001b[0m\n\u001b[1;32m    322\u001b[0m             \u001b[0;32melse\u001b[0m\u001b[0;34m:\u001b[0m\u001b[0;34m\u001b[0m\u001b[0;34m\u001b[0m\u001b[0m\n",
            "\u001b[0;31mKeyboardInterrupt\u001b[0m: "
          ]
        }
      ]
    },
    {
      "cell_type": "markdown",
      "source": [
        "#### HF embeddings"
      ],
      "metadata": {
        "id": "w2yzHWh3qstB"
      }
    },
    {
      "cell_type": "code",
      "source": [
        "from tqdm.auto import tqdm\n",
        "import numpy as np\n",
        "#\n",
        "chunks = data[\"chunk\"]\n",
        "batch_size =  256\n",
        "for i in tqdm(range(0,len(chunks),batch_size)):\n",
        "  i_end = min(len(chunks),i+batch_size)\n",
        "  chunk_batch = chunks[i:i_end]\n",
        "  # embed current batch\n",
        "  embed_batch = hf_embed(chunk_batch)\n",
        "  # add to existing np array if exists\n",
        "  if i == 0:\n",
        "    hf_arr = embed_batch.copy()\n",
        "  else:\n",
        "    hf_arr = np.concatenate([arr,embed_batch.copy()])\n"
      ],
      "metadata": {
        "colab": {
          "base_uri": "https://localhost:8080/",
          "height": 294,
          "referenced_widgets": [
            "37ddb0cf9c93422bab8332eac1745de7",
            "189a6d92e653454db73238b2d263d0e7",
            "fdb26395c8414ed9a4b331a346f759ce",
            "3285c43493544dce854f3250176029aa",
            "eea6928ac06740919ee0145d1b4c49c5",
            "37df624d80c142b6b3807dde57d7ef16",
            "73cd38374953444281fa19557748a49d",
            "4d15d3c028544d79aecf30fb84434e50",
            "27870c79d2f44d9bafbe59df701998ff",
            "9c1623451d8347fe90442d6124bc51e4",
            "b1763595f60047169a8395170a716486"
          ]
        },
        "id": "_eVn-h_rqywa",
        "outputId": "cc49313b-d5d0-4326-8603-e6e0cb6095a2"
      },
      "execution_count": null,
      "outputs": [
        {
          "output_type": "display_data",
          "data": {
            "text/plain": [
              "  0%|          | 0/163 [00:00<?, ?it/s]"
            ],
            "application/vnd.jupyter.widget-view+json": {
              "version_major": 2,
              "version_minor": 0,
              "model_id": "37ddb0cf9c93422bab8332eac1745de7"
            }
          },
          "metadata": {}
        },
        {
          "output_type": "error",
          "ename": "ValueError",
          "evalue": "ignored",
          "traceback": [
            "\u001b[0;31m---------------------------------------------------------------------------\u001b[0m",
            "\u001b[0;31mValueError\u001b[0m                                Traceback (most recent call last)",
            "\u001b[0;32m<ipython-input-24-69de05a30ab5>\u001b[0m in \u001b[0;36m<cell line: 6>\u001b[0;34m()\u001b[0m\n\u001b[1;32m     13\u001b[0m     \u001b[0mhf_arr\u001b[0m \u001b[0;34m=\u001b[0m \u001b[0membed_batch\u001b[0m\u001b[0;34m.\u001b[0m\u001b[0mcopy\u001b[0m\u001b[0;34m(\u001b[0m\u001b[0;34m)\u001b[0m\u001b[0;34m\u001b[0m\u001b[0;34m\u001b[0m\u001b[0m\n\u001b[1;32m     14\u001b[0m   \u001b[0;32melse\u001b[0m\u001b[0;34m:\u001b[0m\u001b[0;34m\u001b[0m\u001b[0;34m\u001b[0m\u001b[0m\n\u001b[0;32m---> 15\u001b[0;31m     \u001b[0mhf_arr\u001b[0m \u001b[0;34m=\u001b[0m \u001b[0mnp\u001b[0m\u001b[0;34m.\u001b[0m\u001b[0mconcatenate\u001b[0m\u001b[0;34m(\u001b[0m\u001b[0;34m[\u001b[0m\u001b[0marr\u001b[0m\u001b[0;34m,\u001b[0m\u001b[0membed_batch\u001b[0m\u001b[0;34m.\u001b[0m\u001b[0mcopy\u001b[0m\u001b[0;34m(\u001b[0m\u001b[0;34m)\u001b[0m\u001b[0;34m]\u001b[0m\u001b[0;34m)\u001b[0m\u001b[0;34m\u001b[0m\u001b[0;34m\u001b[0m\u001b[0m\n\u001b[0m",
            "\u001b[0;32m/usr/local/lib/python3.10/dist-packages/numpy/core/overrides.py\u001b[0m in \u001b[0;36mconcatenate\u001b[0;34m(*args, **kwargs)\u001b[0m\n",
            "\u001b[0;31mValueError\u001b[0m: all the input array dimensions for the concatenation axis must match exactly, but along dimension 1, the array at index 0 has size 1536 and the array at index 1 has size 768"
          ]
        }
      ]
    },
    {
      "cell_type": "markdown",
      "source": [
        "####HF-create query mechanism"
      ],
      "metadata": {
        "id": "zygbIhANrOWo"
      }
    },
    {
      "cell_type": "code",
      "source": [
        "from numpy,linalg import norm\n",
        "#\n",
        "#convert chunks list to array for easy indexing\n",
        "chunk_arr = np.array(chunks)\n",
        "#\n",
        "def query(text:str,top_k: int=3) -> list[str]:\n",
        "  #create query embedding\n",
        "  xq = hf_embed([f\"query: {text}\"])[0]\n",
        "  #calculate cosine similarities\n",
        "  sim = np.dot(hf_arr,xq.T) / (norm(arr,axis=1) * norm(xq.T))\n",
        "  #get indices of top k records\n",
        "  idx = np.argpartition(sim,-top_k)[-top_k:]\n",
        "  docs = chunk_arr[idx]\n",
        "  for d in docs.tolist():\n",
        "    print(d)\n",
        "    print(\"----------------------\")\n"
      ],
      "metadata": {
        "id": "_Y79v0SlrRzN"
      },
      "execution_count": null,
      "outputs": []
    },
    {
      "cell_type": "markdown",
      "source": [
        "3."
      ],
      "metadata": {
        "id": "EQS3d5gXj991"
      }
    }
  ]
}