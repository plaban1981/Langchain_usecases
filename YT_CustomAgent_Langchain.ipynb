{
  "nbformat": 4,
  "nbformat_minor": 0,
  "metadata": {
    "colab": {
      "provenance": [],
      "include_colab_link": true
    },
    "kernelspec": {
      "name": "python3",
      "display_name": "Python 3"
    },
    "language_info": {
      "name": "python"
    }
  },
  "cells": [
    {
      "cell_type": "markdown",
      "metadata": {
        "id": "view-in-github",
        "colab_type": "text"
      },
      "source": [
        "<a href=\"https://colab.research.google.com/github/plaban1981/Langchain_usecases/blob/main/YT_CustomAgent_Langchain.ipynb\" target=\"_parent\"><img src=\"https://colab.research.google.com/assets/colab-badge.svg\" alt=\"Open In Colab\"/></a>"
      ]
    },
    {
      "cell_type": "code",
      "execution_count": null,
      "metadata": {
        "id": "RRYSu48huSUW"
      },
      "outputs": [],
      "source": [
        "!pip -q install langchain tiktoken duckduckgo-search"
      ]
    },
    {
      "cell_type": "code",
      "source": [
        "import os\n",
        "\n",
        "os.environ[\"OPENAI_API_KEY\"] = \"\""
      ],
      "metadata": {
        "id": "dNA4TsHpu6OM"
      },
      "execution_count": null,
      "outputs": []
    },
    {
      "cell_type": "code",
      "source": [
        "!pip show langchain"
      ],
      "metadata": {
        "id": "J-KFB7J_u_3L",
        "colab": {
          "base_uri": "https://localhost:8080/"
        },
        "outputId": "f7afb265-b9c1-4f63-d583-59da99dccf48"
      },
      "execution_count": null,
      "outputs": [
        {
          "output_type": "stream",
          "name": "stdout",
          "text": [
            "Name: langchain\n",
            "Version: 0.0.191\n",
            "Summary: Building applications with LLMs through composability\n",
            "Home-page: https://www.github.com/hwchase17/langchain\n",
            "Author: \n",
            "Author-email: \n",
            "License: MIT\n",
            "Location: /usr/local/lib/python3.10/dist-packages\n",
            "Requires: aiohttp, async-timeout, dataclasses-json, numexpr, numpy, openapi-schema-pydantic, pydantic, PyYAML, requests, SQLAlchemy, tenacity\n",
            "Required-by: \n"
          ]
        }
      ]
    },
    {
      "cell_type": "markdown",
      "source": [
        "## Custom Agents with Custom Search\n",
        "\n",
        "\n"
      ],
      "metadata": {
        "id": "HqwsGJDhvAQ5"
      }
    },
    {
      "cell_type": "code",
      "source": [
        "from langchain.agents import Tool, AgentExecutor, LLMSingleActionAgent, AgentOutputParser\n",
        "from langchain.prompts import StringPromptTemplate\n",
        "\n",
        "from langchain import OpenAI, LLMChain\n",
        "from langchain.tools import DuckDuckGoSearchRun\n",
        "\n",
        "from typing import List, Union\n",
        "from langchain.schema import AgentAction, AgentFinish\n",
        "import re\n",
        "import langchain"
      ],
      "metadata": {
        "id": "nBKP5V4Aifx6"
      },
      "execution_count": null,
      "outputs": []
    },
    {
      "cell_type": "markdown",
      "source": [
        "## Setup Tools"
      ],
      "metadata": {
        "id": "5TTimfydoIM7"
      }
    },
    {
      "cell_type": "code",
      "source": [
        "# Define which tools the agent can use to answer user queries\n",
        "search = DuckDuckGoSearchRun()\n",
        "\n",
        "tools = [\n",
        "    Tool(\n",
        "        name = \"Search\",\n",
        "        func=search.run,\n",
        "        description=\"useful for when you need to answer questions about current events\"\n",
        "    )\n",
        "]"
      ],
      "metadata": {
        "id": "TfGnKlPun_S_"
      },
      "execution_count": null,
      "outputs": []
    },
    {
      "cell_type": "code",
      "source": [
        "obj = search.run(\"How can I treat a sprained ankle?\")\n",
        "type(obj)"
      ],
      "metadata": {
        "colab": {
          "base_uri": "https://localhost:8080/"
        },
        "id": "kBSNwtsktM7u",
        "outputId": "8c231b1d-06e6-45ab-a7bc-820b2f5189da"
      },
      "execution_count": null,
      "outputs": [
        {
          "output_type": "stream",
          "name": "stderr",
          "text": [
            "/usr/local/lib/python3.10/dist-packages/duckduckgo_search/compat.py:20: UserWarning: ddg is deprecated. Use DDGS().text() generator\n",
            "  warnings.warn(\"ddg is deprecated. Use DDGS().text() generator\")\n",
            "/usr/local/lib/python3.10/dist-packages/duckduckgo_search/compat.py:22: UserWarning: parameter time is deprecated, use parameter timelimit\n",
            "  warnings.warn(\"parameter time is deprecated, use parameter timelimit\")\n",
            "/usr/local/lib/python3.10/dist-packages/duckduckgo_search/compat.py:24: UserWarning: parameter page is deprecated, use DDGS().text() generator\n",
            "  warnings.warn(\"parameter page is deprecated, use DDGS().text() generator\")\n",
            "/usr/local/lib/python3.10/dist-packages/duckduckgo_search/compat.py:26: UserWarning: parameter max_results is deprecated, use DDGS().text()\n",
            "  warnings.warn(\"parameter max_results is deprecated, use DDGS().text()\")\n"
          ]
        },
        {
          "output_type": "execute_result",
          "data": {
            "text/plain": [
              "str"
            ]
          },
          "metadata": {},
          "execution_count": 6
        }
      ]
    },
    {
      "cell_type": "code",
      "source": [
        "obj"
      ],
      "metadata": {
        "colab": {
          "base_uri": "https://localhost:8080/",
          "height": 174
        },
        "id": "Mftlhq6-td0n",
        "outputId": "534f8944-a482-4f34-d8e5-6e0addcaab74"
      },
      "execution_count": null,
      "outputs": [
        {
          "output_type": "execute_result",
          "data": {
            "text/plain": [
              "'Sprained ankle — Injury to a ligament of the ankle can usually be treated with at-home care and appropriate exercises to get you back on your feet. This content does not have an English version. This content does not have an Arabic version. Skip to content Care at Mayo Clinic Care at Mayo Clinic About Mayo Clinic Request Appointment Find a Doctor Here\\'s how it works: Rest the ankle (use crutches if needed) Ice the ankle for 20 to 30 minutes every 2 to 3 hours for the first 2 days. Compress (wrap) the ankle lightly -- not tightly -- with ... At-home ankle sprain treatments. • Rest: The first step in treating a sprained ankle is to let it rest. Take the weight off it; try not to move it too much and consider crutches if the pain is bad enough. • Ice: Use ice or a cold pack on the affected area. Put some ice in a kitchen towel and place it on your foot for about 30 minutes. The early treatment for an ankle sprain is the \"RICE\" method of treatment. 2 This is focused on reducing swelling and reducing pain: Rest: The first 24 to 48 hours after the injury is considered a critical treatment period. Limit activities and use an assistive device, like a crutch, if you must walk. Sprains & Strains Ankle Sprains Information About a Sprained Ankle By Jonathan Cluett, MD Updated on February 12, 2023 Medically reviewed by Laura Campedelli, PT, DPT A sprained ankle occurs following a sudden sideways or twisting movement of the foot. An ankle sprain can occur during athletic events or during everyday activities.'"
            ],
            "application/vnd.google.colaboratory.intrinsic+json": {
              "type": "string"
            }
          },
          "metadata": {},
          "execution_count": 7
        }
      ]
    },
    {
      "cell_type": "code",
      "source": [
        "search.run(\"site:webmd.com How can I treat a sprained ankle?\")"
      ],
      "metadata": {
        "colab": {
          "base_uri": "https://localhost:8080/",
          "height": 174
        },
        "id": "WlCcoLLMtp3P",
        "outputId": "25ba4f95-ef6d-4676-a493-d28c6973b2f5"
      },
      "execution_count": null,
      "outputs": [
        {
          "output_type": "execute_result",
          "data": {
            "text/plain": [
              "\"Achilles Tendon Injury Symptoms. The most obvious sign is pain above your heel, especially when you stretch your ankle or stand on your toes. It may be mild and get better or worse over time. If ... Symptoms of muscle strain include: Swelling, bruising, or redness due to the injury. Pain at rest. Pain when the specific muscle or the joint in relation to that muscle is used. Weakness of the ... Ice. 3 /12. To curb swelling and pain in the first 24 hours after a minor injury, apply a cold compress for 20-30 minutes. Then remove it for 20-30 minutes. You can use a bag of frozen peas. Or ... Trauma to an area (jerking movements, auto accidents, falls, fractures, sprains, dislocations, and direct blows to the muscle) also can cause musculoskeletal pain. Other causes of pain include ... RICE. 2 /14. It stands for rest, ice, compress, and elevate, and it's the go-to treatment for minor sprains and bruising. Ice the injury as soon as possible and put pressure on it with an ...\""
            ],
            "application/vnd.google.colaboratory.intrinsic+json": {
              "type": "string"
            }
          },
          "metadata": {},
          "execution_count": 8
        }
      ]
    },
    {
      "cell_type": "code",
      "source": [
        "def duck_wrapper(input_text):\n",
        "    search_results = search.run(f\"site:webmd.com {input_text}\")\n",
        "    return search_results\n",
        "\n",
        "tools = [\n",
        "    Tool(\n",
        "        name = \"Search WebMD\",\n",
        "        func=duck_wrapper,\n",
        "        description=\"useful for when you need to answer medical and pharmalogical questions\"\n",
        "    )\n",
        "]"
      ],
      "metadata": {
        "id": "gqR4C-XSy46b"
      },
      "execution_count": null,
      "outputs": []
    },
    {
      "cell_type": "markdown",
      "source": [
        "## Prompt Template\n",
        "This instructs the agent on what to do. Generally, the template should incorporate:\n",
        "\n",
        "**`tools:`** which tools the agent has access and how and when to call them.\n",
        "\n",
        "**`intermediate_steps:`** These are tuples of previous (**`AgentAction`**, **`Observation`**) pairs. These are generally not passed directly to the model, but the prompt template formats them in a specific way.\n",
        "\n",
        "**`input:`** generic user input"
      ],
      "metadata": {
        "id": "BiTC5VdwoKpv"
      }
    },
    {
      "cell_type": "code",
      "source": [
        "# Set up the base template\n",
        "template = \"\"\"Answer the following questions as best you can, but speaking as compasionate medical professional. You have access to the following tools:\n",
        "\n",
        "{tools}\n",
        "\n",
        "Use the following format:\n",
        "\n",
        "Question: the input question you must answer\n",
        "Thought: you should always think about what to do\n",
        "Action: the action to take, should be one of [{tool_names}]\n",
        "Action Input: the input to the action\n",
        "Observation: the result of the action\n",
        "... (this Thought/Action/Action Input/Observation can repeat N times)\n",
        "Thought: I now know the final answer\n",
        "Final Answer: the final answer to the original input question\n",
        "\n",
        "Begin! Remember to answer as a compansionate medical professional when giving your final answer.\n",
        "\n",
        "Question: {input}\n",
        "{agent_scratchpad}\"\"\""
      ],
      "metadata": {
        "id": "5wJQ6rFxoTFS"
      },
      "execution_count": null,
      "outputs": []
    },
    {
      "cell_type": "code",
      "source": [
        "# Set up a prompt template\n",
        "class CustomPromptTemplate(StringPromptTemplate):\n",
        "    # The template to use\n",
        "    template: str\n",
        "    # The list of tools available\n",
        "    tools: List[Tool]\n",
        "\n",
        "    def format(self, **kwargs) -> str:\n",
        "        # Get the intermediate steps (AgentAction, Observation tuples)\n",
        "        # Format them in a particular way\n",
        "        intermediate_steps = kwargs.pop(\"intermediate_steps\")\n",
        "        thoughts = \"\"\n",
        "        for action, observation in intermediate_steps:\n",
        "            thoughts += action.log\n",
        "            thoughts += f\"\\nObservation: {observation}\\nThought: \"\n",
        "        # Set the agent_scratchpad variable to that value\n",
        "        kwargs[\"agent_scratchpad\"] = thoughts\n",
        "        # Create a tools variable from the list of tools provided\n",
        "        kwargs[\"tools\"] = \"\\n\".join([f\"{tool.name}: {tool.description}\" for tool in self.tools])\n",
        "        # Create a list of tool names for the tools provided\n",
        "        kwargs[\"tool_names\"] = \", \".join([tool.name for tool in self.tools])\n",
        "        return self.template.format(**kwargs)"
      ],
      "metadata": {
        "id": "DBGFU6eipdw-"
      },
      "execution_count": null,
      "outputs": []
    },
    {
      "cell_type": "code",
      "source": [
        "prompt = CustomPromptTemplate(\n",
        "    template=template,\n",
        "    tools=tools,\n",
        "    # This omits the `agent_scratchpad`, `tools`, and `tool_names` variables because those are generated dynamically\n",
        "    # This includes the `intermediate_steps` variable because that is needed\n",
        "    input_variables=[\"input\", \"intermediate_steps\"]\n",
        ")"
      ],
      "metadata": {
        "id": "fwau_HsGpjnv"
      },
      "execution_count": null,
      "outputs": []
    },
    {
      "cell_type": "markdown",
      "source": [
        "## Custom Output Parser\n",
        "The output parser is responsible for parsing the LLM output into AgentAction and AgentFinish. This usually depends heavily on the prompt used.\n",
        "\n",
        "This is where you can change the parsing to do retries, handle whitespace, etc"
      ],
      "metadata": {
        "id": "x7_Wy0A-ppyN"
      }
    },
    {
      "cell_type": "code",
      "source": [
        "class CustomOutputParser(AgentOutputParser):\n",
        "\n",
        "    def parse(self, llm_output: str) -> Union[AgentAction, AgentFinish]:\n",
        "        # Check if agent should finish\n",
        "        if \"Final Answer:\" in llm_output:\n",
        "            return AgentFinish(\n",
        "                # Return values is generally always a dictionary with a single `output` key\n",
        "                # It is not recommended to try anything else at the moment :)\n",
        "                return_values={\"output\": llm_output.split(\"Final Answer:\")[-1].strip()},\n",
        "                log=llm_output,\n",
        "            )\n",
        "        # Parse out the action and action input\n",
        "        regex = r\"Action\\s*\\d*\\s*:(.*?)\\nAction\\s*\\d*\\s*Input\\s*\\d*\\s*:[\\s]*(.*)\"\n",
        "        match = re.search(regex, llm_output, re.DOTALL)\n",
        "        if not match:\n",
        "            raise ValueError(f\"Could not parse LLM output: `{llm_output}`\")\n",
        "        action = match.group(1).strip()\n",
        "        action_input = match.group(2)\n",
        "        # Return the action and action input\n",
        "        return AgentAction(tool=action, tool_input=action_input.strip(\" \").strip('\"'), log=llm_output)"
      ],
      "metadata": {
        "id": "uy5ZFci1plim"
      },
      "execution_count": null,
      "outputs": []
    },
    {
      "cell_type": "code",
      "source": [
        "output_parser = CustomOutputParser()"
      ],
      "metadata": {
        "id": "UXXU8Dxtpygn"
      },
      "execution_count": null,
      "outputs": []
    },
    {
      "cell_type": "markdown",
      "source": [
        "## Set up LLM\n",
        "Choose the LLM you want to use!"
      ],
      "metadata": {
        "id": "gJvyjKIPp4Pr"
      }
    },
    {
      "cell_type": "code",
      "source": [
        "llm = OpenAI(temperature=0)"
      ],
      "metadata": {
        "id": "ot2zRfIgp3Hp"
      },
      "execution_count": null,
      "outputs": []
    },
    {
      "cell_type": "markdown",
      "source": [
        "## Define the stop sequence\n",
        "This is important because it tells the LLM when to stop generation.\n",
        "\n",
        "This depends heavily on the prompt and model you are using. Generally, you want this to be whatever token you use in the prompt to denote the start of an Observation (otherwise, the LLM may hallucinate an observation for you)."
      ],
      "metadata": {
        "id": "hduATyfxp_pn"
      }
    },
    {
      "cell_type": "markdown",
      "source": [
        "## Set up the Agent\n",
        "We can now combine everything to set up our agent"
      ],
      "metadata": {
        "id": "TcUy_X4WqFHL"
      }
    },
    {
      "cell_type": "code",
      "source": [
        "# LLM chain consisting of the LLM and a prompt\n",
        "llm_chain = LLMChain(llm=llm, prompt=prompt)"
      ],
      "metadata": {
        "id": "Xrv4LMc_qF38"
      },
      "execution_count": null,
      "outputs": []
    },
    {
      "cell_type": "code",
      "source": [
        "tool_names = [tool.name for tool in tools]\n",
        "\n",
        "agent = LLMSingleActionAgent(\n",
        "    llm_chain=llm_chain,\n",
        "    output_parser=output_parser,\n",
        "    stop=[\"\\nObservation:\"],\n",
        "    allowed_tools=tool_names\n",
        ")"
      ],
      "metadata": {
        "id": "EfhRkuBXqKl5"
      },
      "execution_count": null,
      "outputs": []
    },
    {
      "cell_type": "markdown",
      "source": [
        "\n",
        "### What is an Agent Executor?\n",
        "\n",
        "Agent Executors take an agent and tools and use the agent to decide which tools to call and in what order.\n",
        "\n"
      ],
      "metadata": {
        "id": "PlT9FGpwqPX6"
      }
    },
    {
      "cell_type": "code",
      "source": [
        "agent_executor = AgentExecutor.from_agent_and_tools(agent=agent,\n",
        "                                                    tools=tools,\n",
        "                                                    verbose=True)"
      ],
      "metadata": {
        "id": "2zkQ-jLwqMX9"
      },
      "execution_count": null,
      "outputs": []
    },
    {
      "cell_type": "code",
      "source": [
        "agent_executor.run(\"How can I treat a spained ankle?\")"
      ],
      "metadata": {
        "colab": {
          "base_uri": "https://localhost:8080/",
          "height": 298
        },
        "id": "5pajWUheqY-e",
        "outputId": "def524f0-a2a9-426c-fb0a-0d051cce666d"
      },
      "execution_count": null,
      "outputs": [
        {
          "output_type": "stream",
          "name": "stdout",
          "text": [
            "\n",
            "\n",
            "\u001b[1m> Entering new AgentExecutor chain...\u001b[0m\n"
          ]
        },
        {
          "output_type": "stream",
          "name": "stderr",
          "text": [
            "WARNING:langchain.llms.openai:Retrying langchain.llms.openai.completion_with_retry.<locals>._completion_with_retry in 4.0 seconds as it raised RateLimitError: The server had an error while processing your request. Sorry about that!.\n"
          ]
        },
        {
          "output_type": "stream",
          "name": "stdout",
          "text": [
            "\u001b[32;1m\u001b[1;3mThought: I need to find out what the best treatment is for a sprain.\n",
            "Action: Search WebMD\n",
            "Action Input: \"sprained ankle treatment\"\u001b[0m\n",
            "\n",
            "Observation:\u001b[36;1m\u001b[1;3m3 /12. To curb swelling and pain in the first 24 hours after a minor injury, apply a cold compress for 20-30 minutes. Then remove it for 20-30 minutes. You can use a bag of frozen peas. Or put ice ... Achilles Tendon Injury Symptoms. The most obvious sign is pain above your heel, especially when you stretch your ankle or stand on your toes. It may be mild and get better or worse over time. If ... Symptoms of muscle strain include: Swelling, bruising, or redness due to the injury. Pain at rest. Pain when the specific muscle or the joint in relation to that muscle is used. Weakness of the ... Trauma to an area (jerking movements, auto accidents, falls, fractures, sprains, dislocations, and direct blows to the muscle) also can cause musculoskeletal pain. Other causes of pain include ... Being overweight. Stress fractures in your toes or metatarsals. Bunions. Torn ligaments in your feet. A condition known as Morton's neuroma (interdigital neuroma) also causes metatarsalgia-like ...\u001b[0m\n",
            "\u001b[32;1m\u001b[1;3m I now know the best treatment for a sprain is to apply a cold compress for 20-30 minutes and then remove it for 20-30 minutes.\n",
            "Final Answer: To treat a sprain, it is best to apply a cold compress for 20-30 minutes and then remove it for 20-30 minutes. This will help reduce swelling and pain in the first 24 hours after the injury.\u001b[0m\n",
            "\n",
            "\u001b[1m> Finished chain.\u001b[0m\n"
          ]
        },
        {
          "output_type": "execute_result",
          "data": {
            "text/plain": [
              "'To treat a sprain, it is best to apply a cold compress for 20-30 minutes and then remove it for 20-30 minutes. This will help reduce swelling and pain in the first 24 hours after the injury.'"
            ],
            "application/vnd.google.colaboratory.intrinsic+json": {
              "type": "string"
            }
          },
          "metadata": {},
          "execution_count": 19
        }
      ]
    },
    {
      "cell_type": "markdown",
      "source": [
        "### in Debug mode"
      ],
      "metadata": {
        "id": "NXnlu-fj5XLa"
      }
    },
    {
      "cell_type": "code",
      "source": [
        "langchain.debug = True"
      ],
      "metadata": {
        "id": "Zi2la8Td5bEf"
      },
      "execution_count": null,
      "outputs": []
    },
    {
      "cell_type": "code",
      "source": [
        "agent_executor.run(\"How can I treat a spained ankle?\")"
      ],
      "metadata": {
        "colab": {
          "base_uri": "https://localhost:8080/",
          "height": 1000
        },
        "id": "aMwrWML65Z5Z",
        "outputId": "1be7c624-41a6-46aa-e012-6d6ff5081196"
      },
      "execution_count": null,
      "outputs": [
        {
          "output_type": "stream",
          "name": "stdout",
          "text": [
            "\u001b[32;1m\u001b[1;3m[chain/start]\u001b[0m \u001b[1m[1:chain:AgentExecutor] Entering Chain run with input:\n",
            "\u001b[0m{\n",
            "  \"input\": \"How can I treat a spained ankle?\"\n",
            "}\n",
            "\u001b[32;1m\u001b[1;3m[chain/start]\u001b[0m \u001b[1m[1:chain:AgentExecutor > 2:chain:LLMChain] Entering Chain run with input:\n",
            "\u001b[0m{\n",
            "  \"intermediate_steps\": [],\n",
            "  \"stop\": [\n",
            "    \"\\nObservation:\"\n",
            "  ],\n",
            "  \"input\": \"How can I treat a spained ankle?\"\n",
            "}\n",
            "\u001b[32;1m\u001b[1;3m[llm/start]\u001b[0m \u001b[1m[1:chain:AgentExecutor > 2:chain:LLMChain > 3:llm:OpenAI] Entering LLM run with input:\n",
            "\u001b[0m{\n",
            "  \"prompts\": [\n",
            "    \"Answer the following questions as best you can, but speaking as compasionate medical professional. You have access to the following tools:\\n\\nSearch WebMD: useful for when you need to answer medical and pharmalogical questions\\n\\nUse the following format:\\n\\nQuestion: the input question you must answer\\nThought: you should always think about what to do\\nAction: the action to take, should be one of [Search WebMD]\\nAction Input: the input to the action\\nObservation: the result of the action\\n... (this Thought/Action/Action Input/Observation can repeat N times)\\nThought: I now know the final answer\\nFinal Answer: the final answer to the original input question\\n\\nBegin! Remember to answer as a compansionate medical professional when giving your final answer.\\n\\nQuestion: How can I treat a spained ankle?\"\n",
            "  ]\n",
            "}\n",
            "\u001b[36;1m\u001b[1;3m[llm/end]\u001b[0m \u001b[1m[1:chain:AgentExecutor > 2:chain:LLMChain > 3:llm:OpenAI] [5.14s] Exiting LLM run with output:\n",
            "\u001b[0m{\n",
            "  \"generations\": [\n",
            "    [\n",
            "      {\n",
            "        \"text\": \"Thought: I need to find out what the best treatment is for a sprain.\\nAction: Search WebMD\\nAction Input: \\\"sprained ankle treatment\\\"\",\n",
            "        \"generation_info\": {\n",
            "          \"finish_reason\": \"stop\",\n",
            "          \"logprobs\": null\n",
            "        }\n",
            "      }\n",
            "    ]\n",
            "  ],\n",
            "  \"llm_output\": {\n",
            "    \"token_usage\": {\n",
            "      \"completion_tokens\": 34,\n",
            "      \"prompt_tokens\": 183,\n",
            "      \"total_tokens\": 217\n",
            "    },\n",
            "    \"model_name\": \"text-davinci-003\"\n",
            "  }\n",
            "}\n",
            "\u001b[36;1m\u001b[1;3m[chain/end]\u001b[0m \u001b[1m[1:chain:AgentExecutor > 2:chain:LLMChain] [5.14s] Exiting Chain run with output:\n",
            "\u001b[0m{\n",
            "  \"text\": \"Thought: I need to find out what the best treatment is for a sprain.\\nAction: Search WebMD\\nAction Input: \\\"sprained ankle treatment\\\"\"\n",
            "}\n",
            "\u001b[32;1m\u001b[1;3m[tool/start]\u001b[0m \u001b[1m[1:chain:AgentExecutor > 4:tool:Search WebMD] Entering Tool run with input:\n",
            "\u001b[0m\"sprained ankle treatment\"\n",
            "\u001b[32;1m\u001b[1;3m[tool/start]\u001b[0m \u001b[1m[1:tool:DuckDuckGo Search] Entering Tool run with input:\n",
            "\u001b[0m\"site:webmd.com sprained ankle treatment\"\n",
            "\u001b[36;1m\u001b[1;3m[tool/end]\u001b[0m \u001b[1m[1:tool:DuckDuckGo Search] [1.93s] Exiting Tool run with output:\n",
            "\u001b[0m\"3 /12. To curb swelling and pain in the first 24 hours after a minor injury, apply a cold compress for 20-30 minutes. Then remove it for 20-30 minutes. You can use a bag of frozen peas. Or put ice ... Achilles Tendon Injury Symptoms. The most obvious sign is pain above your heel, especially when you stretch your ankle or stand on your toes. It may be mild and get better or worse over time. If ... Symptoms of muscle strain include: Swelling, bruising, or redness due to the injury. Pain at rest. Pain when the specific muscle or the joint in relation to that muscle is used. Weakness of the ... Trauma to an area (jerking movements, auto accidents, falls, fractures, sprains, dislocations, and direct blows to the muscle) also can cause musculoskeletal pain. Other causes of pain include ... Being overweight. Stress fractures in your toes or metatarsals. Bunions. Torn ligaments in your feet. A condition known as Morton's neuroma (interdigital neuroma) also causes metatarsalgia-like ...\"\n",
            "\u001b[36;1m\u001b[1;3m[tool/end]\u001b[0m \u001b[1m[1:chain:AgentExecutor > 4:tool:Search WebMD] [1.93s] Exiting Tool run with output:\n",
            "\u001b[0m\"3 /12. To curb swelling and pain in the first 24 hours after a minor injury, apply a cold compress for 20-30 minutes. Then remove it for 20-30 minutes. You can use a bag of frozen peas. Or put ice ... Achilles Tendon Injury Symptoms. The most obvious sign is pain above your heel, especially when you stretch your ankle or stand on your toes. It may be mild and get better or worse over time. If ... Symptoms of muscle strain include: Swelling, bruising, or redness due to the injury. Pain at rest. Pain when the specific muscle or the joint in relation to that muscle is used. Weakness of the ... Trauma to an area (jerking movements, auto accidents, falls, fractures, sprains, dislocations, and direct blows to the muscle) also can cause musculoskeletal pain. Other causes of pain include ... Being overweight. Stress fractures in your toes or metatarsals. Bunions. Torn ligaments in your feet. A condition known as Morton's neuroma (interdigital neuroma) also causes metatarsalgia-like ...\"\n",
            "\u001b[32;1m\u001b[1;3m[chain/start]\u001b[0m \u001b[1m[1:chain:AgentExecutor > 5:chain:LLMChain] Entering Chain run with input:\n",
            "\u001b[0m{\n",
            "  \"intermediate_steps\": [\n",
            "    [\n",
            "      [\n",
            "        \"Search WebMD\",\n",
            "        \"sprained ankle treatment\",\n",
            "        \"Thought: I need to find out what the best treatment is for a sprain.\\nAction: Search WebMD\\nAction Input: \\\"sprained ankle treatment\\\"\"\n",
            "      ],\n",
            "      \"3 /12. To curb swelling and pain in the first 24 hours after a minor injury, apply a cold compress for 20-30 minutes. Then remove it for 20-30 minutes. You can use a bag of frozen peas. Or put ice ... Achilles Tendon Injury Symptoms. The most obvious sign is pain above your heel, especially when you stretch your ankle or stand on your toes. It may be mild and get better or worse over time. If ... Symptoms of muscle strain include: Swelling, bruising, or redness due to the injury. Pain at rest. Pain when the specific muscle or the joint in relation to that muscle is used. Weakness of the ... Trauma to an area (jerking movements, auto accidents, falls, fractures, sprains, dislocations, and direct blows to the muscle) also can cause musculoskeletal pain. Other causes of pain include ... Being overweight. Stress fractures in your toes or metatarsals. Bunions. Torn ligaments in your feet. A condition known as Morton's neuroma (interdigital neuroma) also causes metatarsalgia-like ...\"\n",
            "    ]\n",
            "  ],\n",
            "  \"stop\": [\n",
            "    \"\\nObservation:\"\n",
            "  ],\n",
            "  \"input\": \"How can I treat a spained ankle?\"\n",
            "}\n",
            "\u001b[32;1m\u001b[1;3m[llm/start]\u001b[0m \u001b[1m[1:chain:AgentExecutor > 5:chain:LLMChain > 6:llm:OpenAI] Entering LLM run with input:\n",
            "\u001b[0m{\n",
            "  \"prompts\": [\n",
            "    \"Answer the following questions as best you can, but speaking as compasionate medical professional. You have access to the following tools:\\n\\nSearch WebMD: useful for when you need to answer medical and pharmalogical questions\\n\\nUse the following format:\\n\\nQuestion: the input question you must answer\\nThought: you should always think about what to do\\nAction: the action to take, should be one of [Search WebMD]\\nAction Input: the input to the action\\nObservation: the result of the action\\n... (this Thought/Action/Action Input/Observation can repeat N times)\\nThought: I now know the final answer\\nFinal Answer: the final answer to the original input question\\n\\nBegin! Remember to answer as a compansionate medical professional when giving your final answer.\\n\\nQuestion: How can I treat a spained ankle?\\nThought: I need to find out what the best treatment is for a sprain.\\nAction: Search WebMD\\nAction Input: \\\"sprained ankle treatment\\\"\\nObservation: 3 /12. To curb swelling and pain in the first 24 hours after a minor injury, apply a cold compress for 20-30 minutes. Then remove it for 20-30 minutes. You can use a bag of frozen peas. Or put ice ... Achilles Tendon Injury Symptoms. The most obvious sign is pain above your heel, especially when you stretch your ankle or stand on your toes. It may be mild and get better or worse over time. If ... Symptoms of muscle strain include: Swelling, bruising, or redness due to the injury. Pain at rest. Pain when the specific muscle or the joint in relation to that muscle is used. Weakness of the ... Trauma to an area (jerking movements, auto accidents, falls, fractures, sprains, dislocations, and direct blows to the muscle) also can cause musculoskeletal pain. Other causes of pain include ... Being overweight. Stress fractures in your toes or metatarsals. Bunions. Torn ligaments in your feet. A condition known as Morton's neuroma (interdigital neuroma) also causes metatarsalgia-like ...\\nThought:\"\n",
            "  ]\n",
            "}\n"
          ]
        },
        {
          "output_type": "stream",
          "name": "stderr",
          "text": [
            "WARNING:langchain.llms.openai:Retrying langchain.llms.openai.completion_with_retry.<locals>._completion_with_retry in 4.0 seconds as it raised RateLimitError: The server had an error while processing your request. Sorry about that!.\n"
          ]
        },
        {
          "output_type": "stream",
          "name": "stdout",
          "text": [
            "\u001b[36;1m\u001b[1;3m[llm/end]\u001b[0m \u001b[1m[1:chain:AgentExecutor > 5:chain:LLMChain > 6:llm:OpenAI] [17.57s] Exiting LLM run with output:\n",
            "\u001b[0m{\n",
            "  \"generations\": [\n",
            "    [\n",
            "      {\n",
            "        \"text\": \" I now know the best treatment for a sprain is to apply a cold compress for 20-30 minutes and then remove it for 20-30 minutes.\\nFinal Answer: To treat a sprain, it is best to apply a cold compress for 20-30 minutes and then remove it for 20-30 minutes. This will help reduce swelling and pain in the first 24 hours after the injury.\",\n",
            "        \"generation_info\": {\n",
            "          \"finish_reason\": \"stop\",\n",
            "          \"logprobs\": null\n",
            "        }\n",
            "      }\n",
            "    ]\n",
            "  ],\n",
            "  \"llm_output\": {\n",
            "    \"token_usage\": {\n",
            "      \"completion_tokens\": 80,\n",
            "      \"prompt_tokens\": 455,\n",
            "      \"total_tokens\": 535\n",
            "    },\n",
            "    \"model_name\": \"text-davinci-003\"\n",
            "  }\n",
            "}\n",
            "\u001b[36;1m\u001b[1;3m[chain/end]\u001b[0m \u001b[1m[1:chain:AgentExecutor > 5:chain:LLMChain] [17.57s] Exiting Chain run with output:\n",
            "\u001b[0m{\n",
            "  \"text\": \" I now know the best treatment for a sprain is to apply a cold compress for 20-30 minutes and then remove it for 20-30 minutes.\\nFinal Answer: To treat a sprain, it is best to apply a cold compress for 20-30 minutes and then remove it for 20-30 minutes. This will help reduce swelling and pain in the first 24 hours after the injury.\"\n",
            "}\n",
            "\u001b[36;1m\u001b[1;3m[chain/end]\u001b[0m \u001b[1m[1:chain:AgentExecutor] [24.64s] Exiting Chain run with output:\n",
            "\u001b[0m{\n",
            "  \"output\": \"To treat a sprain, it is best to apply a cold compress for 20-30 minutes and then remove it for 20-30 minutes. This will help reduce swelling and pain in the first 24 hours after the injury.\"\n",
            "}\n"
          ]
        },
        {
          "output_type": "execute_result",
          "data": {
            "text/plain": [
              "'To treat a sprain, it is best to apply a cold compress for 20-30 minutes and then remove it for 20-30 minutes. This will help reduce swelling and pain in the first 24 hours after the injury.'"
            ],
            "application/vnd.google.colaboratory.intrinsic+json": {
              "type": "string"
            }
          },
          "metadata": {},
          "execution_count": 21
        }
      ]
    },
    {
      "cell_type": "code",
      "source": [
        "langchain.debug = False"
      ],
      "metadata": {
        "id": "JcotgIvj_54n"
      },
      "execution_count": null,
      "outputs": []
    },
    {
      "cell_type": "markdown",
      "source": [
        "## Adding a Conversation Memory\n",
        "If you want to add memory to the agent, you’ll need to:\n",
        "\n",
        "1. Add  **`chat_history`** into the custom prompt\n",
        "\n",
        "2. Add the memory object to the agent executor when defining it."
      ],
      "metadata": {
        "id": "wdFW3pDEqgw7"
      }
    },
    {
      "cell_type": "code",
      "source": [
        "# Set up the base template\n",
        "template_with_history = \"\"\"Answer the following questions as best you can, but speaking as compasionate medical professional. You have access to the following tools:\n",
        "\n",
        "{tools}\n",
        "\n",
        "Use the following format:\n",
        "\n",
        "Question: the input question you must answer\n",
        "Thought: you should always think about what to do\n",
        "Action: the action to take, should be one of [{tool_names}]\n",
        "Action Input: the input to the action\n",
        "Observation: the result of the action\n",
        "... (this Thought/Action/Action Input/Observation can repeat N times)\n",
        "Thought: I now know the final answer\n",
        "Final Answer: the final answer to the original input question\n",
        "\n",
        "Begin! Remember to speak as a compasionate medical professional when giving your final answer. If the condition is serious advise they speak to a doctor.\n",
        "\n",
        "Previous conversation history:\n",
        "{history}\n",
        "\n",
        "New question: {input}\n",
        "{agent_scratchpad}\"\"\""
      ],
      "metadata": {
        "id": "DsApe8WIqaMH"
      },
      "execution_count": null,
      "outputs": []
    },
    {
      "cell_type": "code",
      "source": [
        "prompt_with_history = CustomPromptTemplate(\n",
        "    template=template_with_history,\n",
        "    tools=tools,\n",
        "    # This omits the `agent_scratchpad`, `tools`, and `tool_names` variables because those are generated dynamically\n",
        "    # This includes the `intermediate_steps` variable because that is needed\n",
        "    input_variables=[\"input\", \"intermediate_steps\", \"history\"]\n",
        ")"
      ],
      "metadata": {
        "id": "4ZbFCdHWqjs_"
      },
      "execution_count": null,
      "outputs": []
    },
    {
      "cell_type": "code",
      "source": [
        "llm_chain = LLMChain(llm=llm, prompt=prompt_with_history)"
      ],
      "metadata": {
        "id": "Nd8TYJKmqmze"
      },
      "execution_count": null,
      "outputs": []
    },
    {
      "cell_type": "code",
      "source": [
        "tool_names = [tool.name for tool in tools]\n",
        "agent = LLMSingleActionAgent(\n",
        "    llm_chain=llm_chain,\n",
        "    output_parser=output_parser,\n",
        "    stop=[\"\\nObservation:\"],\n",
        "    allowed_tools=tool_names\n",
        ")"
      ],
      "metadata": {
        "id": "fEFR4Vx_qpYO"
      },
      "execution_count": null,
      "outputs": []
    },
    {
      "cell_type": "code",
      "source": [
        "from langchain.memory import ConversationBufferWindowMemory\n",
        "\n",
        "memory=ConversationBufferWindowMemory(k=2)"
      ],
      "metadata": {
        "id": "c3slL6vYqrt7"
      },
      "execution_count": null,
      "outputs": []
    },
    {
      "cell_type": "code",
      "source": [
        "agent_executor = AgentExecutor.from_agent_and_tools(\n",
        "    agent=agent,\n",
        "    tools=tools,\n",
        "    verbose=True,\n",
        "    memory=memory\n",
        "    )"
      ],
      "metadata": {
        "id": "A6Zqkn3aqulq"
      },
      "execution_count": null,
      "outputs": []
    },
    {
      "cell_type": "code",
      "source": [
        "agent_executor.run(\"How can I treat a sprained ankle?\")"
      ],
      "metadata": {
        "colab": {
          "base_uri": "https://localhost:8080/",
          "height": 315
        },
        "id": "JySasF_8q5Ie",
        "outputId": "fbe54607-d5d2-4fef-e164-afd2f14b5c69"
      },
      "execution_count": null,
      "outputs": [
        {
          "output_type": "stream",
          "name": "stdout",
          "text": [
            "\n",
            "\n",
            "\u001b[1m> Entering new AgentExecutor chain...\u001b[0m\n",
            "\u001b[32;1m\u001b[1;3m\n",
            "Thought: I need to find out what the best treatment for a sprained ankle is.\n",
            "Action: Search WebMD\n",
            "Action Input: \"sprained ankle treatment\"\u001b[0m\n",
            "\n",
            "Observation:\u001b[36;1m\u001b[1;3m3 /12. To curb swelling and pain in the first 24 hours after a minor injury, apply a cold compress for 20-30 minutes. Then remove it for 20-30 minutes. You can use a bag of frozen peas. Or put ice ... Achilles Tendon Injury Symptoms. The most obvious sign is pain above your heel, especially when you stretch your ankle or stand on your toes. It may be mild and get better or worse over time. If ... Symptoms of muscle strain include: Swelling, bruising, or redness due to the injury. Pain at rest. Pain when the specific muscle or the joint in relation to that muscle is used. Weakness of the ... Trauma to an area (jerking movements, auto accidents, falls, fractures, sprains, dislocations, and direct blows to the muscle) also can cause musculoskeletal pain. Other causes of pain include ... Being overweight. Stress fractures in your toes or metatarsals. Bunions. Torn ligaments in your feet. A condition known as Morton's neuroma (interdigital neuroma) also causes metatarsalgia-like ...\u001b[0m\n",
            "\u001b[32;1m\u001b[1;3m I now know the best treatment for a sprained ankle.\n",
            "Final Answer: To treat a sprained ankle, it is important to reduce swelling and pain in the first 24 hours after the injury. Apply a cold compress for 20-30 minutes, then remove it for 20-30 minutes. You can use a bag of frozen peas. If the pain persists or worsens, it is important to seek medical attention.\u001b[0m\n",
            "\n",
            "\u001b[1m> Finished chain.\u001b[0m\n"
          ]
        },
        {
          "output_type": "execute_result",
          "data": {
            "text/plain": [
              "'To treat a sprained ankle, it is important to reduce swelling and pain in the first 24 hours after the injury. Apply a cold compress for 20-30 minutes, then remove it for 20-30 minutes. You can use a bag of frozen peas. If the pain persists or worsens, it is important to seek medical attention.'"
            ],
            "application/vnd.google.colaboratory.intrinsic+json": {
              "type": "string"
            }
          },
          "metadata": {},
          "execution_count": 29
        }
      ]
    },
    {
      "cell_type": "code",
      "source": [
        "agent_executor.run(\"What meds could I take?\")"
      ],
      "metadata": {
        "colab": {
          "base_uri": "https://localhost:8080/",
          "height": 367
        },
        "id": "VDt8-4F-q9y9",
        "outputId": "ec92942c-57d1-408e-eb9a-e486ed314cba"
      },
      "execution_count": null,
      "outputs": [
        {
          "output_type": "stream",
          "name": "stdout",
          "text": [
            "\n",
            "\n",
            "\u001b[1m> Entering new AgentExecutor chain...\u001b[0m\n"
          ]
        },
        {
          "output_type": "stream",
          "name": "stderr",
          "text": [
            "WARNING:langchain.llms.openai:Retrying langchain.llms.openai.completion_with_retry.<locals>._completion_with_retry in 4.0 seconds as it raised RateLimitError: The server had an error while processing your request. Sorry about that!.\n"
          ]
        },
        {
          "output_type": "stream",
          "name": "stdout",
          "text": [
            "\u001b[32;1m\u001b[1;3mThought: I need to know what medications are available to treat a sprained ankle.\n",
            "Action: Search WebMD\n",
            "Action Input: Sprained ankle medications\u001b[0m\n",
            "\n",
            "Observation:\u001b[36;1m\u001b[1;3m3 /12. To curb swelling and pain in the first 24 hours after a minor injury, apply a cold compress for 20-30 minutes. Then remove it for 20-30 minutes. You can use a bag of frozen peas. Or put ice ... Achilles Tendon Injury Symptoms. The most obvious sign is pain above your heel, especially when you stretch your ankle or stand on your toes. It may be mild and get better or worse over time. If ... Symptoms of muscle strain include: Swelling, bruising, or redness due to the injury. Pain at rest. Pain when the specific muscle or the joint in relation to that muscle is used. Weakness of the ... RICE. 2 /14. It stands for rest, ice, compress, and elevate, and it's the go-to treatment for minor sprains and bruising. Ice the injury as soon as possible and put pressure on it with an ... Trauma to an area (jerking movements, auto accidents, falls, fractures, sprains, dislocations, and direct blows to the muscle) also can cause musculoskeletal pain. Other causes of pain include ...\u001b[0m\n"
          ]
        },
        {
          "output_type": "stream",
          "name": "stderr",
          "text": [
            "WARNING:langchain.llms.openai:Retrying langchain.llms.openai.completion_with_retry.<locals>._completion_with_retry in 4.0 seconds as it raised RateLimitError: The server had an error while processing your request. Sorry about that!.\n"
          ]
        },
        {
          "output_type": "stream",
          "name": "stdout",
          "text": [
            "\u001b[32;1m\u001b[1;3m I now know the medications available to treat a sprained ankle.\n",
            "Final Answer: To treat a sprained ankle, it is important to reduce swelling and pain in the first 24 hours after the injury. Apply a cold compress for 20-30 minutes, then remove it for 20-30 minutes. You can use a bag of frozen peas. Other medications that may be used to treat a sprained ankle include over-the-counter pain relievers such as ibuprofen or acetaminophen, and topical creams or gels that contain menthol or capsaicin. If the pain persists or worsens, it is important to seek medical attention.\u001b[0m\n",
            "\n",
            "\u001b[1m> Finished chain.\u001b[0m\n"
          ]
        },
        {
          "output_type": "execute_result",
          "data": {
            "text/plain": [
              "'To treat a sprained ankle, it is important to reduce swelling and pain in the first 24 hours after the injury. Apply a cold compress for 20-30 minutes, then remove it for 20-30 minutes. You can use a bag of frozen peas. Other medications that may be used to treat a sprained ankle include over-the-counter pain relievers such as ibuprofen or acetaminophen, and topical creams or gels that contain menthol or capsaicin. If the pain persists or worsens, it is important to seek medical attention.'"
            ],
            "application/vnd.google.colaboratory.intrinsic+json": {
              "type": "string"
            }
          },
          "metadata": {},
          "execution_count": 30
        }
      ]
    },
    {
      "cell_type": "code",
      "source": [
        "agent_executor.run(\"How long will it take to heal?\")"
      ],
      "metadata": {
        "colab": {
          "base_uri": "https://localhost:8080/",
          "height": 315
        },
        "id": "l30nHUrxrBd7",
        "outputId": "a22455c8-eb47-4a41-adac-c1542ecb71c4"
      },
      "execution_count": null,
      "outputs": [
        {
          "output_type": "stream",
          "name": "stdout",
          "text": [
            "\n",
            "\n",
            "\u001b[1m> Entering new AgentExecutor chain...\u001b[0m\n",
            "\u001b[32;1m\u001b[1;3m\n",
            "Thought: I need to find out how long it takes for a sprained ankle to heal.\n",
            "Action: Search WebMD\n",
            "Action Input: Sprained ankle healing time\u001b[0m\n",
            "\n",
            "Observation:\u001b[36;1m\u001b[1;3m3 /12. To curb swelling and pain in the first 24 hours after a minor injury, apply a cold compress for 20-30 minutes. Then remove it for 20-30 minutes. You can use a bag of frozen peas. Or put ice ... Achilles Tendon Injury Symptoms. The most obvious sign is pain above your heel, especially when you stretch your ankle or stand on your toes. It may be mild and get better or worse over time. If ... Symptoms of muscle strain include: Swelling, bruising, or redness due to the injury. Pain at rest. Pain when the specific muscle or the joint in relation to that muscle is used. Weakness of the ... 7 /15. Over the next 4-21 days, you get a soft callus around the broken bone. This is when a substance called collagen moves in and slowly replaces the blood clot. The callus is stiffer than a ... Many Colors. As you heal, an iron-rich substance in your blood -- called hemoglobin -- breaks down into other compounds. This process makes your bruise change colors: • It's usually red right ...\u001b[0m\n",
            "\u001b[32;1m\u001b[1;3m I now know the final answer.\n",
            "Final Answer: It typically takes 4-21 days for a sprained ankle to heal. During this time, it is important to reduce swelling and pain by applying a cold compress for 20-30 minutes, then removing it for 20-30 minutes. If the pain persists or worsens, it is important to seek medical attention.\u001b[0m\n",
            "\n",
            "\u001b[1m> Finished chain.\u001b[0m\n"
          ]
        },
        {
          "output_type": "execute_result",
          "data": {
            "text/plain": [
              "'It typically takes 4-21 days for a sprained ankle to heal. During this time, it is important to reduce swelling and pain by applying a cold compress for 20-30 minutes, then removing it for 20-30 minutes. If the pain persists or worsens, it is important to seek medical attention.'"
            ],
            "application/vnd.google.colaboratory.intrinsic+json": {
              "type": "string"
            }
          },
          "metadata": {},
          "execution_count": 31
        }
      ]
    },
    {
      "cell_type": "code",
      "source": [],
      "metadata": {
        "id": "YvLD_1Ek1kmU"
      },
      "execution_count": null,
      "outputs": []
    }
  ]
}