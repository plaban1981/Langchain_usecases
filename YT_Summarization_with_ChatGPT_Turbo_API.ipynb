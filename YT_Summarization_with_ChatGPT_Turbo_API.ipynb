{
  "nbformat": 4,
  "nbformat_minor": 0,
  "metadata": {
    "colab": {
      "provenance": [],
      "include_colab_link": true
    },
    "kernelspec": {
      "name": "python3",
      "display_name": "Python 3"
    },
    "language_info": {
      "name": "python"
    }
  },
  "cells": [
    {
      "cell_type": "markdown",
      "metadata": {
        "id": "view-in-github",
        "colab_type": "text"
      },
      "source": [
        "<a href=\"https://colab.research.google.com/github/plaban1981/Langchain_usecases/blob/main/YT_Summarization_with_ChatGPT_Turbo_API.ipynb\" target=\"_parent\"><img src=\"https://colab.research.google.com/assets/colab-badge.svg\" alt=\"Open In Colab\"/></a>"
      ]
    },
    {
      "cell_type": "markdown",
      "source": [
        "# Summarization with ChatGPT-3.5-turbo"
      ],
      "metadata": {
        "id": "24Oc-N3Og0QY"
      }
    },
    {
      "cell_type": "code",
      "execution_count": null,
      "metadata": {
        "id": "RRYSu48huSUW",
        "colab": {
          "base_uri": "https://localhost:8080/"
        },
        "outputId": "89ca5f57-627f-4d0a-e8c5-05b71a93f05e"
      },
      "outputs": [
        {
          "output_type": "stream",
          "name": "stdout",
          "text": [
            "\u001b[2K     \u001b[90m━━━━━━━━━━━━━━━━━━━━━━━━━━━━━━━━━━━━━━━\u001b[0m \u001b[32m371.9/371.9 KB\u001b[0m \u001b[31m6.3 MB/s\u001b[0m eta \u001b[36m0:00:00\u001b[0m\n",
            "\u001b[2K     \u001b[90m━━━━━━━━━━━━━━━━━━━━━━━━━━━━━━━━━━━━━━━\u001b[0m \u001b[32m199.2/199.2 KB\u001b[0m \u001b[31m9.9 MB/s\u001b[0m eta \u001b[36m0:00:00\u001b[0m\n",
            "\u001b[2K     \u001b[90m━━━━━━━━━━━━━━━━━━━━━━━━━━━━━━━━━━━━━━━━\u001b[0m \u001b[32m70.1/70.1 KB\u001b[0m \u001b[31m3.0 MB/s\u001b[0m eta \u001b[36m0:00:00\u001b[0m\n",
            "\u001b[?25h  Preparing metadata (setup.py) ... \u001b[?25l\u001b[?25hdone\n",
            "\u001b[2K     \u001b[90m━━━━━━━━━━━━━━━━━━━━━━━━━━━━━━━━━━━━━━━━\u001b[0m \u001b[32m1.6/1.6 MB\u001b[0m \u001b[31m24.4 MB/s\u001b[0m eta \u001b[36m0:00:00\u001b[0m\n",
            "\u001b[?25h  Preparing metadata (setup.py) ... \u001b[?25l\u001b[?25hdone\n",
            "\u001b[2K     \u001b[90m━━━━━━━━━━━━━━━━━━━━━━━━━━━━━━━━━━━━━━━━\u001b[0m \u001b[32m1.0/1.0 MB\u001b[0m \u001b[31m17.3 MB/s\u001b[0m eta \u001b[36m0:00:00\u001b[0m\n",
            "\u001b[2K     \u001b[90m━━━━━━━━━━━━━━━━━━━━━━━━━━━━━━━━━━━━━━━━\u001b[0m \u001b[32m62.8/62.8 KB\u001b[0m \u001b[31m3.5 MB/s\u001b[0m eta \u001b[36m0:00:00\u001b[0m\n",
            "\u001b[2K     \u001b[90m━━━━━━━━━━━━━━━━━━━━━━━━━━━━━━━━━━━━━━━━\u001b[0m \u001b[32m73.5/73.5 KB\u001b[0m \u001b[31m4.7 MB/s\u001b[0m eta \u001b[36m0:00:00\u001b[0m\n",
            "\u001b[2K     \u001b[90m━━━━━━━━━━━━━━━━━━━━━━━━━━━━━━━━━━━━━━━\u001b[0m \u001b[32m114.2/114.2 KB\u001b[0m \u001b[31m2.8 MB/s\u001b[0m eta \u001b[36m0:00:00\u001b[0m\n",
            "\u001b[2K     \u001b[90m━━━━━━━━━━━━━━━━━━━━━━━━━━━━━━━━━━━━━━━\u001b[0m \u001b[32m158.8/158.8 KB\u001b[0m \u001b[31m9.6 MB/s\u001b[0m eta \u001b[36m0:00:00\u001b[0m\n",
            "\u001b[2K     \u001b[90m━━━━━━━━━━━━━━━━━━━━━━━━━━━━━━━━━━━━━━\u001b[0m \u001b[32m264.6/264.6 KB\u001b[0m \u001b[31m10.1 MB/s\u001b[0m eta \u001b[36m0:00:00\u001b[0m\n",
            "\u001b[2K     \u001b[90m━━━━━━━━━━━━━━━━━━━━━━━━━━━━━━━━━━━━━━━\u001b[0m \u001b[32m199.2/199.2 KB\u001b[0m \u001b[31m9.0 MB/s\u001b[0m eta \u001b[36m0:00:00\u001b[0m\n",
            "\u001b[2K     \u001b[90m━━━━━━━━━━━━━━━━━━━━━━━━━━━━━━━━━━━━━━━━\u001b[0m \u001b[32m2.1/2.1 MB\u001b[0m \u001b[31m43.1 MB/s\u001b[0m eta \u001b[36m0:00:00\u001b[0m\n",
            "\u001b[2K     \u001b[90m━━━━━━━━━━━━━━━━━━━━━━━━━━━━━━━━━━━━━━━━\u001b[0m \u001b[32m49.1/49.1 KB\u001b[0m \u001b[31m2.1 MB/s\u001b[0m eta \u001b[36m0:00:00\u001b[0m\n",
            "\u001b[?25h  Building wheel for google-search-results (setup.py) ... \u001b[?25l\u001b[?25hdone\n",
            "  Building wheel for cohere (setup.py) ... \u001b[?25l\u001b[?25hdone\n"
          ]
        }
      ],
      "source": [
        "!pip -q install langchain openai==0.27.0  tiktoken"
      ]
    },
    {
      "cell_type": "code",
      "source": [
        "import os\n",
        "\n",
        "os.environ[\"OPENAI_API_KEY\"] = \"\""
      ],
      "metadata": {
        "id": "dNA4TsHpu6OM"
      },
      "execution_count": null,
      "outputs": []
    },
    {
      "cell_type": "code",
      "source": [
        "!pip show langchain"
      ],
      "metadata": {
        "id": "J-KFB7J_u_3L",
        "colab": {
          "base_uri": "https://localhost:8080/"
        },
        "outputId": "df528a44-b66b-4c23-a2cb-81228bb14c31"
      },
      "execution_count": null,
      "outputs": [
        {
          "output_type": "stream",
          "name": "stdout",
          "text": [
            "Name: langchain\n",
            "Version: 0.0.107\n",
            "Summary: Building applications with LLMs through composability\n",
            "Home-page: https://www.github.com/hwchase17/langchain\n",
            "Author: \n",
            "Author-email: \n",
            "License: MIT\n",
            "Location: /usr/local/lib/python3.9/dist-packages\n",
            "Requires: aiohttp, dataclasses-json, numpy, pydantic, PyYAML, requests, SQLAlchemy, tenacity\n",
            "Required-by: \n"
          ]
        }
      ]
    },
    {
      "cell_type": "code",
      "source": [],
      "metadata": {
        "id": "-e57sKGAVpDF"
      },
      "execution_count": null,
      "outputs": []
    },
    {
      "cell_type": "markdown",
      "source": [
        "## With Standard GPT-3 text-davinci-003"
      ],
      "metadata": {
        "id": "Iz8vJ4FHWdD0"
      }
    },
    {
      "cell_type": "code",
      "source": [
        "from langchain.prompts import PromptTemplate\n",
        "from langchain.llms import OpenAI\n",
        "from langchain.chains import LLMChain\n",
        "import textwrap"
      ],
      "metadata": {
        "id": "-lzO5PfUpwfv"
      },
      "execution_count": null,
      "outputs": []
    },
    {
      "cell_type": "code",
      "source": [
        "llm = OpenAI(model_name='text-davinci-003',\n",
        "             temperature=0,\n",
        "             max_tokens = 256)"
      ],
      "metadata": {
        "id": "sTiEn3tKp7mZ"
      },
      "execution_count": null,
      "outputs": []
    },
    {
      "cell_type": "code",
      "source": [
        "article = '''Coinbase, the second-largest crypto exchange by trading volume, released its Q4 2022 earnings on Tuesday, giving shareholders and market players alike an updated look into its financials. In response to the report, the company's shares are down modestly in early after-hours trading.In the fourth quarter of 2022, Coinbase generated $605 million in total revenue, down sharply from $2.49 billion in the year-ago quarter. Coinbase's top line was not enough to cover its expenses: The company lost $557 million in the three-month period on a GAAP basis (net income) worth -$2.46 per share, and an adjusted EBITDA deficit of $124 million.Wall Street expected Coinbase to report $581.2 million in revenue and earnings per share of -$2.44 with adjusted EBITDA of -$201.8 million driven by 8.4 million monthly transaction users (MTUs), according to data provided by Yahoo Finance.Before its Q4 earnings were released, Coinbase's stock had risen 86% year-to-date. Even with that rally, the value of Coinbase when measured on a per-share basis is still down significantly from its 52-week high of $206.79.That Coinbase beat revenue expectations is notable in that it came with declines in trading volume; Coinbase historically generated the bulk of its revenues from trading fees, making Q4 2022 notable. Consumer trading volumes fell from $26 billion in the third quarter of last year to $20 billion in Q4, while institutional volumes across the same timeframe fell from $133 billion to $125 billion.The overall crypto market capitalization fell about 64%, or $1.5 trillion during 2022, which resulted in Coinbase's total trading volumes and transaction revenues to fall 50% and 66% year-over-year, respectively, the company reported.As you would expect with declines in trading volume, trading revenue at Coinbase fell in Q4 compared to the third quarter of last year, dipping from $365.9 million to $322.1 million. (TechCrunch is comparing Coinbase's Q4 2022 results to Q3 2022 instead of Q4 2021, as the latter comparison would be less useful given how much the crypto market has changed in the last year; we're all aware that overall crypto activity has fallen from the final months of 2021.)There were bits of good news in the Coinbase report. While Coinbase's trading revenues were less than exuberant, the company's other revenues posted gains. What Coinbase calls its \"subscription and services revenue\" rose from $210.5 million in Q3 2022 to $282.8 million in Q4 of the same year, a gain of just over 34% in a single quarter.And even as the crypto industry faced a number of catastrophic events, including the Terra/LUNA and FTX collapses to name a few, there was still growth in other areas. The monthly active developers in crypto have more than doubled since 2020 to over 20,000, while major brands like Starbucks, Nike and Adidas have dived into the space alongside social media platforms like Instagram and Reddit.With big players getting into crypto, industry players are hoping this move results in greater adoption both for product use cases and trading volumes. Although there was a lot of movement from traditional retail markets and Web 2.0 businesses, trading volume for both consumer and institutional users fell quarter-over-quarter for Coinbase.Looking forward, it'll be interesting to see if these pieces pick back up and trading interest reemerges in 2023, or if platforms like Coinbase will have to keep looking elsewhere for revenue (like its subscription service) if users continue to shy away from the market.\n",
        "'''\n",
        "\n",
        "wrapped_text = textwrap.fill(article,\n",
        "                             width=100,\n",
        "                             break_long_words=False,\n",
        "                             replace_whitespace=False)\n",
        "print(wrapped_text)"
      ],
      "metadata": {
        "id": "WCBfxD4cqXsx",
        "colab": {
          "base_uri": "https://localhost:8080/"
        },
        "outputId": "12a4742b-1216-4766-eb46-4ad9f41c7a5d"
      },
      "execution_count": null,
      "outputs": [
        {
          "output_type": "stream",
          "name": "stdout",
          "text": [
            "Coinbase, the second-largest crypto exchange by trading volume, released its Q4 2022 earnings on\n",
            "Tuesday, giving shareholders and market players alike an updated look into its financials. In\n",
            "response to the report, the company's shares are down modestly in early after-hours trading.In the\n",
            "fourth quarter of 2022, Coinbase generated $605 million in total revenue, down sharply from $2.49\n",
            "billion in the year-ago quarter. Coinbase's top line was not enough to cover its expenses: The\n",
            "company lost $557 million in the three-month period on a GAAP basis (net income) worth -$2.46 per\n",
            "share, and an adjusted EBITDA deficit of $124 million.Wall Street expected Coinbase to report $581.2\n",
            "million in revenue and earnings per share of -$2.44 with adjusted EBITDA of -$201.8 million driven\n",
            "by 8.4 million monthly transaction users (MTUs), according to data provided by Yahoo Finance.Before\n",
            "its Q4 earnings were released, Coinbase's stock had risen 86% year-to-date. Even with that rally,\n",
            "the value of Coinbase when measured on a per-share basis is still down significantly from its\n",
            "52-week high of $206.79.That Coinbase beat revenue expectations is notable in that it came with\n",
            "declines in trading volume; Coinbase historically generated the bulk of its revenues from trading\n",
            "fees, making Q4 2022 notable. Consumer trading volumes fell from $26 billion in the third quarter of\n",
            "last year to $20 billion in Q4, while institutional volumes across the same timeframe fell from $133\n",
            "billion to $125 billion.The overall crypto market capitalization fell about 64%, or $1.5 trillion\n",
            "during 2022, which resulted in Coinbase's total trading volumes and transaction revenues to fall 50%\n",
            "and 66% year-over-year, respectively, the company reported.As you would expect with declines in\n",
            "trading volume, trading revenue at Coinbase fell in Q4 compared to the third quarter of last year,\n",
            "dipping from $365.9 million to $322.1 million. (TechCrunch is comparing Coinbase's Q4 2022 results\n",
            "to Q3 2022 instead of Q4 2021, as the latter comparison would be less useful given how much the\n",
            "crypto market has changed in the last year; we're all aware that overall crypto activity has fallen\n",
            "from the final months of 2021.)There were bits of good news in the Coinbase report. While Coinbase's\n",
            "trading revenues were less than exuberant, the company's other revenues posted gains. What Coinbase\n",
            "calls its \"subscription and services revenue\" rose from $210.5 million in Q3 2022 to $282.8 million\n",
            "in Q4 of the same year, a gain of just over 34% in a single quarter.And even as the crypto industry\n",
            "faced a number of catastrophic events, including the Terra/LUNA and FTX collapses to name a few,\n",
            "there was still growth in other areas. The monthly active developers in crypto have more than\n",
            "doubled since 2020 to over 20,000, while major brands like Starbucks, Nike and Adidas have dived\n",
            "into the space alongside social media platforms like Instagram and Reddit.With big players getting\n",
            "into crypto, industry players are hoping this move results in greater adoption both for product use\n",
            "cases and trading volumes. Although there was a lot of movement from traditional retail markets and\n",
            "Web 2.0 businesses, trading volume for both consumer and institutional users fell quarter-over-\n",
            "quarter for Coinbase.Looking forward, it'll be interesting to see if these pieces pick back up and\n",
            "trading interest reemerges in 2023, or if platforms like Coinbase will have to keep looking\n",
            "elsewhere for revenue (like its subscription service) if users continue to shy away from the market.\n"
          ]
        }
      ]
    },
    {
      "cell_type": "code",
      "source": [
        "fact_extraction_prompt = PromptTemplate(\n",
        "    input_variables=[\"text_input\"],\n",
        "    template=\"Extract the key facts out of this text. Don't include opinions. \\\n",
        "    Give each fact a number and keep them short sentences. :\\n\\n {text_input}\"\n",
        ")"
      ],
      "metadata": {
        "id": "MgLWAwhFGmVg"
      },
      "execution_count": null,
      "outputs": []
    },
    {
      "cell_type": "code",
      "source": [
        "fact_extraction_chain = LLMChain(llm=llm, prompt=fact_extraction_prompt)\n",
        "\n",
        "facts = fact_extraction_chain.run(article)\n",
        "\n",
        "wrapped_text = textwrap.fill(facts,\n",
        "                             width=100,\n",
        "                             break_long_words=False,\n",
        "                             replace_whitespace=False)\n",
        "print(wrapped_text)"
      ],
      "metadata": {
        "colab": {
          "base_uri": "https://localhost:8080/"
        },
        "id": "wTDX0e2D0jIs",
        "outputId": "7c312cf4-0e70-46c0-9295-0903a9337891"
      },
      "execution_count": null,
      "outputs": [
        {
          "output_type": "stream",
          "name": "stdout",
          "text": [
            "\n",
            "1. Coinbase released its Q4 2022 earnings on Tuesday. \n",
            "2. Coinbase generated $605 million in total\n",
            "revenue in Q4 2022. \n",
            "3. Coinbase lost $557 million in the three-month period on a GAAP basis. \n",
            "4.\n",
            "Wall Street expected Coinbase to report $581.2 million in revenue. \n",
            "5. Coinbase's stock had risen\n",
            "86% year-to-date before its Q4 earnings were released. \n",
            "6. Coinbase's total trading volumes and\n",
            "transaction revenues fell 50% and 66% year-over-year, respectively. \n",
            "7. Trading revenue at Coinbase\n",
            "fell from $365.9 million to $322.1 million quarter-over-quarter. \n",
            "8. Coinbase's \"subscription and\n",
            "services revenue\" rose from $210.5 million in Q3 2022 to $282.8 million in Q4 of the same year. \n",
            "9.\n",
            "Monthly active developers in crypto have more than doubled since 2020 to over 20,000. \n",
            "10. Major\n",
            "brands like Starbucks, Nike and Adidas have dived into the crypto space.\n"
          ]
        }
      ]
    },
    {
      "cell_type": "markdown",
      "source": [
        "### Summarization with the ChatGPT API 3.5-turbo"
      ],
      "metadata": {
        "id": "HqwsGJDhvAQ5"
      }
    },
    {
      "cell_type": "code",
      "source": [
        "from langchain.chat_models import ChatOpenAI\n",
        "from langchain import PromptTemplate, LLMChain\n",
        "from langchain.prompts.chat import (\n",
        "    ChatPromptTemplate,\n",
        "    SystemMessagePromptTemplate,\n",
        "    AIMessagePromptTemplate,\n",
        "    HumanMessagePromptTemplate,\n",
        ")\n",
        "from langchain.schema import (\n",
        "    AIMessage,\n",
        "    HumanMessage,\n",
        "    SystemMessage\n",
        ")"
      ],
      "metadata": {
        "id": "hZBizgFXVnrg"
      },
      "execution_count": null,
      "outputs": []
    },
    {
      "cell_type": "code",
      "source": [
        "chatGPT = ChatOpenAI(temperature=0)"
      ],
      "metadata": {
        "id": "ASrU6HvfV3vW"
      },
      "execution_count": null,
      "outputs": []
    },
    {
      "cell_type": "code",
      "source": [
        "chatGPT([HumanMessage(content=\"Translate this sentence from English to French. I love programming.\")])"
      ],
      "metadata": {
        "colab": {
          "base_uri": "https://localhost:8080/"
        },
        "id": "jjETzHfYV_MF",
        "outputId": "731d44b3-fa69-4c0d-fda4-0d2a4ba772f8"
      },
      "execution_count": null,
      "outputs": [
        {
          "output_type": "execute_result",
          "data": {
            "text/plain": [
              "AIMessage(content=\"J'aime programmer.\", additional_kwargs={})"
            ]
          },
          "metadata": {},
          "execution_count": 13
        }
      ]
    },
    {
      "cell_type": "markdown",
      "source": [
        "### Normal Summary"
      ],
      "metadata": {
        "id": "GlJQgUYydV0O"
      }
    },
    {
      "cell_type": "code",
      "source": [
        "messages = [\n",
        "    SystemMessage(content=\"You are an expert at making strong factual summarizations.\\\n",
        "     Take the article submitted by the user and produce a factual useful summary\"),\n",
        "    HumanMessage(content=article)\n",
        "]\n",
        "responses = chatGPT(messages)"
      ],
      "metadata": {
        "id": "6_QFg1Q1WDwX"
      },
      "execution_count": null,
      "outputs": []
    },
    {
      "cell_type": "code",
      "source": [
        "wrapped_text = textwrap.fill(responses.content,\n",
        "                             width=100,\n",
        "                             break_long_words=False,\n",
        "                             replace_whitespace=False)\n",
        "print(wrapped_text)"
      ],
      "metadata": {
        "colab": {
          "base_uri": "https://localhost:8080/"
        },
        "id": "GssSroeoc2lx",
        "outputId": "6044b95c-e5d8-4dec-affc-f58c3ffac91d"
      },
      "execution_count": null,
      "outputs": [
        {
          "output_type": "stream",
          "name": "stdout",
          "text": [
            "Coinbase, the second-largest crypto exchange by trading volume, reported $605 million in total\n",
            "revenue for Q4 2022, down from $2.49 billion in the year-ago quarter. The company lost $557 million\n",
            "in the three-month period on a GAAP basis and an adjusted EBITDA deficit of $124 million. Despite\n",
            "beating revenue expectations, Coinbase's stock fell in early after-hours trading. The decline in\n",
            "trading volume was notable, with consumer trading volumes falling from $26 billion in Q3 2022 to $20\n",
            "billion in Q4, while institutional volumes fell from $133 billion to $125 billion. However,\n",
            "Coinbase's \"subscription and services revenue\" rose from $210.5 million in Q3 2022 to $282.8 million\n",
            "in Q4. The company hopes that greater adoption and trading volumes will emerge in 2023.\n"
          ]
        }
      ]
    },
    {
      "cell_type": "markdown",
      "source": [
        "### Bullet List version"
      ],
      "metadata": {
        "id": "MQ4QUoO2dP31"
      }
    },
    {
      "cell_type": "code",
      "source": [
        "messages = [\n",
        "    SystemMessage(content=\"You are an expert at making strong factual summarizations.\\\n",
        "     Extract the key facts out of this text. Don't include opinions. \\\n",
        "     Give each fact a number and keep them short sentences. :\\n\\n\"),\n",
        "    HumanMessage(content=article)\n",
        "]\n",
        "responses = chatGPT(messages)"
      ],
      "metadata": {
        "id": "luG2YwRxWvU5"
      },
      "execution_count": null,
      "outputs": []
    },
    {
      "cell_type": "code",
      "source": [
        "wrapped_text = textwrap.fill(responses.content,\n",
        "                             width=100,\n",
        "                             break_long_words=False,\n",
        "                             replace_whitespace=False)\n",
        "print(wrapped_text)"
      ],
      "metadata": {
        "colab": {
          "base_uri": "https://localhost:8080/"
        },
        "id": "G5LzJzsrak3K",
        "outputId": "f6eeb11a-0cf7-48be-bee1-1030204c193e"
      },
      "execution_count": null,
      "outputs": [
        {
          "output_type": "stream",
          "name": "stdout",
          "text": [
            "1. Coinbase released its Q4 2022 earnings report.\n",
            "2. In Q4 2022, Coinbase generated $605 million in\n",
            "total revenue, down from $2.49 billion in the year-ago quarter.\n",
            "3. Coinbase lost $557 million in the\n",
            "three-month period on a GAAP basis and an adjusted EBITDA deficit of $124 million.\n",
            "4. Coinbase's\n",
            "stock is down modestly in early after-hours trading.\n",
            "5. Consumer trading volumes fell from $26\n",
            "billion in Q3 2022 to $20 billion in Q4 2022, while institutional volumes fell from $133 billion to\n",
            "$125 billion.\n",
            "6. Coinbase's trading revenue fell in Q4 compared to Q3 2022.\n",
            "7. Coinbase's\n",
            "\"subscription and services revenue\" rose from $210.5 million in Q3 2022 to $282.8 million in Q4\n",
            "2022.\n",
            "8. The monthly active developers in crypto have more than doubled since 2020 to over 20,000.\n",
            "9. Major brands like Starbucks, Nike, and Adidas have dived into the crypto space.\n",
            "10. Trading\n",
            "volume for both consumer and institutional users fell quarter-over-quarter for Coinbase.\n"
          ]
        }
      ]
    },
    {
      "cell_type": "markdown",
      "source": [
        "## Triples"
      ],
      "metadata": {
        "id": "fe3j3XoffRCX"
      }
    },
    {
      "cell_type": "code",
      "source": [],
      "metadata": {
        "id": "Be_rECP0fEma"
      },
      "execution_count": null,
      "outputs": []
    },
    {
      "cell_type": "code",
      "source": [
        "messages = [\n",
        "    SystemMessage(content=\"You are an expert at making strong factual summarizations.\\\n",
        "     Extract the key facts out of this text. Don't include opinions. \\\n",
        "     Give each fact a number and keep them short sentences. :\\n\\n\"),\n",
        "    HumanMessage(content=article)\n",
        "]\n",
        "responses = chatGPT(messages)"
      ],
      "metadata": {
        "id": "-M_XJWApfUIR"
      },
      "execution_count": null,
      "outputs": []
    },
    {
      "cell_type": "code",
      "source": [
        "wrapped_text = textwrap.fill(responses.content,\n",
        "                             width=100,\n",
        "                             break_long_words=False,\n",
        "                             replace_whitespace=False)\n",
        "print(wrapped_text)"
      ],
      "metadata": {
        "colab": {
          "base_uri": "https://localhost:8080/"
        },
        "outputId": "d4d14a70-d3eb-4389-c248-f1339b5c6fa7",
        "id": "qatm2fudfUIS"
      },
      "execution_count": null,
      "outputs": [
        {
          "output_type": "stream",
          "name": "stdout",
          "text": [
            "1. Coinbase released its Q4 2022 earnings report.\n",
            "2. In Q4 2022, Coinbase generated $605 million in\n",
            "total revenue, down from $2.49 billion in the year-ago quarter.\n",
            "3. Coinbase lost $557 million in the\n",
            "three-month period on a GAAP basis and had an adjusted EBITDA deficit of $124 million.\n",
            "4. Coinbase's\n",
            "stock is down modestly in early after-hours trading.\n",
            "5. Coinbase beat revenue expectations despite\n",
            "declines in trading volume.\n",
            "6. Consumer trading volumes fell from $26 billion in Q3 2022 to $20\n",
            "billion in Q4 2022, while institutional volumes fell from $133 billion to $125 billion.\n",
            "7. Trading\n",
            "revenue at Coinbase fell in Q4 compared to Q3 2022.\n",
            "8. Coinbase's \"subscription and services\n",
            "revenue\" rose from $210.5 million in Q3 2022 to $282.8 million in Q4 2022.\n",
            "9. The monthly active\n",
            "developers in crypto have more than doubled since 2020 to over 20,000.\n",
            "10. Major brands like\n",
            "Starbucks, Nike, and Adidas have dived into the crypto space.\n",
            "11. Trading volume for both consumer\n",
            "and institutional users fell quarter-over-quarter for Coinbase.\n"
          ]
        }
      ]
    },
    {
      "cell_type": "markdown",
      "source": [
        "## Triples"
      ],
      "metadata": {
        "id": "R4B10G1CfrXA"
      }
    },
    {
      "cell_type": "code",
      "source": [
        "messages = [\n",
        "    SystemMessage(content=\"You are an expert at making strong factual summarizations.\\\n",
        "     Take the following list of facts and turn them into triples for a knowledge graph:\\n\\n\"),\n",
        "    HumanMessage(content=article)\n",
        "]\n",
        "responses = chatGPT(messages)"
      ],
      "metadata": {
        "id": "vCrNJ56zfl9a"
      },
      "execution_count": null,
      "outputs": []
    },
    {
      "cell_type": "code",
      "source": [
        "wrapped_text = textwrap.fill(responses.content,\n",
        "                             width=100,\n",
        "                             break_long_words=False,\n",
        "                             replace_whitespace=False)\n",
        "print(wrapped_text)"
      ],
      "metadata": {
        "colab": {
          "base_uri": "https://localhost:8080/"
        },
        "outputId": "98aa2a6f-eb35-42a6-9fce-3bfbc79fb78c",
        "id": "ze7Uuqc6fl9b"
      },
      "execution_count": null,
      "outputs": [
        {
          "output_type": "stream",
          "name": "stdout",
          "text": [
            "Triple 1: \n",
            "Subject: Coinbase\n",
            "Predicate: released\n",
            "Object: Q4 2022 earnings\n",
            "\n",
            "Triple 2: \n",
            "Subject:\n",
            "Coinbase\n",
            "Predicate: generated\n",
            "Object: $605 million in total revenue in Q4 2022\n",
            "\n",
            "Triple 3: \n",
            "Subject:\n",
            "Coinbase\n",
            "Predicate: lost\n",
            "Object: $557 million in Q4 2022 on a GAAP basis\n",
            "\n",
            "Triple 4: \n",
            "Subject:\n",
            "Coinbase\n",
            "Predicate: had\n",
            "Object: adjusted EBITDA deficit of $124 million in Q4 2022\n",
            "\n",
            "Triple 5:\n",
            "Subject: Wall Street\n",
            "Predicate: expected\n",
            "Object: Coinbase to report $581.2 million in revenue and\n",
            "earnings per share of -$2.44 with adjusted EBITDA of -$201.8 million in Q4 2022\n",
            "\n",
            "Triple 6: \n",
            "Subject:\n",
            "Coinbase's stock\n",
            "Predicate: had risen\n",
            "Object: 86% year-to-date before Q4 earnings were released\n",
            "Triple 7: \n",
            "Subject: Coinbase\n",
            "Predicate: beat\n",
            "Object: revenue expectations in Q4 2022\n",
            "\n",
            "Triple 8:\n",
            "Subject: Coinbase\n",
            "Predicate: historically generated\n",
            "Object: bulk of its revenues from trading fees\n",
            "Triple 9: \n",
            "Subject: Coinbase\n",
            "Predicate: saw\n"
          ]
        }
      ]
    },
    {
      "cell_type": "code",
      "source": [],
      "metadata": {
        "id": "WWy0JiQcfuIN"
      },
      "execution_count": null,
      "outputs": []
    }
  ]
}