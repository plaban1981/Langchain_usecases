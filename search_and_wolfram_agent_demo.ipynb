{
  "nbformat": 4,
  "nbformat_minor": 0,
  "metadata": {
    "colab": {
      "provenance": [],
      "include_colab_link": true
    },
    "kernelspec": {
      "name": "python3",
      "display_name": "Python 3"
    },
    "language_info": {
      "name": "python"
    }
  },
  "cells": [
    {
      "cell_type": "markdown",
      "metadata": {
        "id": "view-in-github",
        "colab_type": "text"
      },
      "source": [
        "<a href=\"https://colab.research.google.com/github/plaban1981/Langchain_usecases/blob/main/search_and_wolfram_agent_demo.ipynb\" target=\"_parent\"><img src=\"https://colab.research.google.com/assets/colab-badge.svg\" alt=\"Open In Colab\"/></a>"
      ]
    },
    {
      "cell_type": "markdown",
      "source": [
        "**! This agent works with gpt-4 model but not always works with gpt-3.5-turbo**"
      ],
      "metadata": {
        "id": "SCB9dwORxDUC"
      }
    },
    {
      "cell_type": "markdown",
      "source": [
        "# Setting up\n",
        "\n",
        "Install dependecies"
      ],
      "metadata": {
        "id": "eKia5YF0vj-P"
      }
    },
    {
      "cell_type": "code",
      "execution_count": null,
      "metadata": {
        "id": "mBtPR0cova7w"
      },
      "outputs": [],
      "source": [
        "!pip install langchain\n",
        "!pip install openai\n",
        "!pip install wolframalpha"
      ]
    },
    {
      "cell_type": "markdown",
      "source": [
        "Set up API keys for OpenAI, Serper and WolframAlpha"
      ],
      "metadata": {
        "id": "f3z5KsFBvwaH"
      }
    },
    {
      "cell_type": "code",
      "source": [
        "import os \n",
        "os.environ[\"OPENAI_API_KEY\"] = \"YOUR_OPEN_API_KEY\"\n",
        "os.environ[\"SERPER_API_KEY\"] = \"YOUR_SERPER_API_KEY\"\n",
        "os.environ[\"WOLFRAM_ALPHA_APPID\"] = \"YOUR_WOLFRAM_ALPHA_APPID\""
      ],
      "metadata": {
        "id": "h433lOj1vvjX"
      },
      "execution_count": null,
      "outputs": []
    },
    {
      "cell_type": "markdown",
      "source": [
        "# Building an Agent"
      ],
      "metadata": {
        "id": "Wc9lpf96wik0"
      }
    },
    {
      "cell_type": "code",
      "source": [
        "from langchain.agents import load_tools\n",
        "from langchain.agents import initialize_agent\n",
        "from langchain.agents import AgentType\n",
        "from langchain.llms import OpenAI\n",
        "from langchain.utilities.wolfram_alpha import WolframAlphaAPIWrapper\n",
        "from langchain.memory import ConversationBufferMemory\n",
        "from langchain.chat_models import ChatOpenAI"
      ],
      "metadata": {
        "id": "sFoW13ngw861"
      },
      "execution_count": null,
      "outputs": []
    },
    {
      "cell_type": "code",
      "source": [
        "#defining the LLM model. You can specify the model if you want\n",
        "llm = ChatOpenAI(temperature=0, model=\"gpt-3.5-turbo\")\n",
        "\n",
        "#defining the tools for the agent\n",
        "tools = load_tools([\"google-serper\", \"wolfram-alpha\"], llm=llm)\n",
        "\n",
        "#setting a memory for conversations\n",
        "memory = ConversationBufferMemory(memory_key=\"chat_history\", return_messages=True)\n",
        "\n",
        "#defining an agent. \"verbose=True\" means that the agent shows its thoughts. If it's False, it will produce only te final result\n",
        "agent_chain = initialize_agent(tools, llm, agent=AgentType.CONVERSATIONAL_REACT_DESCRIPTION, verbose=True, memory=memory)"
      ],
      "metadata": {
        "id": "BMlyJc0f1nnU"
      },
      "execution_count": null,
      "outputs": []
    },
    {
      "cell_type": "code",
      "source": [
        "agent_chain.run(input=\"what is the weather in Amsterdam right now in celcius? Calculate natural logarithm from the answer. Don't make assumptions.\")"
      ],
      "metadata": {
        "id": "V0wHco1j3rM8"
      },
      "execution_count": null,
      "outputs": []
    },
    {
      "cell_type": "code",
      "source": [
        "agent_chain.run(input=\"What's a good price for a flight from JFK to AUS this weekend? Don't make assumptions.\")"
      ],
      "metadata": {
        "id": "UyBCvOpxfi8p"
      },
      "execution_count": null,
      "outputs": []
    }
  ]
}