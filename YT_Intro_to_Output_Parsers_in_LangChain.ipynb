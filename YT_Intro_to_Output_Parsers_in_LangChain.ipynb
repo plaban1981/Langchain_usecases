{
  "nbformat": 4,
  "nbformat_minor": 0,
  "metadata": {
    "colab": {
      "provenance": [],
      "include_colab_link": true
    },
    "kernelspec": {
      "name": "python3",
      "display_name": "Python 3"
    },
    "language_info": {
      "name": "python"
    }
  },
  "cells": [
    {
      "cell_type": "markdown",
      "metadata": {
        "id": "view-in-github",
        "colab_type": "text"
      },
      "source": [
        "<a href=\"https://colab.research.google.com/github/plaban1981/Langchain_usecases/blob/main/YT_Intro_to_Output_Parsers_in_LangChain.ipynb\" target=\"_parent\"><img src=\"https://colab.research.google.com/assets/colab-badge.svg\" alt=\"Open In Colab\"/></a>"
      ]
    },
    {
      "cell_type": "code",
      "execution_count": null,
      "metadata": {
        "id": "RRYSu48huSUW",
        "colab": {
          "base_uri": "https://localhost:8080/"
        },
        "outputId": "6a05000b-73d3-4a52-bb15-bd9de58d2ed6"
      },
      "outputs": [
        {
          "output_type": "stream",
          "name": "stdout",
          "text": [
            "\u001b[2K     \u001b[90m━━━━━━━━━━━━━━━━━━━━━━━━━━━━━━━━━━━━━━\u001b[0m \u001b[32m975.6/975.6 kB\u001b[0m \u001b[31m26.2 MB/s\u001b[0m eta \u001b[36m0:00:00\u001b[0m\n",
            "\u001b[2K     \u001b[90m━━━━━━━━━━━━━━━━━━━━━━━━━━━━━━━━━━━━━━━━\u001b[0m \u001b[32m72.0/72.0 kB\u001b[0m \u001b[31m7.9 MB/s\u001b[0m eta \u001b[36m0:00:00\u001b[0m\n",
            "\u001b[2K     \u001b[90m━━━━━━━━━━━━━━━━━━━━━━━━━━━━━━━━━━━━━━━━\u001b[0m \u001b[32m1.7/1.7 MB\u001b[0m \u001b[31m83.5 MB/s\u001b[0m eta \u001b[36m0:00:00\u001b[0m\n",
            "\u001b[2K     \u001b[90m━━━━━━━━━━━━━━━━━━━━━━━━━━━━━━━━━━━━━━━━\u001b[0m \u001b[32m1.0/1.0 MB\u001b[0m \u001b[31m65.0 MB/s\u001b[0m eta \u001b[36m0:00:00\u001b[0m\n",
            "\u001b[2K     \u001b[90m━━━━━━━━━━━━━━━━━━━━━━━━━━━━━━━━━━━━━━━━\u001b[0m \u001b[32m90.0/90.0 kB\u001b[0m \u001b[31m8.7 MB/s\u001b[0m eta \u001b[36m0:00:00\u001b[0m\n",
            "\u001b[2K     \u001b[90m━━━━━━━━━━━━━━━━━━━━━━━━━━━━━━━━━━━━━━\u001b[0m \u001b[32m114.5/114.5 kB\u001b[0m \u001b[31m14.6 MB/s\u001b[0m eta \u001b[36m0:00:00\u001b[0m\n",
            "\u001b[2K     \u001b[90m━━━━━━━━━━━━━━━━━━━━━━━━━━━━━━━━━━━━━━\u001b[0m \u001b[32m268.8/268.8 kB\u001b[0m \u001b[31m25.0 MB/s\u001b[0m eta \u001b[36m0:00:00\u001b[0m\n",
            "\u001b[2K     \u001b[90m━━━━━━━━━━━━━━━━━━━━━━━━━━━━━━━━━━━━━━\u001b[0m \u001b[32m149.6/149.6 kB\u001b[0m \u001b[31m16.8 MB/s\u001b[0m eta \u001b[36m0:00:00\u001b[0m\n",
            "\u001b[2K     \u001b[90m━━━━━━━━━━━━━━━━━━━━━━━━━━━━━━━━━━━━━━━━\u001b[0m \u001b[32m49.1/49.1 kB\u001b[0m \u001b[31m5.1 MB/s\u001b[0m eta \u001b[36m0:00:00\u001b[0m\n",
            "\u001b[?25h"
          ]
        }
      ],
      "source": [
        "\n",
        "!pip -q install langchain openai tiktoken cohere"
      ]
    },
    {
      "cell_type": "code",
      "source": [
        "import os\n",
        "\n",
        "os.environ[\"OPENAI_API_KEY\"] = \"\""
      ],
      "metadata": {
        "id": "dNA4TsHpu6OM"
      },
      "execution_count": null,
      "outputs": []
    },
    {
      "cell_type": "code",
      "source": [
        "!pip show langchain"
      ],
      "metadata": {
        "id": "J-KFB7J_u_3L",
        "colab": {
          "base_uri": "https://localhost:8080/"
        },
        "outputId": "3a261ad2-1c63-4950-d268-a38e2114aeb1"
      },
      "execution_count": null,
      "outputs": [
        {
          "output_type": "stream",
          "name": "stdout",
          "text": [
            "Name: langchain\n",
            "Version: 0.0.189\n",
            "Summary: Building applications with LLMs through composability\n",
            "Home-page: https://www.github.com/hwchase17/langchain\n",
            "Author: \n",
            "Author-email: \n",
            "License: MIT\n",
            "Location: /usr/local/lib/python3.10/dist-packages\n",
            "Requires: aiohttp, async-timeout, dataclasses-json, numexpr, numpy, openapi-schema-pydantic, pydantic, PyYAML, requests, SQLAlchemy, tenacity\n",
            "Required-by: \n"
          ]
        }
      ]
    },
    {
      "cell_type": "markdown",
      "source": [
        "# Intro to LangChain Output Parsers\n"
      ],
      "metadata": {
        "id": "HqwsGJDhvAQ5"
      }
    },
    {
      "cell_type": "code",
      "source": [
        "from langchain.chat_models import ChatOpenAI\n",
        "\n",
        "chat_llm = ChatOpenAI(temperature=0.0)"
      ],
      "metadata": {
        "id": "yrEsK0iKrbv0"
      },
      "execution_count": null,
      "outputs": []
    },
    {
      "cell_type": "code",
      "source": [
        "template_string = \"\"\"You are a master branding consulatant who specializes in naming brands. \\\n",
        "You come up with catchy and memorable brand names.\n",
        "\n",
        "Take the brand description below delimited by triple backticks and use it to create the name for a brand.\n",
        "\n",
        "brand description: ```{brand_description}```\n",
        "\n",
        "then based on the description and you hot new brand name give the brand a score 1-10 for how likely it is to succeed.\n",
        "\"\"\""
      ],
      "metadata": {
        "id": "vyCxeeyMrfca"
      },
      "execution_count": null,
      "outputs": []
    },
    {
      "cell_type": "code",
      "source": [
        "from langchain.prompts import ChatPromptTemplate\n",
        "\n",
        "prompt_template = ChatPromptTemplate.from_template(template_string)\n"
      ],
      "metadata": {
        "id": "mHwvM3dzsF62"
      },
      "execution_count": null,
      "outputs": []
    },
    {
      "cell_type": "code",
      "source": [
        "prompt_template.messages[0].prompt"
      ],
      "metadata": {
        "colab": {
          "base_uri": "https://localhost:8080/"
        },
        "id": "VXf3o4BTsGgc",
        "outputId": "2815633d-4e1f-4ae2-acd7-79c5e57696c8"
      },
      "execution_count": null,
      "outputs": [
        {
          "output_type": "execute_result",
          "data": {
            "text/plain": [
              "PromptTemplate(input_variables=['brand_description'], output_parser=None, partial_variables={}, template='You are a master branding consulatant who specializes in naming brands. You come up with catchy and memorable brand names.\\n\\nTake the brand description below delimited by triple backticks and use it to create the name for a brand.\\n\\nbrand description: ```{brand_description}```\\n\\nthen based on the description and you hot new brand name give the brand a score 1-10 for how likely it is to succeed.\\n', template_format='f-string', validate_template=True)"
            ]
          },
          "metadata": {},
          "execution_count": 15
        }
      ]
    },
    {
      "cell_type": "code",
      "source": [
        "branding_messages = prompt_template.format_messages( brand_description=\"a cool hip new sneaker brand aimed at rich kids\")"
      ],
      "metadata": {
        "id": "dtjouxcxsP7B"
      },
      "execution_count": null,
      "outputs": []
    },
    {
      "cell_type": "code",
      "source": [
        "branding_messages"
      ],
      "metadata": {
        "colab": {
          "base_uri": "https://localhost:8080/"
        },
        "id": "kq4_zulrs-vq",
        "outputId": "b96340fc-e017-4ff3-cac8-4f3d42ee881b"
      },
      "execution_count": null,
      "outputs": [
        {
          "output_type": "execute_result",
          "data": {
            "text/plain": [
              "[HumanMessage(content='You are a master branding consulatant who specializes in naming brands. You come up with catchy and memorable brand names.\\n\\nTake the brand description below delimited by triple backticks and use it to create the name for a brand.\\n\\nbrand description: ```a cool hip new sneaker brand aimed at rich kids```\\n\\nthen based on the description and you hot new brand name give the brand a score 1-10 for how likely it is to succeed.\\n', additional_kwargs={}, example=False)]"
            ]
          },
          "metadata": {},
          "execution_count": 17
        }
      ]
    },
    {
      "cell_type": "code",
      "source": [
        "consultant_response = chat_llm(branding_messages)"
      ],
      "metadata": {
        "id": "AE3clWu5GahZ"
      },
      "execution_count": null,
      "outputs": []
    },
    {
      "cell_type": "code",
      "source": [
        "print(consultant_response.content)"
      ],
      "metadata": {
        "colab": {
          "base_uri": "https://localhost:8080/"
        },
        "id": "dNBEUZzQGoHE",
        "outputId": "4535a1e5-da7d-4a95-97b2-8f9989ef8e33"
      },
      "execution_count": null,
      "outputs": [
        {
          "output_type": "stream",
          "name": "stdout",
          "text": [
            "Brand name: LuxKicks\n",
            "\n",
            "Score: 8/10. The name is catchy and memorable, and it effectively conveys the brand's target audience and positioning. However, the success of the brand will ultimately depend on the quality and design of the sneakers themselves.\n"
          ]
        }
      ]
    },
    {
      "cell_type": "markdown",
      "source": [
        "## Get the output as JSON"
      ],
      "metadata": {
        "id": "1ngY595Xun3D"
      }
    },
    {
      "cell_type": "code",
      "source": [
        "template_string = \"\"\"You are a master branding consulatant who specializes in naming brands. \\\n",
        "You come up with catchy and memorable brand names.\n",
        "\n",
        "Take the brand description below delimited by triple backticks and use it to create the name for a brand.\n",
        "\n",
        "brand description: ```{brand_description}```\n",
        "\n",
        "then based on the description and you hot new brand name give the brand a score 1-10 for how likely it is to succeed.\n",
        "\n",
        "Format the output as JSON with the following keys:\n",
        "brand_name\n",
        "likelihood_of_success\n",
        "reasoning\n",
        "\"\"\""
      ],
      "metadata": {
        "id": "VhkCPsSPu0m_"
      },
      "execution_count": null,
      "outputs": []
    },
    {
      "cell_type": "code",
      "source": [
        "from langchain.prompts import ChatPromptTemplate\n",
        "\n",
        "prompt_template = ChatPromptTemplate.from_template(template_string)\n"
      ],
      "metadata": {
        "id": "av1MTf2ru0nK"
      },
      "execution_count": null,
      "outputs": []
    },
    {
      "cell_type": "code",
      "source": [
        "prompt_template.messages[0].prompt"
      ],
      "metadata": {
        "colab": {
          "base_uri": "https://localhost:8080/"
        },
        "outputId": "1004c768-a842-4dea-c111-fe18bb610852",
        "id": "JpK_te7du0nK"
      },
      "execution_count": null,
      "outputs": [
        {
          "output_type": "execute_result",
          "data": {
            "text/plain": [
              "PromptTemplate(input_variables=['brand_description'], output_parser=None, partial_variables={}, template='You are a master branding consulatant who specializes in naming brands. You come up with catchy and memorable brand names.\\n\\nTake the brand description below delimited by triple backticks and use it to create the name for a brand.\\n\\nbrand description: ```{brand_description}```\\n\\nthen based on the description and you hot new brand name give the brand a score 1-10 for how likely it is to succeed.\\n\\nFormat the output as JSON with the following keys:\\nbrand_name\\nlikelihood_of_success\\nreasoning\\n', template_format='f-string', validate_template=True)"
            ]
          },
          "metadata": {},
          "execution_count": 22
        }
      ]
    },
    {
      "cell_type": "code",
      "source": [
        "branding_messages = prompt_template.format_messages( brand_description=\"a cool hip new sneaker brand aimed at rich kids\")"
      ],
      "metadata": {
        "id": "EEshuZ87u0nK"
      },
      "execution_count": null,
      "outputs": []
    },
    {
      "cell_type": "code",
      "source": [
        "branding_messages"
      ],
      "metadata": {
        "colab": {
          "base_uri": "https://localhost:8080/"
        },
        "outputId": "a18e47c9-d02b-4c21-95f1-3dbe7e4a2c83",
        "id": "Wy5WtrBRu0nK"
      },
      "execution_count": null,
      "outputs": [
        {
          "output_type": "execute_result",
          "data": {
            "text/plain": [
              "[HumanMessage(content='You are a master branding consulatant who specializes in naming brands. You come up with catchy and memorable brand names.\\n\\nTake the brand description below delimited by triple backticks and use it to create the name for a brand.\\n\\nbrand description: ```a cool hip new sneaker brand aimed at rich kids```\\n\\nthen based on the description and you hot new brand name give the brand a score 1-10 for how likely it is to succeed.\\n\\nFormat the output as JSON with the following keys:\\nbrand_name\\nlikelihood_of_success\\nreasoning\\n', additional_kwargs={}, example=False)]"
            ]
          },
          "metadata": {},
          "execution_count": 24
        }
      ]
    },
    {
      "cell_type": "code",
      "source": [
        "consultant_response = chat_llm(branding_messages)"
      ],
      "metadata": {
        "id": "wuyDMenyu0nK"
      },
      "execution_count": null,
      "outputs": []
    },
    {
      "cell_type": "code",
      "source": [
        "print(consultant_response.content)"
      ],
      "metadata": {
        "colab": {
          "base_uri": "https://localhost:8080/"
        },
        "outputId": "febc399d-fac0-4d48-ccd9-7c2d1b1de3ad",
        "id": "MCrN3wF5u0nK"
      },
      "execution_count": null,
      "outputs": [
        {
          "output_type": "stream",
          "name": "stdout",
          "text": [
            "{\n",
            "    \"brand_name\": \"LuxKicks\",\n",
            "    \"likelihood_of_success\": 8,\n",
            "    \"reasoning\": \"The name combines luxury and kicks, which fits the target audience of rich kids who want to show off their cool sneakers. The name is catchy and memorable, which will help with brand recognition and word-of-mouth marketing. However, the success of the brand will also depend on the quality and design of the sneakers themselves.\"\n",
            "}\n"
          ]
        }
      ]
    },
    {
      "cell_type": "markdown",
      "source": [
        "## Structured Output Parser"
      ],
      "metadata": {
        "id": "cL1FZe3iG1Ti"
      }
    },
    {
      "cell_type": "code",
      "source": [
        "{\n",
        "  \"brand_name\": \"The hot hot brand\",\n",
        "  \"likelihood_of_success\": 5,\n",
        "  \"reasoning\": \"reasons go here\"\n",
        "}"
      ],
      "metadata": {
        "colab": {
          "base_uri": "https://localhost:8080/"
        },
        "id": "nA1CXyUTGoTE",
        "outputId": "8ece803d-8682-4b6e-d36c-533d36fd2a47"
      },
      "execution_count": null,
      "outputs": [
        {
          "output_type": "execute_result",
          "data": {
            "text/plain": [
              "{'brand_name': 'The hot hot brand',\n",
              " 'likelihood_of_success': 5,\n",
              " 'reasoning': 'reasons go here'}"
            ]
          },
          "metadata": {},
          "execution_count": 27
        }
      ]
    },
    {
      "cell_type": "code",
      "source": [
        "from langchain.output_parsers import ResponseSchema\n",
        "from langchain.output_parsers import StructuredOutputParser\n",
        "\n",
        "brand_name_schema = ResponseSchema(name=\"brand_name\",\n",
        "                             description=\"This is the name of the brand\")\n",
        "\n",
        "likelihood_of_success_schema = ResponseSchema(name=\"likelihood_of_success\",\n",
        "                                      description=\"This is an integer score between 1-10\")\n",
        "\n",
        "reasoning_schema = ResponseSchema(name=\"reasoning\",\n",
        "                                    description=\"This is the reasons for the score\")\n",
        "\n",
        "response_schemas = [brand_name_schema,\n",
        "                    likelihood_of_success_schema,\n",
        "                    reasoning_schema]"
      ],
      "metadata": {
        "id": "MpelfWvfvxdv"
      },
      "execution_count": null,
      "outputs": []
    },
    {
      "cell_type": "code",
      "source": [
        "output_parser = StructuredOutputParser.from_response_schemas(response_schemas)"
      ],
      "metadata": {
        "id": "HLd6pkh-whKY"
      },
      "execution_count": null,
      "outputs": []
    },
    {
      "cell_type": "code",
      "source": [
        "format_instructions = output_parser.get_format_instructions()"
      ],
      "metadata": {
        "id": "RzTZLFeMwlsK"
      },
      "execution_count": null,
      "outputs": []
    },
    {
      "cell_type": "code",
      "source": [
        "print(format_instructions)"
      ],
      "metadata": {
        "colab": {
          "base_uri": "https://localhost:8080/"
        },
        "id": "zOfAmQ7LwpJC",
        "outputId": "78afc273-c797-4c1c-b596-897250db847e"
      },
      "execution_count": null,
      "outputs": [
        {
          "output_type": "stream",
          "name": "stdout",
          "text": [
            "The output should be a markdown code snippet formatted in the following schema, including the leading and trailing \"\\`\\`\\`json\" and \"\\`\\`\\`\":\n",
            "\n",
            "```json\n",
            "{\n",
            "\t\"brand_name\": string  // This is the name of the brand\n",
            "\t\"likelihood_of_success\": string  // This is an integer score between 1-10\n",
            "\t\"reasoning\": string  // This is the reasons for the score\n",
            "}\n",
            "```\n"
          ]
        }
      ]
    },
    {
      "cell_type": "code",
      "source": [
        "template_string = \"\"\"You are a master branding consulatant who specializes in naming brands. \\\n",
        "You come up with catchy and memorable brand names.\n",
        "\n",
        "Take the brand description below delimited by triple backticks and use it to create the name for a brand.\n",
        "\n",
        "brand description: ```{brand_description}```\n",
        "\n",
        "then based on the description and you hot new brand name give the brand a score 1-10 for how likely it is to succeed.\n",
        "\n",
        "{format_instructions}\n",
        "\"\"\""
      ],
      "metadata": {
        "id": "KMPo1SRAw0J2"
      },
      "execution_count": null,
      "outputs": []
    },
    {
      "cell_type": "code",
      "source": [
        "prompt = ChatPromptTemplate.from_template(template=template_string)\n",
        "\n",
        "messages = prompt.format_messages(brand_description=\"a cool hip new sneaker brand aimed at rich kids\",\n",
        "                                format_instructions=format_instructions)"
      ],
      "metadata": {
        "id": "pqtIktE8xHT0"
      },
      "execution_count": null,
      "outputs": []
    },
    {
      "cell_type": "code",
      "source": [
        "messages"
      ],
      "metadata": {
        "colab": {
          "base_uri": "https://localhost:8080/"
        },
        "id": "-jQZTUEGy2Bv",
        "outputId": "0c236186-bcb4-4945-e157-aecaea6ab2a3"
      },
      "execution_count": null,
      "outputs": [
        {
          "output_type": "execute_result",
          "data": {
            "text/plain": [
              "[HumanMessage(content='You are a master branding consulatant who specializes in naming brands. You come up with catchy and memorable brand names.\\n\\nTake the brand description below delimited by triple backticks and use it to create the name for a brand.\\n\\nbrand description: ```a cool hip new sneaker brand aimed at rich kids```\\n\\nthen based on the description and you hot new brand name give the brand a score 1-10 for how likely it is to succeed.\\n\\nThe output should be a markdown code snippet formatted in the following schema, including the leading and trailing \"\\\\`\\\\`\\\\`json\" and \"\\\\`\\\\`\\\\`\":\\n\\n```json\\n{\\n\\t\"brand_name\": string  // This is the name of the brand\\n\\t\"likelihood_of_success\": string  // This is an integer score between 1-10\\n\\t\"reasoning\": string  // This is the reasons for the score\\n}\\n```\\n', additional_kwargs={}, example=False)]"
            ]
          },
          "metadata": {},
          "execution_count": 34
        }
      ]
    },
    {
      "cell_type": "code",
      "source": [
        "print(messages[0].content)"
      ],
      "metadata": {
        "colab": {
          "base_uri": "https://localhost:8080/"
        },
        "id": "fnPY3OSNy3c7",
        "outputId": "ae3da5b6-9b84-450f-f538-0c5e205153fb"
      },
      "execution_count": null,
      "outputs": [
        {
          "output_type": "stream",
          "name": "stdout",
          "text": [
            "You are a master branding consulatant who specializes in naming brands. You come up with catchy and memorable brand names.\n",
            "\n",
            "Take the brand description below delimited by triple backticks and use it to create the name for a brand.\n",
            "\n",
            "brand description: ```a cool hip new sneaker brand aimed at rich kids```\n",
            "\n",
            "then based on the description and you hot new brand name give the brand a score 1-10 for how likely it is to succeed.\n",
            "\n",
            "The output should be a markdown code snippet formatted in the following schema, including the leading and trailing \"\\`\\`\\`json\" and \"\\`\\`\\`\":\n",
            "\n",
            "```json\n",
            "{\n",
            "\t\"brand_name\": string  // This is the name of the brand\n",
            "\t\"likelihood_of_success\": string  // This is an integer score between 1-10\n",
            "\t\"reasoning\": string  // This is the reasons for the score\n",
            "}\n",
            "```\n",
            "\n"
          ]
        }
      ]
    },
    {
      "cell_type": "code",
      "source": [
        "response = chat_llm(messages)\n",
        "response"
      ],
      "metadata": {
        "colab": {
          "base_uri": "https://localhost:8080/"
        },
        "id": "bzE6U9IRy9Ie",
        "outputId": "29eaf877-3e01-44ab-a91c-333ce21ed157"
      },
      "execution_count": null,
      "outputs": [
        {
          "output_type": "execute_result",
          "data": {
            "text/plain": [
              "AIMessage(content='```json\\n{\\n\\t\"brand_name\": \"LuxKicks\",\\n\\t\"likelihood_of_success\": \"8\",\\n\\t\"reasoning\": \"The name is catchy and memorable, and it effectively communicates the brand\\'s target audience of rich kids. However, the success of the brand will also depend on the quality and design of the sneakers themselves.\"\\n}\\n```', additional_kwargs={}, example=False)"
            ]
          },
          "metadata": {},
          "execution_count": 36
        }
      ]
    },
    {
      "cell_type": "code",
      "source": [
        "response_as_dict = output_parser.parse(response.content)"
      ],
      "metadata": {
        "id": "Ze9NjiSMzTkV"
      },
      "execution_count": null,
      "outputs": []
    },
    {
      "cell_type": "code",
      "source": [
        "response_as_dict"
      ],
      "metadata": {
        "colab": {
          "base_uri": "https://localhost:8080/"
        },
        "id": "o1vTnqM6zdCv",
        "outputId": "127c290b-a90c-461a-b5eb-2b97574998d4"
      },
      "execution_count": null,
      "outputs": [
        {
          "output_type": "execute_result",
          "data": {
            "text/plain": [
              "{'brand_name': 'LuxKicks',\n",
              " 'likelihood_of_success': '8',\n",
              " 'reasoning': \"The name is catchy and memorable, and it effectively communicates the brand's target audience of rich kids. However, the success of the brand will also depend on the quality and design of the sneakers themselves.\"}"
            ]
          },
          "metadata": {},
          "execution_count": 38
        }
      ]
    },
    {
      "cell_type": "code",
      "source": [
        "type(response_as_dict)"
      ],
      "metadata": {
        "colab": {
          "base_uri": "https://localhost:8080/"
        },
        "id": "02QEVfWBzeEr",
        "outputId": "4221580c-3d47-4622-c1ca-2e77a53462c1"
      },
      "execution_count": null,
      "outputs": [
        {
          "output_type": "execute_result",
          "data": {
            "text/plain": [
              "dict"
            ]
          },
          "metadata": {},
          "execution_count": 39
        }
      ]
    },
    {
      "cell_type": "code",
      "source": [
        "response_as_dict[\"brand_name\"]"
      ],
      "metadata": {
        "colab": {
          "base_uri": "https://localhost:8080/",
          "height": 35
        },
        "id": "oLr5bpHUzriC",
        "outputId": "c506a4f1-1a76-4d63-de4b-bc4c0be1defe"
      },
      "execution_count": null,
      "outputs": [
        {
          "output_type": "execute_result",
          "data": {
            "text/plain": [
              "'LuxKicks'"
            ],
            "application/vnd.google.colaboratory.intrinsic+json": {
              "type": "string"
            }
          },
          "metadata": {},
          "execution_count": 40
        }
      ]
    },
    {
      "cell_type": "markdown",
      "source": [
        "### Lets put it in a Chain"
      ],
      "metadata": {
        "id": "zU83ILdc0kgP"
      }
    },
    {
      "cell_type": "code",
      "source": [
        "from langchain.prompts import PromptTemplate, ChatPromptTemplate, HumanMessagePromptTemplate\n",
        "from langchain.chat_models import ChatOpenAI\n",
        "\n",
        "llm = ChatOpenAI(temperature=0.0)\n",
        "\n",
        "prompt = ChatPromptTemplate(\n",
        "    messages=[\n",
        "        HumanMessagePromptTemplate.from_template(template_string)\n",
        "    ],\n",
        "    input_variables=[\"brand_description\"],\n",
        "    partial_variables={\"format_instructions\": format_instructions},\n",
        "    output_parser=output_parser # here we add the output parser to the Prompt template\n",
        ")"
      ],
      "metadata": {
        "id": "hfB2FYpgzwPJ"
      },
      "execution_count": null,
      "outputs": []
    },
    {
      "cell_type": "code",
      "source": [
        "prompt.messages"
      ],
      "metadata": {
        "colab": {
          "base_uri": "https://localhost:8080/"
        },
        "id": "4uvkZ7Qo43xT",
        "outputId": "566b67c8-689b-4e50-ecf7-cb6004c1a2f6"
      },
      "execution_count": null,
      "outputs": [
        {
          "output_type": "execute_result",
          "data": {
            "text/plain": [
              "[HumanMessagePromptTemplate(prompt=PromptTemplate(input_variables=['brand_description', 'format_instructions'], output_parser=None, partial_variables={}, template='You are a master branding consulatant who specializes in naming brands. You come up with catchy and memorable brand names.\\n\\nTake the brand description below delimited by triple backticks and use it to create the name for a brand.\\n\\nbrand description: ```{brand_description}```\\n\\nthen based on the description and you hot new brand name give the brand a score 1-10 for how likely it is to succeed.\\n\\n{format_instructions}\\n', template_format='f-string', validate_template=True), additional_kwargs={})]"
            ]
          },
          "metadata": {},
          "execution_count": 42
        }
      ]
    },
    {
      "cell_type": "code",
      "source": [
        "print(prompt.format(brand_description=\"a cool hip new sneaker brand aimed at rich kids\"))"
      ],
      "metadata": {
        "colab": {
          "base_uri": "https://localhost:8080/"
        },
        "id": "bWySidoQ5Sht",
        "outputId": "796c90a0-2a4e-449b-e35e-b0ae24a08009"
      },
      "execution_count": null,
      "outputs": [
        {
          "output_type": "stream",
          "name": "stdout",
          "text": [
            "Human: You are a master branding consulatant who specializes in naming brands. You come up with catchy and memorable brand names.\n",
            "\n",
            "Take the brand description below delimited by triple backticks and use it to create the name for a brand.\n",
            "\n",
            "brand description: ```a cool hip new sneaker brand aimed at rich kids```\n",
            "\n",
            "then based on the description and you hot new brand name give the brand a score 1-10 for how likely it is to succeed.\n",
            "\n",
            "The output should be a markdown code snippet formatted in the following schema, including the leading and trailing \"\\`\\`\\`json\" and \"\\`\\`\\`\":\n",
            "\n",
            "```json\n",
            "{\n",
            "\t\"brand_name\": string  // This is the name of the brand\n",
            "\t\"likelihood_of_success\": string  // This is an integer score between 1-10\n",
            "\t\"reasoning\": string  // This is the reasons for the score\n",
            "}\n",
            "```\n",
            "\n"
          ]
        }
      ]
    },
    {
      "cell_type": "code",
      "source": [
        "from langchain.chains import LLMChain\n",
        "\n",
        "chain = LLMChain(llm=llm,\n",
        "                 prompt=prompt)"
      ],
      "metadata": {
        "id": "DlwKv0kY2Szd"
      },
      "execution_count": null,
      "outputs": []
    },
    {
      "cell_type": "code",
      "source": [
        "# we have to use predict_and_parse to make sure the output gets\n",
        "response = chain.predict_and_parse(brand_description=\"a cool hip new sneaker brand aimed at rich kids\")"
      ],
      "metadata": {
        "id": "rZw4kDnq2iRs"
      },
      "execution_count": null,
      "outputs": []
    },
    {
      "cell_type": "code",
      "source": [
        "type(response)"
      ],
      "metadata": {
        "colab": {
          "base_uri": "https://localhost:8080/"
        },
        "id": "uSx5z5CG27Wl",
        "outputId": "7fe6eb7c-48e9-4acd-cb94-4c19b039c5e0"
      },
      "execution_count": null,
      "outputs": [
        {
          "output_type": "execute_result",
          "data": {
            "text/plain": [
              "dict"
            ]
          },
          "metadata": {},
          "execution_count": 46
        }
      ]
    },
    {
      "cell_type": "code",
      "source": [
        "response"
      ],
      "metadata": {
        "colab": {
          "base_uri": "https://localhost:8080/"
        },
        "id": "K_4HKP3a4f_t",
        "outputId": "0890bc4a-7aea-44fd-b529-4745d6a00dd9"
      },
      "execution_count": null,
      "outputs": [
        {
          "output_type": "execute_result",
          "data": {
            "text/plain": [
              "{'brand_name': 'LuxKicks',\n",
              " 'likelihood_of_success': '8',\n",
              " 'reasoning': \"The name is catchy and memorable, and it effectively communicates the brand's target audience of rich kids. However, the success of the brand will also depend on the quality and design of the sneakers themselves.\"}"
            ]
          },
          "metadata": {},
          "execution_count": 47
        }
      ]
    },
    {
      "cell_type": "code",
      "source": [
        "response[\"likelihood_of_success\"] # still a string"
      ],
      "metadata": {
        "colab": {
          "base_uri": "https://localhost:8080/",
          "height": 35
        },
        "id": "Ylicub544hsX",
        "outputId": "2c65a884-7113-42ff-ea11-7bd5120cd701"
      },
      "execution_count": null,
      "outputs": [
        {
          "output_type": "execute_result",
          "data": {
            "text/plain": [
              "'8'"
            ],
            "application/vnd.google.colaboratory.intrinsic+json": {
              "type": "string"
            }
          },
          "metadata": {},
          "execution_count": 48
        }
      ]
    },
    {
      "cell_type": "markdown",
      "source": [
        "## CommaSeparatedListOutputParser"
      ],
      "metadata": {
        "id": "CvbG-Ft2rpal"
      }
    },
    {
      "cell_type": "code",
      "source": [
        "from langchain.output_parsers import CommaSeparatedListOutputParser\n",
        "from langchain.prompts import PromptTemplate, ChatPromptTemplate, HumanMessagePromptTemplate\n",
        "from langchain.llms import OpenAI\n",
        "from langchain.chat_models import ChatOpenAI"
      ],
      "metadata": {
        "id": "5CO5wf4fTs1J"
      },
      "execution_count": null,
      "outputs": []
    },
    {
      "cell_type": "code",
      "source": [
        "output_parser = CommaSeparatedListOutputParser()"
      ],
      "metadata": {
        "id": "Io__7vH7Uj-7"
      },
      "execution_count": null,
      "outputs": []
    },
    {
      "cell_type": "code",
      "source": [
        "format_instructions = output_parser.get_format_instructions()\n",
        "format_instructions"
      ],
      "metadata": {
        "colab": {
          "base_uri": "https://localhost:8080/",
          "height": 35
        },
        "id": "XcxbbW3jxE4C",
        "outputId": "fd3504ed-329f-44de-b79b-572988e29960"
      },
      "execution_count": null,
      "outputs": [
        {
          "output_type": "execute_result",
          "data": {
            "text/plain": [
              "'Your response should be a list of comma separated values, eg: `foo, bar, baz`'"
            ],
            "application/vnd.google.colaboratory.intrinsic+json": {
              "type": "string"
            }
          },
          "metadata": {},
          "execution_count": 51
        }
      ]
    },
    {
      "cell_type": "code",
      "source": [
        "\n",
        "new_template_string=\"give me 4 possible marketing slogans for a brand named {brand_name} :\\n\\n{format_instructions}\"\n",
        "\n",
        "prompt = ChatPromptTemplate(\n",
        "    messages=[\n",
        "        HumanMessagePromptTemplate.from_template(new_template_string)\n",
        "    ],\n",
        "    input_variables=[\"brand_name\"],\n",
        "    partial_variables={\"format_instructions\": format_instructions}\n",
        ")\n"
      ],
      "metadata": {
        "id": "-UHdGrkIUmuL"
      },
      "execution_count": null,
      "outputs": []
    },
    {
      "cell_type": "code",
      "source": [
        "brand_name = response[\"brand_name\"]"
      ],
      "metadata": {
        "id": "SmsHH8N2soZq"
      },
      "execution_count": null,
      "outputs": []
    },
    {
      "cell_type": "code",
      "source": [
        "llm = ChatOpenAI(temperature=0.0)"
      ],
      "metadata": {
        "id": "EwRkBB1pUqYO"
      },
      "execution_count": null,
      "outputs": []
    },
    {
      "cell_type": "code",
      "source": [
        "messages_for_list_prompt = prompt.format_messages(brand_name=brand_name,\n",
        "                                format_instructions=format_instructions)"
      ],
      "metadata": {
        "id": "shwDsFqNum_B"
      },
      "execution_count": null,
      "outputs": []
    },
    {
      "cell_type": "code",
      "source": [
        "prompt"
      ],
      "metadata": {
        "colab": {
          "base_uri": "https://localhost:8080/"
        },
        "id": "PO35kn-rt8Ew",
        "outputId": "8a083741-e7e6-478b-8b06-c63b1323ccd1"
      },
      "execution_count": null,
      "outputs": [
        {
          "output_type": "execute_result",
          "data": {
            "text/plain": [
              "ChatPromptTemplate(input_variables=['brand_name'], output_parser=None, partial_variables={'format_instructions': 'Your response should be a list of comma separated values, eg: `foo, bar, baz`'}, messages=[HumanMessagePromptTemplate(prompt=PromptTemplate(input_variables=['brand_name', 'format_instructions'], output_parser=None, partial_variables={}, template='give me 4 possible marketing slogans for a brand named {brand_name} :\\n\\n{format_instructions}', template_format='f-string', validate_template=True), additional_kwargs={})])"
            ]
          },
          "metadata": {},
          "execution_count": 56
        }
      ]
    },
    {
      "cell_type": "code",
      "source": [
        "messages_for_list_prompt"
      ],
      "metadata": {
        "colab": {
          "base_uri": "https://localhost:8080/"
        },
        "id": "j4e_bKhXwio5",
        "outputId": "a30729b6-6717-4a0e-c748-d9199d42923c"
      },
      "execution_count": null,
      "outputs": [
        {
          "output_type": "execute_result",
          "data": {
            "text/plain": [
              "[HumanMessage(content='give me 4 possible marketing slogans for a brand named LuxKicks :\\n\\nYour response should be a list of comma separated values, eg: `foo, bar, baz`', additional_kwargs={}, example=False)]"
            ]
          },
          "metadata": {},
          "execution_count": 57
        }
      ]
    },
    {
      "cell_type": "code",
      "source": [
        "output = llm(messages_for_list_prompt)"
      ],
      "metadata": {
        "id": "yCmjzw2puwCD"
      },
      "execution_count": null,
      "outputs": []
    },
    {
      "cell_type": "code",
      "source": [
        "output.content"
      ],
      "metadata": {
        "colab": {
          "base_uri": "https://localhost:8080/",
          "height": 52
        },
        "id": "A8VGnD64Uxo2",
        "outputId": "507bb941-cb84-46e2-d9d0-c312489a8c0c"
      },
      "execution_count": null,
      "outputs": [
        {
          "output_type": "execute_result",
          "data": {
            "text/plain": [
              "'\"Step up your style with LuxKicks\", \"LuxKicks: Elevate your footwear game\", \"Experience luxury with every step in LuxKicks\", \"LuxKicks: Where comfort meets style\".'"
            ],
            "application/vnd.google.colaboratory.intrinsic+json": {
              "type": "string"
            }
          },
          "metadata": {},
          "execution_count": 60
        }
      ]
    },
    {
      "cell_type": "code",
      "source": [
        "slogans = output_parser.parse(output.content)\n",
        "slogans"
      ],
      "metadata": {
        "colab": {
          "base_uri": "https://localhost:8080/"
        },
        "id": "pmYFyykcUySU",
        "outputId": "863c981f-556b-48d1-ee85-6aec68fa35f5"
      },
      "execution_count": null,
      "outputs": [
        {
          "output_type": "execute_result",
          "data": {
            "text/plain": [
              "['\"Step up your style with LuxKicks\"',\n",
              " '\"LuxKicks: Elevate your footwear game\"',\n",
              " '\"Experience luxury with every step in LuxKicks\"',\n",
              " '\"LuxKicks: Where comfort meets style\".']"
            ]
          },
          "metadata": {},
          "execution_count": 61
        }
      ]
    },
    {
      "cell_type": "code",
      "source": [
        "type(slogans)"
      ],
      "metadata": {
        "colab": {
          "base_uri": "https://localhost:8080/"
        },
        "id": "N6WKlEJLvSlQ",
        "outputId": "47f47677-b08f-4849-b442-203663b6d819"
      },
      "execution_count": null,
      "outputs": [
        {
          "output_type": "execute_result",
          "data": {
            "text/plain": [
              "list"
            ]
          },
          "metadata": {},
          "execution_count": 62
        }
      ]
    },
    {
      "cell_type": "markdown",
      "source": [
        "## Pydantic OutputParser"
      ],
      "metadata": {
        "id": "RqoD9ZcQyLhu"
      }
    },
    {
      "cell_type": "code",
      "source": [
        "from langchain.output_parsers import PydanticOutputParser\n",
        "from pydantic import BaseModel, Field, validator\n",
        "from typing import List"
      ],
      "metadata": {
        "id": "40w93N1UXNqN"
      },
      "execution_count": null,
      "outputs": []
    },
    {
      "cell_type": "code",
      "source": [
        "llm = ChatOpenAI(temperature=0.0)"
      ],
      "metadata": {
        "id": "zEIrz8kvy9MV"
      },
      "execution_count": null,
      "outputs": []
    },
    {
      "cell_type": "code",
      "source": [
        "# Define your desired data structure.\n",
        "class BrandInfo(BaseModel):\n",
        "    brand_name: str = Field(description=\"This is the name of the brand\")\n",
        "    reasoning: str = Field(description=\"This is the reasons for the score\")\n",
        "    likelihood_of_success: int = Field(description=\"This is an integer score between 1-10\")\n",
        "\n",
        "    # You can add custom validation logic easily with Pydantic.\n",
        "    @validator('likelihood_of_success')\n",
        "    def check_score(cls, field):\n",
        "        if field >10:\n",
        "            raise ValueError(\"Badly formed Score\")\n",
        "        return field"
      ],
      "metadata": {
        "id": "1iTCmkSFzOwa"
      },
      "execution_count": null,
      "outputs": []
    },
    {
      "cell_type": "code",
      "source": [
        "# Set up a parser + inject instructions into the prompt template.\n",
        "pydantic_parser = PydanticOutputParser(pydantic_object=BrandInfo)\n",
        "\n",
        "format_instructions = pydantic_parser.get_format_instructions()\n"
      ],
      "metadata": {
        "id": "oHlyhjCM0_U7"
      },
      "execution_count": null,
      "outputs": []
    },
    {
      "cell_type": "code",
      "source": [
        "template_string = \"\"\"You are a master branding consulatant who specializes in naming brands. \\\n",
        "You come up with catchy and memorable brand names.\n",
        "\n",
        "Take the brand description below delimited by triple backticks and use it to create the name for a brand.\n",
        "\n",
        "brand description: ```{brand_description}```\n",
        "\n",
        "then based on the description and you hot new brand name give the brand a score 1-10 for how likely it is to succeed.\n",
        "\n",
        "{format_instructions}\n",
        "\"\"\""
      ],
      "metadata": {
        "id": "W768gTjwzevR"
      },
      "execution_count": null,
      "outputs": []
    },
    {
      "cell_type": "code",
      "source": [
        "prompt = ChatPromptTemplate.from_template(template=template_string)\n",
        "\n",
        "messages = prompt.format_messages(brand_description=\"a cool hip new sneaker brand aimed at rich kids\",\n",
        "                                format_instructions=format_instructions)"
      ],
      "metadata": {
        "id": "rVexdaECzevS"
      },
      "execution_count": null,
      "outputs": []
    },
    {
      "cell_type": "code",
      "source": [
        "messages"
      ],
      "metadata": {
        "colab": {
          "base_uri": "https://localhost:8080/"
        },
        "outputId": "61e1737d-b1e0-4c62-ec60-5d31ec92a859",
        "id": "pkNZrbtjzevS"
      },
      "execution_count": null,
      "outputs": [
        {
          "output_type": "execute_result",
          "data": {
            "text/plain": [
              "[HumanMessage(content='You are a master branding consulatant who specializes in naming brands. You come up with catchy and memorable brand names.\\n\\nTake the brand description below delimited by triple backticks and use it to create the name for a brand.\\n\\nbrand description: ```a cool hip new sneaker brand aimed at rich kids```\\n\\nthen based on the description and you hot new brand name give the brand a score 1-10 for how likely it is to succeed.\\n\\nThe output should be formatted as a JSON instance that conforms to the JSON schema below.\\n\\nAs an example, for the schema {\"properties\": {\"foo\": {\"title\": \"Foo\", \"description\": \"a list of strings\", \"type\": \"array\", \"items\": {\"type\": \"string\"}}}, \"required\": [\"foo\"]}}\\nthe object {\"foo\": [\"bar\", \"baz\"]} is a well-formatted instance of the schema. The object {\"properties\": {\"foo\": [\"bar\", \"baz\"]}} is not well-formatted.\\n\\nHere is the output schema:\\n```\\n{\"properties\": {\"brand_name\": {\"title\": \"Brand Name\", \"description\": \"This is the name of the brand\", \"type\": \"string\"}, \"reasoning\": {\"title\": \"Reasoning\", \"description\": \"This is the reasons for the score\", \"type\": \"string\"}, \"likelihood_of_success\": {\"title\": \"Likelihood Of Success\", \"description\": \"This is an integer score between 1-10\", \"type\": \"integer\"}}, \"required\": [\"brand_name\", \"reasoning\", \"likelihood_of_success\"]}\\n```\\n', additional_kwargs={}, example=False)]"
            ]
          },
          "metadata": {},
          "execution_count": 69
        }
      ]
    },
    {
      "cell_type": "code",
      "source": [
        "output = llm(messages)"
      ],
      "metadata": {
        "id": "XHHonjAl1t1g"
      },
      "execution_count": null,
      "outputs": []
    },
    {
      "cell_type": "code",
      "source": [
        "output.content"
      ],
      "metadata": {
        "colab": {
          "base_uri": "https://localhost:8080/",
          "height": 52
        },
        "outputId": "edc00763-837c-4874-b204-1b83b070d799",
        "id": "dNDXx49l1t1h"
      },
      "execution_count": null,
      "outputs": [
        {
          "output_type": "execute_result",
          "data": {
            "text/plain": [
              "'{\"brand_name\": \"Rich Kicks\", \"reasoning\": \"The name combines the target audience (rich kids) with the product (sneakers) in a catchy and memorable way.\", \"likelihood_of_success\": 8}'"
            ],
            "application/vnd.google.colaboratory.intrinsic+json": {
              "type": "string"
            }
          },
          "metadata": {},
          "execution_count": 71
        }
      ]
    },
    {
      "cell_type": "code",
      "source": [
        "the_brand = pydantic_parser.parse(output.content)\n",
        "\n",
        "the_brand"
      ],
      "metadata": {
        "colab": {
          "base_uri": "https://localhost:8080/"
        },
        "id": "FcUnXa5M12b_",
        "outputId": "2873347a-56c8-4c2b-e441-5381a2d81273"
      },
      "execution_count": null,
      "outputs": [
        {
          "output_type": "execute_result",
          "data": {
            "text/plain": [
              "BrandInfo(brand_name='Rich Kicks', reasoning='The name combines the target audience (rich kids) with the product (sneakers) in a catchy and memorable way.', likelihood_of_success=8)"
            ]
          },
          "metadata": {},
          "execution_count": 72
        }
      ]
    },
    {
      "cell_type": "code",
      "source": [
        "type(the_brand)"
      ],
      "metadata": {
        "colab": {
          "base_uri": "https://localhost:8080/"
        },
        "id": "SREazOfl2MyT",
        "outputId": "9dcaba12-02ee-481d-9bb1-339d66fa39c5"
      },
      "execution_count": null,
      "outputs": [
        {
          "output_type": "execute_result",
          "data": {
            "text/plain": [
              "__main__.BrandInfo"
            ]
          },
          "metadata": {},
          "execution_count": 73
        }
      ]
    },
    {
      "cell_type": "code",
      "source": [
        "the_brand.brand_name"
      ],
      "metadata": {
        "colab": {
          "base_uri": "https://localhost:8080/",
          "height": 35
        },
        "id": "Oeeo3SDO2QAK",
        "outputId": "5d0b3b36-faf9-4bec-8bd2-1c08e3e42ad8"
      },
      "execution_count": null,
      "outputs": [
        {
          "output_type": "execute_result",
          "data": {
            "text/plain": [
              "'Rich Kicks'"
            ],
            "application/vnd.google.colaboratory.intrinsic+json": {
              "type": "string"
            }
          },
          "metadata": {},
          "execution_count": 74
        }
      ]
    },
    {
      "cell_type": "code",
      "source": [
        "the_brand.likelihood_of_success"
      ],
      "metadata": {
        "colab": {
          "base_uri": "https://localhost:8080/"
        },
        "id": "TTzTsiQc2WaH",
        "outputId": "939524e5-64c2-4157-9b80-8356879fe1c8"
      },
      "execution_count": null,
      "outputs": [
        {
          "output_type": "execute_result",
          "data": {
            "text/plain": [
              "8"
            ]
          },
          "metadata": {},
          "execution_count": 77
        }
      ]
    },
    {
      "cell_type": "code",
      "source": [
        "type(the_brand.likelihood_of_success)"
      ],
      "metadata": {
        "colab": {
          "base_uri": "https://localhost:8080/"
        },
        "id": "xvSy1Hut2SsY",
        "outputId": "37c52a9a-9a5b-4a95-bd7d-e08c927df92a"
      },
      "execution_count": null,
      "outputs": [
        {
          "output_type": "execute_result",
          "data": {
            "text/plain": [
              "int"
            ]
          },
          "metadata": {},
          "execution_count": 78
        }
      ]
    },
    {
      "cell_type": "markdown",
      "source": [
        "## Output FixingParser"
      ],
      "metadata": {
        "id": "LTyM9_O134gB"
      }
    },
    {
      "cell_type": "code",
      "source": [
        "class Actor(BaseModel):\n",
        "    name: str = Field(description=\"name of an actor\")\n",
        "    film_names: List[str] = Field(description=\"list of names of films they starred in\")\n",
        "\n",
        "actor_query = \"Generate the filmography for a random actor.\"\n",
        "\n",
        "parser = PydanticOutputParser(pydantic_object=Actor)"
      ],
      "metadata": {
        "id": "LBY71o582cvc"
      },
      "execution_count": null,
      "outputs": []
    },
    {
      "cell_type": "code",
      "source": [
        "misformatted = \"{'name': 'Tom Hanks', 'film_names': ['Forrest Gump']}\""
      ],
      "metadata": {
        "id": "Pk0_-CEX4bKU"
      },
      "execution_count": null,
      "outputs": []
    },
    {
      "cell_type": "code",
      "source": [
        "parser.parse(misformatted)"
      ],
      "metadata": {
        "colab": {
          "base_uri": "https://localhost:8080/",
          "height": 451
        },
        "id": "TZuHYDzg4esa",
        "outputId": "badd1531-74a0-466e-c729-0057d809f77d"
      },
      "execution_count": null,
      "outputs": [
        {
          "output_type": "error",
          "ename": "OutputParserException",
          "evalue": "ignored",
          "traceback": [
            "\u001b[0;31m---------------------------------------------------------------------------\u001b[0m",
            "\u001b[0;31mJSONDecodeError\u001b[0m                           Traceback (most recent call last)",
            "\u001b[0;32m/usr/local/lib/python3.10/dist-packages/langchain/output_parsers/pydantic.py\u001b[0m in \u001b[0;36mparse\u001b[0;34m(self, text)\u001b[0m\n\u001b[1;32m     24\u001b[0m                 \u001b[0mjson_str\u001b[0m \u001b[0;34m=\u001b[0m \u001b[0mmatch\u001b[0m\u001b[0;34m.\u001b[0m\u001b[0mgroup\u001b[0m\u001b[0;34m(\u001b[0m\u001b[0;34m)\u001b[0m\u001b[0;34m\u001b[0m\u001b[0;34m\u001b[0m\u001b[0m\n\u001b[0;32m---> 25\u001b[0;31m             \u001b[0mjson_object\u001b[0m \u001b[0;34m=\u001b[0m \u001b[0mjson\u001b[0m\u001b[0;34m.\u001b[0m\u001b[0mloads\u001b[0m\u001b[0;34m(\u001b[0m\u001b[0mjson_str\u001b[0m\u001b[0;34m,\u001b[0m \u001b[0mstrict\u001b[0m\u001b[0;34m=\u001b[0m\u001b[0;32mFalse\u001b[0m\u001b[0;34m)\u001b[0m\u001b[0;34m\u001b[0m\u001b[0;34m\u001b[0m\u001b[0m\n\u001b[0m\u001b[1;32m     26\u001b[0m             \u001b[0;32mreturn\u001b[0m \u001b[0mself\u001b[0m\u001b[0;34m.\u001b[0m\u001b[0mpydantic_object\u001b[0m\u001b[0;34m.\u001b[0m\u001b[0mparse_obj\u001b[0m\u001b[0;34m(\u001b[0m\u001b[0mjson_object\u001b[0m\u001b[0;34m)\u001b[0m\u001b[0;34m\u001b[0m\u001b[0;34m\u001b[0m\u001b[0m\n",
            "\u001b[0;32m/usr/lib/python3.10/json/__init__.py\u001b[0m in \u001b[0;36mloads\u001b[0;34m(s, cls, object_hook, parse_float, parse_int, parse_constant, object_pairs_hook, **kw)\u001b[0m\n\u001b[1;32m    358\u001b[0m         \u001b[0mkw\u001b[0m\u001b[0;34m[\u001b[0m\u001b[0;34m'parse_constant'\u001b[0m\u001b[0;34m]\u001b[0m \u001b[0;34m=\u001b[0m \u001b[0mparse_constant\u001b[0m\u001b[0;34m\u001b[0m\u001b[0;34m\u001b[0m\u001b[0m\n\u001b[0;32m--> 359\u001b[0;31m     \u001b[0;32mreturn\u001b[0m \u001b[0mcls\u001b[0m\u001b[0;34m(\u001b[0m\u001b[0;34m**\u001b[0m\u001b[0mkw\u001b[0m\u001b[0;34m)\u001b[0m\u001b[0;34m.\u001b[0m\u001b[0mdecode\u001b[0m\u001b[0;34m(\u001b[0m\u001b[0ms\u001b[0m\u001b[0;34m)\u001b[0m\u001b[0;34m\u001b[0m\u001b[0;34m\u001b[0m\u001b[0m\n\u001b[0m",
            "\u001b[0;32m/usr/lib/python3.10/json/decoder.py\u001b[0m in \u001b[0;36mdecode\u001b[0;34m(self, s, _w)\u001b[0m\n\u001b[1;32m    336\u001b[0m         \"\"\"\n\u001b[0;32m--> 337\u001b[0;31m         \u001b[0mobj\u001b[0m\u001b[0;34m,\u001b[0m \u001b[0mend\u001b[0m \u001b[0;34m=\u001b[0m \u001b[0mself\u001b[0m\u001b[0;34m.\u001b[0m\u001b[0mraw_decode\u001b[0m\u001b[0;34m(\u001b[0m\u001b[0ms\u001b[0m\u001b[0;34m,\u001b[0m \u001b[0midx\u001b[0m\u001b[0;34m=\u001b[0m\u001b[0m_w\u001b[0m\u001b[0;34m(\u001b[0m\u001b[0ms\u001b[0m\u001b[0;34m,\u001b[0m \u001b[0;36m0\u001b[0m\u001b[0;34m)\u001b[0m\u001b[0;34m.\u001b[0m\u001b[0mend\u001b[0m\u001b[0;34m(\u001b[0m\u001b[0;34m)\u001b[0m\u001b[0;34m)\u001b[0m\u001b[0;34m\u001b[0m\u001b[0;34m\u001b[0m\u001b[0m\n\u001b[0m\u001b[1;32m    338\u001b[0m         \u001b[0mend\u001b[0m \u001b[0;34m=\u001b[0m \u001b[0m_w\u001b[0m\u001b[0;34m(\u001b[0m\u001b[0ms\u001b[0m\u001b[0;34m,\u001b[0m \u001b[0mend\u001b[0m\u001b[0;34m)\u001b[0m\u001b[0;34m.\u001b[0m\u001b[0mend\u001b[0m\u001b[0;34m(\u001b[0m\u001b[0;34m)\u001b[0m\u001b[0;34m\u001b[0m\u001b[0;34m\u001b[0m\u001b[0m\n",
            "\u001b[0;32m/usr/lib/python3.10/json/decoder.py\u001b[0m in \u001b[0;36mraw_decode\u001b[0;34m(self, s, idx)\u001b[0m\n\u001b[1;32m    352\u001b[0m         \u001b[0;32mtry\u001b[0m\u001b[0;34m:\u001b[0m\u001b[0;34m\u001b[0m\u001b[0;34m\u001b[0m\u001b[0m\n\u001b[0;32m--> 353\u001b[0;31m             \u001b[0mobj\u001b[0m\u001b[0;34m,\u001b[0m \u001b[0mend\u001b[0m \u001b[0;34m=\u001b[0m \u001b[0mself\u001b[0m\u001b[0;34m.\u001b[0m\u001b[0mscan_once\u001b[0m\u001b[0;34m(\u001b[0m\u001b[0ms\u001b[0m\u001b[0;34m,\u001b[0m \u001b[0midx\u001b[0m\u001b[0;34m)\u001b[0m\u001b[0;34m\u001b[0m\u001b[0;34m\u001b[0m\u001b[0m\n\u001b[0m\u001b[1;32m    354\u001b[0m         \u001b[0;32mexcept\u001b[0m \u001b[0mStopIteration\u001b[0m \u001b[0;32mas\u001b[0m \u001b[0merr\u001b[0m\u001b[0;34m:\u001b[0m\u001b[0;34m\u001b[0m\u001b[0;34m\u001b[0m\u001b[0m\n",
            "\u001b[0;31mJSONDecodeError\u001b[0m: Expecting property name enclosed in double quotes: line 1 column 2 (char 1)",
            "\nDuring handling of the above exception, another exception occurred:\n",
            "\u001b[0;31mOutputParserException\u001b[0m                     Traceback (most recent call last)",
            "\u001b[0;32m<ipython-input-81-92abc77851ee>\u001b[0m in \u001b[0;36m<cell line: 1>\u001b[0;34m()\u001b[0m\n\u001b[0;32m----> 1\u001b[0;31m \u001b[0mparser\u001b[0m\u001b[0;34m.\u001b[0m\u001b[0mparse\u001b[0m\u001b[0;34m(\u001b[0m\u001b[0mmisformatted\u001b[0m\u001b[0;34m)\u001b[0m\u001b[0;34m\u001b[0m\u001b[0;34m\u001b[0m\u001b[0m\n\u001b[0m",
            "\u001b[0;32m/usr/local/lib/python3.10/dist-packages/langchain/output_parsers/pydantic.py\u001b[0m in \u001b[0;36mparse\u001b[0;34m(self, text)\u001b[0m\n\u001b[1;32m     29\u001b[0m             \u001b[0mname\u001b[0m \u001b[0;34m=\u001b[0m \u001b[0mself\u001b[0m\u001b[0;34m.\u001b[0m\u001b[0mpydantic_object\u001b[0m\u001b[0;34m.\u001b[0m\u001b[0m__name__\u001b[0m\u001b[0;34m\u001b[0m\u001b[0;34m\u001b[0m\u001b[0m\n\u001b[1;32m     30\u001b[0m             \u001b[0mmsg\u001b[0m \u001b[0;34m=\u001b[0m \u001b[0;34mf\"Failed to parse {name} from completion {text}. Got: {e}\"\u001b[0m\u001b[0;34m\u001b[0m\u001b[0;34m\u001b[0m\u001b[0m\n\u001b[0;32m---> 31\u001b[0;31m             \u001b[0;32mraise\u001b[0m \u001b[0mOutputParserException\u001b[0m\u001b[0;34m(\u001b[0m\u001b[0mmsg\u001b[0m\u001b[0;34m)\u001b[0m\u001b[0;34m\u001b[0m\u001b[0;34m\u001b[0m\u001b[0m\n\u001b[0m\u001b[1;32m     32\u001b[0m \u001b[0;34m\u001b[0m\u001b[0m\n\u001b[1;32m     33\u001b[0m     \u001b[0;32mdef\u001b[0m \u001b[0mget_format_instructions\u001b[0m\u001b[0;34m(\u001b[0m\u001b[0mself\u001b[0m\u001b[0;34m)\u001b[0m \u001b[0;34m->\u001b[0m \u001b[0mstr\u001b[0m\u001b[0;34m:\u001b[0m\u001b[0;34m\u001b[0m\u001b[0;34m\u001b[0m\u001b[0m\n",
            "\u001b[0;31mOutputParserException\u001b[0m: Failed to parse Actor from completion {'name': 'Tom Hanks', 'film_names': ['Forrest Gump']}. Got: Expecting property name enclosed in double quotes: line 1 column 2 (char 1)"
          ]
        }
      ]
    },
    {
      "cell_type": "code",
      "source": [
        "from langchain.output_parsers import OutputFixingParser\n",
        "\n",
        "new_parser = OutputFixingParser.from_llm(parser=parser,\n",
        "                                         llm=ChatOpenAI())"
      ],
      "metadata": {
        "id": "SQb4uW8N4kbz"
      },
      "execution_count": null,
      "outputs": []
    },
    {
      "cell_type": "code",
      "source": [
        "new_parser.parse(misformatted)"
      ],
      "metadata": {
        "colab": {
          "base_uri": "https://localhost:8080/"
        },
        "id": "47R0-wDr4yJw",
        "outputId": "550bb143-4248-4521-abc9-3e4a2ba3a019"
      },
      "execution_count": null,
      "outputs": [
        {
          "output_type": "execute_result",
          "data": {
            "text/plain": [
              "Actor(name='Tom Hanks', film_names=['Forrest Gump'])"
            ]
          },
          "metadata": {},
          "execution_count": 83
        }
      ]
    },
    {
      "cell_type": "code",
      "source": [
        "#lets look at the prompt\n",
        "print(new_parser.retry_chain.prompt.template)"
      ],
      "metadata": {
        "colab": {
          "base_uri": "https://localhost:8080/"
        },
        "id": "dodRU-ExBrCu",
        "outputId": "10ba9085-caaa-47b9-ebb2-4f66042a1393"
      },
      "execution_count": null,
      "outputs": [
        {
          "output_type": "stream",
          "name": "stdout",
          "text": [
            "Instructions:\n",
            "--------------\n",
            "{instructions}\n",
            "--------------\n",
            "Completion:\n",
            "--------------\n",
            "{completion}\n",
            "--------------\n",
            "\n",
            "Above, the Completion did not satisfy the constraints given in the Instructions.\n",
            "Error:\n",
            "--------------\n",
            "{error}\n",
            "--------------\n",
            "\n",
            "Please try again. Please only respond with an answer that satisfies the constraints laid out in the Instructions:\n"
          ]
        }
      ]
    },
    {
      "cell_type": "markdown",
      "source": [
        "## RetryOutputParser\n",
        "\n",
        "If you can't fix the output then you need to retry from the llm"
      ],
      "metadata": {
        "id": "2ZpvfV8U5RE8"
      }
    },
    {
      "cell_type": "code",
      "source": [
        "from langchain.output_parsers import PydanticOutputParser, OutputFixingParser, RetryOutputParser"
      ],
      "metadata": {
        "id": "dnCQ7sZE4696"
      },
      "execution_count": null,
      "outputs": []
    },
    {
      "cell_type": "code",
      "source": [
        "template = \"\"\"Based on the user question, provide an Action and Action Input for what step should be taken.\n",
        "{format_instructions}\n",
        "Question: {query}\n",
        "Response:\"\"\"\n",
        "class Action(BaseModel):\n",
        "    action: str = Field(description=\"action to take\")\n",
        "    action_input: str = Field(description=\"input to the action\")\n",
        "\n",
        "parser = PydanticOutputParser(pydantic_object=Action)"
      ],
      "metadata": {
        "id": "3KZLl1aqZWN1"
      },
      "execution_count": null,
      "outputs": []
    },
    {
      "cell_type": "code",
      "source": [
        "prompt = PromptTemplate(\n",
        "    template=\"Answer the user query.\\n{format_instructions}\\n{query}\\n\",\n",
        "    input_variables=[\"query\"],\n",
        "    partial_variables={\"format_instructions\": parser.get_format_instructions()}\n",
        ")"
      ],
      "metadata": {
        "id": "ce4rM0-7ZYRO"
      },
      "execution_count": null,
      "outputs": []
    },
    {
      "cell_type": "code",
      "source": [
        "prompt_value = prompt.format_prompt(query=\"who is leo di caprios gf?\")"
      ],
      "metadata": {
        "id": "0NVEP69HZble"
      },
      "execution_count": null,
      "outputs": []
    },
    {
      "cell_type": "code",
      "source": [
        "prompt_value"
      ],
      "metadata": {
        "colab": {
          "base_uri": "https://localhost:8080/"
        },
        "id": "qxUDVZrqZi4b",
        "outputId": "1dd5ef26-dbda-4b17-c004-f0ce8a26363d"
      },
      "execution_count": null,
      "outputs": [
        {
          "output_type": "execute_result",
          "data": {
            "text/plain": [
              "StringPromptValue(text='Answer the user query.\\nThe output should be formatted as a JSON instance that conforms to the JSON schema below.\\n\\nAs an example, for the schema {\"properties\": {\"foo\": {\"title\": \"Foo\", \"description\": \"a list of strings\", \"type\": \"array\", \"items\": {\"type\": \"string\"}}}, \"required\": [\"foo\"]}}\\nthe object {\"foo\": [\"bar\", \"baz\"]} is a well-formatted instance of the schema. The object {\"properties\": {\"foo\": [\"bar\", \"baz\"]}} is not well-formatted.\\n\\nHere is the output schema:\\n```\\n{\"properties\": {\"action\": {\"title\": \"Action\", \"description\": \"action to take\", \"type\": \"string\"}, \"action_input\": {\"title\": \"Action Input\", \"description\": \"input to the action\", \"type\": \"string\"}}, \"required\": [\"action\", \"action_input\"]}\\n```\\nwho is leo di caprios gf?\\n')"
            ]
          },
          "metadata": {},
          "execution_count": 92
        }
      ]
    },
    {
      "cell_type": "code",
      "source": [
        "bad_response = '{\"action\": \"search\"}'"
      ],
      "metadata": {
        "id": "ZFyZVPDRZkaH"
      },
      "execution_count": null,
      "outputs": []
    },
    {
      "cell_type": "code",
      "source": [
        "parser.parse(bad_response)"
      ],
      "metadata": {
        "colab": {
          "base_uri": "https://localhost:8080/",
          "height": 503
        },
        "id": "7dc6OlpwZpbJ",
        "outputId": "3e9b9906-aba9-45ff-cff5-2af43b2c0662"
      },
      "execution_count": null,
      "outputs": [
        {
          "output_type": "error",
          "ename": "OutputParserException",
          "evalue": "ignored",
          "traceback": [
            "\u001b[0;31m---------------------------------------------------------------------------\u001b[0m",
            "\u001b[0;31mValidationError\u001b[0m                           Traceback (most recent call last)",
            "\u001b[0;32m/usr/local/lib/python3.10/dist-packages/langchain/output_parsers/pydantic.py\u001b[0m in \u001b[0;36mparse\u001b[0;34m(self, text)\u001b[0m\n\u001b[1;32m     25\u001b[0m             \u001b[0mjson_object\u001b[0m \u001b[0;34m=\u001b[0m \u001b[0mjson\u001b[0m\u001b[0;34m.\u001b[0m\u001b[0mloads\u001b[0m\u001b[0;34m(\u001b[0m\u001b[0mjson_str\u001b[0m\u001b[0;34m,\u001b[0m \u001b[0mstrict\u001b[0m\u001b[0;34m=\u001b[0m\u001b[0;32mFalse\u001b[0m\u001b[0;34m)\u001b[0m\u001b[0;34m\u001b[0m\u001b[0;34m\u001b[0m\u001b[0m\n\u001b[0;32m---> 26\u001b[0;31m             \u001b[0;32mreturn\u001b[0m \u001b[0mself\u001b[0m\u001b[0;34m.\u001b[0m\u001b[0mpydantic_object\u001b[0m\u001b[0;34m.\u001b[0m\u001b[0mparse_obj\u001b[0m\u001b[0;34m(\u001b[0m\u001b[0mjson_object\u001b[0m\u001b[0;34m)\u001b[0m\u001b[0;34m\u001b[0m\u001b[0;34m\u001b[0m\u001b[0m\n\u001b[0m\u001b[1;32m     27\u001b[0m \u001b[0;34m\u001b[0m\u001b[0m\n",
            "\u001b[0;32m/usr/local/lib/python3.10/dist-packages/pydantic/main.cpython-310-x86_64-linux-gnu.so\u001b[0m in \u001b[0;36mpydantic.main.BaseModel.parse_obj\u001b[0;34m()\u001b[0m\n",
            "\u001b[0;32m/usr/local/lib/python3.10/dist-packages/pydantic/main.cpython-310-x86_64-linux-gnu.so\u001b[0m in \u001b[0;36mpydantic.main.BaseModel.__init__\u001b[0;34m()\u001b[0m\n",
            "\u001b[0;31mValidationError\u001b[0m: 1 validation error for Action\naction_input\n  field required (type=value_error.missing)",
            "\nDuring handling of the above exception, another exception occurred:\n",
            "\u001b[0;31mOutputParserException\u001b[0m                     Traceback (most recent call last)",
            "\u001b[0;32m<ipython-input-94-e4637f3c75c6>\u001b[0m in \u001b[0;36m<cell line: 1>\u001b[0;34m()\u001b[0m\n\u001b[0;32m----> 1\u001b[0;31m \u001b[0mparser\u001b[0m\u001b[0;34m.\u001b[0m\u001b[0mparse\u001b[0m\u001b[0;34m(\u001b[0m\u001b[0mbad_response\u001b[0m\u001b[0;34m)\u001b[0m\u001b[0;34m\u001b[0m\u001b[0;34m\u001b[0m\u001b[0m\n\u001b[0m",
            "\u001b[0;32m/usr/local/lib/python3.10/dist-packages/langchain/output_parsers/pydantic.py\u001b[0m in \u001b[0;36mparse\u001b[0;34m(self, text)\u001b[0m\n\u001b[1;32m     29\u001b[0m             \u001b[0mname\u001b[0m \u001b[0;34m=\u001b[0m \u001b[0mself\u001b[0m\u001b[0;34m.\u001b[0m\u001b[0mpydantic_object\u001b[0m\u001b[0;34m.\u001b[0m\u001b[0m__name__\u001b[0m\u001b[0;34m\u001b[0m\u001b[0;34m\u001b[0m\u001b[0m\n\u001b[1;32m     30\u001b[0m             \u001b[0mmsg\u001b[0m \u001b[0;34m=\u001b[0m \u001b[0;34mf\"Failed to parse {name} from completion {text}. Got: {e}\"\u001b[0m\u001b[0;34m\u001b[0m\u001b[0;34m\u001b[0m\u001b[0m\n\u001b[0;32m---> 31\u001b[0;31m             \u001b[0;32mraise\u001b[0m \u001b[0mOutputParserException\u001b[0m\u001b[0;34m(\u001b[0m\u001b[0mmsg\u001b[0m\u001b[0;34m)\u001b[0m\u001b[0;34m\u001b[0m\u001b[0;34m\u001b[0m\u001b[0m\n\u001b[0m\u001b[1;32m     32\u001b[0m \u001b[0;34m\u001b[0m\u001b[0m\n\u001b[1;32m     33\u001b[0m     \u001b[0;32mdef\u001b[0m \u001b[0mget_format_instructions\u001b[0m\u001b[0;34m(\u001b[0m\u001b[0mself\u001b[0m\u001b[0;34m)\u001b[0m \u001b[0;34m->\u001b[0m \u001b[0mstr\u001b[0m\u001b[0;34m:\u001b[0m\u001b[0;34m\u001b[0m\u001b[0;34m\u001b[0m\u001b[0m\n",
            "\u001b[0;31mOutputParserException\u001b[0m: Failed to parse Action from completion {\"action\": \"search\"}. Got: 1 validation error for Action\naction_input\n  field required (type=value_error.missing)"
          ]
        }
      ]
    },
    {
      "cell_type": "code",
      "source": [
        "fix_parser = OutputFixingParser.from_llm(parser=parser, llm=ChatOpenAI())"
      ],
      "metadata": {
        "id": "UCzgsfliZsLw"
      },
      "execution_count": null,
      "outputs": []
    },
    {
      "cell_type": "code",
      "source": [
        "fix_parser.parse(bad_response)"
      ],
      "metadata": {
        "colab": {
          "base_uri": "https://localhost:8080/"
        },
        "id": "eHmjqjbgZvr9",
        "outputId": "b69f47eb-1893-4a99-a388-5b804da0a89d"
      },
      "execution_count": null,
      "outputs": [
        {
          "output_type": "execute_result",
          "data": {
            "text/plain": [
              "Action(action='search', action_input='')"
            ]
          },
          "metadata": {},
          "execution_count": 96
        }
      ]
    },
    {
      "cell_type": "code",
      "source": [
        "from langchain.output_parsers import RetryWithErrorOutputParser"
      ],
      "metadata": {
        "id": "sZOJhHrCZ02W"
      },
      "execution_count": null,
      "outputs": []
    },
    {
      "cell_type": "code",
      "source": [
        "retry_parser = RetryWithErrorOutputParser.from_llm(parser=parser, llm=OpenAI(temperature=0))"
      ],
      "metadata": {
        "id": "Hh-JlfVOZ-2R"
      },
      "execution_count": null,
      "outputs": []
    },
    {
      "cell_type": "code",
      "source": [
        "retry_parser.parse_with_prompt(bad_response, prompt_value)"
      ],
      "metadata": {
        "colab": {
          "base_uri": "https://localhost:8080/"
        },
        "id": "ndpaDX2-aBtB",
        "outputId": "441fc539-93a7-49b0-bcc3-fd5fbf4f19cb"
      },
      "execution_count": null,
      "outputs": [
        {
          "output_type": "execute_result",
          "data": {
            "text/plain": [
              "Action(action='search', action_input='who is leo di caprios gf?')"
            ]
          },
          "metadata": {},
          "execution_count": 99
        }
      ]
    },
    {
      "cell_type": "code",
      "source": [],
      "metadata": {
        "id": "W2hBNQ9O9_rO"
      },
      "execution_count": null,
      "outputs": []
    }
  ]
}