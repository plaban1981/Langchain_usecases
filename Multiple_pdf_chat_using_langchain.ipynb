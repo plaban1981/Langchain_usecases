{
  "nbformat": 4,
  "nbformat_minor": 0,
  "metadata": {
    "colab": {
      "provenance": [],
      "authorship_tag": "ABX9TyNqSa0i0cnHUA272nkWAQ/1",
      "include_colab_link": true
    },
    "kernelspec": {
      "name": "python3",
      "display_name": "Python 3"
    },
    "language_info": {
      "name": "python"
    }
  },
  "cells": [
    {
      "cell_type": "markdown",
      "metadata": {
        "id": "view-in-github",
        "colab_type": "text"
      },
      "source": [
        "<a href=\"https://colab.research.google.com/github/plaban1981/Langchain_usecases/blob/main/Multiple_pdf_chat_using_langchain.ipynb\" target=\"_parent\"><img src=\"https://colab.research.google.com/assets/colab-badge.svg\" alt=\"Open In Colab\"/></a>"
      ]
    },
    {
      "cell_type": "code",
      "execution_count": 1,
      "metadata": {
        "colab": {
          "base_uri": "https://localhost:8080/"
        },
        "id": "gCHo-i7KLf6H",
        "outputId": "01d3a4b6-a9ea-4c6f-e891-75bd617ef25a"
      },
      "outputs": [
        {
          "output_type": "stream",
          "name": "stdout",
          "text": [
            "\u001b[2K     \u001b[90m━━━━━━━━━━━━━━━━━━━━━━━━━━━━━━━━━━━━━━━━\u001b[0m \u001b[32m1.1/1.1 MB\u001b[0m \u001b[31m20.0 MB/s\u001b[0m eta \u001b[36m0:00:00\u001b[0m\n",
            "\u001b[2K     \u001b[90m━━━━━━━━━━━━━━━━━━━━━━━━━━━━━━━━━━━━━━\u001b[0m \u001b[32m232.6/232.6 kB\u001b[0m \u001b[31m21.4 MB/s\u001b[0m eta \u001b[36m0:00:00\u001b[0m\n",
            "\u001b[2K     \u001b[90m━━━━━━━━━━━━━━━━━━━━━━━━━━━━━━━━━━━━━━━━\u001b[0m \u001b[32m73.6/73.6 kB\u001b[0m \u001b[31m7.7 MB/s\u001b[0m eta \u001b[36m0:00:00\u001b[0m\n",
            "\u001b[2K     \u001b[90m━━━━━━━━━━━━━━━━━━━━━━━━━━━━━━━━━━━━━━━━\u001b[0m \u001b[32m1.7/1.7 MB\u001b[0m \u001b[31m59.2 MB/s\u001b[0m eta \u001b[36m0:00:00\u001b[0m\n",
            "\u001b[2K     \u001b[90m━━━━━━━━━━━━━━━━━━━━━━━━━━━━━━━━━━━━━━━━\u001b[0m \u001b[32m17.6/17.6 MB\u001b[0m \u001b[31m75.2 MB/s\u001b[0m eta \u001b[36m0:00:00\u001b[0m\n",
            "\u001b[2K     \u001b[90m━━━━━━━━━━━━━━━━━━━━━━━━━━━━━━━━━━━━━━━━\u001b[0m \u001b[32m1.0/1.0 MB\u001b[0m \u001b[31m67.7 MB/s\u001b[0m eta \u001b[36m0:00:00\u001b[0m\n",
            "\u001b[2K     \u001b[90m━━━━━━━━━━━━━━━━━━━━━━━━━━━━━━━━━━━━━━━━\u001b[0m \u001b[32m90.0/90.0 kB\u001b[0m \u001b[31m11.7 MB/s\u001b[0m eta \u001b[36m0:00:00\u001b[0m\n",
            "\u001b[2K     \u001b[90m━━━━━━━━━━━━━━━━━━━━━━━━━━━━━━━━━━━━━━\u001b[0m \u001b[32m114.5/114.5 kB\u001b[0m \u001b[31m14.7 MB/s\u001b[0m eta \u001b[36m0:00:00\u001b[0m\n",
            "\u001b[2K     \u001b[90m━━━━━━━━━━━━━━━━━━━━━━━━━━━━━━━━━━━━━━\u001b[0m \u001b[32m268.8/268.8 kB\u001b[0m \u001b[31m27.8 MB/s\u001b[0m eta \u001b[36m0:00:00\u001b[0m\n",
            "\u001b[2K     \u001b[90m━━━━━━━━━━━━━━━━━━━━━━━━━━━━━━━━━━━━━━\u001b[0m \u001b[32m149.6/149.6 kB\u001b[0m \u001b[31m17.1 MB/s\u001b[0m eta \u001b[36m0:00:00\u001b[0m\n",
            "\u001b[2K     \u001b[90m━━━━━━━━━━━━━━━━━━━━━━━━━━━━━━━━━━━━━━━━\u001b[0m \u001b[32m49.1/49.1 kB\u001b[0m \u001b[31m5.0 MB/s\u001b[0m eta \u001b[36m0:00:00\u001b[0m\n",
            "\u001b[?25h"
          ]
        }
      ],
      "source": [
        "!pip install -qU langchain PyPDF2 openai tiktoken faiss-cpu"
      ]
    },
    {
      "cell_type": "code",
      "source": [
        "! pip list --local"
      ],
      "metadata": {
        "colab": {
          "base_uri": "https://localhost:8080/"
        },
        "id": "FQcCq_3iMzQn",
        "outputId": "7c8925b0-9574-40cb-dada-71a3f7445262"
      },
      "execution_count": 2,
      "outputs": [
        {
          "output_type": "stream",
          "name": "stdout",
          "text": [
            "Package                       Version\n",
            "----------------------------- ---------------------\n",
            "absl-py                       1.4.0\n",
            "aiohttp                       3.8.4\n",
            "aiosignal                     1.3.1\n",
            "alabaster                     0.7.13\n",
            "albumentations                1.2.1\n",
            "altair                        4.2.2\n",
            "anyio                         3.6.2\n",
            "appdirs                       1.4.4\n",
            "argon2-cffi                   21.3.0\n",
            "argon2-cffi-bindings          21.2.0\n",
            "array-record                  0.2.0\n",
            "arviz                         0.15.1\n",
            "astropy                       5.2.2\n",
            "astunparse                    1.6.3\n",
            "async-timeout                 4.0.2\n",
            "attrs                         23.1.0\n",
            "audioread                     3.0.0\n",
            "autograd                      1.5\n",
            "Babel                         2.12.1\n",
            "backcall                      0.2.0\n",
            "beautifulsoup4                4.11.2\n",
            "bleach                        6.0.0\n",
            "blis                          0.7.9\n",
            "blosc2                        2.0.0\n",
            "bokeh                         2.4.3\n",
            "branca                        0.6.0\n",
            "build                         0.10.0\n",
            "CacheControl                  0.12.11\n",
            "cached-property               1.5.2\n",
            "cachetools                    5.3.0\n",
            "catalogue                     2.0.8\n",
            "certifi                       2022.12.7\n",
            "cffi                          1.15.1\n",
            "chardet                       4.0.0\n",
            "charset-normalizer            2.0.12\n",
            "chex                          0.1.7\n",
            "click                         8.1.3\n",
            "cloudpickle                   2.2.1\n",
            "cmake                         3.25.2\n",
            "cmdstanpy                     1.1.0\n",
            "colorcet                      3.0.1\n",
            "colorlover                    0.3.0\n",
            "community                     1.0.0b1\n",
            "confection                    0.0.4\n",
            "cons                          0.4.5\n",
            "contextlib2                   0.6.0.post1\n",
            "contourpy                     1.0.7\n",
            "convertdate                   2.4.0\n",
            "cryptography                  40.0.2\n",
            "cufflinks                     0.17.3\n",
            "cvxopt                        1.3.0\n",
            "cvxpy                         1.3.1\n",
            "cycler                        0.11.0\n",
            "cymem                         2.0.7\n",
            "Cython                        0.29.34\n",
            "dask                          2022.12.1\n",
            "dataclasses-json              0.5.8\n",
            "datascience                   0.17.6\n",
            "db-dtypes                     1.1.1\n",
            "dbus-python                   1.2.16\n",
            "debugpy                       1.6.6\n",
            "decorator                     4.4.2\n",
            "defusedxml                    0.7.1\n",
            "distributed                   2022.12.1\n",
            "dlib                          19.24.1\n",
            "dm-tree                       0.1.8\n",
            "docutils                      0.16\n",
            "dopamine-rl                   4.0.6\n",
            "duckdb                        0.7.1\n",
            "earthengine-api               0.1.350\n",
            "easydict                      1.10\n",
            "ecos                          2.0.12\n",
            "editdistance                  0.6.2\n",
            "en-core-web-sm                3.5.0\n",
            "entrypoints                   0.4\n",
            "ephem                         4.1.4\n",
            "et-xmlfile                    1.1.0\n",
            "etils                         1.2.0\n",
            "etuples                       0.3.8\n",
            "exceptiongroup                1.1.1\n",
            "faiss-cpu                     1.7.4\n",
            "fastai                        2.7.12\n",
            "fastcore                      1.5.29\n",
            "fastdownload                  0.0.7\n",
            "fastjsonschema                2.16.3\n",
            "fastprogress                  1.0.3\n",
            "fastrlock                     0.8.1\n",
            "filelock                      3.12.0\n",
            "firebase-admin                5.3.0\n",
            "Flask                         2.2.4\n",
            "flatbuffers                   23.3.3\n",
            "flax                          0.6.9\n",
            "folium                        0.14.0\n",
            "fonttools                     4.39.3\n",
            "frozendict                    2.3.7\n",
            "frozenlist                    1.3.3\n",
            "fsspec                        2023.4.0\n",
            "future                        0.18.3\n",
            "gast                          0.4.0\n",
            "GDAL                          3.3.2\n",
            "gdown                         4.6.6\n",
            "gensim                        4.3.1\n",
            "geographiclib                 2.0\n",
            "geopy                         2.3.0\n",
            "gin-config                    0.5.0\n",
            "glob2                         0.7\n",
            "google                        2.0.3\n",
            "google-api-core               2.11.0\n",
            "google-api-python-client      2.84.0\n",
            "google-auth                   2.17.3\n",
            "google-auth-httplib2          0.1.0\n",
            "google-auth-oauthlib          1.0.0\n",
            "google-cloud-bigquery         3.9.0\n",
            "google-cloud-bigquery-storage 2.19.1\n",
            "google-cloud-core             2.3.2\n",
            "google-cloud-datastore        2.15.1\n",
            "google-cloud-firestore        2.11.0\n",
            "google-cloud-language         2.9.1\n",
            "google-cloud-storage          2.8.0\n",
            "google-cloud-translate        3.11.1\n",
            "google-colab                  1.0.0\n",
            "google-crc32c                 1.5.0\n",
            "google-pasta                  0.2.0\n",
            "google-resumable-media        2.5.0\n",
            "googleapis-common-protos      1.59.0\n",
            "googledrivedownloader         0.4\n",
            "graphviz                      0.20.1\n",
            "greenlet                      2.0.2\n",
            "grpcio                        1.54.0\n",
            "grpcio-status                 1.48.2\n",
            "gspread                       3.4.2\n",
            "gspread-dataframe             3.0.8\n",
            "gym                           0.25.2\n",
            "gym-notices                   0.0.8\n",
            "h5netcdf                      1.1.0\n",
            "h5py                          3.8.0\n",
            "holidays                      0.25\n",
            "holoviews                     1.15.4\n",
            "html5lib                      1.1\n",
            "httpimport                    1.3.0\n",
            "httplib2                      0.21.0\n",
            "humanize                      4.6.0\n",
            "hyperopt                      0.2.7\n",
            "idna                          3.4\n",
            "imageio                       2.25.1\n",
            "imageio-ffmpeg                0.4.8\n",
            "imagesize                     1.4.1\n",
            "imbalanced-learn              0.10.1\n",
            "imgaug                        0.4.0\n",
            "importlib-resources           5.12.0\n",
            "imutils                       0.5.4\n",
            "inflect                       6.0.4\n",
            "iniconfig                     2.0.0\n",
            "intel-openmp                  2023.1.0\n",
            "ipykernel                     5.5.6\n",
            "ipython                       7.34.0\n",
            "ipython-genutils              0.2.0\n",
            "ipython-sql                   0.4.1\n",
            "ipywidgets                    7.7.1\n",
            "itsdangerous                  2.1.2\n",
            "jax                           0.4.10\n",
            "jaxlib                        0.4.10+cuda11.cudnn86\n",
            "jieba                         0.42.1\n",
            "Jinja2                        3.1.2\n",
            "joblib                        1.2.0\n",
            "jsonpickle                    3.0.1\n",
            "jsonschema                    4.3.3\n",
            "jupyter-client                6.1.12\n",
            "jupyter-console               6.1.0\n",
            "jupyter_core                  5.3.0\n",
            "jupyter-server                1.24.0\n",
            "jupyterlab-pygments           0.2.2\n",
            "jupyterlab-widgets            3.0.7\n",
            "kaggle                        1.5.13\n",
            "keras                         2.12.0\n",
            "kiwisolver                    1.4.4\n",
            "korean-lunar-calendar         0.3.1\n",
            "langchain                     0.0.207\n",
            "langchainplus-sdk             0.0.16\n",
            "langcodes                     3.3.0\n",
            "lazy_loader                   0.2\n",
            "libclang                      16.0.0\n",
            "librosa                       0.10.0.post2\n",
            "lightgbm                      3.3.5\n",
            "lit                           16.0.5\n",
            "llvmlite                      0.39.1\n",
            "locket                        1.0.0\n",
            "logical-unification           0.4.5\n",
            "LunarCalendar                 0.0.9\n",
            "lxml                          4.9.2\n",
            "Markdown                      3.4.3\n",
            "markdown-it-py                2.2.0\n",
            "MarkupSafe                    2.1.2\n",
            "marshmallow                   3.19.0\n",
            "marshmallow-enum              1.5.1\n",
            "matplotlib                    3.7.1\n",
            "matplotlib-inline             0.1.6\n",
            "matplotlib-venn               0.11.9\n",
            "mdurl                         0.1.2\n",
            "miniKanren                    1.0.3\n",
            "missingno                     0.5.2\n",
            "mistune                       0.8.4\n",
            "mizani                        0.8.1\n",
            "mkl                           2019.0\n",
            "ml-dtypes                     0.1.0\n",
            "mlxtend                       0.14.0\n",
            "more-itertools                9.1.0\n",
            "moviepy                       1.0.3\n",
            "mpmath                        1.3.0\n",
            "msgpack                       1.0.5\n",
            "multidict                     6.0.4\n",
            "multipledispatch              0.6.0\n",
            "multitasking                  0.0.11\n",
            "murmurhash                    1.0.9\n",
            "music21                       8.1.0\n",
            "mypy-extensions               1.0.0\n",
            "natsort                       8.3.1\n",
            "nbclient                      0.7.4\n",
            "nbconvert                     6.5.4\n",
            "nbformat                      5.8.0\n",
            "nest-asyncio                  1.5.6\n",
            "networkx                      3.1\n",
            "nibabel                       3.0.2\n",
            "nltk                          3.8.1\n",
            "notebook                      6.4.8\n",
            "numba                         0.56.4\n",
            "numexpr                       2.8.4\n",
            "numpy                         1.22.4\n",
            "oauth2client                  4.1.3\n",
            "oauthlib                      3.2.2\n",
            "openai                        0.27.8\n",
            "openapi-schema-pydantic       1.2.4\n",
            "opencv-contrib-python         4.7.0.72\n",
            "opencv-python                 4.7.0.72\n",
            "opencv-python-headless        4.7.0.72\n",
            "openpyxl                      3.0.10\n",
            "opt-einsum                    3.3.0\n",
            "optax                         0.1.5\n",
            "orbax-checkpoint              0.2.1\n",
            "osqp                          0.6.2.post8\n",
            "packaging                     23.1\n",
            "palettable                    3.3.3\n",
            "pandas                        1.5.3\n",
            "pandas-datareader             0.10.0\n",
            "pandas-gbq                    0.17.9\n",
            "pandocfilters                 1.5.0\n",
            "panel                         0.14.4\n",
            "param                         1.13.0\n",
            "parso                         0.8.3\n",
            "partd                         1.4.0\n",
            "pathlib                       1.0.1\n",
            "pathy                         0.10.1\n",
            "patsy                         0.5.3\n",
            "pexpect                       4.8.0\n",
            "pickleshare                   0.7.5\n",
            "Pillow                        8.4.0\n",
            "pip                           23.1.2\n",
            "pip-tools                     6.13.0\n",
            "platformdirs                  3.3.0\n",
            "plotly                        5.13.1\n",
            "plotnine                      0.10.1\n",
            "pluggy                        1.0.0\n",
            "polars                        0.17.3\n",
            "pooch                         1.6.0\n",
            "portpicker                    1.3.9\n",
            "prefetch-generator            1.0.3\n",
            "preshed                       3.0.8\n",
            "prettytable                   0.7.2\n",
            "proglog                       0.1.10\n",
            "progressbar2                  4.2.0\n",
            "prometheus-client             0.16.0\n",
            "promise                       2.3\n",
            "prompt-toolkit                3.0.38\n",
            "prophet                       1.1.3\n",
            "proto-plus                    1.22.2\n",
            "protobuf                      3.20.3\n",
            "psutil                        5.9.5\n",
            "psycopg2                      2.9.6\n",
            "ptyprocess                    0.7.0\n",
            "py-cpuinfo                    9.0.0\n",
            "py4j                          0.10.9.7\n",
            "pyarrow                       9.0.0\n",
            "pyasn1                        0.5.0\n",
            "pyasn1-modules                0.3.0\n",
            "pycocotools                   2.0.6\n",
            "pycparser                     2.21\n",
            "pyct                          0.5.0\n",
            "pydantic                      1.10.7\n",
            "pydata-google-auth            1.7.0\n",
            "pydot                         1.4.2\n",
            "pydot-ng                      2.0.0\n",
            "pydotplus                     2.0.2\n",
            "PyDrive                       1.3.1\n",
            "pyerfa                        2.0.0.3\n",
            "pygame                        2.3.0\n",
            "Pygments                      2.14.0\n",
            "PyGObject                     3.36.0\n",
            "pymc                          5.1.2\n",
            "PyMeeus                       0.5.12\n",
            "pymystem3                     0.2.0\n",
            "PyOpenGL                      3.1.6\n",
            "pyparsing                     3.0.9\n",
            "PyPDF2                        3.0.1\n",
            "pyproject_hooks               1.0.0\n",
            "pyrsistent                    0.19.3\n",
            "PySocks                       1.7.1\n",
            "pytensor                      2.10.1\n",
            "pytest                        7.2.2\n",
            "python-apt                    0.0.0\n",
            "python-dateutil               2.8.2\n",
            "python-louvain                0.16\n",
            "python-slugify                8.0.1\n",
            "python-utils                  3.5.2\n",
            "pytz                          2022.7.1\n",
            "pytz-deprecation-shim         0.1.0.post0\n",
            "pyviz-comms                   2.2.1\n",
            "PyWavelets                    1.4.1\n",
            "PyYAML                        6.0\n",
            "pyzmq                         23.2.1\n",
            "qdldl                         0.1.7\n",
            "qudida                        0.0.4\n",
            "regex                         2022.10.31\n",
            "requests                      2.27.1\n",
            "requests-oauthlib             1.3.1\n",
            "requests-unixsocket           0.2.0\n",
            "requirements-parser           0.5.0\n",
            "rich                          13.3.4\n",
            "rpy2                          3.5.5\n",
            "rsa                           4.9\n",
            "scikit-image                  0.19.3\n",
            "scikit-learn                  1.2.2\n",
            "scipy                         1.10.1\n",
            "scs                           3.2.3\n",
            "seaborn                       0.12.2\n",
            "Send2Trash                    1.8.0\n",
            "setuptools                    67.7.2\n",
            "shapely                       2.0.1\n",
            "six                           1.16.0\n",
            "sklearn-pandas                2.2.0\n",
            "smart-open                    6.3.0\n",
            "sniffio                       1.3.0\n",
            "snowballstemmer               2.2.0\n",
            "sortedcontainers              2.4.0\n",
            "soundfile                     0.12.1\n",
            "soupsieve                     2.4.1\n",
            "soxr                          0.3.5\n",
            "spacy                         3.5.2\n",
            "spacy-legacy                  3.0.12\n",
            "spacy-loggers                 1.0.4\n",
            "Sphinx                        3.5.4\n",
            "sphinxcontrib-applehelp       1.0.4\n",
            "sphinxcontrib-devhelp         1.0.2\n",
            "sphinxcontrib-htmlhelp        2.0.1\n",
            "sphinxcontrib-jsmath          1.0.1\n",
            "sphinxcontrib-qthelp          1.0.3\n",
            "sphinxcontrib-serializinghtml 1.1.5\n",
            "SQLAlchemy                    2.0.10\n",
            "sqlparse                      0.4.4\n",
            "srsly                         2.4.6\n",
            "statsmodels                   0.13.5\n",
            "sympy                         1.11.1\n",
            "tables                        3.8.0\n",
            "tabulate                      0.8.10\n",
            "tblib                         1.7.0\n",
            "tenacity                      8.2.2\n",
            "tensorboard                   2.12.2\n",
            "tensorboard-data-server       0.7.0\n",
            "tensorboard-plugin-wit        1.8.1\n",
            "tensorflow                    2.12.0\n",
            "tensorflow-datasets           4.9.2\n",
            "tensorflow-estimator          2.12.0\n",
            "tensorflow-gcs-config         2.12.0\n",
            "tensorflow-hub                0.13.0\n",
            "tensorflow-io-gcs-filesystem  0.32.0\n",
            "tensorflow-metadata           1.13.1\n",
            "tensorflow-probability        0.20.1\n",
            "tensorstore                   0.1.36\n",
            "termcolor                     2.3.0\n",
            "terminado                     0.17.1\n",
            "text-unidecode                1.3\n",
            "textblob                      0.17.1\n",
            "tf-slim                       1.1.0\n",
            "thinc                         8.1.9\n",
            "threadpoolctl                 3.1.0\n",
            "tifffile                      2023.4.12\n",
            "tiktoken                      0.4.0\n",
            "tinycss2                      1.2.1\n",
            "toml                          0.10.2\n",
            "tomli                         2.0.1\n",
            "toolz                         0.12.0\n",
            "torch                         2.0.1+cu118\n",
            "torchaudio                    2.0.2+cu118\n",
            "torchdata                     0.6.1\n",
            "torchsummary                  1.5.1\n",
            "torchtext                     0.15.2\n",
            "torchvision                   0.15.2+cu118\n",
            "tornado                       6.3.1\n",
            "tqdm                          4.65.0\n",
            "traitlets                     5.7.1\n",
            "triton                        2.0.0\n",
            "tweepy                        4.13.0\n",
            "typer                         0.7.0\n",
            "types-setuptools              67.8.0.0\n",
            "typing_extensions             4.5.0\n",
            "typing-inspect                0.9.0\n",
            "tzdata                        2023.3\n",
            "tzlocal                       4.3\n",
            "uritemplate                   4.1.1\n",
            "urllib3                       1.26.15\n",
            "vega-datasets                 0.9.0\n",
            "wasabi                        1.1.1\n",
            "wcwidth                       0.2.6\n",
            "webcolors                     1.13\n",
            "webencodings                  0.5.1\n",
            "websocket-client              1.5.1\n",
            "Werkzeug                      2.3.0\n",
            "wheel                         0.40.0\n",
            "widgetsnbextension            3.6.4\n",
            "wordcloud                     1.8.2.2\n",
            "wrapt                         1.14.1\n",
            "xarray                        2022.12.0\n",
            "xarray-einstats               0.5.1\n",
            "xgboost                       1.7.5\n",
            "xlrd                          2.0.1\n",
            "yarl                          1.9.2\n",
            "yellowbrick                   1.5\n",
            "yfinance                      0.2.18\n",
            "zict                          3.0.0\n",
            "zipp                          3.15.0\n"
          ]
        }
      ]
    },
    {
      "cell_type": "code",
      "source": [
        "! pip install -q huggingface-hub==0.14.1\n",
        "! pip install -q InstructorEmbedding==1.0.1\n",
        "! pip install -q sentence-transformers==2.2.2"
      ],
      "metadata": {
        "colab": {
          "base_uri": "https://localhost:8080/"
        },
        "id": "cqjD8r6UMDm5",
        "outputId": "8c32db47-06a6-42c0-b00d-ee8d04e74486"
      },
      "execution_count": 3,
      "outputs": [
        {
          "output_type": "stream",
          "name": "stdout",
          "text": [
            "\u001b[2K     \u001b[90m━━━━━━━━━━━━━━━━━━━━━━━━━━━━━━━━━━━━━━━\u001b[0m \u001b[32m224.5/224.5 kB\u001b[0m \u001b[31m7.6 MB/s\u001b[0m eta \u001b[36m0:00:00\u001b[0m\n",
            "\u001b[2K     \u001b[90m━━━━━━━━━━━━━━━━━━━━━━━━━━━━━━━━━━━━━━━━\u001b[0m \u001b[32m86.0/86.0 kB\u001b[0m \u001b[31m4.3 MB/s\u001b[0m eta \u001b[36m0:00:00\u001b[0m\n",
            "\u001b[?25h  Preparing metadata (setup.py) ... \u001b[?25l\u001b[?25hdone\n",
            "\u001b[2K     \u001b[90m━━━━━━━━━━━━━━━━━━━━━━━━━━━━━━━━━━━━━━━━\u001b[0m \u001b[32m7.2/7.2 MB\u001b[0m \u001b[31m76.3 MB/s\u001b[0m eta \u001b[36m0:00:00\u001b[0m\n",
            "\u001b[2K     \u001b[90m━━━━━━━━━━━━━━━━━━━━━━━━━━━━━━━━━━━━━━━━\u001b[0m \u001b[32m1.3/1.3 MB\u001b[0m \u001b[31m67.3 MB/s\u001b[0m eta \u001b[36m0:00:00\u001b[0m\n",
            "\u001b[2K     \u001b[90m━━━━━━━━━━━━━━━━━━━━━━━━━━━━━━━━━━━━━━━━\u001b[0m \u001b[32m7.8/7.8 MB\u001b[0m \u001b[31m97.2 MB/s\u001b[0m eta \u001b[36m0:00:00\u001b[0m\n",
            "\u001b[2K     \u001b[90m━━━━━━━━━━━━━━━━━━━━━━━━━━━━━━━━━━━━━━━━\u001b[0m \u001b[32m1.3/1.3 MB\u001b[0m \u001b[31m67.6 MB/s\u001b[0m eta \u001b[36m0:00:00\u001b[0m\n",
            "\u001b[?25h  Building wheel for sentence-transformers (setup.py) ... \u001b[?25l\u001b[?25hdone\n"
          ]
        }
      ]
    },
    {
      "cell_type": "code",
      "source": [
        "import openai\n",
        "from PyPDF2 import PdfReader\n",
        "from langchain.text_splitter import CharacterTextSplitter\n",
        "from langchain.embeddings import OpenAIEmbeddings, HuggingFaceInstructEmbeddings\n",
        "from langchain.vectorstores import FAISS\n",
        "from langchain.chat_models import ChatOpenAI\n",
        "from langchain.memory import ConversationBufferMemory\n",
        "from langchain.chains import ConversationalRetrievalChain\n",
        "\n",
        "# from htmlTemplates import css, bot_template, user_template\n",
        "from langchain.llms import HuggingFaceHub\n",
        "from getpass import getpass\n",
        "import os\n",
        "import json"
      ],
      "metadata": {
        "id": "13ZvqnXuNrgQ"
      },
      "execution_count": 4,
      "outputs": []
    },
    {
      "cell_type": "code",
      "source": [
        "os.environ[\"OPENAI_API_KEY\"] = getpass()"
      ],
      "metadata": {
        "colab": {
          "base_uri": "https://localhost:8080/"
        },
        "id": "ovSycKzwOtGC",
        "outputId": "1287a199-1f8c-48e5-d264-ccc841d769ab"
      },
      "execution_count": 5,
      "outputs": [
        {
          "name": "stdout",
          "output_type": "stream",
          "text": [
            "··········\n"
          ]
        }
      ]
    },
    {
      "cell_type": "code",
      "source": [
        "#\n",
        "def get_pdf_text(pdf_docs):\n",
        "    text = \"\"\n",
        "    for pdf in pdf_docs:\n",
        "        pdf_reader = PdfReader(pdf)\n",
        "        for page in pdf_reader.pages:\n",
        "            text += page.extract_text()\n",
        "    return text\n",
        "\n",
        "\n",
        "def get_text_chunks(text):\n",
        "    text_splitter = CharacterTextSplitter(\n",
        "        separator=\"\\n\", chunk_size=1000, chunk_overlap=200, length_function=len\n",
        "    )\n",
        "    chunks = text_splitter.split_text(text)\n",
        "    return chunks\n",
        "\n",
        "\n",
        "def get_vectorstore(text_chunks,api_key):\n",
        "    embeddings = OpenAIEmbeddings(openai_api_key=api_key)\n",
        "    # embeddings = HuggingFaceInstructEmbeddings(model_name=\"hkunlp/instructor-xl\")\n",
        "    vectorstore = FAISS.from_texts(texts=text_chunks, embedding=embeddings)\n",
        "    return vectorstore\n",
        "\n",
        "\n",
        "def get_conversation_chain(vectorstore,api_key):\n",
        "    llm = ChatOpenAI(openai_api_key=api_key)\n",
        "    # llm = HuggingFaceHub(repo_id=\"google/flan-t5-xxl\", model_kwargs={\"temperature\":0.5, \"max_length\":512})\n",
        "\n",
        "    memory = ConversationBufferMemory(memory_key=\"chat_history\", return_messages=True)\n",
        "    conversation_chain = ConversationalRetrievalChain.from_llm(\n",
        "        llm=llm, retriever=vectorstore.as_retriever(), memory=memory\n",
        "    )\n",
        "    return conversation_chain\n",
        "\n",
        "#\n",
        "\n"
      ],
      "metadata": {
        "id": "qyMMo4U4Oy4n"
      },
      "execution_count": 26,
      "outputs": []
    },
    {
      "cell_type": "code",
      "source": [
        "os.mkdir(\"model_files\")"
      ],
      "metadata": {
        "id": "W54OZcdPSDBS"
      },
      "execution_count": 17,
      "outputs": []
    },
    {
      "cell_type": "code",
      "source": [
        "#\n",
        "from configparser import ConfigParser\n",
        "#\n",
        "ai_for_world_config = ConfigParser()\n",
        "#\n",
        "def read_config(parser: ConfigParser, location: str) -> None:\n",
        "    assert parser.read(location), f\"Could not read config {location}\""
      ],
      "metadata": {
        "id": "FsXtstuxTiAI"
      },
      "execution_count": 22,
      "outputs": []
    },
    {
      "cell_type": "code",
      "source": [
        "def preprocess_function(file_path,prompt,content_type=None):\n",
        "    '''\n",
        "    # Create a temporary file.\n",
        "    with tempfile.NamedTemporaryFile(delete=False, suffix=\".pdf\") as tmp_file:\n",
        "\n",
        "        tmp_file.write(read_inputfile(file_path))  # write the data into the temporary file\n",
        "    file_name = tmp_file.name\n",
        "    pdf_loader = PyPDFLoader(file_name)\n",
        "    #ppt_loader = UnstructuredPowerPointLoader(file_path)\n",
        "    pdf = pdf_loader.load()\n",
        "    print(f\"Number of pages in the document {len(pdf)}\")\n",
        "    '''\n",
        "    text = \"\"\n",
        "    pdf_docs = os.listdir(file_path)\n",
        "    for pdf in pdf_docs:\n",
        "        pdf_path = os.path.join(file_path,pdf)\n",
        "        pdf_reader = PdfReader(pdf_path)\n",
        "        for page in pdf_reader.pages:\n",
        "            text += page.extract_text()\n",
        "    return (text,prompt)\n",
        "#\n",
        "def model_load_function(model_path):\n",
        "    CONFIG_FILE = os.path.join(model_path, \"env.conf\")\n",
        "    read_config(ai_for_world_config, CONFIG_FILE)\n",
        "    api_key = ai_for_world_config.get(\"openai\", \"api_key\").strip()\n",
        "    return api_key\n",
        "\n",
        "\n",
        "#\n",
        "\n",
        "def predict_function(context, api_key):\n",
        "    raw_text,prompt = context\n",
        "    print(prompt)\n",
        "    # get the text chunks\n",
        "    text_chunks = get_text_chunks(raw_text)\n",
        "\n",
        "    # create vector store\n",
        "    vectorstore = get_vectorstore(text_chunks,api_key)\n",
        "\n",
        "    # create conversation chain\n",
        "    conversation = get_conversation_chain(vectorstore,api_key)\n",
        "    #\n",
        "    response = conversation.run(prompt)\n",
        "    return response\n",
        "#\n",
        "\n",
        "def postprocess_function(predictions, content_type=None):\n",
        "  return json.dumps({\"response\": predictions})\n",
        "\n",
        "\n",
        "## Test the script\n",
        "\"\"\"\n",
        "if __name__ == '__main__':\n",
        "    audio_path = \"chatgpt prompts.pdf\"\n",
        "    data= preprocess_function(audio_path)\n",
        "    model_path = \"./model_files\"\n",
        "    path = model_load_function(model_path)\n",
        "    predictions = predict_function(data,path)\n",
        "    out = postprocess_function(predictions)\n",
        "    print(out)\n",
        "\"\"\""
      ],
      "metadata": {
        "colab": {
          "base_uri": "https://localhost:8080/",
          "height": 70
        },
        "id": "n61N5rJzRKNe",
        "outputId": "4393a3ed-726f-4f6a-cdb0-5d0db388368c"
      },
      "execution_count": 42,
      "outputs": [
        {
          "output_type": "execute_result",
          "data": {
            "text/plain": [
              "'\\nif __name__ == \\'__main__\\':\\n    audio_path = \"chatgpt prompts.pdf\"\\n    data= preprocess_function(audio_path)\\n    model_path = \"./model_files\"\\n    path = model_load_function(model_path)\\n    predictions = predict_function(data,path)\\n    out = postprocess_function(predictions)\\n    print(out)\\n'"
            ],
            "application/vnd.google.colaboratory.intrinsic+json": {
              "type": "string"
            }
          },
          "metadata": {},
          "execution_count": 42
        }
      ]
    },
    {
      "cell_type": "code",
      "source": [
        "file_path = \"/content/pdf_path\"\n",
        "prompt = \"How to push a file to github\"\n",
        "context = preprocess_function(file_path,prompt,content_type=None)"
      ],
      "metadata": {
        "id": "nm7koybtSVW4"
      },
      "execution_count": 33,
      "outputs": []
    },
    {
      "cell_type": "code",
      "source": [
        "text,prompt = context\n",
        "prompt"
      ],
      "metadata": {
        "colab": {
          "base_uri": "https://localhost:8080/",
          "height": 36
        },
        "id": "WoRcRj5zTLIk",
        "outputId": "d8061fb0-821b-4efa-de68-3836dbd4889a"
      },
      "execution_count": 34,
      "outputs": [
        {
          "output_type": "execute_result",
          "data": {
            "text/plain": [
              "'How to push a file to github'"
            ],
            "application/vnd.google.colaboratory.intrinsic+json": {
              "type": "string"
            }
          },
          "metadata": {},
          "execution_count": 34
        }
      ]
    },
    {
      "cell_type": "code",
      "source": [
        "model_path = \"/content/model_files\"\n",
        "api_key = model_load_function(model_path)"
      ],
      "metadata": {
        "id": "LKNY8qa9TMGb"
      },
      "execution_count": 35,
      "outputs": []
    },
    {
      "cell_type": "code",
      "source": [
        "predictions = predict_function(context,api_key)"
      ],
      "metadata": {
        "colab": {
          "base_uri": "https://localhost:8080/"
        },
        "id": "W6lxAZ5jV0S4",
        "outputId": "d1b9e63f-7e83-4908-aba1-848829019f82"
      },
      "execution_count": 38,
      "outputs": [
        {
          "output_type": "stream",
          "name": "stdout",
          "text": [
            "How to push a file to github\n"
          ]
        }
      ]
    },
    {
      "cell_type": "code",
      "source": [
        "print(predictions)"
      ],
      "metadata": {
        "colab": {
          "base_uri": "https://localhost:8080/"
        },
        "id": "ssrdajp2V86i",
        "outputId": "29430ceb-dfc7-4b78-de7f-eee0c62b07b5"
      },
      "execution_count": 40,
      "outputs": [
        {
          "output_type": "stream",
          "name": "stdout",
          "text": [
            "To push a file to Github, you need to follow these steps:\n",
            "\n",
            "1. First, navigate to the local directory where the file is located using the command line or terminal.\n",
            "2. Use the command \"git add filename\" to add the file to the staging area. You can also use \"git add .\" to add all the files in the directory.\n",
            "3. Use the command \"git commit -m 'commit message'\" to commit the changes with a descriptive message.\n",
            "4. Finally, use the command \"git push\" to push the changes to the Github repository.\n",
            "\n",
            "Make sure you have the necessary permissions to push changes to the repository.\n"
          ]
        }
      ]
    },
    {
      "cell_type": "code",
      "source": [
        "print(postprocess_function(predictions))"
      ],
      "metadata": {
        "colab": {
          "base_uri": "https://localhost:8080/"
        },
        "id": "IvxGHHyIV-5j",
        "outputId": "cfb5cc1d-2a65-47d3-93cf-5ec25f3f2e8d"
      },
      "execution_count": 43,
      "outputs": [
        {
          "output_type": "stream",
          "name": "stdout",
          "text": [
            "{\"response\": \"To push a file to Github, you need to follow these steps:\\n\\n1. First, navigate to the local directory where the file is located using the command line or terminal.\\n2. Use the command \\\"git add filename\\\" to add the file to the staging area. You can also use \\\"git add .\\\" to add all the files in the directory.\\n3. Use the command \\\"git commit -m 'commit message'\\\" to commit the changes with a descriptive message.\\n4. Finally, use the command \\\"git push\\\" to push the changes to the Github repository.\\n\\nMake sure you have the necessary permissions to push changes to the repository.\"}\n"
          ]
        }
      ]
    }
  ]
}