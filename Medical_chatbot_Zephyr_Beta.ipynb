{
  "cells": [
    {
      "cell_type": "markdown",
      "metadata": {
        "id": "view-in-github",
        "colab_type": "text"
      },
      "source": [
        "<a href=\"https://colab.research.google.com/github/plaban1981/Langchain_usecases/blob/main/Medical_chatbot_Zephyr_Beta.ipynb\" target=\"_parent\"><img src=\"https://colab.research.google.com/assets/colab-badge.svg\" alt=\"Open In Colab\"/></a>"
      ]
    },
    {
      "cell_type": "markdown",
      "source": [
        "# New section"
      ],
      "metadata": {
        "id": "Zy31ZyIWwRgp"
      }
    },
    {
      "cell_type": "code",
      "execution_count": null,
      "metadata": {
        "id": "ei_N_jlUvWDV",
        "colab": {
          "base_uri": "https://localhost:8080/"
        },
        "outputId": "401536f1-5df2-4554-a56f-ff1910db2f21"
      },
      "outputs": [
        {
          "output_type": "stream",
          "name": "stdout",
          "text": [
            "\u001b[2K     \u001b[90m━━━━━━━━━━━━━━━━━━━━━━━━━━━━━━━━━━━━━━━━\u001b[0m \u001b[32m2.0/2.0 MB\u001b[0m \u001b[31m10.1 MB/s\u001b[0m eta \u001b[36m0:00:00\u001b[0m\n",
            "\u001b[2K     \u001b[90m━━━━━━━━━━━━━━━━━━━━━━━━━━━━━━━━━━━━━━━━\u001b[0m \u001b[32m261.4/261.4 kB\u001b[0m \u001b[31m11.6 MB/s\u001b[0m eta \u001b[36m0:00:00\u001b[0m\n",
            "\u001b[2K     \u001b[90m━━━━━━━━━━━━━━━━━━━━━━━━━━━━━━━━━━━━━━━━\u001b[0m \u001b[32m44.4/44.4 kB\u001b[0m \u001b[31m3.7 MB/s\u001b[0m eta \u001b[36m0:00:00\u001b[0m\n",
            "\u001b[2K     \u001b[90m━━━━━━━━━━━━━━━━━━━━━━━━━━━━━━━━━━━━━━━━\u001b[0m \u001b[32m302.0/302.0 kB\u001b[0m \u001b[31m14.8 MB/s\u001b[0m eta \u001b[36m0:00:00\u001b[0m\n",
            "\u001b[2K     \u001b[90m━━━━━━━━━━━━━━━━━━━━━━━━━━━━━━━━━━━━━━━━\u001b[0m \u001b[32m49.4/49.4 kB\u001b[0m \u001b[31m5.7 MB/s\u001b[0m eta \u001b[36m0:00:00\u001b[0m\n",
            "\u001b[?25h"
          ]
        }
      ],
      "source": [
        "!pip install langchain torch accelerate -q\n",
        "!pip install git+https://github.com/huggingface/transformers -q"
      ]
    },
    {
      "cell_type": "code",
      "source": [
        "!pip install pypdf -q\n",
        "!pip install sentence-transformers -q\n",
        "!pip install llama-cpp-python -q\n",
        "!pip install faiss-cpu"
      ],
      "metadata": {
        "colab": {
          "base_uri": "https://localhost:8080/"
        },
        "id": "TAQJA_3BBigx",
        "outputId": "6dbb0b34-fab0-4a4b-9636-a10742b38ea6"
      },
      "execution_count": null,
      "outputs": [
        {
          "output_type": "stream",
          "name": "stdout",
          "text": [
            "\u001b[2K     \u001b[90m━━━━━━━━━━━━━━━━━━━━━━━━━━━━━━━━━━━━━━━━\u001b[0m \u001b[32m277.4/277.4 kB\u001b[0m \u001b[31m5.2 MB/s\u001b[0m eta \u001b[36m0:00:00\u001b[0m\n",
            "\u001b[2K     \u001b[90m━━━━━━━━━━━━━━━━━━━━━━━━━━━━━━━━━━━━━━━━\u001b[0m \u001b[32m86.0/86.0 kB\u001b[0m \u001b[31m1.9 MB/s\u001b[0m eta \u001b[36m0:00:00\u001b[0m\n",
            "\u001b[?25h  Preparing metadata (setup.py) ... \u001b[?25l\u001b[?25hdone\n",
            "\u001b[2K     \u001b[90m━━━━━━━━━━━━━━━━━━━━━━━━━━━━━━━━━━━━━━━━\u001b[0m \u001b[32m1.3/1.3 MB\u001b[0m \u001b[31m8.8 MB/s\u001b[0m eta \u001b[36m0:00:00\u001b[0m\n",
            "\u001b[?25h  Building wheel for sentence-transformers (setup.py) ... \u001b[?25l\u001b[?25hdone\n",
            "\u001b[2K     \u001b[90m━━━━━━━━━━━━━━━━━━━━━━━━━━━━━━━━━━━━━━━━\u001b[0m \u001b[32m7.6/7.6 MB\u001b[0m \u001b[31m38.8 MB/s\u001b[0m eta \u001b[36m0:00:00\u001b[0m\n",
            "\u001b[?25h  Installing build dependencies ... \u001b[?25l\u001b[?25hdone\n",
            "  Getting requirements to build wheel ... \u001b[?25l\u001b[?25hdone\n",
            "  Installing backend dependencies ... \u001b[?25l\u001b[?25hdone\n",
            "  Preparing metadata (pyproject.toml) ... \u001b[?25l\u001b[?25hdone\n",
            "  Building wheel for llama-cpp-python (pyproject.toml) ... \u001b[?25l\u001b[?25hdone\n",
            "Collecting faiss-cpu\n",
            "  Downloading faiss_cpu-1.7.4-cp310-cp310-manylinux_2_17_x86_64.manylinux2014_x86_64.whl (17.6 MB)\n",
            "\u001b[2K     \u001b[90m━━━━━━━━━━━━━━━━━━━━━━━━━━━━━━━━━━━━━━━━\u001b[0m \u001b[32m17.6/17.6 MB\u001b[0m \u001b[31m37.3 MB/s\u001b[0m eta \u001b[36m0:00:00\u001b[0m\n",
            "\u001b[?25hInstalling collected packages: faiss-cpu\n",
            "Successfully installed faiss-cpu-1.7.4\n"
          ]
        }
      ]
    },
    {
      "cell_type": "markdown",
      "source": [
        "# New Section"
      ],
      "metadata": {
        "id": "bHjT2Ut8vl-m"
      }
    },
    {
      "cell_type": "code",
      "execution_count": null,
      "metadata": {
        "id": "8D6s3uMHv-NG"
      },
      "outputs": [],
      "source": [
        "from langchain.chains import RetrievalQA\n",
        "from langchain.embeddings import HuggingFaceEmbeddings\n",
        "from langchain.llms import LlamaCpp\n",
        "from langchain.text_splitter import RecursiveCharacterTextSplitter\n",
        "from langchain.vectorstores import FAISS\n",
        "from langchain.document_loaders import PyPDFDirectoryLoader"
      ]
    },
    {
      "cell_type": "code",
      "source": [
        "!wget https://frenzy86.s3.eu-west-2.amazonaws.com/python/mental.pdf"
      ],
      "metadata": {
        "colab": {
          "base_uri": "https://localhost:8080/"
        },
        "id": "H49oWcZLBSOE",
        "outputId": "2dc7fc82-7ba1-43a3-83e3-5aee9208735a"
      },
      "execution_count": null,
      "outputs": [
        {
          "output_type": "stream",
          "name": "stdout",
          "text": [
            "--2023-11-02 07:59:52--  https://frenzy86.s3.eu-west-2.amazonaws.com/python/mental.pdf\n",
            "Resolving frenzy86.s3.eu-west-2.amazonaws.com (frenzy86.s3.eu-west-2.amazonaws.com)... 52.95.148.186, 52.95.149.102, 52.95.150.22, ...\n",
            "Connecting to frenzy86.s3.eu-west-2.amazonaws.com (frenzy86.s3.eu-west-2.amazonaws.com)|52.95.148.186|:443... connected.\n",
            "HTTP request sent, awaiting response... 200 OK\n",
            "Length: 118874 (116K) [application/pdf]\n",
            "Saving to: ‘mental.pdf.1’\n",
            "\n",
            "mental.pdf.1        100%[===================>] 116.09K   409KB/s    in 0.3s    \n",
            "\n",
            "2023-11-02 07:59:53 (409 KB/s) - ‘mental.pdf.1’ saved [118874/118874]\n",
            "\n"
          ]
        }
      ]
    },
    {
      "cell_type": "code",
      "source": [
        " from google.colab import files\n",
        " uploaded = files.upload()"
      ],
      "metadata": {
        "colab": {
          "base_uri": "https://localhost:8080/",
          "height": 36
        },
        "id": "ugaOYnBkAgv8",
        "outputId": "6a91c41d-83da-40eb-a734-a4f786feb7db"
      },
      "execution_count": null,
      "outputs": [
        {
          "output_type": "display_data",
          "data": {
            "text/plain": [
              "<IPython.core.display.HTML object>"
            ],
            "text/html": [
              "\n",
              "     <input type=\"file\" id=\"files-7b1305bf-0c4b-47f1-ab0b-6557fc3c47b8\" name=\"files[]\" multiple disabled\n",
              "        style=\"border:none\" />\n",
              "     <output id=\"result-7b1305bf-0c4b-47f1-ab0b-6557fc3c47b8\">\n",
              "      Upload widget is only available when the cell has been executed in the\n",
              "      current browser session. Please rerun this cell to enable.\n",
              "      </output>\n",
              "      <script>// Copyright 2017 Google LLC\n",
              "//\n",
              "// Licensed under the Apache License, Version 2.0 (the \"License\");\n",
              "// you may not use this file except in compliance with the License.\n",
              "// You may obtain a copy of the License at\n",
              "//\n",
              "//      http://www.apache.org/licenses/LICENSE-2.0\n",
              "//\n",
              "// Unless required by applicable law or agreed to in writing, software\n",
              "// distributed under the License is distributed on an \"AS IS\" BASIS,\n",
              "// WITHOUT WARRANTIES OR CONDITIONS OF ANY KIND, either express or implied.\n",
              "// See the License for the specific language governing permissions and\n",
              "// limitations under the License.\n",
              "\n",
              "/**\n",
              " * @fileoverview Helpers for google.colab Python module.\n",
              " */\n",
              "(function(scope) {\n",
              "function span(text, styleAttributes = {}) {\n",
              "  const element = document.createElement('span');\n",
              "  element.textContent = text;\n",
              "  for (const key of Object.keys(styleAttributes)) {\n",
              "    element.style[key] = styleAttributes[key];\n",
              "  }\n",
              "  return element;\n",
              "}\n",
              "\n",
              "// Max number of bytes which will be uploaded at a time.\n",
              "const MAX_PAYLOAD_SIZE = 100 * 1024;\n",
              "\n",
              "function _uploadFiles(inputId, outputId) {\n",
              "  const steps = uploadFilesStep(inputId, outputId);\n",
              "  const outputElement = document.getElementById(outputId);\n",
              "  // Cache steps on the outputElement to make it available for the next call\n",
              "  // to uploadFilesContinue from Python.\n",
              "  outputElement.steps = steps;\n",
              "\n",
              "  return _uploadFilesContinue(outputId);\n",
              "}\n",
              "\n",
              "// This is roughly an async generator (not supported in the browser yet),\n",
              "// where there are multiple asynchronous steps and the Python side is going\n",
              "// to poll for completion of each step.\n",
              "// This uses a Promise to block the python side on completion of each step,\n",
              "// then passes the result of the previous step as the input to the next step.\n",
              "function _uploadFilesContinue(outputId) {\n",
              "  const outputElement = document.getElementById(outputId);\n",
              "  const steps = outputElement.steps;\n",
              "\n",
              "  const next = steps.next(outputElement.lastPromiseValue);\n",
              "  return Promise.resolve(next.value.promise).then((value) => {\n",
              "    // Cache the last promise value to make it available to the next\n",
              "    // step of the generator.\n",
              "    outputElement.lastPromiseValue = value;\n",
              "    return next.value.response;\n",
              "  });\n",
              "}\n",
              "\n",
              "/**\n",
              " * Generator function which is called between each async step of the upload\n",
              " * process.\n",
              " * @param {string} inputId Element ID of the input file picker element.\n",
              " * @param {string} outputId Element ID of the output display.\n",
              " * @return {!Iterable<!Object>} Iterable of next steps.\n",
              " */\n",
              "function* uploadFilesStep(inputId, outputId) {\n",
              "  const inputElement = document.getElementById(inputId);\n",
              "  inputElement.disabled = false;\n",
              "\n",
              "  const outputElement = document.getElementById(outputId);\n",
              "  outputElement.innerHTML = '';\n",
              "\n",
              "  const pickedPromise = new Promise((resolve) => {\n",
              "    inputElement.addEventListener('change', (e) => {\n",
              "      resolve(e.target.files);\n",
              "    });\n",
              "  });\n",
              "\n",
              "  const cancel = document.createElement('button');\n",
              "  inputElement.parentElement.appendChild(cancel);\n",
              "  cancel.textContent = 'Cancel upload';\n",
              "  const cancelPromise = new Promise((resolve) => {\n",
              "    cancel.onclick = () => {\n",
              "      resolve(null);\n",
              "    };\n",
              "  });\n",
              "\n",
              "  // Wait for the user to pick the files.\n",
              "  const files = yield {\n",
              "    promise: Promise.race([pickedPromise, cancelPromise]),\n",
              "    response: {\n",
              "      action: 'starting',\n",
              "    }\n",
              "  };\n",
              "\n",
              "  cancel.remove();\n",
              "\n",
              "  // Disable the input element since further picks are not allowed.\n",
              "  inputElement.disabled = true;\n",
              "\n",
              "  if (!files) {\n",
              "    return {\n",
              "      response: {\n",
              "        action: 'complete',\n",
              "      }\n",
              "    };\n",
              "  }\n",
              "\n",
              "  for (const file of files) {\n",
              "    const li = document.createElement('li');\n",
              "    li.append(span(file.name, {fontWeight: 'bold'}));\n",
              "    li.append(span(\n",
              "        `(${file.type || 'n/a'}) - ${file.size} bytes, ` +\n",
              "        `last modified: ${\n",
              "            file.lastModifiedDate ? file.lastModifiedDate.toLocaleDateString() :\n",
              "                                    'n/a'} - `));\n",
              "    const percent = span('0% done');\n",
              "    li.appendChild(percent);\n",
              "\n",
              "    outputElement.appendChild(li);\n",
              "\n",
              "    const fileDataPromise = new Promise((resolve) => {\n",
              "      const reader = new FileReader();\n",
              "      reader.onload = (e) => {\n",
              "        resolve(e.target.result);\n",
              "      };\n",
              "      reader.readAsArrayBuffer(file);\n",
              "    });\n",
              "    // Wait for the data to be ready.\n",
              "    let fileData = yield {\n",
              "      promise: fileDataPromise,\n",
              "      response: {\n",
              "        action: 'continue',\n",
              "      }\n",
              "    };\n",
              "\n",
              "    // Use a chunked sending to avoid message size limits. See b/62115660.\n",
              "    let position = 0;\n",
              "    do {\n",
              "      const length = Math.min(fileData.byteLength - position, MAX_PAYLOAD_SIZE);\n",
              "      const chunk = new Uint8Array(fileData, position, length);\n",
              "      position += length;\n",
              "\n",
              "      const base64 = btoa(String.fromCharCode.apply(null, chunk));\n",
              "      yield {\n",
              "        response: {\n",
              "          action: 'append',\n",
              "          file: file.name,\n",
              "          data: base64,\n",
              "        },\n",
              "      };\n",
              "\n",
              "      let percentDone = fileData.byteLength === 0 ?\n",
              "          100 :\n",
              "          Math.round((position / fileData.byteLength) * 100);\n",
              "      percent.textContent = `${percentDone}% done`;\n",
              "\n",
              "    } while (position < fileData.byteLength);\n",
              "  }\n",
              "\n",
              "  // All done.\n",
              "  yield {\n",
              "    response: {\n",
              "      action: 'complete',\n",
              "    }\n",
              "  };\n",
              "}\n",
              "\n",
              "scope.google = scope.google || {};\n",
              "scope.google.colab = scope.google.colab || {};\n",
              "scope.google.colab._files = {\n",
              "  _uploadFiles,\n",
              "  _uploadFilesContinue,\n",
              "};\n",
              "})(self);\n",
              "</script> "
            ]
          },
          "metadata": {}
        }
      ]
    },
    {
      "cell_type": "code",
      "execution_count": null,
      "metadata": {
        "id": "fEXsAyTZxBu7"
      },
      "outputs": [],
      "source": [
        "#load pdf files\n",
        "loader = PyPDFDirectoryLoader(\"/content/Data\")\n",
        "data = loader.load()"
      ]
    },
    {
      "cell_type": "code",
      "execution_count": null,
      "metadata": {
        "colab": {
          "base_uri": "https://localhost:8080/"
        },
        "id": "YMtudY08xzRO",
        "outputId": "c2a910ee-1b7f-4d64-b356-e4e23738b124"
      },
      "outputs": [
        {
          "output_type": "stream",
          "name": "stdout",
          "text": [
            "[Document(page_content='See discussions, st ats, and author pr ofiles f or this public ation at : https://www .researchgate.ne t/public ation/255657987\\nDeﬁning mental health and mental illness\\nArticle  · Januar y 2009\\nCITATIONS\\n10READS\\n149,105\\n2 author s, including:\\nNisha Dogr a\\nUniv ersity of L eicester\\n152 PUBLICA TIONS \\xa0\\xa0\\xa02,945  CITATIONS \\xa0\\xa0\\xa0\\nSEE PROFILE\\nAll c ontent f ollo wing this p age was uplo aded b y Nisha Dogr a on 20 May 2014.\\nThe user has r equest ed enhanc ement of the do wnlo aded file.', metadata={'source': '/content/mental.pdf', 'page': 0}), Document(page_content='Deﬁning mental health and\\nmental illness\\nSharon Leighton and Nisha Dogra\\nKey features \\x7fDiscussion of the terminological confusion that exists in relation to issues\\nassociated with mental health.\\n\\x7fThe scale of individual suffering from mental health problems and illness\\namong young people.\\n\\x7fThe worldwide phenomenon of the stigmatization of mental illness,\\noriginating during childhood.\\n\\x7fEvidence regarding interventions to reduce stigma.\\nIntroduction\\nIn this chapter we explore the concepts of mental health and mental illness from different\\nperspectives, including those relating to children, and of children. This is important as thosewho work in mental health, or are familiar with the ﬁeld, often make the assumption that the\\nterms used are readily understood by others. The scale of the problem and access to services isoutlined. We then discuss stigma generally, explore the reasons for it and possible sequelae, andthen consider how this relates to children. Finally, interventions to reduce stigma are brie ﬂy\\npresented. As mentioned in the Introduction, where possible we have referred speci ﬁcally to the\\nliterature relating to children but where this is limited we have drawn from the wider literatureto highlight key issues.\\nThe chapter begins with an exercise which provides a practical context for the theoretical\\ncontent and should be borne in mind as you read, and answered once you have ﬁnished the\\nchapter.\\nBox 1.1\\nExercise\\nGeneral questions\\n\\x7f What words or images do you associate with the following terms:\\n\\x7f Mental health\\n\\x7f Mental health problems\\x7f Mental illness\\x7f Mental disorder\\n\\x7f What sorts of problems do people experience that could be described as mental\\nhealth problems or mental illness?\\n\\x7f How would you be able to tell if someone was experiencing mental health prob-\\nlems or mental illness?1', metadata={'source': '/content/mental.pdf', 'page': 1}), Document(page_content='Case scenarios and associated questions\\nPlease read each senario and then consider the following questions in relation to it:\\n\\x7fWhat do you think might be happening with the young person?\\n\\x7fDo you think the young person has a mental health problem or illness? If so, on\\nwhat grounds would you justify that decision?\\n\\x7fDo they need help?\\n\\x7fIf so, who and/or what might be helpful?\\n\\x7fHow might this be helpful?\\nCase scenario 1\\nJack, aged 9, lives with his mother and younger brother. His father unexpectedly left the\\nfamily a year ago. Jack started a new school six months ago and is having difﬁcultysettling in. He complains of tummy ache each school morning and is increasinglyreluctant to attend.\\nCase scenario 2\\nEmily, aged 14, lives with her parents, who are both busy professionals. She works hard,achieves A-grades and plans to be a lawyer. Recently she has been teased by herfriends about her weight and has decided to go on a strict diet. She is pleased with theresults so far and plans to continue eating little, making herself sick after meals andexercising a lot.\\nCase scenario 3\\nJoshua, aged 15, lives with his dad and stepmother. He has little contact with his mum oryounger brother and sister. Recently he has been cautioned by the police for joy-ridingin stolen cars with his mates. He prefers to spend time smoking dope with older boysrather than going to school.\\nDeﬁning mental health and mental illness\\nClarity is essential when using the terms ‘mental health ’ and ‘mental illness ’. In all phases of a\\nrecent small-scale research project, conceptual confusion was identi ﬁed in the literature review\\nand among participants (Leighton 2008). Ironically, referring to mental illness in terms ofmental health originated in the 1960s in an attempt to reduce stigma (Rowling et al.  2002).\\nThere is no widely agreed consensus on the meaning of these terms and their use. Mental healthand mental illness can be perceived as two separate, yet related, issues.\\nRyff and Singer (1998) suggest that health is not a medical concept associated with absence\\nof illness, but rather a philosophical one that requires an explanation of a good life  – being one\\nwhere an individual has a sense of purpose, is engaged in quality relationships with others, andpossesses self-respect and mastery. This is synonymous with the World Health Organization(WHO) (2000, 2005b) de ﬁnition of positive mental health.\\nHowever, such a de ﬁnition is incomplete as individuals do not exist in isolation, but are\\ninﬂuenced by, and in ﬂuence, their social and physical environments. Furthermore, people will\\nhave their own individual interpretations of what a good life  is. Rowling et al.  (2002: 13) de ﬁne\\nmental health as the8 Nursing in child and adolescent mental health', metadata={'source': '/content/mental.pdf', 'page': 2}), Document(page_content='capacity of individuals and groups to interact with one another and the environment in ways that\\npromote subjective wellbeing, the optimal development and use of cognitive, affective and relationalabilities, the achievement of individual and collective goals consistent with justice.\\nThis is a more rounded de ﬁnition, and one that can coexist alongside the WHO (1992) de ﬁnition\\nof mental disorder.\\nMental health – one of many factors\\nIt is also important to recognize that neither physical nor mental health exist separately –\\nmental, physical and social functioning are interdependent (WHO 2004). Furthermore, allhealth issues need to be considered within a cultural and developmental context, as do thesocial constructs of childhood and adolescence (Walker 2005). The quality of a person ’s mental\\nhealth is in ﬂuenced by idiosyncratic factors and experiences, their family relationships and\\ncircumstances and the wider community in which they live (WHO 2004). Additionally, eachculture in ﬂuences people ’s understanding of, and attitudes towards, mental health issues.\\nHowever, a culture-speci ﬁc approach to understanding and improving mental health can be\\nunhelpful if it assumes homogeneity within cultures and ignores individual differences (WHO2004). Culture is only one, albeit important, factor that in ﬂuences individuals ’ beliefs and\\nactions (Tomlinson 2001; Dogra 2003). Interaction between different factors may lead to differ-ent outcomes for different individuals.\\nIt can be argued that the above approaches are rooted in western perspectives. However, they\\nprovide a useful starting point from which to discuss mental health issues with children andtheir families.\\nDeﬁnitions of child mental health\\nDeﬁnitions of mental health as they relate speci ﬁcally to children have been provided by the\\nHealth Advisory Service (HAS) (1995) and the Mental Health Foundation (1999). These def-initions bear similarities to those provided by Ryff and Singer (1998) and Rowling et al. (2002),\\nwhile recognizing the developmental context of childhood – i.e. the ability to develop psycho-\\nlogically, emotionally, creatively, intellectually and spiritually; initiate, develop and sustainmutually satisfying personal relationships; use and enjoy solitude; become aware of others andempathize with them; play and learn; develop a sense of right and wrong; and resolve problemsand setbacks and learn from them (HAS 1995; Mental Health Foundation 1999). Such de ﬁnitions\\nare useful as they relate to ‘societal ’ expectations of children.\\nDifferent de ﬁnitions are used to de ﬁne mental ill health. The WHO uses the term ‘mental\\ndisorders ’ broadly, to include mental illness, intellectual disability, personality disorder, sub-\\nstance dependence and adjustment to adverse life events (WHO 1992). The WHO acknowledgesthat the word ‘disorder ’ is used to avoid perceived greater dif ﬁculties associated with ‘illness ’ –\\nfor example, stigma and the emphasis on a medical model. Meltzer et al.  (2000) use the term\\n‘mental disorders ’ in reference to emotional, conduct, hyperkinetic and less common disorders\\nas de ﬁned by the ICD (International Classi ﬁcation of Diseases) 10 and DSM ( Diagnostic and\\nStatistical Manual of Mental Disorders ) IV. Jorm (2000) focuses speci ﬁcally on depression and\\npsychosis. Meanwhile, Rowling et al. (2002) use the terms ‘mental illness ’ and ‘mental disorder ’\\ninterchangeably. Johns (2002) and the British Medical Association (BMA 2006) identify thatthe term ‘mental health problems ’ is used to cover a broad spectrum of conditions ranging\\nfrom diagnosable disorders such as anxiety and depression, through to acting out behaviours.The BMA (2006) also distinguish between mental disorders and illness, with illness being severepsychiatric disorders such as depression and psychosis.Deﬁning mental health and mental illness 9', metadata={'source': '/content/mental.pdf', 'page': 3}), Document(page_content='Others take a broader view. Rickwood et al.  (2005) refer to ‘young people ’s help-seeking for\\nmental health problems ’ and proceed to use various terms including ‘psychological distress ’,\\n‘mental health issues ’, ‘mental health problems ’ and ‘mental disorder ’. The interchangeable use\\nof these terms in effect renders them meaningless, as their use may re ﬂect an individual ’s bias,\\nor political correctness, rather than indicating the extent or severity of the problem. However,all identify alterations in mood, thinking and behaviour associated with distress or impairedfunctioning across various domains.\\nEntity or dimension?\\nKendall (1988) presents the relative merits of using categories and dimensions with respectto mental disorders. Typically, medicine has used categories, given its roots in the biologicalsciences. Categorization allows for easier de ﬁnitions, recognition if someone ﬁts a particular\\ncategory and therefore conformity with a clinical concept. However, a dimensions approachallows for greater ﬂexibility. Kendall (1988) concludes that where psychotic illness is concerned\\na categorical approach may be preferable, whereas in other conditions the situation is morelikely to be changeable, and would perhaps bene ﬁt from a dimensional perspective.\\nOne way of distinguishing between distress associated with adverse life events and more\\nsevere disorders which involve physiological symptoms and underlying biological changes is todistinguish between mental health problems and mental illness, using a multi-dimensionalmodel. This has an additional advantage in enabling normal ‘distress ’ (e.g. grief following\\nbereavement) to be recognized as part of the ‘human condition ’, rather than being medicalized\\nand possibly classed as ‘depression ’. It is suggested that a variety of normal human experiences\\nhave become medicalized through an ever increasing range of psychological disorders withvirtually every type of behaviour eligible for a medical label (e.g. social phobia, over-eatingdisorder, dependent personality disorder) (Illich 1977; WHO 1992; American PsychiatricAssociation 1994).\\nRowling et al.  (2002) propose that mental health and mental illness can be seen to exist as\\npart of a multi-dimensional model. An exemplar of mental health and mental illness beingtwo separate and yet related continua can be found in the vulnerability-stress working modeldeveloped by Asarnow et al.  (2001). This model suggests how the effects of ongoing stress on\\nmental health can lead to mental illness (depression) if left unchallenged.\\nDepression is classed as a diagnosable disorder which is reported to be on the increase (WHO\\n1996). However, the term ‘depression ’ is also employed in everyday language for a variety of\\nstates of distress: demoralization as a result of long-term suffering; living with chronic adversityand stress; reaction to loss; low self-esteem; and pessimistic outlook. While there are similaritiesbetween the feelings of unhappiness, despondency, frustration and sense of hopelessnessassociated with a state of emotional stress and with depression, the latter involves pervasivephysical symptoms such as sleep and appetite disturbance, and, ultimately, changes in brainchemistry. However, the cut-off between what is ‘normal ’ stress and what is depression may\\nnot always be clear. It is not just the presence of symptoms that de ﬁnes a disorder but also its\\nseverity and pervasiveness as well as its impact on everyday functioning.\\nThus, from a dimensional perspective, many features of mental disorder (psychosis excepted)\\ncan be viewed as part of the range of ‘normal ’ human behaviour. For example, anxiety is\\na normal human response to the perception of danger. Different types of anxiety are develop-mentally appropriate during childhood – for example, separation is an issue for infants,\\nacademic performance can cause anxiety during middle childhood and peer rejection concernsadolescents (Moore and Carr 2000).10 Nursing in child and adolescent mental health', metadata={'source': '/content/mental.pdf', 'page': 4}), Document(page_content='Mental health literacy\\nFinally, in this section, it is also worth considering how the mental health ‘literacy ’ of adults\\nand children in the general population varies from that of professionals. In all phases of a recentresearch project, conceptual confusion was identi ﬁed in the literature review and among ado-\\nlescent participants (Leighton 2006, 2008). Focus group participants did not ﬁnd the single\\ncontinuum model suggested by the WHO (2000) helpful (Leighton 2006). Furthermore, in thefocus group feedback session, participants suggested that labelling serious mental illnesses suchas schizophrenia and major depression, as ‘mental health problems ’, diminishes the seriousness\\nof mental illness, with implications for attitudes towards, and treatment of, those with mentalillness (Leighton 2006). It is also evident that there is considerable confusion for young peoplebetween the terms ‘mental health ’, ‘mental illness ’ and ‘learning disability ’ (Dogra et al.  2007;\\nRose et al. 2007).\\nHowever, whatever terminology is used, the scale of individual suffering from mental health\\nproblems and illness is signi ﬁcant, and this is now brie ﬂy outlined.\\nThe scale of the problem\\nThe number of people experiencing mental health problems worldwide is reported to have risen\\nto nearly epidemic proportions, with depression identi ﬁed as the leading cause of disability\\namong 15 –44-year-olds (WHO 1996). In the UK the prevalence of mental health problems\\namong adolescents is high. One in 20 is reported to be experiencing mental health problems atany given time (Mental Health Foundation 1999; Meltzer et al.  2000; Coleman and Scho ﬁeld\\n2005). The Of ﬁce for National Statistics (ONS) survey carried out in 1999 identi ﬁed the follow-\\ning prevalence rates of diagnosable mental disorder among 11 –15-year-olds: depression 1.8 per\\ncent; anxiety 4.6 per cent; conduct disorder 6.2 per cent (Meltzer et al.  2000). Moreover, the\\nprevalence of serious mental illness increases greatly during adolescence (Davidson and Manion1996; Smith and Leon 2001; Rickwood et al. 2005). Such problems have a negative impact on an\\nindividual ’s development across all areas of their lives – i.e. self-esteem, relationships, academic\\nsuccess, career options and lifestyle (Mental Health Foundation 1999; Meltzer et al.  2000).\\nFurthermore, the burden of adolescent mental health problems and illness involves enormousﬁnancial costs to individuals, families and society. These include loss of earnings for parents\\nand adolescents, and social care, health service, education and Home Of ﬁce costs (Appleton\\nand Hammond-Rowley 2000). Although the scale of the problem is vast, studies indicate thatless than a ﬁfth of young people who need mental health care actually receive any services and,\\nof those who do receive services, less than half obtain services appropriate to their need (Atkinset al. 2003; Hinshaw 2005).\\nStigma and mental illness\\nIn this section the aim is to explore the concepts of, and the relationship between, stigma and\\nmental illness. One possible reason for both conceptual confusion and reluctance to seek help isthat the stigmatization of mental illness continues to be a worldwide phenomenon (Jorm et al.\\n1997; Crisp et al. 2000; Sartorius 2002; Gureje et al. 2005).\\nDeﬁnition of the concept of stigma\\nStigma can be viewed as a social construct. Setting people apart from other members of society\\nhas a long history. In ancient Greece members of tainted groups – for example, slaves andDeﬁning mental health and mental illness 11', metadata={'source': '/content/mental.pdf', 'page': 5}), Document(page_content='traitors – were branded with a mark (Goffman 1970; Hinshaw 2005). The concept is applied in\\ndiverse circumstances, including with reference to the mentally ill (Link and Phelan 2001).Additionally, stigmatization can be seen to depend on social, economic and political power andcan occur on a large and tragic scale – for example, the systematic and dreadful stigmatization\\nof the Jewish people by the Nazis (Link and Phelan 2001). Stigma was de ﬁned by Goffman\\n(1970) as the position of the individual who is disquali ﬁed from full social acceptance. It is\\nperceived as the outcome of a process of social labelling which singles out difference, names thisdifference inferiority, subsequently blames those who are different for their otherness andcontributes to the creation of a spoilt identity (Goffman 1970). Since that seminal develop-ment, the concept has evolved. For example, stigma can be described with reference to therelationships between a set of interrelated concepts, rather than focusing solely on personalattributes – i.e. stigma exists when elements of labelling, stereotyping, separation, status loss\\nand discrimination occur together in a power situation that allows these processes to happen(Link and Phelan 2001).\\nThe nature and extent of stigmatization in adult mental illness\\nThere are many factors involved in the formation of individuals ’ beliefs about mental illness,\\nand their attitudes and behaviour towards those labelled as mentally ill. These include personalexperience of mental illness, either personally or in someone known to them; the impact of themedia; beliefs as to what causes mental illness (e.g. genetic, self-in ﬂicted); and socio-cultural\\ninﬂuences (Hinshaw 2005).\\nFour possible explanations for the stigmatization of mental illness have been identi ﬁed in\\nthe research literature:\\n\\x7fdangerousness;\\n\\x7fattribution of responsibility;\\n\\x7fbelief that mental illness is chronic with a poor prognosis;\\n\\x7fdisruption of normal social interactions based on social rules (Hayward and Bright 1997).\\nThese explanations can be elaborated as follows: people with mental illness are perceived as\\ndangerous and unpredictable; there is an implied belief that the mentally ill choose to behaveas they do and have only themselves to blame for their situation; people with mental illnessare believed to respond poorly to treatment, and outcomes are poor, therefore they are anembarrassment and should be avoided; the mentally ill are seen as dif ﬁcult to communicate\\nwith and this makes for unpredictable social intercourse. These are enduring themes, provokingpersonal fear in others and threatening to upset the status quo (Hayward and Bright 1997;Eminson 2004).\\nExplanations for the stigmatization of the mentally ill include the following ideas.\\n\\x7fFrom a biological perspective, a person suffering from mental illness may be viewed as a poor\\ngenetic choice in relation to reproductive potential and as a possible threat to the safety ofthe individual.\\n\\x7fThe need to share understanding in order to survive as an individual and as a species means\\nthat when a person ’s way of perceiving the world is unfamiliar to us we can feel threatened\\nand uncertain as to how to respond to them (Eminson 2004).\\nMedia, mental illness and stigma\\nThere is a dearth of research which focuses speci ﬁcally on how mental illness is depicted in the\\nchildren ’s and young persons ’ media (Wahl 2002). This is despite suggestions that such media12 Nursing in child and adolescent mental health', metadata={'source': '/content/mental.pdf', 'page': 6}), Document(page_content='provide the means by which young people will derive a preliminary understanding of mental\\nillness. Participants in a small-scale local study identi ﬁed some positive and accurate represen-\\ntations in the media. These included the Jacqueline Wilson books, the ﬁlm A Beautiful Mind  and\\nChannel 4 documentaries (Leighton 2006). Byrne (2003) discusses examples in soap operaswhen television can perform a major public service where care is taken over how mental illnessis portrayed. One suspects that the converse is also true – that when care is not taken the\\ndamage done to those suffering with mental illness can be immense.\\nTwo large-scale literature reviews have suggested that the media can be regarded as an\\nimportant in ﬂuence on community attitudes towards mental illness. It is considered that\\nthere is a complex and circular relationship between mass media representation of mentalillness and public understanding, with negative media images promoting negative attitudesand resultant media coverage feeding off an already negative public perception. It is alsothought that negative images will have a greater effect on public attitudes than positive por-trayals (Francis et al.  2001; Edney 2004). Work by Wahl (2003) suggests that this is equally\\napplicable to children.\\nConsequences of stigma\\nStigmatization of the mentally ill is understood to be prejudicial to them, injurious to all aspectsof their treatment in mental health services and damaging to their role as members of society(Hinshaw 2005). Stigmatization leads to individual and social discrimination against the stig-matized person. Several authors identify that the discriminatory behaviour displayed can behostile or avoidant and that it operates throughout personal and social relationships, pervadingthe home, workplace, local community, health and social welfare systems. This can result inincreased feelings of shame, increased personal and social impairment and isolation, perpetu-ation and worsening of an illness, reluctance to access health care and infringement of humanrights (Link and Phelan 2001; Crisp 2004; Hinshaw 2005).\\nChildren, mental illness and stigma\\nThere is also a scarcity of research examining the issue of stigma in relation to children andmental illness (Wahl 2002; Hinshaw 2005). As described previously, the high prevalence ofmental health problems in young people and their reluctance to access specialist services givescause for concern. The indications are that children develop negative attitudes towards thosewith mental illness early on (Gale 2007). Additionally, adolescents are the adults of the futureand therefore their beliefs and attitudes regarding mental health and illness will affect servicedevelopment, the quality of life of those experiencing mental health problems and the help-seeking behaviour of individuals (Armstrong et al. 2000; Hinshaw 2005).\\nBox 1.2 highlights themes identi ﬁed from work which focused on adolescents, mental illness\\nand stigma, albeit to varying degrees and using different methods.\\nBox 1.2 Themes associated with mental illness and stigma identi ﬁed\\nby adolescents\\n•Negative attitudes towards groups described as deviant – for example, the mentally\\nill – were apparent by kindergarten and increased with age (Weiss 1986, 1994;\\nWahl 2002).Deﬁning mental health and mental illness 13', metadata={'source': '/content/mental.pdf', 'page': 7}), Document(page_content='•Words and phrases used to describe people with mental health problems or\\nmental illness were largely derogatory, with the most common labels being‘retarded ’, ‘psycho(path) ’, ‘spastic ’, ‘mental ’, ‘crazy ’ and ‘nutter ’ (Bailey 1999;\\nPinfold et al. 2003).\\n•The most frequently cited causes of mental illness were stress, genetics and bad\\nchildhood experiences (Bailey 1999).\\n•Y oung people with experience of mental health problems described being met\\nwith negative attitudes and reactions from other people, including professionals(Scottish Executive 2005).\\n•Although adolescents stigmatized peers with both physical and mental illness,\\nthey had a greater tendency to stigmatize those experiencing a mental illness(Sessa 2005a, 2005b).\\n•Adolescents presenting in school with either a physical or mental illness were\\nlikely to be socially excluded, itself a risk factor for developing mental healthproblems (Sessa 2005a, 2005b).\\n•Providing mental health education could lead to a positive change in reported\\nattitudes in the short term, especially among females and those reporting personalcontact with someone who had a mental illness (Pinfold et al. 2003).\\n•Although adolescents with less knowledge about mental health and illness had\\nmore negative attitudes towards mental illness, this did not in ﬂuence the willing-\\nness to seek help for mental health problems as much as other factors – for\\nexample, level of psychological distress, number of barriers to overcome in orderto access help, or adaptability (Shef ﬁeld et al. 2004).\\nFrom the sparse literature available, it would appear that adolescents ’ attitudes towards\\nmental illness tend to be negative and stigmatizing. The need for education among the public,and adolescents in particular, in order to combat the stigma of mental illness is highlightedin the literature (Davidson and Manion 1996; Armstrong et al.  1998; Esters et al.  1998;\\nBailey 1999; Secker et al.  1999; Taylor 2001; Naylor et al.  2002; Pow 2003; Hinshaw 2005;\\nSessa 2005b).\\nEarly indicators from our own work in Nigeria are that such attitudes transcend culture\\n(Dogra 2009). However, there is evidence that stigma can be tackled. We will now examinesome of the interventions undertaken to reduce stigma among children.\\nInterventions to reduce stigma\\nLarge-scale interventions, such as high pro ﬁle campaigns, are often dif ﬁcult to evaluate. In the\\nUK there have been several such campaigns – for example, The Royal College of Psychiatrists ’\\ncampaign, ‘Every Family in the Land ’ (Crisp 2004) and the WHO ‘Dare to Care ’ campaign\\n(WHO 2001). There is little evidence available to indicate that these have successfully changedpublic or personal attitudes, although there is evidence that more targeted initiatives may reapbene ﬁts (WHO 2005a). While much of the work to date has focused on adults, there are increas-\\ning efforts to address the issue among younger populations.\\nThere is scope for joint working between schools and child and adolescent mental health\\nservices (CAMHS) in order to provide mental health promotion and reduce stigma. However,it is important that we do not attempt to reduce stigma by just changing the terminology used,as there is no evidence that such strategies work.\\nOne small-scale local study found that young people thought they might be helped by14 Nursing in child and adolescent mental health', metadata={'source': '/content/mental.pdf', 'page': 8}), Document(page_content='having more basic information about local services (Dogra et al.  2007). In another such study,\\nadolescents who lived with parental mental illness suggested that the best ways of providingadolescents with information about mental health included real experience and focusing onthe issue in schools – i.e. existing sources of (mis)information. It was thought that those speak-\\ning out should be adolescents who were con ﬁdent to talk about their situation, but they should\\nnot talk to people they knew for fear of being bullied and they should be pupils at other schools(Leighton 2006).\\nTwo school-based interventions reported promising results. Rahman et al.  (1998) concluded\\nthat the school programme they undertook was successful in improving mental health aware-ness in the children and their community. Unfortunately, the intervention is only brie ﬂy\\ndescribed and it is dif ﬁcult to be clear whether attitudes towards mental health (and issues\\nabout stigma) were addressed, or whether awareness of mental health (and therefore knowledgeand understanding) informed the intervention. More recently, Pinfold et al.  (2003) undertook\\nshort educational workshops with 472 secondary school children in the UK. Changes weremost marked for female students and those who had personal contact with people with mentalhealth problems. Further analysis of the labels used to stigmatize people with mental illnessfound that of the 472 students sampled, 400 of them provided 250 words to describe a personwith mental illness. Nearly half were derogatory (Rose et al.  2007). The authors conclude that\\nthere need to be interventions which address factual information about mental illness andthat reduce the strong negative emotional reactions to people with mental illness. Effectiveevaluation is unlikely to be possible if there is no clarity about the purpose of the interventionor too many aspects covered in one evaluation (Naylor et al. 2002).\\nSummary\\nConsiderable terminological confusion exists in relation to issues associated with mental health\\ngenerally and among children and young people speci ﬁcally. Furthermore, stigmatizing atti-\\ntudes towards mental illness and related issues continue to pose a challenge. Children, youngpeople and adults display similar negative attitudes towards both mental illness and individualsexperiencing mental health problems or illness. However, there is some evidence that thesemight be amenable to interventions such as education.\\nYou may now wish to re ﬂect on the issues discussed in this chapter by returning to the\\nexercise in Box 1.1.\\nReferences\\nAmerican Psychiatric Association (1994) Diagnostic and Statistical Manual of Mental Disorders , 4th edn.\\nArlington, VA: American Psychiatric Association.\\nAppleton, P.L. and Hammond-Rowley, S. (2000) Addressing the population burden of child and adolescent\\nmental health problems: a primary care model, Child Psychology and Psychiatry Review , 5(1): 9 –16.\\nArmstrong, C., Hill, M. and Secker, J. (1998) Listening to Children . London: The Mental Health Foundation.\\nArmstrong, C., Hill, M. and Secker, J. (2000) Young people ’s perceptions of mental health, Children and\\nSociety , 14: 60 –72.\\nAsarnow, J.R., Jaycox, L.H. and Thompson, M.C. (2001) Depression in youth: psychosocial interventions,\\nJournal of Clinical Child Psychology , 30(1): 33 –47.\\nAtkins, M.S., Frazier, S.L., Adil, J.A. and Talbot, E. (2003) School based mental health services in urban\\ncommunities, in M.D. Weist, S.W. Evans and N.A. Lever (eds) Handbook of School Mental Health: Advancing\\nPractice and Research . Hingham, MA: Kluwer Academic/Plenum Publishers.\\nBailey, S. (1999) Young people, mental health and stigmatization, Psychiatric Bulletin , 23: 107 –10.\\nBMA (British Medical Association) (2006) Child and Adolescent Mental Health: A Guide for Health CareDeﬁning mental health and mental illness 15', metadata={'source': '/content/mental.pdf', 'page': 9}), Document(page_content='Professionals , www.bma.org.uk/ap.nsf/AttachmentsByTitle/PDFChildAdolescentMentalHealth/$FILE/\\nChildAdolescentMentalHealth.pdf, accessed 5 August 2007.\\nByrne, P. (2003) Psychiatry and the media, Advances in Psychiatric Treatment , 9: 135 –43.\\nColeman, J. and Scho ﬁeld, J. (2005) Key Data on Adolescence , 5th edn. Brighton: Trust for the Study of\\nAdolescence.\\nCrisp, A. (2004) The nature of stigmatisation, in A.H. Crisp (ed.) Every Family in the Land: Understanding\\nPrejudice and Discrimination against People with Mental Illness . London: Royal Society of Medicine Press.\\nCrisp, A.H., Gelder, M., Rix, S., Meltzer, H.I. and Rowlands, O.J. (2000) Stigmatisation of people with mental\\nillnesses, British Journal of Psychiatry , 177: 4 –7.\\nDavidson, S., and Manion, I.G. (1996) Facing the challenge: mental health and illness in Canadian youth,\\nPsychology, Health and Medicine , 1(1): 41 –55.\\nDogra, N. (2003) Cultural competence or cultural sensibility? A comparison of two ideal type models to\\nteach cultural diversity to medical students, International Journal of Medicine , 5(4): 223 –31.\\nDogra, N. (2009) Training School Counsellors and Young People in Secondary Schools in Ibadan, Nigeria on Common\\nMental Health Problems with an Emphasis on Tackling Stigma , project report for the British Council. Leicester:\\nUniversity of Leicester.\\nDogra, N., Vostanis, P., Abuateya, H. and Jewson, N. (2007) Children ’s mental health services and ethnic\\ndiversity: Gujarati families ’ perspectives of service provision for mental health problems, Transcultural\\nPsychiatry  44(2): 275 –91.\\nEdney, D.R. (2004) Mass Media and Mental Illness: A Literature Review , www.ontario.cmha.ca/content/\\nabout_mental_illness/mass_media.asp?fontaction =plus, accessed 14 Januray 2005.\\nEminson, M. (2004) Personal responses to a lack of shared perception, in A.H. Crisp (ed.) Every Family in the\\nLand: Understanding Prejudice and Discrimination against People with Mental Illness . London: Royal Society\\nof Medicine Press.\\nEsters, I.G., Cooker, P.G. and Ittenbach, R.F. (1998) Effects of a unit of instruction in mental health on\\nrural adolescents ’ conceptions of mental illness and attitudes about seeking help, Adolescence , 33(130):\\n469–76.\\nFrancis, C., Pirkis, J., Dunt, D. and Blood, R.W. (2001) Mental Health and Illness in the Media: A Review of the\\nLiterature , http://ausinet. ﬂinders.edu.au/resources/other/mhimedia.pdf, accessed 14 Januray 2005.\\nGale, F. (2007) Tackling the stigma of mental health in vulnerable children and young people, in P. Vostanis\\n(ed.) Mental Health Interventions and Services for Vulnerable Children and Young People . London: Jessica\\nKingsley.\\nGoffman, E. (1970) Stigma: Notes on the Management of a Spoiled Identity . New York: Penguin.\\nGureje, O., Lasebikan, V.O., Ephraim-Oluwanuga, O., Olley, B.O. and Kola, L. (2005) Community study\\nof knowledge of and attitude to mental illness in Nigeria, The British Journal of Psychiatry , 186:\\n436–41.\\nHAS (Health Advisory Service) (1995) Child & Adolescent Mental Health Services . London: HAS.\\nHaywood, P. and Bright, J.A. (1997) Stigma and mental illness: a review and critique, Journal of Mental Health ,\\n6(4): 345 –54.\\nHinshaw, S.P. (2005) The stigmatisation of mental illness in children and parents: developmental issues,\\nfamily concerns and research needs, Journal of Child Psychology and Psychiatry , 46(7): 714 –34.\\nIllich, I. (1977) Disabling Professions . New York: MarionBoyars Publishers.\\nJohns, S. (2002) Young people, schools and mental health services: intervention or prevention? in L. Rowling,\\nG. Martin and L. Walker (eds) Mental Health Promotion and Young People: Concepts and Practice . Roseville,\\nNSW: McGraw-Hill Australia.\\nJorm, A.F. (2000) Mental health literacy: public knowledge and beliefs about mental disorders, British Journal\\nof Psychiatry , 177: 396 –401.\\nJorm, A.F., Korten, A.E., Jacomb, P.A., Christenson, H., Rodgers, B. and Pllitt, P. (1997) ‘Mental health literacy ’:\\na survey of the public ’s ability to recognize mental disorders and their beliefs about the effectiveness\\nof treatment, Medical Journal of Australia , 166: 182 –6.\\nKendall, R. (1988) Diagnosis and classi ﬁcation, in R. Kendall and A. Zealley (eds) Companion to Psychiatric\\nStudies . Edinburgh: Churchill Livingstone.\\nLeighton, S. (2006) Pilot thesis: ‘What do I think? Where do I go? ’ Exploring adolescents ’ understanding of\\nmental health issues and their attitudes towards seeking help for mental health problems. Unpublisheddoctoral assignment.16 Nursing in child and adolescent mental health', metadata={'source': '/content/mental.pdf', 'page': 10}), Document(page_content='Leighton, S. (2008) ‘What do I think? Where do I go? ’ Exploring adolescents ’ understanding of mental health\\nissues and their attitudes towards seeking help for mental health problems. Unpublished doctoral thesis.\\nLink, B.G. and Phelan, J.C. (2001) Conceptualising stigma, Annual Review of Sociology , 27: 363 –85.\\nMeltzer, H., Gatward, R., Goodman, R. and Ford, T. (2000) The Mental Health of Children and Adolescents in\\nGreat Britain . London: The Stationery Of ﬁce.\\nMental Health Foundation (1999) Bright Futures: Promoting Children and Young People ’s Mental Health . London:\\nMental Health Foundation.\\nMoore, M. and Carr, A. (2000) Anxiety disorders, in A. Carr (ed.) (2000) What Works with Children and\\nAdolescents?  London: Routledge.\\nNaylor, P., Cowie, H., Talamelli, L. and Dawkins, J. (2002) The Development of Adolescent Pupils ’ Knowledge\\nabout and Attitudes Towards Mental Health Dif ﬁculties , project report to PPP Healthcare Medical Trust,\\nwww.ukobservatory.com/projects/project3.html, accessed 9 January 2005.\\nPinfold, V., Toulmin, H., Thornicroft, G., Huxley, P., Farmer, P. and Graham, T. (2003) Reducing psychiatric\\nstigma and discrimination: evaluation of educational interventions in UK secondary schools, British\\nJournal of Psychiatry , 182: 342 –6.\\nPow, J. (2003) A study of adolescents in Fife (15 –16 years) to establish their views, attitudes and knowledge\\nof mental health issues, unpublished MSc dissertation, University of Dundee.\\nRahman, A., Mubbashar, M.H., Gater, R. and Goldberg, D. (1998) Randomised trial of impact of school\\nmental health programme in rural Rawalpindi, Pakistan, The Lancet , 352: 1022 –5.\\nRickwood, D., Deane, F.P., Wilson, C.J. and Ciarrochi, J. (2005) Young people ’s help-seeking for mental\\nhealth problems, Australian e-Journal for the Advancement of Mental Health , 4: supplement,\\nwww.ausinet.com/journal/vol4iss3suppl/rickwood.pdf, accessed 5 August 2007.\\nRose, D., Thornicroft, G., Pinfold, V. and Kassam, A. (2007) 250 labels used to stigmatise people with mental\\nhealth, BMC Health Services Research , 7: 97.\\nRowling, L., Martin, G. and Walker, L. (eds) (2002) Mental Health Promotion and Young People: Concepts and\\nPractice . Roseville, NSW: McGraw-Hill Australia.\\nRyff, C.D. and Singer, B. (1998) The contours of positive human health, Psychological Inquiry  9(1): 1 –28.\\nSartorius, N. (2002) Iatrogenic stigma of mental illness, British Medical Journal , 324: 1470 –1.\\nScottish Executive (2005) See Me . . . Let ’s Stop the Stigma of Mental Ill Health , www.seemescotland.org,\\naccessed 25 May 2005.\\nSecker, J., Armstrong, C. and Hill, M. (1999) Young people ’s understanding of mental mealth, Health\\nEducation Research , 14(6): 729 –39.\\nSessa, B. (2005a) I ’ll have to lie about where I ’ve been, Young Minds Magazine , 76: 34 –5.\\nSessa, B. (2005b) Comparing adolescents ’ opinions towards mental and physical illness: a stigma survey,\\npersonal correspondence, 18 May 2005.\\nShefﬁeld, J.K., Fiorenza, E. and Sofronoff, K. (2004) Adolescents ’ willingness to seek psychological help:\\npromoting and preventing factors, Journal of Youth and Adolescence , 33(6): 495 –507.\\nSmith, K. and Leon, L. (2001) Turned Upside Down: Developing Community-based Crisis Services for 16 –25 Year\\nOlds Experiencing a Mental Health Crisis , London: Mental Health Foundation.\\nTaylor, C. (2001) Adolescent perceptions of mental health services and of mental health, unpublished BSc\\nthesis, University of Leicester.\\nTomlinson, M. (2001) A critical look at cultural diversity and infant health synergy, Australian Transcultural\\nMental Health Network , winter: 3 –5.\\nWahl, O.F. (2002) Children ’s views of mental illness: a review of the literature, Psychiatric Rehabilitation Skills ,\\n6(2): 134 –58.\\nWahl, O.F. (2003) Depictions of mental illnesses in children ’s media, Journal of Mental Health , 12: 248 –58.\\nWalker, S. (2005) Culturally Competent Therapy: Working with Children and Young People . Basingstoke: Palgrave\\nMacmillan.\\nWeiss, M.F. (1986) Children ’s attitudes towards the mentally ill: a developmental analysis, Psychological\\nReports , 58: 11 –20.\\nWeiss, M.F. (1994) Children ’s attitudes towards the mentally ill: an eight-year longitudinal follow-up,\\nPsychological Reports , 74: 51 –6.\\nWHO (World Health Organization) (1992) International Statistical Classi ﬁcation of Diseases and Related Health\\nProblems , 10th revision. Geneva: WHO.\\nWHO (World Health Organization) (1996) The Global Burden of Disease . Geneva: WHO.Deﬁning mental health and mental illness 17', metadata={'source': '/content/mental.pdf', 'page': 11}), Document(page_content='WHO (World Health Organization) (2000) World Mental Health Day. Mental Health: Stop Exclusion – Dare to\\nCare, http://who.int/world-health-day/en/, accessed 2 December 2005.\\nWHO (World Health Organization (2001) World Mental Health Day. Mental Health: Stop Exclusion – Dare to\\nCare, http://www.emro.who.int/MNH/WHD/WHD-Brochure.pdf, accessed 2 July 2009.\\nWHO (World Health Organization) (2004) Promoting Mental Health: Concepts, Emerging Evidence, Practice:\\nSummary Report . Geneva: WHO.\\nWHO (World Health Organization) (2005a) Child and Adolescent Mental Health Policies and Plans .\\nGeneva: WHO.\\nWHO (World Health Organization) (2005b) WHO European Ministerial Conference on Mental Health: Facing the\\nChallenges, Building Solutions: Stigma and Discrimination Against the Mentally Ill in Europe , http://\\nwww.euro.who.int/document/MNH/ebrief10.pdf, accessed 12 July 2008.18 Nursing in child and adolescent mental health\\nView publication stats', metadata={'source': '/content/mental.pdf', 'page': 12})]\n"
          ]
        }
      ],
      "source": [
        "print(data)"
      ]
    },
    {
      "cell_type": "code",
      "execution_count": null,
      "metadata": {
        "id": "T1L27WlvyJIu"
      },
      "outputs": [],
      "source": [
        "#Step 05: Split the Extracted Data into Text Chunks\n",
        "text_splitter = RecursiveCharacterTextSplitter(chunk_size=1000, chunk_overlap=20)\n",
        "\n",
        "text_chunks = text_splitter.split_documents(data)"
      ]
    },
    {
      "cell_type": "code",
      "execution_count": null,
      "metadata": {
        "colab": {
          "base_uri": "https://localhost:8080/"
        },
        "id": "6Jq5TiVcyiu2",
        "outputId": "3ab6d49a-dc67-41b4-e289-76c75e0f5139"
      },
      "outputs": [
        {
          "output_type": "execute_result",
          "data": {
            "text/plain": [
              "43"
            ]
          },
          "metadata": {},
          "execution_count": 7
        }
      ],
      "source": [
        "len(text_chunks)"
      ]
    },
    {
      "cell_type": "code",
      "execution_count": null,
      "metadata": {
        "colab": {
          "base_uri": "https://localhost:8080/"
        },
        "id": "1o8aXL-Ryp9e",
        "outputId": "f05c138a-ac2c-41f7-c5b0-2e5e8869bddf"
      },
      "outputs": [
        {
          "output_type": "execute_result",
          "data": {
            "text/plain": [
              "Document(page_content='Registered Charity England and Wales No. 207711, Scotland No. SC041156.Contents\\nLynn’s story  4\\nWhat is fibromyalgia?  6\\nSymptoms  6\\nWho gets fibromyalgia?  8\\nDoes it run in families?  8\\nCauses  8\\nDiagnosis  10\\nWhat does the future hold for me?  11\\nTreatments  13\\nPhysical therapies  13\\nPain clinics and pain management programmes  15\\nPsychological therapies  15\\nAcupuncture  18\\nDrug treatments  18\\nHow can I help myself?  20\\nResearch and new developments  27\\nGlossary  29\\nWhere can I find out more?  30\\nTalk to us  31', metadata={'source': '/content/Data/fibromyalgia-information-booklet-july2021.pdf', 'page': 1})"
            ]
          },
          "metadata": {},
          "execution_count": 8
        }
      ],
      "source": [
        "#get the third chunk\n",
        "text_chunks[2]"
      ]
    },
    {
      "cell_type": "code",
      "execution_count": null,
      "metadata": {
        "id": "M7oKKdTPyxax"
      },
      "outputs": [],
      "source": [
        "#Step 06:Downlaod the Embeddings\n",
        "embeddings = HuggingFaceEmbeddings(model_name=\"thenlper/gte-large\",\n",
        "                                   model_kwargs = {'device':'cpu'})\n"
      ]
    },
    {
      "cell_type": "code",
      "execution_count": null,
      "metadata": {
        "id": "MJbn_hjzznhm"
      },
      "outputs": [],
      "source": [
        "#Step 08: Create Embeddings for each of the Text Chunk\n",
        "vector_store = FAISS.from_documents(text_chunks,\n",
        "                                    embedding=embeddings\n",
        "                                    )"
      ]
    },
    {
      "cell_type": "code",
      "source": [
        "pip install ctransformers\n"
      ],
      "metadata": {
        "colab": {
          "base_uri": "https://localhost:8080/"
        },
        "id": "CL0AMkvPPgGG",
        "outputId": "612f9cce-350b-4afb-92f0-496f97026169"
      },
      "execution_count": null,
      "outputs": [
        {
          "output_type": "stream",
          "name": "stdout",
          "text": [
            "Requirement already satisfied: ctransformers in /usr/local/lib/python3.10/dist-packages (0.2.27)\n",
            "Requirement already satisfied: huggingface-hub in /usr/local/lib/python3.10/dist-packages (from ctransformers) (0.17.3)\n",
            "Requirement already satisfied: py-cpuinfo<10.0.0,>=9.0.0 in /usr/local/lib/python3.10/dist-packages (from ctransformers) (9.0.0)\n",
            "Requirement already satisfied: filelock in /usr/local/lib/python3.10/dist-packages (from huggingface-hub->ctransformers) (3.12.4)\n",
            "Requirement already satisfied: fsspec in /usr/local/lib/python3.10/dist-packages (from huggingface-hub->ctransformers) (2023.6.0)\n",
            "Requirement already satisfied: requests in /usr/local/lib/python3.10/dist-packages (from huggingface-hub->ctransformers) (2.31.0)\n",
            "Requirement already satisfied: tqdm>=4.42.1 in /usr/local/lib/python3.10/dist-packages (from huggingface-hub->ctransformers) (4.66.1)\n",
            "Requirement already satisfied: pyyaml>=5.1 in /usr/local/lib/python3.10/dist-packages (from huggingface-hub->ctransformers) (6.0.1)\n",
            "Requirement already satisfied: typing-extensions>=3.7.4.3 in /usr/local/lib/python3.10/dist-packages (from huggingface-hub->ctransformers) (4.5.0)\n",
            "Requirement already satisfied: packaging>=20.9 in /usr/local/lib/python3.10/dist-packages (from huggingface-hub->ctransformers) (23.2)\n",
            "Requirement already satisfied: charset-normalizer<4,>=2 in /usr/local/lib/python3.10/dist-packages (from requests->huggingface-hub->ctransformers) (3.3.1)\n",
            "Requirement already satisfied: idna<4,>=2.5 in /usr/local/lib/python3.10/dist-packages (from requests->huggingface-hub->ctransformers) (3.4)\n",
            "Requirement already satisfied: urllib3<3,>=1.21.1 in /usr/local/lib/python3.10/dist-packages (from requests->huggingface-hub->ctransformers) (2.0.7)\n",
            "Requirement already satisfied: certifi>=2017.4.17 in /usr/local/lib/python3.10/dist-packages (from requests->huggingface-hub->ctransformers) (2023.7.22)\n"
          ]
        }
      ]
    },
    {
      "cell_type": "code",
      "execution_count": null,
      "metadata": {
        "id": "v9Y5Va538RDL",
        "colab": {
          "base_uri": "https://localhost:8080/",
          "height": 81,
          "referenced_widgets": [
            "51bd3bd05d34451e8463d11c9a49583f",
            "68b91665d2a3484e8d8a5189e3e99522",
            "c6ca6b0acfab4b11bc198740d3b9fb1f",
            "066307dc0c774ff7b6dbba8dce20545f",
            "f8c6fa8940714360a3baef3067592e50",
            "809f1bcdf59448a485b904f12780863a",
            "ae4f6f5ac2f54b32bd49d7ed91e584b7",
            "e07b884b6ad94c0db982ba7a45aa20fd",
            "b99144afe1c44918ab3862072e9a081b",
            "1cb39d059de24a9f97e945cdce3e1beb",
            "9cb4a24a43424ac8b68792365b41c6ce",
            "66153fc53612498ea2be913a2336e867",
            "be059bc46cdc46bcb22981d47a2a9a5b",
            "d82d371a7d7c48609a7115162fb35ca9",
            "f5a1b95cdc6d44e6a0bceafeb4296912",
            "baf798c5b13d4155b0c7dfd7a312cb89",
            "5908c40dd30244868ddcac30facd4aeb",
            "7b81f0ed7e3b4795a44fc22b7915eb41",
            "0893629500fc4efcb9cef05234b8c0a9",
            "d9af8b7376b04eff9fb368b3d9784c61",
            "e45cb78507d3472285e48f37049b1f9f",
            "b290697c6a0c458dbfff88d320dd21f3"
          ]
        },
        "outputId": "83f149eb-f622-47dc-938a-ad0088b714d2"
      },
      "outputs": [
        {
          "output_type": "display_data",
          "data": {
            "text/plain": [
              "Fetching 1 files:   0%|          | 0/1 [00:00<?, ?it/s]"
            ],
            "application/vnd.jupyter.widget-view+json": {
              "version_major": 2,
              "version_minor": 0,
              "model_id": "51bd3bd05d34451e8463d11c9a49583f"
            }
          },
          "metadata": {}
        },
        {
          "output_type": "display_data",
          "data": {
            "text/plain": [
              "Fetching 1 files:   0%|          | 0/1 [00:00<?, ?it/s]"
            ],
            "application/vnd.jupyter.widget-view+json": {
              "version_major": 2,
              "version_minor": 0,
              "model_id": "66153fc53612498ea2be913a2336e867"
            }
          },
          "metadata": {}
        }
      ],
      "source": [
        "#Import Model\n",
        "from langchain.llms import CTransformers\n",
        "llm = AutoModelForCausalLM.from_pretrained('TheBloke/Mistral-7B-codealpaca-lora-GGUF', model_file = 'mistral-7b-codealpaca-lora.Q4_K_M.gguf',\n",
        "                model_type = \"Mistral\",\n",
        "                temperature=0.75,\n",
        "                max_new_tokens = 512\n",
        "            )"
      ]
    },
    {
      "cell_type": "markdown",
      "metadata": {
        "id": "n0fsqtREeF2d"
      },
      "source": []
    },
    {
      "cell_type": "code",
      "execution_count": null,
      "metadata": {
        "id": "4Vpb_w-i94Th",
        "colab": {
          "base_uri": "https://localhost:8080/",
          "height": 304
        },
        "outputId": "8fc45958-824f-4842-84c0-48b63c65e92c"
      },
      "outputs": [
        {
          "output_type": "error",
          "ename": "ValidationError",
          "evalue": "ignored",
          "traceback": [
            "\u001b[0;31m---------------------------------------------------------------------------\u001b[0m",
            "\u001b[0;31mValidationError\u001b[0m                           Traceback (most recent call last)",
            "\u001b[0;32m<ipython-input-39-2c6e7bde2f37>\u001b[0m in \u001b[0;36m<cell line: 1>\u001b[0;34m()\u001b[0m\n\u001b[0;32m----> 1\u001b[0;31m \u001b[0mqa\u001b[0m \u001b[0;34m=\u001b[0m \u001b[0mRetrievalQA\u001b[0m\u001b[0;34m.\u001b[0m\u001b[0mfrom_chain_type\u001b[0m\u001b[0;34m(\u001b[0m\u001b[0mllm\u001b[0m\u001b[0;34m=\u001b[0m\u001b[0mllm\u001b[0m\u001b[0;34m,\u001b[0m \u001b[0mchain_type\u001b[0m\u001b[0;34m=\u001b[0m\u001b[0;34m\"stuff\"\u001b[0m\u001b[0;34m,\u001b[0m \u001b[0mretriever\u001b[0m\u001b[0;34m=\u001b[0m\u001b[0mvector_store\u001b[0m\u001b[0;34m.\u001b[0m\u001b[0mas_retriever\u001b[0m\u001b[0;34m(\u001b[0m\u001b[0msearch_kwargs\u001b[0m\u001b[0;34m=\u001b[0m\u001b[0;34m{\u001b[0m\u001b[0;34m\"k\"\u001b[0m\u001b[0;34m:\u001b[0m \u001b[0;36m2\u001b[0m\u001b[0;34m}\u001b[0m\u001b[0;34m)\u001b[0m\u001b[0;34m)\u001b[0m\u001b[0;34m\u001b[0m\u001b[0;34m\u001b[0m\u001b[0m\n\u001b[0m",
            "\u001b[0;32m/usr/local/lib/python3.10/dist-packages/langchain/chains/retrieval_qa/base.py\u001b[0m in \u001b[0;36mfrom_chain_type\u001b[0;34m(cls, llm, chain_type, chain_type_kwargs, **kwargs)\u001b[0m\n\u001b[1;32m     98\u001b[0m         \u001b[0;34m\"\"\"Load chain from chain type.\"\"\"\u001b[0m\u001b[0;34m\u001b[0m\u001b[0;34m\u001b[0m\u001b[0m\n\u001b[1;32m     99\u001b[0m         \u001b[0m_chain_type_kwargs\u001b[0m \u001b[0;34m=\u001b[0m \u001b[0mchain_type_kwargs\u001b[0m \u001b[0;32mor\u001b[0m \u001b[0;34m{\u001b[0m\u001b[0;34m}\u001b[0m\u001b[0;34m\u001b[0m\u001b[0;34m\u001b[0m\u001b[0m\n\u001b[0;32m--> 100\u001b[0;31m         combine_documents_chain = load_qa_chain(\n\u001b[0m\u001b[1;32m    101\u001b[0m             \u001b[0mllm\u001b[0m\u001b[0;34m,\u001b[0m \u001b[0mchain_type\u001b[0m\u001b[0;34m=\u001b[0m\u001b[0mchain_type\u001b[0m\u001b[0;34m,\u001b[0m \u001b[0;34m**\u001b[0m\u001b[0m_chain_type_kwargs\u001b[0m\u001b[0;34m\u001b[0m\u001b[0;34m\u001b[0m\u001b[0m\n\u001b[1;32m    102\u001b[0m         )\n",
            "\u001b[0;32m/usr/local/lib/python3.10/dist-packages/langchain/chains/question_answering/__init__.py\u001b[0m in \u001b[0;36mload_qa_chain\u001b[0;34m(llm, chain_type, verbose, callback_manager, **kwargs)\u001b[0m\n\u001b[1;32m    247\u001b[0m             \u001b[0;34mf\"Should be one of {loader_mapping.keys()}\"\u001b[0m\u001b[0;34m\u001b[0m\u001b[0;34m\u001b[0m\u001b[0m\n\u001b[1;32m    248\u001b[0m         )\n\u001b[0;32m--> 249\u001b[0;31m     return loader_mapping[chain_type](\n\u001b[0m\u001b[1;32m    250\u001b[0m         \u001b[0mllm\u001b[0m\u001b[0;34m,\u001b[0m \u001b[0mverbose\u001b[0m\u001b[0;34m=\u001b[0m\u001b[0mverbose\u001b[0m\u001b[0;34m,\u001b[0m \u001b[0mcallback_manager\u001b[0m\u001b[0;34m=\u001b[0m\u001b[0mcallback_manager\u001b[0m\u001b[0;34m,\u001b[0m \u001b[0;34m**\u001b[0m\u001b[0mkwargs\u001b[0m\u001b[0;34m\u001b[0m\u001b[0;34m\u001b[0m\u001b[0m\n\u001b[1;32m    251\u001b[0m     )\n",
            "\u001b[0;32m/usr/local/lib/python3.10/dist-packages/langchain/chains/question_answering/__init__.py\u001b[0m in \u001b[0;36m_load_stuff_chain\u001b[0;34m(llm, prompt, document_variable_name, verbose, callback_manager, callbacks, **kwargs)\u001b[0m\n\u001b[1;32m     71\u001b[0m ) -> StuffDocumentsChain:\n\u001b[1;32m     72\u001b[0m     \u001b[0m_prompt\u001b[0m \u001b[0;34m=\u001b[0m \u001b[0mprompt\u001b[0m \u001b[0;32mor\u001b[0m \u001b[0mstuff_prompt\u001b[0m\u001b[0;34m.\u001b[0m\u001b[0mPROMPT_SELECTOR\u001b[0m\u001b[0;34m.\u001b[0m\u001b[0mget_prompt\u001b[0m\u001b[0;34m(\u001b[0m\u001b[0mllm\u001b[0m\u001b[0;34m)\u001b[0m\u001b[0;34m\u001b[0m\u001b[0;34m\u001b[0m\u001b[0m\n\u001b[0;32m---> 73\u001b[0;31m     llm_chain = LLMChain(\n\u001b[0m\u001b[1;32m     74\u001b[0m         \u001b[0mllm\u001b[0m\u001b[0;34m=\u001b[0m\u001b[0mllm\u001b[0m\u001b[0;34m,\u001b[0m\u001b[0;34m\u001b[0m\u001b[0;34m\u001b[0m\u001b[0m\n\u001b[1;32m     75\u001b[0m         \u001b[0mprompt\u001b[0m\u001b[0;34m=\u001b[0m\u001b[0m_prompt\u001b[0m\u001b[0;34m,\u001b[0m\u001b[0;34m\u001b[0m\u001b[0;34m\u001b[0m\u001b[0m\n",
            "\u001b[0;32m/usr/local/lib/python3.10/dist-packages/langchain/load/serializable.py\u001b[0m in \u001b[0;36m__init__\u001b[0;34m(self, **kwargs)\u001b[0m\n\u001b[1;32m     95\u001b[0m \u001b[0;34m\u001b[0m\u001b[0m\n\u001b[1;32m     96\u001b[0m     \u001b[0;32mdef\u001b[0m \u001b[0m__init__\u001b[0m\u001b[0;34m(\u001b[0m\u001b[0mself\u001b[0m\u001b[0;34m,\u001b[0m \u001b[0;34m**\u001b[0m\u001b[0mkwargs\u001b[0m\u001b[0;34m:\u001b[0m \u001b[0mAny\u001b[0m\u001b[0;34m)\u001b[0m \u001b[0;34m->\u001b[0m \u001b[0;32mNone\u001b[0m\u001b[0;34m:\u001b[0m\u001b[0;34m\u001b[0m\u001b[0;34m\u001b[0m\u001b[0m\n\u001b[0;32m---> 97\u001b[0;31m         \u001b[0msuper\u001b[0m\u001b[0;34m(\u001b[0m\u001b[0;34m)\u001b[0m\u001b[0;34m.\u001b[0m\u001b[0m__init__\u001b[0m\u001b[0;34m(\u001b[0m\u001b[0;34m**\u001b[0m\u001b[0mkwargs\u001b[0m\u001b[0;34m)\u001b[0m\u001b[0;34m\u001b[0m\u001b[0;34m\u001b[0m\u001b[0m\n\u001b[0m\u001b[1;32m     98\u001b[0m         \u001b[0mself\u001b[0m\u001b[0;34m.\u001b[0m\u001b[0m_lc_kwargs\u001b[0m \u001b[0;34m=\u001b[0m \u001b[0mkwargs\u001b[0m\u001b[0;34m\u001b[0m\u001b[0;34m\u001b[0m\u001b[0m\n\u001b[1;32m     99\u001b[0m \u001b[0;34m\u001b[0m\u001b[0m\n",
            "\u001b[0;32m/usr/local/lib/python3.10/dist-packages/pydantic/main.cpython-310-x86_64-linux-gnu.so\u001b[0m in \u001b[0;36mpydantic.main.BaseModel.__init__\u001b[0;34m()\u001b[0m\n",
            "\u001b[0;31mValidationError\u001b[0m: 2 validation errors for LLMChain\nllm\n  instance of Runnable expected (type=type_error.arbitrary_type; expected_arbitrary_type=Runnable)\nllm\n  instance of Runnable expected (type=type_error.arbitrary_type; expected_arbitrary_type=Runnable)"
          ]
        }
      ],
      "source": [
        "qa = RetrievalQA.from_chain_type(llm=llm, chain_type=\"stuff\", retriever=vector_store.as_retriever(search_kwargs={\"k\": 2}))"
      ]
    },
    {
      "cell_type": "code",
      "execution_count": null,
      "metadata": {
        "id": "8DWiBe3cENZB"
      },
      "outputs": [],
      "source": [
        "query = \"how do I improve my mental health\""
      ]
    },
    {
      "cell_type": "code",
      "execution_count": null,
      "metadata": {
        "id": "mdFYMQfR_gzI"
      },
      "outputs": [],
      "source": [
        "qa.run(query)"
      ]
    },
    {
      "cell_type": "code",
      "execution_count": null,
      "metadata": {
        "id": "pl_4JdUatnTQ"
      },
      "outputs": [],
      "source": [
        "import sys\n",
        "\n",
        "while True:\n",
        "  user_input = input(f\"Input Prompt: \")\n",
        "  if user_input == 'exit':\n",
        "    print('Exiting')\n",
        "    sys.exit()\n",
        "  if user_input == '':\n",
        "    continue\n",
        "  result = qa({'query': user_input})\n",
        "  print(f\"Answer: {result['result']}\")"
      ]
    }
  ],
  "metadata": {
    "colab": {
      "provenance": [],
      "gpuType": "T4",
      "include_colab_link": true
    },
    "kernelspec": {
      "display_name": "Python 3",
      "name": "python3"
    },
    "language_info": {
      "name": "python"
    },
    "widgets": {
      "application/vnd.jupyter.widget-state+json": {
        "51bd3bd05d34451e8463d11c9a49583f": {
          "model_module": "@jupyter-widgets/controls",
          "model_name": "HBoxModel",
          "model_module_version": "1.5.0",
          "state": {
            "_dom_classes": [],
            "_model_module": "@jupyter-widgets/controls",
            "_model_module_version": "1.5.0",
            "_model_name": "HBoxModel",
            "_view_count": null,
            "_view_module": "@jupyter-widgets/controls",
            "_view_module_version": "1.5.0",
            "_view_name": "HBoxView",
            "box_style": "",
            "children": [
              "IPY_MODEL_68b91665d2a3484e8d8a5189e3e99522",
              "IPY_MODEL_c6ca6b0acfab4b11bc198740d3b9fb1f",
              "IPY_MODEL_066307dc0c774ff7b6dbba8dce20545f"
            ],
            "layout": "IPY_MODEL_f8c6fa8940714360a3baef3067592e50"
          }
        },
        "68b91665d2a3484e8d8a5189e3e99522": {
          "model_module": "@jupyter-widgets/controls",
          "model_name": "HTMLModel",
          "model_module_version": "1.5.0",
          "state": {
            "_dom_classes": [],
            "_model_module": "@jupyter-widgets/controls",
            "_model_module_version": "1.5.0",
            "_model_name": "HTMLModel",
            "_view_count": null,
            "_view_module": "@jupyter-widgets/controls",
            "_view_module_version": "1.5.0",
            "_view_name": "HTMLView",
            "description": "",
            "description_tooltip": null,
            "layout": "IPY_MODEL_809f1bcdf59448a485b904f12780863a",
            "placeholder": "​",
            "style": "IPY_MODEL_ae4f6f5ac2f54b32bd49d7ed91e584b7",
            "value": "Fetching 1 files: 100%"
          }
        },
        "c6ca6b0acfab4b11bc198740d3b9fb1f": {
          "model_module": "@jupyter-widgets/controls",
          "model_name": "FloatProgressModel",
          "model_module_version": "1.5.0",
          "state": {
            "_dom_classes": [],
            "_model_module": "@jupyter-widgets/controls",
            "_model_module_version": "1.5.0",
            "_model_name": "FloatProgressModel",
            "_view_count": null,
            "_view_module": "@jupyter-widgets/controls",
            "_view_module_version": "1.5.0",
            "_view_name": "ProgressView",
            "bar_style": "success",
            "description": "",
            "description_tooltip": null,
            "layout": "IPY_MODEL_e07b884b6ad94c0db982ba7a45aa20fd",
            "max": 1,
            "min": 0,
            "orientation": "horizontal",
            "style": "IPY_MODEL_b99144afe1c44918ab3862072e9a081b",
            "value": 1
          }
        },
        "066307dc0c774ff7b6dbba8dce20545f": {
          "model_module": "@jupyter-widgets/controls",
          "model_name": "HTMLModel",
          "model_module_version": "1.5.0",
          "state": {
            "_dom_classes": [],
            "_model_module": "@jupyter-widgets/controls",
            "_model_module_version": "1.5.0",
            "_model_name": "HTMLModel",
            "_view_count": null,
            "_view_module": "@jupyter-widgets/controls",
            "_view_module_version": "1.5.0",
            "_view_name": "HTMLView",
            "description": "",
            "description_tooltip": null,
            "layout": "IPY_MODEL_1cb39d059de24a9f97e945cdce3e1beb",
            "placeholder": "​",
            "style": "IPY_MODEL_9cb4a24a43424ac8b68792365b41c6ce",
            "value": " 1/1 [00:00&lt;00:00, 32.60it/s]"
          }
        },
        "f8c6fa8940714360a3baef3067592e50": {
          "model_module": "@jupyter-widgets/base",
          "model_name": "LayoutModel",
          "model_module_version": "1.2.0",
          "state": {
            "_model_module": "@jupyter-widgets/base",
            "_model_module_version": "1.2.0",
            "_model_name": "LayoutModel",
            "_view_count": null,
            "_view_module": "@jupyter-widgets/base",
            "_view_module_version": "1.2.0",
            "_view_name": "LayoutView",
            "align_content": null,
            "align_items": null,
            "align_self": null,
            "border": null,
            "bottom": null,
            "display": null,
            "flex": null,
            "flex_flow": null,
            "grid_area": null,
            "grid_auto_columns": null,
            "grid_auto_flow": null,
            "grid_auto_rows": null,
            "grid_column": null,
            "grid_gap": null,
            "grid_row": null,
            "grid_template_areas": null,
            "grid_template_columns": null,
            "grid_template_rows": null,
            "height": null,
            "justify_content": null,
            "justify_items": null,
            "left": null,
            "margin": null,
            "max_height": null,
            "max_width": null,
            "min_height": null,
            "min_width": null,
            "object_fit": null,
            "object_position": null,
            "order": null,
            "overflow": null,
            "overflow_x": null,
            "overflow_y": null,
            "padding": null,
            "right": null,
            "top": null,
            "visibility": null,
            "width": null
          }
        },
        "809f1bcdf59448a485b904f12780863a": {
          "model_module": "@jupyter-widgets/base",
          "model_name": "LayoutModel",
          "model_module_version": "1.2.0",
          "state": {
            "_model_module": "@jupyter-widgets/base",
            "_model_module_version": "1.2.0",
            "_model_name": "LayoutModel",
            "_view_count": null,
            "_view_module": "@jupyter-widgets/base",
            "_view_module_version": "1.2.0",
            "_view_name": "LayoutView",
            "align_content": null,
            "align_items": null,
            "align_self": null,
            "border": null,
            "bottom": null,
            "display": null,
            "flex": null,
            "flex_flow": null,
            "grid_area": null,
            "grid_auto_columns": null,
            "grid_auto_flow": null,
            "grid_auto_rows": null,
            "grid_column": null,
            "grid_gap": null,
            "grid_row": null,
            "grid_template_areas": null,
            "grid_template_columns": null,
            "grid_template_rows": null,
            "height": null,
            "justify_content": null,
            "justify_items": null,
            "left": null,
            "margin": null,
            "max_height": null,
            "max_width": null,
            "min_height": null,
            "min_width": null,
            "object_fit": null,
            "object_position": null,
            "order": null,
            "overflow": null,
            "overflow_x": null,
            "overflow_y": null,
            "padding": null,
            "right": null,
            "top": null,
            "visibility": null,
            "width": null
          }
        },
        "ae4f6f5ac2f54b32bd49d7ed91e584b7": {
          "model_module": "@jupyter-widgets/controls",
          "model_name": "DescriptionStyleModel",
          "model_module_version": "1.5.0",
          "state": {
            "_model_module": "@jupyter-widgets/controls",
            "_model_module_version": "1.5.0",
            "_model_name": "DescriptionStyleModel",
            "_view_count": null,
            "_view_module": "@jupyter-widgets/base",
            "_view_module_version": "1.2.0",
            "_view_name": "StyleView",
            "description_width": ""
          }
        },
        "e07b884b6ad94c0db982ba7a45aa20fd": {
          "model_module": "@jupyter-widgets/base",
          "model_name": "LayoutModel",
          "model_module_version": "1.2.0",
          "state": {
            "_model_module": "@jupyter-widgets/base",
            "_model_module_version": "1.2.0",
            "_model_name": "LayoutModel",
            "_view_count": null,
            "_view_module": "@jupyter-widgets/base",
            "_view_module_version": "1.2.0",
            "_view_name": "LayoutView",
            "align_content": null,
            "align_items": null,
            "align_self": null,
            "border": null,
            "bottom": null,
            "display": null,
            "flex": null,
            "flex_flow": null,
            "grid_area": null,
            "grid_auto_columns": null,
            "grid_auto_flow": null,
            "grid_auto_rows": null,
            "grid_column": null,
            "grid_gap": null,
            "grid_row": null,
            "grid_template_areas": null,
            "grid_template_columns": null,
            "grid_template_rows": null,
            "height": null,
            "justify_content": null,
            "justify_items": null,
            "left": null,
            "margin": null,
            "max_height": null,
            "max_width": null,
            "min_height": null,
            "min_width": null,
            "object_fit": null,
            "object_position": null,
            "order": null,
            "overflow": null,
            "overflow_x": null,
            "overflow_y": null,
            "padding": null,
            "right": null,
            "top": null,
            "visibility": null,
            "width": null
          }
        },
        "b99144afe1c44918ab3862072e9a081b": {
          "model_module": "@jupyter-widgets/controls",
          "model_name": "ProgressStyleModel",
          "model_module_version": "1.5.0",
          "state": {
            "_model_module": "@jupyter-widgets/controls",
            "_model_module_version": "1.5.0",
            "_model_name": "ProgressStyleModel",
            "_view_count": null,
            "_view_module": "@jupyter-widgets/base",
            "_view_module_version": "1.2.0",
            "_view_name": "StyleView",
            "bar_color": null,
            "description_width": ""
          }
        },
        "1cb39d059de24a9f97e945cdce3e1beb": {
          "model_module": "@jupyter-widgets/base",
          "model_name": "LayoutModel",
          "model_module_version": "1.2.0",
          "state": {
            "_model_module": "@jupyter-widgets/base",
            "_model_module_version": "1.2.0",
            "_model_name": "LayoutModel",
            "_view_count": null,
            "_view_module": "@jupyter-widgets/base",
            "_view_module_version": "1.2.0",
            "_view_name": "LayoutView",
            "align_content": null,
            "align_items": null,
            "align_self": null,
            "border": null,
            "bottom": null,
            "display": null,
            "flex": null,
            "flex_flow": null,
            "grid_area": null,
            "grid_auto_columns": null,
            "grid_auto_flow": null,
            "grid_auto_rows": null,
            "grid_column": null,
            "grid_gap": null,
            "grid_row": null,
            "grid_template_areas": null,
            "grid_template_columns": null,
            "grid_template_rows": null,
            "height": null,
            "justify_content": null,
            "justify_items": null,
            "left": null,
            "margin": null,
            "max_height": null,
            "max_width": null,
            "min_height": null,
            "min_width": null,
            "object_fit": null,
            "object_position": null,
            "order": null,
            "overflow": null,
            "overflow_x": null,
            "overflow_y": null,
            "padding": null,
            "right": null,
            "top": null,
            "visibility": null,
            "width": null
          }
        },
        "9cb4a24a43424ac8b68792365b41c6ce": {
          "model_module": "@jupyter-widgets/controls",
          "model_name": "DescriptionStyleModel",
          "model_module_version": "1.5.0",
          "state": {
            "_model_module": "@jupyter-widgets/controls",
            "_model_module_version": "1.5.0",
            "_model_name": "DescriptionStyleModel",
            "_view_count": null,
            "_view_module": "@jupyter-widgets/base",
            "_view_module_version": "1.2.0",
            "_view_name": "StyleView",
            "description_width": ""
          }
        },
        "66153fc53612498ea2be913a2336e867": {
          "model_module": "@jupyter-widgets/controls",
          "model_name": "HBoxModel",
          "model_module_version": "1.5.0",
          "state": {
            "_dom_classes": [],
            "_model_module": "@jupyter-widgets/controls",
            "_model_module_version": "1.5.0",
            "_model_name": "HBoxModel",
            "_view_count": null,
            "_view_module": "@jupyter-widgets/controls",
            "_view_module_version": "1.5.0",
            "_view_name": "HBoxView",
            "box_style": "",
            "children": [
              "IPY_MODEL_be059bc46cdc46bcb22981d47a2a9a5b",
              "IPY_MODEL_d82d371a7d7c48609a7115162fb35ca9",
              "IPY_MODEL_f5a1b95cdc6d44e6a0bceafeb4296912"
            ],
            "layout": "IPY_MODEL_baf798c5b13d4155b0c7dfd7a312cb89"
          }
        },
        "be059bc46cdc46bcb22981d47a2a9a5b": {
          "model_module": "@jupyter-widgets/controls",
          "model_name": "HTMLModel",
          "model_module_version": "1.5.0",
          "state": {
            "_dom_classes": [],
            "_model_module": "@jupyter-widgets/controls",
            "_model_module_version": "1.5.0",
            "_model_name": "HTMLModel",
            "_view_count": null,
            "_view_module": "@jupyter-widgets/controls",
            "_view_module_version": "1.5.0",
            "_view_name": "HTMLView",
            "description": "",
            "description_tooltip": null,
            "layout": "IPY_MODEL_5908c40dd30244868ddcac30facd4aeb",
            "placeholder": "​",
            "style": "IPY_MODEL_7b81f0ed7e3b4795a44fc22b7915eb41",
            "value": "Fetching 1 files: 100%"
          }
        },
        "d82d371a7d7c48609a7115162fb35ca9": {
          "model_module": "@jupyter-widgets/controls",
          "model_name": "FloatProgressModel",
          "model_module_version": "1.5.0",
          "state": {
            "_dom_classes": [],
            "_model_module": "@jupyter-widgets/controls",
            "_model_module_version": "1.5.0",
            "_model_name": "FloatProgressModel",
            "_view_count": null,
            "_view_module": "@jupyter-widgets/controls",
            "_view_module_version": "1.5.0",
            "_view_name": "ProgressView",
            "bar_style": "success",
            "description": "",
            "description_tooltip": null,
            "layout": "IPY_MODEL_0893629500fc4efcb9cef05234b8c0a9",
            "max": 1,
            "min": 0,
            "orientation": "horizontal",
            "style": "IPY_MODEL_d9af8b7376b04eff9fb368b3d9784c61",
            "value": 1
          }
        },
        "f5a1b95cdc6d44e6a0bceafeb4296912": {
          "model_module": "@jupyter-widgets/controls",
          "model_name": "HTMLModel",
          "model_module_version": "1.5.0",
          "state": {
            "_dom_classes": [],
            "_model_module": "@jupyter-widgets/controls",
            "_model_module_version": "1.5.0",
            "_model_name": "HTMLModel",
            "_view_count": null,
            "_view_module": "@jupyter-widgets/controls",
            "_view_module_version": "1.5.0",
            "_view_name": "HTMLView",
            "description": "",
            "description_tooltip": null,
            "layout": "IPY_MODEL_e45cb78507d3472285e48f37049b1f9f",
            "placeholder": "​",
            "style": "IPY_MODEL_b290697c6a0c458dbfff88d320dd21f3",
            "value": " 1/1 [00:00&lt;00:00, 42.99it/s]"
          }
        },
        "baf798c5b13d4155b0c7dfd7a312cb89": {
          "model_module": "@jupyter-widgets/base",
          "model_name": "LayoutModel",
          "model_module_version": "1.2.0",
          "state": {
            "_model_module": "@jupyter-widgets/base",
            "_model_module_version": "1.2.0",
            "_model_name": "LayoutModel",
            "_view_count": null,
            "_view_module": "@jupyter-widgets/base",
            "_view_module_version": "1.2.0",
            "_view_name": "LayoutView",
            "align_content": null,
            "align_items": null,
            "align_self": null,
            "border": null,
            "bottom": null,
            "display": null,
            "flex": null,
            "flex_flow": null,
            "grid_area": null,
            "grid_auto_columns": null,
            "grid_auto_flow": null,
            "grid_auto_rows": null,
            "grid_column": null,
            "grid_gap": null,
            "grid_row": null,
            "grid_template_areas": null,
            "grid_template_columns": null,
            "grid_template_rows": null,
            "height": null,
            "justify_content": null,
            "justify_items": null,
            "left": null,
            "margin": null,
            "max_height": null,
            "max_width": null,
            "min_height": null,
            "min_width": null,
            "object_fit": null,
            "object_position": null,
            "order": null,
            "overflow": null,
            "overflow_x": null,
            "overflow_y": null,
            "padding": null,
            "right": null,
            "top": null,
            "visibility": null,
            "width": null
          }
        },
        "5908c40dd30244868ddcac30facd4aeb": {
          "model_module": "@jupyter-widgets/base",
          "model_name": "LayoutModel",
          "model_module_version": "1.2.0",
          "state": {
            "_model_module": "@jupyter-widgets/base",
            "_model_module_version": "1.2.0",
            "_model_name": "LayoutModel",
            "_view_count": null,
            "_view_module": "@jupyter-widgets/base",
            "_view_module_version": "1.2.0",
            "_view_name": "LayoutView",
            "align_content": null,
            "align_items": null,
            "align_self": null,
            "border": null,
            "bottom": null,
            "display": null,
            "flex": null,
            "flex_flow": null,
            "grid_area": null,
            "grid_auto_columns": null,
            "grid_auto_flow": null,
            "grid_auto_rows": null,
            "grid_column": null,
            "grid_gap": null,
            "grid_row": null,
            "grid_template_areas": null,
            "grid_template_columns": null,
            "grid_template_rows": null,
            "height": null,
            "justify_content": null,
            "justify_items": null,
            "left": null,
            "margin": null,
            "max_height": null,
            "max_width": null,
            "min_height": null,
            "min_width": null,
            "object_fit": null,
            "object_position": null,
            "order": null,
            "overflow": null,
            "overflow_x": null,
            "overflow_y": null,
            "padding": null,
            "right": null,
            "top": null,
            "visibility": null,
            "width": null
          }
        },
        "7b81f0ed7e3b4795a44fc22b7915eb41": {
          "model_module": "@jupyter-widgets/controls",
          "model_name": "DescriptionStyleModel",
          "model_module_version": "1.5.0",
          "state": {
            "_model_module": "@jupyter-widgets/controls",
            "_model_module_version": "1.5.0",
            "_model_name": "DescriptionStyleModel",
            "_view_count": null,
            "_view_module": "@jupyter-widgets/base",
            "_view_module_version": "1.2.0",
            "_view_name": "StyleView",
            "description_width": ""
          }
        },
        "0893629500fc4efcb9cef05234b8c0a9": {
          "model_module": "@jupyter-widgets/base",
          "model_name": "LayoutModel",
          "model_module_version": "1.2.0",
          "state": {
            "_model_module": "@jupyter-widgets/base",
            "_model_module_version": "1.2.0",
            "_model_name": "LayoutModel",
            "_view_count": null,
            "_view_module": "@jupyter-widgets/base",
            "_view_module_version": "1.2.0",
            "_view_name": "LayoutView",
            "align_content": null,
            "align_items": null,
            "align_self": null,
            "border": null,
            "bottom": null,
            "display": null,
            "flex": null,
            "flex_flow": null,
            "grid_area": null,
            "grid_auto_columns": null,
            "grid_auto_flow": null,
            "grid_auto_rows": null,
            "grid_column": null,
            "grid_gap": null,
            "grid_row": null,
            "grid_template_areas": null,
            "grid_template_columns": null,
            "grid_template_rows": null,
            "height": null,
            "justify_content": null,
            "justify_items": null,
            "left": null,
            "margin": null,
            "max_height": null,
            "max_width": null,
            "min_height": null,
            "min_width": null,
            "object_fit": null,
            "object_position": null,
            "order": null,
            "overflow": null,
            "overflow_x": null,
            "overflow_y": null,
            "padding": null,
            "right": null,
            "top": null,
            "visibility": null,
            "width": null
          }
        },
        "d9af8b7376b04eff9fb368b3d9784c61": {
          "model_module": "@jupyter-widgets/controls",
          "model_name": "ProgressStyleModel",
          "model_module_version": "1.5.0",
          "state": {
            "_model_module": "@jupyter-widgets/controls",
            "_model_module_version": "1.5.0",
            "_model_name": "ProgressStyleModel",
            "_view_count": null,
            "_view_module": "@jupyter-widgets/base",
            "_view_module_version": "1.2.0",
            "_view_name": "StyleView",
            "bar_color": null,
            "description_width": ""
          }
        },
        "e45cb78507d3472285e48f37049b1f9f": {
          "model_module": "@jupyter-widgets/base",
          "model_name": "LayoutModel",
          "model_module_version": "1.2.0",
          "state": {
            "_model_module": "@jupyter-widgets/base",
            "_model_module_version": "1.2.0",
            "_model_name": "LayoutModel",
            "_view_count": null,
            "_view_module": "@jupyter-widgets/base",
            "_view_module_version": "1.2.0",
            "_view_name": "LayoutView",
            "align_content": null,
            "align_items": null,
            "align_self": null,
            "border": null,
            "bottom": null,
            "display": null,
            "flex": null,
            "flex_flow": null,
            "grid_area": null,
            "grid_auto_columns": null,
            "grid_auto_flow": null,
            "grid_auto_rows": null,
            "grid_column": null,
            "grid_gap": null,
            "grid_row": null,
            "grid_template_areas": null,
            "grid_template_columns": null,
            "grid_template_rows": null,
            "height": null,
            "justify_content": null,
            "justify_items": null,
            "left": null,
            "margin": null,
            "max_height": null,
            "max_width": null,
            "min_height": null,
            "min_width": null,
            "object_fit": null,
            "object_position": null,
            "order": null,
            "overflow": null,
            "overflow_x": null,
            "overflow_y": null,
            "padding": null,
            "right": null,
            "top": null,
            "visibility": null,
            "width": null
          }
        },
        "b290697c6a0c458dbfff88d320dd21f3": {
          "model_module": "@jupyter-widgets/controls",
          "model_name": "DescriptionStyleModel",
          "model_module_version": "1.5.0",
          "state": {
            "_model_module": "@jupyter-widgets/controls",
            "_model_module_version": "1.5.0",
            "_model_name": "DescriptionStyleModel",
            "_view_count": null,
            "_view_module": "@jupyter-widgets/base",
            "_view_module_version": "1.2.0",
            "_view_name": "StyleView",
            "description_width": ""
          }
        }
      }
    },
    "accelerator": "GPU"
  },
  "nbformat": 4,
  "nbformat_minor": 0
}