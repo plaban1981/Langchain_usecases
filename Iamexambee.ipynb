{
  "nbformat": 4,
  "nbformat_minor": 0,
  "metadata": {
    "colab": {
      "provenance": [],
      "authorship_tag": "ABX9TyOnirVaAXs3nfZt7Bh+NZZO",
      "include_colab_link": true
    },
    "kernelspec": {
      "name": "python3",
      "display_name": "Python 3"
    },
    "language_info": {
      "name": "python"
    }
  },
  "cells": [
    {
      "cell_type": "markdown",
      "metadata": {
        "id": "view-in-github",
        "colab_type": "text"
      },
      "source": [
        "<a href=\"https://colab.research.google.com/github/plaban1981/Langchain_usecases/blob/main/Iamexambee.ipynb\" target=\"_parent\"><img src=\"https://colab.research.google.com/assets/colab-badge.svg\" alt=\"Open In Colab\"/></a>"
      ]
    },
    {
      "cell_type": "code",
      "execution_count": 1,
      "metadata": {
        "colab": {
          "base_uri": "https://localhost:8080/"
        },
        "id": "E_BA1byWNCSQ",
        "outputId": "111b428f-6016-45ee-eb82-3551cbfa1ade"
      },
      "outputs": [
        {
          "output_type": "stream",
          "name": "stdout",
          "text": [
            "\u001b[?25l     \u001b[90m━━━━━━━━━━━━━━━━━━━━━━━━━━━━━━━━━━━━━━━━\u001b[0m \u001b[32m0.0/1.1 MB\u001b[0m \u001b[31m?\u001b[0m eta \u001b[36m-:--:--\u001b[0m\r\u001b[2K     \u001b[91m━━━━━━━━━━━━━━━━━━━━━━━━━━━━━━━━━━━━━━━\u001b[0m\u001b[91m╸\u001b[0m \u001b[32m1.1/1.1 MB\u001b[0m \u001b[31m36.3 MB/s\u001b[0m eta \u001b[36m0:00:01\u001b[0m\r\u001b[2K     \u001b[90m━━━━━━━━━━━━━━━━━━━━━━━━━━━━━━━━━━━━━━━━\u001b[0m \u001b[32m1.1/1.1 MB\u001b[0m \u001b[31m22.6 MB/s\u001b[0m eta \u001b[36m0:00:00\u001b[0m\n",
            "\u001b[2K     \u001b[90m━━━━━━━━━━━━━━━━━━━━━━━━━━━━━━━━━━━━━━━━\u001b[0m \u001b[32m73.6/73.6 kB\u001b[0m \u001b[31m7.3 MB/s\u001b[0m eta \u001b[36m0:00:00\u001b[0m\n",
            "\u001b[2K     \u001b[90m━━━━━━━━━━━━━━━━━━━━━━━━━━━━━━━━━━━━━━━━\u001b[0m \u001b[32m1.7/1.7 MB\u001b[0m \u001b[31m64.5 MB/s\u001b[0m eta \u001b[36m0:00:00\u001b[0m\n",
            "\u001b[2K     \u001b[90m━━━━━━━━━━━━━━━━━━━━━━━━━━━━━━━━━━━━━━━━\u001b[0m \u001b[32m1.0/1.0 MB\u001b[0m \u001b[31m55.3 MB/s\u001b[0m eta \u001b[36m0:00:00\u001b[0m\n",
            "\u001b[2K     \u001b[90m━━━━━━━━━━━━━━━━━━━━━━━━━━━━━━━━━━━━━━━━\u001b[0m \u001b[32m90.0/90.0 kB\u001b[0m \u001b[31m8.5 MB/s\u001b[0m eta \u001b[36m0:00:00\u001b[0m\n",
            "\u001b[2K     \u001b[90m━━━━━━━━━━━━━━━━━━━━━━━━━━━━━━━━━━━━━━\u001b[0m \u001b[32m114.5/114.5 kB\u001b[0m \u001b[31m12.2 MB/s\u001b[0m eta \u001b[36m0:00:00\u001b[0m\n",
            "\u001b[2K     \u001b[90m━━━━━━━━━━━━━━━━━━━━━━━━━━━━━━━━━━━━━━\u001b[0m \u001b[32m268.8/268.8 kB\u001b[0m \u001b[31m25.6 MB/s\u001b[0m eta \u001b[36m0:00:00\u001b[0m\n",
            "\u001b[2K     \u001b[90m━━━━━━━━━━━━━━━━━━━━━━━━━━━━━━━━━━━━━━\u001b[0m \u001b[32m149.6/149.6 kB\u001b[0m \u001b[31m14.3 MB/s\u001b[0m eta \u001b[36m0:00:00\u001b[0m\n",
            "\u001b[2K     \u001b[90m━━━━━━━━━━━━━━━━━━━━━━━━━━━━━━━━━━━━━━━━\u001b[0m \u001b[32m49.1/49.1 kB\u001b[0m \u001b[31m4.4 MB/s\u001b[0m eta \u001b[36m0:00:00\u001b[0m\n",
            "\u001b[?25h"
          ]
        }
      ],
      "source": [
        "!pip install -qU langchain openai tiktoken"
      ]
    },
    {
      "cell_type": "code",
      "source": [
        "!pip list"
      ],
      "metadata": {
        "colab": {
          "base_uri": "https://localhost:8080/"
        },
        "id": "8B2ZFrGjwsTN",
        "outputId": "2e03d237-6584-442b-a35a-2deb384ada16"
      },
      "execution_count": 57,
      "outputs": [
        {
          "output_type": "stream",
          "name": "stdout",
          "text": [
            "Package                       Version\n",
            "----------------------------- ---------------------\n",
            "absl-py                       1.4.0\n",
            "aiohttp                       3.8.4\n",
            "aiosignal                     1.3.1\n",
            "alabaster                     0.7.13\n",
            "albumentations                1.2.1\n",
            "altair                        4.2.2\n",
            "anyio                         3.7.0\n",
            "appdirs                       1.4.4\n",
            "argon2-cffi                   21.3.0\n",
            "argon2-cffi-bindings          21.2.0\n",
            "array-record                  0.3.0\n",
            "arviz                         0.15.1\n",
            "astropy                       5.2.2\n",
            "astunparse                    1.6.3\n",
            "async-timeout                 4.0.2\n",
            "attrs                         23.1.0\n",
            "audioread                     3.0.0\n",
            "autograd                      1.5\n",
            "Babel                         2.12.1\n",
            "backcall                      0.2.0\n",
            "beautifulsoup4                4.11.2\n",
            "bleach                        6.0.0\n",
            "blis                          0.7.9\n",
            "blosc2                        2.0.0\n",
            "bokeh                         2.4.3\n",
            "branca                        0.6.0\n",
            "build                         0.10.0\n",
            "CacheControl                  0.13.1\n",
            "cached-property               1.5.2\n",
            "cachetools                    5.3.1\n",
            "catalogue                     2.0.8\n",
            "certifi                       2023.5.7\n",
            "cffi                          1.15.1\n",
            "chardet                       4.0.0\n",
            "charset-normalizer            2.0.12\n",
            "chex                          0.1.7\n",
            "click                         8.1.3\n",
            "cloudpickle                   2.2.1\n",
            "cmake                         3.25.2\n",
            "cmdstanpy                     1.1.0\n",
            "colorcet                      3.0.1\n",
            "colorlover                    0.3.0\n",
            "community                     1.0.0b1\n",
            "confection                    0.0.4\n",
            "cons                          0.4.5\n",
            "contextlib2                   0.6.0.post1\n",
            "contourpy                     1.1.0\n",
            "convertdate                   2.4.0\n",
            "cryptography                  41.0.1\n",
            "cufflinks                     0.17.3\n",
            "cvxopt                        1.3.1\n",
            "cvxpy                         1.3.1\n",
            "cycler                        0.11.0\n",
            "cymem                         2.0.7\n",
            "Cython                        0.29.35\n",
            "dask                          2022.12.1\n",
            "dataclasses-json              0.5.8\n",
            "datascience                   0.17.6\n",
            "db-dtypes                     1.1.1\n",
            "dbus-python                   1.2.16\n",
            "debugpy                       1.6.6\n",
            "decorator                     4.4.2\n",
            "defusedxml                    0.7.1\n",
            "distributed                   2022.12.1\n",
            "dlib                          19.24.2\n",
            "dm-tree                       0.1.8\n",
            "docutils                      0.16\n",
            "dopamine-rl                   4.0.6\n",
            "duckdb                        0.8.1\n",
            "earthengine-api               0.1.357\n",
            "easydict                      1.10\n",
            "ecos                          2.0.12\n",
            "editdistance                  0.6.2\n",
            "en-core-web-sm                3.5.0\n",
            "entrypoints                   0.4\n",
            "ephem                         4.1.4\n",
            "et-xmlfile                    1.1.0\n",
            "etils                         1.3.0\n",
            "etuples                       0.3.9\n",
            "exceptiongroup                1.1.1\n",
            "fastai                        2.7.12\n",
            "fastcore                      1.5.29\n",
            "fastdownload                  0.0.7\n",
            "fastjsonschema                2.17.1\n",
            "fastprogress                  1.0.3\n",
            "fastrlock                     0.8.1\n",
            "filelock                      3.12.2\n",
            "firebase-admin                5.3.0\n",
            "Flask                         2.2.5\n",
            "flatbuffers                   23.5.26\n",
            "flax                          0.6.10\n",
            "folium                        0.14.0\n",
            "fonttools                     4.40.0\n",
            "frozendict                    2.3.8\n",
            "frozenlist                    1.3.3\n",
            "fsspec                        2023.6.0\n",
            "future                        0.18.3\n",
            "gast                          0.4.0\n",
            "GDAL                          3.3.2\n",
            "gdown                         4.6.6\n",
            "gensim                        4.3.1\n",
            "geographiclib                 2.0\n",
            "geopy                         2.3.0\n",
            "gin-config                    0.5.0\n",
            "glob2                         0.7\n",
            "google                        2.0.3\n",
            "google-api-core               2.11.1\n",
            "google-api-python-client      2.84.0\n",
            "google-auth                   2.17.3\n",
            "google-auth-httplib2          0.1.0\n",
            "google-auth-oauthlib          1.0.0\n",
            "google-cloud-bigquery         3.9.0\n",
            "google-cloud-bigquery-storage 2.20.0\n",
            "google-cloud-core             2.3.2\n",
            "google-cloud-datastore        2.15.2\n",
            "google-cloud-firestore        2.11.1\n",
            "google-cloud-language         2.9.1\n",
            "google-cloud-storage          2.8.0\n",
            "google-cloud-translate        3.11.1\n",
            "google-colab                  1.0.0\n",
            "google-crc32c                 1.5.0\n",
            "google-pasta                  0.2.0\n",
            "google-resumable-media        2.5.0\n",
            "googleapis-common-protos      1.59.1\n",
            "googledrivedownloader         0.4\n",
            "graphviz                      0.20.1\n",
            "greenlet                      2.0.2\n",
            "grpcio                        1.54.2\n",
            "grpcio-status                 1.48.2\n",
            "gspread                       3.4.2\n",
            "gspread-dataframe             3.0.8\n",
            "gym                           0.25.2\n",
            "gym-notices                   0.0.8\n",
            "h5netcdf                      1.2.0\n",
            "h5py                          3.8.0\n",
            "holidays                      0.27\n",
            "holoviews                     1.15.4\n",
            "html5lib                      1.1\n",
            "httpimport                    1.3.0\n",
            "httplib2                      0.21.0\n",
            "humanize                      4.6.0\n",
            "hyperopt                      0.2.7\n",
            "idna                          3.4\n",
            "imageio                       2.25.1\n",
            "imageio-ffmpeg                0.4.8\n",
            "imagesize                     1.4.1\n",
            "imbalanced-learn              0.10.1\n",
            "imgaug                        0.4.0\n",
            "importlib-resources           5.12.0\n",
            "imutils                       0.5.4\n",
            "inflect                       6.0.4\n",
            "iniconfig                     2.0.0\n",
            "intel-openmp                  2023.1.0\n",
            "ipykernel                     5.5.6\n",
            "ipython                       7.34.0\n",
            "ipython-genutils              0.2.0\n",
            "ipython-sql                   0.4.1\n",
            "ipywidgets                    7.7.1\n",
            "itsdangerous                  2.1.2\n",
            "jax                           0.4.10\n",
            "jaxlib                        0.4.10+cuda11.cudnn86\n",
            "jieba                         0.42.1\n",
            "Jinja2                        3.1.2\n",
            "joblib                        1.2.0\n",
            "jsonpickle                    3.0.1\n",
            "jsonschema                    4.3.3\n",
            "jupyter-client                6.1.12\n",
            "jupyter-console               6.1.0\n",
            "jupyter_core                  5.3.1\n",
            "jupyter-server                1.24.0\n",
            "jupyterlab-pygments           0.2.2\n",
            "jupyterlab-widgets            3.0.7\n",
            "kaggle                        1.5.13\n",
            "keras                         2.12.0\n",
            "kiwisolver                    1.4.4\n",
            "langchain                     0.0.215\n",
            "langchainplus-sdk             0.0.17\n",
            "langcodes                     3.3.0\n",
            "lazy_loader                   0.2\n",
            "libclang                      16.0.0\n",
            "librosa                       0.10.0.post2\n",
            "lightgbm                      3.3.5\n",
            "lit                           16.0.6\n",
            "llvmlite                      0.39.1\n",
            "locket                        1.0.0\n",
            "logical-unification           0.4.6\n",
            "LunarCalendar                 0.0.9\n",
            "lxml                          4.9.2\n",
            "Markdown                      3.4.3\n",
            "markdown-it-py                3.0.0\n",
            "MarkupSafe                    2.1.3\n",
            "marshmallow                   3.19.0\n",
            "marshmallow-enum              1.5.1\n",
            "matplotlib                    3.7.1\n",
            "matplotlib-inline             0.1.6\n",
            "matplotlib-venn               0.11.9\n",
            "mdurl                         0.1.2\n",
            "miniKanren                    1.0.3\n",
            "missingno                     0.5.2\n",
            "mistune                       0.8.4\n",
            "mizani                        0.8.1\n",
            "mkl                           2019.0\n",
            "ml-dtypes                     0.2.0\n",
            "mlxtend                       0.14.0\n",
            "more-itertools                9.1.0\n",
            "moviepy                       1.0.3\n",
            "mpmath                        1.3.0\n",
            "msgpack                       1.0.5\n",
            "multidict                     6.0.4\n",
            "multipledispatch              0.6.0\n",
            "multitasking                  0.0.11\n",
            "murmurhash                    1.0.9\n",
            "music21                       8.1.0\n",
            "mypy-extensions               1.0.0\n",
            "natsort                       8.3.1\n",
            "nbclient                      0.8.0\n",
            "nbconvert                     6.5.4\n",
            "nbformat                      5.9.0\n",
            "nest-asyncio                  1.5.6\n",
            "networkx                      3.1\n",
            "nibabel                       3.0.2\n",
            "nltk                          3.8.1\n",
            "notebook                      6.4.8\n",
            "numba                         0.56.4\n",
            "numexpr                       2.8.4\n",
            "numpy                         1.22.4\n",
            "oauth2client                  4.1.3\n",
            "oauthlib                      3.2.2\n",
            "openai                        0.27.8\n",
            "openapi-schema-pydantic       1.2.4\n",
            "opencv-contrib-python         4.7.0.72\n",
            "opencv-python                 4.7.0.72\n",
            "opencv-python-headless        4.7.0.72\n",
            "openpyxl                      3.0.10\n",
            "opt-einsum                    3.3.0\n",
            "optax                         0.1.5\n",
            "orbax-checkpoint              0.2.6\n",
            "osqp                          0.6.2.post8\n",
            "packaging                     23.1\n",
            "palettable                    3.3.3\n",
            "pandas                        1.5.3\n",
            "pandas-datareader             0.10.0\n",
            "pandas-gbq                    0.17.9\n",
            "pandocfilters                 1.5.0\n",
            "panel                         0.14.4\n",
            "param                         1.13.0\n",
            "parso                         0.8.3\n",
            "partd                         1.4.0\n",
            "pathlib                       1.0.1\n",
            "pathy                         0.10.2\n",
            "patsy                         0.5.3\n",
            "pexpect                       4.8.0\n",
            "pickleshare                   0.7.5\n",
            "Pillow                        8.4.0\n",
            "pip                           23.1.2\n",
            "pip-tools                     6.13.0\n",
            "platformdirs                  3.7.0\n",
            "plotly                        5.13.1\n",
            "plotnine                      0.10.1\n",
            "pluggy                        1.2.0\n",
            "polars                        0.17.3\n",
            "pooch                         1.6.0\n",
            "portpicker                    1.3.9\n",
            "prefetch-generator            1.0.3\n",
            "preshed                       3.0.8\n",
            "prettytable                   0.7.2\n",
            "proglog                       0.1.10\n",
            "progressbar2                  4.2.0\n",
            "prometheus-client             0.17.0\n",
            "promise                       2.3\n",
            "prompt-toolkit                3.0.38\n",
            "prophet                       1.1.4\n",
            "proto-plus                    1.22.2\n",
            "protobuf                      3.20.3\n",
            "psutil                        5.9.5\n",
            "psycopg2                      2.9.6\n",
            "ptyprocess                    0.7.0\n",
            "py-cpuinfo                    9.0.0\n",
            "py4j                          0.10.9.7\n",
            "pyarrow                       9.0.0\n",
            "pyasn1                        0.5.0\n",
            "pyasn1-modules                0.3.0\n",
            "pycocotools                   2.0.6\n",
            "pycparser                     2.21\n",
            "pyct                          0.5.0\n",
            "pydantic                      1.10.9\n",
            "pydata-google-auth            1.8.0\n",
            "pydot                         1.4.2\n",
            "pydot-ng                      2.0.0\n",
            "pydotplus                     2.0.2\n",
            "PyDrive                       1.3.1\n",
            "pyerfa                        2.0.0.3\n",
            "pygame                        2.4.0\n",
            "Pygments                      2.14.0\n",
            "PyGObject                     3.36.0\n",
            "pymc                          5.1.2\n",
            "PyMeeus                       0.5.12\n",
            "pymystem3                     0.2.0\n",
            "PyOpenGL                      3.1.7\n",
            "pyparsing                     3.1.0\n",
            "pyproject_hooks               1.0.0\n",
            "pyrsistent                    0.19.3\n",
            "PySocks                       1.7.1\n",
            "pytensor                      2.10.1\n",
            "pytest                        7.2.2\n",
            "python-apt                    0.0.0\n",
            "python-dateutil               2.8.2\n",
            "python-louvain                0.16\n",
            "python-slugify                8.0.1\n",
            "python-utils                  3.6.1\n",
            "pytz                          2022.7.1\n",
            "pyviz-comms                   2.3.2\n",
            "PyWavelets                    1.4.1\n",
            "PyYAML                        6.0\n",
            "pyzmq                         23.2.1\n",
            "qdldl                         0.1.7\n",
            "qudida                        0.0.4\n",
            "regex                         2022.10.31\n",
            "requests                      2.27.1\n",
            "requests-oauthlib             1.3.1\n",
            "requests-unixsocket           0.2.0\n",
            "requirements-parser           0.5.0\n",
            "rich                          13.4.2\n",
            "rpy2                          3.5.5\n",
            "rsa                           4.9\n",
            "scikit-image                  0.19.3\n",
            "scikit-learn                  1.2.2\n",
            "scipy                         1.10.1\n",
            "scs                           3.2.3\n",
            "seaborn                       0.12.2\n",
            "Send2Trash                    1.8.2\n",
            "setuptools                    67.7.2\n",
            "shapely                       2.0.1\n",
            "six                           1.16.0\n",
            "sklearn-pandas                2.2.0\n",
            "smart-open                    6.3.0\n",
            "sniffio                       1.3.0\n",
            "snowballstemmer               2.2.0\n",
            "sortedcontainers              2.4.0\n",
            "soundfile                     0.12.1\n",
            "soupsieve                     2.4.1\n",
            "soxr                          0.3.5\n",
            "spacy                         3.5.3\n",
            "spacy-legacy                  3.0.12\n",
            "spacy-loggers                 1.0.4\n",
            "Sphinx                        3.5.4\n",
            "sphinxcontrib-applehelp       1.0.4\n",
            "sphinxcontrib-devhelp         1.0.2\n",
            "sphinxcontrib-htmlhelp        2.0.1\n",
            "sphinxcontrib-jsmath          1.0.1\n",
            "sphinxcontrib-qthelp          1.0.3\n",
            "sphinxcontrib-serializinghtml 1.1.5\n",
            "SQLAlchemy                    2.0.16\n",
            "sqlparse                      0.4.4\n",
            "srsly                         2.4.6\n",
            "statsmodels                   0.13.5\n",
            "sympy                         1.11.1\n",
            "tables                        3.8.0\n",
            "tabulate                      0.8.10\n",
            "tblib                         1.7.0\n",
            "tenacity                      8.2.2\n",
            "tensorboard                   2.12.3\n",
            "tensorboard-data-server       0.7.1\n",
            "tensorflow                    2.12.0\n",
            "tensorflow-datasets           4.9.2\n",
            "tensorflow-estimator          2.12.0\n",
            "tensorflow-gcs-config         2.12.0\n",
            "tensorflow-hub                0.13.0\n",
            "tensorflow-io-gcs-filesystem  0.32.0\n",
            "tensorflow-metadata           1.13.1\n",
            "tensorflow-probability        0.20.1\n",
            "tensorstore                   0.1.38\n",
            "termcolor                     2.3.0\n",
            "terminado                     0.17.1\n",
            "text-unidecode                1.3\n",
            "textblob                      0.17.1\n",
            "tf-slim                       1.1.0\n",
            "thinc                         8.1.10\n",
            "threadpoolctl                 3.1.0\n",
            "tifffile                      2023.4.12\n",
            "tiktoken                      0.4.0\n",
            "tinycss2                      1.2.1\n",
            "toml                          0.10.2\n",
            "tomli                         2.0.1\n",
            "toolz                         0.12.0\n",
            "torch                         2.0.1+cu118\n",
            "torchaudio                    2.0.2+cu118\n",
            "torchdata                     0.6.1\n",
            "torchsummary                  1.5.1\n",
            "torchtext                     0.15.2\n",
            "torchvision                   0.15.2+cu118\n",
            "tornado                       6.3.1\n",
            "tqdm                          4.65.0\n",
            "traitlets                     5.7.1\n",
            "triton                        2.0.0\n",
            "tweepy                        4.13.0\n",
            "typer                         0.7.0\n",
            "types-setuptools              68.0.0.0\n",
            "typing_extensions             4.6.3\n",
            "typing-inspect                0.9.0\n",
            "tzlocal                       5.0.1\n",
            "uritemplate                   4.1.1\n",
            "urllib3                       1.26.16\n",
            "vega-datasets                 0.9.0\n",
            "wasabi                        1.1.2\n",
            "wcwidth                       0.2.6\n",
            "webcolors                     1.13\n",
            "webencodings                  0.5.1\n",
            "websocket-client              1.6.0\n",
            "Werkzeug                      2.3.6\n",
            "wheel                         0.40.0\n",
            "widgetsnbextension            3.6.4\n",
            "wordcloud                     1.8.2.2\n",
            "wrapt                         1.14.1\n",
            "xarray                        2022.12.0\n",
            "xarray-einstats               0.5.1\n",
            "xgboost                       1.7.6\n",
            "xlrd                          2.0.1\n",
            "yarl                          1.9.2\n",
            "yellowbrick                   1.5\n",
            "yfinance                      0.2.20\n",
            "zict                          3.0.0\n",
            "zipp                          3.15.0\n"
          ]
        }
      ]
    },
    {
      "cell_type": "code",
      "source": [
        "import langchain\n",
        "from langchain.prompts.base import StringPromptTemplate\n",
        "from langchain.prompts import PromptTemplate,StringPromptTemplate\n",
        "from langchain.agents import Tool, AgentExecutor, AgentOutputParser,LLMSingleActionAgent,initialize_agent\n",
        "from langchain import OpenAI,LLMChain\n",
        "from langchain.chat_models import ChatOpenAI\n",
        "from langchain.schema import AgentAction,AgentFinish\n",
        "import re\n",
        "from typing import List,Union\n",
        "import os\n",
        "from getpass import getpass\n",
        "#\n",
        "from langchain.output_parsers import ResponseSchema\n",
        "from langchain.output_parsers import StructuredOutputParser\n",
        "#\n",
        "from langchain.prompts import PromptTemplate, ChatPromptTemplate, HumanMessagePromptTemplate\n",
        "from langchain.chat_models import ChatOpenAI"
      ],
      "metadata": {
        "id": "c0kGbcdjNMcs"
      },
      "execution_count": 5,
      "outputs": []
    },
    {
      "cell_type": "code",
      "source": [
        "os.environ[\"OPENAI_API_KEY\"] = getpass()\n"
      ],
      "metadata": {
        "colab": {
          "base_uri": "https://localhost:8080/"
        },
        "id": "2OTIsVwaNSvq",
        "outputId": "670e5aab-bfb0-4a58-b80d-06f2dd9f2fbb"
      },
      "execution_count": 3,
      "outputs": [
        {
          "name": "stdout",
          "output_type": "stream",
          "text": [
            "··········\n"
          ]
        }
      ]
    },
    {
      "cell_type": "markdown",
      "source": [
        "1.Prescribed word count: round 300 words\n",
        "\n",
        "2.Student word count:  specify the number of words present in the essay content specified within 3 backticks\n",
        "\n",
        "3.Try to stay within +/- 10 words of the prescribed word limit : If the student word count is within a + or - 10 words then mention \"Well Done\" otherwise mention \"Word Limit not adhered\"\n",
        "\n",
        "4.Title: If tile is present then mention \" Title provided\" otherwise mention \"No Title provided\"\n",
        "\n",
        "5. Content and Structure: Provide points between -5 to 10 based on the GRADING CRITERIA for CONTENT\n",
        "\n",
        "6. Language: Provide the points based on the GRADING CRITERIA for LANGAUAGE AND GRAMMAR.Also provide spelling errors in RED and provide the correct answer next to the incorrect words in GREEN BOLD."
      ],
      "metadata": {
        "id": "1YUOK3_3ObuO"
      }
    },
    {
      "cell_type": "markdown",
      "source": [
        "## ESSAY GRADER"
      ],
      "metadata": {
        "id": "OYPNONZ9Yzgh"
      }
    },
    {
      "cell_type": "code",
      "source": [
        "p_word_count_schema = ResponseSchema(name=\"Prescribed Word Count\",\n",
        "                                description = \"This is Word count that has been prescribed as 300 Words \")\n",
        "#\n",
        "s_word_count_schema = ResponseSchema(name=\"Student Word Count\",\n",
        "                                  description = \"This is the word count thats specifies the number of words present in the essay content specified within 3 backticks\")\n",
        "#\n",
        "s_word_limit_schema = ResponseSchema(name=\"Try to stay within +/- 10 words of the prescribed word limit\",\n",
        "                                     description=\"This is the word limit that the student has adhered the word limit or exceeded the word limit\")\n",
        "#\n",
        "title_schema = ResponseSchema(name=\"Title\",\n",
        "                              description=\"Title of the Essay in case provided\")\n",
        "#\n",
        "content_schema = ResponseSchema(name=\"Content and Structure\",\n",
        "                                description=\"This provides points between -5 to 10 based on the GRADING CRITERIA for CONTENT\")\n",
        "#\n",
        "language_schema = ResponseSchema(name=\"Language\",\n",
        "                                 description=\"This provides the points based on the GRADING CRITERIA for LANGAUAGE AND GRAMMAR.Also provide spelling errors in RED and provide the correct answer next to the incorrect words in GREEN BOLD.\")\n",
        "\n",
        "response_schemas = [p_word_count_schema,\n",
        "                    s_word_count_schema,\n",
        "                    s_word_limit_schema,\n",
        "                    title_schema,\n",
        "                    content_schema,\n",
        "                    language_schema]"
      ],
      "metadata": {
        "id": "RKA9tKhrOiQr"
      },
      "execution_count": 7,
      "outputs": []
    },
    {
      "cell_type": "code",
      "source": [
        "output_parser = StructuredOutputParser.from_response_schemas(response_schemas)\n",
        "format_instructions = output_parser.get_format_instructions()"
      ],
      "metadata": {
        "id": "JjWdtCLWVvza"
      },
      "execution_count": 8,
      "outputs": []
    },
    {
      "cell_type": "code",
      "source": [
        "format_instructions"
      ],
      "metadata": {
        "colab": {
          "base_uri": "https://localhost:8080/",
          "height": 122
        },
        "id": "rrrYUU_vVxku",
        "outputId": "2fa1ca79-295c-4328-90bd-330061100067"
      },
      "execution_count": 9,
      "outputs": [
        {
          "output_type": "execute_result",
          "data": {
            "text/plain": [
              "'The output should be a markdown code snippet formatted in the following schema, including the leading and trailing \"```json\" and \"```\":\\n\\n```json\\n{\\n\\t\"Prescribed Word Count\": string  // This is Word count that has been prescribed as 300 Words \\n\\t\"Student Word Count\": string  // This is the word count thats specifies the number of words present in the essay content specified within 3 backticks\\n\\t\"Try to stay within +/- 10 words of the prescribed word limit\": string  // This is the word limit that the student has adhered the word limit or exceeded the word limit\\n\\t\"Title\": string  // Title of the Essay in case provided\\n\\t\"Content and Structure\": string  // This provides points between -5 to 10 based on the GRADING CRITERIA for CONTENT\\n\\t\"Language\": string  // This provides the points based on the GRADING CRITERIA for LANGAUAGE AND GRAMMAR.Also provide spelling errors in RED and provide the correct answer next to the incorrect words in GREEN BOLD.\\n}\\n```'"
            ],
            "application/vnd.google.colaboratory.intrinsic+json": {
              "type": "string"
            }
          },
          "metadata": {},
          "execution_count": 9
        }
      ]
    },
    {
      "cell_type": "code",
      "source": [
        "template =\"\"\"\n",
        "Evaluate the context of the essay specified in 3 bacticks on the following criteria:\n",
        "ESSAY CRITERIA:\n",
        "1. TITLE : The essay must have a title.\n",
        "2. WORD LIMIT: The word count in the essay must be between 290 to 310 words\n",
        "3. CONTENT : The content must have the matter as per the current developments. Government Schemes pertaining to a topic, allocation as per the budget, developments/achievements till now, way forward, etc\n",
        "4. LANGAUAGE AND GRAMMAR: Errors of subject verb agreement, preposition, Spellings, appropriate spacing, capitalization and punctuations must be checked.\n",
        "\n",
        "GRADING CRITERIA:\n",
        "Please grade the essay on the below parameters and provide a Overall Grades as A+ or A or B+ or B or C or D.\n",
        "1. LANGAUAGE AND GRAMMAR: Please check subject verb agreement errors.Also Spellings, appropriate spacing, capitalization and punctuations must be checked.\n",
        "2. WORD LIMIT: The total word count is 300 words. Please  deduct -0.5 marks each for every increase or decrease of 10 words.\n",
        "3.CONTENT : Please analyse the matter as per the current developments. Government Schemes pertaining to a topic, allocation as per the budget, developments/achievements till now, way forward, etc, whether they are mentioned or not.If the content lacks any of the points mentioned deduct -0.5 marks each.\n",
        "4. TITLE : Please deduct 3 marks if either title or serial number of the chosen essay topic is not  mentioned.\n",
        "\n",
        "\n",
        "ESSAY CONTENT:\n",
        "```\n",
        "{context}\n",
        "\n",
        "```\n",
        "\n",
        "Please provide the feedback in the format specified below :\n",
        "FEEDBACK:\n",
        "\n",
        "1.Prescribed word count: round 300 words\n",
        "\n",
        "2.Student word count:  specify the number of words present in the essay content specified within 3 backticks\n",
        "\n",
        "3.Try to stay within +/- 10 words of the prescribed word limit : If the student word count is within a + or - 10 words then mention \"Well Done\" otherwise mention \"Word Limit not adhered\"\n",
        "\n",
        "4.Title: If tile is present then mention \" Title provided\" otherwise mention \"No Title provided\"\n",
        "\n",
        "5. Content and Structure: Provide points between -5 to 10 based on the GRADING CRITERIA for CONTENT\n",
        "\n",
        "6. Language: Provide the points based on the GRADING CRITERIA for LANGAUAGE AND GRAMMAR.Also provide spelling errors in RED and provide the correct answer next to the incorrect words in GREEN BOLD.\n",
        "{format_instructions}\n",
        "\"\"\""
      ],
      "metadata": {
        "id": "ct2k9CIYNonp"
      },
      "execution_count": 10,
      "outputs": []
    },
    {
      "cell_type": "code",
      "source": [
        "llm = ChatOpenAI(temperature=0.0)\n",
        "\n",
        "prompt = ChatPromptTemplate(\n",
        "    messages=[\n",
        "        HumanMessagePromptTemplate.from_template(template)\n",
        "    ],\n",
        "    input_variables=[\"context\"],\n",
        "    partial_variables={\"format_instructions\": format_instructions},\n",
        "    output_parser=output_parser # here we add the output parser to the Prompt template\n",
        ")"
      ],
      "metadata": {
        "id": "HCSS-m81ON_V"
      },
      "execution_count": 11,
      "outputs": []
    },
    {
      "cell_type": "code",
      "source": [
        "context = \"\"\"(c) Financial Inclusion and development of the poor\n",
        "\n",
        " India is one of the countries with highly inequitable distribution of wealth.\n",
        " A report pointed out, that only 1% of the wealthy Indians hold\n",
        " 90% of the total income of our country. India, due to its population\n",
        " explosion has one of the lowest per capita income.\n",
        " The poor lacks even the basic services necessary for a healthy life.\n",
        " We ranked 132 in the HDI index, which signifies, that a lot of\n",
        " groundwork needs to be done to improve even the basic Human\n",
        " Development factors.\n",
        "\n",
        " Financial Inclusion refers to providing basic financial services such\n",
        " as banking, insurance, pension etc. to the poorest and the\n",
        " vulnerable strata of the society. Most of the rural poor lack the\n",
        " access to basic financial services. The Union Government came\n",
        " out with PM Jan Dhan Yojana in 2014 to provide banking services\n",
        " to the poor. It provided A basic savings bank deposit account with\n",
        " no minimum deposit requirements. It was the first step in bringing\n",
        " a host of financial services thereafter.\n",
        "\n",
        " In 2015, THE government came out with insurance sector schemes such as PM Suraksha Bima Yojana\n",
        " and PM Jeevan Jyoti Beema Yojana. The former was a Personal accident\n",
        " insurance having coverage upto Rs 2 lacs for death at a premium\n",
        " of Rs 20/-and the latter being a life insurance scheme at a premium\n",
        " of Rs 436/- for Sum Insured of Rs 2 lacs. This followed with BY schemes\n",
        " in the pension sector viz. Atal Pension Yojana, PM SVanidhi, PM Shram\n",
        " Yogi Maan dhan and recent amendments in NPS.\n",
        "\n",
        " All the above government initiatives point to the efforts made for\n",
        " the financial inclusion of the poor. These initiatives have not only helped\n",
        " poor gain access to basic financial services, but also for targeted\n",
        " delivery of DBT and subsidy services directly in the bank accounts\n",
        " of the beneficiaries\n",
        "\"\"\""
      ],
      "metadata": {
        "id": "QCBQq-YxWwzF"
      },
      "execution_count": 12,
      "outputs": []
    },
    {
      "cell_type": "code",
      "source": [
        "print(prompt.format(context=context ,\n",
        "                    history=None))"
      ],
      "metadata": {
        "colab": {
          "base_uri": "https://localhost:8080/"
        },
        "id": "7iaedeCaWu67",
        "outputId": "77a99982-d995-4730-9373-c3a10a123b20"
      },
      "execution_count": 16,
      "outputs": [
        {
          "output_type": "stream",
          "name": "stdout",
          "text": [
            "Human: \n",
            "Evaluate the context of the essay specified in 3 bacticks on the following criteria:\n",
            "ESSAY CRITERIA:\n",
            "1. TITLE : The essay must have a title.\n",
            "2. WORD LIMIT: The word count in the essay must be between 290 to 310 words\n",
            "3. CONTENT : The content must have the matter as per the current developments. Government Schemes pertaining to a topic, allocation as per the budget, developments/achievements till now, way forward, etc\n",
            "4. LANGAUAGE AND GRAMMAR: Errors of subject verb agreement, preposition, Spellings, appropriate spacing, capitalization and punctuations must be checked. \n",
            "\n",
            "GRADING CRITERIA:\n",
            "Please grade the essay on the below parameters and provide a Overall Grades as A+ or A or B+ or B or C or D.\n",
            "1. LANGAUAGE AND GRAMMAR: Please check subject verb agreement errors.Also Spellings, appropriate spacing, capitalization and punctuations must be checked.\n",
            "2. WORD LIMIT: The total word count is 300 words. Please  deduct -0.5 marks each for every increase or decrease of 10 words.\n",
            "3.CONTENT : Please analyse the matter as per the current developments. Government Schemes pertaining to a topic, allocation as per the budget, developments/achievements till now, way forward, etc, whether they are mentioned or not.If the content lacks any of the points mentioned deduct -0.5 marks each.\n",
            "4. TITLE : Please deduct 3 marks if either title or serial number of the chosen essay topic is not  mentioned.\n",
            "\n",
            "\n",
            "ESSAY CONTENT:\n",
            "```\n",
            "(c) Financial Inclusion and development of the poor\n",
            "\n",
            " India is one of the countries with highly inequitable distribution of wealth.\n",
            " A report pointed out, that only 1% of the wealthy Indians hold\n",
            " 90% of the total income of our country. India, due to its population\n",
            " explosion has one of the lowest per capita income.\n",
            " The poor lacks even the basic services necessary for a healthy life.\n",
            " We ranked 132 in the HDI index, which signifies, that a lot of\n",
            " groundwork needs to be done to improve even the basic Human\n",
            " Development factors.\n",
            "\n",
            " Financial Inclusion refers to providing basic financial services such\n",
            " as banking, insurance, pension etc. to the poorest and the\n",
            " vulnerable strata of the society. Most of the rural poor lack the\n",
            " access to basic financial services. The Union Government came\n",
            " out with PM Jan Dhan Yojana in 2014 to provide banking services\n",
            " to the poor. It provided A basic savings bank deposit account with\n",
            " no minimum deposit requirements. It was the first step in bringing\n",
            " a host of financial services thereafter.\n",
            "\n",
            " In 2015, THE government came out with insurance sector schemes such as PM Suraksha Bima Yojana\n",
            " and PM Jeevan Jyoti Beema Yojana. The former was a Personal accident\n",
            " insurance having coverage upto Rs 2 lacs for death at a premium\n",
            " of Rs 20/-and the latter being a life insurance scheme at a premium\n",
            " of Rs 436/- for Sum Insured of Rs 2 lacs. This followed with BY schemes\n",
            " in the pension sector viz. Atal Pension Yojana, PM SVanidhi, PM Shram\n",
            " Yogi Maan dhan and recent amendments in NPS.\n",
            "\n",
            " All the above government initiatives point to the efforts made for\n",
            " the financial inclusion of the poor. These initiatives have not only helped\n",
            " poor gain access to basic financial services, but also for targeted\n",
            " delivery of DBT and subsidy services directly in the bank accounts\n",
            " of the beneficiaries\n",
            "\n",
            "\n",
            "```\n",
            "\n",
            "Please provide the feedback in the format specified below :\n",
            "FEEDBACK:\n",
            "\n",
            "1.Prescribed word count: round 300 words\n",
            "\n",
            "2.Student word count:  specify the number of words present in the essay content specified within 3 backticks\n",
            "\n",
            "3.Try to stay within +/- 10 words of the prescribed word limit : If the student word count is within a + or - 10 words then mention \"Well Done\" otherwise mention \"Word Limit not adhered\"\n",
            "\n",
            "4.Title: If tile is present then mention \" Title provided\" otherwise mention \"No Title provided\"\n",
            "\n",
            "5. Content and Structure: Provide points between -5 to 10 based on the GRADING CRITERIA for CONTENT\n",
            "\n",
            "6. Language: Provide the points based on the GRADING CRITERIA for LANGAUAGE AND GRAMMAR.Also provide spelling errors in RED and provide the correct answer next to the incorrect words in GREEN BOLD.\n",
            "The output should be a markdown code snippet formatted in the following schema, including the leading and trailing \"```json\" and \"```\":\n",
            "\n",
            "```json\n",
            "{\n",
            "\t\"Prescribed Word Count\": string  // This is Word count that has been prescribed as 300 Words \n",
            "\t\"Student Word Count\": string  // This is the word count thats specifies the number of words present in the essay content specified within 3 backticks\n",
            "\t\"Try to stay within +/- 10 words of the prescribed word limit\": string  // This is the word limit that the student has adhered the word limit or exceeded the word limit\n",
            "\t\"Title\": string  // Title of the Essay in case provided\n",
            "\t\"Content and Structure\": string  // This provides points between -5 to 10 based on the GRADING CRITERIA for CONTENT\n",
            "\t\"Language\": string  // This provides the points based on the GRADING CRITERIA for LANGAUAGE AND GRAMMAR.Also provide spelling errors in RED and provide the correct answer next to the incorrect words in GREEN BOLD.\n",
            "}\n",
            "```\n",
            "\n"
          ]
        }
      ]
    },
    {
      "cell_type": "code",
      "source": [
        "from langchain.chains import LLMChain\n",
        "\n",
        "chain = LLMChain(llm=llm,\n",
        "                 prompt=prompt)"
      ],
      "metadata": {
        "id": "WVhparwCXvoV"
      },
      "execution_count": 17,
      "outputs": []
    },
    {
      "cell_type": "code",
      "source": [
        "response = chain.predict_and_parse(context=context,history=None)"
      ],
      "metadata": {
        "colab": {
          "base_uri": "https://localhost:8080/"
        },
        "id": "4JvB0PkvXz0w",
        "outputId": "3feb190f-dbe6-40ab-8d56-508aabf842b2"
      },
      "execution_count": 18,
      "outputs": [
        {
          "output_type": "stream",
          "name": "stderr",
          "text": [
            "/usr/local/lib/python3.10/dist-packages/langchain/chains/llm.py:275: UserWarning: The predict_and_parse method is deprecated, instead pass an output parser directly to LLMChain.\n",
            "  warnings.warn(\n"
          ]
        }
      ]
    },
    {
      "cell_type": "code",
      "source": [
        "print(response)"
      ],
      "metadata": {
        "colab": {
          "base_uri": "https://localhost:8080/"
        },
        "id": "v_-_TrnqX-e1",
        "outputId": "641fa6df-d0ad-4763-f8f2-633df825d2d7"
      },
      "execution_count": 19,
      "outputs": [
        {
          "output_type": "stream",
          "name": "stdout",
          "text": [
            "{'Prescribed Word Count': '300', 'Student Word Count': '298', 'Try to stay within +/- 10 words of the prescribed word limit': 'Well Done', 'Title': 'Title provided', 'Content and Structure': '8', 'Language': \"8 (Errors: 'THE' should be 'the', 'strata' should be 'stratum', 'viz.' should be 'viz', 'Maan dhan' should be 'Maandhan', 'DBT' should be 'Direct Benefit Transfer', 'beneficiaries' should be 'beneficiary's')\"}\n"
          ]
        }
      ]
    },
    {
      "cell_type": "code",
      "source": [
        "response"
      ],
      "metadata": {
        "colab": {
          "base_uri": "https://localhost:8080/"
        },
        "id": "x3W_ihkaYAP2",
        "outputId": "eef0aeeb-bd11-4792-e81d-46dab18bf17a"
      },
      "execution_count": 20,
      "outputs": [
        {
          "output_type": "execute_result",
          "data": {
            "text/plain": [
              "{'Prescribed Word Count': '300',\n",
              " 'Student Word Count': '298',\n",
              " 'Try to stay within +/- 10 words of the prescribed word limit': 'Well Done',\n",
              " 'Title': 'Title provided',\n",
              " 'Content and Structure': '8',\n",
              " 'Language': \"8 (Errors: 'THE' should be 'the', 'strata' should be 'stratum', 'viz.' should be 'viz', 'Maan dhan' should be 'Maandhan', 'DBT' should be 'Direct Benefit Transfer', 'beneficiaries' should be 'beneficiary's')\"}"
            ]
          },
          "metadata": {},
          "execution_count": 20
        }
      ]
    },
    {
      "cell_type": "code",
      "source": [
        "type(response)"
      ],
      "metadata": {
        "colab": {
          "base_uri": "https://localhost:8080/"
        },
        "id": "PB6gRXClYELl",
        "outputId": "e6270f94-4daa-436e-8ad1-63e2412b8a84"
      },
      "execution_count": 21,
      "outputs": [
        {
          "output_type": "execute_result",
          "data": {
            "text/plain": [
              "dict"
            ]
          },
          "metadata": {},
          "execution_count": 21
        }
      ]
    },
    {
      "cell_type": "markdown",
      "source": [
        "## PRECIS"
      ],
      "metadata": {
        "id": "Xy402OQeZdrg"
      }
    },
    {
      "cell_type": "code",
      "source": [
        "p_word_count_schema = ResponseSchema(name=\"Prescribed Word Count\",\n",
        "                                description = \"This is Word count that has been prescribed as 300 Words \")\n",
        "#\n",
        "s_word_count_schema = ResponseSchema(name=\"Student Word Count\",\n",
        "                                  description = \"This is the word count thats specifies the number of words present in the essay content specified within 3 backticks\")\n",
        "#\n",
        "s_word_limit_schema = ResponseSchema(name=\"Try to stay within +/- 10 words of the prescribed word limit\",\n",
        "                                     description=\"This is the word limit that the student has adhered the word limit or exceeded the word limit\")\n",
        "#\n",
        "title_schema = ResponseSchema(name=\"Title\",\n",
        "                              description=\"Title of the Essay in case provided\")\n",
        "#\n",
        "content_schema = ResponseSchema(name=\"Content and Structure\",\n",
        "                                description=\"This provides points between -5 to 10 based on the GRADING CRITERIA for CONTENT\")\n",
        "#\n",
        "language_schema = ResponseSchema(name=\"Language\",\n",
        "                                 description=\"This provides the points based on the GRADING CRITERIA for LANGAUAGE AND GRAMMAR.Also provide spelling errors in RED and provide the correct answer next to the incorrect words in GREEN BOLD.\")\n",
        "\n",
        "response_schemas = [p_word_count_schema,\n",
        "                    s_word_count_schema,\n",
        "                    s_word_limit_schema,\n",
        "                    title_schema,\n",
        "                    content_schema,\n",
        "                    language_schema]"
      ],
      "metadata": {
        "id": "WKBGAJHRab4u"
      },
      "execution_count": 81,
      "outputs": []
    },
    {
      "cell_type": "code",
      "source": [
        "template = \"\"\"Evaluate the content of the Precis provided below enclosed in 3 backticks.\n",
        "\n",
        "EVALUATION CRITERIA FOR WRITING PRECIS:\n",
        "\n",
        "1. TITLE : Title must be present. The title should be related to the main idea of the passage. If no title provided deduct 2 marks.\n",
        "2. LANGUAGE : The content must be in past tense reported speech.\n",
        "3. CONTENT : Data and numbers should not be copied but interpreted. For Example :90% of the population – Majority of the population,0.3% profits – Marginal profits\n",
        "4. The precis Must be written in 1 paragraph\n",
        "5. The precis content should follow the chronology of the passage\n",
        "6. The contentof the precis must be written in own words.\n",
        "7. The precis must be reduced to 1/3rd length of the original passage\n",
        "8. The precis must include all relevant information of the passage\n",
        "\n",
        "PASSAGE\n",
        "```\n",
        "{input}\n",
        "\n",
        "```\n",
        "Please provide the feedback in the format specified below :\n",
        "FEEDBACK:\n",
        "1.Prescribed word count: 173 words\n",
        "2.Student word count:  specify the number of words present in the PRECIS content specified within 3 backticks\n",
        "3 Try to stay within +/- 10 words of the prescribed word limit : If the student word count is within a + or - 10 words then mention \"Well Done\" otherwise mention \"Word Limit not adhered\".\n",
        "4.Title: If tile is present then mention \" Title provided\" otherwise mention \"No Title provided\".Deduct 2 marks(-2)\n",
        "5. LANGUAGE ERRORS: If the content of precis provided in 3 backticks is not specified in past tense reported speech provide feedback as \"Write in past tense reported speech, always.\" Deduct 5 marks (-5)\n",
        "6. CONTENT AND STRUCTURE: if the content of precis provided in 3 backticks does not follow the points 4,5,6,7,8 provided in the EVALUATION CRITERIA FOR WIRTING PRECIS then provide the feedback as \"Content ans Structure format is not adhered\".Al;so check if positive and negative sentiments have been mentioned. If not found then specify the sentiments which is missing and deduct 3 marks(-3)\n",
        "\n",
        "{format_instructions}\n",
        "\"\"\""
      ],
      "metadata": {
        "id": "ZLJki3E8ZY1c"
      },
      "execution_count": 82,
      "outputs": []
    },
    {
      "cell_type": "code",
      "source": [
        "output_parser = StructuredOutputParser.from_response_schemas(response_schemas)\n",
        "format_instructions = output_parser.get_format_instructions()"
      ],
      "metadata": {
        "id": "wcH7Dx0ecOWn"
      },
      "execution_count": 83,
      "outputs": []
    },
    {
      "cell_type": "code",
      "source": [
        "llm = ChatOpenAI(temperature=0.0)\n",
        "\n",
        "prompt = ChatPromptTemplate(\n",
        "    messages=[\n",
        "        HumanMessagePromptTemplate.from_template(template)\n",
        "    ],\n",
        "    input_variables=[\"input\"],\n",
        "    partial_variables={\"format_instructions\": format_instructions},\n",
        "    output_parser=output_parser # here we add the output parser to the Prompt template\n",
        ")"
      ],
      "metadata": {
        "id": "lL5r_yRLb_Oh"
      },
      "execution_count": 84,
      "outputs": []
    },
    {
      "cell_type": "code",
      "source": [
        "context =  \"\"\"(c)Social Media and the sense of false self:\n",
        "\n",
        " On Social Media (no capitalization) we always try to show ourselves a PROJECT ourselves as person of significance\n",
        " and permeance, always trying to beautify our bodies, try to amaze huge wealth\n",
        " in order to buy luxurious items and amenities. All of this we do to make ourselves\n",
        " special and MORE significant than others. But when we can not maintain the image we\n",
        " have created in front of others it leads to negative feelings for ourselves and\n",
        " can also break our self esteem to a larger extend. All this feelings to remain special\n",
        " comes from the belief that we are separate from others but it is not true\n",
        " as we don't matter in this big unfathomable universe (clumsy sentence, put full stop) the only solution to let\n",
        " go of our entitlement is to accept who we are and what we try to become\n",
        " and we should accept others also in the same manner. We should treat others\n",
        " with kindness and empathy and not try to make others miserable because of the  fake pompous self we have created for ourselves.\n",
        "\"\"\""
      ],
      "metadata": {
        "id": "w3hPcJ3ncGi3"
      },
      "execution_count": 45,
      "outputs": []
    },
    {
      "cell_type": "code",
      "source": [
        "print(prompt.format(input=context ,\n",
        "                    history=None))"
      ],
      "metadata": {
        "colab": {
          "base_uri": "https://localhost:8080/"
        },
        "id": "Z47c8ffYcVu-",
        "outputId": "88df2826-d43a-4926-fbb3-b8ed8f2e88c8"
      },
      "execution_count": 46,
      "outputs": [
        {
          "output_type": "stream",
          "name": "stdout",
          "text": [
            "Human: Evaluate the content of the Precis provided below enclosed in 3 backticks.\n",
            "\n",
            "EVALUATION CRITERIA FOR WRITING PRECIS:\n",
            "\n",
            "1. TITLE : Title must be present. The title should be related to the main idea of the passage. If no title provided deduct 2 marks.\n",
            "2. LANGUAGE : The content must be in past tense reported speech.\n",
            "3. CONTENT : Data and numbers should not be copied but interpreted. For Example :90% of the population – Majority of the population,0.3% profits – Marginal profits\n",
            "4. The precis Must be written in 1 paragraph\n",
            "5. The precis content should follow the chronology of the passage\n",
            "6. The contentof the precis must be written in own words.\n",
            "7. The precis must be reduced to 1/3rd length of the original passage\n",
            "8. The precis must include all relevant information of the passage\n",
            "\n",
            "PASSAGE\n",
            "```\n",
            "(c)Social Media and the sense of false self:\n",
            "\n",
            " On Social Media (no capitalization) we always try to show ourselves a PROJECT ourselves as person of significance\n",
            " and permeance, always trying to beautify our bodies, try to amaze huge wealth\n",
            " in order to buy luxurious items and amenities. All of this we do to make ourselves\n",
            " special and MORE significant than others. But when we can not maintain the image we\n",
            " have created in front of others it leads to negative feelings for ourselves and\n",
            " can also break our self esteem to a larger extend. All this feelings to remain special\n",
            " comes from the belief that we are separate from others but it is not true\n",
            " as we don't matter in this big unfathomable universe (clumsy sentence, put full stop) the only solution to let\n",
            " go of our entitlement is to accept who we are and what we try to become\n",
            " and we should accept others also in the same manner. We should treat others\n",
            " with kindness and empathy and not try to make others miserable because of the  fake pompous self we have created for ourselves.\n",
            "\n",
            "\n",
            "```\n",
            "Please provide the feedback in the format specified below :\n",
            "FEEDBACK:\n",
            "1.Prescribed word count: 173 words\n",
            "2.Student word count:  specify the number of words present in the PRECIS content specified within 3 backticks\n",
            "3 Try to stay within +/- 10 words of the prescribed word limit : If the student word count is within a + or - 10 words then mention \"Well Done\" otherwise mention \"Word Limit not adhered\".\n",
            "4.Title: If tile is present then mention \" Title provided\" otherwise mention \"No Title provided\".Deduct 2 marks(-2)\n",
            "5. LANGUAGE ERRORS: If the content of precis provided in 3 backticks is not specified in past tense reported speech provide feedback as \"Write in past tense reported speech, always.\" Deduct 5 marks (-5)\n",
            "6. CONTENT AND STRUCTURE: if the content of precis provided in 3 backticks does not follow the points 4,5,6,7,8 provided in the EVALUATION CRITERIA FOR WIRTING PRECIS then provide the feedback as \"Content ans Structure format is not adhered\".Al;so check if positive and negative sentiments have been mentioned. If not found then specify the sentiments which is missing and deduct 3 marks(-3)\n",
            "\n",
            "The output should be a markdown code snippet formatted in the following schema, including the leading and trailing \"```json\" and \"```\":\n",
            "\n",
            "```json\n",
            "{\n",
            "\t\"Prescribed Word Count\": string  // This is Word count that has been prescribed as 300 Words \n",
            "\t\"Student Word Count\": string  // This is the word count thats specifies the number of words present in the essay content specified within 3 backticks\n",
            "\t\"Try to stay within +/- 10 words of the prescribed word limit\": string  // This is the word limit that the student has adhered the word limit or exceeded the word limit\n",
            "\t\"Title\": string  // Title of the Essay in case provided\n",
            "\t\"Content and Structure\": string  // This provides points between -5 to 10 based on the GRADING CRITERIA for CONTENT\n",
            "\t\"Language\": string  // This provides the points based on the GRADING CRITERIA for LANGAUAGE AND GRAMMAR.Also provide spelling errors in RED and provide the correct answer next to the incorrect words in GREEN BOLD.\n",
            "}\n",
            "```\n",
            "\n"
          ]
        }
      ]
    },
    {
      "cell_type": "code",
      "source": [
        "from langchain.chains import LLMChain\n",
        "\n",
        "chain = LLMChain(llm=llm,prompt=prompt)\n",
        "#\n",
        "response = chain.predict_and_parse(input=context,history=None)\n",
        "response"
      ],
      "metadata": {
        "colab": {
          "base_uri": "https://localhost:8080/"
        },
        "id": "iLH-DHj6cdtv",
        "outputId": "4e7ce1d5-9b3a-454e-ee56-ad442b252d46"
      },
      "execution_count": 47,
      "outputs": [
        {
          "output_type": "execute_result",
          "data": {
            "text/plain": [
              "{'Prescribed Word Count': '173 words',\n",
              " 'Student Word Count': '87 words',\n",
              " 'Try to stay within +/- 10 words of the prescribed word limit': 'Well Done',\n",
              " 'Title': 'No Title provided (-2)',\n",
              " 'Content and Structure': 'Content and Structure format is not adhered. Positive and negative sentiments are missing (-3)',\n",
              " 'Language': 'Write in past tense reported speech, always (-5)'}"
            ]
          },
          "metadata": {},
          "execution_count": 47
        }
      ]
    },
    {
      "cell_type": "markdown",
      "source": [
        "## READING COMPREHENSION"
      ],
      "metadata": {
        "id": "9Rz8p2IYeSSS"
      }
    },
    {
      "cell_type": "code",
      "source": [
        "p_word_count_schema = ResponseSchema(name=\"Prescribed Word Count\",\n",
        "                                description = \"This is Word count that has been prescribed as 300 Words \")\n",
        "#\n",
        "s_word_count_schema = ResponseSchema(name=\"Student Word Count\",\n",
        "                                  description = \"This is the word count thats specifies the number of words present in the essay content specified within 3 backticks\")\n",
        "#\n",
        "answer_schema = ResponseSchema(name=\"Answer Format\",\n",
        "                                     description=\"This provides the answer provided by the student. Good format of answer should be, background of the situation/issue mentioned in the question to be given, followed by the required statistics or information specific to the question.\")\n",
        "\n",
        "response_schemas = [p_word_count_schema,\n",
        "                    s_word_count_schema,\n",
        "                    answer_schema]"
      ],
      "metadata": {
        "id": "5Hs1j6DDrTxT"
      },
      "execution_count": 74,
      "outputs": []
    },
    {
      "cell_type": "code",
      "source": [
        "template =\"\"\"Evaluate the comprehending as well as writing skills of the student based on the content enclosed in 3 backticks based on the passage provided enclosed within 3 single quotes '''\n",
        "\n",
        "EVALUATION CRITERIA :\n",
        "1. The content written should in your own words.\n",
        "2. Change language as much as possible\n",
        "3. DO NOT COPY PASTE from the passage.\n",
        "4. Please  Elaborate your underrstanding of the passage enclosed within 3 single quotes ''' . Word limit should be between  70-100 words.\n",
        "5. The word  limit should not exceed 100 words.\n",
        "6. The Answer provided by the student enclosed in 3 backticksshould have the background of the situation/issue mentioned in the question to be given, followed by the required statistics or information specific to the question.\n",
        "7. Please do not provide any other information from outside. The answer should have the contect strictly from the passage provided enclosed in 3 single quotes '''.\n",
        "8. Please specify the number of words present in the PRECIS content specified within 3 backticks ```\n",
        "\n",
        "PASSAGE:\n",
        "'''\n",
        "{input}\n",
        "'''\n",
        "ANSWER:\n",
        "```\n",
        "{answer}\n",
        "\n",
        "```\n",
        "Please provide the feedback in the following format:\n",
        "FEEDBACK:\n",
        "1. Prescribed word count: Between 70 -100 words\n",
        "2. Student word count:  specify the number of words present in the ANSWER content specified within 3 backticks\n",
        "3. Answer Format:  Good format of answer should be, background of the situation/issue mentioned in the question to be given, followed by the required statistics or information specific to the question.\n",
        "\n",
        "{format_instructions}\n",
        "\"\"\""
      ],
      "metadata": {
        "id": "AnjM89jGcliS"
      },
      "execution_count": 66,
      "outputs": []
    },
    {
      "cell_type": "code",
      "source": [
        "output_parser = StructuredOutputParser.from_response_schemas(response_schemas)\n",
        "format_instructions = output_parser.get_format_instructions()"
      ],
      "metadata": {
        "id": "pXnmBEClcYkz"
      },
      "execution_count": 75,
      "outputs": []
    },
    {
      "cell_type": "code",
      "source": [
        "llm = ChatOpenAI(temperature=0.0)\n",
        "\n",
        "prompt = ChatPromptTemplate(\n",
        "    messages=[\n",
        "        HumanMessagePromptTemplate.from_template(template)\n",
        "    ],\n",
        "    input_variables=[\"input\",\"answer\"],\n",
        "    partial_variables={\"format_instructions\": format_instructions},\n",
        "    output_parser=output_parser # here we add the output parser to the Prompt template\n",
        ")"
      ],
      "metadata": {
        "id": "J9KvUe9Xr2zl"
      },
      "execution_count": 76,
      "outputs": []
    },
    {
      "cell_type": "code",
      "source": [
        "input = \"\"\"The government and UN agencies, in order to tackle the increasing malnutrition, needs NEED to work on strengthen STRENGTHENING the nutritional safety nets of the poor. Government should increase the budgets for the ICDS and MDM schemes in accordance with the rise in inflation, and continue giving subsidised rations to THE poor under PMGKAY. The Finance Ministry and NITI Aayog need to work on arranging funds for the same. At the same time, the government needs to find ways to reduce wastage in food, make agriculture logistics more efficient and also try to reduce food prices by reducing the margins of the traders. The government should also work on subsidised distribution of essential micronutrients to the poor.\n",
        "\"\"\""
      ],
      "metadata": {
        "id": "vlBFP7T6tH4u"
      },
      "execution_count": 77,
      "outputs": []
    },
    {
      "cell_type": "code",
      "source": [
        "answer = \"\"\"Low income hence poor health of children, The governments and the UN agencies should help by increasing the budget of government (ICDS) and mid­day meal (MDM) schemes in congruence with price rise, budget and duration of PMGKAY.\"\"\""
      ],
      "metadata": {
        "id": "pdHUDsAvtbjt"
      },
      "execution_count": 78,
      "outputs": []
    },
    {
      "cell_type": "code",
      "source": [
        "print(prompt.format(input=input,answer=answer,\n",
        "                    history=None))"
      ],
      "metadata": {
        "colab": {
          "base_uri": "https://localhost:8080/"
        },
        "id": "eIeRgPUjtma9",
        "outputId": "5ed52061-520f-46e8-e4f9-3c80d913b94d"
      },
      "execution_count": 79,
      "outputs": [
        {
          "output_type": "stream",
          "name": "stdout",
          "text": [
            "Human: Evaluate the comprehending as well as writing skills of the student based on the content enclosed in 3 backticks based on the passage provided enclosed within 3 single quotes '''\n",
            "\n",
            "EVALUATION CRITERIA : \n",
            "1. The content written should in your own words. \n",
            "2. Change language as much as possible \n",
            "3. DO NOT COPY PASTE from the passage.\n",
            "4. Please  Elaborate your underrstanding of the passage enclosed within 3 single quotes ''' . Word limit should be between  70-100 words.\n",
            "5. The word  limit should not exceed 100 words.\n",
            "6. The Answer provided by the student enclosed in 3 backticksshould have the background of the situation/issue mentioned in the question to be given, followed by the required statistics or information specific to the question.\n",
            "7. Please do not provide any other information from outside. The answer should have the contect strictly from the passage provided enclosed in 3 single quotes '''.\n",
            "8. Please specify the number of words present in the PRECIS content specified within 3 backticks ``` \n",
            "\n",
            "PASSAGE:\n",
            "'''\n",
            "The government and UN agencies, in order to tackle the increasing malnutrition, needs NEED to work on strengthen STRENGTHENING the nutritional safety nets of the poor. Government should increase the budgets for the ICDS and MDM schemes in accordance with the rise in inflation, and continue giving subsidised rations to THE poor under PMGKAY. The Finance Ministry and NITI Aayog need to work on arranging funds for the same. At the same time, the government needs to find ways to reduce wastage in food, make agriculture logistics more efficient and also try to reduce food prices by reducing the margins of the traders. The government should also work on subsidised distribution of essential micronutrients to the poor.\n",
            "\n",
            "'''\n",
            "ANSWER:\n",
            "```\n",
            "Low income hence poor health of children, The governments and the UN agencies should help by increasing the budget of government (ICDS) and mid­day meal (MDM) schemes in congruence with price rise, budget and duration of PMGKAY.\n",
            "\n",
            "```\n",
            "Please provide the feedback in the following format:\n",
            "FEEDBACK:\n",
            "1. Prescribed word count: Between 70 -100 words\n",
            "2. Student word count:  specify the number of words present in the ANSWER content specified within 3 backticks\n",
            "3. Answer Format:  Good format of answer should be, background of the situation/issue mentioned in the question to be given, followed by the required statistics or information specific to the question.\n",
            "\n",
            "The output should be a markdown code snippet formatted in the following schema, including the leading and trailing \"```json\" and \"```\":\n",
            "\n",
            "```json\n",
            "{\n",
            "\t\"Prescribed Word Count\": string  // This is Word count that has been prescribed as 300 Words \n",
            "\t\"Student Word Count\": string  // This is the word count thats specifies the number of words present in the essay content specified within 3 backticks\n",
            "\t\"Answer Format\": string  // This provides the answer provided by the student. Good format of answer should be, background of the situation/issue mentioned in the question to be given, followed by the required statistics or information specific to the question.\n",
            "}\n",
            "```\n",
            "\n"
          ]
        }
      ]
    },
    {
      "cell_type": "code",
      "source": [
        "from langchain.chains import LLMChain\n",
        "\n",
        "chain = LLMChain(llm=llm,prompt=prompt)\n",
        "#\n",
        "response = chain.predict_and_parse(input=input,answer=answer,history=None)\n",
        "response"
      ],
      "metadata": {
        "colab": {
          "base_uri": "https://localhost:8080/"
        },
        "id": "ZrKlOSQztpxr",
        "outputId": "6d39a56a-cdda-463c-f88b-3f45928086fb"
      },
      "execution_count": 80,
      "outputs": [
        {
          "output_type": "execute_result",
          "data": {
            "text/plain": [
              "{'Prescribed Word Count': 'Between 70 -100 words',\n",
              " 'Student Word Count': '20',\n",
              " 'Answer Format': 'The answer provided by the student is too brief and lacks the required elaboration and explanation. It does not provide any statistics or information specific to the question. The student needs to work on improving their comprehension and writing skills.'}"
            ]
          },
          "metadata": {},
          "execution_count": 80
        }
      ]
    }
  ]
}