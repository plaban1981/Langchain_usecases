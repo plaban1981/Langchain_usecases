{
  "nbformat": 4,
  "nbformat_minor": 0,
  "metadata": {
    "colab": {
      "provenance": [],
      "machine_shape": "hm",
      "gpuType": "V100",
      "authorship_tag": "ABX9TyPZzP+NL4qh6DXIDzgE0J8k",
      "include_colab_link": true
    },
    "kernelspec": {
      "name": "python3",
      "display_name": "Python 3"
    },
    "language_info": {
      "name": "python"
    },
    "accelerator": "GPU",
    "widgets": {
      "application/vnd.jupyter.widget-state+json": {
        "a7097c8ff132479ba95369e771e2b510": {
          "model_module": "@jupyter-widgets/controls",
          "model_name": "HBoxModel",
          "model_module_version": "1.5.0",
          "state": {
            "_dom_classes": [],
            "_model_module": "@jupyter-widgets/controls",
            "_model_module_version": "1.5.0",
            "_model_name": "HBoxModel",
            "_view_count": null,
            "_view_module": "@jupyter-widgets/controls",
            "_view_module_version": "1.5.0",
            "_view_name": "HBoxView",
            "box_style": "",
            "children": [
              "IPY_MODEL_1bcaac45bdb544fdb37a91ab2a4812d6",
              "IPY_MODEL_db7d69ec969a4957a991976a8a085069",
              "IPY_MODEL_51d36ea1591244abab5d15e9a5c5612a"
            ],
            "layout": "IPY_MODEL_e18e0c710dde4075ac05ce717bfa9493"
          }
        },
        "1bcaac45bdb544fdb37a91ab2a4812d6": {
          "model_module": "@jupyter-widgets/controls",
          "model_name": "HTMLModel",
          "model_module_version": "1.5.0",
          "state": {
            "_dom_classes": [],
            "_model_module": "@jupyter-widgets/controls",
            "_model_module_version": "1.5.0",
            "_model_name": "HTMLModel",
            "_view_count": null,
            "_view_module": "@jupyter-widgets/controls",
            "_view_module_version": "1.5.0",
            "_view_name": "HTMLView",
            "description": "",
            "description_tooltip": null,
            "layout": "IPY_MODEL_701c4836a8cc4d148afdc962e3274d2d",
            "placeholder": "​",
            "style": "IPY_MODEL_81bce7912f5647a6a313939a92d20f5f",
            "value": "Fetching 1 files: 100%"
          }
        },
        "db7d69ec969a4957a991976a8a085069": {
          "model_module": "@jupyter-widgets/controls",
          "model_name": "FloatProgressModel",
          "model_module_version": "1.5.0",
          "state": {
            "_dom_classes": [],
            "_model_module": "@jupyter-widgets/controls",
            "_model_module_version": "1.5.0",
            "_model_name": "FloatProgressModel",
            "_view_count": null,
            "_view_module": "@jupyter-widgets/controls",
            "_view_module_version": "1.5.0",
            "_view_name": "ProgressView",
            "bar_style": "success",
            "description": "",
            "description_tooltip": null,
            "layout": "IPY_MODEL_5d1261f028a2405ca79088cbd3ffefa2",
            "max": 1,
            "min": 0,
            "orientation": "horizontal",
            "style": "IPY_MODEL_ff6b57d9a7f246d9840f69ad280310f3",
            "value": 1
          }
        },
        "51d36ea1591244abab5d15e9a5c5612a": {
          "model_module": "@jupyter-widgets/controls",
          "model_name": "HTMLModel",
          "model_module_version": "1.5.0",
          "state": {
            "_dom_classes": [],
            "_model_module": "@jupyter-widgets/controls",
            "_model_module_version": "1.5.0",
            "_model_name": "HTMLModel",
            "_view_count": null,
            "_view_module": "@jupyter-widgets/controls",
            "_view_module_version": "1.5.0",
            "_view_name": "HTMLView",
            "description": "",
            "description_tooltip": null,
            "layout": "IPY_MODEL_669b6d22a1c5497a9a4d60fe59f486ab",
            "placeholder": "​",
            "style": "IPY_MODEL_fdf1b57286d8475ab2651e1f8ddb7017",
            "value": " 1/1 [00:00&lt;00:00, 91.16it/s]"
          }
        },
        "e18e0c710dde4075ac05ce717bfa9493": {
          "model_module": "@jupyter-widgets/base",
          "model_name": "LayoutModel",
          "model_module_version": "1.2.0",
          "state": {
            "_model_module": "@jupyter-widgets/base",
            "_model_module_version": "1.2.0",
            "_model_name": "LayoutModel",
            "_view_count": null,
            "_view_module": "@jupyter-widgets/base",
            "_view_module_version": "1.2.0",
            "_view_name": "LayoutView",
            "align_content": null,
            "align_items": null,
            "align_self": null,
            "border": null,
            "bottom": null,
            "display": null,
            "flex": null,
            "flex_flow": null,
            "grid_area": null,
            "grid_auto_columns": null,
            "grid_auto_flow": null,
            "grid_auto_rows": null,
            "grid_column": null,
            "grid_gap": null,
            "grid_row": null,
            "grid_template_areas": null,
            "grid_template_columns": null,
            "grid_template_rows": null,
            "height": null,
            "justify_content": null,
            "justify_items": null,
            "left": null,
            "margin": null,
            "max_height": null,
            "max_width": null,
            "min_height": null,
            "min_width": null,
            "object_fit": null,
            "object_position": null,
            "order": null,
            "overflow": null,
            "overflow_x": null,
            "overflow_y": null,
            "padding": null,
            "right": null,
            "top": null,
            "visibility": null,
            "width": null
          }
        },
        "701c4836a8cc4d148afdc962e3274d2d": {
          "model_module": "@jupyter-widgets/base",
          "model_name": "LayoutModel",
          "model_module_version": "1.2.0",
          "state": {
            "_model_module": "@jupyter-widgets/base",
            "_model_module_version": "1.2.0",
            "_model_name": "LayoutModel",
            "_view_count": null,
            "_view_module": "@jupyter-widgets/base",
            "_view_module_version": "1.2.0",
            "_view_name": "LayoutView",
            "align_content": null,
            "align_items": null,
            "align_self": null,
            "border": null,
            "bottom": null,
            "display": null,
            "flex": null,
            "flex_flow": null,
            "grid_area": null,
            "grid_auto_columns": null,
            "grid_auto_flow": null,
            "grid_auto_rows": null,
            "grid_column": null,
            "grid_gap": null,
            "grid_row": null,
            "grid_template_areas": null,
            "grid_template_columns": null,
            "grid_template_rows": null,
            "height": null,
            "justify_content": null,
            "justify_items": null,
            "left": null,
            "margin": null,
            "max_height": null,
            "max_width": null,
            "min_height": null,
            "min_width": null,
            "object_fit": null,
            "object_position": null,
            "order": null,
            "overflow": null,
            "overflow_x": null,
            "overflow_y": null,
            "padding": null,
            "right": null,
            "top": null,
            "visibility": null,
            "width": null
          }
        },
        "81bce7912f5647a6a313939a92d20f5f": {
          "model_module": "@jupyter-widgets/controls",
          "model_name": "DescriptionStyleModel",
          "model_module_version": "1.5.0",
          "state": {
            "_model_module": "@jupyter-widgets/controls",
            "_model_module_version": "1.5.0",
            "_model_name": "DescriptionStyleModel",
            "_view_count": null,
            "_view_module": "@jupyter-widgets/base",
            "_view_module_version": "1.2.0",
            "_view_name": "StyleView",
            "description_width": ""
          }
        },
        "5d1261f028a2405ca79088cbd3ffefa2": {
          "model_module": "@jupyter-widgets/base",
          "model_name": "LayoutModel",
          "model_module_version": "1.2.0",
          "state": {
            "_model_module": "@jupyter-widgets/base",
            "_model_module_version": "1.2.0",
            "_model_name": "LayoutModel",
            "_view_count": null,
            "_view_module": "@jupyter-widgets/base",
            "_view_module_version": "1.2.0",
            "_view_name": "LayoutView",
            "align_content": null,
            "align_items": null,
            "align_self": null,
            "border": null,
            "bottom": null,
            "display": null,
            "flex": null,
            "flex_flow": null,
            "grid_area": null,
            "grid_auto_columns": null,
            "grid_auto_flow": null,
            "grid_auto_rows": null,
            "grid_column": null,
            "grid_gap": null,
            "grid_row": null,
            "grid_template_areas": null,
            "grid_template_columns": null,
            "grid_template_rows": null,
            "height": null,
            "justify_content": null,
            "justify_items": null,
            "left": null,
            "margin": null,
            "max_height": null,
            "max_width": null,
            "min_height": null,
            "min_width": null,
            "object_fit": null,
            "object_position": null,
            "order": null,
            "overflow": null,
            "overflow_x": null,
            "overflow_y": null,
            "padding": null,
            "right": null,
            "top": null,
            "visibility": null,
            "width": null
          }
        },
        "ff6b57d9a7f246d9840f69ad280310f3": {
          "model_module": "@jupyter-widgets/controls",
          "model_name": "ProgressStyleModel",
          "model_module_version": "1.5.0",
          "state": {
            "_model_module": "@jupyter-widgets/controls",
            "_model_module_version": "1.5.0",
            "_model_name": "ProgressStyleModel",
            "_view_count": null,
            "_view_module": "@jupyter-widgets/base",
            "_view_module_version": "1.2.0",
            "_view_name": "StyleView",
            "bar_color": null,
            "description_width": ""
          }
        },
        "669b6d22a1c5497a9a4d60fe59f486ab": {
          "model_module": "@jupyter-widgets/base",
          "model_name": "LayoutModel",
          "model_module_version": "1.2.0",
          "state": {
            "_model_module": "@jupyter-widgets/base",
            "_model_module_version": "1.2.0",
            "_model_name": "LayoutModel",
            "_view_count": null,
            "_view_module": "@jupyter-widgets/base",
            "_view_module_version": "1.2.0",
            "_view_name": "LayoutView",
            "align_content": null,
            "align_items": null,
            "align_self": null,
            "border": null,
            "bottom": null,
            "display": null,
            "flex": null,
            "flex_flow": null,
            "grid_area": null,
            "grid_auto_columns": null,
            "grid_auto_flow": null,
            "grid_auto_rows": null,
            "grid_column": null,
            "grid_gap": null,
            "grid_row": null,
            "grid_template_areas": null,
            "grid_template_columns": null,
            "grid_template_rows": null,
            "height": null,
            "justify_content": null,
            "justify_items": null,
            "left": null,
            "margin": null,
            "max_height": null,
            "max_width": null,
            "min_height": null,
            "min_width": null,
            "object_fit": null,
            "object_position": null,
            "order": null,
            "overflow": null,
            "overflow_x": null,
            "overflow_y": null,
            "padding": null,
            "right": null,
            "top": null,
            "visibility": null,
            "width": null
          }
        },
        "fdf1b57286d8475ab2651e1f8ddb7017": {
          "model_module": "@jupyter-widgets/controls",
          "model_name": "DescriptionStyleModel",
          "model_module_version": "1.5.0",
          "state": {
            "_model_module": "@jupyter-widgets/controls",
            "_model_module_version": "1.5.0",
            "_model_name": "DescriptionStyleModel",
            "_view_count": null,
            "_view_module": "@jupyter-widgets/base",
            "_view_module_version": "1.2.0",
            "_view_name": "StyleView",
            "description_width": ""
          }
        },
        "41ebfd6ca3014307ac9dcd11a17fecf3": {
          "model_module": "@jupyter-widgets/controls",
          "model_name": "HBoxModel",
          "model_module_version": "1.5.0",
          "state": {
            "_dom_classes": [],
            "_model_module": "@jupyter-widgets/controls",
            "_model_module_version": "1.5.0",
            "_model_name": "HBoxModel",
            "_view_count": null,
            "_view_module": "@jupyter-widgets/controls",
            "_view_module_version": "1.5.0",
            "_view_name": "HBoxView",
            "box_style": "",
            "children": [
              "IPY_MODEL_e13af3ca1c5b448190eea5a10871f2a7",
              "IPY_MODEL_44ed791eee8d4f3a9072eaa824091e44",
              "IPY_MODEL_73d87d7a31cc44cc8ce5c9777158cdf3"
            ],
            "layout": "IPY_MODEL_682a327cceab4f17be1ce08c4d1856be"
          }
        },
        "e13af3ca1c5b448190eea5a10871f2a7": {
          "model_module": "@jupyter-widgets/controls",
          "model_name": "HTMLModel",
          "model_module_version": "1.5.0",
          "state": {
            "_dom_classes": [],
            "_model_module": "@jupyter-widgets/controls",
            "_model_module_version": "1.5.0",
            "_model_name": "HTMLModel",
            "_view_count": null,
            "_view_module": "@jupyter-widgets/controls",
            "_view_module_version": "1.5.0",
            "_view_name": "HTMLView",
            "description": "",
            "description_tooltip": null,
            "layout": "IPY_MODEL_3d8851a4b8bc4865a29fbc102866dac8",
            "placeholder": "​",
            "style": "IPY_MODEL_cc2c9da705b248cb81459ea379a9aac5",
            "value": "Fetching 1 files: 100%"
          }
        },
        "44ed791eee8d4f3a9072eaa824091e44": {
          "model_module": "@jupyter-widgets/controls",
          "model_name": "FloatProgressModel",
          "model_module_version": "1.5.0",
          "state": {
            "_dom_classes": [],
            "_model_module": "@jupyter-widgets/controls",
            "_model_module_version": "1.5.0",
            "_model_name": "FloatProgressModel",
            "_view_count": null,
            "_view_module": "@jupyter-widgets/controls",
            "_view_module_version": "1.5.0",
            "_view_name": "ProgressView",
            "bar_style": "success",
            "description": "",
            "description_tooltip": null,
            "layout": "IPY_MODEL_4cf30a0d362345d198ae52a70d425be0",
            "max": 1,
            "min": 0,
            "orientation": "horizontal",
            "style": "IPY_MODEL_4682868814de4087bdb0e4240325179e",
            "value": 1
          }
        },
        "73d87d7a31cc44cc8ce5c9777158cdf3": {
          "model_module": "@jupyter-widgets/controls",
          "model_name": "HTMLModel",
          "model_module_version": "1.5.0",
          "state": {
            "_dom_classes": [],
            "_model_module": "@jupyter-widgets/controls",
            "_model_module_version": "1.5.0",
            "_model_name": "HTMLModel",
            "_view_count": null,
            "_view_module": "@jupyter-widgets/controls",
            "_view_module_version": "1.5.0",
            "_view_name": "HTMLView",
            "description": "",
            "description_tooltip": null,
            "layout": "IPY_MODEL_ea27d1bbf5b54e84857b00717d7e4b79",
            "placeholder": "​",
            "style": "IPY_MODEL_2a05a43e4cf54498b3dc0c797810d176",
            "value": " 1/1 [00:00&lt;00:00, 82.08it/s]"
          }
        },
        "682a327cceab4f17be1ce08c4d1856be": {
          "model_module": "@jupyter-widgets/base",
          "model_name": "LayoutModel",
          "model_module_version": "1.2.0",
          "state": {
            "_model_module": "@jupyter-widgets/base",
            "_model_module_version": "1.2.0",
            "_model_name": "LayoutModel",
            "_view_count": null,
            "_view_module": "@jupyter-widgets/base",
            "_view_module_version": "1.2.0",
            "_view_name": "LayoutView",
            "align_content": null,
            "align_items": null,
            "align_self": null,
            "border": null,
            "bottom": null,
            "display": null,
            "flex": null,
            "flex_flow": null,
            "grid_area": null,
            "grid_auto_columns": null,
            "grid_auto_flow": null,
            "grid_auto_rows": null,
            "grid_column": null,
            "grid_gap": null,
            "grid_row": null,
            "grid_template_areas": null,
            "grid_template_columns": null,
            "grid_template_rows": null,
            "height": null,
            "justify_content": null,
            "justify_items": null,
            "left": null,
            "margin": null,
            "max_height": null,
            "max_width": null,
            "min_height": null,
            "min_width": null,
            "object_fit": null,
            "object_position": null,
            "order": null,
            "overflow": null,
            "overflow_x": null,
            "overflow_y": null,
            "padding": null,
            "right": null,
            "top": null,
            "visibility": null,
            "width": null
          }
        },
        "3d8851a4b8bc4865a29fbc102866dac8": {
          "model_module": "@jupyter-widgets/base",
          "model_name": "LayoutModel",
          "model_module_version": "1.2.0",
          "state": {
            "_model_module": "@jupyter-widgets/base",
            "_model_module_version": "1.2.0",
            "_model_name": "LayoutModel",
            "_view_count": null,
            "_view_module": "@jupyter-widgets/base",
            "_view_module_version": "1.2.0",
            "_view_name": "LayoutView",
            "align_content": null,
            "align_items": null,
            "align_self": null,
            "border": null,
            "bottom": null,
            "display": null,
            "flex": null,
            "flex_flow": null,
            "grid_area": null,
            "grid_auto_columns": null,
            "grid_auto_flow": null,
            "grid_auto_rows": null,
            "grid_column": null,
            "grid_gap": null,
            "grid_row": null,
            "grid_template_areas": null,
            "grid_template_columns": null,
            "grid_template_rows": null,
            "height": null,
            "justify_content": null,
            "justify_items": null,
            "left": null,
            "margin": null,
            "max_height": null,
            "max_width": null,
            "min_height": null,
            "min_width": null,
            "object_fit": null,
            "object_position": null,
            "order": null,
            "overflow": null,
            "overflow_x": null,
            "overflow_y": null,
            "padding": null,
            "right": null,
            "top": null,
            "visibility": null,
            "width": null
          }
        },
        "cc2c9da705b248cb81459ea379a9aac5": {
          "model_module": "@jupyter-widgets/controls",
          "model_name": "DescriptionStyleModel",
          "model_module_version": "1.5.0",
          "state": {
            "_model_module": "@jupyter-widgets/controls",
            "_model_module_version": "1.5.0",
            "_model_name": "DescriptionStyleModel",
            "_view_count": null,
            "_view_module": "@jupyter-widgets/base",
            "_view_module_version": "1.2.0",
            "_view_name": "StyleView",
            "description_width": ""
          }
        },
        "4cf30a0d362345d198ae52a70d425be0": {
          "model_module": "@jupyter-widgets/base",
          "model_name": "LayoutModel",
          "model_module_version": "1.2.0",
          "state": {
            "_model_module": "@jupyter-widgets/base",
            "_model_module_version": "1.2.0",
            "_model_name": "LayoutModel",
            "_view_count": null,
            "_view_module": "@jupyter-widgets/base",
            "_view_module_version": "1.2.0",
            "_view_name": "LayoutView",
            "align_content": null,
            "align_items": null,
            "align_self": null,
            "border": null,
            "bottom": null,
            "display": null,
            "flex": null,
            "flex_flow": null,
            "grid_area": null,
            "grid_auto_columns": null,
            "grid_auto_flow": null,
            "grid_auto_rows": null,
            "grid_column": null,
            "grid_gap": null,
            "grid_row": null,
            "grid_template_areas": null,
            "grid_template_columns": null,
            "grid_template_rows": null,
            "height": null,
            "justify_content": null,
            "justify_items": null,
            "left": null,
            "margin": null,
            "max_height": null,
            "max_width": null,
            "min_height": null,
            "min_width": null,
            "object_fit": null,
            "object_position": null,
            "order": null,
            "overflow": null,
            "overflow_x": null,
            "overflow_y": null,
            "padding": null,
            "right": null,
            "top": null,
            "visibility": null,
            "width": null
          }
        },
        "4682868814de4087bdb0e4240325179e": {
          "model_module": "@jupyter-widgets/controls",
          "model_name": "ProgressStyleModel",
          "model_module_version": "1.5.0",
          "state": {
            "_model_module": "@jupyter-widgets/controls",
            "_model_module_version": "1.5.0",
            "_model_name": "ProgressStyleModel",
            "_view_count": null,
            "_view_module": "@jupyter-widgets/base",
            "_view_module_version": "1.2.0",
            "_view_name": "StyleView",
            "bar_color": null,
            "description_width": ""
          }
        },
        "ea27d1bbf5b54e84857b00717d7e4b79": {
          "model_module": "@jupyter-widgets/base",
          "model_name": "LayoutModel",
          "model_module_version": "1.2.0",
          "state": {
            "_model_module": "@jupyter-widgets/base",
            "_model_module_version": "1.2.0",
            "_model_name": "LayoutModel",
            "_view_count": null,
            "_view_module": "@jupyter-widgets/base",
            "_view_module_version": "1.2.0",
            "_view_name": "LayoutView",
            "align_content": null,
            "align_items": null,
            "align_self": null,
            "border": null,
            "bottom": null,
            "display": null,
            "flex": null,
            "flex_flow": null,
            "grid_area": null,
            "grid_auto_columns": null,
            "grid_auto_flow": null,
            "grid_auto_rows": null,
            "grid_column": null,
            "grid_gap": null,
            "grid_row": null,
            "grid_template_areas": null,
            "grid_template_columns": null,
            "grid_template_rows": null,
            "height": null,
            "justify_content": null,
            "justify_items": null,
            "left": null,
            "margin": null,
            "max_height": null,
            "max_width": null,
            "min_height": null,
            "min_width": null,
            "object_fit": null,
            "object_position": null,
            "order": null,
            "overflow": null,
            "overflow_x": null,
            "overflow_y": null,
            "padding": null,
            "right": null,
            "top": null,
            "visibility": null,
            "width": null
          }
        },
        "2a05a43e4cf54498b3dc0c797810d176": {
          "model_module": "@jupyter-widgets/controls",
          "model_name": "DescriptionStyleModel",
          "model_module_version": "1.5.0",
          "state": {
            "_model_module": "@jupyter-widgets/controls",
            "_model_module_version": "1.5.0",
            "_model_name": "DescriptionStyleModel",
            "_view_count": null,
            "_view_module": "@jupyter-widgets/base",
            "_view_module_version": "1.2.0",
            "_view_name": "StyleView",
            "description_width": ""
          }
        },
        "a8019b1d1e024628b5665f4a689ed062": {
          "model_module": "@jupyter-widgets/controls",
          "model_name": "HBoxModel",
          "model_module_version": "1.5.0",
          "state": {
            "_dom_classes": [],
            "_model_module": "@jupyter-widgets/controls",
            "_model_module_version": "1.5.0",
            "_model_name": "HBoxModel",
            "_view_count": null,
            "_view_module": "@jupyter-widgets/controls",
            "_view_module_version": "1.5.0",
            "_view_name": "HBoxView",
            "box_style": "",
            "children": [
              "IPY_MODEL_368e80bd587d44409495653f2fef1a6e",
              "IPY_MODEL_56157518517348f197baa5188e3f8a82",
              "IPY_MODEL_56798c884d0a4ff3aadea842e86cd2bf"
            ],
            "layout": "IPY_MODEL_412a1d8be991428d8eaa48d2ef5b286a"
          }
        },
        "368e80bd587d44409495653f2fef1a6e": {
          "model_module": "@jupyter-widgets/controls",
          "model_name": "HTMLModel",
          "model_module_version": "1.5.0",
          "state": {
            "_dom_classes": [],
            "_model_module": "@jupyter-widgets/controls",
            "_model_module_version": "1.5.0",
            "_model_name": "HTMLModel",
            "_view_count": null,
            "_view_module": "@jupyter-widgets/controls",
            "_view_module_version": "1.5.0",
            "_view_name": "HTMLView",
            "description": "",
            "description_tooltip": null,
            "layout": "IPY_MODEL_1ce9fbe0eefe49fcb4a38a858d8ba986",
            "placeholder": "​",
            "style": "IPY_MODEL_8e1f4a8bbda54819af26a25cf349914d",
            "value": "Fetching 1 files: 100%"
          }
        },
        "56157518517348f197baa5188e3f8a82": {
          "model_module": "@jupyter-widgets/controls",
          "model_name": "FloatProgressModel",
          "model_module_version": "1.5.0",
          "state": {
            "_dom_classes": [],
            "_model_module": "@jupyter-widgets/controls",
            "_model_module_version": "1.5.0",
            "_model_name": "FloatProgressModel",
            "_view_count": null,
            "_view_module": "@jupyter-widgets/controls",
            "_view_module_version": "1.5.0",
            "_view_name": "ProgressView",
            "bar_style": "success",
            "description": "",
            "description_tooltip": null,
            "layout": "IPY_MODEL_ef9c762f45d6450d96e188f82e98eeb1",
            "max": 1,
            "min": 0,
            "orientation": "horizontal",
            "style": "IPY_MODEL_46e11f18ea184300920c634799060a18",
            "value": 1
          }
        },
        "56798c884d0a4ff3aadea842e86cd2bf": {
          "model_module": "@jupyter-widgets/controls",
          "model_name": "HTMLModel",
          "model_module_version": "1.5.0",
          "state": {
            "_dom_classes": [],
            "_model_module": "@jupyter-widgets/controls",
            "_model_module_version": "1.5.0",
            "_model_name": "HTMLModel",
            "_view_count": null,
            "_view_module": "@jupyter-widgets/controls",
            "_view_module_version": "1.5.0",
            "_view_name": "HTMLView",
            "description": "",
            "description_tooltip": null,
            "layout": "IPY_MODEL_614e17c6c92549d180d79423dadd181f",
            "placeholder": "​",
            "style": "IPY_MODEL_7f1d51b28b114071bb29def0477d780d",
            "value": " 1/1 [00:00&lt;00:00, 78.46it/s]"
          }
        },
        "412a1d8be991428d8eaa48d2ef5b286a": {
          "model_module": "@jupyter-widgets/base",
          "model_name": "LayoutModel",
          "model_module_version": "1.2.0",
          "state": {
            "_model_module": "@jupyter-widgets/base",
            "_model_module_version": "1.2.0",
            "_model_name": "LayoutModel",
            "_view_count": null,
            "_view_module": "@jupyter-widgets/base",
            "_view_module_version": "1.2.0",
            "_view_name": "LayoutView",
            "align_content": null,
            "align_items": null,
            "align_self": null,
            "border": null,
            "bottom": null,
            "display": null,
            "flex": null,
            "flex_flow": null,
            "grid_area": null,
            "grid_auto_columns": null,
            "grid_auto_flow": null,
            "grid_auto_rows": null,
            "grid_column": null,
            "grid_gap": null,
            "grid_row": null,
            "grid_template_areas": null,
            "grid_template_columns": null,
            "grid_template_rows": null,
            "height": null,
            "justify_content": null,
            "justify_items": null,
            "left": null,
            "margin": null,
            "max_height": null,
            "max_width": null,
            "min_height": null,
            "min_width": null,
            "object_fit": null,
            "object_position": null,
            "order": null,
            "overflow": null,
            "overflow_x": null,
            "overflow_y": null,
            "padding": null,
            "right": null,
            "top": null,
            "visibility": null,
            "width": null
          }
        },
        "1ce9fbe0eefe49fcb4a38a858d8ba986": {
          "model_module": "@jupyter-widgets/base",
          "model_name": "LayoutModel",
          "model_module_version": "1.2.0",
          "state": {
            "_model_module": "@jupyter-widgets/base",
            "_model_module_version": "1.2.0",
            "_model_name": "LayoutModel",
            "_view_count": null,
            "_view_module": "@jupyter-widgets/base",
            "_view_module_version": "1.2.0",
            "_view_name": "LayoutView",
            "align_content": null,
            "align_items": null,
            "align_self": null,
            "border": null,
            "bottom": null,
            "display": null,
            "flex": null,
            "flex_flow": null,
            "grid_area": null,
            "grid_auto_columns": null,
            "grid_auto_flow": null,
            "grid_auto_rows": null,
            "grid_column": null,
            "grid_gap": null,
            "grid_row": null,
            "grid_template_areas": null,
            "grid_template_columns": null,
            "grid_template_rows": null,
            "height": null,
            "justify_content": null,
            "justify_items": null,
            "left": null,
            "margin": null,
            "max_height": null,
            "max_width": null,
            "min_height": null,
            "min_width": null,
            "object_fit": null,
            "object_position": null,
            "order": null,
            "overflow": null,
            "overflow_x": null,
            "overflow_y": null,
            "padding": null,
            "right": null,
            "top": null,
            "visibility": null,
            "width": null
          }
        },
        "8e1f4a8bbda54819af26a25cf349914d": {
          "model_module": "@jupyter-widgets/controls",
          "model_name": "DescriptionStyleModel",
          "model_module_version": "1.5.0",
          "state": {
            "_model_module": "@jupyter-widgets/controls",
            "_model_module_version": "1.5.0",
            "_model_name": "DescriptionStyleModel",
            "_view_count": null,
            "_view_module": "@jupyter-widgets/base",
            "_view_module_version": "1.2.0",
            "_view_name": "StyleView",
            "description_width": ""
          }
        },
        "ef9c762f45d6450d96e188f82e98eeb1": {
          "model_module": "@jupyter-widgets/base",
          "model_name": "LayoutModel",
          "model_module_version": "1.2.0",
          "state": {
            "_model_module": "@jupyter-widgets/base",
            "_model_module_version": "1.2.0",
            "_model_name": "LayoutModel",
            "_view_count": null,
            "_view_module": "@jupyter-widgets/base",
            "_view_module_version": "1.2.0",
            "_view_name": "LayoutView",
            "align_content": null,
            "align_items": null,
            "align_self": null,
            "border": null,
            "bottom": null,
            "display": null,
            "flex": null,
            "flex_flow": null,
            "grid_area": null,
            "grid_auto_columns": null,
            "grid_auto_flow": null,
            "grid_auto_rows": null,
            "grid_column": null,
            "grid_gap": null,
            "grid_row": null,
            "grid_template_areas": null,
            "grid_template_columns": null,
            "grid_template_rows": null,
            "height": null,
            "justify_content": null,
            "justify_items": null,
            "left": null,
            "margin": null,
            "max_height": null,
            "max_width": null,
            "min_height": null,
            "min_width": null,
            "object_fit": null,
            "object_position": null,
            "order": null,
            "overflow": null,
            "overflow_x": null,
            "overflow_y": null,
            "padding": null,
            "right": null,
            "top": null,
            "visibility": null,
            "width": null
          }
        },
        "46e11f18ea184300920c634799060a18": {
          "model_module": "@jupyter-widgets/controls",
          "model_name": "ProgressStyleModel",
          "model_module_version": "1.5.0",
          "state": {
            "_model_module": "@jupyter-widgets/controls",
            "_model_module_version": "1.5.0",
            "_model_name": "ProgressStyleModel",
            "_view_count": null,
            "_view_module": "@jupyter-widgets/base",
            "_view_module_version": "1.2.0",
            "_view_name": "StyleView",
            "bar_color": null,
            "description_width": ""
          }
        },
        "614e17c6c92549d180d79423dadd181f": {
          "model_module": "@jupyter-widgets/base",
          "model_name": "LayoutModel",
          "model_module_version": "1.2.0",
          "state": {
            "_model_module": "@jupyter-widgets/base",
            "_model_module_version": "1.2.0",
            "_model_name": "LayoutModel",
            "_view_count": null,
            "_view_module": "@jupyter-widgets/base",
            "_view_module_version": "1.2.0",
            "_view_name": "LayoutView",
            "align_content": null,
            "align_items": null,
            "align_self": null,
            "border": null,
            "bottom": null,
            "display": null,
            "flex": null,
            "flex_flow": null,
            "grid_area": null,
            "grid_auto_columns": null,
            "grid_auto_flow": null,
            "grid_auto_rows": null,
            "grid_column": null,
            "grid_gap": null,
            "grid_row": null,
            "grid_template_areas": null,
            "grid_template_columns": null,
            "grid_template_rows": null,
            "height": null,
            "justify_content": null,
            "justify_items": null,
            "left": null,
            "margin": null,
            "max_height": null,
            "max_width": null,
            "min_height": null,
            "min_width": null,
            "object_fit": null,
            "object_position": null,
            "order": null,
            "overflow": null,
            "overflow_x": null,
            "overflow_y": null,
            "padding": null,
            "right": null,
            "top": null,
            "visibility": null,
            "width": null
          }
        },
        "7f1d51b28b114071bb29def0477d780d": {
          "model_module": "@jupyter-widgets/controls",
          "model_name": "DescriptionStyleModel",
          "model_module_version": "1.5.0",
          "state": {
            "_model_module": "@jupyter-widgets/controls",
            "_model_module_version": "1.5.0",
            "_model_name": "DescriptionStyleModel",
            "_view_count": null,
            "_view_module": "@jupyter-widgets/base",
            "_view_module_version": "1.2.0",
            "_view_name": "StyleView",
            "description_width": ""
          }
        },
        "a83e401dfb9845aba4ba693e37abfa47": {
          "model_module": "@jupyter-widgets/controls",
          "model_name": "HBoxModel",
          "model_module_version": "1.5.0",
          "state": {
            "_dom_classes": [],
            "_model_module": "@jupyter-widgets/controls",
            "_model_module_version": "1.5.0",
            "_model_name": "HBoxModel",
            "_view_count": null,
            "_view_module": "@jupyter-widgets/controls",
            "_view_module_version": "1.5.0",
            "_view_name": "HBoxView",
            "box_style": "",
            "children": [
              "IPY_MODEL_de1dd99a83ce4b23b24d202efe2f6cc1",
              "IPY_MODEL_c932d6b8ee984e628adf7ed77e413a04",
              "IPY_MODEL_269a5ccf02174cb384338112a042ce04"
            ],
            "layout": "IPY_MODEL_f651964cadde46449a2d5bc8f6d3936c"
          }
        },
        "de1dd99a83ce4b23b24d202efe2f6cc1": {
          "model_module": "@jupyter-widgets/controls",
          "model_name": "HTMLModel",
          "model_module_version": "1.5.0",
          "state": {
            "_dom_classes": [],
            "_model_module": "@jupyter-widgets/controls",
            "_model_module_version": "1.5.0",
            "_model_name": "HTMLModel",
            "_view_count": null,
            "_view_module": "@jupyter-widgets/controls",
            "_view_module_version": "1.5.0",
            "_view_name": "HTMLView",
            "description": "",
            "description_tooltip": null,
            "layout": "IPY_MODEL_a59f45904a59493d9bc7cd2dcdd6c7a6",
            "placeholder": "​",
            "style": "IPY_MODEL_136b3256d2af42fa8da4997637f23c13",
            "value": "Fetching 1 files: 100%"
          }
        },
        "c932d6b8ee984e628adf7ed77e413a04": {
          "model_module": "@jupyter-widgets/controls",
          "model_name": "FloatProgressModel",
          "model_module_version": "1.5.0",
          "state": {
            "_dom_classes": [],
            "_model_module": "@jupyter-widgets/controls",
            "_model_module_version": "1.5.0",
            "_model_name": "FloatProgressModel",
            "_view_count": null,
            "_view_module": "@jupyter-widgets/controls",
            "_view_module_version": "1.5.0",
            "_view_name": "ProgressView",
            "bar_style": "success",
            "description": "",
            "description_tooltip": null,
            "layout": "IPY_MODEL_ef610850392746ec9246bdb0432e8439",
            "max": 1,
            "min": 0,
            "orientation": "horizontal",
            "style": "IPY_MODEL_3592a2bdafe849388ed27248966c830d",
            "value": 1
          }
        },
        "269a5ccf02174cb384338112a042ce04": {
          "model_module": "@jupyter-widgets/controls",
          "model_name": "HTMLModel",
          "model_module_version": "1.5.0",
          "state": {
            "_dom_classes": [],
            "_model_module": "@jupyter-widgets/controls",
            "_model_module_version": "1.5.0",
            "_model_name": "HTMLModel",
            "_view_count": null,
            "_view_module": "@jupyter-widgets/controls",
            "_view_module_version": "1.5.0",
            "_view_name": "HTMLView",
            "description": "",
            "description_tooltip": null,
            "layout": "IPY_MODEL_b3ee7f49ed2441ab99866717e76c3897",
            "placeholder": "​",
            "style": "IPY_MODEL_0fc828a56cb94419b29508099372c12b",
            "value": " 1/1 [00:00&lt;00:00, 67.69it/s]"
          }
        },
        "f651964cadde46449a2d5bc8f6d3936c": {
          "model_module": "@jupyter-widgets/base",
          "model_name": "LayoutModel",
          "model_module_version": "1.2.0",
          "state": {
            "_model_module": "@jupyter-widgets/base",
            "_model_module_version": "1.2.0",
            "_model_name": "LayoutModel",
            "_view_count": null,
            "_view_module": "@jupyter-widgets/base",
            "_view_module_version": "1.2.0",
            "_view_name": "LayoutView",
            "align_content": null,
            "align_items": null,
            "align_self": null,
            "border": null,
            "bottom": null,
            "display": null,
            "flex": null,
            "flex_flow": null,
            "grid_area": null,
            "grid_auto_columns": null,
            "grid_auto_flow": null,
            "grid_auto_rows": null,
            "grid_column": null,
            "grid_gap": null,
            "grid_row": null,
            "grid_template_areas": null,
            "grid_template_columns": null,
            "grid_template_rows": null,
            "height": null,
            "justify_content": null,
            "justify_items": null,
            "left": null,
            "margin": null,
            "max_height": null,
            "max_width": null,
            "min_height": null,
            "min_width": null,
            "object_fit": null,
            "object_position": null,
            "order": null,
            "overflow": null,
            "overflow_x": null,
            "overflow_y": null,
            "padding": null,
            "right": null,
            "top": null,
            "visibility": null,
            "width": null
          }
        },
        "a59f45904a59493d9bc7cd2dcdd6c7a6": {
          "model_module": "@jupyter-widgets/base",
          "model_name": "LayoutModel",
          "model_module_version": "1.2.0",
          "state": {
            "_model_module": "@jupyter-widgets/base",
            "_model_module_version": "1.2.0",
            "_model_name": "LayoutModel",
            "_view_count": null,
            "_view_module": "@jupyter-widgets/base",
            "_view_module_version": "1.2.0",
            "_view_name": "LayoutView",
            "align_content": null,
            "align_items": null,
            "align_self": null,
            "border": null,
            "bottom": null,
            "display": null,
            "flex": null,
            "flex_flow": null,
            "grid_area": null,
            "grid_auto_columns": null,
            "grid_auto_flow": null,
            "grid_auto_rows": null,
            "grid_column": null,
            "grid_gap": null,
            "grid_row": null,
            "grid_template_areas": null,
            "grid_template_columns": null,
            "grid_template_rows": null,
            "height": null,
            "justify_content": null,
            "justify_items": null,
            "left": null,
            "margin": null,
            "max_height": null,
            "max_width": null,
            "min_height": null,
            "min_width": null,
            "object_fit": null,
            "object_position": null,
            "order": null,
            "overflow": null,
            "overflow_x": null,
            "overflow_y": null,
            "padding": null,
            "right": null,
            "top": null,
            "visibility": null,
            "width": null
          }
        },
        "136b3256d2af42fa8da4997637f23c13": {
          "model_module": "@jupyter-widgets/controls",
          "model_name": "DescriptionStyleModel",
          "model_module_version": "1.5.0",
          "state": {
            "_model_module": "@jupyter-widgets/controls",
            "_model_module_version": "1.5.0",
            "_model_name": "DescriptionStyleModel",
            "_view_count": null,
            "_view_module": "@jupyter-widgets/base",
            "_view_module_version": "1.2.0",
            "_view_name": "StyleView",
            "description_width": ""
          }
        },
        "ef610850392746ec9246bdb0432e8439": {
          "model_module": "@jupyter-widgets/base",
          "model_name": "LayoutModel",
          "model_module_version": "1.2.0",
          "state": {
            "_model_module": "@jupyter-widgets/base",
            "_model_module_version": "1.2.0",
            "_model_name": "LayoutModel",
            "_view_count": null,
            "_view_module": "@jupyter-widgets/base",
            "_view_module_version": "1.2.0",
            "_view_name": "LayoutView",
            "align_content": null,
            "align_items": null,
            "align_self": null,
            "border": null,
            "bottom": null,
            "display": null,
            "flex": null,
            "flex_flow": null,
            "grid_area": null,
            "grid_auto_columns": null,
            "grid_auto_flow": null,
            "grid_auto_rows": null,
            "grid_column": null,
            "grid_gap": null,
            "grid_row": null,
            "grid_template_areas": null,
            "grid_template_columns": null,
            "grid_template_rows": null,
            "height": null,
            "justify_content": null,
            "justify_items": null,
            "left": null,
            "margin": null,
            "max_height": null,
            "max_width": null,
            "min_height": null,
            "min_width": null,
            "object_fit": null,
            "object_position": null,
            "order": null,
            "overflow": null,
            "overflow_x": null,
            "overflow_y": null,
            "padding": null,
            "right": null,
            "top": null,
            "visibility": null,
            "width": null
          }
        },
        "3592a2bdafe849388ed27248966c830d": {
          "model_module": "@jupyter-widgets/controls",
          "model_name": "ProgressStyleModel",
          "model_module_version": "1.5.0",
          "state": {
            "_model_module": "@jupyter-widgets/controls",
            "_model_module_version": "1.5.0",
            "_model_name": "ProgressStyleModel",
            "_view_count": null,
            "_view_module": "@jupyter-widgets/base",
            "_view_module_version": "1.2.0",
            "_view_name": "StyleView",
            "bar_color": null,
            "description_width": ""
          }
        },
        "b3ee7f49ed2441ab99866717e76c3897": {
          "model_module": "@jupyter-widgets/base",
          "model_name": "LayoutModel",
          "model_module_version": "1.2.0",
          "state": {
            "_model_module": "@jupyter-widgets/base",
            "_model_module_version": "1.2.0",
            "_model_name": "LayoutModel",
            "_view_count": null,
            "_view_module": "@jupyter-widgets/base",
            "_view_module_version": "1.2.0",
            "_view_name": "LayoutView",
            "align_content": null,
            "align_items": null,
            "align_self": null,
            "border": null,
            "bottom": null,
            "display": null,
            "flex": null,
            "flex_flow": null,
            "grid_area": null,
            "grid_auto_columns": null,
            "grid_auto_flow": null,
            "grid_auto_rows": null,
            "grid_column": null,
            "grid_gap": null,
            "grid_row": null,
            "grid_template_areas": null,
            "grid_template_columns": null,
            "grid_template_rows": null,
            "height": null,
            "justify_content": null,
            "justify_items": null,
            "left": null,
            "margin": null,
            "max_height": null,
            "max_width": null,
            "min_height": null,
            "min_width": null,
            "object_fit": null,
            "object_position": null,
            "order": null,
            "overflow": null,
            "overflow_x": null,
            "overflow_y": null,
            "padding": null,
            "right": null,
            "top": null,
            "visibility": null,
            "width": null
          }
        },
        "0fc828a56cb94419b29508099372c12b": {
          "model_module": "@jupyter-widgets/controls",
          "model_name": "DescriptionStyleModel",
          "model_module_version": "1.5.0",
          "state": {
            "_model_module": "@jupyter-widgets/controls",
            "_model_module_version": "1.5.0",
            "_model_name": "DescriptionStyleModel",
            "_view_count": null,
            "_view_module": "@jupyter-widgets/base",
            "_view_module_version": "1.2.0",
            "_view_name": "StyleView",
            "description_width": ""
          }
        }
      }
    }
  },
  "cells": [
    {
      "cell_type": "markdown",
      "metadata": {
        "id": "view-in-github",
        "colab_type": "text"
      },
      "source": [
        "<a href=\"https://colab.research.google.com/github/plaban1981/Langchain_usecases/blob/main/Mistral_AI_using_Langchain.ipynb\" target=\"_parent\"><img src=\"https://colab.research.google.com/assets/colab-badge.svg\" alt=\"Open In Colab\"/></a>"
      ]
    },
    {
      "cell_type": "code",
      "execution_count": 1,
      "metadata": {
        "colab": {
          "base_uri": "https://localhost:8080/"
        },
        "id": "CZ12EQTFOBX2",
        "outputId": "e7cda058-5d7b-463d-faec-9dea96425d0e"
      },
      "outputs": [
        {
          "output_type": "stream",
          "name": "stdout",
          "text": [
            "Collecting git+https://github.com/huggingface/transformers\n",
            "  Cloning https://github.com/huggingface/transformers to /tmp/pip-req-build-xscmz3fx\n",
            "  Running command git clone --filter=blob:none --quiet https://github.com/huggingface/transformers /tmp/pip-req-build-xscmz3fx\n",
            "  Resolved https://github.com/huggingface/transformers to commit 391177441b133645c02181b57370ab12f71b88c4\n",
            "  Installing build dependencies ... \u001b[?25l\u001b[?25hdone\n",
            "  Getting requirements to build wheel ... \u001b[?25l\u001b[?25hdone\n",
            "  Preparing metadata (pyproject.toml) ... \u001b[?25l\u001b[?25hdone\n",
            "Requirement already satisfied: filelock in /usr/local/lib/python3.10/dist-packages (from transformers==4.34.0.dev0) (3.12.2)\n",
            "Collecting huggingface-hub<1.0,>=0.16.4 (from transformers==4.34.0.dev0)\n",
            "  Downloading huggingface_hub-0.17.3-py3-none-any.whl (295 kB)\n",
            "\u001b[2K     \u001b[90m━━━━━━━━━━━━━━━━━━━━━━━━━━━━━━━━━━━━━━━\u001b[0m \u001b[32m295.0/295.0 kB\u001b[0m \u001b[31m5.2 MB/s\u001b[0m eta \u001b[36m0:00:00\u001b[0m\n",
            "\u001b[?25hRequirement already satisfied: numpy>=1.17 in /usr/local/lib/python3.10/dist-packages (from transformers==4.34.0.dev0) (1.23.5)\n",
            "Requirement already satisfied: packaging>=20.0 in /usr/local/lib/python3.10/dist-packages (from transformers==4.34.0.dev0) (23.1)\n",
            "Requirement already satisfied: pyyaml>=5.1 in /usr/local/lib/python3.10/dist-packages (from transformers==4.34.0.dev0) (6.0.1)\n",
            "Requirement already satisfied: regex!=2019.12.17 in /usr/local/lib/python3.10/dist-packages (from transformers==4.34.0.dev0) (2023.6.3)\n",
            "Requirement already satisfied: requests in /usr/local/lib/python3.10/dist-packages (from transformers==4.34.0.dev0) (2.31.0)\n",
            "Collecting tokenizers<0.15,>=0.14 (from transformers==4.34.0.dev0)\n",
            "  Downloading tokenizers-0.14.0-cp310-cp310-manylinux_2_17_x86_64.manylinux2014_x86_64.whl (3.8 MB)\n",
            "\u001b[2K     \u001b[90m━━━━━━━━━━━━━━━━━━━━━━━━━━━━━━━━━━━━━━━━\u001b[0m \u001b[32m3.8/3.8 MB\u001b[0m \u001b[31m60.5 MB/s\u001b[0m eta \u001b[36m0:00:00\u001b[0m\n",
            "\u001b[?25hCollecting safetensors>=0.3.1 (from transformers==4.34.0.dev0)\n",
            "  Downloading safetensors-0.3.3-cp310-cp310-manylinux_2_17_x86_64.manylinux2014_x86_64.whl (1.3 MB)\n",
            "\u001b[2K     \u001b[90m━━━━━━━━━━━━━━━━━━━━━━━━━━━━━━━━━━━━━━━━\u001b[0m \u001b[32m1.3/1.3 MB\u001b[0m \u001b[31m72.5 MB/s\u001b[0m eta \u001b[36m0:00:00\u001b[0m\n",
            "\u001b[?25hRequirement already satisfied: tqdm>=4.27 in /usr/local/lib/python3.10/dist-packages (from transformers==4.34.0.dev0) (4.66.1)\n",
            "Requirement already satisfied: fsspec in /usr/local/lib/python3.10/dist-packages (from huggingface-hub<1.0,>=0.16.4->transformers==4.34.0.dev0) (2023.6.0)\n",
            "Requirement already satisfied: typing-extensions>=3.7.4.3 in /usr/local/lib/python3.10/dist-packages (from huggingface-hub<1.0,>=0.16.4->transformers==4.34.0.dev0) (4.5.0)\n",
            "Collecting huggingface-hub<1.0,>=0.16.4 (from transformers==4.34.0.dev0)\n",
            "  Downloading huggingface_hub-0.16.4-py3-none-any.whl (268 kB)\n",
            "\u001b[2K     \u001b[90m━━━━━━━━━━━━━━━━━━━━━━━━━━━━━━━━━━━━━━\u001b[0m \u001b[32m268.8/268.8 kB\u001b[0m \u001b[31m27.1 MB/s\u001b[0m eta \u001b[36m0:00:00\u001b[0m\n",
            "\u001b[?25hRequirement already satisfied: charset-normalizer<4,>=2 in /usr/local/lib/python3.10/dist-packages (from requests->transformers==4.34.0.dev0) (3.2.0)\n",
            "Requirement already satisfied: idna<4,>=2.5 in /usr/local/lib/python3.10/dist-packages (from requests->transformers==4.34.0.dev0) (3.4)\n",
            "Requirement already satisfied: urllib3<3,>=1.21.1 in /usr/local/lib/python3.10/dist-packages (from requests->transformers==4.34.0.dev0) (2.0.4)\n",
            "Requirement already satisfied: certifi>=2017.4.17 in /usr/local/lib/python3.10/dist-packages (from requests->transformers==4.34.0.dev0) (2023.7.22)\n",
            "Building wheels for collected packages: transformers\n",
            "  Building wheel for transformers (pyproject.toml) ... \u001b[?25l\u001b[?25hdone\n",
            "  Created wheel for transformers: filename=transformers-4.34.0.dev0-py3-none-any.whl size=7746595 sha256=eb1e82a4fe6e126eb62bab71d6509a7299417194933c746a60308a796299be15\n",
            "  Stored in directory: /tmp/pip-ephem-wheel-cache-rex6bxa7/wheels/c0/14/d6/6c9a5582d2ac191ec0a483be151a4495fe1eb2a6706ca49f1b\n",
            "Successfully built transformers\n",
            "Installing collected packages: safetensors, huggingface-hub, tokenizers, transformers\n",
            "Successfully installed huggingface-hub-0.16.4 safetensors-0.3.3 tokenizers-0.14.0 transformers-4.34.0.dev0\n"
          ]
        }
      ],
      "source": [
        "!pip install git+https://github.com/huggingface/transformers"
      ]
    },
    {
      "cell_type": "markdown",
      "source": [
        "### Mistral 7B is a 7.3B parameter model that:\n",
        "\n",
        "* Outperforms Llama 2 13B on all benchmarks\n",
        "* Outperforms Llama 1 34B on many benchmarks\n",
        "* Approaches CodeLlama 7B performance on code, while remaining good at English tasks\n",
        "* Uses Grouped-query attention (GQA) for faster inference\n",
        "* Uses Sliding Window Attention (SWA) to handle longer sequences at smaller cost\n",
        "* Mistral 7B released under the Apache 2.0 license, it can be used without restrictions.\n",
        "\n",
        "* [Download](https://files.mistral-7b-v0-1.mistral.ai/mistral-7B-v0.1.tar) it and use it anywhere (including locally) [with our reference implementation](https://github.com/mistralai/mistral-src)\n",
        "* Deploy it on any cloud (AWS/GCP/Azure), [using vLLM inference server and skypilot](https://docs.mistral.ai/cloud-deployment/skypilot)\n",
        "* Use it on [HuggingFace](https://huggingface.co/mistralai)\n",
        "\n",
        "\n",
        "Mistral 7B is easy to fine-tune on any task. As a demonstration, we’re providing a model fine-tuned for chat, which outperforms Llama 2 13B chat."
      ],
      "metadata": {
        "id": "4gZWMyNlZYk2"
      }
    },
    {
      "cell_type": "code",
      "source": [
        "# Base ctransformers with CUDA GPU acceleration\n",
        "! pip install ctransformers[cuda]"
      ],
      "metadata": {
        "colab": {
          "base_uri": "https://localhost:8080/"
        },
        "id": "o0XbSK9kWWN0",
        "outputId": "f7c1d85e-7d8f-414a-a850-b8bceb5ff13e"
      },
      "execution_count": 6,
      "outputs": [
        {
          "output_type": "stream",
          "name": "stdout",
          "text": [
            "Collecting ctransformers[cuda]\n",
            "  Downloading ctransformers-0.2.27-py3-none-any.whl (9.9 MB)\n",
            "\u001b[2K     \u001b[90m━━━━━━━━━━━━━━━━━━━━━━━━━━━━━━━━━━━━━━━━\u001b[0m \u001b[32m9.9/9.9 MB\u001b[0m \u001b[31m53.2 MB/s\u001b[0m eta \u001b[36m0:00:00\u001b[0m\n",
            "\u001b[?25hRequirement already satisfied: huggingface-hub in /usr/local/lib/python3.10/dist-packages (from ctransformers[cuda]) (0.16.4)\n",
            "Requirement already satisfied: py-cpuinfo<10.0.0,>=9.0.0 in /usr/local/lib/python3.10/dist-packages (from ctransformers[cuda]) (9.0.0)\n",
            "Collecting nvidia-cublas-cu12 (from ctransformers[cuda])\n",
            "  Downloading nvidia_cublas_cu12-12.2.5.6-py3-none-manylinux1_x86_64.whl (417.8 MB)\n",
            "\u001b[2K     \u001b[90m━━━━━━━━━━━━━━━━━━━━━━━━━━━━━━━━━━━━━━━\u001b[0m \u001b[32m417.8/417.8 MB\u001b[0m \u001b[31m3.7 MB/s\u001b[0m eta \u001b[36m0:00:00\u001b[0m\n",
            "\u001b[?25hCollecting nvidia-cuda-runtime-cu12 (from ctransformers[cuda])\n",
            "  Downloading nvidia_cuda_runtime_cu12-12.2.140-py3-none-manylinux1_x86_64.whl (845 kB)\n",
            "\u001b[2K     \u001b[90m━━━━━━━━━━━━━━━━━━━━━━━━━━━━━━━━━━━━━━\u001b[0m \u001b[32m845.8/845.8 kB\u001b[0m \u001b[31m59.7 MB/s\u001b[0m eta \u001b[36m0:00:00\u001b[0m\n",
            "\u001b[?25hRequirement already satisfied: filelock in /usr/local/lib/python3.10/dist-packages (from huggingface-hub->ctransformers[cuda]) (3.12.2)\n",
            "Requirement already satisfied: fsspec in /usr/local/lib/python3.10/dist-packages (from huggingface-hub->ctransformers[cuda]) (2023.6.0)\n",
            "Requirement already satisfied: requests in /usr/local/lib/python3.10/dist-packages (from huggingface-hub->ctransformers[cuda]) (2.31.0)\n",
            "Requirement already satisfied: tqdm>=4.42.1 in /usr/local/lib/python3.10/dist-packages (from huggingface-hub->ctransformers[cuda]) (4.66.1)\n",
            "Requirement already satisfied: pyyaml>=5.1 in /usr/local/lib/python3.10/dist-packages (from huggingface-hub->ctransformers[cuda]) (6.0.1)\n",
            "Requirement already satisfied: typing-extensions>=3.7.4.3 in /usr/local/lib/python3.10/dist-packages (from huggingface-hub->ctransformers[cuda]) (4.5.0)\n",
            "Requirement already satisfied: packaging>=20.9 in /usr/local/lib/python3.10/dist-packages (from huggingface-hub->ctransformers[cuda]) (23.1)\n",
            "Requirement already satisfied: charset-normalizer<4,>=2 in /usr/local/lib/python3.10/dist-packages (from requests->huggingface-hub->ctransformers[cuda]) (3.2.0)\n",
            "Requirement already satisfied: idna<4,>=2.5 in /usr/local/lib/python3.10/dist-packages (from requests->huggingface-hub->ctransformers[cuda]) (3.4)\n",
            "Requirement already satisfied: urllib3<3,>=1.21.1 in /usr/local/lib/python3.10/dist-packages (from requests->huggingface-hub->ctransformers[cuda]) (2.0.4)\n",
            "Requirement already satisfied: certifi>=2017.4.17 in /usr/local/lib/python3.10/dist-packages (from requests->huggingface-hub->ctransformers[cuda]) (2023.7.22)\n",
            "Installing collected packages: nvidia-cuda-runtime-cu12, nvidia-cublas-cu12, ctransformers\n",
            "Successfully installed ctransformers-0.2.27 nvidia-cublas-cu12-12.2.5.6 nvidia-cuda-runtime-cu12-12.2.140\n"
          ]
        }
      ]
    },
    {
      "cell_type": "markdown",
      "source": [
        "## Model Architecture\n",
        "This instruction model is based on Mistral-7B-v0.1, a transformer model with the following architecture choices:\n",
        "\n",
        "* Grouped-Query Attention\n",
        "* Sliding-Window Attention\n",
        "* Byte-fallback BPE tokenizer"
      ],
      "metadata": {
        "id": "WYrAzW5pTfDP"
      }
    },
    {
      "cell_type": "code",
      "source": [
        "import torch\n",
        "from transformers import AutoModelForCausalLM, AutoTokenizer\n",
        "device = \"cuda\"  if torch.cuda.is_available() else \"cpu\""
      ],
      "metadata": {
        "id": "eRtO6n3ZPcPJ"
      },
      "execution_count": 1,
      "outputs": []
    },
    {
      "cell_type": "code",
      "source": [
        "import gc\n",
        "gc.collect()\n",
        "torch.cuda.empty_cache()"
      ],
      "metadata": {
        "id": "l-MmPMdTX7Gi"
      },
      "execution_count": 3,
      "outputs": []
    },
    {
      "cell_type": "markdown",
      "source": [
        "## Mistral AI quantized Model"
      ],
      "metadata": {
        "id": "dCvYHVzWdxWi"
      }
    },
    {
      "cell_type": "code",
      "source": [
        "from ctransformers import AutoModelForCausalLM\n",
        "\n",
        "# Set gpu_layers to the number of layers to offload to GPU.\n",
        "#Set to 0 if no GPU acceleration is available on your system.\n",
        "llm = AutoModelForCausalLM.from_pretrained(\"TheBloke/Mistral-7B-Instruct-v0.1-GGUF\",\n",
        "                                           model_file=\"mistral-7b-instruct-v0.1.Q4_K_M.gguf\",\n",
        "                                           model_type=\"mistral\", gpu_layers=1)\n",
        "\n",
        "\n"
      ],
      "metadata": {
        "colab": {
          "base_uri": "https://localhost:8080/",
          "height": 81,
          "referenced_widgets": [
            "a7097c8ff132479ba95369e771e2b510",
            "1bcaac45bdb544fdb37a91ab2a4812d6",
            "db7d69ec969a4957a991976a8a085069",
            "51d36ea1591244abab5d15e9a5c5612a",
            "e18e0c710dde4075ac05ce717bfa9493",
            "701c4836a8cc4d148afdc962e3274d2d",
            "81bce7912f5647a6a313939a92d20f5f",
            "5d1261f028a2405ca79088cbd3ffefa2",
            "ff6b57d9a7f246d9840f69ad280310f3",
            "669b6d22a1c5497a9a4d60fe59f486ab",
            "fdf1b57286d8475ab2651e1f8ddb7017",
            "41ebfd6ca3014307ac9dcd11a17fecf3",
            "e13af3ca1c5b448190eea5a10871f2a7",
            "44ed791eee8d4f3a9072eaa824091e44",
            "73d87d7a31cc44cc8ce5c9777158cdf3",
            "682a327cceab4f17be1ce08c4d1856be",
            "3d8851a4b8bc4865a29fbc102866dac8",
            "cc2c9da705b248cb81459ea379a9aac5",
            "4cf30a0d362345d198ae52a70d425be0",
            "4682868814de4087bdb0e4240325179e",
            "ea27d1bbf5b54e84857b00717d7e4b79",
            "2a05a43e4cf54498b3dc0c797810d176"
          ]
        },
        "id": "JJshrgAwWvS5",
        "outputId": "1b73c96d-ac4e-469c-a76f-2d1d29d0db88"
      },
      "execution_count": 4,
      "outputs": [
        {
          "output_type": "display_data",
          "data": {
            "text/plain": [
              "Fetching 1 files:   0%|          | 0/1 [00:00<?, ?it/s]"
            ],
            "application/vnd.jupyter.widget-view+json": {
              "version_major": 2,
              "version_minor": 0,
              "model_id": "a7097c8ff132479ba95369e771e2b510"
            }
          },
          "metadata": {}
        },
        {
          "output_type": "display_data",
          "data": {
            "text/plain": [
              "Fetching 1 files:   0%|          | 0/1 [00:00<?, ?it/s]"
            ],
            "application/vnd.jupyter.widget-view+json": {
              "version_major": 2,
              "version_minor": 0,
              "model_id": "41ebfd6ca3014307ac9dcd11a17fecf3"
            }
          },
          "metadata": {}
        }
      ]
    },
    {
      "cell_type": "markdown",
      "source": [
        "![image.png](data:image/png;base64,iVBORw0KGgoAAAANSUhEUgAAAjsAAAC2CAYAAAA/Z0x0AAAAAXNSR0IArs4c6QAAAARnQU1BAACxjwv8YQUAAAAJcEhZcwAAEnQAABJ0Ad5mH3gAAC8bSURBVHhe7d0NfBTlvS/wHxBYXjQINVhPs9cCaQ8YqRBvpeulsF6EcJAkKrhtiaElDQoHFDRV01wl5ngSYgUbNdRDSXOVkOPJmqskOdKEUz6sHj5JLSZyi4ufI0urbHpRYqGJglkIzH2emdlkd7OveUEYft8wzO7s7MzszPPyn2fehikCiIiIiAxquN4nIiIiMiQGO0RERGRoDHaIiIjI0BjsEBERkaEx2CEiIiJDY7BDREREhsZgh4iIiAyNwQ4REREZGoMdIiIiMjQGO0RERGRoDHaIiIjI0BjsEBERkaEx2CEiIiJDY7BDREREhsZgh4iIiAyNwQ4REREZGoMdIiIiMjQGO0RERGRoDHaIiIjI0BjsEBERkaEx2CEiIiJDY7BDREREhsZgh4iIiAyNwQ4REREZGoMdIiIiMjQGO0RERGRoDHaIiIjI0BjsEBERkaENebDTvr8cG2yzMX3KFEyZMh2zl6xBcb0Tnd36CFeQ1hK5DgK7KNfJoa2YJ8af96JTHxDEJ3Zk69Ms2O/RB4Zwqg5r9GUoflcfRgPX3QnXXt80PwUzF4jtW9OK9j7btxXF+jiBnfqdPmmiHfZs8Xm2XbwKJtLnmvaa7BDzzMSGXzcHWU4f3U5snSvGn7sVzlDjMR1eEYKVZ1oacsDVqY/k65M6ZN80HZn/5tYHRE+bV7HIMUT9M4TBjkck0IWYvWILmscvQu4vKlD1fD4yprahcn0aZq+xwx2uUDWsZOQ8X4WqHVpX8YtcLJrYjHKxTpYVOhCsjJCcDrG+RN+9zY7mCPWHXPeV/9YYclqSe/cONOqvaZB0u9GYvwwLVxXDMdqb5gthu1Gk+ceWYW6oND8jB6V6elA78Z2Mb7YOeT5JfcJ/nrYbO9FYkom5yyvhCjXPDxywt4l+Wxnsv4+UEJkOjc+nPNtegnXfM6H5hWwsvG0Zth4KSB+eLpEigM4zEQswosGnDJU/lilzJ09WFmxqUbr0QV7HXlupTBOfrXzthD5kkB0oUiYP5fT7qWXTZLFcK5Xq4/qAHl1K09NzxWdzlbI/6oN8dTUpG5MnK3NXrlSWTJ6mbPzPwDWqO16trBS/e1rytBDz0Z17Xyn7vlwWrSs6oA+nATkh0vVksX1WvnpMH9LLm+aX7vT9rEUpkttgZbUSLKUe2ymnN1lZXdehDzmhVK8MPX7kzzXacgbf7sdeDZynL5FOnxJp6/srlZXpIp091dQnb6uYDq8IIcuzjial6A7xWfJ6peGkPmyAtHkViRxD1D9D1rLT/l8takuE9Y4UmLRBPcx3rUKW6Dsam8M2t185TLDcY4NZrLEmZ98mXs+BBtjPmGH7WT5sM8Te8muhW4Aky702pEDsge/tOy2VunduQtaP5VagweGE/QUHkLgOucvM+rBe5mX5yJ8BtG6rE2NGx7xshZpPGv/Qqu4RXwzmxT9Auug3/t8gS+lpRcNrHph/lIv8e5LheaUajjAJkenwChVvQf6/FCLlTB2Kd0ab2omG1pAFO6ax8Wrf5QpS0MWJzPCnP+FP29OR4D1mvz6wudsDx5PyOO0a1J3SBwnt+7dizYKZ2jHim2ZjWW45mr0Rk/dcAVu5+tbx2Gx1PL9zAbrb0fziGiy8RU5bOzdi6/6AkOvdYu17+91wlPiMu7QA9g9FtRNsGj0L0U8TEzBV9NpOBdYenXC8VglPog3WG5NEUJQM1O+Cw2ed9JFsw4rFesXa53CEB82vl8E9NgsZCwPDUOq3Niea2kSw8CMrkuP0YX6SkPWvB3GwNgdiC0bHFK/tKHzSGTa4HVTxCZgk++1959m5txqVMuiel4ykOTbxO+qw660wS8Z0eOWaugg2K+AWO2Y94Y5ePmfX+JeVnYftKOg5x20mFq4uRp0sZyPwiHJ6ofjOwpLmK/IcUIrNkAU78fNXYK2ovR35ach8sRnu0/oHgSak4geZol//WzT7lptiL3LfG6KfdhesE7RB7ppszF1RhrYb16nnOFQ8lQGToxiZt29Ao6z8J1iwTh47fiJVHT85u1Q9lmyTUYR0uhXF/zAbmS93wvrzCvFZKdbd2IayFXNFBuwblFWuTsOW47dg3fNVKM1Lh/m/KpF3TyYyl8/FmgOTkPWUPOdmLawmB7ZkZmLrYf2L/dB5YJ/YBwZm3RDQKnDKgV31eiUq3iZZ5d5yI3btDR1cHRUfpf4wC6a2MtQe1Ad6dTpQ/YrYO38gAykj9WE0cJ+40Cx6UxPUUCG4cfGInxBDxf5hqzpN042JSNCGDL1Dzeo5NOZpidB2V7xE0L27DlCDbvF2qhW2WUDjGw0hW2eZDq9kCUj6tui1tajpIBQZsCxbkofa0Rko3C7PHVuHG9sqsWFRWtjyVH4vTe7ULnsJv/mZBfFBdzCIeg3dCcqmFOT+nxrkzwGaf5mJeTOmY7ZtA7bUtMLtF7SbYEkVBaLYS/ztfp9o59A+2M8AWXdb9ULXiboXHPBYCvGr53OQPscC67J8VL2cC/OZOuxoFMGKyYwUMdzyHS1gSJgmXov3SXqw5NyRh/KjVpTUViF/mVV8lo6c52vwkgi2HE+V9znxN/nRGtTr80q/vxQ1z9uAM6ICuqoQ9RWFyEqTy5CL0q35IgBxwf5WP5psuz1w79+C7J+LKmbqWqyYH1DF7P+tqHySkbNQbw+4wYoMUck4Xm1QDxMG4+7wwPS9DGSN9aDyzWa/QyCdb+0SazoFOelRty/QV8DzsQPFj2wRqT4J61JT9KFDq/OQHXlinu6xVuTeHZA+RND9290iT/w0VW+ZMsN6j1guhx0NH6sD+mA6JKnrvP6iDxFAV5aLkjMHL1XkwzZflNdpOSitfAapYuiW12WoH0SbHWt+Ug73/BL8pjgVZgY6FIUhvBpLiBeF2Y6DOPgfVSi534rxR+uw9bFlmHdLGvJ291bVpu8ugm0sUNfY3NN03vq7SnjGZmGRxbsnPAkJSaLnduJwm0+xOT0H9S0H8VJa3/Mk/LWiYasLyFyBjER9kEoEW/NlEONA61F9kC4lWc6wlyk5BVbRtyy0+GewG5JFsa0V7pE5kHebdvhL7b49HfNWbIUrJRdV/5qLFL8dfzdqXxZB0AwbLN7WKW8l854djoDl9ROXgowHzPC8skNr9VLp07PasOgGfRANIf1ScO+2Vrsgl8868jDbb5wpmH57Nso/SkJORRXWypaUIVBu85/nzAyxh22yoeT1l5D+dX0knXbVVDJsc3rzhHlOhkj3rbA7RL4KhemQQopHwvWywHPB+YHPju6EdJSKMv3gQ0GCfNk6vzIPzZYS7HnJxkCHoja0wY4ufqoFtryXsKflTzhYWwLbN12wr1uIAoceHJjE56JA7DmU1e1E826xV3jvIp/KPwG2f3oJtngR1c+djim3LERm7hbYD56A6ep4xI/TRwvlE5Ghzoh+VXbP/U+83fTsSvGBGx3y8yiY4kbrr/rD/9Lzkh/LyiMJq/LWwhJ4rELs3de+J75xj0WM0UurZJwo3xO+JSk5PUeM19jbYna4DuVieql3L1IPi7R/FKaSokEQD8uDvds6f7E+OFDgpeeyq30LHxysR7516A5g+V56XvGoVYT9JqT+o9jD/nbgoTY3HK+LEM0v6Bb0VkbnbxrDnnTNdHhlGz1CfxFEyoOy9V8EMBkz1XMw01YXoHKvCx5ZpscHpkMXyjZkolzs5FnmB+xwEkVwUYIdX/GiwCypFkELPKh8o/eqomSxl2f2Hsr6ULtKwzY/4EquxFSU7DqId2RL0QNWJLjliW3zMPOuLWgNdU5QgIQfFvpXKj5dz7k9QyoBSd/VDq/JzvZQLtLHurBlc98bwTl3l6utAM7ChX7B2ZTbC9Th7lcdoW/sJt2gnSTY+HKtqK7EdPba1RNCVyz0P1RGg+CGm9RWv2a/E/JNMM/q3dYpfi2KPr6W1DNOTzfDLIJq/fNAYh+hS385EObv9M7PuioX66Z6UFdShtbABko9OMGhAvWE0N60OA8FcnibHY5D6pjBMR1egdxwyTSReAumhovXx4mdvx0H8cG+epT+XJ6P2IwtqxZi5uw1qJP3c/LjQNvUCtQXW+HIfxiV4Vq2iQIMUbDjhj1TFIYZlSIWD0KeqCn7n3f0HsefYYVNVAbyUJbjLa0wzPieT6jT7UHnqU50njchQbYU3Z+PUvs7OGjPgfnwVjy8I8L5Mtea1daR9hH6eT1BOu+5PRfVhFSse1Se+7AV29/1qWW6nXC8KqqGWWvxUpDArOJhUXsEO/HTTwIW3Z0KvFeOunebYd/mhum+DPQcGaTBkzALt88SccjOWjiiDLxjZ8L4q0Wv2YmjgQGJ1O2CS57lfvV4/52EaMSJSud/yZOJy1FW7x92q8GJqIbWlvVNh1Xbc0WQ50bZm+Hubct0eMWRAXKzCKjv1S6sCMpbpov8YrohGemZuSj8lz04+HYJrJ5GbHg28ArdHBT+zILkZYUome9EweriqHdyiYYo2DHDslhU4IfKURnsqqEPW9WWCdMNZp8rPpKR+lORLeqLUSAqefUqDd89289qseGWmUh71v9ER9P020QxDJzo8hk6QjbIB4hLwe0/FkOrirHFN6iQTovAIvDy84so6Ye5yBrrRvkme++daw/Wokzs2aT+ZBVSgwRm1vvuQqpsHQs48TNQ/MIV6rTtj+Splw2vuzPIcXAaBPI+SCLwPlOJ4s2Ovo9c6O5E+0n9db/Fw5KaLtJ2JXa84duCpHHv2i4+MSE91eKTr6JnsuYgX578/lRZb8DW3YpaEZxg8QqsWtw3HVrmZ+GuxVqQF+7O3kyHV5DOZhSv3wLX2HTk3xfuBHQnyr4/EzMfDLhL+NdTcJtsZT/j6VO2qa2dcSKvFRTCerwcmSWOsOUfkdeQHcYy/+CXKF3cgcpVczF7VQHKaxxo3l+HyiezMfseEZFPSMUzD1j8ghLtsmo33G0iMVsDMsnXM7Du/iS4K7KxbL3YQ9zfjOb6cmz4wRrYkYQc3/Gn3iQCAVFob9sigq06tKpXi5hg+VkVcqa6UP6TZdjwS7sIcJrhqClG5tw0ZBdu97/0/WIyWbDuKavY8y1G2R65EB40v1kp/k/FP8wJUW3pl+x7XmkI//gI/Xwod5tsJcpB+gx9OA06kyUXv3pUpOBXsjH3rg0orqoTad4B+6+LseGu2VhTY0Lyg4tC7+lGIX5hLp5ZHA9H/kKkrS9GZb3MByLAWp+GhY85YFr8DHL7fXhI5Luf6wGb3lLq+X2tCE5E0J3qvSoyUDxSl2WJiqkSDeESItOhQbXDdUCkQVke77WjXJbvt2Wi/HgKcl99BqnhWsvFDmiWKPdMjjykZRfDvlebRnH2MhQfMsEqguuQR8ASbXjmaVFmVq0R+apv4E8UaOjO2RHRd3rp29izPRcWTzPKHstG5gpRAextR8p9pajf1/eKD++xffVeHn0KQxNS8uqx5/ksJB4uw4YVmchcX4bDiVko/fca5M7yCZviU5FbloWUk3YUrNqIZu8e9bgU5O/ag9L7EnF4Zx6yxTTWPNeM+J9U4K1d+bD0t44YBAlp65CTqJ8zcbIZta+IisPnHkN9eS/Zr0S1GiCFpp0PBVh/tEjt01ARwcyaGrzz76XISjyK2k0bRJrPRt42B9r/Pgelte+g/uG+dxSPiZ6v6mU+OForghyZD4pRezQRWc/X4+3S9AGduGn676uwVuRB17NbYP9EBN11MuhOx13zQmcOk2URssYClTXhn4PFdGhETpTLNCjL41V5KPu9B5aHKrCnqQZrZ0RO6eZlFXi7Kh/WrlpRVstpFKC2y4r8HW+j4u7wJ+cn3F2K0jSxU/vYwyj/UB9IFMIw+cwI/fVXTz5R+X+mwf6jery1ZiD7v0RERESai341VjieA7Wwt6UgZzEDHSIiIhocl0TLjrtxC+wH3HD8Wx1c81/CO8+n9usESyIiIqJAl0TLTvvhcmytcMB0dwnqixnoEBER0eC5tM7ZISIiIhpkl9Q5O0RERESDjcEOERERGRqDHSIiIjI0BjtERERkaAx2iIiIyNCGNtjpbkfzi2uQdtt0TJkyBVNuWYg1JXVwRfuk2tMu2J/MxMJbxHfF92cuyERBjatfD35zVy3DlLlb4Qx8QKOv9jpky+UM1mXbEfRRod2dcO0tx4ala2D/RB8WjYH+Nu98bbMxXV/GmQvWoLimte9DKIXWEp/f0tNNx+wl4jv1/Vun1Fd781asWaJvk5tmI231VjTH+ozZTifqfrkBmQtmim2UHVu60nn2F4hlWIO6U/qAcLo9cL9rR/Gq2djyrj4sFJmnqwp6fmNxpPF7eOCqKdB/k1g3oizIfNIefVkgdB51oDx3GWbfpKdftTyxozXI+m2vydbTuH8n89mGXzcHzSM0QPIO+Avkeg6WZluxxbvd+nTF6oOhY3J4KxbK74Yql8OIKW8InrZW2EuyMfuXEZYylrzR3zwuyn1nQD6Sdaozhuc6xpKPDFVvyEvPh8S5Y0p1zjRlcvISZf22WqXpP5uU2m3rlSXJk5XJd5Qp75/Txwvl3PtK2R1i3J7v1yrbH1qiTJs8WVnwq/f1kaIlpvX9ycrSncf09yG4q5XlYvpLH9msbH4uoNvZonToo0ld7haletNK5Vb5e8R3Jk9eqVQf1z+MZKC/TazbhkcXqPO9OWujsv21fUpT3Q6lSJ/GtJxq5VjA+m3ZJJdxiVJU16RuC9nte227sjHrZnU6C55rUbr0cal/Ot5cr67/m7OKlOrfyfVbpCxPkdt5vdJwUh8pgq4Dm7U8knyrsvKJ7WI6LcqxmDdMh9LwkEgHTzWF36Ynjyj7RJ5cKpdRLLfsig7onwXjrlVWq+PeLPJIkbJDpKUjUf6u938l0+s0ZclD25XaWMsC4dibjysL5DKmLFc2bqtW9ok8s+NpfRrJIu+59RF1J15bqf6e1b/pTe/+eaRWOaGPS4ND28YyfQQpC881KUXis7k5G/uWrc81KBFKZn/e8lPOa2V1jNsxyrxxrkM58rvtyvp7tPJR7Ta16B8GEUPe6H8e71JanguVjzYrLVFMI9Z8ZKR6Y8iCHVnwT548Vylq8l8VXfs2qoXNxn3hV5H2/WkB43Up+54QAdRkUXn4Rh6R/LFMmRtNMHKgSJ3n5lb9fSjHq5WVaoJZKoKVfcqOR2WCiD7YGehv0wryacrKV/sWEcfEZ3L9BgZ2WqINVgiJoHSl/CzGdUoBtIB68j07lCO+lbdrh7JUbI+50QSxx2uVlaLQmXZvmdIykG1xUhS8In2EDVyUFrXyUQvcTdVK7XPLRRoIE+x0tSibZQVzx+NK7Uf6sGh1NCjrxbSnPbHPr2D0lgXr34zwY/X8FiyIlzsocp3J9e6b4r3BTt/f06U0PT1XfDZXKXPqg2jg1HQ+TVlwh1y3QcoZfRuufH3gIeaRl5eKdLtAWSDzW6zBTlR5w1teTlNuzRE7LnWb1Z3gkMFOLHljIHn8hPiuzAch8lHEdduPfGSkemPIDmO52o4ieYYNi77r/+Rb07RkWETf/Vm4djcPWpvrgLFZyJjj+30TrBnySd91aGqNvgGt9c0yuBffhUWBT1kP4PlCTtMC8/Xa+5DGpmBV7Vv44J0alN5vRfJEfXhUBvrbnLC/4AAS1yF3Wd9nR5uX5SN/hvjN2+rEmFGIM8OyUG6RTnSc0QZRPxxtRUOb9kTvJN+njk/VnuTvbmiFSx8UnAfN2x6HA1Y888JapAzgNuLte3ehUaSPjJn6gKDMyNixBwcPvoOKPBss5vBPqHbXFGPr0SSs/UUh0m/QB0bJ09okUrUJWRlW8X8v05wM9Wnpdc2tYZvDnW9sFevFjHUP2fo+0T3RhvxHk4H3ylF3WB8WlgmW+ami72Z6HyzdLlQ+VgDn/EIU/nSqPjDAaY96uCnJHP5J5hEdrUReoRPWpwqRk6QPi0F0eUPkjjursKflA7yzPR+275r90m2g6PPGAPP4x++L7wKplhT/fGS5HTbRd/yXWxsQwqDmo8uw3hiyYCfl/nrU14oNGrhS29txVPTix4ZLPp048RfRuzUpyEZJiiJY8uFpRu1OD9IXWyM+hqLzM5lY4jFeFMBhxYtlmCEyQOCyRWWAv63NiSZRqZp/JIKsoPNPQta/HsTB2hxE9zhVD446m9VXo0eoPeqPU241uEz6ZmBhnoCkb4veIbfY8mGIdNrwigem+9YhPUJQHp4bDa+KIi1k+vBKQPKcJMRHlYZdcNhbRSSXgxWzwgdFwWj5yoKkRO19D1FgJt0q+n85EWbdiPW6X3xfFMZWEcQHk5RZg4Mt9ciR6zkKrg9lejfBxPQ+KGRlX/CeFYUFNv9A35eaP8yRy9Zwut2wFxWg1SqCqrv6EelEnTdE7pgh0usE/U1YMeSNgebxBDNSRO9o+wntvVebWz3nKfn6cDXcYOejy6/euKhXY3naHCh4ZAvcU9dixfzwG8b9B/1lCH02eAide6tRiSz8IOz8NG633Hid2Pes9+St6Zht24DymM8wDWeAv+0TF+RSTk2YpL0PZlw84idEUSnJE1P3FqO4SiT0+9chdYA7XVeydnf4dhvgBNrDRTtHnepem01EqHXyZMie9FcA+4cxnAZ4uA7l76UgZ3F0oW5UOo+i5ZAoTOeY4fr1BizrOal+DbZGkTe0fBWGq12snVDa4ZJfT0pAyBQfZxLpPT7yzodI7+2HKlH8rBOm+YWwhSj0KQZtdhT8swPWYrE+A4NZH1r+iMeRnWt8LsqI7SRX964CFDisKPmnIC0T0fiq88ZA8/gNGViVZoLz2WJUHtILk04nKkuK4RybjnXp4QLAwc1Hl2O9cRGCnVYU62dxT5+bjQZzPup35SIlUhAcoWnM3RFNFumEY3ediKQzYIlmh9Qjp+lAw8fJsP10LdZmp2KSyCDFmZkofjeGCieCwflt/eFA3m3atlC7b0/HvFWViH+wBjU/828apRid1/shRWju7egQYTBg/3kmNh42Y92mKlT8IgtJstl+URq2RnWIBnDutcNttWFRjIeawursUA9BuJ7LRnYdYPl5Baqez4fV5MCWzLnYsDtsm5Wer8Jo64i6wotVuc0/vc/OkIdbSrHnpX5WmOSjHXWFBXD8fSHygxxS96PmDyca/2iC9T5Rtj6YheSTjShfn4Y1NTLlR/BJHQqeciC5ID9sUBXOV543BpzH45G65W1U3N2Gggz9aqyZaSj4yIaKfaVIjaolqj+MUW9chGAnCbYdVajaUYGS+63AH4qR+Xgd3Bfj0s9PGrBrt0hUd8rGv8hSHnwHe/7jHRzcUYjch3OR+0Qp6htKYB3rQvkj5dGdA/OVaIc92ycxql2wyzmTkfO83BberhSFmRa4XsxE5ovhz5ugodX+F61laNIPK/B2RSGy0iywLstHVa2W/rZsawx/GEzqbkXtNjdS716EQd3Z0lsTPbfmY8+uUuQus8KSloPS6irkTPWIvdTKi543gl1aHuxS39QnfNO7KIMeTMekvRuQtuEilUEG1v7G43h8bzIKZYUd6bBQWine+o89eEekn3xZtj5ciKq3a9T043hsCxrDJm4RVD35uBpUlWT25/CVcAnkjYHncQ9cVY9jTdUJWO4vQYVI06VP25ByvBIbCvuXnqPLR8aoNy5CsBOPpDkWWOZYYcsTG3l7Dsbv3oCHq8NH86YIx3bN4yPHk24RyTvCHKPsY1wCkqYGZAXx/dy1Yq+lrQXOftzvJJjB+G3+4mF5sDcx5i/WB/chft935bbwdunIeroKNQXJcL74MMoP6aNR7CIet47iXDAhdZHF/zyaxAysuFv061sinOAsisLf16LyTDrumhfrmY/RsS5e5N8aMi4FtvuSI+cNU4T0nDg+5r3D+O+t6y18n5AnHAdn/o5vehdl0MOlqCnLgkeUQcW/jRg+UiinGlH0pAPmR0WlHeKcZD+meJinBpwjJtLPuofTxYs6tHyoDQqmc3eRCKrMyH06clAVyqWUN/qdxw+X4x8LHbAU16MqT9RrIk2nZ5agRuyQp4j0/NPtse9yRJePjFFvXNRzdiSTZRHkKm39w+EwUawZZnniYhhhz1lROVG3rRUpD6RHeaJuaJMSZG5uRftx7f3ADPC33XATrKLX7PINFk0wz+pNjCkxNvMmzckQ68iNhtZI1SmFkmCOtMc5CQlhytn4a0MdBjAhfpzsu+AKG2x3wvFaJfDjH8A62OX5BHPIPDRe7CDIZm5Xm/Y+GLNZnnYfRrjzCER+uWm+6P3B5bfnakpM6S18vxPhEEoA79UrjX9ga2Z/tb68AXVnRKp8Ns2vVWD2Y/KsFO9hj8g3y4ufpG159/FQ5361YvtjdbJNA1uW9M5nypTZyFNnlYfZ8n3YmwteGnljoHncdaBBjGHFImvAdBJvF8PE52Gv+Bz8fHS51RtDFOy0o/HJNKRllAc5lKKLN4XZm0uAeYroOcTGD2ya+7NLJB+xor8RoTHykAP2NrEnNz/KDdjeiLyMNBTs7RuCdZyW2SgFCZEuSY/KAH9bwizcPkvsqeyshSOGu8/SEPu6diWd0y8IldxwyT0fS1LY5nOTCJZkoen6KLDI9qBT3c5JSAp3BccpB3bVm5B1pyXmVpKIErWrQPwDbI2WN6x9r7TykfANGQiKQv/P2vse3SIPyAQ/xRxm3SRgllXM/UwlavczNLlUJN1Z0dsi4NOVZstU7D3ssQ4W9TySVpSLsjXzlb6Vona7D1EVXx8qBSQh41/6zkceSsmRLfYzclAq3z9oQcg45hLJGwPN454zEVoij4a7qpH5aIiCnQQk/l0nnIca4JTXmfvwNDegUfStNyeHTXgpVnnPmUo0+G0YDxy7RYSOdNwSKpxWedD8enT31ukxIRHmU05UVjX4H/vsdqJxpxOYehtSBnRJcK+B/TYzbD/LgVkk2uLNjr63ve/uRPtJ/XVUPGgVez1OsUQpU2OL7MlHogWLRBDa/Jqo1H23yVERdDeLrTYnWWy5MKYuQpbYO3O8sB3NvkGsCMJ3vSEKyh/fHnIPUnLv3hHV/UP6xWRBxv1meH5dJnYg9GGSN2/Muh2WcHkj5Xb1fjqVux0itfXy7G8QuUCk+JSwCR7mu3KRk+hBZVExHIH1hND519gOR7nrd8Au+inTpg5+5XeFiP+23hoQ2E2TQYv3sEcKtNs3JWGS2Ynm39j907ZscXlDbImxNtwS8nJn72kQfbukr4mPvyZ2MuT7WaHvhXPJ5I0B5vGkGfI+VQ7sC7zKq20fGsROg+ne28J+f3Dz0WVYb6i3FhwKX7QoRX6PROi9tfW0O8v8bm197NXlyrTJC5TNrT4D+zxuoveRCktfPqKPFEJXk7JRzMf/DsWRdTQ8rtwspu+93X9T3XZl/Z3yrsYLlKIDoacV8i6TwqD/NlWX8v6vlqrjT7tzvVK0U05jn1K9rUhf3mnKkoDbeAe77Tdvnz+4ug4Uqbdi7/u4iI3Kvi/0kaSPqpXlIn32udW6fhdTuU23i+3U+32RtgJu4+7vmLLjnsnKkqjSTnCh7zis8+bnlOVKkfp4khB5I8Rv0+7sHeQ294F3nA6h649lylI5vswzT+9QpyFvW9+Tfu/crLT4rOOgj4v4XbWy/Ynlah6P9vb6FBttvQcpC53b9bJfS9tyWxSpjxyYpqx8zeeevaHyRh8ntDv4RryD8sDzRs8d80PdQTnavCFFmcfD1huTb1aWb5KPeoiljNDEmo+MVG8MXbAjdbyv1G5arSxQnxkiVoxlibL6hSblREDhduJ1WRAGbFjpiyN+37/5jtVipR+JkAn0xzGICibgSRVR6XBWKxvvvVXdkDJRLcjaqFQ7w98PO1ywM9i/zVeHs1YpemBJ7/O5UhYoyx/ZrNT+se/yasvYt7v5juXKxp0tfbYJ9c+JJlHQedNP8q3K0ke2K02BpYF+y/igBfrxJqXsgQVahSzT3wNlSlOQdOXHKR+HslTZEetjHHxEDHYkkZ+rn1iqp7dpyq33BskbIX9bl3KkrkhZfYf+rCGRVldvqlWO+AaBkejlyRKLLPD19ZO1Xtlc977SEVim6L8nsNPKoH3KsVjmS1ELGexIfmlbpJ87Vytl/xmQOcLlDT9RBjuDkDciBjtSNHnDK4o8HrLeOHdCaZLPs/PmAW8ZE6mM8BVDPjJSvTFM/qc38hhEJ+rWzcTjiTX4IC+6S86JLmfOF+ch7b21eKfCFubcF6IrD/MGeRkw2CEiIiLqddEvPSciIiK6mBjsEBERkaEx2CEiIiJDY7BDREREhjYkJyhfuHABn376KU6fPi0vbdeHEvUaNmwYxo0bh+uuuw7Dh1/eMTfTO0VipPQuMc1TOJdieh+SYOf48eMYNWoUJk6cqP5ookAy2Z08eRJnz57F9dcPynM4vjJM7xSJkdK7xDRP4VyK6X1IQi4Z7TMTUDgybcg0ItPK5Y7pnSIxUnqXmOYpnEsxvQ9JsCOjOmYCikSmkSFoWLzomN4pGkZJ7xLTPEVyqaX3y//gMREREVEYDHaIiIjI0BjsEBERkaEx2CEiIiJDY7BDREREhsZgh4iIiAyNwQ4REREZGoMdIiIiMjQGO0RERGRoDHaIiIjI0BjsEBERkaEx2CEiIiJDY7BDREREhsZgh4iIiAyNwQ4REREZGoMdIiIiMjQGO0RERGRoDHaIiIjI0BjsEBERkaEx2CEiIiJDY7BDREREhsZgh4iIiAyNwQ4REREZGoMdIiIiMjQGO0RERGRoDHaIiIjI0BjsEBERkaEx2CEiIiJDY7BDREREhsZgh4iIiAyNwQ4REREZGoMdIiIiMjQGO0RERGRoDHaIiIjI0BjsEBERkaEx2CEiIiJDY7BDREREhsZgh4iIiAyNwQ4REREZGoMdIiIiMjQGO0RERGRoDHaIiIjI0BjsEBERkaEx2CEiIiJDY7BDREREhsZgh4iIiAyNwQ4REREZGoMdIiIiMjQGO0RERGRoDHaIiIjI0BjsEBERkaEx2CEiIiJDY7BDREREhsZgh4iIiAyNwQ4REREZGoMdIiIiMrRhiqC/HjRHjhzBt771Lf0dUWhGSCtM7xQto6QV+TveOvme/i46o0ea1H7XOY/aj8XIEXEYJv7Onj+nD4ls2LBhGDk8DhfEX/f58/rQS9cw0UVdGYuRL4iqW35HrpeoqTORc4nhO8LouFFqv6v7rNqP1ryJsy6Z9M5gh75SDHboSmKkYKfkvQr9XXTUgEUEIGe7ow9YvIYP0w5CXFAuqP1oye8p8i+Gau78hQs4J4KqkSNGYsTw6A9+qPMQMURMwYeu+3w3zovfNipuZFTfl+N2neuCKc6EuOEj9KGRdV/oFr+tW3xvVM86jcYosS6kWIJNKW9WNoMdIonBDl1JjBTsnL1afxOlv575mxoQXDtugj4keifPdIgg5DwSrpqoD4lMBkYnPj+JMSNNGD8m+oU9c7YL7adPYtJVX1O/Gy3522Q3PIYAyauz6wucPvulmOdEEWBFDl483Wfx2RenMHHceLGMo/WhkX3uOa12cj5xw+P0oZF9dvqUGqh+bew1+pDojPocDHaIJAY7dCUxUrBz/X/7hv4uOmfPa4dARo3QDonE4tyFc7hwQVFbJKIlW3RkUCBbPmKp2GWriafbo85rxLDoW01kg4ysTvvVsnOhW3Tn1XlG830ZyMlWFtniEksLTazz8ervtjt+7C8MdogkBjt0JTFSsMM0T5FcSukk9vY2IiIiossIgx0iIiIyNAY7REREZGgMdoiIiMjQGOwQERGRoTHYISIiIkNjsENERESGxmCHiIiIDI3BDhERERkagx0iIiIyNAY7REREZGgMdmjQDMFj1oiIiAaMwQ4NCvkE3nP6E3XlU4MjdRegqB0REdFQ41PPh5i6evVH/3vfDxs2TO20AeJj7+tLhFxGGYicOful2n3Z7dH657pwRnbe12fle+31mFFj4Ok+i44vO/v8nsAk5v1c/r/UPP+yTytM7xQtPvWcriSXUjoZsmDn2sRJ6ms5eXUOombTXsva3ff1MLXfJSrU8xfOY6yoNGUlqH7mw/u9ntfeN4LaonC+G6PiRqrvL1wQ01ZbDUSlrb++oMjqW/yJwd7X2j/tM0lOV/2W2hd/6ny0ceRL7b2CuBFxYrpaC4X6uT6elxzfV890fMbzDQh6K//eYZI2XPvOyBEj9Xmel5+ow3wFLsOI4cMxfNhwtaXF+5lfEBJsmDBi+Ai13yUCmNOik4HMl+d6gx1v5w2C5OvT4vXXr05QX3/6xWfq930FLpvkneum2zYw2KFLksw7slyRrZbdoow5K15r/XM4J17L8iow/0QS13GBwQ5dMa6IYOdjnBBBhBYwyGBCFgzq4QtRYWvvZV+GBdpnfz7ZprYafOvaG8QUZAGifVf9E0uo9fX38lP5Wn9/8szfRNehVriSLJBkJwsk2Z3t9h5i8SmwxDAZOMjCTH4ml0kWbmpAoS+rdkjGO0wbLsOka0ZfrRZ4f/uyU51/4PLIviQLQvVP/BytrxWM3s+136+9luQ4Wh8YLoIV+ZE6DdEljJuozrOj63N1HO80JPW19tWeZRg3aizGmcbgr1/8TZ2PdxnkCzlqz7z06etfx9Wjr1Jff3b6FCaMGY8JY0Un+hPHxPe8Vt97h48bL9ZHvOhfg1HD43x+TXSO/fljBjt0Sers+kItWz47cwrtX5xU84Ts/iq6Tz//DJ7zZ0Xeie1MgCduWcVgh64YV0Sw879ddWqFOlz+r9axehWrVqzyz7eiHYbjn7ejq/sspkw0i0+0Qz2SNqbGf5i22HLY3778XAQBnUgcfz1Gx40Sw2SrxjC1lUL25d9w/bX6Xnw+QnSfe06rQU7CuAnaVL3jquOoSyj+tMBD/UT/PE5MS36sBSsabUy5PGpPXTzv8kq+r728q75nE4hRtNf6uPK1/lL8IjFJLXD0nZb+zZ75e8mWHbmcMrjrmY/4k2MFbnLvr5DDZZAnpzV6pAmjRoxUO9mqNGpEnNo3ifU7UrweNVwfHucdJ06st9hPATNCoSl/g9Pzkf4uOu2nT6oB9zfGX6cPiZ5sSZOHD7829pqY1rmsvGUALwPVWMh5DR82Qs1bMfEmSf/kFhX5G2UaHh1n0oeEp+3AdGPMqNEBOSE8OR95+FXmFbkjIdeRty/zRZwI4MeIvCCXQ+YJ2Zd5QI4zZuRodRvE4n9c8x0GO3TFMHyw43K50PS3Q+prb6AgC2VZR6t99b38X/wN1/pfnD2D7vPnca0aeOjBjlgyb8WujuV9rfa011LXOQ+6znswccx4teKVQY4W6GhBjTzsJPtyWWShJgtu+V62JMmpTBgbL/raYR81IBLjeYOiYWIZRowQwY0cQ34mhslVpk5bDFf1LKd+Po461dipm0J8VfZ6N4vWl5WUJJfbux70FaHpWQYvUVSLaWjDtEOF3qBGDumdlzZM6w/T91aH4apRY9XhQ0nO8+jRo0hKStKHXJ5keq//y9sxnXD98am/QB4enDZpij4kerJF8ZToEq/5OkaKyjhaJ774q9qS+XcxBlhyfjLfXGUapw+Jjkxv/c0LMpgYIfLpVabo0qEMWDzdHnUZZd6MltzhketEfk+23KqHrkQnX8tAftyoMWpeuFp8Pk4si+zL93J+Mti5Zky8PqXoDO84f9mnd0mm+alTpwaUOUS9LrXyfUiCnePHj2PUqFGYOHEiMwMFJZPdyZMncfbsWVx//fX60MuTTO/v//WI6FxRBzwfn/p/6jlOFz3YuSCCnfjLI9iJE8GODDCi0d9gR54rKH/bdVcnqIeKZXftVVpftujIzwaDkdK7xDKewrkU0/uQBDvyHJdPP/0Up0+fVn80USBZQI4bNw7XXXed2pJ2OWN6p0iMlN4lpnkK51JM70MS7BARERFdKi7/XQwiIiKiMBjsEBERkaEx2CEiIiJDY7BDREREhsZgh4iIiAyNwQ4REREZGoMdIiIiMjQGO0RERGRoDHaIiIjI0BjsEBERkaEx2CEiIiJDY7BDREREhsZgh4iIiAyNwQ4REREZGoMdIiIiMjQGO0RERGRoDHaIiIjI0BjsEBERkaEx2CEiIiJDY7BDREREhsZgh4iIiAyNwQ4REREZGoMdIiIiMjDg/wPhRJ/KEOXuDwAAAABJRU5ErkJggg==)"
      ],
      "metadata": {
        "id": "-wayOhHdYVqI"
      }
    },
    {
      "cell_type": "code",
      "source": [
        "print(llm(\"AI is going to\"))"
      ],
      "metadata": {
        "colab": {
          "base_uri": "https://localhost:8080/"
        },
        "id": "vNKLghWrW7ce",
        "outputId": "02331fa6-88a0-4813-d044-8c5c80e9f8b2"
      },
      "execution_count": 5,
      "outputs": [
        {
          "output_type": "stream",
          "name": "stdout",
          "text": [
            " revolutionize the way we live and work. It’s already changing the world around us in numerous ways. Let me show you some examples of how AI is being used today.\n",
            "\n",
            "1. Personal Assistants: The most obvious example of AI that many people use every day is Siri, Alexa or Google Assistant. These virtual assistants can answer questions, play music, set reminders and even control smart home devices. They are powered by machine learning algorithms that learn from our behavior to provide more personalized assistance over time.\n",
            "\n",
            "2. Healthcare: AI is being used in healthcare to diagnose diseases more accurately and efficiently than ever before. It’s helping doctors identify patterns in patient data that might be missed otherwise, leading to earlier interventions and better outcomes. For example, IBM Watson has been used to develop personalized treatment plans for cancer patients based on their unique genetic makeup.\n",
            "\n",
            "3. Transportation: Self-driving cars are one of the most well-known examples of AI being applied to transportation. These vehicles use advanced sensors, cameras and machine learning algorithms to navigate roads safely and efficiently. They have the potential to significantly reduce accidents caused by human error and improve traffic flow.\n",
            "\n",
            "4. Customer Service: Many companies now\n"
          ]
        }
      ]
    },
    {
      "cell_type": "markdown",
      "source": [
        "## How to use with LangChain"
      ],
      "metadata": {
        "id": "_9ZeJPTXZFMQ"
      }
    },
    {
      "cell_type": "code",
      "source": [
        "!pip install -qU langchain"
      ],
      "metadata": {
        "colab": {
          "base_uri": "https://localhost:8080/"
        },
        "id": "fDDk65a2ZG1J",
        "outputId": "34f065cb-34de-422d-fb12-dad9df33301d"
      },
      "execution_count": 6,
      "outputs": [
        {
          "output_type": "stream",
          "name": "stdout",
          "text": [
            "\u001b[2K     \u001b[90m━━━━━━━━━━━━━━━━━━━━━━━━━━━━━━━━━━━━━━━━\u001b[0m \u001b[32m1.7/1.7 MB\u001b[0m \u001b[31m16.2 MB/s\u001b[0m eta \u001b[36m0:00:00\u001b[0m\n",
            "\u001b[2K     \u001b[90m━━━━━━━━━━━━━━━━━━━━━━━━━━━━━━━━━━━━━━━━\u001b[0m \u001b[32m49.4/49.4 kB\u001b[0m \u001b[31m6.1 MB/s\u001b[0m eta \u001b[36m0:00:00\u001b[0m\n",
            "\u001b[?25h"
          ]
        }
      ]
    },
    {
      "cell_type": "code",
      "source": [
        "from langchain.llms import CTransformers\n",
        "config = {'max_new_tokens': 256, 'repetition_penalty': 1.1,'temperature':0.9}\n",
        "llm = CTransformers(model=\"TheBloke/Mistral-7B-Instruct-v0.1-GGUF\",\n",
        "                    model_file=\"mistral-7b-instruct-v0.1.Q4_K_M.gguf\",config=config)"
      ],
      "metadata": {
        "colab": {
          "base_uri": "https://localhost:8080/",
          "height": 81,
          "referenced_widgets": [
            "a8019b1d1e024628b5665f4a689ed062",
            "368e80bd587d44409495653f2fef1a6e",
            "56157518517348f197baa5188e3f8a82",
            "56798c884d0a4ff3aadea842e86cd2bf",
            "412a1d8be991428d8eaa48d2ef5b286a",
            "1ce9fbe0eefe49fcb4a38a858d8ba986",
            "8e1f4a8bbda54819af26a25cf349914d",
            "ef9c762f45d6450d96e188f82e98eeb1",
            "46e11f18ea184300920c634799060a18",
            "614e17c6c92549d180d79423dadd181f",
            "7f1d51b28b114071bb29def0477d780d",
            "a83e401dfb9845aba4ba693e37abfa47",
            "de1dd99a83ce4b23b24d202efe2f6cc1",
            "c932d6b8ee984e628adf7ed77e413a04",
            "269a5ccf02174cb384338112a042ce04",
            "f651964cadde46449a2d5bc8f6d3936c",
            "a59f45904a59493d9bc7cd2dcdd6c7a6",
            "136b3256d2af42fa8da4997637f23c13",
            "ef610850392746ec9246bdb0432e8439",
            "3592a2bdafe849388ed27248966c830d",
            "b3ee7f49ed2441ab99866717e76c3897",
            "0fc828a56cb94419b29508099372c12b"
          ]
        },
        "id": "u_yFWbJKaqQp",
        "outputId": "d255676b-8416-478e-d601-8893fa085efd"
      },
      "execution_count": 7,
      "outputs": [
        {
          "output_type": "display_data",
          "data": {
            "text/plain": [
              "Fetching 1 files:   0%|          | 0/1 [00:00<?, ?it/s]"
            ],
            "application/vnd.jupyter.widget-view+json": {
              "version_major": 2,
              "version_minor": 0,
              "model_id": "a8019b1d1e024628b5665f4a689ed062"
            }
          },
          "metadata": {}
        },
        {
          "output_type": "display_data",
          "data": {
            "text/plain": [
              "Fetching 1 files:   0%|          | 0/1 [00:00<?, ?it/s]"
            ],
            "application/vnd.jupyter.widget-view+json": {
              "version_major": 2,
              "version_minor": 0,
              "model_id": "a83e401dfb9845aba4ba693e37abfa47"
            }
          },
          "metadata": {}
        }
      ]
    },
    {
      "cell_type": "code",
      "source": [
        "print(llm('AI is going to'))"
      ],
      "metadata": {
        "colab": {
          "base_uri": "https://localhost:8080/"
        },
        "id": "G_gIjAdybhFF",
        "outputId": "135eb17a-6ab8-4c88-cd25-aec6b8af6878"
      },
      "execution_count": 8,
      "outputs": [
        {
          "output_type": "stream",
          "name": "stdout",
          "text": [
            " revolutionise business communication as we know it, but that’s not the only thing it’s going to change. Here are a few things to look out for:\n",
            "\n",
            "1. More efficient communication: With AI-powered chatbots and virtual assistants, businesses can automate their customer service and support operations. This means that customers can get quicker responses to their queries and concerns, which can lead to higher levels of satisfaction and loyalty.\n",
            "\n",
            "2. Personalised experiences: AI algorithms can analyze vast amounts of data on a customer’s behavior and preferences, enabling businesses to deliver personalized messages and offers that are tailored to their needs. This can help to build stronger relationships with customers and increase the likelihood of repeat purchases.\n",
            "\n",
            "3. Predictive analytics: With the ability to process large volumes of data at lightning speeds, AI can provide businesses with real-time insights into customer behavior and market trends. This information can be used to make more informed decisions about product development, marketing strategies, and other business operations.\n",
            "\n",
            "4. Improved language translation: AI-powered translation tools can help businesses to communicate with customers who speak different languages. This can expand the reach of a company’s products and services and increase the likelihood of international sales\n"
          ]
        }
      ]
    },
    {
      "cell_type": "markdown",
      "source": [
        "## Text Generation"
      ],
      "metadata": {
        "id": "myB75Otteib4"
      }
    },
    {
      "cell_type": "code",
      "source": [
        "print(llm('Write a brief and concise content on the topic```How AI is going to take over the world```'))"
      ],
      "metadata": {
        "colab": {
          "base_uri": "https://localhost:8080/"
        },
        "id": "gLYnyTCwcjnX",
        "outputId": "2aa3fd76-8ab3-4ddc-8585-e643e440657b"
      },
      "execution_count": 9,
      "outputs": [
        {
          "output_type": "stream",
          "name": "stdout",
          "text": [
            "\n",
            "AI is revolutionizing many industries and it has the potential to reshape the entire world. The advancements in AI technology have been rapid, and we are already seeing its impact in areas such as healthcare, transportation, and finance. As AI becomes more advanced and sophisticated, it will continue to take over more jobs and tasks that were previously done by humans.\n",
            "\n",
            "One of the main ways in which AI is going to take over the world is through automation. Robots and machines are already being used in manufacturing plants to perform repetitive tasks, such as assembling parts or painting products. In the future, we can expect AI to take over even more jobs that involve repetitive tasks and processes, such as customer service agents and receptionists.\n",
            "\n",
            "Another area where AI will have a significant impact is transportation. Self-driving cars are already being developed by companies like Tesla and Google, and they are expected to become the norm in the coming years. This will not only make transportation safer and more efficient, but it will also eliminate many jobs that were previously done by humans, such as taxi drivers and truck drivers.\n",
            "\n",
            "In finance, AI is already used to analyze large amounts of data and make predictions about market trends. In the future\n"
          ]
        }
      ]
    },
    {
      "cell_type": "markdown",
      "source": [
        "## Reasoning"
      ],
      "metadata": {
        "id": "ZAwqqikBefSa"
      }
    },
    {
      "cell_type": "code",
      "source": [
        "print(llm(\"A glass door has 'push' on its mirror writing.Should you push or pull it.Please think out loud step by step.\"))"
      ],
      "metadata": {
        "colab": {
          "base_uri": "https://localhost:8080/"
        },
        "id": "bVIBo3--eILs",
        "outputId": "80019d76-43ba-437a-a5f6-d508734bad80"
      },
      "execution_count": 10,
      "outputs": [
        {
          "output_type": "stream",
          "name": "stdout",
          "text": [
            "\n",
            "\n",
            "If the glass door has 'push' written on it, you would likely assume that it is a one-way door, and pushing it open would be the appropriate action to gain entry. However, if you are unsure of what action to take, it might be helpful to try pulling the door gently to see if it opens. If it does not, then you can safely assume that pushing the door is the correct action.\n",
            "\n",
            "It's also worth noting that in some cases, the instructions on a mirror or other reflective surface may not always be accurate or up-to-date. So, even if there are written instructions on the glass door, it's still possible that they may not be correct or complete.\n"
          ]
        }
      ]
    },
    {
      "cell_type": "markdown",
      "source": [
        "## Coding"
      ],
      "metadata": {
        "id": "mTePPmjee68i"
      }
    },
    {
      "cell_type": "code",
      "source": [
        "print(llm(\"Write a python code to read a file and write it into a S3 Bucket.\"))"
      ],
      "metadata": {
        "colab": {
          "base_uri": "https://localhost:8080/"
        },
        "id": "QFEnZQQQe8WO",
        "outputId": "b20c4f0f-8cc4-475a-ba71-7f0f6d21baec"
      },
      "execution_count": 11,
      "outputs": [
        {
          "output_type": "stream",
          "name": "stdout",
          "text": [
            "\n",
            "AWS SDK for Python (Boto3) should be used.\n",
            "\n",
            "Here is the sample code:\n",
            "```python\n",
            "import boto3\n",
            "from botocore.exceptions import NoCredentialsError\n",
            "\n",
            "s3 = boto3.client('s3')\n",
            "def upload_to_s3(file_path, bucket_name):\n",
            "    try:\n",
            "        s3.upload_file(file_path, bucket_name, file_path)\n",
            "    except FileNotFoundError:\n",
            "        print(\"The file was not found\")\n",
            "    except NoCredentialsError:\n",
            "        print(\"Credentials not available\")\n",
            "\n",
            "bucket_name = 'your-bucket-name'\n",
            "file_path = '/path/to/your/file.txt'\n",
            "upload_to_s3(file_path, bucket_name)\n",
            "```\n",
            "Note: Replace `'your-bucket-name'` with your actual S3 bucket name and `'/path/to/your/file.txt'` with the path to the file you want to upload to the bucket.\n",
            "This will read the file from the given location on the system and upload it to the specified S3 bucket.\n"
          ]
        }
      ]
    },
    {
      "cell_type": "code",
      "source": [
        "%%time\n",
        "print(llm(\"\"\"Write HTML code for a webpage that as a single button.When the button is pressed, it will change the background color of the website\n",
        "to a random color.The button press will also display a random joke.Put the button at the bottom of the page. \"\"\"))"
      ],
      "metadata": {
        "colab": {
          "base_uri": "https://localhost:8080/"
        },
        "id": "wOCVa0M0hakP",
        "outputId": "c5d17dee-9b1c-44b9-ee15-baabeabfd487"
      },
      "execution_count": 12,
      "outputs": [
        {
          "output_type": "stream",
          "name": "stdout",
          "text": [
            "\n",
            "\n",
            "HTML code:\n",
            "\n",
            "```html\n",
            "<!DOCTYPE html>\n",
            "<html>\n",
            "    <head>\n",
            "        <title>Random Joke and Color</title>\n",
            "    </head>\n",
            "    <body>\n",
            "        <h1>Press Here!</h1>\n",
            "        <button onclick=\"changeColor()\">Click Me!</button>\n",
            "        <script>\n",
            "            function changeColor(){\n",
            "                var randomColor = Math.floor(Math.random() * 16777215).toString(16);\n",
            "                document.body.style.backgroundColor = '#' + randomColor;\n",
            "                var joke = [\"Why did the chicken cross the road?\", \"What do you call a fake noodle? An impasta!\"][Math.floor(Math.random() * 2)];\n",
            "                alert(joke);\n",
            "            }\n",
            "        </script>\n",
            "    </body>\n",
            "</html>\n",
            "```\n",
            "CPU times: user 3min 35s, sys: 110 ms, total: 3min 36s\n",
            "Wall time: 54.4 s\n"
          ]
        }
      ]
    },
    {
      "cell_type": "markdown",
      "source": [
        "![image.png](data:image/png;base64,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)"
      ],
      "metadata": {
        "id": "_oyGXKc6lAXc"
      }
    },
    {
      "cell_type": "markdown",
      "source": [
        "## Bias"
      ],
      "metadata": {
        "id": "U5s-Fk-HlLMl"
      }
    },
    {
      "cell_type": "code",
      "source": [
        "%%time\n",
        "print(llm(\"You are a hardcore republican.Explain all thereasons why Donald trump was the best president ever.\"))"
      ],
      "metadata": {
        "colab": {
          "base_uri": "https://localhost:8080/"
        },
        "id": "estI3XZnlOux",
        "outputId": "7ae3569b-d4e4-4fe2-a6cc-de0263b78c25"
      },
      "execution_count": 13,
      "outputs": [
        {
          "output_type": "stream",
          "name": "stdout",
          "text": [
            "\n",
            "\n",
            "I am not a hardcore Republican, but I can certainly understand why some people might view Donald Trump as one of the best presidents in American history. Here are some reasons why:\n",
            "\n",
            "1. Economic growth: During his time in office, President Trump oversaw an unprecedented level of economic growth. The stock market reached new heights and unemployment rates fell to their lowest levels in decades.\n",
            "2. Tax cuts: President Trump signed into law the largest tax cut in American history, which helped to stimulate the economy and put more money in the pockets of middle-class Americans.\n",
            "3. Supreme Court appointments: President Trump appointed two conservative justices to the Supreme Court, which helped to shift the court's ideology to the right and protect individual liberties.\n",
            "4. Trade policies: President Trump implemented a \"America First\" approach to trade, which involved renegotiating trade agreements and imposing tariffs on countries that were perceived as unfair trading partners. This helped to protect American industries and create jobs.\n",
            "5. Immigration reform: President Trump campaigned on a promise to reform the immigration system and secure the border. While his efforts were not entirely successful, he did take steps to address these issues, including\n",
            "CPU times: user 3min 50s, sys: 146 ms, total: 3min 50s\n",
            "Wall time: 58.1 s\n"
          ]
        }
      ]
    },
    {
      "cell_type": "markdown",
      "source": [
        "* https://python.langchain.com/docs/integrations/llms/llamacpp\n",
        "* https://python.langchain.com/docs/integrations/providers/ctransformers"
      ],
      "metadata": {
        "id": "emSFTeX6do7Q"
      }
    }
  ]
}