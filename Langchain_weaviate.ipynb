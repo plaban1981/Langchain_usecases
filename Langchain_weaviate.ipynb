{
  "nbformat": 4,
  "nbformat_minor": 0,
  "metadata": {
    "colab": {
      "provenance": [],
      "authorship_tag": "ABX9TyNJmqkp1kiMAxqEIG+Cad4d",
      "include_colab_link": true
    },
    "kernelspec": {
      "name": "python3",
      "display_name": "Python 3"
    },
    "language_info": {
      "name": "python"
    }
  },
  "cells": [
    {
      "cell_type": "markdown",
      "metadata": {
        "id": "view-in-github",
        "colab_type": "text"
      },
      "source": [
        "<a href=\"https://colab.research.google.com/github/plaban1981/Langchain_usecases/blob/main/Langchain_weaviate.ipynb\" target=\"_parent\"><img src=\"https://colab.research.google.com/assets/colab-badge.svg\" alt=\"Open In Colab\"/></a>"
      ]
    },
    {
      "cell_type": "code",
      "execution_count": 1,
      "metadata": {
        "colab": {
          "base_uri": "https://localhost:8080/"
        },
        "id": "hsZPw6IwYOdJ",
        "outputId": "0862bf92-8b08-487e-ea2d-838520c91d0f"
      },
      "outputs": [
        {
          "output_type": "stream",
          "name": "stdout",
          "text": [
            "Collecting weaviate-client\n",
            "  Downloading weaviate_client-3.22.1-py3-none-any.whl (101 kB)\n",
            "\u001b[2K     \u001b[90m━━━━━━━━━━━━━━━━━━━━━━━━━━━━━━━━━━━━━━━\u001b[0m \u001b[32m101.8/101.8 kB\u001b[0m \u001b[31m1.3 MB/s\u001b[0m eta \u001b[36m0:00:00\u001b[0m\n",
            "\u001b[?25hCollecting requests<=2.31.0,>=2.28.0 (from weaviate-client)\n",
            "  Downloading requests-2.31.0-py3-none-any.whl (62 kB)\n",
            "\u001b[2K     \u001b[90m━━━━━━━━━━━━━━━━━━━━━━━━━━━━━━━━━━━━━━━━\u001b[0m \u001b[32m62.6/62.6 kB\u001b[0m \u001b[31m4.0 MB/s\u001b[0m eta \u001b[36m0:00:00\u001b[0m\n",
            "\u001b[?25hCollecting validators<=0.21.0,>=0.18.2 (from weaviate-client)\n",
            "  Downloading validators-0.20.0.tar.gz (30 kB)\n",
            "  Preparing metadata (setup.py) ... \u001b[?25l\u001b[?25hdone\n",
            "Requirement already satisfied: tqdm<5.0.0,>=4.59.0 in /usr/local/lib/python3.10/dist-packages (from weaviate-client) (4.65.0)\n",
            "Collecting authlib>=1.1.0 (from weaviate-client)\n",
            "  Downloading Authlib-1.2.1-py2.py3-none-any.whl (215 kB)\n",
            "\u001b[2K     \u001b[90m━━━━━━━━━━━━━━━━━━━━━━━━━━━━━━━━━━━━━━━\u001b[0m \u001b[32m215.3/215.3 kB\u001b[0m \u001b[31m9.8 MB/s\u001b[0m eta \u001b[36m0:00:00\u001b[0m\n",
            "\u001b[?25hRequirement already satisfied: cryptography>=3.2 in /usr/lib/python3/dist-packages (from authlib>=1.1.0->weaviate-client) (3.4.8)\n",
            "Requirement already satisfied: charset-normalizer<4,>=2 in /usr/local/lib/python3.10/dist-packages (from requests<=2.31.0,>=2.28.0->weaviate-client) (2.0.12)\n",
            "Requirement already satisfied: idna<4,>=2.5 in /usr/local/lib/python3.10/dist-packages (from requests<=2.31.0,>=2.28.0->weaviate-client) (3.4)\n",
            "Requirement already satisfied: urllib3<3,>=1.21.1 in /usr/local/lib/python3.10/dist-packages (from requests<=2.31.0,>=2.28.0->weaviate-client) (1.26.16)\n",
            "Requirement already satisfied: certifi>=2017.4.17 in /usr/local/lib/python3.10/dist-packages (from requests<=2.31.0,>=2.28.0->weaviate-client) (2023.7.22)\n",
            "Requirement already satisfied: decorator>=3.4.0 in /usr/local/lib/python3.10/dist-packages (from validators<=0.21.0,>=0.18.2->weaviate-client) (4.4.2)\n",
            "Building wheels for collected packages: validators\n",
            "  Building wheel for validators (setup.py) ... \u001b[?25l\u001b[?25hdone\n",
            "  Created wheel for validators: filename=validators-0.20.0-py3-none-any.whl size=19580 sha256=9d215c2193338cae027078d998f0410b941005eb3c0f78357dac5cfd00ce6d6d\n",
            "  Stored in directory: /root/.cache/pip/wheels/f2/ed/dd/d3a556ad245ef9dc570c6bcd2f22886d17b0b408dd3bbb9ac3\n",
            "Successfully built validators\n",
            "Installing collected packages: validators, requests, authlib, weaviate-client\n",
            "  Attempting uninstall: requests\n",
            "    Found existing installation: requests 2.27.1\n",
            "    Uninstalling requests-2.27.1:\n",
            "      Successfully uninstalled requests-2.27.1\n",
            "\u001b[31mERROR: pip's dependency resolver does not currently take into account all the packages that are installed. This behaviour is the source of the following dependency conflicts.\n",
            "google-colab 1.0.0 requires requests==2.27.1, but you have requests 2.31.0 which is incompatible.\u001b[0m\u001b[31m\n",
            "\u001b[0mSuccessfully installed authlib-1.2.1 requests-2.31.0 validators-0.20.0 weaviate-client-3.22.1\n"
          ]
        }
      ],
      "source": [
        "! pip install weaviate-client"
      ]
    },
    {
      "cell_type": "code",
      "source": [
        "!pip install -qU openai langchain tiktoken"
      ],
      "metadata": {
        "colab": {
          "base_uri": "https://localhost:8080/"
        },
        "id": "-DxplgyrZkFR",
        "outputId": "9160acac-3fbd-4f2c-d2fd-46b0741d1321"
      },
      "execution_count": 18,
      "outputs": [
        {
          "output_type": "stream",
          "name": "stdout",
          "text": [
            "\u001b[?25l     \u001b[90m━━━━━━━━━━━━━━━━━━━━━━━━━━━━━━━━━━━━━━━━\u001b[0m \u001b[32m0.0/1.7 MB\u001b[0m \u001b[31m?\u001b[0m eta \u001b[36m-:--:--\u001b[0m\r\u001b[2K     \u001b[91m━━\u001b[0m\u001b[90m╺\u001b[0m\u001b[90m━━━━━━━━━━━━━━━━━━━━━━━━━━━━━━━━━━━━━\u001b[0m \u001b[32m0.1/1.7 MB\u001b[0m \u001b[31m2.6 MB/s\u001b[0m eta \u001b[36m0:00:01\u001b[0m\r\u001b[2K     \u001b[91m━━━━━━━━━━━━━━━━━━━━\u001b[0m\u001b[91m╸\u001b[0m\u001b[90m━━━━━━━━━━━━━━━━━━━\u001b[0m \u001b[32m0.9/1.7 MB\u001b[0m \u001b[31m13.0 MB/s\u001b[0m eta \u001b[36m0:00:01\u001b[0m\r\u001b[2K     \u001b[90m━━━━━━━━━━━━━━━━━━━━━━━━━━━━━━━━━━━━━━━━\u001b[0m \u001b[32m1.7/1.7 MB\u001b[0m \u001b[31m17.1 MB/s\u001b[0m eta \u001b[36m0:00:00\u001b[0m\n",
            "\u001b[?25h"
          ]
        }
      ]
    },
    {
      "cell_type": "code",
      "source": [
        "!apt install tesseract-ocr"
      ],
      "metadata": {
        "colab": {
          "base_uri": "https://localhost:8080/"
        },
        "id": "0_9xxppckHDE",
        "outputId": "be96281d-c8d6-43f0-bcaf-58f337434068"
      },
      "execution_count": 5,
      "outputs": [
        {
          "output_type": "stream",
          "name": "stdout",
          "text": [
            "Reading package lists... Done\n",
            "Building dependency tree... Done\n",
            "Reading state information... Done\n",
            "The following additional packages will be installed:\n",
            "  tesseract-ocr-eng tesseract-ocr-osd\n",
            "The following NEW packages will be installed:\n",
            "  tesseract-ocr tesseract-ocr-eng tesseract-ocr-osd\n",
            "0 upgraded, 3 newly installed, 0 to remove and 9 not upgraded.\n",
            "Need to get 4,816 kB of archives.\n",
            "After this operation, 15.6 MB of additional disk space will be used.\n",
            "Get:1 http://archive.ubuntu.com/ubuntu jammy/universe amd64 tesseract-ocr-eng all 1:4.00~git30-7274cfa-1.1 [1,591 kB]\n",
            "Get:2 http://archive.ubuntu.com/ubuntu jammy/universe amd64 tesseract-ocr-osd all 1:4.00~git30-7274cfa-1.1 [2,990 kB]\n",
            "Get:3 http://archive.ubuntu.com/ubuntu jammy/universe amd64 tesseract-ocr amd64 4.1.1-2.1build1 [236 kB]\n",
            "Fetched 4,816 kB in 1s (4,257 kB/s)\n",
            "Selecting previously unselected package tesseract-ocr-eng.\n",
            "(Reading database ... 120493 files and directories currently installed.)\n",
            "Preparing to unpack .../tesseract-ocr-eng_1%3a4.00~git30-7274cfa-1.1_all.deb ...\n",
            "Unpacking tesseract-ocr-eng (1:4.00~git30-7274cfa-1.1) ...\n",
            "Selecting previously unselected package tesseract-ocr-osd.\n",
            "Preparing to unpack .../tesseract-ocr-osd_1%3a4.00~git30-7274cfa-1.1_all.deb ...\n",
            "Unpacking tesseract-ocr-osd (1:4.00~git30-7274cfa-1.1) ...\n",
            "Selecting previously unselected package tesseract-ocr.\n",
            "Preparing to unpack .../tesseract-ocr_4.1.1-2.1build1_amd64.deb ...\n",
            "Unpacking tesseract-ocr (4.1.1-2.1build1) ...\n",
            "Setting up tesseract-ocr-eng (1:4.00~git30-7274cfa-1.1) ...\n",
            "Setting up tesseract-ocr-osd (1:4.00~git30-7274cfa-1.1) ...\n",
            "Setting up tesseract-ocr (4.1.1-2.1build1) ...\n",
            "Processing triggers for man-db (2.10.2-1) ...\n"
          ]
        }
      ]
    },
    {
      "cell_type": "code",
      "source": [
        "! apt-get install poppler-utils"
      ],
      "metadata": {
        "colab": {
          "base_uri": "https://localhost:8080/"
        },
        "id": "s8lbYp9TkKFT",
        "outputId": "987f5e6a-6733-4f75-f9fc-c777279e5cb0"
      },
      "execution_count": 6,
      "outputs": [
        {
          "output_type": "stream",
          "name": "stdout",
          "text": [
            "Reading package lists... Done\n",
            "Building dependency tree... Done\n",
            "Reading state information... Done\n",
            "The following NEW packages will be installed:\n",
            "  poppler-utils\n",
            "0 upgraded, 1 newly installed, 0 to remove and 9 not upgraded.\n",
            "Need to get 186 kB of archives.\n",
            "After this operation, 696 kB of additional disk space will be used.\n",
            "Get:1 http://archive.ubuntu.com/ubuntu jammy-updates/main amd64 poppler-utils amd64 22.02.0-2ubuntu0.1 [186 kB]\n",
            "Fetched 186 kB in 0s (820 kB/s)\n",
            "Selecting previously unselected package poppler-utils.\n",
            "(Reading database ... 120540 files and directories currently installed.)\n",
            "Preparing to unpack .../poppler-utils_22.02.0-2ubuntu0.1_amd64.deb ...\n",
            "Unpacking poppler-utils (22.02.0-2ubuntu0.1) ...\n",
            "Setting up poppler-utils (22.02.0-2ubuntu0.1) ...\n",
            "Processing triggers for man-db (2.10.2-1) ...\n"
          ]
        }
      ]
    },
    {
      "cell_type": "code",
      "source": [
        "! pip install -U pytesseract"
      ],
      "metadata": {
        "colab": {
          "base_uri": "https://localhost:8080/"
        },
        "id": "QZzCxO8YkNuu",
        "outputId": "20de4efe-fe5f-4f89-89bf-66ff132d4fa5"
      },
      "execution_count": 7,
      "outputs": [
        {
          "output_type": "stream",
          "name": "stdout",
          "text": [
            "Collecting pytesseract\n",
            "  Downloading pytesseract-0.3.10-py3-none-any.whl (14 kB)\n",
            "Requirement already satisfied: packaging>=21.3 in /usr/local/lib/python3.10/dist-packages (from pytesseract) (23.1)\n",
            "Requirement already satisfied: Pillow>=8.0.0 in /usr/local/lib/python3.10/dist-packages (from pytesseract) (9.4.0)\n",
            "Installing collected packages: pytesseract\n",
            "Successfully installed pytesseract-0.3.10\n"
          ]
        }
      ]
    },
    {
      "cell_type": "code",
      "source": [
        "! pip install pdf2image"
      ],
      "metadata": {
        "colab": {
          "base_uri": "https://localhost:8080/"
        },
        "id": "qZx1mGZvkaUu",
        "outputId": "dce3e27d-a4d9-4e9d-ea3b-621243aad450"
      },
      "execution_count": 8,
      "outputs": [
        {
          "output_type": "stream",
          "name": "stdout",
          "text": [
            "Collecting pdf2image\n",
            "  Downloading pdf2image-1.16.3-py3-none-any.whl (11 kB)\n",
            "Requirement already satisfied: pillow in /usr/local/lib/python3.10/dist-packages (from pdf2image) (9.4.0)\n",
            "Installing collected packages: pdf2image\n",
            "Successfully installed pdf2image-1.16.3\n"
          ]
        }
      ]
    },
    {
      "cell_type": "code",
      "source": [
        "! pip install -qU PyPDF2"
      ],
      "metadata": {
        "colab": {
          "base_uri": "https://localhost:8080/"
        },
        "id": "khKaTU3MngbA",
        "outputId": "d96b177f-5823-4d32-995b-fd0af9a1d5ed"
      },
      "execution_count": 11,
      "outputs": [
        {
          "output_type": "stream",
          "name": "stdout",
          "text": [
            "\u001b[?25l     \u001b[90m━━━━━━━━━━━━━━━━━━━━━━━━━━━━━━━━━━━━━━━━\u001b[0m \u001b[32m0.0/232.6 kB\u001b[0m \u001b[31m?\u001b[0m eta \u001b[36m-:--:--\u001b[0m\r\u001b[2K     \u001b[91m━━━━━━━\u001b[0m\u001b[90m╺\u001b[0m\u001b[90m━━━━━━━━━━━━━━━━━━━━━━━━━━━━━━━━\u001b[0m \u001b[32m41.0/232.6 kB\u001b[0m \u001b[31m1.0 MB/s\u001b[0m eta \u001b[36m0:00:01\u001b[0m\r\u001b[2K     \u001b[91m━━━━━━━━━━━━━━━━━━━━━━━━━━━━━━━━━━━━━\u001b[0m\u001b[91m╸\u001b[0m\u001b[90m━\u001b[0m \u001b[32m225.3/232.6 kB\u001b[0m \u001b[31m3.7 MB/s\u001b[0m eta \u001b[36m0:00:01\u001b[0m\r\u001b[2K     \u001b[90m━━━━━━━━━━━━━━━━━━━━━━━━━━━━━━━━━━━━━━━\u001b[0m \u001b[32m232.6/232.6 kB\u001b[0m \u001b[31m2.9 MB/s\u001b[0m eta \u001b[36m0:00:00\u001b[0m\n",
            "\u001b[?25h"
          ]
        }
      ]
    },
    {
      "cell_type": "markdown",
      "source": [
        "## Set up required API keys"
      ],
      "metadata": {
        "id": "ni1cuBg7kdFZ"
      }
    },
    {
      "cell_type": "code",
      "source": [
        "import os\n",
        "import openai\n",
        "from getpass import getpass\n",
        "#\n",
        "os.environ[\"OPENAI_API_KEY\"] = getpass()\n",
        "#\n",
        "WEAVIATE_URL = getpass()\n",
        "#\n",
        "os.environ[\"WEAVIATE_API_KEY\"] = getpass()"
      ],
      "metadata": {
        "colab": {
          "base_uri": "https://localhost:8080/"
        },
        "id": "Ktql3dboZo5i",
        "outputId": "53c1d66b-4b6e-4bde-8916-fb0fc63f1323"
      },
      "execution_count": 3,
      "outputs": [
        {
          "name": "stdout",
          "output_type": "stream",
          "text": [
            "··········\n",
            "··········\n",
            "··········\n"
          ]
        }
      ]
    },
    {
      "cell_type": "markdown",
      "source": [
        "## Inference Script"
      ],
      "metadata": {
        "id": "hgdTPDNlkhaC"
      }
    },
    {
      "cell_type": "code",
      "source": [
        "from langchain.embeddings.openai import OpenAIEmbeddings\n",
        "from langchain.text_splitter import CharacterTextSplitter\n",
        "from langchain.vectorstores import Weaviate\n",
        "from langchain.document_loaders import TextLoader\n",
        "import openai\n",
        "from PyPDF2 import PdfReader\n",
        "from langchain.text_splitter import CharacterTextSplitter\n",
        "from langchain.embeddings import OpenAIEmbeddings, HuggingFaceInstructEmbeddings\n",
        "from langchain.vectorstores import FAISS\n",
        "from langchain.chat_models import ChatOpenAI\n",
        "from langchain.memory import ConversationBufferMemory\n",
        "from langchain.chains import ConversationalRetrievalChain\n",
        "from langchain.schema import messages_from_dict, messages_to_dict\n",
        "\n",
        "#\n",
        "from langchain.llms import HuggingFaceHub\n",
        "from getpass import getpass\n",
        "import os\n",
        "import json\n",
        "import io\n",
        "import pytesseract\n",
        "import shutil\n",
        "import random\n",
        "from PIL import Image\n",
        "from pdf2image import convert_from_path\n",
        "#\n",
        "from configparser import ConfigParser\n",
        "#\n",
        "ai_for_world_config = ConfigParser()\n",
        "#\n",
        "def read_config(parser: ConfigParser, location: str) -> None:\n",
        "    assert parser.read(location), f\"Could not read config {location}\"\n",
        "#\n",
        "def is_scanned_pdf(file_path):\n",
        "    pdf_reader = PdfReader(file_path)\n",
        "    text = \"\"\n",
        "    for page in pdf_reader.pages:\n",
        "      text += page.extract_text()\n",
        "\n",
        "    # if no text found, it is likely a scanned pdf\n",
        "    if text == \"\":\n",
        "        print(\"Scanned PDF\")\n",
        "        return True\n",
        "\n",
        "    else:\n",
        "        print(\"Text-based PDF\")\n",
        "        return False\n",
        "# Convert pdf to image format\n",
        "def convert_pdf_to_image(pdf_path):\n",
        "    pages = convert_from_path(pdf_path, 350)\n",
        "    #\n",
        "    output_dir=\"pdf_img_dir\"\n",
        "    if not os.path.exists(output_dir):\n",
        "        os.makedirs(output_dir)\n",
        "    i = 1\n",
        "    for page in pages:\n",
        "        image_name = \"Page_\" + str(i) + \".jpg\"\n",
        "        image_path = os.path.join(output_dir,image_name)\n",
        "        page.save(image_path, \"JPEG\")\n",
        "        i = i+1\n",
        "    return output_dir\n",
        "\n",
        "# Extract text from image\n",
        "#\n",
        "def extract_text_from_image(image_path):\n",
        "    extractedInformation = pytesseract.image_to_string(Image.open(image_path))\n",
        "    return extractedInformation\n",
        "#\n",
        "def get_text_chunks(text):\n",
        "    text_splitter = CharacterTextSplitter(\n",
        "        separator=\"\\n\", chunk_size=1000, chunk_overlap=200, length_function=len\n",
        "    )\n",
        "    chunks = text_splitter.split_text(text)\n",
        "    return chunks\n",
        "\n",
        "\n",
        "def get_vectorstore(text_chunks,api_key):\n",
        "    embeddings = OpenAIEmbeddings(openai_api_key=api_key)\n",
        "    # embeddings = HuggingFaceInstructEmbeddings(model_name=\"hkunlp/instructor-xl\")\n",
        "    #\n",
        "    vectorstore= Weaviate.from_texts(texts=text_chunks,embedding=embeddings, weaviate_url=WEAVIATE_URL,by_text=False)\n",
        "    #vectorstore = FAISS.from_texts(texts=text_chunks, embedding=embeddings)\n",
        "    return vectorstore\n",
        "\n",
        "\n",
        "def get_conversation_chain(vectorstore,api_key):\n",
        "    llm = ChatOpenAI(openai_api_key=api_key)\n",
        "    # llm = HuggingFaceHub(repo_id=\"google/flan-t5-xxl\", model_kwargs={\"temperature\":0.5, \"max_length\":512})\n",
        "\n",
        "    memory = ConversationBufferMemory(memory_key=\"chat_history\", return_messages=True)\n",
        "    conversation_chain = ConversationalRetrievalChain.from_llm(\n",
        "        llm=llm, retriever=vectorstore.as_retriever(), memory=memory\n",
        "    )\n",
        "    return conversation_chain\n",
        "\n",
        "#\n",
        "def preprocess_function(request_data,content_type=None):\n",
        "    #\n",
        "    print(f\"request_data: {request_data}\")\n",
        "    #\n",
        "    pdf_docs = [request_data[\"pdf1\"]]\n",
        "    #\n",
        "    pdf2 = request_data.get(\"pdf2\", None)\n",
        "    pdf3 = request_data.get(\"pdf3\", None)\n",
        "    #\n",
        "    if pdf2 and isinstance(pdf2, io.BytesIO) and pdf2.getbuffer().nbytes > 0:\n",
        "        pdf_docs.append(pdf2)\n",
        "    if pdf3 and isinstance(pdf3, io.BytesIO) and pdf3.getbuffer().nbytes > 0:\n",
        "        pdf_docs.append(pdf3)\n",
        "    #\n",
        "    prompt = [request_data[\"question1\"]]\n",
        "    #Append if any more questions are provided\n",
        "    q2 = request_data.get(\"question2\", None)\n",
        "    q3 = request_data.get(\"question3\", None)\n",
        "    print(f\"q2: {q2}\")\n",
        "    print(f\"q3: {q3}\")\n",
        "    #\n",
        "    if q2:\n",
        "        prompt.append(request_data[\"question2\"])\n",
        "    if q3:\n",
        "        prompt.append(request_data[\"question3\"])\n",
        "    #\n",
        "    text = \"\"\n",
        "    #\n",
        "    print(pdf_docs)\n",
        "    print(prompt)\n",
        "    i =0\n",
        "    for pdf in pdf_docs:\n",
        "        flag = is_scanned_pdf(pdf)\n",
        "        pdf_name = f\"pdf{i+1}\"\n",
        "        f_path = os.path.join(\"/tmp\", pdf_name)\n",
        "        print(f_path)\n",
        "        if flag:\n",
        "            with open(f_path, \"wb\") as f:\n",
        "                f.write(pdf.getbuffer())\n",
        "            print(f\"filesize : {os.path.getsize(f_path)}\")\n",
        "            image_dir = convert_pdf_to_image(f_path)\n",
        "            for file in os.listdir(image_dir):\n",
        "                image_path = os.path.join(image_dir,file)\n",
        "                text += extract_text_from_image(image_path)\n",
        "            print(f\"Text read from image: {text}\")\n",
        "\n",
        "        else:\n",
        "          try:\n",
        "            pdf_reader = PdfReader(pdf)\n",
        "            for page in pdf_reader.pages:\n",
        "                text += page.extract_text()\n",
        "            print(f\"Text read from pdf: {text}\")\n",
        "          except:\n",
        "            print(\"Error reading pdf\")\n",
        "\n",
        "    return (text,prompt)\n",
        "#\n",
        "def model_load_function(model_path):\n",
        "    '''\n",
        "    CONFIG_FILE = os.path.join(model_path, \"env.conf\")\n",
        "    read_config(ai_for_world_config, CONFIG_FILE)\n",
        "    api_key = ai_for_world_config.get(\"openai\", \"api_key\").strip()\n",
        "    '''\n",
        "    api_key = os.environ[\"OPENAI_API_KEY\"]\n",
        "    return api_key\n",
        "#\n",
        "def predict_function(context, api_key):\n",
        "    raw_text,prompt = context\n",
        "    print(prompt)\n",
        "    # get the text chunks\n",
        "    text_chunks = get_text_chunks(raw_text)\n",
        "\n",
        "    # create vector store\n",
        "    vectorstore = get_vectorstore(text_chunks,api_key)\n",
        "\n",
        "    # create conversation chain\n",
        "    conversation = get_conversation_chain(vectorstore,api_key)\n",
        "    #\n",
        "    res_out = []\n",
        "    extracted_messages_mem = []\n",
        "    for i in range(len(prompt)):\n",
        "        response = conversation.run(prompt[i])\n",
        "        res_out.append(response)\n",
        "        extracted_messages_mem.append(conversation.memory.chat_memory.messages)\n",
        "    return (res_out,extracted_messages_mem)\n",
        "#\n",
        "\n",
        "def postprocess_function(predictions, content_type=None):\n",
        "    res_out,extracted_messages_mem = predictions\n",
        "    output_dir=\"pdf_img_dir\"\n",
        "    if os.path.exists(output_dir):\n",
        "        for  file in os.listdir(output_dir):\n",
        "            file_name = os.path.join(output_dir,file)\n",
        "            if os.path.exists(file_name) and os.path.isfile(file_name):\n",
        "                print(f\"File {file_name} exists. Hence Removing\")\n",
        "                os.remove(file_name)\n",
        "    return json.dumps({\"response\": res_out})\n",
        "\n"
      ],
      "metadata": {
        "id": "y3AtidAdav0y"
      },
      "execution_count": 26,
      "outputs": []
    },
    {
      "cell_type": "code",
      "source": [
        "_Krequest_data ={'pdf1':\"/content/Git_Cheatsheet_KDnuggets.pdf\",\n",
        "              'pdf2':\"\",\n",
        "              'pdf3':\"\",\n",
        "              'question1':'How do i push codes to github?',\n",
        "              'question2': \"\",\n",
        "              'question3': \"\"\n",
        "              }\n",
        "\n",
        "content = preprocess_function(request_data,content_type=None)"
      ],
      "metadata": {
        "colab": {
          "base_uri": "https://localhost:8080/"
        },
        "id": "LwY-Em0mmg3A",
        "outputId": "69ecdde8-4d14-42a8-c497-ac64d0200b5d"
      },
      "execution_count": 13,
      "outputs": [
        {
          "output_type": "stream",
          "name": "stdout",
          "text": [
            "request_data: {'pdf1': '/content/Git_Cheatsheet_KDnuggets.pdf', 'pdf2': '', 'pdf3': '', 'question1': 'How do i push codes to github?', 'question2': '', 'question3': ''}\n",
            "q2: \n",
            "q3: \n",
            "['/content/Git_Cheatsheet_KDnuggets.pdf']\n",
            "['How do i push codes to github?']\n",
            "Text-based PDF\n",
            "/tmp/pdf1\n",
            "Text read from pdf: Local Changes\n",
            "Add the directory to the staging area. You can add\n",
            "changes from single or multiple files or even use ”.”\n",
            "to add all the files to the staging area. \n",
            "$ git add <directory>\n",
            "Commit the changes in the staging area with a\n",
            "message “<message>” describing the changes.\n",
            "$ git commit -m \"<message>\"\n",
            "Branching\n",
            "Lists all the branches in the current repository. \n",
            "$ git branch\n",
            "Create a new branch <new-branch>.\n",
            "$ git branch <new-branch>\n",
            "Create and checkout the new branch <new-\n",
            "branch>.\n",
            "$ git checkout -b <new-branch>\n",
            "Merge an <branch> into a current branch.\n",
            "$ git merge <branch>\n",
            "Delete the local branch <branch>.\n",
            "$ git branch -d <branch>Update and Publish\n",
            "Show the list of all locally configure remotes \n",
            "$ git remote -v\n",
            "Add new remote with name <name> and repository\n",
            "address <URL>\n",
            "$ git remote add <name> <URL>\n",
            "Download the changes from a remote to a specific\n",
            "branch <remote> <branch> without integrating it\n",
            "with HEAD.\n",
            "$ git fetch <remote> <branch>\n",
            "Download the changes from the remote-specific\n",
            "branch and merge them into HEAD.\n",
            "$ git pull <remote> <branch>\n",
            "Push the local changes to the remote branch.\n",
            "$ git push <remote> <branch>\n",
            "Delete the branch on the remote repository.\n",
            "$ git branch -dr <branch>Shows which files will be removed from the working\n",
            "directory. \n",
            "$ git clean -n\n",
            "Undo\n",
            "Create a new commit that undoes all of the\n",
            "changes made in <commit> and applies it to the\n",
            "current branch.\n",
            "$ git revert <commit>\n",
            "Remove a file or multiple files from the staging\n",
            "area.\n",
            "$ git reset <file>\n",
            "Rebase the current branch onto the <base>.\n",
            "$ git rebase <base>Review your work \n",
            "Display the changes between the working directory\n",
            "and the staging area\n",
            "$ git diff <file>\n",
            "Display the changes between the staging area and\n",
            "the repository.\n",
            "$ git diff --staged <file>\n",
            "An overview with reference labels and a history\n",
            "graph. One commit per line.\n",
            "$ git log --oneline --graph --decorate\n",
            "List commits that are present on the current\n",
            "branch and not merged into a branch name or a tag\n",
            "name.\n",
            "$ git log ref.. \n",
            "List operations (checkouts, commits,...) made on a\n",
            "local repository.\n",
            "$ git reflog Git CheatSheet\n",
            "Abid Ali Awan | 2022Visit KDnuggets.com for more\n",
            "cheatsheets and additional\n",
            "learning resources.\n",
            "Git is open-source software for distributed version\n",
            "control. It is used for tracking files, team\n",
            "collaboration, software development, and disaster\n",
            "management. \n",
            "Basic\n",
            "Clone the repo is located in the local directory\n",
            "<repo>. You can also clone a remote repository\n",
            "located in a remote server using a URL via HTTP or\n",
            "SSH.\n",
            "$ git clone <repo>\n",
            "Create an empty repository in a specific directory\n",
            "<dir>.\n",
            "$ git init <dir>\n",
            "Define the author name for the current repository.\n",
            "$ git config user.name <name>\n",
            "Check out the staged, unstaged, and untracked\n",
            "files.\n",
            "$ git status\n",
            "Display all of the commit histories.\n",
            "$ git logShow the unstaged changes between the index\n",
            "and the working directory. \n",
            "$ git diff\n",
            "Tagging the Commits\n",
            "Display the list of all tags.\n",
            "$ git tag\n",
            "Create a tag reference named name for the\n",
            "current commit. \n",
            "$ git tag <name> <commit sha>\n"
          ]
        }
      ]
    },
    {
      "cell_type": "code",
      "source": [
        "api_key = model_load_function(model_path=None)"
      ],
      "metadata": {
        "id": "sSQfBl9RnBVI"
      },
      "execution_count": 16,
      "outputs": []
    },
    {
      "cell_type": "code",
      "source": [
        "response = predict_function(content, api_key)"
      ],
      "metadata": {
        "colab": {
          "base_uri": "https://localhost:8080/"
        },
        "id": "-3Z-FGTSoDC2",
        "outputId": "8d2fe150-7ebd-41b5-f582-4c32f56e03ff"
      },
      "execution_count": 27,
      "outputs": [
        {
          "output_type": "stream",
          "name": "stdout",
          "text": [
            "['How do i push codes to github?']\n"
          ]
        }
      ]
    },
    {
      "cell_type": "code",
      "source": [
        "res, extracted_messages = response"
      ],
      "metadata": {
        "id": "8bgXndnoogSo"
      },
      "execution_count": 28,
      "outputs": []
    },
    {
      "cell_type": "code",
      "source": [
        "ingest_to_db = messages_to_dict(extracted_messages[0])\n",
        "ingest_to_db"
      ],
      "metadata": {
        "colab": {
          "base_uri": "https://localhost:8080/"
        },
        "id": "3FbFi8GJrXt3",
        "outputId": "5b608c72-fcad-4598-afa9-8870bcfaec5c"
      },
      "execution_count": 29,
      "outputs": [
        {
          "output_type": "execute_result",
          "data": {
            "text/plain": [
              "[{'type': 'human',\n",
              "  'data': {'content': 'How do i push codes to github?',\n",
              "   'additional_kwargs': {},\n",
              "   'example': False}},\n",
              " {'type': 'ai',\n",
              "  'data': {'content': 'To push your code to GitHub, you can follow these steps:\\n\\n1. Initialize a local Git repository in your project directory (if you haven\\'t already done so):\\n   ```\\n   git init\\n   ```\\n\\n2. Add your files to the staging area:\\n   ```\\n   git add .\\n   ```\\n\\n   This will add all the files in the current directory to the staging area. If you only want to add specific files, you can replace `.` with the file names.\\n\\n3. Commit your changes with a meaningful message:\\n   ```\\n   git commit -m \"Your commit message here\"\\n   ```\\n\\n4. Add the remote repository URL of your GitHub repository:\\n   ```\\n   git remote add origin <remote-url>\\n   ```\\n\\n   Replace `<remote-url>` with the URL of your GitHub repository.\\n\\n5. Push your changes to GitHub:\\n   ```\\n   git push -u origin master\\n   ```\\n\\n   This command pushes your changes to the `master` branch of your GitHub repository. If you\\'re working on a different branch, replace `master` with the name of your branch.\\n\\nNote: Before pushing your code to GitHub, make sure you have the necessary permissions to push to the repository. If you encounter any issues during the push, double-check your remote URL and authentication credentials.',\n",
              "   'additional_kwargs': {},\n",
              "   'example': False}}]"
            ]
          },
          "metadata": {},
          "execution_count": 29
        }
      ]
    },
    {
      "cell_type": "code",
      "source": [
        "retrieve_from_db = json.loads(json.dumps(ingest_to_db))\n",
        "retrieve_from_db"
      ],
      "metadata": {
        "colab": {
          "base_uri": "https://localhost:8080/"
        },
        "id": "bv5SmjY7sAcb",
        "outputId": "9d906c4f-1c07-4e7a-9d6d-833101da44e2"
      },
      "execution_count": 30,
      "outputs": [
        {
          "output_type": "execute_result",
          "data": {
            "text/plain": [
              "[{'type': 'human',\n",
              "  'data': {'content': 'How do i push codes to github?',\n",
              "   'additional_kwargs': {},\n",
              "   'example': False}},\n",
              " {'type': 'ai',\n",
              "  'data': {'content': 'To push your code to GitHub, you can follow these steps:\\n\\n1. Initialize a local Git repository in your project directory (if you haven\\'t already done so):\\n   ```\\n   git init\\n   ```\\n\\n2. Add your files to the staging area:\\n   ```\\n   git add .\\n   ```\\n\\n   This will add all the files in the current directory to the staging area. If you only want to add specific files, you can replace `.` with the file names.\\n\\n3. Commit your changes with a meaningful message:\\n   ```\\n   git commit -m \"Your commit message here\"\\n   ```\\n\\n4. Add the remote repository URL of your GitHub repository:\\n   ```\\n   git remote add origin <remote-url>\\n   ```\\n\\n   Replace `<remote-url>` with the URL of your GitHub repository.\\n\\n5. Push your changes to GitHub:\\n   ```\\n   git push -u origin master\\n   ```\\n\\n   This command pushes your changes to the `master` branch of your GitHub repository. If you\\'re working on a different branch, replace `master` with the name of your branch.\\n\\nNote: Before pushing your code to GitHub, make sure you have the necessary permissions to push to the repository. If you encounter any issues during the push, double-check your remote URL and authentication credentials.',\n",
              "   'additional_kwargs': {},\n",
              "   'example': False}}]"
            ]
          },
          "metadata": {},
          "execution_count": 30
        }
      ]
    },
    {
      "cell_type": "code",
      "source": [
        "retrieved_messages = messages_from_dict(retrieve_from_db)\n",
        "retrieved_messages"
      ],
      "metadata": {
        "colab": {
          "base_uri": "https://localhost:8080/"
        },
        "id": "Q_YxKBK1sLtf",
        "outputId": "8303fc9a-2343-45c5-80c3-7fe7044cb0e1"
      },
      "execution_count": 33,
      "outputs": [
        {
          "output_type": "execute_result",
          "data": {
            "text/plain": [
              "[HumanMessage(content='How do i push codes to github?', additional_kwargs={}, example=False),\n",
              " AIMessage(content='To push your code to GitHub, you can follow these steps:\\n\\n1. Initialize a local Git repository in your project directory (if you haven\\'t already done so):\\n   ```\\n   git init\\n   ```\\n\\n2. Add your files to the staging area:\\n   ```\\n   git add .\\n   ```\\n\\n   This will add all the files in the current directory to the staging area. If you only want to add specific files, you can replace `.` with the file names.\\n\\n3. Commit your changes with a meaningful message:\\n   ```\\n   git commit -m \"Your commit message here\"\\n   ```\\n\\n4. Add the remote repository URL of your GitHub repository:\\n   ```\\n   git remote add origin <remote-url>\\n   ```\\n\\n   Replace `<remote-url>` with the URL of your GitHub repository.\\n\\n5. Push your changes to GitHub:\\n   ```\\n   git push -u origin master\\n   ```\\n\\n   This command pushes your changes to the `master` branch of your GitHub repository. If you\\'re working on a different branch, replace `master` with the name of your branch.\\n\\nNote: Before pushing your code to GitHub, make sure you have the necessary permissions to push to the repository. If you encounter any issues during the push, double-check your remote URL and authentication credentials.', additional_kwargs={}, example=False)]"
            ]
          },
          "metadata": {},
          "execution_count": 33
        }
      ]
    },
    {
      "cell_type": "code",
      "source": [
        "out = postprocess_function(res, content_type=None)"
      ],
      "metadata": {
        "id": "Ujw-5zhPohGm"
      },
      "execution_count": 31,
      "outputs": []
    },
    {
      "cell_type": "code",
      "source": [
        "print(out)"
      ],
      "metadata": {
        "colab": {
          "base_uri": "https://localhost:8080/"
        },
        "id": "5FooPTy9osTg",
        "outputId": "fd4a961d-e80f-4f42-8b7b-c663a4ad8c91"
      },
      "execution_count": 32,
      "outputs": [
        {
          "output_type": "stream",
          "name": "stdout",
          "text": [
            "{\"response\": [\"To push your code to GitHub, you can follow these steps:\\n\\n1. Initialize a local Git repository in your project directory (if you haven't already done so):\\n   ```\\n   git init\\n   ```\\n\\n2. Add your files to the staging area:\\n   ```\\n   git add .\\n   ```\\n\\n   This will add all the files in the current directory to the staging area. If you only want to add specific files, you can replace `.` with the file names.\\n\\n3. Commit your changes with a meaningful message:\\n   ```\\n   git commit -m \\\"Your commit message here\\\"\\n   ```\\n\\n4. Add the remote repository URL of your GitHub repository:\\n   ```\\n   git remote add origin <remote-url>\\n   ```\\n\\n   Replace `<remote-url>` with the URL of your GitHub repository.\\n\\n5. Push your changes to GitHub:\\n   ```\\n   git push -u origin master\\n   ```\\n\\n   This command pushes your changes to the `master` branch of your GitHub repository. If you're working on a different branch, replace `master` with the name of your branch.\\n\\nNote: Before pushing your code to GitHub, make sure you have the necessary permissions to push to the repository. If you encounter any issues during the push, double-check your remote URL and authentication credentials.\"]}\n"
          ]
        }
      ]
    },
    {
      "cell_type": "markdown",
      "source": [
        "## Langchain and github seearch"
      ],
      "metadata": {
        "id": "ZBLwQ9vzqeT9"
      }
    },
    {
      "cell_type": "code",
      "source": [
        "! pip install pygithub"
      ],
      "metadata": {
        "colab": {
          "base_uri": "https://localhost:8080/"
        },
        "id": "wY_RcG09ouSt",
        "outputId": "f618d488-5eda-429a-a346-40e96edc9d80"
      },
      "execution_count": 34,
      "outputs": [
        {
          "output_type": "stream",
          "name": "stdout",
          "text": [
            "Collecting pygithub\n",
            "  Downloading PyGithub-1.59.0-py3-none-any.whl (342 kB)\n",
            "\u001b[2K     \u001b[90m━━━━━━━━━━━━━━━━━━━━━━━━━━━━━━━━━━━━━━━\u001b[0m \u001b[32m342.1/342.1 kB\u001b[0m \u001b[31m3.7 MB/s\u001b[0m eta \u001b[36m0:00:00\u001b[0m\n",
            "\u001b[?25hCollecting deprecated (from pygithub)\n",
            "  Downloading Deprecated-1.2.14-py2.py3-none-any.whl (9.6 kB)\n",
            "Collecting pyjwt[crypto]>=2.4.0 (from pygithub)\n",
            "  Downloading PyJWT-2.8.0-py3-none-any.whl (22 kB)\n",
            "Collecting pynacl>=1.4.0 (from pygithub)\n",
            "  Downloading PyNaCl-1.5.0-cp36-abi3-manylinux_2_17_x86_64.manylinux2014_x86_64.manylinux_2_24_x86_64.whl (856 kB)\n",
            "\u001b[2K     \u001b[90m━━━━━━━━━━━━━━━━━━━━━━━━━━━━━━━━━━━━━━━\u001b[0m \u001b[32m856.7/856.7 kB\u001b[0m \u001b[31m9.2 MB/s\u001b[0m eta \u001b[36m0:00:00\u001b[0m\n",
            "\u001b[?25hRequirement already satisfied: requests>=2.14.0 in /usr/local/lib/python3.10/dist-packages (from pygithub) (2.31.0)\n",
            "Requirement already satisfied: cryptography>=3.4.0 in /usr/lib/python3/dist-packages (from pyjwt[crypto]>=2.4.0->pygithub) (3.4.8)\n",
            "Requirement already satisfied: cffi>=1.4.1 in /usr/local/lib/python3.10/dist-packages (from pynacl>=1.4.0->pygithub) (1.15.1)\n",
            "Requirement already satisfied: charset-normalizer<4,>=2 in /usr/local/lib/python3.10/dist-packages (from requests>=2.14.0->pygithub) (2.0.12)\n",
            "Requirement already satisfied: idna<4,>=2.5 in /usr/local/lib/python3.10/dist-packages (from requests>=2.14.0->pygithub) (3.4)\n",
            "Requirement already satisfied: urllib3<3,>=1.21.1 in /usr/local/lib/python3.10/dist-packages (from requests>=2.14.0->pygithub) (1.26.16)\n",
            "Requirement already satisfied: certifi>=2017.4.17 in /usr/local/lib/python3.10/dist-packages (from requests>=2.14.0->pygithub) (2023.7.22)\n",
            "Requirement already satisfied: wrapt<2,>=1.10 in /usr/local/lib/python3.10/dist-packages (from deprecated->pygithub) (1.14.1)\n",
            "Requirement already satisfied: pycparser in /usr/local/lib/python3.10/dist-packages (from cffi>=1.4.1->pynacl>=1.4.0->pygithub) (2.21)\n",
            "Installing collected packages: pyjwt, deprecated, pynacl, pygithub\n",
            "  Attempting uninstall: pyjwt\n",
            "    Found existing installation: PyJWT 2.3.0\n",
            "    Uninstalling PyJWT-2.3.0:\n",
            "      Successfully uninstalled PyJWT-2.3.0\n",
            "Successfully installed deprecated-1.2.14 pygithub-1.59.0 pyjwt-2.8.0 pynacl-1.5.0\n"
          ]
        }
      ]
    },
    {
      "cell_type": "code",
      "source": [
        "import os\n",
        "from langchain.agents import AgentType\n",
        "from langchain.agents import initialize_agent\n",
        "from langchain.agents.agent_toolkits.github.toolkit import GitHubToolkit\n",
        "from langchain.llms import OpenAI\n",
        "from langchain.utilities.github import GitHubAPIWrapper"
      ],
      "metadata": {
        "id": "I3RDZLkD3CHR"
      },
      "execution_count": 35,
      "outputs": []
    },
    {
      "cell_type": "code",
      "source": [
        "os.environ[\"GITHUB_REPOSITORY\"] = \"plaban1981/NLP-with-Python\"\n",
        "os.environ[\"GITHUB_BASE_BRANCH\"] = \"main\"\n",
        "os.environ[\"GITHUB_APP_ID\"] = \"369155\"\n",
        "os.environ[\"GITHUB_BRANCH\"] = \"main\"\n",
        "os.environ[\"GITHUB_APP_PRIVATE_KEY\"] = \"/content/langchainapp.2023-07-31.private-key.pem\""
      ],
      "metadata": {
        "id": "C1B9JfHi3M1o"
      },
      "execution_count": 68,
      "outputs": []
    },
    {
      "cell_type": "code",
      "source": [
        "llm = OpenAI(temperature=0)\n",
        "github = GitHubAPIWrapper()\n",
        "toolkit = GitHubToolkit.from_github_api_wrapper(github)\n",
        "agent = initialize_agent(\n",
        "    toolkit.get_tools(), llm, agent=AgentType.ZERO_SHOT_REACT_DESCRIPTION, verbose=True\n",
        ")"
      ],
      "metadata": {
        "id": "5GQk3uqA3uQp"
      },
      "execution_count": 69,
      "outputs": []
    },
    {
      "cell_type": "code",
      "source": [
        "toolkit"
      ],
      "metadata": {
        "colab": {
          "base_uri": "https://localhost:8080/"
        },
        "id": "T51ECZoqKGu6",
        "outputId": "ff062d1e-e8d7-4824-8d1e-0189e642020c"
      },
      "execution_count": 70,
      "outputs": [
        {
          "output_type": "execute_result",
          "data": {
            "text/plain": [
              "GitHubToolkit(tools=[GitHubAction(name='Get Issues', description=\"\\nThis tool will fetch a list of the repository's issues. It will return the title, and issue number of 5 issues. It takes no input.\\n\", args_schema=None, return_direct=False, verbose=False, callbacks=None, callback_manager=None, tags=None, metadata=None, handle_tool_error=False, api_wrapper=GitHubAPIWrapper(github=<github.MainClass.Github object at 0x7bbe45c8ab90>, github_repo_instance=Repository(full_name=\"plaban1981/NLP-with-Python\"), github_repository='plaban1981/NLP-with-Python', github_app_id='369155', github_app_private_key='/content/langchainapp.2023-07-31.private-key.pem', github_branch='main', github_base_branch='main'), mode='get_issues'), GitHubAction(name='Get Issue', description='\\nThis tool will fetch the title, body, and comment thread of a specific issue. **VERY IMPORTANT**: You must specify the issue number as an integer.\\n', args_schema=None, return_direct=False, verbose=False, callbacks=None, callback_manager=None, tags=None, metadata=None, handle_tool_error=False, api_wrapper=GitHubAPIWrapper(github=<github.MainClass.Github object at 0x7bbe45c8ab90>, github_repo_instance=Repository(full_name=\"plaban1981/NLP-with-Python\"), github_repository='plaban1981/NLP-with-Python', github_app_id='369155', github_app_private_key='/content/langchainapp.2023-07-31.private-key.pem', github_branch='main', github_base_branch='main'), mode='get_issue'), GitHubAction(name='Comment on Issue', description=\"\\nThis tool is useful when you need to comment on a GitHub issue. Simply pass in the issue number and the comment you would like to make. Please use this sparingly as we don't want to clutter the comment threads. **VERY IMPORTANT**: Your input to this tool MUST strictly follow these rules:\\n\\n- First you must specify the issue number as an integer\\n- Then you must place two newlines\\n- Then you must specify your comment\\n\", args_schema=None, return_direct=False, verbose=False, callbacks=None, callback_manager=None, tags=None, metadata=None, handle_tool_error=False, api_wrapper=GitHubAPIWrapper(github=<github.MainClass.Github object at 0x7bbe45c8ab90>, github_repo_instance=Repository(full_name=\"plaban1981/NLP-with-Python\"), github_repository='plaban1981/NLP-with-Python', github_app_id='369155', github_app_private_key='/content/langchainapp.2023-07-31.private-key.pem', github_branch='main', github_base_branch='main'), mode='comment_on_issue'), GitHubAction(name='Create Pull Request', description='\\nThis tool is useful when you need to create a new pull request in a GitHub repository. **VERY IMPORTANT**: Your input to this tool MUST strictly follow these rules:\\n\\n- First you must specify the title of the pull request\\n- Then you must place two newlines\\n- Then you must write the body or description of the pull request\\n\\nTo reference an issue in the body, put its issue number directly after a #.\\nFor example, if you would like to create a pull request called \"README updates\" with contents \"added contributors\\' names, closes issue #3\", you would pass in the following string:\\n\\nREADME updates\\n\\nadded contributors\\' names, closes issue #3\\n', args_schema=None, return_direct=False, verbose=False, callbacks=None, callback_manager=None, tags=None, metadata=None, handle_tool_error=False, api_wrapper=GitHubAPIWrapper(github=<github.MainClass.Github object at 0x7bbe45c8ab90>, github_repo_instance=Repository(full_name=\"plaban1981/NLP-with-Python\"), github_repository='plaban1981/NLP-with-Python', github_app_id='369155', github_app_private_key='/content/langchainapp.2023-07-31.private-key.pem', github_branch='main', github_base_branch='main'), mode='create_pull_request'), GitHubAction(name='Create File', description='\\nThis tool is a wrapper for the GitHub API, useful when you need to create a file in a GitHub repository. **VERY IMPORTANT**: Your input to this tool MUST strictly follow these rules:\\n\\n- First you must specify which file to create by passing a full file path (**IMPORTANT**: the path must not start with a slash)\\n- Then you must specify the contents of the file\\n\\nFor example, if you would like to create a file called /test/test.txt with contents \"test contents\", you would pass in the following string:\\n\\ntest/test.txt\\n\\ntest contents\\n', args_schema=None, return_direct=False, verbose=False, callbacks=None, callback_manager=None, tags=None, metadata=None, handle_tool_error=False, api_wrapper=GitHubAPIWrapper(github=<github.MainClass.Github object at 0x7bbe45c8ab90>, github_repo_instance=Repository(full_name=\"plaban1981/NLP-with-Python\"), github_repository='plaban1981/NLP-with-Python', github_app_id='369155', github_app_private_key='/content/langchainapp.2023-07-31.private-key.pem', github_branch='main', github_base_branch='main'), mode='create_file'), GitHubAction(name='Read File', description='\\nThis tool is a wrapper for the GitHub API, useful when you need to read the contents of a file in a GitHub repository. Simply pass in the full file path of the file you would like to read. **IMPORTANT**: the path must not start with a slash\\n', args_schema=None, return_direct=False, verbose=False, callbacks=None, callback_manager=None, tags=None, metadata=None, handle_tool_error=False, api_wrapper=GitHubAPIWrapper(github=<github.MainClass.Github object at 0x7bbe45c8ab90>, github_repo_instance=Repository(full_name=\"plaban1981/NLP-with-Python\"), github_repository='plaban1981/NLP-with-Python', github_app_id='369155', github_app_private_key='/content/langchainapp.2023-07-31.private-key.pem', github_branch='main', github_base_branch='main'), mode='read_file'), GitHubAction(name='Update File', description='\\nThis tool is a wrapper for the GitHub API, useful when you need to update the contents of a file in a GitHub repository. **VERY IMPORTANT**: Your input to this tool MUST strictly follow these rules:\\n\\n- First you must specify which file to modify by passing a full file path (**IMPORTANT**: the path must not start with a slash)\\n- Then you must specify the old contents which you would like to replace wrapped in OLD <<<< and >>>> OLD\\n- Then you must specify the new contents which you would like to replace the old contents with wrapped in NEW <<<< and >>>> NEW\\n\\nFor example, if you would like to replace the contents of the file /test/test.txt from \"old contents\" to \"new contents\", you would pass in the following string:\\n\\ntest/test.txt\\n\\nThis is text that will not be changed\\nOLD <<<<\\nold contents\\n>>>> OLD\\nNEW <<<<\\nnew contents\\n>>>> NEW\\n', args_schema=None, return_direct=False, verbose=False, callbacks=None, callback_manager=None, tags=None, metadata=None, handle_tool_error=False, api_wrapper=GitHubAPIWrapper(github=<github.MainClass.Github object at 0x7bbe45c8ab90>, github_repo_instance=Repository(full_name=\"plaban1981/NLP-with-Python\"), github_repository='plaban1981/NLP-with-Python', github_app_id='369155', github_app_private_key='/content/langchainapp.2023-07-31.private-key.pem', github_branch='main', github_base_branch='main'), mode='update_file'), GitHubAction(name='Delete File', description='\\nThis tool is a wrapper for the GitHub API, useful when you need to delete a file in a GitHub repository. Simply pass in the full file path of the file you would like to delete. **IMPORTANT**: the path must not start with a slash\\n', args_schema=None, return_direct=False, verbose=False, callbacks=None, callback_manager=None, tags=None, metadata=None, handle_tool_error=False, api_wrapper=GitHubAPIWrapper(github=<github.MainClass.Github object at 0x7bbe45c8ab90>, github_repo_instance=Repository(full_name=\"plaban1981/NLP-with-Python\"), github_repository='plaban1981/NLP-with-Python', github_app_id='369155', github_app_private_key='/content/langchainapp.2023-07-31.private-key.pem', github_branch='main', github_base_branch='main'), mode='delete_file')])"
            ]
          },
          "metadata": {},
          "execution_count": 70
        }
      ]
    },
    {
      "cell_type": "code",
      "source": [
        "agent.run(\"find the issues in the repository\")"
      ],
      "metadata": {
        "colab": {
          "base_uri": "https://localhost:8080/",
          "height": 226
        },
        "id": "in4jV5gzFcVR",
        "outputId": "0195a490-6450-47fc-eac9-759e2e290a18"
      },
      "execution_count": 71,
      "outputs": [
        {
          "output_type": "stream",
          "name": "stdout",
          "text": [
            "\n",
            "\n",
            "\u001b[1m> Entering new AgentExecutor chain...\u001b[0m\n",
            "\u001b[32;1m\u001b[1;3m I need to get a list of the issues\n",
            "Action: Get Issues\n",
            "Action Input: None\u001b[0m\n",
            "Observation: \u001b[36;1m\u001b[1;3mNo open issues available\u001b[0m\n",
            "Thought:\u001b[32;1m\u001b[1;3m I now know the final answer\n",
            "Final Answer: There are no open issues in the repository.\u001b[0m\n",
            "\n",
            "\u001b[1m> Finished chain.\u001b[0m\n"
          ]
        },
        {
          "output_type": "execute_result",
          "data": {
            "text/plain": [
              "'There are no open issues in the repository.'"
            ],
            "application/vnd.google.colaboratory.intrinsic+json": {
              "type": "string"
            }
          },
          "metadata": {},
          "execution_count": 71
        }
      ]
    },
    {
      "cell_type": "code",
      "source": [
        "agent.run(\"create a new file t \\n\\ntest.txt\\n\\ntestings\\in the repository\")"
      ],
      "metadata": {
        "colab": {
          "base_uri": "https://localhost:8080/",
          "height": 801
        },
        "id": "hwvFUkgtGAST",
        "outputId": "2745d4ed-c324-47bc-e622-c09242e35033"
      },
      "execution_count": 74,
      "outputs": [
        {
          "output_type": "stream",
          "name": "stdout",
          "text": [
            "\n",
            "\n",
            "\u001b[1m> Entering new AgentExecutor chain...\u001b[0m\n",
            "\u001b[32;1m\u001b[1;3m I need to create a file in the repository\n",
            "Action: Create File\n",
            "Action Input: test.txt\n",
            "test contents\u001b[0m\n",
            "Observation: \u001b[33;1m\u001b[1;3mUnable to make file due to error:\n",
            "404 {\"message\": \"Not Found\", \"documentation_url\": \"https://docs.github.com/rest/repos/contents#get-repository-content\"}\u001b[0m\n",
            "Thought:\u001b[32;1m\u001b[1;3m I need to specify the full file path\n",
            "Action: Create File\n",
            "Action Input: test/test.txt\n",
            "test contents\u001b[0m\n",
            "Observation: \u001b[33;1m\u001b[1;3mUnable to make file due to error:\n",
            "404 {\"message\": \"Not Found\", \"documentation_url\": \"https://docs.github.com/rest/repos/contents#get-repository-content\"}\u001b[0m\n",
            "Thought:\u001b[32;1m\u001b[1;3m I need to specify the full file path without a slash\n",
            "Action: Create File\n",
            "Action Input: test/test.txt\n",
            "test contents\u001b[0m\n",
            "Observation: \u001b[33;1m\u001b[1;3mUnable to make file due to error:\n",
            "404 {\"message\": \"Not Found\", \"documentation_url\": \"https://docs.github.com/rest/repos/contents#get-repository-content\"}\u001b[0m\n",
            "Thought:\u001b[32;1m\u001b[1;3m I need to specify the full file path without a slash and in the correct repository\n",
            "Action: Create File\n",
            "Action Input: <repository name>/test/test.txt\n",
            "test contents\u001b[0m\n",
            "Observation: \u001b[33;1m\u001b[1;3mUnable to make file due to error:\n",
            "404 {\"message\": \"Not Found\", \"documentation_url\": \"https://docs.github.com/rest/repos/contents#get-repository-content\"}\u001b[0m\n",
            "Thought:\u001b[32;1m\u001b[1;3m I need to make sure I am in the correct repository\n",
            "Action: Get Issues\n",
            "Action Input: N/A\u001b[0m\n",
            "Observation: \u001b[36;1m\u001b[1;3mNo open issues available\u001b[0m\n",
            "Thought:\u001b[32;1m\u001b[1;3m I need to make sure I am in the correct repository and have the correct file path\n",
            "Action: Create File\n",
            "Action Input: <repository name>/test/test.txt\n",
            "test contents\u001b[0m\n",
            "Observation: \u001b[33;1m\u001b[1;3mUnable to make file due to error:\n",
            "404 {\"message\": \"Not Found\", \"documentation_url\": \"https://docs.github.com/rest/repos/contents#get-repository-content\"}\u001b[0m\n",
            "Thought:\u001b[32;1m\u001b[1;3m I need to make sure I am in the correct repository, have the correct file path, and have the correct permissions\n",
            "Action: N/A\n",
            "Final Answer: You need to make sure you are in the correct repository, have the correct file path, and have the correct permissions in order to create a new file in the repository.\u001b[0m\n",
            "\n",
            "\u001b[1m> Finished chain.\u001b[0m\n"
          ]
        },
        {
          "output_type": "execute_result",
          "data": {
            "text/plain": [
              "'You need to make sure you are in the correct repository, have the correct file path, and have the correct permissions in order to create a new file in the repository.'"
            ],
            "application/vnd.google.colaboratory.intrinsic+json": {
              "type": "string"
            }
          },
          "metadata": {},
          "execution_count": 74
        }
      ]
    },
    {
      "cell_type": "code",
      "source": [
        "agent.run(\"can you check if I have the permissions to create a new file in the repository.\")"
      ],
      "metadata": {
        "colab": {
          "base_uri": "https://localhost:8080/",
          "height": 313
        },
        "id": "5uwIqYFnGBYu",
        "outputId": "8bd29a9a-76ec-4119-9ffb-9565388b8879"
      },
      "execution_count": 76,
      "outputs": [
        {
          "output_type": "stream",
          "name": "stdout",
          "text": [
            "\n",
            "\n",
            "\u001b[1m> Entering new AgentExecutor chain...\u001b[0m\n",
            "\u001b[32;1m\u001b[1;3m I need to check if I have the permissions to create a new file.\n",
            "Action: Get Issues\n",
            "Action Input: None\u001b[0m\n",
            "Observation: \u001b[36;1m\u001b[1;3mNo open issues available\u001b[0m\n",
            "Thought:\u001b[32;1m\u001b[1;3m I need to check if I have the permissions to create a new file.\n",
            "Action: Create File\n",
            "Action Input: test/test.txt\u001b[0m\n",
            "Observation: \u001b[33;1m\u001b[1;3mUnable to make file due to error:\n",
            "404 {\"message\": \"Not Found\", \"documentation_url\": \"https://docs.github.com/rest/repos/contents#get-repository-content\"}\u001b[0m\n",
            "Thought:\u001b[32;1m\u001b[1;3m I do not have the permissions to create a new file.\n",
            "Final Answer: No, I do not have the permissions to create a new file in the repository.\u001b[0m\n",
            "\n",
            "\u001b[1m> Finished chain.\u001b[0m\n"
          ]
        },
        {
          "output_type": "execute_result",
          "data": {
            "text/plain": [
              "'No, I do not have the permissions to create a new file in the repository.'"
            ],
            "application/vnd.google.colaboratory.intrinsic+json": {
              "type": "string"
            }
          },
          "metadata": {},
          "execution_count": 76
        }
      ]
    },
    {
      "cell_type": "code",
      "source": [],
      "metadata": {
        "id": "nJjAWPmqLh5A"
      },
      "execution_count": null,
      "outputs": []
    }
  ]
}