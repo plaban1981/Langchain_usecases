{
  "nbformat": 4,
  "nbformat_minor": 0,
  "metadata": {
    "colab": {
      "provenance": [],
      "machine_shape": "hm",
      "authorship_tag": "ABX9TyPQJ0m2Jevsx8KpeyD0OXZS",
      "include_colab_link": true
    },
    "kernelspec": {
      "name": "python3",
      "display_name": "Python 3"
    },
    "language_info": {
      "name": "python"
    },
    "widgets": {
      "application/vnd.jupyter.widget-state+json": {
        "9b2816f55c6b4f11aa72bda926291f78": {
          "model_module": "@jupyter-widgets/controls",
          "model_name": "HBoxModel",
          "model_module_version": "1.5.0",
          "state": {
            "_dom_classes": [],
            "_model_module": "@jupyter-widgets/controls",
            "_model_module_version": "1.5.0",
            "_model_name": "HBoxModel",
            "_view_count": null,
            "_view_module": "@jupyter-widgets/controls",
            "_view_module_version": "1.5.0",
            "_view_name": "HBoxView",
            "box_style": "",
            "children": [
              "IPY_MODEL_0e147a9ccb57409aa88c50fe44a9264a",
              "IPY_MODEL_199597bbc311433ab2fee4154d1322ea",
              "IPY_MODEL_115d1cd69ad04562a8b134e7359f9d43"
            ],
            "layout": "IPY_MODEL_0481e925a8b740d68908b9838adbc50a"
          }
        },
        "0e147a9ccb57409aa88c50fe44a9264a": {
          "model_module": "@jupyter-widgets/controls",
          "model_name": "HTMLModel",
          "model_module_version": "1.5.0",
          "state": {
            "_dom_classes": [],
            "_model_module": "@jupyter-widgets/controls",
            "_model_module_version": "1.5.0",
            "_model_name": "HTMLModel",
            "_view_count": null,
            "_view_module": "@jupyter-widgets/controls",
            "_view_module_version": "1.5.0",
            "_view_name": "HTMLView",
            "description": "",
            "description_tooltip": null,
            "layout": "IPY_MODEL_5fb34447e6164acc949df4d23077b524",
            "placeholder": "​",
            "style": "IPY_MODEL_86db8a52dcee4b84b4c274c181e17eaa",
            "value": "Fetching 5 files: 100%"
          }
        },
        "199597bbc311433ab2fee4154d1322ea": {
          "model_module": "@jupyter-widgets/controls",
          "model_name": "FloatProgressModel",
          "model_module_version": "1.5.0",
          "state": {
            "_dom_classes": [],
            "_model_module": "@jupyter-widgets/controls",
            "_model_module_version": "1.5.0",
            "_model_name": "FloatProgressModel",
            "_view_count": null,
            "_view_module": "@jupyter-widgets/controls",
            "_view_module_version": "1.5.0",
            "_view_name": "ProgressView",
            "bar_style": "success",
            "description": "",
            "description_tooltip": null,
            "layout": "IPY_MODEL_3e3ea6150f064d1b9dbda0267085f2ab",
            "max": 5,
            "min": 0,
            "orientation": "horizontal",
            "style": "IPY_MODEL_9fcc3d04b2fe4d74a6ebf97e53dd87c2",
            "value": 5
          }
        },
        "115d1cd69ad04562a8b134e7359f9d43": {
          "model_module": "@jupyter-widgets/controls",
          "model_name": "HTMLModel",
          "model_module_version": "1.5.0",
          "state": {
            "_dom_classes": [],
            "_model_module": "@jupyter-widgets/controls",
            "_model_module_version": "1.5.0",
            "_model_name": "HTMLModel",
            "_view_count": null,
            "_view_module": "@jupyter-widgets/controls",
            "_view_module_version": "1.5.0",
            "_view_name": "HTMLView",
            "description": "",
            "description_tooltip": null,
            "layout": "IPY_MODEL_3961d2e124c141ac95346dda98f866de",
            "placeholder": "​",
            "style": "IPY_MODEL_2e647df92ff442c4842b784a5661f647",
            "value": " 5/5 [00:00&lt;00:00, 244.79it/s]"
          }
        },
        "0481e925a8b740d68908b9838adbc50a": {
          "model_module": "@jupyter-widgets/base",
          "model_name": "LayoutModel",
          "model_module_version": "1.2.0",
          "state": {
            "_model_module": "@jupyter-widgets/base",
            "_model_module_version": "1.2.0",
            "_model_name": "LayoutModel",
            "_view_count": null,
            "_view_module": "@jupyter-widgets/base",
            "_view_module_version": "1.2.0",
            "_view_name": "LayoutView",
            "align_content": null,
            "align_items": null,
            "align_self": null,
            "border": null,
            "bottom": null,
            "display": null,
            "flex": null,
            "flex_flow": null,
            "grid_area": null,
            "grid_auto_columns": null,
            "grid_auto_flow": null,
            "grid_auto_rows": null,
            "grid_column": null,
            "grid_gap": null,
            "grid_row": null,
            "grid_template_areas": null,
            "grid_template_columns": null,
            "grid_template_rows": null,
            "height": null,
            "justify_content": null,
            "justify_items": null,
            "left": null,
            "margin": null,
            "max_height": null,
            "max_width": null,
            "min_height": null,
            "min_width": null,
            "object_fit": null,
            "object_position": null,
            "order": null,
            "overflow": null,
            "overflow_x": null,
            "overflow_y": null,
            "padding": null,
            "right": null,
            "top": null,
            "visibility": null,
            "width": null
          }
        },
        "5fb34447e6164acc949df4d23077b524": {
          "model_module": "@jupyter-widgets/base",
          "model_name": "LayoutModel",
          "model_module_version": "1.2.0",
          "state": {
            "_model_module": "@jupyter-widgets/base",
            "_model_module_version": "1.2.0",
            "_model_name": "LayoutModel",
            "_view_count": null,
            "_view_module": "@jupyter-widgets/base",
            "_view_module_version": "1.2.0",
            "_view_name": "LayoutView",
            "align_content": null,
            "align_items": null,
            "align_self": null,
            "border": null,
            "bottom": null,
            "display": null,
            "flex": null,
            "flex_flow": null,
            "grid_area": null,
            "grid_auto_columns": null,
            "grid_auto_flow": null,
            "grid_auto_rows": null,
            "grid_column": null,
            "grid_gap": null,
            "grid_row": null,
            "grid_template_areas": null,
            "grid_template_columns": null,
            "grid_template_rows": null,
            "height": null,
            "justify_content": null,
            "justify_items": null,
            "left": null,
            "margin": null,
            "max_height": null,
            "max_width": null,
            "min_height": null,
            "min_width": null,
            "object_fit": null,
            "object_position": null,
            "order": null,
            "overflow": null,
            "overflow_x": null,
            "overflow_y": null,
            "padding": null,
            "right": null,
            "top": null,
            "visibility": null,
            "width": null
          }
        },
        "86db8a52dcee4b84b4c274c181e17eaa": {
          "model_module": "@jupyter-widgets/controls",
          "model_name": "DescriptionStyleModel",
          "model_module_version": "1.5.0",
          "state": {
            "_model_module": "@jupyter-widgets/controls",
            "_model_module_version": "1.5.0",
            "_model_name": "DescriptionStyleModel",
            "_view_count": null,
            "_view_module": "@jupyter-widgets/base",
            "_view_module_version": "1.2.0",
            "_view_name": "StyleView",
            "description_width": ""
          }
        },
        "3e3ea6150f064d1b9dbda0267085f2ab": {
          "model_module": "@jupyter-widgets/base",
          "model_name": "LayoutModel",
          "model_module_version": "1.2.0",
          "state": {
            "_model_module": "@jupyter-widgets/base",
            "_model_module_version": "1.2.0",
            "_model_name": "LayoutModel",
            "_view_count": null,
            "_view_module": "@jupyter-widgets/base",
            "_view_module_version": "1.2.0",
            "_view_name": "LayoutView",
            "align_content": null,
            "align_items": null,
            "align_self": null,
            "border": null,
            "bottom": null,
            "display": null,
            "flex": null,
            "flex_flow": null,
            "grid_area": null,
            "grid_auto_columns": null,
            "grid_auto_flow": null,
            "grid_auto_rows": null,
            "grid_column": null,
            "grid_gap": null,
            "grid_row": null,
            "grid_template_areas": null,
            "grid_template_columns": null,
            "grid_template_rows": null,
            "height": null,
            "justify_content": null,
            "justify_items": null,
            "left": null,
            "margin": null,
            "max_height": null,
            "max_width": null,
            "min_height": null,
            "min_width": null,
            "object_fit": null,
            "object_position": null,
            "order": null,
            "overflow": null,
            "overflow_x": null,
            "overflow_y": null,
            "padding": null,
            "right": null,
            "top": null,
            "visibility": null,
            "width": null
          }
        },
        "9fcc3d04b2fe4d74a6ebf97e53dd87c2": {
          "model_module": "@jupyter-widgets/controls",
          "model_name": "ProgressStyleModel",
          "model_module_version": "1.5.0",
          "state": {
            "_model_module": "@jupyter-widgets/controls",
            "_model_module_version": "1.5.0",
            "_model_name": "ProgressStyleModel",
            "_view_count": null,
            "_view_module": "@jupyter-widgets/base",
            "_view_module_version": "1.2.0",
            "_view_name": "StyleView",
            "bar_color": null,
            "description_width": ""
          }
        },
        "3961d2e124c141ac95346dda98f866de": {
          "model_module": "@jupyter-widgets/base",
          "model_name": "LayoutModel",
          "model_module_version": "1.2.0",
          "state": {
            "_model_module": "@jupyter-widgets/base",
            "_model_module_version": "1.2.0",
            "_model_name": "LayoutModel",
            "_view_count": null,
            "_view_module": "@jupyter-widgets/base",
            "_view_module_version": "1.2.0",
            "_view_name": "LayoutView",
            "align_content": null,
            "align_items": null,
            "align_self": null,
            "border": null,
            "bottom": null,
            "display": null,
            "flex": null,
            "flex_flow": null,
            "grid_area": null,
            "grid_auto_columns": null,
            "grid_auto_flow": null,
            "grid_auto_rows": null,
            "grid_column": null,
            "grid_gap": null,
            "grid_row": null,
            "grid_template_areas": null,
            "grid_template_columns": null,
            "grid_template_rows": null,
            "height": null,
            "justify_content": null,
            "justify_items": null,
            "left": null,
            "margin": null,
            "max_height": null,
            "max_width": null,
            "min_height": null,
            "min_width": null,
            "object_fit": null,
            "object_position": null,
            "order": null,
            "overflow": null,
            "overflow_x": null,
            "overflow_y": null,
            "padding": null,
            "right": null,
            "top": null,
            "visibility": null,
            "width": null
          }
        },
        "2e647df92ff442c4842b784a5661f647": {
          "model_module": "@jupyter-widgets/controls",
          "model_name": "DescriptionStyleModel",
          "model_module_version": "1.5.0",
          "state": {
            "_model_module": "@jupyter-widgets/controls",
            "_model_module_version": "1.5.0",
            "_model_name": "DescriptionStyleModel",
            "_view_count": null,
            "_view_module": "@jupyter-widgets/base",
            "_view_module_version": "1.2.0",
            "_view_name": "StyleView",
            "description_width": ""
          }
        }
      }
    }
  },
  "cells": [
    {
      "cell_type": "markdown",
      "metadata": {
        "id": "view-in-github",
        "colab_type": "text"
      },
      "source": [
        "<a href=\"https://colab.research.google.com/github/plaban1981/Langchain_usecases/blob/main/Building_a_multidocument_agentic_RAG_with_LLamaIndex_GROQ.ipynb\" target=\"_parent\"><img src=\"https://colab.research.google.com/assets/colab-badge.svg\" alt=\"Open In Colab\"/></a>"
      ]
    },
    {
      "cell_type": "code",
      "execution_count": 1,
      "metadata": {
        "colab": {
          "base_uri": "https://localhost:8080/"
        },
        "id": "aY0OsrGT4ViX",
        "outputId": "764522b3-2f62-4976-80f0-96eebadc864c"
      },
      "outputs": [
        {
          "output_type": "stream",
          "name": "stdout",
          "text": [
            "Writing requirements.txt\n"
          ]
        }
      ],
      "source": [
        "%%writefile requirements.txt\n",
        "llama-index\n",
        "llama-index-llms-huggingface\n",
        "llama-index-embeddings-fastembed\n",
        "fastembed\n",
        "Unstructured[md]\n",
        "chromadb\n",
        "llama-index-vector-stores-chroma\n",
        "llama-index-llms-groq\n",
        "einops\n",
        "accelerate\n",
        "sentence-transformers\n"
      ]
    },
    {
      "cell_type": "markdown",
      "source": [
        "## Install Required Dependencies"
      ],
      "metadata": {
        "id": "lNYRlgiO7TqX"
      }
    },
    {
      "cell_type": "code",
      "source": [
        "!pip install -r requirements.txt"
      ],
      "metadata": {
        "colab": {
          "base_uri": "https://localhost:8080/"
        },
        "id": "OF1WOSgN71hC",
        "outputId": "3cc7c394-dedc-4530-8f8b-99afabf1f505"
      },
      "execution_count": 3,
      "outputs": [
        {
          "output_type": "stream",
          "name": "stdout",
          "text": [
            "Collecting llama-index (from -r requirements.txt (line 1))\n",
            "  Downloading llama_index-0.10.36-py3-none-any.whl (6.8 kB)\n",
            "Collecting llama-index-llms-huggingface (from -r requirements.txt (line 2))\n",
            "  Downloading llama_index_llms_huggingface-0.2.0-py3-none-any.whl (10 kB)\n",
            "Collecting llama-index-embeddings-fastembed (from -r requirements.txt (line 3))\n",
            "  Downloading llama_index_embeddings_fastembed-0.1.4-py3-none-any.whl (2.7 kB)\n",
            "Collecting fastembed (from -r requirements.txt (line 4))\n",
            "  Downloading fastembed-0.2.7-py3-none-any.whl (27 kB)\n",
            "Collecting Unstructured[md] (from -r requirements.txt (line 5))\n",
            "  Downloading unstructured-0.13.7-py3-none-any.whl (1.9 MB)\n",
            "\u001b[2K     \u001b[90m━━━━━━━━━━━━━━━━━━━━━━━━━━━━━━━━━━━━━━━━\u001b[0m \u001b[32m1.9/1.9 MB\u001b[0m \u001b[31m16.5 MB/s\u001b[0m eta \u001b[36m0:00:00\u001b[0m\n",
            "\u001b[?25hCollecting chromadb (from -r requirements.txt (line 6))\n",
            "  Downloading chromadb-0.5.0-py3-none-any.whl (526 kB)\n",
            "\u001b[2K     \u001b[90m━━━━━━━━━━━━━━━━━━━━━━━━━━━━━━━━━━━━━━━━\u001b[0m \u001b[32m526.8/526.8 kB\u001b[0m \u001b[31m21.6 MB/s\u001b[0m eta \u001b[36m0:00:00\u001b[0m\n",
            "\u001b[?25hCollecting llama-index-vector-stores-chroma (from -r requirements.txt (line 7))\n",
            "  Downloading llama_index_vector_stores_chroma-0.1.8-py3-none-any.whl (4.8 kB)\n",
            "Collecting llama-index-llms-groq (from -r requirements.txt (line 8))\n",
            "  Downloading llama_index_llms_groq-0.1.3-py3-none-any.whl (2.7 kB)\n",
            "Collecting einops (from -r requirements.txt (line 9))\n",
            "  Downloading einops-0.8.0-py3-none-any.whl (43 kB)\n",
            "\u001b[2K     \u001b[90m━━━━━━━━━━━━━━━━━━━━━━━━━━━━━━━━━━━━━━━━\u001b[0m \u001b[32m43.2/43.2 kB\u001b[0m \u001b[31m4.4 MB/s\u001b[0m eta \u001b[36m0:00:00\u001b[0m\n",
            "\u001b[?25hCollecting accelerate (from -r requirements.txt (line 10))\n",
            "  Downloading accelerate-0.30.1-py3-none-any.whl (302 kB)\n",
            "\u001b[2K     \u001b[90m━━━━━━━━━━━━━━━━━━━━━━━━━━━━━━━━━━━━━━━━\u001b[0m \u001b[32m302.6/302.6 kB\u001b[0m \u001b[31m20.6 MB/s\u001b[0m eta \u001b[36m0:00:00\u001b[0m\n",
            "\u001b[?25hCollecting sentence-transformers (from -r requirements.txt (line 11))\n",
            "  Downloading sentence_transformers-2.7.0-py3-none-any.whl (171 kB)\n",
            "\u001b[2K     \u001b[90m━━━━━━━━━━━━━━━━━━━━━━━━━━━━━━━━━━━━━━━━\u001b[0m \u001b[32m171.5/171.5 kB\u001b[0m \u001b[31m17.2 MB/s\u001b[0m eta \u001b[36m0:00:00\u001b[0m\n",
            "\u001b[?25hCollecting llama-index-agent-openai<0.3.0,>=0.1.4 (from llama-index->-r requirements.txt (line 1))\n",
            "  Downloading llama_index_agent_openai-0.2.4-py3-none-any.whl (13 kB)\n",
            "Collecting llama-index-cli<0.2.0,>=0.1.2 (from llama-index->-r requirements.txt (line 1))\n",
            "  Downloading llama_index_cli-0.1.12-py3-none-any.whl (26 kB)\n",
            "Collecting llama-index-core<0.11.0,>=0.10.35 (from llama-index->-r requirements.txt (line 1))\n",
            "  Downloading llama_index_core-0.10.36-py3-none-any.whl (15.4 MB)\n",
            "\u001b[2K     \u001b[90m━━━━━━━━━━━━━━━━━━━━━━━━━━━━━━━━━━━━━━━━\u001b[0m \u001b[32m15.4/15.4 MB\u001b[0m \u001b[31m56.3 MB/s\u001b[0m eta \u001b[36m0:00:00\u001b[0m\n",
            "\u001b[?25hCollecting llama-index-embeddings-openai<0.2.0,>=0.1.5 (from llama-index->-r requirements.txt (line 1))\n",
            "  Downloading llama_index_embeddings_openai-0.1.9-py3-none-any.whl (6.0 kB)\n",
            "Collecting llama-index-indices-managed-llama-cloud<0.2.0,>=0.1.2 (from llama-index->-r requirements.txt (line 1))\n",
            "  Downloading llama_index_indices_managed_llama_cloud-0.1.6-py3-none-any.whl (6.7 kB)\n",
            "Collecting llama-index-legacy<0.10.0,>=0.9.48 (from llama-index->-r requirements.txt (line 1))\n",
            "  Downloading llama_index_legacy-0.9.48-py3-none-any.whl (2.0 MB)\n",
            "\u001b[2K     \u001b[90m━━━━━━━━━━━━━━━━━━━━━━━━━━━━━━━━━━━━━━━━\u001b[0m \u001b[32m2.0/2.0 MB\u001b[0m \u001b[31m33.0 MB/s\u001b[0m eta \u001b[36m0:00:00\u001b[0m\n",
            "\u001b[?25hCollecting llama-index-llms-openai<0.2.0,>=0.1.13 (from llama-index->-r requirements.txt (line 1))\n",
            "  Downloading llama_index_llms_openai-0.1.18-py3-none-any.whl (11 kB)\n",
            "Collecting llama-index-multi-modal-llms-openai<0.2.0,>=0.1.3 (from llama-index->-r requirements.txt (line 1))\n",
            "  Downloading llama_index_multi_modal_llms_openai-0.1.5-py3-none-any.whl (5.8 kB)\n",
            "Collecting llama-index-program-openai<0.2.0,>=0.1.3 (from llama-index->-r requirements.txt (line 1))\n",
            "  Downloading llama_index_program_openai-0.1.6-py3-none-any.whl (5.2 kB)\n",
            "Collecting llama-index-question-gen-openai<0.2.0,>=0.1.2 (from llama-index->-r requirements.txt (line 1))\n",
            "  Downloading llama_index_question_gen_openai-0.1.3-py3-none-any.whl (2.9 kB)\n",
            "Collecting llama-index-readers-file<0.2.0,>=0.1.4 (from llama-index->-r requirements.txt (line 1))\n",
            "  Downloading llama_index_readers_file-0.1.22-py3-none-any.whl (36 kB)\n",
            "Collecting llama-index-readers-llama-parse<0.2.0,>=0.1.2 (from llama-index->-r requirements.txt (line 1))\n",
            "  Downloading llama_index_readers_llama_parse-0.1.4-py3-none-any.whl (2.5 kB)\n",
            "Collecting huggingface-hub<0.24.0,>=0.23.0 (from llama-index-llms-huggingface->-r requirements.txt (line 2))\n",
            "  Downloading huggingface_hub-0.23.0-py3-none-any.whl (401 kB)\n",
            "\u001b[2K     \u001b[90m━━━━━━━━━━━━━━━━━━━━━━━━━━━━━━━━━━━━━━━━\u001b[0m \u001b[32m401.2/401.2 kB\u001b[0m \u001b[31m34.2 MB/s\u001b[0m eta \u001b[36m0:00:00\u001b[0m\n",
            "\u001b[?25hCollecting text-generation<0.8.0,>=0.7.0 (from llama-index-llms-huggingface->-r requirements.txt (line 2))\n",
            "  Downloading text_generation-0.7.0-py3-none-any.whl (12 kB)\n",
            "Requirement already satisfied: torch<3.0.0,>=2.1.2 in /usr/local/lib/python3.10/dist-packages (from llama-index-llms-huggingface->-r requirements.txt (line 2)) (2.2.1+cu121)\n",
            "Requirement already satisfied: transformers[torch]<5.0.0,>=4.37.0 in /usr/local/lib/python3.10/dist-packages (from llama-index-llms-huggingface->-r requirements.txt (line 2)) (4.40.2)\n",
            "INFO: pip is looking at multiple versions of fastembed to determine which version is compatible with other requirements. This could take a while.\n",
            "Collecting fastembed (from -r requirements.txt (line 4))\n",
            "  Downloading fastembed-0.2.6-py3-none-any.whl (26 kB)\n",
            "  Downloading fastembed-0.2.5-py3-none-any.whl (26 kB)\n",
            "  Downloading fastembed-0.2.4-py3-none-any.whl (26 kB)\n",
            "  Downloading fastembed-0.2.3-py3-none-any.whl (26 kB)\n",
            "  Downloading fastembed-0.2.2-py3-none-any.whl (22 kB)\n",
            "Collecting llama-index-embeddings-fastembed (from -r requirements.txt (line 3))\n",
            "  Downloading llama_index_embeddings_fastembed-0.1.3-py3-none-any.whl (2.7 kB)\n",
            "INFO: pip is looking at multiple versions of fastembed to determine which version is compatible with other requirements. This could take a while.\n",
            "Collecting fastembed (from -r requirements.txt (line 4))\n",
            "  Downloading fastembed-0.2.1-py3-none-any.whl (22 kB)\n",
            "INFO: This is taking longer than usual. You might need to provide the dependency resolver with stricter constraints to reduce runtime. See https://pip.pypa.io/warnings/backtracking for guidance. If you want to abort this run, press Ctrl + C.\n",
            "  Downloading fastembed-0.1.3-py3-none-any.whl (14 kB)\n",
            "  Downloading fastembed-0.1.2-py3-none-any.whl (6.8 MB)\n",
            "\u001b[2K     \u001b[90m━━━━━━━━━━━━━━━━━━━━━━━━━━━━━━━━━━━━━━━━\u001b[0m \u001b[32m6.8/6.8 MB\u001b[0m \u001b[31m9.5 MB/s\u001b[0m eta \u001b[36m0:00:00\u001b[0m\n",
            "\u001b[?25h  Downloading fastembed-0.1.1-py3-none-any.whl (14 kB)\n",
            "Collecting onnx<2.0,>=1.11 (from fastembed->-r requirements.txt (line 4))\n",
            "  Downloading onnx-1.16.0-cp310-cp310-manylinux_2_17_x86_64.manylinux2014_x86_64.whl (15.9 MB)\n",
            "\u001b[2K     \u001b[90m━━━━━━━━━━━━━━━━━━━━━━━━━━━━━━━━━━━━━━━━\u001b[0m \u001b[32m15.9/15.9 MB\u001b[0m \u001b[31m66.5 MB/s\u001b[0m eta \u001b[36m0:00:00\u001b[0m\n",
            "\u001b[?25hCollecting onnxruntime<2.0,>=1.15 (from fastembed->-r requirements.txt (line 4))\n",
            "  Downloading onnxruntime-1.17.3-cp310-cp310-manylinux_2_27_x86_64.manylinux_2_28_x86_64.whl (6.8 MB)\n",
            "\u001b[2K     \u001b[90m━━━━━━━━━━━━━━━━━━━━━━━━━━━━━━━━━━━━━━━━\u001b[0m \u001b[32m6.8/6.8 MB\u001b[0m \u001b[31m32.1 MB/s\u001b[0m eta \u001b[36m0:00:00\u001b[0m\n",
            "\u001b[?25hRequirement already satisfied: requests<3.0,>=2.31 in /usr/local/lib/python3.10/dist-packages (from fastembed->-r requirements.txt (line 4)) (2.31.0)\n",
            "Collecting tokenizers<0.14,>=0.13 (from fastembed->-r requirements.txt (line 4))\n",
            "  Downloading tokenizers-0.13.3-cp310-cp310-manylinux_2_17_x86_64.manylinux2014_x86_64.whl (7.8 MB)\n",
            "\u001b[2K     \u001b[90m━━━━━━━━━━━━━━━━━━━━━━━━━━━━━━━━━━━━━━━━\u001b[0m \u001b[32m7.8/7.8 MB\u001b[0m \u001b[31m84.4 MB/s\u001b[0m eta \u001b[36m0:00:00\u001b[0m\n",
            "\u001b[?25hRequirement already satisfied: tqdm<5.0,>=4.65 in /usr/local/lib/python3.10/dist-packages (from fastembed->-r requirements.txt (line 4)) (4.66.4)\n",
            "Requirement already satisfied: filelock in /usr/local/lib/python3.10/dist-packages (from huggingface-hub<0.24.0,>=0.23.0->llama-index-llms-huggingface->-r requirements.txt (line 2)) (3.14.0)\n",
            "Requirement already satisfied: fsspec>=2023.5.0 in /usr/local/lib/python3.10/dist-packages (from huggingface-hub<0.24.0,>=0.23.0->llama-index-llms-huggingface->-r requirements.txt (line 2)) (2023.6.0)\n",
            "Requirement already satisfied: packaging>=20.9 in /usr/local/lib/python3.10/dist-packages (from huggingface-hub<0.24.0,>=0.23.0->llama-index-llms-huggingface->-r requirements.txt (line 2)) (24.0)\n",
            "Requirement already satisfied: pyyaml>=5.1 in /usr/local/lib/python3.10/dist-packages (from huggingface-hub<0.24.0,>=0.23.0->llama-index-llms-huggingface->-r requirements.txt (line 2)) (6.0.1)\n",
            "Requirement already satisfied: typing-extensions>=3.7.4.3 in /usr/local/lib/python3.10/dist-packages (from huggingface-hub<0.24.0,>=0.23.0->llama-index-llms-huggingface->-r requirements.txt (line 2)) (4.11.0)\n",
            "Collecting llama-index-embeddings-fastembed (from -r requirements.txt (line 3))\n",
            "  Downloading llama_index_embeddings_fastembed-0.1.2-py3-none-any.whl (2.7 kB)\n",
            "  Downloading llama_index_embeddings_fastembed-0.1.1-py3-none-any.whl (2.9 kB)\n",
            "  Downloading llama_index_embeddings_fastembed-0.1.0-py3-none-any.whl (2.9 kB)\n",
            "INFO: pip is looking at multiple versions of llama-index-embeddings-fastembed to determine which version is compatible with other requirements. This could take a while.\n",
            "  Downloading llama_index_embeddings_fastembed-0.0.1-py3-none-any.whl (2.7 kB)\n",
            "Collecting llama-index-llms-huggingface (from -r requirements.txt (line 2))\n",
            "  Downloading llama_index_llms_huggingface-0.1.5-py3-none-any.whl (10 kB)\n",
            "Requirement already satisfied: huggingface-hub<0.21.0,>=0.20.3 in /usr/local/lib/python3.10/dist-packages (from llama-index-llms-huggingface->-r requirements.txt (line 2)) (0.20.3)\n",
            "Requirement already satisfied: SQLAlchemy[asyncio]>=1.4.49 in /usr/local/lib/python3.10/dist-packages (from llama-index-core<0.11.0,>=0.10.35->llama-index->-r requirements.txt (line 1)) (2.0.30)\n",
            "Requirement already satisfied: aiohttp<4.0.0,>=3.8.6 in /usr/local/lib/python3.10/dist-packages (from llama-index-core<0.11.0,>=0.10.35->llama-index->-r requirements.txt (line 1)) (3.9.5)\n",
            "Collecting dataclasses-json (from llama-index-core<0.11.0,>=0.10.35->llama-index->-r requirements.txt (line 1))\n",
            "  Downloading dataclasses_json-0.6.6-py3-none-any.whl (28 kB)\n",
            "Collecting deprecated>=1.2.9.3 (from llama-index-core<0.11.0,>=0.10.35->llama-index->-r requirements.txt (line 1))\n",
            "  Downloading Deprecated-1.2.14-py2.py3-none-any.whl (9.6 kB)\n",
            "Collecting dirtyjson<2.0.0,>=1.0.8 (from llama-index-core<0.11.0,>=0.10.35->llama-index->-r requirements.txt (line 1))\n",
            "  Downloading dirtyjson-1.0.8-py3-none-any.whl (25 kB)\n",
            "Collecting httpx (from llama-index-core<0.11.0,>=0.10.35->llama-index->-r requirements.txt (line 1))\n",
            "  Downloading httpx-0.27.0-py3-none-any.whl (75 kB)\n",
            "\u001b[2K     \u001b[90m━━━━━━━━━━━━━━━━━━━━━━━━━━━━━━━━━━━━━━━━\u001b[0m \u001b[32m75.6/75.6 kB\u001b[0m \u001b[31m8.6 MB/s\u001b[0m eta \u001b[36m0:00:00\u001b[0m\n",
            "\u001b[?25hCollecting llamaindex-py-client<0.2.0,>=0.1.18 (from llama-index-core<0.11.0,>=0.10.35->llama-index->-r requirements.txt (line 1))\n",
            "  Downloading llamaindex_py_client-0.1.19-py3-none-any.whl (141 kB)\n",
            "\u001b[2K     \u001b[90m━━━━━━━━━━━━━━━━━━━━━━━━━━━━━━━━━━━━━━━━\u001b[0m \u001b[32m141.9/141.9 kB\u001b[0m \u001b[31m13.8 MB/s\u001b[0m eta \u001b[36m0:00:00\u001b[0m\n",
            "\u001b[?25hRequirement already satisfied: nest-asyncio<2.0.0,>=1.5.8 in /usr/local/lib/python3.10/dist-packages (from llama-index-core<0.11.0,>=0.10.35->llama-index->-r requirements.txt (line 1)) (1.6.0)\n",
            "Requirement already satisfied: networkx>=3.0 in /usr/local/lib/python3.10/dist-packages (from llama-index-core<0.11.0,>=0.10.35->llama-index->-r requirements.txt (line 1)) (3.3)\n",
            "Requirement already satisfied: nltk<4.0.0,>=3.8.1 in /usr/local/lib/python3.10/dist-packages (from llama-index-core<0.11.0,>=0.10.35->llama-index->-r requirements.txt (line 1)) (3.8.1)\n",
            "Requirement already satisfied: numpy in /usr/local/lib/python3.10/dist-packages (from llama-index-core<0.11.0,>=0.10.35->llama-index->-r requirements.txt (line 1)) (1.25.2)\n",
            "Collecting openai>=1.1.0 (from llama-index-core<0.11.0,>=0.10.35->llama-index->-r requirements.txt (line 1))\n",
            "  Downloading openai-1.28.1-py3-none-any.whl (320 kB)\n",
            "\u001b[2K     \u001b[90m━━━━━━━━━━━━━━━━━━━━━━━━━━━━━━━━━━━━━━━━\u001b[0m \u001b[32m320.1/320.1 kB\u001b[0m \u001b[31m27.6 MB/s\u001b[0m eta \u001b[36m0:00:00\u001b[0m\n",
            "\u001b[?25hRequirement already satisfied: pandas in /usr/local/lib/python3.10/dist-packages (from llama-index-core<0.11.0,>=0.10.35->llama-index->-r requirements.txt (line 1)) (2.0.3)\n",
            "Requirement already satisfied: pillow>=9.0.0 in /usr/local/lib/python3.10/dist-packages (from llama-index-core<0.11.0,>=0.10.35->llama-index->-r requirements.txt (line 1)) (9.4.0)\n",
            "Requirement already satisfied: tenacity<9.0.0,>=8.2.0 in /usr/local/lib/python3.10/dist-packages (from llama-index-core<0.11.0,>=0.10.35->llama-index->-r requirements.txt (line 1)) (8.3.0)\n",
            "Collecting tiktoken>=0.3.3 (from llama-index-core<0.11.0,>=0.10.35->llama-index->-r requirements.txt (line 1))\n",
            "  Downloading tiktoken-0.6.0-cp310-cp310-manylinux_2_17_x86_64.manylinux2014_x86_64.whl (1.8 MB)\n",
            "\u001b[2K     \u001b[90m━━━━━━━━━━━━━━━━━━━━━━━━━━━━━━━━━━━━━━━━\u001b[0m \u001b[32m1.8/1.8 MB\u001b[0m \u001b[31m73.2 MB/s\u001b[0m eta \u001b[36m0:00:00\u001b[0m\n",
            "\u001b[?25hCollecting typing-inspect>=0.8.0 (from llama-index-core<0.11.0,>=0.10.35->llama-index->-r requirements.txt (line 1))\n",
            "  Downloading typing_inspect-0.9.0-py3-none-any.whl (8.8 kB)\n",
            "Requirement already satisfied: wrapt in /usr/local/lib/python3.10/dist-packages (from llama-index-core<0.11.0,>=0.10.35->llama-index->-r requirements.txt (line 1)) (1.14.1)\n",
            "Collecting loguru<0.8.0,>=0.7.2 (from fastembed->-r requirements.txt (line 4))\n",
            "  Downloading loguru-0.7.2-py3-none-any.whl (62 kB)\n",
            "\u001b[2K     \u001b[90m━━━━━━━━━━━━━━━━━━━━━━━━━━━━━━━━━━━━━━━━\u001b[0m \u001b[32m62.5/62.5 kB\u001b[0m \u001b[31m7.3 MB/s\u001b[0m eta \u001b[36m0:00:00\u001b[0m\n",
            "\u001b[?25hCollecting tokenizers<0.16,>=0.15 (from fastembed->-r requirements.txt (line 4))\n",
            "  Downloading tokenizers-0.15.2-cp310-cp310-manylinux_2_17_x86_64.manylinux2014_x86_64.whl (3.6 MB)\n",
            "\u001b[2K     \u001b[90m━━━━━━━━━━━━━━━━━━━━━━━━━━━━━━━━━━━━━━━━\u001b[0m \u001b[32m3.6/3.6 MB\u001b[0m \u001b[31m82.3 MB/s\u001b[0m eta \u001b[36m0:00:00\u001b[0m\n",
            "\u001b[?25hRequirement already satisfied: chardet in /usr/local/lib/python3.10/dist-packages (from Unstructured[md]->-r requirements.txt (line 5)) (5.2.0)\n",
            "Collecting filetype (from Unstructured[md]->-r requirements.txt (line 5))\n",
            "  Downloading filetype-1.2.0-py2.py3-none-any.whl (19 kB)\n",
            "Collecting python-magic (from Unstructured[md]->-r requirements.txt (line 5))\n",
            "  Downloading python_magic-0.4.27-py2.py3-none-any.whl (13 kB)\n",
            "Requirement already satisfied: lxml in /usr/local/lib/python3.10/dist-packages (from Unstructured[md]->-r requirements.txt (line 5)) (4.9.4)\n",
            "Requirement already satisfied: tabulate in /usr/local/lib/python3.10/dist-packages (from Unstructured[md]->-r requirements.txt (line 5)) (0.9.0)\n",
            "Requirement already satisfied: beautifulsoup4 in /usr/local/lib/python3.10/dist-packages (from Unstructured[md]->-r requirements.txt (line 5)) (4.12.3)\n",
            "Collecting emoji (from Unstructured[md]->-r requirements.txt (line 5))\n",
            "  Downloading emoji-2.11.1-py2.py3-none-any.whl (433 kB)\n",
            "\u001b[2K     \u001b[90m━━━━━━━━━━━━━━━━━━━━━━━━━━━━━━━━━━━━━━━━\u001b[0m \u001b[32m433.8/433.8 kB\u001b[0m \u001b[31m33.5 MB/s\u001b[0m eta \u001b[36m0:00:00\u001b[0m\n",
            "\u001b[?25hCollecting python-iso639 (from Unstructured[md]->-r requirements.txt (line 5))\n",
            "  Downloading python_iso639-2024.4.27-py3-none-any.whl (274 kB)\n",
            "\u001b[2K     \u001b[90m━━━━━━━━━━━━━━━━━━━━━━━━━━━━━━━━━━━━━━━━\u001b[0m \u001b[32m274.7/274.7 kB\u001b[0m \u001b[31m25.8 MB/s\u001b[0m eta \u001b[36m0:00:00\u001b[0m\n",
            "\u001b[?25hCollecting langdetect (from Unstructured[md]->-r requirements.txt (line 5))\n",
            "  Downloading langdetect-1.0.9.tar.gz (981 kB)\n",
            "\u001b[2K     \u001b[90m━━━━━━━━━━━━━━━━━━━━━━━━━━━━━━━━━━━━━━━━\u001b[0m \u001b[32m981.5/981.5 kB\u001b[0m \u001b[31m56.3 MB/s\u001b[0m eta \u001b[36m0:00:00\u001b[0m\n",
            "\u001b[?25h  Preparing metadata (setup.py) ... \u001b[?25l\u001b[?25hdone\n",
            "Collecting rapidfuzz (from Unstructured[md]->-r requirements.txt (line 5))\n",
            "  Downloading rapidfuzz-3.9.0-cp310-cp310-manylinux_2_17_x86_64.manylinux2014_x86_64.whl (3.4 MB)\n",
            "\u001b[2K     \u001b[90m━━━━━━━━━━━━━━━━━━━━━━━━━━━━━━━━━━━━━━━━\u001b[0m \u001b[32m3.4/3.4 MB\u001b[0m \u001b[31m74.8 MB/s\u001b[0m eta \u001b[36m0:00:00\u001b[0m\n",
            "\u001b[?25hCollecting backoff (from Unstructured[md]->-r requirements.txt (line 5))\n",
            "  Downloading backoff-2.2.1-py3-none-any.whl (15 kB)\n",
            "Collecting unstructured-client (from Unstructured[md]->-r requirements.txt (line 5))\n",
            "  Downloading unstructured_client-0.22.0-py3-none-any.whl (28 kB)\n",
            "Requirement already satisfied: markdown in /usr/local/lib/python3.10/dist-packages (from Unstructured[md]->-r requirements.txt (line 5)) (3.6)\n",
            "Requirement already satisfied: build>=1.0.3 in /usr/local/lib/python3.10/dist-packages (from chromadb->-r requirements.txt (line 6)) (1.2.1)\n",
            "Requirement already satisfied: pydantic>=1.9 in /usr/local/lib/python3.10/dist-packages (from chromadb->-r requirements.txt (line 6)) (2.7.1)\n",
            "Collecting chroma-hnswlib==0.7.3 (from chromadb->-r requirements.txt (line 6))\n",
            "  Downloading chroma_hnswlib-0.7.3-cp310-cp310-manylinux_2_17_x86_64.manylinux2014_x86_64.whl (2.4 MB)\n",
            "\u001b[2K     \u001b[90m━━━━━━━━━━━━━━━━━━━━━━━━━━━━━━━━━━━━━━━━\u001b[0m \u001b[32m2.4/2.4 MB\u001b[0m \u001b[31m68.7 MB/s\u001b[0m eta \u001b[36m0:00:00\u001b[0m\n",
            "\u001b[?25hCollecting fastapi>=0.95.2 (from chromadb->-r requirements.txt (line 6))\n",
            "  Downloading fastapi-0.111.0-py3-none-any.whl (91 kB)\n",
            "\u001b[2K     \u001b[90m━━━━━━━━━━━━━━━━━━━━━━━━━━━━━━━━━━━━━━━━\u001b[0m \u001b[32m92.0/92.0 kB\u001b[0m \u001b[31m9.3 MB/s\u001b[0m eta \u001b[36m0:00:00\u001b[0m\n",
            "\u001b[?25hCollecting uvicorn[standard]>=0.18.3 (from chromadb->-r requirements.txt (line 6))\n",
            "  Downloading uvicorn-0.29.0-py3-none-any.whl (60 kB)\n",
            "\u001b[2K     \u001b[90m━━━━━━━━━━━━━━━━━━━━━━━━━━━━━━━━━━━━━━━━\u001b[0m \u001b[32m60.8/60.8 kB\u001b[0m \u001b[31m5.7 MB/s\u001b[0m eta \u001b[36m0:00:00\u001b[0m\n",
            "\u001b[?25hCollecting posthog>=2.4.0 (from chromadb->-r requirements.txt (line 6))\n",
            "  Downloading posthog-3.5.0-py2.py3-none-any.whl (41 kB)\n",
            "\u001b[2K     \u001b[90m━━━━━━━━━━━━━━━━━━━━━━━━━━━━━━━━━━━━━━━━\u001b[0m \u001b[32m41.3/41.3 kB\u001b[0m \u001b[31m4.3 MB/s\u001b[0m eta \u001b[36m0:00:00\u001b[0m\n",
            "\u001b[?25hCollecting opentelemetry-api>=1.2.0 (from chromadb->-r requirements.txt (line 6))\n",
            "  Downloading opentelemetry_api-1.24.0-py3-none-any.whl (60 kB)\n",
            "\u001b[2K     \u001b[90m━━━━━━━━━━━━━━━━━━━━━━━━━━━━━━━━━━━━━━━━\u001b[0m \u001b[32m60.1/60.1 kB\u001b[0m \u001b[31m6.9 MB/s\u001b[0m eta \u001b[36m0:00:00\u001b[0m\n",
            "\u001b[?25hCollecting opentelemetry-exporter-otlp-proto-grpc>=1.2.0 (from chromadb->-r requirements.txt (line 6))\n",
            "  Downloading opentelemetry_exporter_otlp_proto_grpc-1.24.0-py3-none-any.whl (18 kB)\n",
            "Collecting opentelemetry-instrumentation-fastapi>=0.41b0 (from chromadb->-r requirements.txt (line 6))\n",
            "  Downloading opentelemetry_instrumentation_fastapi-0.45b0-py3-none-any.whl (11 kB)\n",
            "Collecting opentelemetry-sdk>=1.2.0 (from chromadb->-r requirements.txt (line 6))\n",
            "  Downloading opentelemetry_sdk-1.24.0-py3-none-any.whl (106 kB)\n",
            "\u001b[2K     \u001b[90m━━━━━━━━━━━━━━━━━━━━━━━━━━━━━━━━━━━━━━━━\u001b[0m \u001b[32m106.1/106.1 kB\u001b[0m \u001b[31m12.4 MB/s\u001b[0m eta \u001b[36m0:00:00\u001b[0m\n",
            "\u001b[?25hCollecting pypika>=0.48.9 (from chromadb->-r requirements.txt (line 6))\n",
            "  Downloading PyPika-0.48.9.tar.gz (67 kB)\n",
            "\u001b[2K     \u001b[90m━━━━━━━━━━━━━━━━━━━━━━━━━━━━━━━━━━━━━━━━\u001b[0m \u001b[32m67.3/67.3 kB\u001b[0m \u001b[31m8.8 MB/s\u001b[0m eta \u001b[36m0:00:00\u001b[0m\n",
            "\u001b[?25h  Installing build dependencies ... \u001b[?25l\u001b[?25hdone\n",
            "  Getting requirements to build wheel ... \u001b[?25l\u001b[?25hdone\n",
            "  Preparing metadata (pyproject.toml) ... \u001b[?25l\u001b[?25hdone\n",
            "Collecting overrides>=7.3.1 (from chromadb->-r requirements.txt (line 6))\n",
            "  Downloading overrides-7.7.0-py3-none-any.whl (17 kB)\n",
            "Requirement already satisfied: importlib-resources in /usr/local/lib/python3.10/dist-packages (from chromadb->-r requirements.txt (line 6)) (6.4.0)\n",
            "Requirement already satisfied: grpcio>=1.58.0 in /usr/local/lib/python3.10/dist-packages (from chromadb->-r requirements.txt (line 6)) (1.63.0)\n",
            "Collecting bcrypt>=4.0.1 (from chromadb->-r requirements.txt (line 6))\n",
            "  Downloading bcrypt-4.1.3-cp39-abi3-manylinux_2_28_x86_64.whl (283 kB)\n",
            "\u001b[2K     \u001b[90m━━━━━━━━━━━━━━━━━━━━━━━━━━━━━━━━━━━━━━━━\u001b[0m \u001b[32m283.7/283.7 kB\u001b[0m \u001b[31m25.0 MB/s\u001b[0m eta \u001b[36m0:00:00\u001b[0m\n",
            "\u001b[?25hRequirement already satisfied: typer>=0.9.0 in /usr/local/lib/python3.10/dist-packages (from chromadb->-r requirements.txt (line 6)) (0.9.4)\n",
            "Collecting kubernetes>=28.1.0 (from chromadb->-r requirements.txt (line 6))\n",
            "  Downloading kubernetes-29.0.0-py2.py3-none-any.whl (1.6 MB)\n",
            "\u001b[2K     \u001b[90m━━━━━━━━━━━━━━━━━━━━━━━━━━━━━━━━━━━━━━━━\u001b[0m \u001b[32m1.6/1.6 MB\u001b[0m \u001b[31m71.5 MB/s\u001b[0m eta \u001b[36m0:00:00\u001b[0m\n",
            "\u001b[?25hCollecting mmh3>=4.0.1 (from chromadb->-r requirements.txt (line 6))\n",
            "  Downloading mmh3-4.1.0-cp310-cp310-manylinux_2_5_x86_64.manylinux1_x86_64.manylinux_2_17_x86_64.manylinux2014_x86_64.whl (67 kB)\n",
            "\u001b[2K     \u001b[90m━━━━━━━━━━━━━━━━━━━━━━━━━━━━━━━━━━━━━━━━\u001b[0m \u001b[32m67.6/67.6 kB\u001b[0m \u001b[31m8.6 MB/s\u001b[0m eta \u001b[36m0:00:00\u001b[0m\n",
            "\u001b[?25hCollecting orjson>=3.9.12 (from chromadb->-r requirements.txt (line 6))\n",
            "  Downloading orjson-3.10.3-cp310-cp310-manylinux_2_17_x86_64.manylinux2014_x86_64.whl (142 kB)\n",
            "\u001b[2K     \u001b[90m━━━━━━━━━━━━━━━━━━━━━━━━━━━━━━━━━━━━━━━━\u001b[0m \u001b[32m142.5/142.5 kB\u001b[0m \u001b[31m15.6 MB/s\u001b[0m eta \u001b[36m0:00:00\u001b[0m\n",
            "\u001b[?25hCollecting llama-index-llms-openai-like<0.2.0,>=0.1.3 (from llama-index-llms-groq->-r requirements.txt (line 8))\n",
            "  Downloading llama_index_llms_openai_like-0.1.3-py3-none-any.whl (3.0 kB)\n",
            "Requirement already satisfied: psutil in /usr/local/lib/python3.10/dist-packages (from accelerate->-r requirements.txt (line 10)) (5.9.5)\n",
            "Requirement already satisfied: safetensors>=0.3.1 in /usr/local/lib/python3.10/dist-packages (from accelerate->-r requirements.txt (line 10)) (0.4.3)\n",
            "Requirement already satisfied: scikit-learn in /usr/local/lib/python3.10/dist-packages (from sentence-transformers->-r requirements.txt (line 11)) (1.2.2)\n",
            "Requirement already satisfied: scipy in /usr/local/lib/python3.10/dist-packages (from sentence-transformers->-r requirements.txt (line 11)) (1.11.4)\n",
            "Requirement already satisfied: pyproject_hooks in /usr/local/lib/python3.10/dist-packages (from build>=1.0.3->chromadb->-r requirements.txt (line 6)) (1.1.0)\n",
            "Requirement already satisfied: tomli>=1.1.0 in /usr/local/lib/python3.10/dist-packages (from build>=1.0.3->chromadb->-r requirements.txt (line 6)) (2.0.1)\n",
            "Collecting starlette<0.38.0,>=0.37.2 (from fastapi>=0.95.2->chromadb->-r requirements.txt (line 6))\n",
            "  Downloading starlette-0.37.2-py3-none-any.whl (71 kB)\n",
            "\u001b[2K     \u001b[90m━━━━━━━━━━━━━━━━━━━━━━━━━━━━━━━━━━━━━━━━\u001b[0m \u001b[32m71.9/71.9 kB\u001b[0m \u001b[31m8.4 MB/s\u001b[0m eta \u001b[36m0:00:00\u001b[0m\n",
            "\u001b[?25hCollecting fastapi-cli>=0.0.2 (from fastapi>=0.95.2->chromadb->-r requirements.txt (line 6))\n",
            "  Downloading fastapi_cli-0.0.3-py3-none-any.whl (9.2 kB)\n",
            "Requirement already satisfied: jinja2>=2.11.2 in /usr/local/lib/python3.10/dist-packages (from fastapi>=0.95.2->chromadb->-r requirements.txt (line 6)) (3.1.4)\n",
            "Collecting python-multipart>=0.0.7 (from fastapi>=0.95.2->chromadb->-r requirements.txt (line 6))\n",
            "  Downloading python_multipart-0.0.9-py3-none-any.whl (22 kB)\n",
            "Collecting ujson!=4.0.2,!=4.1.0,!=4.2.0,!=4.3.0,!=5.0.0,!=5.1.0,>=4.0.1 (from fastapi>=0.95.2->chromadb->-r requirements.txt (line 6))\n",
            "  Downloading ujson-5.9.0-cp310-cp310-manylinux_2_17_x86_64.manylinux2014_x86_64.whl (53 kB)\n",
            "\u001b[2K     \u001b[90m━━━━━━━━━━━━━━━━━━━━━━━━━━━━━━━━━━━━━━━━\u001b[0m \u001b[32m53.2/53.2 kB\u001b[0m \u001b[31m6.2 MB/s\u001b[0m eta \u001b[36m0:00:00\u001b[0m\n",
            "\u001b[?25hCollecting email_validator>=2.0.0 (from fastapi>=0.95.2->chromadb->-r requirements.txt (line 6))\n",
            "  Downloading email_validator-2.1.1-py3-none-any.whl (30 kB)\n",
            "Requirement already satisfied: certifi>=14.05.14 in /usr/local/lib/python3.10/dist-packages (from kubernetes>=28.1.0->chromadb->-r requirements.txt (line 6)) (2024.2.2)\n",
            "Requirement already satisfied: six>=1.9.0 in /usr/local/lib/python3.10/dist-packages (from kubernetes>=28.1.0->chromadb->-r requirements.txt (line 6)) (1.16.0)\n",
            "Requirement already satisfied: python-dateutil>=2.5.3 in /usr/local/lib/python3.10/dist-packages (from kubernetes>=28.1.0->chromadb->-r requirements.txt (line 6)) (2.8.2)\n",
            "Requirement already satisfied: google-auth>=1.0.1 in /usr/local/lib/python3.10/dist-packages (from kubernetes>=28.1.0->chromadb->-r requirements.txt (line 6)) (2.27.0)\n",
            "Requirement already satisfied: websocket-client!=0.40.0,!=0.41.*,!=0.42.*,>=0.32.0 in /usr/local/lib/python3.10/dist-packages (from kubernetes>=28.1.0->chromadb->-r requirements.txt (line 6)) (1.8.0)\n",
            "Requirement already satisfied: requests-oauthlib in /usr/local/lib/python3.10/dist-packages (from kubernetes>=28.1.0->chromadb->-r requirements.txt (line 6)) (1.3.1)\n",
            "Requirement already satisfied: oauthlib>=3.2.2 in /usr/local/lib/python3.10/dist-packages (from kubernetes>=28.1.0->chromadb->-r requirements.txt (line 6)) (3.2.2)\n",
            "Requirement already satisfied: urllib3>=1.24.2 in /usr/local/lib/python3.10/dist-packages (from kubernetes>=28.1.0->chromadb->-r requirements.txt (line 6)) (2.0.7)\n",
            "Collecting pypdf<5.0.0,>=4.0.1 (from llama-index-readers-file<0.2.0,>=0.1.4->llama-index->-r requirements.txt (line 1))\n",
            "  Downloading pypdf-4.2.0-py3-none-any.whl (290 kB)\n",
            "\u001b[2K     \u001b[90m━━━━━━━━━━━━━━━━━━━━━━━━━━━━━━━━━━━━━━━━\u001b[0m \u001b[32m290.4/290.4 kB\u001b[0m \u001b[31m27.7 MB/s\u001b[0m eta \u001b[36m0:00:00\u001b[0m\n",
            "\u001b[?25hCollecting striprtf<0.0.27,>=0.0.26 (from llama-index-readers-file<0.2.0,>=0.1.4->llama-index->-r requirements.txt (line 1))\n",
            "  Downloading striprtf-0.0.26-py3-none-any.whl (6.9 kB)\n",
            "Requirement already satisfied: soupsieve>1.2 in /usr/local/lib/python3.10/dist-packages (from beautifulsoup4->Unstructured[md]->-r requirements.txt (line 5)) (2.5)\n",
            "Collecting llama-parse<0.5.0,>=0.4.0 (from llama-index-readers-llama-parse<0.2.0,>=0.1.2->llama-index->-r requirements.txt (line 1))\n",
            "  Downloading llama_parse-0.4.2-py3-none-any.whl (7.6 kB)\n",
            "Requirement already satisfied: click in /usr/local/lib/python3.10/dist-packages (from nltk<4.0.0,>=3.8.1->llama-index-core<0.11.0,>=0.10.35->llama-index->-r requirements.txt (line 1)) (8.1.7)\n",
            "Requirement already satisfied: joblib in /usr/local/lib/python3.10/dist-packages (from nltk<4.0.0,>=3.8.1->llama-index-core<0.11.0,>=0.10.35->llama-index->-r requirements.txt (line 1)) (1.4.2)\n",
            "Requirement already satisfied: regex>=2021.8.3 in /usr/local/lib/python3.10/dist-packages (from nltk<4.0.0,>=3.8.1->llama-index-core<0.11.0,>=0.10.35->llama-index->-r requirements.txt (line 1)) (2023.12.25)\n",
            "Requirement already satisfied: protobuf>=3.20.2 in /usr/local/lib/python3.10/dist-packages (from onnx<2.0,>=1.11->fastembed->-r requirements.txt (line 4)) (3.20.3)\n",
            "Collecting coloredlogs (from onnxruntime<2.0,>=1.15->fastembed->-r requirements.txt (line 4))\n",
            "  Downloading coloredlogs-15.0.1-py2.py3-none-any.whl (46 kB)\n",
            "\u001b[2K     \u001b[90m━━━━━━━━━━━━━━━━━━━━━━━━━━━━━━━━━━━━━━━━\u001b[0m \u001b[32m46.0/46.0 kB\u001b[0m \u001b[31m5.8 MB/s\u001b[0m eta \u001b[36m0:00:00\u001b[0m\n",
            "\u001b[?25hRequirement already satisfied: flatbuffers in /usr/local/lib/python3.10/dist-packages (from onnxruntime<2.0,>=1.15->fastembed->-r requirements.txt (line 4)) (24.3.25)\n",
            "Requirement already satisfied: sympy in /usr/local/lib/python3.10/dist-packages (from onnxruntime<2.0,>=1.15->fastembed->-r requirements.txt (line 4)) (1.12)\n",
            "Collecting importlib-metadata<=7.0,>=6.0 (from opentelemetry-api>=1.2.0->chromadb->-r requirements.txt (line 6))\n",
            "  Downloading importlib_metadata-7.0.0-py3-none-any.whl (23 kB)\n",
            "Requirement already satisfied: googleapis-common-protos~=1.52 in /usr/local/lib/python3.10/dist-packages (from opentelemetry-exporter-otlp-proto-grpc>=1.2.0->chromadb->-r requirements.txt (line 6)) (1.63.0)\n",
            "Collecting opentelemetry-exporter-otlp-proto-common==1.24.0 (from opentelemetry-exporter-otlp-proto-grpc>=1.2.0->chromadb->-r requirements.txt (line 6))\n",
            "  Downloading opentelemetry_exporter_otlp_proto_common-1.24.0-py3-none-any.whl (17 kB)\n",
            "Collecting opentelemetry-proto==1.24.0 (from opentelemetry-exporter-otlp-proto-grpc>=1.2.0->chromadb->-r requirements.txt (line 6))\n",
            "  Downloading opentelemetry_proto-1.24.0-py3-none-any.whl (50 kB)\n",
            "\u001b[2K     \u001b[90m━━━━━━━━━━━━━━━━━━━━━━━━━━━━━━━━━━━━━━━━\u001b[0m \u001b[32m50.8/50.8 kB\u001b[0m \u001b[31m6.0 MB/s\u001b[0m eta \u001b[36m0:00:00\u001b[0m\n",
            "\u001b[?25hCollecting opentelemetry-instrumentation-asgi==0.45b0 (from opentelemetry-instrumentation-fastapi>=0.41b0->chromadb->-r requirements.txt (line 6))\n",
            "  Downloading opentelemetry_instrumentation_asgi-0.45b0-py3-none-any.whl (14 kB)\n",
            "Collecting opentelemetry-instrumentation==0.45b0 (from opentelemetry-instrumentation-fastapi>=0.41b0->chromadb->-r requirements.txt (line 6))\n",
            "  Downloading opentelemetry_instrumentation-0.45b0-py3-none-any.whl (28 kB)\n",
            "Collecting opentelemetry-semantic-conventions==0.45b0 (from opentelemetry-instrumentation-fastapi>=0.41b0->chromadb->-r requirements.txt (line 6))\n",
            "  Downloading opentelemetry_semantic_conventions-0.45b0-py3-none-any.whl (36 kB)\n",
            "Collecting opentelemetry-util-http==0.45b0 (from opentelemetry-instrumentation-fastapi>=0.41b0->chromadb->-r requirements.txt (line 6))\n",
            "  Downloading opentelemetry_util_http-0.45b0-py3-none-any.whl (6.9 kB)\n",
            "Requirement already satisfied: setuptools>=16.0 in /usr/local/lib/python3.10/dist-packages (from opentelemetry-instrumentation==0.45b0->opentelemetry-instrumentation-fastapi>=0.41b0->chromadb->-r requirements.txt (line 6)) (67.7.2)\n",
            "Collecting asgiref~=3.0 (from opentelemetry-instrumentation-asgi==0.45b0->opentelemetry-instrumentation-fastapi>=0.41b0->chromadb->-r requirements.txt (line 6))\n",
            "  Downloading asgiref-3.8.1-py3-none-any.whl (23 kB)\n",
            "Collecting monotonic>=1.5 (from posthog>=2.4.0->chromadb->-r requirements.txt (line 6))\n",
            "  Downloading monotonic-1.6-py2.py3-none-any.whl (8.2 kB)\n",
            "Requirement already satisfied: annotated-types>=0.4.0 in /usr/local/lib/python3.10/dist-packages (from pydantic>=1.9->chromadb->-r requirements.txt (line 6)) (0.6.0)\n",
            "Requirement already satisfied: pydantic-core==2.18.2 in /usr/local/lib/python3.10/dist-packages (from pydantic>=1.9->chromadb->-r requirements.txt (line 6)) (2.18.2)\n",
            "Requirement already satisfied: charset-normalizer<4,>=2 in /usr/local/lib/python3.10/dist-packages (from requests<3.0,>=2.31->fastembed->-r requirements.txt (line 4)) (3.3.2)\n",
            "Requirement already satisfied: idna<4,>=2.5 in /usr/local/lib/python3.10/dist-packages (from requests<3.0,>=2.31->fastembed->-r requirements.txt (line 4)) (3.7)\n",
            "Collecting nvidia-cuda-nvrtc-cu12==12.1.105 (from torch<3.0.0,>=2.1.2->llama-index-llms-huggingface->-r requirements.txt (line 2))\n",
            "  Using cached nvidia_cuda_nvrtc_cu12-12.1.105-py3-none-manylinux1_x86_64.whl (23.7 MB)\n",
            "Collecting nvidia-cuda-runtime-cu12==12.1.105 (from torch<3.0.0,>=2.1.2->llama-index-llms-huggingface->-r requirements.txt (line 2))\n",
            "  Using cached nvidia_cuda_runtime_cu12-12.1.105-py3-none-manylinux1_x86_64.whl (823 kB)\n",
            "Collecting nvidia-cuda-cupti-cu12==12.1.105 (from torch<3.0.0,>=2.1.2->llama-index-llms-huggingface->-r requirements.txt (line 2))\n",
            "  Using cached nvidia_cuda_cupti_cu12-12.1.105-py3-none-manylinux1_x86_64.whl (14.1 MB)\n",
            "Collecting nvidia-cudnn-cu12==8.9.2.26 (from torch<3.0.0,>=2.1.2->llama-index-llms-huggingface->-r requirements.txt (line 2))\n",
            "  Using cached nvidia_cudnn_cu12-8.9.2.26-py3-none-manylinux1_x86_64.whl (731.7 MB)\n",
            "Collecting nvidia-cublas-cu12==12.1.3.1 (from torch<3.0.0,>=2.1.2->llama-index-llms-huggingface->-r requirements.txt (line 2))\n",
            "  Using cached nvidia_cublas_cu12-12.1.3.1-py3-none-manylinux1_x86_64.whl (410.6 MB)\n",
            "Collecting nvidia-cufft-cu12==11.0.2.54 (from torch<3.0.0,>=2.1.2->llama-index-llms-huggingface->-r requirements.txt (line 2))\n",
            "  Using cached nvidia_cufft_cu12-11.0.2.54-py3-none-manylinux1_x86_64.whl (121.6 MB)\n",
            "Collecting nvidia-curand-cu12==10.3.2.106 (from torch<3.0.0,>=2.1.2->llama-index-llms-huggingface->-r requirements.txt (line 2))\n",
            "  Using cached nvidia_curand_cu12-10.3.2.106-py3-none-manylinux1_x86_64.whl (56.5 MB)\n",
            "Collecting nvidia-cusolver-cu12==11.4.5.107 (from torch<3.0.0,>=2.1.2->llama-index-llms-huggingface->-r requirements.txt (line 2))\n",
            "  Using cached nvidia_cusolver_cu12-11.4.5.107-py3-none-manylinux1_x86_64.whl (124.2 MB)\n",
            "Collecting nvidia-cusparse-cu12==12.1.0.106 (from torch<3.0.0,>=2.1.2->llama-index-llms-huggingface->-r requirements.txt (line 2))\n",
            "  Using cached nvidia_cusparse_cu12-12.1.0.106-py3-none-manylinux1_x86_64.whl (196.0 MB)\n",
            "Collecting nvidia-nccl-cu12==2.19.3 (from torch<3.0.0,>=2.1.2->llama-index-llms-huggingface->-r requirements.txt (line 2))\n",
            "  Using cached nvidia_nccl_cu12-2.19.3-py3-none-manylinux1_x86_64.whl (166.0 MB)\n",
            "Collecting nvidia-nvtx-cu12==12.1.105 (from torch<3.0.0,>=2.1.2->llama-index-llms-huggingface->-r requirements.txt (line 2))\n",
            "  Using cached nvidia_nvtx_cu12-12.1.105-py3-none-manylinux1_x86_64.whl (99 kB)\n",
            "Requirement already satisfied: triton==2.2.0 in /usr/local/lib/python3.10/dist-packages (from torch<3.0.0,>=2.1.2->llama-index-llms-huggingface->-r requirements.txt (line 2)) (2.2.0)\n",
            "Collecting nvidia-nvjitlink-cu12 (from nvidia-cusolver-cu12==11.4.5.107->torch<3.0.0,>=2.1.2->llama-index-llms-huggingface->-r requirements.txt (line 2))\n",
            "  Using cached nvidia_nvjitlink_cu12-12.4.127-py3-none-manylinux2014_x86_64.whl (21.1 MB)\n",
            "INFO: pip is looking at multiple versions of transformers to determine which version is compatible with other requirements. This could take a while.\n",
            "Collecting transformers<5.0.0,>=4.34.0 (from sentence-transformers->-r requirements.txt (line 11))\n",
            "  Downloading transformers-4.40.1-py3-none-any.whl (9.0 MB)\n",
            "\u001b[2K     \u001b[90m━━━━━━━━━━━━━━━━━━━━━━━━━━━━━━━━━━━━━━━━\u001b[0m \u001b[32m9.0/9.0 MB\u001b[0m \u001b[31m62.8 MB/s\u001b[0m eta \u001b[36m0:00:00\u001b[0m\n",
            "\u001b[?25h  Downloading transformers-4.40.0-py3-none-any.whl (9.0 MB)\n",
            "\u001b[2K     \u001b[90m━━━━━━━━━━━━━━━━━━━━━━━━━━━━━━━━━━━━━━━━\u001b[0m \u001b[32m9.0/9.0 MB\u001b[0m \u001b[31m46.6 MB/s\u001b[0m eta \u001b[36m0:00:00\u001b[0m\n",
            "\u001b[?25h  Downloading transformers-4.39.3-py3-none-any.whl (8.8 MB)\n",
            "\u001b[2K     \u001b[90m━━━━━━━━━━━━━━━━━━━━━━━━━━━━━━━━━━━━━━━━\u001b[0m \u001b[32m8.8/8.8 MB\u001b[0m \u001b[31m98.9 MB/s\u001b[0m eta \u001b[36m0:00:00\u001b[0m\n",
            "\u001b[?25hINFO: pip is looking at multiple versions of transformers[torch] to determine which version is compatible with other requirements. This could take a while.\n",
            "Collecting h11>=0.8 (from uvicorn[standard]>=0.18.3->chromadb->-r requirements.txt (line 6))\n",
            "  Downloading h11-0.14.0-py3-none-any.whl (58 kB)\n",
            "\u001b[2K     \u001b[90m━━━━━━━━━━━━━━━━━━━━━━━━━━━━━━━━━━━━━━━━\u001b[0m \u001b[32m58.3/58.3 kB\u001b[0m \u001b[31m6.9 MB/s\u001b[0m eta \u001b[36m0:00:00\u001b[0m\n",
            "\u001b[?25hCollecting httptools>=0.5.0 (from uvicorn[standard]>=0.18.3->chromadb->-r requirements.txt (line 6))\n",
            "  Downloading httptools-0.6.1-cp310-cp310-manylinux_2_5_x86_64.manylinux1_x86_64.manylinux_2_17_x86_64.manylinux2014_x86_64.whl (341 kB)\n",
            "\u001b[2K     \u001b[90m━━━━━━━━━━━━━━━━━━━━━━━━━━━━━━━━━━━━━━━━\u001b[0m \u001b[32m341.4/341.4 kB\u001b[0m \u001b[31m34.5 MB/s\u001b[0m eta \u001b[36m0:00:00\u001b[0m\n",
            "\u001b[?25hCollecting python-dotenv>=0.13 (from uvicorn[standard]>=0.18.3->chromadb->-r requirements.txt (line 6))\n",
            "  Downloading python_dotenv-1.0.1-py3-none-any.whl (19 kB)\n",
            "Collecting uvloop!=0.15.0,!=0.15.1,>=0.14.0 (from uvicorn[standard]>=0.18.3->chromadb->-r requirements.txt (line 6))\n",
            "  Downloading uvloop-0.19.0-cp310-cp310-manylinux_2_17_x86_64.manylinux2014_x86_64.whl (3.4 MB)\n",
            "\u001b[2K     \u001b[90m━━━━━━━━━━━━━━━━━━━━━━━━━━━━━━━━━━━━━━━━\u001b[0m \u001b[32m3.4/3.4 MB\u001b[0m \u001b[31m92.4 MB/s\u001b[0m eta \u001b[36m0:00:00\u001b[0m\n",
            "\u001b[?25hCollecting watchfiles>=0.13 (from uvicorn[standard]>=0.18.3->chromadb->-r requirements.txt (line 6))\n",
            "  Downloading watchfiles-0.21.0-cp310-cp310-manylinux_2_17_x86_64.manylinux2014_x86_64.whl (1.3 MB)\n",
            "\u001b[2K     \u001b[90m━━━━━━━━━━━━━━━━━━━━━━━━━━━━━━━━━━━━━━━━\u001b[0m \u001b[32m1.3/1.3 MB\u001b[0m \u001b[31m70.9 MB/s\u001b[0m eta \u001b[36m0:00:00\u001b[0m\n",
            "\u001b[?25hCollecting websockets>=10.4 (from uvicorn[standard]>=0.18.3->chromadb->-r requirements.txt (line 6))\n",
            "  Downloading websockets-12.0-cp310-cp310-manylinux_2_5_x86_64.manylinux1_x86_64.manylinux_2_17_x86_64.manylinux2014_x86_64.whl (130 kB)\n",
            "\u001b[2K     \u001b[90m━━━━━━━━━━━━━━━━━━━━━━━━━━━━━━━━━━━━━━━━\u001b[0m \u001b[32m130.2/130.2 kB\u001b[0m \u001b[31m13.3 MB/s\u001b[0m eta \u001b[36m0:00:00\u001b[0m\n",
            "\u001b[?25hCollecting marshmallow<4.0.0,>=3.18.0 (from dataclasses-json->llama-index-core<0.11.0,>=0.10.35->llama-index->-r requirements.txt (line 1))\n",
            "  Downloading marshmallow-3.21.2-py3-none-any.whl (49 kB)\n",
            "\u001b[2K     \u001b[90m━━━━━━━━━━━━━━━━━━━━━━━━━━━━━━━━━━━━━━━━\u001b[0m \u001b[32m49.3/49.3 kB\u001b[0m \u001b[31m5.5 MB/s\u001b[0m eta \u001b[36m0:00:00\u001b[0m\n",
            "\u001b[?25hRequirement already satisfied: threadpoolctl>=2.0.0 in /usr/local/lib/python3.10/dist-packages (from scikit-learn->sentence-transformers->-r requirements.txt (line 11)) (3.5.0)\n",
            "Collecting deepdiff>=6.0 (from unstructured-client->Unstructured[md]->-r requirements.txt (line 5))\n",
            "  Downloading deepdiff-7.0.1-py3-none-any.whl (80 kB)\n",
            "\u001b[2K     \u001b[90m━━━━━━━━━━━━━━━━━━━━━━━━━━━━━━━━━━━━━━━━\u001b[0m \u001b[32m80.8/80.8 kB\u001b[0m \u001b[31m10.1 MB/s\u001b[0m eta \u001b[36m0:00:00\u001b[0m\n",
            "\u001b[?25hCollecting jsonpath-python>=1.0.6 (from unstructured-client->Unstructured[md]->-r requirements.txt (line 5))\n",
            "  Downloading jsonpath_python-1.0.6-py3-none-any.whl (7.6 kB)\n",
            "Collecting mypy-extensions>=1.0.0 (from unstructured-client->Unstructured[md]->-r requirements.txt (line 5))\n",
            "  Downloading mypy_extensions-1.0.0-py3-none-any.whl (4.7 kB)\n",
            "Requirement already satisfied: aiosignal>=1.1.2 in /usr/local/lib/python3.10/dist-packages (from aiohttp<4.0.0,>=3.8.6->llama-index-core<0.11.0,>=0.10.35->llama-index->-r requirements.txt (line 1)) (1.3.1)\n",
            "Requirement already satisfied: attrs>=17.3.0 in /usr/local/lib/python3.10/dist-packages (from aiohttp<4.0.0,>=3.8.6->llama-index-core<0.11.0,>=0.10.35->llama-index->-r requirements.txt (line 1)) (23.2.0)\n",
            "Requirement already satisfied: frozenlist>=1.1.1 in /usr/local/lib/python3.10/dist-packages (from aiohttp<4.0.0,>=3.8.6->llama-index-core<0.11.0,>=0.10.35->llama-index->-r requirements.txt (line 1)) (1.4.1)\n",
            "Requirement already satisfied: multidict<7.0,>=4.5 in /usr/local/lib/python3.10/dist-packages (from aiohttp<4.0.0,>=3.8.6->llama-index-core<0.11.0,>=0.10.35->llama-index->-r requirements.txt (line 1)) (6.0.5)\n",
            "Requirement already satisfied: yarl<2.0,>=1.0 in /usr/local/lib/python3.10/dist-packages (from aiohttp<4.0.0,>=3.8.6->llama-index-core<0.11.0,>=0.10.35->llama-index->-r requirements.txt (line 1)) (1.9.4)\n",
            "Requirement already satisfied: async-timeout<5.0,>=4.0 in /usr/local/lib/python3.10/dist-packages (from aiohttp<4.0.0,>=3.8.6->llama-index-core<0.11.0,>=0.10.35->llama-index->-r requirements.txt (line 1)) (4.0.3)\n",
            "Collecting ordered-set<4.2.0,>=4.1.0 (from deepdiff>=6.0->unstructured-client->Unstructured[md]->-r requirements.txt (line 5))\n",
            "  Downloading ordered_set-4.1.0-py3-none-any.whl (7.6 kB)\n",
            "Collecting dnspython>=2.0.0 (from email_validator>=2.0.0->fastapi>=0.95.2->chromadb->-r requirements.txt (line 6))\n",
            "  Downloading dnspython-2.6.1-py3-none-any.whl (307 kB)\n",
            "\u001b[2K     \u001b[90m━━━━━━━━━━━━━━━━━━━━━━━━━━━━━━━━━━━━━━━━\u001b[0m \u001b[32m307.7/307.7 kB\u001b[0m \u001b[31m28.5 MB/s\u001b[0m eta \u001b[36m0:00:00\u001b[0m\n",
            "\u001b[?25hCollecting typer>=0.9.0 (from chromadb->-r requirements.txt (line 6))\n",
            "  Downloading typer-0.12.3-py3-none-any.whl (47 kB)\n",
            "\u001b[2K     \u001b[90m━━━━━━━━━━━━━━━━━━━━━━━━━━━━━━━━━━━━━━━━\u001b[0m \u001b[32m47.2/47.2 kB\u001b[0m \u001b[31m5.1 MB/s\u001b[0m eta \u001b[36m0:00:00\u001b[0m\n",
            "\u001b[?25hCollecting shellingham>=1.3.0 (from typer>=0.9.0->chromadb->-r requirements.txt (line 6))\n",
            "  Downloading shellingham-1.5.4-py2.py3-none-any.whl (9.8 kB)\n",
            "Requirement already satisfied: rich>=10.11.0 in /usr/local/lib/python3.10/dist-packages (from typer>=0.9.0->chromadb->-r requirements.txt (line 6)) (13.7.1)\n",
            "Requirement already satisfied: cachetools<6.0,>=2.0.0 in /usr/local/lib/python3.10/dist-packages (from google-auth>=1.0.1->kubernetes>=28.1.0->chromadb->-r requirements.txt (line 6)) (5.3.3)\n",
            "Requirement already satisfied: pyasn1-modules>=0.2.1 in /usr/local/lib/python3.10/dist-packages (from google-auth>=1.0.1->kubernetes>=28.1.0->chromadb->-r requirements.txt (line 6)) (0.4.0)\n",
            "Requirement already satisfied: rsa<5,>=3.1.4 in /usr/local/lib/python3.10/dist-packages (from google-auth>=1.0.1->kubernetes>=28.1.0->chromadb->-r requirements.txt (line 6)) (4.9)\n",
            "Requirement already satisfied: anyio in /usr/local/lib/python3.10/dist-packages (from httpx->llama-index-core<0.11.0,>=0.10.35->llama-index->-r requirements.txt (line 1)) (3.7.1)\n",
            "Collecting httpcore==1.* (from httpx->llama-index-core<0.11.0,>=0.10.35->llama-index->-r requirements.txt (line 1))\n",
            "  Downloading httpcore-1.0.5-py3-none-any.whl (77 kB)\n",
            "\u001b[2K     \u001b[90m━━━━━━━━━━━━━━━━━━━━━━━━━━━━━━━━━━━━━━━━\u001b[0m \u001b[32m77.9/77.9 kB\u001b[0m \u001b[31m8.2 MB/s\u001b[0m eta \u001b[36m0:00:00\u001b[0m\n",
            "\u001b[?25hRequirement already satisfied: sniffio in /usr/local/lib/python3.10/dist-packages (from httpx->llama-index-core<0.11.0,>=0.10.35->llama-index->-r requirements.txt (line 1)) (1.3.1)\n",
            "Requirement already satisfied: zipp>=0.5 in /usr/local/lib/python3.10/dist-packages (from importlib-metadata<=7.0,>=6.0->opentelemetry-api>=1.2.0->chromadb->-r requirements.txt (line 6)) (3.18.1)\n",
            "Requirement already satisfied: MarkupSafe>=2.0 in /usr/local/lib/python3.10/dist-packages (from jinja2>=2.11.2->fastapi>=0.95.2->chromadb->-r requirements.txt (line 6)) (2.1.5)\n",
            "Requirement already satisfied: distro<2,>=1.7.0 in /usr/lib/python3/dist-packages (from openai>=1.1.0->llama-index-core<0.11.0,>=0.10.35->llama-index->-r requirements.txt (line 1)) (1.7.0)\n",
            "Requirement already satisfied: markdown-it-py>=2.2.0 in /usr/local/lib/python3.10/dist-packages (from rich>=10.11.0->typer>=0.9.0->chromadb->-r requirements.txt (line 6)) (3.0.0)\n",
            "Requirement already satisfied: pygments<3.0.0,>=2.13.0 in /usr/local/lib/python3.10/dist-packages (from rich>=10.11.0->typer>=0.9.0->chromadb->-r requirements.txt (line 6)) (2.16.1)\n",
            "Requirement already satisfied: greenlet!=0.4.17 in /usr/local/lib/python3.10/dist-packages (from SQLAlchemy[asyncio]>=1.4.49->llama-index-core<0.11.0,>=0.10.35->llama-index->-r requirements.txt (line 1)) (3.0.3)\n",
            "Collecting humanfriendly>=9.1 (from coloredlogs->onnxruntime<2.0,>=1.15->fastembed->-r requirements.txt (line 4))\n",
            "  Downloading humanfriendly-10.0-py2.py3-none-any.whl (86 kB)\n",
            "\u001b[2K     \u001b[90m━━━━━━━━━━━━━━━━━━━━━━━━━━━━━━━━━━━━━━━━\u001b[0m \u001b[32m86.8/86.8 kB\u001b[0m \u001b[31m9.6 MB/s\u001b[0m eta \u001b[36m0:00:00\u001b[0m\n",
            "\u001b[?25hRequirement already satisfied: pytz>=2020.1 in /usr/local/lib/python3.10/dist-packages (from pandas->llama-index-core<0.11.0,>=0.10.35->llama-index->-r requirements.txt (line 1)) (2023.4)\n",
            "Requirement already satisfied: tzdata>=2022.1 in /usr/local/lib/python3.10/dist-packages (from pandas->llama-index-core<0.11.0,>=0.10.35->llama-index->-r requirements.txt (line 1)) (2024.1)\n",
            "Requirement already satisfied: mpmath>=0.19 in /usr/local/lib/python3.10/dist-packages (from sympy->onnxruntime<2.0,>=1.15->fastembed->-r requirements.txt (line 4)) (1.3.0)\n",
            "Requirement already satisfied: exceptiongroup in /usr/local/lib/python3.10/dist-packages (from anyio->httpx->llama-index-core<0.11.0,>=0.10.35->llama-index->-r requirements.txt (line 1)) (1.2.1)\n",
            "Requirement already satisfied: mdurl~=0.1 in /usr/local/lib/python3.10/dist-packages (from markdown-it-py>=2.2.0->rich>=10.11.0->typer>=0.9.0->chromadb->-r requirements.txt (line 6)) (0.1.2)\n",
            "Requirement already satisfied: pyasn1<0.7.0,>=0.4.6 in /usr/local/lib/python3.10/dist-packages (from pyasn1-modules>=0.2.1->google-auth>=1.0.1->kubernetes>=28.1.0->chromadb->-r requirements.txt (line 6)) (0.6.0)\n",
            "Building wheels for collected packages: pypika, langdetect\n",
            "  Building wheel for pypika (pyproject.toml) ... \u001b[?25l\u001b[?25hdone\n",
            "  Created wheel for pypika: filename=PyPika-0.48.9-py2.py3-none-any.whl size=53724 sha256=07d15da6eeef1393e8fb592ac6d3b9f9528a56a9a7ef69034ca5bfc9c98f0e90\n",
            "  Stored in directory: /root/.cache/pip/wheels/e1/26/51/d0bffb3d2fd82256676d7ad3003faea3bd6dddc9577af665f4\n",
            "  Building wheel for langdetect (setup.py) ... \u001b[?25l\u001b[?25hdone\n",
            "  Created wheel for langdetect: filename=langdetect-1.0.9-py3-none-any.whl size=993227 sha256=bfd33b24105dd5ed943edd1dcff6da38ea100de61925c7428e55b4960db20f38\n",
            "  Stored in directory: /root/.cache/pip/wheels/95/03/7d/59ea870c70ce4e5a370638b5462a7711ab78fba2f655d05106\n",
            "Successfully built pypika langdetect\n",
            "Installing collected packages: striprtf, pypika, monotonic, mmh3, filetype, dirtyjson, websockets, uvloop, ujson, shellingham, rapidfuzz, python-multipart, python-magic, python-iso639, python-dotenv, pypdf, overrides, orjson, ordered-set, opentelemetry-util-http, opentelemetry-semantic-conventions, opentelemetry-proto, onnx, nvidia-nvtx-cu12, nvidia-nvjitlink-cu12, nvidia-nccl-cu12, nvidia-curand-cu12, nvidia-cufft-cu12, nvidia-cuda-runtime-cu12, nvidia-cuda-nvrtc-cu12, nvidia-cuda-cupti-cu12, nvidia-cublas-cu12, mypy-extensions, marshmallow, loguru, langdetect, jsonpath-python, importlib-metadata, humanfriendly, httptools, h11, emoji, einops, dnspython, deprecated, chroma-hnswlib, bcrypt, backoff, asgiref, watchfiles, uvicorn, typing-inspect, tiktoken, starlette, posthog, opentelemetry-exporter-otlp-proto-common, opentelemetry-api, nvidia-cusparse-cu12, nvidia-cudnn-cu12, httpcore, email_validator, deepdiff, coloredlogs, typer, tokenizers, text-generation, opentelemetry-sdk, opentelemetry-instrumentation, onnxruntime, nvidia-cusolver-cu12, kubernetes, httpx, dataclasses-json, unstructured-client, transformers, opentelemetry-instrumentation-asgi, opentelemetry-exporter-otlp-proto-grpc, openai, llamaindex-py-client, fastembed, Unstructured, sentence-transformers, opentelemetry-instrumentation-fastapi, llama-index-legacy, llama-index-core, accelerate, llama-parse, llama-index-readers-file, llama-index-llms-openai, llama-index-indices-managed-llama-cloud, llama-index-embeddings-openai, llama-index-embeddings-fastembed, llama-index-readers-llama-parse, llama-index-multi-modal-llms-openai, llama-index-llms-openai-like, llama-index-llms-huggingface, llama-index-cli, llama-index-agent-openai, llama-index-program-openai, llama-index-llms-groq, llama-index-question-gen-openai, llama-index, fastapi-cli, fastapi, chromadb, llama-index-vector-stores-chroma\n",
            "  Attempting uninstall: importlib-metadata\n",
            "    Found existing installation: importlib_metadata 7.1.0\n",
            "    Uninstalling importlib_metadata-7.1.0:\n",
            "      Successfully uninstalled importlib_metadata-7.1.0\n",
            "  Attempting uninstall: typer\n",
            "    Found existing installation: typer 0.9.4\n",
            "    Uninstalling typer-0.9.4:\n",
            "      Successfully uninstalled typer-0.9.4\n",
            "  Attempting uninstall: tokenizers\n",
            "    Found existing installation: tokenizers 0.19.1\n",
            "    Uninstalling tokenizers-0.19.1:\n",
            "      Successfully uninstalled tokenizers-0.19.1\n",
            "  Attempting uninstall: transformers\n",
            "    Found existing installation: transformers 4.40.2\n",
            "    Uninstalling transformers-4.40.2:\n",
            "      Successfully uninstalled transformers-4.40.2\n",
            "\u001b[31mERROR: pip's dependency resolver does not currently take into account all the packages that are installed. This behaviour is the source of the following dependency conflicts.\n",
            "spacy 3.7.4 requires typer<0.10.0,>=0.3.0, but you have typer 0.12.3 which is incompatible.\n",
            "weasel 0.3.4 requires typer<0.10.0,>=0.3.0, but you have typer 0.12.3 which is incompatible.\u001b[0m\u001b[31m\n",
            "\u001b[0mSuccessfully installed Unstructured-0.13.7 accelerate-0.30.1 asgiref-3.8.1 backoff-2.2.1 bcrypt-4.1.3 chroma-hnswlib-0.7.3 chromadb-0.5.0 coloredlogs-15.0.1 dataclasses-json-0.6.6 deepdiff-7.0.1 deprecated-1.2.14 dirtyjson-1.0.8 dnspython-2.6.1 einops-0.8.0 email_validator-2.1.1 emoji-2.11.1 fastapi-0.111.0 fastapi-cli-0.0.3 fastembed-0.2.7 filetype-1.2.0 h11-0.14.0 httpcore-1.0.5 httptools-0.6.1 httpx-0.27.0 humanfriendly-10.0 importlib-metadata-7.0.0 jsonpath-python-1.0.6 kubernetes-29.0.0 langdetect-1.0.9 llama-index-0.10.36 llama-index-agent-openai-0.2.4 llama-index-cli-0.1.12 llama-index-core-0.10.36 llama-index-embeddings-fastembed-0.1.4 llama-index-embeddings-openai-0.1.9 llama-index-indices-managed-llama-cloud-0.1.6 llama-index-legacy-0.9.48 llama-index-llms-groq-0.1.3 llama-index-llms-huggingface-0.1.5 llama-index-llms-openai-0.1.18 llama-index-llms-openai-like-0.1.3 llama-index-multi-modal-llms-openai-0.1.5 llama-index-program-openai-0.1.6 llama-index-question-gen-openai-0.1.3 llama-index-readers-file-0.1.22 llama-index-readers-llama-parse-0.1.4 llama-index-vector-stores-chroma-0.1.8 llama-parse-0.4.2 llamaindex-py-client-0.1.19 loguru-0.7.2 marshmallow-3.21.2 mmh3-4.1.0 monotonic-1.6 mypy-extensions-1.0.0 nvidia-cublas-cu12-12.1.3.1 nvidia-cuda-cupti-cu12-12.1.105 nvidia-cuda-nvrtc-cu12-12.1.105 nvidia-cuda-runtime-cu12-12.1.105 nvidia-cudnn-cu12-8.9.2.26 nvidia-cufft-cu12-11.0.2.54 nvidia-curand-cu12-10.3.2.106 nvidia-cusolver-cu12-11.4.5.107 nvidia-cusparse-cu12-12.1.0.106 nvidia-nccl-cu12-2.19.3 nvidia-nvjitlink-cu12-12.4.127 nvidia-nvtx-cu12-12.1.105 onnx-1.16.0 onnxruntime-1.17.3 openai-1.28.1 opentelemetry-api-1.24.0 opentelemetry-exporter-otlp-proto-common-1.24.0 opentelemetry-exporter-otlp-proto-grpc-1.24.0 opentelemetry-instrumentation-0.45b0 opentelemetry-instrumentation-asgi-0.45b0 opentelemetry-instrumentation-fastapi-0.45b0 opentelemetry-proto-1.24.0 opentelemetry-sdk-1.24.0 opentelemetry-semantic-conventions-0.45b0 opentelemetry-util-http-0.45b0 ordered-set-4.1.0 orjson-3.10.3 overrides-7.7.0 posthog-3.5.0 pypdf-4.2.0 pypika-0.48.9 python-dotenv-1.0.1 python-iso639-2024.4.27 python-magic-0.4.27 python-multipart-0.0.9 rapidfuzz-3.9.0 sentence-transformers-2.7.0 shellingham-1.5.4 starlette-0.37.2 striprtf-0.0.26 text-generation-0.7.0 tiktoken-0.6.0 tokenizers-0.15.2 transformers-4.39.3 typer-0.12.3 typing-inspect-0.9.0 ujson-5.9.0 unstructured-client-0.22.0 uvicorn-0.29.0 uvloop-0.19.0 watchfiles-0.21.0 websockets-12.0\n"
          ]
        }
      ]
    },
    {
      "cell_type": "code",
      "source": [
        "!pip install -q llama-index-llms-openai"
      ],
      "metadata": {
        "id": "pJroyUAuuqMc"
      },
      "execution_count": null,
      "outputs": []
    },
    {
      "cell_type": "markdown",
      "source": [
        "## Download Documents to be processed"
      ],
      "metadata": {
        "id": "dx4tpjTk8V3X"
      }
    },
    {
      "cell_type": "code",
      "source": [
        "!mkdir data"
      ],
      "metadata": {
        "id": "8aKgfwaT747z"
      },
      "execution_count": 4,
      "outputs": []
    },
    {
      "cell_type": "code",
      "source": [
        "! wget \"https://arxiv.org/pdf/1810.04805.pdf\" -O ./data/BERT_arxiv.pdf\n",
        "! wget \"https://arxiv.org/pdf/2005.11401\" -O ./data/RAG_arxiv.pdf\n",
        "! wget \"https://arxiv.org/pdf/2310.11511\" -O ./data/self_rag_arxiv.pdf\n",
        "! wget \"https://arxiv.org/pdf/2401.15884\" -O ./data/crag_arxiv.pdf"
      ],
      "metadata": {
        "colab": {
          "base_uri": "https://localhost:8080/"
        },
        "id": "SFtmjS1z9CEQ",
        "outputId": "990dae82-275d-452c-bbf4-782cdbe9424b"
      },
      "execution_count": 43,
      "outputs": [
        {
          "output_type": "stream",
          "name": "stdout",
          "text": [
            "--2024-05-11 15:51:49--  https://arxiv.org/pdf/1810.04805.pdf\n",
            "Resolving arxiv.org (arxiv.org)... 151.101.131.42, 151.101.3.42, 151.101.67.42, ...\n",
            "Connecting to arxiv.org (arxiv.org)|151.101.131.42|:443... connected.\n",
            "HTTP request sent, awaiting response... 301 Moved Permanently\n",
            "Location: http://arxiv.org/pdf/1810.04805 [following]\n",
            "--2024-05-11 15:51:49--  http://arxiv.org/pdf/1810.04805\n",
            "Connecting to arxiv.org (arxiv.org)|151.101.131.42|:80... connected.\n",
            "HTTP request sent, awaiting response... 200 OK\n",
            "Length: 775166 (757K) [application/pdf]\n",
            "Saving to: ‘./data/BERT_arxiv.pdf’\n",
            "\n",
            "\r./data/BERT_arxiv.p   0%[                    ]       0  --.-KB/s               \r./data/BERT_arxiv.p 100%[===================>] 757.00K  --.-KB/s    in 0.02s   \n",
            "\n",
            "2024-05-11 15:51:49 (43.8 MB/s) - ‘./data/BERT_arxiv.pdf’ saved [775166/775166]\n",
            "\n",
            "--2024-05-11 15:51:49--  https://arxiv.org/pdf/2005.11401\n",
            "Resolving arxiv.org (arxiv.org)... 151.101.131.42, 151.101.3.42, 151.101.67.42, ...\n",
            "Connecting to arxiv.org (arxiv.org)|151.101.131.42|:443... connected.\n",
            "HTTP request sent, awaiting response... 200 OK\n",
            "Length: 885323 (865K) [application/pdf]\n",
            "Saving to: ‘./data/RAG_arxiv.pdf’\n",
            "\n",
            "./data/RAG_arxiv.pd 100%[===================>] 864.57K  --.-KB/s    in 0.02s   \n",
            "\n",
            "2024-05-11 15:51:49 (46.5 MB/s) - ‘./data/RAG_arxiv.pdf’ saved [885323/885323]\n",
            "\n",
            "--2024-05-11 15:51:49--  https://arxiv.org/pdf/2310.11511\n",
            "Resolving arxiv.org (arxiv.org)... 151.101.131.42, 151.101.3.42, 151.101.67.42, ...\n",
            "Connecting to arxiv.org (arxiv.org)|151.101.131.42|:443... connected.\n",
            "HTTP request sent, awaiting response... 200 OK\n",
            "Length: 1405127 (1.3M) [application/pdf]\n",
            "Saving to: ‘./data/self_rag_arxiv.pdf’\n",
            "\n",
            "./data/self_rag_arx 100%[===================>]   1.34M  --.-KB/s    in 0.02s   \n",
            "\n",
            "2024-05-11 15:51:49 (55.1 MB/s) - ‘./data/self_rag_arxiv.pdf’ saved [1405127/1405127]\n",
            "\n",
            "--2024-05-11 15:51:49--  https://arxiv.org/pdf/2401.15884\n",
            "Resolving arxiv.org (arxiv.org)... 151.101.131.42, 151.101.3.42, 151.101.67.42, ...\n",
            "Connecting to arxiv.org (arxiv.org)|151.101.131.42|:443... connected.\n",
            "HTTP request sent, awaiting response... 200 OK\n",
            "Length: 643848 (629K) [application/pdf]\n",
            "Saving to: ‘./data/crag_arxiv.pdf’\n",
            "\n",
            "./data/crag_arxiv.p 100%[===================>] 628.76K  --.-KB/s    in 0.02s   \n",
            "\n",
            "2024-05-11 15:51:49 (37.8 MB/s) - ‘./data/crag_arxiv.pdf’ saved [643848/643848]\n",
            "\n"
          ]
        }
      ]
    },
    {
      "cell_type": "markdown",
      "source": [
        "## Import Required Dependencies"
      ],
      "metadata": {
        "id": "mgBUMGLN-KMg"
      }
    },
    {
      "cell_type": "code",
      "source": [
        "from llama_index.core import SimpleDirectoryReader,VectorStoreIndex,SummaryIndex\n",
        "from llama_index.vector_stores.chroma import ChromaVectorStore\n",
        "from llama_index.core import StorageContext\n",
        "from llama_index.core.node_parser import SentenceSplitter\n",
        "from llama_index.core.tools import FunctionTool,QueryEngineTool\n",
        "from llama_index.core.vector_stores import MetadataFilters,FilterCondition\n",
        "from typing import List,Optional"
      ],
      "metadata": {
        "id": "z5S6NHjs-RuA"
      },
      "execution_count": 23,
      "outputs": []
    },
    {
      "cell_type": "code",
      "source": [
        "import  nest_asyncio\n",
        "nest_asyncio.apply()"
      ],
      "metadata": {
        "id": "LDhb9SMqBAqS"
      },
      "execution_count": 7,
      "outputs": []
    },
    {
      "cell_type": "markdown",
      "source": [
        "## Read Data"
      ],
      "metadata": {
        "id": "P7asZW-QBQdE"
      }
    },
    {
      "cell_type": "code",
      "source": [
        "documents = SimpleDirectoryReader(input_files = ['./data/self_rag_arxiv.pdf']).load_data()"
      ],
      "metadata": {
        "id": "ZbncHhLnBEQ3"
      },
      "execution_count": 124,
      "outputs": []
    },
    {
      "cell_type": "markdown",
      "source": [],
      "metadata": {
        "id": "XYwP3cwYUwIS"
      }
    },
    {
      "cell_type": "code",
      "source": [
        "len(documents)"
      ],
      "metadata": {
        "colab": {
          "base_uri": "https://localhost:8080/"
        },
        "id": "FGqtM0NABlDS",
        "outputId": "bdbf61ae-c0d8-4ecf-bd4d-877624220618"
      },
      "execution_count": 125,
      "outputs": [
        {
          "output_type": "execute_result",
          "data": {
            "text/plain": [
              "30"
            ]
          },
          "metadata": {},
          "execution_count": 125
        }
      ]
    },
    {
      "cell_type": "markdown",
      "source": [
        "## Display Metadata"
      ],
      "metadata": {
        "id": "3RGuzGwgBxI_"
      }
    },
    {
      "cell_type": "code",
      "source": [
        "documents[0].metadata"
      ],
      "metadata": {
        "colab": {
          "base_uri": "https://localhost:8080/"
        },
        "id": "L2GI96aBBmaQ",
        "outputId": "a89a456b-76e5-435a-e254-eeee10e5029f"
      },
      "execution_count": 126,
      "outputs": [
        {
          "output_type": "execute_result",
          "data": {
            "text/plain": [
              "{'page_label': '1',\n",
              " 'file_name': 'self_rag_arxiv.pdf',\n",
              " 'file_path': 'data/self_rag_arxiv.pdf',\n",
              " 'file_type': 'application/pdf',\n",
              " 'file_size': 1405127,\n",
              " 'creation_date': '2024-05-11',\n",
              " 'last_modified_date': '2023-10-19'}"
            ]
          },
          "metadata": {},
          "execution_count": 126
        }
      ]
    },
    {
      "cell_type": "markdown",
      "source": [
        "## Split the documents into chunks"
      ],
      "metadata": {
        "id": "etEqbszXC-s4"
      }
    },
    {
      "cell_type": "code",
      "source": [
        "splitter = SentenceSplitter(chunk_size=1024,chunk_overlap=100)\n",
        "nodes = splitter.get_nodes_from_documents(documents)\n",
        "print(f\"Length of nodes : {len(nodes)}\")\n",
        "print(f\"get the content for node 0 :{nodes[0].get_content(metadata_mode='all')}\")"
      ],
      "metadata": {
        "colab": {
          "base_uri": "https://localhost:8080/"
        },
        "id": "A0x03Xp8Boi2",
        "outputId": "028daa1c-9ad2-4d57-e118-a087bca25aad"
      },
      "execution_count": 127,
      "outputs": [
        {
          "output_type": "stream",
          "name": "stdout",
          "text": [
            "Length of nodes : 43\n",
            "get the content for node 0 :page_label: 1\n",
            "file_name: self_rag_arxiv.pdf\n",
            "file_path: data/self_rag_arxiv.pdf\n",
            "file_type: application/pdf\n",
            "file_size: 1405127\n",
            "creation_date: 2024-05-11\n",
            "last_modified_date: 2023-10-19\n",
            "\n",
            "Preprint.\n",
            "SELF-RAG: LEARNING TO RETRIEVE , GENERATE ,AND\n",
            "CRITIQUE THROUGH SELF-REFLECTION\n",
            "Akari Asai†, Zeqiu Wu†, Yizhong Wang†§, Avirup Sil‡, Hannaneh Hajishirzi†§\n",
            "†University of Washington§Allen Institute for AI‡IBM Research AI\n",
            "{akari,zeqiuwu,yizhongw,hannaneh }@cs.washington.edu ,avi@us.ibm.com\n",
            "ABSTRACT\n",
            "Despite their remarkable capabilities, large language models (LLMs) often produce\n",
            "responses containing factual inaccuracies due to their sole reliance on the paramet-\n",
            "ric knowledge they encapsulate. Retrieval-Augmented Generation (RAG), an ad\n",
            "hoc approach that augments LMs with retrieval of relevant knowledge, decreases\n",
            "such issues. However, indiscriminately retrieving and incorporating a fixed number\n",
            "of retrieved passages, regardless of whether retrieval is necessary, or passages are\n",
            "relevant, diminishes LM versatility or can lead to unhelpful response generation.\n",
            "We introduce a new framework called Self-Reflective Retrieval-Augmented Gen-\n",
            "eration ( SELF-RAG)that enhances an LM’s quality and factuality through retrieval\n",
            "and self-reflection. Our framework trains a single arbitrary LM that adaptively\n",
            "retrieves passages on-demand, and generates and reflects on retrieved passages\n",
            "and its own generations using special tokens, called reflection tokens. Generating\n",
            "reflection tokens makes the LM controllable during the inference phase, enabling it\n",
            "to tailor its behavior to diverse task requirements. Experiments show that SELF-\n",
            "RAG(7B and 13B parameters) significantly outperforms state-of-the-art LLMs\n",
            "and retrieval-augmented models on a diverse set of tasks. Specifically, SELF-RAG\n",
            "outperforms ChatGPT and retrieval-augmented Llama2-chat on Open-domain QA,\n",
            "reasoning and fact verification tasks, and it shows significant gains in improving\n",
            "factuality and citation accuracy for long-form generations relative to these models.1\n",
            "1 I NTRODUCTION\n",
            "State-of-the-art LLMs continue to struggle with factual errors (Mallen et al., 2023; Min et al., 2023)\n",
            "despite their increased model and data scale (Ouyang et al., 2022). Retrieval-Augmented Generation\n",
            "(RAG) methods (Figure 1 left; Lewis et al. 2020; Guu et al. 2020) augment the input of LLMs\n",
            "with relevant retrieved passages, reducing factual errors in knowledge-intensive tasks (Ram et al.,\n",
            "2023; Asai et al., 2023a). However, these methods may hinder the versatility of LLMs or introduce\n",
            "unnecessary or off-topic passages that lead to low-quality generations (Shi et al., 2023) since they\n",
            "retrieve passages indiscriminately regardless of whether the factual grounding is helpful. Moreover,\n",
            "the output is not guaranteed to be consistent with retrieved relevant passages (Gao et al., 2023) since\n",
            "the models are not explicitly trained to leverage and follow facts from provided passages. This\n",
            "work introduces Self-Reflective Retrieval-augmented Generation ( SELF-RAG)to improve an\n",
            "LLM’s generation quality, including its factual accuracy without hurting its versatility, via on-demand\n",
            "retrieval and self-reflection. We train an arbitrary LM in an end-to-end manner to learn to reflect on\n",
            "its own generation process given a task input by generating both task output and intermittent special\n",
            "tokens (i.e., reflection tokens ). Reflection tokens are categorized into retrieval andcritique tokens to\n",
            "indicate the need for retrieval and its generation quality respectively (Figure 1 right). In particular,\n",
            "given an input prompt and preceding generations, SELF-RAGfirst determines if augmenting the\n",
            "continued generation with retrieved passages would be helpful. If so, it outputs a retrieval token that\n",
            "calls a retriever model on demand (Step 1). Subsequently, SELF-RAGconcurrently processes multiple\n",
            "retrieved passages, evaluating their relevance and then generating corresponding task outputs (Step\n",
            "2). It then generates critique tokens to criticize its own output and choose best one (Step 3) in terms\n",
            "of factuality and overall quality. This process differs from conventional RAG (Figure 1 left), which\n",
            "1Our code and trained models are available at https://selfrag.github.io/ .\n",
            "1arXiv:2310.11511v1  [cs.CL]  17 Oct 2023\n"
          ]
        }
      ]
    },
    {
      "cell_type": "markdown",
      "source": [
        "## Instantiate the vectorstore"
      ],
      "metadata": {
        "id": "-6IklmYdE43y"
      }
    },
    {
      "cell_type": "code",
      "source": [
        "import chromadb\n",
        "db = chromadb.PersistentClient(path=\"./chroma_db_mistral\")\n",
        "chroma_collection = db.get_or_create_collection(\"multidocument-agent\")\n",
        "vector_store = ChromaVectorStore(chroma_collection=chroma_collection)\n",
        "storage_context = StorageContext.from_defaults(vector_store=vector_store)"
      ],
      "metadata": {
        "id": "_5TyG-YnFGkm"
      },
      "execution_count": 139,
      "outputs": []
    },
    {
      "cell_type": "markdown",
      "source": [
        "## Instantiate Embedding Model"
      ],
      "metadata": {
        "id": "6YiWDro7Ie0F"
      }
    },
    {
      "cell_type": "code",
      "source": [
        "from llama_index.embeddings.fastembed import FastEmbedEmbedding\n",
        "from llama_index.core import Settings\n",
        "#\n",
        "embed_model = FastEmbedEmbedding(model_name=\"BAAI/bge-small-en-v1.5\")\n",
        "#\n",
        "Settings.embed_model = embed_model\n",
        "#\n",
        "Settings.chunk_size = 1024\n",
        "#"
      ],
      "metadata": {
        "colab": {
          "base_uri": "https://localhost:8080/",
          "height": 49,
          "referenced_widgets": [
            "9b2816f55c6b4f11aa72bda926291f78",
            "0e147a9ccb57409aa88c50fe44a9264a",
            "199597bbc311433ab2fee4154d1322ea",
            "115d1cd69ad04562a8b134e7359f9d43",
            "0481e925a8b740d68908b9838adbc50a",
            "5fb34447e6164acc949df4d23077b524",
            "86db8a52dcee4b84b4c274c181e17eaa",
            "3e3ea6150f064d1b9dbda0267085f2ab",
            "9fcc3d04b2fe4d74a6ebf97e53dd87c2",
            "3961d2e124c141ac95346dda98f866de",
            "2e647df92ff442c4842b784a5661f647"
          ]
        },
        "id": "xdiv_BcVIhXZ",
        "outputId": "41238baa-d8c0-420c-e9db-dd602d50ef16"
      },
      "execution_count": 19,
      "outputs": [
        {
          "output_type": "display_data",
          "data": {
            "text/plain": [
              "Fetching 5 files:   0%|          | 0/5 [00:00<?, ?it/s]"
            ],
            "application/vnd.jupyter.widget-view+json": {
              "version_major": 2,
              "version_minor": 0,
              "model_id": "9b2816f55c6b4f11aa72bda926291f78"
            }
          },
          "metadata": {}
        }
      ]
    },
    {
      "cell_type": "markdown",
      "source": [
        "## Instantiate the LLM"
      ],
      "metadata": {
        "id": "vpmMIyWCFp1U"
      }
    },
    {
      "cell_type": "code",
      "source": [
        "from google.colab import userdata\n",
        "from llama_index.llms.groq import Groq\n",
        "GROQ_API_KEY = userdata.get('GROQ_API_KEY')\n",
        "#\n",
        "llm = Groq(model=\"gemma-7b-it\", api_key=GROQ_API_KEY)\n",
        "Settings.llm = llm\n",
        "Settings.chunk_size = 1024"
      ],
      "metadata": {
        "id": "2b8pbkOkFr86"
      },
      "execution_count": 66,
      "outputs": []
    },
    {
      "cell_type": "code",
      "source": [
        "from llama_index.llms.openai import OpenAI\n",
        "#\n",
        "llm =  OpenAI(model=\"gpt-3.5-turbo\",api_key= userdata.get('OPENAI_API_KEY'),temperature=0)\n",
        "Settings.llm = llm\n",
        "Settings.chunk_size = 1024"
      ],
      "metadata": {
        "id": "AtmA05VXt3fP"
      },
      "execution_count": 155,
      "outputs": []
    },
    {
      "cell_type": "code",
      "source": [
        "\n",
        "#instantiate Vectorstore\n",
        "name = \"BERT_arxiv\"\n",
        "vector_index = VectorStoreIndex(nodes,storage_context=storage_context)\n",
        "vector_index.storage_context.vector_store.persist(persist_path=\"/content/chroma_db\")\n",
        "#\n",
        "# Define Vectorstore Autoretrieval tool\n",
        "def vector_query(query:str,page_numbers:Optional[List[str]]=None)->str:\n",
        "  '''\n",
        "  perform vector search over index on\n",
        "  query(str): query string needs to be embedded\n",
        "  page_numbers(List[str]): list of page numbers to be retrieved,\n",
        "                          leave blank if we want to perform a vector search over all pages\n",
        "  '''\n",
        "  page_numbers = page_numbers or []\n",
        "  metadata_dict = [{\"key\":'page_label',\"value\":p} for p in page_numbers]\n",
        "  #\n",
        "  query_engine = vector_index.as_query_engine(similarity_top_k =2,\n",
        "                                              filters = MetadataFilters.from_dicts(metadata_dict,\n",
        "                                                                                    condition=FilterCondition.OR)\n",
        "                                              )\n",
        "  #\n",
        "  response = query_engine.query(query)\n",
        "  return response\n",
        "#\n",
        "#llamiondex FunctionTool wraps any python function we feed it\n",
        "vector_query_tool = FunctionTool.from_defaults(name=f\"vector_tool_{name}\",\n",
        "                                              fn=vector_query)\n",
        "# Prepare Summary Tool\n",
        "summary_index = SummaryIndex(nodes)\n",
        "summary_query_engine = summary_index.as_query_engine(response_mode=\"tree_summarize\",\n",
        "                                                      se_async=True,)\n",
        "summary_query_tool = QueryEngineTool.from_defaults(name=f\"summary_tool_{name}\",\n",
        "                                                    query_engine=summary_query_engine,\n",
        "                                                  description=(\"Use ONLY IF you want to get a holistic summary of the documents.\"\n",
        "                                              \"DO NOT USE if you have specified questions over the documents.\"))"
      ],
      "metadata": {
        "colab": {
          "base_uri": "https://localhost:8080/"
        },
        "id": "lGhIOtuSyh3u",
        "outputId": "05123cf5-f606-4b54-909b-2a9afe228526"
      },
      "execution_count": 137,
      "outputs": [
        {
          "output_type": "stream",
          "name": "stderr",
          "text": [
            "WARNING:chromadb.segment.impl.vector.local_persistent_hnsw:Add of existing embedding ID: 109a139c-e725-4405-8490-f3ace785d09a\n",
            "WARNING:chromadb.segment.impl.vector.local_persistent_hnsw:Add of existing embedding ID: 4305b370-26b3-4a17-8df7-b192d4527107\n",
            "WARNING:chromadb.segment.impl.vector.local_persistent_hnsw:Add of existing embedding ID: dd49c984-1570-4443-878b-d5a499f0e8af\n",
            "WARNING:chromadb.segment.impl.vector.local_persistent_hnsw:Add of existing embedding ID: f11dfde6-1fd1-4602-8693-7caef87b1f01\n",
            "WARNING:chromadb.segment.impl.vector.local_persistent_hnsw:Add of existing embedding ID: f921f6c7-4260-468e-b261-82d8755bf83a\n",
            "WARNING:chromadb.segment.impl.vector.local_persistent_hnsw:Add of existing embedding ID: 5c57418f-419f-4c3b-9905-0716be53620f\n",
            "WARNING:chromadb.segment.impl.vector.local_persistent_hnsw:Add of existing embedding ID: 17295f5c-d02b-44bf-8ef8-f65bf80790db\n",
            "WARNING:chromadb.segment.impl.vector.local_persistent_hnsw:Add of existing embedding ID: c3206ed2-ae3e-40fa-8cc2-56f997022843\n",
            "WARNING:chromadb.segment.impl.vector.local_persistent_hnsw:Add of existing embedding ID: 8282af51-715f-4409-a9d8-afb8ad7f78ad\n",
            "WARNING:chromadb.segment.impl.vector.local_persistent_hnsw:Add of existing embedding ID: 6a8da67b-c194-424e-bce9-9da916034b38\n",
            "WARNING:chromadb.segment.impl.vector.local_persistent_hnsw:Add of existing embedding ID: e4ed0053-d81b-4a38-a1e6-98328848a48b\n",
            "WARNING:chromadb.segment.impl.vector.local_persistent_hnsw:Add of existing embedding ID: ed256083-cdc5-419f-94f4-9a73cc3f25d5\n",
            "WARNING:chromadb.segment.impl.vector.local_persistent_hnsw:Add of existing embedding ID: bb134d33-fc37-4522-a607-4e77993a95be\n",
            "WARNING:chromadb.segment.impl.vector.local_persistent_hnsw:Add of existing embedding ID: c235275d-3555-48ee-a7f2-458a1bec83ad\n",
            "WARNING:chromadb.segment.impl.vector.local_persistent_hnsw:Add of existing embedding ID: 23289079-2424-4efb-a7be-c7e03afc129d\n",
            "WARNING:chromadb.segment.impl.vector.local_persistent_hnsw:Add of existing embedding ID: 5ab57571-88d5-41a9-b472-a0735f1689e8\n",
            "WARNING:chromadb.segment.impl.vector.local_persistent_hnsw:Add of existing embedding ID: f9849b30-ee01-4927-8a4d-de98d8fafdbd\n",
            "WARNING:chromadb.segment.impl.vector.local_persistent_hnsw:Add of existing embedding ID: 514c88d2-ec47-46dd-9a5f-4fcc95c9e49e\n",
            "WARNING:chromadb.segment.impl.vector.local_persistent_hnsw:Add of existing embedding ID: dd39db39-29ee-4d57-91bd-50ef5da3ed7d\n",
            "WARNING:chromadb.segment.impl.vector.local_persistent_hnsw:Add of existing embedding ID: c9e317f3-c7b9-49ae-b3d6-003f6ff70821\n",
            "WARNING:chromadb.segment.impl.vector.local_persistent_hnsw:Add of existing embedding ID: e5009825-0b2d-44e1-b84b-cfbcb9fc0e3d\n",
            "WARNING:chromadb.segment.impl.vector.local_persistent_hnsw:Add of existing embedding ID: 71f27a91-ec1e-479b-b2f4-4ec3fa2902a3\n",
            "WARNING:chromadb.segment.impl.vector.local_persistent_hnsw:Add of existing embedding ID: 6eaf5ece-4530-45fc-933c-d33c05db24ab\n",
            "WARNING:chromadb.segment.impl.vector.local_persistent_hnsw:Add of existing embedding ID: 96bf51a8-d39a-4923-ba83-9162e96dbc0a\n",
            "WARNING:chromadb.segment.impl.vector.local_persistent_hnsw:Add of existing embedding ID: 66d8afab-5ed1-40a3-ac34-ecbfb564d475\n",
            "WARNING:chromadb.segment.impl.vector.local_persistent_hnsw:Add of existing embedding ID: 0fe36af3-04c6-440c-b7fa-d4440f870644\n",
            "WARNING:chromadb.segment.impl.vector.local_persistent_hnsw:Add of existing embedding ID: 0e6ea469-f666-49c6-98aa-4fa7c188fd80\n",
            "WARNING:chromadb.segment.impl.vector.local_persistent_hnsw:Add of existing embedding ID: 33e808d7-a074-486c-878f-baa6580c8ad5\n",
            "WARNING:chromadb.segment.impl.vector.local_persistent_hnsw:Add of existing embedding ID: 82feb1f0-1372-4719-b744-2f5ddbcaec9b\n",
            "WARNING:chromadb.segment.impl.vector.local_persistent_hnsw:Add of existing embedding ID: e4f2834d-5c3e-4bfa-8cfa-16d4539d84b4\n",
            "WARNING:chromadb.segment.impl.vector.local_persistent_hnsw:Add of existing embedding ID: a3344ea6-6f64-4b9b-b871-b55e71c6c700\n",
            "WARNING:chromadb.segment.impl.vector.local_persistent_hnsw:Add of existing embedding ID: bb1d7f80-3e5f-41b1-b252-f3808296de6f\n",
            "WARNING:chromadb.segment.impl.vector.local_persistent_hnsw:Add of existing embedding ID: debc0ee6-6080-4ce1-9c8e-f6bc429fff31\n",
            "WARNING:chromadb.segment.impl.vector.local_persistent_hnsw:Add of existing embedding ID: 25496531-97c5-4068-a5e3-cc4365c90aea\n",
            "WARNING:chromadb.segment.impl.vector.local_persistent_hnsw:Add of existing embedding ID: 968f7ad1-740a-41fe-9ead-b70483c72a3b\n",
            "WARNING:chromadb.segment.impl.vector.local_persistent_hnsw:Add of existing embedding ID: d1ee604a-db30-4a4c-9210-fbed4ea9214e\n",
            "WARNING:chromadb.segment.impl.vector.local_persistent_hnsw:Add of existing embedding ID: c72687be-8d32-4473-b93c-d91f5465f55c\n",
            "WARNING:chromadb.segment.impl.vector.local_persistent_hnsw:Add of existing embedding ID: ac3dea8a-2539-4e04-8d95-119a5c22601f\n",
            "WARNING:chromadb.segment.impl.vector.local_persistent_hnsw:Add of existing embedding ID: b362fdb2-1b0c-4efd-ba62-837a19623811\n",
            "WARNING:chromadb.segment.impl.vector.local_persistent_hnsw:Add of existing embedding ID: 597232c2-0732-44b6-8194-9eb0831f6beb\n",
            "WARNING:chromadb.segment.impl.vector.local_persistent_hnsw:Add of existing embedding ID: 68ea04c0-cab3-4260-afa6-bdf84b7ff17b\n",
            "WARNING:chromadb.segment.impl.vector.local_persistent_hnsw:Add of existing embedding ID: 5cacd224-3185-4d13-8d3b-019da9927922\n",
            "WARNING:chromadb.segment.impl.vector.local_persistent_hnsw:Add of existing embedding ID: cacdf881-ca28-49f8-bf9e-7a8d63e3bb72\n",
            "WARNING:chromadb.segment.impl.metadata.sqlite:Insert of existing embedding ID: 109a139c-e725-4405-8490-f3ace785d09a\n",
            "WARNING:chromadb.segment.impl.metadata.sqlite:Insert of existing embedding ID: 4305b370-26b3-4a17-8df7-b192d4527107\n",
            "WARNING:chromadb.segment.impl.metadata.sqlite:Insert of existing embedding ID: dd49c984-1570-4443-878b-d5a499f0e8af\n",
            "WARNING:chromadb.segment.impl.metadata.sqlite:Insert of existing embedding ID: f11dfde6-1fd1-4602-8693-7caef87b1f01\n",
            "WARNING:chromadb.segment.impl.metadata.sqlite:Insert of existing embedding ID: f921f6c7-4260-468e-b261-82d8755bf83a\n",
            "WARNING:chromadb.segment.impl.metadata.sqlite:Insert of existing embedding ID: 5c57418f-419f-4c3b-9905-0716be53620f\n",
            "WARNING:chromadb.segment.impl.metadata.sqlite:Insert of existing embedding ID: 17295f5c-d02b-44bf-8ef8-f65bf80790db\n",
            "WARNING:chromadb.segment.impl.metadata.sqlite:Insert of existing embedding ID: c3206ed2-ae3e-40fa-8cc2-56f997022843\n",
            "WARNING:chromadb.segment.impl.metadata.sqlite:Insert of existing embedding ID: 8282af51-715f-4409-a9d8-afb8ad7f78ad\n",
            "WARNING:chromadb.segment.impl.metadata.sqlite:Insert of existing embedding ID: 6a8da67b-c194-424e-bce9-9da916034b38\n",
            "WARNING:chromadb.segment.impl.metadata.sqlite:Insert of existing embedding ID: e4ed0053-d81b-4a38-a1e6-98328848a48b\n",
            "WARNING:chromadb.segment.impl.metadata.sqlite:Insert of existing embedding ID: ed256083-cdc5-419f-94f4-9a73cc3f25d5\n",
            "WARNING:chromadb.segment.impl.metadata.sqlite:Insert of existing embedding ID: bb134d33-fc37-4522-a607-4e77993a95be\n",
            "WARNING:chromadb.segment.impl.metadata.sqlite:Insert of existing embedding ID: c235275d-3555-48ee-a7f2-458a1bec83ad\n",
            "WARNING:chromadb.segment.impl.metadata.sqlite:Insert of existing embedding ID: 23289079-2424-4efb-a7be-c7e03afc129d\n",
            "WARNING:chromadb.segment.impl.metadata.sqlite:Insert of existing embedding ID: 5ab57571-88d5-41a9-b472-a0735f1689e8\n",
            "WARNING:chromadb.segment.impl.metadata.sqlite:Insert of existing embedding ID: f9849b30-ee01-4927-8a4d-de98d8fafdbd\n",
            "WARNING:chromadb.segment.impl.metadata.sqlite:Insert of existing embedding ID: 514c88d2-ec47-46dd-9a5f-4fcc95c9e49e\n",
            "WARNING:chromadb.segment.impl.metadata.sqlite:Insert of existing embedding ID: dd39db39-29ee-4d57-91bd-50ef5da3ed7d\n",
            "WARNING:chromadb.segment.impl.metadata.sqlite:Insert of existing embedding ID: c9e317f3-c7b9-49ae-b3d6-003f6ff70821\n",
            "WARNING:chromadb.segment.impl.metadata.sqlite:Insert of existing embedding ID: e5009825-0b2d-44e1-b84b-cfbcb9fc0e3d\n",
            "WARNING:chromadb.segment.impl.metadata.sqlite:Insert of existing embedding ID: 71f27a91-ec1e-479b-b2f4-4ec3fa2902a3\n",
            "WARNING:chromadb.segment.impl.metadata.sqlite:Insert of existing embedding ID: 6eaf5ece-4530-45fc-933c-d33c05db24ab\n",
            "WARNING:chromadb.segment.impl.metadata.sqlite:Insert of existing embedding ID: 96bf51a8-d39a-4923-ba83-9162e96dbc0a\n",
            "WARNING:chromadb.segment.impl.metadata.sqlite:Insert of existing embedding ID: 66d8afab-5ed1-40a3-ac34-ecbfb564d475\n",
            "WARNING:chromadb.segment.impl.metadata.sqlite:Insert of existing embedding ID: 0fe36af3-04c6-440c-b7fa-d4440f870644\n",
            "WARNING:chromadb.segment.impl.metadata.sqlite:Insert of existing embedding ID: 0e6ea469-f666-49c6-98aa-4fa7c188fd80\n",
            "WARNING:chromadb.segment.impl.metadata.sqlite:Insert of existing embedding ID: 33e808d7-a074-486c-878f-baa6580c8ad5\n",
            "WARNING:chromadb.segment.impl.metadata.sqlite:Insert of existing embedding ID: 82feb1f0-1372-4719-b744-2f5ddbcaec9b\n",
            "WARNING:chromadb.segment.impl.metadata.sqlite:Insert of existing embedding ID: e4f2834d-5c3e-4bfa-8cfa-16d4539d84b4\n",
            "WARNING:chromadb.segment.impl.metadata.sqlite:Insert of existing embedding ID: a3344ea6-6f64-4b9b-b871-b55e71c6c700\n",
            "WARNING:chromadb.segment.impl.metadata.sqlite:Insert of existing embedding ID: bb1d7f80-3e5f-41b1-b252-f3808296de6f\n",
            "WARNING:chromadb.segment.impl.metadata.sqlite:Insert of existing embedding ID: debc0ee6-6080-4ce1-9c8e-f6bc429fff31\n",
            "WARNING:chromadb.segment.impl.metadata.sqlite:Insert of existing embedding ID: 25496531-97c5-4068-a5e3-cc4365c90aea\n",
            "WARNING:chromadb.segment.impl.metadata.sqlite:Insert of existing embedding ID: 968f7ad1-740a-41fe-9ead-b70483c72a3b\n",
            "WARNING:chromadb.segment.impl.metadata.sqlite:Insert of existing embedding ID: d1ee604a-db30-4a4c-9210-fbed4ea9214e\n",
            "WARNING:chromadb.segment.impl.metadata.sqlite:Insert of existing embedding ID: c72687be-8d32-4473-b93c-d91f5465f55c\n",
            "WARNING:chromadb.segment.impl.metadata.sqlite:Insert of existing embedding ID: ac3dea8a-2539-4e04-8d95-119a5c22601f\n",
            "WARNING:chromadb.segment.impl.metadata.sqlite:Insert of existing embedding ID: b362fdb2-1b0c-4efd-ba62-837a19623811\n",
            "WARNING:chromadb.segment.impl.metadata.sqlite:Insert of existing embedding ID: 597232c2-0732-44b6-8194-9eb0831f6beb\n",
            "WARNING:chromadb.segment.impl.metadata.sqlite:Insert of existing embedding ID: 68ea04c0-cab3-4260-afa6-bdf84b7ff17b\n",
            "WARNING:chromadb.segment.impl.metadata.sqlite:Insert of existing embedding ID: 5cacd224-3185-4d13-8d3b-019da9927922\n",
            "WARNING:chromadb.segment.impl.metadata.sqlite:Insert of existing embedding ID: cacdf881-ca28-49f8-bf9e-7a8d63e3bb72\n"
          ]
        }
      ]
    },
    {
      "cell_type": "code",
      "source": [
        "!pip install llama-index-llms-mistralai"
      ],
      "metadata": {
        "colab": {
          "base_uri": "https://localhost:8080/"
        },
        "id": "1RLsB3dZ0my6",
        "outputId": "25968c7b-57ef-4aa3-c935-d61fee656a33"
      },
      "execution_count": 131,
      "outputs": [
        {
          "output_type": "stream",
          "name": "stdout",
          "text": [
            "Collecting llama-index-llms-mistralai\n",
            "  Downloading llama_index_llms_mistralai-0.1.12-py3-none-any.whl (5.3 kB)\n",
            "Requirement already satisfied: llama-index-core<0.11.0,>=0.10.24 in /usr/local/lib/python3.10/dist-packages (from llama-index-llms-mistralai) (0.10.36)\n",
            "Collecting mistralai>=0.1.8 (from llama-index-llms-mistralai)\n",
            "  Downloading mistralai-0.1.8-py3-none-any.whl (15 kB)\n",
            "Requirement already satisfied: PyYAML>=6.0.1 in /usr/local/lib/python3.10/dist-packages (from llama-index-core<0.11.0,>=0.10.24->llama-index-llms-mistralai) (6.0.1)\n",
            "Requirement already satisfied: SQLAlchemy[asyncio]>=1.4.49 in /usr/local/lib/python3.10/dist-packages (from llama-index-core<0.11.0,>=0.10.24->llama-index-llms-mistralai) (2.0.30)\n",
            "Requirement already satisfied: aiohttp<4.0.0,>=3.8.6 in /usr/local/lib/python3.10/dist-packages (from llama-index-core<0.11.0,>=0.10.24->llama-index-llms-mistralai) (3.9.5)\n",
            "Requirement already satisfied: dataclasses-json in /usr/local/lib/python3.10/dist-packages (from llama-index-core<0.11.0,>=0.10.24->llama-index-llms-mistralai) (0.6.6)\n",
            "Requirement already satisfied: deprecated>=1.2.9.3 in /usr/local/lib/python3.10/dist-packages (from llama-index-core<0.11.0,>=0.10.24->llama-index-llms-mistralai) (1.2.14)\n",
            "Requirement already satisfied: dirtyjson<2.0.0,>=1.0.8 in /usr/local/lib/python3.10/dist-packages (from llama-index-core<0.11.0,>=0.10.24->llama-index-llms-mistralai) (1.0.8)\n",
            "Requirement already satisfied: fsspec>=2023.5.0 in /usr/local/lib/python3.10/dist-packages (from llama-index-core<0.11.0,>=0.10.24->llama-index-llms-mistralai) (2023.6.0)\n",
            "Requirement already satisfied: httpx in /usr/local/lib/python3.10/dist-packages (from llama-index-core<0.11.0,>=0.10.24->llama-index-llms-mistralai) (0.27.0)\n",
            "Requirement already satisfied: llamaindex-py-client<0.2.0,>=0.1.18 in /usr/local/lib/python3.10/dist-packages (from llama-index-core<0.11.0,>=0.10.24->llama-index-llms-mistralai) (0.1.19)\n",
            "Requirement already satisfied: nest-asyncio<2.0.0,>=1.5.8 in /usr/local/lib/python3.10/dist-packages (from llama-index-core<0.11.0,>=0.10.24->llama-index-llms-mistralai) (1.6.0)\n",
            "Requirement already satisfied: networkx>=3.0 in /usr/local/lib/python3.10/dist-packages (from llama-index-core<0.11.0,>=0.10.24->llama-index-llms-mistralai) (3.3)\n",
            "Requirement already satisfied: nltk<4.0.0,>=3.8.1 in /usr/local/lib/python3.10/dist-packages (from llama-index-core<0.11.0,>=0.10.24->llama-index-llms-mistralai) (3.8.1)\n",
            "Requirement already satisfied: numpy in /usr/local/lib/python3.10/dist-packages (from llama-index-core<0.11.0,>=0.10.24->llama-index-llms-mistralai) (1.25.2)\n",
            "Requirement already satisfied: openai>=1.1.0 in /usr/local/lib/python3.10/dist-packages (from llama-index-core<0.11.0,>=0.10.24->llama-index-llms-mistralai) (1.28.1)\n",
            "Requirement already satisfied: pandas in /usr/local/lib/python3.10/dist-packages (from llama-index-core<0.11.0,>=0.10.24->llama-index-llms-mistralai) (2.0.3)\n",
            "Requirement already satisfied: pillow>=9.0.0 in /usr/local/lib/python3.10/dist-packages (from llama-index-core<0.11.0,>=0.10.24->llama-index-llms-mistralai) (9.4.0)\n",
            "Requirement already satisfied: requests>=2.31.0 in /usr/local/lib/python3.10/dist-packages (from llama-index-core<0.11.0,>=0.10.24->llama-index-llms-mistralai) (2.31.0)\n",
            "Requirement already satisfied: tenacity<9.0.0,>=8.2.0 in /usr/local/lib/python3.10/dist-packages (from llama-index-core<0.11.0,>=0.10.24->llama-index-llms-mistralai) (8.3.0)\n",
            "Requirement already satisfied: tiktoken>=0.3.3 in /usr/local/lib/python3.10/dist-packages (from llama-index-core<0.11.0,>=0.10.24->llama-index-llms-mistralai) (0.6.0)\n",
            "Requirement already satisfied: tqdm<5.0.0,>=4.66.1 in /usr/local/lib/python3.10/dist-packages (from llama-index-core<0.11.0,>=0.10.24->llama-index-llms-mistralai) (4.66.4)\n",
            "Requirement already satisfied: typing-extensions>=4.5.0 in /usr/local/lib/python3.10/dist-packages (from llama-index-core<0.11.0,>=0.10.24->llama-index-llms-mistralai) (4.11.0)\n",
            "Requirement already satisfied: typing-inspect>=0.8.0 in /usr/local/lib/python3.10/dist-packages (from llama-index-core<0.11.0,>=0.10.24->llama-index-llms-mistralai) (0.9.0)\n",
            "Requirement already satisfied: wrapt in /usr/local/lib/python3.10/dist-packages (from llama-index-core<0.11.0,>=0.10.24->llama-index-llms-mistralai) (1.14.1)\n",
            "Collecting httpx (from llama-index-core<0.11.0,>=0.10.24->llama-index-llms-mistralai)\n",
            "  Downloading httpx-0.25.2-py3-none-any.whl (74 kB)\n",
            "\u001b[2K     \u001b[90m━━━━━━━━━━━━━━━━━━━━━━━━━━━━━━━━━━━━━━━━\u001b[0m \u001b[32m75.0/75.0 kB\u001b[0m \u001b[31m4.0 MB/s\u001b[0m eta \u001b[36m0:00:00\u001b[0m\n",
            "\u001b[?25hRequirement already satisfied: orjson<4.0.0,>=3.9.10 in /usr/local/lib/python3.10/dist-packages (from mistralai>=0.1.8->llama-index-llms-mistralai) (3.10.3)\n",
            "Requirement already satisfied: pydantic<3.0.0,>=2.5.2 in /usr/local/lib/python3.10/dist-packages (from mistralai>=0.1.8->llama-index-llms-mistralai) (2.7.1)\n",
            "Requirement already satisfied: aiosignal>=1.1.2 in /usr/local/lib/python3.10/dist-packages (from aiohttp<4.0.0,>=3.8.6->llama-index-core<0.11.0,>=0.10.24->llama-index-llms-mistralai) (1.3.1)\n",
            "Requirement already satisfied: attrs>=17.3.0 in /usr/local/lib/python3.10/dist-packages (from aiohttp<4.0.0,>=3.8.6->llama-index-core<0.11.0,>=0.10.24->llama-index-llms-mistralai) (23.2.0)\n",
            "Requirement already satisfied: frozenlist>=1.1.1 in /usr/local/lib/python3.10/dist-packages (from aiohttp<4.0.0,>=3.8.6->llama-index-core<0.11.0,>=0.10.24->llama-index-llms-mistralai) (1.4.1)\n",
            "Requirement already satisfied: multidict<7.0,>=4.5 in /usr/local/lib/python3.10/dist-packages (from aiohttp<4.0.0,>=3.8.6->llama-index-core<0.11.0,>=0.10.24->llama-index-llms-mistralai) (6.0.5)\n",
            "Requirement already satisfied: yarl<2.0,>=1.0 in /usr/local/lib/python3.10/dist-packages (from aiohttp<4.0.0,>=3.8.6->llama-index-core<0.11.0,>=0.10.24->llama-index-llms-mistralai) (1.9.4)\n",
            "Requirement already satisfied: async-timeout<5.0,>=4.0 in /usr/local/lib/python3.10/dist-packages (from aiohttp<4.0.0,>=3.8.6->llama-index-core<0.11.0,>=0.10.24->llama-index-llms-mistralai) (4.0.3)\n",
            "Requirement already satisfied: anyio in /usr/local/lib/python3.10/dist-packages (from httpx->llama-index-core<0.11.0,>=0.10.24->llama-index-llms-mistralai) (3.7.1)\n",
            "Requirement already satisfied: certifi in /usr/local/lib/python3.10/dist-packages (from httpx->llama-index-core<0.11.0,>=0.10.24->llama-index-llms-mistralai) (2024.2.2)\n",
            "Requirement already satisfied: httpcore==1.* in /usr/local/lib/python3.10/dist-packages (from httpx->llama-index-core<0.11.0,>=0.10.24->llama-index-llms-mistralai) (1.0.5)\n",
            "Requirement already satisfied: idna in /usr/local/lib/python3.10/dist-packages (from httpx->llama-index-core<0.11.0,>=0.10.24->llama-index-llms-mistralai) (3.7)\n",
            "Requirement already satisfied: sniffio in /usr/local/lib/python3.10/dist-packages (from httpx->llama-index-core<0.11.0,>=0.10.24->llama-index-llms-mistralai) (1.3.1)\n",
            "Requirement already satisfied: h11<0.15,>=0.13 in /usr/local/lib/python3.10/dist-packages (from httpcore==1.*->httpx->llama-index-core<0.11.0,>=0.10.24->llama-index-llms-mistralai) (0.14.0)\n",
            "Requirement already satisfied: click in /usr/local/lib/python3.10/dist-packages (from nltk<4.0.0,>=3.8.1->llama-index-core<0.11.0,>=0.10.24->llama-index-llms-mistralai) (8.1.7)\n",
            "Requirement already satisfied: joblib in /usr/local/lib/python3.10/dist-packages (from nltk<4.0.0,>=3.8.1->llama-index-core<0.11.0,>=0.10.24->llama-index-llms-mistralai) (1.4.2)\n",
            "Requirement already satisfied: regex>=2021.8.3 in /usr/local/lib/python3.10/dist-packages (from nltk<4.0.0,>=3.8.1->llama-index-core<0.11.0,>=0.10.24->llama-index-llms-mistralai) (2023.12.25)\n",
            "Requirement already satisfied: distro<2,>=1.7.0 in /usr/lib/python3/dist-packages (from openai>=1.1.0->llama-index-core<0.11.0,>=0.10.24->llama-index-llms-mistralai) (1.7.0)\n",
            "Requirement already satisfied: annotated-types>=0.4.0 in /usr/local/lib/python3.10/dist-packages (from pydantic<3.0.0,>=2.5.2->mistralai>=0.1.8->llama-index-llms-mistralai) (0.6.0)\n",
            "Requirement already satisfied: pydantic-core==2.18.2 in /usr/local/lib/python3.10/dist-packages (from pydantic<3.0.0,>=2.5.2->mistralai>=0.1.8->llama-index-llms-mistralai) (2.18.2)\n",
            "Requirement already satisfied: charset-normalizer<4,>=2 in /usr/local/lib/python3.10/dist-packages (from requests>=2.31.0->llama-index-core<0.11.0,>=0.10.24->llama-index-llms-mistralai) (3.3.2)\n",
            "Requirement already satisfied: urllib3<3,>=1.21.1 in /usr/local/lib/python3.10/dist-packages (from requests>=2.31.0->llama-index-core<0.11.0,>=0.10.24->llama-index-llms-mistralai) (2.0.7)\n",
            "Requirement already satisfied: greenlet!=0.4.17 in /usr/local/lib/python3.10/dist-packages (from SQLAlchemy[asyncio]>=1.4.49->llama-index-core<0.11.0,>=0.10.24->llama-index-llms-mistralai) (3.0.3)\n",
            "Requirement already satisfied: mypy-extensions>=0.3.0 in /usr/local/lib/python3.10/dist-packages (from typing-inspect>=0.8.0->llama-index-core<0.11.0,>=0.10.24->llama-index-llms-mistralai) (1.0.0)\n",
            "Requirement already satisfied: marshmallow<4.0.0,>=3.18.0 in /usr/local/lib/python3.10/dist-packages (from dataclasses-json->llama-index-core<0.11.0,>=0.10.24->llama-index-llms-mistralai) (3.21.2)\n",
            "Requirement already satisfied: python-dateutil>=2.8.2 in /usr/local/lib/python3.10/dist-packages (from pandas->llama-index-core<0.11.0,>=0.10.24->llama-index-llms-mistralai) (2.8.2)\n",
            "Requirement already satisfied: pytz>=2020.1 in /usr/local/lib/python3.10/dist-packages (from pandas->llama-index-core<0.11.0,>=0.10.24->llama-index-llms-mistralai) (2023.4)\n",
            "Requirement already satisfied: tzdata>=2022.1 in /usr/local/lib/python3.10/dist-packages (from pandas->llama-index-core<0.11.0,>=0.10.24->llama-index-llms-mistralai) (2024.1)\n",
            "Requirement already satisfied: exceptiongroup in /usr/local/lib/python3.10/dist-packages (from anyio->httpx->llama-index-core<0.11.0,>=0.10.24->llama-index-llms-mistralai) (1.2.1)\n",
            "Requirement already satisfied: packaging>=17.0 in /usr/local/lib/python3.10/dist-packages (from marshmallow<4.0.0,>=3.18.0->dataclasses-json->llama-index-core<0.11.0,>=0.10.24->llama-index-llms-mistralai) (24.0)\n",
            "Requirement already satisfied: six>=1.5 in /usr/local/lib/python3.10/dist-packages (from python-dateutil>=2.8.2->pandas->llama-index-core<0.11.0,>=0.10.24->llama-index-llms-mistralai) (1.16.0)\n",
            "Installing collected packages: httpx, mistralai, llama-index-llms-mistralai\n",
            "  Attempting uninstall: httpx\n",
            "    Found existing installation: httpx 0.27.0\n",
            "    Uninstalling httpx-0.27.0:\n",
            "      Successfully uninstalled httpx-0.27.0\n",
            "Successfully installed httpx-0.25.2 llama-index-llms-mistralai-0.1.12 mistralai-0.1.8\n"
          ]
        }
      ]
    },
    {
      "cell_type": "markdown",
      "source": [
        "![image.png](data:image/png;base64,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)"
      ],
      "metadata": {
        "id": "8XWheUjp9WkY"
      }
    },
    {
      "cell_type": "markdown",
      "source": [
        "![image.png](data:image/png;base64,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)"
      ],
      "metadata": {
        "id": "avWB29yT8__a"
      }
    },
    {
      "cell_type": "markdown",
      "source": [
        "#### Mistral Large comes with new capabilities and strengths:\n",
        "\n",
        "* It is natively fluent in English, French, Spanish, German, and Italian, with a nuanced understanding of grammar and cultural context.\n",
        "\n",
        "* Its 32K tokens context window allows precise information recall from large documents.\n",
        "\n",
        "* Its precise instruction-following enables developers to design their moderation policies – we used it to set up the system-level moderation of le Chat.\n",
        "\n",
        "* It is natively capable of **function calling**. This, along with constrained output mode, implemented on la Plateforme, enables application development and tech stack modernisation at scale."
      ],
      "metadata": {
        "id": "yWudlccp9e8F"
      }
    },
    {
      "cell_type": "code",
      "source": [
        "from llama_index.llms.mistralai import MistralAI\n",
        "os.environ[\"MISTRAL_API_KEY\"] = userdata.get(\"MISTRAL_API_KEY\")\n",
        "llm = MistralAI(model=\"mistral-large-latest\")"
      ],
      "metadata": {
        "id": "qWwfAjSs0uAL"
      },
      "execution_count": 135,
      "outputs": []
    },
    {
      "cell_type": "markdown",
      "source": [
        "![image.png](data:image/png;base64,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)"
      ],
      "metadata": {
        "id": "GOY2DtYM8uNa"
      }
    },
    {
      "cell_type": "code",
      "source": [
        "response = llm.predict_and_call([vector_query_tool],\n",
        "                                \"Summarize the content in page number 2\",\n",
        "                                verbose=True)"
      ],
      "metadata": {
        "colab": {
          "base_uri": "https://localhost:8080/"
        },
        "id": "UMT2PHFKyxD2",
        "outputId": "bb12c370-15ff-4fa2-d834-557bc778e809"
      },
      "execution_count": 138,
      "outputs": [
        {
          "output_type": "stream",
          "name": "stdout",
          "text": [
            "=== Calling Function ===\n",
            "Calling function: vector_tool_BERT_arxiv with args: {\"query\": \"summarize content\", \"page_numbers\": [\"2\"]}\n",
            "=== Function Output ===\n",
            "The content discusses the use of RAG models for knowledge-intensive generation tasks, such as MS-MARCO and Jeopardy question generation, showing that the models produce more factual, specific, and diverse responses compared to a BART baseline. The models also perform well in FEVER fact verification, achieving results close to state-of-the-art pipeline models. Additionally, the models demonstrate the ability to update their knowledge as the world changes by replacing the non-parametric memory.\n"
          ]
        }
      ]
    },
    {
      "cell_type": "markdown",
      "source": [
        "## Helper function to generate Vectorstore Tool and Summary tool for all the documents"
      ],
      "metadata": {
        "id": "_MtMBmWrHGXF"
      }
    },
    {
      "cell_type": "code",
      "source": [
        "def get_doc_tools(file_path:str,name:str)->str:\n",
        "  '''\n",
        "  get vector query and sumnmary query tools from a document\n",
        "  '''\n",
        "  #load documents\n",
        "  documents = SimpleDirectoryReader(input_files = [file_path]).load_data()\n",
        "  print(f\"length of nodes\")\n",
        "  splitter = SentenceSplitter(chunk_size=1024,chunk_overlap=100)\n",
        "  nodes = splitter.get_nodes_from_documents(documents)\n",
        "  print(f\"Length of nodes : {len(nodes)}\")\n",
        "  #instantiate Vectorstore\n",
        "  vector_index = VectorStoreIndex(nodes,storage_context=storage_context)\n",
        "  vector_index.storage_context.vector_store.persist(persist_path=\"/content/chroma_db\")\n",
        "  #\n",
        "  # Define Vectorstore Autoretrieval tool\n",
        "  def vector_query(query:str,page_numbers:Optional[List[str]]=None)->str:\n",
        "    '''\n",
        "    perform vector search over index on\n",
        "    query(str): query string needs to be embedded\n",
        "    page_numbers(List[str]): list of page numbers to be retrieved,\n",
        "                            leave blank if we want to perform a vector search over all pages\n",
        "    '''\n",
        "    page_numbers = page_numbers or []\n",
        "    metadata_dict = [{\"key\":'page_label',\"value\":p} for p in page_numbers]\n",
        "    #\n",
        "    query_engine = vector_index.as_query_engine(similarity_top_k =2,\n",
        "                                                filters = MetadataFilters.from_dicts(metadata_dict,\n",
        "                                                                                     condition=FilterCondition.OR)\n",
        "                                                )\n",
        "    #\n",
        "    response = query_engine.query(query)\n",
        "    return response\n",
        "  #\n",
        "  #llamiondex FunctionTool wraps any python function we feed it\n",
        "  vector_query_tool = FunctionTool.from_defaults(name=f\"vector_tool_{name}\",\n",
        "                                                fn=vector_query)\n",
        "  # Prepare Summary Tool\n",
        "  summary_index = SummaryIndex(nodes)\n",
        "  summary_query_engine = summary_index.as_query_engine(response_mode=\"tree_summarize\",\n",
        "                                                       se_async=True,)\n",
        "  summary_query_tool = QueryEngineTool.from_defaults(name=f\"summary_tool_{name}\",\n",
        "                                                     query_engine=summary_query_engine,\n",
        "                                                    description=(\"Use ONLY IF you want to get a holistic summary of the documents.\"\n",
        "                                                \"DO NOT USE if you have specified questions over the documents.\"))\n",
        "  return vector_query_tool,summary_query_tool\n",
        "\n"
      ],
      "metadata": {
        "id": "1MeBwZIvHQiy"
      },
      "execution_count": 103,
      "outputs": []
    },
    {
      "cell_type": "markdown",
      "source": [
        "## Prepare a input list with specified document names"
      ],
      "metadata": {
        "id": "cFPdJWLmNXz1"
      }
    },
    {
      "cell_type": "code",
      "source": [
        "import os\n",
        "root_path = \"/content/data\"\n",
        "file_name = []\n",
        "file_path = []\n",
        "for files in os.listdir(root_path):\n",
        "  if file.endswith(\".pdf\"):\n",
        "    file_name.append(files.split(\".\")[0])\n",
        "    file_path.append(os.path.join(root_path,file))\n",
        "#"
      ],
      "metadata": {
        "id": "GJCLcTL4Nd_T"
      },
      "execution_count": 140,
      "outputs": []
    },
    {
      "cell_type": "code",
      "source": [
        "file_name"
      ],
      "metadata": {
        "colab": {
          "base_uri": "https://localhost:8080/"
        },
        "id": "JD4kVdkfQyuH",
        "outputId": "bf747aa9-323f-42d0-e107-30517a907251"
      },
      "execution_count": 141,
      "outputs": [
        {
          "output_type": "execute_result",
          "data": {
            "text/plain": [
              "['self_rag_arxiv', 'crag_arxiv', 'RAG_arxiv', '', 'BERT_arxiv']"
            ]
          },
          "metadata": {},
          "execution_count": 141
        }
      ]
    },
    {
      "cell_type": "code",
      "source": [
        "file_path"
      ],
      "metadata": {
        "colab": {
          "base_uri": "https://localhost:8080/"
        },
        "id": "yfFYJsLxQzRK",
        "outputId": "24ac9a12-0e90-4e0e-e3ce-7acc7c6964e0"
      },
      "execution_count": 142,
      "outputs": [
        {
          "output_type": "execute_result",
          "data": {
            "text/plain": [
              "['/content/data/BERT_arxiv.pdf',\n",
              " '/content/data/BERT_arxiv.pdf',\n",
              " '/content/data/BERT_arxiv.pdf',\n",
              " '/content/data/BERT_arxiv.pdf',\n",
              " '/content/data/BERT_arxiv.pdf']"
            ]
          },
          "metadata": {},
          "execution_count": 142
        }
      ]
    },
    {
      "cell_type": "markdown",
      "source": [
        "## Generate the vectortool and summary tool for each documents"
      ],
      "metadata": {
        "id": "LYJ45zp2Q8Qt"
      }
    },
    {
      "cell_type": "code",
      "source": [
        "papers_to_tools_dict = {}\n",
        "for name,filename in zip(file_name,file_path):\n",
        "  vector_query_tool,summary_query_tool = get_doc_tools(filename,name)\n",
        "  papers_to_tools_dict[name] = [vector_query_tool,summary_query_tool]"
      ],
      "metadata": {
        "colab": {
          "base_uri": "https://localhost:8080/"
        },
        "id": "U2TOq0ceQ0xT",
        "outputId": "0386e226-e6ac-4fec-babd-72aa118df87e"
      },
      "execution_count": 143,
      "outputs": [
        {
          "output_type": "stream",
          "name": "stdout",
          "text": [
            "length of nodes\n",
            "Length of nodes : 28\n",
            "length of nodes\n",
            "Length of nodes : 28\n",
            "length of nodes\n",
            "Length of nodes : 28\n",
            "length of nodes\n",
            "Length of nodes : 28\n",
            "length of nodes\n",
            "Length of nodes : 28\n"
          ]
        }
      ]
    },
    {
      "cell_type": "markdown",
      "source": [
        "## Get the tools in a flat list"
      ],
      "metadata": {
        "id": "FlA_DdqHXwm3"
      }
    },
    {
      "cell_type": "code",
      "source": [
        "papers_to_tools_dict"
      ],
      "metadata": {
        "colab": {
          "base_uri": "https://localhost:8080/"
        },
        "id": "SfZjW9WwYThW",
        "outputId": "6d528091-0da8-4fe3-bc7f-3d36067732e0"
      },
      "execution_count": 90,
      "outputs": [
        {
          "output_type": "execute_result",
          "data": {
            "text/plain": [
              "{'self_rag_arxiv.pdf': [<llama_index.core.tools.function_tool.FunctionTool at 0x7a3ea875a6b0>,\n",
              "  <llama_index.core.tools.function_tool.FunctionTool at 0x7a3ea8758490>],\n",
              " 'crag_arxiv.pdf': [<llama_index.core.tools.function_tool.FunctionTool at 0x7a3dca3e55a0>,\n",
              "  <llama_index.core.tools.function_tool.FunctionTool at 0x7a3dca38b4f0>],\n",
              " 'RAG_arxiv.pdf': [<llama_index.core.tools.function_tool.FunctionTool at 0x7a3dca36af50>,\n",
              "  <llama_index.core.tools.function_tool.FunctionTool at 0x7a3dc9489540>],\n",
              " 'BERT_arxiv.pdf': [<llama_index.core.tools.function_tool.FunctionTool at 0x7a3de00a85b0>,\n",
              "  <llama_index.core.tools.function_tool.FunctionTool at 0x7a3dca36a3b0>]}"
            ]
          },
          "metadata": {},
          "execution_count": 90
        }
      ]
    },
    {
      "cell_type": "code",
      "source": [
        "initial_tools = [t for f in file_name for t in papers_to_tools_dict[f]]\n",
        "initial_tools"
      ],
      "metadata": {
        "colab": {
          "base_uri": "https://localhost:8080/"
        },
        "id": "JcNk5GZ-YX9c",
        "outputId": "2db9e539-0ddc-40ed-b7ab-7d7d1d2d778f"
      },
      "execution_count": 144,
      "outputs": [
        {
          "output_type": "execute_result",
          "data": {
            "text/plain": [
              "[<llama_index.core.tools.function_tool.FunctionTool at 0x7a3dc973ace0>,\n",
              " <llama_index.core.tools.query_engine.QueryEngineTool at 0x7a3de01099c0>,\n",
              " <llama_index.core.tools.function_tool.FunctionTool at 0x7a3dc946fe20>,\n",
              " <llama_index.core.tools.query_engine.QueryEngineTool at 0x7a3dc946f1f0>,\n",
              " <llama_index.core.tools.function_tool.FunctionTool at 0x7a3dc9319600>,\n",
              " <llama_index.core.tools.query_engine.QueryEngineTool at 0x7a3de010b310>,\n",
              " <llama_index.core.tools.function_tool.FunctionTool at 0x7a3dc9394610>,\n",
              " <llama_index.core.tools.query_engine.QueryEngineTool at 0x7a3dc9394df0>,\n",
              " <llama_index.core.tools.function_tool.FunctionTool at 0x7a3eb9ed79d0>,\n",
              " <llama_index.core.tools.query_engine.QueryEngineTool at 0x7a3de2bfd000>]"
            ]
          },
          "metadata": {},
          "execution_count": 144
        }
      ]
    },
    {
      "cell_type": "markdown",
      "source": [
        "## Perform RAG over the set of tools in order to solv the issue  related to too many tool selections\n"
      ],
      "metadata": {
        "id": "EH9cTUtmajG-"
      }
    },
    {
      "cell_type": "code",
      "source": [
        "from llama_index.core import VectorStoreIndex\n",
        "from llama_index.core.objects import ObjectIndex\n",
        "#\n",
        "obj_index = ObjectIndex.from_objects(initial_tools,index_cls=VectorStoreIndex)\n",
        "#"
      ],
      "metadata": {
        "id": "bRvIHbrRbltZ"
      },
      "execution_count": 145,
      "outputs": []
    },
    {
      "cell_type": "markdown",
      "source": [
        "## Setup the object index as retriever"
      ],
      "metadata": {
        "id": "J9zR1fb3dBTp"
      }
    },
    {
      "cell_type": "code",
      "source": [
        "obj_retriever = obj_index.as_retriever(similarity_top_k=2)\n",
        "tools = obj_retriever.retrieve(\"compare and contrast the papers self rag and corrective rag\")"
      ],
      "metadata": {
        "id": "Jgm_kOmqdG9t"
      },
      "execution_count": 146,
      "outputs": []
    },
    {
      "cell_type": "code",
      "source": [
        "tools"
      ],
      "metadata": {
        "colab": {
          "base_uri": "https://localhost:8080/"
        },
        "id": "PZeyqp7md04R",
        "outputId": "3a475cd0-e292-40db-dd8b-8546183b9016"
      },
      "execution_count": 108,
      "outputs": [
        {
          "output_type": "execute_result",
          "data": {
            "text/plain": [
              "[<llama_index.core.tools.query_engine.QueryEngineTool at 0x7a3dc94adde0>,\n",
              " <llama_index.core.tools.function_tool.FunctionTool at 0x7a3de010b850>]"
            ]
          },
          "metadata": {},
          "execution_count": 108
        }
      ]
    },
    {
      "cell_type": "code",
      "source": [
        "tools[0].metadata"
      ],
      "metadata": {
        "colab": {
          "base_uri": "https://localhost:8080/"
        },
        "id": "t41DLIjVd2Jh",
        "outputId": "c323c1da-3610-4a7c-cbc2-89aaef78ab5e"
      },
      "execution_count": 147,
      "outputs": [
        {
          "output_type": "execute_result",
          "data": {
            "text/plain": [
              "ToolMetadata(description='Use ONLY IF you want to get a holistic summary of the documents.DO NOT USE if you have specified questions over the documents.', name='summary_tool_self_rag_arxiv', fn_schema=<class 'llama_index.core.tools.types.DefaultToolFnSchema'>, return_direct=False)"
            ]
          },
          "metadata": {},
          "execution_count": 147
        }
      ]
    },
    {
      "cell_type": "code",
      "source": [
        "tools[1].metadata"
      ],
      "metadata": {
        "colab": {
          "base_uri": "https://localhost:8080/"
        },
        "id": "3nzwizsRd51n",
        "outputId": "8769fc10-3e0a-4058-a484-b7261ebb5979"
      },
      "execution_count": 148,
      "outputs": [
        {
          "output_type": "execute_result",
          "data": {
            "text/plain": [
              "ToolMetadata(description='vector_tool_self_rag_arxiv(query: str, page_numbers: Optional[List[str]] = None) -> str\\n\\n    perform vector search over index on\\n    query(str): query string needs to be embedded\\n    page_numbers(List[str]): list of page numbers to be retrieved,\\n                            leave blank if we want to perform a vector search over all pages\\n    ', name='vector_tool_self_rag_arxiv', fn_schema=<class 'pydantic.v1.main.vector_tool_self_rag_arxiv'>, return_direct=False)"
            ]
          },
          "metadata": {},
          "execution_count": 148
        }
      ]
    },
    {
      "cell_type": "code",
      "source": [
        "tools = obj_retriever.retrieve(\"Summarize the corrective rag approach.\")\n",
        "tools[1].metadata"
      ],
      "metadata": {
        "colab": {
          "base_uri": "https://localhost:8080/"
        },
        "id": "T4jC2AGlnt5H",
        "outputId": "837d0196-5c95-496d-d8eb-18845d8e1282"
      },
      "execution_count": 149,
      "outputs": [
        {
          "output_type": "execute_result",
          "data": {
            "text/plain": [
              "ToolMetadata(description='Use ONLY IF you want to get a holistic summary of the documents.DO NOT USE if you have specified questions over the documents.', name='summary_tool_self_rag_arxiv', fn_schema=<class 'llama_index.core.tools.types.DefaultToolFnSchema'>, return_direct=False)"
            ]
          },
          "metadata": {},
          "execution_count": 149
        }
      ]
    },
    {
      "cell_type": "code",
      "source": [
        "tools[0].metadata"
      ],
      "metadata": {
        "colab": {
          "base_uri": "https://localhost:8080/"
        },
        "id": "etO0A1XJn8U5",
        "outputId": "eb47a457-c5ad-43b2-e0c0-1d6d7662502c"
      },
      "execution_count": 150,
      "outputs": [
        {
          "output_type": "execute_result",
          "data": {
            "text/plain": [
              "ToolMetadata(description='Use ONLY IF you want to get a holistic summary of the documents.DO NOT USE if you have specified questions over the documents.', name='summary_tool_RAG_arxiv', fn_schema=<class 'llama_index.core.tools.types.DefaultToolFnSchema'>, return_direct=False)"
            ]
          },
          "metadata": {},
          "execution_count": 150
        }
      ]
    },
    {
      "cell_type": "markdown",
      "source": [
        "## Setup the RAG Agent"
      ],
      "metadata": {
        "id": "3C3lKgz9eQKO"
      }
    },
    {
      "cell_type": "code",
      "source": [
        "from llama_index.core.agent import FunctionCallingAgentWorker\n",
        "from llama_index.core.agent import AgentRunner"
      ],
      "metadata": {
        "id": "UjEtuKIHeAig"
      },
      "execution_count": 151,
      "outputs": []
    },
    {
      "cell_type": "code",
      "source": [
        "agent_worker = FunctionCallingAgentWorker.from_tools(tool_retriever=obj_retriever,\n",
        "                                                     llm=llm,\n",
        "                                                     system_prompt=\"\"\"You are an agent designed to answer queries over a set of given papers.\n",
        "                                                     Please always use the tools provided to answer a question.Do not rely on prior knowledge.\"\"\",\n",
        "                                                     verbose=True)\n",
        "agent = AgentRunner(agent_worker)"
      ],
      "metadata": {
        "id": "IVEEfdV5fXzT"
      },
      "execution_count": 152,
      "outputs": []
    },
    {
      "cell_type": "code",
      "source": [
        "response = agent.query(\"Compare and contrast self rag and crag.\")"
      ],
      "metadata": {
        "colab": {
          "base_uri": "https://localhost:8080/"
        },
        "id": "Ldqxnmj9ltqZ",
        "outputId": "bf10f639-69f5-4b52-8b55-82dfd9c3ec40"
      },
      "execution_count": 153,
      "outputs": [
        {
          "output_type": "stream",
          "name": "stdout",
          "text": [
            "Added user message to memory: Compare and contrast self rag and crag.\n",
            "=== LLM Response ===\n",
            "Sure, I'd be happy to help you understand the differences between Self RAG and CRAG, based on the functions provided to me.\n",
            "\n",
            "Self RAG (Retrieval-Augmented Generation) is a method where the model generates a holistic summary of the documents provided as input. It's important to note that this method should only be used if you want a general summary of the documents, and not if you have specific questions over the documents.\n",
            "\n",
            "On the other hand, CRAG (Contrastive Retrieval-Augmented Generation) is also a method for generating a holistic summary of the documents. The key difference between CRAG and Self RAG is not explicitly clear from the functions provided. However, the name suggests that CRAG might use a contrastive approach in its retrieval process, which could potentially lead to a summary that highlights the differences and similarities between the documents more effectively.\n",
            "\n",
            "Again, it's crucial to remember that both of these methods should only be used for a holistic summary, and not for answering specific questions over the documents.\n"
          ]
        }
      ]
    },
    {
      "cell_type": "code",
      "source": [
        "print(str(response))"
      ],
      "metadata": {
        "colab": {
          "base_uri": "https://localhost:8080/"
        },
        "id": "ILlFdjSI25hz",
        "outputId": "71f7f62b-3543-4811-f749-871062bb42d8"
      },
      "execution_count": 154,
      "outputs": [
        {
          "output_type": "stream",
          "name": "stdout",
          "text": [
            "assistant: Sure, I'd be happy to help you understand the differences between Self RAG and CRAG, based on the functions provided to me.\n",
            "\n",
            "Self RAG (Retrieval-Augmented Generation) is a method where the model generates a holistic summary of the documents provided as input. It's important to note that this method should only be used if you want a general summary of the documents, and not if you have specific questions over the documents.\n",
            "\n",
            "On the other hand, CRAG (Contrastive Retrieval-Augmented Generation) is also a method for generating a holistic summary of the documents. The key difference between CRAG and Self RAG is not explicitly clear from the functions provided. However, the name suggests that CRAG might use a contrastive approach in its retrieval process, which could potentially lead to a summary that highlights the differences and similarities between the documents more effectively.\n",
            "\n",
            "Again, it's crucial to remember that both of these methods should only be used for a holistic summary, and not for answering specific questions over the documents.\n"
          ]
        }
      ]
    },
    {
      "cell_type": "markdown",
      "source": [
        "![image.png](data:image/png;base64,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)"
      ],
      "metadata": {
        "id": "mRdL_CCd-BXA"
      }
    },
    {
      "cell_type": "markdown",
      "source": [
        "## Using OpenAI as LLM"
      ],
      "metadata": {
        "id": "lPCqqgW93BP9"
      }
    },
    {
      "cell_type": "code",
      "source": [
        "agent_worker = FunctionCallingAgentWorker.from_tools(tool_retriever=obj_retriever,\n",
        "                                                     llm=llm,\n",
        "                                                     system_prompt=\"\"\"You are an agent designed to answer queries over a set of given papers.\n",
        "                                                     Please always use the tools provided to answer a question.Do not rely on prior knowledge.\"\"\",\n",
        "                                                     verbose=True)\n",
        "agent = AgentRunner(agent_worker)"
      ],
      "metadata": {
        "id": "DMrKh45t28Yc"
      },
      "execution_count": 156,
      "outputs": []
    },
    {
      "cell_type": "code",
      "source": [
        "response = agent.query(\"Summarize the paper corrective RAG.\")\n",
        "print(str(response))"
      ],
      "metadata": {
        "colab": {
          "base_uri": "https://localhost:8080/"
        },
        "id": "UkvElSFb3QER",
        "outputId": "c2446e14-fa81-4b53-e651-6681f887b20c"
      },
      "execution_count": 158,
      "outputs": [
        {
          "output_type": "stream",
          "name": "stdout",
          "text": [
            "Added user message to memory: Summarize the paper corrective RAG.\n",
            "=== Calling Function ===\n",
            "Calling function: summary_tool_RAG_arxiv with args: {\"input\": \"corrective RAG\"}\n",
            "=== Function Output ===\n",
            "The corrective RAG approach is a method used to address issues or errors in a system by categorizing them into three levels: Red, Amber, and Green. Red signifies critical problems that need immediate attention, Amber indicates issues that require monitoring or action in the near future, and Green represents no significant concerns. This approach helps prioritize and manage corrective actions effectively based on the severity of the identified issues.\n",
            "=== LLM Response ===\n",
            "The corrective RAG approach categorizes issues into Red, Amber, and Green levels to prioritize and manage corrective actions effectively based on severity. Red signifies critical problems needing immediate attention, Amber requires monitoring or action soon, and Green indicates no significant concerns.\n",
            "assistant: The corrective RAG approach categorizes issues into Red, Amber, and Green levels to prioritize and manage corrective actions effectively based on severity. Red signifies critical problems needing immediate attention, Amber requires monitoring or action soon, and Green indicates no significant concerns.\n"
          ]
        }
      ]
    }
  ]
}