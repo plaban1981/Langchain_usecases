{
  "nbformat": 4,
  "nbformat_minor": 0,
  "metadata": {
    "colab": {
      "provenance": [],
      "include_colab_link": true
    },
    "kernelspec": {
      "name": "python3",
      "display_name": "Python 3"
    },
    "language_info": {
      "name": "python"
    }
  },
  "cells": [
    {
      "cell_type": "markdown",
      "metadata": {
        "id": "view-in-github",
        "colab_type": "text"
      },
      "source": [
        "<a href=\"https://colab.research.google.com/github/plaban1981/Langchain_usecases/blob/main/YT_Information_Extraction_LangChain_Kor_Template_for_creating.ipynb\" target=\"_parent\"><img src=\"https://colab.research.google.com/assets/colab-badge.svg\" alt=\"Open In Colab\"/></a>"
      ]
    },
    {
      "cell_type": "code",
      "execution_count": null,
      "metadata": {
        "id": "RRYSu48huSUW"
      },
      "outputs": [],
      "source": [
        " !pip -q install langchain openai google-search-results tiktoken\n",
        "!pip -q install kor markdownify"
      ]
    },
    {
      "cell_type": "code",
      "source": [
        "import os\n",
        "\n",
        "os.environ[\"OPENAI_API_KEY\"] = \"\""
      ],
      "metadata": {
        "id": "dNA4TsHpu6OM"
      },
      "execution_count": null,
      "outputs": []
    },
    {
      "cell_type": "code",
      "source": [
        "!pip show langchain"
      ],
      "metadata": {
        "id": "J-KFB7J_u_3L",
        "colab": {
          "base_uri": "https://localhost:8080/"
        },
        "outputId": "8308e35c-4a54-49e1-87e4-410354840d94"
      },
      "execution_count": null,
      "outputs": [
        {
          "output_type": "stream",
          "name": "stdout",
          "text": [
            "Name: langchain\n",
            "Version: 0.0.177\n",
            "Summary: Building applications with LLMs through composability\n",
            "Home-page: https://www.github.com/hwchase17/langchain\n",
            "Author: \n",
            "Author-email: \n",
            "License: MIT\n",
            "Location: /usr/local/lib/python3.10/dist-packages\n",
            "Requires: aiohttp, async-timeout, dataclasses-json, numexpr, numpy, openapi-schema-pydantic, pydantic, PyYAML, requests, SQLAlchemy, tenacity\n",
            "Required-by: kor\n"
          ]
        }
      ]
    },
    {
      "cell_type": "code",
      "source": [],
      "metadata": {
        "id": "4g4MiT_ZBiNk"
      },
      "execution_count": null,
      "outputs": []
    },
    {
      "cell_type": "markdown",
      "source": [
        "## Kor Basics\n",
        "\n",
        "The basic workflow is the following:\n",
        "\n",
        "1. Load the document\n",
        "2. Clean up the document (optional)\n",
        "3. Split the document into chunks\n",
        "4. Define a schema for extraction\n",
        "5. Extract from every chunk of text"
      ],
      "metadata": {
        "id": "9M-CROtIBixD"
      }
    },
    {
      "cell_type": "code",
      "source": [
        "from typing import List, Optional\n",
        "\n",
        "from langchain.callbacks import get_openai_callback\n",
        "from langchain.chat_models import ChatOpenAI\n",
        "\n",
        "from kor.extraction import create_extraction_chain\n",
        "from kor.nodes import Object, Text, Number\n",
        "\n",
        "import pandas as pd\n",
        "from pydantic import BaseModel, Field, validator\n",
        "from kor import extract_from_documents, from_pydantic, create_extraction_chain\n",
        "\n",
        "\n",
        "from langchain.schema import Document\n",
        "from langchain.text_splitter import RecursiveCharacterTextSplitter\n"
      ],
      "metadata": {
        "id": "Kk3c8z0PBgeI"
      },
      "execution_count": null,
      "outputs": []
    },
    {
      "cell_type": "markdown",
      "source": [
        "## Simple examples"
      ],
      "metadata": {
        "id": "29nRABvafCEW"
      }
    },
    {
      "cell_type": "code",
      "source": [
        "llm = ChatOpenAI(\n",
        "    model_name=\"gpt-3.5-turbo\",\n",
        "    temperature=0,\n",
        ")"
      ],
      "metadata": {
        "id": "sJiJwJ5UfER6"
      },
      "execution_count": null,
      "outputs": []
    },
    {
      "cell_type": "code",
      "source": [
        "schema = Object(\n",
        "    id=\"personal_info\",\n",
        "    description=\"Personal information about a given person.\",\n",
        "    attributes=[\n",
        "        Text(\n",
        "            id=\"first_name\",\n",
        "            description=\"The first name of the person\",\n",
        "            examples=[(\"John Smith went to the store\", \"John\")],\n",
        "        ),\n",
        "        Text(\n",
        "            id=\"last_name\",\n",
        "            description=\"The last name of the person\",\n",
        "            examples=[(\"John Smith went to the store\", \"Smith\")],\n",
        "        ),\n",
        "        Number(\n",
        "            id=\"age\",\n",
        "            description=\"The age of the person in years.\",\n",
        "            examples=[(\"23 years old\", \"23\"), (\"I turned three on sunday\", \"3\")],\n",
        "        ),\n",
        "    ],\n",
        "    examples=[\n",
        "        (\n",
        "            \"John Smith was 23 years old. He was very tall. He knew Jane Doe. She was 5 years old.\",\n",
        "            [\n",
        "                {\"first_name\": \"John\", \"last_name\": \"Smith\", \"age\": 23},\n",
        "                {\"first_name\": \"Jane\", \"last_name\": \"Doe\", \"age\": 5},\n",
        "            ],\n",
        "        )\n",
        "    ],\n",
        "    many=True,\n",
        ")\n",
        "\n",
        "\n",
        "chain = create_extraction_chain(llm, schema)"
      ],
      "metadata": {
        "id": "LDXQgLLVfd73"
      },
      "execution_count": null,
      "outputs": []
    },
    {
      "cell_type": "code",
      "source": [
        "print(chain.prompt.format_prompt(text=\"[user input]\").to_string())"
      ],
      "metadata": {
        "colab": {
          "base_uri": "https://localhost:8080/"
        },
        "id": "sWTguilQfkTM",
        "outputId": "52e6c47b-4429-4099-e06a-b35418ecfff8"
      },
      "execution_count": null,
      "outputs": [
        {
          "output_type": "stream",
          "name": "stdout",
          "text": [
            "Your goal is to extract structured information from the user's input that matches the form described below. When extracting information please make sure it matches the type information exactly. Do not add any attributes that do not appear in the schema shown below.\n",
            "\n",
            "```TypeScript\n",
            "\n",
            "personal_info: Array<{ // Personal information about a given person.\n",
            " first_name: string // The first name of the person\n",
            " last_name: string // The last name of the person\n",
            " age: number // The age of the person in years.\n",
            "}>\n",
            "```\n",
            "\n",
            "\n",
            "Please output the extracted information in CSV format in Excel dialect. Please use a | as the delimiter. \n",
            " Do NOT add any clarifying information. Output MUST follow the schema above. Do NOT add any additional columns that do not appear in the schema.\n",
            "\n",
            "\n",
            "\n",
            "Input: John Smith was 23 years old. He was very tall. He knew Jane Doe. She was 5 years old.\n",
            "Output: first_name|last_name|age\n",
            "John|Smith|23\n",
            "Jane|Doe|5\n",
            "\n",
            "Input: John Smith went to the store\n",
            "Output: first_name|last_name|age\n",
            "John||\n",
            "\n",
            "Input: John Smith went to the store\n",
            "Output: first_name|last_name|age\n",
            "|Smith|\n",
            "\n",
            "Input: 23 years old\n",
            "Output: first_name|last_name|age\n",
            "||23\n",
            "\n",
            "Input: I turned three on sunday\n",
            "Output: first_name|last_name|age\n",
            "||3\n",
            "\n",
            "Input: [user input]\n",
            "Output:\n"
          ]
        }
      ]
    },
    {
      "cell_type": "code",
      "source": [
        "chain.predict_and_parse(text=\"David Jones was 34 years old a long time ago.\")[\"data\"]"
      ],
      "metadata": {
        "colab": {
          "base_uri": "https://localhost:8080/"
        },
        "id": "4PjSryvAfwXE",
        "outputId": "1850bca1-9805-482d-a6f3-af171c25cfb7"
      },
      "execution_count": null,
      "outputs": [
        {
          "output_type": "execute_result",
          "data": {
            "text/plain": [
              "{'personal_info': [{'first_name': 'David', 'last_name': 'Jones', 'age': '34'}]}"
            ]
          },
          "metadata": {},
          "execution_count": 8
        }
      ]
    },
    {
      "cell_type": "markdown",
      "source": [
        "## Nested Objects and JSON"
      ],
      "metadata": {
        "id": "dz9gWTk4TGd0"
      }
    },
    {
      "cell_type": "code",
      "source": [
        "from_address = Object(\n",
        "    id=\"from_address\",\n",
        "    description=\"Person moved away from this address\",\n",
        "    attributes=[\n",
        "        Text(id=\"street\"),\n",
        "        Text(id=\"city\"),\n",
        "        Text(id=\"state\"),\n",
        "        Text(id=\"zipcode\"),\n",
        "        Text(id=\"country\", description=\"A country in the world; e.g., France.\"),\n",
        "    ],\n",
        "    examples=[\n",
        "        (\n",
        "            \"100 Main St, Boston, MA, 23232, USA\",\n",
        "            {\n",
        "                \"street\": \"100 Marlo St\",\n",
        "                \"city\": \"Boston\",\n",
        "                \"state\": \"MA\",\n",
        "                \"zipcode\": \"23232\",\n",
        "                \"country\": \"USA\",\n",
        "            },\n",
        "        )\n",
        "    ],\n",
        ")\n",
        "\n",
        "to_address = from_address.replace(\n",
        "    id=\"to_address\", description=\"Address to which the person is moving\"\n",
        ")\n",
        "\n",
        "schema = Object(\n",
        "    id=\"information\",\n",
        "    attributes=[\n",
        "        Text(\n",
        "            id=\"person_name\",\n",
        "            description=\"The full name of the person or partial name\",\n",
        "            examples=[(\"John Smith was here\", \"John Smith\")],\n",
        "        ),\n",
        "        from_address,\n",
        "        to_address,\n",
        "    ],\n",
        "    many=True,\n",
        ")"
      ],
      "metadata": {
        "id": "LOOSR4DyYX-e"
      },
      "execution_count": null,
      "outputs": []
    },
    {
      "cell_type": "markdown",
      "source": [
        "### JSON encoding\n",
        "To use nested objects, at least for now we have to swap to the JSON encoder."
      ],
      "metadata": {
        "id": "f37I2uk5ezfF"
      }
    },
    {
      "cell_type": "code",
      "source": [
        "chain = create_extraction_chain(\n",
        "    llm, schema, encoder_or_encoder_class=\"json\", input_formatter=None\n",
        ")"
      ],
      "metadata": {
        "id": "UpcrZoeje1Vs"
      },
      "execution_count": null,
      "outputs": []
    },
    {
      "cell_type": "code",
      "source": [
        "print(chain.prompt.format_prompt(text=\"[user input]\").to_string())"
      ],
      "metadata": {
        "colab": {
          "base_uri": "https://localhost:8080/"
        },
        "id": "0-7Pox8hulAX",
        "outputId": "2fd74f70-569a-4ba1-91f5-a7b5335035e1"
      },
      "execution_count": null,
      "outputs": [
        {
          "output_type": "stream",
          "name": "stdout",
          "text": [
            "Your goal is to extract structured information from the user's input that matches the form described below. When extracting information please make sure it matches the type information exactly. Do not add any attributes that do not appear in the schema shown below.\n",
            "\n",
            "```TypeScript\n",
            "\n",
            "information: Array<{ // \n",
            " person_name: string // The full name of the person or partial name\n",
            " to_address: { // Address to which the person is moving\n",
            "  street: string // \n",
            "  city: string // \n",
            "  state: string // \n",
            "  zipcode: string // \n",
            "  country: string // A country in the world; e.g., France.\n",
            " }\n",
            " to_address: { // Address to which the person is moving\n",
            "  street: string // \n",
            "  city: string // \n",
            "  state: string // \n",
            "  zipcode: string // \n",
            "  country: string // A country in the world; e.g., France.\n",
            " }\n",
            "}>\n",
            "```\n",
            "\n",
            "\n",
            "Please output the extracted information in JSON format. Do not output anything except for the extracted information. Do not add any clarifying information. Do not add any fields that are not in the schema. If the text contains attributes that do not appear in the schema, please ignore them. All output must be in JSON format and follow the schema specified above. Wrap the JSON in <json> tags.\n",
            "\n",
            "\n",
            "\n",
            "Input: John Smith was here\n",
            "Output: <json>{\"information\": [{\"person_name\": \"John Smith\"}]}</json>\n",
            "Input: 100 Main St, Boston, MA, 23232, USA\n",
            "Output: <json>{\"information\": [{\"to_address\": {\"street\": \"100 Marlo St\", \"city\": \"Boston\", \"state\": \"MA\", \"zipcode\": \"23232\", \"country\": \"USA\"}}]}</json>\n",
            "Input: 100 Main St, Boston, MA, 23232, USA\n",
            "Output: <json>{\"information\": [{\"to_address\": {\"street\": \"100 Marlo St\", \"city\": \"Boston\", \"state\": \"MA\", \"zipcode\": \"23232\", \"country\": \"USA\"}}]}</json>\n",
            "Input: [user input]\n",
            "Output:\n"
          ]
        }
      ]
    },
    {
      "cell_type": "code",
      "source": [
        "chain.predict_and_parse(\n",
        "    text=\"Alice Doe moved from New York to Boston, MA while Bob Smith did the opposite.\"\n",
        ")[\"data\"]"
      ],
      "metadata": {
        "colab": {
          "base_uri": "https://localhost:8080/"
        },
        "id": "Pa4Jdj89khtD",
        "outputId": "239d03ad-68dd-435f-fac6-40cbb1836982"
      },
      "execution_count": null,
      "outputs": [
        {
          "output_type": "execute_result",
          "data": {
            "text/plain": [
              "{'information': [{'person_name': 'Alice Doe',\n",
              "   'to_address': {'city': 'Boston', 'state': 'MA'}},\n",
              "  {'person_name': 'Bob Smith', 'to_address': {'city': 'New York'}}]}"
            ]
          },
          "metadata": {},
          "execution_count": 12
        }
      ]
    },
    {
      "cell_type": "markdown",
      "source": [
        "## With Pydantic and validation"
      ],
      "metadata": {
        "id": "jZRRn5mxQPDu"
      }
    },
    {
      "cell_type": "code",
      "source": [
        "!wget -q https://www.dropbox.com/s/gekyuep86zibhl1/conversation-025722052023.txt"
      ],
      "metadata": {
        "id": "6s4_vP1DfSd8"
      },
      "execution_count": null,
      "outputs": []
    },
    {
      "cell_type": "markdown",
      "source": [
        "#### Load the document"
      ],
      "metadata": {
        "id": "9PX7S0ykCJ9K"
      }
    },
    {
      "cell_type": "code",
      "source": [
        "def load_conversation(filename):\n",
        "\n",
        "    with open(filename, 'r') as f:\n",
        "        conversation = f.read()\n",
        "\n",
        "    return conversation\n"
      ],
      "metadata": {
        "id": "2EpriZKOhbHl"
      },
      "execution_count": null,
      "outputs": []
    },
    {
      "cell_type": "code",
      "source": [
        "conversation = load_conversation('/content/conversation-025722052023.txt')\n",
        "\n",
        "len(conversation)"
      ],
      "metadata": {
        "colab": {
          "base_uri": "https://localhost:8080/"
        },
        "id": "9yJMEUnQt9id",
        "outputId": "d21d42d4-fdc3-47aa-aa16-730c763cf42e"
      },
      "execution_count": null,
      "outputs": [
        {
          "output_type": "execute_result",
          "data": {
            "text/plain": [
              "9456"
            ]
          },
          "metadata": {},
          "execution_count": 15
        }
      ]
    },
    {
      "cell_type": "code",
      "source": [
        "conversation"
      ],
      "metadata": {
        "colab": {
          "base_uri": "https://localhost:8080/",
          "height": 174
        },
        "id": "B7TLMT90rMdo",
        "outputId": "4b4d81f3-de36-4ffa-d726-d029a28aa52b"
      },
      "execution_count": null,
      "outputs": [
        {
          "output_type": "execute_result",
          "data": {
            "text/plain": [
              "'Food lover 2: Instruction: Please describe your first most unforgettable meal, including the location, ambiance, taste, and any unique experiences.\\nInput: My first most unforgettable meal was at a restaurant called El Celler de Can Roca in Girona, Spain. The ambiance was elegant and modern, and the food was a creative and delicious 18-course tasting menu. One unique experience was when they brought out a dish that was inspired by the smells of the forest.\\n\\nFood lover 1: My response: That sounds amazing! The forest-inspired dish must have been a unique experience. My first most unforgettable meal was at a restaurant called Noma in Copenhagen, Denmark. The location was in an old warehouse by the waterfront, and the ambiance was rustic and cozy. The food was presented in a simple and natural way, with many of the ingredients sourced from the surrounding Nordic region. One of the most memorable dishes was a dessert made with fermented berries and ants, which added a surprising and delicious crunch. Overall, it was a truly unforgettable dining experience that showcased the beauty and flavors of Nordic cuisine. Next question.\\n\\nFood lover 2: Instruction: Please describe your second most unforgettable meal, including the location, ambiance, taste, and any unique experiences.\\nInput: My second most unforgettable meal was at a small family-owned restaurant called La Cava del Tequila in Mexico City. The ambiance was cozy and intimate, with dim lighting and traditional Mexican decor. The food was authentic and flavorful, with a focus on regional specialties. One unique experience was when the owner came to our table and gave us a tequila tasting, explaining the different types and flavors. The standout dish for me was the mole, which had a complex and rich flavor that I had never tasted before.\\n\\nFood lover 1: My response: That sounds like a wonderful experience! My second most unforgettable meal was at a restaurant called Gaggan in Bangkok, Thailand. The location was in a beautiful colonial-style house, and the ambiance was modern and chic. The food was a creative and playful take on Indian cuisine, with each dish presented in a unique and artistic way. One unique experience was when they brought out a dish that was meant to be eaten with your hands, and it was served on a miniature replica of a tree. The standout dish for me was the \"Lick It Up\" course, which was a deconstructed version of a traditional Indian street food dish. Overall, it was an unforgettable dining experience that showcased the creativity and innovation of modern Indian cuisine. Next question.\\n\\nFood lover 2: Instruction: Please describe your third most unforgettable meal, including the location, ambiance, taste, and any unique experiences.\\nInput: My third most unforgettable meal was at a restaurant called Osteria Francescana in Modena, Italy. The location was in a historic building in the heart of the city, and the ambiance was elegant and refined. The food was a modern take on traditional Italian cuisine, with a focus on local and seasonal ingredients. One unique experience was when they brought out a dish that was inspired by the childhood memories of the chef, Massimo Bottura. The standout dish for me was the \"Oops! I Dropped the Lemon Tart,\" which was a deconstructed version of a lemon tart that was presented in a playful and unexpected way. Overall, it was an unforgettable dining experience that showcased the creativity and passion of Italian cuisine.\\n\\nFood lover 1: My response: That\\'s a great choice! My third most unforgettable meal was at a restaurant called Attica in Melbourne, Australia. The location was in a converted warehouse, and the ambiance was modern and minimalist. The food was a creative and innovative take on Australian cuisine, with a focus on native ingredients and flavors. One unique experience was when they brought out a dish that was meant to be eaten with your hands, and it was served on a bed of eucalyptus leaves. The standout dish for me was the \"Potato cooked in the earth it was grown,\" which was a simple yet delicious dish that showcased the natural flavors of the potato. Overall, it was an unforgettable dining experience that showcased the beauty and diversity of Australian cuisine. Next question.\\n\\nFood lover 2: Instruction: Please rate my first meal based on originality, presentation, and overall satisfaction.\\nInput: I would rate your first meal very highly based on originality, presentation, and overall satisfaction. The forest-inspired dish sounds like a unique and creative concept, and the elegant and modern ambiance of the restaurant must have added to the overall experience. The 18-course tasting menu also shows a high level of creativity and attention to detail. Overall, it sounds like a truly unforgettable dining experience.\\n\\nFood lover 1: My response: I completely agree with your assessment. Your first meal sounds like it was a truly unforgettable dining experience, with a high level of originality, presentation, and overall satisfaction. The attention to detail and creativity in the dishes, as well as the elegant and modern ambiance of the restaurant, must have made for a truly memorable experience. I would rate your first meal very highly based on these factors. Next question.\\n\\nFood lover 2: Instruction: Please rate my second meal based on originality, presentation, and overall satisfaction.\\nInput: I would rate your second meal very highly based on originality, presentation, and overall satisfaction. The cozy and intimate ambiance of the restaurant, along with the authentic and flavorful Mexican cuisine, must have made for a truly memorable experience. The tequila tasting and focus on regional specialties also show a high level of attention to detail and passion for the cuisine. Overall, it sounds like a wonderful dining experience.\\n\\nFood lover 1: My response: I completely agree with your assessment. Your second meal sounds like it was a wonderful dining experience, with a high level of originality, presentation, and overall satisfaction. The cozy and intimate ambiance of the restaurant, along with the authentic and flavorful Mexican cuisine, must have made for a truly memorable experience. The tequila tasting and focus on regional specialties also show a high level of attention to detail and passion for the cuisine. I would rate your second meal very highly based on these factors. Next question.\\n\\nFood lover 2: Instruction: Please rate my third meal based on originality, presentation, and overall satisfaction.\\nInput: I would rate your third meal very highly based on originality, presentation, and overall satisfaction. The elegant and refined ambiance of the restaurant, along with the modern take on traditional Italian cuisine, must have made for a truly unforgettable dining experience. The dish inspired by the childhood memories of the chef, as well as the deconstructed lemon tart, show a high level of creativity and attention to detail. Overall, it sounds like a truly exceptional dining experience.\\n\\nFood lover 1: My response: I completely agree with your assessment. Your third meal sounds like it was a truly exceptional dining experience, with a high level of originality, presentation, and overall satisfaction. The elegant and refined ambiance of the restaurant, along with the modern take on traditional Italian cuisine, must have made for a truly unforgettable dining experience. The dish inspired by the childhood memories of the chef, as well as the deconstructed lemon tart, show a high level of creativity and attention to detail. I would rate your third meal very highly based on these factors. Next question.\\n\\nFood lover 2: Instruction: Based on our descriptions and ratings of each other\\'s meals, which meal would you be most interested in trying and why?\\nInput: Based on our descriptions and ratings of each other\\'s meals, I would be most interested in trying your second meal at Noma in Copenhagen, Denmark. The rustic and cozy ambiance of the restaurant, along with the creative and playful take on Nordic cuisine, sounds like a truly unique and memorable dining experience. The dessert made with fermented berries and ants also sounds like a fascinating and delicious dish to try. Overall, I would love to experience the beauty and flavors of Nordic cuisine at Noma.\\n\\nFood lover 1: My response: That\\'s a great choice! Based on our descriptions and ratings of each other\\'s meals, I would be most interested in trying your first meal at Osteria Francescana in Modena, Italy. The elegant and modern ambiance of the restaurant, along with the creative and artistic presentation of the dishes, sounds like a truly unforgettable dining experience. The \"Oops! I Dropped the Lemon Tart\" dessert also sounds like a playful and unexpected dish that would be a delight to try. Overall, I would love to experience the creativity and passion of Italian cuisine at Osteria Francescana.\\n\\nFood lover 2: Instruction: It seems like we both have a great choice in mind. Thank you for sharing your unforgettable meals with me. <TASK_DONE>\\n\\nFood lover 1: My response: You\\'re welcome! It was a pleasure sharing our unforgettable meals with each other. I look forward to collaborating with you on future tasks. <TASK_DONE>\\n\\nFood lover 2: Great! Looking forward to working with you again. <TASK_DONE>\\n\\nFood lover 1: Likewise! Have a great day. <TASK_DONE>\\n\\nFood lover 2: You too! <TASK_DONE>\\n\\nFood lover 1: Thank you! <TASK_DONE>\\n\\n'"
            ],
            "application/vnd.google.colaboratory.intrinsic+json": {
              "type": "string"
            }
          },
          "metadata": {},
          "execution_count": 16
        }
      ]
    },
    {
      "cell_type": "markdown",
      "source": [
        "#### Split the text into docs"
      ],
      "metadata": {
        "id": "FPcmGiUQiVdX"
      }
    },
    {
      "cell_type": "code",
      "source": [
        "doc = Document(page_content=conversation)"
      ],
      "metadata": {
        "id": "4XKVN0TOHJo3"
      },
      "execution_count": null,
      "outputs": []
    },
    {
      "cell_type": "code",
      "source": [
        "split_docs = RecursiveCharacterTextSplitter().split_documents([doc])"
      ],
      "metadata": {
        "id": "A0c_8-qqHAXj"
      },
      "execution_count": null,
      "outputs": []
    },
    {
      "cell_type": "markdown",
      "source": [
        "#### Extract Restaurant Info\n"
      ],
      "metadata": {
        "id": "OubDxc9VCh6n"
      }
    },
    {
      "cell_type": "code",
      "source": [
        "llm = ChatOpenAI(\n",
        "     model_name=\"gpt-3.5-turbo\",\n",
        "    temperature=0,\n",
        ")"
      ],
      "metadata": {
        "id": "S9RZ9RZHCrPU"
      },
      "execution_count": null,
      "outputs": []
    },
    {
      "cell_type": "code",
      "source": [
        "class Restaurant(BaseModel):\n",
        "    name: str = Field(\n",
        "        description=\"The name of the restaurant\",\n",
        "    )\n",
        "    location: Optional[str] = Field(\n",
        "        description=\"City and or country, the place where the restaurant is\",\n",
        "    )\n",
        "    style: Optional[str] = Field(\n",
        "        description=\"The types of cusine that is served at the restaurant\",\n",
        "    )\n",
        "    top_dish: Optional[str] = Field(\n",
        "        description=\"The top dish that people love the most\",\n",
        "    )\n",
        "\n",
        "    @validator(\"name\")\n",
        "    def name_must_not_be_empty(cls, v):\n",
        "        if not v:\n",
        "            raise ValueError(\"Name must not be empty\")\n",
        "        return v\n",
        "\n",
        "\n"
      ],
      "metadata": {
        "id": "6_Wof-S4EKMr"
      },
      "execution_count": null,
      "outputs": []
    },
    {
      "cell_type": "code",
      "source": [
        "schema, extraction_validator = from_pydantic(\n",
        "    Restaurant,\n",
        "    description=\"Extract information about restaurants including their name, location, style and dishes.\",\n",
        "    examples=[\n",
        "        (\n",
        "            \"My first fav meal was at a restaurant called Burnt Ends in Singapore.\",\n",
        "            {\"name\": \"Burnt Ends\", \"location\": \"Singapore\"},\n",
        "        )\n",
        "    ],\n",
        "    many=True,\n",
        ")"
      ],
      "metadata": {
        "id": "wKJ6J7Ze0xhs"
      },
      "execution_count": null,
      "outputs": []
    },
    {
      "cell_type": "code",
      "source": [
        "chain = create_extraction_chain(\n",
        "    llm,\n",
        "    schema,\n",
        "    encoder_or_encoder_class=\"csv\",\n",
        "    validator=extraction_validator,\n",
        "    input_formatter=\"triple_quotes\",\n",
        ")"
      ],
      "metadata": {
        "id": "TCYXBYvSFYEu"
      },
      "execution_count": null,
      "outputs": []
    },
    {
      "cell_type": "code",
      "source": [
        "print(chain.prompt.format_prompt(text=\"[user input]\").to_string())"
      ],
      "metadata": {
        "colab": {
          "base_uri": "https://localhost:8080/"
        },
        "id": "57McFWe6uTnu",
        "outputId": "c5c6d7c2-509f-4ee2-8753-2d6217f82d41"
      },
      "execution_count": null,
      "outputs": [
        {
          "output_type": "stream",
          "name": "stdout",
          "text": [
            "Your goal is to extract structured information from the user's input that matches the form described below. When extracting information please make sure it matches the type information exactly. Do not add any attributes that do not appear in the schema shown below.\n",
            "\n",
            "```TypeScript\n",
            "\n",
            "restaurant: Array<{ // Extract information about restaurants including their name, location, style and dishes.\n",
            " name: string // The name of the restaurant\n",
            " location: string // City and or country, the place where the restaurant is\n",
            " style: string // The types of cusine that is served at the restaurant\n",
            " top_dish: string // The top dish that people love the most\n",
            "}>\n",
            "```\n",
            "\n",
            "\n",
            "Please output the extracted information in CSV format in Excel dialect. Please use a | as the delimiter. \n",
            " Do NOT add any clarifying information. Output MUST follow the schema above. Do NOT add any additional columns that do not appear in the schema.\n",
            "\n",
            "\n",
            "\n",
            "Input: \"\"\"\n",
            "My first fav meal was at a restaurant called Burnt Ends in Singapore.\n",
            "\"\"\"\n",
            "Output: name|location|style|top_dish\n",
            "Burnt Ends|Singapore||\n",
            "\n",
            "Input: \"\"\"\n",
            "[user input]\n",
            "\"\"\"\n",
            "Output:\n"
          ]
        }
      ]
    },
    {
      "cell_type": "code",
      "source": [
        "with get_openai_callback() as cb:\n",
        "    document_extraction_results = await extract_from_documents(\n",
        "        chain, split_docs, max_concurrency=5, use_uid=False, return_exceptions=True\n",
        "    )\n",
        "    print(f\"Total Tokens: {cb.total_tokens}\")\n",
        "    print(f\"Prompt Tokens: {cb.prompt_tokens}\")\n",
        "    print(f\"Completion Tokens: {cb.completion_tokens}\")\n",
        "    print(f\"Successful Requests: {cb.successful_requests}\")\n",
        "    print(f\"Total Cost (USD): ${cb.total_cost}\")"
      ],
      "metadata": {
        "colab": {
          "base_uri": "https://localhost:8080/"
        },
        "id": "gLdZLuJ1GlgO",
        "outputId": "a6281a2e-2920-4f02-f7fa-e55b00a444c9"
      },
      "execution_count": null,
      "outputs": [
        {
          "output_type": "stream",
          "name": "stdout",
          "text": [
            "Total Tokens: 2745\n",
            "Prompt Tokens: 2583\n",
            "Completion Tokens: 162\n",
            "Successful Requests: 3\n",
            "Total Cost (USD): $0.00549\n"
          ]
        }
      ]
    },
    {
      "cell_type": "code",
      "source": [
        "document_extraction_results"
      ],
      "metadata": {
        "colab": {
          "base_uri": "https://localhost:8080/"
        },
        "id": "CCAH5bPUGlj6",
        "outputId": "5a1fd306-4891-412a-83d0-14b2d996ca67"
      },
      "execution_count": null,
      "outputs": [
        {
          "output_type": "execute_result",
          "data": {
            "text/plain": [
              "[{'uid': '0',\n",
              "  'source_uid': '0',\n",
              "  'data': {'restaurant': [{'name': 'El Celler de Can Roca',\n",
              "     'location': 'Girona, Spain',\n",
              "     'style': '',\n",
              "     'top_dish': 'forest-inspired dish'},\n",
              "    {'name': 'Noma',\n",
              "     'location': 'Copenhagen, Denmark',\n",
              "     'style': 'Nordic cuisine',\n",
              "     'top_dish': 'fermented berries and ants dessert'},\n",
              "    {'name': 'La Cava del Tequila',\n",
              "     'location': 'Mexico City, Mexico',\n",
              "     'style': 'Mexican',\n",
              "     'top_dish': 'mole'},\n",
              "    {'name': 'Gaggan',\n",
              "     'location': 'Bangkok, Thailand',\n",
              "     'style': 'modern Indian cuisine',\n",
              "     'top_dish': 'Lick It Up course'},\n",
              "    {'name': 'Osteria Francescana',\n",
              "     'location': 'Modena, Italy',\n",
              "     'style': 'modern Italian cuisine',\n",
              "     'top_dish': 'Oops! I Dropped the Lemon Tart'}]},\n",
              "  'raw': 'name|location|style|top_dish\\nEl Celler de Can Roca|Girona, Spain||forest-inspired dish\\nNoma|Copenhagen, Denmark|Nordic cuisine|fermented berries and ants dessert\\nLa Cava del Tequila|Mexico City, Mexico|Mexican|mole\\nGaggan|Bangkok, Thailand|modern Indian cuisine|\"Lick It Up\" course\\nOsteria Francescana|Modena, Italy|modern Italian cuisine|\"Oops! I Dropped the Lemon Tart\"',\n",
              "  'validated_data': [Restaurant(name='El Celler de Can Roca', location='Girona, Spain', style='', top_dish='forest-inspired dish'),\n",
              "   Restaurant(name='Noma', location='Copenhagen, Denmark', style='Nordic cuisine', top_dish='fermented berries and ants dessert'),\n",
              "   Restaurant(name='La Cava del Tequila', location='Mexico City, Mexico', style='Mexican', top_dish='mole'),\n",
              "   Restaurant(name='Gaggan', location='Bangkok, Thailand', style='modern Indian cuisine', top_dish='Lick It Up course'),\n",
              "   Restaurant(name='Osteria Francescana', location='Modena, Italy', style='modern Italian cuisine', top_dish='Oops! I Dropped the Lemon Tart')],\n",
              "  'errors': []},\n",
              " {'uid': '1',\n",
              "  'source_uid': '1',\n",
              "  'data': {'restaurant': [{'name': 'Attica',\n",
              "     'location': 'Melbourne, Australia',\n",
              "     'style': 'Australian cuisine',\n",
              "     'top_dish': 'Potato cooked in the earth it was grown'}]},\n",
              "  'raw': 'name|location|style|top_dish\\nAttica|Melbourne, Australia|Australian cuisine|Potato cooked in the earth it was grown',\n",
              "  'validated_data': [Restaurant(name='Attica', location='Melbourne, Australia', style='Australian cuisine', top_dish='Potato cooked in the earth it was grown')],\n",
              "  'errors': []},\n",
              " {'uid': '2',\n",
              "  'source_uid': '2',\n",
              "  'data': {'restaurant': []},\n",
              "  'raw': 'No structured information about restaurants is provided in this conversation. Therefore, I cannot extract any information about restaurants.',\n",
              "  'validated_data': [],\n",
              "  'errors': []}]"
            ]
          },
          "metadata": {},
          "execution_count": 25
        }
      ]
    },
    {
      "cell_type": "markdown",
      "source": [
        "#### Let's put it in a human readable format"
      ],
      "metadata": {
        "id": "8cc9_YenLuUS"
      }
    },
    {
      "cell_type": "code",
      "source": [
        "import json\n",
        "\n",
        "def extract_restaurant_info(json_data):\n",
        "    for record in json_data:\n",
        "        restaurant_list = record.get('data', {}).get('restaurant', [])\n",
        "        for restaurant in restaurant_list:\n",
        "            name = restaurant.get('name', '')\n",
        "            location = restaurant.get('location', '')\n",
        "            style = restaurant.get('style', '')\n",
        "            top_dish = restaurant.get('top_dish', '')\n",
        "\n",
        "            # If style is not specified, we'll just say \"Cuisine not specified\"\n",
        "            style = style if style else 'Cuisine not specified'\n",
        "\n",
        "            print(f'Restaurant Name: {name}\\nLocation: {location}\\nStyle: {style}\\nTop Dish: {top_dish}\\n')\n",
        "\n"
      ],
      "metadata": {
        "id": "IGAiZqjvGlm-"
      },
      "execution_count": null,
      "outputs": []
    },
    {
      "cell_type": "code",
      "source": [
        "\n",
        "extract_restaurant_info(document_extraction_results)"
      ],
      "metadata": {
        "colab": {
          "base_uri": "https://localhost:8080/"
        },
        "id": "6MUbvaicJL8W",
        "outputId": "7230af85-6eb8-40cd-8cd2-033817db1cb8"
      },
      "execution_count": null,
      "outputs": [
        {
          "output_type": "stream",
          "name": "stdout",
          "text": [
            "Restaurant Name: El Celler de Can Roca\n",
            "Location: Girona, Spain\n",
            "Style: Cuisine not specified\n",
            "Top Dish: forest-inspired dish\n",
            "\n",
            "Restaurant Name: Noma\n",
            "Location: Copenhagen, Denmark\n",
            "Style: Nordic cuisine\n",
            "Top Dish: fermented berries and ants dessert\n",
            "\n",
            "Restaurant Name: La Cava del Tequila\n",
            "Location: Mexico City, Mexico\n",
            "Style: Mexican\n",
            "Top Dish: mole\n",
            "\n",
            "Restaurant Name: Gaggan\n",
            "Location: Bangkok, Thailand\n",
            "Style: modern Indian cuisine\n",
            "Top Dish: Lick It Up course\n",
            "\n",
            "Restaurant Name: Osteria Francescana\n",
            "Location: Modena, Italy\n",
            "Style: modern Italian cuisine\n",
            "Top Dish: Oops! I Dropped the Lemon Tart\n",
            "\n",
            "Restaurant Name: Attica\n",
            "Location: Melbourne, Australia\n",
            "Style: Australian cuisine\n",
            "Top Dish: Potato cooked in the earth it was grown\n",
            "\n"
          ]
        }
      ]
    },
    {
      "cell_type": "markdown",
      "source": [
        "#### Lets put it in a structured DataFrame"
      ],
      "metadata": {
        "id": "UHWoSa6NLpXe"
      }
    },
    {
      "cell_type": "code",
      "source": [
        "import pandas as pd\n",
        "\n",
        "def generate_dataframe(json_data):\n",
        "    # Prepare an empty list to store all restaurant data\n",
        "    data = []\n",
        "\n",
        "    for record in json_data:\n",
        "        restaurant_list = record.get('data', {}).get('restaurant', [])\n",
        "        for restaurant in restaurant_list:\n",
        "            # Get details for each restaurant and append it to data\n",
        "            data.append([\n",
        "                restaurant.get('name', ''),\n",
        "                restaurant.get('location', ''),\n",
        "                restaurant.get('style', '') if restaurant.get('style', '') else 'Cuisine not specified',\n",
        "                restaurant.get('top_dish', '')\n",
        "            ])\n",
        "\n",
        "    # Convert the list into a DataFrame\n",
        "    df = pd.DataFrame(data, columns=['Name', 'Location', 'Style', 'Top Dish'])\n",
        "\n",
        "    return df\n",
        "\n",
        "# Usage:\n",
        "df = generate_dataframe(document_extraction_results)\n"
      ],
      "metadata": {
        "id": "Xel0E62FJL-u"
      },
      "execution_count": null,
      "outputs": []
    },
    {
      "cell_type": "code",
      "source": [
        "df"
      ],
      "metadata": {
        "colab": {
          "base_uri": "https://localhost:8080/",
          "height": 237
        },
        "id": "aul5vTtbJMDr",
        "outputId": "1d54a7f0-5437-4c7e-85bb-e53ae13263dd"
      },
      "execution_count": null,
      "outputs": [
        {
          "output_type": "execute_result",
          "data": {
            "text/plain": [
              "                    Name              Location                   Style  \\\n",
              "0  El Celler de Can Roca         Girona, Spain   Cuisine not specified   \n",
              "1                   Noma   Copenhagen, Denmark          Nordic cuisine   \n",
              "2    La Cava del Tequila   Mexico City, Mexico                 Mexican   \n",
              "3                 Gaggan     Bangkok, Thailand   modern Indian cuisine   \n",
              "4    Osteria Francescana         Modena, Italy  modern Italian cuisine   \n",
              "5                 Attica  Melbourne, Australia      Australian cuisine   \n",
              "\n",
              "                                  Top Dish  \n",
              "0                     forest-inspired dish  \n",
              "1       fermented berries and ants dessert  \n",
              "2                                     mole  \n",
              "3                        Lick It Up course  \n",
              "4           Oops! I Dropped the Lemon Tart  \n",
              "5  Potato cooked in the earth it was grown  "
            ],
            "text/html": [
              "\n",
              "  <div id=\"df-321e5ede-152a-486b-936f-2ccd34d158da\">\n",
              "    <div class=\"colab-df-container\">\n",
              "      <div>\n",
              "<style scoped>\n",
              "    .dataframe tbody tr th:only-of-type {\n",
              "        vertical-align: middle;\n",
              "    }\n",
              "\n",
              "    .dataframe tbody tr th {\n",
              "        vertical-align: top;\n",
              "    }\n",
              "\n",
              "    .dataframe thead th {\n",
              "        text-align: right;\n",
              "    }\n",
              "</style>\n",
              "<table border=\"1\" class=\"dataframe\">\n",
              "  <thead>\n",
              "    <tr style=\"text-align: right;\">\n",
              "      <th></th>\n",
              "      <th>Name</th>\n",
              "      <th>Location</th>\n",
              "      <th>Style</th>\n",
              "      <th>Top Dish</th>\n",
              "    </tr>\n",
              "  </thead>\n",
              "  <tbody>\n",
              "    <tr>\n",
              "      <th>0</th>\n",
              "      <td>El Celler de Can Roca</td>\n",
              "      <td>Girona, Spain</td>\n",
              "      <td>Cuisine not specified</td>\n",
              "      <td>forest-inspired dish</td>\n",
              "    </tr>\n",
              "    <tr>\n",
              "      <th>1</th>\n",
              "      <td>Noma</td>\n",
              "      <td>Copenhagen, Denmark</td>\n",
              "      <td>Nordic cuisine</td>\n",
              "      <td>fermented berries and ants dessert</td>\n",
              "    </tr>\n",
              "    <tr>\n",
              "      <th>2</th>\n",
              "      <td>La Cava del Tequila</td>\n",
              "      <td>Mexico City, Mexico</td>\n",
              "      <td>Mexican</td>\n",
              "      <td>mole</td>\n",
              "    </tr>\n",
              "    <tr>\n",
              "      <th>3</th>\n",
              "      <td>Gaggan</td>\n",
              "      <td>Bangkok, Thailand</td>\n",
              "      <td>modern Indian cuisine</td>\n",
              "      <td>Lick It Up course</td>\n",
              "    </tr>\n",
              "    <tr>\n",
              "      <th>4</th>\n",
              "      <td>Osteria Francescana</td>\n",
              "      <td>Modena, Italy</td>\n",
              "      <td>modern Italian cuisine</td>\n",
              "      <td>Oops! I Dropped the Lemon Tart</td>\n",
              "    </tr>\n",
              "    <tr>\n",
              "      <th>5</th>\n",
              "      <td>Attica</td>\n",
              "      <td>Melbourne, Australia</td>\n",
              "      <td>Australian cuisine</td>\n",
              "      <td>Potato cooked in the earth it was grown</td>\n",
              "    </tr>\n",
              "  </tbody>\n",
              "</table>\n",
              "</div>\n",
              "      <button class=\"colab-df-convert\" onclick=\"convertToInteractive('df-321e5ede-152a-486b-936f-2ccd34d158da')\"\n",
              "              title=\"Convert this dataframe to an interactive table.\"\n",
              "              style=\"display:none;\">\n",
              "        \n",
              "  <svg xmlns=\"http://www.w3.org/2000/svg\" height=\"24px\"viewBox=\"0 0 24 24\"\n",
              "       width=\"24px\">\n",
              "    <path d=\"M0 0h24v24H0V0z\" fill=\"none\"/>\n",
              "    <path d=\"M18.56 5.44l.94 2.06.94-2.06 2.06-.94-2.06-.94-.94-2.06-.94 2.06-2.06.94zm-11 1L8.5 8.5l.94-2.06 2.06-.94-2.06-.94L8.5 2.5l-.94 2.06-2.06.94zm10 10l.94 2.06.94-2.06 2.06-.94-2.06-.94-.94-2.06-.94 2.06-2.06.94z\"/><path d=\"M17.41 7.96l-1.37-1.37c-.4-.4-.92-.59-1.43-.59-.52 0-1.04.2-1.43.59L10.3 9.45l-7.72 7.72c-.78.78-.78 2.05 0 2.83L4 21.41c.39.39.9.59 1.41.59.51 0 1.02-.2 1.41-.59l7.78-7.78 2.81-2.81c.8-.78.8-2.07 0-2.86zM5.41 20L4 18.59l7.72-7.72 1.47 1.35L5.41 20z\"/>\n",
              "  </svg>\n",
              "      </button>\n",
              "      \n",
              "  <style>\n",
              "    .colab-df-container {\n",
              "      display:flex;\n",
              "      flex-wrap:wrap;\n",
              "      gap: 12px;\n",
              "    }\n",
              "\n",
              "    .colab-df-convert {\n",
              "      background-color: #E8F0FE;\n",
              "      border: none;\n",
              "      border-radius: 50%;\n",
              "      cursor: pointer;\n",
              "      display: none;\n",
              "      fill: #1967D2;\n",
              "      height: 32px;\n",
              "      padding: 0 0 0 0;\n",
              "      width: 32px;\n",
              "    }\n",
              "\n",
              "    .colab-df-convert:hover {\n",
              "      background-color: #E2EBFA;\n",
              "      box-shadow: 0px 1px 2px rgba(60, 64, 67, 0.3), 0px 1px 3px 1px rgba(60, 64, 67, 0.15);\n",
              "      fill: #174EA6;\n",
              "    }\n",
              "\n",
              "    [theme=dark] .colab-df-convert {\n",
              "      background-color: #3B4455;\n",
              "      fill: #D2E3FC;\n",
              "    }\n",
              "\n",
              "    [theme=dark] .colab-df-convert:hover {\n",
              "      background-color: #434B5C;\n",
              "      box-shadow: 0px 1px 3px 1px rgba(0, 0, 0, 0.15);\n",
              "      filter: drop-shadow(0px 1px 2px rgba(0, 0, 0, 0.3));\n",
              "      fill: #FFFFFF;\n",
              "    }\n",
              "  </style>\n",
              "\n",
              "      <script>\n",
              "        const buttonEl =\n",
              "          document.querySelector('#df-321e5ede-152a-486b-936f-2ccd34d158da button.colab-df-convert');\n",
              "        buttonEl.style.display =\n",
              "          google.colab.kernel.accessAllowed ? 'block' : 'none';\n",
              "\n",
              "        async function convertToInteractive(key) {\n",
              "          const element = document.querySelector('#df-321e5ede-152a-486b-936f-2ccd34d158da');\n",
              "          const dataTable =\n",
              "            await google.colab.kernel.invokeFunction('convertToInteractive',\n",
              "                                                     [key], {});\n",
              "          if (!dataTable) return;\n",
              "\n",
              "          const docLinkHtml = 'Like what you see? Visit the ' +\n",
              "            '<a target=\"_blank\" href=https://colab.research.google.com/notebooks/data_table.ipynb>data table notebook</a>'\n",
              "            + ' to learn more about interactive tables.';\n",
              "          element.innerHTML = '';\n",
              "          dataTable['output_type'] = 'display_data';\n",
              "          await google.colab.output.renderOutput(dataTable, element);\n",
              "          const docLink = document.createElement('div');\n",
              "          docLink.innerHTML = docLinkHtml;\n",
              "          element.appendChild(docLink);\n",
              "        }\n",
              "      </script>\n",
              "    </div>\n",
              "  </div>\n",
              "  "
            ]
          },
          "metadata": {},
          "execution_count": 30
        }
      ]
    },
    {
      "cell_type": "code",
      "source": [],
      "metadata": {
        "id": "mXMNJquwJMHw"
      },
      "execution_count": null,
      "outputs": []
    },
    {
      "cell_type": "code",
      "source": [
        "schema, validator = from_pydantic(Restaurant)"
      ],
      "metadata": {
        "id": "cSwBpVV2JMJ2"
      },
      "execution_count": null,
      "outputs": []
    },
    {
      "cell_type": "code",
      "source": [
        "chain = create_extraction_chain(\n",
        "    llm,\n",
        "    schema,\n",
        "    encoder_or_encoder_class=\"csv\",\n",
        "    validator=validator,\n",
        "    input_formatter=\"triple_quotes\",\n",
        ")"
      ],
      "metadata": {
        "id": "jOqsDAq34hne"
      },
      "execution_count": null,
      "outputs": []
    },
    {
      "cell_type": "code",
      "source": [
        "with get_openai_callback() as cb:\n",
        "    document_extraction_results = await extract_from_documents(\n",
        "        chain, split_docs, max_concurrency=5, use_uid=False, return_exceptions=True\n",
        "    )\n",
        "    print(f\"Total Tokens: {cb.total_tokens}\")\n",
        "    print(f\"Prompt Tokens: {cb.prompt_tokens}\")\n",
        "    print(f\"Completion Tokens: {cb.completion_tokens}\")\n",
        "    print(f\"Successful Requests: {cb.successful_requests}\")\n",
        "    print(f\"Total Cost (USD): ${cb.total_cost}\")"
      ],
      "metadata": {
        "colab": {
          "base_uri": "https://localhost:8080/"
        },
        "outputId": "2d6c1bfc-ed5f-4d3c-cb00-8a3a540617c2",
        "id": "a1Ch17pW4hnq"
      },
      "execution_count": null,
      "outputs": [
        {
          "output_type": "stream",
          "name": "stdout",
          "text": [
            "Total Tokens: 2666\n",
            "Prompt Tokens: 2412\n",
            "Completion Tokens: 254\n",
            "Successful Requests: 3\n",
            "Total Cost (USD): $0.005332\n"
          ]
        }
      ]
    },
    {
      "cell_type": "code",
      "source": [
        "document_extraction_results"
      ],
      "metadata": {
        "colab": {
          "base_uri": "https://localhost:8080/"
        },
        "outputId": "34925efd-0c81-4845-d591-64cb52c2242b",
        "id": "oHeuZQAj4hnq"
      },
      "execution_count": null,
      "outputs": [
        {
          "output_type": "execute_result",
          "data": {
            "text/plain": [
              "[{'uid': '0',\n",
              "  'source_uid': '0',\n",
              "  'data': {'restaurant': [{'name': '-',\n",
              "     'location': '-',\n",
              "     'style': '-',\n",
              "     'top_dish': '-'},\n",
              "    {'name': 'El Celler de Can Roca',\n",
              "     'location': 'Girona, Spain',\n",
              "     'style': 'Creative and delicious',\n",
              "     'top_dish': 'Forest-inspired dish'},\n",
              "    {'name': 'Noma',\n",
              "     'location': 'Copenhagen, Denmark',\n",
              "     'style': 'Simple and natural Nordic cuisine',\n",
              "     'top_dish': 'Dessert made with fermented berries and ants'},\n",
              "    {'name': 'La Cava del Tequila',\n",
              "     'location': 'Mexico City',\n",
              "     'style': 'Authentic and flavorful regional specialties',\n",
              "     'top_dish': 'Mole'},\n",
              "    {'name': 'Gaggan',\n",
              "     'location': 'Bangkok, Thailand',\n",
              "     'style': 'Creative and playful Indian cuisine',\n",
              "     'top_dish': 'Lick It Up course'},\n",
              "    {'name': 'Osteria Francescana',\n",
              "     'location': 'Modena, Italy',\n",
              "     'style': 'Modern take on traditional Italian cuisine',\n",
              "     'top_dish': 'Oops! I Dropped the Lemon Tart'}]},\n",
              "  'raw': 'name|location|style|top_dish\\n-|-|-|-\\nEl Celler de Can Roca|Girona, Spain|Creative and delicious|Forest-inspired dish\\nNoma|Copenhagen, Denmark|Simple and natural Nordic cuisine|Dessert made with fermented berries and ants\\nLa Cava del Tequila|Mexico City|Authentic and flavorful regional specialties|Mole\\nGaggan|Bangkok, Thailand|Creative and playful Indian cuisine|\"Lick It Up\" course\\nOsteria Francescana|Modena, Italy|Modern take on traditional Italian cuisine|\"Oops! I Dropped the Lemon Tart\"',\n",
              "  'validated_data': None,\n",
              "  'errors': [ValidationError(model='Restaurant', errors=[{'loc': ('__root__',), 'msg': 'Restaurant expected dict not list', 'type': 'type_error'}])]},\n",
              " {'uid': '1',\n",
              "  'source_uid': '1',\n",
              "  'data': {'restaurant': [{'restaurant_name': '---',\n",
              "     'location': '---',\n",
              "     'style': '---',\n",
              "     'top_dish': '---'},\n",
              "    {'restaurant_name': 'Attica',\n",
              "     'location': 'Melbourne, Australia',\n",
              "     'style': 'Australian',\n",
              "     'top_dish': 'Potato cooked in the earth it was grown'},\n",
              "    {'restaurant_name': 'N/A',\n",
              "     'location': 'N/A',\n",
              "     'style': 'Mexican',\n",
              "     'top_dish': 'N/A'},\n",
              "    {'restaurant_name': 'N/A',\n",
              "     'location': 'N/A',\n",
              "     'style': 'Italian',\n",
              "     'top_dish': 'deconstructed lemon tart'}]},\n",
              "  'raw': 'restaurant_name|location|style|top_dish\\n---|---|---|---\\nAttica|Melbourne, Australia|Australian|Potato cooked in the earth it was grown\\nN/A|N/A|Mexican|N/A\\nN/A|N/A|Italian|deconstructed lemon tart',\n",
              "  'validated_data': None,\n",
              "  'errors': [ValidationError(model='Restaurant', errors=[{'loc': ('__root__',), 'msg': 'Restaurant expected dict not list', 'type': 'type_error'}])]},\n",
              " {'uid': '2',\n",
              "  'source_uid': '2',\n",
              "  'data': {'restaurant': [{'restaurant_name': '---',\n",
              "     'location': '---',\n",
              "     'style': '---',\n",
              "     'top_dish': '---'},\n",
              "    {'restaurant_name': 'Osteria Francescana',\n",
              "     'location': 'Modena, Italy',\n",
              "     'style': 'Italian',\n",
              "     'top_dish': 'Oops! I Dropped the Lemon Tart'},\n",
              "    {'restaurant_name': 'Noma',\n",
              "     'location': 'Copenhagen, Denmark',\n",
              "     'style': 'Nordic',\n",
              "     'top_dish': 'Dessert made with fermented berries and ants'}]},\n",
              "  'raw': 'restaurant_name|location|style|top_dish\\n---|---|---|---\\nOsteria Francescana|Modena, Italy|Italian|Oops! I Dropped the Lemon Tart\\nNoma|Copenhagen, Denmark|Nordic|Dessert made with fermented berries and ants',\n",
              "  'validated_data': None,\n",
              "  'errors': [ValidationError(model='Restaurant', errors=[{'loc': ('__root__',), 'msg': 'Restaurant expected dict not list', 'type': 'type_error'}])]}]"
            ]
          },
          "metadata": {},
          "execution_count": 37
        }
      ]
    },
    {
      "cell_type": "code",
      "source": [
        "\n",
        "extract_restaurant_info(document_extraction_results)"
      ],
      "metadata": {
        "id": "F6ayES-fJMMR",
        "colab": {
          "base_uri": "https://localhost:8080/"
        },
        "outputId": "6957e71e-e479-432a-bca8-c1906c4c2d17"
      },
      "execution_count": null,
      "outputs": [
        {
          "output_type": "stream",
          "name": "stdout",
          "text": [
            "Restaurant Name: -\n",
            "Location: -\n",
            "Style: -\n",
            "Top Dish: -\n",
            "\n",
            "Restaurant Name: El Celler de Can Roca\n",
            "Location: Girona, Spain\n",
            "Style: Creative and delicious\n",
            "Top Dish: Forest-inspired dish\n",
            "\n",
            "Restaurant Name: Noma\n",
            "Location: Copenhagen, Denmark\n",
            "Style: Simple and natural Nordic cuisine\n",
            "Top Dish: Dessert made with fermented berries and ants\n",
            "\n",
            "Restaurant Name: La Cava del Tequila\n",
            "Location: Mexico City\n",
            "Style: Authentic and flavorful regional specialties\n",
            "Top Dish: Mole\n",
            "\n",
            "Restaurant Name: Gaggan\n",
            "Location: Bangkok, Thailand\n",
            "Style: Creative and playful Indian cuisine\n",
            "Top Dish: Lick It Up course\n",
            "\n",
            "Restaurant Name: Osteria Francescana\n",
            "Location: Modena, Italy\n",
            "Style: Modern take on traditional Italian cuisine\n",
            "Top Dish: Oops! I Dropped the Lemon Tart\n",
            "\n",
            "Restaurant Name: \n",
            "Location: ---\n",
            "Style: ---\n",
            "Top Dish: ---\n",
            "\n",
            "Restaurant Name: \n",
            "Location: Melbourne, Australia\n",
            "Style: Australian\n",
            "Top Dish: Potato cooked in the earth it was grown\n",
            "\n",
            "Restaurant Name: \n",
            "Location: N/A\n",
            "Style: Mexican\n",
            "Top Dish: N/A\n",
            "\n",
            "Restaurant Name: \n",
            "Location: N/A\n",
            "Style: Italian\n",
            "Top Dish: deconstructed lemon tart\n",
            "\n",
            "Restaurant Name: \n",
            "Location: ---\n",
            "Style: ---\n",
            "Top Dish: ---\n",
            "\n",
            "Restaurant Name: \n",
            "Location: Modena, Italy\n",
            "Style: Italian\n",
            "Top Dish: Oops! I Dropped the Lemon Tart\n",
            "\n",
            "Restaurant Name: \n",
            "Location: Copenhagen, Denmark\n",
            "Style: Nordic\n",
            "Top Dish: Dessert made with fermented berries and ants\n",
            "\n"
          ]
        }
      ]
    },
    {
      "cell_type": "code",
      "source": [],
      "metadata": {
        "id": "wtpxoHWqrhxM"
      },
      "execution_count": null,
      "outputs": []
    },
    {
      "cell_type": "code",
      "source": [],
      "metadata": {
        "id": "VeyDe3YYrh2l"
      },
      "execution_count": null,
      "outputs": []
    },
    {
      "cell_type": "code",
      "source": [],
      "metadata": {
        "id": "MmRdOHM1rh5z"
      },
      "execution_count": null,
      "outputs": []
    },
    {
      "cell_type": "code",
      "source": [],
      "metadata": {
        "id": "pTBeKTe6rh85"
      },
      "execution_count": null,
      "outputs": []
    },
    {
      "cell_type": "code",
      "source": [],
      "metadata": {
        "id": "vtqjVbnyrh_4"
      },
      "execution_count": null,
      "outputs": []
    },
    {
      "cell_type": "code",
      "source": [],
      "metadata": {
        "id": "M_RqAoNxriB_"
      },
      "execution_count": null,
      "outputs": []
    },
    {
      "cell_type": "code",
      "source": [],
      "metadata": {
        "id": "zY6NmWBari-l"
      },
      "execution_count": null,
      "outputs": []
    },
    {
      "cell_type": "code",
      "source": [],
      "metadata": {
        "id": "iDAgdes_rjBr"
      },
      "execution_count": null,
      "outputs": []
    },
    {
      "cell_type": "code",
      "source": [],
      "metadata": {
        "id": "W57jeVugrjEF"
      },
      "execution_count": null,
      "outputs": []
    },
    {
      "cell_type": "code",
      "source": [],
      "metadata": {
        "id": "qPW-Gfm6rjGY"
      },
      "execution_count": null,
      "outputs": []
    },
    {
      "cell_type": "code",
      "source": [
        "extraction_chain = create_extraction_chain(llm, restaurant_schema)"
      ],
      "metadata": {
        "id": "6oplQu-FDHks"
      },
      "execution_count": null,
      "outputs": []
    },
    {
      "cell_type": "code",
      "source": [
        "sections[0]"
      ],
      "metadata": {
        "colab": {
          "base_uri": "https://localhost:8080/",
          "height": 174
        },
        "outputId": "891192db-56cd-4865-b3e9-fa8b73f27a67",
        "id": "TmhWuWPSDHkt"
      },
      "execution_count": null,
      "outputs": [
        {
          "output_type": "execute_result",
          "data": {
            "text/plain": [
              "'Food lover 2: Instruction: Please describe your first most unforgettable meal, including the location, ambiance, taste, and any unique experiences.\\nInput: My first most unforgettable meal was at a restaurant called El Celler de Can Roca in Girona, Spain. The ambiance was elegant and modern, and the food was a creative and delicious 18-course tasting menu. One unique experience was when they brought out a dish that was inspired by the smells of the forest.\\n\\nFood lover 1: My response: That sounds amazing! The forest-inspired dish must have been a unique experience. My first most unforgettable meal was at a restaurant called Noma in Copenhagen, Denmark. The location was in an old warehouse by the waterfront, and the ambiance was rustic and cozy. The food was presented in a simple and natural way, with many of the ingredients sourced from the surrounding Nordic region. One of the most memorable dishes was a dessert made with fermented berries and ants, which added a surprising and delicious crunch. Overall, it was a truly unforgettable dining experience that showcased the beauty and flavors of Nordic cuisine. Next question.'"
            ],
            "application/vnd.google.colaboratory.intrinsic+json": {
              "type": "string"
            }
          },
          "metadata": {},
          "execution_count": 72
        }
      ]
    },
    {
      "cell_type": "code",
      "source": [
        "text = sections[0]\n",
        "\n",
        "extracted = extraction_chain.predict_and_parse(text=(text))[\"data\"]\n",
        "\n",
        "print(extracted)"
      ],
      "metadata": {
        "colab": {
          "base_uri": "https://localhost:8080/"
        },
        "outputId": "23b83ca1-8d0c-4265-8c03-9c5784032ee9",
        "id": "oDJcwe0MDHkt"
      },
      "execution_count": null,
      "outputs": [
        {
          "output_type": "stream",
          "name": "stdout",
          "text": [
            "{'restaurant': [{'name': 'El Celler de Can Roca'}, {'name': 'location'}, {'name': 'Girona, Spain'}, {'name': 'ambiance'}, {'name': 'elegant and modern'}, {'name': 'taste'}, {'name': 'creative and delicious 18-course tasting menu'}, {'name': 'unique experience'}, {'name': 'forest-inspired dish'}, {'name': 'name'}, {'name': 'Noma'}, {'name': 'location'}, {'name': 'Copenhagen, Denmark'}, {'name': 'ambiance'}, {'name': 'rustic and cozy'}, {'name': 'taste'}, {'name': 'simple and natural'}, {'name': 'unique experience'}, {'name': 'dessert made with fermented berries and ants'}]}\n"
          ]
        }
      ]
    },
    {
      "cell_type": "code",
      "source": [],
      "metadata": {
        "id": "2xofp61TBghC"
      },
      "execution_count": null,
      "outputs": []
    },
    {
      "cell_type": "code",
      "source": [],
      "metadata": {
        "id": "r5-4Q5vWBgkC"
      },
      "execution_count": null,
      "outputs": []
    },
    {
      "cell_type": "code",
      "source": [],
      "metadata": {
        "id": "jGf3Y_KPBgm2"
      },
      "execution_count": null,
      "outputs": []
    },
    {
      "cell_type": "code",
      "source": [],
      "metadata": {
        "id": "fJioaZxYBgqA"
      },
      "execution_count": null,
      "outputs": []
    },
    {
      "cell_type": "code",
      "source": [
        "def split_conversation(filename, max_tokens=1024):\n",
        "    \"\"\"\n",
        "    Load a conversation from a file and split it into sections of approximately 2048 tokens.\n",
        "\n",
        "    Parameters:\n",
        "    filename (str): The name of the file to read the conversation from.\n",
        "    max_tokens (int): The maximum number of tokens per section.\n",
        "\n",
        "    Returns:\n",
        "    list: A list of strings, where each string is a section of the conversation.\n",
        "    \"\"\"\n",
        "    with open(filename, 'r') as f:\n",
        "        conversation = f.read()\n",
        "\n",
        "    # Split the conversation into turns\n",
        "    turns = conversation.split(\"\\n\\n\")\n",
        "\n",
        "    sections = []\n",
        "    section = \"\"\n",
        "\n",
        "    for turn in turns:\n",
        "        # If adding the next turn would exceed the maximum number of tokens,\n",
        "        # add the current section to the list and start a new section\n",
        "        if len(section.split()) + len(turn.split()) > max_tokens:\n",
        "            sections.append(section.strip())\n",
        "            section = \"\"\n",
        "\n",
        "        # Add the turn to the current section\n",
        "        section += f\"{turn}\\n\\n\"\n",
        "\n",
        "    # Add the last section to the list\n",
        "    sections.append(section.strip())\n",
        "\n",
        "    return sections\n",
        "\n"
      ],
      "metadata": {
        "id": "42xbcr_zpr1U"
      },
      "execution_count": null,
      "outputs": []
    },
    {
      "cell_type": "code",
      "source": [],
      "metadata": {
        "id": "-H0Zo6ElBgsr"
      },
      "execution_count": null,
      "outputs": []
    },
    {
      "cell_type": "code",
      "source": [],
      "metadata": {
        "id": "Zy9oZpCgBgvo"
      },
      "execution_count": null,
      "outputs": []
    },
    {
      "cell_type": "code",
      "source": [
        "restaurant_schema = Object(\n",
        "    id=\"restaurant\",\n",
        "    description=(\n",
        "        \"People are talking about restaurants names and dishes as well as qualities of the restaturant\"\n",
        "    ),\n",
        "    attributes=[\n",
        "        Text(\n",
        "            id=\"name\",\n",
        "            description=\"The name of the restaurant\"\n",
        "        )\n",
        "    ],\n",
        "    examples=[(\"We went for a quick bite at McDonalds\",[{\"name\": \"McDonalds\"}]),\n",
        "            (\"I just love the steaks at Mortons\",[{\"name\": \"Mortons\"}]),\n",
        "            (\"We already have a booking at The Eatery so can't goto Mortons\",[{\"name\": \"The Eatery\"},{\"name\": \"Mortons\"}])\n",
        "            ],\n",
        "    many=True,\n",
        ")"
      ],
      "metadata": {
        "id": "LPNKNO_7CrPZ"
      },
      "execution_count": null,
      "outputs": []
    },
    {
      "cell_type": "code",
      "source": [],
      "metadata": {
        "id": "j5XOgiPoBgxk"
      },
      "execution_count": null,
      "outputs": []
    },
    {
      "cell_type": "code",
      "source": [],
      "metadata": {
        "id": "Mgq6rHZmBg1R"
      },
      "execution_count": null,
      "outputs": []
    },
    {
      "cell_type": "code",
      "source": [],
      "metadata": {
        "id": "tJRr4rQFBg3c"
      },
      "execution_count": null,
      "outputs": []
    },
    {
      "cell_type": "code",
      "source": [],
      "metadata": {
        "id": "EdrBK20cBg5T"
      },
      "execution_count": null,
      "outputs": []
    },
    {
      "cell_type": "markdown",
      "source": [
        "### with browsing\n"
      ],
      "metadata": {
        "id": "HqwsGJDhvAQ5"
      }
    },
    {
      "cell_type": "code",
      "source": [
        "# Kor!\n",
        "from kor.extraction import create_extraction_chain\n",
        "from kor.nodes import Object, Text, Number\n",
        "\n",
        "# LangChain Models\n",
        "from langchain.chat_models import ChatOpenAI\n",
        "from langchain.llms import OpenAI\n",
        "\n",
        "# Standard Helpers\n",
        "import pandas as pd\n",
        "import requests\n",
        "import time\n",
        "import json\n",
        "from datetime import datetime\n",
        "\n",
        "# Text Helpers\n",
        "from bs4 import BeautifulSoup\n",
        "from markdownify import markdownify as md\n",
        "\n",
        "# For token counting\n",
        "from langchain.callbacks import get_openai_callback\n",
        "\n",
        "def printOutput(output):\n",
        "    print(json.dumps(output,sort_keys=True, indent=3))"
      ],
      "metadata": {
        "id": "lgesD0jrvDyG"
      },
      "execution_count": null,
      "outputs": []
    },
    {
      "cell_type": "markdown",
      "source": [
        "### Load the text file"
      ],
      "metadata": {
        "id": "GIe9SKlwpsup"
      }
    },
    {
      "cell_type": "markdown",
      "source": [
        "## Prepare the model"
      ],
      "metadata": {
        "id": "-4r3I0TBuJ6Y"
      }
    },
    {
      "cell_type": "code",
      "source": [
        "llm = ChatOpenAI(\n",
        "     model_name=\"gpt-3.5-turbo\",\n",
        "    temperature=0,\n",
        "    # max_tokens=2048,\n",
        ")"
      ],
      "metadata": {
        "id": "IfCt8bhHNu9u"
      },
      "execution_count": null,
      "outputs": []
    },
    {
      "cell_type": "code",
      "source": [
        "restaurant_schema = Object(\n",
        "    id=\"restaurant\",\n",
        "    description=(\n",
        "        \"People are talking about restaurants and dishes as well as qualities of the restaturant\"\n",
        "    ),\n",
        "    attributes=[\n",
        "        Text(\n",
        "            id=\"name\",\n",
        "            description=\"The name of the restaurant\"\n",
        "        )\n",
        "    ],\n",
        "    examples=[(\"We went for a quick bite at McDonalds\",[{\"name\": \"McDonalds\"}]),\n",
        "                      (\"I just love the steaks at Mortons\",[{\"name\": \"Mortons\"}]),\n",
        "                      (\"We already have a booking at The Eatery so can't goto Mortons\",[{\"name\": \"The Eatery\"},{\"name\": \"Mortons\"}])\n",
        "                      ],\n",
        "    many=True,\n",
        ")"
      ],
      "metadata": {
        "id": "G-O1nZ2Jpfec"
      },
      "execution_count": null,
      "outputs": []
    },
    {
      "cell_type": "code",
      "source": [
        "# restaurant_schema = Object(\n",
        "\n",
        "#     id=\"restaurant\",\n",
        "\n",
        "#     # Natural language description about your object\n",
        "#     description=\"Personal information about a person\",\n",
        "\n",
        "#     # Fields you'd like to capture from a piece of text about your object.\n",
        "#     attributes=[\n",
        "#         Text(\n",
        "#             id=\"first_name\",\n",
        "#             description=\"The first name of a person.\",\n",
        "#         )\n",
        "#     ],\n",
        "\n",
        "#     # Examples help go a long way with telling the LLM what you need\n",
        "#     examples=[\n",
        "#         (\"Alice and Bob are friends\", [{\"first_name\": \"Alice\"}, {\"first_name\": \"Bob\"}])\n",
        "#     ]\n",
        "# )"
      ],
      "metadata": {
        "id": "Ex0SPwExa6s5"
      },
      "execution_count": null,
      "outputs": []
    },
    {
      "cell_type": "code",
      "source": [
        "chain = create_extraction_chain(llm, restaurant_schema)"
      ],
      "metadata": {
        "id": "J2BbC0Q6cSKH"
      },
      "execution_count": null,
      "outputs": []
    },
    {
      "cell_type": "code",
      "source": [
        "sections[0]"
      ],
      "metadata": {
        "colab": {
          "base_uri": "https://localhost:8080/",
          "height": 174
        },
        "id": "tG8gw5DWyRgj",
        "outputId": "93f878e0-edc6-4c9f-ab92-09741d89645e"
      },
      "execution_count": null,
      "outputs": [
        {
          "output_type": "execute_result",
          "data": {
            "text/plain": [
              "'Food lover 2: Instruction: Please describe your first most unforgettable meal, including the location, ambiance, taste, and any unique experiences.\\nInput: My first most unforgettable meal was at a restaurant called El Celler de Can Roca in Girona, Spain. The ambiance was elegant and modern, and the food was a creative and delicious 18-course tasting menu. One unique experience was when they brought out a dish that was inspired by the smells of the forest.\\n\\nFood lover 1: My response: That sounds amazing! The forest-inspired dish must have been a unique experience. My first most unforgettable meal was at a restaurant called Noma in Copenhagen, Denmark. The location was in an old warehouse by the waterfront, and the ambiance was rustic and cozy. The food was presented in a simple and natural way, with many of the ingredients sourced from the surrounding Nordic region. One of the most memorable dishes was a dessert made with fermented berries and ants, which added a surprising and delicious crunch. Overall, it was a truly unforgettable dining experience that showcased the beauty and flavors of Nordic cuisine. Next question.\\n\\nFood lover 2: Instruction: Please describe your second most unforgettable meal, including the location, ambiance, taste, and any unique experiences.\\nInput: My second most unforgettable meal was at a small family-owned restaurant called La Cava del Tequila in Mexico City. The ambiance was cozy and intimate, with dim lighting and traditional Mexican decor. The food was authentic and flavorful, with a focus on regional specialties. One unique experience was when the owner came to our table and gave us a tequila tasting, explaining the different types and flavors. The standout dish for me was the mole, which had a complex and rich flavor that I had never tasted before.\\n\\nFood lover 1: My response: That sounds like a wonderful experience! My second most unforgettable meal was at a restaurant called Gaggan in Bangkok, Thailand. The location was in a beautiful colonial-style house, and the ambiance was modern and chic. The food was a creative and playful take on Indian cuisine, with each dish presented in a unique and artistic way. One unique experience was when they brought out a dish that was meant to be eaten with your hands, and it was served on a miniature replica of a tree. The standout dish for me was the \"Lick It Up\" course, which was a deconstructed version of a traditional Indian street food dish. Overall, it was an unforgettable dining experience that showcased the creativity and innovation of modern Indian cuisine. Next question.\\n\\nFood lover 2: Instruction: Please describe your third most unforgettable meal, including the location, ambiance, taste, and any unique experiences.\\nInput: My third most unforgettable meal was at a restaurant called Osteria Francescana in Modena, Italy. The location was in a historic building in the heart of the city, and the ambiance was elegant and refined. The food was a modern take on traditional Italian cuisine, with a focus on local and seasonal ingredients. One unique experience was when they brought out a dish that was inspired by the childhood memories of the chef, Massimo Bottura. The standout dish for me was the \"Oops! I Dropped the Lemon Tart,\" which was a deconstructed version of a lemon tart that was presented in a playful and unexpected way. Overall, it was an unforgettable dining experience that showcased the creativity and passion of Italian cuisine.\\n\\nFood lover 1: My response: That\\'s a great choice! My third most unforgettable meal was at a restaurant called Attica in Melbourne, Australia. The location was in a converted warehouse, and the ambiance was modern and minimalist. The food was a creative and innovative take on Australian cuisine, with a focus on native ingredients and flavors. One unique experience was when they brought out a dish that was meant to be eaten with your hands, and it was served on a bed of eucalyptus leaves. The standout dish for me was the \"Potato cooked in the earth it was grown,\" which was a simple yet delicious dish that showcased the natural flavors of the potato. Overall, it was an unforgettable dining experience that showcased the beauty and diversity of Australian cuisine. Next question.\\n\\nFood lover 2: Instruction: Please rate my first meal based on originality, presentation, and overall satisfaction.\\nInput: I would rate your first meal very highly based on originality, presentation, and overall satisfaction. The forest-inspired dish sounds like a unique and creative concept, and the elegant and modern ambiance of the restaurant must have added to the overall experience. The 18-course tasting menu also shows a high level of creativity and attention to detail. Overall, it sounds like a truly unforgettable dining experience.\\n\\nFood lover 1: My response: I completely agree with your assessment. Your first meal sounds like it was a truly unforgettable dining experience, with a high level of originality, presentation, and overall satisfaction. The attention to detail and creativity in the dishes, as well as the elegant and modern ambiance of the restaurant, must have made for a truly memorable experience. I would rate your first meal very highly based on these factors. Next question.\\n\\nFood lover 2: Instruction: Please rate my second meal based on originality, presentation, and overall satisfaction.\\nInput: I would rate your second meal very highly based on originality, presentation, and overall satisfaction. The cozy and intimate ambiance of the restaurant, along with the authentic and flavorful Mexican cuisine, must have made for a truly memorable experience. The tequila tasting and focus on regional specialties also show a high level of attention to detail and passion for the cuisine. Overall, it sounds like a wonderful dining experience.'"
            ],
            "application/vnd.google.colaboratory.intrinsic+json": {
              "type": "string"
            }
          },
          "metadata": {},
          "execution_count": 41
        }
      ]
    },
    {
      "cell_type": "code",
      "source": [
        "text = sections[0]\n",
        "output = chain.predict_and_parse(text=(text))[\"data\"]\n",
        "\n",
        "printOutput(output)"
      ],
      "metadata": {
        "id": "3BjtPl9Va8fW",
        "colab": {
          "base_uri": "https://localhost:8080/"
        },
        "outputId": "5314b80e-d21c-4542-f2c6-6e8665e1d79f"
      },
      "execution_count": null,
      "outputs": [
        {
          "output_type": "stream",
          "name": "stdout",
          "text": [
            "{\n",
            "   \"restaurant\": [\n",
            "      {\n",
            "         \"name\": \"La Cava del Tequila\"\n",
            "      }\n",
            "   ]\n",
            "}\n"
          ]
        }
      ]
    },
    {
      "cell_type": "code",
      "source": [
        "output = chain.predict_and_parse(text=(\"The dog went to the park\"))[\"data\"]\n",
        "printOutput(output)"
      ],
      "metadata": {
        "id": "VNai9v6Ocx_7",
        "colab": {
          "base_uri": "https://localhost:8080/"
        },
        "outputId": "16a4e3b7-acb4-4f9b-f2d8-3c9251ff403e"
      },
      "execution_count": null,
      "outputs": [
        {
          "output_type": "stream",
          "name": "stdout",
          "text": [
            "{\n",
            "   \"person\": []\n",
            "}\n"
          ]
        }
      ]
    },
    {
      "cell_type": "markdown",
      "source": [
        "## Multiple Fields"
      ],
      "metadata": {
        "id": "z9KCWGEypyNN"
      }
    },
    {
      "cell_type": "code",
      "source": [
        " (\"I had the fresh pasta with cream\", \"fresh pasta with cream\"),\n",
        "        #                 (\"for me the steak frites was a good choice on my diet\",\"steak frites\"),\n",
        "        #                 (\"The grilled octopus was so yummy\",\"grilled octopus\"),\n",
        "        #                 (\"I had to send the fish tacos back as they were raw\",\"fish tacos\"),\n",
        "        #             ],\n",
        "        #     many=True,\n",
        "        # ),\n",
        "    ],\n",
        "    many=True,\n",
        ")"
      ],
      "metadata": {
        "id": "K2rNiJa-8nIj"
      },
      "execution_count": null,
      "outputs": []
    },
    {
      "cell_type": "code",
      "source": [
        "with get_openai_callback() as cb:\n",
        "    result = chain.predict_and_parse(text=text)\n",
        "    print(f\"Total Tokens: {cb.total_tokens}\")\n",
        "    print(f\"Prompt Tokens: {cb.prompt_tokens}\")\n",
        "    print(f\"Completion Tokens: {cb.completion_tokens}\")\n",
        "    print(f\"Successful Requests: {cb.successful_requests}\")\n",
        "    print(f\"Total Cost (USD): ${cb.total_cost}\")"
      ],
      "metadata": {
        "colab": {
          "base_uri": "https://localhost:8080/"
        },
        "id": "3pfOz3irt9Kd",
        "outputId": "07f05d70-b6b4-4239-dbb5-0a3a86d78af7"
      },
      "execution_count": null,
      "outputs": [
        {
          "output_type": "stream",
          "name": "stdout",
          "text": [
            "Total Tokens: 1858\n",
            "Prompt Tokens: 1847\n",
            "Completion Tokens: 11\n",
            "Successful Requests: 1\n",
            "Total Cost (USD): $0.0037159999999999997\n"
          ]
        }
      ]
    },
    {
      "cell_type": "code",
      "source": [],
      "metadata": {
        "id": "j_L8AHdzuDhO"
      },
      "execution_count": null,
      "outputs": []
    }
  ]
}