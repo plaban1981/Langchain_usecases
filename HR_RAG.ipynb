{
  "nbformat": 4,
  "nbformat_minor": 0,
  "metadata": {
    "colab": {
      "provenance": [],
      "authorship_tag": "ABX9TyOzO1fAF6ImP9A5olkWjIc/",
      "include_colab_link": true
    },
    "kernelspec": {
      "name": "python3",
      "display_name": "Python 3"
    },
    "language_info": {
      "name": "python"
    }
  },
  "cells": [
    {
      "cell_type": "markdown",
      "metadata": {
        "id": "view-in-github",
        "colab_type": "text"
      },
      "source": [
        "<a href=\"https://colab.research.google.com/github/plaban1981/Langchain_usecases/blob/main/HR_RAG.ipynb\" target=\"_parent\"><img src=\"https://colab.research.google.com/assets/colab-badge.svg\" alt=\"Open In Colab\"/></a>"
      ]
    },
    {
      "cell_type": "markdown",
      "source": [
        "## Install Required Libraries"
      ],
      "metadata": {
        "id": "5FrjIRv4IP49"
      }
    },
    {
      "cell_type": "code",
      "execution_count": 1,
      "metadata": {
        "colab": {
          "base_uri": "https://localhost:8080/"
        },
        "id": "rrpVNW6yHivU",
        "outputId": "2f901984-427b-4214-8c4c-5eb3a901e91e"
      },
      "outputs": [
        {
          "output_type": "stream",
          "name": "stdout",
          "text": [
            "\u001b[2K     \u001b[90m━━━━━━━━━━━━━━━━━━━━━━━━━━━━━━━━━━━━━━━━\u001b[0m \u001b[32m802.4/802.4 kB\u001b[0m \u001b[31m5.5 MB/s\u001b[0m eta \u001b[36m0:00:00\u001b[0m\n",
            "\u001b[2K     \u001b[90m━━━━━━━━━━━━━━━━━━━━━━━━━━━━━━━━━━━━━━━━\u001b[0m \u001b[32m8.2/8.2 MB\u001b[0m \u001b[31m24.5 MB/s\u001b[0m eta \u001b[36m0:00:00\u001b[0m\n",
            "\u001b[2K     \u001b[90m━━━━━━━━━━━━━━━━━━━━━━━━━━━━━━━━━━━━━━━━\u001b[0m \u001b[32m86.0/86.0 kB\u001b[0m \u001b[31m7.9 MB/s\u001b[0m eta \u001b[36m0:00:00\u001b[0m\n",
            "\u001b[?25h  Preparing metadata (setup.py) ... \u001b[?25l\u001b[?25hdone\n",
            "\u001b[2K     \u001b[90m━━━━━━━━━━━━━━━━━━━━━━━━━━━━━━━━━━━━━━━━\u001b[0m \u001b[32m9.7/9.7 MB\u001b[0m \u001b[31m38.4 MB/s\u001b[0m eta \u001b[36m0:00:00\u001b[0m\n",
            "\u001b[?25h  Installing build dependencies ... \u001b[?25l\u001b[?25hdone\n",
            "  Getting requirements to build wheel ... \u001b[?25l\u001b[?25hdone\n",
            "  Installing backend dependencies ... \u001b[?25l\u001b[?25hdone\n",
            "  Preparing metadata (pyproject.toml) ... \u001b[?25l\u001b[?25hdone\n",
            "\u001b[2K     \u001b[90m━━━━━━━━━━━━━━━━━━━━━━━━━━━━━━━━━━━━━━━━\u001b[0m \u001b[32m1.6/1.6 MB\u001b[0m \u001b[31m39.3 MB/s\u001b[0m eta \u001b[36m0:00:00\u001b[0m\n",
            "\u001b[2K     \u001b[90m━━━━━━━━━━━━━━━━━━━━━━━━━━━━━━━━━━━━━━━━\u001b[0m \u001b[32m228.7/228.7 kB\u001b[0m \u001b[31m21.1 MB/s\u001b[0m eta \u001b[36m0:00:00\u001b[0m\n",
            "\u001b[2K     \u001b[90m━━━━━━━━━━━━━━━━━━━━━━━━━━━━━━━━━━━━━━━━\u001b[0m \u001b[32m49.3/49.3 kB\u001b[0m \u001b[31m5.1 MB/s\u001b[0m eta \u001b[36m0:00:00\u001b[0m\n",
            "\u001b[2K     \u001b[90m━━━━━━━━━━━━━━━━━━━━━━━━━━━━━━━━━━━━━━━━\u001b[0m \u001b[32m1.3/1.3 MB\u001b[0m \u001b[31m61.4 MB/s\u001b[0m eta \u001b[36m0:00:00\u001b[0m\n",
            "\u001b[2K     \u001b[90m━━━━━━━━━━━━━━━━━━━━━━━━━━━━━━━━━━━━━━━━\u001b[0m \u001b[32m49.4/49.4 kB\u001b[0m \u001b[31m5.2 MB/s\u001b[0m eta \u001b[36m0:00:00\u001b[0m\n",
            "\u001b[?25h  Building wheel for sentence-transformers (setup.py) ... \u001b[?25l\u001b[?25hdone\n",
            "  Building wheel for llama-cpp-python (pyproject.toml) ... \u001b[?25l\u001b[?25hdone\n"
          ]
        }
      ],
      "source": [
        "!pip install -qU langchain transformers sentence-transformers llama-cpp-python"
      ]
    },
    {
      "cell_type": "code",
      "source": [
        "%pip install --upgrade --quiet  docx2txt"
      ],
      "metadata": {
        "colab": {
          "base_uri": "https://localhost:8080/"
        },
        "id": "OLHphUS5JTYa",
        "outputId": "d3d70ece-43cd-4cb8-9168-cb8449d6f126"
      },
      "execution_count": 3,
      "outputs": [
        {
          "output_type": "stream",
          "name": "stdout",
          "text": [
            "  Preparing metadata (setup.py) ... \u001b[?25l\u001b[?25hdone\n",
            "  Building wheel for docx2txt (setup.py) ... \u001b[?25l\u001b[?25hdone\n"
          ]
        }
      ]
    },
    {
      "cell_type": "code",
      "source": [
        "!pip install chromadb"
      ],
      "metadata": {
        "colab": {
          "base_uri": "https://localhost:8080/"
        },
        "id": "4hOtUhKkKNZn",
        "outputId": "f8455883-51ba-459a-8991-e23e5020242f"
      },
      "execution_count": 35,
      "outputs": [
        {
          "output_type": "stream",
          "name": "stdout",
          "text": [
            "Requirement already satisfied: chromadb in /usr/local/lib/python3.10/dist-packages (0.4.22)\n",
            "Requirement already satisfied: build>=1.0.3 in /usr/local/lib/python3.10/dist-packages (from chromadb) (1.0.3)\n",
            "Requirement already satisfied: requests>=2.28 in /usr/local/lib/python3.10/dist-packages (from chromadb) (2.31.0)\n",
            "Requirement already satisfied: pydantic>=1.9 in /usr/local/lib/python3.10/dist-packages (from chromadb) (1.10.13)\n",
            "Requirement already satisfied: chroma-hnswlib==0.7.3 in /usr/local/lib/python3.10/dist-packages (from chromadb) (0.7.3)\n",
            "Requirement already satisfied: fastapi>=0.95.2 in /usr/local/lib/python3.10/dist-packages (from chromadb) (0.109.0)\n",
            "Requirement already satisfied: uvicorn[standard]>=0.18.3 in /usr/local/lib/python3.10/dist-packages (from chromadb) (0.26.0)\n",
            "Requirement already satisfied: numpy>=1.22.5 in /usr/local/lib/python3.10/dist-packages (from chromadb) (1.23.5)\n",
            "Requirement already satisfied: posthog>=2.4.0 in /usr/local/lib/python3.10/dist-packages (from chromadb) (3.3.2)\n",
            "Requirement already satisfied: typing-extensions>=4.5.0 in /usr/local/lib/python3.10/dist-packages (from chromadb) (4.9.0)\n",
            "Requirement already satisfied: pulsar-client>=3.1.0 in /usr/local/lib/python3.10/dist-packages (from chromadb) (3.4.0)\n",
            "Requirement already satisfied: onnxruntime>=1.14.1 in /usr/local/lib/python3.10/dist-packages (from chromadb) (1.16.3)\n",
            "Requirement already satisfied: opentelemetry-api>=1.2.0 in /usr/local/lib/python3.10/dist-packages (from chromadb) (1.22.0)\n",
            "Requirement already satisfied: opentelemetry-exporter-otlp-proto-grpc>=1.2.0 in /usr/local/lib/python3.10/dist-packages (from chromadb) (1.22.0)\n",
            "Requirement already satisfied: opentelemetry-instrumentation-fastapi>=0.41b0 in /usr/local/lib/python3.10/dist-packages (from chromadb) (0.43b0)\n",
            "Requirement already satisfied: opentelemetry-sdk>=1.2.0 in /usr/local/lib/python3.10/dist-packages (from chromadb) (1.22.0)\n",
            "Requirement already satisfied: tokenizers>=0.13.2 in /usr/local/lib/python3.10/dist-packages (from chromadb) (0.15.0)\n",
            "Requirement already satisfied: pypika>=0.48.9 in /usr/local/lib/python3.10/dist-packages (from chromadb) (0.48.9)\n",
            "Requirement already satisfied: tqdm>=4.65.0 in /usr/local/lib/python3.10/dist-packages (from chromadb) (4.66.1)\n",
            "Requirement already satisfied: overrides>=7.3.1 in /usr/local/lib/python3.10/dist-packages (from chromadb) (7.6.0)\n",
            "Requirement already satisfied: importlib-resources in /usr/local/lib/python3.10/dist-packages (from chromadb) (6.1.1)\n",
            "Requirement already satisfied: grpcio>=1.58.0 in /usr/local/lib/python3.10/dist-packages (from chromadb) (1.60.0)\n",
            "Requirement already satisfied: bcrypt>=4.0.1 in /usr/local/lib/python3.10/dist-packages (from chromadb) (4.1.2)\n",
            "Requirement already satisfied: typer>=0.9.0 in /usr/local/lib/python3.10/dist-packages (from chromadb) (0.9.0)\n",
            "Requirement already satisfied: kubernetes>=28.1.0 in /usr/local/lib/python3.10/dist-packages (from chromadb) (29.0.0)\n",
            "Requirement already satisfied: tenacity>=8.2.3 in /usr/local/lib/python3.10/dist-packages (from chromadb) (8.2.3)\n",
            "Requirement already satisfied: PyYAML>=6.0.0 in /usr/local/lib/python3.10/dist-packages (from chromadb) (6.0.1)\n",
            "Requirement already satisfied: mmh3>=4.0.1 in /usr/local/lib/python3.10/dist-packages (from chromadb) (4.1.0)\n",
            "Requirement already satisfied: packaging>=19.0 in /usr/local/lib/python3.10/dist-packages (from build>=1.0.3->chromadb) (23.2)\n",
            "Requirement already satisfied: pyproject_hooks in /usr/local/lib/python3.10/dist-packages (from build>=1.0.3->chromadb) (1.0.0)\n",
            "Requirement already satisfied: tomli>=1.1.0 in /usr/local/lib/python3.10/dist-packages (from build>=1.0.3->chromadb) (2.0.1)\n",
            "Requirement already satisfied: starlette<0.36.0,>=0.35.0 in /usr/local/lib/python3.10/dist-packages (from fastapi>=0.95.2->chromadb) (0.35.1)\n",
            "Requirement already satisfied: certifi>=14.05.14 in /usr/local/lib/python3.10/dist-packages (from kubernetes>=28.1.0->chromadb) (2023.11.17)\n",
            "Requirement already satisfied: six>=1.9.0 in /usr/local/lib/python3.10/dist-packages (from kubernetes>=28.1.0->chromadb) (1.16.0)\n",
            "Requirement already satisfied: python-dateutil>=2.5.3 in /usr/local/lib/python3.10/dist-packages (from kubernetes>=28.1.0->chromadb) (2.8.2)\n",
            "Requirement already satisfied: google-auth>=1.0.1 in /usr/local/lib/python3.10/dist-packages (from kubernetes>=28.1.0->chromadb) (2.17.3)\n",
            "Requirement already satisfied: websocket-client!=0.40.0,!=0.41.*,!=0.42.*,>=0.32.0 in /usr/local/lib/python3.10/dist-packages (from kubernetes>=28.1.0->chromadb) (1.7.0)\n",
            "Requirement already satisfied: requests-oauthlib in /usr/local/lib/python3.10/dist-packages (from kubernetes>=28.1.0->chromadb) (1.3.1)\n",
            "Requirement already satisfied: oauthlib>=3.2.2 in /usr/local/lib/python3.10/dist-packages (from kubernetes>=28.1.0->chromadb) (3.2.2)\n",
            "Requirement already satisfied: urllib3>=1.24.2 in /usr/local/lib/python3.10/dist-packages (from kubernetes>=28.1.0->chromadb) (2.0.7)\n",
            "Requirement already satisfied: coloredlogs in /usr/local/lib/python3.10/dist-packages (from onnxruntime>=1.14.1->chromadb) (15.0.1)\n",
            "Requirement already satisfied: flatbuffers in /usr/local/lib/python3.10/dist-packages (from onnxruntime>=1.14.1->chromadb) (23.5.26)\n",
            "Requirement already satisfied: protobuf in /usr/local/lib/python3.10/dist-packages (from onnxruntime>=1.14.1->chromadb) (3.20.3)\n",
            "Requirement already satisfied: sympy in /usr/local/lib/python3.10/dist-packages (from onnxruntime>=1.14.1->chromadb) (1.12)\n",
            "Requirement already satisfied: deprecated>=1.2.6 in /usr/local/lib/python3.10/dist-packages (from opentelemetry-api>=1.2.0->chromadb) (1.2.14)\n",
            "Requirement already satisfied: importlib-metadata<7.0,>=6.0 in /usr/local/lib/python3.10/dist-packages (from opentelemetry-api>=1.2.0->chromadb) (6.11.0)\n",
            "Requirement already satisfied: backoff<3.0.0,>=1.10.0 in /usr/local/lib/python3.10/dist-packages (from opentelemetry-exporter-otlp-proto-grpc>=1.2.0->chromadb) (2.2.1)\n",
            "Requirement already satisfied: googleapis-common-protos~=1.52 in /usr/local/lib/python3.10/dist-packages (from opentelemetry-exporter-otlp-proto-grpc>=1.2.0->chromadb) (1.62.0)\n",
            "Requirement already satisfied: opentelemetry-exporter-otlp-proto-common==1.22.0 in /usr/local/lib/python3.10/dist-packages (from opentelemetry-exporter-otlp-proto-grpc>=1.2.0->chromadb) (1.22.0)\n",
            "Requirement already satisfied: opentelemetry-proto==1.22.0 in /usr/local/lib/python3.10/dist-packages (from opentelemetry-exporter-otlp-proto-grpc>=1.2.0->chromadb) (1.22.0)\n",
            "Requirement already satisfied: opentelemetry-instrumentation-asgi==0.43b0 in /usr/local/lib/python3.10/dist-packages (from opentelemetry-instrumentation-fastapi>=0.41b0->chromadb) (0.43b0)\n",
            "Requirement already satisfied: opentelemetry-instrumentation==0.43b0 in /usr/local/lib/python3.10/dist-packages (from opentelemetry-instrumentation-fastapi>=0.41b0->chromadb) (0.43b0)\n",
            "Requirement already satisfied: opentelemetry-semantic-conventions==0.43b0 in /usr/local/lib/python3.10/dist-packages (from opentelemetry-instrumentation-fastapi>=0.41b0->chromadb) (0.43b0)\n",
            "Requirement already satisfied: opentelemetry-util-http==0.43b0 in /usr/local/lib/python3.10/dist-packages (from opentelemetry-instrumentation-fastapi>=0.41b0->chromadb) (0.43b0)\n",
            "Requirement already satisfied: setuptools>=16.0 in /usr/local/lib/python3.10/dist-packages (from opentelemetry-instrumentation==0.43b0->opentelemetry-instrumentation-fastapi>=0.41b0->chromadb) (67.7.2)\n",
            "Requirement already satisfied: wrapt<2.0.0,>=1.0.0 in /usr/local/lib/python3.10/dist-packages (from opentelemetry-instrumentation==0.43b0->opentelemetry-instrumentation-fastapi>=0.41b0->chromadb) (1.14.1)\n",
            "Requirement already satisfied: asgiref~=3.0 in /usr/local/lib/python3.10/dist-packages (from opentelemetry-instrumentation-asgi==0.43b0->opentelemetry-instrumentation-fastapi>=0.41b0->chromadb) (3.7.2)\n",
            "Requirement already satisfied: monotonic>=1.5 in /usr/local/lib/python3.10/dist-packages (from posthog>=2.4.0->chromadb) (1.6)\n",
            "Requirement already satisfied: charset-normalizer<4,>=2 in /usr/local/lib/python3.10/dist-packages (from requests>=2.28->chromadb) (3.3.2)\n",
            "Requirement already satisfied: idna<4,>=2.5 in /usr/local/lib/python3.10/dist-packages (from requests>=2.28->chromadb) (3.6)\n",
            "Requirement already satisfied: huggingface_hub<1.0,>=0.16.4 in /usr/local/lib/python3.10/dist-packages (from tokenizers>=0.13.2->chromadb) (0.20.2)\n",
            "Requirement already satisfied: click<9.0.0,>=7.1.1 in /usr/local/lib/python3.10/dist-packages (from typer>=0.9.0->chromadb) (8.1.7)\n",
            "Requirement already satisfied: h11>=0.8 in /usr/local/lib/python3.10/dist-packages (from uvicorn[standard]>=0.18.3->chromadb) (0.14.0)\n",
            "Requirement already satisfied: httptools>=0.5.0 in /usr/local/lib/python3.10/dist-packages (from uvicorn[standard]>=0.18.3->chromadb) (0.6.1)\n",
            "Requirement already satisfied: python-dotenv>=0.13 in /usr/local/lib/python3.10/dist-packages (from uvicorn[standard]>=0.18.3->chromadb) (1.0.0)\n",
            "Requirement already satisfied: uvloop!=0.15.0,!=0.15.1,>=0.14.0 in /usr/local/lib/python3.10/dist-packages (from uvicorn[standard]>=0.18.3->chromadb) (0.19.0)\n",
            "Requirement already satisfied: watchfiles>=0.13 in /usr/local/lib/python3.10/dist-packages (from uvicorn[standard]>=0.18.3->chromadb) (0.21.0)\n",
            "Requirement already satisfied: websockets>=10.4 in /usr/local/lib/python3.10/dist-packages (from uvicorn[standard]>=0.18.3->chromadb) (12.0)\n",
            "Requirement already satisfied: cachetools<6.0,>=2.0.0 in /usr/local/lib/python3.10/dist-packages (from google-auth>=1.0.1->kubernetes>=28.1.0->chromadb) (5.3.2)\n",
            "Requirement already satisfied: pyasn1-modules>=0.2.1 in /usr/local/lib/python3.10/dist-packages (from google-auth>=1.0.1->kubernetes>=28.1.0->chromadb) (0.3.0)\n",
            "Requirement already satisfied: rsa<5,>=3.1.4 in /usr/local/lib/python3.10/dist-packages (from google-auth>=1.0.1->kubernetes>=28.1.0->chromadb) (4.9)\n",
            "Requirement already satisfied: filelock in /usr/local/lib/python3.10/dist-packages (from huggingface_hub<1.0,>=0.16.4->tokenizers>=0.13.2->chromadb) (3.13.1)\n",
            "Requirement already satisfied: fsspec>=2023.5.0 in /usr/local/lib/python3.10/dist-packages (from huggingface_hub<1.0,>=0.16.4->tokenizers>=0.13.2->chromadb) (2023.6.0)\n",
            "Requirement already satisfied: zipp>=0.5 in /usr/local/lib/python3.10/dist-packages (from importlib-metadata<7.0,>=6.0->opentelemetry-api>=1.2.0->chromadb) (3.17.0)\n",
            "Requirement already satisfied: anyio<5,>=3.4.0 in /usr/local/lib/python3.10/dist-packages (from starlette<0.36.0,>=0.35.0->fastapi>=0.95.2->chromadb) (3.7.1)\n",
            "Requirement already satisfied: humanfriendly>=9.1 in /usr/local/lib/python3.10/dist-packages (from coloredlogs->onnxruntime>=1.14.1->chromadb) (10.0)\n",
            "Requirement already satisfied: mpmath>=0.19 in /usr/local/lib/python3.10/dist-packages (from sympy->onnxruntime>=1.14.1->chromadb) (1.3.0)\n",
            "Requirement already satisfied: sniffio>=1.1 in /usr/local/lib/python3.10/dist-packages (from anyio<5,>=3.4.0->starlette<0.36.0,>=0.35.0->fastapi>=0.95.2->chromadb) (1.3.0)\n",
            "Requirement already satisfied: exceptiongroup in /usr/local/lib/python3.10/dist-packages (from anyio<5,>=3.4.0->starlette<0.36.0,>=0.35.0->fastapi>=0.95.2->chromadb) (1.2.0)\n",
            "Requirement already satisfied: pyasn1<0.6.0,>=0.4.6 in /usr/local/lib/python3.10/dist-packages (from pyasn1-modules>=0.2.1->google-auth>=1.0.1->kubernetes>=28.1.0->chromadb) (0.5.1)\n"
          ]
        }
      ]
    },
    {
      "cell_type": "code",
      "source": [
        "%pip install pypdf"
      ],
      "metadata": {
        "colab": {
          "base_uri": "https://localhost:8080/"
        },
        "id": "lasWChnqM-xT",
        "outputId": "12aafe6e-7f16-447f-ccb2-9247dc788156"
      },
      "execution_count": 8,
      "outputs": [
        {
          "output_type": "stream",
          "name": "stdout",
          "text": [
            "Collecting pypdf\n",
            "  Downloading pypdf-4.0.0-py3-none-any.whl (283 kB)\n",
            "\u001b[?25l     \u001b[90m━━━━━━━━━━━━━━━━━━━━━━━━━━━━━━━━━━━━━━━━\u001b[0m \u001b[32m0.0/283.9 kB\u001b[0m \u001b[31m?\u001b[0m eta \u001b[36m-:--:--\u001b[0m\r\u001b[2K     \u001b[91m━━━━━━━━━━━━\u001b[0m\u001b[91m╸\u001b[0m\u001b[90m━━━━━━━━━━━━━━━━━━━━━━━━━━━\u001b[0m \u001b[32m92.2/283.9 kB\u001b[0m \u001b[31m2.9 MB/s\u001b[0m eta \u001b[36m0:00:01\u001b[0m\r\u001b[2K     \u001b[90m━━━━━━━━━━━━━━━━━━━━━━━━━━━━━━━━━━━━━━━━\u001b[0m \u001b[32m283.9/283.9 kB\u001b[0m \u001b[31m4.5 MB/s\u001b[0m eta \u001b[36m0:00:00\u001b[0m\n",
            "\u001b[?25hInstalling collected packages: pypdf\n",
            "Successfully installed pypdf-4.0.0\n"
          ]
        }
      ]
    },
    {
      "cell_type": "code",
      "source": [
        "%pip install rank_bm25"
      ],
      "metadata": {
        "colab": {
          "base_uri": "https://localhost:8080/"
        },
        "id": "kxnKMqaXa6Wu",
        "outputId": "6f6438de-d5ff-4c65-bcb4-de325796d2c2"
      },
      "execution_count": 26,
      "outputs": [
        {
          "output_type": "stream",
          "name": "stdout",
          "text": [
            "Collecting rank_bm25\n",
            "  Downloading rank_bm25-0.2.2-py3-none-any.whl (8.6 kB)\n",
            "Requirement already satisfied: numpy in /usr/local/lib/python3.10/dist-packages (from rank_bm25) (1.23.5)\n",
            "Installing collected packages: rank_bm25\n",
            "Successfully installed rank_bm25-0.2.2\n"
          ]
        }
      ]
    },
    {
      "cell_type": "markdown",
      "source": [
        "## Load Data"
      ],
      "metadata": {
        "id": "OnRnB913Igcl"
      }
    },
    {
      "cell_type": "code",
      "source": [
        "from google.colab import drive\n",
        "drive.mount(\"/content/drive\")"
      ],
      "metadata": {
        "colab": {
          "base_uri": "https://localhost:8080/"
        },
        "id": "_fnM3WdFIicw",
        "outputId": "5345c8f2-00c1-4153-d6ab-1e525f9bf703"
      },
      "execution_count": 2,
      "outputs": [
        {
          "output_type": "stream",
          "name": "stdout",
          "text": [
            "Mounted at /content/drive\n"
          ]
        }
      ]
    },
    {
      "cell_type": "markdown",
      "source": [
        "## Import Required Dependencies"
      ],
      "metadata": {
        "id": "HrdxejbpIwAp"
      }
    },
    {
      "cell_type": "code",
      "source": [
        "from langchain_community.document_loaders import Docx2txtLoader\n",
        "from langchain_community.document_loaders import PyPDFLoader\n",
        "from langchain.text_splitter import RecursiveCharacterTextSplitter\n",
        "from langchain.embeddings import HuggingFaceBgeEmbeddings\n",
        "from langchain.document_loaders import TextLoader\n",
        "from langchain.vectorstores import Chroma\n",
        "from langchain.storage import InMemoryStore\n",
        "from langchain.document_loaders.pdf import PyPDFDirectoryLoader\n",
        "from langchain.retrievers import ParentDocumentRetriever\n",
        "from langchain.chains import RetrievalQA\n",
        "from langchain.llms import LlamaCpp\n"
      ],
      "metadata": {
        "id": "gKqFPjobIosj"
      },
      "execution_count": 12,
      "outputs": []
    },
    {
      "cell_type": "code",
      "source": [
        "import os\n",
        "import tqdm\n",
        "path  = \"/content/drive/MyDrive/hrdocs\"\n",
        "file_list = os.listdir(path)\n",
        "documents = []\n",
        "for files in tqdm.tqdm(file_list):\n",
        "  if files.endswith(\".pdf\"):\n",
        "    pdf_path = os.path.join(path,files)\n",
        "    pdf_loader = PyPDFLoader(pdf_path)\n",
        "    documents.extend(pdf_loader.load())\n",
        "  elif files.endswith(\".docx\"):\n",
        "    docx_path = os.path.join(path,files)\n",
        "    docx_loader = Docx2txtLoader(docx_path)\n",
        "    documents.extend(docx_loader.load())\n",
        "  else:\n",
        "    continue\n",
        "\n"
      ],
      "metadata": {
        "colab": {
          "base_uri": "https://localhost:8080/"
        },
        "id": "4f5wuOhcLa2L",
        "outputId": "e085e992-5af6-44d1-cd15-867eac2a919d"
      },
      "execution_count": 2,
      "outputs": [
        {
          "output_type": "stream",
          "name": "stderr",
          "text": [
            "100%|██████████| 104/104 [00:16<00:00,  6.15it/s]\n"
          ]
        }
      ]
    },
    {
      "cell_type": "code",
      "source": [
        "len(documents)"
      ],
      "metadata": {
        "colab": {
          "base_uri": "https://localhost:8080/"
        },
        "id": "N7f7WmmNNaCO",
        "outputId": "a6de0215-5618-47a6-b062-56dd427efd3c"
      },
      "execution_count": 3,
      "outputs": [
        {
          "output_type": "execute_result",
          "data": {
            "text/plain": [
              "173"
            ]
          },
          "metadata": {},
          "execution_count": 3
        }
      ]
    },
    {
      "cell_type": "code",
      "source": [
        "print(documents[10].metadata)"
      ],
      "metadata": {
        "colab": {
          "base_uri": "https://localhost:8080/"
        },
        "id": "YVUSDZypNbON",
        "outputId": "4863f9c4-7d9e-4ab4-872b-f0a3af228140"
      },
      "execution_count": 4,
      "outputs": [
        {
          "output_type": "stream",
          "name": "stdout",
          "text": [
            "{'source': '/content/drive/MyDrive/hrdocs/Company-travel-policy (1).docx'}\n"
          ]
        }
      ]
    },
    {
      "cell_type": "markdown",
      "source": [
        "## Prepare the document to have processed metadata to be helpful in metadata filtering"
      ],
      "metadata": {
        "id": "FK8dLQNJPnvV"
      }
    },
    {
      "cell_type": "code",
      "source": [
        "for doc in documents:\n",
        "  doc.metadata['title'] = doc.metadata['source'].split(\".\")[0].split(\"/\")[-1].split(\" \")[0]"
      ],
      "metadata": {
        "id": "FK_FGTHVPmcL"
      },
      "execution_count": 5,
      "outputs": []
    },
    {
      "cell_type": "code",
      "source": [
        "print(documents[10].metadata)"
      ],
      "metadata": {
        "colab": {
          "base_uri": "https://localhost:8080/"
        },
        "id": "dyHcuXFrQm4B",
        "outputId": "42e347ca-4199-41f3-b772-ddf16698679b"
      },
      "execution_count": 6,
      "outputs": [
        {
          "output_type": "stream",
          "name": "stdout",
          "text": [
            "{'source': '/content/drive/MyDrive/hrdocs/Company-travel-policy (1).docx', 'title': 'Company-travel-policy'}\n"
          ]
        }
      ]
    },
    {
      "cell_type": "code",
      "source": [
        "print(documents[100].metadata)"
      ],
      "metadata": {
        "colab": {
          "base_uri": "https://localhost:8080/"
        },
        "id": "5dKSeaIjQq1D",
        "outputId": "67a181e2-4472-45bb-eff2-6605739869c0"
      },
      "execution_count": 7,
      "outputs": [
        {
          "output_type": "stream",
          "name": "stdout",
          "text": [
            "{'source': '/content/drive/MyDrive/hrdocs/Security-Policy-2-Account-Management.docx', 'title': 'Security-Policy-2-Account-Management'}\n"
          ]
        }
      ]
    },
    {
      "cell_type": "markdown",
      "source": [
        "## Instantiate the embedding model"
      ],
      "metadata": {
        "id": "1XQUbWEVQ-_7"
      }
    },
    {
      "cell_type": "code",
      "source": [
        "model_name = \"BAAI/bge-small-en-v1.5\"\n",
        "model_kwargs = {\"device\": \"cpu\"}\n",
        "encode_kwargs = {\"normalize_embeddings\":True}\n",
        "embeddings = HuggingFaceBgeEmbeddings(model_name=model_name,\n",
        "                                      model_kwargs=model_kwargs,\n",
        "                                      encode_kwargs=encode_kwargs,\n",
        "                                      )"
      ],
      "metadata": {
        "id": "g7elwOQ-Q6qh"
      },
      "execution_count": 15,
      "outputs": []
    },
    {
      "cell_type": "markdown",
      "source": [
        "## Instantiate the LLM Model"
      ],
      "metadata": {
        "id": "WX9JZiKWRtz8"
      }
    },
    {
      "cell_type": "markdown",
      "source": [
        "#### We can also downlaod the model file by executing the below command\n",
        "\n",
        "* pip install huggingface-hub\n",
        "\n",
        "* ! huggingface-cli download TheBloke/zephyr-7B-beta-GGUF zephyr-7b-beta.Q4_K_M.gguf --local-dir . --local-dir-use-symlinks False\n"
      ],
      "metadata": {
        "id": "CEjjLjKH80Fi"
      }
    },
    {
      "cell_type": "code",
      "source": [
        "model_path =\"/content/drive/MyDrive/Mistral_beta/zephyr-7b-beta.Q4_K_M.gguf\"\n",
        "llms = LlamaCpp(streaming=True,\n",
        "                model_path=model_path,\n",
        "                max_tokens=500,\n",
        "                temperature=0.75,\n",
        "                top_p=1,\n",
        "                model_kwargs={\"gpu_layers\":0,\"stream\":True},\n",
        "                verbose=True,\n",
        "                n_threads=int(os.cpu_count()/2),\n",
        "                n_ctx=4096)"
      ],
      "metadata": {
        "colab": {
          "base_uri": "https://localhost:8080/"
        },
        "id": "rX_xCbY2RsY8",
        "outputId": "6b593d84-e8f9-44f8-972a-9e714e8e0448"
      },
      "execution_count": 9,
      "outputs": [
        {
          "output_type": "stream",
          "name": "stderr",
          "text": [
            "AVX = 1 | AVX_VNNI = 0 | AVX2 = 1 | AVX512 = 0 | AVX512_VBMI = 0 | AVX512_VNNI = 0 | FMA = 1 | NEON = 0 | ARM_FMA = 0 | F16C = 1 | FP16_VA = 0 | WASM_SIMD = 0 | BLAS = 0 | SSE3 = 1 | SSSE3 = 1 | VSX = 0 | \n"
          ]
        }
      ]
    },
    {
      "cell_type": "markdown",
      "source": [
        "## Instantiate the Vectorstore"
      ],
      "metadata": {
        "id": "uXqXpaiLTYmF"
      }
    },
    {
      "cell_type": "code",
      "source": [
        "vectorstore = Chroma(embedding_function=embeddings,\n",
        "                     persist_directory=\"/content/drive/MyDrive/Vectorstore/chroma_full\",\n",
        "                     collection_name=\"full_documents\")"
      ],
      "metadata": {
        "id": "F_7qSzsLTcfT"
      },
      "execution_count": 16,
      "outputs": []
    },
    {
      "cell_type": "markdown",
      "source": [
        "## Instantiate the Text Splitter"
      ],
      "metadata": {
        "id": "DsFS7w-wUxDd"
      }
    },
    {
      "cell_type": "code",
      "source": [
        "parent_splitter = RecursiveCharacterTextSplitter(chunk_size=2000)\n",
        "child_splitter = RecursiveCharacterTextSplitter(chunk_size=400)"
      ],
      "metadata": {
        "id": "zuJnTDAGU0MM"
      },
      "execution_count": 17,
      "outputs": []
    },
    {
      "cell_type": "markdown",
      "source": [
        "## Instantiate the ParentDocumentRetriver"
      ],
      "metadata": {
        "id": "t2BOLrZ7VB4G"
      }
    },
    {
      "cell_type": "code",
      "source": [
        "store = InMemoryStore()\n",
        "#\n",
        "retriever = ParentDocumentRetriever(vectorstore=vectorstore,\n",
        "                                    docstore=store,\n",
        "                                    parent_splitter=parent_splitter,\n",
        "                                    child_splitter=child_splitter,)"
      ],
      "metadata": {
        "id": "tRrH-e_8VA-P"
      },
      "execution_count": 18,
      "outputs": []
    },
    {
      "cell_type": "markdown",
      "source": [
        "## Load Documents"
      ],
      "metadata": {
        "id": "caAsmCiJW0I-"
      }
    },
    {
      "cell_type": "code",
      "source": [
        "retriever.add_documents(documents)\n",
        "vectorstore.persist()"
      ],
      "metadata": {
        "id": "NttfQKLGW2Q7"
      },
      "execution_count": 19,
      "outputs": []
    },
    {
      "cell_type": "markdown",
      "source": [
        "## Check if the Documents have been uploaded successfully"
      ],
      "metadata": {
        "id": "qVvcYPMvY3wO"
      }
    },
    {
      "cell_type": "code",
      "source": [
        "vectorstore.get().keys()"
      ],
      "metadata": {
        "colab": {
          "base_uri": "https://localhost:8080/"
        },
        "id": "DHn2Lm6eW8HV",
        "outputId": "5f8f2efc-51df-437d-ec6c-b9bdcd71dc88"
      },
      "execution_count": 36,
      "outputs": [
        {
          "output_type": "execute_result",
          "data": {
            "text/plain": [
              "dict_keys(['ids', 'embeddings', 'metadatas', 'documents', 'uris', 'data'])"
            ]
          },
          "metadata": {},
          "execution_count": 36
        }
      ]
    },
    {
      "cell_type": "code",
      "source": [
        "len(vectorstore.get()['documents'])"
      ],
      "metadata": {
        "colab": {
          "base_uri": "https://localhost:8080/"
        },
        "id": "kLrc64vVaOfe",
        "outputId": "2ace1fd0-3efe-4eba-cdf7-90d1acaa33e5"
      },
      "execution_count": 37,
      "outputs": [
        {
          "output_type": "execute_result",
          "data": {
            "text/plain": [
              "3008"
            ]
          },
          "metadata": {},
          "execution_count": 37
        }
      ]
    },
    {
      "cell_type": "markdown",
      "source": [
        "## Instantiate the Keyword Search Model"
      ],
      "metadata": {
        "id": "W62hLR5IZvtY"
      }
    },
    {
      "cell_type": "code",
      "source": [
        "from langchain.retrievers import BM25Retriever,EnsembleRetriever\n",
        "from langchain.retrievers import ContextualCompressionRetriever\n",
        "#\n",
        "parent_documents = parent_splitter.split_documents(documents)\n",
        "bm25_retriever = BM25Retriever.from_documents(parent_documents)\n",
        "bm25_retriever.k=10"
      ],
      "metadata": {
        "id": "wqKWZw7RZzgv"
      },
      "execution_count": 27,
      "outputs": []
    },
    {
      "cell_type": "markdown",
      "source": [
        "## Instantiate ReRanker - Cross Encoders"
      ],
      "metadata": {
        "id": "7JTTJ_9mbBcp"
      }
    },
    {
      "cell_type": "code",
      "source": [
        "from __future__ import annotations\n",
        "from typing import Dict, Optional, Sequence\n",
        "from langchain.schema import Document\n",
        "from langchain.pydantic_v1 import Extra, root_validator\n",
        "\n",
        "from langchain.callbacks.manager import Callbacks\n",
        "from langchain.retrievers.document_compressors.base import BaseDocumentCompressor\n",
        "\n",
        "from sentence_transformers import CrossEncoder\n",
        "# from config import bge_reranker_large\n",
        "\n",
        "class BgeRerank(BaseDocumentCompressor):\n",
        "    model_name:str = 'BAAI/bge-reranker-large'\n",
        "    \"\"\"Model name to use for reranking.\"\"\"\n",
        "    top_n: int = 3\n",
        "    \"\"\"Number of documents to return.\"\"\"\n",
        "    model:CrossEncoder = CrossEncoder(model_name)\n",
        "    \"\"\"CrossEncoder instance to use for reranking.\"\"\"\n",
        "\n",
        "    def bge_rerank(self,query,docs):\n",
        "        model_inputs =  [[query, doc] for doc in docs]\n",
        "        scores = self.model.predict(model_inputs)\n",
        "        results = sorted(enumerate(scores), key=lambda x: x[1], reverse=True)\n",
        "        return results[:self.top_n]\n",
        "\n",
        "\n",
        "    class Config:\n",
        "        \"\"\"Configuration for this pydantic object.\"\"\"\n",
        "\n",
        "        extra = Extra.forbid\n",
        "        arbitrary_types_allowed = True\n",
        "\n",
        "    def compress_documents(\n",
        "        self,\n",
        "        documents: Sequence[Document],\n",
        "        query: str,\n",
        "        callbacks: Optional[Callbacks] = None,\n",
        "    ) -> Sequence[Document]:\n",
        "        \"\"\"\n",
        "        Compress documents using BAAI/bge-reranker models.\n",
        "\n",
        "        Args:\n",
        "            documents: A sequence of documents to compress.\n",
        "            query: The query to use for compressing the documents.\n",
        "            callbacks: Callbacks to run during the compression process.\n",
        "\n",
        "        Returns:\n",
        "            A sequence of compressed documents.\n",
        "        \"\"\"\n",
        "        if len(documents) == 0:  # to avoid empty api call\n",
        "            return []\n",
        "        doc_list = list(documents)\n",
        "        _docs = [d.page_content for d in doc_list]\n",
        "        results = self.bge_rerank(query, _docs)\n",
        "        final_results = []\n",
        "        for r in results:\n",
        "            doc = doc_list[r[0]]\n",
        "            doc.metadata[\"relevance_score\"] = r[1]\n",
        "            final_results.append(doc)\n",
        "        return final_results"
      ],
      "metadata": {
        "id": "Sm8tpd45ax8r"
      },
      "execution_count": 31,
      "outputs": []
    },
    {
      "cell_type": "markdown",
      "source": [
        "## Create a Contextual Compression Pipeline"
      ],
      "metadata": {
        "id": "TExQCdKpgEoM"
      }
    },
    {
      "cell_type": "code",
      "source": [
        "from langchain.document_transformers import EmbeddingsRedundantFilter\n",
        "from langchain.retrievers.document_compressors import DocumentCompressorPipeline\n",
        "from langchain.retrievers import ContextualCompressionRetriever\n",
        "from langchain.document_transformers import LongContextReorder\n",
        "#\n",
        "source_name = \"corporate-social-responsibility-policy\"\n",
        "vs_retriever = vectorstore.as_retriever(search_kwargs={\"k\":10,\"filter\":{'title':source_name},})\n",
        "#\n",
        "retriever.search_kwargs = {\"k\":10,\"filter\":{'title':source_name},}\n",
        "#\n",
        "ensemble_retriever = EnsembleRetriever(retrievers=[bm25_retriever,vs_retriever,retriever],\n",
        "                                       weight=[0.5,0.5,0.1])\n",
        "#\n",
        "redundant_filter = EmbeddingsRedundantFilter(embeddings=embeddings)\n",
        "#\n",
        "reordering = LongContextReorder()\n",
        "#\n",
        "reranker = BgeRerank()\n",
        "#\n",
        "pipeline_compressor = DocumentCompressorPipeline(transformers=[redundant_filter,reordering,reranker])\n",
        "#\n",
        "compression_pipeline = ContextualCompressionRetriever(base_compressor=pipeline_compressor,\n",
        "                                                      base_retriever=ensemble_retriever,\n",
        "                                                      metadata={\"title\":source_name},\n",
        ")"
      ],
      "metadata": {
        "id": "BG9syvlNgIs8"
      },
      "execution_count": 41,
      "outputs": []
    },
    {
      "cell_type": "markdown",
      "source": [
        "## Define the Retrieval Q&A Engine"
      ],
      "metadata": {
        "id": "b-FU07z0nO_A"
      }
    },
    {
      "cell_type": "code",
      "source": [
        "from langchain.chains import RetrievalQA\n",
        "#\n",
        "qa = RetrievalQA.from_chain_type(llm=llms,\n",
        "                                 chain_type=\"stuff\",\n",
        "                                 retriever=compression_pipeline,\n",
        "                                 return_source_documents=True)\n"
      ],
      "metadata": {
        "id": "iSc5-A9OnUEB"
      },
      "execution_count": 42,
      "outputs": []
    },
    {
      "cell_type": "markdown",
      "source": [
        "## Pretty Print Documnets"
      ],
      "metadata": {
        "id": "aXqCEtpXqMfq"
      }
    },
    {
      "cell_type": "code",
      "source": [
        "def pretty_print_docs(docs):\n",
        "  print(\n",
        "      f\"\\n{'-' * 100}\\n\".join([f\"Document {i+1}:\\n\\n + {d.page_content}\" for i,d in enumerate(docs)])\n",
        "  )"
      ],
      "metadata": {
        "id": "zdeY8ZhsqQhT"
      },
      "execution_count": 63,
      "outputs": []
    },
    {
      "cell_type": "markdown",
      "source": [
        "## Invoke the query engine"
      ],
      "metadata": {
        "id": "bg-cWPObnxPI"
      }
    },
    {
      "cell_type": "code",
      "source": [
        "pretty_print_docs(retriever.get_relevant_documents(query))"
      ],
      "metadata": {
        "colab": {
          "base_uri": "https://localhost:8080/"
        },
        "id": "3t6weDiYox-H",
        "outputId": "c2bed43e-7573-41de-d8f6-67ef085145c6"
      },
      "execution_count": 64,
      "outputs": [
        {
          "output_type": "stream",
          "name": "stdout",
          "text": [
            "Document 1:\n",
            "\n",
            " + INTRODUCTION   \n",
            " \n",
            "Social responsibility allows the company's business interests to be reconciled  \n",
            "with the legitimate interests of the different stakeholders that may be affected,  \n",
            "and also assumes the impact of the company's activities on the community in  \n",
            "general  and the environment.  \n",
            " \n",
            "The present Corporate Social Responsibility Policy (hereinafter, “CSR Policy”)  \n",
            "intends to establish a reference framework, from which any ACME CORP  \n",
            "company can develop and strengthen socially responsible behavior, regardless  \n",
            "of the way — convent ional and/or digital — the business is carried out and the  \n",
            "country  it operates  in, locally  adapting  any actions  that are necessary  for \n",
            "compliance with  it. \n",
            " \n",
            " \n",
            "  GOALS   \n",
            " \n",
            "ACME CORP  defines  its social  responsibility  as a \"voluntary  and strategic  \n",
            "commitment that entails attempting to achieve business targets while complying  \n",
            "strictly with its legal and contractual obligations, applying criteria of equity and  \n",
            "stability to relationships with its stakeholders, thus contributing to meeting the  \n",
            "current a nd future  needs of  society \" \n",
            " \n",
            "Promoting Corporate Social Responsibility at ACME CORP  must be perceived \n",
            "as a way of: \n",
            " \n",
            "• Achieving  ACME CORP 's corporate  interest  and its strategic  goals.  \n",
            "• Managing the company based on the ACME CORP  values of solvency, \n",
            "integrity,  vocation for service, innovation for leadership and committed team, \n",
            "which  must  be present  in any business  project  that is carried out.  \n",
            "• Establishing relationships of stability and equality with stakeholders related to  \n",
            "the company,  mainly  those  defined  in the mission 1 : shareholders,  \n",
            "employees, providers,  distributors,  clients  and society.  \n",
            "• Managing the risks and business opportunities arising from the development  \n",
            "of the environment in which ACME CORP  does business, assuming the \n",
            "impact it  generates on society and the environment, maximizing the positives \n",
            "and minimizing  the negatives.\n",
            "----------------------------------------------------------------------------------------------------\n",
            "Document 2:\n",
            "\n",
            " + g) Offering  employees  the opportunity  to channel  and develop  their most  \n",
            "charitable  side through  Corporate  Volunteering,  in accordance  with ACME \n",
            "CORP ’s General Volunteering  Plan.  \n",
            " \n",
            "2. Clients and insured parties. They are the basis of the business, including the  \n",
            "potential  client  and, therefore,  ACME CORP  assumes  the following  \n",
            "commitments:  \n",
            "a) Providing  honest  assessment  and full information  regarding  the \n",
            "characteristics and qualities of ACME CORP  products and services, before \n",
            "they are hired.  \n",
            "b) Providing an accessible and quality service within the agreed time frame,  \n",
            "tracking the client experience, using surveys to measure their satisfaction  \n",
            "and other methods  and systems that facilitate  continual  active  listening to  \n",
            "the client in all the processes and operations where the latter relates to the  \n",
            "company.  \n",
            "c) Maintaining  due confidentiality  in processing  their data.  \n",
            "d) Managing  and resolving  their claims  in the shortest  time possible.  \n",
            " \n",
            "e) Maintaining appropriate and efficient channels of communication using the  \n",
            "most  appropriate  means.  \n",
            "f) Continually innovating so as to provide added -value services and products,  \n",
            "facilitating and promoting access to insurance for the greatest number of  \n",
            "groups.  \n",
            "g) Respecting and complying with the rules that regulate communications and  \n",
            "marketing  activities  and assuming  the voluntary  codes  that lend \n",
            "transparency  and truth to these  actions.  \n",
            " \n",
            "3. Suppliers. ACME CORP  has a supplier relationship and management model \n",
            "that attempts  to ensure  a socially  responsible  and ethical  process  in its action  \n",
            "with all the participants  in the value  chain.  This involves:  \n",
            " \n",
            "a) Adopting responsible practices that generate mutual value, in addition to  \n",
            "focusing on  efficiency and the quality of  products and/or  services  provided  \n",
            "by ACME CORP  suppliers.  \n",
            " \n",
            "b) Ensuring  that the value  chain  complies  with ACME CORP ’s values  and\n",
            "----------------------------------------------------------------------------------------------------\n",
            "Document 3:\n",
            "\n",
            " + 4. Distributors/brokers. ACME CORP  distributes its products and services using \n",
            "a broad network of brokers and collaborating entities and, therefore assumes \n",
            "the following  commitments:  \n",
            "a) Maintaining permanent dialog using the specific platforms and commercial  \n",
            "structures  created  for this purpos e. \n",
            "b) Ensuring  selection  and payment  processes  that allow  professional  \n",
            "responsibilities and skills to be valued, along with other aspects of interest  \n",
            "that ensure  the quality  of the service provided.  \n",
            "c) Implementing a training model adapted to the needs of each distributor,  \n",
            "paying special attention to training focused on compliance with ACME \n",
            "CORP  values  and strategy  and the  CSR Policy  \n",
            " \n",
            " \n",
            "5. Shareholders. ACME CORP  considers that its relationship with sharehol ders \n",
            "and investors,  besides  being  based  on trust,  must  have  the goal of creating  \n",
            "sustainable  value,  and undertakes  to promote  informed  participation  by \n",
            "shareholders  at general  meetings,  dealing  with them  all in the same  manner.  \n",
            " \n",
            " \n",
            "6. Society. ACME CORP  is committed to the economic and social development of \n",
            "the countries  where it  carries  out its activity  and therefore:  \n",
            "a) Assumes the impact that its activity generates in society, evaluating and  \n",
            "managing  non-financial,  ethical,  governing,  reputational,  social  and \n",
            "environmental risk, in accordance with what is established in the Group's  \n",
            "Risk Management  Policy  or any other  complementary  corporate  policy  \n",
            "adopted, and also with what is established in the general principle six of this  \n",
            "policy, relating  to Human  Rights.  \n",
            "b) It is bound  to those  social  activities  or initiatives  that benefit  society.  \n",
            " \n",
            "In this regard ACME CORP  considers that its priority social action sectors \n",
            "are: disability,  road safety  and accident  prevention,  promotion  of insurance  \n",
            "culture,  health  promotion,  the environment  and corporate  volunteering.\n",
            "----------------------------------------------------------------------------------------------------\n",
            "Document 4:\n",
            "\n",
            " + attempt  to reduce  conflict  in the interpretation  and application  of tax \n",
            "regulations.  \n",
            " \n",
            " \n",
            "8. Conservation and promotion of the Environment.  ACME CORP  conducts its  \n",
            "activity  with a firm commitment  to contribute  to sustainability  from an \n",
            "environmental  perspective,  materialized  through  the integration  of the \n",
            "environment into the business, the promotio n of environmental responsibility,  \n",
            "preservation of biodiversity, prevention of pollution, efficient management of  \n",
            "resources and adaptation and mitigation of climate change, in accordance with  \n",
            "what is  established  in the Group's  Environment  Policy  \n",
            " \n",
            " \n",
            "9. Promotion of social responsibility , with active participation in national and  \n",
            "international reference forums and organizations that promote behavior and  \n",
            "commitment  aligned with  the content  of this CSR Policy.  \n",
            " \n",
            " \n",
            "  SPECIFIC  PRINCIPLES  OF ACTION   \n",
            " \n",
            "1. Employees. ACME CORP  has a Code of Ethics and Conduct that establishes \n",
            "the rules that must govern behavior and action among employees and in their  \n",
            "relationships with third parties. Furthermore, it promotes a working environment  \n",
            "based  on an atmosphere  of mutual trust and commitment,  which  involves:  \n",
            " \n",
            "a) Consolidating a culture of respect for people and behavior that is favorable  \n",
            "and open to diversity  faced with  any of the  Company's  stakeholders.  \n",
            "b) Guaranteeing the right to effective equal opportunities and dealing s with all  \n",
            "workers, which allows them — without exception — to develop personally  \n",
            "and professionally.  \n",
            "c) Avoiding any type of occupational discrimination in the areas of access to  \n",
            "employment, promotion, professional classification, training, compensation,  \n",
            "work/life balance  and other  working  conditions.  \n",
            "d) Contributing  to maintaining  working  environments  that are free of \n",
            "harassment and behavior that is violent or offensive to people's r ights and  \n",
            "dignity, and guarantee that, if it occurs, there are appropriate procedures for\n",
            "----------------------------------------------------------------------------------------------------\n",
            "Document 5:\n",
            "\n",
            " + and to the guidelines of the Code of Ethics and Conduct, in order to accrue \n",
            "business  benefits.  \n",
            " \n",
            "ACME CORP  has internal mechanisms for preventing, monitoring, reporting \n",
            "and penalizing any practice described in the paragraph above that occurs \n",
            "within  the Group.  \n",
            " \n",
            " \n",
            "4. Communication and dialog with all stakeholders , based on transparency,  \n",
            "truth and commitment, as fundamental pillars for building stable relationships  \n",
            "that generate  trust. \n",
            " \n",
            "ACME CORP  needs the involvement of its stakeholders, especially those \n",
            "defined  in its mission,  to achieve  its business  and social  goals  and, \n",
            "therefore,  it has\n"
          ]
        }
      ]
    },
    {
      "cell_type": "markdown",
      "source": [
        "#### Test the compression_pipeline"
      ],
      "metadata": {
        "id": "zcTBuPlD-PWA"
      }
    },
    {
      "cell_type": "code",
      "source": [
        "pretty_print_docs(compression_pipeline.get_relevant_documents(query))"
      ],
      "metadata": {
        "colab": {
          "base_uri": "https://localhost:8080/"
        },
        "id": "kwN2Unhe-S7u",
        "outputId": "6baf41da-9296-4881-cc77-6cfd7bfaca66"
      },
      "execution_count": 67,
      "outputs": [
        {
          "output_type": "stream",
          "name": "stdout",
          "text": [
            "Document 1:\n",
            "\n",
            " + INTRODUCTION   \n",
            " \n",
            "Social responsibility allows the company's business interests to be reconciled  \n",
            "with the legitimate interests of the different stakeholders that may be affected,  \n",
            "and also assumes the impact of the company's activities on the community in  \n",
            "general  and the environment.  \n",
            " \n",
            "The present Corporate Social Responsibility Policy (hereinafter, “CSR Policy”)  \n",
            "intends to establish a reference framework, from which any ACME CORP  \n",
            "company can develop and strengthen socially responsible behavior, regardless  \n",
            "of the way — convent ional and/or digital — the business is carried out and the  \n",
            "country  it operates  in, locally  adapting  any actions  that are necessary  for \n",
            "compliance with  it. \n",
            " \n",
            " \n",
            "  GOALS   \n",
            " \n",
            "ACME CORP  defines  its social  responsibility  as a \"voluntary  and strategic  \n",
            "commitment that entails attempting to achieve business targets while complying  \n",
            "strictly with its legal and contractual obligations, applying criteria of equity and  \n",
            "stability to relationships with its stakeholders, thus contributing to meeting the  \n",
            "current a nd future  needs of  society \" \n",
            " \n",
            "Promoting Corporate Social Responsibility at ACME CORP  must be perceived \n",
            "as a way of: \n",
            " \n",
            "• Achieving  ACME CORP 's corporate  interest  and its strategic  goals.  \n",
            "• Managing the company based on the ACME CORP  values of solvency, \n",
            "integrity,  vocation for service, innovation for leadership and committed team, \n",
            "which  must  be present  in any business  project  that is carried out.  \n",
            "• Establishing relationships of stability and equality with stakeholders related to  \n",
            "the company,  mainly  those  defined  in the mission 1 : shareholders,  \n",
            "employees, providers,  distributors,  clients  and society.  \n",
            "• Managing the risks and business opportunities arising from the development  \n",
            "of the environment in which ACME CORP  does business, assuming the \n",
            "impact it  generates on society and the environment, maximizing the positives \n",
            "and minimizing  the negatives.\n",
            "----------------------------------------------------------------------------------------------------\n",
            "Document 2:\n",
            "\n",
            " + country  it operates  in, locally  adapting  any actions  that are necessary  for \n",
            "compliance with  it. \n",
            " \n",
            " \n",
            "  GOALS   \n",
            " \n",
            "ACME CORP  defines  its social  responsibility  as a \"voluntary  and strategic  \n",
            "commitment that entails attempting to achieve business targets while complying  \n",
            "strictly with its legal and contractual obligations, applying criteria of equity and\n",
            "----------------------------------------------------------------------------------------------------\n",
            "Document 3:\n",
            "\n",
            " + current a nd future  needs of  society \" \n",
            " \n",
            "Promoting Corporate Social Responsibility at ACME CORP  must be perceived \n",
            "as a way of: \n",
            " \n",
            "• Achieving  ACME CORP 's corporate  interest  and its strategic  goals.  \n",
            "• Managing the company based on the ACME CORP  values of solvency, \n",
            "integrity,  vocation for service, innovation for leadership and committed team,\n"
          ]
        }
      ]
    },
    {
      "cell_type": "markdown",
      "source": [
        "## Ask Query"
      ],
      "metadata": {
        "id": "jZ5MPmPy-hJ7"
      }
    },
    {
      "cell_type": "code",
      "source": [
        "query =\"How ACME CORP has defined its social responsibility?\"\n",
        "response = qa(query)"
      ],
      "metadata": {
        "id": "8lydZYo2nz7L"
      },
      "execution_count": 44,
      "outputs": []
    },
    {
      "cell_type": "code",
      "source": [
        "response"
      ],
      "metadata": {
        "colab": {
          "base_uri": "https://localhost:8080/"
        },
        "id": "WsuU7Qcoqs70",
        "outputId": "5d4461a2-63fe-49be-92cb-6f4b4d26c2cd"
      },
      "execution_count": 45,
      "outputs": [
        {
          "output_type": "execute_result",
          "data": {
            "text/plain": [
              "{'query': 'How ACME CORP has defined its social responsibility?',\n",
              " 'result': ' ACME CORP defines its social responsibility as a \"voluntary and strategic commitment that entails attempting to achieve business targets while complying strictly with its legal and contractual obligations, applying criteria of equity and stability to relationships with its stakeholders, thus contributing to meeting the current and future needs of society.\"',\n",
              " 'source_documents': [_DocumentWithState(page_content='INTRODUCTION   \\n \\nSocial responsibility allows the company\\'s business interests to be reconciled  \\nwith the legitimate interests of the different stakeholders that may be affected,  \\nand also assumes the impact of the company\\'s activities on the community in  \\ngeneral  and the environment.  \\n \\nThe present Corporate Social Responsibility Policy (hereinafter, “CSR Policy”)  \\nintends to establish a reference framework, from which any ACME CORP  \\ncompany can develop and strengthen socially responsible behavior, regardless  \\nof the way — convent ional and/or digital — the business is carried out and the  \\ncountry  it operates  in, locally  adapting  any actions  that are necessary  for \\ncompliance with  it. \\n \\n \\n  GOALS   \\n \\nACME CORP  defines  its social  responsibility  as a \"voluntary  and strategic  \\ncommitment that entails attempting to achieve business targets while complying  \\nstrictly with its legal and contractual obligations, applying criteria of equity and  \\nstability to relationships with its stakeholders, thus contributing to meeting the  \\ncurrent a nd future  needs of  society \" \\n \\nPromoting Corporate Social Responsibility at ACME CORP  must be perceived \\nas a way of: \\n \\n• Achieving  ACME CORP \\'s corporate  interest  and its strategic  goals.  \\n• Managing the company based on the ACME CORP  values of solvency, \\nintegrity,  vocation for service, innovation for leadership and committed team, \\nwhich  must  be present  in any business  project  that is carried out.  \\n• Establishing relationships of stability and equality with stakeholders related to  \\nthe company,  mainly  those  defined  in the mission 1 : shareholders,  \\nemployees, providers,  distributors,  clients  and society.  \\n• Managing the risks and business opportunities arising from the development  \\nof the environment in which ACME CORP  does business, assuming the \\nimpact it  generates on society and the environment, maximizing the positives \\nand minimizing  the negatives.', metadata={'source': '/content/drive/MyDrive/hrdocs/corporate-social-responsibility-policy.pdf', 'page': 2, 'title': 'corporate-social-responsibility-policy', 'relevance_score': 0.9973786}, state={'embedded_doc': [0.04033884406089783, 0.027746204286813736, -0.013335539028048515, -0.05614829435944557, 0.049100253731012344, 0.0386284776031971, 0.029293114319443703, 0.028913971036672592, -0.004778536502271891, -0.008215004578232765, 0.03319242224097252, -0.039011191576719284, -0.03224937990307808, -0.038631170988082886, -0.044913358986377716, 0.02814643643796444, 0.018289128318428993, -0.0009677035268396139, 0.03321704640984535, 0.04696577414870262, -0.014659252017736435, -0.07750927656888962, -0.005918093957006931, -0.0018441572319716215, -0.0203686635941267, -0.008338961750268936, 0.00021006385213695467, -0.035772789269685745, -0.09214773029088974, -0.13700340688228607, -0.00874305423349142, 0.010820446535944939, 0.0603492446243763, 0.047285135835409164, 0.07937401533126831, 0.019543183967471123, 0.01746629923582077, -0.0005985151510685682, -0.05325872451066971, 0.013976788148283958, -0.03742313012480736, -0.02872583456337452, 0.03686680644750595, -0.0026904779952019453, -0.03537919744849205, -0.0027824589051306248, 0.10531949251890182, -0.018095120787620544, -0.09305529296398163, -0.04576617851853371, 0.016270039603114128, -0.027290549129247665, -0.06958521157503128, -0.022028179839253426, 0.02697351574897766, 0.07459552586078644, 0.027084995061159134, -0.014072068966925144, -0.03178993612527847, -0.03952786698937416, 0.0452813059091568, -0.006342586129903793, -0.18448354303836823, 0.06548234075307846, -0.007171935401856899, 0.053470488637685776, -0.05029483139514923, 0.04436703398823738, -0.047788966447114944, -0.013869503512978554, -0.010614986531436443, -0.02969042956829071, 0.04161445423960686, 0.05348319187760353, 0.011319395154714584, 0.062291115522384644, 0.028926406055688858, 0.042684219777584076, -0.02141229249536991, -0.0042928168550133705, 0.031244376674294472, 0.03550538420677185, -0.010568644851446152, -0.024256041273474693, 0.016829807311296463, -0.044251106679439545, 0.07311022281646729, -0.025994710624217987, 0.08964831382036209, 0.03233615309000015, -0.016605278477072716, -0.01963529922068119, -0.03709855675697327, 0.017287876456975937, -0.028383659198880196, -0.03814895451068878, -0.007835195399820805, -0.0035640071146190166, -0.06249064579606056, 0.3372381925582886, -0.018209168687462807, 0.03444943577051163, -0.005513689946383238, -0.04966304451227188, -0.0354657880961895, -0.018251433968544006, 0.024572458118200302, 0.04318942129611969, 0.06825216859579086, 0.0007751578814350069, -0.05684070661664009, -0.018926769495010376, -0.005376345477998257, -0.010210386477410793, 0.016226278617978096, 0.04944325610995293, -0.0725117176771164, 0.01790032908320427, 0.03653169050812721, -0.039277333766222, 0.05529967322945595, -0.015255099162459373, 0.04169459268450737, -0.04055050387978554, -0.02554805763065815, 0.007407283876091242, 0.03292844071984291, 0.07198141515254974, 0.02269231714308262, -0.011808473616838455, 0.025896765291690826, -0.028826585039496422, -0.01136031560599804, 0.004565054085105658, -0.00885525532066822, -0.02581377699971199, -0.030679835006594658, -0.020470555871725082, 0.02577851340174675, 0.009283526800572872, -0.02044728212058544, -0.02719615027308464, 0.0020346399396657944, -0.13217614591121674, -0.10521817207336426, 0.07950690388679504, 0.05935283377766609, -0.020383229479193687, -0.07060076296329498, 0.0015018514823168516, 0.06829097867012024, 0.07948309928178787, 0.03963163495063782, 0.030873583629727364, -0.03855413198471069, 0.027613019570708275, 0.021152058616280556, -0.03823572397232056, 0.0032032711897045374, 0.010775832459330559, -0.012435858137905598, -0.03933548927307129, -0.016722580417990685, 0.1471177190542221, 2.8441243557608686e-05, -0.10001850873231888, -0.008422572165727615, -0.023959269747138023, 0.014832071028649807, 0.02143624611198902, -0.03510052338242531, -0.03964069113135338, -0.0011426940327510238, -0.028685864061117172, 0.06999813765287399, 0.06466399878263474, -0.009358047507703304, -0.03240736201405525, -0.03302257880568504, -0.003657133551314473, 0.036132119596004486, -0.043326739221811295, -0.03460992872714996, -0.010622622445225716, 0.020656554028391838, 0.04296020045876503, -0.03676319867372513, -0.028169840574264526, -0.025494275614619255, -0.009075800888240337, -0.018041236326098442, 0.10937648266553879, -0.04606948420405388, 0.019493982195854187, -0.03872166946530342, 0.04373950511217117, 0.01711641065776348, -0.048302993178367615, 0.013725081458687782, -0.02706955187022686, 0.012919818051159382, 0.0018961802124977112, -0.052021436393260956, 0.004839049652218819, 0.004707917105406523, 0.07009126991033554, 0.018914496526122093, -0.035567257553339005, 0.016964757815003395, -0.008287105709314346, -0.029783038422465324, 0.052974920719861984, -0.017762741073966026, -0.00495276739820838, 0.034507282078266144, 0.08394186198711395, 0.08331684023141861, -0.01537253800779581, 0.0038988604210317135, 0.044421762228012085, 0.08801209926605225, 0.06782733649015427, -0.02592812292277813, -0.284007728099823, 0.01507225539535284, -0.05249495431780815, -0.008370748721063137, 0.03414664790034294, 0.08458089083433151, -0.045032307505607605, -0.026385553181171417, -0.02605445310473442, -0.011916087009012699, 0.12747173011302948, -0.021037258207798004, 0.012170805595815182, 0.03983750939369202, -0.000465578050352633, -0.034016769379377365, -0.009512721560895443, -0.022849997505545616, -0.02898896113038063, -0.04607062041759491, -0.05249229818582535, 0.004399405792355537, 0.04770977795124054, 0.0026167696341872215, 0.059588201344013214, -0.04333363100886345, 0.08413881063461304, -0.03062593936920166, -0.016863670200109482, 0.041257135570049286, -0.0048160189762711525, 0.10828837007284164, 0.019407842308282852, -0.11842631548643112, 0.01314052939414978, -0.038323547691106796, -0.02759973518550396, -0.012730728834867477, -0.03654764965176582, 0.021286219358444214, 0.031112363561987877, 0.06487338989973068, -0.002392169088125229, 0.004929154179990292, 0.005345425568521023, 0.015583406202495098, -0.03080335445702076, 0.04503060132265091, -0.02058056741952896, 0.03736048936843872, 0.025647703558206558, -0.0006501279422082007, -0.03416813537478447, 0.07886917144060135, -0.03652428463101387, -0.012420246377587318, -0.05470222607254982, -0.002034557983279228, 0.0035916073247790337, -0.04748900234699249, -0.02469000034034252, 0.015815747901797295, 0.02655467949807644, -0.05924864113330841, 0.034396942704916, 0.01269459631294012, -0.007904166355729103, -0.013075731694698334, -0.020071828737854958, 0.03662816435098648, -0.013350036926567554, 0.034283459186553955, 0.021416250616312027, -0.10403673350811005, -0.00013848175876773894, -0.03540661558508873, -0.0385679230093956, -0.0038195836823433638, -0.02768603339791298, 0.04167812690138817, 0.060504067689180374, 0.046996064484119415, 0.030556080862879753, 0.04888981953263283, -0.024500515311956406, -0.023487988859415054, -0.053060341626405716, -0.005094471853226423, -0.009099937044084072, 0.016841474920511246, 0.023826899006962776, 0.005017236340790987, -0.01590779423713684, -0.03581349551677704, -0.0019460804760456085, 0.016733162105083466, -0.2502329647541046, -0.054818376898765564, -0.04398496821522713, 0.015354126691818237, 0.0040692901238799095, -0.0194974597543478, 0.04302489012479782, -0.036218658089637756, 0.020432814955711365, 0.1035555750131607, 0.021250242367386818, 0.04217807203531265, 0.0537751130759716, -0.013984521850943565, 0.02868519350886345, 0.0039248159155249596, 0.042326245456933975, -0.06558972597122192, 0.0024095820263028145, -0.03684008866548538, 0.03018847666680813, 0.03176114335656166, 0.1430518925189972, 0.0259000975638628, -0.006142927333712578, -0.006178828421980143, -0.09866686165332794, 0.015072394162416458, -0.009629854001104832, 0.04797518253326416, 0.06245746463537216, -0.04446752369403839, 0.08057112991809845, -0.02283008210361004, 0.07314996421337128, -0.0072517190128564835, -0.025590157136321068, 0.050518762320280075, -0.042623814195394516, -0.031750407069921494, -0.059698205441236496, 0.03723756968975067, 0.025406422093510628, 0.0011374128516763449, 0.04410012811422348, -0.050074271857738495, -0.044850077480077744, -0.05249294266104698, 0.0070502785965800285, 0.004707213491201401, -0.11050136387348175, -0.033504944294691086, 0.01995881460607052, -0.0033963662572205067, -0.002197939669713378, -0.0025587454438209534, -0.033990781754255295, -0.033878929913043976, -0.029067030176520348, -0.0036748943384736776, -0.00600310368463397, 0.07564637064933777, -0.051805924624204636, 0.07763414829969406, 0.05320514366030693]}),\n",
              "  _DocumentWithState(page_content='country  it operates  in, locally  adapting  any actions  that are necessary  for \\ncompliance with  it. \\n \\n \\n  GOALS   \\n \\nACME CORP  defines  its social  responsibility  as a \"voluntary  and strategic  \\ncommitment that entails attempting to achieve business targets while complying  \\nstrictly with its legal and contractual obligations, applying criteria of equity and', metadata={'doc_id': '64541e4e-c8b0-410a-bae0-6c619e2e5532', 'page': 2, 'source': '/content/drive/MyDrive/hrdocs/corporate-social-responsibility-policy.pdf', 'title': 'corporate-social-responsibility-policy', 'relevance_score': 0.99479914}, state={'embedded_doc': [0.030295059084892273, 0.01177909318357706, 0.010469661094248295, -0.07990121841430664, 0.04917553812265396, 0.02382536046206951, 0.09073427319526672, 0.029824813827872276, -0.013434374704957008, -0.04161917418241501, 0.035411104559898376, -0.053352706134319305, -0.0256192609667778, -0.00743906619027257, -0.0074132466688752174, 0.0020358981564641, 0.008164165541529655, 0.009613408707082272, 0.006554076913744211, 0.04646117612719536, -0.009838376194238663, -0.04301757737994194, 0.019820356741547585, 0.014779076911509037, 0.03972063586115837, -0.030333561822772026, -0.02122061885893345, -0.010260754264891148, -0.08712324500083923, -0.10014495998620987, -0.029880166053771973, 0.009419655427336693, 0.04921947419643402, 0.0004884529625996947, 0.035414427518844604, 0.011357664130628109, -0.0023438893258571625, -0.02211969904601574, -0.03364535793662071, -0.012867951765656471, -0.003573813010007143, -0.019991522654891014, 0.06379903107881546, -0.014393619261682034, -0.010468675754964352, -0.004549466539174318, 0.06391961127519608, -0.05074488744139671, -0.0568661242723465, -0.04486790671944618, 0.0727628618478775, -0.041890185326337814, -0.053757935762405396, 0.01814793422818184, 0.04554588720202446, 0.058478545397520065, -0.002509012585505843, 0.051882315427064896, 0.009277930483222008, -0.06903792917728424, 0.06225844845175743, 0.012939129024744034, -0.1642993837594986, 0.057037994265556335, 0.01826043799519539, 0.07365936040878296, -0.038144201040267944, 0.038617659360170364, -0.07029729336500168, 0.003591845976188779, 0.036501094698905945, 0.004728891886770725, -0.014297022484242916, 0.07874550670385361, 0.009192781522870064, 0.06454379111528397, 0.050508350133895874, 0.08931910991668701, -0.024693965911865234, -0.012208477593958378, 0.07306025177240372, -0.01568176969885826, -0.028430141508579254, -0.0016588859725743532, -0.006567820906639099, -0.022095030173659325, 0.06588353216648102, -0.023718366399407387, 0.09422309696674347, -0.0016430573305115104, -0.030000945553183556, 0.022537533193826675, -0.037480372935533524, 0.011665686033666134, -0.009141068905591965, -0.05448677018284798, -0.02818380296230316, 0.03188357874751091, -0.06772866100072861, 0.33492690324783325, -0.009231867268681526, 0.029169553890824318, -0.01023952104151249, -0.023518593981862068, 0.007966622710227966, 0.019577037543058395, 0.027124259620904922, 0.0032421285286545753, 0.032858069986104965, -0.014123521745204926, -0.027518710121512413, -0.020544886589050293, 0.005874592810869217, -0.040074799209833145, -0.0003966675139963627, 0.03943810984492302, -0.08223769813776016, 0.03843372315168381, 0.038371264934539795, -0.03854246810078621, 0.011882898397743702, -0.003127660835161805, 0.05889812111854553, -0.03974566236138344, -0.028514288365840912, 0.021619874984025955, 0.07837408781051636, 0.053917307406663895, 0.02343435399234295, -0.008573164232075214, 0.027904322370886803, -0.03818312659859657, -0.017525259405374527, 0.022012043744325638, -0.015000574290752411, -0.03885211795568466, 0.008056852966547012, -0.022848619148135185, 0.004578030202537775, 0.0009137062588706613, -0.030174972489476204, -0.01200677640736103, 0.027348674833774567, -0.14188630878925323, -0.09139291197061539, 0.08449624478816986, 0.013480446301400661, 0.005257344339042902, -0.06291090697050095, 0.015403207391500473, 0.027263950556516647, 0.06458278000354767, 0.01833917200565338, 0.01154961995780468, -0.07357899099588394, 0.01505537610501051, 0.04080759361386299, -0.059581927955150604, 0.015483523719012737, 0.012307419441640377, 0.027978459373116493, -0.029477396979928017, -0.027895916253328323, 0.1211610734462738, 0.024333078414201736, -0.1194663867354393, -0.035522375255823135, -0.019555620849132538, 0.04602457210421562, 0.0326937697827816, -0.03460658714175224, 0.012022032402455807, 0.01491901371628046, 0.006752987392246723, 0.05562645569443703, 0.0778188407421112, 0.01112529169768095, 0.00750450836494565, -0.07683957368135452, -0.02073051407933235, -0.010355195961892605, -0.05295003950595856, -0.031798623502254486, -0.029949020594358444, -0.0012135067954659462, 0.017574496567249298, -0.012069017626345158, -0.04432212561368942, 0.016993066295981407, -0.028169600293040276, -0.05389269441366196, 0.152936190366745, 0.011270496994256973, -0.019844869151711464, -0.01742357760667801, -0.0056145694106817245, -0.029973886907100677, -0.05437809228897095, 0.04043804481625557, -0.007663285825401545, -0.06588101387023926, 0.02791086584329605, -0.014883019030094147, 0.031484659761190414, 0.04718963801860809, 0.021956922486424446, 0.03252624720335007, -0.027484582737088203, -0.005461684428155422, 0.02875511534512043, -0.03902152180671692, 0.06275194138288498, -0.02795197255909443, -0.03078378550708294, 0.0006111512775532901, 0.08135342597961426, 0.03683509677648544, -0.0227267574518919, 0.00926984567195177, 0.022524164989590645, 0.0230844896286726, 0.06220152601599693, 0.015114091336727142, -0.28862568736076355, -0.02023194171488285, -0.07622725516557693, -0.0012948671355843544, 0.03148532658815384, 0.07349899411201477, -0.10817213356494904, -0.022359346970915794, -0.05355489253997803, -0.022839391604065895, 0.13374722003936768, -0.025465602055191994, 0.042399581521749496, 0.057780493050813675, 0.0003311807522550225, -0.035187918692827225, -0.03223559632897377, -0.019399451091885567, 0.00021613702119793743, -0.014916257932782173, -0.022297346964478493, 0.0001911265280796215, -0.023255525156855583, 0.07033206522464752, 0.03648318722844124, -0.02498292364180088, 0.0734596997499466, -0.009914140217006207, 0.006714800838381052, 0.018837599083781242, 0.054280657321214676, 0.07132769376039505, 0.04792953282594681, -0.13218428194522858, -0.00998268648982048, -0.040344104170799255, -0.05201996862888336, -0.018619580194354057, -0.012921796180307865, 0.04846998304128647, -0.016875380650162697, 0.027773233130574226, 0.0025437590666115284, -0.0038544225972145796, 0.005017577670514584, 2.4018791009439155e-05, 0.029140722006559372, -0.011599557474255562, -0.01089785248041153, 0.00041942199459299445, 0.0577431321144104, -0.016955554485321045, -0.03634672984480858, 0.062325552105903625, -0.005587027873843908, 0.0064965770579874516, -0.060041334480047226, 0.01919187232851982, -0.04914813116192818, -0.01861855946481228, -0.03118526190519333, 0.0131850466132164, 0.022940902039408684, -0.005774495657533407, 0.06290939450263977, -0.004477391019463539, 0.009178013540804386, 0.02657448872923851, -0.0652751475572586, 0.03535616025328636, 0.01844841055572033, 0.043654799461364746, -0.00763458339497447, -0.12458708882331848, -0.027264464646577835, -0.0420202873647213, -0.02155660279095173, 0.0028206605929881334, 0.006821337155997753, 0.04358672350645065, 0.04435929283499718, 0.03670318424701691, 0.014355163089931011, -0.0229242704808712, -0.019655980169773102, 0.018120909109711647, -0.02184675820171833, -0.026843903586268425, 0.03093498945236206, 0.0013216948136687279, 0.0006237031775526702, 0.0037529896944761276, -0.007791962008923292, -0.007755674421787262, 0.01188909076154232, -0.0265805646777153, -0.2670431435108185, -0.05749784782528877, -0.07208964973688126, -0.009830472059547901, 0.01621522754430771, -0.04450354725122452, 0.018455592915415764, 0.019181055948138237, -0.012258846312761307, 0.08984829485416412, 0.05207984521985054, 0.05230208858847618, 0.03325073793530464, 0.004994026850908995, 0.006932617165148258, -0.013734160922467709, 0.044369425624608994, -0.09067406505346298, 0.02088586986064911, -0.06656193733215332, -0.012154679745435715, 0.06796392798423767, 0.16070204973220825, 0.02146114781498909, 0.019534427672624588, 0.009135051630437374, -0.08064011484384537, -0.014506283216178417, -0.020181840285658836, 0.016782786697149277, 0.06781194359064102, -0.015715142711997032, 0.07719558477401733, 0.013517334125936031, 0.027109019458293915, -0.007597479037940502, -0.01866212673485279, 0.10289794951677322, -0.0036597338039427996, 0.0035917803179472685, -0.08227377384901047, 0.012067550793290138, 0.025218691676855087, -0.03557164967060089, 0.04958415776491165, -0.057208381593227386, -0.04898373410105705, -0.042784444987773895, 0.009070022962987423, 0.009501303546130657, -0.05587974190711975, -0.05609097704291344, 0.007360052317380905, -0.004379709716886282, -0.011592053808271885, 0.01486967783421278, -0.0075310152024030685, -0.007676029112190008, -0.009515833109617233, -0.021011393517255783, -0.010786275379359722, 0.04307079315185547, -0.07418547570705414, 0.03954213485121727, 0.00596199557185173]}),\n",
              "  _DocumentWithState(page_content='current a nd future  needs of  society \" \\n \\nPromoting Corporate Social Responsibility at ACME CORP  must be perceived \\nas a way of: \\n \\n• Achieving  ACME CORP \\'s corporate  interest  and its strategic  goals.  \\n• Managing the company based on the ACME CORP  values of solvency, \\nintegrity,  vocation for service, innovation for leadership and committed team,', metadata={'doc_id': '64541e4e-c8b0-410a-bae0-6c619e2e5532', 'page': 2, 'source': '/content/drive/MyDrive/hrdocs/corporate-social-responsibility-policy.pdf', 'title': 'corporate-social-responsibility-policy', 'relevance_score': 0.977081}, state={'embedded_doc': [0.031948164105415344, 0.022741395980119705, -0.005246808286756277, -0.0591139979660511, 0.044340942054986954, 0.04790738597512245, 0.03307652845978737, 0.05010001361370087, -0.03041651099920273, -0.02765027806162834, 0.020806534215807915, -0.019345862790942192, -0.02906278893351555, -0.028975721448659897, -0.0033893329091370106, 0.046384554356336594, 0.016362641006708145, 0.02351970598101616, 0.033548712730407715, 0.07244289666414261, -0.026395797729492188, -0.05193845182657242, 0.0076277912594377995, 0.03520570322871208, -0.01827038824558258, -0.019821301102638245, -0.0049253893084824085, -0.014097223989665508, -0.06406735628843307, -0.10822140425443649, -0.04222996532917023, 0.01132932584732771, 0.06895435601472855, -0.01138338167220354, 0.07338963449001312, 0.008489813655614853, 0.017834344878792763, -0.0029162184800952673, -0.0787898451089859, 0.01145824696868658, -0.0543159581720829, -0.01757889986038208, 0.03604219853878021, -0.02420824021100998, -0.013211174868047237, 0.01717934012413025, 0.09015841037034988, -0.07321406155824661, -0.04889257997274399, -0.04026694968342781, 0.06580976396799088, -0.0018841740675270557, -0.05161752551794052, -0.009473549202084541, -0.010385607369244099, 0.06717758625745773, 0.02555735409259796, -0.02596433274447918, -0.016103195026516914, -0.044916730374097824, 0.07338520139455795, 0.027733096852898598, -0.1688898354768753, 0.05822761729359627, 0.01982809044420719, 0.07906706631183624, -0.032879624515771866, 0.024707961827516556, -0.07281605899333954, 0.0015866048634052277, 0.01839316636323929, -0.06560016423463821, 0.032000862061977386, 0.045514192432165146, 0.0008040477987378836, 0.07383668422698975, 0.02968272939324379, 0.048179686069488525, -0.01351949293166399, -0.0413244403898716, 0.02738303318619728, 0.023144448176026344, -0.0142197972163558, -0.02075270377099514, 0.03515522927045822, -0.06296633929014206, 0.06625484675168991, -0.03153332322835922, 0.0966746062040329, 0.005510243587195873, -0.019123082980513573, -0.00691751204431057, -0.06656773388385773, 0.016112759709358215, -0.010885734111070633, -0.036177292466163635, -0.00884123146533966, -0.014178838580846786, -0.054822422564029694, 0.33364954590797424, -0.0013613951159641147, 0.04918830841779709, 0.01448182575404644, -0.07763160765171051, -0.027371032163500786, -0.031249186024069786, 0.025824975222349167, 0.029360128566622734, 0.04035937413573265, 0.011121680028736591, -0.042406823486089706, -0.0037668347358703613, -0.0052449568174779415, -0.019197644665837288, 0.016268877312541008, 0.06068345531821251, -0.040237899869680405, 0.009552337229251862, 0.018743740394711494, -0.00951529759913683, 0.054189879447221756, -0.02658807672560215, 0.06077295169234276, -0.027713900431990623, -0.03384339064359665, -0.026109319180250168, 0.07611497491598129, 0.04137841612100601, 0.006894213147461414, 0.013115384615957737, 0.00028530912823043764, -0.022167451679706573, -0.02207038179039955, 0.016596101224422455, -0.01261409092694521, -0.007152121048420668, -0.003709683893248439, -0.037826552987098694, -0.014490150846540928, 0.03203441575169563, -0.017572961747646332, -0.020536238327622414, -0.002360419137403369, -0.11728392541408539, -0.09894342720508575, 0.06940039992332458, 0.024374742060899734, 0.015612651593983173, -0.07085119187831879, -0.012249059975147247, 0.03023143857717514, 0.0633176639676094, 0.03278804570436478, 0.01038768608123064, -0.06137944757938385, 0.0370197631418705, -0.001182450563646853, -0.05310237780213356, 0.008538930676877499, 0.012904741801321507, -0.006759169511497021, -0.02912551909685135, -0.011977367103099823, 0.14224010705947876, 0.01797969825565815, -0.08081100881099701, -0.007352884393185377, -0.04505409300327301, 0.06153234839439392, 0.025273971259593964, -0.056896645575761795, -0.02782292850315571, -0.007840877398848534, -0.03206664323806763, 0.0878504067659378, 0.0668298602104187, -0.02746272273361683, -0.03324311599135399, -0.007319755386561155, 0.024339571595191956, 0.08196862787008286, -0.02495260164141655, -0.01273000705987215, -0.0031560459174215794, 0.03326859325170517, 0.025235773995518684, -0.03919975087046623, -0.0051162694580852985, -0.02703116461634636, -0.03777183219790459, -0.02817543037235737, 0.09209468215703964, -0.028224032372236252, 0.047529932111501694, -0.034601494669914246, 0.04655509814620018, 0.03427628055214882, -0.0642857551574707, 0.024581139907240868, -0.04862058162689209, -0.06024925410747528, -0.013691895641386509, -0.034735165536403656, -0.01302119717001915, -0.0006015150574967265, 0.03741180896759033, 0.05292963609099388, -0.005834614392369986, 0.055562254041433334, 0.007029013242572546, -0.05365687981247902, 0.053643159568309784, 0.04438602551817894, 0.016967885196208954, 0.015291271731257439, 0.04044646769762039, 0.10055672377347946, 0.007106122560799122, 0.03242922201752663, 0.013700339943170547, 0.062111638486385345, 0.07655772566795349, -0.059241436421871185, -0.26903364062309265, 0.022829171270132065, -0.041723012924194336, 0.0014854707987979054, 0.04050087183713913, 0.10110855102539062, -0.0480029359459877, -0.01612277887761593, -0.03824460133910179, -0.02823086455464363, 0.08104072511196136, -0.044273409992456436, 0.02774706296622753, 0.013089868240058422, 0.03138991817831993, -0.040363263338804245, -0.04254402965307236, -0.033500786870718, 0.027139199897646904, -0.013579149730503559, -0.04724434018135071, 0.004974067211151123, 0.06506752967834473, 0.03798605129122734, 0.06360216438770294, -0.03798127546906471, 0.07504518330097198, 0.01156286709010601, -0.011741054244339466, 0.06594093888998032, -0.020455528050661087, 0.0683501809835434, 0.0036858071107417345, -0.10668119043111801, 0.028907280415296555, -0.05417550355195999, -0.05725833401083946, -0.018390394747257233, -0.04670310392975807, 0.03432661294937134, 0.014432127587497234, 0.04372448846697807, 0.008124281652271748, 0.01012401096522808, 0.009981699287891388, 0.0050291880033910275, -0.00860659871250391, 0.03303339332342148, -0.013871772214770317, 0.023649170994758606, 0.04815668985247612, -0.042156726121902466, -0.036598701030015945, 0.04915783926844597, -0.04779801145195961, -0.024234162643551826, -0.03879973664879799, -0.0015181286726146936, -0.061880096793174744, -0.02201690711081028, -0.021219251677393913, 0.01482878252863884, -0.006430582609027624, -0.029162494465708733, 0.04400729760527611, -0.01134243793785572, -0.05266675725579262, 0.008182731457054615, -0.026127077639102936, -0.01610937900841236, -0.014598348177969456, 0.03808605298399925, -0.004402211867272854, -0.10901587456464767, -0.015547793358564377, -0.04515194892883301, -0.0565456859767437, -0.020559152588248253, 0.008182105608284473, 0.04797615855932236, 0.027889788150787354, 0.06577203422784805, 0.015212589874863625, 0.039113953709602356, -0.03323851153254509, -0.0224300567060709, -0.09041862189769745, -0.006751438602805138, 0.008002743124961853, 0.005156352650374174, 0.057394810020923615, 0.013382821343839169, 0.003555509727448225, -0.06080765277147293, 0.00784920435398817, 0.0046952650882303715, -0.24531683325767517, -0.07745878398418427, -0.027134239673614502, 0.016455885022878647, -0.04142977297306061, -0.024969078600406647, 0.04144023358821869, -0.044020723551511765, -0.02212195284664631, 0.11584948748350143, 0.02068752609193325, 0.03341186046600342, 0.07324901968240738, -0.024362653493881226, 0.010393542237579823, -0.02319413051009178, 0.023069633170962334, -0.08397030830383301, -0.005304949823766947, -0.04409006983041763, 0.029551459476351738, 0.016212718561291695, 0.18050815165042877, 0.01493894960731268, 0.006496261805295944, 0.01648939773440361, -0.08384822309017181, 0.045217834413051605, -0.01680605672299862, 0.05517693981528282, 0.11449136584997177, -0.053174760192632675, 0.05413828045129776, -0.006097299978137016, 0.0457436703145504, 0.00934108067303896, 0.003429795615375042, 0.0226078312844038, -0.019110416993498802, -0.02475660666823387, -0.032567668706178665, 0.03690091520547867, 0.025246839970350266, -0.01831011101603508, 0.04679502919316292, -0.04668158292770386, 0.00024344360281247646, -0.04135299474000931, 0.02124352566897869, -0.03197106719017029, -0.10651406645774841, -0.046132396906614304, 0.03650892525911331, -0.0346994549036026, -0.001226757769472897, 0.03236894682049751, -0.05087040364742279, -0.023451467975974083, 0.006698940880596638, -0.0018660081550478935, -0.023553557693958282, 0.026809612289071083, -0.055125731974840164, 0.07629762589931488, 0.04867405816912651]})]}"
            ]
          },
          "metadata": {},
          "execution_count": 45
        }
      ]
    },
    {
      "cell_type": "code",
      "source": [
        "response.keys()"
      ],
      "metadata": {
        "colab": {
          "base_uri": "https://localhost:8080/"
        },
        "id": "0A_i5bG26lKy",
        "outputId": "e18d75b6-8a2d-4e82-a379-f177d22d9c92"
      },
      "execution_count": 46,
      "outputs": [
        {
          "output_type": "execute_result",
          "data": {
            "text/plain": [
              "dict_keys(['query', 'result', 'source_documents'])"
            ]
          },
          "metadata": {},
          "execution_count": 46
        }
      ]
    },
    {
      "cell_type": "code",
      "source": [
        "response['source_documents'][0].page_content"
      ],
      "metadata": {
        "colab": {
          "base_uri": "https://localhost:8080/",
          "height": 140
        },
        "id": "M0XkTgfz6980",
        "outputId": "23d76e53-2da5-44dc-b1ff-25b5c0b5b8d4"
      },
      "execution_count": 52,
      "outputs": [
        {
          "output_type": "execute_result",
          "data": {
            "text/plain": [
              "'INTRODUCTION   \\n \\nSocial responsibility allows the company\\'s business interests to be reconciled  \\nwith the legitimate interests of the different stakeholders that may be affected,  \\nand also assumes the impact of the company\\'s activities on the community in  \\ngeneral  and the environment.  \\n \\nThe present Corporate Social Responsibility Policy (hereinafter, “CSR Policy”)  \\nintends to establish a reference framework, from which any ACME CORP  \\ncompany can develop and strengthen socially responsible behavior, regardless  \\nof the way — convent ional and/or digital — the business is carried out and the  \\ncountry  it operates  in, locally  adapting  any actions  that are necessary  for \\ncompliance with  it. \\n \\n \\n  GOALS   \\n \\nACME CORP  defines  its social  responsibility  as a \"voluntary  and strategic  \\ncommitment that entails attempting to achieve business targets while complying  \\nstrictly with its legal and contractual obligations, applying criteria of equity and  \\nstability to relationships with its stakeholders, thus contributing to meeting the  \\ncurrent a nd future  needs of  society \" \\n \\nPromoting Corporate Social Responsibility at ACME CORP  must be perceived \\nas a way of: \\n \\n• Achieving  ACME CORP \\'s corporate  interest  and its strategic  goals.  \\n• Managing the company based on the ACME CORP  values of solvency, \\nintegrity,  vocation for service, innovation for leadership and committed team, \\nwhich  must  be present  in any business  project  that is carried out.  \\n• Establishing relationships of stability and equality with stakeholders related to  \\nthe company,  mainly  those  defined  in the mission 1 : shareholders,  \\nemployees, providers,  distributors,  clients  and society.  \\n• Managing the risks and business opportunities arising from the development  \\nof the environment in which ACME CORP  does business, assuming the \\nimpact it  generates on society and the environment, maximizing the positives \\nand minimizing  the negatives.'"
            ],
            "application/vnd.google.colaboratory.intrinsic+json": {
              "type": "string"
            }
          },
          "metadata": {},
          "execution_count": 52
        }
      ]
    },
    {
      "cell_type": "code",
      "source": [
        "response['source_documents'][0].metadata"
      ],
      "metadata": {
        "colab": {
          "base_uri": "https://localhost:8080/"
        },
        "id": "5B8WSUmr7ZPA",
        "outputId": "f937a61d-c0d2-4f3c-e031-80ebc850f01b"
      },
      "execution_count": 53,
      "outputs": [
        {
          "output_type": "execute_result",
          "data": {
            "text/plain": [
              "{'source': '/content/drive/MyDrive/hrdocs/corporate-social-responsibility-policy.pdf',\n",
              " 'page': 2,\n",
              " 'title': 'corporate-social-responsibility-policy',\n",
              " 'relevance_score': 0.9973786}"
            ]
          },
          "metadata": {},
          "execution_count": 53
        }
      ]
    },
    {
      "cell_type": "code",
      "source": [
        "Final_Response = {\"query\":response['query'],\n",
        "                  \"response\":response['result'],\n",
        "                  \"Source\":[doc.page_content for doc in response['source_documents']],\n",
        "                  \"Source_metadata\":[doc.metadata['source'] for doc in response['source_documents']],\n",
        "                  \"Source_relevance_score\":[doc.metadata['relevance_score'] for doc in response['source_documents']],\n",
        "                  }"
      ],
      "metadata": {
        "id": "eFQW0kMl6X-j"
      },
      "execution_count": 54,
      "outputs": []
    },
    {
      "cell_type": "markdown",
      "source": [
        "#### Final Response"
      ],
      "metadata": {
        "id": "H6HADaW46gAt"
      }
    },
    {
      "cell_type": "code",
      "source": [
        "Final_Response"
      ],
      "metadata": {
        "colab": {
          "base_uri": "https://localhost:8080/"
        },
        "id": "X4o3-BF57wNN",
        "outputId": "3f79e1c8-2ec4-4e7d-86c9-c9cd7e812add"
      },
      "execution_count": 55,
      "outputs": [
        {
          "output_type": "execute_result",
          "data": {
            "text/plain": [
              "{'query': 'How ACME CORP has defined its social responsibility?',\n",
              " 'response': ' ACME CORP defines its social responsibility as a \"voluntary and strategic commitment that entails attempting to achieve business targets while complying strictly with its legal and contractual obligations, applying criteria of equity and stability to relationships with its stakeholders, thus contributing to meeting the current and future needs of society.\"',\n",
              " 'Source': ['INTRODUCTION   \\n \\nSocial responsibility allows the company\\'s business interests to be reconciled  \\nwith the legitimate interests of the different stakeholders that may be affected,  \\nand also assumes the impact of the company\\'s activities on the community in  \\ngeneral  and the environment.  \\n \\nThe present Corporate Social Responsibility Policy (hereinafter, “CSR Policy”)  \\nintends to establish a reference framework, from which any ACME CORP  \\ncompany can develop and strengthen socially responsible behavior, regardless  \\nof the way — convent ional and/or digital — the business is carried out and the  \\ncountry  it operates  in, locally  adapting  any actions  that are necessary  for \\ncompliance with  it. \\n \\n \\n  GOALS   \\n \\nACME CORP  defines  its social  responsibility  as a \"voluntary  and strategic  \\ncommitment that entails attempting to achieve business targets while complying  \\nstrictly with its legal and contractual obligations, applying criteria of equity and  \\nstability to relationships with its stakeholders, thus contributing to meeting the  \\ncurrent a nd future  needs of  society \" \\n \\nPromoting Corporate Social Responsibility at ACME CORP  must be perceived \\nas a way of: \\n \\n• Achieving  ACME CORP \\'s corporate  interest  and its strategic  goals.  \\n• Managing the company based on the ACME CORP  values of solvency, \\nintegrity,  vocation for service, innovation for leadership and committed team, \\nwhich  must  be present  in any business  project  that is carried out.  \\n• Establishing relationships of stability and equality with stakeholders related to  \\nthe company,  mainly  those  defined  in the mission 1 : shareholders,  \\nemployees, providers,  distributors,  clients  and society.  \\n• Managing the risks and business opportunities arising from the development  \\nof the environment in which ACME CORP  does business, assuming the \\nimpact it  generates on society and the environment, maximizing the positives \\nand minimizing  the negatives.',\n",
              "  'country  it operates  in, locally  adapting  any actions  that are necessary  for \\ncompliance with  it. \\n \\n \\n  GOALS   \\n \\nACME CORP  defines  its social  responsibility  as a \"voluntary  and strategic  \\ncommitment that entails attempting to achieve business targets while complying  \\nstrictly with its legal and contractual obligations, applying criteria of equity and',\n",
              "  'current a nd future  needs of  society \" \\n \\nPromoting Corporate Social Responsibility at ACME CORP  must be perceived \\nas a way of: \\n \\n• Achieving  ACME CORP \\'s corporate  interest  and its strategic  goals.  \\n• Managing the company based on the ACME CORP  values of solvency, \\nintegrity,  vocation for service, innovation for leadership and committed team,'],\n",
              " 'Source_metadata': ['/content/drive/MyDrive/hrdocs/corporate-social-responsibility-policy.pdf',\n",
              "  '/content/drive/MyDrive/hrdocs/corporate-social-responsibility-policy.pdf',\n",
              "  '/content/drive/MyDrive/hrdocs/corporate-social-responsibility-policy.pdf'],\n",
              " 'Source_relevance_score': [0.9973786, 0.99479914, 0.977081]}"
            ]
          },
          "metadata": {},
          "execution_count": 55
        }
      ]
    },
    {
      "cell_type": "markdown",
      "source": [
        "## Load the Vectorstore"
      ],
      "metadata": {
        "id": "uf0tWErl_c3n"
      }
    },
    {
      "cell_type": "code",
      "source": [
        "vs =  Chroma(embedding_function=embeddings,\n",
        "                     persist_directory=\"/content/drive/MyDrive/Vectorstore/chroma_full\",\n",
        "                     collection_name=\"full_documents\")"
      ],
      "metadata": {
        "id": "4SOzeY8S7xu8"
      },
      "execution_count": 68,
      "outputs": []
    },
    {
      "cell_type": "code",
      "source": [
        "len(vs.get()['documents'])"
      ],
      "metadata": {
        "colab": {
          "base_uri": "https://localhost:8080/"
        },
        "id": "NKPMM8r0_m2X",
        "outputId": "15608bbf-8341-4f66-895b-448f5ed2286e"
      },
      "execution_count": 69,
      "outputs": [
        {
          "output_type": "execute_result",
          "data": {
            "text/plain": [
              "3008"
            ]
          },
          "metadata": {},
          "execution_count": 69
        }
      ]
    },
    {
      "cell_type": "markdown",
      "source": [
        "## Reload the retriever"
      ],
      "metadata": {
        "id": "Ci4inbLM_3Zh"
      }
    },
    {
      "cell_type": "code",
      "source": [
        "retriever_load = ParentDocumentRetriever(vectorstore=vs,\n",
        "                                    docstore=store,\n",
        "                                    parent_splitter=parent_splitter,\n",
        "                                    child_splitter=child_splitter,)"
      ],
      "metadata": {
        "id": "8pLnIViM_qnZ"
      },
      "execution_count": 70,
      "outputs": []
    },
    {
      "cell_type": "markdown",
      "source": [
        "## Check if the reload has happened properly"
      ],
      "metadata": {
        "id": "sdlDNRwyADcg"
      }
    },
    {
      "cell_type": "code",
      "source": [
        "pretty_print_docs(retriever_load.get_relevant_documents(query))"
      ],
      "metadata": {
        "colab": {
          "base_uri": "https://localhost:8080/"
        },
        "id": "_9b1HvXoAGxN",
        "outputId": "4c1a3219-dfc0-42c1-b270-043b0bee7918"
      },
      "execution_count": 71,
      "outputs": [
        {
          "output_type": "stream",
          "name": "stdout",
          "text": [
            "Document 1:\n",
            "\n",
            " + Corporate social responsibility Acme Corp policy\n",
            "\n",
            "This Corporate Social Responsibility Acme Corp policy template is ready to be tailored to your Acme Corp’s needs and should be considered a starting point for setting up your social responsibility employment policies.\n",
            "\n",
            " Policy brief & purpose\n",
            "\n",
            "Our Corporate Social Responsibility (CSR) Acme Corp policy refers to our responsibility toward our environment. Our Acme Corp’s existence is not lonely. It's part of a bigger system of people, values, other organizations and nature. The social responsibility of a business is  to give back to the world just as it gives to us.\n",
            "\n",
            "What is corporate social responsibility?\n",
            "\n",
            "Our Corporate Social Responsibility (CSR) Acme Corp policy outlines our efforts to give back to the world as it gives to us.\n",
            "\n",
            "Scope\n",
            "\n",
            "This policy applies to our Acme Corp and its subsidiaries. It may also refer to suppliers and partners.\n",
            "\n",
            "Policy elements\n",
            "\n",
            "We want to be a responsible business that meets the highest standards of ethics and professionalism.\n",
            "\n",
            "Our Acme Corp’s social responsibility falls under two categories: compliance and proactiveness. Compliance refers to our Acme Corp’s commitment to legality and willingness to observe community values. Proactiveness is every initiative to promote human rights, help communities and protect our natural environment.\n",
            "\n",
            "Compliance\n",
            "\n",
            "Legality\n",
            "\n",
            "Our Acme Corp will:\n",
            "\n",
            "Respect the law\n",
            "\n",
            "Honor its internal policies\n",
            "\n",
            "Ensure that all its business operations are legitimate\n",
            "\n",
            "Keep every partnership and collaboration open and transparent\n",
            "\n",
            "Business ethics\n",
            "\n",
            "We'll always conduct business with integrity and respect to human rights. We'll promote:\n",
            "\n",
            "Safety and fair dealing\n",
            "\n",
            "Respect toward the consumer\n",
            "\n",
            "Anti-bribery and anti-corruption practices\n",
            "\n",
            "Examples of Corporate Social Responsibility\n",
            "\n",
            "Protecting the environment\n",
            "----------------------------------------------------------------------------------------------------\n",
            "Document 2:\n",
            "\n",
            " + INTRODUCTION   \n",
            " \n",
            "Social responsibility allows the company's business interests to be reconciled  \n",
            "with the legitimate interests of the different stakeholders that may be affected,  \n",
            "and also assumes the impact of the company's activities on the community in  \n",
            "general  and the environment.  \n",
            " \n",
            "The present Corporate Social Responsibility Policy (hereinafter, “CSR Policy”)  \n",
            "intends to establish a reference framework, from which any ACME CORP  \n",
            "company can develop and strengthen socially responsible behavior, regardless  \n",
            "of the way — convent ional and/or digital — the business is carried out and the  \n",
            "country  it operates  in, locally  adapting  any actions  that are necessary  for \n",
            "compliance with  it. \n",
            " \n",
            " \n",
            "  GOALS   \n",
            " \n",
            "ACME CORP  defines  its social  responsibility  as a \"voluntary  and strategic  \n",
            "commitment that entails attempting to achieve business targets while complying  \n",
            "strictly with its legal and contractual obligations, applying criteria of equity and  \n",
            "stability to relationships with its stakeholders, thus contributing to meeting the  \n",
            "current a nd future  needs of  society \" \n",
            " \n",
            "Promoting Corporate Social Responsibility at ACME CORP  must be perceived \n",
            "as a way of: \n",
            " \n",
            "• Achieving  ACME CORP 's corporate  interest  and its strategic  goals.  \n",
            "• Managing the company based on the ACME CORP  values of solvency, \n",
            "integrity,  vocation for service, innovation for leadership and committed team, \n",
            "which  must  be present  in any business  project  that is carried out.  \n",
            "• Establishing relationships of stability and equality with stakeholders related to  \n",
            "the company,  mainly  those  defined  in the mission 1 : shareholders,  \n",
            "employees, providers,  distributors,  clients  and society.  \n",
            "• Managing the risks and business opportunities arising from the development  \n",
            "of the environment in which ACME CORP  does business, assuming the \n",
            "impact it  generates on society and the environment, maximizing the positives \n",
            "and minimizing  the negatives.\n"
          ]
        }
      ]
    },
    {
      "cell_type": "markdown",
      "source": [
        "#### Reload the contextual Compression Pipeline"
      ],
      "metadata": {
        "id": "g0_TB1xuA6Id"
      }
    },
    {
      "cell_type": "code",
      "source": [
        "#\n",
        "source_name = \"transport-policy\"\n",
        "vs_retriever = vs.as_retriever(search_kwargs={\"k\":10,\"filter\":{'title':source_name},})\n",
        "#\n",
        "retriever_load.search_kwargs = {\"k\":10,\"filter\":{'title':source_name},}\n",
        "#\n",
        "ensemble_retriever = EnsembleRetriever(retrievers=[bm25_retriever,vs_retriever,retriever_load],\n",
        "                                       weight=[0.5,0.5,0.1])\n",
        "#\n",
        "redundant_filter = EmbeddingsRedundantFilter(embeddings=embeddings)\n",
        "#\n",
        "reordering = LongContextReorder()\n",
        "#\n",
        "reranker = BgeRerank()\n",
        "#\n",
        "pipeline_compressor = DocumentCompressorPipeline(transformers=[redundant_filter,reordering,reranker])\n",
        "#\n",
        "compression_pipeline = ContextualCompressionRetriever(base_compressor=pipeline_compressor,\n",
        "                                                      base_retriever=ensemble_retriever,\n",
        "                                                      metadata={\"title\":source_name},\n",
        ")"
      ],
      "metadata": {
        "id": "OYgQdyOnAIaK"
      },
      "execution_count": 72,
      "outputs": []
    },
    {
      "cell_type": "markdown",
      "source": [
        "#### Check if we are able to load documents from compressor pipeline"
      ],
      "metadata": {
        "id": "rcAgPkqSBttE"
      }
    },
    {
      "cell_type": "code",
      "source": [
        "query =\"What is the transportaion policy or procedure?\"\n",
        "pretty_print_docs(compression_pipeline.get_relevant_documents(query))"
      ],
      "metadata": {
        "colab": {
          "base_uri": "https://localhost:8080/"
        },
        "id": "l03ynCL0B0qa",
        "outputId": "a677b2e5-66f1-445a-c184-a0a3d36da89f"
      },
      "execution_count": 73,
      "outputs": [
        {
          "output_type": "stream",
          "name": "stdout",
          "text": [
            "Document 1:\n",
            "\n",
            " + 4.\tPolicy /Procedure guidelines\t4\n",
            "\n",
            "\t\t5.\tReview and Revision:\t6\n",
            "\n",
            "\t\t6.\tNon-compliance and consequences\t6\n",
            "\n",
            "\n",
            "\n",
            "\n",
            "\n",
            "\n",
            "\n",
            "\n",
            "\n",
            "\n",
            "\n",
            "\n",
            "\n",
            "\n",
            "\n",
            "\n",
            "\n",
            "\n",
            "\n",
            "\n",
            "\n",
            "\n",
            "\n",
            "\n",
            "\n",
            "\n",
            "\n",
            "\n",
            "Objective\n",
            "\n",
            "\n",
            "\n",
            "Acme Corp endeavors to constantly provide the best of facilities and benefits to its employees. The Transport policy provides guidelines to employees and the Transport management team with regards to the eligibility and procedures to be followed.\n",
            "----------------------------------------------------------------------------------------------------\n",
            "Document 2:\n",
            "\n",
            " + Acme Corp\n",
            "\n",
            "\n",
            "HR Policy \n",
            "\n",
            "\n",
            "\n",
            "\n",
            "\n",
            "\n",
            "\n",
            "\n",
            "\n",
            "Transport policy\n",
            "\n",
            "\n",
            "\n",
            "Policy Effective Date: <DD/MM/YY>\n",
            "\n",
            "\n",
            "\n",
            "\n",
            "\n",
            "No part of this documentation may be reproduced or transmitted in any form or by any means, electronic or mechanical, including photocopying or recording, for any purpose without express written permission of the CEO of Acme Corp.\n",
            "\n",
            "\n",
            "\n",
            "© 2021, Acme Corp. All Rights Reserved \n",
            "\n",
            "\n",
            "\n",
            "Revision History\n",
            "\n",
            " \n",
            "\n",
            "Ver No.\n",
            "\n",
            "Change Description\n",
            "\n",
            "Prepared By\n",
            "\n",
            "Reviewed By\n",
            "\n",
            "Approved By\n",
            "\n",
            "Date\n",
            "\n",
            "\n",
            "\n",
            "\n",
            "\n",
            "\n",
            "\n",
            "\n",
            "\n",
            "\n",
            "\n",
            "\n",
            "\n",
            " \n",
            "\n",
            "\n",
            "\n",
            "\n",
            "\n",
            "\n",
            "TABLE OF CONTENTS\n",
            "\n",
            "\n",
            "\n",
            "\t\t1.\tObjective\t4\n",
            "\n",
            "\t\t2.\tScope and Applicability\t4\n",
            "\n",
            "\t\t3.\tDefinition / Glossary\t4\n",
            "\n",
            "\t\t4.\tPolicy /Procedure guidelines\t4\n",
            "\n",
            "\t\t5.\tReview and Revision:\t6\n",
            "\n",
            "\t\t6.\tNon-compliance and consequences\t6\n",
            "\n",
            "\n",
            "\n",
            "\n",
            "\n",
            "\n",
            "\n",
            "\n",
            "\n",
            "\n",
            "\n",
            "\n",
            "\n",
            "\n",
            "\n",
            "\n",
            "\n",
            "\n",
            "\n",
            "\n",
            "\n",
            "\n",
            "\n",
            "\n",
            "\n",
            "\n",
            "\n",
            "\n",
            "Objective\n",
            "\n",
            "\n",
            "\n",
            "Acme Corp endeavors to constantly provide the best of facilities and benefits to its employees. The Transport policy provides guidelines to employees and the Transport management team with regards to the eligibility and procedures to be followed.\n",
            "\n",
            "Scope and Applicability\n",
            "\n",
            "This Policy is applicable to all regular employees of the organisation.\n",
            "\n",
            "Definition / Glossary\n",
            "\n",
            "\n",
            "\n",
            "Term / Abbreviation\n",
            "\n",
            "Definition / Expansion\n",
            "\n",
            "\n",
            "\n",
            "\n",
            "\n",
            "\n",
            "\n",
            "\n",
            "\n",
            "Policy / Procedure\n",
            "\n",
            "Employees working in shifts are required to use the transport facility in order to maintain shift continuity, work timelines & to ensure availability at site\n",
            "\n",
            "Women working in late / early / night shifts have to mandatorily avail Acme Corp’s transport facility for their own safety and security.\n",
            "\n",
            "Employee’s wishing to avail transport facility should contact the Transport management team to register themselves. However, Acme Corp may or may not approve such requests depending on availability, situation and criticality.\n",
            "\n",
            "All details with regards to pickup and drop points, timings, type of vehicle, etc will be dealt with by the Transport management team.\n",
            "----------------------------------------------------------------------------------------------------\n",
            "Document 3:\n",
            "\n",
            " + Scope and Applicability\n",
            "\n",
            "This Policy is applicable to all regular employees of the organisation.\n",
            "\n",
            "Definition / Glossary\n",
            "\n",
            "\n",
            "\n",
            "Term / Abbreviation\n",
            "\n",
            "Definition / Expansion\n",
            "\n",
            "\n",
            "\n",
            "\n",
            "\n",
            "\n",
            "\n",
            "\n",
            "\n",
            "Policy / Procedure\n",
            "\n",
            "Employees working in shifts are required to use the transport facility in order to maintain shift continuity, work timelines & to ensure availability at site\n"
          ]
        }
      ]
    }
  ]
}