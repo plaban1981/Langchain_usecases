{
  "cells": [
    {
      "cell_type": "markdown",
      "metadata": {
        "id": "view-in-github",
        "colab_type": "text"
      },
      "source": [
        "<a href=\"https://colab.research.google.com/github/plaban1981/Langchain_usecases/blob/main/Talk_to_datasets_worldbank_project_documents.ipynb\" target=\"_parent\"><img src=\"https://colab.research.google.com/assets/colab-badge.svg\" alt=\"Open In Colab\"/></a>"
      ]
    },
    {
      "cell_type": "markdown",
      "metadata": {
        "id": "IQ1lMMtOq5TL"
      },
      "source": [
        "## Install required dependencies"
      ]
    },
    {
      "cell_type": "code",
      "execution_count": 1,
      "metadata": {
        "colab": {
          "base_uri": "https://localhost:8080/"
        },
        "id": "q4v3fgzZqiwS",
        "outputId": "5cfa0810-9c69-4a68-ed7a-e5d9dd6921b4"
      },
      "outputs": [
        {
          "output_type": "stream",
          "name": "stdout",
          "text": [
            "\u001b[?25l     \u001b[90m━━━━━━━━━━━━━━━━━━━━━━━━━━━━━━━━━━━━━━━━\u001b[0m \u001b[32m0.0/1.9 MB\u001b[0m \u001b[31m?\u001b[0m eta \u001b[36m-:--:--\u001b[0m\r\u001b[2K     \u001b[91m━\u001b[0m\u001b[91m╸\u001b[0m\u001b[90m━━━━━━━━━━━━━━━━━━━━━━━━━━━━━━━━━━━━━━\u001b[0m \u001b[32m0.1/1.9 MB\u001b[0m \u001b[31m3.2 MB/s\u001b[0m eta \u001b[36m0:00:01\u001b[0m\r\u001b[2K     \u001b[91m━━━━━━━━━━━━━━━━━━━━━━━━━━━━━━━━━━━━━━━\u001b[0m\u001b[91m╸\u001b[0m \u001b[32m1.9/1.9 MB\u001b[0m \u001b[31m32.9 MB/s\u001b[0m eta \u001b[36m0:00:01\u001b[0m\r\u001b[2K     \u001b[90m━━━━━━━━━━━━━━━━━━━━━━━━━━━━━━━━━━━━━━━━\u001b[0m \u001b[32m1.9/1.9 MB\u001b[0m \u001b[31m26.6 MB/s\u001b[0m eta \u001b[36m0:00:00\u001b[0m\n",
            "\u001b[2K     \u001b[90m━━━━━━━━━━━━━━━━━━━━━━━━━━━━━━━━━━━━━━━━\u001b[0m \u001b[32m302.0/302.0 kB\u001b[0m \u001b[31m35.9 MB/s\u001b[0m eta \u001b[36m0:00:00\u001b[0m\n",
            "\u001b[2K     \u001b[90m━━━━━━━━━━━━━━━━━━━━━━━━━━━━━━━━━━━━━━━━\u001b[0m \u001b[32m479.8/479.8 kB\u001b[0m \u001b[31m46.2 MB/s\u001b[0m eta \u001b[36m0:00:00\u001b[0m\n",
            "\u001b[2K     \u001b[90m━━━━━━━━━━━━━━━━━━━━━━━━━━━━━━━━━━━━━━━━\u001b[0m \u001b[32m277.4/277.4 kB\u001b[0m \u001b[31m34.1 MB/s\u001b[0m eta \u001b[36m0:00:00\u001b[0m\n",
            "\u001b[2K     \u001b[90m━━━━━━━━━━━━━━━━━━━━━━━━━━━━━━━━━━━━━━━━\u001b[0m \u001b[32m86.0/86.0 kB\u001b[0m \u001b[31m13.5 MB/s\u001b[0m eta \u001b[36m0:00:00\u001b[0m\n",
            "\u001b[?25h  Preparing metadata (setup.py) ... \u001b[?25l\u001b[?25hdone\n",
            "\u001b[2K     \u001b[90m━━━━━━━━━━━━━━━━━━━━━━━━━━━━━━━━━━━━━━━━\u001b[0m \u001b[32m261.0/261.0 kB\u001b[0m \u001b[31m31.5 MB/s\u001b[0m eta \u001b[36m0:00:00\u001b[0m\n",
            "\u001b[2K     \u001b[90m━━━━━━━━━━━━━━━━━━━━━━━━━━━━━━━━━━━━━━━━\u001b[0m \u001b[32m9.9/9.9 MB\u001b[0m \u001b[31m114.5 MB/s\u001b[0m eta \u001b[36m0:00:00\u001b[0m\n",
            "\u001b[2K     \u001b[90m━━━━━━━━━━━━━━━━━━━━━━━━━━━━━━━━━━━━━━━━\u001b[0m \u001b[32m493.7/493.7 kB\u001b[0m \u001b[31m53.0 MB/s\u001b[0m eta \u001b[36m0:00:00\u001b[0m\n",
            "\u001b[2K     \u001b[90m━━━━━━━━━━━━━━━━━━━━━━━━━━━━━━━━━━━━━━━━\u001b[0m \u001b[32m77.0/77.0 kB\u001b[0m \u001b[31m11.5 MB/s\u001b[0m eta \u001b[36m0:00:00\u001b[0m\n",
            "\u001b[2K     \u001b[90m━━━━━━━━━━━━━━━━━━━━━━━━━━━━━━━━━━━━━━━━\u001b[0m \u001b[32m2.0/2.0 MB\u001b[0m \u001b[31m89.1 MB/s\u001b[0m eta \u001b[36m0:00:00\u001b[0m\n",
            "\u001b[2K     \u001b[90m━━━━━━━━━━━━━━━━━━━━━━━━━━━━━━━━━━━━━━━━\u001b[0m \u001b[32m111.6/111.6 kB\u001b[0m \u001b[31m15.7 MB/s\u001b[0m eta \u001b[36m0:00:00\u001b[0m\n",
            "\u001b[2K     \u001b[90m━━━━━━━━━━━━━━━━━━━━━━━━━━━━━━━━━━━━━━━━\u001b[0m \u001b[32m43.3/43.3 kB\u001b[0m \u001b[31m5.8 MB/s\u001b[0m eta \u001b[36m0:00:00\u001b[0m\n",
            "\u001b[2K     \u001b[90m━━━━━━━━━━━━━━━━━━━━━━━━━━━━━━━━━━━━━━━━\u001b[0m \u001b[32m2.4/2.4 MB\u001b[0m \u001b[31m95.7 MB/s\u001b[0m eta \u001b[36m0:00:00\u001b[0m\n",
            "\u001b[2K     \u001b[90m━━━━━━━━━━━━━━━━━━━━━━━━━━━━━━━━━━━━━━━━\u001b[0m \u001b[32m92.9/92.9 kB\u001b[0m \u001b[31m12.3 MB/s\u001b[0m eta \u001b[36m0:00:00\u001b[0m\n",
            "\u001b[2K     \u001b[90m━━━━━━━━━━━━━━━━━━━━━━━━━━━━━━━━━━━━━━━━\u001b[0m \u001b[32m59.5/59.5 kB\u001b[0m \u001b[31m8.1 MB/s\u001b[0m eta \u001b[36m0:00:00\u001b[0m\n",
            "\u001b[2K     \u001b[90m━━━━━━━━━━━━━━━━━━━━━━━━━━━━━━━━━━━━━━━━\u001b[0m \u001b[32m5.4/5.4 MB\u001b[0m \u001b[31m94.9 MB/s\u001b[0m eta \u001b[36m0:00:00\u001b[0m\n",
            "\u001b[2K     \u001b[90m━━━━━━━━━━━━━━━━━━━━━━━━━━━━━━━━━━━━━━━━\u001b[0m \u001b[32m6.2/6.2 MB\u001b[0m \u001b[31m123.4 MB/s\u001b[0m eta \u001b[36m0:00:00\u001b[0m\n",
            "\u001b[2K     \u001b[90m━━━━━━━━━━━━━━━━━━━━━━━━━━━━━━━━━━━━━━━━\u001b[0m \u001b[32m57.5/57.5 kB\u001b[0m \u001b[31m8.1 MB/s\u001b[0m eta \u001b[36m0:00:00\u001b[0m\n",
            "\u001b[2K     \u001b[90m━━━━━━━━━━━━━━━━━━━━━━━━━━━━━━━━━━━━━━━━\u001b[0m \u001b[32m103.9/103.9 kB\u001b[0m \u001b[31m14.2 MB/s\u001b[0m eta \u001b[36m0:00:00\u001b[0m\n",
            "\u001b[2K     \u001b[90m━━━━━━━━━━━━━━━━━━━━━━━━━━━━━━━━━━━━━━━━\u001b[0m \u001b[32m3.8/3.8 MB\u001b[0m \u001b[31m106.5 MB/s\u001b[0m eta \u001b[36m0:00:00\u001b[0m\n",
            "\u001b[2K     \u001b[90m━━━━━━━━━━━━━━━━━━━━━━━━━━━━━━━━━━━━━━━━\u001b[0m \u001b[32m67.3/67.3 kB\u001b[0m \u001b[31m10.1 MB/s\u001b[0m eta \u001b[36m0:00:00\u001b[0m\n",
            "\u001b[?25h  Installing build dependencies ... \u001b[?25l\u001b[?25hdone\n",
            "  Getting requirements to build wheel ... \u001b[?25l\u001b[?25hdone\n",
            "  Preparing metadata (pyproject.toml) ... \u001b[?25l\u001b[?25hdone\n",
            "\u001b[2K     \u001b[90m━━━━━━━━━━━━━━━━━━━━━━━━━━━━━━━━━━━━━━━━\u001b[0m \u001b[32m593.7/593.7 kB\u001b[0m \u001b[31m58.1 MB/s\u001b[0m eta \u001b[36m0:00:00\u001b[0m\n",
            "\u001b[2K     \u001b[90m━━━━━━━━━━━━━━━━━━━━━━━━━━━━━━━━━━━━━━━━\u001b[0m \u001b[32m1.6/1.6 MB\u001b[0m \u001b[31m93.8 MB/s\u001b[0m eta \u001b[36m0:00:00\u001b[0m\n",
            "\u001b[2K     \u001b[90m━━━━━━━━━━━━━━━━━━━━━━━━━━━━━━━━━━━━━━━━\u001b[0m \u001b[32m7.7/7.7 MB\u001b[0m \u001b[31m136.2 MB/s\u001b[0m eta \u001b[36m0:00:00\u001b[0m\n",
            "\u001b[2K     \u001b[90m━━━━━━━━━━━━━━━━━━━━━━━━━━━━━━━━━━━━━━━━\u001b[0m \u001b[32m1.3/1.3 MB\u001b[0m \u001b[31m90.6 MB/s\u001b[0m eta \u001b[36m0:00:00\u001b[0m\n",
            "\u001b[2K     \u001b[90m━━━━━━━━━━━━━━━━━━━━━━━━━━━━━━━━━━━━━━━━\u001b[0m \u001b[32m115.3/115.3 kB\u001b[0m \u001b[31m16.8 MB/s\u001b[0m eta \u001b[36m0:00:00\u001b[0m\n",
            "\u001b[2K     \u001b[90m━━━━━━━━━━━━━━━━━━━━━━━━━━━━━━━━━━━━━━━━\u001b[0m \u001b[32m134.8/134.8 kB\u001b[0m \u001b[31m19.8 MB/s\u001b[0m eta \u001b[36m0:00:00\u001b[0m\n",
            "\u001b[2K     \u001b[90m━━━━━━━━━━━━━━━━━━━━━━━━━━━━━━━━━━━━━━━━\u001b[0m \u001b[32m49.4/49.4 kB\u001b[0m \u001b[31m7.1 MB/s\u001b[0m eta \u001b[36m0:00:00\u001b[0m\n",
            "\u001b[2K     \u001b[90m━━━━━━━━━━━━━━━━━━━━━━━━━━━━━━━━━━━━━━━━\u001b[0m \u001b[32m67.0/67.0 kB\u001b[0m \u001b[31m10.0 MB/s\u001b[0m eta \u001b[36m0:00:00\u001b[0m\n",
            "\u001b[2K     \u001b[90m━━━━━━━━━━━━━━━━━━━━━━━━━━━━━━━━━━━━━━━━\u001b[0m \u001b[32m143.8/143.8 kB\u001b[0m \u001b[31m20.7 MB/s\u001b[0m eta \u001b[36m0:00:00\u001b[0m\n",
            "\u001b[2K     \u001b[90m━━━━━━━━━━━━━━━━━━━━━━━━━━━━━━━━━━━━━━━━\u001b[0m \u001b[32m46.0/46.0 kB\u001b[0m \u001b[31m6.8 MB/s\u001b[0m eta \u001b[36m0:00:00\u001b[0m\n",
            "\u001b[2K     \u001b[90m━━━━━━━━━━━━━━━━━━━━━━━━━━━━━━━━━━━━━━━━\u001b[0m \u001b[32m50.8/50.8 kB\u001b[0m \u001b[31m7.9 MB/s\u001b[0m eta \u001b[36m0:00:00\u001b[0m\n",
            "\u001b[2K     \u001b[90m━━━━━━━━━━━━━━━━━━━━━━━━━━━━━━━━━━━━━━━━\u001b[0m \u001b[32m295.0/295.0 kB\u001b[0m \u001b[31m38.1 MB/s\u001b[0m eta \u001b[36m0:00:00\u001b[0m\n",
            "\u001b[2K     \u001b[90m━━━━━━━━━━━━━━━━━━━━━━━━━━━━━━━━━━━━━━━━\u001b[0m \u001b[32m1.3/1.3 MB\u001b[0m \u001b[31m81.9 MB/s\u001b[0m eta \u001b[36m0:00:00\u001b[0m\n",
            "\u001b[2K     \u001b[90m━━━━━━━━━━━━━━━━━━━━━━━━━━━━━━━━━━━━━━━━\u001b[0m \u001b[32m58.3/58.3 kB\u001b[0m \u001b[31m9.0 MB/s\u001b[0m eta \u001b[36m0:00:00\u001b[0m\n",
            "\u001b[2K     \u001b[90m━━━━━━━━━━━━━━━━━━━━━━━━━━━━━━━━━━━━━━━━\u001b[0m \u001b[32m341.4/341.4 kB\u001b[0m \u001b[31m41.0 MB/s\u001b[0m eta \u001b[36m0:00:00\u001b[0m\n",
            "\u001b[2K     \u001b[90m━━━━━━━━━━━━━━━━━━━━━━━━━━━━━━━━━━━━━━━━\u001b[0m \u001b[32m3.4/3.4 MB\u001b[0m \u001b[31m92.4 MB/s\u001b[0m eta \u001b[36m0:00:00\u001b[0m\n",
            "\u001b[2K     \u001b[90m━━━━━━━━━━━━━━━━━━━━━━━━━━━━━━━━━━━━━━━━\u001b[0m \u001b[32m1.3/1.3 MB\u001b[0m \u001b[31m94.6 MB/s\u001b[0m eta \u001b[36m0:00:00\u001b[0m\n",
            "\u001b[2K     \u001b[90m━━━━━━━━━━━━━━━━━━━━━━━━━━━━━━━━━━━━━━━━\u001b[0m \u001b[32m130.2/130.2 kB\u001b[0m \u001b[31m19.2 MB/s\u001b[0m eta \u001b[36m0:00:00\u001b[0m\n",
            "\u001b[2K     \u001b[90m━━━━━━━━━━━━━━━━━━━━━━━━━━━━━━━━━━━━━━━━\u001b[0m \u001b[32m86.8/86.8 kB\u001b[0m \u001b[31m12.8 MB/s\u001b[0m eta \u001b[36m0:00:00\u001b[0m\n",
            "\u001b[?25h  Building wheel for sentence-transformers (setup.py) ... \u001b[?25l\u001b[?25hdone\n",
            "  Building wheel for pypika (pyproject.toml) ... \u001b[?25l\u001b[?25hdone\n",
            "\u001b[31mERROR: pip's dependency resolver does not currently take into account all the packages that are installed. This behaviour is the source of the following dependency conflicts.\n",
            "lida 0.0.10 requires kaleido, which is not installed.\n",
            "lida 0.0.10 requires python-multipart, which is not installed.\n",
            "llmx 0.0.15a0 requires cohere, which is not installed.\n",
            "tensorflow-probability 0.22.0 requires typing-extensions<4.6.0, but you have typing-extensions 4.8.0 which is incompatible.\u001b[0m\u001b[31m\n",
            "\u001b[0m"
          ]
        }
      ],
      "source": [
        "!pip install -qU langchain huggingface_hub Chromadb pyPDF sentence-transformers accelerate ctransformers datasets openai tiktoken lark"
      ]
    },
    {
      "cell_type": "markdown",
      "metadata": {
        "id": "YOuz54xWrH5c"
      },
      "source": [
        "## Import required Dependencies"
      ]
    },
    {
      "cell_type": "code",
      "execution_count": 2,
      "metadata": {
        "id": "y9LxxxiCrL_g"
      },
      "outputs": [],
      "source": [
        "import tempfile\n",
        "from langchain.text_splitter import RecursiveCharacterTextSplitter\n",
        "from langchain.document_loaders import PyPDFLoader,TextLoader,DataFrameLoader\n",
        "from langchain.docstore.document import Document\n",
        "from langchain.chains.summarize import load_summarize_chain\n",
        "from langchain.chains import RetrievalQA\n",
        "from langchain.embeddings import HuggingFaceEmbeddings\n",
        "from langchain.vectorstores import Chroma\n",
        "from langchain.llms import LlamaCpp\n",
        "from langchain.llms import CTransformers\n",
        "from langchain.prompts import PromptTemplate\n",
        "#\n",
        "import os\n",
        "import pandas as pd\n",
        "from getpass import getpass\n",
        "#\n",
        "from datasets import load_dataset\n",
        "#\n",
        "import openai"
      ]
    },
    {
      "cell_type": "markdown",
      "metadata": {
        "id": "zO_sP1iqJj5M"
      },
      "source": [
        "## Initiatize openai"
      ]
    },
    {
      "cell_type": "code",
      "execution_count": 3,
      "metadata": {
        "colab": {
          "base_uri": "https://localhost:8080/"
        },
        "id": "tR3xWxyfLOJ5",
        "outputId": "d000efad-e1fb-4ddb-84ac-24f82d443522"
      },
      "outputs": [
        {
          "name": "stdout",
          "output_type": "stream",
          "text": [
            "Enter your OpenAI API Key: ··········\n"
          ]
        }
      ],
      "source": [
        "os.environ[\"OPENAI_API_KEY\"] = getpass(\"Enter your OpenAI API Key: \")\n",
        "openai.api_key = os.environ[\"OPENAI_API_KEY\"]"
      ]
    },
    {
      "cell_type": "markdown",
      "metadata": {
        "id": "znueHZlcrz4Q"
      },
      "source": [
        "## Load dataset"
      ]
    },
    {
      "cell_type": "code",
      "execution_count": 4,
      "metadata": {
        "colab": {
          "base_uri": "https://localhost:8080/",
          "height": 246,
          "referenced_widgets": [
            "feb50f7d28c44d1fb52cb8a2f75cadad",
            "45c36212526547609ce3612b921838aa",
            "6e81fe04279e4349914ec72469e38e2d",
            "213cc75ea3ae4d17ad787b4113aa283f",
            "a003d9634fb846edb270227cc99738d7",
            "6f231d0c2b284100a336db11370fe0a4",
            "56c8820653d74b40a1b535936523e584",
            "e01c7a6986d14a3c968f3f7d585616a6",
            "c09c5dfe3ce04e51aa8b2ad839dc2b56",
            "5e1bc14fc6f942c88139fe1d9bb97878",
            "9b57efc9af4d4951b37d866c51864802",
            "c6eab29e1a3f4ce6b7a3cf04a2a5af01",
            "7b0007d7ec9e4639b751133044a48525",
            "3b8cfc4417e4423fbe29691829e267ad",
            "8e0e2e542af245709dfba9c592560249",
            "fb9744a55a79431d9f9c9f77764ba26d",
            "8d1abc852d12482e890e374f1c84b680",
            "af898bd2af3549e0ad0e9b6ba0ea29b5",
            "56aad99036b34cd3826eee1c8e3bd209",
            "938b49f60881402bbcbd39e814702db9",
            "80ac0104f9b94fb490f76b4d784d472c",
            "6b48d136f4404cd9893cd1c42c4744a1",
            "4bda05239cc840a49bd84f6a7a79347d",
            "430fb4b9b22b4dc6aeb41ab9cd1fa0dc",
            "2d71eddb5d4c41579c088a95660a268c",
            "4cbe7de4466d4e55847243e27b6da218",
            "705037c2e18243f4b17e6f8fc53bf888",
            "336c30f0fbee4549968543b3160a2075",
            "a3317f75809e45c6bffd1825677dd913",
            "862f1175b4034b55826eb27aad8cbc81",
            "a3e9135a62f14facb76cbf410bd5d9fd",
            "55f17af9f2314d35a3458ca85df48030",
            "0410a4e4388f4ab78e385f07808fe1d8",
            "d2adcce3cfde4772be0f26eddbaa99e8",
            "a2f12c501b4f477994c4db0671cb44dc",
            "3d1ae7817ca44406b94764a35dbe0b77",
            "60e026a9d5d0494f89b0aff842035dd9",
            "4de4f14a11e24a299f1af438948b5647",
            "5a721aec0b4e459eb566bb43eb629762",
            "05cbd9d1dca94014aee2375ddf0b2d8d",
            "45dae89f134b442fbcd92509269ac5a5",
            "47bc7d9c7b134f44a70a98035d53cf9f",
            "1713702913dc443c8d086adba2925c51",
            "cdd1c52c741342159e2c7345eb8860ea",
            "dbe22cc2560e49fbb0b890b59f5318e1",
            "9bf68330ffcd4ec5ac22ef14d5656b62",
            "15f4d403ea854a71b2d5fbcf829adc25",
            "a1e5325c734149b4830a2b4880a51d39",
            "457b01b9c41e4b3581db2f948081dd6c",
            "cd09159ecbfd46058cbb04c5f6c2d1f1",
            "1a1dda4c98814313be0a8a86f400fb7f",
            "3b497d7d0e3d4994b53b8640ecac8dcb",
            "adbf3678274f470aa0ecb1ad64221950",
            "6641764b70464e69aca9eaf9a85a7059",
            "013a97bf6a564de7a3456d3f2fbc1d9c"
          ]
        },
        "id": "5ALwJP2uryVx",
        "outputId": "a887f833-a824-4c50-f002-324dbd0df832"
      },
      "outputs": [
        {
          "output_type": "display_data",
          "data": {
            "text/plain": [
              "Downloading readme:   0%|          | 0.00/4.63k [00:00<?, ?B/s]"
            ],
            "application/vnd.jupyter.widget-view+json": {
              "version_major": 2,
              "version_minor": 0,
              "model_id": "feb50f7d28c44d1fb52cb8a2f75cadad"
            }
          },
          "metadata": {}
        },
        {
          "output_type": "display_data",
          "data": {
            "text/plain": [
              "Downloading data files:   0%|          | 0/1 [00:00<?, ?it/s]"
            ],
            "application/vnd.jupyter.widget-view+json": {
              "version_major": 2,
              "version_minor": 0,
              "model_id": "c6eab29e1a3f4ce6b7a3cf04a2a5af01"
            }
          },
          "metadata": {}
        },
        {
          "output_type": "display_data",
          "data": {
            "text/plain": [
              "Downloading data:   0%|          | 0.00/402M [00:00<?, ?B/s]"
            ],
            "application/vnd.jupyter.widget-view+json": {
              "version_major": 2,
              "version_minor": 0,
              "model_id": "4bda05239cc840a49bd84f6a7a79347d"
            }
          },
          "metadata": {}
        },
        {
          "output_type": "display_data",
          "data": {
            "text/plain": [
              "Extracting data files:   0%|          | 0/1 [00:00<?, ?it/s]"
            ],
            "application/vnd.jupyter.widget-view+json": {
              "version_major": 2,
              "version_minor": 0,
              "model_id": "d2adcce3cfde4772be0f26eddbaa99e8"
            }
          },
          "metadata": {}
        },
        {
          "output_type": "display_data",
          "data": {
            "text/plain": [
              "Generating train split: 0 examples [00:00, ? examples/s]"
            ],
            "application/vnd.jupyter.widget-view+json": {
              "version_major": 2,
              "version_minor": 0,
              "model_id": "dbe22cc2560e49fbb0b890b59f5318e1"
            }
          },
          "metadata": {}
        },
        {
          "output_type": "execute_result",
          "data": {
            "text/plain": [
              "Dataset({\n",
              "    features: ['project_id', 'document_text', 'document_type'],\n",
              "    num_rows: 15710\n",
              "})"
            ]
          },
          "metadata": {},
          "execution_count": 4
        }
      ],
      "source": [
        "data = load_dataset(\"lukesjordan/worldbank-project-documents\", split=\"train\")\n",
        "data"
      ]
    },
    {
      "cell_type": "code",
      "execution_count": 5,
      "metadata": {
        "colab": {
          "base_uri": "https://localhost:8080/",
          "height": 206
        },
        "id": "oh7TzE9osdX5",
        "outputId": "5be5d0a7-7160-46a8-a955-721664f98bc5"
      },
      "outputs": [
        {
          "output_type": "execute_result",
          "data": {
            "text/plain": [
              "  project_id                                      document_text document_type\n",
              "0    P095978  Page 1\\n40113 \\n \\nPROJECT INFORMATION DOCUMEN...      APPROVAL\n",
              "1    P009057  ï»¿ Second Small & Medium Scale Industry\\nRepo...      APPROVAL\n",
              "2    P113117  Page 1\\nINTEGRATED SAFEGUARDS DATASHEET \\nAPPR...      APPROVAL\n",
              "3    P131202  1\\n\n",
              "2\\n\n",
              "3\\n\n",
              "4\\n\n",
              "5\\n\n",
              "6\\n\n",
              "7\\n\n",
              "8\\n\n",
              "9\\n\n",
              "10\\n\n",
              "11\\n\n",
              "...      APPROVAL\n",
              "4    P119295  51759\\n PROJECT INFORMATION DOCUMENT (PID)\\n A...      APPROVAL"
            ],
            "text/html": [
              "\n",
              "  <div id=\"df-54ae47db-0e3b-4bd3-9910-5a066647171a\" class=\"colab-df-container\">\n",
              "    <div>\n",
              "<style scoped>\n",
              "    .dataframe tbody tr th:only-of-type {\n",
              "        vertical-align: middle;\n",
              "    }\n",
              "\n",
              "    .dataframe tbody tr th {\n",
              "        vertical-align: top;\n",
              "    }\n",
              "\n",
              "    .dataframe thead th {\n",
              "        text-align: right;\n",
              "    }\n",
              "</style>\n",
              "<table border=\"1\" class=\"dataframe\">\n",
              "  <thead>\n",
              "    <tr style=\"text-align: right;\">\n",
              "      <th></th>\n",
              "      <th>project_id</th>\n",
              "      <th>document_text</th>\n",
              "      <th>document_type</th>\n",
              "    </tr>\n",
              "  </thead>\n",
              "  <tbody>\n",
              "    <tr>\n",
              "      <th>0</th>\n",
              "      <td>P095978</td>\n",
              "      <td>Page 1\\n40113 \\n \\nPROJECT INFORMATION DOCUMEN...</td>\n",
              "      <td>APPROVAL</td>\n",
              "    </tr>\n",
              "    <tr>\n",
              "      <th>1</th>\n",
              "      <td>P009057</td>\n",
              "      <td>ï»¿ Second Small &amp; Medium Scale Industry\\nRepo...</td>\n",
              "      <td>APPROVAL</td>\n",
              "    </tr>\n",
              "    <tr>\n",
              "      <th>2</th>\n",
              "      <td>P113117</td>\n",
              "      <td>Page 1\\nINTEGRATED SAFEGUARDS DATASHEET \\nAPPR...</td>\n",
              "      <td>APPROVAL</td>\n",
              "    </tr>\n",
              "    <tr>\n",
              "      <th>3</th>\n",
              "      <td>P131202</td>\n",
              "      <td>1\\n\f2\\n\f3\\n\f4\\n\f5\\n\f6\\n\f7\\n\f8\\n\f9\\n\f10\\n\f11\\n\f...</td>\n",
              "      <td>APPROVAL</td>\n",
              "    </tr>\n",
              "    <tr>\n",
              "      <th>4</th>\n",
              "      <td>P119295</td>\n",
              "      <td>51759\\n PROJECT INFORMATION DOCUMENT (PID)\\n A...</td>\n",
              "      <td>APPROVAL</td>\n",
              "    </tr>\n",
              "  </tbody>\n",
              "</table>\n",
              "</div>\n",
              "    <div class=\"colab-df-buttons\">\n",
              "\n",
              "  <div class=\"colab-df-container\">\n",
              "    <button class=\"colab-df-convert\" onclick=\"convertToInteractive('df-54ae47db-0e3b-4bd3-9910-5a066647171a')\"\n",
              "            title=\"Convert this dataframe to an interactive table.\"\n",
              "            style=\"display:none;\">\n",
              "\n",
              "  <svg xmlns=\"http://www.w3.org/2000/svg\" height=\"24px\" viewBox=\"0 -960 960 960\">\n",
              "    <path d=\"M120-120v-720h720v720H120Zm60-500h600v-160H180v160Zm220 220h160v-160H400v160Zm0 220h160v-160H400v160ZM180-400h160v-160H180v160Zm440 0h160v-160H620v160ZM180-180h160v-160H180v160Zm440 0h160v-160H620v160Z\"/>\n",
              "  </svg>\n",
              "    </button>\n",
              "\n",
              "  <style>\n",
              "    .colab-df-container {\n",
              "      display:flex;\n",
              "      gap: 12px;\n",
              "    }\n",
              "\n",
              "    .colab-df-convert {\n",
              "      background-color: #E8F0FE;\n",
              "      border: none;\n",
              "      border-radius: 50%;\n",
              "      cursor: pointer;\n",
              "      display: none;\n",
              "      fill: #1967D2;\n",
              "      height: 32px;\n",
              "      padding: 0 0 0 0;\n",
              "      width: 32px;\n",
              "    }\n",
              "\n",
              "    .colab-df-convert:hover {\n",
              "      background-color: #E2EBFA;\n",
              "      box-shadow: 0px 1px 2px rgba(60, 64, 67, 0.3), 0px 1px 3px 1px rgba(60, 64, 67, 0.15);\n",
              "      fill: #174EA6;\n",
              "    }\n",
              "\n",
              "    .colab-df-buttons div {\n",
              "      margin-bottom: 4px;\n",
              "    }\n",
              "\n",
              "    [theme=dark] .colab-df-convert {\n",
              "      background-color: #3B4455;\n",
              "      fill: #D2E3FC;\n",
              "    }\n",
              "\n",
              "    [theme=dark] .colab-df-convert:hover {\n",
              "      background-color: #434B5C;\n",
              "      box-shadow: 0px 1px 3px 1px rgba(0, 0, 0, 0.15);\n",
              "      filter: drop-shadow(0px 1px 2px rgba(0, 0, 0, 0.3));\n",
              "      fill: #FFFFFF;\n",
              "    }\n",
              "  </style>\n",
              "\n",
              "    <script>\n",
              "      const buttonEl =\n",
              "        document.querySelector('#df-54ae47db-0e3b-4bd3-9910-5a066647171a button.colab-df-convert');\n",
              "      buttonEl.style.display =\n",
              "        google.colab.kernel.accessAllowed ? 'block' : 'none';\n",
              "\n",
              "      async function convertToInteractive(key) {\n",
              "        const element = document.querySelector('#df-54ae47db-0e3b-4bd3-9910-5a066647171a');\n",
              "        const dataTable =\n",
              "          await google.colab.kernel.invokeFunction('convertToInteractive',\n",
              "                                                    [key], {});\n",
              "        if (!dataTable) return;\n",
              "\n",
              "        const docLinkHtml = 'Like what you see? Visit the ' +\n",
              "          '<a target=\"_blank\" href=https://colab.research.google.com/notebooks/data_table.ipynb>data table notebook</a>'\n",
              "          + ' to learn more about interactive tables.';\n",
              "        element.innerHTML = '';\n",
              "        dataTable['output_type'] = 'display_data';\n",
              "        await google.colab.output.renderOutput(dataTable, element);\n",
              "        const docLink = document.createElement('div');\n",
              "        docLink.innerHTML = docLinkHtml;\n",
              "        element.appendChild(docLink);\n",
              "      }\n",
              "    </script>\n",
              "  </div>\n",
              "\n",
              "\n",
              "<div id=\"df-324aac62-bddc-46e7-918a-9f9452c63e87\">\n",
              "  <button class=\"colab-df-quickchart\" onclick=\"quickchart('df-324aac62-bddc-46e7-918a-9f9452c63e87')\"\n",
              "            title=\"Suggest charts.\"\n",
              "            style=\"display:none;\">\n",
              "\n",
              "<svg xmlns=\"http://www.w3.org/2000/svg\" height=\"24px\"viewBox=\"0 0 24 24\"\n",
              "     width=\"24px\">\n",
              "    <g>\n",
              "        <path d=\"M19 3H5c-1.1 0-2 .9-2 2v14c0 1.1.9 2 2 2h14c1.1 0 2-.9 2-2V5c0-1.1-.9-2-2-2zM9 17H7v-7h2v7zm4 0h-2V7h2v10zm4 0h-2v-4h2v4z\"/>\n",
              "    </g>\n",
              "</svg>\n",
              "  </button>\n",
              "\n",
              "<style>\n",
              "  .colab-df-quickchart {\n",
              "      --bg-color: #E8F0FE;\n",
              "      --fill-color: #1967D2;\n",
              "      --hover-bg-color: #E2EBFA;\n",
              "      --hover-fill-color: #174EA6;\n",
              "      --disabled-fill-color: #AAA;\n",
              "      --disabled-bg-color: #DDD;\n",
              "  }\n",
              "\n",
              "  [theme=dark] .colab-df-quickchart {\n",
              "      --bg-color: #3B4455;\n",
              "      --fill-color: #D2E3FC;\n",
              "      --hover-bg-color: #434B5C;\n",
              "      --hover-fill-color: #FFFFFF;\n",
              "      --disabled-bg-color: #3B4455;\n",
              "      --disabled-fill-color: #666;\n",
              "  }\n",
              "\n",
              "  .colab-df-quickchart {\n",
              "    background-color: var(--bg-color);\n",
              "    border: none;\n",
              "    border-radius: 50%;\n",
              "    cursor: pointer;\n",
              "    display: none;\n",
              "    fill: var(--fill-color);\n",
              "    height: 32px;\n",
              "    padding: 0;\n",
              "    width: 32px;\n",
              "  }\n",
              "\n",
              "  .colab-df-quickchart:hover {\n",
              "    background-color: var(--hover-bg-color);\n",
              "    box-shadow: 0 1px 2px rgba(60, 64, 67, 0.3), 0 1px 3px 1px rgba(60, 64, 67, 0.15);\n",
              "    fill: var(--button-hover-fill-color);\n",
              "  }\n",
              "\n",
              "  .colab-df-quickchart-complete:disabled,\n",
              "  .colab-df-quickchart-complete:disabled:hover {\n",
              "    background-color: var(--disabled-bg-color);\n",
              "    fill: var(--disabled-fill-color);\n",
              "    box-shadow: none;\n",
              "  }\n",
              "\n",
              "  .colab-df-spinner {\n",
              "    border: 2px solid var(--fill-color);\n",
              "    border-color: transparent;\n",
              "    border-bottom-color: var(--fill-color);\n",
              "    animation:\n",
              "      spin 1s steps(1) infinite;\n",
              "  }\n",
              "\n",
              "  @keyframes spin {\n",
              "    0% {\n",
              "      border-color: transparent;\n",
              "      border-bottom-color: var(--fill-color);\n",
              "      border-left-color: var(--fill-color);\n",
              "    }\n",
              "    20% {\n",
              "      border-color: transparent;\n",
              "      border-left-color: var(--fill-color);\n",
              "      border-top-color: var(--fill-color);\n",
              "    }\n",
              "    30% {\n",
              "      border-color: transparent;\n",
              "      border-left-color: var(--fill-color);\n",
              "      border-top-color: var(--fill-color);\n",
              "      border-right-color: var(--fill-color);\n",
              "    }\n",
              "    40% {\n",
              "      border-color: transparent;\n",
              "      border-right-color: var(--fill-color);\n",
              "      border-top-color: var(--fill-color);\n",
              "    }\n",
              "    60% {\n",
              "      border-color: transparent;\n",
              "      border-right-color: var(--fill-color);\n",
              "    }\n",
              "    80% {\n",
              "      border-color: transparent;\n",
              "      border-right-color: var(--fill-color);\n",
              "      border-bottom-color: var(--fill-color);\n",
              "    }\n",
              "    90% {\n",
              "      border-color: transparent;\n",
              "      border-bottom-color: var(--fill-color);\n",
              "    }\n",
              "  }\n",
              "</style>\n",
              "\n",
              "  <script>\n",
              "    async function quickchart(key) {\n",
              "      const quickchartButtonEl =\n",
              "        document.querySelector('#' + key + ' button');\n",
              "      quickchartButtonEl.disabled = true;  // To prevent multiple clicks.\n",
              "      quickchartButtonEl.classList.add('colab-df-spinner');\n",
              "      try {\n",
              "        const charts = await google.colab.kernel.invokeFunction(\n",
              "            'suggestCharts', [key], {});\n",
              "      } catch (error) {\n",
              "        console.error('Error during call to suggestCharts:', error);\n",
              "      }\n",
              "      quickchartButtonEl.classList.remove('colab-df-spinner');\n",
              "      quickchartButtonEl.classList.add('colab-df-quickchart-complete');\n",
              "    }\n",
              "    (() => {\n",
              "      let quickchartButtonEl =\n",
              "        document.querySelector('#df-324aac62-bddc-46e7-918a-9f9452c63e87 button');\n",
              "      quickchartButtonEl.style.display =\n",
              "        google.colab.kernel.accessAllowed ? 'block' : 'none';\n",
              "    })();\n",
              "  </script>\n",
              "</div>\n",
              "\n",
              "    </div>\n",
              "  </div>\n"
            ]
          },
          "metadata": {},
          "execution_count": 5
        }
      ],
      "source": [
        "df = data.to_pandas()\n",
        "df.head()\n"
      ]
    },
    {
      "cell_type": "code",
      "execution_count": null,
      "metadata": {
        "colab": {
          "base_uri": "https://localhost:8080/"
        },
        "id": "WA2s6V2pYLXU",
        "outputId": "2ecbd190-2771-46bf-c9d0-9852929e1ce9"
      },
      "outputs": [
        {
          "name": "stdout",
          "output_type": "stream",
          "text": [
            "51759\n",
            " PROJECT INFORMATION DOCUMENT (PID)\n",
            " APPRAISAL STAGE\n",
            "\n",
            " Project Name Karnataka Wind Power Carbon Finance Project, India\n",
            " Region South Asia\n",
            " Sector SASDE\n",
            " Project ID P119295\n",
            " Borrower(s) NA\n",
            " Implementing Agency Acciona Wind Energy Pvt\\. Ltd\\. (AWEPL), a 100% subsidiary of\n",
            " the Spanish Acciona group of companies, i\\.e\\. Acciona Energia\n",
            " Internacional, S\\.A\\. and Acciona, S\\.A\\.\n",
            " Environment Category [ ] A [X] B [ ] C [ ] FI [ ] TBD (to be determined)\n",
            " Date PID Prepared 19 November 2009\n",
            " Date of Appraisal 26 October 2009\n",
            " Authorization\n",
            " Estimated Date of ERPA 21 December 2009\n",
            " Signing\n",
            "\n",
            "\n",
            "\n",
            "I\\. Country and Sector Background\n",
            "\n",
            "The total installed power generation capacity in India at the end of the 10th Plan was\n",
            "132329\\.21MW which included 7760\\.60MW from renewable sources of energy\\. Keeping in view\n",
            "the existing energy deficit of 11%, peak deficit of 12% and the envisaged growth of 9% in the\n",
            "Eleventh Plan, the target of capacity addition in the Eleventh Plan period is an ambitious\n",
            "78577MW, almost three and a half times the actual capacity addition during the Tenth Plan\\.\n",
            "India is also committed to achieving the desired growth in power sector in a clean, green and\n",
            "sustainable manner\\. Given this and the need to maximally develop domestic supply options as\n",
            "well as the need to diversify energy sources, renewable energy sources remain important to\n",
            "India's power sector\\. The Eleventh Plan target for renewable power is addition of 14000MW\n",
            "capacity which includes 10500MW wind based power\\.\n",
            "\n",
            "II\\. Objective\n",
            "\n",
            "The proposed development objectives of the Carbon Offset Project are:\n",
            "\n",
            " Contribute to sustainable development by providing renewable power to the Karnataka\n",
            " State electricity grid and reduce greenhouse gas emissions caused by reliance on fossil\n",
            " fuels\n",
            " Reduce global emissions of carbon dioxide\\.\n",
            "\n",
            "The objectives of this World Bank Carbon Offset Project are consistent with the developmental\n",
            "and poverty reduction objectives of the Government of India\\.\n",
            "\fIII\\. Rationale for Bank involvement\n",
            "\n",
            "This Carbon Offset project will facilitate greenhouse gas emission reductions and support the\n",
            "development of the international market mechanism for trading Emission Reductions (ERs)\n",
            "developed under the framework of the Kyoto Protocol\\.\n",
            "\n",
            "The final commissioned project cost is US$45\\.11 million (1US$=Rs\\.47\\.86) which is financed\n",
            "from a debt to equity ratio of 61:39\\. The O&M costs are around 1% per annum\\. As per Project\n",
            "Design Document (prepared for CDM registration), the project IRR without considering CDM\n",
            "revenues is 11\\.93% and with CER revenue @9 per CER, is 13\\.65%1\\. This is stated to barely\n",
            "meet the return criteria factoring the risk premium\\. Acciona has executed a 10 year Power\n",
            "Purchase Agreement with Bangalore Electricity Supply Company Limited (BESCOM) for sale\n",
            "of electricity at a fixed rate (no escalation) of Rs\\.3\\.40 per unit (kWh)\\. At present, this is the only\n",
            "revenue stream available\\. The sale of emission reduction credits to the World Bank-executed\n",
            "Spanish Carbon Fund will make the implementation of the project more financially viable, by\n",
            "providing an additional revenue stream\\. This will provide increased financial comfort to the\n",
            "project and lead to development of renewable energy based power in the region\\.\n",
            "\n",
            "This project is consistent with the India Country Assistance Strategy in that it augments the\n",
            "generation of power while ensuring environmental sustainability and leads to reduction of\n",
            "poverty by providing employment and economic opportunities to the local population\\.\n",
            "\n",
            "IV\\. Description\n",
            "\n",
            "The project consists of two 29\\.7MW wind power plants located in Arasinagundi (13\\.20MW) and\n",
            "Anabaru (16\\.50MW), in Davangere district of the Indian state of Karnataka, owned by Acciona\n",
            "Wind Energy Private Limited (AWEPL), a 100% subsidiary of the Spanish Acciona group of\n",
            "companies, i\\.e\\. Acciona Energia Internacional, S\\.A\\. and Acciona, S\\.A\\. The delivery of the power\n",
            "plants was done by Vestas Wind Technology India Pvt\\. Ltd, who are also the Operations and\n",
            "Maintenance (O&M) contractors\\. The plants are commissioned and under operation -\n",
            "Arasinagundi since June'08 and Anabaru since Sept'08\\. The electricity generated from the\n",
            "project is supplied to the Karnataka Power Corporation Limited (KPTCL) sub-station at\n",
            "Hiremallaholle, and from there to the state grid\\. The project was registered as a Clean\n",
            "Development Mechanism (CDM) project with the CDM Executive Board on 20 November\n",
            "20082\\. The first verification of Certified Emission Reductions (CERs) is under process3\\. A Letter\n",
            "of Intent (LoI) has been executed between the International Bank for Reconstruction and\n",
            "Development (IBRD) acting as the trustee of the Spanish Carbon Fund and AWEPL for the\n",
            "transaction of 178,917 Certified Emission Reductions (CERs) generated from the Project from 1\n",
            "January 2010 until 31 December 2012\\.\n",
            "\n",
            "\n",
            "\n",
            "1\n",
            " As per the Project Design Document prepared for CDM registration\n",
            "2\n",
            " Project Reference no\\. 1949\n",
            "3\n",
            " The final Monitoring Report was submitted to CDM Executive Board by BvQI with Request for Issuance on 9\n",
            "October 2009 for the First Verification Report for CERs\\. The completeness check is pending by UNFCCC after\n",
            "which the documents will be hosted for the mandatory disclosure period of 15 days for review prior to CER\n",
            "issuance\\.\n",
            "\fAWEPL has executed a 10 year Power Purchase Agreement (PPA) with Bangalore Electricity\n",
            "Supply Company Limited (BESCOM) for sale of electricity at a fixed rate (no escalation) of\n",
            "Rs\\.3\\.40 per unit (kWh)\\. The tariff from 11th year onwards will be decided by Karnataka\n",
            "Electricity Regulatory Commission (KERC), and BESCOM can exercise its option to procure\n",
            "electricity at the KERC determined tariff, else AWEPL can enter into agreement with a third\n",
            "party\\.\n",
            "\n",
            "Carbon revenues are necessary for improving financial viability of the project as they will\n",
            "provide additional financial comfort to the project sponsor\\. This in turn would provide\n",
            "encouragement to other investors in the area and would be in line with the larger Government of\n",
            "India objective of scaling up the share of renewable energy in Indian power sector\\.\n",
            "\n",
            "Monitoring and evaluation will be undertaken through the specific plan for Verification of\n",
            "Emissions Reductions included in the Clean Development Mechanism (CDM) Project Design\n",
            "Document\\. AWEPL will be responsible for periodic verification, certification, preparation and\n",
            "submission of verification reports\\.\n",
            "\n",
            "V\\. Financing\n",
            " (US$ million4)\n",
            "Source:\n",
            "Equity 17\\.59\n",
            "Local Financial Institutions 27\\.52\n",
            " Total 45\\.11\n",
            "\n",
            "VI\\. Implementation\n",
            "\n",
            "AWEPL is responsible for overall implementation of the project including periodic verification\n",
            "and certification of emission reductions, preparation and submission of verification reports\\. The\n",
            "Operation and Maintenance is presently contracted out to Vestas India Pvt\\. Ltd\\. who also\n",
            "delivered the two projects\\. The present O&M contracts are valid for 2 years and cover day to day\n",
            "operations, scheduled/unscheduled plant/33kV transmission line maintenance\\. AWEPL is\n",
            "considering the continuation of the arrangement beyond this period\\.\n",
            "\n",
            "VII\\. Sustainability\n",
            "\n",
            "The project activity will achieve the objectives of sustainable development by ­\n",
            "\n",
            " Substituting electricity generated using conventional fossil fuel with wind energy based\n",
            " power\n",
            " Mitigating the emission of GHG (CO2) as wind is a renewable source of energy\n",
            " Conserving coal and other non-renewable natural resource\n",
            " The project is in line with the policies of Ministry of New and Renewable Energy, India,\n",
            " as it contributes its share towards achievement of the 11th Plan target of 10,500 MW of\n",
            " renewable wind energy by 2012\n",
            "\n",
            "4\n",
            " 1US$= Rs\\.47\\.86\n",
            "\f Increasing the share of renewable energy in the regional grid\n",
            " Reducing pollutants like SOX, NOX etc associated with other power plants\n",
            " Contributing towards reducing power shortage in the state of Karnataka\n",
            " Generate local employment and other economic activity in areas near the project\n",
            " Help to bridge India's energy deficit\n",
            " Contributing to the growth of Wind Energy sector in India\n",
            "\n",
            "VIII\\. Lessons Learned from past experiences in the country/sector\n",
            "\n",
            "This project draws from previous World Bank operational experiences and analytic and advisory\n",
            "work in renewable energy, especially wind energy\\.\n",
            "\n",
            "The project applies an approved small-scale CDM Methodology utilized by several CDM\n",
            "projects registered with the UNFCCC\\.\n",
            "\n",
            "IX\\. Safeguard Policies (including public consultation)\n",
            "\n",
            "The project triggers the World Bank's Environmental Assessment Policy (OP/BP 4\\.01) and was\n",
            "designated a Category B as the potential negative environmental impacts of the project are site\n",
            "specific and manageable with the proposed mitigation measures\\. The table below lists the\n",
            "applicable World Bank Safeguard Policies\\.\n",
            "\n",
            "Safeguard Policies Triggered by the Project Yes No TBD\n",
            "Environmental Assessment (OP/BP 4\\.01) [X] []\n",
            "Natural Habitats (OP/BP 4\\.04) [] [X]\n",
            "Pest Management (OP 4\\.09) [] [X]\n",
            "Physical Cultural Resources (OP/BP 4\\.11) [X] []\n",
            "Involuntary Resettlement (OP/BP 4\\.12) [] []\n",
            "Indigenous Peoples ( OP/BP 4\\.10) [X] []\n",
            "Forests (OP/BP 4\\.36) [X] []\n",
            "Safety of Dams (OP/BP 4\\.37) [] [X]\n",
            "Projects in Disputed Areas (OP/BP 7\\.60)5 [] [X]\n",
            "Projects on International Waterways (OP/BP 7\\.50) [] [X]\n",
            "Piloting the Use of Borrower Systems to Address Environmental\n",
            " [] [X]\n",
            "and Social Issues in Bank-Supported Projects (OP/BP 4\\.00)\n",
            "\n",
            "Overall, the project will have positive impact on the global environment due to reduction in the\n",
            "Green House Gas emissions\\. There may be some localized adverse impacts in the project area\n",
            "which are being mitigated through the implementation of several mitigation and enhancement\n",
            "measures by the project sponsors\\. Key measures include: plantation in about 30ha of land in lieu\n",
            "of plantation in the project site, provision of gully checks and on-site plantation, underground\n",
            "cabling within site to minimize potential visual impacts and hazard to birds, and implementation\n",
            "of a systematic waste management plan\\. Consultations were held with the various stakeholders\n",
            "during project preparation and PDD formulation\\.\n",
            "\n",
            "5\n",
            " By supporting the proposed project, the Bank does not intend to prejudice the final determination of the parties' claims on the\n",
            "disputed areas\n",
            "\fThe project activities are not expected to adversely impact the local communities\\. However,\n",
            "Acciona has proactively been adopting a strategy to help the local people, particularly the tribal\n",
            "and other vulnerable communities, in accessing the project benefits including wage employment\\.\n",
            "\n",
            "An environmental and social assessment (ESA) report documenting the environmental and social\n",
            "measures undertaken during project construction and addendum updating the current conditions\n",
            "have been prepared\\. The executive summary of the ESA has been translated into the local\n",
            "language Kannada and is being locally disclosed in the Gram Panchayat offices of the two\n",
            "villages where the two subprojects are located\\. The project sponsor is also considering the\n",
            "possibility of hosting the ESA report along with its executive summary on their website\\.\n",
            "\n",
            "X\\. List of Factual Technical Documents\n",
            "\n",
            " Project Design Document (PDD)\n",
            " Integrated Safeguards Data Sheet (ISDS)\n",
            " Environmental and Social Assessment (ESA) Report and Addendum to ESA for both sites\n",
            " Letter of Intent between International Bank for Reconstruction and Development and\n",
            " Acciona Wind Energy Private Limited, India\\.\n",
            "\n",
            "XI\\. Contact Point\n",
            "\n",
            "Kavita Saraswat\n",
            "ksaraswat@worldbank\\.org\n",
            "Fax: +91 11 41177849\n",
            "70 Lodi Estate\n",
            "New Delhi ­ 110021\n",
            "India\\.\n",
            "\n",
            "XII\\. For more information contact:\n",
            "\n",
            "The InfoShop\n",
            "The World Bank\n",
            "1818 H Street, NW\n",
            "Washington, D\\.C\\. 20433\n",
            "Telephone: (202) 458-5454\n",
            "Fax: (202) 522-1500\n",
            "Web: http://www\\.worldbank\\.org/infoshop\n"
          ]
        }
      ],
      "source": [
        "print(df.iloc[4]['document_text'])"
      ]
    },
    {
      "cell_type": "code",
      "execution_count": 24,
      "metadata": {
        "colab": {
          "base_uri": "https://localhost:8080/"
        },
        "id": "dQf9y1zd4Cua",
        "outputId": "9d190cab-8d13-4ba3-fdda-b335be92ddb1"
      },
      "outputs": [
        {
          "output_type": "execute_result",
          "data": {
            "text/plain": [
              "Index(['project_id', 'document_text', 'document_type'], dtype='object')"
            ]
          },
          "metadata": {},
          "execution_count": 24
        }
      ],
      "source": [
        "df.columns"
      ]
    },
    {
      "cell_type": "markdown",
      "metadata": {
        "id": "EtPnVUvezfpH"
      },
      "source": [
        "## Load the data from dataframe into Document using DataFrame loader"
      ]
    },
    {
      "cell_type": "code",
      "execution_count": 6,
      "metadata": {
        "colab": {
          "base_uri": "https://localhost:8080/"
        },
        "id": "0S6TroSTxCBt",
        "outputId": "cc86053c-06f2-466e-a3bb-71d74a424951"
      },
      "outputs": [
        {
          "output_type": "stream",
          "name": "stdout",
          "text": [
            "15710\n"
          ]
        }
      ],
      "source": [
        "loader = DataFrameLoader(df,page_content_column=\"document_text\")\n",
        "data = loader.load()\n",
        "print(len(data))"
      ]
    },
    {
      "cell_type": "code",
      "execution_count": 26,
      "metadata": {
        "colab": {
          "base_uri": "https://localhost:8080/"
        },
        "id": "Y6AGJlXI5M4b",
        "outputId": "4dfd4b41-82e4-47f1-d59d-14b21d4700d9"
      },
      "outputs": [
        {
          "output_type": "execute_result",
          "data": {
            "text/plain": [
              "{'project_id': 'P095978', 'document_type': 'APPROVAL'}"
            ]
          },
          "metadata": {},
          "execution_count": 26
        }
      ],
      "source": [
        "data[0].metadata\n"
      ]
    },
    {
      "cell_type": "markdown",
      "metadata": {
        "id": "0-L7pCGCUeWC"
      },
      "source": [
        "## Create a new processed document to include the source object to facilitate return documents as source of referrence"
      ]
    },
    {
      "cell_type": "code",
      "execution_count": 7,
      "metadata": {
        "colab": {
          "base_uri": "https://localhost:8080/"
        },
        "id": "aGMIAlUaS7oC",
        "outputId": "48e33e52-ecdc-4f17-99cf-bdf6f6d90a23"
      },
      "outputs": [
        {
          "output_type": "stream",
          "name": "stdout",
          "text": [
            "15710\n",
            "15710\n"
          ]
        }
      ],
      "source": [
        "from langchain.docstore.document import Document\n",
        "processed_data = []\n",
        "for doc in data:\n",
        "  processed_data.append(Document(page_content=doc.page_content, metadata={\"source\": str(doc.metadata)}))\n",
        "\n",
        "print(len(processed_data))\n",
        "print(len(data))"
      ]
    },
    {
      "cell_type": "code",
      "execution_count": 8,
      "metadata": {
        "colab": {
          "base_uri": "https://localhost:8080/"
        },
        "id": "_6ddd8bTURyH",
        "outputId": "c07f860a-3bf2-459d-e8e4-62ef479d1e3b"
      },
      "outputs": [
        {
          "output_type": "execute_result",
          "data": {
            "text/plain": [
              "{'source': \"{'project_id': 'P095978', 'document_type': 'APPROVAL'}\"}"
            ]
          },
          "metadata": {},
          "execution_count": 8
        }
      ],
      "source": [
        "processed_data[0].metadata"
      ]
    },
    {
      "cell_type": "code",
      "execution_count": 9,
      "metadata": {
        "colab": {
          "base_uri": "https://localhost:8080/",
          "height": 157
        },
        "id": "0hZ9b1r_UWHt",
        "outputId": "e1ad852c-0b4b-4722-85df-dba80e32819c"
      },
      "outputs": [
        {
          "output_type": "execute_result",
          "data": {
            "text/plain": [
              "\"Page 1\\n40113 \\n \\nPROJECT INFORMATION DOCUMENT (PID) \\n \\nProject Name \\nNepal Village Micro Hydro Carbon Offset Project \\nRegion \\nSouth Asia \\nSector \\nSASSD \\nProject ID \\nP095978 \\nBorrower(s) \\n \\nImplementing Agency \\nAlternative Energy Promotion Center \\nEnvironment Category \\n[] A [X ] B [ ] C [ ] FI [ ] TBD \\nSafeguard Classification \\n[]S\\n1\\n[X ] S\\n2\\n[\\n]\\nS\\n3\\n[\\n]\\nS\\nF\\n[\\n]\\nTBD \\n \\nDate PID Revised \\nMay 7, 2007 \\nDate of Appraisal \\nAuthorization \\nApril 27, 2007 \\nEstimated Date of ERPA \\nSignature \\nJune 17, 2007 \\n1\\\\. \\nCountry and Sector Background \\n \\nNepal has vast hydro resources, which represent a source of potential wealth\\\\. Commercially \\nexploitable hydropower generating potential is estimated to be about 43,000 MW\\\\. However, \\ndespite this large potential, only about 600 MW has been developed so far\\\\. Based on the 2001 \\ncensus, 40 percent of Nepal's households have access to electricity, but disparity in access is \\nstark\\\\. While over 90 percent of the urban population is connected to the grid, it is estimated that \\nonly 27 percent of rural households have access to electricity\\\\.\\n1\\nNepal\\x92s 10th National Plan aims to increase the electrification rate to 55 percent through both \\ngrid extension and non-grid options including micro-hydro and solar\\\\. This emphasis on power \\ndevelopment followed the adoption of the Hydropower Development Policy in the early 1990s \\nwhich, combined with changes in electricity legislation and the opening up of the power sector to \\nlocal and foreign private investments, was intended to make institutions operating in the power \\nsector efficient and creditworthy, as well as increase the participation of the private sector in the \\nprovision of electricity services of the people\\\\. Under this policy and regulatory framework, \\nGovernment of Nepal (GoN) has been able to attract some private (foreign) investments in power \\ngeneration, yet there is an increased recognition that more needed to be done to attract private \\ncapital in the sector and to improve the efficiency and creditworthiness of Nepal Electricity \\nAuthority (NEA), the central Government owned grid operator, generator and distributor\\\\. \\n \\n1\\nNepal Country Strategy on Integration of Energy and Rural Development Policies and Programme -Water and \\nEnergy Commission Secretariat of the Government of Nepal, December 2005\\\\. \\nPage 2\\nThe revised Hydropower Development Policy of 2001 was intended to address many of the \\noutstanding issues preventing achievement of the sector objectives\\\\. It envisaged an increased \\ninvolvement of private investors in the production, distribution, and management of electricity \\nwhile recognizing the need for continued institutional and structural changes in the power \\nindustry\\\\. The revised Policy called for the creation of a more competitive environment for \\nprivate sector participation, including introduction of more transparent and investment friendly \\nprocedures\\\\. The development of small hydro projects and district level projects under \\ndecentralized schemes in hilly and remote areas were also highlighted as areas to be developed \\nwith support of a subsidy scheme implemented by the Alternative Energy Promotion Center \\n(AEPC)\\\\. Finally, the Policy directed that increased attention be paid to the social and \\nenvironmental aspects of hydroelectric development to ensure that adverse effects on the \\nenvironment and communities are minimized\\\\. \\n \\nWhile progress has been made on several fronts during the initial years of policy \\nimplementation, there was a growing realization that increasing access to remote areas though \\ndecentralized schemes required additional specialized efforts\\\\. Furthermore, implementation of \\nsome elements of the hydropower policy, such as private sector participation, were hampered by \\ncountry economic and security risk, and the lack of adequate domestic capital market, issues \\nwhich were beyond the control of the power sector itself\\\\. \\n \\nTo assist the GoN in meeting its sector objectives, the World Bank approved a Power \\nDevelopment Project consisting of a $75\\\\.6 million IDA credit in 2003\\\\. \\n \\nDiscussions were initiated with the World Bank in late 2004 to prepare a complementary Carbon \\nOffset project whose revenues would provide additional financial support to AEPC\\x92s village \\nmicro-hydro program, further increasing rural access to modern energy sources in Nepal\\\\. \\n \\n2\\\\. Objectives \\n \\nThe proposed development objectives of the Carbon Offset Project are: \\n\\nReduce global emissions of carbon dioxide\\\\. \\n\\nIncrease access to modern energy from renewable energy sources\\\\. \\n \\nThe Carbon Offset project complements the ongoing World Bank Power Development Project \\nby providing additional support for the achievement of its development objectives, in particular \\nthe objective of improving access of rural areas to electricity services\\\\. The overall development \\nobjectives of the Power Development Project are: (a) develop Nepal's hydropower potential in an \\nenvironmentally and socially sustainable manner so as to help meet electricity demand, (b) \\nimprove access of rural areas to electricity services, and (c) promote private participation in the \\npower sector as a way to improve sector efficiency and to mobilize financing for the sector's \\ninvestment requirements\\\\. \\n \\nThe objectives of this World Bank Carbon Offset Project are therefore consistent with the \\ndevelopmental and poverty reduction objectives of GoN\\\\. \\n \\n3\\\\. \\nRationale for Bank Involvement \\n \\nPage 3\\nThis Carbon Offset project will facilitate greenhouse emission reductions and support the \\ndevelopment of the international market mechanism for trading Emission Reductions (ERs), \\ndeveloped under the framework of the Kyoto Protocol\\\\. The Nepal Village Micro Hydro project \\nconsists of sale of ERs to the Community Development Carbon Fund (CDCF) which provides \\ncarbon finance to small-scale CDM projects in the least developed countries and poorer areas of \\nall developing countries\\\\. The CDCF actively seeks to reach countries and communities that are \\nneither presently benefiting from development through carbon finance nor are likely to benefit \\ngreatly from it in the future\\\\. The CDCF also seeks to support projects which include, as a \\nmeasurable output, the provision of goods and services that will lead to improvement in the \\nsocial welfare of the communities involved in the projects\\\\. \\n \\nThe sale of emission reduction credits to the CDCF will allow for full implementation of the \\nmicro-hydro program by generating additional resources to allow for expanded coverage of the \\nprogram beyond the original target of 25 districts, and will improve program sustainability by \\nreducing reliance on donor assistance for implementation of future phases of the program\\\\. \\n \\nHigher level objectives to which the project contributes \\n \\nThe project is consistent with the CAS for Nepal and supports the PRSP, particularly through \\nproviding support for the development of the rural economy and by increasing access to modern \\nenergy sources\\\\. \\n \\n4\\\\. Description \\n \\nThe Project will support the development of micro-hydropower mini-grids to meet the electricity \\nand motive power needs of the rural people of Nepal through provision of subsidy assistance and \\nprogram technical support\\\\. The project will build on the successes achieved under the UNDP \\nRural Energy Development Program (REDP) by extending electrification activities to 40 \\ndistricts, including 15 that were not covered under the first phase of that program\\\\. It will also \\nbring together the rural electrification activities supported through the micro-hydro component of \\nthe World Bank Power Development Project and the donor-financed Energy Sector Assistance \\nProgram (ESAP II) to expand the total target level of new micro-hydro installations by 15 MW \\nby utilizing the CDM revenues to help meet un-financed program implementation and subsidy \\ncosts\\\\. \\n \\nThe project seeks to develop a viable off-grid micro-hydropower market for villages which will \\nnot be served by the national grid for at least 5 years\\\\. It would offer support on both the demand \\nand supply sides by providing information and social mobilization support, technical training, \\nand investment subsidy (representing 40 to 70 percent of the initial investment) to communities, \\nand market information and business development support services to micro-hydro construction \\nand supply companies\\\\. The micro-hydro plants will be installed by pre-qualified private sector \\ncompanies who will receive subsidy payments, technical assistance and credit support\\\\. The \\nplants will be managed by the communities themselves or by the private sector providers\\\\. \\nMeters will be installed on each unit, and operating costs will be recovered through tariffs based \\nupon installed demand for residential users and energy use for larger rural enterprises\\\\. \\n \\nPage 4\\nThe program will scale-up the promotion of off-grid micro-hydropower plants less than 100 kW \\nutilizing Peltic systems (up to 3 kW) to supply power for domestic and institutional lighting and \\nlarger micro-hydro systems which can power agro-processing mills, saw mills and other electric \\nmachinery for small cottage industries\\\\. It is anticipated that 15,000 kW from 750 micro-\\nhydropower plants will be installed between 2003 and 2010, providing access to electricity to an \\nestimated 142,000 households\\\\. Thirty four schemes generating 589 kW have already been \\ncommissioned under this program, although these schemes are not eligible for early start \\ncrediting and will thus not claim early start emissions reductions under the carbon offset project\\\\. \\n \\nThis project falls under the small-scale CDM project activity with total electricity generation \\nwithin the limit of 15 MW\\\\. The project will lead to reduced GHG emissions by: \\n\\nReplacement of kerosene for lighting; \\n\\nReplacement of diesel fuel used for agro-processing and other productive use \\napplications\\\\. \\n \\nAverage household electricity consumption post installation of the micro-hydro units is estimated \\nto be 27 kWh/month, of which 18 kWh will be used for lighting and 9 kWh will be used for \\nproductive uses\\\\. \\n \\nThe cost of the above investment projects \\nProject Cost \\nUS$ Million \\nProject Component \\nProgram Cost \\n28\\\\.4 \\nProgram Development cost including project \\nappraisal costs, AEPC subsidy, technical \\nassistance, and program management\\\\. \\nInstalled costs \\n26\\\\.9 \\nSponsor\\x92s plant investment (loan, labor, other \\ncontributions) \\nOther costs \\n 3\\\\.8 \\nHRD, Goods, Incremental operating costs \\nTOTAL \\n59\\\\.1 \\n \\n5\\\\. Financing \\nSource: ($million) \\nGoN 2\\\\.26 \\nDomestic borrowings/Equity investment \\n26\\\\.9 \\nINTERNATIONAL BANK FOR RECONSTRUCTION AND \\nDEVELOPMENT IDA GRANT \\n9\\\\.4 \\nUNDP 3\\\\.57 \\nDANIDA/NORAD 14\\\\.3 \\nCarbon Finance \\n1\\\\.9 \\nFinancing gap \\n\\\\.65 \\nTOTAL 59\\\\.08 \\nImplementation\\n \\nPage 5\\nThe project will be implemented by the Alternative Energy Promotion Center (AEPC) with \\ntechnical assistance provided by UNDP REDP program\\\\. Funding will be provided by the World \\nBank, DANIDA/NORAD through the ESAP Phase II program, GoN, equity contributions and \\nin-kind contributions from the communities, and carbon finance revenues\\\\. \\nAEPC will assume overall management of this project\\\\. The REDP project support units will \\nprovide project implementation support and technical assistance to the participating communities \\nand the private sector providers\\\\. Actual implementation of the micro-hydro installations will be \\nmanaged by local governments, i\\\\.e\\\\., District Development Committees (DDC) and the Village \\nDevelopment Committees (VDC), and will involve formation of a micro-hydro functional group \\n(MHFG) at each participating community to guide implementation and operation\\\\. \\n \\nAEPC will extend grants and other project support funds to a District Energy Fund (DEF) \\nmanaged by District Development Committees for financing approved micro-hydro project \\nproposals\\\\. Funds are released from the DEF only after the acquisition of land for the power \\nhouse, securitization of the right of way for the canal and distribution lines, and the collection of \\ncollateral for any required local loans\\\\. Investment grants or subsidies are then released based on \\noutput verification, while other costs such as for social mobilization, training, etc\\\\. are paid on an \\nactual cost basis\\\\. Expenditure statements submitted through the DDCs to AEPC, who confirms \\neligibility of expenditures\\\\. \\n \\nPartnership arrangements \\n \\nThe Alternative Energy Promotion Center (AEPC), under the Ministry of Environment, Science \\nand Technology is devoted to the development and promotion of renewable and alternative \\nenergy technologies in Nepal\\\\. Established in 1996 by a Government Cabinet Order, the \\nobjective of AEPC is to popularize and promote the use of renewable energy technology to raise \\nliving standards of the rural people of Nepal, to protect the environment and to develop \\ncommercially viable alternative energy industries in the country\\\\. Acting as an intermediary \\ninstitution between the operational level NGOs/ private promoters of renewable energy and the \\npolicy deciding levels in relevant ministries, AEPC\\x92s activities include renewable energy policy \\nformulation and planning and facilitating the implementation of the policies/ plans\\\\. The REDP \\nshall provide continuing technical assistance support to AEPC in the implementation of the \\nvillage micro-hydro project\\\\. \\n \\nThe Grant Agreement covering the Second Phase of the Energy Sector Assistance Program \\n(ESAP II) was signed in March 2007\\\\. Joint funding for this program will be provided by the \\nDanish International Development Agency (DANIDA) and Norway (NORAD)\\\\. \\n \\n5\\\\. Monitoring and evaluation of outcomes/results \\n \\nMonitoring and evaluation will be undertaken through two mechanisms, the World Bank \\nsupervision of the ongoing Power Development project and through the specific monitoring plan \\nfor Verification of Emissions Reductions that will be developed in the CDM Project Design \\nDocument\\\\. The monitoring parameters of the CDM program shall include the number of kWh \\nproduced by each micro-hydro unit as measured by the individual meters, and the number of \\nhouseholds connected to the micro-hydro plant\\\\. AEPC will be accountable for overall reporting \\non implementation progress, preparation of financial monitoring reports, and preparation of \\nPage 6\\naudited project accounts\\\\. REDP district stall shall conduct regular monitoring of the installed \\nplants\\\\. AEPC shall also conduct enhanced verification and quality assurance activities\\\\. A \\nmonitoring and verification plan for the community benefits of the program will be developed as \\nrequired by the CDCF\\\\. It will be built upon the existing M&E activities undertaken by AEPC \\nunder the World Bank Power Development Project and the annual impact assessment reports\\\\. \\n \\n6\\\\. Sustainability \\n \\nSustainability of the micro-hydro village electrification systems is primarily linked to the \\nsustainability of the MHFGs, the community mobilization process and the transparency of \\noperation throughout the life of each sub-project\\\\. Previous experience with the first phase of the \\nREDP shows that the community mobilization program has been effective, and that system \\nfailures have been few in number\\\\. \\n \\nHowever, there are a number of areas where processes (and therefore sustainability) would be \\nfurther enhanced, e\\\\.g, (i) further strengthening of the community mobilization process, (ii) \\nimprove the formalization of micro-hydro functional groups; (iii) improve procurement \\npractices; and (iv) improve the benefit monitoring and evaluation process\\\\. Moreover, an \\nenhanced benefit monitoring and evaluation program is being implemented as part of the World \\nBank Grant program, with the secondary aim of providing early feedback of system failure and \\nmalfunction\\\\. \\n \\nExtensive training for the operation and maintenance (O&M) staff (two operators and one \\nmanager selected from the local community) assigned to each system is being provided through \\nthe World Bank project, in both technical aspects of system operation and in bill collection, \\ndisconnection for non-payment, record keeping, accounting, etc\\\\. O&M staff are engaged prior to \\ncommencement of construction, are required to sign pledges that prevent them from leaving for \\nother opportunities once training is completed, and are required to assist with system \\nconstruction, plant installation and commissioning\\\\. \\n \\n7\\\\. Lessons Learned from Past Operations in the Country/Sector \\n \\nThe Carbon Finance Project will incorporate lessons learned from the initial implementation \\nresults of the Power Development Project and the previous phases of the UNDP REDP project\\\\. \\nRecent experience in Nepal has demonstrated that delivery of infrastructure services to rural \\ncommunities is more effective and sustainable when beneficiaries are able to actively participate \\nin project planning and design\\\\. Accordingly, the village electrification component adopts a \\ncommunity-driven approach, which involves the community through every stage of the \\ndevelopment process including, \\ninter alia, \\norganization development, woman's empowerment, \\nskills enhancement, capital formation, technology promotion and environmental management\\\\. \\n \\n8\\\\. \\nEnvironmental Issues and Safeguard Policies \\n \\nThe environmental impacts of micro hydro projects are generally small, with the main impacts \\nbeing (i)\\n \\nthe partial de-watering of a section of riverbed from the intake until water is returned to \\nthe river downstream of the powerhouse, and the consequent effect on aquatic life in the \\nPage 7\\ndewatered section; (ii) potential ground / soil erosion caused by flushing flows discharged from \\nsedimentation basins and by overflows at the forebay, (iii) potential ground instability caused by \\ncanal/pipe construction and leakage from canals; (iv) cutting of forest cover to make way for \\nconstruction works, and (v) cutting of trees for use as power poles\\\\. Considering the small size of \\nthese sub-projects, it is not anticipated that there will be any road construction\\\\. In the unlikely \\nevent there are unanticipated impacts, the environmental mitigation plans developed for each \\nsub-project will address the problems with suitable mitigation measures\\\\. \\n \\nSafeguard Policies Triggered by the Project\\n \\nYes\\n \\nNo\\n \\nEnvironmental Assessment\\n(\\nOP\\n/\\nBP\\n/\\nGP\\n4\\\\.01) \\n[ X ] \\n[ ] \\nNatural Habitats (\\nOP\\n/\\nBP\\n4\\\\.04)\\n \\n[\\nX\\n]\\n[\\n]\\nPest Management (\\nOP 4\\\\.09\\n)\\n[\\n]\\n[\\nX\\n]\\nCultural Property (\\nOPN 11\\\\.03\\n,\\nbeing revised as OP 4\\\\.11)\\n \\n[\\n]\\n[\\nX\\n]\\nInvoluntary Resettlement (\\nOP\\n/\\nBP\\n4\\\\.12)\\n \\n[\\n]\\n[\\nX\\n]\\nIndigenous Peoples (\\nOD 4\\\\.20\\n,\\nbeing revised as OP 4\\\\.10)\\n \\n[\\n]\\n[\\nX\\n]\\nForests (\\nOP\\n/\\nBP\\n4\\\\.36)\\n \\n[\\nX\\n]\\n[\\n]\\nSafety of Dams (\\nOP\\n/\\nBP\\n4\\\\.37)\\n \\n[\\n]\\n[\\nX\\n]\\nProjects in Disputed Areas (\\nOP\\n/\\nBP\\n/\\nGP\\n7\\\\.60)\\n \\n[\\n]\\n[\\nX\\n]\\nProjects on International Waterways (\\nOP\\n/\\nBP\\n/\\nGP\\n7\\\\.50)\\n \\n[\\n]\\n[\\nX] \\n9\\nList of Factual Technical Documents \\n \\nWorld Bank Nepal Power Development Project, Project Appraisal Document, 2003 \\nRural Energy Development Programme, Project NEP/02/001, Annual Progress Reports 2003/5 \\nEnergy Sector Assistance Program (ESAP I) Progress Reports, Ref\\\\. No\\\\. 104\\\\.Nepal\\\\.802, 2003/5 \\nNepal Micro-Hydro Carbon Finance Document, December 2005 \\nNepal Micro-Hydro Promotion by Alternative Energy Promotion Centre (AEPC), CDM-SSC-\\nPDD (Version 02), April 2007 \\n \\n10 Contact \\npoint \\nMudassar Imran \\nJeremy Levin \\n \\n11 For more information contact: \\nThe Info Shop \\nThe World Bank \\n1818 H Street, NW \\nWashington, D\\\\.C\\\\. 20433 \\nWeb: http://www\\\\.worldbank\\\\.org/infoshop\""
            ],
            "application/vnd.google.colaboratory.intrinsic+json": {
              "type": "string"
            }
          },
          "metadata": {},
          "execution_count": 9
        }
      ],
      "source": [
        "processed_data[0].page_content"
      ]
    },
    {
      "cell_type": "markdown",
      "metadata": {
        "id": "ebcEKgI8L22j"
      },
      "source": [
        "## Setup embedding model"
      ]
    },
    {
      "cell_type": "code",
      "execution_count": 10,
      "metadata": {
        "colab": {
          "base_uri": "https://localhost:8080/",
          "height": 401,
          "referenced_widgets": [
            "0a59bb4bae87463dae8784609d870f3b",
            "ec5317249815483a870c82e7a5c01f8b",
            "11591fd5a8cc4c2d830c21f1aa59602d",
            "ea6749d27240432ba67ee80f68eef5a4",
            "ce71fb8ec3fb4c5e9d3294582e0aee90",
            "8b7a084638084c90ae68a7e11f827f09",
            "e0d3239117b945719cd992dd498d82b2",
            "07a745b7290943bcbc5674254f963052",
            "6e8bed1cff1443098e789d4fe25ca6c8",
            "1042c441b0ef41adb546e1b78c9eaad2",
            "34d32c71b2cf4472ac4b3ca07f005749",
            "be5dd9bbd71a479baa2979bdabfca9b4",
            "0a3c1bf363ae4add8c8156250217c813",
            "06649b0b68d24b4f8be704eeedfb0f79",
            "6f2a77fbe0724879896ead13b47c8a71",
            "9b961e19eaaa4bfc979b4600850f660e",
            "1e78f625acdd4fc29cf80034ea3a44c5",
            "fba3ad9cb7b5441a9c8ab84f531a8a4c",
            "f4b3efa2dc1d481786c147ec27e0ad70",
            "9759479d4f9f4720ac6b0eb0c06e24cb",
            "b9262363f11847b3a4ba58b0a03b959d",
            "a09b01761760455cba50ba2e15212324",
            "509db052e0254494a77fbfc4c03e233f",
            "709e7431e87c447f9a853b55bf63f8dd",
            "0a3bdb239b6d4f28905149802c4ad3fb",
            "e72dd782993b437180816520c5625c51",
            "2b7d5c7c138d405999f8f747e0a3ea2b",
            "2fadc2e22413462a83932c06b7531831",
            "6760d0dda1de470894210322926d1237",
            "8bb1a47717ce416881773f95d1b51d10",
            "84a2b17c74f047669468bc305f6411cd",
            "33fb3c154b604fbb97be47af11d396c1",
            "0f11dbd1617c4995af21a7dbfacc4078",
            "c44d5df6a4d842b999855d8cf5465b34",
            "6c36c01da223460ca7d5dec0251e620c",
            "b8238350ebdf433fac4bbf56cd9ddef2",
            "fff1dcfbf28a4a46945b3c62572f64e6",
            "e86996d48d8e4090bc280c9138e64769",
            "22cf645ad3c34450866b9a144ac706e7",
            "d97974321ac5474fb22a33c3da863bfc",
            "039e353635434c55b394cf3e7de15cdf",
            "f3ae6a816bf24640bd28b40b3c7f45f5",
            "a1f4077adea94da380ee0eb93517dd02",
            "40a43264b25b48699d5c557e245d269e",
            "46eb583f2ebf426f8ebeecb5ed335847",
            "412e28a7c3574a3cba46bebe4764c865",
            "89286dc5556848748d17ac1dd5e81bc6",
            "72f2dd4af1984842b094244952d544f0",
            "2766395bef7f4fdf8d1ca78c911a2871",
            "732f50ae900c437e949d92695f0979eb",
            "6c4b5634387645e995b55d19474661d9",
            "80dda86e50274cd491611adf425fad4a",
            "d2fb42c1b5c244b0ae8aaa95473612d7",
            "5689e4eb23ae46bc9611b3f57bac1f95",
            "84ba160ab734465e80a200f07e90cdaa",
            "e845cac11c8543ff98616cea4f98ab0d",
            "d5bd0d2f2c4b4ced899cbb30f3e96e18",
            "b132f990747442a885d026fd84b802ea",
            "84056f46fe424a39a9e6bd9c9a4a4acd",
            "1f235aaa434048a5b079946e43f90eb3",
            "54ed5830f71b42f6b3fbbb77aac6bdfe",
            "a19687f1c41b4c83854f08655f166b2f",
            "cd691a6cc3f541c8ab3624fc27b4bc55",
            "ef9c2f8dec0d465c8ecb3b0b6d8d05f2",
            "1b63d513219a4089bde26bc2116e0209",
            "10a6fab7c91044f498af7e2d25508155",
            "00ec6bce89ec49b1953465b8f883734b",
            "2b13e704d1a9438d8ee0df38617fd68a",
            "6fee14eeb9834f1ea3399eb93427906a",
            "5b60def34251415392e996ddb9a08a4a",
            "94ed5dd18c354c5f928723531559a791",
            "5b814ba3fb00474a8142d202bfd24d2c",
            "3f8b08fc8ab246e4a42f0b658cf99dcc",
            "e0c5991023ab4de9b0c2e860cd919ed9",
            "808174aceb0d4d6bac3c68f9d6a25eb7",
            "677279b3e0724e91b1bd567ee8ca5b57",
            "f966b0ab6d9e4878885d70638643347d",
            "a4f39977b72f4bc0ac4c9906c19c6ff0",
            "0bf27b180480487c9dfdeca09326e8e7",
            "aa42176a12114f5e87c946b06b45d23d",
            "4f404225e89d4a83bfdc2e2fc8cb8288",
            "d0d685e896eb47d2964b97120c3d3c37",
            "d386be91f67f4253b9b3966d356dbfdf",
            "75d825a41a7d43e2b28e3c2461187695",
            "fbe5dffb3dec43fa8d96cf27ec0a0113",
            "8bde003b643448d39dbe4678522ee117",
            "884c71e696d04ea98f8273ace7db965f",
            "dc34ae2b36164a4d9ebcae42faa15081",
            "72c02eae30534e89b439b3d363180e77",
            "579138a74eab417789dc4eb3a10e29d6",
            "099c3c12dbfa4954aa06123a8ba20132",
            "527ec3b35a304e2c85a5bd3358ceb595",
            "a5876e00a16b4773b30d040903c5c76a",
            "e27b835ec55d46759f9834b46a5378f0",
            "c93a4e74947a44449c9f956ac4648750",
            "7424d2a330564d09a216fc02f30a8691",
            "aabffeef701148c49ba25ae186ea45a3",
            "7101d2abfedd413f8a3018d282743da8",
            "1fdebb8ff54e4dc08312b841ba7b3680",
            "8c093ee4096e475d9c40c7522d105218",
            "8431f79836844651bf947ed2690b4698",
            "822b9a8a28a14a3d81807266be5f588c",
            "3583d42fd84f48799a690c46be95c0c2",
            "7c3c7b722eff47c194ee126c47d998fb",
            "9c913f19bee643cb98600083247324b4",
            "d27aaeae9ed2403f95ba84b23329abad",
            "514ac8b6c0e8402aaef42330a26cb624",
            "09a1070e43a34e21926ce7c918a80567",
            "7aa0d30169094ef8bf2e5dff0b2e236f",
            "0c80a482d34c49ae804054755e8f1714",
            "41484b9ded974124bd3b7cd420ab034e",
            "03e9cee8363c461d96e2fdfc741cbeba",
            "09bf4cb67e2b4df09b014649ddb263dc",
            "ba204e7146424dc89fe8f4d0fe99bb7e",
            "22eefa36fd33454f9760bce516651543",
            "2be0c9bc0e414cf9a9d575766b8b15ac",
            "965debfabfef46029783d40d4bdc56bf",
            "0d0d1f6f0e8f4650b4d9f2698f669a19",
            "e7cdee37cad943ba9fd85a979a932876",
            "be0e5993885c4e2c9b5f6950abcd3ab5",
            "5b3df2d371ec4c0a9b4dcf9feaf666cd",
            "4b6e2e6a520c42379d6271b70599d833",
            "a8fb169592874d339073276339d5e226",
            "f601c94ab6204dacb73fb110434100db",
            "0adfa2612ab14331bbf4194373e65de0",
            "59eaa74dff364cb09bd600fdd5c67127",
            "dd6bcc6b433d46838e439cf352f2c47c",
            "3d87496fcb9747719156626abecf79d0",
            "351e133d30f043b383ab1c9fe9831eb6",
            "c4d3302bd4d04f18b2e13a48cda7fa61",
            "7b0f8b66548b4d48a7df2a7701752158",
            "a222462b0c8149ba9042d797ed8ef9b5"
          ]
        },
        "id": "-K1rH4R9L5nc",
        "outputId": "970c12bc-9d74-4012-b039-cdfce56a81c3"
      },
      "outputs": [
        {
          "output_type": "display_data",
          "data": {
            "text/plain": [
              "Downloading (…)8fc4c/.gitattributes:   0%|          | 0.00/1.52k [00:00<?, ?B/s]"
            ],
            "application/vnd.jupyter.widget-view+json": {
              "version_major": 2,
              "version_minor": 0,
              "model_id": "0a59bb4bae87463dae8784609d870f3b"
            }
          },
          "metadata": {}
        },
        {
          "output_type": "display_data",
          "data": {
            "text/plain": [
              "Downloading (…)_Pooling/config.json:   0%|          | 0.00/190 [00:00<?, ?B/s]"
            ],
            "application/vnd.jupyter.widget-view+json": {
              "version_major": 2,
              "version_minor": 0,
              "model_id": "be5dd9bbd71a479baa2979bdabfca9b4"
            }
          },
          "metadata": {}
        },
        {
          "output_type": "display_data",
          "data": {
            "text/plain": [
              "Downloading (…)a6f2e8fc4c/README.md:   0%|          | 0.00/90.3k [00:00<?, ?B/s]"
            ],
            "application/vnd.jupyter.widget-view+json": {
              "version_major": 2,
              "version_minor": 0,
              "model_id": "509db052e0254494a77fbfc4c03e233f"
            }
          },
          "metadata": {}
        },
        {
          "output_type": "display_data",
          "data": {
            "text/plain": [
              "Downloading (…)f2e8fc4c/config.json:   0%|          | 0.00/743 [00:00<?, ?B/s]"
            ],
            "application/vnd.jupyter.widget-view+json": {
              "version_major": 2,
              "version_minor": 0,
              "model_id": "c44d5df6a4d842b999855d8cf5465b34"
            }
          },
          "metadata": {}
        },
        {
          "output_type": "display_data",
          "data": {
            "text/plain": [
              "Downloading (…)ce_transformers.json:   0%|          | 0.00/124 [00:00<?, ?B/s]"
            ],
            "application/vnd.jupyter.widget-view+json": {
              "version_major": 2,
              "version_minor": 0,
              "model_id": "46eb583f2ebf426f8ebeecb5ed335847"
            }
          },
          "metadata": {}
        },
        {
          "output_type": "display_data",
          "data": {
            "text/plain": [
              "Downloading pytorch_model.bin:   0%|          | 0.00/134M [00:00<?, ?B/s]"
            ],
            "application/vnd.jupyter.widget-view+json": {
              "version_major": 2,
              "version_minor": 0,
              "model_id": "e845cac11c8543ff98616cea4f98ab0d"
            }
          },
          "metadata": {}
        },
        {
          "output_type": "display_data",
          "data": {
            "text/plain": [
              "Downloading (…)nce_bert_config.json:   0%|          | 0.00/52.0 [00:00<?, ?B/s]"
            ],
            "application/vnd.jupyter.widget-view+json": {
              "version_major": 2,
              "version_minor": 0,
              "model_id": "00ec6bce89ec49b1953465b8f883734b"
            }
          },
          "metadata": {}
        },
        {
          "output_type": "display_data",
          "data": {
            "text/plain": [
              "Downloading (…)cial_tokens_map.json:   0%|          | 0.00/125 [00:00<?, ?B/s]"
            ],
            "application/vnd.jupyter.widget-view+json": {
              "version_major": 2,
              "version_minor": 0,
              "model_id": "a4f39977b72f4bc0ac4c9906c19c6ff0"
            }
          },
          "metadata": {}
        },
        {
          "output_type": "display_data",
          "data": {
            "text/plain": [
              "Downloading (…)8fc4c/tokenizer.json:   0%|          | 0.00/711k [00:00<?, ?B/s]"
            ],
            "application/vnd.jupyter.widget-view+json": {
              "version_major": 2,
              "version_minor": 0,
              "model_id": "72c02eae30534e89b439b3d363180e77"
            }
          },
          "metadata": {}
        },
        {
          "output_type": "display_data",
          "data": {
            "text/plain": [
              "Downloading (…)okenizer_config.json:   0%|          | 0.00/394 [00:00<?, ?B/s]"
            ],
            "application/vnd.jupyter.widget-view+json": {
              "version_major": 2,
              "version_minor": 0,
              "model_id": "8c093ee4096e475d9c40c7522d105218"
            }
          },
          "metadata": {}
        },
        {
          "output_type": "display_data",
          "data": {
            "text/plain": [
              "Downloading (…)a6f2e8fc4c/vocab.txt:   0%|          | 0.00/232k [00:00<?, ?B/s]"
            ],
            "application/vnd.jupyter.widget-view+json": {
              "version_major": 2,
              "version_minor": 0,
              "model_id": "41484b9ded974124bd3b7cd420ab034e"
            }
          },
          "metadata": {}
        },
        {
          "output_type": "display_data",
          "data": {
            "text/plain": [
              "Downloading (…)2e8fc4c/modules.json:   0%|          | 0.00/349 [00:00<?, ?B/s]"
            ],
            "application/vnd.jupyter.widget-view+json": {
              "version_major": 2,
              "version_minor": 0,
              "model_id": "4b6e2e6a520c42379d6271b70599d833"
            }
          },
          "metadata": {}
        }
      ],
      "source": [
        "from langchain.retrievers import ParentDocumentRetriever\n",
        "from langchain.storage import InMemoryStore\n",
        "from langchain.embeddings import HuggingFaceBgeEmbeddings\n",
        "#\n",
        "model_name = \"BAAI/bge-small-en-v1.5\"\n",
        "model_kwargs = {\"device\": \"cuda\"}\n",
        "encode_kwargs = {\"normalize_embeddings\":True}\n",
        "#\n",
        "embeddings = HuggingFaceBgeEmbeddings(model_name=model_name,\n",
        "                                      model_kwargs=model_kwargs,\n",
        "                                      encode_kwargs=encode_kwargs,\n",
        "                                      )\n"
      ]
    },
    {
      "cell_type": "markdown",
      "metadata": {
        "id": "fLVYFSGjMNeS"
      },
      "source": [
        "## Store data in vectorstore"
      ]
    },
    {
      "cell_type": "code",
      "execution_count": null,
      "metadata": {
        "id": "K9QccFiMJDOH"
      },
      "outputs": [],
      "source": [
        "def split_list(input_list, chunk_size):\n",
        "    for i in range(0, len(input_list), chunk_size):\n",
        "        yield input_list[i:i + chunk_size]\n",
        "    return input_list"
      ]
    },
    {
      "cell_type": "code",
      "execution_count": null,
      "metadata": {
        "id": "3e4N6GeUMUFM"
      },
      "outputs": [],
      "source": [
        "split_docs_chunked = split_list(data, 41000)"
      ]
    },
    {
      "cell_type": "code",
      "execution_count": null,
      "metadata": {
        "colab": {
          "base_uri": "https://localhost:8080/"
        },
        "id": "3dbIJSILSyM4",
        "outputId": "ef6c16ba-7593-4343-9468-bd0b34f5494e"
      },
      "outputs": [
        {
          "data": {
            "text/plain": [
              "<generator object split_list at 0x7b7e86d9b760>"
            ]
          },
          "execution_count": 31,
          "metadata": {},
          "output_type": "execute_result"
        }
      ],
      "source": [
        "split_docs_chunked"
      ]
    },
    {
      "cell_type": "code",
      "execution_count": null,
      "metadata": {
        "colab": {
          "base_uri": "https://localhost:8080/",
          "height": 49,
          "referenced_widgets": [
            "fe421ee740f740a39d8f7bca2f595448",
            "7719265fbe3e48428ce9713af3b1ae3e",
            "e4e17b611d4747428f0e2d05bd1741bd",
            "a03e8d3b7bf745b685c8463745f64b73",
            "c24682a01ddc48648e5eb2f7a8f77f25",
            "4c7a58fd2e3247f994256f7dd29c898d",
            "7a8204a5fd79453d92216685a43be726",
            "998608e6b19d454ca4812c9916cb06dc",
            "4d4b0d95477341a194b402e345c25dec",
            "e501b6215a5d440990384c7e2bb40b85",
            "b04aaa92eb984d3cad81dd319bcce9d1"
          ]
        },
        "id": "u-jx9lqqMZWB",
        "outputId": "a46a0170-2b7f-4cd6-a1ee-bc15d2591978"
      },
      "outputs": [
        {
          "data": {
            "application/vnd.jupyter.widget-view+json": {
              "model_id": "fe421ee740f740a39d8f7bca2f595448",
              "version_major": 2,
              "version_minor": 0
            },
            "text/plain": [
              "0it [00:00, ?it/s]"
            ]
          },
          "metadata": {},
          "output_type": "display_data"
        }
      ],
      "source": [
        "from tqdm.notebook import tqdm\n",
        "for split_docs_chunk in tqdm(split_docs_chunked):\n",
        "    vectordb = Chroma.from_documents(\n",
        "        documents=split_docs_chunk,\n",
        "        embedding=embeddings,\n",
        "        persist_directory=\"./chroma_db\",\n",
        "        collection_name=\"split_docs\",\n",
        "    )\n",
        "    vectordb.persist()"
      ]
    },
    {
      "cell_type": "code",
      "execution_count": null,
      "metadata": {
        "id": "w8GIrhCCSYqR"
      },
      "outputs": [],
      "source": [
        "retriever = vectordb.as_retriever(search_kwargs={\"k\":1})\n"
      ]
    },
    {
      "cell_type": "code",
      "execution_count": null,
      "metadata": {
        "id": "exzm8M-2RLvn"
      },
      "outputs": [],
      "source": [
        "from langchain.chains import RetrievalQA,RetrievalQAWithSourcesChain\n",
        "from langchain.llms import OpenAI\n",
        "from langchain.chat_models import ChatOpenAI\n",
        "llm = ChatOpenAI(model=\"gpt-3.5-turbo-16k\",temperature=0.75)\n",
        "\n",
        "qa = RetrievalQA.from_chain_type(llm=llm,\n",
        "                                 chain_type=\"stuff\",\n",
        "                                 retriever=retriever,\n",
        "\n",
        "                                )\n",
        "\n",
        "\n",
        "\n"
      ]
    },
    {
      "cell_type": "code",
      "execution_count": null,
      "metadata": {
        "colab": {
          "base_uri": "https://localhost:8080/",
          "height": 157
        },
        "id": "TDsa6ncbX7La",
        "outputId": "c308b374-2330-42dc-fb9c-882f0a4989ea"
      },
      "outputs": [
        {
          "data": {
            "application/vnd.google.colaboratory.intrinsic+json": {
              "type": "string"
            },
            "text/plain": [
              "'The Karnataka Wind Power Carbon Finance Project is a renewable energy project that involves the installation of a wind power plant in Karnataka, India. The project aims to reduce greenhouse gas emissions by generating clean electricity from wind energy. \\n\\nThe project consists of 18 wind turbines with a total capacity of 29.7 MW, spread over two locations in Davangere district. The electricity generated from the project is supplied to the state grid through a sub-station owned by Karnataka Power Transmission Corporation Limited. \\n\\nThe project was started by Bellary Wind Power Private Limited and later acquired by Acciona Wind Energy Private Limited (AWEPL), a subsidiary of the Spanish Acciona group of companies. The project has been operational since 2008 and has been delivering clean electricity to the grid. \\n\\nThe project is registered under the Clean Development Mechanism (CDM) of the United Nations Framework Convention on Climate Change (UNFCCC). It has received approval for the sale of certified emission reductions (CERs) generated from the project. \\n\\nThe project has been successful in meeting its implementation objectives and has achieved its development objective of reducing greenhouse gas emissions and supplying wind-generated electricity to the grid. The project has also complied with environmental and social safeguards and has implemented measures to ensure the safety and sustainability of its operations. \\n\\nThe project has faced challenges due to the collapse of the global carbon finance market, which has impacted its revenue generation. However, the project entity remains committed to delivering the contracted emission reductions and continues to explore opportunities to increase the value of CERs in the market.'"
            ]
          },
          "execution_count": 47,
          "metadata": {},
          "output_type": "execute_result"
        }
      ],
      "source": [
        "query =\"Please describe the project Karnataka Wind Power Carbon Finance Project\"\n",
        "qa.run(query=query)\n"
      ]
    },
    {
      "cell_type": "code",
      "execution_count": null,
      "metadata": {
        "colab": {
          "base_uri": "https://localhost:8080/"
        },
        "id": "q9-6Cmr0gH9Q",
        "outputId": "3767f8e5-038b-4a71-ebae-b1692aea1322"
      },
      "outputs": [
        {
          "data": {
            "text/plain": [
              "{'query': 'What is the project Uruguay-Public Administration Reform about?',\n",
              " 'result': 'The project \"Uruguay-Public Administration Reform\" aims to assist the government of Uruguay in modernizing and reducing the size of government agencies, introducing modern integrated financial management systems, and implementing an integrated approach to regulatory activities focused on eliminating impediments to private market efficiency. The project includes three components: downsizing and agency modernization, reform of the public financial management system, and deregulation to improve economic competitiveness. The project is designed to build on previous reform efforts and enhance the efficiency of the public sector and private sector in Uruguay.'}"
            ]
          },
          "execution_count": 58,
          "metadata": {},
          "output_type": "execute_result"
        }
      ],
      "source": [
        "query =\"What is the project Uruguay-Public Administration Reform about?\"\n",
        "qa(query)"
      ]
    },
    {
      "cell_type": "markdown",
      "metadata": {
        "id": "1xnJK70s6F3B"
      },
      "source": [
        "## Parent Document Retriever\n",
        "* Return full documents for smaller chunks lookup\n",
        "* Return bigger chunks for smaller chunks loop"
      ]
    },
    {
      "cell_type": "markdown",
      "metadata": {
        "id": "PMycBFuQ91Qr"
      },
      "source": [
        "##  storage layer for parent documents"
      ]
    },
    {
      "cell_type": "code",
      "execution_count": 11,
      "metadata": {
        "id": "tISOPmtx9sL2"
      },
      "outputs": [],
      "source": [
        "store = InMemoryStore()"
      ]
    },
    {
      "cell_type": "markdown",
      "metadata": {
        "id": "OQZNovOOCaY-"
      },
      "source": [
        "## Create Parent and child text splitters"
      ]
    },
    {
      "cell_type": "code",
      "execution_count": 12,
      "metadata": {
        "id": "_VFrE8Mq_jO-"
      },
      "outputs": [],
      "source": [
        "#create smaller chunks\n",
        "child_text_splitter = RecursiveCharacterTextSplitter(chunk_size=400)\n",
        "#\n",
        "#create bigger chunks\n",
        "parent_splitter = RecursiveCharacterTextSplitter(chunk_size=2000)\n",
        "#"
      ]
    },
    {
      "cell_type": "markdown",
      "metadata": {
        "id": "BWZVXR9DU6K4"
      },
      "source": [
        "## 1. Retrieving full documents rather than chunks\n",
        "In this mode, we want to retrieve the full documents.\n",
        "\n",
        "This is good to use if the  initial full docs are not too big themselves and we are not going to return many of them"
      ]
    },
    {
      "cell_type": "markdown",
      "metadata": {
        "id": "FS32uilHVWVY"
      },
      "source": [
        "####  The vectorstore to use to index the child chunks"
      ]
    },
    {
      "cell_type": "code",
      "execution_count": null,
      "metadata": {
        "id": "EdQxPqCLVMwO"
      },
      "outputs": [],
      "source": [
        "# The vectorstore to use to index the child chunks\n",
        "vectorstore = Chroma(\n",
        "    collection_name=\"full_documents\",\n",
        "    embedding_function=embeddings,\n",
        "    persist_directory=\"./chroma_db\",\n",
        "\n",
        ")\n"
      ]
    },
    {
      "cell_type": "markdown",
      "metadata": {
        "id": "bvMDQL2lVfz9"
      },
      "source": [
        "#### Create the Full Document Retriever"
      ]
    },
    {
      "cell_type": "code",
      "execution_count": null,
      "metadata": {
        "id": "e2amYR6LVil5"
      },
      "outputs": [],
      "source": [
        "full_doc_retriever = ParentDocumentRetriever(\n",
        "    vectorstore=vectorstore,\n",
        "    docstore=store,\n",
        "    child_splitter=child_text_splitter,\n",
        ")"
      ]
    },
    {
      "cell_type": "markdown",
      "metadata": {
        "id": "4ldfguPjWAT1"
      },
      "source": [
        "#### Add documents to the docstore and vectorstores.\n",
        "\n",
        "**Parameters**\n",
        "\n",
        "* documents – List of documents to add\n",
        "\n",
        "* ids – Optional list of ids for documents. If provided should be the same length as the list of documents. Can provided if parent documents are already in the document store and you don’t want to re-add to the docstore. If not provided, random UUIDs will be used as ids.\n",
        "\n",
        "* add_to_docstore – Boolean of whether to add documents to docstore. This can be false if and only if ids are provided. You may want to set this to False if the documents are already in the docstore and you don’t want to re-add them."
      ]
    },
    {
      "cell_type": "code",
      "execution_count": null,
      "metadata": {
        "colab": {
          "base_uri": "https://localhost:8080/"
        },
        "id": "LWxfZ4QdWq0K",
        "outputId": "44e8205a-5e83-4a9b-bc6d-005d3ecb0b70"
      },
      "outputs": [
        {
          "data": {
            "text/plain": [
              "31"
            ]
          },
          "execution_count": 21,
          "metadata": {},
          "output_type": "execute_result"
        }
      ],
      "source": [
        "MAX_BATCH_SIZE = 500\n",
        "Num_Records = len(data)\n",
        "no_of_batches = Num_Records // MAX_BATCH_SIZE\n",
        "no_of_batches"
      ]
    },
    {
      "cell_type": "code",
      "execution_count": null,
      "metadata": {
        "colab": {
          "base_uri": "https://localhost:8080/",
          "height": 648,
          "referenced_widgets": [
            "0ddf3f551f3a470b8760f9357150b594",
            "02d6e12c1c0e4f8b896f1670dfc7cf5c",
            "67ff868cea154471863562e5d2dd698a",
            "6e737b646c004f988cf67c2498951800",
            "aac1d6b0f3084623947ba1fb3b8df455",
            "78090777a26f453d80e983ac843e32a2",
            "55dce51ee2574bf2b6db912c6b26dc2b",
            "73d74bc9fe4642809dfb113f0095ed91",
            "fdbe40f8a3e14d30a39f4efa7ed5a84c",
            "4a3605bd417a4843b23a46791392f061",
            "30df2dc617a9407b952b35ca12277a72"
          ]
        },
        "id": "SEm8b3ShW-AC",
        "outputId": "02c5e416-d22a-4be8-e587-5296a5b9467f"
      },
      "outputs": [
        {
          "data": {
            "application/vnd.jupyter.widget-view+json": {
              "model_id": "0ddf3f551f3a470b8760f9357150b594",
              "version_major": 2,
              "version_minor": 0
            },
            "text/plain": [
              "  0%|          | 0/158 [00:00<?, ?it/s]"
            ]
          },
          "metadata": {},
          "output_type": "display_data"
        },
        {
          "name": "stdout",
          "output_type": "stream",
          "text": [
            "0\n",
            "100\n",
            "100\n",
            "200\n",
            "200\n",
            "300\n",
            "300\n",
            "400\n",
            "400\n",
            "500\n",
            "500\n",
            "600\n",
            "600\n",
            "700\n"
          ]
        },
        {
          "ename": "ValueError",
          "evalue": "ignored",
          "output_type": "error",
          "traceback": [
            "\u001b[0;31m---------------------------------------------------------------------------\u001b[0m",
            "\u001b[0;31mValueError\u001b[0m                                Traceback (most recent call last)",
            "\u001b[0;32m<ipython-input-19-aae746ca8298>\u001b[0m in \u001b[0;36m<cell line: 2>\u001b[0;34m()\u001b[0m\n\u001b[1;32m      5\u001b[0m   \u001b[0mprint\u001b[0m\u001b[0;34m(\u001b[0m\u001b[0mi_end\u001b[0m\u001b[0;34m)\u001b[0m\u001b[0;34m\u001b[0m\u001b[0;34m\u001b[0m\u001b[0m\n\u001b[1;32m      6\u001b[0m   \u001b[0mbatch\u001b[0m \u001b[0;34m=\u001b[0m \u001b[0mdata\u001b[0m\u001b[0;34m[\u001b[0m\u001b[0mi\u001b[0m\u001b[0;34m:\u001b[0m\u001b[0mi_end\u001b[0m\u001b[0;34m]\u001b[0m\u001b[0;34m\u001b[0m\u001b[0;34m\u001b[0m\u001b[0m\n\u001b[0;32m----> 7\u001b[0;31m   \u001b[0mfull_doc_retriever\u001b[0m\u001b[0;34m.\u001b[0m\u001b[0madd_documents\u001b[0m\u001b[0;34m(\u001b[0m\u001b[0mbatch\u001b[0m\u001b[0;34m,\u001b[0m \u001b[0mids\u001b[0m\u001b[0;34m=\u001b[0m\u001b[0;32mNone\u001b[0m\u001b[0;34m)\u001b[0m\u001b[0;34m\u001b[0m\u001b[0;34m\u001b[0m\u001b[0m\n\u001b[0m\u001b[1;32m      8\u001b[0m \u001b[0;34m\u001b[0m\u001b[0m\n",
            "\u001b[0;32m/usr/local/lib/python3.10/dist-packages/langchain/retrievers/parent_document_retriever.py\u001b[0m in \u001b[0;36madd_documents\u001b[0;34m(self, documents, ids, add_to_docstore)\u001b[0m\n\u001b[1;32m    110\u001b[0m             \u001b[0mdocs\u001b[0m\u001b[0;34m.\u001b[0m\u001b[0mextend\u001b[0m\u001b[0;34m(\u001b[0m\u001b[0msub_docs\u001b[0m\u001b[0;34m)\u001b[0m\u001b[0;34m\u001b[0m\u001b[0;34m\u001b[0m\u001b[0m\n\u001b[1;32m    111\u001b[0m             \u001b[0mfull_docs\u001b[0m\u001b[0;34m.\u001b[0m\u001b[0mappend\u001b[0m\u001b[0;34m(\u001b[0m\u001b[0;34m(\u001b[0m\u001b[0m_id\u001b[0m\u001b[0;34m,\u001b[0m \u001b[0mdoc\u001b[0m\u001b[0;34m)\u001b[0m\u001b[0;34m)\u001b[0m\u001b[0;34m\u001b[0m\u001b[0;34m\u001b[0m\u001b[0m\n\u001b[0;32m--> 112\u001b[0;31m         \u001b[0mself\u001b[0m\u001b[0;34m.\u001b[0m\u001b[0mvectorstore\u001b[0m\u001b[0;34m.\u001b[0m\u001b[0madd_documents\u001b[0m\u001b[0;34m(\u001b[0m\u001b[0mdocs\u001b[0m\u001b[0;34m)\u001b[0m\u001b[0;34m\u001b[0m\u001b[0;34m\u001b[0m\u001b[0m\n\u001b[0m\u001b[1;32m    113\u001b[0m         \u001b[0;32mif\u001b[0m \u001b[0madd_to_docstore\u001b[0m\u001b[0;34m:\u001b[0m\u001b[0;34m\u001b[0m\u001b[0;34m\u001b[0m\u001b[0m\n\u001b[1;32m    114\u001b[0m             \u001b[0mself\u001b[0m\u001b[0;34m.\u001b[0m\u001b[0mdocstore\u001b[0m\u001b[0;34m.\u001b[0m\u001b[0mmset\u001b[0m\u001b[0;34m(\u001b[0m\u001b[0mfull_docs\u001b[0m\u001b[0;34m)\u001b[0m\u001b[0;34m\u001b[0m\u001b[0;34m\u001b[0m\u001b[0m\n",
            "\u001b[0;32m/usr/local/lib/python3.10/dist-packages/langchain/schema/vectorstore.py\u001b[0m in \u001b[0;36madd_documents\u001b[0;34m(self, documents, **kwargs)\u001b[0m\n\u001b[1;32m    120\u001b[0m         \u001b[0mtexts\u001b[0m \u001b[0;34m=\u001b[0m \u001b[0;34m[\u001b[0m\u001b[0mdoc\u001b[0m\u001b[0;34m.\u001b[0m\u001b[0mpage_content\u001b[0m \u001b[0;32mfor\u001b[0m \u001b[0mdoc\u001b[0m \u001b[0;32min\u001b[0m \u001b[0mdocuments\u001b[0m\u001b[0;34m]\u001b[0m\u001b[0;34m\u001b[0m\u001b[0;34m\u001b[0m\u001b[0m\n\u001b[1;32m    121\u001b[0m         \u001b[0mmetadatas\u001b[0m \u001b[0;34m=\u001b[0m \u001b[0;34m[\u001b[0m\u001b[0mdoc\u001b[0m\u001b[0;34m.\u001b[0m\u001b[0mmetadata\u001b[0m \u001b[0;32mfor\u001b[0m \u001b[0mdoc\u001b[0m \u001b[0;32min\u001b[0m \u001b[0mdocuments\u001b[0m\u001b[0;34m]\u001b[0m\u001b[0;34m\u001b[0m\u001b[0;34m\u001b[0m\u001b[0m\n\u001b[0;32m--> 122\u001b[0;31m         \u001b[0;32mreturn\u001b[0m \u001b[0mself\u001b[0m\u001b[0;34m.\u001b[0m\u001b[0madd_texts\u001b[0m\u001b[0;34m(\u001b[0m\u001b[0mtexts\u001b[0m\u001b[0;34m,\u001b[0m \u001b[0mmetadatas\u001b[0m\u001b[0;34m,\u001b[0m \u001b[0;34m**\u001b[0m\u001b[0mkwargs\u001b[0m\u001b[0;34m)\u001b[0m\u001b[0;34m\u001b[0m\u001b[0;34m\u001b[0m\u001b[0m\n\u001b[0m\u001b[1;32m    123\u001b[0m \u001b[0;34m\u001b[0m\u001b[0m\n\u001b[1;32m    124\u001b[0m     async def aadd_documents(\n",
            "\u001b[0;32m/usr/local/lib/python3.10/dist-packages/langchain/vectorstores/chroma.py\u001b[0m in \u001b[0;36madd_texts\u001b[0;34m(self, texts, metadatas, ids, **kwargs)\u001b[0m\n\u001b[1;32m    222\u001b[0m                         \u001b[0;32mraise\u001b[0m \u001b[0mValueError\u001b[0m\u001b[0;34m(\u001b[0m\u001b[0me\u001b[0m\u001b[0;34m.\u001b[0m\u001b[0margs\u001b[0m\u001b[0;34m[\u001b[0m\u001b[0;36m0\u001b[0m\u001b[0;34m]\u001b[0m \u001b[0;34m+\u001b[0m \u001b[0;34m\"\\n\\n\"\u001b[0m \u001b[0;34m+\u001b[0m \u001b[0mmsg\u001b[0m\u001b[0;34m)\u001b[0m\u001b[0;34m\u001b[0m\u001b[0;34m\u001b[0m\u001b[0m\n\u001b[1;32m    223\u001b[0m                     \u001b[0;32melse\u001b[0m\u001b[0;34m:\u001b[0m\u001b[0;34m\u001b[0m\u001b[0;34m\u001b[0m\u001b[0m\n\u001b[0;32m--> 224\u001b[0;31m                         \u001b[0;32mraise\u001b[0m \u001b[0me\u001b[0m\u001b[0;34m\u001b[0m\u001b[0;34m\u001b[0m\u001b[0m\n\u001b[0m\u001b[1;32m    225\u001b[0m             \u001b[0;32mif\u001b[0m \u001b[0mempty_ids\u001b[0m\u001b[0;34m:\u001b[0m\u001b[0;34m\u001b[0m\u001b[0;34m\u001b[0m\u001b[0m\n\u001b[1;32m    226\u001b[0m                 \u001b[0mtexts_without_metadatas\u001b[0m \u001b[0;34m=\u001b[0m \u001b[0;34m[\u001b[0m\u001b[0mtexts\u001b[0m\u001b[0;34m[\u001b[0m\u001b[0mj\u001b[0m\u001b[0;34m]\u001b[0m \u001b[0;32mfor\u001b[0m \u001b[0mj\u001b[0m \u001b[0;32min\u001b[0m \u001b[0mempty_ids\u001b[0m\u001b[0;34m]\u001b[0m\u001b[0;34m\u001b[0m\u001b[0;34m\u001b[0m\u001b[0m\n",
            "\u001b[0;32m/usr/local/lib/python3.10/dist-packages/langchain/vectorstores/chroma.py\u001b[0m in \u001b[0;36madd_texts\u001b[0;34m(self, texts, metadatas, ids, **kwargs)\u001b[0m\n\u001b[1;32m    208\u001b[0m                 \u001b[0mids_with_metadata\u001b[0m \u001b[0;34m=\u001b[0m \u001b[0;34m[\u001b[0m\u001b[0mids\u001b[0m\u001b[0;34m[\u001b[0m\u001b[0midx\u001b[0m\u001b[0;34m]\u001b[0m \u001b[0;32mfor\u001b[0m \u001b[0midx\u001b[0m \u001b[0;32min\u001b[0m \u001b[0mnon_empty_ids\u001b[0m\u001b[0;34m]\u001b[0m\u001b[0;34m\u001b[0m\u001b[0;34m\u001b[0m\u001b[0m\n\u001b[1;32m    209\u001b[0m                 \u001b[0;32mtry\u001b[0m\u001b[0;34m:\u001b[0m\u001b[0;34m\u001b[0m\u001b[0;34m\u001b[0m\u001b[0m\n\u001b[0;32m--> 210\u001b[0;31m                     self._collection.upsert(\n\u001b[0m\u001b[1;32m    211\u001b[0m                         \u001b[0mmetadatas\u001b[0m\u001b[0;34m=\u001b[0m\u001b[0mmetadatas\u001b[0m\u001b[0;34m,\u001b[0m\u001b[0;34m\u001b[0m\u001b[0;34m\u001b[0m\u001b[0m\n\u001b[1;32m    212\u001b[0m                         \u001b[0membeddings\u001b[0m\u001b[0;34m=\u001b[0m\u001b[0membeddings_with_metadatas\u001b[0m\u001b[0;34m,\u001b[0m\u001b[0;34m\u001b[0m\u001b[0;34m\u001b[0m\u001b[0m\n",
            "\u001b[0;32m/usr/local/lib/python3.10/dist-packages/chromadb/api/models/Collection.py\u001b[0m in \u001b[0;36mupsert\u001b[0;34m(self, ids, embeddings, metadatas, documents)\u001b[0m\n\u001b[1;32m    297\u001b[0m         )\n\u001b[1;32m    298\u001b[0m \u001b[0;34m\u001b[0m\u001b[0m\n\u001b[0;32m--> 299\u001b[0;31m         self._client._upsert(\n\u001b[0m\u001b[1;32m    300\u001b[0m             \u001b[0mcollection_id\u001b[0m\u001b[0;34m=\u001b[0m\u001b[0mself\u001b[0m\u001b[0;34m.\u001b[0m\u001b[0mid\u001b[0m\u001b[0;34m,\u001b[0m\u001b[0;34m\u001b[0m\u001b[0;34m\u001b[0m\u001b[0m\n\u001b[1;32m    301\u001b[0m             \u001b[0mids\u001b[0m\u001b[0;34m=\u001b[0m\u001b[0mids\u001b[0m\u001b[0;34m,\u001b[0m\u001b[0;34m\u001b[0m\u001b[0;34m\u001b[0m\u001b[0m\n",
            "\u001b[0;32m/usr/local/lib/python3.10/dist-packages/chromadb/telemetry/opentelemetry/__init__.py\u001b[0m in \u001b[0;36mwrapper\u001b[0;34m(*args, **kwargs)\u001b[0m\n\u001b[1;32m    125\u001b[0m             \u001b[0;32mglobal\u001b[0m \u001b[0mtracer\u001b[0m\u001b[0;34m,\u001b[0m \u001b[0mgranularity\u001b[0m\u001b[0;34m\u001b[0m\u001b[0;34m\u001b[0m\u001b[0m\n\u001b[1;32m    126\u001b[0m             \u001b[0;32mif\u001b[0m \u001b[0mtrace_granularity\u001b[0m \u001b[0;34m<\u001b[0m \u001b[0mgranularity\u001b[0m\u001b[0;34m:\u001b[0m\u001b[0;34m\u001b[0m\u001b[0;34m\u001b[0m\u001b[0m\n\u001b[0;32m--> 127\u001b[0;31m                 \u001b[0;32mreturn\u001b[0m \u001b[0mf\u001b[0m\u001b[0;34m(\u001b[0m\u001b[0;34m*\u001b[0m\u001b[0margs\u001b[0m\u001b[0;34m,\u001b[0m \u001b[0;34m**\u001b[0m\u001b[0mkwargs\u001b[0m\u001b[0;34m)\u001b[0m\u001b[0;34m\u001b[0m\u001b[0;34m\u001b[0m\u001b[0m\n\u001b[0m\u001b[1;32m    128\u001b[0m             \u001b[0;32mif\u001b[0m \u001b[0;32mnot\u001b[0m \u001b[0mtracer\u001b[0m\u001b[0;34m:\u001b[0m\u001b[0;34m\u001b[0m\u001b[0;34m\u001b[0m\u001b[0m\n\u001b[1;32m    129\u001b[0m                 \u001b[0;32mreturn\u001b[0m \u001b[0mf\u001b[0m\u001b[0;34m(\u001b[0m\u001b[0;34m*\u001b[0m\u001b[0margs\u001b[0m\u001b[0;34m,\u001b[0m \u001b[0;34m**\u001b[0m\u001b[0mkwargs\u001b[0m\u001b[0;34m)\u001b[0m\u001b[0;34m\u001b[0m\u001b[0;34m\u001b[0m\u001b[0m\n",
            "\u001b[0;32m/usr/local/lib/python3.10/dist-packages/chromadb/api/segment.py\u001b[0m in \u001b[0;36m_upsert\u001b[0;34m(self, collection_id, ids, embeddings, metadatas, documents)\u001b[0m\n\u001b[1;32m    392\u001b[0m         \u001b[0mcoll\u001b[0m \u001b[0;34m=\u001b[0m \u001b[0mself\u001b[0m\u001b[0;34m.\u001b[0m\u001b[0m_get_collection\u001b[0m\u001b[0;34m(\u001b[0m\u001b[0mcollection_id\u001b[0m\u001b[0;34m)\u001b[0m\u001b[0;34m\u001b[0m\u001b[0;34m\u001b[0m\u001b[0m\n\u001b[1;32m    393\u001b[0m         \u001b[0mself\u001b[0m\u001b[0;34m.\u001b[0m\u001b[0m_manager\u001b[0m\u001b[0;34m.\u001b[0m\u001b[0mhint_use_collection\u001b[0m\u001b[0;34m(\u001b[0m\u001b[0mcollection_id\u001b[0m\u001b[0;34m,\u001b[0m \u001b[0mt\u001b[0m\u001b[0;34m.\u001b[0m\u001b[0mOperation\u001b[0m\u001b[0;34m.\u001b[0m\u001b[0mUPSERT\u001b[0m\u001b[0;34m)\u001b[0m\u001b[0;34m\u001b[0m\u001b[0;34m\u001b[0m\u001b[0m\n\u001b[0;32m--> 394\u001b[0;31m         validate_batch(\n\u001b[0m\u001b[1;32m    395\u001b[0m             \u001b[0;34m(\u001b[0m\u001b[0mids\u001b[0m\u001b[0;34m,\u001b[0m \u001b[0membeddings\u001b[0m\u001b[0;34m,\u001b[0m \u001b[0mmetadatas\u001b[0m\u001b[0;34m,\u001b[0m \u001b[0mdocuments\u001b[0m\u001b[0;34m)\u001b[0m\u001b[0;34m,\u001b[0m\u001b[0;34m\u001b[0m\u001b[0;34m\u001b[0m\u001b[0m\n\u001b[1;32m    396\u001b[0m             \u001b[0;34m{\u001b[0m\u001b[0;34m\"max_batch_size\"\u001b[0m\u001b[0;34m:\u001b[0m \u001b[0mself\u001b[0m\u001b[0;34m.\u001b[0m\u001b[0mmax_batch_size\u001b[0m\u001b[0;34m}\u001b[0m\u001b[0;34m,\u001b[0m\u001b[0;34m\u001b[0m\u001b[0;34m\u001b[0m\u001b[0m\n",
            "\u001b[0;32m/usr/local/lib/python3.10/dist-packages/chromadb/api/types.py\u001b[0m in \u001b[0;36mvalidate_batch\u001b[0;34m(batch, limits)\u001b[0m\n\u001b[1;32m    375\u001b[0m ) -> None:\n\u001b[1;32m    376\u001b[0m     \u001b[0;32mif\u001b[0m \u001b[0mlen\u001b[0m\u001b[0;34m(\u001b[0m\u001b[0mbatch\u001b[0m\u001b[0;34m[\u001b[0m\u001b[0;36m0\u001b[0m\u001b[0;34m]\u001b[0m\u001b[0;34m)\u001b[0m \u001b[0;34m>\u001b[0m \u001b[0mlimits\u001b[0m\u001b[0;34m[\u001b[0m\u001b[0;34m\"max_batch_size\"\u001b[0m\u001b[0;34m]\u001b[0m\u001b[0;34m:\u001b[0m\u001b[0;34m\u001b[0m\u001b[0;34m\u001b[0m\u001b[0m\n\u001b[0;32m--> 377\u001b[0;31m         raise ValueError(\n\u001b[0m\u001b[1;32m    378\u001b[0m             \u001b[0;34mf\"Batch size {len(batch[0])} exceeds maximum batch size {limits['max_batch_size']}\"\u001b[0m\u001b[0;34m\u001b[0m\u001b[0;34m\u001b[0m\u001b[0m\n\u001b[1;32m    379\u001b[0m         )\n",
            "\u001b[0;31mValueError\u001b[0m: Batch size 41797 exceeds maximum batch size 41666"
          ]
        }
      ],
      "source": [
        "from tqdm.notebook import tqdm\n",
        "for i in tqdm(range(0,len(data),MAX_BATCH_SIZE)):\n",
        "  print(i)\n",
        "  i_end = min(len(data),i+MAX_BATCH_SIZE)\n",
        "  print(i_end)\n",
        "  batch = data[i:i_end]\n",
        "  full_doc_retriever.add_documents(batch, ids=None)\n"
      ]
    },
    {
      "cell_type": "code",
      "execution_count": null,
      "metadata": {
        "colab": {
          "base_uri": "https://localhost:8080/"
        },
        "id": "nVC2sfrmWNwo",
        "outputId": "f450e670-2bc8-490f-d39e-f686eec1301e"
      },
      "outputs": [
        {
          "data": {
            "text/plain": [
              "['133e1fd8-1854-49aa-8573-253bb466a581',\n",
              " 'e7b68bd1-b231-46b7-9691-56f05a6557a5',\n",
              " '1b031797-b04a-4f2d-a45d-713830ce67b4',\n",
              " 'af7e292a-a879-40e1-8f25-fa5e88d8c66e',\n",
              " '51c3ad12-18ab-439a-87cc-0b76b207ac7c',\n",
              " '55db4f21-c4fa-44c2-a279-cd749dd22703',\n",
              " '64e075f1-818d-46c8-88f0-433c67fd74da',\n",
              " 'd42be499-5417-4486-a8c4-f86c0522f894',\n",
              " '5e50a20c-c371-4b71-94ae-aa6c5ef8f391',\n",
              " 'b2740610-93fd-420d-bf2f-d416542442ec',\n",
              " 'eb1b78ff-f38f-41fa-82d8-44856037a887',\n",
              " 'ec326012-94cf-4fb7-a3d2-aec8207840a7',\n",
              " '337ef97c-1b93-4c25-9346-b20cd5e8d1c3',\n",
              " '49528cb2-9266-46e8-a4b3-2ff33a759bfe',\n",
              " '5d01f4b2-1ce8-4942-be8d-a534680a8a19',\n",
              " '143a6057-568c-4481-9241-29c0285bd340',\n",
              " 'e6fe6e98-e00f-4fbd-a767-57fdc229e9fd',\n",
              " '4882a4b5-6c6b-48a2-bf3a-f9a0278933e7',\n",
              " '2488dd75-12a1-42ff-8a54-b700e12d97f2',\n",
              " 'dfe64086-e43e-4dc8-9e39-dda82fd08713',\n",
              " '7647da87-5171-4e78-819d-2b6386e4aa4b',\n",
              " 'f33b2784-8c35-402e-9d81-58516b6be6ba',\n",
              " '82ad785e-ed96-45ec-b9b5-14a8578a7374',\n",
              " '8cea7f08-95bd-4f01-9baf-1f5a7ad92973',\n",
              " '6b568904-73a6-4ad5-8378-72556a0c1277',\n",
              " 'c4205379-a163-4dd2-abb5-6f8c12f403d4',\n",
              " '3112d1d1-dab4-4623-8aa3-a3541e77a9d9',\n",
              " '852eb980-b868-4ccd-a8f7-130d2f69055b',\n",
              " '003bb06a-3de7-4551-9f4d-fa345e9dabef',\n",
              " 'bbd5c4f7-9d33-4dac-8538-886553f068cb',\n",
              " 'e274319e-ee1b-469d-971d-ca8e1ab53f9b',\n",
              " '83a9587d-b7af-428a-b227-b773326a5f6d',\n",
              " 'fa1acd20-0202-4bd7-9280-849404c7404f',\n",
              " '4ca17247-0169-44ef-8d01-3de1661a6e59',\n",
              " '98206408-77da-411a-8dda-a4dc2e944b95',\n",
              " '78965c6b-3ab9-4bf0-b202-252458805b3a',\n",
              " '088500dc-9452-4c14-83aa-b14335bcb492',\n",
              " 'e6e97b16-b07a-4032-ae4f-2c424dc09eda',\n",
              " '2d3b4712-a31e-4e9e-9845-b8f372cedf31',\n",
              " '6ae9111f-7a4d-492d-84ea-19433c968dfa',\n",
              " 'f00c02aa-b655-484a-ba04-13ea4b4f0a03',\n",
              " 'd2261c6c-8342-4b4b-b0db-b3817a24a515',\n",
              " '3391836c-aeac-4bb6-8934-75592b7043f3',\n",
              " '4b1da45b-ffbe-435d-a498-b5e7d18436c0',\n",
              " '3c966690-b066-448e-97e7-608684215fd1',\n",
              " 'f6fa05bd-b772-4a37-b9e3-025952f62135',\n",
              " '39a94fb3-444f-49bd-b51a-4131b79ef4b4',\n",
              " 'f3bff917-972c-459a-aef9-b79a380872dc',\n",
              " '1385f312-385b-490e-b007-f6302d5c407b',\n",
              " 'b47d1b1c-6bc4-4011-ad8c-39f418b0647d',\n",
              " '7cad26b9-e726-4bba-bb4e-1a0b006ca174',\n",
              " '9463e298-aee1-4449-884c-d07a3ed406d2',\n",
              " '026ff9c6-6395-4f49-a0bf-66738aa975a3',\n",
              " '6cca55c5-44ae-4c83-8004-b05b09a406d7',\n",
              " '38284344-4530-401e-ba9d-711eb3a31c4d',\n",
              " '0bc8e667-186e-4606-9a80-88335811a9cf',\n",
              " '0a359600-2432-43ae-aad4-5b4a3dfedc8d',\n",
              " 'd49bb0f3-3e11-4e91-a26f-ded14b32eb54',\n",
              " 'ad737a3b-1534-4436-b61c-0273385b9385',\n",
              " '8a85aa9a-01d8-4580-9f18-23323b3a2f68',\n",
              " '110e93d9-efce-4435-aaaa-e69fc24e112e',\n",
              " 'd633c150-2965-4903-b497-89f61d207eb0',\n",
              " '014a8132-b020-4c14-982b-ad5c6919351b',\n",
              " '3bfe5afe-13c8-4af7-befd-476461500bfd',\n",
              " '49a84aaf-c519-4a2e-9c22-ba5d5275f857',\n",
              " 'c4194cd4-2663-4a24-8a33-1206a30922c5',\n",
              " 'e3b80f2d-ee56-4a81-9ef7-1ed773681904',\n",
              " '38846703-2b01-4bdb-90e2-8fffa1102b97',\n",
              " 'a8148b38-74d0-40a2-8830-03f09e8aa519',\n",
              " '4ad598f9-70cb-42b5-9e50-f0c368d6545b',\n",
              " '229d9a43-dc94-4882-b6a3-08b6c307b500',\n",
              " '39ba0353-d031-40f3-9e93-5a04a81d353c',\n",
              " '9b2ad399-8a73-4572-82a6-74134e269092',\n",
              " '8bc4267f-7a7f-4e16-8f22-62a4af866837',\n",
              " 'ae4b8619-cecb-4f1e-a848-390df19815fd',\n",
              " 'edcf2a77-e742-4db4-8f2b-f4fe34c27f48',\n",
              " '9a85413a-3f69-4207-ba5c-21e29e9ce6db',\n",
              " '292e7533-ba5e-467f-9ae2-ab1cb805a38b',\n",
              " '83be9b94-7dc6-4cbb-8525-95582f812728',\n",
              " 'acdc9d66-c661-4b41-811e-60bfd89b35f1',\n",
              " '556e3b00-7c01-4a42-9a70-0d74e361cce3',\n",
              " 'd987aed5-91d0-4367-a892-bf9f70b9717c',\n",
              " '8f92483f-0e03-4c2e-87b4-0b7f1668982b',\n",
              " '02197adf-a6a6-4c7d-a46e-987c6f725572',\n",
              " 'b7839bd5-70c0-4ca9-a9c8-6b806bdd6ff8',\n",
              " '57c65f7d-45ea-4f4b-8cd8-5f35c29d05fc',\n",
              " 'a7090709-be37-4773-ba55-f2d4f831e0ca',\n",
              " '5f77f4d4-4b21-4b2b-b685-c098fe279531',\n",
              " '9bc734e7-90f4-43a7-9032-ddf11a3d551f',\n",
              " '84150d06-40f6-45a2-bacc-de83745e67d4',\n",
              " 'c7230f84-328c-4598-867b-ffd6d078f016',\n",
              " 'c7bb0215-e502-4716-84fe-2ece6e6f0d0b',\n",
              " '009a294b-3dc3-494f-b66f-94c586785a5b',\n",
              " '7695b2d5-0331-4409-9bf0-b6f8ca051197',\n",
              " '0e763e37-e02c-408f-a5da-4a5d1db9b41c',\n",
              " 'e5ae6d2e-c3ec-4e77-b838-92c9f6324da1',\n",
              " 'cdecff1d-9cab-4934-8119-d79456dd9e66',\n",
              " '5ed4d4a0-5e9a-40f1-a131-56862da31cfd',\n",
              " '341e1c60-4ddf-46e5-8c27-58abac98f00f',\n",
              " '24aa5c63-8bae-4ef7-bc1f-98da4694012b',\n",
              " 'ac6e739e-acf2-4608-9427-c6272af63ae7',\n",
              " '5496fe6f-3839-469e-94fa-5cdd54f265c6',\n",
              " '6f964989-844d-45b2-9b8e-fbae9461e633',\n",
              " '7b49a7d7-e729-4bab-9b2d-ea66d449fbcb',\n",
              " '907d1477-15b7-4a1a-9bfc-1348fcb82860',\n",
              " '343a2181-823e-4818-984e-31999dd8f310',\n",
              " 'c6144ae9-7b42-49bf-941d-c241ea7963d9',\n",
              " '336d4df7-724a-4e6e-bb55-37e9d68e5956',\n",
              " 'e7ad4b4b-5590-4b23-8f1f-4119b7fae6b4',\n",
              " '4ee36b98-545d-42a9-ae75-62f0727421ce',\n",
              " '9c098419-0dab-4094-a036-70df8d439ed6',\n",
              " '09e6c731-259c-4297-9e77-4130148487dc',\n",
              " '0c30032e-1a5f-4c1f-a2b6-ed34ab4cd279',\n",
              " 'a7920455-f804-4560-8d94-d852196004c1',\n",
              " '2690e478-9fa5-4bf3-9818-f9f5cf89afa7',\n",
              " 'c81f239d-751d-4756-84e5-bbd666bd9f24',\n",
              " '2d84266c-5fe6-4f51-8230-038a77cfb78a',\n",
              " '933d1aa7-a51b-4fdf-960d-189bfddc1afa',\n",
              " 'c83442ab-6555-441f-a764-65af372de94a',\n",
              " '22bd12d4-965d-4ab9-a421-61de9b582a37',\n",
              " 'caff5268-db4f-480b-97fc-1488142ab9bb',\n",
              " 'fbfce45f-83ac-41a4-a6be-a8cf6b841ca3',\n",
              " 'cdbc3558-8da6-419a-9df0-1066dc4845ed',\n",
              " '91762732-94fd-4aa4-85a3-670b5a46959d',\n",
              " '7c5a9f8e-050a-40f7-8bc5-cd45201d8ac5',\n",
              " 'f1a1b1aa-35e7-4f86-b3b7-b34b2dff0aa4',\n",
              " '84d36682-fc73-409d-8f47-6e9f8cb510b6',\n",
              " '133be555-1845-4524-9170-0bc64338cec4',\n",
              " '185ed6fd-ce48-42f2-b551-33464994cb34',\n",
              " 'e1b0d228-cec9-41b0-8de4-fd0e25695c8e',\n",
              " 'c1df119e-f09e-4652-af51-ad092de3e83e',\n",
              " '35b671c4-0006-441e-bb9b-d9dd6625accf',\n",
              " '43c8b158-0085-48ae-a3ac-6b6e0a9e69ef',\n",
              " 'd3aaafbb-5301-4f88-9629-1fb66bca50b0',\n",
              " '799468ff-bf47-4ddb-a2e4-9418c91e0354',\n",
              " '83a68e89-7135-4aa8-b097-f96ac19447cd',\n",
              " '84fc867c-fb8a-4a59-9292-d530b8a361d7',\n",
              " 'f1301cbb-5b3c-4fc7-9544-64a622d67bb8',\n",
              " '016c9221-8976-4ab1-8ad9-9f3a24c1331f',\n",
              " '2e72ef27-08e4-4b2b-a11b-4aa293b0a356',\n",
              " 'f6293ed2-a1cf-4796-9fbb-95bee4964179',\n",
              " '44e171c7-4228-4a4d-bfc3-031039d2d291',\n",
              " '207f8d7e-4840-4724-a57a-f4e3cd776584',\n",
              " 'fd31f038-5eed-407c-b795-3fa5e5e40eb5',\n",
              " '839cd834-e022-4045-9b70-a692b9eb891e',\n",
              " 'f2ff07c1-11bf-4a0c-9819-1195e454aa27',\n",
              " '9a980981-c40e-410d-8b12-0cd552b08646',\n",
              " '27884eb1-d2e7-458a-9dc4-207efd12ed7b',\n",
              " '2dd86413-2b9a-436b-8911-7254ce79e8b6',\n",
              " '376ab320-8a1f-4af3-936c-c20cfd03b2f8',\n",
              " '51ed776c-2079-4ecc-936a-781b568ca603',\n",
              " '5d9a5bd6-cec8-4b0d-8f13-6d4d505827bc',\n",
              " '9d0081c3-3f44-4e14-8634-24ce9be7a851',\n",
              " '4be12b73-c514-4392-94a5-0dbfe722a184',\n",
              " '7fa155db-48f7-4039-bdfe-a6e11a11ba77',\n",
              " 'b5ae64c1-8e7c-4817-a17b-be7ee9a811b2',\n",
              " '445e35ee-f471-48fe-8096-e207f1aee68b',\n",
              " '81a3411a-80d2-4cf4-aa4b-d68d6e429564',\n",
              " '723a4b54-03c2-41c2-88c3-ea6c2cb1e0cc',\n",
              " '2e93a275-c63a-46d7-8374-50c4921ff63a',\n",
              " '4e10d333-d435-4d88-a1df-8875823abbf6',\n",
              " '519b1127-1b76-4b34-bcd3-f5ae50172808',\n",
              " '2665acae-a579-4969-862a-4e0f3e34445b',\n",
              " 'dded095c-ea06-4942-a8ca-ac756bdc6cfe',\n",
              " 'db837414-de32-42f4-9d0b-dca9e1a3d631',\n",
              " 'd3b022db-6416-4424-a515-985de2363c6e',\n",
              " 'dfdb7f85-c0e2-4b78-8273-ef28ce302a7d',\n",
              " 'b886360d-f474-4eb1-9f1a-7859f2f303d6',\n",
              " '3b03189f-30cd-41e2-8dab-ec1a963fa1cf',\n",
              " 'ab616923-b2aa-4e81-84f6-02cb5036aaa8',\n",
              " '7800d48f-4b19-48eb-826c-8e9f5874fcb3',\n",
              " 'ca63f224-65f1-4785-b2ff-3e8189d4288f',\n",
              " '02a9cfee-19b0-4ab7-a55e-817a05422bc2',\n",
              " '03e9632e-5fb7-4e3a-a66d-c8d3bbd163ca',\n",
              " '2df82a42-25e9-4551-93d1-72e535250fbf',\n",
              " '41f78862-9edb-438a-9527-20a40410c896',\n",
              " '6a88b0e7-d707-4045-8dda-29350f3ba6ec',\n",
              " '1450dbef-1f8d-491e-b1d7-0c23f50f034a',\n",
              " 'b1cf802c-a23e-4337-b147-905334fddec4',\n",
              " 'e73374e8-38c5-4aa6-b46a-c9e03b896f3f',\n",
              " 'ae167c89-8296-43a9-a6a3-18b48f270a2b',\n",
              " 'f34feb01-c4d4-4745-8345-e6eaababe658',\n",
              " '2540281f-96ea-4f20-a35e-b50c9f174935',\n",
              " '868f079d-bc84-4dbb-a0ae-e43b21312c2b',\n",
              " '061dba64-6e62-4e08-bd8b-a279dc7d769a',\n",
              " 'd5868dc1-4c6e-4c1c-aa55-29c8f499b3fa',\n",
              " 'cd3073bd-7475-4fe5-b7ea-e2a7eaac8677',\n",
              " '6b35c33f-86a8-4ac1-b7f2-a0bdc68ef072',\n",
              " '0396487e-c0ee-4338-87ff-18a06faa0a8e',\n",
              " 'be7243d9-00cb-44ab-83c3-dcc63fa716d6',\n",
              " 'd3fdc15e-a330-4813-8f18-24e261e49b83',\n",
              " 'aa094627-f078-4b8b-b153-9bce6695065f',\n",
              " 'f2dabe00-1cea-46ff-839e-39c25ef40e5f',\n",
              " '21c1a833-7fe9-40c3-bcd4-b709377726ae',\n",
              " '85a7658b-1a0d-490a-85fe-669a6820e5e0',\n",
              " '158d49cc-d498-4666-be44-90d3dd62306f',\n",
              " '32f8c60b-a134-4312-a531-78b7b27de173',\n",
              " '8c08bc6b-34bf-4fed-81f8-64cbe654bf3e',\n",
              " '27cbaab9-8b13-4009-8b27-1a64c4369092',\n",
              " 'e4659f76-470f-4b52-826d-33952eab7676',\n",
              " 'c22180a8-a8a0-470f-954a-de244bb6e08b',\n",
              " 'ee9cb853-c1c8-4a98-849a-1dfb588442e3',\n",
              " '4bf21548-bc55-40f3-8e58-a6aac1618e7d',\n",
              " '1af7bca7-c108-4ff3-bd17-36f4e8e46f85',\n",
              " '9a8e89d9-6875-4fe1-9107-ac6bf9b8d6ed',\n",
              " '90d2ea73-0939-4ac6-b218-164f10646865',\n",
              " 'bafa6635-847a-4a8b-98d6-aac4cb77f3e0',\n",
              " 'ad8d7c7c-8091-4e68-91bc-6e4e5a6c8241',\n",
              " '85a08960-5624-43e6-8b86-e3da925987bc',\n",
              " '0b56b228-cb5c-44b9-82ac-d1efb3b7d471',\n",
              " 'bd3a9422-88fb-487b-b4ed-41633289b9d3',\n",
              " '48cc9466-0485-4e50-949f-443c36b61a5e',\n",
              " 'ce151afa-18b0-4dad-9263-69b141a99253',\n",
              " 'e6c94f69-8f5d-42ac-884d-4a1e30badd44',\n",
              " 'e975b234-435b-4177-b79b-ef82dbf6eec1',\n",
              " 'f1756fdf-40c4-4826-8f53-1d7ffe3ef4ea',\n",
              " 'cda8bb6b-dc57-4728-8549-86cac5f8eab5',\n",
              " '0518a834-83b8-4616-b1f0-5d47b8413e5d',\n",
              " '196bc359-6d7c-459e-abfd-67738eb60de5',\n",
              " 'b0f37b50-2f92-4890-bd2e-314ed2ec284d',\n",
              " '8f36ca58-6483-4d1e-bd15-5e80af0686ba',\n",
              " '3a3de566-0433-4e4b-8916-593a1f4afa07',\n",
              " '2a191a61-89a7-4e11-b385-088503da116e',\n",
              " '93e1ea4f-fbfd-4e86-8628-aed405b0d65b',\n",
              " 'edce333d-dbb3-4d0c-958e-7f5a45d37406',\n",
              " 'c46c99ee-a563-4382-9088-d91017d86541',\n",
              " '26a61407-1c11-4021-beb2-a395937b5bd0',\n",
              " 'd47a2d43-8a19-4c37-8aa1-1788553d111c',\n",
              " '467f9dc5-eefc-49e8-817e-f6b465e5fc61',\n",
              " '4100333c-a01d-4d2c-8e51-dc269a6cd90f',\n",
              " '751bfe7d-c059-4a7b-a21e-25fafd33522c',\n",
              " 'f02eb23e-40e2-4108-8322-6758588c35ce',\n",
              " 'ff53295a-8012-4da5-b716-1bae4873d74a',\n",
              " 'f020e026-f948-4c90-82b8-f93e58f6afc7',\n",
              " '78b62066-a698-4995-ad33-427fb289bcc9',\n",
              " 'f2e863f0-369e-42a2-aece-c9a1799dbccb',\n",
              " '20cb3ab1-656c-4ab0-a932-518ec8c3dc92',\n",
              " '492b6fcf-a61d-4cfd-9825-181f4580fde4',\n",
              " 'edbae122-42cb-4a19-aa4b-641feb3084c6',\n",
              " '49a1540d-89ae-4643-80ad-31aba56831d0',\n",
              " '561eca8d-51f5-44fc-b8e0-f6816bd7c1ba',\n",
              " 'cbfa81ed-2109-49c9-8d8e-39a37a7c6fe2',\n",
              " '999a5439-e5dd-4b2e-ae3e-ff81ca244018',\n",
              " '6398da77-c6bd-47e5-ae51-d5885b58e40e',\n",
              " '43966468-1fed-4ab2-a200-5c24d3d602f4',\n",
              " '63e3b9c0-cc42-4f0c-af6b-3149c1ce9b77',\n",
              " 'c5c7b593-cfed-4cdd-b03a-b874e013d4d5',\n",
              " '7f723713-553d-4f82-9fb6-32ff932046e2',\n",
              " '1dd705df-6668-4019-a858-904745bdd462',\n",
              " 'bb5ebc54-f513-4f01-aa6d-b0d0fc0eb4e7',\n",
              " '43a56819-d551-4963-a4ca-b1191357cedb',\n",
              " '56df1745-9d80-4f4b-8bda-65ed5c696bea',\n",
              " '4685d5b5-195e-47d3-a877-549b18fa8457',\n",
              " '0ed48fdb-3634-44c5-a404-f1543e40430a',\n",
              " '4c53a4f5-f023-46ab-bbab-7f5f5a55d4b7',\n",
              " '38ede6c2-f9ef-49ad-b2e2-1e50988092af',\n",
              " 'adc4f42f-4cce-4f7b-a564-0635802e173b',\n",
              " 'a090edbc-a59d-498e-83cd-bffb10505c4c',\n",
              " '05cfc24a-e2b1-4eea-927f-c3123f4ebc8d',\n",
              " 'd430ec76-ab31-44dc-b07f-7da0c724f603',\n",
              " '60ac1018-0cf3-43b0-aaf0-9d1af61ebf7b',\n",
              " '1cee32dc-b7cb-48e2-be4f-cae6d09fe517',\n",
              " 'ae10e118-272a-448f-9aa9-60905f2f3355',\n",
              " 'f1990b74-9b35-4745-a6e9-f19d0b51e8b3',\n",
              " 'd633f294-1c49-4833-966c-03ffa87f105c',\n",
              " '2d23e30f-a478-4fe9-8e20-a9f5572a52b0',\n",
              " 'e6c95641-12a7-4131-be0a-5187c1ba54e5',\n",
              " 'f547f769-961d-4db0-8446-43b0b9a3db9c',\n",
              " '031f81c7-d997-42cf-9941-48a712dd199d',\n",
              " 'abbc6df7-f6c8-4c0e-b71c-715318889804',\n",
              " 'fd0a497d-5d7e-425b-86b6-38cf142bb87a',\n",
              " '994795cb-4dff-4428-8b8b-7c60da332394',\n",
              " '3ca63edf-129c-469d-a768-00317e18d570',\n",
              " '84bbd6ac-dddf-4e99-a1ae-46a32f4a382e',\n",
              " '268346b7-7a06-471d-86e6-2b5f5f15b638',\n",
              " 'aaa51ea6-a781-435e-90e8-6b47dde22dc9',\n",
              " 'da90c841-8696-4597-8519-3d8ccfc28e76',\n",
              " 'e43a8ada-16d7-4d4d-966d-a69f98b0fb33',\n",
              " '4a071c20-eba9-4637-af3b-527eb1aa547b',\n",
              " '6f87f961-368a-4ca5-bfa3-a07042612ffc',\n",
              " 'd7a9ddf2-01a7-4240-8c03-514628c9efe2',\n",
              " 'be2611d6-8ce0-4c89-a12a-5c91cdf65307',\n",
              " '67444d4c-64b5-497b-9a7e-6ccfb44fb09b',\n",
              " 'ff4c8209-75ab-4fd7-9fcb-08c0be1e9aed',\n",
              " 'e7a32512-313e-438e-b96a-14f5ccbbbf53',\n",
              " '6476c795-2f7c-4198-bcbf-ddf4dfe5275c',\n",
              " 'b3cefe86-d432-4d5a-a1e5-55608658e3cc',\n",
              " 'a4546cb1-87ea-47a6-8c1c-a6a72b9a79b3',\n",
              " '9708da4e-e47a-49bd-a523-296c1fe52ea0',\n",
              " 'c00552ce-1037-4720-9839-86c3e850051d',\n",
              " '4ade9e22-f41a-4705-a68a-39870b843dd1',\n",
              " 'aa073cfa-ba56-4901-860f-63a8d0bac54a',\n",
              " 'af25d31e-c4c2-427c-a342-bbbebb56d4fc',\n",
              " 'c063e352-75af-4238-9f93-9f78ada7d048',\n",
              " '4fb0e0bb-1ec2-42ee-9f84-669cc63c4afd',\n",
              " '8e1b871f-5ac0-4ff5-86ab-4bec25d68d5b',\n",
              " '13c7c794-ed7e-43bf-8a55-e5db6c8671f9',\n",
              " '705275d3-57e4-4d78-8377-73b452cd8458',\n",
              " 'c9f2f58f-59c7-4675-9f6d-1fcc3394dfa8',\n",
              " '0f624a48-5272-4bcb-83b9-97e34947ea30',\n",
              " '8ada86ec-f71d-4eb2-ae33-db7c635b3dcb',\n",
              " '830551dc-61d9-4e47-abee-9c4d7a9effae',\n",
              " '6828a74e-e837-43bf-98d4-889c07cabb4c',\n",
              " 'db3c9003-58fc-42a3-9084-26298ab8c181',\n",
              " '305fc952-9ec1-4251-82ee-7bf393b410fd',\n",
              " 'edaeb996-4f8e-4a27-b94b-eeb0072eca01',\n",
              " '7366a5ae-975a-4f97-b8e4-9e8e2fe3aa58',\n",
              " '88722510-07d0-4dc4-9724-36096597cefa',\n",
              " '24bc9e60-99d2-4eff-b058-130d886c0f32',\n",
              " 'abbd757a-32f0-484b-a9da-a362a375d7f3',\n",
              " '9ccdd8a2-3f4b-4bc0-80fc-e3be12902a7c',\n",
              " '5d84f2d5-4167-4f24-89b5-9509a7a9d017',\n",
              " 'f11b3b76-2625-454f-847c-50a6dcdca7ae',\n",
              " 'adcf9aaa-9ad6-443d-8d24-51eccc9dbc77',\n",
              " '25cb3649-76e6-4b3c-9a43-05b9d6507951',\n",
              " '5f01558e-a66e-492f-a881-d1afcaf3865c',\n",
              " '0827d4cd-bb2b-40c2-912a-654dfaec4a5b',\n",
              " 'bedcc34d-122f-4d35-8c06-9ac48461d10a',\n",
              " '36fb99af-abbd-480a-8521-9292f2ffd79f',\n",
              " '5d01d993-4f0d-4577-a852-303890bb0188',\n",
              " 'e5d3fa34-4ee6-4f8f-b20f-ccd15ec8b575',\n",
              " 'dc682a11-cef4-434c-8038-bc88d7b20828',\n",
              " 'c943ca05-a04b-4f64-a3dd-ad445a7848e7',\n",
              " '2d74a95c-9229-4f8c-9466-17f201d68a46',\n",
              " '8700d306-d319-4786-9034-732208fc3dff',\n",
              " '96be4012-3172-4cb8-bd17-b8fc8d47d698',\n",
              " '40305a23-c229-4483-b4a3-392e3de5e05e',\n",
              " 'd4c3025c-9b7d-4446-8061-56246e47aa03',\n",
              " 'ae74cd02-5b7e-4a8b-a2a5-850d7b6c387f',\n",
              " '9556be6e-b2bc-406e-af25-8f3878b03d84',\n",
              " 'a0105f8b-40e2-4060-9593-6a4b7a22b9a5',\n",
              " 'cc6120ee-860f-4f8f-8496-6239779b79d3',\n",
              " 'cd8be7e1-f393-43eb-b450-4ed2e5b9285b',\n",
              " 'ce327a65-403d-45a1-994c-6b1aa6af9c1f',\n",
              " 'cacf01fe-c1e1-4c74-8c04-1ae48c25f5c6',\n",
              " '59829552-bd51-44c5-a07b-56377445914c',\n",
              " '5597848f-0489-4341-8ce7-1286bcb531d5',\n",
              " '63ee3de3-353b-455f-9a62-8833fb3572a0',\n",
              " 'ce562e34-b790-4566-9f34-62f613ca208f',\n",
              " '2edc14c3-161e-4075-8646-9075330a142f',\n",
              " '409f1997-24db-454d-88dc-273e47f7f661',\n",
              " 'ddbaf57e-46d6-41ba-8017-d813cd425eb3',\n",
              " '9eba0955-1b6f-4dab-a2d0-255502041361',\n",
              " '898b3d18-02d9-4b32-8bbc-ae4c330c8ec4',\n",
              " 'c322826c-ca78-4754-8adc-6777ea6e3a3b',\n",
              " '0fdd59d0-d4d6-40ba-9883-3d769faaaf53',\n",
              " 'e297bd52-f4ae-4488-9b1f-7cf9b552ba6f',\n",
              " '9a3d842c-5347-4e5f-a984-a9d0ac62fa93',\n",
              " 'e76a5a89-de7e-4e4d-beba-245b06145cb7',\n",
              " '198d0e2d-805c-4292-8e7c-a610485b7a16',\n",
              " '0f97a691-dc15-4981-9a92-60f3f0fd45dc',\n",
              " '6e349563-64ca-4da0-a1f4-818399821b46',\n",
              " '550f579f-7905-4eec-a974-675125240da0',\n",
              " '23b82e7f-25c1-4533-9a82-2c6698168ded',\n",
              " '243d6422-c919-455e-a5ec-5db6b3ec7558',\n",
              " '34c72b78-b67d-411a-8be2-effc15f942f9',\n",
              " '10a721d8-834f-40b4-a6a5-da8c49b8ffc1',\n",
              " '74d305be-a277-4a92-950d-415b198cdc8f',\n",
              " '60e96360-4908-431b-93c8-d6e1adfc1985',\n",
              " '4fe09017-3170-4500-9042-0017112edc6e',\n",
              " 'a68496c7-56cf-43da-a00a-52a350f000ec',\n",
              " '0ee38ffc-1d44-44a6-ab66-1c4a70c3fdd2',\n",
              " 'e6d39987-f039-4cbe-9779-030f6e54a14e',\n",
              " 'af9ef601-7eb5-4c4b-916e-d6c0c59f7c44',\n",
              " 'dfb55784-ea2d-4f28-aa09-76fc4fb8205c',\n",
              " '6d5df4e7-2be7-4d8e-ac67-097deb8bf898',\n",
              " 'd0651c24-7a27-42cf-9e4f-360a5bd0dfe6',\n",
              " 'fcf8fc10-19f6-40df-9262-81cccc08efbb',\n",
              " '465c1c1c-2777-4458-b52b-775e9d0ba81f',\n",
              " '4c604080-15b5-451d-b674-1ee889936cd0',\n",
              " '5bcfb952-595c-4ee3-b1ef-25e3b8ae8138',\n",
              " 'd0370df1-42b6-4072-a716-c4a661a5f3c6',\n",
              " '516a8bf0-9d3d-4867-84ef-316c4ce9aec0',\n",
              " '5ab8853d-73ff-447e-af15-cb78432f95d1',\n",
              " '94982917-d86a-441d-acc9-f4b3e41dfbfe',\n",
              " 'd5a9746f-8f30-4469-ad49-7550952d374a',\n",
              " 'bd070c75-f748-44e9-aafa-ad7984eafec2',\n",
              " 'f702a007-82ba-4e56-a9f6-8c1e36810b07',\n",
              " '237b6781-b1f3-4e1b-85f7-76b85bc42a70',\n",
              " 'bec4449e-148c-4d41-8596-863d99d4ef28',\n",
              " '7fc31ab1-1723-4762-b416-09c0c6247640',\n",
              " '5278f283-c928-44ce-8f1e-b2ef3a7e589e',\n",
              " '6f823f23-a33d-4a99-b554-76df20ffaba9',\n",
              " '753edae0-dbd3-46f9-bc72-b3c76ce574b6',\n",
              " 'e3b4bbf7-8ae7-4900-9e19-3ad49988b256',\n",
              " '1180cbc3-bb70-420e-98f0-a61442b1233d',\n",
              " '1a407f25-4922-48d6-9f80-d402bad41520',\n",
              " '53a0a347-c5e0-49e6-9d4b-88dca0f35a52',\n",
              " '8aed2dd5-3f40-40cc-82ae-fe93e7389bad',\n",
              " '175f2289-f6f5-4b15-821f-ebc273e95792',\n",
              " 'cad6868f-15dc-4dcc-9988-a72584e8b7b6',\n",
              " 'dac92e34-ab28-4d39-9f28-978513203a04',\n",
              " '67aa7222-30ab-438b-bc96-752217d5a63c',\n",
              " '8f2059ca-bbe0-4ff6-b5e0-d9397fdbe340',\n",
              " '9b2dc113-cde2-4376-901a-af25bf76dcfa',\n",
              " '67d33198-229c-43e5-95b5-8f086e4905f7',\n",
              " '133032f5-c22d-4486-b2cf-cf10f300a494',\n",
              " '819b2ef2-b424-463f-947d-94b4ba5129ea',\n",
              " '47e3c1c3-9259-4fcd-8b55-c606b9fdbaf6',\n",
              " 'b0d907dc-8d9e-4c51-98e1-ccd1fde96da3',\n",
              " '395b6bf5-05ae-46aa-8aac-74f0fec42faf',\n",
              " '82b88a1d-cf42-4039-b35c-0a9c84c575d8',\n",
              " 'e72ff665-81eb-4375-8e12-21bc1e9895cd',\n",
              " '19915af8-219f-4570-a2d3-720e85d474b3',\n",
              " 'c3470490-4dfe-4e6b-a038-eb4e06d10422',\n",
              " '9715f738-084f-4ee7-8b88-a5c011ab95fb',\n",
              " '30a09fa1-5f60-4202-9085-87c8e48d86ff',\n",
              " '0cd54527-0801-4d40-aa37-4e0e146f229f',\n",
              " '0fb022b5-d76e-47d5-ab0c-2b712c3410cb',\n",
              " 'c7282c3f-3a62-4722-b54c-7d4d3a37d880',\n",
              " 'd57db464-ae1f-43f1-b4cd-9f7abae4d14a',\n",
              " '5bbc5a56-720c-4452-8271-d176bb4d2c91',\n",
              " '91ab73b4-61f9-4624-abce-842e2342b5a6',\n",
              " '069c0e79-ee30-435b-a9fc-36c4d49329a8',\n",
              " '3421a324-1081-42b6-8f2e-66ca308b4ecb',\n",
              " 'dc168660-85b3-4e19-9f36-a7140aeb9c74',\n",
              " '6a84b0a5-c326-409b-84b0-706b6a5dcc3e',\n",
              " '2a6b0338-ae79-4901-ba81-60f7af8ce0b9',\n",
              " 'c5bc7f4d-6050-4500-887e-adda6ca5dda1',\n",
              " 'c0e14a11-026a-46c8-b88b-5f5f35980602',\n",
              " '8808e3e6-9908-4351-a20f-f04698cdf0e7',\n",
              " '288e4c3a-08d3-4994-87b4-5a85668a8c05',\n",
              " '15224813-1f8a-41e0-a9ea-ceea82e32895',\n",
              " '4e72ec74-005b-4686-bffc-e8a4b2b48f85',\n",
              " 'be22e0c7-07b0-4860-90f6-d6f13f9a980b',\n",
              " '0dc98c61-52c0-4865-a609-1bee0462175a',\n",
              " '1f268017-17ec-4a10-bc16-c1c88fbcc3d1',\n",
              " '42fe292f-201b-4571-829b-44b10e6f26a2',\n",
              " '7ac81ea0-67f5-4e0d-a222-ef276aa660c3',\n",
              " '0e5e900e-8529-40f6-a4de-03c02a8e355b',\n",
              " '290afb82-ecb0-4f0d-b401-255c9371ca6d',\n",
              " '412f8fa7-3239-4115-b71c-d59470858e0e',\n",
              " '0449eee5-eb24-4c6e-927d-ce7307576939',\n",
              " '8a745d2b-b73a-4788-a9f9-613319ea0d9c',\n",
              " '559c2281-282a-4c10-b608-a40bb36fcccd',\n",
              " '78736b51-f9a2-40a6-8f1d-49c8e09ee25e',\n",
              " 'e8792405-fe16-4070-8bb2-4bcae311c7d8',\n",
              " 'f8481a24-b87e-4e6d-9e8c-fb0ab88d0648',\n",
              " '675590ac-ea9b-4b5d-8585-224b33740f57',\n",
              " '631138e9-31ab-481a-8ee2-7b29452a42a4',\n",
              " '2e22fd75-9944-4cea-b581-746abbe18644',\n",
              " '67126430-d226-45aa-9054-78de04de522d',\n",
              " 'c6827ae7-f871-4cf1-922a-24ff3d2ec5ad',\n",
              " '65264404-b0d7-4b78-ad13-11e920659ce6',\n",
              " 'ade69276-10f2-49f9-b4a7-b5da5b8626a4',\n",
              " 'db5cdf1d-8a04-4a66-ae55-22389bf0fc4a',\n",
              " '7bf6bcad-63f4-474c-976a-f46b2c9b53f7',\n",
              " '205d7c57-931e-41ed-995c-f4210ab328f0',\n",
              " '58b1bbc0-1468-484d-916d-227b807e6d6f',\n",
              " 'f480f1d0-d0aa-4742-b16b-eaa35cd835b7',\n",
              " '6c04136d-9396-48b9-ae02-38eb9435ddf4',\n",
              " '2e36b12c-dc76-4fd5-a6c9-1e3c204d8045',\n",
              " '06d977a0-26a3-481b-b3f2-5147024f6987',\n",
              " '46d0eee1-cec7-402a-8255-99989da69b60',\n",
              " '533571b3-aee2-4eba-8279-98534fe33821',\n",
              " 'c0bcd61e-1a31-4a67-9f56-e6f89ae9b35b',\n",
              " 'fd40c308-832c-428c-887b-f99a6752ba77',\n",
              " 'c174d3a7-5533-4e95-99de-7df7a677056e',\n",
              " '712fa52d-a32a-4a49-a801-13dee8a151cb',\n",
              " 'ccb30cff-285f-4e01-9b08-98960a5fbf30',\n",
              " 'b4832df6-847c-4430-bf07-c002ebdee299',\n",
              " '66e426ed-6b39-49b2-ad55-beb3815e59c4',\n",
              " '838e3c6e-1614-4879-8dfa-a075ebc3db32',\n",
              " '8ebf2ba7-e30c-4576-9ec8-9701b3454bc8',\n",
              " '6b67b868-1096-4acf-83c5-f2099c0113da',\n",
              " '5b907387-576d-4d0b-a050-44c6c9b20454',\n",
              " '531fd3f5-e109-4120-9e94-89044dbc237e',\n",
              " '0d773527-4ffd-4c4d-842a-96722e2b3af9',\n",
              " '5c19edcc-5530-4cee-b632-d406edeee329',\n",
              " 'b14ab8be-5995-445d-87b5-3985324877e0',\n",
              " '9973c9c4-b546-4b1e-866e-b1fa620878bc',\n",
              " 'eaed2c97-f65b-41a9-8c73-73dcc03dd435',\n",
              " '6030a795-9af0-46fb-bf94-b443a727e7a6',\n",
              " '81a1d1cc-3455-4f64-8c04-6b4860c692c9',\n",
              " 'ebc19b59-6e8e-482c-b790-4eb4031698d4',\n",
              " '7357d277-f781-43c4-b4c5-a9fd64225bae',\n",
              " 'ef2db534-1962-45b1-aa28-a0fb9accd55f',\n",
              " '713f2eb0-7825-4fef-bde1-df682d2b7a4a',\n",
              " '72543757-69f2-4249-bfbf-5fd997128170',\n",
              " '60b91682-0a0f-4c6b-886e-e5630e67fdce',\n",
              " 'b3c13e69-07eb-4369-9eb4-949c1fdf83f8',\n",
              " '0ff106fd-18b1-4549-b102-55de4751f5f8',\n",
              " '8d044f5b-0347-4b26-aaa6-83ea4b076094',\n",
              " '66f80596-dcdb-48a2-9d38-3d653364f514',\n",
              " 'cfe77147-c3ce-4d57-a0be-3f66e16ceabd',\n",
              " '1cd5c05f-0563-4c57-8fc8-2b3c34e7ac62',\n",
              " 'e9e0c13a-44e5-4998-883e-b8e29e185234',\n",
              " '3003fbc9-9eba-4b65-943d-bc88bdbb0528',\n",
              " '279211b6-8b11-48da-b0e3-e457f2bf6200',\n",
              " '5ac70972-9b37-46f2-8b89-ac00e955557d',\n",
              " '0fd1b744-45a7-4dbd-a808-44c3bc1e83c8',\n",
              " 'af70a05d-06cd-4256-8d55-e0392174557c',\n",
              " '4d398d51-dc28-48eb-877e-fa3b7fbcde83',\n",
              " '124afb8e-d89b-4b68-961d-f2b3156ab52d',\n",
              " 'be6da609-fa25-4385-be66-e8dcc7d7ac93',\n",
              " 'deee0e1f-39e7-4c8e-b4de-f3338c4659f5',\n",
              " 'e5659030-f6e7-443e-b209-a7293675ac86',\n",
              " 'de989a5d-6df9-4a67-b65f-5396f8ffdaee',\n",
              " 'e96c83de-dcc0-4184-b8fa-7f6bd4897f77',\n",
              " '672c7091-3bbd-41d7-8bcb-6bbe64c17080',\n",
              " 'aa604f69-6afa-47a4-bc81-915a29b1dd99',\n",
              " '21039137-5c1a-49f0-b23e-d9db90cd7a70',\n",
              " '8ec07864-ed7b-4cfd-ad45-63e1bac20697',\n",
              " 'daf10dba-4b0e-4748-b10f-b6a0a4fea80e',\n",
              " '93392bc8-4b67-48bf-bca4-30d86ce779c6',\n",
              " '8b99307e-5c49-4455-9c6f-adbe588e37f7',\n",
              " '232e28ae-fbb9-49df-be8e-c20df67935d7',\n",
              " 'c987d249-cfdc-4a65-a20f-a3d23d7cf572',\n",
              " 'c141bfb7-e48f-411f-949e-16a757c1e7f6',\n",
              " '92fa3300-8459-404b-a635-843195f4d725',\n",
              " '53b8b127-2bc9-457e-8afe-3230b56d0e88',\n",
              " '58870367-b413-479e-874a-ae20750c7e17',\n",
              " '25514809-5084-48ea-8b84-60aee0a57090',\n",
              " 'bb0d2a2b-8f2f-4823-a0b0-0055830a1576',\n",
              " '640b56ef-04ef-4a10-86e1-6d4780f2205c',\n",
              " '81b4ed65-b1b8-4434-8d0e-0b1ad8e71eb1',\n",
              " '5a0774ca-b730-43bf-910e-db10bf494595',\n",
              " 'b45d2e40-52da-4cb6-97b3-1c1a4e5cfe59',\n",
              " '8a8fa07a-a54b-4b75-a04e-57265464d931',\n",
              " 'a97c4e92-c20c-48b3-8337-539ba5395ec1',\n",
              " 'd22f75a9-6f43-40dc-8807-75f421a6364f',\n",
              " '2ca3f8be-ea88-45d6-b672-af14b0916141',\n",
              " 'ec0c4554-a896-4f61-9b24-5d20b56295ca',\n",
              " 'bc9243f6-f41d-4e6b-a013-ed34480aee3e',\n",
              " '57c4c4f1-de6b-4b0b-b1bf-0e10a6129273',\n",
              " '339c0469-84c4-46f6-891a-629a6cc35518',\n",
              " '89dba88d-11c8-4edc-b725-0e7520f00e71',\n",
              " '6552186e-8da7-45eb-afa8-2370a564e1cb',\n",
              " '678a1438-1c37-4593-970d-5c06e483d103',\n",
              " 'f857f293-d7c8-4bbe-9cca-3f9f794bd151',\n",
              " 'cdf8b4e8-a610-4064-a0af-00a5a9d0b83b',\n",
              " 'd60bd3b1-5ef7-4909-ad58-e9b8ad6b6f5d',\n",
              " 'a27a3bf0-67ac-49c2-8883-2f2073c5574a',\n",
              " 'ac2adc28-7ff4-490d-b9ea-58cf045a8c50',\n",
              " 'd1c06330-853c-43e8-80e2-f032222574f5',\n",
              " '620bb410-3c4e-47ef-b10b-0b5f6dba2c44',\n",
              " 'f0613f26-d2a7-4dcf-91a6-658f5e832260',\n",
              " '187f3198-b4f7-443c-aba4-e51317e6cf20',\n",
              " 'a94c3317-750f-4a71-9eae-67e0b7d01f4d',\n",
              " 'a4887165-268d-439e-a634-d00a9600768a',\n",
              " 'ddb05cac-9cb5-46e2-801e-ea0f2ba59f28',\n",
              " '35df85e7-01ea-41d1-bc19-25268f9188ca',\n",
              " '71007a0e-3d57-420d-bdf6-cffb9e4c1a28',\n",
              " '7d02d537-637c-4070-aee3-0f0481296906',\n",
              " 'e0db5129-01f8-4359-aa88-bc60dc215048',\n",
              " '4ba6e787-3eff-467c-adce-ef0254b68bbd',\n",
              " '5222eefe-03af-4315-b839-2cd2c63007bb',\n",
              " '295295be-e83a-4ccd-99ee-d11e09f1f9f5',\n",
              " 'c409b75c-e690-48e5-9c1e-0dedb43604b4',\n",
              " '7f0d8546-e58e-43d1-b4a4-b4bac2205c7e',\n",
              " 'd4f9a6bb-08e5-47f9-a77b-bcf357a4e808',\n",
              " '7c76a192-75a9-4ff7-97a1-aa1a0ffb31e8',\n",
              " '712f7754-9474-48f7-a2b3-2934e19e0d54',\n",
              " '19ef0823-7ca3-4d0c-b98b-f17a16bfdf8a',\n",
              " 'c1f0793f-fab4-4396-8200-f93d92cdb834',\n",
              " '740633d4-c1af-48c3-9e01-8234bb0f2060',\n",
              " '17f2df19-42b2-4a5d-8deb-2f5e8f7aa494',\n",
              " '57b7a7cc-2658-4e44-9f20-6e7c75fe70f9',\n",
              " '039076c8-4baa-49a4-b063-2cfb4ac1adc5',\n",
              " '37ed3855-17ba-40d7-a11c-e0e33b4eaa46',\n",
              " 'fe7fe005-bca4-450e-9443-10c8da8e238e',\n",
              " '5415ec68-5bb0-432b-b9b7-79d88987697e',\n",
              " 'f631b900-e8be-4c9e-86cc-2e4f6a231dfa',\n",
              " '48db6373-9646-426b-ace4-074ef9411611',\n",
              " '0a8a91f0-c815-41fc-99d9-24b9fc6602b2',\n",
              " '5842cce8-37af-4236-9fa9-c38d5d719881',\n",
              " 'abbbb32d-482e-4dd3-afa3-37d4030b2e31',\n",
              " 'bfd08909-d05e-44d6-ba7f-51276cb735dd',\n",
              " '83d849a0-08da-49bb-bbd5-181958a95e1b',\n",
              " '1d41d876-2188-479f-888d-a832cd3819a0',\n",
              " '8717e659-2794-4e77-a396-42db1afab5a8',\n",
              " '4d98ea31-2de6-4508-9e8e-2fef2e0c594e',\n",
              " 'a9a1c7d2-1533-4317-9233-8eae17495338',\n",
              " '8a9a798b-2923-4f44-9de5-2e826873dbd8',\n",
              " 'a0ed7e15-1715-48b6-8360-f5ad3fa65799',\n",
              " '10ee1cdb-cb8f-4f82-8fcf-25f1b3847ddc',\n",
              " 'b5469f98-e428-4701-9bfa-1453ff32d795',\n",
              " 'edfb1743-d6e7-4d04-b504-c18a1b37c87a',\n",
              " '167cea31-5b4a-47c3-b837-4b9df316b54d',\n",
              " '7257438f-b339-420d-b0fa-f3e7f0938156',\n",
              " 'e915961a-2573-4cce-9714-5a56b67369c7',\n",
              " '864781c3-0cc2-49f7-91cd-36332deab402',\n",
              " '69d3b3ff-b981-4004-bffd-bd27e9a29979',\n",
              " 'f1a58368-87ed-4605-89f9-17e560ec6924',\n",
              " 'e1ef6c29-2bcf-402c-a0d4-cfecccb21d46',\n",
              " 'b8f583f2-8c1d-4711-ac4a-d3a6ed4ccef7',\n",
              " '2925b1b7-184b-47b3-81e6-42f0bd5b4e23',\n",
              " '77fcaf62-ae78-42ba-89cc-5ca3e259f826',\n",
              " '26fb5a9b-637f-414b-8996-a851cd9c3c57',\n",
              " '60c5a669-0332-48e4-acca-7cec5b9daf06',\n",
              " 'b36ca7c0-89d6-41e6-89bb-3a94bb7c604e',\n",
              " '28811e1f-ce26-47c2-b28d-069d0fbd8b26',\n",
              " '21f915da-b6e7-498a-8b1c-91060e716da8',\n",
              " '9da8d4c2-616b-4d4f-bc1a-2c378577db40',\n",
              " '6cf3cbab-d9c5-435e-869d-c8eea68077ed',\n",
              " 'a1602bf3-76e4-4ad6-b3ec-9fff1c80acb8',\n",
              " 'eb3c2845-a11c-439c-a155-a2c50462d38b',\n",
              " '4bc609f6-254c-4cf3-8339-b97813727c99',\n",
              " '85c5ba81-285f-4dd5-8664-f2d394790f3a',\n",
              " 'ee75c4a2-ff19-463e-b1c1-320bf82d46c4']"
            ]
          },
          "execution_count": 20,
          "metadata": {},
          "output_type": "execute_result"
        }
      ],
      "source": [
        "list(store.yield_keys())"
      ]
    },
    {
      "cell_type": "code",
      "execution_count": null,
      "metadata": {
        "colab": {
          "base_uri": "https://localhost:8080/"
        },
        "id": "c7yO4-mSbmdZ",
        "outputId": "a43644b0-311d-4118-f950-546d5b4d7af1"
      },
      "outputs": [
        {
          "data": {
            "text/plain": [
              "600"
            ]
          },
          "execution_count": 21,
          "metadata": {},
          "output_type": "execute_result"
        }
      ],
      "source": [
        "len(list(store.yield_keys()))"
      ]
    },
    {
      "cell_type": "markdown",
      "metadata": {
        "id": "R4XjbnFxdFk1"
      },
      "source": [
        "## Retrive full documents"
      ]
    },
    {
      "cell_type": "code",
      "execution_count": null,
      "metadata": {
        "id": "L0MuURDLdIP-"
      },
      "outputs": [],
      "source": [
        "sub_docs = vectorstore.similarity_search(\"Who started the project Karnataka Wind Power Carbon Finance Project?\", k=5)"
      ]
    },
    {
      "cell_type": "code",
      "execution_count": null,
      "metadata": {
        "colab": {
          "base_uri": "https://localhost:8080/"
        },
        "id": "O6-BqPridSPY",
        "outputId": "28e8a5df-7e25-4f20-fd0a-a68cc336b245"
      },
      "outputs": [
        {
          "data": {
            "text/plain": [
              "5"
            ]
          },
          "execution_count": 27,
          "metadata": {},
          "output_type": "execute_result"
        }
      ],
      "source": [
        "len(sub_docs)"
      ]
    },
    {
      "cell_type": "code",
      "execution_count": null,
      "metadata": {
        "colab": {
          "base_uri": "https://localhost:8080/"
        },
        "id": "54fBVg8NdVZN",
        "outputId": "14d4cf70-87ee-45bf-adf3-0caf85d3edd0"
      },
      "outputs": [
        {
          "name": "stdout",
          "output_type": "stream",
          "text": [
            "other project operators\\. Carbon finance will help scale up and accelerate access to electricity by\n",
            " providing a connection fee subsidy (in the form of a connection coupon/voucher) to rural\n",
            " households in the concession areas in order to reduce the householdsÃÂ´ connection costs by\n",
            " making the payment of the connection charge affordable to the poor rural population\\. It is\n"
          ]
        }
      ],
      "source": [
        "print(sub_docs[0].page_content)\n"
      ]
    },
    {
      "cell_type": "code",
      "execution_count": null,
      "metadata": {
        "colab": {
          "base_uri": "https://localhost:8080/"
        },
        "id": "hn4YrAuldax3",
        "outputId": "db6ba09d-d525-4111-de87-a786b5424ccd"
      },
      "outputs": [
        {
          "name": "stdout",
          "output_type": "stream",
          "text": [
            "15\\. The proposed Project is part of the World Bankâs comprehensive clean energy transition support\n",
            " program\\. It mobilizes much-needed public financing to address the grid capacity constraints specifically\n",
            " targeted to sustainably increase the penetration of renewable energy\\. These investments lay a strong\n"
          ]
        }
      ],
      "source": [
        "print(sub_docs[1].page_content)"
      ]
    },
    {
      "cell_type": "code",
      "execution_count": null,
      "metadata": {
        "colab": {
          "base_uri": "https://localhost:8080/"
        },
        "id": "RRu2raK1dhjF",
        "outputId": "56c8978b-257b-4ea0-ba20-8e14995ff761"
      },
      "outputs": [
        {
          "name": "stdout",
          "output_type": "stream",
          "text": [
            "15\\. The proposed Project is part of the World Bankâs comprehensive clean energy transition support\n",
            " program\\. It mobilizes much-needed public financing to address the grid capacity constraints specifically\n",
            " targeted to sustainably increase the penetration of renewable energy\\. These investments lay a strong\n"
          ]
        }
      ],
      "source": [
        "print(sub_docs[1].page_content)"
      ]
    },
    {
      "cell_type": "code",
      "execution_count": null,
      "metadata": {
        "colab": {
          "base_uri": "https://localhost:8080/"
        },
        "id": "fkWIXRuuePLu",
        "outputId": "ac96cf28-dbeb-4fee-c867-8b94bc7d0f86"
      },
      "outputs": [
        {
          "name": "stdout",
          "output_type": "stream",
          "text": [
            "The Carbon Finance Project will incorporate lessons learned from the initial implementation \n",
            "results of the Power Development Project and the previous phases of the UNDP REDP project\\. \n",
            "Recent experience in Nepal has demonstrated that delivery of infrastructure services to rural \n",
            "communities is more effective and sustainable when beneficiaries are able to actively participate\n"
          ]
        }
      ],
      "source": [
        "print(sub_docs[2].page_content)"
      ]
    },
    {
      "cell_type": "code",
      "execution_count": null,
      "metadata": {
        "colab": {
          "base_uri": "https://localhost:8080/"
        },
        "id": "NXE9Kx68ezXB",
        "outputId": "0212200b-2994-41d9-e929-66d7bce24bba"
      },
      "outputs": [
        {
          "name": "stdout",
          "output_type": "stream",
          "text": [
            "The Project will use carbon-linked results based payment scheme to support the implementation\n",
            " of the GoS plan to scale up and accelerate rural electrification through private concessionaires and\n",
            " other project operators\\. Carbon finance will help scale up and accelerate access to electricity by\n",
            " providing a connection fee subsidy (in the form of a connection coupon/voucher) to rural\n"
          ]
        }
      ],
      "source": [
        "print(sub_docs[3].page_content)"
      ]
    },
    {
      "cell_type": "code",
      "execution_count": null,
      "metadata": {
        "colab": {
          "base_uri": "https://localhost:8080/"
        },
        "id": "-7SXPszYe2ZS",
        "outputId": "7747e508-36fc-4db3-912a-b38333152a4c"
      },
      "outputs": [
        {
          "name": "stdout",
          "output_type": "stream",
          "text": [
            "Micro- and SME finance (10%); Renewable energy (10%)\n",
            "Project ID P077572\n",
            "Borrower(s) GOVERNMENT OF CHHATTISGARH\n",
            "Implementing Agency\n",
            "Address STATE FOREST DEPT\\., VILLAGE\n",
            "FORESTRY INSTITUTIONS, PRI\n",
            "Contact Person: Mr\\. Ramprakash,\n",
            "Principal Secretary, Forests\n",
            "Tel: (0771) 221157\n",
            "Fax: (0771) 331120\n",
            "Email: drrscharma@yahoo\\.com\n",
            "Environment Category B\n",
            "Date PID Prepared March 25, 2003\n"
          ]
        }
      ],
      "source": [
        "print(sub_docs[4].page_content)"
      ]
    },
    {
      "cell_type": "markdown",
      "metadata": {
        "id": "my0WIo5YfTft"
      },
      "source": [
        "## Retrieving larger chunks\n",
        "\n",
        "Sometimes, the full documents can be too big to want to retrieve them as is.\n",
        "\n",
        "In that case, what we really want to do is to first split the raw documents into larger chunks, and then split it into smaller chunks.\n",
        "\n",
        "We then index the smaller chunks, but on retrieval we retrieve the larger chunks (but still not the full documents)."
      ]
    },
    {
      "cell_type": "markdown",
      "metadata": {
        "id": "gch0W40Cfk4v"
      },
      "source": [
        "#### Create Vectorstore for retrieving larger chunks"
      ]
    },
    {
      "cell_type": "code",
      "execution_count": 13,
      "metadata": {
        "id": "zuHN2VCDi7KD"
      },
      "outputs": [],
      "source": [
        "vectordb = Chroma(\n",
        "        embedding_function=embeddings,\n",
        "        persist_directory=\"./chroma_db_parent\",\n",
        "        collection_name=\"split_parents\",\n",
        "    )"
      ]
    },
    {
      "cell_type": "markdown",
      "metadata": {
        "id": "aaxRQpL4Duqt"
      },
      "source": [
        "## Initialize Parent Document Retrievers"
      ]
    },
    {
      "cell_type": "code",
      "execution_count": 14,
      "metadata": {
        "id": "pFRxrtuDDqfK"
      },
      "outputs": [],
      "source": [
        "big_chunks_retrievr = ParentDocumentRetriever(\n",
        "    vectorstore=vectordb,\n",
        "    docstore=store,\n",
        "    child_splitter=child_text_splitter,\n",
        "    parent_splitter=parent_splitter,\n",
        "   )"
      ]
    },
    {
      "cell_type": "markdown",
      "metadata": {
        "id": "Ud_l6b58zIaB"
      },
      "source": [
        "```file /usr/local/lib/python3.10/dist-packages/chromadb/api/segment.py:394, in SegmentAPI._upsert(self, collection_id, ids, embeddings, metadatas, documents)\n",
        "    392 coll = self._get_collection(collection_id)\n",
        "    393 self._manager.hint_use_collection(collection_id, t.Operation.UPSERT)\n",
        "--> 394 validate_batch(\n",
        "    395     (ids, embeddings, metadatas, documents),\n",
        "    396     {\"max_batch_size\": self.max_batch_size},\n",
        "    397 )\n",
        "    398 records_to_submit = []\n",
        "    399 for r in _records(\n",
        "    400     t.Operation.UPSERT,\n",
        "    401     ids=ids,\n",
        "   (...)\n",
        "    404     documents=documents,\n",
        "    405 ):\n",
        "\n",
        "File /usr/local/lib/python3.10/dist-packages/chromadb/api/types.py:377, in validate_batch(batch, limits)\n",
        "    372 def validate_batch(\n",
        "    373     batch: Tuple[IDs, Optional[Embeddings], Optional[Metadatas], Optional[Documents]],\n",
        "    374     limits: Dict[str, Any],\n",
        "    375 ) -> None:\n",
        "    376     if len(batch[0]) > limits[\"max_batch_size\"]:\n",
        "--> 377         raise ValueError(\n",
        "    378             f\"Batch size {len(batch[0])} exceeds maximum batch size {limits['max_batch_size']}\"\n",
        "    379         )\n",
        "\n",
        "```\n",
        "\n",
        "ValueError: Batch size 373981 exceeds maximum batch size 41666"
      ]
    },
    {
      "cell_type": "markdown",
      "metadata": {
        "id": "Fga0j9ysQmdV"
      },
      "source": [
        "\n",
        "ValueError: Batch size 45535 exceeds maximum batch size 41666"
      ]
    },
    {
      "cell_type": "markdown",
      "metadata": {
        "id": "62dzGSSgj8K0"
      },
      "source": [
        "## Add the processed data to the documentstore and vectorstore"
      ]
    },
    {
      "cell_type": "code",
      "execution_count": 15,
      "metadata": {
        "id": "MiH5Aa8RWBnQ"
      },
      "outputs": [],
      "source": [
        "MAX_BATCH_SIZE = 100"
      ]
    },
    {
      "cell_type": "code",
      "execution_count": 41,
      "metadata": {
        "colab": {
          "base_uri": "https://localhost:8080/",
          "height": 1000,
          "referenced_widgets": [
            "138af2b3f48e4dd4b7d16123af5a2f74",
            "5fa0441b48d7496abadc387738f6041c",
            "8992243552c04d65bb4cc3028ecbe530",
            "e6a627cd1b7744eb9c37f527271879e8",
            "e34d374b3b014b6c9cc0d8adaefee496",
            "aa24b111f1db4b3396d31db4bce2b975",
            "5d32ba2f5a54431b9b2481fa5854cc11",
            "57c27b308ac74cf38156627c8bdd41da",
            "d03713dda0b7428c884018301d115057",
            "4dacd33a3d16472ab1b698440458366d",
            "4505123b40a0449890a75348722a7f24"
          ]
        },
        "id": "cEiLIpeupjeN",
        "outputId": "c0a680c7-0a47-46e1-f9ab-55e1d84c8d6a"
      },
      "outputs": [
        {
          "output_type": "display_data",
          "data": {
            "text/plain": [
              "  0%|          | 0/34 [00:00<?, ?it/s]"
            ],
            "application/vnd.jupyter.widget-view+json": {
              "version_major": 2,
              "version_minor": 0,
              "model_id": "138af2b3f48e4dd4b7d16123af5a2f74"
            }
          },
          "metadata": {}
        },
        {
          "output_type": "stream",
          "name": "stdout",
          "text": [
            "start : 600\n",
            "end: 700\n",
            "Batch size 42829 exceeds maximum batch size 41666\n",
            "start : 700\n",
            "end: 800\n",
            "Number of keys stored in the doctstore :43100\n",
            "start : 800\n",
            "end: 900\n",
            "Number of keys stored in the doctstore :47442\n",
            "start : 900\n",
            "end: 1000\n",
            "Batch size 44282 exceeds maximum batch size 41666\n",
            "start : 1000\n",
            "end: 1100\n",
            "Number of keys stored in the doctstore :58500\n",
            "start : 1100\n",
            "end: 1200\n",
            "Number of keys stored in the doctstore :63716\n",
            "start : 1200\n",
            "end: 1300\n",
            "Number of keys stored in the doctstore :69123\n",
            "start : 1300\n",
            "end: 1400\n",
            "Number of keys stored in the doctstore :73693\n",
            "start : 1400\n",
            "end: 1500\n",
            "Number of keys stored in the doctstore :79339\n",
            "start : 1500\n",
            "end: 1600\n",
            "Batch size 44080 exceeds maximum batch size 41666\n",
            "start : 1600\n",
            "end: 1700\n",
            "Number of keys stored in the doctstore :91119\n",
            "start : 1700\n",
            "end: 1800\n",
            "Number of keys stored in the doctstore :96438\n",
            "start : 1800\n",
            "end: 1900\n",
            "Number of keys stored in the doctstore :101413\n",
            "start : 1900\n",
            "end: 2000\n",
            "Number of keys stored in the doctstore :106119\n",
            "start : 2000\n",
            "end: 2100\n",
            "Number of keys stored in the doctstore :110899\n",
            "start : 2100\n",
            "end: 2200\n",
            "Batch size 42083 exceeds maximum batch size 41666\n",
            "start : 2200\n",
            "end: 2300\n",
            "Number of keys stored in the doctstore :122751\n",
            "start : 2300\n",
            "end: 2400\n",
            "Number of keys stored in the doctstore :127505\n",
            "start : 2400\n",
            "end: 2500\n",
            "Batch size 44546 exceeds maximum batch size 41666\n",
            "start : 2500\n",
            "end: 2600\n",
            "Number of keys stored in the doctstore :139287\n",
            "start : 2600\n",
            "end: 2700\n",
            "Number of keys stored in the doctstore :144364\n",
            "start : 2700\n",
            "end: 2800\n",
            "Number of keys stored in the doctstore :150284\n",
            "start : 2800\n",
            "end: 2900\n",
            "Number of keys stored in the doctstore :155680\n",
            "start : 2900\n",
            "end: 3000\n",
            "Number of keys stored in the doctstore :160895\n",
            "start : 3000\n",
            "end: 3100\n",
            "Number of keys stored in the doctstore :165809\n",
            "start : 3100\n",
            "end: 3200\n",
            "Number of keys stored in the doctstore :171487\n",
            "start : 3200\n",
            "end: 3300\n",
            "Number of keys stored in the doctstore :176630\n",
            "start : 3300\n",
            "end: 3400\n",
            "Number of keys stored in the doctstore :182182\n",
            "start : 3400\n",
            "end: 3500\n",
            "Number of keys stored in the doctstore :187649\n",
            "start : 3500\n",
            "end: 3600\n",
            "Batch size 48190 exceeds maximum batch size 41666\n",
            "start : 3600\n",
            "end: 3700\n",
            "Batch size 43298 exceeds maximum batch size 41666\n",
            "start : 3700\n",
            "end: 3800\n",
            "Number of keys stored in the doctstore :205578\n",
            "start : 3800\n",
            "end: 3900\n",
            "Number of keys stored in the doctstore :211226\n",
            "start : 3900\n",
            "end: 4000\n",
            "Batch size 46819 exceeds maximum batch size 41666\n",
            "CPU times: user 2h 52min 48s, sys: 7min 30s, total: 3h 18s\n",
            "Wall time: 2h 26min 36s\n"
          ]
        }
      ],
      "source": [
        "%%time\n",
        "from tqdm.notebook import tqdm\n",
        "for i in tqdm(range(600,len(processed_data[0:4000]),MAX_BATCH_SIZE)):\n",
        "  print(f\"start : {i}\")\n",
        "  i_end = min(len(processed_data),i+MAX_BATCH_SIZE)\n",
        "  print(f\"end: {i_end}\")\n",
        "  batch = processed_data[i:i_end]\n",
        "  try:\n",
        "    big_chunks_retrievr.add_documents(batch, ids=None)\n",
        "  except ValueError as e:\n",
        "    print(e)\n",
        "    #ct = i_end // 2\n",
        "    temp = batch\n",
        "    #print(ct)\n",
        "    big_chunks_retrievr.add_documents(temp[:50], ids=None)\n",
        "    big_chunks_retrievr.add_documents(temp[50:], ids=None)\n",
        "    continue\n",
        "  vectordb.persist()\n",
        "  print(f\"Number of keys stored in the doctstore :{len(list(store.yield_keys()))}\")"
      ]
    },
    {
      "cell_type": "markdown",
      "metadata": {
        "id": "dBUJB8r-7Zsh"
      },
      "source": [
        "## To add only first 100 documents to the vectorstore and coument store"
      ]
    },
    {
      "cell_type": "code",
      "execution_count": null,
      "metadata": {
        "id": "IGuW9a8RFoEC"
      },
      "outputs": [],
      "source": [
        "big_chunks_retrievr.add_documents(data[:100])\n"
      ]
    },
    {
      "cell_type": "code",
      "execution_count": null,
      "metadata": {
        "id": "NRQMlyyhUwz0"
      },
      "outputs": [],
      "source": [
        "vectordb.persist()"
      ]
    },
    {
      "cell_type": "code",
      "execution_count": null,
      "metadata": {
        "id": "Q95uNc8MYiTL"
      },
      "outputs": [],
      "source": [
        "big_chunks_retrievr.add_documents(data[100:200])"
      ]
    },
    {
      "cell_type": "code",
      "execution_count": 17,
      "metadata": {
        "id": "lJO-w0wlYnGG"
      },
      "outputs": [],
      "source": [
        "vectordb.persist()"
      ]
    },
    {
      "cell_type": "code",
      "execution_count": 18,
      "metadata": {
        "colab": {
          "base_uri": "https://localhost:8080/"
        },
        "id": "SNnRsVtJ3T2U",
        "outputId": "3b53723a-f3a2-4a2b-eaa8-1d3dbd0d282c"
      },
      "outputs": [
        {
          "output_type": "execute_result",
          "data": {
            "text/plain": [
              "31856"
            ]
          },
          "metadata": {},
          "execution_count": 18
        }
      ],
      "source": [
        "len(list(store.yield_keys()))"
      ]
    },
    {
      "cell_type": "code",
      "execution_count": null,
      "metadata": {
        "colab": {
          "base_uri": "https://localhost:8080/"
        },
        "id": "fOgzHtrXYpHt",
        "outputId": "4b74add6-31a4-415f-d596-6a2dc3b4c72b"
      },
      "outputs": [
        {
          "data": {
            "text/plain": [
              "10018"
            ]
          },
          "execution_count": 43,
          "metadata": {},
          "output_type": "execute_result"
        }
      ],
      "source": [
        "len(list(store.yield_keys()))"
      ]
    },
    {
      "cell_type": "code",
      "execution_count": null,
      "metadata": {
        "colab": {
          "base_uri": "https://localhost:8080/"
        },
        "id": "DjUG2OzUvFhO",
        "outputId": "4081f6e8-ff59-408a-bb7f-cb0b542abb05"
      },
      "outputs": [
        {
          "data": {
            "text/plain": [
              "10018"
            ]
          },
          "execution_count": 46,
          "metadata": {},
          "output_type": "execute_result"
        }
      ],
      "source": [
        "vectordb.persist()\n",
        "#\n",
        "len(list(store.yield_keys()))"
      ]
    },
    {
      "cell_type": "markdown",
      "metadata": {
        "id": "KjBNXcHjym83"
      },
      "source": [
        "## smaller chunks"
      ]
    },
    {
      "cell_type": "code",
      "execution_count": 19,
      "metadata": {
        "id": "r9oTxp3dx0jP"
      },
      "outputs": [],
      "source": [
        "sub_docs = vectordb.similarity_search(\"What is the project Uruguay-Public Administration Reform about?\")"
      ]
    },
    {
      "cell_type": "code",
      "execution_count": 20,
      "metadata": {
        "colab": {
          "base_uri": "https://localhost:8080/"
        },
        "id": "p0_cDdczyIYr",
        "outputId": "c0480cf1-a0bc-4efc-8c05-dec9876374dc"
      },
      "outputs": [
        {
          "output_type": "stream",
          "name": "stdout",
          "text": [
            "4\n"
          ]
        }
      ],
      "source": [
        "print(len(sub_docs)) #default 4 documents will be retrieved since value of k =4"
      ]
    },
    {
      "cell_type": "code",
      "execution_count": 21,
      "metadata": {
        "colab": {
          "base_uri": "https://localhost:8080/"
        },
        "id": "jiDynI6lyK1w",
        "outputId": "f329766f-ce74-49ba-a601-645aebcf7e52"
      },
      "outputs": [
        {
          "output_type": "stream",
          "name": "stdout",
          "text": [
            "Report No\\. PIC1062\n",
            "Project Name Uruguay-Public Administration Reform Project (@)\n",
            "Region Latin America Caribbean\n",
            "Sector Public Sector Management\n",
            "Project ID UYPA8172\n",
            "Borrower Republic of Uruguay\n",
            "Beneficiary Ministry of Economy\n",
            "Financing Plan IBRD US$23 million\n",
            "Government US$ 7 million\n",
            "Tentative Appraisal Date TBD\n",
            "Projected Board Date August 11, 1997\n"
          ]
        }
      ],
      "source": [
        "print(sub_docs[0].page_content)\n"
      ]
    },
    {
      "cell_type": "code",
      "execution_count": 22,
      "metadata": {
        "colab": {
          "base_uri": "https://localhost:8080/"
        },
        "id": "3i5tKk6LyRDW",
        "outputId": "c70548d5-c405-40ff-8932-7bcfd6d507af"
      },
      "outputs": [
        {
          "output_type": "stream",
          "name": "stdout",
          "text": [
            "Uruguay calls for improvements in the administration of general taxes\n",
            "and customs; help in reducing social security tax evasion and improving\n",
            "accounting of social security contributions; reductions in the public\n",
            "sector deficit; and improvements in public sector management\\. The\n",
            "downsizing and agency modernization component and the PFM system reform\n"
          ]
        }
      ],
      "source": [
        "print(sub_docs[1].page_content)"
      ]
    },
    {
      "cell_type": "code",
      "execution_count": 23,
      "metadata": {
        "colab": {
          "base_uri": "https://localhost:8080/"
        },
        "id": "xrfCej4CydxW",
        "outputId": "18e4bf87-c485-4c4d-81a3-6490224bdd68"
      },
      "outputs": [
        {
          "output_type": "stream",
          "name": "stdout",
          "text": [
            "sector deficit; and improvements in public sector management\\. The\n",
            "downsizing and agency modernization component and the PFM system reform\n",
            "component of this project address these elements of the Bank's public\n",
            "sector strategy in Uruguay\\. In addition, Uruguay's legal framework for\n",
            "productive activities is singled out for attention in the Bank's most\n",
            "- 3 -\n"
          ]
        }
      ],
      "source": [
        "print(sub_docs[2].page_content)"
      ]
    },
    {
      "cell_type": "code",
      "execution_count": 24,
      "metadata": {
        "colab": {
          "base_uri": "https://localhost:8080/"
        },
        "id": "38oYk--zyfTN",
        "outputId": "0bd6eee5-4d49-438c-c934-91b6f20ccfef"
      },
      "outputs": [
        {
          "output_type": "stream",
          "name": "stdout",
          "text": [
            "Borrower Republic of Uruguay\n",
            "Beneficiary Ministry of Economy\n",
            "Financing Plan IBRD US$23 million\n",
            "Government US$ 7 million\n",
            "Tentative Appraisal Date TBD\n",
            "Projected Board Date August 11, 1997\n",
            "1\\. Background\\. Breaking with its traditional statim, Uruguay began\n",
            "some time ago to reform the public sector\\. Its problems with public\n",
            "enterprises revolve around inefficient monopolistic systems\\. The public\n"
          ]
        }
      ],
      "source": [
        "print(sub_docs[3].page_content)"
      ]
    },
    {
      "cell_type": "markdown",
      "source": [
        "## Question 2"
      ],
      "metadata": {
        "id": "Lo2f-LB15oYH"
      }
    },
    {
      "cell_type": "code",
      "source": [
        "sub_docs = vectordb.similarity_search(\"Who is the Project Team Leader mentioned in the Report No: ICR00001193\")"
      ],
      "metadata": {
        "id": "9YtxC7R36U5M"
      },
      "execution_count": 42,
      "outputs": []
    },
    {
      "cell_type": "code",
      "source": [
        "len(sub_docs)\n"
      ],
      "metadata": {
        "colab": {
          "base_uri": "https://localhost:8080/"
        },
        "id": "Xm35SD_U6bxp",
        "outputId": "c2b11eb4-cc5c-4141-a31c-5cd4d8e13b01"
      },
      "execution_count": 45,
      "outputs": [
        {
          "output_type": "execute_result",
          "data": {
            "text/plain": [
              "4"
            ]
          },
          "metadata": {},
          "execution_count": 45
        }
      ]
    },
    {
      "cell_type": "code",
      "source": [
        "print(sub_docs[0].page_content)\n"
      ],
      "metadata": {
        "colab": {
          "base_uri": "https://localhost:8080/"
        },
        "id": "gtLdkxcC6f08",
        "outputId": "062c5515-4220-4554-e96a-7d55555b2115"
      },
      "execution_count": 44,
      "outputs": [
        {
          "output_type": "stream",
          "name": "stdout",
          "text": [
            "Project Team Leader: Paul G\\. A\\. Bance Bernard Harborne\n",
            "\n",
            " ICR Team Leader: Peter F\\. B\\. A\\. Lafere\n",
            "\n",
            " ICR Primary Author: Peter F\\. B\\. A\\. Lafere\n",
            "\n",
            " Felipe Jacome\n",
            "\n",
            "\n",
            "\n",
            "\n",
            " F\\. Results Framework Analysis\n",
            "\n",
            "\n",
            " Project Development Objectives (from Project Appraisal Document)\n"
          ]
        }
      ]
    },
    {
      "cell_type": "code",
      "source": [
        "print(sub_docs[1].page_content)\n"
      ],
      "metadata": {
        "colab": {
          "base_uri": "https://localhost:8080/"
        },
        "id": "aY9IS1ms6qyZ",
        "outputId": "82eb5e9c-f055-42a4-ecbe-f6e04dde714a"
      },
      "execution_count": 46,
      "outputs": [
        {
          "output_type": "stream",
          "name": "stdout",
          "text": [
            "Manager/Manager:\n",
            "Project Team Leader: Barbara Kasura Magezi Ndamira Denyse E\\. Morin\n",
            "ICR Team Leader: Barbara Kasura Magezi Ndamira\n",
            "ICR Primary Author: Michael Christopher Jelenic\n",
            "\fF\\. Results Framework Analysis\n"
          ]
        }
      ]
    },
    {
      "cell_type": "code",
      "source": [
        "print(sub_docs[2].page_content)\n"
      ],
      "metadata": {
        "colab": {
          "base_uri": "https://localhost:8080/"
        },
        "id": "uv2Z3v2Y6t7C",
        "outputId": "2fc2dacb-57a2-49e0-a721-59f5515ca478"
      },
      "execution_count": 47,
      "outputs": [
        {
          "output_type": "stream",
          "name": "stdout",
          "text": [
            "Follmer (Team Leader), Mr\\. Dick Coppinger (Civil Engineer, Consultant), Ms\\. Wacuka Ikua (Operations\n",
            "Officer), Mr\\. Dahir Warsame (Procurement Specialist), and Mr\\. John Ogallo (Financial Management\n",
            "Specialist)\\. This report is based on information collected during that mission and material from the project\n",
            "files\\.\n"
          ]
        }
      ]
    },
    {
      "cell_type": "code",
      "source": [
        "print(sub_docs[3].page_content)"
      ],
      "metadata": {
        "colab": {
          "base_uri": "https://localhost:8080/"
        },
        "id": "eui0ZVVU6ypX",
        "outputId": "e333f724-6e5d-4f6d-946f-1cbe45fec7e2"
      },
      "execution_count": 48,
      "outputs": [
        {
          "output_type": "stream",
          "name": "stdout",
          "text": [
            "Project Team Leader: Michel Audige\n",
            "\n",
            " ICR Team Leader: Ross Pavis\n",
            "\f\n",
            " REPUBLIC OF POLAND\n",
            " Szczecin-Swinoujscie Seaway and Port Modernization Project\n",
            "\n",
            "\n",
            "\n",
            "\n",
            " CONTENTS\n",
            "\n",
            "\n",
            "\n",
            "\n",
            "Data Sheet\n",
            " A\\. Basic Information\n",
            " B\\. Key Dates\n",
            " C\\. Ratings Summary\n",
            " D\\. Sector and Theme Codes\n",
            " E\\. Bank Staff\n",
            " F\\. Results Framework Analysis\n",
            " G\\. Ratings of Project Performance in ISRs\n",
            " H\\. Restructuring\n",
            " I\\. Disbursement Graph\n"
          ]
        }
      ]
    },
    {
      "cell_type": "markdown",
      "metadata": {
        "id": "f8en0AO9yp75"
      },
      "source": [
        "## Bigger Chunks"
      ]
    },
    {
      "cell_type": "code",
      "execution_count": 51,
      "metadata": {
        "id": "UuFLGKTNygsX"
      },
      "outputs": [],
      "source": [
        "bigger_chunks_retrieved_docs = big_chunks_retrievr.get_relevant_documents(\"What is the project Uruguay-Public Administration Reform about?\")\n"
      ]
    },
    {
      "cell_type": "code",
      "execution_count": 53,
      "metadata": {
        "colab": {
          "base_uri": "https://localhost:8080/"
        },
        "id": "amRsQzxbzvwA",
        "outputId": "8358941e-af17-4309-f82c-df0515dd8349"
      },
      "outputs": [
        {
          "output_type": "execute_result",
          "data": {
            "text/plain": [
              "3"
            ]
          },
          "metadata": {},
          "execution_count": 53
        }
      ],
      "source": [
        "len(bigger_chunks_retrieved_docs)\n"
      ]
    },
    {
      "cell_type": "code",
      "execution_count": 54,
      "metadata": {
        "colab": {
          "base_uri": "https://localhost:8080/"
        },
        "id": "iCc2MUG40OLw",
        "outputId": "463bd248-c961-4068-f9c1-555810419a64"
      },
      "outputs": [
        {
          "output_type": "stream",
          "name": "stdout",
          "text": [
            "Report No\\. PIC1062\n",
            "Project Name Uruguay-Public Administration Reform Project (@)\n",
            "Region Latin America Caribbean\n",
            "Sector Public Sector Management\n",
            "Project ID UYPA8172\n",
            "Borrower Republic of Uruguay\n",
            "Beneficiary Ministry of Economy\n",
            "Financing Plan IBRD US$23 million\n",
            "Government US$ 7 million\n",
            "Tentative Appraisal Date TBD\n",
            "Projected Board Date August 11, 1997\n",
            "1\\. Background\\. Breaking with its traditional statim, Uruguay began\n",
            "some time ago to reform the public sector\\. Its problems with public\n",
            "enterprises revolve around inefficient monopolistic systems\\. The public\n",
            "sector is generally overexpanded, outdated, and needs to be\n",
            "rationalized\\. In addition to off-loading public enterprises and\n",
            "downsizing the Central Government, there is a need to modernize core\n",
            "government functions, including financial management, tax collections,\n",
            "and customs and social security administration\\. The 1985-89\n",
            "administration began important reforms, including: elimination of\n",
            "passenger service and reduction of uneconomic cargo operations of the\n",
            "state railway; the introduction of performance contracts and tightened\n",
            "financial discipline and Central Government regulation in state\n",
            "enterprises; re-privatization of insolvent commercial banks; freezing of\n",
            "new civil service hires and repeated cuts in public employee salaries\\.\n",
            "The present Administration has set more ambitious goals, including:\n",
            "private sector participation in state monopolies in telecommunications,\n",
            "aviation, ports, natural gas and electric power services; and reductions\n",
            "in regulatory and reporting requirements\\. To complement these\n",
            "accomplishments, the Government's economic team has requested Bank\n",
            "assistance for public administration reform and core agency\n",
            "modernization\\. Considerable groundwork has already been laid by the\n",
            "Government toward the twin aims of improving the performance of the\n",
            "Central Government and its Ministries and reducing impediments to\n",
            "private markets\\. The proposed project is designed to build on and\n",
            "********************************************************************************\n",
            "basis for economic recovery\\. The IFI's financial package and GoU adjustment\n",
            "program have helped to: i) temporarily stabilize the exchange rate - albeit\n",
            "at a highly depreciated level; ii) moderately increase in reserves; and iii)\n",
            "stem the run on deposits in the banking sector\\.\n",
            "The Government continues to face strong challenges to a return to\n",
            "macroeconomic stability\\. Addressing these challenges is of key importance as\n",
            "the GoU's medium term agenda continues to be focused on macroeconomic\n",
            "stability as a necessary pre-condition for future growth along with improving\n",
            "competitiveness by attacking excess local costs at the source\\. Prospects for\n",
            "restoring growth hinges on several factors:\n",
            "External competitiveness of tradable and selective service sectors has been\n",
            "boosted through market-driven exchange rate adjustments\\. Sectors like\n",
            "agriculture, forestry, meat production, agri-businesses and tourism and\n",
            "several industrial subsectors will help to gradually offset the\n",
            "contractionary devaluation\\.\n",
            "The opening of telecommunications, water and sanitation, transport, and\n",
            "energy, areas currently dominated by the State, to the private sector would\n",
            "facilitate private sector-led investment\\. Restructuring the state to\n",
            "increase productivity of the private sector could also help to boost economic\n",
            "growth\\.\n",
            "Improved efficiency in the delivery and price of infrastructure services is\n",
            "crucial to consolidate the competitiveness of Uruguay's products and\n",
            "services\\.\n",
            "Based on expected progress in these reforms, and an economic recovery in\n",
            "neighboring countries, an economic recovery in Uruguay could commence toward\n",
            "the end of this year\\.\n",
            "Project Description\n",
            "The Government of Uruguay has requested an economic and social reform\n",
            "operation from the Bank to support reforms to boost economic growth, improve\n",
            "the competitiveness of the Uruguayan economy, and improve the general welfare\n",
            "of the population through better provision of public and social services and\n",
            "********************************************************************************\n",
            "implementation of their recommendations\\. Unallocated funds will be kept\n",
            "to a minimum\\. Considerable effort will be devoted to assuring adequate\n",
            "and sustainable borrower commitment\\. Furthermore, project activities\n",
            "that introduce routinized methodologies and systems are meant to assure\n",
            "sustainability of borrower commitment even beyond the duration of the\n",
            "project\\. A full-time Project Coordinator is intended to assure adequate\n",
            "borrower capacity to execute the project\\. Monitoring of performance\n",
            "indicators, inclusion of a mid-term review, and devotion of adequate\n",
            "Bank resources to supervision will assure effective supervision\\.\n",
            "Finally, deregulation activities will focus on a comprehensive strategy\n",
            "for reducing all types of government-created obstacles to the smooth\n",
            "functioning of private markets, as well as reducing, rather than\n",
            "augmenting, the number of regulatory bodies and the scope of their\n",
            "activities\\.\n",
            "9\\. Rationale for Bank Involvement\\. The country strategy for Uruguay\n",
            "calls for helping the current Government to arrest the loss of\n",
            "structural adjustment momentum until inflation is contained, and then to\n",
            "resume its attack on the still significant development agenda\\. In\n",
            "support of this overall strategy, the Bank's public sector strategy in\n",
            "Uruguay calls for improvements in the administration of general taxes\n",
            "and customs; help in reducing social security tax evasion and improving\n",
            "accounting of social security contributions; reductions in the public\n",
            "sector deficit; and improvements in public sector management\\. The\n",
            "downsizing and agency modernization component and the PFM system reform\n",
            "component of this project address these elements of the Bank's public\n",
            "sector strategy in Uruguay\\. In addition, Uruguay's legal framework for\n",
            "productive activities is singled out for attention in the Bank's most\n",
            "- 3 -\n"
          ]
        }
      ],
      "source": [
        "print(bigger_chunks_retrieved_docs[0].page_content)\n",
        "print(\"*\"*80)\n",
        "print(bigger_chunks_retrieved_docs[1].page_content)\n",
        "print(\"*\"*80)\n",
        "print(bigger_chunks_retrieved_docs[2].page_content)\n"
      ]
    },
    {
      "cell_type": "markdown",
      "source": [
        "## Bigger Chunks -2"
      ],
      "metadata": {
        "id": "8GM4QTJDmaIK"
      }
    },
    {
      "cell_type": "code",
      "source": [
        "bigger_chunk_retrieved_docs = big_chunks_retrievr.get_relevant_documents(\"Who is the Project Team Leader mentioned in the Report No: ICR00001193\")\n",
        "print(len(bigger_chunk_retrieved_docs))\n"
      ],
      "metadata": {
        "colab": {
          "base_uri": "https://localhost:8080/"
        },
        "id": "fMwlwx1kmcfC",
        "outputId": "b781e80e-9294-4d7c-d652-6cdf72f8a69a"
      },
      "execution_count": 49,
      "outputs": [
        {
          "output_type": "stream",
          "name": "stdout",
          "text": [
            "4\n"
          ]
        }
      ]
    },
    {
      "cell_type": "code",
      "source": [
        "print(bigger_chunk_retrieved_docs[0].page_content)\n",
        "print(\"*\"*80)\n",
        "print(bigger_chunk_retrieved_docs[1].page_content)\n",
        "print(\"*\"*80)\n",
        "print(bigger_chunk_retrieved_docs[2].page_content)\n",
        "print(\"*\"*80)\n",
        "print(bigger_chunk_retrieved_docs[3].page_content)"
      ],
      "metadata": {
        "colab": {
          "base_uri": "https://localhost:8080/"
        },
        "id": "jvpDNATOmoz7",
        "outputId": "697887ec-213a-4287-b239-539e920dd36c"
      },
      "execution_count": 50,
      "outputs": [
        {
          "output_type": "stream",
          "name": "stdout",
          "text": [
            "Outcomes: Moderately Unsatisfactory\n",
            "\n",
            "Risk to Development Outcome: High\n",
            "\n",
            "Bank Performance: Moderately Unsatisfactory\n",
            "\n",
            "Borrower Performance: Moderately Satisfactory\n",
            "\n",
            "\n",
            "\n",
            "C\\.2 Detailed Ratings of Bank and Borrower Performance (by ICR)\n",
            " Bank Ratings Borrower Ratings\n",
            " Moderately Moderately\n",
            "Quality at Entry: Government:\n",
            " Unsatisfactory Satisfactory\n",
            "Quality of Moderately Implementing Moderately\n",
            "Supervision: Satisfactory Agency/Agencies: Satisfactory\n",
            "\n",
            "\n",
            "\n",
            "\n",
            " 6\n",
            "\fOverall Bank Moderately Overall Borrower Moderately\n",
            "Performance: Unsatisfactory Performance: Satisfactory\n",
            "\n",
            "\n",
            "C\\.3 Quality at Entry and Implementation Performance Indicators\n",
            " Implementation QAG Assessments\n",
            " Indicators Rating\n",
            " Performance (if any)\n",
            "\n",
            " Potential Problem\n",
            " Quality at Entry\n",
            "Project at any time Yes None\n",
            " (QEA):\n",
            "(Yes/No):\n",
            "\n",
            " Problem Project at any Quality of\n",
            " Yes None\n",
            "time (Yes/No): Supervision (QSA):\n",
            "\n",
            "DO rating before Moderately\n",
            "Closing/Inactive status: Satisfactory\n",
            "\n",
            "\n",
            "\n",
            "\n",
            "D\\. Sector and Theme Codes\n",
            " Original Actual\n",
            "\n",
            "Sector Code (as % of total Bank financing)\n",
            "\n",
            "General agriculture, fishing and forestry sector 15 15\n",
            "\n",
            "General water, sanitation and flood protection sector 20 20\n",
            "\n",
            "Other social services 20 20\n",
            "\n",
            "Rural and Inter-Urban Roads and Highways 15 15\n",
            "\n",
            "Sub-national government administration 30 30\n",
            "\n",
            "\n",
            "\n",
            "\n",
            "Theme Code (as % of total Bank financing)\n",
            "\n",
            "Other social protection and risk management 37 37\n",
            "\n",
            "Participation and civic engagement 21 21\n",
            "\n",
            "Rural services and infrastructure 37 37\n",
            "\n",
            "Social Protection and Labor Policy & Systems 5 5\n",
            "\n",
            "\n",
            "\n",
            "\n",
            " 7\n",
            "\f E\\. Bank Staff\n",
            " Positions At ICR At Approval\n",
            "\n",
            " Vice President: Makhtar Diop Obiageli Katryn Ezekwesili\n",
            "\n",
            " Country Director: Gregor Binkert Mary A\\. Barton-Dock\n",
            "\n",
            " Practice\n",
            " Jan Weetjens Ian Bannon\n",
            " Manager/Manager:\n",
            "\n",
            " Project Team Leader: Paul G\\. A\\. Bance Bernard Harborne\n",
            "\n",
            " ICR Team Leader: Peter F\\. B\\. A\\. Lafere\n",
            "\n",
            " ICR Primary Author: Peter F\\. B\\. A\\. Lafere\n",
            "\n",
            " Felipe Jacome\n",
            "\n",
            "\n",
            "\n",
            "\n",
            " F\\. Results Framework Analysis\n",
            "\n",
            "\n",
            " Project Development Objectives (from Project Appraisal Document)\n",
            "********************************************************************************\n",
            "C\\. Ratings Summary\n",
            "C\\.1 Performance Rating by ICR\n",
            "Outcomes: Moderately Unsatisfactory\n",
            "Risk to Development Outcome: Substantial\n",
            "Bank Performance: Moderately Unsatisfactory\n",
            "Borrower Performance: Unsatisfactory\n",
            "\fC\\.2 Detailed Ratings of Bank and Borrower Performance (by ICR)\n",
            " Bank Ratings Borrower Ratings\n",
            " Moderately Moderately\n",
            "Quality at Entry: Government:\n",
            " Unsatisfactory Unsatisfactory\n",
            " Moderately Implementing\n",
            "Quality of Supervision: Unsatisfactory\n",
            " Unsatisfactory Agency/Agencies:\n",
            "Overall Bank Moderately Overall Borrower\n",
            " Unsatisfactory\n",
            "Performance: Unsatisfactory Performance:\n",
            "\n",
            "C\\.3 Quality at Entry and Implementation Performance Indicators\n",
            " Implementation QAG Assessments\n",
            " Indicators Rating\n",
            " Performance (if any)\n",
            " Potential Problem\n",
            " Quality at Entry\n",
            "Project at any time Yes None\n",
            " (QEA):\n",
            "(Yes/No):\n",
            " Problem Project at any Quality of\n",
            " Yes None\n",
            "time (Yes/No): Supervision (QSA):\n",
            "DO rating before Moderately\n",
            "Closing/Inactive status: Unsatisfactory\n",
            "\n",
            "D\\. Sector and Theme Codes\n",
            " Original Actual\n",
            "Sector Code (as % of total Bank financing)\n",
            "General public administration sector 100 100\n",
            "\n",
            "\n",
            "Theme Code (as % of total Bank financing)\n",
            "Administrative and civil service reform 33 100\n",
            "Other accountability/anti-corruption 33 0\n",
            "Other public sector governance 17 0\n",
            " Public expenditure, financial management and\n",
            " 17 0\n",
            "procurement\n",
            "\n",
            "E\\. Bank Staff\n",
            " Positions At ICR At Approval\n",
            "Vice President: Makhtar Diop Gobind T\\. Nankani\n",
            "Country Director: Philippe Dongier Judy M\\. O'Connor\n",
            "Practice\n",
            " Guenter Heidenhof Helga W\\. Muller\n",
            "Manager/Manager:\n",
            "Project Team Leader: Barbara Kasura Magezi Ndamira Denyse E\\. Morin\n",
            "ICR Team Leader: Barbara Kasura Magezi Ndamira\n",
            "ICR Primary Author: Michael Christopher Jelenic\n",
            "\fF\\. Results Framework Analysis\n",
            "\n",
            "Project Development Objectives (from Project Appraisal Document)\n",
            "********************************************************************************\n",
            "IMPLEMENTATION COMPLETION REPORT\n",
            "KENYA\n",
            "FOURTH POPULATION PROJECT\n",
            "(Cr\\. 2110-KE)\n",
            "PREFACE\n",
            "This is the Implementation Completion Report (ICR) for the Kenya Fourth Population Project, for\n",
            "which Credit 21 10-KE in the amount of SDR 26\\.3 million (US$35\\.0 million equivalent at the prevailing\n",
            "exchange rate) was approved on March 27, 1990, and made effective on September 25, 1990\\.\n",
            "The credit closed on June 30, 1998, after a one-year extension of the original closing date\\. The last\n",
            "disbursement was made on January 22, 1999\\. An undisbursed balance of SDR 5\\.19 million (US$ 7\\.05\n",
            "million at the prevailing exchange rate) was canceled on March 15, 1999\\. Co-financing in the amount of\n",
            "FIM 5\\.1 million was made available by FINNIDA\\. These funds were 88 percent disbursed, and the\n",
            "undisbursed balance of FIM 595,885\\.65 was canceled on March 11, 1999\\.\n",
            "The ICR was prepared by Mr\\. Andrew Follmer, the Human Development Group I, Eastern and\n",
            "Southern Africa; with support from Wacuka Ikua, Operations Officer, AFMKE, and Bert Voetberg,\n",
            "Public Health Specialist, AFTHI\\. The report was reviewed by Mrs\\. Ruth Kagia, Sector Manager,\n",
            "AFTH1, and Mr\\. Harold Wackman, Country Director for Kenya\\. The borrower reviewed the draft report\n",
            "before it was finalized\\.\n",
            "This report was prepared during an ICR mission in December, 1998, comprising Mr\\. Andrew\n",
            "Follmer (Team Leader), Mr\\. Dick Coppinger (Civil Engineer, Consultant), Ms\\. Wacuka Ikua (Operations\n",
            "Officer), Mr\\. Dahir Warsame (Procurement Specialist), and Mr\\. John Ogallo (Financial Management\n",
            "Specialist)\\. This report is based on information collected during that mission and material from the project\n",
            "files\\.\n",
            "Tlhe borrower contributed to the preparation of the ICR by contributing views as reflected in the\n",
            "Completion Mission's Aide Memoire (Appendix A), by preparing its own Project Completion Report\n",
            "(Appendix C), and by providing detailed comments on the parts of the ICR as it evolved and formally\n",
            "********************************************************************************\n",
            "Sector Manager: Motoo Konishi\n",
            "\n",
            " Project Team Leader: Michel Audige\n",
            "\n",
            " ICR Team Leader: Ross Pavis\n",
            "\f\n",
            " REPUBLIC OF POLAND\n",
            " Szczecin-Swinoujscie Seaway and Port Modernization Project\n",
            "\n",
            "\n",
            "\n",
            "\n",
            " CONTENTS\n",
            "\n",
            "\n",
            "\n",
            "\n",
            "Data Sheet\n",
            " A\\. Basic Information\n",
            " B\\. Key Dates\n",
            " C\\. Ratings Summary\n",
            " D\\. Sector and Theme Codes\n",
            " E\\. Bank Staff\n",
            " F\\. Results Framework Analysis\n",
            " G\\. Ratings of Project Performance in ISRs\n",
            " H\\. Restructuring\n",
            " I\\. Disbursement Graph\n",
            "\n",
            " 1\\. Project Context, Development Objectives and Design\\.1\n",
            " 2\\. Key Factors Affecting Implementation and Outcomes\\.4\n",
            " 3\\. Assessment of Outcomes \\.8\n",
            " 4\\. Assessment of Risk to Development Outcome\\.13\n",
            " 5\\. Assessment of Bank and Borrower Performance\\.14\n",
            " 6\\. Lessons Learned\\.15\n",
            " 7\\. Comments on Issues Raised by Borrower/Implementing Agencies/Partners\\.16\n",
            " Annex 1\\. Project Costs and Financing\\.17\n",
            " Annex 2\\. Outputs by Component\\.18\n",
            " Annex 3\\. Economic and Financial Analysis \\.19\n",
            " Annex 4\\. Bank Lending and Implementation Support/Supervision Processes\\.22\n",
            " Annex 5\\. Beneficiary Survey Results \\.25\n",
            " Annex 6\\. Stakeholder Workshop Report and Results\\.26\n",
            " Annex 7\\. Summary of Borrower's ICR and/or Comments on Draft ICR \\.27\n",
            " Annex 8\\. Comments of Cofinanciers and Other Partners/Stakeholders \\.31\n",
            " Annex 9\\. List of Supporting Documents\\.32\n",
            " MAP\\.33\n",
            "\f\n",
            "A\\. Basic Information\n",
            "\n",
            " Szczecin-Swinoujscie\n",
            "Country: Poland Project Name: Seaway & Port\n",
            " Modernization Project\n",
            " IBRD-70390,IBRD-\n",
            "Project ID: P008615 L/C/TF Number(s):\n",
            " 70400\n",
            "ICR Date: 12/30/2008 ICR Type: Core ICR\n",
            " GOVT\\. OF POL\\. &\n",
            "Lending Instrument: SIL Borrower: SZCZECIN PORT\n",
            " AUTHORITY\n",
            "Original Total\n",
            " USD 38\\.5M Disbursed Amount: USD 41\\.5M\n",
            "Commitment:\n",
            "Environmental Category: A\n",
            "Implementing Agencies:\n",
            "Maritime Office of Szczecin, Szczecin-Swinoujscie Seaport Authority\n",
            "Cofinanciers and Other External Partners:\n",
            "\n",
            "\n",
            "B\\. Key Dates\n"
          ]
        }
      ]
    },
    {
      "cell_type": "markdown",
      "source": [
        "## Retrivel Question Answer Chain - Without Source Document"
      ],
      "metadata": {
        "id": "Ukg5ZmPym1NE"
      }
    },
    {
      "cell_type": "code",
      "execution_count": 56,
      "metadata": {
        "id": "RxpAxTlT0bSf"
      },
      "outputs": [],
      "source": [
        "from langchain.chains import RetrievalQA\n",
        "from langchain.chat_models import ChatOpenAI\n",
        "llm = ChatOpenAI(model=\"gpt-3.5-turbo-16k\",temperature=0.75)\n",
        "qa = RetrievalQA.from_chain_type(llm=llm,\n",
        "                                 chain_type=\"stuff\",\n",
        "                                 retriever=big_chunks_retrievr,\n",
        "\n",
        "                                )"
      ]
    },
    {
      "cell_type": "markdown",
      "source": [
        "## Retrivel Question Answer Chain - With Source Document"
      ],
      "metadata": {
        "id": "D3wdS6Non4Dg"
      }
    },
    {
      "cell_type": "code",
      "source": [
        "from langchain.chains import RetrievalQAWithSourcesChain\n",
        "qa_with_source = RetrievalQAWithSourcesChain.from_chain_type(llm=llm,\n",
        "                                 chain_type=\"stuff\",\n",
        "                                 retriever=big_chunks_retrievr,\n",
        "\n",
        "                                )"
      ],
      "metadata": {
        "id": "GuThO_IB68dg"
      },
      "execution_count": 55,
      "outputs": []
    },
    {
      "cell_type": "markdown",
      "metadata": {
        "id": "0d6O4adIYBMN"
      },
      "source": [
        "## Query Information Retrieval"
      ]
    },
    {
      "cell_type": "markdown",
      "source": [
        "#### Query 1"
      ],
      "metadata": {
        "id": "t13MCICmoNmZ"
      }
    },
    {
      "cell_type": "code",
      "execution_count": 57,
      "metadata": {
        "colab": {
          "base_uri": "https://localhost:8080/"
        },
        "id": "F7iu9pIj1iJs",
        "outputId": "9e87de1a-1019-4ba9-a38d-7895000a4005"
      },
      "outputs": [
        {
          "output_type": "execute_result",
          "data": {
            "text/plain": [
              "{'query': 'What is the project Uruguay-Public Administration Reform about?',\n",
              " 'result': 'The project \"Uruguay-Public Administration Reform\" aims to reform the public sector in Uruguay. The goals of the project include off-loading public enterprises, downsizing the Central Government, and modernizing core government functions such as financial management, tax collections, and customs and social security administration. The project also seeks to increase private sector participation in state monopolies and reduce regulatory and reporting requirements. The project is designed to build on previous reforms and serve as a basis for economic recovery in Uruguay.'}"
            ]
          },
          "metadata": {},
          "execution_count": 57
        }
      ],
      "source": [
        "qa(\"What is the project Uruguay-Public Administration Reform about?\")"
      ]
    },
    {
      "cell_type": "code",
      "source": [
        "qa_with_source(\"What is the project Uruguay-Public Administration Reform about?\")"
      ],
      "metadata": {
        "colab": {
          "base_uri": "https://localhost:8080/"
        },
        "id": "E-B3zPXtn_cF",
        "outputId": "86563070-e9e8-44dd-f893-3cbbc4d0c546"
      },
      "execution_count": 58,
      "outputs": [
        {
          "output_type": "execute_result",
          "data": {
            "text/plain": [
              "{'question': 'What is the project Uruguay-Public Administration Reform about?',\n",
              " 'answer': \"The project Uruguay-Public Administration Reform is about implementing reforms to boost economic growth, improve competitiveness, and enhance the provision of public and social services in Uruguay. The project aims to modernize core government functions, such as financial management, tax collections, and customs and social security administration. It also seeks to reduce regulatory and reporting requirements and promote private sector participation in state monopolies. The project is designed to build on the government's previous reform efforts and support its goals of improving the performance of the central government and reducing impediments to private markets.\\n\",\n",
              " 'sources': \"{'project_id': 'P008172', 'document_type': 'APPROVAL'}\"}"
            ]
          },
          "metadata": {},
          "execution_count": 58
        }
      ]
    },
    {
      "cell_type": "markdown",
      "source": [
        "####Query2"
      ],
      "metadata": {
        "id": "dv2lHi6PoqH8"
      }
    },
    {
      "cell_type": "code",
      "execution_count": 59,
      "metadata": {
        "colab": {
          "base_uri": "https://localhost:8080/"
        },
        "id": "ht1lt07e3RGu",
        "outputId": "aeb199f4-338e-4dcd-bcd3-8d377c0b1bab"
      },
      "outputs": [
        {
          "output_type": "execute_result",
          "data": {
            "text/plain": [
              "{'query': 'Who started the project Karnataka Wind Power Carbon Finance Project?',\n",
              " 'result': 'There is no information provided in the given context about who started the Karnataka Wind Power Carbon Finance Project.'}"
            ]
          },
          "metadata": {},
          "execution_count": 59
        }
      ],
      "source": [
        "qa(\"Who started the project Karnataka Wind Power Carbon Finance Project?\")"
      ]
    },
    {
      "cell_type": "code",
      "source": [
        "qa_with_source(\"Who started the project Karnataka Wind Power Carbon Finance Project?\")"
      ],
      "metadata": {
        "colab": {
          "base_uri": "https://localhost:8080/"
        },
        "id": "bolB19FIpWBT",
        "outputId": "78baf8cb-6c28-41e3-bca4-49d86380a0ed"
      },
      "execution_count": 60,
      "outputs": [
        {
          "output_type": "execute_result",
          "data": {
            "text/plain": [
              "{'question': 'Who started the project Karnataka Wind Power Carbon Finance Project?',\n",
              " 'answer': 'The document does not provide information about who started the Karnataka Wind Power Carbon Finance Project.\\n',\n",
              " 'sources': ''}"
            ]
          },
          "metadata": {},
          "execution_count": 60
        }
      ]
    },
    {
      "cell_type": "markdown",
      "source": [
        "#### Query3"
      ],
      "metadata": {
        "id": "MgH81SAWpZzF"
      }
    },
    {
      "cell_type": "code",
      "execution_count": null,
      "metadata": {
        "colab": {
          "base_uri": "https://localhost:8080/"
        },
        "id": "p-bnT7uUPS-1",
        "outputId": "850ac31a-57cc-469d-d73a-e145328170fa"
      },
      "outputs": [
        {
          "data": {
            "text/plain": [
              "{'query': 'Contact Point for the project Karnataka Wind Power Carbon Finance Project?',\n",
              " 'result': 'The contact point for the Karnataka Wind Power Carbon Finance Project is Acciona Wind Energy Pvt. Ltd. (AWEPL), a subsidiary of the Spanish Acciona group of companies.'}"
            ]
          },
          "execution_count": 91,
          "metadata": {},
          "output_type": "execute_result"
        }
      ],
      "source": [
        "qa(\"Contact Point for the project Karnataka Wind Power Carbon Finance Project?\")\n"
      ]
    },
    {
      "cell_type": "code",
      "source": [
        "qa_with_source(\"Who is the point of contact for the project Karnataka Wind Power Carbon Finance Project?\")"
      ],
      "metadata": {
        "colab": {
          "base_uri": "https://localhost:8080/"
        },
        "id": "Xu1xAlNRpejO",
        "outputId": "be64f4a1-3763-475e-81ec-61bdfe4a58c4"
      },
      "execution_count": 65,
      "outputs": [
        {
          "output_type": "execute_result",
          "data": {
            "text/plain": [
              "{'question': 'Who is the point of contact for the project Karnataka Wind Power Carbon Finance Project?',\n",
              " 'answer': 'The point of contact for the project Karnataka Wind Power Carbon Finance Project is not mentioned in the provided information.\\n',\n",
              " 'sources': ''}"
            ]
          },
          "metadata": {},
          "execution_count": 65
        }
      ]
    },
    {
      "cell_type": "markdown",
      "source": [
        "#### Query 3"
      ],
      "metadata": {
        "id": "gHxSdsYGp94h"
      }
    },
    {
      "cell_type": "code",
      "execution_count": null,
      "metadata": {
        "colab": {
          "base_uri": "https://localhost:8080/"
        },
        "id": "B4GpLEkNXY7-",
        "outputId": "bbb214d1-e845-414f-a1a0-667e6e3054c6"
      },
      "outputs": [
        {
          "data": {
            "text/plain": [
              "{'query': 'What was the Date of Appraisal for the Karnataka Wind Power Carbon Finance Project?',\n",
              " 'result': 'The Date of Appraisal for the Karnataka Wind Power Carbon Finance Project was October 26, 2009.'}"
            ]
          },
          "execution_count": 92,
          "metadata": {},
          "output_type": "execute_result"
        }
      ],
      "source": [
        "qa(\"What was the Date of Appraisal for the Karnataka Wind Power Carbon Finance Project?\")"
      ]
    },
    {
      "cell_type": "code",
      "source": [
        "qa_with_source(\"Date of Appraisal for the Karnataka Wind Power Carbon Finance Project?\")"
      ],
      "metadata": {
        "colab": {
          "base_uri": "https://localhost:8080/"
        },
        "id": "PI-HjdP3pmLZ",
        "outputId": "73e913ed-00c0-4ea1-fc03-0ae53829601f"
      },
      "execution_count": 64,
      "outputs": [
        {
          "output_type": "execute_result",
          "data": {
            "text/plain": [
              "{'question': 'Date of Appraisal for the Karnataka Wind Power Carbon Finance Project?',\n",
              " 'answer': 'The date of Appraisal for the Karnataka Wind Power Carbon Finance Project is October 26, 2009.\\n',\n",
              " 'sources': \"{'project_id': 'P119295', 'document_type': 'APPROVAL'}\"}"
            ]
          },
          "metadata": {},
          "execution_count": 64
        }
      ]
    },
    {
      "cell_type": "markdown",
      "source": [
        "## Query 4"
      ],
      "metadata": {
        "id": "pCbXfIiBp2bE"
      }
    },
    {
      "cell_type": "code",
      "execution_count": null,
      "metadata": {
        "colab": {
          "base_uri": "https://localhost:8080/"
        },
        "id": "_6CJ5WStXqQl",
        "outputId": "b60a9c86-8745-4834-e001-88f800956b44"
      },
      "outputs": [
        {
          "data": {
            "text/plain": [
              "{'query': 'What is the Estimated Date of ERPA for the Karnataka Wind Power Carbon Finance Project?',\n",
              " 'result': 'The estimated date of ERPA (Emission Reduction Purchase Agreement) for the Karnataka Wind Power Carbon Finance Project is 21 December 2009.'}"
            ]
          },
          "execution_count": 93,
          "metadata": {},
          "output_type": "execute_result"
        }
      ],
      "source": [
        "qa(\"What is the Estimated Date of ERPA for the Karnataka Wind Power Carbon Finance Project?\")\n"
      ]
    },
    {
      "cell_type": "code",
      "source": [
        "qa_with_source(\"What is the Estimated Date of ERPA for the Karnataka Wind Power Carbon Finance Project?\")"
      ],
      "metadata": {
        "colab": {
          "base_uri": "https://localhost:8080/"
        },
        "id": "cbsdqzK2pt_r",
        "outputId": "512478cb-4e83-4a75-b009-2460dc88386e"
      },
      "execution_count": 63,
      "outputs": [
        {
          "output_type": "execute_result",
          "data": {
            "text/plain": [
              "{'question': 'What is the Estimated Date of ERPA for the Karnataka Wind Power Carbon Finance Project?',\n",
              " 'answer': 'The estimated date of ERPA for the Karnataka Wind Power Carbon Finance Project is 21 December 2009.\\n',\n",
              " 'sources': \"{'project_id': 'P119295', 'document_type': 'APPROVAL'}\"}"
            ]
          },
          "metadata": {},
          "execution_count": 63
        }
      ]
    },
    {
      "cell_type": "markdown",
      "source": [
        "#### Query 5"
      ],
      "metadata": {
        "id": "d0_PhyjdqIy3"
      }
    },
    {
      "cell_type": "code",
      "execution_count": null,
      "metadata": {
        "colab": {
          "base_uri": "https://localhost:8080/"
        },
        "id": "LYy-y3dxXt5C",
        "outputId": "1ab41256-d5e2-453b-ebdb-eec83e034363"
      },
      "outputs": [
        {
          "data": {
            "text/plain": [
              "{'query': 'What is the objective of the Karnataka Wind Power Carbon Finance Project?',\n",
              " 'result': 'The objective of the Karnataka Wind Power Carbon Finance Project is to contribute to sustainable development by providing renewable power to the Karnataka State electricity grid and reduce greenhouse gas emissions caused by reliance on fossil fuels. Additionally, the project aims to reduce global emissions of carbon dioxide.'}"
            ]
          },
          "execution_count": 94,
          "metadata": {},
          "output_type": "execute_result"
        }
      ],
      "source": [
        "qa(\"What is the objective of the Karnataka Wind Power Carbon Finance Project?\")\n"
      ]
    },
    {
      "cell_type": "code",
      "source": [
        "qa_with_source(\"What is the objective of the Karnataka Wind Power Carbon Finance Project?\")"
      ],
      "metadata": {
        "colab": {
          "base_uri": "https://localhost:8080/"
        },
        "id": "-__4bMOHso-O",
        "outputId": "aafbfd73-6975-4cf0-a9b8-6504d1f5f992"
      },
      "execution_count": 66,
      "outputs": [
        {
          "output_type": "execute_result",
          "data": {
            "text/plain": [
              "{'question': 'What is the objective of the Karnataka Wind Power Carbon Finance Project?',\n",
              " 'answer': 'The objective of the Karnataka Wind Power Carbon Finance Project is to contribute to sustainable development by providing renewable power to the Karnataka State electricity grid and reduce greenhouse gas emissions caused by reliance on fossil fuels. The project also aims to reduce global emissions of carbon dioxide.\\n',\n",
              " 'sources': \"{'project_id': 'P119295', 'document_type': 'APPROVAL'}\"}"
            ]
          },
          "metadata": {},
          "execution_count": 66
        }
      ]
    },
    {
      "cell_type": "markdown",
      "source": [
        "## Query 6"
      ],
      "metadata": {
        "id": "Gwx5py8ftrJE"
      }
    },
    {
      "cell_type": "code",
      "execution_count": null,
      "metadata": {
        "colab": {
          "base_uri": "https://localhost:8080/"
        },
        "id": "dYlX_XdQcNJ2",
        "outputId": "2f9e0ebc-4e85-4910-c299-e2b872686d8e"
      },
      "outputs": [
        {
          "data": {
            "text/plain": [
              "{'query': 'What has been mentioned about Sustainability in the Karnataka Wind Power Carbon Finance Project?',\n",
              " 'result': \"The project activity in the Karnataka Wind Power Carbon Finance Project aims to achieve sustainable development by:\\n- Substituting electricity generated using conventional fossil fuel with wind energy-based power\\n- Mitigating the emission of greenhouse gases, specifically CO2, as wind is a renewable source of energy\\n- Conserving coal and other non-renewable natural resources\\n- Contributing to the growth of the wind energy sector in India\\n- Increasing the share of renewable energy in the regional grid\\n- Reducing pollutants associated with other power plants, such as SOX and NOX\\n- Contributing to reducing power shortage in the state of Karnataka\\n- Generating local employment and economic activity in the project area\\n- Helping to bridge India's energy deficit\"}"
            ]
          },
          "execution_count": 117,
          "metadata": {},
          "output_type": "execute_result"
        }
      ],
      "source": [
        "qa(\"What has been mentioned about Sustainability in the Karnataka Wind Power Carbon Finance Project?\")\n",
        "\n"
      ]
    },
    {
      "cell_type": "code",
      "source": [
        "qa_with_source(\"What has been mentioned about Sustainability in the Karnataka Wind Power Carbon Finance Project?\")"
      ],
      "metadata": {
        "colab": {
          "base_uri": "https://localhost:8080/"
        },
        "id": "1cUjjTD_twQ7",
        "outputId": "163cefe3-5d47-4223-ddd5-57ee38446b3f"
      },
      "execution_count": 67,
      "outputs": [
        {
          "output_type": "execute_result",
          "data": {
            "text/plain": [
              "{'question': 'What has been mentioned about Sustainability in the Karnataka Wind Power Carbon Finance Project?',\n",
              " 'answer': \"The Karnataka Wind Power Carbon Finance Project mentions that the project aims to mobilize climate financing, specifically international performance-based financing in sequestering greenhouse gases and carbon. This financing will enable them to scale up investments and ensure the sustainability of the project's activities in the area.\\n\",\n",
              " 'sources': \"{'project_id': 'P173830', 'document_type': 'APPROVAL'}\"}"
            ]
          },
          "metadata": {},
          "execution_count": 67
        }
      ]
    },
    {
      "cell_type": "markdown",
      "source": [
        "## Query 7"
      ],
      "metadata": {
        "id": "lHvWP3KGt7Ov"
      }
    },
    {
      "cell_type": "code",
      "execution_count": null,
      "metadata": {
        "colab": {
          "base_uri": "https://localhost:8080/"
        },
        "id": "5jMEVKZHZ6sx",
        "outputId": "f9f4b03c-faff-4f52-dff2-8dc998b78a8d"
      },
      "outputs": [
        {
          "data": {
            "text/plain": [
              "{'query': 'What was the brokerage service offered to ex-soldiers by Pilot Emergency Labor Redeployment Project (PELRP)?',\n",
              " 'result': 'The specific details of the brokerage service offered to ex-soldiers by the Pilot Emergency Labor Redeployment Project (PELRP) are not provided in the given context.'}"
            ]
          },
          "execution_count": 101,
          "metadata": {},
          "output_type": "execute_result"
        }
      ],
      "source": [
        "qa(\"What was the brokerage service offered to ex-soldiers by Pilot Emergency Labor Redeployment Project (PELRP)?\")"
      ]
    },
    {
      "cell_type": "code",
      "source": [
        "qa_with_source(\"What was the brokerage service offered to ex-soldiers by Pilot Emergency Labor Redeployment Project (PELRP)?\")"
      ],
      "metadata": {
        "colab": {
          "base_uri": "https://localhost:8080/"
        },
        "id": "joRvIP2Wt_C7",
        "outputId": "e85616b7-0f7a-45c8-9dd7-f24987824d5b"
      },
      "execution_count": 68,
      "outputs": [
        {
          "output_type": "execute_result",
          "data": {
            "text/plain": [
              "{'question': 'What was the brokerage service offered to ex-soldiers by Pilot Emergency Labor Redeployment Project (PELRP)?',\n",
              " 'answer': 'The brokerage service offered to ex-soldiers by Pilot Emergency Labor Redeployment Project (PELRP) is not mentioned in the provided information.\\n',\n",
              " 'sources': 'N/A'}"
            ]
          },
          "metadata": {},
          "execution_count": 68
        }
      ]
    },
    {
      "cell_type": "code",
      "execution_count": 69,
      "metadata": {
        "colab": {
          "base_uri": "https://localhost:8080/"
        },
        "id": "Ce63TwLMaK-t",
        "outputId": "85132e6c-f2fd-4bea-b716-c9c1d3841e16"
      },
      "outputs": [
        {
          "output_type": "execute_result",
          "data": {
            "text/plain": [
              "{'query': 'How many ex-soldiers were benefittedby the Pilot Emergency Labor Redeployment Project (PELRP)?',\n",
              " 'result': 'There is no information provided in the given context about the number of ex-soldiers who were benefited by the Pilot Emergency Labor Redeployment Project (PELRP).'}"
            ]
          },
          "metadata": {},
          "execution_count": 69
        }
      ],
      "source": [
        "qa(\"How many ex-soldiers were benefittedby the Pilot Emergency Labor Redeployment Project (PELRP)?\")"
      ]
    },
    {
      "cell_type": "markdown",
      "source": [
        "## Query 8"
      ],
      "metadata": {
        "id": "-OMuA4mPuPSg"
      }
    },
    {
      "cell_type": "code",
      "execution_count": 70,
      "metadata": {
        "colab": {
          "base_uri": "https://localhost:8080/"
        },
        "id": "KXaeACRyaXrD",
        "outputId": "147af4fd-7d7b-4fa8-a5be-1fe79ce5f9e0"
      },
      "outputs": [
        {
          "output_type": "execute_result",
          "data": {
            "text/plain": [
              "{'query': 'Who is the Project Team Leader mentioned in the Report No: ICR00001193',\n",
              " 'result': 'The Project Team Leader mentioned in the report is Paul G. A. Bance.'}"
            ]
          },
          "metadata": {},
          "execution_count": 70
        }
      ],
      "source": [
        "qa(\"Who is the Project Team Leader mentioned in the Report No: ICR00001193\")"
      ]
    },
    {
      "cell_type": "code",
      "source": [
        "qa_with_source(\"Who is the Project Team Leader mentioned in the Report No: ICR00001193\")"
      ],
      "metadata": {
        "colab": {
          "base_uri": "https://localhost:8080/"
        },
        "id": "jgI3MxahuSPW",
        "outputId": "ee2f6734-58ed-496d-91e1-b70b57e11a03"
      },
      "execution_count": 71,
      "outputs": [
        {
          "output_type": "execute_result",
          "data": {
            "text/plain": [
              "{'question': 'Who is the Project Team Leader mentioned in the Report No: ICR00001193',\n",
              " 'answer': 'The Project Team Leader mentioned in the Report No: ICR00001193 is Paul G. A. Bance.\\n',\n",
              " 'sources': '0-pl'}"
            ]
          },
          "metadata": {},
          "execution_count": 71
        }
      ]
    },
    {
      "cell_type": "markdown",
      "source": [
        "####Query 10"
      ],
      "metadata": {
        "id": "MWMt2tRhuXEa"
      }
    },
    {
      "cell_type": "code",
      "execution_count": 72,
      "metadata": {
        "colab": {
          "base_uri": "https://localhost:8080/"
        },
        "id": "4v5dNNZ8bYDT",
        "outputId": "a436c0d3-23bd-449b-b10c-49b1edc62a17"
      },
      "outputs": [
        {
          "output_type": "execute_result",
          "data": {
            "text/plain": [
              "{'query': 'Summarize the Report no :ICR00001193',\n",
              " 'result': \"The report, ICR00001193, provides an assessment of a project's outcomes and impacts in the education sector. The project successfully implemented educational planning instruments, such as PROMEs and PENs, which guided municipal investment in education. Gender equity was also integrated into the education agenda. Additionally, the project produced relevant results in designing a strategy for secondary education, linking it to economic activities. There was increased dialogue and capacity strengthening between the government and public universities. Beneficiary surveys and workshops showed widespread knowledge of the project's objectives, satisfaction with implementation, and recommendations for improvement. Overall, the risk to development outcome was rated as moderate. The report also includes information on the project's task team members, staff time and cost, and beneficiary survey results.\"}"
            ]
          },
          "metadata": {},
          "execution_count": 72
        }
      ],
      "source": [
        "qa(\"Summarize the Report no :ICR00001193\")"
      ]
    },
    {
      "cell_type": "code",
      "source": [
        "qa_with_source(\"Summarize the Report no :ICR00001193\")"
      ],
      "metadata": {
        "colab": {
          "base_uri": "https://localhost:8080/"
        },
        "id": "THiNvPmqubLR",
        "outputId": "7a39bc21-a5a6-49a5-90da-9c403396c8bd"
      },
      "execution_count": 73,
      "outputs": [
        {
          "output_type": "execute_result",
          "data": {
            "text/plain": [
              "{'question': 'Summarize the Report no :ICR00001193',\n",
              " 'answer': \"The report no: ICR00001193 discusses the unintended outcomes and impacts of the project, including the use of PROMEs and PENs as educational planning instruments for municipalities, the inclusion of gender equity in the education agenda, the linkage between secondary education and economic activities, the dialogue and capacity strengthening between the government and public universities, and the opportunity for public universities to receive additional funds for quality improvement activities. The report also mentions the findings of beneficiary surveys and stakeholder workshops, which showed widespread knowledge of the project's objectives, satisfaction with its implementation, and recommendations for improvement. The report concludes with an assessment of the risk to development outcome, rating it as moderate.\\n\",\n",
              " 'sources': \"{'project_id': 'P006204', 'document_type': 'APPROVAL'}\"}"
            ]
          },
          "metadata": {},
          "execution_count": 73
        }
      ]
    },
    {
      "cell_type": "markdown",
      "source": [
        "### Query 11"
      ],
      "metadata": {
        "id": "AbPN3oNvumVu"
      }
    },
    {
      "cell_type": "code",
      "execution_count": 74,
      "metadata": {
        "id": "KETUSC04ZNKo",
        "colab": {
          "base_uri": "https://localhost:8080/"
        },
        "outputId": "2dbe1d65-eb81-4af1-a0a6-6d7bc11e5fdb"
      },
      "outputs": [
        {
          "output_type": "execute_result",
          "data": {
            "text/plain": [
              "{'question': 'What is the project Uruguay-Public Administration Reform about?',\n",
              " 'answer': 'The project \"Uruguay-Public Administration Reform\" aims to support reforms to boost economic growth, improve the competitiveness of the Uruguayan economy, and improve the provision of public and social services. The project focuses on areas such as public sector management, financial management, tax collections, customs, and social security administration. It also includes downsizing the central government, off-loading public enterprises, and modernizing core government functions. The project is designed to build on the groundwork already laid by the Uruguayan government in improving the performance of the central government and reducing impediments to private markets.\\n',\n",
              " 'sources': \"{'project_id': 'P008172', 'document_type': 'APPROVAL'}, {'project_id': 'P078726', 'document_type': 'APPROVAL'}\"}"
            ]
          },
          "metadata": {},
          "execution_count": 74
        }
      ],
      "source": [
        "qa_with_source(\"What is the project Uruguay-Public Administration Reform about?\")\n"
      ]
    },
    {
      "cell_type": "code",
      "source": [
        "qa(\"What is the project Uruguay-Public Administration Reform about?\")"
      ],
      "metadata": {
        "colab": {
          "base_uri": "https://localhost:8080/"
        },
        "id": "P4SzlRUr78om",
        "outputId": "a3f32802-659f-4cd3-92ee-d053afa4978b"
      },
      "execution_count": 75,
      "outputs": [
        {
          "output_type": "execute_result",
          "data": {
            "text/plain": [
              "{'query': 'What is the project Uruguay-Public Administration Reform about?',\n",
              " 'result': \"The Uruguay-Public Administration Reform project is focused on reforming the public sector in Uruguay. The goal is to modernize core government functions such as financial management, tax collections, customs, and social security administration. The project aims to improve the efficiency and effectiveness of the public sector and reduce obstacles to private markets. It also includes downsizing the central government and off-loading public enterprises. The project is part of Uruguay's broader efforts to improve its economic growth, competitiveness, and provision of public and social services.\"}"
            ]
          },
          "metadata": {},
          "execution_count": 75
        }
      ]
    },
    {
      "cell_type": "code",
      "source": [],
      "metadata": {
        "id": "qlCgU9-fuxQx"
      },
      "execution_count": null,
      "outputs": []
    }
  ],
  "metadata": {
    "accelerator": "GPU",
    "colab": {
      "machine_shape": "hm",
      "provenance": [],
      "authorship_tag": "ABX9TyMSxD3T6HmblSHLRtM+jG5W",
      "include_colab_link": true
    },
    "kernelspec": {
      "display_name": "Python 3",
      "name": "python3"
    },
    "language_info": {
      "name": "python"
    },
    "widgets": {
      "application/vnd.jupyter.widget-state+json": {
        "02d6e12c1c0e4f8b896f1670dfc7cf5c": {
          "model_module": "@jupyter-widgets/controls",
          "model_module_version": "1.5.0",
          "model_name": "HTMLModel",
          "state": {
            "_dom_classes": [],
            "_model_module": "@jupyter-widgets/controls",
            "_model_module_version": "1.5.0",
            "_model_name": "HTMLModel",
            "_view_count": null,
            "_view_module": "@jupyter-widgets/controls",
            "_view_module_version": "1.5.0",
            "_view_name": "HTMLView",
            "description": "",
            "description_tooltip": null,
            "layout": "IPY_MODEL_78090777a26f453d80e983ac843e32a2",
            "placeholder": "​",
            "style": "IPY_MODEL_55dce51ee2574bf2b6db912c6b26dc2b",
            "value": "  4%"
          }
        },
        "0ddf3f551f3a470b8760f9357150b594": {
          "model_module": "@jupyter-widgets/controls",
          "model_module_version": "1.5.0",
          "model_name": "HBoxModel",
          "state": {
            "_dom_classes": [],
            "_model_module": "@jupyter-widgets/controls",
            "_model_module_version": "1.5.0",
            "_model_name": "HBoxModel",
            "_view_count": null,
            "_view_module": "@jupyter-widgets/controls",
            "_view_module_version": "1.5.0",
            "_view_name": "HBoxView",
            "box_style": "",
            "children": [
              "IPY_MODEL_02d6e12c1c0e4f8b896f1670dfc7cf5c",
              "IPY_MODEL_67ff868cea154471863562e5d2dd698a",
              "IPY_MODEL_6e737b646c004f988cf67c2498951800"
            ],
            "layout": "IPY_MODEL_aac1d6b0f3084623947ba1fb3b8df455"
          }
        },
        "30df2dc617a9407b952b35ca12277a72": {
          "model_module": "@jupyter-widgets/controls",
          "model_module_version": "1.5.0",
          "model_name": "DescriptionStyleModel",
          "state": {
            "_model_module": "@jupyter-widgets/controls",
            "_model_module_version": "1.5.0",
            "_model_name": "DescriptionStyleModel",
            "_view_count": null,
            "_view_module": "@jupyter-widgets/base",
            "_view_module_version": "1.2.0",
            "_view_name": "StyleView",
            "description_width": ""
          }
        },
        "4a3605bd417a4843b23a46791392f061": {
          "model_module": "@jupyter-widgets/base",
          "model_module_version": "1.2.0",
          "model_name": "LayoutModel",
          "state": {
            "_model_module": "@jupyter-widgets/base",
            "_model_module_version": "1.2.0",
            "_model_name": "LayoutModel",
            "_view_count": null,
            "_view_module": "@jupyter-widgets/base",
            "_view_module_version": "1.2.0",
            "_view_name": "LayoutView",
            "align_content": null,
            "align_items": null,
            "align_self": null,
            "border": null,
            "bottom": null,
            "display": null,
            "flex": null,
            "flex_flow": null,
            "grid_area": null,
            "grid_auto_columns": null,
            "grid_auto_flow": null,
            "grid_auto_rows": null,
            "grid_column": null,
            "grid_gap": null,
            "grid_row": null,
            "grid_template_areas": null,
            "grid_template_columns": null,
            "grid_template_rows": null,
            "height": null,
            "justify_content": null,
            "justify_items": null,
            "left": null,
            "margin": null,
            "max_height": null,
            "max_width": null,
            "min_height": null,
            "min_width": null,
            "object_fit": null,
            "object_position": null,
            "order": null,
            "overflow": null,
            "overflow_x": null,
            "overflow_y": null,
            "padding": null,
            "right": null,
            "top": null,
            "visibility": null,
            "width": null
          }
        },
        "4c7a58fd2e3247f994256f7dd29c898d": {
          "model_module": "@jupyter-widgets/base",
          "model_module_version": "1.2.0",
          "model_name": "LayoutModel",
          "state": {
            "_model_module": "@jupyter-widgets/base",
            "_model_module_version": "1.2.0",
            "_model_name": "LayoutModel",
            "_view_count": null,
            "_view_module": "@jupyter-widgets/base",
            "_view_module_version": "1.2.0",
            "_view_name": "LayoutView",
            "align_content": null,
            "align_items": null,
            "align_self": null,
            "border": null,
            "bottom": null,
            "display": null,
            "flex": null,
            "flex_flow": null,
            "grid_area": null,
            "grid_auto_columns": null,
            "grid_auto_flow": null,
            "grid_auto_rows": null,
            "grid_column": null,
            "grid_gap": null,
            "grid_row": null,
            "grid_template_areas": null,
            "grid_template_columns": null,
            "grid_template_rows": null,
            "height": null,
            "justify_content": null,
            "justify_items": null,
            "left": null,
            "margin": null,
            "max_height": null,
            "max_width": null,
            "min_height": null,
            "min_width": null,
            "object_fit": null,
            "object_position": null,
            "order": null,
            "overflow": null,
            "overflow_x": null,
            "overflow_y": null,
            "padding": null,
            "right": null,
            "top": null,
            "visibility": null,
            "width": null
          }
        },
        "4d4b0d95477341a194b402e345c25dec": {
          "model_module": "@jupyter-widgets/controls",
          "model_module_version": "1.5.0",
          "model_name": "ProgressStyleModel",
          "state": {
            "_model_module": "@jupyter-widgets/controls",
            "_model_module_version": "1.5.0",
            "_model_name": "ProgressStyleModel",
            "_view_count": null,
            "_view_module": "@jupyter-widgets/base",
            "_view_module_version": "1.2.0",
            "_view_name": "StyleView",
            "bar_color": null,
            "description_width": ""
          }
        },
        "55dce51ee2574bf2b6db912c6b26dc2b": {
          "model_module": "@jupyter-widgets/controls",
          "model_module_version": "1.5.0",
          "model_name": "DescriptionStyleModel",
          "state": {
            "_model_module": "@jupyter-widgets/controls",
            "_model_module_version": "1.5.0",
            "_model_name": "DescriptionStyleModel",
            "_view_count": null,
            "_view_module": "@jupyter-widgets/base",
            "_view_module_version": "1.2.0",
            "_view_name": "StyleView",
            "description_width": ""
          }
        },
        "67ff868cea154471863562e5d2dd698a": {
          "model_module": "@jupyter-widgets/controls",
          "model_module_version": "1.5.0",
          "model_name": "FloatProgressModel",
          "state": {
            "_dom_classes": [],
            "_model_module": "@jupyter-widgets/controls",
            "_model_module_version": "1.5.0",
            "_model_name": "FloatProgressModel",
            "_view_count": null,
            "_view_module": "@jupyter-widgets/controls",
            "_view_module_version": "1.5.0",
            "_view_name": "ProgressView",
            "bar_style": "danger",
            "description": "",
            "description_tooltip": null,
            "layout": "IPY_MODEL_73d74bc9fe4642809dfb113f0095ed91",
            "max": 158,
            "min": 0,
            "orientation": "horizontal",
            "style": "IPY_MODEL_fdbe40f8a3e14d30a39f4efa7ed5a84c",
            "value": 6
          }
        },
        "6e737b646c004f988cf67c2498951800": {
          "model_module": "@jupyter-widgets/controls",
          "model_module_version": "1.5.0",
          "model_name": "HTMLModel",
          "state": {
            "_dom_classes": [],
            "_model_module": "@jupyter-widgets/controls",
            "_model_module_version": "1.5.0",
            "_model_name": "HTMLModel",
            "_view_count": null,
            "_view_module": "@jupyter-widgets/controls",
            "_view_module_version": "1.5.0",
            "_view_name": "HTMLView",
            "description": "",
            "description_tooltip": null,
            "layout": "IPY_MODEL_4a3605bd417a4843b23a46791392f061",
            "placeholder": "​",
            "style": "IPY_MODEL_30df2dc617a9407b952b35ca12277a72",
            "value": " 6/158 [11:09&lt;4:27:30, 105.60s/it]"
          }
        },
        "73d74bc9fe4642809dfb113f0095ed91": {
          "model_module": "@jupyter-widgets/base",
          "model_module_version": "1.2.0",
          "model_name": "LayoutModel",
          "state": {
            "_model_module": "@jupyter-widgets/base",
            "_model_module_version": "1.2.0",
            "_model_name": "LayoutModel",
            "_view_count": null,
            "_view_module": "@jupyter-widgets/base",
            "_view_module_version": "1.2.0",
            "_view_name": "LayoutView",
            "align_content": null,
            "align_items": null,
            "align_self": null,
            "border": null,
            "bottom": null,
            "display": null,
            "flex": null,
            "flex_flow": null,
            "grid_area": null,
            "grid_auto_columns": null,
            "grid_auto_flow": null,
            "grid_auto_rows": null,
            "grid_column": null,
            "grid_gap": null,
            "grid_row": null,
            "grid_template_areas": null,
            "grid_template_columns": null,
            "grid_template_rows": null,
            "height": null,
            "justify_content": null,
            "justify_items": null,
            "left": null,
            "margin": null,
            "max_height": null,
            "max_width": null,
            "min_height": null,
            "min_width": null,
            "object_fit": null,
            "object_position": null,
            "order": null,
            "overflow": null,
            "overflow_x": null,
            "overflow_y": null,
            "padding": null,
            "right": null,
            "top": null,
            "visibility": null,
            "width": null
          }
        },
        "7719265fbe3e48428ce9713af3b1ae3e": {
          "model_module": "@jupyter-widgets/controls",
          "model_module_version": "1.5.0",
          "model_name": "HTMLModel",
          "state": {
            "_dom_classes": [],
            "_model_module": "@jupyter-widgets/controls",
            "_model_module_version": "1.5.0",
            "_model_name": "HTMLModel",
            "_view_count": null,
            "_view_module": "@jupyter-widgets/controls",
            "_view_module_version": "1.5.0",
            "_view_name": "HTMLView",
            "description": "",
            "description_tooltip": null,
            "layout": "IPY_MODEL_4c7a58fd2e3247f994256f7dd29c898d",
            "placeholder": "​",
            "style": "IPY_MODEL_7a8204a5fd79453d92216685a43be726",
            "value": ""
          }
        },
        "78090777a26f453d80e983ac843e32a2": {
          "model_module": "@jupyter-widgets/base",
          "model_module_version": "1.2.0",
          "model_name": "LayoutModel",
          "state": {
            "_model_module": "@jupyter-widgets/base",
            "_model_module_version": "1.2.0",
            "_model_name": "LayoutModel",
            "_view_count": null,
            "_view_module": "@jupyter-widgets/base",
            "_view_module_version": "1.2.0",
            "_view_name": "LayoutView",
            "align_content": null,
            "align_items": null,
            "align_self": null,
            "border": null,
            "bottom": null,
            "display": null,
            "flex": null,
            "flex_flow": null,
            "grid_area": null,
            "grid_auto_columns": null,
            "grid_auto_flow": null,
            "grid_auto_rows": null,
            "grid_column": null,
            "grid_gap": null,
            "grid_row": null,
            "grid_template_areas": null,
            "grid_template_columns": null,
            "grid_template_rows": null,
            "height": null,
            "justify_content": null,
            "justify_items": null,
            "left": null,
            "margin": null,
            "max_height": null,
            "max_width": null,
            "min_height": null,
            "min_width": null,
            "object_fit": null,
            "object_position": null,
            "order": null,
            "overflow": null,
            "overflow_x": null,
            "overflow_y": null,
            "padding": null,
            "right": null,
            "top": null,
            "visibility": null,
            "width": null
          }
        },
        "7a8204a5fd79453d92216685a43be726": {
          "model_module": "@jupyter-widgets/controls",
          "model_module_version": "1.5.0",
          "model_name": "DescriptionStyleModel",
          "state": {
            "_model_module": "@jupyter-widgets/controls",
            "_model_module_version": "1.5.0",
            "_model_name": "DescriptionStyleModel",
            "_view_count": null,
            "_view_module": "@jupyter-widgets/base",
            "_view_module_version": "1.2.0",
            "_view_name": "StyleView",
            "description_width": ""
          }
        },
        "998608e6b19d454ca4812c9916cb06dc": {
          "model_module": "@jupyter-widgets/base",
          "model_module_version": "1.2.0",
          "model_name": "LayoutModel",
          "state": {
            "_model_module": "@jupyter-widgets/base",
            "_model_module_version": "1.2.0",
            "_model_name": "LayoutModel",
            "_view_count": null,
            "_view_module": "@jupyter-widgets/base",
            "_view_module_version": "1.2.0",
            "_view_name": "LayoutView",
            "align_content": null,
            "align_items": null,
            "align_self": null,
            "border": null,
            "bottom": null,
            "display": null,
            "flex": null,
            "flex_flow": null,
            "grid_area": null,
            "grid_auto_columns": null,
            "grid_auto_flow": null,
            "grid_auto_rows": null,
            "grid_column": null,
            "grid_gap": null,
            "grid_row": null,
            "grid_template_areas": null,
            "grid_template_columns": null,
            "grid_template_rows": null,
            "height": null,
            "justify_content": null,
            "justify_items": null,
            "left": null,
            "margin": null,
            "max_height": null,
            "max_width": null,
            "min_height": null,
            "min_width": null,
            "object_fit": null,
            "object_position": null,
            "order": null,
            "overflow": null,
            "overflow_x": null,
            "overflow_y": null,
            "padding": null,
            "right": null,
            "top": null,
            "visibility": null,
            "width": "20px"
          }
        },
        "a03e8d3b7bf745b685c8463745f64b73": {
          "model_module": "@jupyter-widgets/controls",
          "model_module_version": "1.5.0",
          "model_name": "HTMLModel",
          "state": {
            "_dom_classes": [],
            "_model_module": "@jupyter-widgets/controls",
            "_model_module_version": "1.5.0",
            "_model_name": "HTMLModel",
            "_view_count": null,
            "_view_module": "@jupyter-widgets/controls",
            "_view_module_version": "1.5.0",
            "_view_name": "HTMLView",
            "description": "",
            "description_tooltip": null,
            "layout": "IPY_MODEL_e501b6215a5d440990384c7e2bb40b85",
            "placeholder": "​",
            "style": "IPY_MODEL_b04aaa92eb984d3cad81dd319bcce9d1",
            "value": " 0/? [00:00&lt;?, ?it/s]"
          }
        },
        "aac1d6b0f3084623947ba1fb3b8df455": {
          "model_module": "@jupyter-widgets/base",
          "model_module_version": "1.2.0",
          "model_name": "LayoutModel",
          "state": {
            "_model_module": "@jupyter-widgets/base",
            "_model_module_version": "1.2.0",
            "_model_name": "LayoutModel",
            "_view_count": null,
            "_view_module": "@jupyter-widgets/base",
            "_view_module_version": "1.2.0",
            "_view_name": "LayoutView",
            "align_content": null,
            "align_items": null,
            "align_self": null,
            "border": null,
            "bottom": null,
            "display": null,
            "flex": null,
            "flex_flow": null,
            "grid_area": null,
            "grid_auto_columns": null,
            "grid_auto_flow": null,
            "grid_auto_rows": null,
            "grid_column": null,
            "grid_gap": null,
            "grid_row": null,
            "grid_template_areas": null,
            "grid_template_columns": null,
            "grid_template_rows": null,
            "height": null,
            "justify_content": null,
            "justify_items": null,
            "left": null,
            "margin": null,
            "max_height": null,
            "max_width": null,
            "min_height": null,
            "min_width": null,
            "object_fit": null,
            "object_position": null,
            "order": null,
            "overflow": null,
            "overflow_x": null,
            "overflow_y": null,
            "padding": null,
            "right": null,
            "top": null,
            "visibility": null,
            "width": null
          }
        },
        "b04aaa92eb984d3cad81dd319bcce9d1": {
          "model_module": "@jupyter-widgets/controls",
          "model_module_version": "1.5.0",
          "model_name": "DescriptionStyleModel",
          "state": {
            "_model_module": "@jupyter-widgets/controls",
            "_model_module_version": "1.5.0",
            "_model_name": "DescriptionStyleModel",
            "_view_count": null,
            "_view_module": "@jupyter-widgets/base",
            "_view_module_version": "1.2.0",
            "_view_name": "StyleView",
            "description_width": ""
          }
        },
        "c24682a01ddc48648e5eb2f7a8f77f25": {
          "model_module": "@jupyter-widgets/base",
          "model_module_version": "1.2.0",
          "model_name": "LayoutModel",
          "state": {
            "_model_module": "@jupyter-widgets/base",
            "_model_module_version": "1.2.0",
            "_model_name": "LayoutModel",
            "_view_count": null,
            "_view_module": "@jupyter-widgets/base",
            "_view_module_version": "1.2.0",
            "_view_name": "LayoutView",
            "align_content": null,
            "align_items": null,
            "align_self": null,
            "border": null,
            "bottom": null,
            "display": null,
            "flex": null,
            "flex_flow": null,
            "grid_area": null,
            "grid_auto_columns": null,
            "grid_auto_flow": null,
            "grid_auto_rows": null,
            "grid_column": null,
            "grid_gap": null,
            "grid_row": null,
            "grid_template_areas": null,
            "grid_template_columns": null,
            "grid_template_rows": null,
            "height": null,
            "justify_content": null,
            "justify_items": null,
            "left": null,
            "margin": null,
            "max_height": null,
            "max_width": null,
            "min_height": null,
            "min_width": null,
            "object_fit": null,
            "object_position": null,
            "order": null,
            "overflow": null,
            "overflow_x": null,
            "overflow_y": null,
            "padding": null,
            "right": null,
            "top": null,
            "visibility": null,
            "width": null
          }
        },
        "e4e17b611d4747428f0e2d05bd1741bd": {
          "model_module": "@jupyter-widgets/controls",
          "model_module_version": "1.5.0",
          "model_name": "FloatProgressModel",
          "state": {
            "_dom_classes": [],
            "_model_module": "@jupyter-widgets/controls",
            "_model_module_version": "1.5.0",
            "_model_name": "FloatProgressModel",
            "_view_count": null,
            "_view_module": "@jupyter-widgets/controls",
            "_view_module_version": "1.5.0",
            "_view_name": "ProgressView",
            "bar_style": "success",
            "description": "",
            "description_tooltip": null,
            "layout": "IPY_MODEL_998608e6b19d454ca4812c9916cb06dc",
            "max": 1,
            "min": 0,
            "orientation": "horizontal",
            "style": "IPY_MODEL_4d4b0d95477341a194b402e345c25dec",
            "value": 0
          }
        },
        "e501b6215a5d440990384c7e2bb40b85": {
          "model_module": "@jupyter-widgets/base",
          "model_module_version": "1.2.0",
          "model_name": "LayoutModel",
          "state": {
            "_model_module": "@jupyter-widgets/base",
            "_model_module_version": "1.2.0",
            "_model_name": "LayoutModel",
            "_view_count": null,
            "_view_module": "@jupyter-widgets/base",
            "_view_module_version": "1.2.0",
            "_view_name": "LayoutView",
            "align_content": null,
            "align_items": null,
            "align_self": null,
            "border": null,
            "bottom": null,
            "display": null,
            "flex": null,
            "flex_flow": null,
            "grid_area": null,
            "grid_auto_columns": null,
            "grid_auto_flow": null,
            "grid_auto_rows": null,
            "grid_column": null,
            "grid_gap": null,
            "grid_row": null,
            "grid_template_areas": null,
            "grid_template_columns": null,
            "grid_template_rows": null,
            "height": null,
            "justify_content": null,
            "justify_items": null,
            "left": null,
            "margin": null,
            "max_height": null,
            "max_width": null,
            "min_height": null,
            "min_width": null,
            "object_fit": null,
            "object_position": null,
            "order": null,
            "overflow": null,
            "overflow_x": null,
            "overflow_y": null,
            "padding": null,
            "right": null,
            "top": null,
            "visibility": null,
            "width": null
          }
        },
        "fdbe40f8a3e14d30a39f4efa7ed5a84c": {
          "model_module": "@jupyter-widgets/controls",
          "model_module_version": "1.5.0",
          "model_name": "ProgressStyleModel",
          "state": {
            "_model_module": "@jupyter-widgets/controls",
            "_model_module_version": "1.5.0",
            "_model_name": "ProgressStyleModel",
            "_view_count": null,
            "_view_module": "@jupyter-widgets/base",
            "_view_module_version": "1.2.0",
            "_view_name": "StyleView",
            "bar_color": null,
            "description_width": ""
          }
        },
        "fe421ee740f740a39d8f7bca2f595448": {
          "model_module": "@jupyter-widgets/controls",
          "model_module_version": "1.5.0",
          "model_name": "HBoxModel",
          "state": {
            "_dom_classes": [],
            "_model_module": "@jupyter-widgets/controls",
            "_model_module_version": "1.5.0",
            "_model_name": "HBoxModel",
            "_view_count": null,
            "_view_module": "@jupyter-widgets/controls",
            "_view_module_version": "1.5.0",
            "_view_name": "HBoxView",
            "box_style": "",
            "children": [
              "IPY_MODEL_7719265fbe3e48428ce9713af3b1ae3e",
              "IPY_MODEL_e4e17b611d4747428f0e2d05bd1741bd",
              "IPY_MODEL_a03e8d3b7bf745b685c8463745f64b73"
            ],
            "layout": "IPY_MODEL_c24682a01ddc48648e5eb2f7a8f77f25"
          }
        },
        "feb50f7d28c44d1fb52cb8a2f75cadad": {
          "model_module": "@jupyter-widgets/controls",
          "model_name": "HBoxModel",
          "model_module_version": "1.5.0",
          "state": {
            "_dom_classes": [],
            "_model_module": "@jupyter-widgets/controls",
            "_model_module_version": "1.5.0",
            "_model_name": "HBoxModel",
            "_view_count": null,
            "_view_module": "@jupyter-widgets/controls",
            "_view_module_version": "1.5.0",
            "_view_name": "HBoxView",
            "box_style": "",
            "children": [
              "IPY_MODEL_45c36212526547609ce3612b921838aa",
              "IPY_MODEL_6e81fe04279e4349914ec72469e38e2d",
              "IPY_MODEL_213cc75ea3ae4d17ad787b4113aa283f"
            ],
            "layout": "IPY_MODEL_a003d9634fb846edb270227cc99738d7"
          }
        },
        "45c36212526547609ce3612b921838aa": {
          "model_module": "@jupyter-widgets/controls",
          "model_name": "HTMLModel",
          "model_module_version": "1.5.0",
          "state": {
            "_dom_classes": [],
            "_model_module": "@jupyter-widgets/controls",
            "_model_module_version": "1.5.0",
            "_model_name": "HTMLModel",
            "_view_count": null,
            "_view_module": "@jupyter-widgets/controls",
            "_view_module_version": "1.5.0",
            "_view_name": "HTMLView",
            "description": "",
            "description_tooltip": null,
            "layout": "IPY_MODEL_6f231d0c2b284100a336db11370fe0a4",
            "placeholder": "​",
            "style": "IPY_MODEL_56c8820653d74b40a1b535936523e584",
            "value": "Downloading readme: 100%"
          }
        },
        "6e81fe04279e4349914ec72469e38e2d": {
          "model_module": "@jupyter-widgets/controls",
          "model_name": "FloatProgressModel",
          "model_module_version": "1.5.0",
          "state": {
            "_dom_classes": [],
            "_model_module": "@jupyter-widgets/controls",
            "_model_module_version": "1.5.0",
            "_model_name": "FloatProgressModel",
            "_view_count": null,
            "_view_module": "@jupyter-widgets/controls",
            "_view_module_version": "1.5.0",
            "_view_name": "ProgressView",
            "bar_style": "success",
            "description": "",
            "description_tooltip": null,
            "layout": "IPY_MODEL_e01c7a6986d14a3c968f3f7d585616a6",
            "max": 4628,
            "min": 0,
            "orientation": "horizontal",
            "style": "IPY_MODEL_c09c5dfe3ce04e51aa8b2ad839dc2b56",
            "value": 4628
          }
        },
        "213cc75ea3ae4d17ad787b4113aa283f": {
          "model_module": "@jupyter-widgets/controls",
          "model_name": "HTMLModel",
          "model_module_version": "1.5.0",
          "state": {
            "_dom_classes": [],
            "_model_module": "@jupyter-widgets/controls",
            "_model_module_version": "1.5.0",
            "_model_name": "HTMLModel",
            "_view_count": null,
            "_view_module": "@jupyter-widgets/controls",
            "_view_module_version": "1.5.0",
            "_view_name": "HTMLView",
            "description": "",
            "description_tooltip": null,
            "layout": "IPY_MODEL_5e1bc14fc6f942c88139fe1d9bb97878",
            "placeholder": "​",
            "style": "IPY_MODEL_9b57efc9af4d4951b37d866c51864802",
            "value": " 4.63k/4.63k [00:00&lt;00:00, 388kB/s]"
          }
        },
        "a003d9634fb846edb270227cc99738d7": {
          "model_module": "@jupyter-widgets/base",
          "model_name": "LayoutModel",
          "model_module_version": "1.2.0",
          "state": {
            "_model_module": "@jupyter-widgets/base",
            "_model_module_version": "1.2.0",
            "_model_name": "LayoutModel",
            "_view_count": null,
            "_view_module": "@jupyter-widgets/base",
            "_view_module_version": "1.2.0",
            "_view_name": "LayoutView",
            "align_content": null,
            "align_items": null,
            "align_self": null,
            "border": null,
            "bottom": null,
            "display": null,
            "flex": null,
            "flex_flow": null,
            "grid_area": null,
            "grid_auto_columns": null,
            "grid_auto_flow": null,
            "grid_auto_rows": null,
            "grid_column": null,
            "grid_gap": null,
            "grid_row": null,
            "grid_template_areas": null,
            "grid_template_columns": null,
            "grid_template_rows": null,
            "height": null,
            "justify_content": null,
            "justify_items": null,
            "left": null,
            "margin": null,
            "max_height": null,
            "max_width": null,
            "min_height": null,
            "min_width": null,
            "object_fit": null,
            "object_position": null,
            "order": null,
            "overflow": null,
            "overflow_x": null,
            "overflow_y": null,
            "padding": null,
            "right": null,
            "top": null,
            "visibility": null,
            "width": null
          }
        },
        "6f231d0c2b284100a336db11370fe0a4": {
          "model_module": "@jupyter-widgets/base",
          "model_name": "LayoutModel",
          "model_module_version": "1.2.0",
          "state": {
            "_model_module": "@jupyter-widgets/base",
            "_model_module_version": "1.2.0",
            "_model_name": "LayoutModel",
            "_view_count": null,
            "_view_module": "@jupyter-widgets/base",
            "_view_module_version": "1.2.0",
            "_view_name": "LayoutView",
            "align_content": null,
            "align_items": null,
            "align_self": null,
            "border": null,
            "bottom": null,
            "display": null,
            "flex": null,
            "flex_flow": null,
            "grid_area": null,
            "grid_auto_columns": null,
            "grid_auto_flow": null,
            "grid_auto_rows": null,
            "grid_column": null,
            "grid_gap": null,
            "grid_row": null,
            "grid_template_areas": null,
            "grid_template_columns": null,
            "grid_template_rows": null,
            "height": null,
            "justify_content": null,
            "justify_items": null,
            "left": null,
            "margin": null,
            "max_height": null,
            "max_width": null,
            "min_height": null,
            "min_width": null,
            "object_fit": null,
            "object_position": null,
            "order": null,
            "overflow": null,
            "overflow_x": null,
            "overflow_y": null,
            "padding": null,
            "right": null,
            "top": null,
            "visibility": null,
            "width": null
          }
        },
        "56c8820653d74b40a1b535936523e584": {
          "model_module": "@jupyter-widgets/controls",
          "model_name": "DescriptionStyleModel",
          "model_module_version": "1.5.0",
          "state": {
            "_model_module": "@jupyter-widgets/controls",
            "_model_module_version": "1.5.0",
            "_model_name": "DescriptionStyleModel",
            "_view_count": null,
            "_view_module": "@jupyter-widgets/base",
            "_view_module_version": "1.2.0",
            "_view_name": "StyleView",
            "description_width": ""
          }
        },
        "e01c7a6986d14a3c968f3f7d585616a6": {
          "model_module": "@jupyter-widgets/base",
          "model_name": "LayoutModel",
          "model_module_version": "1.2.0",
          "state": {
            "_model_module": "@jupyter-widgets/base",
            "_model_module_version": "1.2.0",
            "_model_name": "LayoutModel",
            "_view_count": null,
            "_view_module": "@jupyter-widgets/base",
            "_view_module_version": "1.2.0",
            "_view_name": "LayoutView",
            "align_content": null,
            "align_items": null,
            "align_self": null,
            "border": null,
            "bottom": null,
            "display": null,
            "flex": null,
            "flex_flow": null,
            "grid_area": null,
            "grid_auto_columns": null,
            "grid_auto_flow": null,
            "grid_auto_rows": null,
            "grid_column": null,
            "grid_gap": null,
            "grid_row": null,
            "grid_template_areas": null,
            "grid_template_columns": null,
            "grid_template_rows": null,
            "height": null,
            "justify_content": null,
            "justify_items": null,
            "left": null,
            "margin": null,
            "max_height": null,
            "max_width": null,
            "min_height": null,
            "min_width": null,
            "object_fit": null,
            "object_position": null,
            "order": null,
            "overflow": null,
            "overflow_x": null,
            "overflow_y": null,
            "padding": null,
            "right": null,
            "top": null,
            "visibility": null,
            "width": null
          }
        },
        "c09c5dfe3ce04e51aa8b2ad839dc2b56": {
          "model_module": "@jupyter-widgets/controls",
          "model_name": "ProgressStyleModel",
          "model_module_version": "1.5.0",
          "state": {
            "_model_module": "@jupyter-widgets/controls",
            "_model_module_version": "1.5.0",
            "_model_name": "ProgressStyleModel",
            "_view_count": null,
            "_view_module": "@jupyter-widgets/base",
            "_view_module_version": "1.2.0",
            "_view_name": "StyleView",
            "bar_color": null,
            "description_width": ""
          }
        },
        "5e1bc14fc6f942c88139fe1d9bb97878": {
          "model_module": "@jupyter-widgets/base",
          "model_name": "LayoutModel",
          "model_module_version": "1.2.0",
          "state": {
            "_model_module": "@jupyter-widgets/base",
            "_model_module_version": "1.2.0",
            "_model_name": "LayoutModel",
            "_view_count": null,
            "_view_module": "@jupyter-widgets/base",
            "_view_module_version": "1.2.0",
            "_view_name": "LayoutView",
            "align_content": null,
            "align_items": null,
            "align_self": null,
            "border": null,
            "bottom": null,
            "display": null,
            "flex": null,
            "flex_flow": null,
            "grid_area": null,
            "grid_auto_columns": null,
            "grid_auto_flow": null,
            "grid_auto_rows": null,
            "grid_column": null,
            "grid_gap": null,
            "grid_row": null,
            "grid_template_areas": null,
            "grid_template_columns": null,
            "grid_template_rows": null,
            "height": null,
            "justify_content": null,
            "justify_items": null,
            "left": null,
            "margin": null,
            "max_height": null,
            "max_width": null,
            "min_height": null,
            "min_width": null,
            "object_fit": null,
            "object_position": null,
            "order": null,
            "overflow": null,
            "overflow_x": null,
            "overflow_y": null,
            "padding": null,
            "right": null,
            "top": null,
            "visibility": null,
            "width": null
          }
        },
        "9b57efc9af4d4951b37d866c51864802": {
          "model_module": "@jupyter-widgets/controls",
          "model_name": "DescriptionStyleModel",
          "model_module_version": "1.5.0",
          "state": {
            "_model_module": "@jupyter-widgets/controls",
            "_model_module_version": "1.5.0",
            "_model_name": "DescriptionStyleModel",
            "_view_count": null,
            "_view_module": "@jupyter-widgets/base",
            "_view_module_version": "1.2.0",
            "_view_name": "StyleView",
            "description_width": ""
          }
        },
        "c6eab29e1a3f4ce6b7a3cf04a2a5af01": {
          "model_module": "@jupyter-widgets/controls",
          "model_name": "HBoxModel",
          "model_module_version": "1.5.0",
          "state": {
            "_dom_classes": [],
            "_model_module": "@jupyter-widgets/controls",
            "_model_module_version": "1.5.0",
            "_model_name": "HBoxModel",
            "_view_count": null,
            "_view_module": "@jupyter-widgets/controls",
            "_view_module_version": "1.5.0",
            "_view_name": "HBoxView",
            "box_style": "",
            "children": [
              "IPY_MODEL_7b0007d7ec9e4639b751133044a48525",
              "IPY_MODEL_3b8cfc4417e4423fbe29691829e267ad",
              "IPY_MODEL_8e0e2e542af245709dfba9c592560249"
            ],
            "layout": "IPY_MODEL_fb9744a55a79431d9f9c9f77764ba26d"
          }
        },
        "7b0007d7ec9e4639b751133044a48525": {
          "model_module": "@jupyter-widgets/controls",
          "model_name": "HTMLModel",
          "model_module_version": "1.5.0",
          "state": {
            "_dom_classes": [],
            "_model_module": "@jupyter-widgets/controls",
            "_model_module_version": "1.5.0",
            "_model_name": "HTMLModel",
            "_view_count": null,
            "_view_module": "@jupyter-widgets/controls",
            "_view_module_version": "1.5.0",
            "_view_name": "HTMLView",
            "description": "",
            "description_tooltip": null,
            "layout": "IPY_MODEL_8d1abc852d12482e890e374f1c84b680",
            "placeholder": "​",
            "style": "IPY_MODEL_af898bd2af3549e0ad0e9b6ba0ea29b5",
            "value": "Downloading data files: 100%"
          }
        },
        "3b8cfc4417e4423fbe29691829e267ad": {
          "model_module": "@jupyter-widgets/controls",
          "model_name": "FloatProgressModel",
          "model_module_version": "1.5.0",
          "state": {
            "_dom_classes": [],
            "_model_module": "@jupyter-widgets/controls",
            "_model_module_version": "1.5.0",
            "_model_name": "FloatProgressModel",
            "_view_count": null,
            "_view_module": "@jupyter-widgets/controls",
            "_view_module_version": "1.5.0",
            "_view_name": "ProgressView",
            "bar_style": "success",
            "description": "",
            "description_tooltip": null,
            "layout": "IPY_MODEL_56aad99036b34cd3826eee1c8e3bd209",
            "max": 1,
            "min": 0,
            "orientation": "horizontal",
            "style": "IPY_MODEL_938b49f60881402bbcbd39e814702db9",
            "value": 1
          }
        },
        "8e0e2e542af245709dfba9c592560249": {
          "model_module": "@jupyter-widgets/controls",
          "model_name": "HTMLModel",
          "model_module_version": "1.5.0",
          "state": {
            "_dom_classes": [],
            "_model_module": "@jupyter-widgets/controls",
            "_model_module_version": "1.5.0",
            "_model_name": "HTMLModel",
            "_view_count": null,
            "_view_module": "@jupyter-widgets/controls",
            "_view_module_version": "1.5.0",
            "_view_name": "HTMLView",
            "description": "",
            "description_tooltip": null,
            "layout": "IPY_MODEL_80ac0104f9b94fb490f76b4d784d472c",
            "placeholder": "​",
            "style": "IPY_MODEL_6b48d136f4404cd9893cd1c42c4744a1",
            "value": " 1/1 [03:12&lt;00:00, 192.53s/it]"
          }
        },
        "fb9744a55a79431d9f9c9f77764ba26d": {
          "model_module": "@jupyter-widgets/base",
          "model_name": "LayoutModel",
          "model_module_version": "1.2.0",
          "state": {
            "_model_module": "@jupyter-widgets/base",
            "_model_module_version": "1.2.0",
            "_model_name": "LayoutModel",
            "_view_count": null,
            "_view_module": "@jupyter-widgets/base",
            "_view_module_version": "1.2.0",
            "_view_name": "LayoutView",
            "align_content": null,
            "align_items": null,
            "align_self": null,
            "border": null,
            "bottom": null,
            "display": null,
            "flex": null,
            "flex_flow": null,
            "grid_area": null,
            "grid_auto_columns": null,
            "grid_auto_flow": null,
            "grid_auto_rows": null,
            "grid_column": null,
            "grid_gap": null,
            "grid_row": null,
            "grid_template_areas": null,
            "grid_template_columns": null,
            "grid_template_rows": null,
            "height": null,
            "justify_content": null,
            "justify_items": null,
            "left": null,
            "margin": null,
            "max_height": null,
            "max_width": null,
            "min_height": null,
            "min_width": null,
            "object_fit": null,
            "object_position": null,
            "order": null,
            "overflow": null,
            "overflow_x": null,
            "overflow_y": null,
            "padding": null,
            "right": null,
            "top": null,
            "visibility": null,
            "width": null
          }
        },
        "8d1abc852d12482e890e374f1c84b680": {
          "model_module": "@jupyter-widgets/base",
          "model_name": "LayoutModel",
          "model_module_version": "1.2.0",
          "state": {
            "_model_module": "@jupyter-widgets/base",
            "_model_module_version": "1.2.0",
            "_model_name": "LayoutModel",
            "_view_count": null,
            "_view_module": "@jupyter-widgets/base",
            "_view_module_version": "1.2.0",
            "_view_name": "LayoutView",
            "align_content": null,
            "align_items": null,
            "align_self": null,
            "border": null,
            "bottom": null,
            "display": null,
            "flex": null,
            "flex_flow": null,
            "grid_area": null,
            "grid_auto_columns": null,
            "grid_auto_flow": null,
            "grid_auto_rows": null,
            "grid_column": null,
            "grid_gap": null,
            "grid_row": null,
            "grid_template_areas": null,
            "grid_template_columns": null,
            "grid_template_rows": null,
            "height": null,
            "justify_content": null,
            "justify_items": null,
            "left": null,
            "margin": null,
            "max_height": null,
            "max_width": null,
            "min_height": null,
            "min_width": null,
            "object_fit": null,
            "object_position": null,
            "order": null,
            "overflow": null,
            "overflow_x": null,
            "overflow_y": null,
            "padding": null,
            "right": null,
            "top": null,
            "visibility": null,
            "width": null
          }
        },
        "af898bd2af3549e0ad0e9b6ba0ea29b5": {
          "model_module": "@jupyter-widgets/controls",
          "model_name": "DescriptionStyleModel",
          "model_module_version": "1.5.0",
          "state": {
            "_model_module": "@jupyter-widgets/controls",
            "_model_module_version": "1.5.0",
            "_model_name": "DescriptionStyleModel",
            "_view_count": null,
            "_view_module": "@jupyter-widgets/base",
            "_view_module_version": "1.2.0",
            "_view_name": "StyleView",
            "description_width": ""
          }
        },
        "56aad99036b34cd3826eee1c8e3bd209": {
          "model_module": "@jupyter-widgets/base",
          "model_name": "LayoutModel",
          "model_module_version": "1.2.0",
          "state": {
            "_model_module": "@jupyter-widgets/base",
            "_model_module_version": "1.2.0",
            "_model_name": "LayoutModel",
            "_view_count": null,
            "_view_module": "@jupyter-widgets/base",
            "_view_module_version": "1.2.0",
            "_view_name": "LayoutView",
            "align_content": null,
            "align_items": null,
            "align_self": null,
            "border": null,
            "bottom": null,
            "display": null,
            "flex": null,
            "flex_flow": null,
            "grid_area": null,
            "grid_auto_columns": null,
            "grid_auto_flow": null,
            "grid_auto_rows": null,
            "grid_column": null,
            "grid_gap": null,
            "grid_row": null,
            "grid_template_areas": null,
            "grid_template_columns": null,
            "grid_template_rows": null,
            "height": null,
            "justify_content": null,
            "justify_items": null,
            "left": null,
            "margin": null,
            "max_height": null,
            "max_width": null,
            "min_height": null,
            "min_width": null,
            "object_fit": null,
            "object_position": null,
            "order": null,
            "overflow": null,
            "overflow_x": null,
            "overflow_y": null,
            "padding": null,
            "right": null,
            "top": null,
            "visibility": null,
            "width": null
          }
        },
        "938b49f60881402bbcbd39e814702db9": {
          "model_module": "@jupyter-widgets/controls",
          "model_name": "ProgressStyleModel",
          "model_module_version": "1.5.0",
          "state": {
            "_model_module": "@jupyter-widgets/controls",
            "_model_module_version": "1.5.0",
            "_model_name": "ProgressStyleModel",
            "_view_count": null,
            "_view_module": "@jupyter-widgets/base",
            "_view_module_version": "1.2.0",
            "_view_name": "StyleView",
            "bar_color": null,
            "description_width": ""
          }
        },
        "80ac0104f9b94fb490f76b4d784d472c": {
          "model_module": "@jupyter-widgets/base",
          "model_name": "LayoutModel",
          "model_module_version": "1.2.0",
          "state": {
            "_model_module": "@jupyter-widgets/base",
            "_model_module_version": "1.2.0",
            "_model_name": "LayoutModel",
            "_view_count": null,
            "_view_module": "@jupyter-widgets/base",
            "_view_module_version": "1.2.0",
            "_view_name": "LayoutView",
            "align_content": null,
            "align_items": null,
            "align_self": null,
            "border": null,
            "bottom": null,
            "display": null,
            "flex": null,
            "flex_flow": null,
            "grid_area": null,
            "grid_auto_columns": null,
            "grid_auto_flow": null,
            "grid_auto_rows": null,
            "grid_column": null,
            "grid_gap": null,
            "grid_row": null,
            "grid_template_areas": null,
            "grid_template_columns": null,
            "grid_template_rows": null,
            "height": null,
            "justify_content": null,
            "justify_items": null,
            "left": null,
            "margin": null,
            "max_height": null,
            "max_width": null,
            "min_height": null,
            "min_width": null,
            "object_fit": null,
            "object_position": null,
            "order": null,
            "overflow": null,
            "overflow_x": null,
            "overflow_y": null,
            "padding": null,
            "right": null,
            "top": null,
            "visibility": null,
            "width": null
          }
        },
        "6b48d136f4404cd9893cd1c42c4744a1": {
          "model_module": "@jupyter-widgets/controls",
          "model_name": "DescriptionStyleModel",
          "model_module_version": "1.5.0",
          "state": {
            "_model_module": "@jupyter-widgets/controls",
            "_model_module_version": "1.5.0",
            "_model_name": "DescriptionStyleModel",
            "_view_count": null,
            "_view_module": "@jupyter-widgets/base",
            "_view_module_version": "1.2.0",
            "_view_name": "StyleView",
            "description_width": ""
          }
        },
        "4bda05239cc840a49bd84f6a7a79347d": {
          "model_module": "@jupyter-widgets/controls",
          "model_name": "HBoxModel",
          "model_module_version": "1.5.0",
          "state": {
            "_dom_classes": [],
            "_model_module": "@jupyter-widgets/controls",
            "_model_module_version": "1.5.0",
            "_model_name": "HBoxModel",
            "_view_count": null,
            "_view_module": "@jupyter-widgets/controls",
            "_view_module_version": "1.5.0",
            "_view_name": "HBoxView",
            "box_style": "",
            "children": [
              "IPY_MODEL_430fb4b9b22b4dc6aeb41ab9cd1fa0dc",
              "IPY_MODEL_2d71eddb5d4c41579c088a95660a268c",
              "IPY_MODEL_4cbe7de4466d4e55847243e27b6da218"
            ],
            "layout": "IPY_MODEL_705037c2e18243f4b17e6f8fc53bf888"
          }
        },
        "430fb4b9b22b4dc6aeb41ab9cd1fa0dc": {
          "model_module": "@jupyter-widgets/controls",
          "model_name": "HTMLModel",
          "model_module_version": "1.5.0",
          "state": {
            "_dom_classes": [],
            "_model_module": "@jupyter-widgets/controls",
            "_model_module_version": "1.5.0",
            "_model_name": "HTMLModel",
            "_view_count": null,
            "_view_module": "@jupyter-widgets/controls",
            "_view_module_version": "1.5.0",
            "_view_name": "HTMLView",
            "description": "",
            "description_tooltip": null,
            "layout": "IPY_MODEL_336c30f0fbee4549968543b3160a2075",
            "placeholder": "​",
            "style": "IPY_MODEL_a3317f75809e45c6bffd1825677dd913",
            "value": "Downloading data: 100%"
          }
        },
        "2d71eddb5d4c41579c088a95660a268c": {
          "model_module": "@jupyter-widgets/controls",
          "model_name": "FloatProgressModel",
          "model_module_version": "1.5.0",
          "state": {
            "_dom_classes": [],
            "_model_module": "@jupyter-widgets/controls",
            "_model_module_version": "1.5.0",
            "_model_name": "FloatProgressModel",
            "_view_count": null,
            "_view_module": "@jupyter-widgets/controls",
            "_view_module_version": "1.5.0",
            "_view_name": "ProgressView",
            "bar_style": "success",
            "description": "",
            "description_tooltip": null,
            "layout": "IPY_MODEL_862f1175b4034b55826eb27aad8cbc81",
            "max": 402405732,
            "min": 0,
            "orientation": "horizontal",
            "style": "IPY_MODEL_a3e9135a62f14facb76cbf410bd5d9fd",
            "value": 402405732
          }
        },
        "4cbe7de4466d4e55847243e27b6da218": {
          "model_module": "@jupyter-widgets/controls",
          "model_name": "HTMLModel",
          "model_module_version": "1.5.0",
          "state": {
            "_dom_classes": [],
            "_model_module": "@jupyter-widgets/controls",
            "_model_module_version": "1.5.0",
            "_model_name": "HTMLModel",
            "_view_count": null,
            "_view_module": "@jupyter-widgets/controls",
            "_view_module_version": "1.5.0",
            "_view_name": "HTMLView",
            "description": "",
            "description_tooltip": null,
            "layout": "IPY_MODEL_55f17af9f2314d35a3458ca85df48030",
            "placeholder": "​",
            "style": "IPY_MODEL_0410a4e4388f4ab78e385f07808fe1d8",
            "value": " 402M/402M [03:12&lt;00:00, 1.38MB/s]"
          }
        },
        "705037c2e18243f4b17e6f8fc53bf888": {
          "model_module": "@jupyter-widgets/base",
          "model_name": "LayoutModel",
          "model_module_version": "1.2.0",
          "state": {
            "_model_module": "@jupyter-widgets/base",
            "_model_module_version": "1.2.0",
            "_model_name": "LayoutModel",
            "_view_count": null,
            "_view_module": "@jupyter-widgets/base",
            "_view_module_version": "1.2.0",
            "_view_name": "LayoutView",
            "align_content": null,
            "align_items": null,
            "align_self": null,
            "border": null,
            "bottom": null,
            "display": null,
            "flex": null,
            "flex_flow": null,
            "grid_area": null,
            "grid_auto_columns": null,
            "grid_auto_flow": null,
            "grid_auto_rows": null,
            "grid_column": null,
            "grid_gap": null,
            "grid_row": null,
            "grid_template_areas": null,
            "grid_template_columns": null,
            "grid_template_rows": null,
            "height": null,
            "justify_content": null,
            "justify_items": null,
            "left": null,
            "margin": null,
            "max_height": null,
            "max_width": null,
            "min_height": null,
            "min_width": null,
            "object_fit": null,
            "object_position": null,
            "order": null,
            "overflow": null,
            "overflow_x": null,
            "overflow_y": null,
            "padding": null,
            "right": null,
            "top": null,
            "visibility": null,
            "width": null
          }
        },
        "336c30f0fbee4549968543b3160a2075": {
          "model_module": "@jupyter-widgets/base",
          "model_name": "LayoutModel",
          "model_module_version": "1.2.0",
          "state": {
            "_model_module": "@jupyter-widgets/base",
            "_model_module_version": "1.2.0",
            "_model_name": "LayoutModel",
            "_view_count": null,
            "_view_module": "@jupyter-widgets/base",
            "_view_module_version": "1.2.0",
            "_view_name": "LayoutView",
            "align_content": null,
            "align_items": null,
            "align_self": null,
            "border": null,
            "bottom": null,
            "display": null,
            "flex": null,
            "flex_flow": null,
            "grid_area": null,
            "grid_auto_columns": null,
            "grid_auto_flow": null,
            "grid_auto_rows": null,
            "grid_column": null,
            "grid_gap": null,
            "grid_row": null,
            "grid_template_areas": null,
            "grid_template_columns": null,
            "grid_template_rows": null,
            "height": null,
            "justify_content": null,
            "justify_items": null,
            "left": null,
            "margin": null,
            "max_height": null,
            "max_width": null,
            "min_height": null,
            "min_width": null,
            "object_fit": null,
            "object_position": null,
            "order": null,
            "overflow": null,
            "overflow_x": null,
            "overflow_y": null,
            "padding": null,
            "right": null,
            "top": null,
            "visibility": null,
            "width": null
          }
        },
        "a3317f75809e45c6bffd1825677dd913": {
          "model_module": "@jupyter-widgets/controls",
          "model_name": "DescriptionStyleModel",
          "model_module_version": "1.5.0",
          "state": {
            "_model_module": "@jupyter-widgets/controls",
            "_model_module_version": "1.5.0",
            "_model_name": "DescriptionStyleModel",
            "_view_count": null,
            "_view_module": "@jupyter-widgets/base",
            "_view_module_version": "1.2.0",
            "_view_name": "StyleView",
            "description_width": ""
          }
        },
        "862f1175b4034b55826eb27aad8cbc81": {
          "model_module": "@jupyter-widgets/base",
          "model_name": "LayoutModel",
          "model_module_version": "1.2.0",
          "state": {
            "_model_module": "@jupyter-widgets/base",
            "_model_module_version": "1.2.0",
            "_model_name": "LayoutModel",
            "_view_count": null,
            "_view_module": "@jupyter-widgets/base",
            "_view_module_version": "1.2.0",
            "_view_name": "LayoutView",
            "align_content": null,
            "align_items": null,
            "align_self": null,
            "border": null,
            "bottom": null,
            "display": null,
            "flex": null,
            "flex_flow": null,
            "grid_area": null,
            "grid_auto_columns": null,
            "grid_auto_flow": null,
            "grid_auto_rows": null,
            "grid_column": null,
            "grid_gap": null,
            "grid_row": null,
            "grid_template_areas": null,
            "grid_template_columns": null,
            "grid_template_rows": null,
            "height": null,
            "justify_content": null,
            "justify_items": null,
            "left": null,
            "margin": null,
            "max_height": null,
            "max_width": null,
            "min_height": null,
            "min_width": null,
            "object_fit": null,
            "object_position": null,
            "order": null,
            "overflow": null,
            "overflow_x": null,
            "overflow_y": null,
            "padding": null,
            "right": null,
            "top": null,
            "visibility": null,
            "width": null
          }
        },
        "a3e9135a62f14facb76cbf410bd5d9fd": {
          "model_module": "@jupyter-widgets/controls",
          "model_name": "ProgressStyleModel",
          "model_module_version": "1.5.0",
          "state": {
            "_model_module": "@jupyter-widgets/controls",
            "_model_module_version": "1.5.0",
            "_model_name": "ProgressStyleModel",
            "_view_count": null,
            "_view_module": "@jupyter-widgets/base",
            "_view_module_version": "1.2.0",
            "_view_name": "StyleView",
            "bar_color": null,
            "description_width": ""
          }
        },
        "55f17af9f2314d35a3458ca85df48030": {
          "model_module": "@jupyter-widgets/base",
          "model_name": "LayoutModel",
          "model_module_version": "1.2.0",
          "state": {
            "_model_module": "@jupyter-widgets/base",
            "_model_module_version": "1.2.0",
            "_model_name": "LayoutModel",
            "_view_count": null,
            "_view_module": "@jupyter-widgets/base",
            "_view_module_version": "1.2.0",
            "_view_name": "LayoutView",
            "align_content": null,
            "align_items": null,
            "align_self": null,
            "border": null,
            "bottom": null,
            "display": null,
            "flex": null,
            "flex_flow": null,
            "grid_area": null,
            "grid_auto_columns": null,
            "grid_auto_flow": null,
            "grid_auto_rows": null,
            "grid_column": null,
            "grid_gap": null,
            "grid_row": null,
            "grid_template_areas": null,
            "grid_template_columns": null,
            "grid_template_rows": null,
            "height": null,
            "justify_content": null,
            "justify_items": null,
            "left": null,
            "margin": null,
            "max_height": null,
            "max_width": null,
            "min_height": null,
            "min_width": null,
            "object_fit": null,
            "object_position": null,
            "order": null,
            "overflow": null,
            "overflow_x": null,
            "overflow_y": null,
            "padding": null,
            "right": null,
            "top": null,
            "visibility": null,
            "width": null
          }
        },
        "0410a4e4388f4ab78e385f07808fe1d8": {
          "model_module": "@jupyter-widgets/controls",
          "model_name": "DescriptionStyleModel",
          "model_module_version": "1.5.0",
          "state": {
            "_model_module": "@jupyter-widgets/controls",
            "_model_module_version": "1.5.0",
            "_model_name": "DescriptionStyleModel",
            "_view_count": null,
            "_view_module": "@jupyter-widgets/base",
            "_view_module_version": "1.2.0",
            "_view_name": "StyleView",
            "description_width": ""
          }
        },
        "d2adcce3cfde4772be0f26eddbaa99e8": {
          "model_module": "@jupyter-widgets/controls",
          "model_name": "HBoxModel",
          "model_module_version": "1.5.0",
          "state": {
            "_dom_classes": [],
            "_model_module": "@jupyter-widgets/controls",
            "_model_module_version": "1.5.0",
            "_model_name": "HBoxModel",
            "_view_count": null,
            "_view_module": "@jupyter-widgets/controls",
            "_view_module_version": "1.5.0",
            "_view_name": "HBoxView",
            "box_style": "",
            "children": [
              "IPY_MODEL_a2f12c501b4f477994c4db0671cb44dc",
              "IPY_MODEL_3d1ae7817ca44406b94764a35dbe0b77",
              "IPY_MODEL_60e026a9d5d0494f89b0aff842035dd9"
            ],
            "layout": "IPY_MODEL_4de4f14a11e24a299f1af438948b5647"
          }
        },
        "a2f12c501b4f477994c4db0671cb44dc": {
          "model_module": "@jupyter-widgets/controls",
          "model_name": "HTMLModel",
          "model_module_version": "1.5.0",
          "state": {
            "_dom_classes": [],
            "_model_module": "@jupyter-widgets/controls",
            "_model_module_version": "1.5.0",
            "_model_name": "HTMLModel",
            "_view_count": null,
            "_view_module": "@jupyter-widgets/controls",
            "_view_module_version": "1.5.0",
            "_view_name": "HTMLView",
            "description": "",
            "description_tooltip": null,
            "layout": "IPY_MODEL_5a721aec0b4e459eb566bb43eb629762",
            "placeholder": "​",
            "style": "IPY_MODEL_05cbd9d1dca94014aee2375ddf0b2d8d",
            "value": "Extracting data files: 100%"
          }
        },
        "3d1ae7817ca44406b94764a35dbe0b77": {
          "model_module": "@jupyter-widgets/controls",
          "model_name": "FloatProgressModel",
          "model_module_version": "1.5.0",
          "state": {
            "_dom_classes": [],
            "_model_module": "@jupyter-widgets/controls",
            "_model_module_version": "1.5.0",
            "_model_name": "FloatProgressModel",
            "_view_count": null,
            "_view_module": "@jupyter-widgets/controls",
            "_view_module_version": "1.5.0",
            "_view_name": "ProgressView",
            "bar_style": "success",
            "description": "",
            "description_tooltip": null,
            "layout": "IPY_MODEL_45dae89f134b442fbcd92509269ac5a5",
            "max": 1,
            "min": 0,
            "orientation": "horizontal",
            "style": "IPY_MODEL_47bc7d9c7b134f44a70a98035d53cf9f",
            "value": 1
          }
        },
        "60e026a9d5d0494f89b0aff842035dd9": {
          "model_module": "@jupyter-widgets/controls",
          "model_name": "HTMLModel",
          "model_module_version": "1.5.0",
          "state": {
            "_dom_classes": [],
            "_model_module": "@jupyter-widgets/controls",
            "_model_module_version": "1.5.0",
            "_model_name": "HTMLModel",
            "_view_count": null,
            "_view_module": "@jupyter-widgets/controls",
            "_view_module_version": "1.5.0",
            "_view_name": "HTMLView",
            "description": "",
            "description_tooltip": null,
            "layout": "IPY_MODEL_1713702913dc443c8d086adba2925c51",
            "placeholder": "​",
            "style": "IPY_MODEL_cdd1c52c741342159e2c7345eb8860ea",
            "value": " 1/1 [00:08&lt;00:00,  8.49s/it]"
          }
        },
        "4de4f14a11e24a299f1af438948b5647": {
          "model_module": "@jupyter-widgets/base",
          "model_name": "LayoutModel",
          "model_module_version": "1.2.0",
          "state": {
            "_model_module": "@jupyter-widgets/base",
            "_model_module_version": "1.2.0",
            "_model_name": "LayoutModel",
            "_view_count": null,
            "_view_module": "@jupyter-widgets/base",
            "_view_module_version": "1.2.0",
            "_view_name": "LayoutView",
            "align_content": null,
            "align_items": null,
            "align_self": null,
            "border": null,
            "bottom": null,
            "display": null,
            "flex": null,
            "flex_flow": null,
            "grid_area": null,
            "grid_auto_columns": null,
            "grid_auto_flow": null,
            "grid_auto_rows": null,
            "grid_column": null,
            "grid_gap": null,
            "grid_row": null,
            "grid_template_areas": null,
            "grid_template_columns": null,
            "grid_template_rows": null,
            "height": null,
            "justify_content": null,
            "justify_items": null,
            "left": null,
            "margin": null,
            "max_height": null,
            "max_width": null,
            "min_height": null,
            "min_width": null,
            "object_fit": null,
            "object_position": null,
            "order": null,
            "overflow": null,
            "overflow_x": null,
            "overflow_y": null,
            "padding": null,
            "right": null,
            "top": null,
            "visibility": null,
            "width": null
          }
        },
        "5a721aec0b4e459eb566bb43eb629762": {
          "model_module": "@jupyter-widgets/base",
          "model_name": "LayoutModel",
          "model_module_version": "1.2.0",
          "state": {
            "_model_module": "@jupyter-widgets/base",
            "_model_module_version": "1.2.0",
            "_model_name": "LayoutModel",
            "_view_count": null,
            "_view_module": "@jupyter-widgets/base",
            "_view_module_version": "1.2.0",
            "_view_name": "LayoutView",
            "align_content": null,
            "align_items": null,
            "align_self": null,
            "border": null,
            "bottom": null,
            "display": null,
            "flex": null,
            "flex_flow": null,
            "grid_area": null,
            "grid_auto_columns": null,
            "grid_auto_flow": null,
            "grid_auto_rows": null,
            "grid_column": null,
            "grid_gap": null,
            "grid_row": null,
            "grid_template_areas": null,
            "grid_template_columns": null,
            "grid_template_rows": null,
            "height": null,
            "justify_content": null,
            "justify_items": null,
            "left": null,
            "margin": null,
            "max_height": null,
            "max_width": null,
            "min_height": null,
            "min_width": null,
            "object_fit": null,
            "object_position": null,
            "order": null,
            "overflow": null,
            "overflow_x": null,
            "overflow_y": null,
            "padding": null,
            "right": null,
            "top": null,
            "visibility": null,
            "width": null
          }
        },
        "05cbd9d1dca94014aee2375ddf0b2d8d": {
          "model_module": "@jupyter-widgets/controls",
          "model_name": "DescriptionStyleModel",
          "model_module_version": "1.5.0",
          "state": {
            "_model_module": "@jupyter-widgets/controls",
            "_model_module_version": "1.5.0",
            "_model_name": "DescriptionStyleModel",
            "_view_count": null,
            "_view_module": "@jupyter-widgets/base",
            "_view_module_version": "1.2.0",
            "_view_name": "StyleView",
            "description_width": ""
          }
        },
        "45dae89f134b442fbcd92509269ac5a5": {
          "model_module": "@jupyter-widgets/base",
          "model_name": "LayoutModel",
          "model_module_version": "1.2.0",
          "state": {
            "_model_module": "@jupyter-widgets/base",
            "_model_module_version": "1.2.0",
            "_model_name": "LayoutModel",
            "_view_count": null,
            "_view_module": "@jupyter-widgets/base",
            "_view_module_version": "1.2.0",
            "_view_name": "LayoutView",
            "align_content": null,
            "align_items": null,
            "align_self": null,
            "border": null,
            "bottom": null,
            "display": null,
            "flex": null,
            "flex_flow": null,
            "grid_area": null,
            "grid_auto_columns": null,
            "grid_auto_flow": null,
            "grid_auto_rows": null,
            "grid_column": null,
            "grid_gap": null,
            "grid_row": null,
            "grid_template_areas": null,
            "grid_template_columns": null,
            "grid_template_rows": null,
            "height": null,
            "justify_content": null,
            "justify_items": null,
            "left": null,
            "margin": null,
            "max_height": null,
            "max_width": null,
            "min_height": null,
            "min_width": null,
            "object_fit": null,
            "object_position": null,
            "order": null,
            "overflow": null,
            "overflow_x": null,
            "overflow_y": null,
            "padding": null,
            "right": null,
            "top": null,
            "visibility": null,
            "width": null
          }
        },
        "47bc7d9c7b134f44a70a98035d53cf9f": {
          "model_module": "@jupyter-widgets/controls",
          "model_name": "ProgressStyleModel",
          "model_module_version": "1.5.0",
          "state": {
            "_model_module": "@jupyter-widgets/controls",
            "_model_module_version": "1.5.0",
            "_model_name": "ProgressStyleModel",
            "_view_count": null,
            "_view_module": "@jupyter-widgets/base",
            "_view_module_version": "1.2.0",
            "_view_name": "StyleView",
            "bar_color": null,
            "description_width": ""
          }
        },
        "1713702913dc443c8d086adba2925c51": {
          "model_module": "@jupyter-widgets/base",
          "model_name": "LayoutModel",
          "model_module_version": "1.2.0",
          "state": {
            "_model_module": "@jupyter-widgets/base",
            "_model_module_version": "1.2.0",
            "_model_name": "LayoutModel",
            "_view_count": null,
            "_view_module": "@jupyter-widgets/base",
            "_view_module_version": "1.2.0",
            "_view_name": "LayoutView",
            "align_content": null,
            "align_items": null,
            "align_self": null,
            "border": null,
            "bottom": null,
            "display": null,
            "flex": null,
            "flex_flow": null,
            "grid_area": null,
            "grid_auto_columns": null,
            "grid_auto_flow": null,
            "grid_auto_rows": null,
            "grid_column": null,
            "grid_gap": null,
            "grid_row": null,
            "grid_template_areas": null,
            "grid_template_columns": null,
            "grid_template_rows": null,
            "height": null,
            "justify_content": null,
            "justify_items": null,
            "left": null,
            "margin": null,
            "max_height": null,
            "max_width": null,
            "min_height": null,
            "min_width": null,
            "object_fit": null,
            "object_position": null,
            "order": null,
            "overflow": null,
            "overflow_x": null,
            "overflow_y": null,
            "padding": null,
            "right": null,
            "top": null,
            "visibility": null,
            "width": null
          }
        },
        "cdd1c52c741342159e2c7345eb8860ea": {
          "model_module": "@jupyter-widgets/controls",
          "model_name": "DescriptionStyleModel",
          "model_module_version": "1.5.0",
          "state": {
            "_model_module": "@jupyter-widgets/controls",
            "_model_module_version": "1.5.0",
            "_model_name": "DescriptionStyleModel",
            "_view_count": null,
            "_view_module": "@jupyter-widgets/base",
            "_view_module_version": "1.2.0",
            "_view_name": "StyleView",
            "description_width": ""
          }
        },
        "dbe22cc2560e49fbb0b890b59f5318e1": {
          "model_module": "@jupyter-widgets/controls",
          "model_name": "HBoxModel",
          "model_module_version": "1.5.0",
          "state": {
            "_dom_classes": [],
            "_model_module": "@jupyter-widgets/controls",
            "_model_module_version": "1.5.0",
            "_model_name": "HBoxModel",
            "_view_count": null,
            "_view_module": "@jupyter-widgets/controls",
            "_view_module_version": "1.5.0",
            "_view_name": "HBoxView",
            "box_style": "",
            "children": [
              "IPY_MODEL_9bf68330ffcd4ec5ac22ef14d5656b62",
              "IPY_MODEL_15f4d403ea854a71b2d5fbcf829adc25",
              "IPY_MODEL_a1e5325c734149b4830a2b4880a51d39"
            ],
            "layout": "IPY_MODEL_457b01b9c41e4b3581db2f948081dd6c"
          }
        },
        "9bf68330ffcd4ec5ac22ef14d5656b62": {
          "model_module": "@jupyter-widgets/controls",
          "model_name": "HTMLModel",
          "model_module_version": "1.5.0",
          "state": {
            "_dom_classes": [],
            "_model_module": "@jupyter-widgets/controls",
            "_model_module_version": "1.5.0",
            "_model_name": "HTMLModel",
            "_view_count": null,
            "_view_module": "@jupyter-widgets/controls",
            "_view_module_version": "1.5.0",
            "_view_name": "HTMLView",
            "description": "",
            "description_tooltip": null,
            "layout": "IPY_MODEL_cd09159ecbfd46058cbb04c5f6c2d1f1",
            "placeholder": "​",
            "style": "IPY_MODEL_1a1dda4c98814313be0a8a86f400fb7f",
            "value": "Generating train split: "
          }
        },
        "15f4d403ea854a71b2d5fbcf829adc25": {
          "model_module": "@jupyter-widgets/controls",
          "model_name": "FloatProgressModel",
          "model_module_version": "1.5.0",
          "state": {
            "_dom_classes": [],
            "_model_module": "@jupyter-widgets/controls",
            "_model_module_version": "1.5.0",
            "_model_name": "FloatProgressModel",
            "_view_count": null,
            "_view_module": "@jupyter-widgets/controls",
            "_view_module_version": "1.5.0",
            "_view_name": "ProgressView",
            "bar_style": "success",
            "description": "",
            "description_tooltip": null,
            "layout": "IPY_MODEL_3b497d7d0e3d4994b53b8640ecac8dcb",
            "max": 1,
            "min": 0,
            "orientation": "horizontal",
            "style": "IPY_MODEL_adbf3678274f470aa0ecb1ad64221950",
            "value": 1
          }
        },
        "a1e5325c734149b4830a2b4880a51d39": {
          "model_module": "@jupyter-widgets/controls",
          "model_name": "HTMLModel",
          "model_module_version": "1.5.0",
          "state": {
            "_dom_classes": [],
            "_model_module": "@jupyter-widgets/controls",
            "_model_module_version": "1.5.0",
            "_model_name": "HTMLModel",
            "_view_count": null,
            "_view_module": "@jupyter-widgets/controls",
            "_view_module_version": "1.5.0",
            "_view_name": "HTMLView",
            "description": "",
            "description_tooltip": null,
            "layout": "IPY_MODEL_6641764b70464e69aca9eaf9a85a7059",
            "placeholder": "​",
            "style": "IPY_MODEL_013a97bf6a564de7a3456d3f2fbc1d9c",
            "value": " 15710/0 [00:05&lt;00:00, 3081.61 examples/s]"
          }
        },
        "457b01b9c41e4b3581db2f948081dd6c": {
          "model_module": "@jupyter-widgets/base",
          "model_name": "LayoutModel",
          "model_module_version": "1.2.0",
          "state": {
            "_model_module": "@jupyter-widgets/base",
            "_model_module_version": "1.2.0",
            "_model_name": "LayoutModel",
            "_view_count": null,
            "_view_module": "@jupyter-widgets/base",
            "_view_module_version": "1.2.0",
            "_view_name": "LayoutView",
            "align_content": null,
            "align_items": null,
            "align_self": null,
            "border": null,
            "bottom": null,
            "display": null,
            "flex": null,
            "flex_flow": null,
            "grid_area": null,
            "grid_auto_columns": null,
            "grid_auto_flow": null,
            "grid_auto_rows": null,
            "grid_column": null,
            "grid_gap": null,
            "grid_row": null,
            "grid_template_areas": null,
            "grid_template_columns": null,
            "grid_template_rows": null,
            "height": null,
            "justify_content": null,
            "justify_items": null,
            "left": null,
            "margin": null,
            "max_height": null,
            "max_width": null,
            "min_height": null,
            "min_width": null,
            "object_fit": null,
            "object_position": null,
            "order": null,
            "overflow": null,
            "overflow_x": null,
            "overflow_y": null,
            "padding": null,
            "right": null,
            "top": null,
            "visibility": null,
            "width": null
          }
        },
        "cd09159ecbfd46058cbb04c5f6c2d1f1": {
          "model_module": "@jupyter-widgets/base",
          "model_name": "LayoutModel",
          "model_module_version": "1.2.0",
          "state": {
            "_model_module": "@jupyter-widgets/base",
            "_model_module_version": "1.2.0",
            "_model_name": "LayoutModel",
            "_view_count": null,
            "_view_module": "@jupyter-widgets/base",
            "_view_module_version": "1.2.0",
            "_view_name": "LayoutView",
            "align_content": null,
            "align_items": null,
            "align_self": null,
            "border": null,
            "bottom": null,
            "display": null,
            "flex": null,
            "flex_flow": null,
            "grid_area": null,
            "grid_auto_columns": null,
            "grid_auto_flow": null,
            "grid_auto_rows": null,
            "grid_column": null,
            "grid_gap": null,
            "grid_row": null,
            "grid_template_areas": null,
            "grid_template_columns": null,
            "grid_template_rows": null,
            "height": null,
            "justify_content": null,
            "justify_items": null,
            "left": null,
            "margin": null,
            "max_height": null,
            "max_width": null,
            "min_height": null,
            "min_width": null,
            "object_fit": null,
            "object_position": null,
            "order": null,
            "overflow": null,
            "overflow_x": null,
            "overflow_y": null,
            "padding": null,
            "right": null,
            "top": null,
            "visibility": null,
            "width": null
          }
        },
        "1a1dda4c98814313be0a8a86f400fb7f": {
          "model_module": "@jupyter-widgets/controls",
          "model_name": "DescriptionStyleModel",
          "model_module_version": "1.5.0",
          "state": {
            "_model_module": "@jupyter-widgets/controls",
            "_model_module_version": "1.5.0",
            "_model_name": "DescriptionStyleModel",
            "_view_count": null,
            "_view_module": "@jupyter-widgets/base",
            "_view_module_version": "1.2.0",
            "_view_name": "StyleView",
            "description_width": ""
          }
        },
        "3b497d7d0e3d4994b53b8640ecac8dcb": {
          "model_module": "@jupyter-widgets/base",
          "model_name": "LayoutModel",
          "model_module_version": "1.2.0",
          "state": {
            "_model_module": "@jupyter-widgets/base",
            "_model_module_version": "1.2.0",
            "_model_name": "LayoutModel",
            "_view_count": null,
            "_view_module": "@jupyter-widgets/base",
            "_view_module_version": "1.2.0",
            "_view_name": "LayoutView",
            "align_content": null,
            "align_items": null,
            "align_self": null,
            "border": null,
            "bottom": null,
            "display": null,
            "flex": null,
            "flex_flow": null,
            "grid_area": null,
            "grid_auto_columns": null,
            "grid_auto_flow": null,
            "grid_auto_rows": null,
            "grid_column": null,
            "grid_gap": null,
            "grid_row": null,
            "grid_template_areas": null,
            "grid_template_columns": null,
            "grid_template_rows": null,
            "height": null,
            "justify_content": null,
            "justify_items": null,
            "left": null,
            "margin": null,
            "max_height": null,
            "max_width": null,
            "min_height": null,
            "min_width": null,
            "object_fit": null,
            "object_position": null,
            "order": null,
            "overflow": null,
            "overflow_x": null,
            "overflow_y": null,
            "padding": null,
            "right": null,
            "top": null,
            "visibility": null,
            "width": "20px"
          }
        },
        "adbf3678274f470aa0ecb1ad64221950": {
          "model_module": "@jupyter-widgets/controls",
          "model_name": "ProgressStyleModel",
          "model_module_version": "1.5.0",
          "state": {
            "_model_module": "@jupyter-widgets/controls",
            "_model_module_version": "1.5.0",
            "_model_name": "ProgressStyleModel",
            "_view_count": null,
            "_view_module": "@jupyter-widgets/base",
            "_view_module_version": "1.2.0",
            "_view_name": "StyleView",
            "bar_color": null,
            "description_width": ""
          }
        },
        "6641764b70464e69aca9eaf9a85a7059": {
          "model_module": "@jupyter-widgets/base",
          "model_name": "LayoutModel",
          "model_module_version": "1.2.0",
          "state": {
            "_model_module": "@jupyter-widgets/base",
            "_model_module_version": "1.2.0",
            "_model_name": "LayoutModel",
            "_view_count": null,
            "_view_module": "@jupyter-widgets/base",
            "_view_module_version": "1.2.0",
            "_view_name": "LayoutView",
            "align_content": null,
            "align_items": null,
            "align_self": null,
            "border": null,
            "bottom": null,
            "display": null,
            "flex": null,
            "flex_flow": null,
            "grid_area": null,
            "grid_auto_columns": null,
            "grid_auto_flow": null,
            "grid_auto_rows": null,
            "grid_column": null,
            "grid_gap": null,
            "grid_row": null,
            "grid_template_areas": null,
            "grid_template_columns": null,
            "grid_template_rows": null,
            "height": null,
            "justify_content": null,
            "justify_items": null,
            "left": null,
            "margin": null,
            "max_height": null,
            "max_width": null,
            "min_height": null,
            "min_width": null,
            "object_fit": null,
            "object_position": null,
            "order": null,
            "overflow": null,
            "overflow_x": null,
            "overflow_y": null,
            "padding": null,
            "right": null,
            "top": null,
            "visibility": null,
            "width": null
          }
        },
        "013a97bf6a564de7a3456d3f2fbc1d9c": {
          "model_module": "@jupyter-widgets/controls",
          "model_name": "DescriptionStyleModel",
          "model_module_version": "1.5.0",
          "state": {
            "_model_module": "@jupyter-widgets/controls",
            "_model_module_version": "1.5.0",
            "_model_name": "DescriptionStyleModel",
            "_view_count": null,
            "_view_module": "@jupyter-widgets/base",
            "_view_module_version": "1.2.0",
            "_view_name": "StyleView",
            "description_width": ""
          }
        },
        "0a59bb4bae87463dae8784609d870f3b": {
          "model_module": "@jupyter-widgets/controls",
          "model_name": "HBoxModel",
          "model_module_version": "1.5.0",
          "state": {
            "_dom_classes": [],
            "_model_module": "@jupyter-widgets/controls",
            "_model_module_version": "1.5.0",
            "_model_name": "HBoxModel",
            "_view_count": null,
            "_view_module": "@jupyter-widgets/controls",
            "_view_module_version": "1.5.0",
            "_view_name": "HBoxView",
            "box_style": "",
            "children": [
              "IPY_MODEL_ec5317249815483a870c82e7a5c01f8b",
              "IPY_MODEL_11591fd5a8cc4c2d830c21f1aa59602d",
              "IPY_MODEL_ea6749d27240432ba67ee80f68eef5a4"
            ],
            "layout": "IPY_MODEL_ce71fb8ec3fb4c5e9d3294582e0aee90"
          }
        },
        "ec5317249815483a870c82e7a5c01f8b": {
          "model_module": "@jupyter-widgets/controls",
          "model_name": "HTMLModel",
          "model_module_version": "1.5.0",
          "state": {
            "_dom_classes": [],
            "_model_module": "@jupyter-widgets/controls",
            "_model_module_version": "1.5.0",
            "_model_name": "HTMLModel",
            "_view_count": null,
            "_view_module": "@jupyter-widgets/controls",
            "_view_module_version": "1.5.0",
            "_view_name": "HTMLView",
            "description": "",
            "description_tooltip": null,
            "layout": "IPY_MODEL_8b7a084638084c90ae68a7e11f827f09",
            "placeholder": "​",
            "style": "IPY_MODEL_e0d3239117b945719cd992dd498d82b2",
            "value": "Downloading (…)8fc4c/.gitattributes: 100%"
          }
        },
        "11591fd5a8cc4c2d830c21f1aa59602d": {
          "model_module": "@jupyter-widgets/controls",
          "model_name": "FloatProgressModel",
          "model_module_version": "1.5.0",
          "state": {
            "_dom_classes": [],
            "_model_module": "@jupyter-widgets/controls",
            "_model_module_version": "1.5.0",
            "_model_name": "FloatProgressModel",
            "_view_count": null,
            "_view_module": "@jupyter-widgets/controls",
            "_view_module_version": "1.5.0",
            "_view_name": "ProgressView",
            "bar_style": "success",
            "description": "",
            "description_tooltip": null,
            "layout": "IPY_MODEL_07a745b7290943bcbc5674254f963052",
            "max": 1519,
            "min": 0,
            "orientation": "horizontal",
            "style": "IPY_MODEL_6e8bed1cff1443098e789d4fe25ca6c8",
            "value": 1519
          }
        },
        "ea6749d27240432ba67ee80f68eef5a4": {
          "model_module": "@jupyter-widgets/controls",
          "model_name": "HTMLModel",
          "model_module_version": "1.5.0",
          "state": {
            "_dom_classes": [],
            "_model_module": "@jupyter-widgets/controls",
            "_model_module_version": "1.5.0",
            "_model_name": "HTMLModel",
            "_view_count": null,
            "_view_module": "@jupyter-widgets/controls",
            "_view_module_version": "1.5.0",
            "_view_name": "HTMLView",
            "description": "",
            "description_tooltip": null,
            "layout": "IPY_MODEL_1042c441b0ef41adb546e1b78c9eaad2",
            "placeholder": "​",
            "style": "IPY_MODEL_34d32c71b2cf4472ac4b3ca07f005749",
            "value": " 1.52k/1.52k [00:00&lt;00:00, 140kB/s]"
          }
        },
        "ce71fb8ec3fb4c5e9d3294582e0aee90": {
          "model_module": "@jupyter-widgets/base",
          "model_name": "LayoutModel",
          "model_module_version": "1.2.0",
          "state": {
            "_model_module": "@jupyter-widgets/base",
            "_model_module_version": "1.2.0",
            "_model_name": "LayoutModel",
            "_view_count": null,
            "_view_module": "@jupyter-widgets/base",
            "_view_module_version": "1.2.0",
            "_view_name": "LayoutView",
            "align_content": null,
            "align_items": null,
            "align_self": null,
            "border": null,
            "bottom": null,
            "display": null,
            "flex": null,
            "flex_flow": null,
            "grid_area": null,
            "grid_auto_columns": null,
            "grid_auto_flow": null,
            "grid_auto_rows": null,
            "grid_column": null,
            "grid_gap": null,
            "grid_row": null,
            "grid_template_areas": null,
            "grid_template_columns": null,
            "grid_template_rows": null,
            "height": null,
            "justify_content": null,
            "justify_items": null,
            "left": null,
            "margin": null,
            "max_height": null,
            "max_width": null,
            "min_height": null,
            "min_width": null,
            "object_fit": null,
            "object_position": null,
            "order": null,
            "overflow": null,
            "overflow_x": null,
            "overflow_y": null,
            "padding": null,
            "right": null,
            "top": null,
            "visibility": null,
            "width": null
          }
        },
        "8b7a084638084c90ae68a7e11f827f09": {
          "model_module": "@jupyter-widgets/base",
          "model_name": "LayoutModel",
          "model_module_version": "1.2.0",
          "state": {
            "_model_module": "@jupyter-widgets/base",
            "_model_module_version": "1.2.0",
            "_model_name": "LayoutModel",
            "_view_count": null,
            "_view_module": "@jupyter-widgets/base",
            "_view_module_version": "1.2.0",
            "_view_name": "LayoutView",
            "align_content": null,
            "align_items": null,
            "align_self": null,
            "border": null,
            "bottom": null,
            "display": null,
            "flex": null,
            "flex_flow": null,
            "grid_area": null,
            "grid_auto_columns": null,
            "grid_auto_flow": null,
            "grid_auto_rows": null,
            "grid_column": null,
            "grid_gap": null,
            "grid_row": null,
            "grid_template_areas": null,
            "grid_template_columns": null,
            "grid_template_rows": null,
            "height": null,
            "justify_content": null,
            "justify_items": null,
            "left": null,
            "margin": null,
            "max_height": null,
            "max_width": null,
            "min_height": null,
            "min_width": null,
            "object_fit": null,
            "object_position": null,
            "order": null,
            "overflow": null,
            "overflow_x": null,
            "overflow_y": null,
            "padding": null,
            "right": null,
            "top": null,
            "visibility": null,
            "width": null
          }
        },
        "e0d3239117b945719cd992dd498d82b2": {
          "model_module": "@jupyter-widgets/controls",
          "model_name": "DescriptionStyleModel",
          "model_module_version": "1.5.0",
          "state": {
            "_model_module": "@jupyter-widgets/controls",
            "_model_module_version": "1.5.0",
            "_model_name": "DescriptionStyleModel",
            "_view_count": null,
            "_view_module": "@jupyter-widgets/base",
            "_view_module_version": "1.2.0",
            "_view_name": "StyleView",
            "description_width": ""
          }
        },
        "07a745b7290943bcbc5674254f963052": {
          "model_module": "@jupyter-widgets/base",
          "model_name": "LayoutModel",
          "model_module_version": "1.2.0",
          "state": {
            "_model_module": "@jupyter-widgets/base",
            "_model_module_version": "1.2.0",
            "_model_name": "LayoutModel",
            "_view_count": null,
            "_view_module": "@jupyter-widgets/base",
            "_view_module_version": "1.2.0",
            "_view_name": "LayoutView",
            "align_content": null,
            "align_items": null,
            "align_self": null,
            "border": null,
            "bottom": null,
            "display": null,
            "flex": null,
            "flex_flow": null,
            "grid_area": null,
            "grid_auto_columns": null,
            "grid_auto_flow": null,
            "grid_auto_rows": null,
            "grid_column": null,
            "grid_gap": null,
            "grid_row": null,
            "grid_template_areas": null,
            "grid_template_columns": null,
            "grid_template_rows": null,
            "height": null,
            "justify_content": null,
            "justify_items": null,
            "left": null,
            "margin": null,
            "max_height": null,
            "max_width": null,
            "min_height": null,
            "min_width": null,
            "object_fit": null,
            "object_position": null,
            "order": null,
            "overflow": null,
            "overflow_x": null,
            "overflow_y": null,
            "padding": null,
            "right": null,
            "top": null,
            "visibility": null,
            "width": null
          }
        },
        "6e8bed1cff1443098e789d4fe25ca6c8": {
          "model_module": "@jupyter-widgets/controls",
          "model_name": "ProgressStyleModel",
          "model_module_version": "1.5.0",
          "state": {
            "_model_module": "@jupyter-widgets/controls",
            "_model_module_version": "1.5.0",
            "_model_name": "ProgressStyleModel",
            "_view_count": null,
            "_view_module": "@jupyter-widgets/base",
            "_view_module_version": "1.2.0",
            "_view_name": "StyleView",
            "bar_color": null,
            "description_width": ""
          }
        },
        "1042c441b0ef41adb546e1b78c9eaad2": {
          "model_module": "@jupyter-widgets/base",
          "model_name": "LayoutModel",
          "model_module_version": "1.2.0",
          "state": {
            "_model_module": "@jupyter-widgets/base",
            "_model_module_version": "1.2.0",
            "_model_name": "LayoutModel",
            "_view_count": null,
            "_view_module": "@jupyter-widgets/base",
            "_view_module_version": "1.2.0",
            "_view_name": "LayoutView",
            "align_content": null,
            "align_items": null,
            "align_self": null,
            "border": null,
            "bottom": null,
            "display": null,
            "flex": null,
            "flex_flow": null,
            "grid_area": null,
            "grid_auto_columns": null,
            "grid_auto_flow": null,
            "grid_auto_rows": null,
            "grid_column": null,
            "grid_gap": null,
            "grid_row": null,
            "grid_template_areas": null,
            "grid_template_columns": null,
            "grid_template_rows": null,
            "height": null,
            "justify_content": null,
            "justify_items": null,
            "left": null,
            "margin": null,
            "max_height": null,
            "max_width": null,
            "min_height": null,
            "min_width": null,
            "object_fit": null,
            "object_position": null,
            "order": null,
            "overflow": null,
            "overflow_x": null,
            "overflow_y": null,
            "padding": null,
            "right": null,
            "top": null,
            "visibility": null,
            "width": null
          }
        },
        "34d32c71b2cf4472ac4b3ca07f005749": {
          "model_module": "@jupyter-widgets/controls",
          "model_name": "DescriptionStyleModel",
          "model_module_version": "1.5.0",
          "state": {
            "_model_module": "@jupyter-widgets/controls",
            "_model_module_version": "1.5.0",
            "_model_name": "DescriptionStyleModel",
            "_view_count": null,
            "_view_module": "@jupyter-widgets/base",
            "_view_module_version": "1.2.0",
            "_view_name": "StyleView",
            "description_width": ""
          }
        },
        "be5dd9bbd71a479baa2979bdabfca9b4": {
          "model_module": "@jupyter-widgets/controls",
          "model_name": "HBoxModel",
          "model_module_version": "1.5.0",
          "state": {
            "_dom_classes": [],
            "_model_module": "@jupyter-widgets/controls",
            "_model_module_version": "1.5.0",
            "_model_name": "HBoxModel",
            "_view_count": null,
            "_view_module": "@jupyter-widgets/controls",
            "_view_module_version": "1.5.0",
            "_view_name": "HBoxView",
            "box_style": "",
            "children": [
              "IPY_MODEL_0a3c1bf363ae4add8c8156250217c813",
              "IPY_MODEL_06649b0b68d24b4f8be704eeedfb0f79",
              "IPY_MODEL_6f2a77fbe0724879896ead13b47c8a71"
            ],
            "layout": "IPY_MODEL_9b961e19eaaa4bfc979b4600850f660e"
          }
        },
        "0a3c1bf363ae4add8c8156250217c813": {
          "model_module": "@jupyter-widgets/controls",
          "model_name": "HTMLModel",
          "model_module_version": "1.5.0",
          "state": {
            "_dom_classes": [],
            "_model_module": "@jupyter-widgets/controls",
            "_model_module_version": "1.5.0",
            "_model_name": "HTMLModel",
            "_view_count": null,
            "_view_module": "@jupyter-widgets/controls",
            "_view_module_version": "1.5.0",
            "_view_name": "HTMLView",
            "description": "",
            "description_tooltip": null,
            "layout": "IPY_MODEL_1e78f625acdd4fc29cf80034ea3a44c5",
            "placeholder": "​",
            "style": "IPY_MODEL_fba3ad9cb7b5441a9c8ab84f531a8a4c",
            "value": "Downloading (…)_Pooling/config.json: 100%"
          }
        },
        "06649b0b68d24b4f8be704eeedfb0f79": {
          "model_module": "@jupyter-widgets/controls",
          "model_name": "FloatProgressModel",
          "model_module_version": "1.5.0",
          "state": {
            "_dom_classes": [],
            "_model_module": "@jupyter-widgets/controls",
            "_model_module_version": "1.5.0",
            "_model_name": "FloatProgressModel",
            "_view_count": null,
            "_view_module": "@jupyter-widgets/controls",
            "_view_module_version": "1.5.0",
            "_view_name": "ProgressView",
            "bar_style": "success",
            "description": "",
            "description_tooltip": null,
            "layout": "IPY_MODEL_f4b3efa2dc1d481786c147ec27e0ad70",
            "max": 190,
            "min": 0,
            "orientation": "horizontal",
            "style": "IPY_MODEL_9759479d4f9f4720ac6b0eb0c06e24cb",
            "value": 190
          }
        },
        "6f2a77fbe0724879896ead13b47c8a71": {
          "model_module": "@jupyter-widgets/controls",
          "model_name": "HTMLModel",
          "model_module_version": "1.5.0",
          "state": {
            "_dom_classes": [],
            "_model_module": "@jupyter-widgets/controls",
            "_model_module_version": "1.5.0",
            "_model_name": "HTMLModel",
            "_view_count": null,
            "_view_module": "@jupyter-widgets/controls",
            "_view_module_version": "1.5.0",
            "_view_name": "HTMLView",
            "description": "",
            "description_tooltip": null,
            "layout": "IPY_MODEL_b9262363f11847b3a4ba58b0a03b959d",
            "placeholder": "​",
            "style": "IPY_MODEL_a09b01761760455cba50ba2e15212324",
            "value": " 190/190 [00:00&lt;00:00, 16.8kB/s]"
          }
        },
        "9b961e19eaaa4bfc979b4600850f660e": {
          "model_module": "@jupyter-widgets/base",
          "model_name": "LayoutModel",
          "model_module_version": "1.2.0",
          "state": {
            "_model_module": "@jupyter-widgets/base",
            "_model_module_version": "1.2.0",
            "_model_name": "LayoutModel",
            "_view_count": null,
            "_view_module": "@jupyter-widgets/base",
            "_view_module_version": "1.2.0",
            "_view_name": "LayoutView",
            "align_content": null,
            "align_items": null,
            "align_self": null,
            "border": null,
            "bottom": null,
            "display": null,
            "flex": null,
            "flex_flow": null,
            "grid_area": null,
            "grid_auto_columns": null,
            "grid_auto_flow": null,
            "grid_auto_rows": null,
            "grid_column": null,
            "grid_gap": null,
            "grid_row": null,
            "grid_template_areas": null,
            "grid_template_columns": null,
            "grid_template_rows": null,
            "height": null,
            "justify_content": null,
            "justify_items": null,
            "left": null,
            "margin": null,
            "max_height": null,
            "max_width": null,
            "min_height": null,
            "min_width": null,
            "object_fit": null,
            "object_position": null,
            "order": null,
            "overflow": null,
            "overflow_x": null,
            "overflow_y": null,
            "padding": null,
            "right": null,
            "top": null,
            "visibility": null,
            "width": null
          }
        },
        "1e78f625acdd4fc29cf80034ea3a44c5": {
          "model_module": "@jupyter-widgets/base",
          "model_name": "LayoutModel",
          "model_module_version": "1.2.0",
          "state": {
            "_model_module": "@jupyter-widgets/base",
            "_model_module_version": "1.2.0",
            "_model_name": "LayoutModel",
            "_view_count": null,
            "_view_module": "@jupyter-widgets/base",
            "_view_module_version": "1.2.0",
            "_view_name": "LayoutView",
            "align_content": null,
            "align_items": null,
            "align_self": null,
            "border": null,
            "bottom": null,
            "display": null,
            "flex": null,
            "flex_flow": null,
            "grid_area": null,
            "grid_auto_columns": null,
            "grid_auto_flow": null,
            "grid_auto_rows": null,
            "grid_column": null,
            "grid_gap": null,
            "grid_row": null,
            "grid_template_areas": null,
            "grid_template_columns": null,
            "grid_template_rows": null,
            "height": null,
            "justify_content": null,
            "justify_items": null,
            "left": null,
            "margin": null,
            "max_height": null,
            "max_width": null,
            "min_height": null,
            "min_width": null,
            "object_fit": null,
            "object_position": null,
            "order": null,
            "overflow": null,
            "overflow_x": null,
            "overflow_y": null,
            "padding": null,
            "right": null,
            "top": null,
            "visibility": null,
            "width": null
          }
        },
        "fba3ad9cb7b5441a9c8ab84f531a8a4c": {
          "model_module": "@jupyter-widgets/controls",
          "model_name": "DescriptionStyleModel",
          "model_module_version": "1.5.0",
          "state": {
            "_model_module": "@jupyter-widgets/controls",
            "_model_module_version": "1.5.0",
            "_model_name": "DescriptionStyleModel",
            "_view_count": null,
            "_view_module": "@jupyter-widgets/base",
            "_view_module_version": "1.2.0",
            "_view_name": "StyleView",
            "description_width": ""
          }
        },
        "f4b3efa2dc1d481786c147ec27e0ad70": {
          "model_module": "@jupyter-widgets/base",
          "model_name": "LayoutModel",
          "model_module_version": "1.2.0",
          "state": {
            "_model_module": "@jupyter-widgets/base",
            "_model_module_version": "1.2.0",
            "_model_name": "LayoutModel",
            "_view_count": null,
            "_view_module": "@jupyter-widgets/base",
            "_view_module_version": "1.2.0",
            "_view_name": "LayoutView",
            "align_content": null,
            "align_items": null,
            "align_self": null,
            "border": null,
            "bottom": null,
            "display": null,
            "flex": null,
            "flex_flow": null,
            "grid_area": null,
            "grid_auto_columns": null,
            "grid_auto_flow": null,
            "grid_auto_rows": null,
            "grid_column": null,
            "grid_gap": null,
            "grid_row": null,
            "grid_template_areas": null,
            "grid_template_columns": null,
            "grid_template_rows": null,
            "height": null,
            "justify_content": null,
            "justify_items": null,
            "left": null,
            "margin": null,
            "max_height": null,
            "max_width": null,
            "min_height": null,
            "min_width": null,
            "object_fit": null,
            "object_position": null,
            "order": null,
            "overflow": null,
            "overflow_x": null,
            "overflow_y": null,
            "padding": null,
            "right": null,
            "top": null,
            "visibility": null,
            "width": null
          }
        },
        "9759479d4f9f4720ac6b0eb0c06e24cb": {
          "model_module": "@jupyter-widgets/controls",
          "model_name": "ProgressStyleModel",
          "model_module_version": "1.5.0",
          "state": {
            "_model_module": "@jupyter-widgets/controls",
            "_model_module_version": "1.5.0",
            "_model_name": "ProgressStyleModel",
            "_view_count": null,
            "_view_module": "@jupyter-widgets/base",
            "_view_module_version": "1.2.0",
            "_view_name": "StyleView",
            "bar_color": null,
            "description_width": ""
          }
        },
        "b9262363f11847b3a4ba58b0a03b959d": {
          "model_module": "@jupyter-widgets/base",
          "model_name": "LayoutModel",
          "model_module_version": "1.2.0",
          "state": {
            "_model_module": "@jupyter-widgets/base",
            "_model_module_version": "1.2.0",
            "_model_name": "LayoutModel",
            "_view_count": null,
            "_view_module": "@jupyter-widgets/base",
            "_view_module_version": "1.2.0",
            "_view_name": "LayoutView",
            "align_content": null,
            "align_items": null,
            "align_self": null,
            "border": null,
            "bottom": null,
            "display": null,
            "flex": null,
            "flex_flow": null,
            "grid_area": null,
            "grid_auto_columns": null,
            "grid_auto_flow": null,
            "grid_auto_rows": null,
            "grid_column": null,
            "grid_gap": null,
            "grid_row": null,
            "grid_template_areas": null,
            "grid_template_columns": null,
            "grid_template_rows": null,
            "height": null,
            "justify_content": null,
            "justify_items": null,
            "left": null,
            "margin": null,
            "max_height": null,
            "max_width": null,
            "min_height": null,
            "min_width": null,
            "object_fit": null,
            "object_position": null,
            "order": null,
            "overflow": null,
            "overflow_x": null,
            "overflow_y": null,
            "padding": null,
            "right": null,
            "top": null,
            "visibility": null,
            "width": null
          }
        },
        "a09b01761760455cba50ba2e15212324": {
          "model_module": "@jupyter-widgets/controls",
          "model_name": "DescriptionStyleModel",
          "model_module_version": "1.5.0",
          "state": {
            "_model_module": "@jupyter-widgets/controls",
            "_model_module_version": "1.5.0",
            "_model_name": "DescriptionStyleModel",
            "_view_count": null,
            "_view_module": "@jupyter-widgets/base",
            "_view_module_version": "1.2.0",
            "_view_name": "StyleView",
            "description_width": ""
          }
        },
        "509db052e0254494a77fbfc4c03e233f": {
          "model_module": "@jupyter-widgets/controls",
          "model_name": "HBoxModel",
          "model_module_version": "1.5.0",
          "state": {
            "_dom_classes": [],
            "_model_module": "@jupyter-widgets/controls",
            "_model_module_version": "1.5.0",
            "_model_name": "HBoxModel",
            "_view_count": null,
            "_view_module": "@jupyter-widgets/controls",
            "_view_module_version": "1.5.0",
            "_view_name": "HBoxView",
            "box_style": "",
            "children": [
              "IPY_MODEL_709e7431e87c447f9a853b55bf63f8dd",
              "IPY_MODEL_0a3bdb239b6d4f28905149802c4ad3fb",
              "IPY_MODEL_e72dd782993b437180816520c5625c51"
            ],
            "layout": "IPY_MODEL_2b7d5c7c138d405999f8f747e0a3ea2b"
          }
        },
        "709e7431e87c447f9a853b55bf63f8dd": {
          "model_module": "@jupyter-widgets/controls",
          "model_name": "HTMLModel",
          "model_module_version": "1.5.0",
          "state": {
            "_dom_classes": [],
            "_model_module": "@jupyter-widgets/controls",
            "_model_module_version": "1.5.0",
            "_model_name": "HTMLModel",
            "_view_count": null,
            "_view_module": "@jupyter-widgets/controls",
            "_view_module_version": "1.5.0",
            "_view_name": "HTMLView",
            "description": "",
            "description_tooltip": null,
            "layout": "IPY_MODEL_2fadc2e22413462a83932c06b7531831",
            "placeholder": "​",
            "style": "IPY_MODEL_6760d0dda1de470894210322926d1237",
            "value": "Downloading (…)a6f2e8fc4c/README.md: 100%"
          }
        },
        "0a3bdb239b6d4f28905149802c4ad3fb": {
          "model_module": "@jupyter-widgets/controls",
          "model_name": "FloatProgressModel",
          "model_module_version": "1.5.0",
          "state": {
            "_dom_classes": [],
            "_model_module": "@jupyter-widgets/controls",
            "_model_module_version": "1.5.0",
            "_model_name": "FloatProgressModel",
            "_view_count": null,
            "_view_module": "@jupyter-widgets/controls",
            "_view_module_version": "1.5.0",
            "_view_name": "ProgressView",
            "bar_style": "success",
            "description": "",
            "description_tooltip": null,
            "layout": "IPY_MODEL_8bb1a47717ce416881773f95d1b51d10",
            "max": 90346,
            "min": 0,
            "orientation": "horizontal",
            "style": "IPY_MODEL_84a2b17c74f047669468bc305f6411cd",
            "value": 90346
          }
        },
        "e72dd782993b437180816520c5625c51": {
          "model_module": "@jupyter-widgets/controls",
          "model_name": "HTMLModel",
          "model_module_version": "1.5.0",
          "state": {
            "_dom_classes": [],
            "_model_module": "@jupyter-widgets/controls",
            "_model_module_version": "1.5.0",
            "_model_name": "HTMLModel",
            "_view_count": null,
            "_view_module": "@jupyter-widgets/controls",
            "_view_module_version": "1.5.0",
            "_view_name": "HTMLView",
            "description": "",
            "description_tooltip": null,
            "layout": "IPY_MODEL_33fb3c154b604fbb97be47af11d396c1",
            "placeholder": "​",
            "style": "IPY_MODEL_0f11dbd1617c4995af21a7dbfacc4078",
            "value": " 90.3k/90.3k [00:00&lt;00:00, 6.38MB/s]"
          }
        },
        "2b7d5c7c138d405999f8f747e0a3ea2b": {
          "model_module": "@jupyter-widgets/base",
          "model_name": "LayoutModel",
          "model_module_version": "1.2.0",
          "state": {
            "_model_module": "@jupyter-widgets/base",
            "_model_module_version": "1.2.0",
            "_model_name": "LayoutModel",
            "_view_count": null,
            "_view_module": "@jupyter-widgets/base",
            "_view_module_version": "1.2.0",
            "_view_name": "LayoutView",
            "align_content": null,
            "align_items": null,
            "align_self": null,
            "border": null,
            "bottom": null,
            "display": null,
            "flex": null,
            "flex_flow": null,
            "grid_area": null,
            "grid_auto_columns": null,
            "grid_auto_flow": null,
            "grid_auto_rows": null,
            "grid_column": null,
            "grid_gap": null,
            "grid_row": null,
            "grid_template_areas": null,
            "grid_template_columns": null,
            "grid_template_rows": null,
            "height": null,
            "justify_content": null,
            "justify_items": null,
            "left": null,
            "margin": null,
            "max_height": null,
            "max_width": null,
            "min_height": null,
            "min_width": null,
            "object_fit": null,
            "object_position": null,
            "order": null,
            "overflow": null,
            "overflow_x": null,
            "overflow_y": null,
            "padding": null,
            "right": null,
            "top": null,
            "visibility": null,
            "width": null
          }
        },
        "2fadc2e22413462a83932c06b7531831": {
          "model_module": "@jupyter-widgets/base",
          "model_name": "LayoutModel",
          "model_module_version": "1.2.0",
          "state": {
            "_model_module": "@jupyter-widgets/base",
            "_model_module_version": "1.2.0",
            "_model_name": "LayoutModel",
            "_view_count": null,
            "_view_module": "@jupyter-widgets/base",
            "_view_module_version": "1.2.0",
            "_view_name": "LayoutView",
            "align_content": null,
            "align_items": null,
            "align_self": null,
            "border": null,
            "bottom": null,
            "display": null,
            "flex": null,
            "flex_flow": null,
            "grid_area": null,
            "grid_auto_columns": null,
            "grid_auto_flow": null,
            "grid_auto_rows": null,
            "grid_column": null,
            "grid_gap": null,
            "grid_row": null,
            "grid_template_areas": null,
            "grid_template_columns": null,
            "grid_template_rows": null,
            "height": null,
            "justify_content": null,
            "justify_items": null,
            "left": null,
            "margin": null,
            "max_height": null,
            "max_width": null,
            "min_height": null,
            "min_width": null,
            "object_fit": null,
            "object_position": null,
            "order": null,
            "overflow": null,
            "overflow_x": null,
            "overflow_y": null,
            "padding": null,
            "right": null,
            "top": null,
            "visibility": null,
            "width": null
          }
        },
        "6760d0dda1de470894210322926d1237": {
          "model_module": "@jupyter-widgets/controls",
          "model_name": "DescriptionStyleModel",
          "model_module_version": "1.5.0",
          "state": {
            "_model_module": "@jupyter-widgets/controls",
            "_model_module_version": "1.5.0",
            "_model_name": "DescriptionStyleModel",
            "_view_count": null,
            "_view_module": "@jupyter-widgets/base",
            "_view_module_version": "1.2.0",
            "_view_name": "StyleView",
            "description_width": ""
          }
        },
        "8bb1a47717ce416881773f95d1b51d10": {
          "model_module": "@jupyter-widgets/base",
          "model_name": "LayoutModel",
          "model_module_version": "1.2.0",
          "state": {
            "_model_module": "@jupyter-widgets/base",
            "_model_module_version": "1.2.0",
            "_model_name": "LayoutModel",
            "_view_count": null,
            "_view_module": "@jupyter-widgets/base",
            "_view_module_version": "1.2.0",
            "_view_name": "LayoutView",
            "align_content": null,
            "align_items": null,
            "align_self": null,
            "border": null,
            "bottom": null,
            "display": null,
            "flex": null,
            "flex_flow": null,
            "grid_area": null,
            "grid_auto_columns": null,
            "grid_auto_flow": null,
            "grid_auto_rows": null,
            "grid_column": null,
            "grid_gap": null,
            "grid_row": null,
            "grid_template_areas": null,
            "grid_template_columns": null,
            "grid_template_rows": null,
            "height": null,
            "justify_content": null,
            "justify_items": null,
            "left": null,
            "margin": null,
            "max_height": null,
            "max_width": null,
            "min_height": null,
            "min_width": null,
            "object_fit": null,
            "object_position": null,
            "order": null,
            "overflow": null,
            "overflow_x": null,
            "overflow_y": null,
            "padding": null,
            "right": null,
            "top": null,
            "visibility": null,
            "width": null
          }
        },
        "84a2b17c74f047669468bc305f6411cd": {
          "model_module": "@jupyter-widgets/controls",
          "model_name": "ProgressStyleModel",
          "model_module_version": "1.5.0",
          "state": {
            "_model_module": "@jupyter-widgets/controls",
            "_model_module_version": "1.5.0",
            "_model_name": "ProgressStyleModel",
            "_view_count": null,
            "_view_module": "@jupyter-widgets/base",
            "_view_module_version": "1.2.0",
            "_view_name": "StyleView",
            "bar_color": null,
            "description_width": ""
          }
        },
        "33fb3c154b604fbb97be47af11d396c1": {
          "model_module": "@jupyter-widgets/base",
          "model_name": "LayoutModel",
          "model_module_version": "1.2.0",
          "state": {
            "_model_module": "@jupyter-widgets/base",
            "_model_module_version": "1.2.0",
            "_model_name": "LayoutModel",
            "_view_count": null,
            "_view_module": "@jupyter-widgets/base",
            "_view_module_version": "1.2.0",
            "_view_name": "LayoutView",
            "align_content": null,
            "align_items": null,
            "align_self": null,
            "border": null,
            "bottom": null,
            "display": null,
            "flex": null,
            "flex_flow": null,
            "grid_area": null,
            "grid_auto_columns": null,
            "grid_auto_flow": null,
            "grid_auto_rows": null,
            "grid_column": null,
            "grid_gap": null,
            "grid_row": null,
            "grid_template_areas": null,
            "grid_template_columns": null,
            "grid_template_rows": null,
            "height": null,
            "justify_content": null,
            "justify_items": null,
            "left": null,
            "margin": null,
            "max_height": null,
            "max_width": null,
            "min_height": null,
            "min_width": null,
            "object_fit": null,
            "object_position": null,
            "order": null,
            "overflow": null,
            "overflow_x": null,
            "overflow_y": null,
            "padding": null,
            "right": null,
            "top": null,
            "visibility": null,
            "width": null
          }
        },
        "0f11dbd1617c4995af21a7dbfacc4078": {
          "model_module": "@jupyter-widgets/controls",
          "model_name": "DescriptionStyleModel",
          "model_module_version": "1.5.0",
          "state": {
            "_model_module": "@jupyter-widgets/controls",
            "_model_module_version": "1.5.0",
            "_model_name": "DescriptionStyleModel",
            "_view_count": null,
            "_view_module": "@jupyter-widgets/base",
            "_view_module_version": "1.2.0",
            "_view_name": "StyleView",
            "description_width": ""
          }
        },
        "c44d5df6a4d842b999855d8cf5465b34": {
          "model_module": "@jupyter-widgets/controls",
          "model_name": "HBoxModel",
          "model_module_version": "1.5.0",
          "state": {
            "_dom_classes": [],
            "_model_module": "@jupyter-widgets/controls",
            "_model_module_version": "1.5.0",
            "_model_name": "HBoxModel",
            "_view_count": null,
            "_view_module": "@jupyter-widgets/controls",
            "_view_module_version": "1.5.0",
            "_view_name": "HBoxView",
            "box_style": "",
            "children": [
              "IPY_MODEL_6c36c01da223460ca7d5dec0251e620c",
              "IPY_MODEL_b8238350ebdf433fac4bbf56cd9ddef2",
              "IPY_MODEL_fff1dcfbf28a4a46945b3c62572f64e6"
            ],
            "layout": "IPY_MODEL_e86996d48d8e4090bc280c9138e64769"
          }
        },
        "6c36c01da223460ca7d5dec0251e620c": {
          "model_module": "@jupyter-widgets/controls",
          "model_name": "HTMLModel",
          "model_module_version": "1.5.0",
          "state": {
            "_dom_classes": [],
            "_model_module": "@jupyter-widgets/controls",
            "_model_module_version": "1.5.0",
            "_model_name": "HTMLModel",
            "_view_count": null,
            "_view_module": "@jupyter-widgets/controls",
            "_view_module_version": "1.5.0",
            "_view_name": "HTMLView",
            "description": "",
            "description_tooltip": null,
            "layout": "IPY_MODEL_22cf645ad3c34450866b9a144ac706e7",
            "placeholder": "​",
            "style": "IPY_MODEL_d97974321ac5474fb22a33c3da863bfc",
            "value": "Downloading (…)f2e8fc4c/config.json: 100%"
          }
        },
        "b8238350ebdf433fac4bbf56cd9ddef2": {
          "model_module": "@jupyter-widgets/controls",
          "model_name": "FloatProgressModel",
          "model_module_version": "1.5.0",
          "state": {
            "_dom_classes": [],
            "_model_module": "@jupyter-widgets/controls",
            "_model_module_version": "1.5.0",
            "_model_name": "FloatProgressModel",
            "_view_count": null,
            "_view_module": "@jupyter-widgets/controls",
            "_view_module_version": "1.5.0",
            "_view_name": "ProgressView",
            "bar_style": "success",
            "description": "",
            "description_tooltip": null,
            "layout": "IPY_MODEL_039e353635434c55b394cf3e7de15cdf",
            "max": 743,
            "min": 0,
            "orientation": "horizontal",
            "style": "IPY_MODEL_f3ae6a816bf24640bd28b40b3c7f45f5",
            "value": 743
          }
        },
        "fff1dcfbf28a4a46945b3c62572f64e6": {
          "model_module": "@jupyter-widgets/controls",
          "model_name": "HTMLModel",
          "model_module_version": "1.5.0",
          "state": {
            "_dom_classes": [],
            "_model_module": "@jupyter-widgets/controls",
            "_model_module_version": "1.5.0",
            "_model_name": "HTMLModel",
            "_view_count": null,
            "_view_module": "@jupyter-widgets/controls",
            "_view_module_version": "1.5.0",
            "_view_name": "HTMLView",
            "description": "",
            "description_tooltip": null,
            "layout": "IPY_MODEL_a1f4077adea94da380ee0eb93517dd02",
            "placeholder": "​",
            "style": "IPY_MODEL_40a43264b25b48699d5c557e245d269e",
            "value": " 743/743 [00:00&lt;00:00, 71.0kB/s]"
          }
        },
        "e86996d48d8e4090bc280c9138e64769": {
          "model_module": "@jupyter-widgets/base",
          "model_name": "LayoutModel",
          "model_module_version": "1.2.0",
          "state": {
            "_model_module": "@jupyter-widgets/base",
            "_model_module_version": "1.2.0",
            "_model_name": "LayoutModel",
            "_view_count": null,
            "_view_module": "@jupyter-widgets/base",
            "_view_module_version": "1.2.0",
            "_view_name": "LayoutView",
            "align_content": null,
            "align_items": null,
            "align_self": null,
            "border": null,
            "bottom": null,
            "display": null,
            "flex": null,
            "flex_flow": null,
            "grid_area": null,
            "grid_auto_columns": null,
            "grid_auto_flow": null,
            "grid_auto_rows": null,
            "grid_column": null,
            "grid_gap": null,
            "grid_row": null,
            "grid_template_areas": null,
            "grid_template_columns": null,
            "grid_template_rows": null,
            "height": null,
            "justify_content": null,
            "justify_items": null,
            "left": null,
            "margin": null,
            "max_height": null,
            "max_width": null,
            "min_height": null,
            "min_width": null,
            "object_fit": null,
            "object_position": null,
            "order": null,
            "overflow": null,
            "overflow_x": null,
            "overflow_y": null,
            "padding": null,
            "right": null,
            "top": null,
            "visibility": null,
            "width": null
          }
        },
        "22cf645ad3c34450866b9a144ac706e7": {
          "model_module": "@jupyter-widgets/base",
          "model_name": "LayoutModel",
          "model_module_version": "1.2.0",
          "state": {
            "_model_module": "@jupyter-widgets/base",
            "_model_module_version": "1.2.0",
            "_model_name": "LayoutModel",
            "_view_count": null,
            "_view_module": "@jupyter-widgets/base",
            "_view_module_version": "1.2.0",
            "_view_name": "LayoutView",
            "align_content": null,
            "align_items": null,
            "align_self": null,
            "border": null,
            "bottom": null,
            "display": null,
            "flex": null,
            "flex_flow": null,
            "grid_area": null,
            "grid_auto_columns": null,
            "grid_auto_flow": null,
            "grid_auto_rows": null,
            "grid_column": null,
            "grid_gap": null,
            "grid_row": null,
            "grid_template_areas": null,
            "grid_template_columns": null,
            "grid_template_rows": null,
            "height": null,
            "justify_content": null,
            "justify_items": null,
            "left": null,
            "margin": null,
            "max_height": null,
            "max_width": null,
            "min_height": null,
            "min_width": null,
            "object_fit": null,
            "object_position": null,
            "order": null,
            "overflow": null,
            "overflow_x": null,
            "overflow_y": null,
            "padding": null,
            "right": null,
            "top": null,
            "visibility": null,
            "width": null
          }
        },
        "d97974321ac5474fb22a33c3da863bfc": {
          "model_module": "@jupyter-widgets/controls",
          "model_name": "DescriptionStyleModel",
          "model_module_version": "1.5.0",
          "state": {
            "_model_module": "@jupyter-widgets/controls",
            "_model_module_version": "1.5.0",
            "_model_name": "DescriptionStyleModel",
            "_view_count": null,
            "_view_module": "@jupyter-widgets/base",
            "_view_module_version": "1.2.0",
            "_view_name": "StyleView",
            "description_width": ""
          }
        },
        "039e353635434c55b394cf3e7de15cdf": {
          "model_module": "@jupyter-widgets/base",
          "model_name": "LayoutModel",
          "model_module_version": "1.2.0",
          "state": {
            "_model_module": "@jupyter-widgets/base",
            "_model_module_version": "1.2.0",
            "_model_name": "LayoutModel",
            "_view_count": null,
            "_view_module": "@jupyter-widgets/base",
            "_view_module_version": "1.2.0",
            "_view_name": "LayoutView",
            "align_content": null,
            "align_items": null,
            "align_self": null,
            "border": null,
            "bottom": null,
            "display": null,
            "flex": null,
            "flex_flow": null,
            "grid_area": null,
            "grid_auto_columns": null,
            "grid_auto_flow": null,
            "grid_auto_rows": null,
            "grid_column": null,
            "grid_gap": null,
            "grid_row": null,
            "grid_template_areas": null,
            "grid_template_columns": null,
            "grid_template_rows": null,
            "height": null,
            "justify_content": null,
            "justify_items": null,
            "left": null,
            "margin": null,
            "max_height": null,
            "max_width": null,
            "min_height": null,
            "min_width": null,
            "object_fit": null,
            "object_position": null,
            "order": null,
            "overflow": null,
            "overflow_x": null,
            "overflow_y": null,
            "padding": null,
            "right": null,
            "top": null,
            "visibility": null,
            "width": null
          }
        },
        "f3ae6a816bf24640bd28b40b3c7f45f5": {
          "model_module": "@jupyter-widgets/controls",
          "model_name": "ProgressStyleModel",
          "model_module_version": "1.5.0",
          "state": {
            "_model_module": "@jupyter-widgets/controls",
            "_model_module_version": "1.5.0",
            "_model_name": "ProgressStyleModel",
            "_view_count": null,
            "_view_module": "@jupyter-widgets/base",
            "_view_module_version": "1.2.0",
            "_view_name": "StyleView",
            "bar_color": null,
            "description_width": ""
          }
        },
        "a1f4077adea94da380ee0eb93517dd02": {
          "model_module": "@jupyter-widgets/base",
          "model_name": "LayoutModel",
          "model_module_version": "1.2.0",
          "state": {
            "_model_module": "@jupyter-widgets/base",
            "_model_module_version": "1.2.0",
            "_model_name": "LayoutModel",
            "_view_count": null,
            "_view_module": "@jupyter-widgets/base",
            "_view_module_version": "1.2.0",
            "_view_name": "LayoutView",
            "align_content": null,
            "align_items": null,
            "align_self": null,
            "border": null,
            "bottom": null,
            "display": null,
            "flex": null,
            "flex_flow": null,
            "grid_area": null,
            "grid_auto_columns": null,
            "grid_auto_flow": null,
            "grid_auto_rows": null,
            "grid_column": null,
            "grid_gap": null,
            "grid_row": null,
            "grid_template_areas": null,
            "grid_template_columns": null,
            "grid_template_rows": null,
            "height": null,
            "justify_content": null,
            "justify_items": null,
            "left": null,
            "margin": null,
            "max_height": null,
            "max_width": null,
            "min_height": null,
            "min_width": null,
            "object_fit": null,
            "object_position": null,
            "order": null,
            "overflow": null,
            "overflow_x": null,
            "overflow_y": null,
            "padding": null,
            "right": null,
            "top": null,
            "visibility": null,
            "width": null
          }
        },
        "40a43264b25b48699d5c557e245d269e": {
          "model_module": "@jupyter-widgets/controls",
          "model_name": "DescriptionStyleModel",
          "model_module_version": "1.5.0",
          "state": {
            "_model_module": "@jupyter-widgets/controls",
            "_model_module_version": "1.5.0",
            "_model_name": "DescriptionStyleModel",
            "_view_count": null,
            "_view_module": "@jupyter-widgets/base",
            "_view_module_version": "1.2.0",
            "_view_name": "StyleView",
            "description_width": ""
          }
        },
        "46eb583f2ebf426f8ebeecb5ed335847": {
          "model_module": "@jupyter-widgets/controls",
          "model_name": "HBoxModel",
          "model_module_version": "1.5.0",
          "state": {
            "_dom_classes": [],
            "_model_module": "@jupyter-widgets/controls",
            "_model_module_version": "1.5.0",
            "_model_name": "HBoxModel",
            "_view_count": null,
            "_view_module": "@jupyter-widgets/controls",
            "_view_module_version": "1.5.0",
            "_view_name": "HBoxView",
            "box_style": "",
            "children": [
              "IPY_MODEL_412e28a7c3574a3cba46bebe4764c865",
              "IPY_MODEL_89286dc5556848748d17ac1dd5e81bc6",
              "IPY_MODEL_72f2dd4af1984842b094244952d544f0"
            ],
            "layout": "IPY_MODEL_2766395bef7f4fdf8d1ca78c911a2871"
          }
        },
        "412e28a7c3574a3cba46bebe4764c865": {
          "model_module": "@jupyter-widgets/controls",
          "model_name": "HTMLModel",
          "model_module_version": "1.5.0",
          "state": {
            "_dom_classes": [],
            "_model_module": "@jupyter-widgets/controls",
            "_model_module_version": "1.5.0",
            "_model_name": "HTMLModel",
            "_view_count": null,
            "_view_module": "@jupyter-widgets/controls",
            "_view_module_version": "1.5.0",
            "_view_name": "HTMLView",
            "description": "",
            "description_tooltip": null,
            "layout": "IPY_MODEL_732f50ae900c437e949d92695f0979eb",
            "placeholder": "​",
            "style": "IPY_MODEL_6c4b5634387645e995b55d19474661d9",
            "value": "Downloading (…)ce_transformers.json: 100%"
          }
        },
        "89286dc5556848748d17ac1dd5e81bc6": {
          "model_module": "@jupyter-widgets/controls",
          "model_name": "FloatProgressModel",
          "model_module_version": "1.5.0",
          "state": {
            "_dom_classes": [],
            "_model_module": "@jupyter-widgets/controls",
            "_model_module_version": "1.5.0",
            "_model_name": "FloatProgressModel",
            "_view_count": null,
            "_view_module": "@jupyter-widgets/controls",
            "_view_module_version": "1.5.0",
            "_view_name": "ProgressView",
            "bar_style": "success",
            "description": "",
            "description_tooltip": null,
            "layout": "IPY_MODEL_80dda86e50274cd491611adf425fad4a",
            "max": 124,
            "min": 0,
            "orientation": "horizontal",
            "style": "IPY_MODEL_d2fb42c1b5c244b0ae8aaa95473612d7",
            "value": 124
          }
        },
        "72f2dd4af1984842b094244952d544f0": {
          "model_module": "@jupyter-widgets/controls",
          "model_name": "HTMLModel",
          "model_module_version": "1.5.0",
          "state": {
            "_dom_classes": [],
            "_model_module": "@jupyter-widgets/controls",
            "_model_module_version": "1.5.0",
            "_model_name": "HTMLModel",
            "_view_count": null,
            "_view_module": "@jupyter-widgets/controls",
            "_view_module_version": "1.5.0",
            "_view_name": "HTMLView",
            "description": "",
            "description_tooltip": null,
            "layout": "IPY_MODEL_5689e4eb23ae46bc9611b3f57bac1f95",
            "placeholder": "​",
            "style": "IPY_MODEL_84ba160ab734465e80a200f07e90cdaa",
            "value": " 124/124 [00:00&lt;00:00, 12.4kB/s]"
          }
        },
        "2766395bef7f4fdf8d1ca78c911a2871": {
          "model_module": "@jupyter-widgets/base",
          "model_name": "LayoutModel",
          "model_module_version": "1.2.0",
          "state": {
            "_model_module": "@jupyter-widgets/base",
            "_model_module_version": "1.2.0",
            "_model_name": "LayoutModel",
            "_view_count": null,
            "_view_module": "@jupyter-widgets/base",
            "_view_module_version": "1.2.0",
            "_view_name": "LayoutView",
            "align_content": null,
            "align_items": null,
            "align_self": null,
            "border": null,
            "bottom": null,
            "display": null,
            "flex": null,
            "flex_flow": null,
            "grid_area": null,
            "grid_auto_columns": null,
            "grid_auto_flow": null,
            "grid_auto_rows": null,
            "grid_column": null,
            "grid_gap": null,
            "grid_row": null,
            "grid_template_areas": null,
            "grid_template_columns": null,
            "grid_template_rows": null,
            "height": null,
            "justify_content": null,
            "justify_items": null,
            "left": null,
            "margin": null,
            "max_height": null,
            "max_width": null,
            "min_height": null,
            "min_width": null,
            "object_fit": null,
            "object_position": null,
            "order": null,
            "overflow": null,
            "overflow_x": null,
            "overflow_y": null,
            "padding": null,
            "right": null,
            "top": null,
            "visibility": null,
            "width": null
          }
        },
        "732f50ae900c437e949d92695f0979eb": {
          "model_module": "@jupyter-widgets/base",
          "model_name": "LayoutModel",
          "model_module_version": "1.2.0",
          "state": {
            "_model_module": "@jupyter-widgets/base",
            "_model_module_version": "1.2.0",
            "_model_name": "LayoutModel",
            "_view_count": null,
            "_view_module": "@jupyter-widgets/base",
            "_view_module_version": "1.2.0",
            "_view_name": "LayoutView",
            "align_content": null,
            "align_items": null,
            "align_self": null,
            "border": null,
            "bottom": null,
            "display": null,
            "flex": null,
            "flex_flow": null,
            "grid_area": null,
            "grid_auto_columns": null,
            "grid_auto_flow": null,
            "grid_auto_rows": null,
            "grid_column": null,
            "grid_gap": null,
            "grid_row": null,
            "grid_template_areas": null,
            "grid_template_columns": null,
            "grid_template_rows": null,
            "height": null,
            "justify_content": null,
            "justify_items": null,
            "left": null,
            "margin": null,
            "max_height": null,
            "max_width": null,
            "min_height": null,
            "min_width": null,
            "object_fit": null,
            "object_position": null,
            "order": null,
            "overflow": null,
            "overflow_x": null,
            "overflow_y": null,
            "padding": null,
            "right": null,
            "top": null,
            "visibility": null,
            "width": null
          }
        },
        "6c4b5634387645e995b55d19474661d9": {
          "model_module": "@jupyter-widgets/controls",
          "model_name": "DescriptionStyleModel",
          "model_module_version": "1.5.0",
          "state": {
            "_model_module": "@jupyter-widgets/controls",
            "_model_module_version": "1.5.0",
            "_model_name": "DescriptionStyleModel",
            "_view_count": null,
            "_view_module": "@jupyter-widgets/base",
            "_view_module_version": "1.2.0",
            "_view_name": "StyleView",
            "description_width": ""
          }
        },
        "80dda86e50274cd491611adf425fad4a": {
          "model_module": "@jupyter-widgets/base",
          "model_name": "LayoutModel",
          "model_module_version": "1.2.0",
          "state": {
            "_model_module": "@jupyter-widgets/base",
            "_model_module_version": "1.2.0",
            "_model_name": "LayoutModel",
            "_view_count": null,
            "_view_module": "@jupyter-widgets/base",
            "_view_module_version": "1.2.0",
            "_view_name": "LayoutView",
            "align_content": null,
            "align_items": null,
            "align_self": null,
            "border": null,
            "bottom": null,
            "display": null,
            "flex": null,
            "flex_flow": null,
            "grid_area": null,
            "grid_auto_columns": null,
            "grid_auto_flow": null,
            "grid_auto_rows": null,
            "grid_column": null,
            "grid_gap": null,
            "grid_row": null,
            "grid_template_areas": null,
            "grid_template_columns": null,
            "grid_template_rows": null,
            "height": null,
            "justify_content": null,
            "justify_items": null,
            "left": null,
            "margin": null,
            "max_height": null,
            "max_width": null,
            "min_height": null,
            "min_width": null,
            "object_fit": null,
            "object_position": null,
            "order": null,
            "overflow": null,
            "overflow_x": null,
            "overflow_y": null,
            "padding": null,
            "right": null,
            "top": null,
            "visibility": null,
            "width": null
          }
        },
        "d2fb42c1b5c244b0ae8aaa95473612d7": {
          "model_module": "@jupyter-widgets/controls",
          "model_name": "ProgressStyleModel",
          "model_module_version": "1.5.0",
          "state": {
            "_model_module": "@jupyter-widgets/controls",
            "_model_module_version": "1.5.0",
            "_model_name": "ProgressStyleModel",
            "_view_count": null,
            "_view_module": "@jupyter-widgets/base",
            "_view_module_version": "1.2.0",
            "_view_name": "StyleView",
            "bar_color": null,
            "description_width": ""
          }
        },
        "5689e4eb23ae46bc9611b3f57bac1f95": {
          "model_module": "@jupyter-widgets/base",
          "model_name": "LayoutModel",
          "model_module_version": "1.2.0",
          "state": {
            "_model_module": "@jupyter-widgets/base",
            "_model_module_version": "1.2.0",
            "_model_name": "LayoutModel",
            "_view_count": null,
            "_view_module": "@jupyter-widgets/base",
            "_view_module_version": "1.2.0",
            "_view_name": "LayoutView",
            "align_content": null,
            "align_items": null,
            "align_self": null,
            "border": null,
            "bottom": null,
            "display": null,
            "flex": null,
            "flex_flow": null,
            "grid_area": null,
            "grid_auto_columns": null,
            "grid_auto_flow": null,
            "grid_auto_rows": null,
            "grid_column": null,
            "grid_gap": null,
            "grid_row": null,
            "grid_template_areas": null,
            "grid_template_columns": null,
            "grid_template_rows": null,
            "height": null,
            "justify_content": null,
            "justify_items": null,
            "left": null,
            "margin": null,
            "max_height": null,
            "max_width": null,
            "min_height": null,
            "min_width": null,
            "object_fit": null,
            "object_position": null,
            "order": null,
            "overflow": null,
            "overflow_x": null,
            "overflow_y": null,
            "padding": null,
            "right": null,
            "top": null,
            "visibility": null,
            "width": null
          }
        },
        "84ba160ab734465e80a200f07e90cdaa": {
          "model_module": "@jupyter-widgets/controls",
          "model_name": "DescriptionStyleModel",
          "model_module_version": "1.5.0",
          "state": {
            "_model_module": "@jupyter-widgets/controls",
            "_model_module_version": "1.5.0",
            "_model_name": "DescriptionStyleModel",
            "_view_count": null,
            "_view_module": "@jupyter-widgets/base",
            "_view_module_version": "1.2.0",
            "_view_name": "StyleView",
            "description_width": ""
          }
        },
        "e845cac11c8543ff98616cea4f98ab0d": {
          "model_module": "@jupyter-widgets/controls",
          "model_name": "HBoxModel",
          "model_module_version": "1.5.0",
          "state": {
            "_dom_classes": [],
            "_model_module": "@jupyter-widgets/controls",
            "_model_module_version": "1.5.0",
            "_model_name": "HBoxModel",
            "_view_count": null,
            "_view_module": "@jupyter-widgets/controls",
            "_view_module_version": "1.5.0",
            "_view_name": "HBoxView",
            "box_style": "",
            "children": [
              "IPY_MODEL_d5bd0d2f2c4b4ced899cbb30f3e96e18",
              "IPY_MODEL_b132f990747442a885d026fd84b802ea",
              "IPY_MODEL_84056f46fe424a39a9e6bd9c9a4a4acd"
            ],
            "layout": "IPY_MODEL_1f235aaa434048a5b079946e43f90eb3"
          }
        },
        "d5bd0d2f2c4b4ced899cbb30f3e96e18": {
          "model_module": "@jupyter-widgets/controls",
          "model_name": "HTMLModel",
          "model_module_version": "1.5.0",
          "state": {
            "_dom_classes": [],
            "_model_module": "@jupyter-widgets/controls",
            "_model_module_version": "1.5.0",
            "_model_name": "HTMLModel",
            "_view_count": null,
            "_view_module": "@jupyter-widgets/controls",
            "_view_module_version": "1.5.0",
            "_view_name": "HTMLView",
            "description": "",
            "description_tooltip": null,
            "layout": "IPY_MODEL_54ed5830f71b42f6b3fbbb77aac6bdfe",
            "placeholder": "​",
            "style": "IPY_MODEL_a19687f1c41b4c83854f08655f166b2f",
            "value": "Downloading pytorch_model.bin: 100%"
          }
        },
        "b132f990747442a885d026fd84b802ea": {
          "model_module": "@jupyter-widgets/controls",
          "model_name": "FloatProgressModel",
          "model_module_version": "1.5.0",
          "state": {
            "_dom_classes": [],
            "_model_module": "@jupyter-widgets/controls",
            "_model_module_version": "1.5.0",
            "_model_name": "FloatProgressModel",
            "_view_count": null,
            "_view_module": "@jupyter-widgets/controls",
            "_view_module_version": "1.5.0",
            "_view_name": "ProgressView",
            "bar_style": "success",
            "description": "",
            "description_tooltip": null,
            "layout": "IPY_MODEL_cd691a6cc3f541c8ab3624fc27b4bc55",
            "max": 133508397,
            "min": 0,
            "orientation": "horizontal",
            "style": "IPY_MODEL_ef9c2f8dec0d465c8ecb3b0b6d8d05f2",
            "value": 133508397
          }
        },
        "84056f46fe424a39a9e6bd9c9a4a4acd": {
          "model_module": "@jupyter-widgets/controls",
          "model_name": "HTMLModel",
          "model_module_version": "1.5.0",
          "state": {
            "_dom_classes": [],
            "_model_module": "@jupyter-widgets/controls",
            "_model_module_version": "1.5.0",
            "_model_name": "HTMLModel",
            "_view_count": null,
            "_view_module": "@jupyter-widgets/controls",
            "_view_module_version": "1.5.0",
            "_view_name": "HTMLView",
            "description": "",
            "description_tooltip": null,
            "layout": "IPY_MODEL_1b63d513219a4089bde26bc2116e0209",
            "placeholder": "​",
            "style": "IPY_MODEL_10a6fab7c91044f498af7e2d25508155",
            "value": " 134M/134M [00:00&lt;00:00, 349MB/s]"
          }
        },
        "1f235aaa434048a5b079946e43f90eb3": {
          "model_module": "@jupyter-widgets/base",
          "model_name": "LayoutModel",
          "model_module_version": "1.2.0",
          "state": {
            "_model_module": "@jupyter-widgets/base",
            "_model_module_version": "1.2.0",
            "_model_name": "LayoutModel",
            "_view_count": null,
            "_view_module": "@jupyter-widgets/base",
            "_view_module_version": "1.2.0",
            "_view_name": "LayoutView",
            "align_content": null,
            "align_items": null,
            "align_self": null,
            "border": null,
            "bottom": null,
            "display": null,
            "flex": null,
            "flex_flow": null,
            "grid_area": null,
            "grid_auto_columns": null,
            "grid_auto_flow": null,
            "grid_auto_rows": null,
            "grid_column": null,
            "grid_gap": null,
            "grid_row": null,
            "grid_template_areas": null,
            "grid_template_columns": null,
            "grid_template_rows": null,
            "height": null,
            "justify_content": null,
            "justify_items": null,
            "left": null,
            "margin": null,
            "max_height": null,
            "max_width": null,
            "min_height": null,
            "min_width": null,
            "object_fit": null,
            "object_position": null,
            "order": null,
            "overflow": null,
            "overflow_x": null,
            "overflow_y": null,
            "padding": null,
            "right": null,
            "top": null,
            "visibility": null,
            "width": null
          }
        },
        "54ed5830f71b42f6b3fbbb77aac6bdfe": {
          "model_module": "@jupyter-widgets/base",
          "model_name": "LayoutModel",
          "model_module_version": "1.2.0",
          "state": {
            "_model_module": "@jupyter-widgets/base",
            "_model_module_version": "1.2.0",
            "_model_name": "LayoutModel",
            "_view_count": null,
            "_view_module": "@jupyter-widgets/base",
            "_view_module_version": "1.2.0",
            "_view_name": "LayoutView",
            "align_content": null,
            "align_items": null,
            "align_self": null,
            "border": null,
            "bottom": null,
            "display": null,
            "flex": null,
            "flex_flow": null,
            "grid_area": null,
            "grid_auto_columns": null,
            "grid_auto_flow": null,
            "grid_auto_rows": null,
            "grid_column": null,
            "grid_gap": null,
            "grid_row": null,
            "grid_template_areas": null,
            "grid_template_columns": null,
            "grid_template_rows": null,
            "height": null,
            "justify_content": null,
            "justify_items": null,
            "left": null,
            "margin": null,
            "max_height": null,
            "max_width": null,
            "min_height": null,
            "min_width": null,
            "object_fit": null,
            "object_position": null,
            "order": null,
            "overflow": null,
            "overflow_x": null,
            "overflow_y": null,
            "padding": null,
            "right": null,
            "top": null,
            "visibility": null,
            "width": null
          }
        },
        "a19687f1c41b4c83854f08655f166b2f": {
          "model_module": "@jupyter-widgets/controls",
          "model_name": "DescriptionStyleModel",
          "model_module_version": "1.5.0",
          "state": {
            "_model_module": "@jupyter-widgets/controls",
            "_model_module_version": "1.5.0",
            "_model_name": "DescriptionStyleModel",
            "_view_count": null,
            "_view_module": "@jupyter-widgets/base",
            "_view_module_version": "1.2.0",
            "_view_name": "StyleView",
            "description_width": ""
          }
        },
        "cd691a6cc3f541c8ab3624fc27b4bc55": {
          "model_module": "@jupyter-widgets/base",
          "model_name": "LayoutModel",
          "model_module_version": "1.2.0",
          "state": {
            "_model_module": "@jupyter-widgets/base",
            "_model_module_version": "1.2.0",
            "_model_name": "LayoutModel",
            "_view_count": null,
            "_view_module": "@jupyter-widgets/base",
            "_view_module_version": "1.2.0",
            "_view_name": "LayoutView",
            "align_content": null,
            "align_items": null,
            "align_self": null,
            "border": null,
            "bottom": null,
            "display": null,
            "flex": null,
            "flex_flow": null,
            "grid_area": null,
            "grid_auto_columns": null,
            "grid_auto_flow": null,
            "grid_auto_rows": null,
            "grid_column": null,
            "grid_gap": null,
            "grid_row": null,
            "grid_template_areas": null,
            "grid_template_columns": null,
            "grid_template_rows": null,
            "height": null,
            "justify_content": null,
            "justify_items": null,
            "left": null,
            "margin": null,
            "max_height": null,
            "max_width": null,
            "min_height": null,
            "min_width": null,
            "object_fit": null,
            "object_position": null,
            "order": null,
            "overflow": null,
            "overflow_x": null,
            "overflow_y": null,
            "padding": null,
            "right": null,
            "top": null,
            "visibility": null,
            "width": null
          }
        },
        "ef9c2f8dec0d465c8ecb3b0b6d8d05f2": {
          "model_module": "@jupyter-widgets/controls",
          "model_name": "ProgressStyleModel",
          "model_module_version": "1.5.0",
          "state": {
            "_model_module": "@jupyter-widgets/controls",
            "_model_module_version": "1.5.0",
            "_model_name": "ProgressStyleModel",
            "_view_count": null,
            "_view_module": "@jupyter-widgets/base",
            "_view_module_version": "1.2.0",
            "_view_name": "StyleView",
            "bar_color": null,
            "description_width": ""
          }
        },
        "1b63d513219a4089bde26bc2116e0209": {
          "model_module": "@jupyter-widgets/base",
          "model_name": "LayoutModel",
          "model_module_version": "1.2.0",
          "state": {
            "_model_module": "@jupyter-widgets/base",
            "_model_module_version": "1.2.0",
            "_model_name": "LayoutModel",
            "_view_count": null,
            "_view_module": "@jupyter-widgets/base",
            "_view_module_version": "1.2.0",
            "_view_name": "LayoutView",
            "align_content": null,
            "align_items": null,
            "align_self": null,
            "border": null,
            "bottom": null,
            "display": null,
            "flex": null,
            "flex_flow": null,
            "grid_area": null,
            "grid_auto_columns": null,
            "grid_auto_flow": null,
            "grid_auto_rows": null,
            "grid_column": null,
            "grid_gap": null,
            "grid_row": null,
            "grid_template_areas": null,
            "grid_template_columns": null,
            "grid_template_rows": null,
            "height": null,
            "justify_content": null,
            "justify_items": null,
            "left": null,
            "margin": null,
            "max_height": null,
            "max_width": null,
            "min_height": null,
            "min_width": null,
            "object_fit": null,
            "object_position": null,
            "order": null,
            "overflow": null,
            "overflow_x": null,
            "overflow_y": null,
            "padding": null,
            "right": null,
            "top": null,
            "visibility": null,
            "width": null
          }
        },
        "10a6fab7c91044f498af7e2d25508155": {
          "model_module": "@jupyter-widgets/controls",
          "model_name": "DescriptionStyleModel",
          "model_module_version": "1.5.0",
          "state": {
            "_model_module": "@jupyter-widgets/controls",
            "_model_module_version": "1.5.0",
            "_model_name": "DescriptionStyleModel",
            "_view_count": null,
            "_view_module": "@jupyter-widgets/base",
            "_view_module_version": "1.2.0",
            "_view_name": "StyleView",
            "description_width": ""
          }
        },
        "00ec6bce89ec49b1953465b8f883734b": {
          "model_module": "@jupyter-widgets/controls",
          "model_name": "HBoxModel",
          "model_module_version": "1.5.0",
          "state": {
            "_dom_classes": [],
            "_model_module": "@jupyter-widgets/controls",
            "_model_module_version": "1.5.0",
            "_model_name": "HBoxModel",
            "_view_count": null,
            "_view_module": "@jupyter-widgets/controls",
            "_view_module_version": "1.5.0",
            "_view_name": "HBoxView",
            "box_style": "",
            "children": [
              "IPY_MODEL_2b13e704d1a9438d8ee0df38617fd68a",
              "IPY_MODEL_6fee14eeb9834f1ea3399eb93427906a",
              "IPY_MODEL_5b60def34251415392e996ddb9a08a4a"
            ],
            "layout": "IPY_MODEL_94ed5dd18c354c5f928723531559a791"
          }
        },
        "2b13e704d1a9438d8ee0df38617fd68a": {
          "model_module": "@jupyter-widgets/controls",
          "model_name": "HTMLModel",
          "model_module_version": "1.5.0",
          "state": {
            "_dom_classes": [],
            "_model_module": "@jupyter-widgets/controls",
            "_model_module_version": "1.5.0",
            "_model_name": "HTMLModel",
            "_view_count": null,
            "_view_module": "@jupyter-widgets/controls",
            "_view_module_version": "1.5.0",
            "_view_name": "HTMLView",
            "description": "",
            "description_tooltip": null,
            "layout": "IPY_MODEL_5b814ba3fb00474a8142d202bfd24d2c",
            "placeholder": "​",
            "style": "IPY_MODEL_3f8b08fc8ab246e4a42f0b658cf99dcc",
            "value": "Downloading (…)nce_bert_config.json: 100%"
          }
        },
        "6fee14eeb9834f1ea3399eb93427906a": {
          "model_module": "@jupyter-widgets/controls",
          "model_name": "FloatProgressModel",
          "model_module_version": "1.5.0",
          "state": {
            "_dom_classes": [],
            "_model_module": "@jupyter-widgets/controls",
            "_model_module_version": "1.5.0",
            "_model_name": "FloatProgressModel",
            "_view_count": null,
            "_view_module": "@jupyter-widgets/controls",
            "_view_module_version": "1.5.0",
            "_view_name": "ProgressView",
            "bar_style": "success",
            "description": "",
            "description_tooltip": null,
            "layout": "IPY_MODEL_e0c5991023ab4de9b0c2e860cd919ed9",
            "max": 52,
            "min": 0,
            "orientation": "horizontal",
            "style": "IPY_MODEL_808174aceb0d4d6bac3c68f9d6a25eb7",
            "value": 52
          }
        },
        "5b60def34251415392e996ddb9a08a4a": {
          "model_module": "@jupyter-widgets/controls",
          "model_name": "HTMLModel",
          "model_module_version": "1.5.0",
          "state": {
            "_dom_classes": [],
            "_model_module": "@jupyter-widgets/controls",
            "_model_module_version": "1.5.0",
            "_model_name": "HTMLModel",
            "_view_count": null,
            "_view_module": "@jupyter-widgets/controls",
            "_view_module_version": "1.5.0",
            "_view_name": "HTMLView",
            "description": "",
            "description_tooltip": null,
            "layout": "IPY_MODEL_677279b3e0724e91b1bd567ee8ca5b57",
            "placeholder": "​",
            "style": "IPY_MODEL_f966b0ab6d9e4878885d70638643347d",
            "value": " 52.0/52.0 [00:00&lt;00:00, 5.11kB/s]"
          }
        },
        "94ed5dd18c354c5f928723531559a791": {
          "model_module": "@jupyter-widgets/base",
          "model_name": "LayoutModel",
          "model_module_version": "1.2.0",
          "state": {
            "_model_module": "@jupyter-widgets/base",
            "_model_module_version": "1.2.0",
            "_model_name": "LayoutModel",
            "_view_count": null,
            "_view_module": "@jupyter-widgets/base",
            "_view_module_version": "1.2.0",
            "_view_name": "LayoutView",
            "align_content": null,
            "align_items": null,
            "align_self": null,
            "border": null,
            "bottom": null,
            "display": null,
            "flex": null,
            "flex_flow": null,
            "grid_area": null,
            "grid_auto_columns": null,
            "grid_auto_flow": null,
            "grid_auto_rows": null,
            "grid_column": null,
            "grid_gap": null,
            "grid_row": null,
            "grid_template_areas": null,
            "grid_template_columns": null,
            "grid_template_rows": null,
            "height": null,
            "justify_content": null,
            "justify_items": null,
            "left": null,
            "margin": null,
            "max_height": null,
            "max_width": null,
            "min_height": null,
            "min_width": null,
            "object_fit": null,
            "object_position": null,
            "order": null,
            "overflow": null,
            "overflow_x": null,
            "overflow_y": null,
            "padding": null,
            "right": null,
            "top": null,
            "visibility": null,
            "width": null
          }
        },
        "5b814ba3fb00474a8142d202bfd24d2c": {
          "model_module": "@jupyter-widgets/base",
          "model_name": "LayoutModel",
          "model_module_version": "1.2.0",
          "state": {
            "_model_module": "@jupyter-widgets/base",
            "_model_module_version": "1.2.0",
            "_model_name": "LayoutModel",
            "_view_count": null,
            "_view_module": "@jupyter-widgets/base",
            "_view_module_version": "1.2.0",
            "_view_name": "LayoutView",
            "align_content": null,
            "align_items": null,
            "align_self": null,
            "border": null,
            "bottom": null,
            "display": null,
            "flex": null,
            "flex_flow": null,
            "grid_area": null,
            "grid_auto_columns": null,
            "grid_auto_flow": null,
            "grid_auto_rows": null,
            "grid_column": null,
            "grid_gap": null,
            "grid_row": null,
            "grid_template_areas": null,
            "grid_template_columns": null,
            "grid_template_rows": null,
            "height": null,
            "justify_content": null,
            "justify_items": null,
            "left": null,
            "margin": null,
            "max_height": null,
            "max_width": null,
            "min_height": null,
            "min_width": null,
            "object_fit": null,
            "object_position": null,
            "order": null,
            "overflow": null,
            "overflow_x": null,
            "overflow_y": null,
            "padding": null,
            "right": null,
            "top": null,
            "visibility": null,
            "width": null
          }
        },
        "3f8b08fc8ab246e4a42f0b658cf99dcc": {
          "model_module": "@jupyter-widgets/controls",
          "model_name": "DescriptionStyleModel",
          "model_module_version": "1.5.0",
          "state": {
            "_model_module": "@jupyter-widgets/controls",
            "_model_module_version": "1.5.0",
            "_model_name": "DescriptionStyleModel",
            "_view_count": null,
            "_view_module": "@jupyter-widgets/base",
            "_view_module_version": "1.2.0",
            "_view_name": "StyleView",
            "description_width": ""
          }
        },
        "e0c5991023ab4de9b0c2e860cd919ed9": {
          "model_module": "@jupyter-widgets/base",
          "model_name": "LayoutModel",
          "model_module_version": "1.2.0",
          "state": {
            "_model_module": "@jupyter-widgets/base",
            "_model_module_version": "1.2.0",
            "_model_name": "LayoutModel",
            "_view_count": null,
            "_view_module": "@jupyter-widgets/base",
            "_view_module_version": "1.2.0",
            "_view_name": "LayoutView",
            "align_content": null,
            "align_items": null,
            "align_self": null,
            "border": null,
            "bottom": null,
            "display": null,
            "flex": null,
            "flex_flow": null,
            "grid_area": null,
            "grid_auto_columns": null,
            "grid_auto_flow": null,
            "grid_auto_rows": null,
            "grid_column": null,
            "grid_gap": null,
            "grid_row": null,
            "grid_template_areas": null,
            "grid_template_columns": null,
            "grid_template_rows": null,
            "height": null,
            "justify_content": null,
            "justify_items": null,
            "left": null,
            "margin": null,
            "max_height": null,
            "max_width": null,
            "min_height": null,
            "min_width": null,
            "object_fit": null,
            "object_position": null,
            "order": null,
            "overflow": null,
            "overflow_x": null,
            "overflow_y": null,
            "padding": null,
            "right": null,
            "top": null,
            "visibility": null,
            "width": null
          }
        },
        "808174aceb0d4d6bac3c68f9d6a25eb7": {
          "model_module": "@jupyter-widgets/controls",
          "model_name": "ProgressStyleModel",
          "model_module_version": "1.5.0",
          "state": {
            "_model_module": "@jupyter-widgets/controls",
            "_model_module_version": "1.5.0",
            "_model_name": "ProgressStyleModel",
            "_view_count": null,
            "_view_module": "@jupyter-widgets/base",
            "_view_module_version": "1.2.0",
            "_view_name": "StyleView",
            "bar_color": null,
            "description_width": ""
          }
        },
        "677279b3e0724e91b1bd567ee8ca5b57": {
          "model_module": "@jupyter-widgets/base",
          "model_name": "LayoutModel",
          "model_module_version": "1.2.0",
          "state": {
            "_model_module": "@jupyter-widgets/base",
            "_model_module_version": "1.2.0",
            "_model_name": "LayoutModel",
            "_view_count": null,
            "_view_module": "@jupyter-widgets/base",
            "_view_module_version": "1.2.0",
            "_view_name": "LayoutView",
            "align_content": null,
            "align_items": null,
            "align_self": null,
            "border": null,
            "bottom": null,
            "display": null,
            "flex": null,
            "flex_flow": null,
            "grid_area": null,
            "grid_auto_columns": null,
            "grid_auto_flow": null,
            "grid_auto_rows": null,
            "grid_column": null,
            "grid_gap": null,
            "grid_row": null,
            "grid_template_areas": null,
            "grid_template_columns": null,
            "grid_template_rows": null,
            "height": null,
            "justify_content": null,
            "justify_items": null,
            "left": null,
            "margin": null,
            "max_height": null,
            "max_width": null,
            "min_height": null,
            "min_width": null,
            "object_fit": null,
            "object_position": null,
            "order": null,
            "overflow": null,
            "overflow_x": null,
            "overflow_y": null,
            "padding": null,
            "right": null,
            "top": null,
            "visibility": null,
            "width": null
          }
        },
        "f966b0ab6d9e4878885d70638643347d": {
          "model_module": "@jupyter-widgets/controls",
          "model_name": "DescriptionStyleModel",
          "model_module_version": "1.5.0",
          "state": {
            "_model_module": "@jupyter-widgets/controls",
            "_model_module_version": "1.5.0",
            "_model_name": "DescriptionStyleModel",
            "_view_count": null,
            "_view_module": "@jupyter-widgets/base",
            "_view_module_version": "1.2.0",
            "_view_name": "StyleView",
            "description_width": ""
          }
        },
        "a4f39977b72f4bc0ac4c9906c19c6ff0": {
          "model_module": "@jupyter-widgets/controls",
          "model_name": "HBoxModel",
          "model_module_version": "1.5.0",
          "state": {
            "_dom_classes": [],
            "_model_module": "@jupyter-widgets/controls",
            "_model_module_version": "1.5.0",
            "_model_name": "HBoxModel",
            "_view_count": null,
            "_view_module": "@jupyter-widgets/controls",
            "_view_module_version": "1.5.0",
            "_view_name": "HBoxView",
            "box_style": "",
            "children": [
              "IPY_MODEL_0bf27b180480487c9dfdeca09326e8e7",
              "IPY_MODEL_aa42176a12114f5e87c946b06b45d23d",
              "IPY_MODEL_4f404225e89d4a83bfdc2e2fc8cb8288"
            ],
            "layout": "IPY_MODEL_d0d685e896eb47d2964b97120c3d3c37"
          }
        },
        "0bf27b180480487c9dfdeca09326e8e7": {
          "model_module": "@jupyter-widgets/controls",
          "model_name": "HTMLModel",
          "model_module_version": "1.5.0",
          "state": {
            "_dom_classes": [],
            "_model_module": "@jupyter-widgets/controls",
            "_model_module_version": "1.5.0",
            "_model_name": "HTMLModel",
            "_view_count": null,
            "_view_module": "@jupyter-widgets/controls",
            "_view_module_version": "1.5.0",
            "_view_name": "HTMLView",
            "description": "",
            "description_tooltip": null,
            "layout": "IPY_MODEL_d386be91f67f4253b9b3966d356dbfdf",
            "placeholder": "​",
            "style": "IPY_MODEL_75d825a41a7d43e2b28e3c2461187695",
            "value": "Downloading (…)cial_tokens_map.json: 100%"
          }
        },
        "aa42176a12114f5e87c946b06b45d23d": {
          "model_module": "@jupyter-widgets/controls",
          "model_name": "FloatProgressModel",
          "model_module_version": "1.5.0",
          "state": {
            "_dom_classes": [],
            "_model_module": "@jupyter-widgets/controls",
            "_model_module_version": "1.5.0",
            "_model_name": "FloatProgressModel",
            "_view_count": null,
            "_view_module": "@jupyter-widgets/controls",
            "_view_module_version": "1.5.0",
            "_view_name": "ProgressView",
            "bar_style": "success",
            "description": "",
            "description_tooltip": null,
            "layout": "IPY_MODEL_fbe5dffb3dec43fa8d96cf27ec0a0113",
            "max": 125,
            "min": 0,
            "orientation": "horizontal",
            "style": "IPY_MODEL_8bde003b643448d39dbe4678522ee117",
            "value": 125
          }
        },
        "4f404225e89d4a83bfdc2e2fc8cb8288": {
          "model_module": "@jupyter-widgets/controls",
          "model_name": "HTMLModel",
          "model_module_version": "1.5.0",
          "state": {
            "_dom_classes": [],
            "_model_module": "@jupyter-widgets/controls",
            "_model_module_version": "1.5.0",
            "_model_name": "HTMLModel",
            "_view_count": null,
            "_view_module": "@jupyter-widgets/controls",
            "_view_module_version": "1.5.0",
            "_view_name": "HTMLView",
            "description": "",
            "description_tooltip": null,
            "layout": "IPY_MODEL_884c71e696d04ea98f8273ace7db965f",
            "placeholder": "​",
            "style": "IPY_MODEL_dc34ae2b36164a4d9ebcae42faa15081",
            "value": " 125/125 [00:00&lt;00:00, 11.4kB/s]"
          }
        },
        "d0d685e896eb47d2964b97120c3d3c37": {
          "model_module": "@jupyter-widgets/base",
          "model_name": "LayoutModel",
          "model_module_version": "1.2.0",
          "state": {
            "_model_module": "@jupyter-widgets/base",
            "_model_module_version": "1.2.0",
            "_model_name": "LayoutModel",
            "_view_count": null,
            "_view_module": "@jupyter-widgets/base",
            "_view_module_version": "1.2.0",
            "_view_name": "LayoutView",
            "align_content": null,
            "align_items": null,
            "align_self": null,
            "border": null,
            "bottom": null,
            "display": null,
            "flex": null,
            "flex_flow": null,
            "grid_area": null,
            "grid_auto_columns": null,
            "grid_auto_flow": null,
            "grid_auto_rows": null,
            "grid_column": null,
            "grid_gap": null,
            "grid_row": null,
            "grid_template_areas": null,
            "grid_template_columns": null,
            "grid_template_rows": null,
            "height": null,
            "justify_content": null,
            "justify_items": null,
            "left": null,
            "margin": null,
            "max_height": null,
            "max_width": null,
            "min_height": null,
            "min_width": null,
            "object_fit": null,
            "object_position": null,
            "order": null,
            "overflow": null,
            "overflow_x": null,
            "overflow_y": null,
            "padding": null,
            "right": null,
            "top": null,
            "visibility": null,
            "width": null
          }
        },
        "d386be91f67f4253b9b3966d356dbfdf": {
          "model_module": "@jupyter-widgets/base",
          "model_name": "LayoutModel",
          "model_module_version": "1.2.0",
          "state": {
            "_model_module": "@jupyter-widgets/base",
            "_model_module_version": "1.2.0",
            "_model_name": "LayoutModel",
            "_view_count": null,
            "_view_module": "@jupyter-widgets/base",
            "_view_module_version": "1.2.0",
            "_view_name": "LayoutView",
            "align_content": null,
            "align_items": null,
            "align_self": null,
            "border": null,
            "bottom": null,
            "display": null,
            "flex": null,
            "flex_flow": null,
            "grid_area": null,
            "grid_auto_columns": null,
            "grid_auto_flow": null,
            "grid_auto_rows": null,
            "grid_column": null,
            "grid_gap": null,
            "grid_row": null,
            "grid_template_areas": null,
            "grid_template_columns": null,
            "grid_template_rows": null,
            "height": null,
            "justify_content": null,
            "justify_items": null,
            "left": null,
            "margin": null,
            "max_height": null,
            "max_width": null,
            "min_height": null,
            "min_width": null,
            "object_fit": null,
            "object_position": null,
            "order": null,
            "overflow": null,
            "overflow_x": null,
            "overflow_y": null,
            "padding": null,
            "right": null,
            "top": null,
            "visibility": null,
            "width": null
          }
        },
        "75d825a41a7d43e2b28e3c2461187695": {
          "model_module": "@jupyter-widgets/controls",
          "model_name": "DescriptionStyleModel",
          "model_module_version": "1.5.0",
          "state": {
            "_model_module": "@jupyter-widgets/controls",
            "_model_module_version": "1.5.0",
            "_model_name": "DescriptionStyleModel",
            "_view_count": null,
            "_view_module": "@jupyter-widgets/base",
            "_view_module_version": "1.2.0",
            "_view_name": "StyleView",
            "description_width": ""
          }
        },
        "fbe5dffb3dec43fa8d96cf27ec0a0113": {
          "model_module": "@jupyter-widgets/base",
          "model_name": "LayoutModel",
          "model_module_version": "1.2.0",
          "state": {
            "_model_module": "@jupyter-widgets/base",
            "_model_module_version": "1.2.0",
            "_model_name": "LayoutModel",
            "_view_count": null,
            "_view_module": "@jupyter-widgets/base",
            "_view_module_version": "1.2.0",
            "_view_name": "LayoutView",
            "align_content": null,
            "align_items": null,
            "align_self": null,
            "border": null,
            "bottom": null,
            "display": null,
            "flex": null,
            "flex_flow": null,
            "grid_area": null,
            "grid_auto_columns": null,
            "grid_auto_flow": null,
            "grid_auto_rows": null,
            "grid_column": null,
            "grid_gap": null,
            "grid_row": null,
            "grid_template_areas": null,
            "grid_template_columns": null,
            "grid_template_rows": null,
            "height": null,
            "justify_content": null,
            "justify_items": null,
            "left": null,
            "margin": null,
            "max_height": null,
            "max_width": null,
            "min_height": null,
            "min_width": null,
            "object_fit": null,
            "object_position": null,
            "order": null,
            "overflow": null,
            "overflow_x": null,
            "overflow_y": null,
            "padding": null,
            "right": null,
            "top": null,
            "visibility": null,
            "width": null
          }
        },
        "8bde003b643448d39dbe4678522ee117": {
          "model_module": "@jupyter-widgets/controls",
          "model_name": "ProgressStyleModel",
          "model_module_version": "1.5.0",
          "state": {
            "_model_module": "@jupyter-widgets/controls",
            "_model_module_version": "1.5.0",
            "_model_name": "ProgressStyleModel",
            "_view_count": null,
            "_view_module": "@jupyter-widgets/base",
            "_view_module_version": "1.2.0",
            "_view_name": "StyleView",
            "bar_color": null,
            "description_width": ""
          }
        },
        "884c71e696d04ea98f8273ace7db965f": {
          "model_module": "@jupyter-widgets/base",
          "model_name": "LayoutModel",
          "model_module_version": "1.2.0",
          "state": {
            "_model_module": "@jupyter-widgets/base",
            "_model_module_version": "1.2.0",
            "_model_name": "LayoutModel",
            "_view_count": null,
            "_view_module": "@jupyter-widgets/base",
            "_view_module_version": "1.2.0",
            "_view_name": "LayoutView",
            "align_content": null,
            "align_items": null,
            "align_self": null,
            "border": null,
            "bottom": null,
            "display": null,
            "flex": null,
            "flex_flow": null,
            "grid_area": null,
            "grid_auto_columns": null,
            "grid_auto_flow": null,
            "grid_auto_rows": null,
            "grid_column": null,
            "grid_gap": null,
            "grid_row": null,
            "grid_template_areas": null,
            "grid_template_columns": null,
            "grid_template_rows": null,
            "height": null,
            "justify_content": null,
            "justify_items": null,
            "left": null,
            "margin": null,
            "max_height": null,
            "max_width": null,
            "min_height": null,
            "min_width": null,
            "object_fit": null,
            "object_position": null,
            "order": null,
            "overflow": null,
            "overflow_x": null,
            "overflow_y": null,
            "padding": null,
            "right": null,
            "top": null,
            "visibility": null,
            "width": null
          }
        },
        "dc34ae2b36164a4d9ebcae42faa15081": {
          "model_module": "@jupyter-widgets/controls",
          "model_name": "DescriptionStyleModel",
          "model_module_version": "1.5.0",
          "state": {
            "_model_module": "@jupyter-widgets/controls",
            "_model_module_version": "1.5.0",
            "_model_name": "DescriptionStyleModel",
            "_view_count": null,
            "_view_module": "@jupyter-widgets/base",
            "_view_module_version": "1.2.0",
            "_view_name": "StyleView",
            "description_width": ""
          }
        },
        "72c02eae30534e89b439b3d363180e77": {
          "model_module": "@jupyter-widgets/controls",
          "model_name": "HBoxModel",
          "model_module_version": "1.5.0",
          "state": {
            "_dom_classes": [],
            "_model_module": "@jupyter-widgets/controls",
            "_model_module_version": "1.5.0",
            "_model_name": "HBoxModel",
            "_view_count": null,
            "_view_module": "@jupyter-widgets/controls",
            "_view_module_version": "1.5.0",
            "_view_name": "HBoxView",
            "box_style": "",
            "children": [
              "IPY_MODEL_579138a74eab417789dc4eb3a10e29d6",
              "IPY_MODEL_099c3c12dbfa4954aa06123a8ba20132",
              "IPY_MODEL_527ec3b35a304e2c85a5bd3358ceb595"
            ],
            "layout": "IPY_MODEL_a5876e00a16b4773b30d040903c5c76a"
          }
        },
        "579138a74eab417789dc4eb3a10e29d6": {
          "model_module": "@jupyter-widgets/controls",
          "model_name": "HTMLModel",
          "model_module_version": "1.5.0",
          "state": {
            "_dom_classes": [],
            "_model_module": "@jupyter-widgets/controls",
            "_model_module_version": "1.5.0",
            "_model_name": "HTMLModel",
            "_view_count": null,
            "_view_module": "@jupyter-widgets/controls",
            "_view_module_version": "1.5.0",
            "_view_name": "HTMLView",
            "description": "",
            "description_tooltip": null,
            "layout": "IPY_MODEL_e27b835ec55d46759f9834b46a5378f0",
            "placeholder": "​",
            "style": "IPY_MODEL_c93a4e74947a44449c9f956ac4648750",
            "value": "Downloading (…)8fc4c/tokenizer.json: 100%"
          }
        },
        "099c3c12dbfa4954aa06123a8ba20132": {
          "model_module": "@jupyter-widgets/controls",
          "model_name": "FloatProgressModel",
          "model_module_version": "1.5.0",
          "state": {
            "_dom_classes": [],
            "_model_module": "@jupyter-widgets/controls",
            "_model_module_version": "1.5.0",
            "_model_name": "FloatProgressModel",
            "_view_count": null,
            "_view_module": "@jupyter-widgets/controls",
            "_view_module_version": "1.5.0",
            "_view_name": "ProgressView",
            "bar_style": "success",
            "description": "",
            "description_tooltip": null,
            "layout": "IPY_MODEL_7424d2a330564d09a216fc02f30a8691",
            "max": 711396,
            "min": 0,
            "orientation": "horizontal",
            "style": "IPY_MODEL_aabffeef701148c49ba25ae186ea45a3",
            "value": 711396
          }
        },
        "527ec3b35a304e2c85a5bd3358ceb595": {
          "model_module": "@jupyter-widgets/controls",
          "model_name": "HTMLModel",
          "model_module_version": "1.5.0",
          "state": {
            "_dom_classes": [],
            "_model_module": "@jupyter-widgets/controls",
            "_model_module_version": "1.5.0",
            "_model_name": "HTMLModel",
            "_view_count": null,
            "_view_module": "@jupyter-widgets/controls",
            "_view_module_version": "1.5.0",
            "_view_name": "HTMLView",
            "description": "",
            "description_tooltip": null,
            "layout": "IPY_MODEL_7101d2abfedd413f8a3018d282743da8",
            "placeholder": "​",
            "style": "IPY_MODEL_1fdebb8ff54e4dc08312b841ba7b3680",
            "value": " 711k/711k [00:00&lt;00:00, 39.5MB/s]"
          }
        },
        "a5876e00a16b4773b30d040903c5c76a": {
          "model_module": "@jupyter-widgets/base",
          "model_name": "LayoutModel",
          "model_module_version": "1.2.0",
          "state": {
            "_model_module": "@jupyter-widgets/base",
            "_model_module_version": "1.2.0",
            "_model_name": "LayoutModel",
            "_view_count": null,
            "_view_module": "@jupyter-widgets/base",
            "_view_module_version": "1.2.0",
            "_view_name": "LayoutView",
            "align_content": null,
            "align_items": null,
            "align_self": null,
            "border": null,
            "bottom": null,
            "display": null,
            "flex": null,
            "flex_flow": null,
            "grid_area": null,
            "grid_auto_columns": null,
            "grid_auto_flow": null,
            "grid_auto_rows": null,
            "grid_column": null,
            "grid_gap": null,
            "grid_row": null,
            "grid_template_areas": null,
            "grid_template_columns": null,
            "grid_template_rows": null,
            "height": null,
            "justify_content": null,
            "justify_items": null,
            "left": null,
            "margin": null,
            "max_height": null,
            "max_width": null,
            "min_height": null,
            "min_width": null,
            "object_fit": null,
            "object_position": null,
            "order": null,
            "overflow": null,
            "overflow_x": null,
            "overflow_y": null,
            "padding": null,
            "right": null,
            "top": null,
            "visibility": null,
            "width": null
          }
        },
        "e27b835ec55d46759f9834b46a5378f0": {
          "model_module": "@jupyter-widgets/base",
          "model_name": "LayoutModel",
          "model_module_version": "1.2.0",
          "state": {
            "_model_module": "@jupyter-widgets/base",
            "_model_module_version": "1.2.0",
            "_model_name": "LayoutModel",
            "_view_count": null,
            "_view_module": "@jupyter-widgets/base",
            "_view_module_version": "1.2.0",
            "_view_name": "LayoutView",
            "align_content": null,
            "align_items": null,
            "align_self": null,
            "border": null,
            "bottom": null,
            "display": null,
            "flex": null,
            "flex_flow": null,
            "grid_area": null,
            "grid_auto_columns": null,
            "grid_auto_flow": null,
            "grid_auto_rows": null,
            "grid_column": null,
            "grid_gap": null,
            "grid_row": null,
            "grid_template_areas": null,
            "grid_template_columns": null,
            "grid_template_rows": null,
            "height": null,
            "justify_content": null,
            "justify_items": null,
            "left": null,
            "margin": null,
            "max_height": null,
            "max_width": null,
            "min_height": null,
            "min_width": null,
            "object_fit": null,
            "object_position": null,
            "order": null,
            "overflow": null,
            "overflow_x": null,
            "overflow_y": null,
            "padding": null,
            "right": null,
            "top": null,
            "visibility": null,
            "width": null
          }
        },
        "c93a4e74947a44449c9f956ac4648750": {
          "model_module": "@jupyter-widgets/controls",
          "model_name": "DescriptionStyleModel",
          "model_module_version": "1.5.0",
          "state": {
            "_model_module": "@jupyter-widgets/controls",
            "_model_module_version": "1.5.0",
            "_model_name": "DescriptionStyleModel",
            "_view_count": null,
            "_view_module": "@jupyter-widgets/base",
            "_view_module_version": "1.2.0",
            "_view_name": "StyleView",
            "description_width": ""
          }
        },
        "7424d2a330564d09a216fc02f30a8691": {
          "model_module": "@jupyter-widgets/base",
          "model_name": "LayoutModel",
          "model_module_version": "1.2.0",
          "state": {
            "_model_module": "@jupyter-widgets/base",
            "_model_module_version": "1.2.0",
            "_model_name": "LayoutModel",
            "_view_count": null,
            "_view_module": "@jupyter-widgets/base",
            "_view_module_version": "1.2.0",
            "_view_name": "LayoutView",
            "align_content": null,
            "align_items": null,
            "align_self": null,
            "border": null,
            "bottom": null,
            "display": null,
            "flex": null,
            "flex_flow": null,
            "grid_area": null,
            "grid_auto_columns": null,
            "grid_auto_flow": null,
            "grid_auto_rows": null,
            "grid_column": null,
            "grid_gap": null,
            "grid_row": null,
            "grid_template_areas": null,
            "grid_template_columns": null,
            "grid_template_rows": null,
            "height": null,
            "justify_content": null,
            "justify_items": null,
            "left": null,
            "margin": null,
            "max_height": null,
            "max_width": null,
            "min_height": null,
            "min_width": null,
            "object_fit": null,
            "object_position": null,
            "order": null,
            "overflow": null,
            "overflow_x": null,
            "overflow_y": null,
            "padding": null,
            "right": null,
            "top": null,
            "visibility": null,
            "width": null
          }
        },
        "aabffeef701148c49ba25ae186ea45a3": {
          "model_module": "@jupyter-widgets/controls",
          "model_name": "ProgressStyleModel",
          "model_module_version": "1.5.0",
          "state": {
            "_model_module": "@jupyter-widgets/controls",
            "_model_module_version": "1.5.0",
            "_model_name": "ProgressStyleModel",
            "_view_count": null,
            "_view_module": "@jupyter-widgets/base",
            "_view_module_version": "1.2.0",
            "_view_name": "StyleView",
            "bar_color": null,
            "description_width": ""
          }
        },
        "7101d2abfedd413f8a3018d282743da8": {
          "model_module": "@jupyter-widgets/base",
          "model_name": "LayoutModel",
          "model_module_version": "1.2.0",
          "state": {
            "_model_module": "@jupyter-widgets/base",
            "_model_module_version": "1.2.0",
            "_model_name": "LayoutModel",
            "_view_count": null,
            "_view_module": "@jupyter-widgets/base",
            "_view_module_version": "1.2.0",
            "_view_name": "LayoutView",
            "align_content": null,
            "align_items": null,
            "align_self": null,
            "border": null,
            "bottom": null,
            "display": null,
            "flex": null,
            "flex_flow": null,
            "grid_area": null,
            "grid_auto_columns": null,
            "grid_auto_flow": null,
            "grid_auto_rows": null,
            "grid_column": null,
            "grid_gap": null,
            "grid_row": null,
            "grid_template_areas": null,
            "grid_template_columns": null,
            "grid_template_rows": null,
            "height": null,
            "justify_content": null,
            "justify_items": null,
            "left": null,
            "margin": null,
            "max_height": null,
            "max_width": null,
            "min_height": null,
            "min_width": null,
            "object_fit": null,
            "object_position": null,
            "order": null,
            "overflow": null,
            "overflow_x": null,
            "overflow_y": null,
            "padding": null,
            "right": null,
            "top": null,
            "visibility": null,
            "width": null
          }
        },
        "1fdebb8ff54e4dc08312b841ba7b3680": {
          "model_module": "@jupyter-widgets/controls",
          "model_name": "DescriptionStyleModel",
          "model_module_version": "1.5.0",
          "state": {
            "_model_module": "@jupyter-widgets/controls",
            "_model_module_version": "1.5.0",
            "_model_name": "DescriptionStyleModel",
            "_view_count": null,
            "_view_module": "@jupyter-widgets/base",
            "_view_module_version": "1.2.0",
            "_view_name": "StyleView",
            "description_width": ""
          }
        },
        "8c093ee4096e475d9c40c7522d105218": {
          "model_module": "@jupyter-widgets/controls",
          "model_name": "HBoxModel",
          "model_module_version": "1.5.0",
          "state": {
            "_dom_classes": [],
            "_model_module": "@jupyter-widgets/controls",
            "_model_module_version": "1.5.0",
            "_model_name": "HBoxModel",
            "_view_count": null,
            "_view_module": "@jupyter-widgets/controls",
            "_view_module_version": "1.5.0",
            "_view_name": "HBoxView",
            "box_style": "",
            "children": [
              "IPY_MODEL_8431f79836844651bf947ed2690b4698",
              "IPY_MODEL_822b9a8a28a14a3d81807266be5f588c",
              "IPY_MODEL_3583d42fd84f48799a690c46be95c0c2"
            ],
            "layout": "IPY_MODEL_7c3c7b722eff47c194ee126c47d998fb"
          }
        },
        "8431f79836844651bf947ed2690b4698": {
          "model_module": "@jupyter-widgets/controls",
          "model_name": "HTMLModel",
          "model_module_version": "1.5.0",
          "state": {
            "_dom_classes": [],
            "_model_module": "@jupyter-widgets/controls",
            "_model_module_version": "1.5.0",
            "_model_name": "HTMLModel",
            "_view_count": null,
            "_view_module": "@jupyter-widgets/controls",
            "_view_module_version": "1.5.0",
            "_view_name": "HTMLView",
            "description": "",
            "description_tooltip": null,
            "layout": "IPY_MODEL_9c913f19bee643cb98600083247324b4",
            "placeholder": "​",
            "style": "IPY_MODEL_d27aaeae9ed2403f95ba84b23329abad",
            "value": "Downloading (…)okenizer_config.json: 100%"
          }
        },
        "822b9a8a28a14a3d81807266be5f588c": {
          "model_module": "@jupyter-widgets/controls",
          "model_name": "FloatProgressModel",
          "model_module_version": "1.5.0",
          "state": {
            "_dom_classes": [],
            "_model_module": "@jupyter-widgets/controls",
            "_model_module_version": "1.5.0",
            "_model_name": "FloatProgressModel",
            "_view_count": null,
            "_view_module": "@jupyter-widgets/controls",
            "_view_module_version": "1.5.0",
            "_view_name": "ProgressView",
            "bar_style": "success",
            "description": "",
            "description_tooltip": null,
            "layout": "IPY_MODEL_514ac8b6c0e8402aaef42330a26cb624",
            "max": 394,
            "min": 0,
            "orientation": "horizontal",
            "style": "IPY_MODEL_09a1070e43a34e21926ce7c918a80567",
            "value": 394
          }
        },
        "3583d42fd84f48799a690c46be95c0c2": {
          "model_module": "@jupyter-widgets/controls",
          "model_name": "HTMLModel",
          "model_module_version": "1.5.0",
          "state": {
            "_dom_classes": [],
            "_model_module": "@jupyter-widgets/controls",
            "_model_module_version": "1.5.0",
            "_model_name": "HTMLModel",
            "_view_count": null,
            "_view_module": "@jupyter-widgets/controls",
            "_view_module_version": "1.5.0",
            "_view_name": "HTMLView",
            "description": "",
            "description_tooltip": null,
            "layout": "IPY_MODEL_7aa0d30169094ef8bf2e5dff0b2e236f",
            "placeholder": "​",
            "style": "IPY_MODEL_0c80a482d34c49ae804054755e8f1714",
            "value": " 394/394 [00:00&lt;00:00, 34.7kB/s]"
          }
        },
        "7c3c7b722eff47c194ee126c47d998fb": {
          "model_module": "@jupyter-widgets/base",
          "model_name": "LayoutModel",
          "model_module_version": "1.2.0",
          "state": {
            "_model_module": "@jupyter-widgets/base",
            "_model_module_version": "1.2.0",
            "_model_name": "LayoutModel",
            "_view_count": null,
            "_view_module": "@jupyter-widgets/base",
            "_view_module_version": "1.2.0",
            "_view_name": "LayoutView",
            "align_content": null,
            "align_items": null,
            "align_self": null,
            "border": null,
            "bottom": null,
            "display": null,
            "flex": null,
            "flex_flow": null,
            "grid_area": null,
            "grid_auto_columns": null,
            "grid_auto_flow": null,
            "grid_auto_rows": null,
            "grid_column": null,
            "grid_gap": null,
            "grid_row": null,
            "grid_template_areas": null,
            "grid_template_columns": null,
            "grid_template_rows": null,
            "height": null,
            "justify_content": null,
            "justify_items": null,
            "left": null,
            "margin": null,
            "max_height": null,
            "max_width": null,
            "min_height": null,
            "min_width": null,
            "object_fit": null,
            "object_position": null,
            "order": null,
            "overflow": null,
            "overflow_x": null,
            "overflow_y": null,
            "padding": null,
            "right": null,
            "top": null,
            "visibility": null,
            "width": null
          }
        },
        "9c913f19bee643cb98600083247324b4": {
          "model_module": "@jupyter-widgets/base",
          "model_name": "LayoutModel",
          "model_module_version": "1.2.0",
          "state": {
            "_model_module": "@jupyter-widgets/base",
            "_model_module_version": "1.2.0",
            "_model_name": "LayoutModel",
            "_view_count": null,
            "_view_module": "@jupyter-widgets/base",
            "_view_module_version": "1.2.0",
            "_view_name": "LayoutView",
            "align_content": null,
            "align_items": null,
            "align_self": null,
            "border": null,
            "bottom": null,
            "display": null,
            "flex": null,
            "flex_flow": null,
            "grid_area": null,
            "grid_auto_columns": null,
            "grid_auto_flow": null,
            "grid_auto_rows": null,
            "grid_column": null,
            "grid_gap": null,
            "grid_row": null,
            "grid_template_areas": null,
            "grid_template_columns": null,
            "grid_template_rows": null,
            "height": null,
            "justify_content": null,
            "justify_items": null,
            "left": null,
            "margin": null,
            "max_height": null,
            "max_width": null,
            "min_height": null,
            "min_width": null,
            "object_fit": null,
            "object_position": null,
            "order": null,
            "overflow": null,
            "overflow_x": null,
            "overflow_y": null,
            "padding": null,
            "right": null,
            "top": null,
            "visibility": null,
            "width": null
          }
        },
        "d27aaeae9ed2403f95ba84b23329abad": {
          "model_module": "@jupyter-widgets/controls",
          "model_name": "DescriptionStyleModel",
          "model_module_version": "1.5.0",
          "state": {
            "_model_module": "@jupyter-widgets/controls",
            "_model_module_version": "1.5.0",
            "_model_name": "DescriptionStyleModel",
            "_view_count": null,
            "_view_module": "@jupyter-widgets/base",
            "_view_module_version": "1.2.0",
            "_view_name": "StyleView",
            "description_width": ""
          }
        },
        "514ac8b6c0e8402aaef42330a26cb624": {
          "model_module": "@jupyter-widgets/base",
          "model_name": "LayoutModel",
          "model_module_version": "1.2.0",
          "state": {
            "_model_module": "@jupyter-widgets/base",
            "_model_module_version": "1.2.0",
            "_model_name": "LayoutModel",
            "_view_count": null,
            "_view_module": "@jupyter-widgets/base",
            "_view_module_version": "1.2.0",
            "_view_name": "LayoutView",
            "align_content": null,
            "align_items": null,
            "align_self": null,
            "border": null,
            "bottom": null,
            "display": null,
            "flex": null,
            "flex_flow": null,
            "grid_area": null,
            "grid_auto_columns": null,
            "grid_auto_flow": null,
            "grid_auto_rows": null,
            "grid_column": null,
            "grid_gap": null,
            "grid_row": null,
            "grid_template_areas": null,
            "grid_template_columns": null,
            "grid_template_rows": null,
            "height": null,
            "justify_content": null,
            "justify_items": null,
            "left": null,
            "margin": null,
            "max_height": null,
            "max_width": null,
            "min_height": null,
            "min_width": null,
            "object_fit": null,
            "object_position": null,
            "order": null,
            "overflow": null,
            "overflow_x": null,
            "overflow_y": null,
            "padding": null,
            "right": null,
            "top": null,
            "visibility": null,
            "width": null
          }
        },
        "09a1070e43a34e21926ce7c918a80567": {
          "model_module": "@jupyter-widgets/controls",
          "model_name": "ProgressStyleModel",
          "model_module_version": "1.5.0",
          "state": {
            "_model_module": "@jupyter-widgets/controls",
            "_model_module_version": "1.5.0",
            "_model_name": "ProgressStyleModel",
            "_view_count": null,
            "_view_module": "@jupyter-widgets/base",
            "_view_module_version": "1.2.0",
            "_view_name": "StyleView",
            "bar_color": null,
            "description_width": ""
          }
        },
        "7aa0d30169094ef8bf2e5dff0b2e236f": {
          "model_module": "@jupyter-widgets/base",
          "model_name": "LayoutModel",
          "model_module_version": "1.2.0",
          "state": {
            "_model_module": "@jupyter-widgets/base",
            "_model_module_version": "1.2.0",
            "_model_name": "LayoutModel",
            "_view_count": null,
            "_view_module": "@jupyter-widgets/base",
            "_view_module_version": "1.2.0",
            "_view_name": "LayoutView",
            "align_content": null,
            "align_items": null,
            "align_self": null,
            "border": null,
            "bottom": null,
            "display": null,
            "flex": null,
            "flex_flow": null,
            "grid_area": null,
            "grid_auto_columns": null,
            "grid_auto_flow": null,
            "grid_auto_rows": null,
            "grid_column": null,
            "grid_gap": null,
            "grid_row": null,
            "grid_template_areas": null,
            "grid_template_columns": null,
            "grid_template_rows": null,
            "height": null,
            "justify_content": null,
            "justify_items": null,
            "left": null,
            "margin": null,
            "max_height": null,
            "max_width": null,
            "min_height": null,
            "min_width": null,
            "object_fit": null,
            "object_position": null,
            "order": null,
            "overflow": null,
            "overflow_x": null,
            "overflow_y": null,
            "padding": null,
            "right": null,
            "top": null,
            "visibility": null,
            "width": null
          }
        },
        "0c80a482d34c49ae804054755e8f1714": {
          "model_module": "@jupyter-widgets/controls",
          "model_name": "DescriptionStyleModel",
          "model_module_version": "1.5.0",
          "state": {
            "_model_module": "@jupyter-widgets/controls",
            "_model_module_version": "1.5.0",
            "_model_name": "DescriptionStyleModel",
            "_view_count": null,
            "_view_module": "@jupyter-widgets/base",
            "_view_module_version": "1.2.0",
            "_view_name": "StyleView",
            "description_width": ""
          }
        },
        "41484b9ded974124bd3b7cd420ab034e": {
          "model_module": "@jupyter-widgets/controls",
          "model_name": "HBoxModel",
          "model_module_version": "1.5.0",
          "state": {
            "_dom_classes": [],
            "_model_module": "@jupyter-widgets/controls",
            "_model_module_version": "1.5.0",
            "_model_name": "HBoxModel",
            "_view_count": null,
            "_view_module": "@jupyter-widgets/controls",
            "_view_module_version": "1.5.0",
            "_view_name": "HBoxView",
            "box_style": "",
            "children": [
              "IPY_MODEL_03e9cee8363c461d96e2fdfc741cbeba",
              "IPY_MODEL_09bf4cb67e2b4df09b014649ddb263dc",
              "IPY_MODEL_ba204e7146424dc89fe8f4d0fe99bb7e"
            ],
            "layout": "IPY_MODEL_22eefa36fd33454f9760bce516651543"
          }
        },
        "03e9cee8363c461d96e2fdfc741cbeba": {
          "model_module": "@jupyter-widgets/controls",
          "model_name": "HTMLModel",
          "model_module_version": "1.5.0",
          "state": {
            "_dom_classes": [],
            "_model_module": "@jupyter-widgets/controls",
            "_model_module_version": "1.5.0",
            "_model_name": "HTMLModel",
            "_view_count": null,
            "_view_module": "@jupyter-widgets/controls",
            "_view_module_version": "1.5.0",
            "_view_name": "HTMLView",
            "description": "",
            "description_tooltip": null,
            "layout": "IPY_MODEL_2be0c9bc0e414cf9a9d575766b8b15ac",
            "placeholder": "​",
            "style": "IPY_MODEL_965debfabfef46029783d40d4bdc56bf",
            "value": "Downloading (…)a6f2e8fc4c/vocab.txt: 100%"
          }
        },
        "09bf4cb67e2b4df09b014649ddb263dc": {
          "model_module": "@jupyter-widgets/controls",
          "model_name": "FloatProgressModel",
          "model_module_version": "1.5.0",
          "state": {
            "_dom_classes": [],
            "_model_module": "@jupyter-widgets/controls",
            "_model_module_version": "1.5.0",
            "_model_name": "FloatProgressModel",
            "_view_count": null,
            "_view_module": "@jupyter-widgets/controls",
            "_view_module_version": "1.5.0",
            "_view_name": "ProgressView",
            "bar_style": "success",
            "description": "",
            "description_tooltip": null,
            "layout": "IPY_MODEL_0d0d1f6f0e8f4650b4d9f2698f669a19",
            "max": 231508,
            "min": 0,
            "orientation": "horizontal",
            "style": "IPY_MODEL_e7cdee37cad943ba9fd85a979a932876",
            "value": 231508
          }
        },
        "ba204e7146424dc89fe8f4d0fe99bb7e": {
          "model_module": "@jupyter-widgets/controls",
          "model_name": "HTMLModel",
          "model_module_version": "1.5.0",
          "state": {
            "_dom_classes": [],
            "_model_module": "@jupyter-widgets/controls",
            "_model_module_version": "1.5.0",
            "_model_name": "HTMLModel",
            "_view_count": null,
            "_view_module": "@jupyter-widgets/controls",
            "_view_module_version": "1.5.0",
            "_view_name": "HTMLView",
            "description": "",
            "description_tooltip": null,
            "layout": "IPY_MODEL_be0e5993885c4e2c9b5f6950abcd3ab5",
            "placeholder": "​",
            "style": "IPY_MODEL_5b3df2d371ec4c0a9b4dcf9feaf666cd",
            "value": " 232k/232k [00:00&lt;00:00, 19.9MB/s]"
          }
        },
        "22eefa36fd33454f9760bce516651543": {
          "model_module": "@jupyter-widgets/base",
          "model_name": "LayoutModel",
          "model_module_version": "1.2.0",
          "state": {
            "_model_module": "@jupyter-widgets/base",
            "_model_module_version": "1.2.0",
            "_model_name": "LayoutModel",
            "_view_count": null,
            "_view_module": "@jupyter-widgets/base",
            "_view_module_version": "1.2.0",
            "_view_name": "LayoutView",
            "align_content": null,
            "align_items": null,
            "align_self": null,
            "border": null,
            "bottom": null,
            "display": null,
            "flex": null,
            "flex_flow": null,
            "grid_area": null,
            "grid_auto_columns": null,
            "grid_auto_flow": null,
            "grid_auto_rows": null,
            "grid_column": null,
            "grid_gap": null,
            "grid_row": null,
            "grid_template_areas": null,
            "grid_template_columns": null,
            "grid_template_rows": null,
            "height": null,
            "justify_content": null,
            "justify_items": null,
            "left": null,
            "margin": null,
            "max_height": null,
            "max_width": null,
            "min_height": null,
            "min_width": null,
            "object_fit": null,
            "object_position": null,
            "order": null,
            "overflow": null,
            "overflow_x": null,
            "overflow_y": null,
            "padding": null,
            "right": null,
            "top": null,
            "visibility": null,
            "width": null
          }
        },
        "2be0c9bc0e414cf9a9d575766b8b15ac": {
          "model_module": "@jupyter-widgets/base",
          "model_name": "LayoutModel",
          "model_module_version": "1.2.0",
          "state": {
            "_model_module": "@jupyter-widgets/base",
            "_model_module_version": "1.2.0",
            "_model_name": "LayoutModel",
            "_view_count": null,
            "_view_module": "@jupyter-widgets/base",
            "_view_module_version": "1.2.0",
            "_view_name": "LayoutView",
            "align_content": null,
            "align_items": null,
            "align_self": null,
            "border": null,
            "bottom": null,
            "display": null,
            "flex": null,
            "flex_flow": null,
            "grid_area": null,
            "grid_auto_columns": null,
            "grid_auto_flow": null,
            "grid_auto_rows": null,
            "grid_column": null,
            "grid_gap": null,
            "grid_row": null,
            "grid_template_areas": null,
            "grid_template_columns": null,
            "grid_template_rows": null,
            "height": null,
            "justify_content": null,
            "justify_items": null,
            "left": null,
            "margin": null,
            "max_height": null,
            "max_width": null,
            "min_height": null,
            "min_width": null,
            "object_fit": null,
            "object_position": null,
            "order": null,
            "overflow": null,
            "overflow_x": null,
            "overflow_y": null,
            "padding": null,
            "right": null,
            "top": null,
            "visibility": null,
            "width": null
          }
        },
        "965debfabfef46029783d40d4bdc56bf": {
          "model_module": "@jupyter-widgets/controls",
          "model_name": "DescriptionStyleModel",
          "model_module_version": "1.5.0",
          "state": {
            "_model_module": "@jupyter-widgets/controls",
            "_model_module_version": "1.5.0",
            "_model_name": "DescriptionStyleModel",
            "_view_count": null,
            "_view_module": "@jupyter-widgets/base",
            "_view_module_version": "1.2.0",
            "_view_name": "StyleView",
            "description_width": ""
          }
        },
        "0d0d1f6f0e8f4650b4d9f2698f669a19": {
          "model_module": "@jupyter-widgets/base",
          "model_name": "LayoutModel",
          "model_module_version": "1.2.0",
          "state": {
            "_model_module": "@jupyter-widgets/base",
            "_model_module_version": "1.2.0",
            "_model_name": "LayoutModel",
            "_view_count": null,
            "_view_module": "@jupyter-widgets/base",
            "_view_module_version": "1.2.0",
            "_view_name": "LayoutView",
            "align_content": null,
            "align_items": null,
            "align_self": null,
            "border": null,
            "bottom": null,
            "display": null,
            "flex": null,
            "flex_flow": null,
            "grid_area": null,
            "grid_auto_columns": null,
            "grid_auto_flow": null,
            "grid_auto_rows": null,
            "grid_column": null,
            "grid_gap": null,
            "grid_row": null,
            "grid_template_areas": null,
            "grid_template_columns": null,
            "grid_template_rows": null,
            "height": null,
            "justify_content": null,
            "justify_items": null,
            "left": null,
            "margin": null,
            "max_height": null,
            "max_width": null,
            "min_height": null,
            "min_width": null,
            "object_fit": null,
            "object_position": null,
            "order": null,
            "overflow": null,
            "overflow_x": null,
            "overflow_y": null,
            "padding": null,
            "right": null,
            "top": null,
            "visibility": null,
            "width": null
          }
        },
        "e7cdee37cad943ba9fd85a979a932876": {
          "model_module": "@jupyter-widgets/controls",
          "model_name": "ProgressStyleModel",
          "model_module_version": "1.5.0",
          "state": {
            "_model_module": "@jupyter-widgets/controls",
            "_model_module_version": "1.5.0",
            "_model_name": "ProgressStyleModel",
            "_view_count": null,
            "_view_module": "@jupyter-widgets/base",
            "_view_module_version": "1.2.0",
            "_view_name": "StyleView",
            "bar_color": null,
            "description_width": ""
          }
        },
        "be0e5993885c4e2c9b5f6950abcd3ab5": {
          "model_module": "@jupyter-widgets/base",
          "model_name": "LayoutModel",
          "model_module_version": "1.2.0",
          "state": {
            "_model_module": "@jupyter-widgets/base",
            "_model_module_version": "1.2.0",
            "_model_name": "LayoutModel",
            "_view_count": null,
            "_view_module": "@jupyter-widgets/base",
            "_view_module_version": "1.2.0",
            "_view_name": "LayoutView",
            "align_content": null,
            "align_items": null,
            "align_self": null,
            "border": null,
            "bottom": null,
            "display": null,
            "flex": null,
            "flex_flow": null,
            "grid_area": null,
            "grid_auto_columns": null,
            "grid_auto_flow": null,
            "grid_auto_rows": null,
            "grid_column": null,
            "grid_gap": null,
            "grid_row": null,
            "grid_template_areas": null,
            "grid_template_columns": null,
            "grid_template_rows": null,
            "height": null,
            "justify_content": null,
            "justify_items": null,
            "left": null,
            "margin": null,
            "max_height": null,
            "max_width": null,
            "min_height": null,
            "min_width": null,
            "object_fit": null,
            "object_position": null,
            "order": null,
            "overflow": null,
            "overflow_x": null,
            "overflow_y": null,
            "padding": null,
            "right": null,
            "top": null,
            "visibility": null,
            "width": null
          }
        },
        "5b3df2d371ec4c0a9b4dcf9feaf666cd": {
          "model_module": "@jupyter-widgets/controls",
          "model_name": "DescriptionStyleModel",
          "model_module_version": "1.5.0",
          "state": {
            "_model_module": "@jupyter-widgets/controls",
            "_model_module_version": "1.5.0",
            "_model_name": "DescriptionStyleModel",
            "_view_count": null,
            "_view_module": "@jupyter-widgets/base",
            "_view_module_version": "1.2.0",
            "_view_name": "StyleView",
            "description_width": ""
          }
        },
        "4b6e2e6a520c42379d6271b70599d833": {
          "model_module": "@jupyter-widgets/controls",
          "model_name": "HBoxModel",
          "model_module_version": "1.5.0",
          "state": {
            "_dom_classes": [],
            "_model_module": "@jupyter-widgets/controls",
            "_model_module_version": "1.5.0",
            "_model_name": "HBoxModel",
            "_view_count": null,
            "_view_module": "@jupyter-widgets/controls",
            "_view_module_version": "1.5.0",
            "_view_name": "HBoxView",
            "box_style": "",
            "children": [
              "IPY_MODEL_a8fb169592874d339073276339d5e226",
              "IPY_MODEL_f601c94ab6204dacb73fb110434100db",
              "IPY_MODEL_0adfa2612ab14331bbf4194373e65de0"
            ],
            "layout": "IPY_MODEL_59eaa74dff364cb09bd600fdd5c67127"
          }
        },
        "a8fb169592874d339073276339d5e226": {
          "model_module": "@jupyter-widgets/controls",
          "model_name": "HTMLModel",
          "model_module_version": "1.5.0",
          "state": {
            "_dom_classes": [],
            "_model_module": "@jupyter-widgets/controls",
            "_model_module_version": "1.5.0",
            "_model_name": "HTMLModel",
            "_view_count": null,
            "_view_module": "@jupyter-widgets/controls",
            "_view_module_version": "1.5.0",
            "_view_name": "HTMLView",
            "description": "",
            "description_tooltip": null,
            "layout": "IPY_MODEL_dd6bcc6b433d46838e439cf352f2c47c",
            "placeholder": "​",
            "style": "IPY_MODEL_3d87496fcb9747719156626abecf79d0",
            "value": "Downloading (…)2e8fc4c/modules.json: 100%"
          }
        },
        "f601c94ab6204dacb73fb110434100db": {
          "model_module": "@jupyter-widgets/controls",
          "model_name": "FloatProgressModel",
          "model_module_version": "1.5.0",
          "state": {
            "_dom_classes": [],
            "_model_module": "@jupyter-widgets/controls",
            "_model_module_version": "1.5.0",
            "_model_name": "FloatProgressModel",
            "_view_count": null,
            "_view_module": "@jupyter-widgets/controls",
            "_view_module_version": "1.5.0",
            "_view_name": "ProgressView",
            "bar_style": "success",
            "description": "",
            "description_tooltip": null,
            "layout": "IPY_MODEL_351e133d30f043b383ab1c9fe9831eb6",
            "max": 349,
            "min": 0,
            "orientation": "horizontal",
            "style": "IPY_MODEL_c4d3302bd4d04f18b2e13a48cda7fa61",
            "value": 349
          }
        },
        "0adfa2612ab14331bbf4194373e65de0": {
          "model_module": "@jupyter-widgets/controls",
          "model_name": "HTMLModel",
          "model_module_version": "1.5.0",
          "state": {
            "_dom_classes": [],
            "_model_module": "@jupyter-widgets/controls",
            "_model_module_version": "1.5.0",
            "_model_name": "HTMLModel",
            "_view_count": null,
            "_view_module": "@jupyter-widgets/controls",
            "_view_module_version": "1.5.0",
            "_view_name": "HTMLView",
            "description": "",
            "description_tooltip": null,
            "layout": "IPY_MODEL_7b0f8b66548b4d48a7df2a7701752158",
            "placeholder": "​",
            "style": "IPY_MODEL_a222462b0c8149ba9042d797ed8ef9b5",
            "value": " 349/349 [00:00&lt;00:00, 32.9kB/s]"
          }
        },
        "59eaa74dff364cb09bd600fdd5c67127": {
          "model_module": "@jupyter-widgets/base",
          "model_name": "LayoutModel",
          "model_module_version": "1.2.0",
          "state": {
            "_model_module": "@jupyter-widgets/base",
            "_model_module_version": "1.2.0",
            "_model_name": "LayoutModel",
            "_view_count": null,
            "_view_module": "@jupyter-widgets/base",
            "_view_module_version": "1.2.0",
            "_view_name": "LayoutView",
            "align_content": null,
            "align_items": null,
            "align_self": null,
            "border": null,
            "bottom": null,
            "display": null,
            "flex": null,
            "flex_flow": null,
            "grid_area": null,
            "grid_auto_columns": null,
            "grid_auto_flow": null,
            "grid_auto_rows": null,
            "grid_column": null,
            "grid_gap": null,
            "grid_row": null,
            "grid_template_areas": null,
            "grid_template_columns": null,
            "grid_template_rows": null,
            "height": null,
            "justify_content": null,
            "justify_items": null,
            "left": null,
            "margin": null,
            "max_height": null,
            "max_width": null,
            "min_height": null,
            "min_width": null,
            "object_fit": null,
            "object_position": null,
            "order": null,
            "overflow": null,
            "overflow_x": null,
            "overflow_y": null,
            "padding": null,
            "right": null,
            "top": null,
            "visibility": null,
            "width": null
          }
        },
        "dd6bcc6b433d46838e439cf352f2c47c": {
          "model_module": "@jupyter-widgets/base",
          "model_name": "LayoutModel",
          "model_module_version": "1.2.0",
          "state": {
            "_model_module": "@jupyter-widgets/base",
            "_model_module_version": "1.2.0",
            "_model_name": "LayoutModel",
            "_view_count": null,
            "_view_module": "@jupyter-widgets/base",
            "_view_module_version": "1.2.0",
            "_view_name": "LayoutView",
            "align_content": null,
            "align_items": null,
            "align_self": null,
            "border": null,
            "bottom": null,
            "display": null,
            "flex": null,
            "flex_flow": null,
            "grid_area": null,
            "grid_auto_columns": null,
            "grid_auto_flow": null,
            "grid_auto_rows": null,
            "grid_column": null,
            "grid_gap": null,
            "grid_row": null,
            "grid_template_areas": null,
            "grid_template_columns": null,
            "grid_template_rows": null,
            "height": null,
            "justify_content": null,
            "justify_items": null,
            "left": null,
            "margin": null,
            "max_height": null,
            "max_width": null,
            "min_height": null,
            "min_width": null,
            "object_fit": null,
            "object_position": null,
            "order": null,
            "overflow": null,
            "overflow_x": null,
            "overflow_y": null,
            "padding": null,
            "right": null,
            "top": null,
            "visibility": null,
            "width": null
          }
        },
        "3d87496fcb9747719156626abecf79d0": {
          "model_module": "@jupyter-widgets/controls",
          "model_name": "DescriptionStyleModel",
          "model_module_version": "1.5.0",
          "state": {
            "_model_module": "@jupyter-widgets/controls",
            "_model_module_version": "1.5.0",
            "_model_name": "DescriptionStyleModel",
            "_view_count": null,
            "_view_module": "@jupyter-widgets/base",
            "_view_module_version": "1.2.0",
            "_view_name": "StyleView",
            "description_width": ""
          }
        },
        "351e133d30f043b383ab1c9fe9831eb6": {
          "model_module": "@jupyter-widgets/base",
          "model_name": "LayoutModel",
          "model_module_version": "1.2.0",
          "state": {
            "_model_module": "@jupyter-widgets/base",
            "_model_module_version": "1.2.0",
            "_model_name": "LayoutModel",
            "_view_count": null,
            "_view_module": "@jupyter-widgets/base",
            "_view_module_version": "1.2.0",
            "_view_name": "LayoutView",
            "align_content": null,
            "align_items": null,
            "align_self": null,
            "border": null,
            "bottom": null,
            "display": null,
            "flex": null,
            "flex_flow": null,
            "grid_area": null,
            "grid_auto_columns": null,
            "grid_auto_flow": null,
            "grid_auto_rows": null,
            "grid_column": null,
            "grid_gap": null,
            "grid_row": null,
            "grid_template_areas": null,
            "grid_template_columns": null,
            "grid_template_rows": null,
            "height": null,
            "justify_content": null,
            "justify_items": null,
            "left": null,
            "margin": null,
            "max_height": null,
            "max_width": null,
            "min_height": null,
            "min_width": null,
            "object_fit": null,
            "object_position": null,
            "order": null,
            "overflow": null,
            "overflow_x": null,
            "overflow_y": null,
            "padding": null,
            "right": null,
            "top": null,
            "visibility": null,
            "width": null
          }
        },
        "c4d3302bd4d04f18b2e13a48cda7fa61": {
          "model_module": "@jupyter-widgets/controls",
          "model_name": "ProgressStyleModel",
          "model_module_version": "1.5.0",
          "state": {
            "_model_module": "@jupyter-widgets/controls",
            "_model_module_version": "1.5.0",
            "_model_name": "ProgressStyleModel",
            "_view_count": null,
            "_view_module": "@jupyter-widgets/base",
            "_view_module_version": "1.2.0",
            "_view_name": "StyleView",
            "bar_color": null,
            "description_width": ""
          }
        },
        "7b0f8b66548b4d48a7df2a7701752158": {
          "model_module": "@jupyter-widgets/base",
          "model_name": "LayoutModel",
          "model_module_version": "1.2.0",
          "state": {
            "_model_module": "@jupyter-widgets/base",
            "_model_module_version": "1.2.0",
            "_model_name": "LayoutModel",
            "_view_count": null,
            "_view_module": "@jupyter-widgets/base",
            "_view_module_version": "1.2.0",
            "_view_name": "LayoutView",
            "align_content": null,
            "align_items": null,
            "align_self": null,
            "border": null,
            "bottom": null,
            "display": null,
            "flex": null,
            "flex_flow": null,
            "grid_area": null,
            "grid_auto_columns": null,
            "grid_auto_flow": null,
            "grid_auto_rows": null,
            "grid_column": null,
            "grid_gap": null,
            "grid_row": null,
            "grid_template_areas": null,
            "grid_template_columns": null,
            "grid_template_rows": null,
            "height": null,
            "justify_content": null,
            "justify_items": null,
            "left": null,
            "margin": null,
            "max_height": null,
            "max_width": null,
            "min_height": null,
            "min_width": null,
            "object_fit": null,
            "object_position": null,
            "order": null,
            "overflow": null,
            "overflow_x": null,
            "overflow_y": null,
            "padding": null,
            "right": null,
            "top": null,
            "visibility": null,
            "width": null
          }
        },
        "a222462b0c8149ba9042d797ed8ef9b5": {
          "model_module": "@jupyter-widgets/controls",
          "model_name": "DescriptionStyleModel",
          "model_module_version": "1.5.0",
          "state": {
            "_model_module": "@jupyter-widgets/controls",
            "_model_module_version": "1.5.0",
            "_model_name": "DescriptionStyleModel",
            "_view_count": null,
            "_view_module": "@jupyter-widgets/base",
            "_view_module_version": "1.2.0",
            "_view_name": "StyleView",
            "description_width": ""
          }
        },
        "138af2b3f48e4dd4b7d16123af5a2f74": {
          "model_module": "@jupyter-widgets/controls",
          "model_name": "HBoxModel",
          "model_module_version": "1.5.0",
          "state": {
            "_dom_classes": [],
            "_model_module": "@jupyter-widgets/controls",
            "_model_module_version": "1.5.0",
            "_model_name": "HBoxModel",
            "_view_count": null,
            "_view_module": "@jupyter-widgets/controls",
            "_view_module_version": "1.5.0",
            "_view_name": "HBoxView",
            "box_style": "",
            "children": [
              "IPY_MODEL_5fa0441b48d7496abadc387738f6041c",
              "IPY_MODEL_8992243552c04d65bb4cc3028ecbe530",
              "IPY_MODEL_e6a627cd1b7744eb9c37f527271879e8"
            ],
            "layout": "IPY_MODEL_e34d374b3b014b6c9cc0d8adaefee496"
          }
        },
        "5fa0441b48d7496abadc387738f6041c": {
          "model_module": "@jupyter-widgets/controls",
          "model_name": "HTMLModel",
          "model_module_version": "1.5.0",
          "state": {
            "_dom_classes": [],
            "_model_module": "@jupyter-widgets/controls",
            "_model_module_version": "1.5.0",
            "_model_name": "HTMLModel",
            "_view_count": null,
            "_view_module": "@jupyter-widgets/controls",
            "_view_module_version": "1.5.0",
            "_view_name": "HTMLView",
            "description": "",
            "description_tooltip": null,
            "layout": "IPY_MODEL_aa24b111f1db4b3396d31db4bce2b975",
            "placeholder": "​",
            "style": "IPY_MODEL_5d32ba2f5a54431b9b2481fa5854cc11",
            "value": "100%"
          }
        },
        "8992243552c04d65bb4cc3028ecbe530": {
          "model_module": "@jupyter-widgets/controls",
          "model_name": "FloatProgressModel",
          "model_module_version": "1.5.0",
          "state": {
            "_dom_classes": [],
            "_model_module": "@jupyter-widgets/controls",
            "_model_module_version": "1.5.0",
            "_model_name": "FloatProgressModel",
            "_view_count": null,
            "_view_module": "@jupyter-widgets/controls",
            "_view_module_version": "1.5.0",
            "_view_name": "ProgressView",
            "bar_style": "success",
            "description": "",
            "description_tooltip": null,
            "layout": "IPY_MODEL_57c27b308ac74cf38156627c8bdd41da",
            "max": 34,
            "min": 0,
            "orientation": "horizontal",
            "style": "IPY_MODEL_d03713dda0b7428c884018301d115057",
            "value": 34
          }
        },
        "e6a627cd1b7744eb9c37f527271879e8": {
          "model_module": "@jupyter-widgets/controls",
          "model_name": "HTMLModel",
          "model_module_version": "1.5.0",
          "state": {
            "_dom_classes": [],
            "_model_module": "@jupyter-widgets/controls",
            "_model_module_version": "1.5.0",
            "_model_name": "HTMLModel",
            "_view_count": null,
            "_view_module": "@jupyter-widgets/controls",
            "_view_module_version": "1.5.0",
            "_view_name": "HTMLView",
            "description": "",
            "description_tooltip": null,
            "layout": "IPY_MODEL_4dacd33a3d16472ab1b698440458366d",
            "placeholder": "​",
            "style": "IPY_MODEL_4505123b40a0449890a75348722a7f24",
            "value": " 34/34 [2:26:36&lt;00:00, 341.57s/it]"
          }
        },
        "e34d374b3b014b6c9cc0d8adaefee496": {
          "model_module": "@jupyter-widgets/base",
          "model_name": "LayoutModel",
          "model_module_version": "1.2.0",
          "state": {
            "_model_module": "@jupyter-widgets/base",
            "_model_module_version": "1.2.0",
            "_model_name": "LayoutModel",
            "_view_count": null,
            "_view_module": "@jupyter-widgets/base",
            "_view_module_version": "1.2.0",
            "_view_name": "LayoutView",
            "align_content": null,
            "align_items": null,
            "align_self": null,
            "border": null,
            "bottom": null,
            "display": null,
            "flex": null,
            "flex_flow": null,
            "grid_area": null,
            "grid_auto_columns": null,
            "grid_auto_flow": null,
            "grid_auto_rows": null,
            "grid_column": null,
            "grid_gap": null,
            "grid_row": null,
            "grid_template_areas": null,
            "grid_template_columns": null,
            "grid_template_rows": null,
            "height": null,
            "justify_content": null,
            "justify_items": null,
            "left": null,
            "margin": null,
            "max_height": null,
            "max_width": null,
            "min_height": null,
            "min_width": null,
            "object_fit": null,
            "object_position": null,
            "order": null,
            "overflow": null,
            "overflow_x": null,
            "overflow_y": null,
            "padding": null,
            "right": null,
            "top": null,
            "visibility": null,
            "width": null
          }
        },
        "aa24b111f1db4b3396d31db4bce2b975": {
          "model_module": "@jupyter-widgets/base",
          "model_name": "LayoutModel",
          "model_module_version": "1.2.0",
          "state": {
            "_model_module": "@jupyter-widgets/base",
            "_model_module_version": "1.2.0",
            "_model_name": "LayoutModel",
            "_view_count": null,
            "_view_module": "@jupyter-widgets/base",
            "_view_module_version": "1.2.0",
            "_view_name": "LayoutView",
            "align_content": null,
            "align_items": null,
            "align_self": null,
            "border": null,
            "bottom": null,
            "display": null,
            "flex": null,
            "flex_flow": null,
            "grid_area": null,
            "grid_auto_columns": null,
            "grid_auto_flow": null,
            "grid_auto_rows": null,
            "grid_column": null,
            "grid_gap": null,
            "grid_row": null,
            "grid_template_areas": null,
            "grid_template_columns": null,
            "grid_template_rows": null,
            "height": null,
            "justify_content": null,
            "justify_items": null,
            "left": null,
            "margin": null,
            "max_height": null,
            "max_width": null,
            "min_height": null,
            "min_width": null,
            "object_fit": null,
            "object_position": null,
            "order": null,
            "overflow": null,
            "overflow_x": null,
            "overflow_y": null,
            "padding": null,
            "right": null,
            "top": null,
            "visibility": null,
            "width": null
          }
        },
        "5d32ba2f5a54431b9b2481fa5854cc11": {
          "model_module": "@jupyter-widgets/controls",
          "model_name": "DescriptionStyleModel",
          "model_module_version": "1.5.0",
          "state": {
            "_model_module": "@jupyter-widgets/controls",
            "_model_module_version": "1.5.0",
            "_model_name": "DescriptionStyleModel",
            "_view_count": null,
            "_view_module": "@jupyter-widgets/base",
            "_view_module_version": "1.2.0",
            "_view_name": "StyleView",
            "description_width": ""
          }
        },
        "57c27b308ac74cf38156627c8bdd41da": {
          "model_module": "@jupyter-widgets/base",
          "model_name": "LayoutModel",
          "model_module_version": "1.2.0",
          "state": {
            "_model_module": "@jupyter-widgets/base",
            "_model_module_version": "1.2.0",
            "_model_name": "LayoutModel",
            "_view_count": null,
            "_view_module": "@jupyter-widgets/base",
            "_view_module_version": "1.2.0",
            "_view_name": "LayoutView",
            "align_content": null,
            "align_items": null,
            "align_self": null,
            "border": null,
            "bottom": null,
            "display": null,
            "flex": null,
            "flex_flow": null,
            "grid_area": null,
            "grid_auto_columns": null,
            "grid_auto_flow": null,
            "grid_auto_rows": null,
            "grid_column": null,
            "grid_gap": null,
            "grid_row": null,
            "grid_template_areas": null,
            "grid_template_columns": null,
            "grid_template_rows": null,
            "height": null,
            "justify_content": null,
            "justify_items": null,
            "left": null,
            "margin": null,
            "max_height": null,
            "max_width": null,
            "min_height": null,
            "min_width": null,
            "object_fit": null,
            "object_position": null,
            "order": null,
            "overflow": null,
            "overflow_x": null,
            "overflow_y": null,
            "padding": null,
            "right": null,
            "top": null,
            "visibility": null,
            "width": null
          }
        },
        "d03713dda0b7428c884018301d115057": {
          "model_module": "@jupyter-widgets/controls",
          "model_name": "ProgressStyleModel",
          "model_module_version": "1.5.0",
          "state": {
            "_model_module": "@jupyter-widgets/controls",
            "_model_module_version": "1.5.0",
            "_model_name": "ProgressStyleModel",
            "_view_count": null,
            "_view_module": "@jupyter-widgets/base",
            "_view_module_version": "1.2.0",
            "_view_name": "StyleView",
            "bar_color": null,
            "description_width": ""
          }
        },
        "4dacd33a3d16472ab1b698440458366d": {
          "model_module": "@jupyter-widgets/base",
          "model_name": "LayoutModel",
          "model_module_version": "1.2.0",
          "state": {
            "_model_module": "@jupyter-widgets/base",
            "_model_module_version": "1.2.0",
            "_model_name": "LayoutModel",
            "_view_count": null,
            "_view_module": "@jupyter-widgets/base",
            "_view_module_version": "1.2.0",
            "_view_name": "LayoutView",
            "align_content": null,
            "align_items": null,
            "align_self": null,
            "border": null,
            "bottom": null,
            "display": null,
            "flex": null,
            "flex_flow": null,
            "grid_area": null,
            "grid_auto_columns": null,
            "grid_auto_flow": null,
            "grid_auto_rows": null,
            "grid_column": null,
            "grid_gap": null,
            "grid_row": null,
            "grid_template_areas": null,
            "grid_template_columns": null,
            "grid_template_rows": null,
            "height": null,
            "justify_content": null,
            "justify_items": null,
            "left": null,
            "margin": null,
            "max_height": null,
            "max_width": null,
            "min_height": null,
            "min_width": null,
            "object_fit": null,
            "object_position": null,
            "order": null,
            "overflow": null,
            "overflow_x": null,
            "overflow_y": null,
            "padding": null,
            "right": null,
            "top": null,
            "visibility": null,
            "width": null
          }
        },
        "4505123b40a0449890a75348722a7f24": {
          "model_module": "@jupyter-widgets/controls",
          "model_name": "DescriptionStyleModel",
          "model_module_version": "1.5.0",
          "state": {
            "_model_module": "@jupyter-widgets/controls",
            "_model_module_version": "1.5.0",
            "_model_name": "DescriptionStyleModel",
            "_view_count": null,
            "_view_module": "@jupyter-widgets/base",
            "_view_module_version": "1.2.0",
            "_view_name": "StyleView",
            "description_width": ""
          }
        }
      }
    }
  },
  "nbformat": 4,
  "nbformat_minor": 0
}