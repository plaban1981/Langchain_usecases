{
  "nbformat": 4,
  "nbformat_minor": 0,
  "metadata": {
    "colab": {
      "provenance": [],
      "authorship_tag": "ABX9TyPNQSzuY8E3WrmzKwZHJXgD",
      "include_colab_link": true
    },
    "kernelspec": {
      "name": "python3",
      "display_name": "Python 3"
    },
    "language_info": {
      "name": "python"
    }
  },
  "cells": [
    {
      "cell_type": "markdown",
      "metadata": {
        "id": "view-in-github",
        "colab_type": "text"
      },
      "source": [
        "<a href=\"https://colab.research.google.com/github/plaban1981/Langchain_usecases/blob/main/Check_Scanned_PDF.ipynb\" target=\"_parent\"><img src=\"https://colab.research.google.com/assets/colab-badge.svg\" alt=\"Open In Colab\"/></a>"
      ]
    },
    {
      "cell_type": "code",
      "execution_count": 1,
      "metadata": {
        "colab": {
          "base_uri": "https://localhost:8080/"
        },
        "id": "1vPA4L_bd8iN",
        "outputId": "c89b899b-8d78-44cc-b03f-f06c980e0e13"
      },
      "outputs": [
        {
          "output_type": "stream",
          "name": "stdout",
          "text": [
            "Reading package lists... Done\n",
            "Building dependency tree       \n",
            "Reading state information... Done\n",
            "The following additional packages will be installed:\n",
            "  tesseract-ocr-eng tesseract-ocr-osd\n",
            "The following NEW packages will be installed:\n",
            "  tesseract-ocr tesseract-ocr-eng tesseract-ocr-osd\n",
            "0 upgraded, 3 newly installed, 0 to remove and 15 not upgraded.\n",
            "Need to get 4,850 kB of archives.\n",
            "After this operation, 16.3 MB of additional disk space will be used.\n",
            "Get:1 http://archive.ubuntu.com/ubuntu focal/universe amd64 tesseract-ocr-eng all 1:4.00~git30-7274cfa-1 [1,598 kB]\n",
            "Get:2 http://archive.ubuntu.com/ubuntu focal/universe amd64 tesseract-ocr-osd all 1:4.00~git30-7274cfa-1 [2,990 kB]\n",
            "Get:3 http://archive.ubuntu.com/ubuntu focal/universe amd64 tesseract-ocr amd64 4.1.1-2build2 [262 kB]\n",
            "Fetched 4,850 kB in 0s (25.8 MB/s)\n",
            "Selecting previously unselected package tesseract-ocr-eng.\n",
            "(Reading database ... 123105 files and directories currently installed.)\n",
            "Preparing to unpack .../tesseract-ocr-eng_1%3a4.00~git30-7274cfa-1_all.deb ...\n",
            "Unpacking tesseract-ocr-eng (1:4.00~git30-7274cfa-1) ...\n",
            "Selecting previously unselected package tesseract-ocr-osd.\n",
            "Preparing to unpack .../tesseract-ocr-osd_1%3a4.00~git30-7274cfa-1_all.deb ...\n",
            "Unpacking tesseract-ocr-osd (1:4.00~git30-7274cfa-1) ...\n",
            "Selecting previously unselected package tesseract-ocr.\n",
            "Preparing to unpack .../tesseract-ocr_4.1.1-2build2_amd64.deb ...\n",
            "Unpacking tesseract-ocr (4.1.1-2build2) ...\n",
            "Setting up tesseract-ocr-eng (1:4.00~git30-7274cfa-1) ...\n",
            "Setting up tesseract-ocr-osd (1:4.00~git30-7274cfa-1) ...\n",
            "Setting up tesseract-ocr (4.1.1-2build2) ...\n",
            "Processing triggers for man-db (2.9.1-1) ...\n"
          ]
        }
      ],
      "source": [
        "!apt install tesseract-ocr"
      ]
    },
    {
      "cell_type": "code",
      "source": [
        "! pip install -U pytesseract"
      ],
      "metadata": {
        "colab": {
          "base_uri": "https://localhost:8080/"
        },
        "id": "igYyi_4nfDpr",
        "outputId": "070285f9-fa10-4b2a-edc4-eed7738bc0e4"
      },
      "execution_count": 2,
      "outputs": [
        {
          "output_type": "stream",
          "name": "stdout",
          "text": [
            "Collecting pytesseract\n",
            "  Downloading pytesseract-0.3.10-py3-none-any.whl (14 kB)\n",
            "Requirement already satisfied: packaging>=21.3 in /usr/local/lib/python3.10/dist-packages (from pytesseract) (23.1)\n",
            "Requirement already satisfied: Pillow>=8.0.0 in /usr/local/lib/python3.10/dist-packages (from pytesseract) (8.4.0)\n",
            "Installing collected packages: pytesseract\n",
            "Successfully installed pytesseract-0.3.10\n"
          ]
        }
      ]
    },
    {
      "cell_type": "code",
      "source": [
        "! pip install pypdf"
      ],
      "metadata": {
        "colab": {
          "base_uri": "https://localhost:8080/"
        },
        "id": "lxFUOwwmsNE3",
        "outputId": "c64b8790-b553-4162-a695-df8a6cd8426d"
      },
      "execution_count": 3,
      "outputs": [
        {
          "output_type": "stream",
          "name": "stdout",
          "text": [
            "Collecting pypdf\n",
            "  Downloading pypdf-3.12.1-py3-none-any.whl (254 kB)\n",
            "\u001b[?25l     \u001b[90m━━━━━━━━━━━━━━━━━━━━━━━━━━━━━━━━━━━━━━━━\u001b[0m \u001b[32m0.0/254.8 kB\u001b[0m \u001b[31m?\u001b[0m eta \u001b[36m-:--:--\u001b[0m\r\u001b[2K     \u001b[90m━━━━━━━━━━━━━━━━━━━━━━━━━━━━━━━━━━━━━━\u001b[0m \u001b[32m254.8/254.8 kB\u001b[0m \u001b[31m12.3 MB/s\u001b[0m eta \u001b[36m0:00:00\u001b[0m\n",
            "\u001b[?25hInstalling collected packages: pypdf\n",
            "Successfully installed pypdf-3.12.1\n"
          ]
        }
      ]
    },
    {
      "cell_type": "code",
      "source": [
        "! pip install pypdf2"
      ],
      "metadata": {
        "colab": {
          "base_uri": "https://localhost:8080/"
        },
        "id": "SV4iWzmksa7C",
        "outputId": "f8cf9a90-af67-4161-f45d-3e3f325ac23a"
      },
      "execution_count": 5,
      "outputs": [
        {
          "output_type": "stream",
          "name": "stdout",
          "text": [
            "Collecting pypdf2\n",
            "  Downloading pypdf2-3.0.1-py3-none-any.whl (232 kB)\n",
            "\u001b[?25l     \u001b[90m━━━━━━━━━━━━━━━━━━━━━━━━━━━━━━━━━━━━━━━━\u001b[0m \u001b[32m0.0/232.6 kB\u001b[0m \u001b[31m?\u001b[0m eta \u001b[36m-:--:--\u001b[0m\r\u001b[2K     \u001b[90m━━━━━━━━━━━━━━━━━━━━━━━━━━━━━━━━━━━━━━\u001b[0m \u001b[32m232.6/232.6 kB\u001b[0m \u001b[31m10.0 MB/s\u001b[0m eta \u001b[36m0:00:00\u001b[0m\n",
            "\u001b[?25hInstalling collected packages: pypdf2\n",
            "Successfully installed pypdf2-3.0.1\n"
          ]
        }
      ]
    },
    {
      "cell_type": "code",
      "source": [
        "! pip install pdf2image"
      ],
      "metadata": {
        "colab": {
          "base_uri": "https://localhost:8080/"
        },
        "id": "KISqL6J9sirq",
        "outputId": "275fad78-cf7a-49b8-d0e6-bb0df59b0fb2"
      },
      "execution_count": 7,
      "outputs": [
        {
          "output_type": "stream",
          "name": "stdout",
          "text": [
            "Collecting pdf2image\n",
            "  Downloading pdf2image-1.16.3-py3-none-any.whl (11 kB)\n",
            "Requirement already satisfied: pillow in /usr/local/lib/python3.10/dist-packages (from pdf2image) (8.4.0)\n",
            "Installing collected packages: pdf2image\n",
            "Successfully installed pdf2image-1.16.3\n"
          ]
        }
      ]
    },
    {
      "cell_type": "code",
      "source": [
        "!pip install pdfplumber -q"
      ],
      "metadata": {
        "colab": {
          "base_uri": "https://localhost:8080/"
        },
        "id": "lt37al2KwFDk",
        "outputId": "37e0fe32-44cd-474f-f408-3720a306f5d6"
      },
      "execution_count": 21,
      "outputs": [
        {
          "output_type": "stream",
          "name": "stdout",
          "text": [
            "\u001b[?25l     \u001b[90m━━━━━━━━━━━━━━━━━━━━━━━━━━━━━━━━━━━━━━━━\u001b[0m \u001b[32m0.0/46.1 kB\u001b[0m \u001b[31m?\u001b[0m eta \u001b[36m-:--:--\u001b[0m\r\u001b[2K     \u001b[90m━━━━━━━━━━━━━━━━━━━━━━━━━━━━━━━━━━━━━━━━\u001b[0m \u001b[32m46.1/46.1 kB\u001b[0m \u001b[31m2.8 MB/s\u001b[0m eta \u001b[36m0:00:00\u001b[0m\n",
            "\u001b[2K     \u001b[90m━━━━━━━━━━━━━━━━━━━━━━━━━━━━━━━━━━━━━━━━\u001b[0m \u001b[32m5.6/5.6 MB\u001b[0m \u001b[31m71.6 MB/s\u001b[0m eta \u001b[36m0:00:00\u001b[0m\n",
            "\u001b[2K     \u001b[90m━━━━━━━━━━━━━━━━━━━━━━━━━━━━━━━━━━━━━━━━\u001b[0m \u001b[32m3.4/3.4 MB\u001b[0m \u001b[31m87.9 MB/s\u001b[0m eta \u001b[36m0:00:00\u001b[0m\n",
            "\u001b[2K     \u001b[90m━━━━━━━━━━━━━━━━━━━━━━━━━━━━━━━━━━━━━━\u001b[0m \u001b[32m143.6/143.6 kB\u001b[0m \u001b[31m14.7 MB/s\u001b[0m eta \u001b[36m0:00:00\u001b[0m\n",
            "\u001b[2K     \u001b[90m━━━━━━━━━━━━━━━━━━━━━━━━━━━━━━━━━━━━━━━━\u001b[0m \u001b[32m4.3/4.3 MB\u001b[0m \u001b[31m85.9 MB/s\u001b[0m eta \u001b[36m0:00:00\u001b[0m\n",
            "\u001b[?25h"
          ]
        }
      ]
    },
    {
      "cell_type": "code",
      "source": [
        "!apt-get install ocrmypdf -q"
      ],
      "metadata": {
        "colab": {
          "base_uri": "https://localhost:8080/"
        },
        "id": "04vXkbASwJGb",
        "outputId": "c5d33db6-0353-4325-d061-ad71b240535f"
      },
      "execution_count": 22,
      "outputs": [
        {
          "output_type": "stream",
          "name": "stdout",
          "text": [
            "Reading package lists...\n",
            "Building dependency tree...\n",
            "Reading state information...\n",
            "The following additional packages will be installed:\n",
            "  fonts-droid-fallback fonts-noto-mono fonts-urw-base35 ghostscript\n",
            "  icc-profiles-free libgs9 libgs9-common libidn11 libijs-0.35 libimagequant0\n",
            "  libjbig2dec0 libqpdf26 pngquant poppler-data python3-bs4\n",
            "  python3-cffi-backend python3-crypto python3-html5lib python3-img2pdf\n",
            "  python3-lxml python3-olefile python3-pdfminer python3-pikepdf python3-pil\n",
            "  python3-renderpm python3-reportlab python3-reportlab-accel\n",
            "  python3-sortedcontainers python3-soupsieve python3-tqdm python3-webencodings\n",
            "  unpaper\n",
            "Suggested packages:\n",
            "  fonts-noto fonts-freefont-otf | fonts-freefont-ttf fonts-texgyre\n",
            "  ghostscript-x ocrmypdf-doc python-watchdog img2pdf poppler-utils\n",
            "  fonts-japanese-mincho | fonts-ipafont-mincho fonts-japanese-gothic\n",
            "  | fonts-ipafont-gothic fonts-arphic-ukai fonts-arphic-uming fonts-nanum\n",
            "  python3-genshi python3-pdfrw python3-lxml-dbg python-lxml-doc pdfminer-data\n",
            "  python-pil-doc python3-pil-dbg python3-renderpm-dbg pdf-viewer\n",
            "  python3-egenix-mxtexttools python-reportlab-doc python-sortedcontainers-doc\n",
            "The following NEW packages will be installed:\n",
            "  fonts-droid-fallback fonts-noto-mono fonts-urw-base35 ghostscript\n",
            "  icc-profiles-free libgs9 libgs9-common libidn11 libijs-0.35 libimagequant0\n",
            "  libjbig2dec0 libqpdf26 ocrmypdf pngquant poppler-data python3-bs4\n",
            "  python3-cffi-backend python3-crypto python3-html5lib python3-img2pdf\n",
            "  python3-lxml python3-olefile python3-pdfminer python3-pikepdf python3-pil\n",
            "  python3-renderpm python3-reportlab python3-reportlab-accel\n",
            "  python3-sortedcontainers python3-soupsieve python3-tqdm python3-webencodings\n",
            "  unpaper\n",
            "0 upgraded, 33 newly installed, 0 to remove and 15 not upgraded.\n",
            "Need to get 17.5 MB of archives.\n",
            "After this operation, 71.0 MB of additional disk space will be used.\n",
            "Get:1 http://archive.ubuntu.com/ubuntu focal/main amd64 fonts-droid-fallback all 1:6.0.1r16-1.1 [1,805 kB]\n",
            "Get:2 http://archive.ubuntu.com/ubuntu focal/main amd64 poppler-data all 0.4.9-2 [1,475 kB]\n",
            "Get:3 http://archive.ubuntu.com/ubuntu focal/main amd64 python3-cffi-backend amd64 1.14.0-1build1 [68.7 kB]\n",
            "Get:4 http://archive.ubuntu.com/ubuntu focal-updates/main amd64 fonts-noto-mono all 20200323-1build1~ubuntu20.04.1 [80.6 kB]\n",
            "Get:5 http://archive.ubuntu.com/ubuntu focal/main amd64 fonts-urw-base35 all 20170801.1-3 [6,333 kB]\n",
            "Get:6 http://archive.ubuntu.com/ubuntu focal-updates/main amd64 libgs9-common all 9.50~dfsg-5ubuntu4.8 [681 kB]\n",
            "Get:7 http://archive.ubuntu.com/ubuntu focal/main amd64 libidn11 amd64 1.33-2.2ubuntu2 [46.2 kB]\n",
            "Get:8 http://archive.ubuntu.com/ubuntu focal/main amd64 libijs-0.35 amd64 0.35-15 [15.7 kB]\n",
            "Get:9 http://archive.ubuntu.com/ubuntu focal/main amd64 libjbig2dec0 amd64 0.18-1ubuntu1 [60.0 kB]\n",
            "Get:10 http://archive.ubuntu.com/ubuntu focal-updates/main amd64 libgs9 amd64 9.50~dfsg-5ubuntu4.8 [2,173 kB]\n",
            "Get:11 http://archive.ubuntu.com/ubuntu focal-updates/main amd64 ghostscript amd64 9.50~dfsg-5ubuntu4.8 [51.9 kB]\n",
            "Get:12 http://archive.ubuntu.com/ubuntu focal/main amd64 icc-profiles-free all 2.0.1+dfsg-1 [549 kB]\n",
            "Get:13 http://archive.ubuntu.com/ubuntu focal/main amd64 libimagequant0 amd64 2.12.2-1.1 [31.4 kB]\n",
            "Get:14 http://archive.ubuntu.com/ubuntu focal-updates/main amd64 libqpdf26 amd64 9.1.1-1ubuntu0.1 [421 kB]\n",
            "Get:15 http://archive.ubuntu.com/ubuntu focal/main amd64 python3-sortedcontainers all 2.1.0-2 [27.3 kB]\n",
            "Get:16 http://archive.ubuntu.com/ubuntu focal/universe amd64 python3-pdfminer all 20191020+dfsg-2 [96.1 kB]\n",
            "Get:17 http://archive.ubuntu.com/ubuntu focal-updates/main amd64 python3-pil amd64 7.0.0-4ubuntu0.7 [366 kB]\n",
            "Get:18 http://archive.ubuntu.com/ubuntu focal-updates/main amd64 python3-reportlab-accel amd64 3.5.34-1ubuntu1.1 [19.5 kB]\n",
            "Get:19 http://archive.ubuntu.com/ubuntu focal-updates/main amd64 python3-reportlab all 3.5.34-1ubuntu1.1 [547 kB]\n",
            "Get:20 http://archive.ubuntu.com/ubuntu focal/universe amd64 python3-img2pdf all 0.3.3-1ubuntu3.1 [28.4 kB]\n",
            "Get:21 http://archive.ubuntu.com/ubuntu focal-updates/main amd64 python3-lxml amd64 4.5.0-1ubuntu0.5 [1,384 kB]\n",
            "Get:22 http://archive.ubuntu.com/ubuntu focal/universe amd64 python3-pikepdf amd64 1.10.3+dfsg-1 [296 kB]\n",
            "Get:23 http://archive.ubuntu.com/ubuntu focal/universe amd64 python3-tqdm all 4.30.0-1 [68.4 kB]\n",
            "Get:24 http://archive.ubuntu.com/ubuntu focal/universe amd64 ocrmypdf all 9.6.0+dfsg-1 [107 kB]\n",
            "Get:25 http://archive.ubuntu.com/ubuntu focal/universe amd64 pngquant amd64 2.12.2-1 [19.2 kB]\n",
            "Get:26 http://archive.ubuntu.com/ubuntu focal/main amd64 python3-soupsieve all 1.9.5+dfsg-1 [29.1 kB]\n",
            "Get:27 http://archive.ubuntu.com/ubuntu focal/main amd64 python3-bs4 all 4.8.2-1 [83.0 kB]\n",
            "Get:28 http://archive.ubuntu.com/ubuntu focal/main amd64 python3-crypto amd64 2.6.1-13ubuntu2 [237 kB]\n",
            "Get:29 http://archive.ubuntu.com/ubuntu focal/main amd64 python3-webencodings all 0.5.1-1ubuntu1 [11.0 kB]\n",
            "Get:30 http://archive.ubuntu.com/ubuntu focal/main amd64 python3-html5lib all 1.0.1-2 [84.3 kB]\n",
            "Get:31 http://archive.ubuntu.com/ubuntu focal/main amd64 python3-olefile all 0.46-2 [33.7 kB]\n",
            "Get:32 http://archive.ubuntu.com/ubuntu focal-updates/main amd64 python3-renderpm amd64 3.5.34-1ubuntu1.1 [60.6 kB]\n",
            "Get:33 http://archive.ubuntu.com/ubuntu focal/universe amd64 unpaper amd64 6.1-2build1 [243 kB]\n",
            "Fetched 17.5 MB in 1s (18.1 MB/s)\n",
            "Extracting templates from packages: 100%\n",
            "Selecting previously unselected package fonts-droid-fallback.\n",
            "(Reading database ... 123152 files and directories currently installed.)\n",
            "Preparing to unpack .../00-fonts-droid-fallback_1%3a6.0.1r16-1.1_all.deb ...\n",
            "Unpacking fonts-droid-fallback (1:6.0.1r16-1.1) ...\n",
            "Selecting previously unselected package poppler-data.\n",
            "Preparing to unpack .../01-poppler-data_0.4.9-2_all.deb ...\n",
            "Unpacking poppler-data (0.4.9-2) ...\n",
            "Selecting previously unselected package python3-cffi-backend.\n",
            "Preparing to unpack .../02-python3-cffi-backend_1.14.0-1build1_amd64.deb ...\n",
            "Unpacking python3-cffi-backend (1.14.0-1build1) ...\n",
            "Selecting previously unselected package fonts-noto-mono.\n",
            "Preparing to unpack .../03-fonts-noto-mono_20200323-1build1~ubuntu20.04.1_all.deb ...\n",
            "Unpacking fonts-noto-mono (20200323-1build1~ubuntu20.04.1) ...\n",
            "Selecting previously unselected package fonts-urw-base35.\n",
            "Preparing to unpack .../04-fonts-urw-base35_20170801.1-3_all.deb ...\n",
            "Unpacking fonts-urw-base35 (20170801.1-3) ...\n",
            "Selecting previously unselected package libgs9-common.\n",
            "Preparing to unpack .../05-libgs9-common_9.50~dfsg-5ubuntu4.8_all.deb ...\n",
            "Unpacking libgs9-common (9.50~dfsg-5ubuntu4.8) ...\n",
            "Selecting previously unselected package libidn11:amd64.\n",
            "Preparing to unpack .../06-libidn11_1.33-2.2ubuntu2_amd64.deb ...\n",
            "Unpacking libidn11:amd64 (1.33-2.2ubuntu2) ...\n",
            "Selecting previously unselected package libijs-0.35:amd64.\n",
            "Preparing to unpack .../07-libijs-0.35_0.35-15_amd64.deb ...\n",
            "Unpacking libijs-0.35:amd64 (0.35-15) ...\n",
            "Selecting previously unselected package libjbig2dec0:amd64.\n",
            "Preparing to unpack .../08-libjbig2dec0_0.18-1ubuntu1_amd64.deb ...\n",
            "Unpacking libjbig2dec0:amd64 (0.18-1ubuntu1) ...\n",
            "Selecting previously unselected package libgs9:amd64.\n",
            "Preparing to unpack .../09-libgs9_9.50~dfsg-5ubuntu4.8_amd64.deb ...\n",
            "Unpacking libgs9:amd64 (9.50~dfsg-5ubuntu4.8) ...\n",
            "Selecting previously unselected package ghostscript.\n",
            "Preparing to unpack .../10-ghostscript_9.50~dfsg-5ubuntu4.8_amd64.deb ...\n",
            "Unpacking ghostscript (9.50~dfsg-5ubuntu4.8) ...\n",
            "Selecting previously unselected package icc-profiles-free.\n",
            "Preparing to unpack .../11-icc-profiles-free_2.0.1+dfsg-1_all.deb ...\n",
            "Unpacking icc-profiles-free (2.0.1+dfsg-1) ...\n",
            "Selecting previously unselected package libimagequant0:amd64.\n",
            "Preparing to unpack .../12-libimagequant0_2.12.2-1.1_amd64.deb ...\n",
            "Unpacking libimagequant0:amd64 (2.12.2-1.1) ...\n",
            "Selecting previously unselected package libqpdf26:amd64.\n",
            "Preparing to unpack .../13-libqpdf26_9.1.1-1ubuntu0.1_amd64.deb ...\n",
            "Unpacking libqpdf26:amd64 (9.1.1-1ubuntu0.1) ...\n",
            "Selecting previously unselected package python3-sortedcontainers.\n",
            "Preparing to unpack .../14-python3-sortedcontainers_2.1.0-2_all.deb ...\n",
            "Unpacking python3-sortedcontainers (2.1.0-2) ...\n",
            "Selecting previously unselected package python3-pdfminer.\n",
            "Preparing to unpack .../15-python3-pdfminer_20191020+dfsg-2_all.deb ...\n",
            "Unpacking python3-pdfminer (20191020+dfsg-2) ...\n",
            "Selecting previously unselected package python3-pil:amd64.\n",
            "Preparing to unpack .../16-python3-pil_7.0.0-4ubuntu0.7_amd64.deb ...\n",
            "Unpacking python3-pil:amd64 (7.0.0-4ubuntu0.7) ...\n",
            "Selecting previously unselected package python3-reportlab-accel:amd64.\n",
            "Preparing to unpack .../17-python3-reportlab-accel_3.5.34-1ubuntu1.1_amd64.deb ...\n",
            "Unpacking python3-reportlab-accel:amd64 (3.5.34-1ubuntu1.1) ...\n",
            "Selecting previously unselected package python3-reportlab.\n",
            "Preparing to unpack .../18-python3-reportlab_3.5.34-1ubuntu1.1_all.deb ...\n",
            "Unpacking python3-reportlab (3.5.34-1ubuntu1.1) ...\n",
            "Selecting previously unselected package python3-img2pdf.\n",
            "Preparing to unpack .../19-python3-img2pdf_0.3.3-1ubuntu3.1_all.deb ...\n",
            "Unpacking python3-img2pdf (0.3.3-1ubuntu3.1) ...\n",
            "Selecting previously unselected package python3-lxml:amd64.\n",
            "Preparing to unpack .../20-python3-lxml_4.5.0-1ubuntu0.5_amd64.deb ...\n",
            "Unpacking python3-lxml:amd64 (4.5.0-1ubuntu0.5) ...\n",
            "Selecting previously unselected package python3-pikepdf.\n",
            "Preparing to unpack .../21-python3-pikepdf_1.10.3+dfsg-1_amd64.deb ...\n",
            "Unpacking python3-pikepdf (1.10.3+dfsg-1) ...\n",
            "Selecting previously unselected package python3-tqdm.\n",
            "Preparing to unpack .../22-python3-tqdm_4.30.0-1_all.deb ...\n",
            "Unpacking python3-tqdm (4.30.0-1) ...\n",
            "Selecting previously unselected package ocrmypdf.\n",
            "Preparing to unpack .../23-ocrmypdf_9.6.0+dfsg-1_all.deb ...\n",
            "Unpacking ocrmypdf (9.6.0+dfsg-1) ...\n",
            "Selecting previously unselected package pngquant.\n",
            "Preparing to unpack .../24-pngquant_2.12.2-1_amd64.deb ...\n",
            "Unpacking pngquant (2.12.2-1) ...\n",
            "Selecting previously unselected package python3-soupsieve.\n",
            "Preparing to unpack .../25-python3-soupsieve_1.9.5+dfsg-1_all.deb ...\n",
            "Unpacking python3-soupsieve (1.9.5+dfsg-1) ...\n",
            "Selecting previously unselected package python3-bs4.\n",
            "Preparing to unpack .../26-python3-bs4_4.8.2-1_all.deb ...\n",
            "Unpacking python3-bs4 (4.8.2-1) ...\n",
            "Selecting previously unselected package python3-crypto.\n",
            "Preparing to unpack .../27-python3-crypto_2.6.1-13ubuntu2_amd64.deb ...\n",
            "Unpacking python3-crypto (2.6.1-13ubuntu2) ...\n",
            "Selecting previously unselected package python3-webencodings.\n",
            "Preparing to unpack .../28-python3-webencodings_0.5.1-1ubuntu1_all.deb ...\n",
            "Unpacking python3-webencodings (0.5.1-1ubuntu1) ...\n",
            "Selecting previously unselected package python3-html5lib.\n",
            "Preparing to unpack .../29-python3-html5lib_1.0.1-2_all.deb ...\n",
            "Unpacking python3-html5lib (1.0.1-2) ...\n",
            "Selecting previously unselected package python3-olefile.\n",
            "Preparing to unpack .../30-python3-olefile_0.46-2_all.deb ...\n",
            "Unpacking python3-olefile (0.46-2) ...\n",
            "Selecting previously unselected package python3-renderpm:amd64.\n",
            "Preparing to unpack .../31-python3-renderpm_3.5.34-1ubuntu1.1_amd64.deb ...\n",
            "Unpacking python3-renderpm:amd64 (3.5.34-1ubuntu1.1) ...\n",
            "Selecting previously unselected package unpaper.\n",
            "Preparing to unpack .../32-unpaper_6.1-2build1_amd64.deb ...\n",
            "Unpacking unpaper (6.1-2build1) ...\n",
            "Setting up fonts-noto-mono (20200323-1build1~ubuntu20.04.1) ...\n",
            "Setting up libqpdf26:amd64 (9.1.1-1ubuntu0.1) ...\n",
            "Setting up libijs-0.35:amd64 (0.35-15) ...\n",
            "Setting up python3-olefile (0.46-2) ...\n",
            "Setting up python3-tqdm (4.30.0-1) ...\n",
            "Setting up python3-sortedcontainers (2.1.0-2) ...\n",
            "Setting up fonts-urw-base35 (20170801.1-3) ...\n",
            "Setting up python3-webencodings (0.5.1-1ubuntu1) ...\n",
            "Setting up poppler-data (0.4.9-2) ...\n",
            "Setting up libjbig2dec0:amd64 (0.18-1ubuntu1) ...\n",
            "Setting up libidn11:amd64 (1.33-2.2ubuntu2) ...\n",
            "Setting up python3-reportlab-accel:amd64 (3.5.34-1ubuntu1.1) ...\n",
            "Setting up libimagequant0:amd64 (2.12.2-1.1) ...\n",
            "Setting up icc-profiles-free (2.0.1+dfsg-1) ...\n",
            "Setting up python3-html5lib (1.0.1-2) ...\n",
            "Setting up unpaper (6.1-2build1) ...\n",
            "Setting up python3-lxml:amd64 (4.5.0-1ubuntu0.5) ...\n",
            "Setting up python3-crypto (2.6.1-13ubuntu2) ...\n",
            "Setting up fonts-droid-fallback (1:6.0.1r16-1.1) ...\n",
            "Setting up python3-soupsieve (1.9.5+dfsg-1) ...\n",
            "Setting up python3-cffi-backend (1.14.0-1build1) ...\n",
            "Setting up libgs9-common (9.50~dfsg-5ubuntu4.8) ...\n",
            "Setting up python3-renderpm:amd64 (3.5.34-1ubuntu1.1) ...\n",
            "Setting up python3-pdfminer (20191020+dfsg-2) ...\n",
            "Setting up libgs9:amd64 (9.50~dfsg-5ubuntu4.8) ...\n",
            "Setting up ghostscript (9.50~dfsg-5ubuntu4.8) ...\n",
            "Setting up python3-bs4 (4.8.2-1) ...\n",
            "Setting up python3-pikepdf (1.10.3+dfsg-1) ...\n",
            "Setting up python3-pil:amd64 (7.0.0-4ubuntu0.7) ...\n",
            "Setting up pngquant (2.12.2-1) ...\n",
            "Setting up python3-reportlab (3.5.34-1ubuntu1.1) ...\n",
            "Setting up python3-img2pdf (0.3.3-1ubuntu3.1) ...\n",
            "Setting up ocrmypdf (9.6.0+dfsg-1) ...\n",
            "Processing triggers for libc-bin (2.31-0ubuntu9.9) ...\n",
            "Processing triggers for man-db (2.9.1-1) ...\n",
            "Processing triggers for fontconfig (2.13.1-2ubuntu3) ...\n"
          ]
        }
      ]
    },
    {
      "cell_type": "code",
      "source": [
        "import PyPDF2\n",
        "from PIL import Image\n",
        "import pytesseract\n",
        "from pdf2image import convert_from_path"
      ],
      "metadata": {
        "id": "t2Lpxy4HsVWx"
      },
      "execution_count": 8,
      "outputs": []
    },
    {
      "cell_type": "code",
      "source": [
        "from PyPDF2 import PdfReader"
      ],
      "metadata": {
        "id": "zr2St-0zvTVK"
      },
      "execution_count": 16,
      "outputs": []
    },
    {
      "cell_type": "code",
      "source": [
        "file_path = \"/content/trade.pdf\""
      ],
      "metadata": {
        "id": "HERHEIk4uHDp"
      },
      "execution_count": 10,
      "outputs": []
    },
    {
      "cell_type": "code",
      "source": [
        "def is_scanned_pdf(file_path):\n",
        "    pdf_reader = PdfReader(file_path)\n",
        "    text = \"\"\n",
        "    for page in pdf_reader.pages:\n",
        "      text += page.extract_text()\n",
        "\n",
        "    # if no text found, it is likely a scanned pdf\n",
        "    if text == \"\":\n",
        "        print(\"Scanned PDF\")\n",
        "        return True\n",
        "\n",
        "    else:\n",
        "        print(\"Text-based PDF\")\n",
        "        return False\n"
      ],
      "metadata": {
        "id": "pngGk6lfsS7y"
      },
      "execution_count": 19,
      "outputs": []
    },
    {
      "cell_type": "code",
      "source": [
        "is_scanned_pdf(file_path)"
      ],
      "metadata": {
        "colab": {
          "base_uri": "https://localhost:8080/"
        },
        "id": "P4BOb75quLsh",
        "outputId": "6c726bbc-881a-4ecc-a096-2483fc0edf2d"
      },
      "execution_count": 20,
      "outputs": [
        {
          "output_type": "stream",
          "name": "stdout",
          "text": [
            "Scanned PDF\n"
          ]
        },
        {
          "output_type": "execute_result",
          "data": {
            "text/plain": [
              "True"
            ]
          },
          "metadata": {},
          "execution_count": 20
        }
      ]
    },
    {
      "cell_type": "code",
      "source": [
        "import pdfplumber\n",
        "with pdfplumber.open(file_path) as pdf:\n",
        "    page = pdf.pages[0]\n",
        "    text = page.extract_text(x_tolerance=2)\n",
        "    print(text)"
      ],
      "metadata": {
        "colab": {
          "base_uri": "https://localhost:8080/"
        },
        "id": "D1rJT5XrwYNk",
        "outputId": "f3e7c680-d720-4ec9-8506-092a7cd5666a"
      },
      "execution_count": 23,
      "outputs": [
        {
          "output_type": "stream",
          "name": "stdout",
          "text": [
            "\n"
          ]
        }
      ]
    },
    {
      "cell_type": "code",
      "source": [
        "! apt-get install poppler-utils"
      ],
      "metadata": {
        "colab": {
          "base_uri": "https://localhost:8080/"
        },
        "id": "COYJoIlg0Oyl",
        "outputId": "4b50be81-bf2c-4208-c2a3-fb23e6d473f2"
      },
      "execution_count": 6,
      "outputs": [
        {
          "output_type": "stream",
          "name": "stdout",
          "text": [
            "Reading package lists... Done\n",
            "Building dependency tree       \n",
            "Reading state information... Done\n",
            "The following NEW packages will be installed:\n",
            "  poppler-utils\n",
            "0 upgraded, 1 newly installed, 0 to remove and 15 not upgraded.\n",
            "Need to get 174 kB of archives.\n",
            "After this operation, 754 kB of additional disk space will be used.\n",
            "Get:1 http://archive.ubuntu.com/ubuntu focal-updates/main amd64 poppler-utils amd64 0.86.1-0ubuntu1.1 [174 kB]\n",
            "Fetched 174 kB in 1s (337 kB/s)\n",
            "Selecting previously unselected package poppler-utils.\n",
            "(Reading database ... 125169 files and directories currently installed.)\n",
            "Preparing to unpack .../poppler-utils_0.86.1-0ubuntu1.1_amd64.deb ...\n",
            "Unpacking poppler-utils (0.86.1-0ubuntu1.1) ...\n",
            "Setting up poppler-utils (0.86.1-0ubuntu1.1) ...\n",
            "Processing triggers for man-db (2.9.1-1) ...\n"
          ]
        }
      ]
    },
    {
      "cell_type": "code",
      "source": [
        "from pdf2image import convert_from_path\n",
        "\n",
        "pdfs = \"/content/trade.pdf\"\n",
        "pages = convert_from_path(pdfs, 350)\n",
        "\n",
        "i = 1\n",
        "for page in pages:\n",
        "    image_name = \"Page_\" + str(i) + \".jpg\"\n",
        "    page.save(image_name, \"JPEG\")\n",
        "    i = i+1"
      ],
      "metadata": {
        "id": "Iht5HxgR0FE6"
      },
      "execution_count": 7,
      "outputs": []
    },
    {
      "cell_type": "code",
      "source": [
        "import pytesseract\n",
        "import shutil\n",
        "import os\n",
        "import random\n",
        "from PIL import Image\n"
      ],
      "metadata": {
        "id": "JgeDOBb0xVn8"
      },
      "execution_count": 3,
      "outputs": []
    },
    {
      "cell_type": "code",
      "source": [
        "image_path_in_colab=\"/content/Page_1.jpg\"\n",
        "extractedInformation = pytesseract.image_to_string(Image.open(image_path_in_colab))\n",
        "print(extractedInformation)"
      ],
      "metadata": {
        "colab": {
          "base_uri": "https://localhost:8080/"
        },
        "id": "b_sbUtF5zERH",
        "outputId": "da4386ce-dce8-4f09-a7de-cf49de72c502"
      },
      "execution_count": 8,
      "outputs": [
        {
          "output_type": "stream",
          "name": "stdout",
          "text": [
            "ij\n",
            "\n",
            "@ KEYTRADE ORIGINAL\n",
            "\n",
            "Buyer:\n",
            "GOULDING CHEMICALS LTD.,\n",
            "CENTRE PARK ROAD,\n",
            "\n",
            "MARINA, CORK\n",
            "SWITZERLAND IRELAND\n",
            "VAT NO: NL822947778B01 VAT NO: IE8Z56076R\n",
            "\n",
            " \n",
            "\n",
            "COMMERCIAL INVOICE NO: 0000448 DATE: 28 March 2018\n",
            "NO. NUMBER CODE NAME NO TERMS\n",
            "CELINA\n",
            "201710299 FREE\n",
            "\n",
            "Description of Goods QUANTITY UNIT PRICE AMOUNT\n",
            "\n",
            "(Metric Tons)! (EUR Per MT) (EUR)\n",
            "\n",
            "  \n",
            " \n",
            "\n",
            "    \n",
            "\n",
            "GRANULAR CALCIUM AMMONIUM NITRATE (CAN) 27 % IN BULK\n",
            "\n",
            "5'476.100 183.00 4'002'126.30\n",
            "CIF FOYNES\n",
            "\n",
            "TOTAL AMOUNT CIF FOYNES, IRELAND, EUR 4'002'126.30\n",
            "\n",
            "VAT ZERO RATE IN CONFORMITY WITH ARTICLE 141 EC DIRECTIVE 2006/112\n",
            "\n",
            "TOTAL VAT RATE VAT AMOUNT EUR TOTAL oe\n",
            "\n",
            "PAYMENT: BY TT WITHIN 90 DAYS FROM B/L DATE (28.03.2018), I.E. LATEST BY 26 JUNE 2018\n",
            "\n",
            " \n",
            "\n",
            "Shipment details:\n",
            "\n",
            "PORT OF LOADING : KLAIPEDA, LITHUANIA\n",
            "PORT OF DISCHARGE: FOYNES, IRELAND\n",
            "\n",
            "BILL OF LADING : 5'476.100 METRIC TONS\n",
            "BILL OF LADING NO. 1\n",
            "BILL OF LADING DATE: 28 March 2018\n",
            "\n",
            "ORIGIN: LITHUANIA\n",
            "\n",
            "Unless otherwise provided in the sales contract or agreed to in writing, the amount IRENEFICIARY'S BANK DETAILS:\n",
            "\n",
            "shown on this invoice is to be pald on or before due date by Telegraphic Transfer of | CREDIT EUROPE BANK N.V\n",
            "\n",
            "immediately available funds. “\n",
            "\n",
            "interest will be charged for any amounts not paid within the term of this invoice. | SWIFT: FBHLNLZAXXX\n",
            "\n",
            "This invoice is subject to the terms and conditions |KEYTRADE AG EUR ACCOUNT: 07813 17 614\n",
            "\n",
            "set forth in KEYTRADE AG's sales contract. IBAN NO: NL45 FBHL 0781 3176 14\n",
            "\n",
            "merry te ACY\n",
            "ZURCHEROTRA SF Ari\n",
            "'\n",
            "\n",
            "wit, oy\n",
            "HooOe\n",
            "\n",
            "ee ms\n",
            "VAT ta ar NLELLOS\n",
            "\n",
            " \n",
            "\n",
            " \n",
            "  \n",
            " \n",
            "\n",
            "  \n",
            "\f\n"
          ]
        }
      ]
    },
    {
      "cell_type": "code",
      "source": [
        "text = extractedInformation.split(\"\\n\")"
      ],
      "metadata": {
        "id": "vpFDoiqF1noZ"
      },
      "execution_count": 9,
      "outputs": []
    },
    {
      "cell_type": "code",
      "source": [
        "text"
      ],
      "metadata": {
        "colab": {
          "base_uri": "https://localhost:8080/"
        },
        "id": "vtgA3jZb1rqZ",
        "outputId": "520ba42c-d2ad-4e2a-9ef9-b6eaf2941ef0"
      },
      "execution_count": 10,
      "outputs": [
        {
          "output_type": "execute_result",
          "data": {
            "text/plain": [
              "['ij',\n",
              " '',\n",
              " '@ KEYTRADE ORIGINAL',\n",
              " '',\n",
              " 'Buyer:',\n",
              " 'GOULDING CHEMICALS LTD.,',\n",
              " 'CENTRE PARK ROAD,',\n",
              " '',\n",
              " 'MARINA, CORK',\n",
              " 'SWITZERLAND IRELAND',\n",
              " 'VAT NO: NL822947778B01 VAT NO: IE8Z56076R',\n",
              " '',\n",
              " ' ',\n",
              " '',\n",
              " 'COMMERCIAL INVOICE NO: 0000448 DATE: 28 March 2018',\n",
              " 'NO. NUMBER CODE NAME NO TERMS',\n",
              " 'CELINA',\n",
              " '201710299 FREE',\n",
              " '',\n",
              " 'Description of Goods QUANTITY UNIT PRICE AMOUNT',\n",
              " '',\n",
              " '(Metric Tons)! (EUR Per MT) (EUR)',\n",
              " '',\n",
              " '  ',\n",
              " ' ',\n",
              " '',\n",
              " '    ',\n",
              " '',\n",
              " 'GRANULAR CALCIUM AMMONIUM NITRATE (CAN) 27 % IN BULK',\n",
              " '',\n",
              " \"5'476.100 183.00 4'002'126.30\",\n",
              " 'CIF FOYNES',\n",
              " '',\n",
              " \"TOTAL AMOUNT CIF FOYNES, IRELAND, EUR 4'002'126.30\",\n",
              " '',\n",
              " 'VAT ZERO RATE IN CONFORMITY WITH ARTICLE 141 EC DIRECTIVE 2006/112',\n",
              " '',\n",
              " 'TOTAL VAT RATE VAT AMOUNT EUR TOTAL oe',\n",
              " '',\n",
              " 'PAYMENT: BY TT WITHIN 90 DAYS FROM B/L DATE (28.03.2018), I.E. LATEST BY 26 JUNE 2018',\n",
              " '',\n",
              " ' ',\n",
              " '',\n",
              " 'Shipment details:',\n",
              " '',\n",
              " 'PORT OF LOADING : KLAIPEDA, LITHUANIA',\n",
              " 'PORT OF DISCHARGE: FOYNES, IRELAND',\n",
              " '',\n",
              " \"BILL OF LADING : 5'476.100 METRIC TONS\",\n",
              " 'BILL OF LADING NO. 1',\n",
              " 'BILL OF LADING DATE: 28 March 2018',\n",
              " '',\n",
              " 'ORIGIN: LITHUANIA',\n",
              " '',\n",
              " \"Unless otherwise provided in the sales contract or agreed to in writing, the amount IRENEFICIARY'S BANK DETAILS:\",\n",
              " '',\n",
              " 'shown on this invoice is to be pald on or before due date by Telegraphic Transfer of | CREDIT EUROPE BANK N.V',\n",
              " '',\n",
              " 'immediately available funds. “',\n",
              " '',\n",
              " 'interest will be charged for any amounts not paid within the term of this invoice. | SWIFT: FBHLNLZAXXX',\n",
              " '',\n",
              " 'This invoice is subject to the terms and conditions |KEYTRADE AG EUR ACCOUNT: 07813 17 614',\n",
              " '',\n",
              " \"set forth in KEYTRADE AG's sales contract. IBAN NO: NL45 FBHL 0781 3176 14\",\n",
              " '',\n",
              " 'merry te ACY',\n",
              " 'ZURCHEROTRA SF Ari',\n",
              " \"'\",\n",
              " '',\n",
              " 'wit, oy',\n",
              " 'HooOe',\n",
              " '',\n",
              " 'ee ms',\n",
              " 'VAT ta ar NLELLOS',\n",
              " '',\n",
              " ' ',\n",
              " '',\n",
              " ' ',\n",
              " '  ',\n",
              " ' ',\n",
              " '',\n",
              " '  ',\n",
              " '\\x0c']"
            ]
          },
          "metadata": {},
          "execution_count": 10
        }
      ]
    },
    {
      "cell_type": "code",
      "source": [
        "!pip install -qU langchain PyPDF2 openai tiktoken faiss-cpu"
      ],
      "metadata": {
        "colab": {
          "base_uri": "https://localhost:8080/"
        },
        "id": "_bhbfIPD1v0S",
        "outputId": "2c12c5c3-e572-42be-a22f-cb844d9f3f8c"
      },
      "execution_count": 11,
      "outputs": [
        {
          "output_type": "stream",
          "name": "stdout",
          "text": [
            "\u001b[2K     \u001b[90m━━━━━━━━━━━━━━━━━━━━━━━━━━━━━━━━━━━━━━━━\u001b[0m \u001b[32m1.3/1.3 MB\u001b[0m \u001b[31m29.9 MB/s\u001b[0m eta \u001b[36m0:00:00\u001b[0m\n",
            "\u001b[2K     \u001b[90m━━━━━━━━━━━━━━━━━━━━━━━━━━━━━━━━━━━━━━━━\u001b[0m \u001b[32m73.6/73.6 kB\u001b[0m \u001b[31m6.9 MB/s\u001b[0m eta \u001b[36m0:00:00\u001b[0m\n",
            "\u001b[2K     \u001b[90m━━━━━━━━━━━━━━━━━━━━━━━━━━━━━━━━━━━━━━━━\u001b[0m \u001b[32m1.7/1.7 MB\u001b[0m \u001b[31m63.8 MB/s\u001b[0m eta \u001b[36m0:00:00\u001b[0m\n",
            "\u001b[2K     \u001b[90m━━━━━━━━━━━━━━━━━━━━━━━━━━━━━━━━━━━━━━━━\u001b[0m \u001b[32m17.6/17.6 MB\u001b[0m \u001b[31m49.9 MB/s\u001b[0m eta \u001b[36m0:00:00\u001b[0m\n",
            "\u001b[2K     \u001b[90m━━━━━━━━━━━━━━━━━━━━━━━━━━━━━━━━━━━━━━━━\u001b[0m \u001b[32m90.0/90.0 kB\u001b[0m \u001b[31m8.7 MB/s\u001b[0m eta \u001b[36m0:00:00\u001b[0m\n",
            "\u001b[2K     \u001b[90m━━━━━━━━━━━━━━━━━━━━━━━━━━━━━━━━━━━━━━━━\u001b[0m \u001b[32m49.1/49.1 kB\u001b[0m \u001b[31m4.5 MB/s\u001b[0m eta \u001b[36m0:00:00\u001b[0m\n",
            "\u001b[?25h"
          ]
        }
      ]
    },
    {
      "cell_type": "code",
      "source": [
        "import openai\n",
        "from PyPDF2 import PdfReader\n",
        "from langchain.text_splitter import CharacterTextSplitter\n",
        "from langchain.embeddings import OpenAIEmbeddings, HuggingFaceInstructEmbeddings\n",
        "from langchain.vectorstores import FAISS\n",
        "from langchain.chat_models import ChatOpenAI\n",
        "from langchain.memory import ConversationBufferMemory\n",
        "from langchain.chains import ConversationalRetrievalChain\n",
        "\n",
        "# from htmlTemplates import css, bot_template, user_template\n",
        "from langchain.llms import HuggingFaceHub\n",
        "from getpass import getpass\n",
        "import os\n",
        "import json"
      ],
      "metadata": {
        "id": "ipSDwOGF2LcV"
      },
      "execution_count": 13,
      "outputs": []
    },
    {
      "cell_type": "code",
      "source": [
        "os.environ[\"OPENAI_API_KEY\"] = getpass()"
      ],
      "metadata": {
        "colab": {
          "base_uri": "https://localhost:8080/"
        },
        "id": "E73osl0j2PYx",
        "outputId": "5fd24f72-8132-42bd-d3ee-e3d2862c4e18"
      },
      "execution_count": 14,
      "outputs": [
        {
          "name": "stdout",
          "output_type": "stream",
          "text": [
            "··········\n"
          ]
        }
      ]
    },
    {
      "cell_type": "code",
      "source": [
        "#\n",
        "def get_pdf_text(pdf_docs):\n",
        "    text = \"\"\n",
        "    for pdf in pdf_docs:\n",
        "        pdf_reader = PdfReader(pdf)\n",
        "        for page in pdf_reader.pages:\n",
        "            text += page.extract_text()\n",
        "    return text\n",
        "\n",
        "\n",
        "def get_text_chunks(text):\n",
        "    text_splitter = CharacterTextSplitter(\n",
        "        separator=\"\\n\", chunk_size=1000, chunk_overlap=200, length_function=len\n",
        "    )\n",
        "    chunks = text_splitter.split_text(text)\n",
        "    return chunks\n",
        "\n",
        "\n",
        "def get_vectorstore(text_chunks,api_key):\n",
        "    embeddings = OpenAIEmbeddings(openai_api_key=api_key)\n",
        "    # embeddings = HuggingFaceInstructEmbeddings(model_name=\"hkunlp/instructor-xl\")\n",
        "    vectorstore = FAISS.from_texts(texts=text_chunks, embedding=embeddings)\n",
        "    return vectorstore\n",
        "\n",
        "\n",
        "def get_conversation_chain(vectorstore,api_key):\n",
        "    llm = ChatOpenAI(openai_api_key=api_key)\n",
        "    # llm = HuggingFaceHub(repo_id=\"google/flan-t5-xxl\", model_kwargs={\"temperature\":0.5, \"max_length\":512})\n",
        "\n",
        "    memory = ConversationBufferMemory(memory_key=\"chat_history\", return_messages=True)\n",
        "    conversation_chain = ConversationalRetrievalChain.from_llm(\n",
        "        llm=llm, retriever=vectorstore.as_retriever(), memory=memory\n",
        "    )\n",
        "    return conversation_chain\n",
        "\n",
        "#\n",
        "\n"
      ],
      "metadata": {
        "id": "IyzQmdKI2aBi"
      },
      "execution_count": 15,
      "outputs": []
    },
    {
      "cell_type": "code",
      "source": [
        "chunks = get_text_chunks(extractedInformation)\n",
        "chunks\n",
        ""
      ],
      "metadata": {
        "colab": {
          "base_uri": "https://localhost:8080/"
        },
        "id": "_hMM4Of821M2",
        "outputId": "532b208c-ad95-4d05-d819-36904e2b3fdd"
      },
      "execution_count": 17,
      "outputs": [
        {
          "output_type": "execute_result",
          "data": {
            "text/plain": [
              "[\"ij\\n@ KEYTRADE ORIGINAL\\nBuyer:\\nGOULDING CHEMICALS LTD.,\\nCENTRE PARK ROAD,\\nMARINA, CORK\\nSWITZERLAND IRELAND\\nVAT NO: NL822947778B01 VAT NO: IE8Z56076R\\n \\nCOMMERCIAL INVOICE NO: 0000448 DATE: 28 March 2018\\nNO. NUMBER CODE NAME NO TERMS\\nCELINA\\n201710299 FREE\\nDescription of Goods QUANTITY UNIT PRICE AMOUNT\\n(Metric Tons)! (EUR Per MT) (EUR)\\n  \\n \\n    \\nGRANULAR CALCIUM AMMONIUM NITRATE (CAN) 27 % IN BULK\\n5'476.100 183.00 4'002'126.30\\nCIF FOYNES\\nTOTAL AMOUNT CIF FOYNES, IRELAND, EUR 4'002'126.30\\nVAT ZERO RATE IN CONFORMITY WITH ARTICLE 141 EC DIRECTIVE 2006/112\\nTOTAL VAT RATE VAT AMOUNT EUR TOTAL oe\\nPAYMENT: BY TT WITHIN 90 DAYS FROM B/L DATE (28.03.2018), I.E. LATEST BY 26 JUNE 2018\\n \\nShipment details:\\nPORT OF LOADING : KLAIPEDA, LITHUANIA\\nPORT OF DISCHARGE: FOYNES, IRELAND\\nBILL OF LADING : 5'476.100 METRIC TONS\\nBILL OF LADING NO. 1\\nBILL OF LADING DATE: 28 March 2018\\nORIGIN: LITHUANIA\\nUnless otherwise provided in the sales contract or agreed to in writing, the amount IRENEFICIARY'S BANK DETAILS:\",\n",
              " \"BILL OF LADING NO. 1\\nBILL OF LADING DATE: 28 March 2018\\nORIGIN: LITHUANIA\\nUnless otherwise provided in the sales contract or agreed to in writing, the amount IRENEFICIARY'S BANK DETAILS:\\nshown on this invoice is to be pald on or before due date by Telegraphic Transfer of | CREDIT EUROPE BANK N.V\\nimmediately available funds. “\\ninterest will be charged for any amounts not paid within the term of this invoice. | SWIFT: FBHLNLZAXXX\\nThis invoice is subject to the terms and conditions |KEYTRADE AG EUR ACCOUNT: 07813 17 614\\nset forth in KEYTRADE AG's sales contract. IBAN NO: NL45 FBHL 0781 3176 14\\nmerry te ACY\\nZURCHEROTRA SF Ari\\n'\\nwit, oy\\nHooOe\\nee ms\\nVAT ta ar NLELLOS\"]"
            ]
          },
          "metadata": {},
          "execution_count": 17
        }
      ]
    },
    {
      "cell_type": "code",
      "source": [
        "vb = get_vectorstore(chunks,os.environ[\"OPENAI_API_KEY\"])"
      ],
      "metadata": {
        "id": "VENvHI9j3Bng"
      },
      "execution_count": 18,
      "outputs": []
    },
    {
      "cell_type": "code",
      "source": [
        "ca = get_conversation_chain(vb,os.environ[\"OPENAI_API_KEY\"])"
      ],
      "metadata": {
        "id": "_mz7Ko-Q3WJL"
      },
      "execution_count": 19,
      "outputs": []
    },
    {
      "cell_type": "code",
      "source": [
        "ca.run(\"What is the payment date?\")"
      ],
      "metadata": {
        "colab": {
          "base_uri": "https://localhost:8080/",
          "height": 53
        },
        "id": "vqROEsEO3gYP",
        "outputId": "72eb7f45-b917-4a3e-e556-6b05ca8b375a"
      },
      "execution_count": 20,
      "outputs": [
        {
          "output_type": "execute_result",
          "data": {
            "text/plain": [
              "'The payment date is within 90 days from the Bill of Lading date, which is March 28, 2018. Therefore, the latest payment date would be June 26, 2018.'"
            ],
            "application/vnd.google.colaboratory.intrinsic+json": {
              "type": "string"
            }
          },
          "metadata": {},
          "execution_count": 20
        }
      ]
    },
    {
      "cell_type": "code",
      "source": [
        "ca.run(\"What is the payment amount?\")"
      ],
      "metadata": {
        "colab": {
          "base_uri": "https://localhost:8080/",
          "height": 35
        },
        "id": "dKZxhK1C3wH4",
        "outputId": "f679d5a6-eb25-4281-8c74-113d292aaa8c"
      },
      "execution_count": 21,
      "outputs": [
        {
          "output_type": "execute_result",
          "data": {
            "text/plain": [
              "\"The total payment is EUR 4'002'126.30.\""
            ],
            "application/vnd.google.colaboratory.intrinsic+json": {
              "type": "string"
            }
          },
          "metadata": {},
          "execution_count": 21
        }
      ]
    },
    {
      "cell_type": "code",
      "source": [
        "ca.run(\"What is the plading date?\")"
      ],
      "metadata": {
        "colab": {
          "base_uri": "https://localhost:8080/",
          "height": 35
        },
        "id": "Wgrru7dV4hII",
        "outputId": "637aa76c-2499-4356-9692-de5c9b7e21af"
      },
      "execution_count": 22,
      "outputs": [
        {
          "output_type": "execute_result",
          "data": {
            "text/plain": [
              "'The plading date is 28 March 2018.'"
            ],
            "application/vnd.google.colaboratory.intrinsic+json": {
              "type": "string"
            }
          },
          "metadata": {},
          "execution_count": 22
        }
      ]
    },
    {
      "cell_type": "code",
      "source": [
        "ca.run(\"Will interest be charged if the amount is not paid within due date?\")"
      ],
      "metadata": {
        "colab": {
          "base_uri": "https://localhost:8080/",
          "height": 53
        },
        "id": "AuCb7oUi4qxA",
        "outputId": "f8dc48a8-185d-4f48-ddd8-205cd748597d"
      },
      "execution_count": 23,
      "outputs": [
        {
          "output_type": "execute_result",
          "data": {
            "text/plain": [
              "'Yes, according to the information provided, interest will be charged for any amounts not paid within the term of the invoice.'"
            ],
            "application/vnd.google.colaboratory.intrinsic+json": {
              "type": "string"
            }
          },
          "metadata": {},
          "execution_count": 23
        }
      ]
    }
  ]
}