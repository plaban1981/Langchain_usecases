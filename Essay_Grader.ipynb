{
  "nbformat": 4,
  "nbformat_minor": 0,
  "metadata": {
    "colab": {
      "provenance": [],
      "authorship_tag": "ABX9TyN55NBpqQd0e+ts8zgLfCt7",
      "include_colab_link": true
    },
    "kernelspec": {
      "name": "python3",
      "display_name": "Python 3"
    },
    "language_info": {
      "name": "python"
    }
  },
  "cells": [
    {
      "cell_type": "markdown",
      "metadata": {
        "id": "view-in-github",
        "colab_type": "text"
      },
      "source": [
        "<a href=\"https://colab.research.google.com/github/plaban1981/Langchain_usecases/blob/main/Essay_Grader.ipynb\" target=\"_parent\"><img src=\"https://colab.research.google.com/assets/colab-badge.svg\" alt=\"Open In Colab\"/></a>"
      ]
    },
    {
      "cell_type": "code",
      "source": [
        "pip install -qU openai langchain"
      ],
      "metadata": {
        "colab": {
          "base_uri": "https://localhost:8080/"
        },
        "id": "xODlhnduDux0",
        "outputId": "d38fe9d8-7310-4cae-aad7-d9a701d685ab"
      },
      "execution_count": 3,
      "outputs": [
        {
          "output_type": "stream",
          "name": "stdout",
          "text": [
            "\u001b[2K     \u001b[90m━━━━━━━━━━━━━━━━━━━━━━━━━━━━━━━━━━━━━━━━\u001b[0m \u001b[32m73.6/73.6 kB\u001b[0m \u001b[31m4.6 MB/s\u001b[0m eta \u001b[36m0:00:00\u001b[0m\n",
            "\u001b[2K     \u001b[90m━━━━━━━━━━━━━━━━━━━━━━━━━━━━━━━━━━━━━━━━\u001b[0m \u001b[32m1.2/1.2 MB\u001b[0m \u001b[31m44.9 MB/s\u001b[0m eta \u001b[36m0:00:00\u001b[0m\n",
            "\u001b[2K     \u001b[90m━━━━━━━━━━━━━━━━━━━━━━━━━━━━━━━━━━━━━━━━\u001b[0m \u001b[32m90.0/90.0 kB\u001b[0m \u001b[31m9.3 MB/s\u001b[0m eta \u001b[36m0:00:00\u001b[0m\n",
            "\u001b[2K     \u001b[90m━━━━━━━━━━━━━━━━━━━━━━━━━━━━━━━━━━━━━━━━\u001b[0m \u001b[32m49.1/49.1 kB\u001b[0m \u001b[31m4.8 MB/s\u001b[0m eta \u001b[36m0:00:00\u001b[0m\n",
            "\u001b[?25h"
          ]
        }
      ]
    },
    {
      "cell_type": "code",
      "execution_count": 5,
      "metadata": {
        "colab": {
          "base_uri": "https://localhost:8080/"
        },
        "id": "Ok1c9ZrPC0cA",
        "outputId": "ef613d10-327e-4db2-8e58-bbf1fa6a9303"
      },
      "outputs": [
        {
          "name": "stdout",
          "output_type": "stream",
          "text": [
            "··········\n"
          ]
        }
      ],
      "source": [
        "import os\n",
        "import openai\n",
        "from random import choice\n",
        "import json\n",
        "import langchain\n",
        "from langchain.prompts.base import StringPromptTemplate\n",
        "from langchain.prompts import PromptTemplate,StringPromptTemplate\n",
        "from langchain.agents import Tool, AgentExecutor, AgentOutputParser,LLMSingleActionAgent,initialize_agent\n",
        "from langchain import OpenAI,LLMChain\n",
        "from langchain.chat_models import ChatOpenAI\n",
        "from langchain.schema import AgentAction,AgentFinish\n",
        "import re\n",
        "from typing import List,Union\n",
        "#\n",
        "from langchain.output_parsers import ResponseSchema\n",
        "from langchain.output_parsers import StructuredOutputParser\n",
        "#\n",
        "from langchain.prompts import PromptTemplate, ChatPromptTemplate, HumanMessagePromptTemplate\n",
        "from langchain.chat_models import ChatOpenAI\n",
        "from time import time, sleep\n",
        "\n",
        "\n",
        "from getpass import getpass\n",
        "os.environ[\"OPENAI_API_KEY\"] = getpass()\n",
        "\n"
      ]
    },
    {
      "cell_type": "code",
      "source": [
        "\n",
        "def preprocess_function(request_data, content_type=None):\n",
        "    with open(request_data,\"r\",encoding='utf-8') as f:\n",
        "        context = f.read()\n",
        "    print(context)\n",
        "    #\n",
        "    p_word_count_schema = ResponseSchema(name=\"Prescribed Word Count\",\n",
        "                                description = \"This is Word count that has been prescribed as 300 Words \")\n",
        "    #\n",
        "    s_word_count_schema = ResponseSchema(name=\"Student Word Count\",\n",
        "                                    description = \"This is the word count thats specifies the number of words present in the essay content specified within 3 backticks\")\n",
        "    #\n",
        "    s_word_limit_schema = ResponseSchema(name=\"Try to stay within + or - 10 words of the prescribed word limit\",\n",
        "                                        description=\"This is the word limit that the student has adhered the word limit or exceeded the word limit\")\n",
        "    #\n",
        "    title_schema = ResponseSchema(name=\"Title\",\n",
        "                                description=\"Title of the Essay in case provided\")\n",
        "    #\n",
        "    content_schema = ResponseSchema(name=\"Content and Structure\",\n",
        "                                    description=\"This provides points between -5 to 10 based on the GRADING CRITERIA for CONTENT\")\n",
        "    #\n",
        "    language_schema = ResponseSchema(name=\"Language\",\n",
        "                                    description=\"This provides the points based on the GRADING CRITERIA for LANGAUAGE AND GRAMMAR.Also provide spelling errors in RED and provide the correct answer next to the incorrect words in GREEN BOLD.\")\n",
        "\n",
        "    response_schemas = [p_word_count_schema,\n",
        "                        s_word_count_schema,\n",
        "                        s_word_limit_schema,\n",
        "                        title_schema,\n",
        "                        content_schema,\n",
        "                        language_schema]\n",
        "    #\n",
        "    output_parser = StructuredOutputParser.from_response_schemas(response_schemas)\n",
        "    format_instructions = output_parser.get_format_instructions()\n",
        "    print(\"\\n\")\n",
        "    print(output_parser)\n",
        "    print(\"\\n\")\n",
        "    print(format_instructions)\n",
        "    #\n",
        "    template =\"\"\"\n",
        "Evaluate the context of the essay specified in 3 bacticks on the following criteria:\n",
        "ESSAY CRITERIA:\n",
        "1. TITLE : The essay must have a title.\n",
        "2. WORD LIMIT: The word count in the essay must be between 290 to 310 words\n",
        "3. CONTENT : The content must have the matter as per the current developments. Government Schemes pertaining to a topic, allocation as per the budget, developments/achievements till now, way forward, etc\n",
        "4. LANGAUAGE AND GRAMMAR: Errors of subject verb agreement, preposition, Spellings, appropriate spacing, capitalization and punctuations must be checked.\n",
        "\n",
        "GRADING CRITERIA:\n",
        "Please grade the essay on the below parameters and provide a Overall Grades as A+ or A or B+ or B or C or D.\n",
        "1. LANGAUAGE AND GRAMMAR: Please check subject verb agreement errors.Also Spellings, appropriate spacing, capitalization and punctuations must be checked.\n",
        "2. WORD LIMIT: The total word count is 300 words. Please  deduct -0.5 marks each for every increase or decrease of 10 words.\n",
        "3.CONTENT : Please analyse the matter as per the current developments. Government Schemes pertaining to a topic, allocation as per the budget, developments/achievements till now, way forward, etc, whether they are mentioned or not.If the content lacks any of the points mentioned deduct -0.5 marks each.\n",
        "4. TITLE : Please deduct 3 marks if either title or serial number of the chosen essay topic is not  mentioned.\n",
        "\n",
        "\n",
        "ESSAY CONTENT:\n",
        "```\n",
        "{input}\n",
        "\n",
        "```\n",
        "\n",
        "Please provide the feedback in the format specified below :\n",
        "FEEDBACK:\n",
        "\n",
        "1.Prescribed word count: round 300 words\n",
        "\n",
        "2.Student word count:  specify the number of words present in the essay content specified within 3 backticks\n",
        "\n",
        "3.Try to stay within + OR - 10 words of the prescribed word limit : If the student word count is within a + or - 10 words then mention \"Well Done\" otherwise mention \"Word Limit not adhered\"\n",
        "\n",
        "4.Title: If tile is present then mention \" Title provided\" otherwise mention \"No Title provided\"\n",
        "\n",
        "5. Content and Structure: Provide points between -5 to 10 based on the GRADING CRITERIA for CONTENT\n",
        "\n",
        "6. Language: Provide the points based on the GRADING CRITERIA for LANGAUAGE AND GRAMMAR.Also provide spelling errors in RED and provide the correct answer next to the incorrect words in GREEN BOLD.\n",
        "{format_instructions}\n",
        "\n",
        "Please provide the response in JSON format with the key elements as\n",
        "\n",
        "Prescribed word count\n",
        "Student word count\n",
        "Try to stay within + OR - 10 words of the prescribed word limit\n",
        "Title\n",
        "Content and Structure\n",
        "Language\n",
        "\"\"\"\n",
        "    #\n",
        "    prompt = ChatPromptTemplate(\n",
        "            messages=[\n",
        "                HumanMessagePromptTemplate.from_template(template)\n",
        "            ],\n",
        "            input_variables=[\"input\"],\n",
        "            partial_variables={\"format_instructions\": format_instructions},\n",
        "            output_parser=output_parser # here we add the output parser to the Prompt template\n",
        "        )\n",
        "    #\n",
        "    return (prompt,context)\n",
        "\n",
        "\n",
        "#\n",
        "#\n",
        "def predict_function(data, model_path):\n",
        "    prompt,context = data\n",
        "    api_key = os.environ[\"OPENAI_API_KEY\"]\n",
        "    #\n",
        "    llm = ChatOpenAI(openai_api_key=api_key,temperature=0.0)\n",
        "    #\n",
        "    chain = LLMChain(llm=llm,prompt=prompt)\n",
        "    #\n",
        "    response = chain.predict_and_parse(input=context,history=None)\n",
        "    #\n",
        "    return response\n",
        "\n",
        "#\n",
        "def model_load_function(model_path):\n",
        "    return model_path\n",
        "\n",
        "\n",
        "#\n",
        "def postprocess_function(predictions, content_type=None):\n",
        "    return json.dumps({\"response\": predictions})\n",
        "\n",
        "\n"
      ],
      "metadata": {
        "id": "pLmMTs-nEILg"
      },
      "execution_count": 49,
      "outputs": []
    },
    {
      "cell_type": "code",
      "source": [
        "%%writefile request_data.txt\n",
        "(c) Financial Inclusion and development of the poor   India is one of the countries with highly inequitable distribution of wealth.  A report pointed out, that only 1% of the wealthy Indians hold  90% of the total income of our country. India, due to its population  explosion has one of the lowest per capita income.  The poor lacks even the basic services necessary for a healthy life.  We ranked 132 in the HDI index, which signifies, that a lot of  groundwork needs to be done to improve even the basic Human  Development factors.   Financial Inclusion refers to providing basic financial services such  as banking, insurance, pension etc. to the poorest and the  vulnerable strata of the society. Most of the rural poor lack the  access to basic financial services. The Union Government came  out with PM Jan Dhan Yojana in 2014 to provide banking services  to the poor. It provided A basic savings bank deposit account with  no minimum deposit requirements. It was the first step in bringing  a host of financial service."
      ],
      "metadata": {
        "colab": {
          "base_uri": "https://localhost:8080/"
        },
        "id": "IwZDaSYeDj0V",
        "outputId": "f5bb83b6-8e2d-4bac-d7fb-77a89c6ad8a8"
      },
      "execution_count": 50,
      "outputs": [
        {
          "output_type": "stream",
          "name": "stdout",
          "text": [
            "Overwriting request_data.txt\n"
          ]
        }
      ]
    },
    {
      "cell_type": "code",
      "source": [
        "txt_path = \"request_data.txt\"\n",
        "data = preprocess_function(txt_path)"
      ],
      "metadata": {
        "colab": {
          "base_uri": "https://localhost:8080/"
        },
        "id": "acKrhOUBEfIQ",
        "outputId": "b54ea7fa-b167-4cf2-d217-b58808dc5c0c"
      },
      "execution_count": 51,
      "outputs": [
        {
          "output_type": "stream",
          "name": "stdout",
          "text": [
            "(c) Financial Inclusion and development of the poor   India is one of the countries with highly inequitable distribution of wealth.  A report pointed out, that only 1% of the wealthy Indians hold  90% of the total income of our country. India, due to its population  explosion has one of the lowest per capita income.  The poor lacks even the basic services necessary for a healthy life.  We ranked 132 in the HDI index, which signifies, that a lot of  groundwork needs to be done to improve even the basic Human  Development factors.   Financial Inclusion refers to providing basic financial services such  as banking, insurance, pension etc. to the poorest and the  vulnerable strata of the society. Most of the rural poor lack the  access to basic financial services. The Union Government came  out with PM Jan Dhan Yojana in 2014 to provide banking services  to the poor. It provided A basic savings bank deposit account with  no minimum deposit requirements. It was the first step in bringing  a host of financial service.\n",
            "\n",
            "\n",
            "\n",
            "response_schemas=[ResponseSchema(name='Prescribed Word Count', description='This is Word count that has been prescribed as 300 Words ', type='string'), ResponseSchema(name='Student Word Count', description='This is the word count thats specifies the number of words present in the essay content specified within 3 backticks', type='string'), ResponseSchema(name='Try to stay within + or - 10 words of the prescribed word limit', description='This is the word limit that the student has adhered the word limit or exceeded the word limit', type='string'), ResponseSchema(name='Title', description='Title of the Essay in case provided', type='string'), ResponseSchema(name='Content and Structure', description='This provides points between -5 to 10 based on the GRADING CRITERIA for CONTENT', type='string'), ResponseSchema(name='Language', description='This provides the points based on the GRADING CRITERIA for LANGAUAGE AND GRAMMAR.Also provide spelling errors in RED and provide the correct answer next to the incorrect words in GREEN BOLD.', type='string')]\n",
            "\n",
            "\n",
            "The output should be a markdown code snippet formatted in the following schema, including the leading and trailing \"```json\" and \"```\":\n",
            "\n",
            "```json\n",
            "{\n",
            "\t\"Prescribed Word Count\": string  // This is Word count that has been prescribed as 300 Words \n",
            "\t\"Student Word Count\": string  // This is the word count thats specifies the number of words present in the essay content specified within 3 backticks\n",
            "\t\"Try to stay within + or - 10 words of the prescribed word limit\": string  // This is the word limit that the student has adhered the word limit or exceeded the word limit\n",
            "\t\"Title\": string  // Title of the Essay in case provided\n",
            "\t\"Content and Structure\": string  // This provides points between -5 to 10 based on the GRADING CRITERIA for CONTENT\n",
            "\t\"Language\": string  // This provides the points based on the GRADING CRITERIA for LANGAUAGE AND GRAMMAR.Also provide spelling errors in RED and provide the correct answer next to the incorrect words in GREEN BOLD.\n",
            "}\n",
            "```\n"
          ]
        }
      ]
    },
    {
      "cell_type": "code",
      "source": [
        "predictions = predict_function(data,model_path=None)"
      ],
      "metadata": {
        "id": "JnKdu2dgEm_a"
      },
      "execution_count": 52,
      "outputs": []
    },
    {
      "cell_type": "code",
      "source": [
        "predictions"
      ],
      "metadata": {
        "colab": {
          "base_uri": "https://localhost:8080/"
        },
        "id": "iQAtQNTIFEz7",
        "outputId": "ec1e43e9-4c6d-46e1-936d-d985bf6a7468"
      },
      "execution_count": 53,
      "outputs": [
        {
          "output_type": "execute_result",
          "data": {
            "text/plain": [
              "{'Prescribed Word Count': '300',\n",
              " 'Student Word Count': '186',\n",
              " 'Try to stay within + or - 10 words of the prescribed word limit': 'Word Limit not adhered',\n",
              " 'Title': 'No Title provided',\n",
              " 'Content and Structure': '-5',\n",
              " 'Language': '-3'}"
            ]
          },
          "metadata": {},
          "execution_count": 53
        }
      ]
    },
    {
      "cell_type": "code",
      "source": [
        "postprocess_function(predictions, content_type=None)"
      ],
      "metadata": {
        "colab": {
          "base_uri": "https://localhost:8080/",
          "height": 53
        },
        "id": "MjDDO2hpFQIi",
        "outputId": "3650249e-1d0d-4af3-9fd3-0f08dc906ad9"
      },
      "execution_count": 47,
      "outputs": [
        {
          "output_type": "execute_result",
          "data": {
            "text/plain": [
              "'{\"response\": {\"Prescribed Word Count\": \"300\", \"Student Word Count\": \"167\", \"Try to stay within + or - 10 words of the prescribed word limit\": \"Word Limit not adhered\", \"Title\": \"No Title provided\", \"Content and Structure\": \"-5\", \"Language\": \"-3\"}}'"
            ],
            "application/vnd.google.colaboratory.intrinsic+json": {
              "type": "string"
            }
          },
          "metadata": {},
          "execution_count": 47
        }
      ]
    },
    {
      "cell_type": "code",
      "source": [
        "## Test the script\n",
        "\n",
        "\"\"\"\n",
        "if __name__ == '__main__':\n",
        "    txt_path = \"test.txt\"\n",
        "    data = preprocess_function(txt_path)\n",
        "    model_path = \"./model_files\"\n",
        "    path = model_load_function(model_path)\n",
        "    predictions = predict_function(data,path)\n",
        "    out = postprocess_function(predictions)\n",
        "    print(out)\n",
        "\"\"\""
      ],
      "metadata": {
        "id": "qlyxdw58DRkA"
      },
      "execution_count": null,
      "outputs": []
    }
  ]
}