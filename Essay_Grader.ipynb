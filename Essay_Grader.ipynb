{
  "nbformat": 4,
  "nbformat_minor": 0,
  "metadata": {
    "colab": {
      "provenance": [],
      "include_colab_link": true
    },
    "kernelspec": {
      "name": "python3",
      "display_name": "Python 3"
    },
    "language_info": {
      "name": "python"
    }
  },
  "cells": [
    {
      "cell_type": "markdown",
      "metadata": {
        "id": "view-in-github",
        "colab_type": "text"
      },
      "source": [
        "<a href=\"https://colab.research.google.com/github/plaban1981/Langchain_usecases/blob/main/Essay_Grader.ipynb\" target=\"_parent\"><img src=\"https://colab.research.google.com/assets/colab-badge.svg\" alt=\"Open In Colab\"/></a>"
      ]
    },
    {
      "cell_type": "code",
      "source": [
        "pip install -qU openai langchain"
      ],
      "metadata": {
        "colab": {
          "base_uri": "https://localhost:8080/"
        },
        "id": "xODlhnduDux0",
        "outputId": "2923598b-8d87-4de8-b90d-36afe6ee851e"
      },
      "execution_count": null,
      "outputs": [
        {
          "output_type": "stream",
          "name": "stdout",
          "text": [
            "\u001b[2K     \u001b[90m━━━━━━━━━━━━━━━━━━━━━━━━━━━━━━━━━━━━━━━━\u001b[0m \u001b[32m73.6/73.6 kB\u001b[0m \u001b[31m4.8 MB/s\u001b[0m eta \u001b[36m0:00:00\u001b[0m\n",
            "\u001b[2K     \u001b[90m━━━━━━━━━━━━━━━━━━━━━━━━━━━━━━━━━━━━━━━━\u001b[0m \u001b[32m1.3/1.3 MB\u001b[0m \u001b[31m43.5 MB/s\u001b[0m eta \u001b[36m0:00:00\u001b[0m\n",
            "\u001b[2K     \u001b[90m━━━━━━━━━━━━━━━━━━━━━━━━━━━━━━━━━━━━━━━━\u001b[0m \u001b[32m90.0/90.0 kB\u001b[0m \u001b[31m9.6 MB/s\u001b[0m eta \u001b[36m0:00:00\u001b[0m\n",
            "\u001b[2K     \u001b[90m━━━━━━━━━━━━━━━━━━━━━━━━━━━━━━━━━━━━━━━━\u001b[0m \u001b[32m49.1/49.1 kB\u001b[0m \u001b[31m5.1 MB/s\u001b[0m eta \u001b[36m0:00:00\u001b[0m\n",
            "\u001b[?25h"
          ]
        }
      ]
    },
    {
      "cell_type": "code",
      "execution_count": null,
      "metadata": {
        "colab": {
          "base_uri": "https://localhost:8080/"
        },
        "id": "Ok1c9ZrPC0cA",
        "outputId": "86d9df08-1831-4a34-e5e7-8de6866dbce4"
      },
      "outputs": [
        {
          "name": "stdout",
          "output_type": "stream",
          "text": [
            "··········\n"
          ]
        }
      ],
      "source": [
        "import os\n",
        "import openai\n",
        "from random import choice\n",
        "import json\n",
        "import langchain\n",
        "from langchain.prompts.base import StringPromptTemplate\n",
        "from langchain.prompts import PromptTemplate,StringPromptTemplate\n",
        "from langchain.agents import Tool, AgentExecutor, AgentOutputParser,LLMSingleActionAgent,initialize_agent\n",
        "from langchain import OpenAI,LLMChain\n",
        "from langchain.chat_models import ChatOpenAI\n",
        "from langchain.schema import AgentAction,AgentFinish\n",
        "import re\n",
        "from typing import List,Union\n",
        "#\n",
        "from langchain.output_parsers import ResponseSchema\n",
        "from langchain.output_parsers import StructuredOutputParser\n",
        "#\n",
        "from langchain.prompts import PromptTemplate, ChatPromptTemplate, HumanMessagePromptTemplate\n",
        "from langchain.chat_models import ChatOpenAI\n",
        "from time import time, sleep\n",
        "\n",
        "\n",
        "from getpass import getpass\n",
        "os.environ[\"OPENAI_API_KEY\"] = getpass()\n",
        "\n"
      ]
    },
    {
      "cell_type": "code",
      "source": [
        "\n",
        "def preprocess_function(request_data, content_type=None):\n",
        "    with open(request_data,\"r\",encoding='utf-8') as f:\n",
        "        context = f.read().lower()\n",
        "    print(context)\n",
        "    #\n",
        "    p_word_count_schema = ResponseSchema(name=\"Prescribed Word Count\",\n",
        "                                description = \"This is Word count that has been prescribed as 300 Words \")\n",
        "    #\n",
        "    s_word_count_schema = ResponseSchema(name=\"Student Word Count\",\n",
        "                                    description = \"This is the word count thats specifies the number of words present in the essay content specified within 3 backticks\")\n",
        "    #\n",
        "    s_word_limit_schema = ResponseSchema(name=\"Try to stay within the prescribed word limit of 290 to 310 words\",\n",
        "                                        description=\"This is the word limit that the student has adhered the word limit or exceeded the word limit\")\n",
        "    #\n",
        "    title_schema = ResponseSchema(name=\"Title\",\n",
        "                                description=\"Title of the Essay in case provided\")\n",
        "    #\n",
        "    content_schema = ResponseSchema(name=\"Content and Structure\",\n",
        "                                    description=\"This provides points between -5 to 10 based on the GRADING CRITERIA for CONTENT\")\n",
        "    #\n",
        "    language_schema = ResponseSchema(name=\"Language\",\n",
        "                                    description=\"This provides the points based on the GRADING CRITERIA for LANGAUAGE AND GRAMMAR.Also provide spelling errors in RED and provide the correct answer next to the incorrect words in GREEN BOLD.\")\n",
        "    #\n",
        "    context_schema = ResponseSchema(name=\"Corrected Context\",\n",
        "                                    description=\"This provides the grammatically corrected words for  the context provided in capital Letters .\")\n",
        "    #\n",
        "    response_schemas = [p_word_count_schema,\n",
        "                        s_word_count_schema,\n",
        "                        s_word_limit_schema,\n",
        "                        title_schema,\n",
        "                        content_schema,\n",
        "                        language_schema,\n",
        "                        context_schema]\n",
        "    #\n",
        "    output_parser = StructuredOutputParser.from_response_schemas(response_schemas)\n",
        "    format_instructions = output_parser.get_format_instructions()\n",
        "    print(\"\\n\")\n",
        "    print(output_parser)\n",
        "    print(\"\\n\")\n",
        "    print(format_instructions)\n",
        "    #\n",
        "    template =\"\"\"\n",
        "Evaluate the context of the essay specified in 3 bacticks on the following criteria:\n",
        "ESSAY CRITERIA:\n",
        "1. TITLE : The essay must have a title.\n",
        "2. WORD LIMIT: The word count in the essay must be between 290 to 310 words\n",
        "3. CONTENT : The content must have the matter as per the current developments. Government Schemes pertaining to a topic, allocation as per the budget, developments/achievements till now, way forward, etc\n",
        "4. LANGAUAGE AND GRAMMAR: Errors of subject verb agreement, preposition, Spellings, appropriate spacing, capitalization and punctuations must be checked.\n",
        "\n",
        "GRADING CRITERIA:\n",
        "Please grade the essay on the below parameters and provide a Overall Grades as A+ or A or B+ or B or C or D.\n",
        "1. LANGAUAGE AND GRAMMAR: Please check subject verb agreement errors.Also Spellings, appropriate spacing, capitalization and punctuations must be checked.\n",
        "2. WORD LIMIT: The total word count is 300 words. Please deduct -0.5 marks each for every increase or decrease of 10 words.\n",
        "3.CONTENT : Please analyse the matter as per the current developments. Government Schemes pertaining to a topic, allocation as per the budget, developments/achievements till now, way forward, etc, whether they are mentioned or not.If the content lacks any of the points mentioned deduct -0.5 marks each.\n",
        "4. TITLE : Please deduct 3 marks if either title or serial number of the chosen essay topic is not mentioned.\n",
        "\n",
        "\n",
        "ESSAY CONTENT:\n",
        "```\n",
        "{input}\n",
        "\n",
        "```\n",
        "\n",
        "Please provide the feedback in the format specified below :\n",
        "FEEDBACK:\n",
        "\n",
        "1.Prescribed word count: round 300 words\n",
        "\n",
        "2.Student word count: specify the number of words present in the essay content specified within 3 backticks by counting each word\n",
        "\n",
        "3.Try to stay within the prescribed word limit of 290 to 310 words : If the student word count is within a + or - 10 words then mention \"Well Done\" otherwise mention \"Word Limit not adhered\"\n",
        "\n",
        "4.Title: If tile is present then mention \" Title provided\" otherwise mention \"No Title provided\"\n",
        "\n",
        "5. Content and Structure: Provide points between -5 to 10 based on the GRADING CRITERIA for CONTENT.Only provide points.Do not explain anything more.\n",
        "\n",
        "6. Language: Provide the points based on the GRADING CRITERIA for LANGAUAGE AND GRAMMAR.Only provide points.Do not explain anything more.\n",
        "\n",
        "7. Spelling Errors: Provide spelling errors in BOLD.\n",
        "\n",
        "8. Corrected Content :Please provide the grammatically corrected sentences in the context provided within 3 backticks and\n",
        "specify the words that have been added to make grammar corrections in CAPS and change all other words to lower case.\n",
        "\n",
        "\n",
        "Please provide the final FEEDBACK in markdown format.\n",
        "\n",
        "\"\"\"\n",
        "    #\n",
        "    prompt = ChatPromptTemplate(\n",
        "            messages=[\n",
        "                HumanMessagePromptTemplate.from_template(template)\n",
        "            ],\n",
        "            input_variables=[\"input\"],\n",
        "            partial_variables={\"format_instructions\": format_instructions},\n",
        "            #output_parser=output_parser # here we add the output parser to the Prompt template\n",
        "        )\n",
        "    #\n",
        "    return (prompt,context)\n",
        "\n",
        "\n",
        "#\n",
        "#\n",
        "def predict_function(data, model_path):\n",
        "    prompt,context = data\n",
        "    api_key = os.environ[\"OPENAI_API_KEY\"]\n",
        "    #\n",
        "    llm = ChatOpenAI(model_name=\"gpt-4\",openai_api_key=api_key,temperature=0.0)\n",
        "    #\n",
        "    chain = LLMChain(llm=llm,prompt=prompt)\n",
        "    #\n",
        "    response = chain.predict_and_parse(input=context,history=None)\n",
        "    #\n",
        "    return response\n",
        "\n",
        "#\n",
        "def model_load_function(model_path):\n",
        "    return model_path\n",
        "\n",
        "\n",
        "#\n",
        "def postprocess_function(predictions, content_type=None):\n",
        "    return json.dumps({\"response\": predictions})\n",
        "\n",
        "\n"
      ],
      "metadata": {
        "id": "pLmMTs-nEILg"
      },
      "execution_count": null,
      "outputs": []
    },
    {
      "cell_type": "code",
      "source": [
        "%%writefile request_data.txt\n",
        "(c) Financial Inclusion and development of the poor\n",
        "\n",
        "India is one of the countries with highly inequitable distribution of wealth.\n",
        "A report pointed out, that only 1% of the wealthy Indians hold\n",
        "90% of the total income of our country. India, due to its population\n",
        "explosion has one of the lowest per capita .\n",
        "The poor even the basic services necessary for a healthy life.\n",
        "We ranked 132 in the HDI index, which signifies, that a lot of\n",
        "groundwork needs to be done to improve even the basic Human\n",
        "Development factors.\n",
        "\n",
        "Financial Inclusion refers to providing basic financial services such\n",
        "as banking, insurance, pension etc. to the poorest and the\n",
        "vulnerable strata of society. Most of the rural poor lack the\n",
        "access to basic financial services. The Union Government came\n",
        "out with PM Jan Dhan Yojana in 2014 to provide banking services\n",
        "to the poor. It provided  basic savings bank deposit account with\n",
        "no minimum deposit requirements. It was the first step in bringing\n",
        "a host of financial services thereafter.\n",
        "\n",
        "In 2015, government came out with insurance sector schemes such as PM Suraksha Bima Yojana and PM Jeevan Jyoti Beema Yojana. The former was a Personal accident\n",
        "insurance having coverage upto Rs 2 lacs for death at a premium\n",
        "of Rs 20/-and the latter being a life insurance scheme at a premium\n",
        "of Rs 436/- for Sum Insured of Rs 2 lacs. This followed by schemes\n",
        "in the pension sector viz. Atal Pension Yojana, PM SVanidhi, PM Shram\n",
        "Yogi Maan dhan and recent amendments in NPS.\n",
        "\n",
        "All the above government initiatives point to the efforts made for\n",
        "the financial inclusion of the poor. These initiatives have not only helped\n",
        "poor gain access to basic financial services, but also for targeted\n",
        "delivery of DBT and subsidy services directly in the bank accounts\n",
        "of the beneficiaries.\n"
      ],
      "metadata": {
        "colab": {
          "base_uri": "https://localhost:8080/"
        },
        "id": "IwZDaSYeDj0V",
        "outputId": "b6a50ac6-ac13-4032-b27c-cfed55efa6a8"
      },
      "execution_count": null,
      "outputs": [
        {
          "output_type": "stream",
          "name": "stdout",
          "text": [
            "Writing request_data.txt\n"
          ]
        }
      ]
    },
    {
      "cell_type": "code",
      "source": [
        "txt_path = \"request_data.txt\"\n",
        "data = preprocess_function(txt_path)"
      ],
      "metadata": {
        "colab": {
          "base_uri": "https://localhost:8080/"
        },
        "id": "acKrhOUBEfIQ",
        "outputId": "85b1faf9-1d1b-4135-eb4f-5808c33e45ba"
      },
      "execution_count": null,
      "outputs": [
        {
          "output_type": "stream",
          "name": "stdout",
          "text": [
            "(c) financial inclusion and development of the poor\n",
            "\n",
            "india is one of the countries with highly inequitable distribution of wealth.\n",
            "a report pointed out, that only 1% of the wealthy indians hold\n",
            "90% of the total income of our country. india, due to its population\n",
            "explosion has one of the lowest per capita .\n",
            "the poor even the basic services necessary for a healthy life.\n",
            "we ranked 132 in the hdi index, which signifies, that a lot of\n",
            "groundwork needs to be done to improve even the basic human\n",
            "development factors.\n",
            "\n",
            "financial inclusion refers to providing basic financial services such\n",
            "as banking, insurance, pension etc. to the poorest and the\n",
            "vulnerable strata of society. most of the rural poor lack the\n",
            "access to basic financial services. the union government came\n",
            "out with pm jan dhan yojana in 2014 to provide banking services\n",
            "to the poor. it provided  basic savings bank deposit account with\n",
            "no minimum deposit requirements. it was the first step in bringing\n",
            "a host of financial services thereafter.\n",
            "\n",
            "in 2015, government came out with insurance sector schemes such as pm suraksha bima yojana and pm jeevan jyoti beema yojana. the former was a personal accident\n",
            "insurance having coverage upto rs 2 lacs for death at a premium\n",
            "of rs 20/-and the latter being a life insurance scheme at a premium\n",
            "of rs 436/- for sum insured of rs 2 lacs. this followed by schemes\n",
            "in the pension sector viz. atal pension yojana, pm svanidhi, pm shram\n",
            "yogi maan dhan and recent amendments in nps.\n",
            "\n",
            "all the above government initiatives point to the efforts made for\n",
            "the financial inclusion of the poor. these initiatives have not only helped\n",
            "poor gain access to basic financial services, but also for targeted\n",
            "delivery of dbt and subsidy services directly in the bank accounts\n",
            "of the beneficiaries.\n",
            "\n",
            "\n",
            "\n",
            "response_schemas=[ResponseSchema(name='Prescribed Word Count', description='This is Word count that has been prescribed as 300 Words ', type='string'), ResponseSchema(name='Student Word Count', description='This is the word count thats specifies the number of words present in the essay content specified within 3 backticks', type='string'), ResponseSchema(name='Try to stay within the prescribed word limit of 290 to 310 words', description='This is the word limit that the student has adhered the word limit or exceeded the word limit', type='string'), ResponseSchema(name='Title', description='Title of the Essay in case provided', type='string'), ResponseSchema(name='Content and Structure', description='This provides points between -5 to 10 based on the GRADING CRITERIA for CONTENT', type='string'), ResponseSchema(name='Language', description='This provides the points based on the GRADING CRITERIA for LANGAUAGE AND GRAMMAR.Also provide spelling errors in RED and provide the correct answer next to the incorrect words in GREEN BOLD.', type='string'), ResponseSchema(name='Corrected Context', description='This provides the grammatically corrected words for  the context provided in capital Letters .', type='string')]\n",
            "\n",
            "\n",
            "The output should be a markdown code snippet formatted in the following schema, including the leading and trailing \"```json\" and \"```\":\n",
            "\n",
            "```json\n",
            "{\n",
            "\t\"Prescribed Word Count\": string  // This is Word count that has been prescribed as 300 Words \n",
            "\t\"Student Word Count\": string  // This is the word count thats specifies the number of words present in the essay content specified within 3 backticks\n",
            "\t\"Try to stay within the prescribed word limit of 290 to 310 words\": string  // This is the word limit that the student has adhered the word limit or exceeded the word limit\n",
            "\t\"Title\": string  // Title of the Essay in case provided\n",
            "\t\"Content and Structure\": string  // This provides points between -5 to 10 based on the GRADING CRITERIA for CONTENT\n",
            "\t\"Language\": string  // This provides the points based on the GRADING CRITERIA for LANGAUAGE AND GRAMMAR.Also provide spelling errors in RED and provide the correct answer next to the incorrect words in GREEN BOLD.\n",
            "\t\"Corrected Context\": string  // This provides the grammatically corrected words for  the context provided in capital Letters .\n",
            "}\n",
            "```\n"
          ]
        }
      ]
    },
    {
      "cell_type": "code",
      "source": [
        "predictions = predict_function(data,model_path=None)"
      ],
      "metadata": {
        "id": "JnKdu2dgEm_a"
      },
      "execution_count": null,
      "outputs": []
    },
    {
      "cell_type": "code",
      "source": [
        "print(predictions)"
      ],
      "metadata": {
        "colab": {
          "base_uri": "https://localhost:8080/"
        },
        "id": "XpsM0gItMvIJ",
        "outputId": "a5207204-632f-443a-b5c0-b5e0667e42d4"
      },
      "execution_count": null,
      "outputs": [
        {
          "output_type": "stream",
          "name": "stdout",
          "text": [
            "FEEDBACK:\n",
            "\n",
            "1.Prescribed word count: 300 words\n",
            "\n",
            "2.Student word count: 282 words\n",
            "\n",
            "3.Try to stay within the prescribed word limit of 290 to 310 words: Word Limit not adhered\n",
            "\n",
            "4.Title: No Title provided\n",
            "\n",
            "5. Content and Structure: 7\n",
            "\n",
            "6. Language: 6\n",
            "\n",
            "7. Spelling Errors: No spelling errors detected.\n",
            "\n",
            "8. Corrected Content:\n",
            "```\n",
            "(c) financial inclusion and development of the poor\n",
            "\n",
            "india is one of the countries with A highly inequitable distribution of wealth.\n",
            "a report pointed out, that only 1% of the wealthy indians hold\n",
            "90% of the total income of our country. india, due to its population\n",
            "explosion, has one of the lowest per capita INCOMES.\n",
            "the poor LACK even the basic services necessary for a healthy life.\n",
            "we ARE ranked 132 in the hdi index, which signifies, that a lot of\n",
            "groundwork needs to be done to improve even the basic human\n",
            "development factors.\n",
            "\n",
            "financial inclusion refers to providing basic financial services such\n",
            "as banking, insurance, pension etc. to the poorest and the\n",
            "vulnerable strata of society. most of the rural poor lack the\n",
            "access to basic financial services. the union government came\n",
            "out with THE pm jan dhan yojana in 2014 to provide banking services\n",
            "to the poor. it provided A basic savings bank deposit account with\n",
            "no minimum deposit requirements. it was the first step in bringing\n",
            "a host of financial services thereafter.\n",
            "\n",
            "in 2015, THE government came out with insurance sector schemes such as THE pm suraksha bima yojana and THE pm jeevan jyoti beema yojana. the former was a personal accident\n",
            "insurance having coverage upto rs 2 lacs for death at a premium\n",
            "of rs 20/-and the latter being a life insurance scheme at a premium\n",
            "of rs 436/- for A sum insured of rs 2 lacs. this WAS followed by schemes\n",
            "in the pension sector viz. atal pension yojana, pm svanidhi, pm shram\n",
            "yogi maan dhan and recent amendments in nps.\n",
            "\n",
            "all the above government initiatives point to the efforts made for\n",
            "the financial inclusion of the poor. these initiatives have not only helped\n",
            "THE poor gain access to basic financial services, but also for targeted\n",
            "delivery of dbt and subsidy services directly in the bank accounts\n",
            "of the beneficiaries.\n",
            "```\n",
            "\n",
            "Overall Grade: B\n"
          ]
        }
      ]
    },
    {
      "cell_type": "code",
      "source": [
        "predictions"
      ],
      "metadata": {
        "colab": {
          "base_uri": "https://localhost:8080/"
        },
        "id": "iQAtQNTIFEz7",
        "outputId": "6f586b29-63dc-46b6-e97d-3a1cc24361f1"
      },
      "execution_count": null,
      "outputs": [
        {
          "output_type": "execute_result",
          "data": {
            "text/plain": [
              "{'Prescribed Word Count': '300 words',\n",
              " 'Student Word Count': '300 words',\n",
              " 'Try to stay within + or - 10 words of the prescribed word limit': 'Well Done',\n",
              " 'Title': 'Title provided',\n",
              " 'Content and Structure': '8.5',\n",
              " 'Language': '9',\n",
              " 'Corrected Context': 'India is one of the countries with A highly inequitable distribution of wealth. A report pointed out THAT only 1% of the wealthy Indians hold 90% of the total income of our country. India, due to its population explosion, has one of the lowest per capita INCOMES. The poor LACK even the basic services necessary for a healthy life. We ARE ranked 132 in the HDI index, which signifies THAT a lot of groundwork needs to be done to improve even the basic Human Development factors. Financial Inclusion refers to providing basic financial services such as banking, insurance, pension etc. to the poorest and the vulnerable strata of society. Most of the rural poor lack access to basic financial services. The Union Government came out with THE PM Jan Dhan Yojana in 2014 to provide banking services to the poor. It provided A basic savings bank deposit account with no minimum deposit requirements. It was the first step in bringing a host of financial services thereafter. In 2015, THE government came out with insurance sector schemes such as PM Suraksha Bima Yojana and PM Jeevan Jyoti Beema Yojana. The former was a Personal accident insurance having coverage upto Rs 2 lacs for death at a premium of Rs 20/-and the latter being a life insurance scheme at a premium of Rs 436/- for Sum Insured of Rs 2 lacs. This followed with schemes in the pension sector viz. Atal Pension Yojana, PM SVanidhi, PM Shram Yogi Maan dhan and recent amendments in NPS. All the above government initiatives point to the efforts made for the financial inclusion of the poor. These initiatives have not only helped THE poor gain access to basic financial services, but also for targeted delivery of DBT and subsidy services directly in the bank accounts of the beneficiaries.'}"
            ]
          },
          "metadata": {},
          "execution_count": 55
        }
      ]
    },
    {
      "cell_type": "code",
      "source": [
        "postprocess_function(predictions, content_type=None)"
      ],
      "metadata": {
        "colab": {
          "base_uri": "https://localhost:8080/",
          "height": 139
        },
        "id": "MjDDO2hpFQIi",
        "outputId": "842652dc-f434-48be-fde8-73512f92a988"
      },
      "execution_count": null,
      "outputs": [
        {
          "output_type": "execute_result",
          "data": {
            "text/plain": [
              "'{\"response\": \"FEEDBACK:\\\\n\\\\n1. Prescribed word count: 300 words\\\\n2. Student word count: 282 words\\\\n3. Try to stay within the prescribed word limit of 290 to 310 words: Word Limit not adhered\\\\n4. Title: Title provided\\\\n5. Content and Structure: 8\\\\n6. Language: 9\\\\n7. Spelling Errors: No spelling errors detected.\\\\n8. Corrected Content: \\\\n\\\\n```\\\\n(c) Financial Inclusion and development of the poor\\\\n\\\\nIndia is one of the countries with A highly inequitable distribution of wealth.\\\\nA report pointed out, that only 1% of the wealthy Indians hold\\\\n90% of the total income of our country. India, due to its population\\\\nexplosion, has one of the lowest per capita INCOMES.\\\\nThe poor LACK even the basic services necessary for a healthy life.\\\\nWe ARE ranked 132 in the HDI index, which signifies, that a lot of\\\\ngroundwork needs to be done to improve even the basic Human\\\\nDevelopment factors.\\\\n\\\\nFinancial Inclusion refers to providing basic financial services such\\\\nas banking, insurance, pension etc. to the poorest and the\\\\nvulnerable strata of society. Most of the rural poor lack the\\\\naccess to basic financial services. The Union Government came\\\\nout with THE PM Jan Dhan Yojana in 2014 to provide banking services\\\\nto the poor. It provided A basic savings bank deposit account with\\\\nno minimum deposit requirements. It was the first step in bringing\\\\na host of financial services thereafter.\\\\n\\\\nIn 2015, THE government came out with insurance sector schemes such as PM Suraksha Bima Yojana and PM Jeevan Jyoti Beema Yojana. The former was a Personal accident\\\\ninsurance having coverage upto Rs 2 lacs for death at a premium\\\\nof Rs 20/-and the latter being a life insurance scheme at a premium\\\\nof Rs 436/- for Sum Insured of Rs 2 lacs. This WAS followed by schemes\\\\nin the pension sector viz. Atal Pension Yojana, PM SVanidhi, PM Shram\\\\nYogi Maan dhan and recent amendments in NPS.\\\\n\\\\nAll the above government initiatives point to the efforts made for\\\\nthe financial inclusion of the poor. These initiatives have not only helped\\\\nTHE poor gain access to basic financial services, but also for targeted\\\\ndelivery of DBT and subsidy services directly in the bank accounts\\\\nof the beneficiaries.\\\\n```\\\\n\\\\nOverall Grade: B\"}'"
            ],
            "application/vnd.google.colaboratory.intrinsic+json": {
              "type": "string"
            }
          },
          "metadata": {},
          "execution_count": 192
        }
      ]
    },
    {
      "cell_type": "code",
      "source": [],
      "metadata": {
        "id": "Bm6XnliLb6A9"
      },
      "execution_count": null,
      "outputs": []
    },
    {
      "cell_type": "code",
      "source": [
        "{\"response\": \"```json\\n{\\n\\t\\\"Prescribed Word Count\\\": \\\"300 words\\\",\\n\\t\\\"Student Word Count\\\": \\\"308 words\\\",\\n\\t\\\"Try to stay within + or - 10 words of the prescribed word limit\\\": \\\"Well Done\\\",\\n\\t\\\"Title\\\": \\\"Financial Inclusion and development of the poor\\\",\\n\\t\\\"Content and Structure\\\": \\\"8.5 points. The essay covers the topic of financial inclusion and development of the poor in India. It mentions government schemes like PM Jan Dhan Yojana, PM Suraksha Bima Yojana, PM Jeevan Jyoti Beema Yojana, Atal Pension Yojana, PM SVanidhi, PM Shram Yogi Maan dhan and recent amendments in NPS. However, it lacks a clear way forward and does not mention budget allocation.\\\",\\n\\t\\\"Language\\\": \\\"9 points. The essay is well written with no major grammatical errors. However, there is a missing word in the sentence 'The poor even the basic services necessary for a healthy life.'\\\",\\n\\t\\\"Corrected Context\\\": \\\"India is one of the countries with highly inequitable distribution of wealth. A report pointed out, that only 1% of the wealthy Indians hold 90% of the total income of our country. India, due to its population explosion has one of the lowest per capita. The poor LACK even the basic services necessary for a healthy life. We ranked 132 in the HDI index, which signifies, that a lot of groundwork needs to be done to improve even the basic Human Development factors.\\\"\\n}\\n```\"}"
      ],
      "metadata": {
        "id": "KTyECgVjbxvq"
      },
      "execution_count": null,
      "outputs": []
    },
    {
      "cell_type": "code",
      "source": [
        "## Test the script\n",
        "\n",
        "\"\"\"\n",
        "if __name__ == '__main__':\n",
        "    txt_path = \"test.txt\"\n",
        "    data = preprocess_function(txt_path)\n",
        "    model_path = \"./model_files\"\n",
        "    path = model_load_function(model_path)\n",
        "    predictions = predict_function(data,path)\n",
        "    out = postprocess_function(predictions)\n",
        "    print(out)\n",
        "\"\"\""
      ],
      "metadata": {
        "id": "qlyxdw58DRkA"
      },
      "execution_count": null,
      "outputs": []
    },
    {
      "cell_type": "code",
      "source": [
        "res = '(c) Financial Inclusion and Development of the Poor\\n\\nIndia is one of the countries with highly inequitable distribution of wealth. A report pointed out that only 1% of the wealthy Indians hold 90% of the total income of our country. Due to its population explosion, India has one of the lowest per capita incomes. The poor lack even the basic services necessary for a healthy life. We are ranked 132 in the HDI index, which signifies that a lot of groundwork needs to be done to improve even the basic human development factors.\\n\\nFinancial Inclusion refers to providing basic financial services such as banking, insurance, pension, etc. to the poorest and most vulnerable strata of society. Most of the rural poor lack access to basic financial services. The Union Government came out with the PM Jan Dhan Yojana in 2014 to provide banking services to the poor. It provided a basic savings bank deposit account with no minimum deposit requirements. It was the first step in bringing a host of financial services thereafter.\\n\\nIn 2015, the government came out with insurance sector schemes such as PM Suraksha Bima Yojana and PM Jeevan Jyoti Beema Yojana. The former was a personal accident insurance having coverage up to Rs 2 lakhs for death at a premium of Rs 20, and the latter being a life insurance scheme at a premium of Rs 436 for a sum insured of Rs 2 lakhs. This was followed by schemes in the pension sector, namely Atal Pension Yojana, PM Svandhi, PM Shram Yogi Maan Dhan, and recent amendments in NPS.\\n\\nAll the above government initiatives point to the efforts made for the financial inclusion of the poor. These initiatives have not only helped the poor gain access to basic financial services but also for targeted delivery of DBT and subsidy services directly into the bank accounts of the beneficiaries.'"
      ],
      "metadata": {
        "id": "Eoj_6glbB12S"
      },
      "execution_count": null,
      "outputs": []
    },
    {
      "cell_type": "code",
      "source": [
        "original = \"\"\"\n",
        "(c) Financial Inclusion and development of the poor\n",
        "\n",
        "India is one of the countries with highly inequitable distribution of wealth.\n",
        "A report pointed out, that only 1% of the wealthy Indians hold\n",
        "90% of the total income of our country. India, due to its population\n",
        "explosion has one of the lowest per capita .\n",
        "The poor even the basic services necessary for a healthy life.\n",
        "We ranked 132 in the HDI index, which signifies, that a lot of\n",
        "groundwork needs to be done to improve even the basic Human\n",
        "Development factors.\n",
        "\n",
        "Financial Inclusion refers to providing basic financial services such\n",
        "as banking, insurance, pension etc. to the poorest and the\n",
        "vulnerable strata of society. Most of the rural poor lack the\n",
        "access to basic financial services. The Union Government came\n",
        "out with PM Jan Dhan Yojana in 2014 to provide banking services\n",
        "to the poor. It provided  basic savings bank deposit account with\n",
        "no minimum deposit requirements. It was the first step in bringing\n",
        "a host of financial services thereafter.\n",
        "\n",
        "In 2015, government came out with insurance sector schemes such as PM Suraksha Bima Yojana and PM Jeevan Jyoti Beema Yojana. The former was a Personal accident\n",
        "insurance having coverage upto Rs 2 lacs for death at a premium\n",
        "of Rs 20/-and the latter being a life insurance scheme at a premium\n",
        "of Rs 436/- for Sum Insured of Rs 2 lacs. This followed with schemes\n",
        "in the pension sector viz. Atal Pension Yojana, PM SVanidhi, PM Shram\n",
        "Yogi Maan dhan and recent amendments in NPS.\n",
        "\n",
        "All the above government initiatives point to the efforts made for\n",
        "the financial inclusion of the poor. These initiatives have not only helped\n",
        "poor gain access to basic financial services, but also for targeted\n",
        "delivery of DBT and subsidy services directly in the bank accounts\n",
        "of the beneficiaries.\n",
        "\"\"\""
      ],
      "metadata": {
        "id": "9ZapvlSDC28D"
      },
      "execution_count": null,
      "outputs": []
    },
    {
      "cell_type": "code",
      "source": [
        "prompt = \"\"\"\n",
        "Please comapre the contents of the text enclosed within  within curly braces {{{ }}}  with the contents of the text enclosed within  3 backticks ```\n",
        "and perform a word by word comaprison between them. After the comparison has been performed provide new words that have been added in the context\n",
        "provided within 3 backticks ``` but not present in the context provided between curly braces {{{ }}}.\n",
        "\n",
        "ANSWER PROVIDED\n",
        "{{{\n",
        "\n",
        "<<original>>\n",
        "\n",
        "}}}\n",
        "\n",
        "CORRECTED TEXT\n",
        "\n",
        "```\n",
        "<<response>>\n",
        "```\n",
        "\n",
        "RESPONSE:\n",
        "\n",
        "\"\"\""
      ],
      "metadata": {
        "id": "c6Rkmrs6B6ne"
      },
      "execution_count": null,
      "outputs": []
    },
    {
      "cell_type": "code",
      "source": [
        "prompt = prompt.replace(\"<<response>>\",res).replace(\"<<original>>\",original)"
      ],
      "metadata": {
        "id": "bc_HRVT1C6wn"
      },
      "execution_count": null,
      "outputs": []
    },
    {
      "cell_type": "code",
      "source": [
        "openai.api_key =getpass()\n",
        "\n"
      ],
      "metadata": {
        "colab": {
          "base_uri": "https://localhost:8080/"
        },
        "id": "fkQFG3nyDJHp",
        "outputId": "4f396c69-3689-4960-e709-fe2b7af8d59b"
      },
      "execution_count": null,
      "outputs": [
        {
          "name": "stdout",
          "output_type": "stream",
          "text": [
            "··········\n"
          ]
        }
      ]
    },
    {
      "cell_type": "code",
      "source": [
        "#\n",
        "messages = [{\"role\":\"system\",\n",
        "             \"content\":\"Your are a helpful text comparison assistant.\",\n",
        "             },\n",
        "            ]\n",
        "#\n",
        "messages.append({\"role\":\"user\",\"content\":prompt})\n",
        "print(messages)"
      ],
      "metadata": {
        "colab": {
          "base_uri": "https://localhost:8080/"
        },
        "id": "d2r_X3r2E3rz",
        "outputId": "08f6a23d-8b56-4fb4-8d70-4401c9cc51e0"
      },
      "execution_count": null,
      "outputs": [
        {
          "output_type": "stream",
          "name": "stdout",
          "text": [
            "[{'role': 'system', 'content': 'Your are a helpful text comparison assistant.'}, {'role': 'user', 'content': '\\nPlease comapre the contents of the text enclosed within  within curly braces {{{ }}}  with the contents of the text enclosed within  3 backticks ```\\nand perform a word by word comaprison between them. After the comparison has been performed provide new words that have been added in the context\\nprovided within 3 backticks ``` but not present in the context provided between curly braces {{{ }}}.\\n\\nANSWER PROVIDED\\n{{{\\n\\n\\n(c) Financial Inclusion and development of the poor\\n\\nIndia is one of the countries with highly inequitable distribution of wealth.\\nA report pointed out, that only 1% of the wealthy Indians hold\\n90% of the total income of our country. India, due to its population\\nexplosion has one of the lowest per capita .\\nThe poor even the basic services necessary for a healthy life.\\nWe ranked 132 in the HDI index, which signifies, that a lot of\\ngroundwork needs to be done to improve even the basic Human\\nDevelopment factors.\\n\\nFinancial Inclusion refers to providing basic financial services such\\nas banking, insurance, pension etc. to the poorest and the\\nvulnerable strata of society. Most of the rural poor lack the\\naccess to basic financial services. The Union Government came\\nout with PM Jan Dhan Yojana in 2014 to provide banking services\\nto the poor. It provided  basic savings bank deposit account with\\nno minimum deposit requirements. It was the first step in bringing\\na host of financial services thereafter.\\n\\nIn 2015, government came out with insurance sector schemes such as PM Suraksha Bima Yojana and PM Jeevan Jyoti Beema Yojana. The former was a Personal accident\\ninsurance having coverage upto Rs 2 lacs for death at a premium\\nof Rs 20/-and the latter being a life insurance scheme at a premium\\nof Rs 436/- for Sum Insured of Rs 2 lacs. This followed with schemes\\nin the pension sector viz. Atal Pension Yojana, PM SVanidhi, PM Shram\\nYogi Maan dhan and recent amendments in NPS.\\n\\nAll the above government initiatives point to the efforts made for\\nthe financial inclusion of the poor. These initiatives have not only helped\\npoor gain access to basic financial services, but also for targeted\\ndelivery of DBT and subsidy services directly in the bank accounts\\nof the beneficiaries.\\n\\n\\n}}}\\n\\nCORRECTED TEXT\\n\\n```\\n(c) Financial Inclusion and Development of the Poor\\n\\nIndia is one of the countries with highly inequitable distribution of wealth. A report pointed out that only 1% of the wealthy Indians hold 90% of the total income of our country. Due to its population explosion, India has one of the lowest per capita incomes. The poor lack even the basic services necessary for a healthy life. We are ranked 132 in the HDI index, which signifies that a lot of groundwork needs to be done to improve even the basic human development factors.\\n\\nFinancial Inclusion refers to providing basic financial services such as banking, insurance, pension, etc. to the poorest and most vulnerable strata of society. Most of the rural poor lack access to basic financial services. The Union Government came out with the PM Jan Dhan Yojana in 2014 to provide banking services to the poor. It provided a basic savings bank deposit account with no minimum deposit requirements. It was the first step in bringing a host of financial services thereafter.\\n\\nIn 2015, the government came out with insurance sector schemes such as PM Suraksha Bima Yojana and PM Jeevan Jyoti Beema Yojana. The former was a personal accident insurance having coverage up to Rs 2 lakhs for death at a premium of Rs 20, and the latter being a life insurance scheme at a premium of Rs 436 for a sum insured of Rs 2 lakhs. This was followed by schemes in the pension sector, namely Atal Pension Yojana, PM Svandhi, PM Shram Yogi Maan Dhan, and recent amendments in NPS.\\n\\nAll the above government initiatives point to the efforts made for the financial inclusion of the poor. These initiatives have not only helped the poor gain access to basic financial services but also for targeted delivery of DBT and subsidy services directly into the bank accounts of the beneficiaries.\\n```\\n\\nRESPONSE:\\n\\n'}]\n"
          ]
        }
      ]
    },
    {
      "cell_type": "code",
      "source": [
        "chat = openai.ChatCompletion.create(model=\"gpt-4\",\n",
        "                                        messages = messages,\n",
        "                                        temperature=0,\n",
        "                                        )"
      ],
      "metadata": {
        "id": "DyvpgVyEDnGG"
      },
      "execution_count": null,
      "outputs": []
    },
    {
      "cell_type": "code",
      "source": [
        "reply = chat.choices[0].message.content"
      ],
      "metadata": {
        "id": "dTlN01xWDrfh"
      },
      "execution_count": null,
      "outputs": []
    },
    {
      "cell_type": "code",
      "source": [
        "print(reply)"
      ],
      "metadata": {
        "colab": {
          "base_uri": "https://localhost:8080/"
        },
        "id": "ecgBm6477vul",
        "outputId": "15c16664-c79c-4d73-96ba-df8861367c52"
      },
      "execution_count": null,
      "outputs": [
        {
          "output_type": "stream",
          "name": "stdout",
          "text": [
            "The new words/phrases that have been added in the corrected text (enclosed within 3 backticks ```) but not present in the original text (enclosed within curly braces {{{ }}}) are:\n",
            "\n",
            "1. \"Development\" (in the title)\n",
            "2. \"incomes\"\n",
            "3. \"are\"\n",
            "4. \"etc.\"\n",
            "5. \"most\"\n",
            "6. \"the\"\n",
            "7. \"a\"\n",
            "8. \"up to\"\n",
            "9. \"lakhs\"\n",
            "10. \"20,\"\n",
            "11. \"was\"\n",
            "12. \"namely\"\n",
            "13. \"Svandhi,\"\n",
            "14. \"into\"\n"
          ]
        }
      ]
    },
    {
      "cell_type": "code",
      "source": [
        "print(reply)"
      ],
      "metadata": {
        "colab": {
          "base_uri": "https://localhost:8080/"
        },
        "id": "NxftenfhDtSo",
        "outputId": "6bb7e2df-1b2d-45d7-a29f-238c4391db3f"
      },
      "execution_count": null,
      "outputs": [
        {
          "output_type": "stream",
          "name": "stdout",
          "text": [
            "The comparison between the two texts reveals the following new words added in TEXT2:\n",
            "\n",
            "1. \"India, due to its population explosion has one of the lowest per capita\" - In TEXT1, the word \"per capita\" is followed by \"incomes\", while in TEXT2, it is followed by a period.\n",
            "\n",
            "2. \"The poor even the basic services necessary for a healthy life.\" - In TEXT1, the word \"lack\" is missing after \"poor\" in TEXT2.\n",
            "\n",
            "3. \"We ranked 132 in the HDI index, which signifies, that a lot of groundwork needs to be done to improve even the basic Human Development factors.\" - In TEXT1, the word \"signifies\" is missing after \"which\" in TEXT2.\n",
            "\n",
            "4. \"such as banking, insurance, pension etc.\" - In TEXT1, the word \"etc.\" is missing after \"pension\" in TEXT2.\n",
            "\n",
            "5. \"The Union Government came out with PM Jan Dhan Yojana in 2014 to provide banking services to the poor.\" - In TEXT1, the word \"out\" is missing after \"came\" in TEXT2.\n",
            "\n",
            "6. \"It provided  basic savings bank deposit account with no minimum deposit requirements.\" - In TEXT1, there is an extra space before \"basic\" in TEXT2.\n",
            "\n",
            "7. \"In 2015, government came out with insurance sector schemes such as PM Suraksha Bima Yojana and PM Jeevan Jyoti Beema Yojana.\" - In TEXT1, the word \"the\" is missing before \"government\" in TEXT2.\n",
            "\n",
            "8. \"The former was a Personal accident insurance having coverage upto Rs 2 lacs for death at a premium of Rs 20/-and the latter being a life insurance scheme at a premium of Rs 436/- for Sum Insured of Rs 2 lacs.\" - In TEXT1, there is an extra space before \"and\" in TEXT2.\n",
            "\n",
            "9. \"This followed with schemes in the pension sector viz. Atal Pension Yojana, PM SVanidhi, PM Shram Yogi Maan dhan and recent amendments in NPS.\" - In TEXT1, the word \"with\" is missing after \"followed\" in TEXT2.\n",
            "\n",
            "10. \"These initiatives have not only helped poor gain access to basic financial services, but also for targeted delivery of DBT and subsidy services directly in the bank accounts of the beneficiaries.\" - In TEXT1, the word \"the\" is missing before \"poor\" in TEXT2.\n",
            "\n",
            "These are the new words added in TEXT2 compared to TEXT1.\n"
          ]
        }
      ]
    },
    {
      "cell_type": "code",
      "source": [
        "print(reply)"
      ],
      "metadata": {
        "colab": {
          "base_uri": "https://localhost:8080/"
        },
        "id": "JveMyGzfDuAA",
        "outputId": "d1b561ba-8f21-42ab-c7c7-3da7815fad18"
      },
      "execution_count": null,
      "outputs": [
        {
          "output_type": "stream",
          "name": "stdout",
          "text": [
            "The following words are missing in the corrected text:\n",
            "\n",
            "- \"income\"\n",
            "- \"explosion\"\n",
            "- \"even\"\n",
            "- \"the\"\n",
            "- \"basic\"\n",
            "- \"services\"\n",
            "- \"necessary\"\n",
            "- \"ranked\"\n",
            "- \"signifies\"\n",
            "- \"Human\"\n",
            "- \"Development\"\n",
            "- \"such\"\n",
            "- \"as\"\n",
            "- \"etc.\"\n",
            "- \"the\"\n",
            "- \"and\"\n",
            "- \"the\"\n",
            "- \"access\"\n",
            "- \"to\"\n",
            "- \"the\"\n",
            "- \"the\"\n",
            "- \"came\"\n",
            "- \"out\"\n",
            "- \"with\"\n",
            "- \"to\"\n",
            "- \"the\"\n",
            "- \"It\"\n",
            "- \"was\"\n",
            "- \"the\"\n",
            "- \"first\"\n",
            "- \"step\"\n",
            "- \"in\"\n",
            "- \"bringing\"\n",
            "- \"a\"\n",
            "- \"host\"\n",
            "- \"of\"\n",
            "- \"thereafter\"\n",
            "- \"2015\"\n",
            "- \"government\"\n",
            "- \"out\"\n",
            "- \"with\"\n",
            "- \"such\"\n",
            "- \"as\"\n",
            "- \"the\"\n",
            "- \"former\"\n",
            "- \"was\"\n",
            "- \"a\"\n",
            "- \"Personal\"\n",
            "- \"accident\"\n",
            "- \"upto\"\n",
            "- \"lacs\"\n",
            "- \"for\"\n",
            "- \"at\"\n",
            "- \"a\"\n",
            "- \"premium\"\n",
            "- \"of\"\n",
            "- \"and\"\n",
            "- \"the\"\n",
            "- \"being\"\n",
            "- \"a\"\n",
            "- \"life\"\n",
            "- \"at\"\n",
            "- \"a\"\n",
            "- \"premium\"\n",
            "- \"of\"\n",
            "- \"for\"\n",
            "- \"Sum\"\n",
            "- \"Insured\"\n",
            "- \"of\"\n",
            "- \"followed\"\n",
            "- \"with\"\n",
            "- \"schemes\"\n",
            "- \"in\"\n",
            "- \"the\"\n",
            "- \"sector\"\n",
            "- \"viz.\"\n",
            "- \"PM\"\n",
            "- \"SVanidhi\"\n",
            "- \"PM\"\n",
            "- \"Shram\"\n",
            "- \"Yogi\"\n",
            "- \"Maan\"\n",
            "- \"dhan\"\n",
            "- \"and\"\n",
            "- \"recent\"\n",
            "- \"amendments\"\n",
            "- \"in\"\n",
            "- \"All\"\n",
            "- \"the\"\n",
            "- \"above\"\n",
            "- \"government\"\n",
            "- \"initiatives\"\n",
            "- \"point\"\n",
            "- \"to\"\n",
            "- \"the\"\n",
            "- \"efforts\"\n",
            "- \"made\"\n",
            "- \"for\"\n",
            "- \"the\"\n",
            "- \"of\"\n",
            "- \"the\"\n",
            "- \"These\"\n",
            "- \"initiatives\"\n",
            "- \"have\"\n",
            "- \"not\"\n",
            "- \"only\"\n",
            "- \"helped\"\n",
            "- \"poor\"\n",
            "- \"gain\"\n",
            "- \"to\"\n",
            "- \"but\"\n",
            "- \"also\"\n",
            "- \"for\"\n",
            "- \"delivery\"\n",
            "- \"of\"\n",
            "- \"DBT\"\n",
            "- \"and\"\n",
            "- \"subsidy\"\n",
            "- \"directly\"\n",
            "- \"in\"\n",
            "- \"the\"\n",
            "- \"bank\"\n",
            "- \"accounts\"\n",
            "- \"of\"\n",
            "- \"the\"\n",
            "- \"beneficiaries\"\n"
          ]
        }
      ]
    },
    {
      "cell_type": "code",
      "source": [
        "print(reply)"
      ],
      "metadata": {
        "colab": {
          "base_uri": "https://localhost:8080/"
        },
        "id": "TE_5LZo6F5e-",
        "outputId": "48b706c3-d0e6-4faa-c658-658ec2747588"
      },
      "execution_count": null,
      "outputs": [
        {
          "output_type": "stream",
          "name": "stdout",
          "text": [
            "Based on a comparison of the two texts, the following new words have been added in the corrected text:\n",
            "\n",
            "1. \"India, due to its population explosion has one of the lowest per capita.\"\n",
            "2. \"The poor even the basic services necessary for a healthy life.\"\n",
            "3. \"We ranked 132 in the HDI index, which signifies, that a lot of groundwork needs to be done to improve even the basic Human Development factors.\"\n",
            "4. \"The Union Government came out with PM Jan Dhan Yojana in 2014 to provide banking services to the poor.\"\n",
            "5. \"It provided basic savings bank deposit account with no minimum deposit requirements.\"\n",
            "6. \"It was the first step in bringing a host of financial services thereafter.\"\n",
            "7. \"In 2015, government came out with insurance sector schemes such as PM Suraksha Bima Yojana and PM Jeevan Jyoti Beema Yojana.\"\n",
            "8. \"The former was a Personal accident insurance having coverage upto Rs 2 lacs for death at a premium of Rs 20/-and the latter being a life insurance scheme at a premium of Rs 436/- for Sum Insured of Rs 2 lacs.\"\n",
            "9. \"This followed with schemes in the pension sector viz. Atal Pension Yojana, PM SVanidhi, PM Shram Yogi Maan dhan and recent amendments in NPS.\"\n",
            "10. \"All the above government initiatives point to the efforts made for the financial inclusion of the poor.\"\n",
            "11. \"These initiatives have not only helped poor gain access to basic financial services, but also for targeted delivery of DBT and subsidy services directly in the bank accounts of the beneficiaries.\"\n",
            "\n",
            "These are the new words added in the corrected text compared to the original text.\n"
          ]
        }
      ]
    },
    {
      "cell_type": "code",
      "source": [
        "print(reply)"
      ],
      "metadata": {
        "colab": {
          "base_uri": "https://localhost:8080/"
        },
        "id": "WqFah0uUGswl",
        "outputId": "a886b37a-f51d-4699-c83c-e8d22f05a085"
      },
      "execution_count": null,
      "outputs": [
        {
          "output_type": "stream",
          "name": "stdout",
          "text": [
            "The corrected text has made the following changes:\n",
            "\n",
            "1. \"development\" has been capitalized in the title: \"Financial Inclusion and Development of the Poor\"\n",
            "2. \"India\" has been added before \"due to its population explosion\"\n",
            "3. \"even\" has been added before \"the basic services necessary for a healthy life\"\n",
            "4. \"We\" has been capitalized: \"We ranked 132 in the HDI index\"\n",
            "5. \"such\" has been added before \"as banking, insurance, pension etc.\"\n",
            "6. \"the\" has been added before \"poorest and the vulnerable strata of society\"\n",
            "7. \"the\" has been added before \"access to basic financial services\"\n",
            "8. \"Union\" has been capitalized: \"The Union Government came out with PM Jan Dhan Yojana\"\n",
            "9. \"It\" has been capitalized: \"It provided basic savings bank deposit account\"\n",
            "10. \"It\" has been capitalized: \"It was the first step in bringing a host of financial services thereafter\"\n",
            "11. \"government\" has been capitalized: \"In 2015, the government came out with insurance sector schemes\"\n",
            "12. \"such\" has been added before \"as PM Suraksha Bima Yojana and PM Jeevan Jyoti Beema Yojana\"\n",
            "13. \"the\" has been added before \"former was a Personal accident insurance\"\n",
            "14. \"upto\" has been changed to \"up to\"\n",
            "15. \"lacs\" has been changed to \"lakhs\"\n",
            "16. \"at\" has been added before \"a premium of Rs 20/-\"\n",
            "17. \"and\" has been added before \"the latter being a life insurance scheme\"\n",
            "18. \"at\" has been added before \"a premium of Rs 436/-\"\n",
            "19. \"for\" has been added before \"Sum Insured of Rs 2 lakhs\"\n",
            "20. \"This\" has been capitalized: \"This followed with schemes in the pension sector\"\n",
            "21. \"viz.\" has been changed to \"namely\"\n",
            "22. \"PM SVanidhi\" has been changed to \"PM Svandhi\"\n",
            "23. \"PM Shram Yogi Maan dhan\" has been changed to \"PM Shram Yogi Maan Dhan\"\n",
            "24. \"DBT\" has been capitalized: \"targeted delivery of DBT and subsidy services\"\n",
            "25. \"in\" has been changed to \"into\" before \"the bank accounts of the beneficiaries\"\n",
            "\n",
            "These are the changes made in the corrected text.\n"
          ]
        }
      ]
    }
  ]
}