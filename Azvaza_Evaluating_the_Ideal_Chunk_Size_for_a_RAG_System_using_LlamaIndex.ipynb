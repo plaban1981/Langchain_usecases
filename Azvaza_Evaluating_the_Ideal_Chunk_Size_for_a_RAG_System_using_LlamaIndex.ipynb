{
  "cells": [
    {
      "cell_type": "markdown",
      "metadata": {
        "id": "view-in-github",
        "colab_type": "text"
      },
      "source": [
        "<a href=\"https://colab.research.google.com/github/plaban1981/Langchain_usecases/blob/main/Azvaza_Evaluating_the_Ideal_Chunk_Size_for_a_RAG_System_using_LlamaIndex.ipynb\" target=\"_parent\"><img src=\"https://colab.research.google.com/assets/colab-badge.svg\" alt=\"Open In Colab\"/></a>"
      ]
    },
    {
      "cell_type": "markdown",
      "source": [
        "## Install necessary packages"
      ],
      "metadata": {
        "id": "BbmD4haBDk_B"
      }
    },
    {
      "cell_type": "code",
      "source": [
        "! pip  install -qU openai langchain PyPDF2 transformers tiktoken pinecone-client sentence-transformers qdrant-client"
      ],
      "metadata": {
        "colab": {
          "base_uri": "https://localhost:8080/"
        },
        "id": "_BLar6lEDrpm",
        "outputId": "42d77bb8-5c12-4429-b0aa-30114d51b88d"
      },
      "execution_count": 1,
      "outputs": [
        {
          "output_type": "stream",
          "name": "stdout",
          "text": [
            "\u001b[2K     \u001b[90m━━━━━━━━━━━━━━━━━━━━━━━━━━━━━━━━━━━━━━━━\u001b[0m \u001b[32m77.0/77.0 kB\u001b[0m \u001b[31m2.0 MB/s\u001b[0m eta \u001b[36m0:00:00\u001b[0m\n",
            "\u001b[2K     \u001b[90m━━━━━━━━━━━━━━━━━━━━━━━━━━━━━━━━━━━━━━━━\u001b[0m \u001b[32m1.8/1.8 MB\u001b[0m \u001b[31m31.4 MB/s\u001b[0m eta \u001b[36m0:00:00\u001b[0m\n",
            "\u001b[2K     \u001b[90m━━━━━━━━━━━━━━━━━━━━━━━━━━━━━━━━━━━━━━\u001b[0m \u001b[32m232.6/232.6 kB\u001b[0m \u001b[31m19.2 MB/s\u001b[0m eta \u001b[36m0:00:00\u001b[0m\n",
            "\u001b[2K     \u001b[90m━━━━━━━━━━━━━━━━━━━━━━━━━━━━━━━━━━━━━━━━\u001b[0m \u001b[32m7.7/7.7 MB\u001b[0m \u001b[31m99.0 MB/s\u001b[0m eta \u001b[36m0:00:00\u001b[0m\n",
            "\u001b[2K     \u001b[90m━━━━━━━━━━━━━━━━━━━━━━━━━━━━━━━━━━━━━━━━\u001b[0m \u001b[32m2.0/2.0 MB\u001b[0m \u001b[31m75.6 MB/s\u001b[0m eta \u001b[36m0:00:00\u001b[0m\n",
            "\u001b[2K     \u001b[90m━━━━━━━━━━━━━━━━━━━━━━━━━━━━━━━━━━━━━━\u001b[0m \u001b[32m179.4/179.4 kB\u001b[0m \u001b[31m17.1 MB/s\u001b[0m eta \u001b[36m0:00:00\u001b[0m\n",
            "\u001b[2K     \u001b[90m━━━━━━━━━━━━━━━━━━━━━━━━━━━━━━━━━━━━━━━━\u001b[0m \u001b[32m86.0/86.0 kB\u001b[0m \u001b[31m9.5 MB/s\u001b[0m eta \u001b[36m0:00:00\u001b[0m\n",
            "\u001b[?25h  Preparing metadata (setup.py) ... \u001b[?25l\u001b[?25hdone\n",
            "\u001b[2K     \u001b[90m━━━━━━━━━━━━━━━━━━━━━━━━━━━━━━━━━━━━━━\u001b[0m \u001b[32m150.3/150.3 kB\u001b[0m \u001b[31m15.6 MB/s\u001b[0m eta \u001b[36m0:00:00\u001b[0m\n",
            "\u001b[2K     \u001b[90m━━━━━━━━━━━━━━━━━━━━━━━━━━━━━━━━━━━━━━━━\u001b[0m \u001b[32m40.0/40.0 kB\u001b[0m \u001b[31m4.0 MB/s\u001b[0m eta \u001b[36m0:00:00\u001b[0m\n",
            "\u001b[2K     \u001b[90m━━━━━━━━━━━━━━━━━━━━━━━━━━━━━━━━━━━━━━\u001b[0m \u001b[32m295.0/295.0 kB\u001b[0m \u001b[31m23.7 MB/s\u001b[0m eta \u001b[36m0:00:00\u001b[0m\n",
            "\u001b[2K     \u001b[90m━━━━━━━━━━━━━━━━━━━━━━━━━━━━━━━━━━━━━━━━\u001b[0m \u001b[32m3.8/3.8 MB\u001b[0m \u001b[31m93.0 MB/s\u001b[0m eta \u001b[36m0:00:00\u001b[0m\n",
            "\u001b[2K     \u001b[90m━━━━━━━━━━━━━━━━━━━━━━━━━━━━━━━━━━━━━━━━\u001b[0m \u001b[32m1.3/1.3 MB\u001b[0m \u001b[31m76.6 MB/s\u001b[0m eta \u001b[36m0:00:00\u001b[0m\n",
            "\u001b[2K     \u001b[90m━━━━━━━━━━━━━━━━━━━━━━━━━━━━━━━━━━━━━━━━\u001b[0m \u001b[32m62.5/62.5 kB\u001b[0m \u001b[31m6.5 MB/s\u001b[0m eta \u001b[36m0:00:00\u001b[0m\n",
            "\u001b[2K     \u001b[90m━━━━━━━━━━━━━━━━━━━━━━━━━━━━━━━━━━━━━━\u001b[0m \u001b[32m300.4/300.4 kB\u001b[0m \u001b[31m24.7 MB/s\u001b[0m eta \u001b[36m0:00:00\u001b[0m\n",
            "\u001b[2K     \u001b[90m━━━━━━━━━━━━━━━━━━━━━━━━━━━━━━━━━━━━━━━━\u001b[0m \u001b[32m1.3/1.3 MB\u001b[0m \u001b[31m71.4 MB/s\u001b[0m eta \u001b[36m0:00:00\u001b[0m\n",
            "\u001b[2K     \u001b[90m━━━━━━━━━━━━━━━━━━━━━━━━━━━━━━━━━━━━━━━━\u001b[0m \u001b[32m2.7/2.7 MB\u001b[0m \u001b[31m66.0 MB/s\u001b[0m eta \u001b[36m0:00:00\u001b[0m\n",
            "\u001b[2K     \u001b[90m━━━━━━━━━━━━━━━━━━━━━━━━━━━━━━━━━━━━━━━━\u001b[0m \u001b[32m75.7/75.7 kB\u001b[0m \u001b[31m7.0 MB/s\u001b[0m eta \u001b[36m0:00:00\u001b[0m\n",
            "\u001b[2K     \u001b[90m━━━━━━━━━━━━━━━━━━━━━━━━━━━━━━━━━━━━━━\u001b[0m \u001b[32m143.4/143.4 kB\u001b[0m \u001b[31m16.3 MB/s\u001b[0m eta \u001b[36m0:00:00\u001b[0m\n",
            "\u001b[2K     \u001b[90m━━━━━━━━━━━━━━━━━━━━━━━━━━━━━━━━━━━━━━━━\u001b[0m \u001b[32m49.4/49.4 kB\u001b[0m \u001b[31m5.4 MB/s\u001b[0m eta \u001b[36m0:00:00\u001b[0m\n",
            "\u001b[2K     \u001b[90m━━━━━━━━━━━━━━━━━━━━━━━━━━━━━━━━━━━━━━\u001b[0m \u001b[32m311.6/311.6 kB\u001b[0m \u001b[31m28.8 MB/s\u001b[0m eta \u001b[36m0:00:00\u001b[0m\n",
            "\u001b[2K     \u001b[90m━━━━━━━━━━━━━━━━━━━━━━━━━━━━━━━━━━━━━━━━\u001b[0m \u001b[32m76.0/76.0 kB\u001b[0m \u001b[31m8.9 MB/s\u001b[0m eta \u001b[36m0:00:00\u001b[0m\n",
            "\u001b[2K     \u001b[90m━━━━━━━━━━━━━━━━━━━━━━━━━━━━━━━━━━━━━━━━\u001b[0m \u001b[32m57.5/57.5 kB\u001b[0m \u001b[31m6.3 MB/s\u001b[0m eta \u001b[36m0:00:00\u001b[0m\n",
            "\u001b[2K     \u001b[90m━━━━━━━━━━━━━━━━━━━━━━━━━━━━━━━━━━━━━━━━\u001b[0m \u001b[32m58.3/58.3 kB\u001b[0m \u001b[31m4.1 MB/s\u001b[0m eta \u001b[36m0:00:00\u001b[0m\n",
            "\u001b[?25h  Building wheel for sentence-transformers (setup.py) ... \u001b[?25l\u001b[?25hdone\n",
            "\u001b[31mERROR: pip's dependency resolver does not currently take into account all the packages that are installed. This behaviour is the source of the following dependency conflicts.\n",
            "tensorflow-metadata 1.14.0 requires protobuf<4.21,>=3.20.3, but you have protobuf 4.24.4 which is incompatible.\u001b[0m\u001b[31m\n",
            "\u001b[0m"
          ]
        }
      ]
    },
    {
      "cell_type": "code",
      "source": [
        "!pip install -q protobuf==3.20.3"
      ],
      "metadata": {
        "colab": {
          "base_uri": "https://localhost:8080/"
        },
        "id": "k8I5vDxoERIY",
        "outputId": "57df4b9f-0c51-4795-dda9-434066ad8696"
      },
      "execution_count": 2,
      "outputs": [
        {
          "output_type": "stream",
          "name": "stdout",
          "text": [
            "\u001b[?25l     \u001b[90m━━━━━━━━━━━━━━━━━━━━━━━━━━━━━━━━━━━━━━━━\u001b[0m \u001b[32m0.0/1.1 MB\u001b[0m \u001b[31m?\u001b[0m eta \u001b[36m-:--:--\u001b[0m\r\u001b[2K     \u001b[91m━\u001b[0m\u001b[91m╸\u001b[0m\u001b[90m━━━━━━━━━━━━━━━━━━━━━━━━━━━━━━━━━━━━━━\u001b[0m \u001b[32m0.1/1.1 MB\u001b[0m \u001b[31m1.3 MB/s\u001b[0m eta \u001b[36m0:00:01\u001b[0m\r\u001b[2K     \u001b[91m━━━━━━━━━━━━━━\u001b[0m\u001b[90m╺\u001b[0m\u001b[90m━━━━━━━━━━━━━━━━━━━━━━━━━\u001b[0m \u001b[32m0.4/1.1 MB\u001b[0m \u001b[31m5.1 MB/s\u001b[0m eta \u001b[36m0:00:01\u001b[0m\r\u001b[2K     \u001b[91m━━━━━━━━━━━━━━━━━━━━━━━━━━━━━\u001b[0m\u001b[91m╸\u001b[0m\u001b[90m━━━━━━━━━━\u001b[0m \u001b[32m0.8/1.1 MB\u001b[0m \u001b[31m7.1 MB/s\u001b[0m eta \u001b[36m0:00:01\u001b[0m\r\u001b[2K     \u001b[90m━━━━━━━━━━━━━━━━━━━━━━━━━━━━━━━━━━━━━━━━\u001b[0m \u001b[32m1.1/1.1 MB\u001b[0m \u001b[31m7.4 MB/s\u001b[0m eta \u001b[36m0:00:00\u001b[0m\n",
            "\u001b[?25h\u001b[31mERROR: pip's dependency resolver does not currently take into account all the packages that are installed. This behaviour is the source of the following dependency conflicts.\n",
            "grpcio-tools 1.59.0 requires protobuf<5.0dev,>=4.21.6, but you have protobuf 3.20.3 which is incompatible.\u001b[0m\u001b[31m\n",
            "\u001b[0m"
          ]
        }
      ]
    },
    {
      "cell_type": "code",
      "source": [
        "!pip install -q \"unstructured[all-docs]\""
      ],
      "metadata": {
        "colab": {
          "base_uri": "https://localhost:8080/"
        },
        "id": "pVEtUNGiEUMi",
        "outputId": "c46d173a-7938-4963-cccb-c4ea5fcc81d8"
      },
      "execution_count": 3,
      "outputs": [
        {
          "output_type": "stream",
          "name": "stdout",
          "text": [
            "\u001b[2K     \u001b[90m━━━━━━━━━━━━━━━━━━━━━━━━━━━━━━━━━━━━━━━━\u001b[0m \u001b[32m1.6/1.6 MB\u001b[0m \u001b[31m8.0 MB/s\u001b[0m eta \u001b[36m0:00:00\u001b[0m\n",
            "\u001b[2K     \u001b[90m━━━━━━━━━━━━━━━━━━━━━━━━━━━━━━━━━━━━━━\u001b[0m \u001b[32m358.9/358.9 kB\u001b[0m \u001b[31m12.0 MB/s\u001b[0m eta \u001b[36m0:00:00\u001b[0m\n",
            "\u001b[2K     \u001b[90m━━━━━━━━━━━━━━━━━━━━━━━━━━━━━━━━━━━━━━\u001b[0m \u001b[32m275.1/275.1 kB\u001b[0m \u001b[31m10.5 MB/s\u001b[0m eta \u001b[36m0:00:00\u001b[0m\n",
            "\u001b[2K     \u001b[90m━━━━━━━━━━━━━━━━━━━━━━━━━━━━━━━━━━━━━━\u001b[0m \u001b[32m981.5/981.5 kB\u001b[0m \u001b[31m15.1 MB/s\u001b[0m eta \u001b[36m0:00:00\u001b[0m\n",
            "\u001b[?25h  Preparing metadata (setup.py) ... \u001b[?25l\u001b[?25hdone\n",
            "\u001b[2K     \u001b[90m━━━━━━━━━━━━━━━━━━━━━━━━━━━━━━━━━━━━━━\u001b[0m \u001b[32m101.8/101.8 kB\u001b[0m \u001b[31m10.2 MB/s\u001b[0m eta \u001b[36m0:00:00\u001b[0m\n",
            "\u001b[2K     \u001b[90m━━━━━━━━━━━━━━━━━━━━━━━━━━━━━━━━━━━━━━━━\u001b[0m \u001b[32m5.6/5.6 MB\u001b[0m \u001b[31m26.1 MB/s\u001b[0m eta \u001b[36m0:00:00\u001b[0m\n",
            "\u001b[2K     \u001b[90m━━━━━━━━━━━━━━━━━━━━━━━━━━━━━━━━━━━━━━━━\u001b[0m \u001b[32m10.1/10.1 MB\u001b[0m \u001b[31m45.2 MB/s\u001b[0m eta \u001b[36m0:00:00\u001b[0m\n",
            "\u001b[?25h  Preparing metadata (setup.py) ... \u001b[?25l\u001b[?25hdone\n",
            "\u001b[2K     \u001b[90m━━━━━━━━━━━━━━━━━━━━━━━━━━━━━━━━━━━━━━━━\u001b[0m \u001b[32m5.6/5.6 MB\u001b[0m \u001b[31m55.4 MB/s\u001b[0m eta \u001b[36m0:00:00\u001b[0m\n",
            "\u001b[?25h  Preparing metadata (setup.py) ... \u001b[?25l\u001b[?25hdone\n",
            "\u001b[2K     \u001b[90m━━━━━━━━━━━━━━━━━━━━━━━━━━━━━━━━━━━━━━━━\u001b[0m \u001b[32m60.2/60.2 kB\u001b[0m \u001b[31m6.3 MB/s\u001b[0m eta \u001b[36m0:00:00\u001b[0m\n",
            "\u001b[2K     \u001b[90m━━━━━━━━━━━━━━━━━━━━━━━━━━━━━━━━━━━━━━\u001b[0m \u001b[32m115.5/115.5 kB\u001b[0m \u001b[31m11.1 MB/s\u001b[0m eta \u001b[36m0:00:00\u001b[0m\n",
            "\u001b[?25h  Preparing metadata (setup.py) ... \u001b[?25l\u001b[?25hdone\n",
            "\u001b[2K     \u001b[90m━━━━━━━━━━━━━━━━━━━━━━━━━━━━━━━━━━━━━━━━\u001b[0m \u001b[32m19.2/19.2 MB\u001b[0m \u001b[31m24.0 MB/s\u001b[0m eta \u001b[36m0:00:00\u001b[0m\n",
            "\u001b[2K     \u001b[90m━━━━━━━━━━━━━━━━━━━━━━━━━━━━━━━━━━━━━━━━\u001b[0m \u001b[32m45.7/45.7 kB\u001b[0m \u001b[31m4.8 MB/s\u001b[0m eta \u001b[36m0:00:00\u001b[0m\n",
            "\u001b[2K     \u001b[90m━━━━━━━━━━━━━━━━━━━━━━━━━━━━━━━━━━━━━━━━\u001b[0m \u001b[32m14.6/14.6 MB\u001b[0m \u001b[31m79.1 MB/s\u001b[0m eta \u001b[36m0:00:00\u001b[0m\n",
            "\u001b[2K     \u001b[90m━━━━━━━━━━━━━━━━━━━━━━━━━━━━━━━━━━━━━━━━\u001b[0m \u001b[32m6.2/6.2 MB\u001b[0m \u001b[31m98.9 MB/s\u001b[0m eta \u001b[36m0:00:00\u001b[0m\n",
            "\u001b[2K     \u001b[90m━━━━━━━━━━━━━━━━━━━━━━━━━━━━━━━━━━━━━━━━\u001b[0m \u001b[32m3.2/3.2 MB\u001b[0m \u001b[31m87.1 MB/s\u001b[0m eta \u001b[36m0:00:00\u001b[0m\n",
            "\u001b[2K     \u001b[90m━━━━━━━━━━━━━━━━━━━━━━━━━━━━━━━━━━━━━━\u001b[0m \u001b[32m154.5/154.5 kB\u001b[0m \u001b[31m13.8 MB/s\u001b[0m eta \u001b[36m0:00:00\u001b[0m\n",
            "\u001b[2K     \u001b[90m━━━━━━━━━━━━━━━━━━━━━━━━━━━━━━━━━━━━━━\u001b[0m \u001b[32m112.2/112.2 kB\u001b[0m \u001b[31m12.4 MB/s\u001b[0m eta \u001b[36m0:00:00\u001b[0m\n",
            "\u001b[?25h  Preparing metadata (setup.py) ... \u001b[?25l\u001b[?25hdone\n",
            "\u001b[2K     \u001b[90m━━━━━━━━━━━━━━━━━━━━━━━━━━━━━━━━━━━━━━━━\u001b[0m \u001b[32m42.2/42.2 kB\u001b[0m \u001b[31m4.6 MB/s\u001b[0m eta \u001b[36m0:00:00\u001b[0m\n",
            "\u001b[?25h  Preparing metadata (setup.py) ... \u001b[?25l\u001b[?25hdone\n",
            "\u001b[2K     \u001b[90m━━━━━━━━━━━━━━━━━━━━━━━━━━━━━━━━━━━━━━━━\u001b[0m \u001b[32m47.5/47.5 kB\u001b[0m \u001b[31m5.1 MB/s\u001b[0m eta \u001b[36m0:00:00\u001b[0m\n",
            "\u001b[2K     \u001b[90m━━━━━━━━━━━━━━━━━━━━━━━━━━━━━━━━━━━━━━\u001b[0m \u001b[32m112.5/112.5 kB\u001b[0m \u001b[31m10.8 MB/s\u001b[0m eta \u001b[36m0:00:00\u001b[0m\n",
            "\u001b[2K     \u001b[90m━━━━━━━━━━━━━━━━━━━━━━━━━━━━━━━━━━━━━━━━\u001b[0m \u001b[32m46.0/46.0 kB\u001b[0m \u001b[31m3.9 MB/s\u001b[0m eta \u001b[36m0:00:00\u001b[0m\n",
            "\u001b[2K     \u001b[90m━━━━━━━━━━━━━━━━━━━━━━━━━━━━━━━━━━━━━━━━\u001b[0m \u001b[32m86.8/86.8 kB\u001b[0m \u001b[31m9.0 MB/s\u001b[0m eta \u001b[36m0:00:00\u001b[0m\n",
            "\u001b[2K     \u001b[90m━━━━━━━━━━━━━━━━━━━━━━━━━━━━━━━━━━━━━━━━\u001b[0m \u001b[32m2.2/2.2 MB\u001b[0m \u001b[31m39.3 MB/s\u001b[0m eta \u001b[36m0:00:00\u001b[0m\n",
            "\u001b[2K     \u001b[90m━━━━━━━━━━━━━━━━━━━━━━━━━━━━━━━━━━━━━━━━\u001b[0m \u001b[32m79.5/79.5 kB\u001b[0m \u001b[31m8.7 MB/s\u001b[0m eta \u001b[36m0:00:00\u001b[0m\n",
            "\u001b[2K     \u001b[90m━━━━━━━━━━━━━━━━━━━━━━━━━━━━━━━━━━━━━━━━\u001b[0m \u001b[32m3.0/3.0 MB\u001b[0m \u001b[31m66.2 MB/s\u001b[0m eta \u001b[36m0:00:00\u001b[0m\n",
            "\u001b[2K     \u001b[90m━━━━━━━━━━━━━━━━━━━━━━━━━━━━━━━━━━━━━━\u001b[0m \u001b[32m117.0/117.0 kB\u001b[0m \u001b[31m11.2 MB/s\u001b[0m eta \u001b[36m0:00:00\u001b[0m\n",
            "\u001b[?25h  Preparing metadata (setup.py) ... \u001b[?25l\u001b[?25hdone\n",
            "  Building wheel for python-pptx (setup.py) ... \u001b[?25l\u001b[?25hdone\n",
            "  Building wheel for ebooklib (setup.py) ... \u001b[?25l\u001b[?25hdone\n",
            "  Building wheel for langdetect (setup.py) ... \u001b[?25l\u001b[?25hdone\n",
            "  Building wheel for python-docx (setup.py) ... \u001b[?25l\u001b[?25hdone\n",
            "  Building wheel for olefile (setup.py) ... \u001b[?25l\u001b[?25hdone\n",
            "  Building wheel for iopath (setup.py) ... \u001b[?25l\u001b[?25hdone\n",
            "  Building wheel for antlr4-python3-runtime (setup.py) ... \u001b[?25l\u001b[?25hdone\n"
          ]
        }
      ]
    },
    {
      "cell_type": "code",
      "source": [
        "! pip install -qU tiktoken"
      ],
      "metadata": {
        "id": "qRRrtuEHEcO_"
      },
      "execution_count": 4,
      "outputs": []
    },
    {
      "cell_type": "markdown",
      "source": [
        "## Packages for scanned documents"
      ],
      "metadata": {
        "id": "wECcG4H4E1J7"
      }
    },
    {
      "cell_type": "code",
      "source": [
        "!apt install tesseract-ocr"
      ],
      "metadata": {
        "colab": {
          "base_uri": "https://localhost:8080/"
        },
        "id": "kSgeMamgE2vl",
        "outputId": "3afd8f48-fa5d-4025-e5eb-0adf6ab17709"
      },
      "execution_count": 5,
      "outputs": [
        {
          "output_type": "stream",
          "name": "stdout",
          "text": [
            "Reading package lists... Done\n",
            "Building dependency tree... Done\n",
            "Reading state information... Done\n",
            "The following additional packages will be installed:\n",
            "  tesseract-ocr-eng tesseract-ocr-osd\n",
            "The following NEW packages will be installed:\n",
            "  tesseract-ocr tesseract-ocr-eng tesseract-ocr-osd\n",
            "0 upgraded, 3 newly installed, 0 to remove and 18 not upgraded.\n",
            "Need to get 4,816 kB of archives.\n",
            "After this operation, 15.6 MB of additional disk space will be used.\n",
            "Get:1 http://archive.ubuntu.com/ubuntu jammy/universe amd64 tesseract-ocr-eng all 1:4.00~git30-7274cfa-1.1 [1,591 kB]\n",
            "Get:2 http://archive.ubuntu.com/ubuntu jammy/universe amd64 tesseract-ocr-osd all 1:4.00~git30-7274cfa-1.1 [2,990 kB]\n",
            "Get:3 http://archive.ubuntu.com/ubuntu jammy/universe amd64 tesseract-ocr amd64 4.1.1-2.1build1 [236 kB]\n",
            "Fetched 4,816 kB in 1s (7,663 kB/s)\n",
            "Selecting previously unselected package tesseract-ocr-eng.\n",
            "(Reading database ... 120875 files and directories currently installed.)\n",
            "Preparing to unpack .../tesseract-ocr-eng_1%3a4.00~git30-7274cfa-1.1_all.deb ...\n",
            "Unpacking tesseract-ocr-eng (1:4.00~git30-7274cfa-1.1) ...\n",
            "Selecting previously unselected package tesseract-ocr-osd.\n",
            "Preparing to unpack .../tesseract-ocr-osd_1%3a4.00~git30-7274cfa-1.1_all.deb ...\n",
            "Unpacking tesseract-ocr-osd (1:4.00~git30-7274cfa-1.1) ...\n",
            "Selecting previously unselected package tesseract-ocr.\n",
            "Preparing to unpack .../tesseract-ocr_4.1.1-2.1build1_amd64.deb ...\n",
            "Unpacking tesseract-ocr (4.1.1-2.1build1) ...\n",
            "Setting up tesseract-ocr-eng (1:4.00~git30-7274cfa-1.1) ...\n",
            "Setting up tesseract-ocr-osd (1:4.00~git30-7274cfa-1.1) ...\n",
            "Setting up tesseract-ocr (4.1.1-2.1build1) ...\n",
            "Processing triggers for man-db (2.10.2-1) ...\n"
          ]
        }
      ]
    },
    {
      "cell_type": "code",
      "source": [
        "! apt-get install poppler-utils\n"
      ],
      "metadata": {
        "colab": {
          "base_uri": "https://localhost:8080/"
        },
        "id": "XBZvPFlYE9KL",
        "outputId": "471823ab-9053-44d6-8527-7dd9a9bb4962"
      },
      "execution_count": 6,
      "outputs": [
        {
          "output_type": "stream",
          "name": "stdout",
          "text": [
            "Reading package lists... Done\n",
            "Building dependency tree... Done\n",
            "Reading state information... Done\n",
            "The following NEW packages will be installed:\n",
            "  poppler-utils\n",
            "0 upgraded, 1 newly installed, 0 to remove and 18 not upgraded.\n",
            "Need to get 186 kB of archives.\n",
            "After this operation, 696 kB of additional disk space will be used.\n",
            "Get:1 http://archive.ubuntu.com/ubuntu jammy-updates/main amd64 poppler-utils amd64 22.02.0-2ubuntu0.2 [186 kB]\n",
            "Fetched 186 kB in 0s (905 kB/s)\n",
            "Selecting previously unselected package poppler-utils.\n",
            "(Reading database ... 120922 files and directories currently installed.)\n",
            "Preparing to unpack .../poppler-utils_22.02.0-2ubuntu0.2_amd64.deb ...\n",
            "Unpacking poppler-utils (22.02.0-2ubuntu0.2) ...\n",
            "Setting up poppler-utils (22.02.0-2ubuntu0.2) ...\n",
            "Processing triggers for man-db (2.10.2-1) ...\n"
          ]
        }
      ]
    },
    {
      "cell_type": "code",
      "source": [
        "! pip install -qU pytesseract"
      ],
      "metadata": {
        "id": "Dc2e4lm1E_qJ"
      },
      "execution_count": 7,
      "outputs": []
    },
    {
      "cell_type": "code",
      "source": [
        "! pip3 install -qU python-docx"
      ],
      "metadata": {
        "id": "zkh0UeLrFY_H"
      },
      "execution_count": 8,
      "outputs": []
    },
    {
      "cell_type": "markdown",
      "source": [
        "## Import Necessary Packages"
      ],
      "metadata": {
        "id": "17SkAVjAFLr_"
      }
    },
    {
      "cell_type": "code",
      "source": [
        "from qdrant_client import models, QdrantClient\n",
        "from langchain.embeddings import HuggingFaceEmbeddings\n",
        "from langchain.document_loaders import UnstructuredPDFLoader\n",
        "from langchain.vectorstores.qdrant import Qdrant\n",
        "import PyPDF2\n",
        "from PyPDF2 import PdfReader\n",
        "from tqdm.auto import tqdm\n",
        "from uuid import uuid4\n",
        "from langchain.text_splitter import RecursiveCharacterTextSplitter\n",
        "from langchain.text_splitter import MarkdownTextSplitter\n",
        "from langchain.text_splitter import LatexTextSplitter\n",
        "from transformers import pipeline\n",
        "from sentence_transformers import SentenceTransformer, util\n",
        "import numpy as np\n",
        "import pandas as pd\n",
        "from time import time,sleep\n",
        "import openai\n",
        "from langchain import VectorDBQA\n",
        "from langchain.chains import RetrievalQA\n",
        "from langchain.llms import OpenAI\n",
        "from langchain.chat_models import ChatOpenAI\n",
        "import tiktoken\n",
        "#\n",
        "import os\n",
        "import json\n",
        "#\n",
        "import os\n",
        "from docx import Document"
      ],
      "metadata": {
        "id": "O7wv1nvKFOtc"
      },
      "execution_count": 13,
      "outputs": []
    },
    {
      "cell_type": "markdown",
      "source": [
        "## Connect to drive"
      ],
      "metadata": {
        "id": "m2HGH2s2Hcgh"
      }
    },
    {
      "cell_type": "code",
      "source": [
        "from google.colab import drive\n",
        "drive.mount(\"/content/drive\")"
      ],
      "metadata": {
        "colab": {
          "base_uri": "https://localhost:8080/"
        },
        "id": "mWqumPqCHjE8",
        "outputId": "fbb0e1df-1d3c-4f56-a8a6-dee5c4ad1ecc"
      },
      "execution_count": 12,
      "outputs": [
        {
          "output_type": "stream",
          "name": "stdout",
          "text": [
            "Mounted at /content/drive\n"
          ]
        }
      ]
    },
    {
      "cell_type": "markdown",
      "source": [
        "## Process Documents in .PDF Format"
      ],
      "metadata": {
        "id": "zsMgv1IgF5Y8"
      }
    },
    {
      "cell_type": "code",
      "source": [
        "def read_content(pdf_path,pdf_files):\n",
        "  content = []\n",
        "  for files in pdf_files:\n",
        "    print(files)\n",
        "    if files.split(\".\")[-1] == 'pdf':\n",
        "      file_path = os.path.join(pdf_path,files)\n",
        "      loader = UnstructuredPDFLoader(file_path)\n",
        "      docs = loader.load()\n",
        "      content.append(docs[0])\n",
        "  return content\n",
        "#\n",
        "def get_text_chunks(text):\n",
        "    #text_splitter = RecursiveCharacterTextSplitter(\n",
        "    #text_splitter = MarkdownTextSplitter(\n",
        "    text_splitter = LatexTextSplitter(\n",
        "                            chunk_size=1000,\n",
        "                            chunk_overlap=0)\n",
        "    chunks = text_splitter.split_text(text)\n",
        "    return chunks\n",
        "#"
      ],
      "metadata": {
        "id": "X227FxhvHQvP"
      },
      "execution_count": 27,
      "outputs": []
    },
    {
      "cell_type": "code",
      "source": [
        "import re\n",
        "def remove_whitespace_special_characters(text):\n",
        "    # Remove whitespace and special characters using regex\n",
        "    cleaned_text = re.sub(r'\\s+', ' ', text)  # Remove multiple whitespaces and replace with a single space\n",
        "    cleaned_text = re.sub(r'[^a-zA-Z0-9\\s]', '', cleaned_text)  # Remove special characters\n",
        "    cleaned_text =  re.sub(r'oO', '\\n', cleaned_text)\n",
        "    cleaned_text =  re.sub(r'©', '\\n', cleaned_text)\n",
        "    return cleaned_text"
      ],
      "metadata": {
        "id": "NHkH0KvdL59-"
      },
      "execution_count": 77,
      "outputs": []
    },
    {
      "cell_type": "code",
      "source": [
        "def preprocess_function(request_data,content_type=None):\n",
        "  pdf_docs = request_data[\"pdf1\"]\n",
        "  prompt = request_data[\"query\"]\n",
        "  topic = request_data[\"topic\"]\n",
        "  game = request_data[\"game\"]\n",
        "  ncert = request_data[\"pdf2\"]\n",
        "  interest = request_data[\"USER_INTEREST\"]\n",
        "  #\n",
        "  if pdf_docs != \" \":\n",
        "    pdf_files = [f for f in os.listdir(pdf_docs)]\n",
        "    #\n",
        "    chapter_content = read_content(pdf_docs,pdf_files)\n",
        "\n",
        "  if ncert != \" \":\n",
        "    ncert_files = [f for f in os.listdir(ncert)]\n",
        "    #\n",
        "    ncert_content = read_content(ncert,ncert_files)\n",
        "\n",
        "\n",
        "  #\n",
        "  metadatas = []\n",
        "  texts = []\n",
        "  p = 0\n",
        "  #processing Azvaza content\n",
        "  if pdf_docs  != \" \":\n",
        "    for record in tqdm(chapter_content):\n",
        "        p +=1\n",
        "        # first get metadata fields for this record\n",
        "        metadata = {'page number': p}\n",
        "        # now we create chunks from the record text\n",
        "        record_page_content = remove_whitespace_special_characters(record.page_content)\n",
        "        record_texts = get_text_chunks(record.page_content)\n",
        "        #print(f\"Record Text : \\n{record_texts}\")\n",
        "        # create individual metadata dicts for each chunk\n",
        "        record_metadatas = [{\n",
        "            \"chunk\": j,\"source\":\"Azvasa\",\"text\": text, **metadata\n",
        "        } for j, text in enumerate(record_texts)]\n",
        "        # append these to current batches\n",
        "        texts.extend(record_texts)\n",
        "        metadatas.extend(record_metadatas)\n",
        "  #processing ncert content\n",
        "  if ncert != \" \":\n",
        "    for record in tqdm(ncert_content):\n",
        "        p +=1\n",
        "        # first get metadata fields for this record\n",
        "        metadata = {'page number': p}\n",
        "        # now we create chunks from the record text\n",
        "        record_texts = get_text_chunks(record.page_content)\n",
        "        # create individual metadata dicts for each chunk\n",
        "        record_metadatas = [{\n",
        "            \"chunk\": j,\"source\":\"ncert\",\"text\": text, **metadata\n",
        "        } for j, text in enumerate(record_texts)]\n",
        "        # append these to current batches\n",
        "        texts.extend(record_texts)\n",
        "        metadatas.extend(record_metadatas)\n",
        "  #\n",
        "  c = []\n",
        "  for i in range(len(metadatas)):\n",
        "    c.append(metadatas[i]['text'])\n",
        "\n",
        "  page_content = c\n",
        "  return (chapter_content,page_content,metadatas,prompt,topic,game,interest)"
      ],
      "metadata": {
        "id": "pB3Tps7nG4-v"
      },
      "execution_count": 36,
      "outputs": []
    },
    {
      "cell_type": "code",
      "source": [
        "request_data = {\"pdf1\":\"/content/drive/MyDrive/Plants\",\n",
        "                \"pdf2\":\" \",\n",
        "                \"query\":\"Please generate a detailed study material for the student for the topic 'Plants' which is factually correct and based on the information retrieved from the vector store. Also provide detailed examples for the concepts explained in a step by step manner.\",\n",
        "                \"topic\": \"Fun With Magnets\",\n",
        "                \"USER_INTEREST\":\"Emma Watson\",\n",
        "                \"game\":\"Harry Potter Stories\"}\n",
        "#\n",
        "content = preprocess_function(request_data,content_type=None)\n",
        ""
      ],
      "metadata": {
        "colab": {
          "base_uri": "https://localhost:8080/",
          "height": 344,
          "referenced_widgets": [
            "977dc709d3b349e4a086fc1183e3a2bd",
            "4d2f69cd49d246a0b6a45591c8e804b9",
            "16eb50b4f70f4e79a6c2d60d617fb468",
            "6b3f9650c3da4f428021ef34cf2e93c5",
            "ee82f1dd22434280879a5487c33a91a0",
            "f30fea1f783543cdaf8aee73f2fd6fba",
            "3210143b7a2d4d21ac517bba1ee6f558",
            "d617b556c2b7458b9c98317e4dbeb062",
            "31ce9c311a5a4239a49dbec2c72b1387",
            "f95e6f6ab710486f961a1451b5e96a2f",
            "1881d67ceecf43cba9d9e36582c28f0b"
          ]
        },
        "id": "ftqu73H6GBG6",
        "outputId": "68d47635-5a1b-4ee0-aee8-949ebf6e41b0"
      },
      "execution_count": 70,
      "outputs": [
        {
          "output_type": "stream",
          "name": "stdout",
          "text": [
            "plants_page1.pdf\n",
            "plant_page_2.pdf\n",
            "plants_page3.pdf\n",
            "plants_page4.pdf\n",
            "plants_page5.pdf\n",
            "plants_page6.pdf\n",
            "plants_page7.pdf\n",
            "plants_page8.pdf\n",
            "plants_page9.pdf\n",
            "plants_page10.pdf\n",
            "plants_page11.pdf\n",
            "plants_page12.pdf\n",
            "plants_page13.pdf\n",
            "plants_page14.pdf\n",
            "plants_page15.pdf\n",
            "plants_page16.pdf\n",
            "plants_page17.pdf\n"
          ]
        },
        {
          "output_type": "display_data",
          "data": {
            "text/plain": [
              "  0%|          | 0/17 [00:00<?, ?it/s]"
            ],
            "application/vnd.jupyter.widget-view+json": {
              "version_major": 2,
              "version_minor": 0,
              "model_id": "977dc709d3b349e4a086fc1183e3a2bd"
            }
          },
          "metadata": {}
        }
      ]
    },
    {
      "cell_type": "code",
      "source": [
        "chapter_content,page_content,metadatas,prompt,topic,game,interest = content"
      ],
      "metadata": {
        "id": "pzMPqUYJO2o4"
      },
      "execution_count": 71,
      "outputs": []
    },
    {
      "cell_type": "markdown",
      "source": [
        "## MarkdownTextSplitter"
      ],
      "metadata": {
        "id": "aoO6iQQyPqlq"
      }
    },
    {
      "cell_type": "code",
      "source": [
        "for pages in page_content:\n",
        "  print(remove_whitespace_special_characters(pages))"
      ],
      "metadata": {
        "colab": {
          "base_uri": "https://localhost:8080/"
        },
        "id": "RDoUzBywO4hk",
        "outputId": "39e309c2-15f4-4931-f13f-b4dbfc665841"
      },
      "execution_count": 24,
      "outputs": [
        {
          "output_type": "stream",
          "name": "stdout",
          "text": [
            "\n",
            " Types of Plants  Root  Stem  Leaves  Flowers fruits and seeds CHAPTER 2 PLANTS Overview There are many kinds of plants Some have flowers some dont some give us fruits some give us vegetables some have thorns and some are poisonous too But they are also alike in many ways Plants have roots Plants have stems Plants have leaves Plants need soil sun and water to live Plants make their own food photosynthesis Plants give us oxygen We will study what is common to all plants in this lesson Types of Plants If you look around carefully all the plants have so many variations Each plant has different shape size habitat and so on Plants grow on land as well as in water Based on the structure of a lants they can be classified into these following categories Trees\n",
            "Trees are big tall and strong plants They have a strong thick and brown stem called the the trunk They have many branches that can hold leaves flowers and fruits They also have very thick and strong roots Examples Neem and Banyan  Humility Happiness Fig 1 Coconut Tree ARASA pens\n",
            "Shrub Shrubs are small or mediumsized Oo plants and they are also called as bushes Types of They are generally smaller than trees Plants They have many stems that are thick and strong Examples Rose Hibiscus  and Tulsi Fig 2 Shrubs Root Herb  Herbs are very small plants They have slender and Stem green stems They are used to add flavour in food Many herbs have medicinal value in them The  banana plant is the worlds largest herb Examples L eaves Mint Coriander and Spinach Fig 3 Mint Climbers  Climbers are plants with thin and Flowers fruits and generally coiled stems They cannot grow straight like a tree or shrub They seeds need support to grow They climb on walls other plants or any other support they get to climb Fig 4 Climber Example Pea Money Plant and Bean Creepers Creepers are plants that grow along the ground They cannot grow upright nor can they climb on other plants or walls They Fig 5 Pumpkin creeper Compassion\n",
            "Humility Happiness oe a it gt  Me wv \n",
            "\n",
            " Types of Plants \n",
            " Root  Stem  Leaves  Flowers fruits and seeds have thin and coiled stems and branches They generally bear very Pa rts of a Pl ant big vegetables and fruits Example  Flower Helps in reproduction Leaf Performs photosynthesis Pumpkin Watermelon and Muskmelon Shoot Basic Structure of a Plant exstem Fruit Protects the seeds The basic structure of a typical Stem Supports the plant has two main systems plant Root R  Root system the structure system not Absorbs water below the ground and L sees e Shoot system the structure above the ground Fig6 Parts of a Plant Each structure has specific parts The Root System The underground part of the plant is called the root They grow downward away from sunlight The roots are extremely important to conserve soil as they prevent soil erosion The root system has three parts one main thick primary root its many side branches and roothairs at the end parts of the root branches\n",
            "Together they are known as the root system  Humility Happiness\n",
            "Types of Root System The root system is of two types Tap root and fibrous root system Tap Root System A taproot is a long thick root that points straight down and they have many small branches of root They resemble a plant that is turned upside down however without any leaves on them Plants with taproots include carrots and dandelions Fibrous Roots Tap Roots Fig 7 Different types of roots Fibrous Root System Fibrous roots are made up of many small roots all about the same size The small roots grow out in many directions from the base of the stem Grasses have fibrous root systems Some roots called adventitious roots arise from other plant organs rather than the root such as from stems or leaves   Happiness O Types of Plants\n",
            "\n",
            " Types of Plants  O Stem  Leaves  Flowers fruits and seeds Functions of Roots Roots have three main functions Anchorage The roots fix the plant firmly to the soil and prevent the plant being blown by the wind or washed away by water You will notice this if you try to uproot a plant Absorption Tiny root hairs on secondary the root absorb water and nutrients from the soil Storage Roots also act as a storage part for food materials for certain plants Eg Carrot beetroot and radish Scan this OR code to watch a video on roots The Shoot System This is the part of a plant that grows above the soil The shoot bears stem buds leaves flowers and fruits Stem Stem connects the roots to the rest of the plant The points on the stem from where the leaves and branches originate are called nodes The part of the stem between two nodes is called internodes shoot tip epidermis axillary bud vein midrib internode Fig 8 Parts of a stem Compassion\n",
            "Humility Happiness\n",
            "The undeveloped shoot called bud is present at the tip of the stem The growing tip of the shoot is called apical bud or terminal bud \n",
            " Types of The buds present between the stem and the base of leaves are called Pent ants axillary buds The axillary buds produce new branches and help in growth O Functions of the stem Root Stems support the plant by holding it upright and helping it bend O towards sunlight They carry water and minerals from the roots to the leaves and distribute food prepared in leaves to different parts of the Stem plant Some stems also store food Sugarcane and celery are examples of stems \n",
            " that grow above the ground and store food Onions garlic and potatoes  Leaves are examples of underground stems Scan this QR code to watch a video on stems  Flowers ol fruits and Leaves seeds\n",
            "The leaf is where the plant manufactures its food by the process of photosynthesis The flat surface of the leaf is ideal for trapping sunlight The leaves also help to exchange gases How can leaves perform so many activities Let us learn about the structure of leaves to understand their functions There are many different types of leaves they come in various sizes and forms Compassion Humility Happiness canes \n",
            "Structure of a leaf Mid rib \n",
            " The leaves of most of the plants Types of have basic structure it includes Pants blade leaf stalk vein and petiole The broad thin surface of the leaf is called the blade It is attached Petiole to a petiole that grows from the \n",
            " 6 S stem of the plant The edge of the leaf structure is termed as margin Veins emalveins Fig 9 Structure of a leaf \n",
            " Stem The blade has thin network of line called as veins The vein that is in the centre of a leaf is termed as midrib Water and dissolved minerals are carried from the soil through the roots and stems of the plant They are then transferred from the leafstalk to the veins of the leaf The food \n",
            " Leaves formed in the leaf are transferred back into the plant through the veins Venation in Leaves  Flowers fruits and     seeds The arrangement of veins in a leaf is called the venation pattern\n",
            "In parallel venation the veins run in straight lines across the length of the leaf without crossing each other Eg Grasses maize and palm Fig 10 Parallel venation and reticulate venationTypes  Humility Happiness CAZVASA pr I\n",
            "In reticulate venation the veins of the leaf are similar to a net wherein the veins cross each other covering the blade Eg Rose and Mango Functions of Leaves Photosynthesis transpiration and food storage are the key functions of leaves Photosynthesis is the process by which plants produce food using energy from sunlight carbon dioxide from the air and water and nutrients from the soil The pigment chlorophyll converts sunlight into food This is the pigment that gives leaves its green colour Leaves are designed to capture sunlight plants transpire water Transpiration is evaporation of water from plants Water evaporates from small pores 4   t water evaporates Te water plus salt goes into the soil called stomata on the underside of leaves Transpiration cools the plants and is also the salt remains behind reason why you feel cool in shade Fig 12 Transpiration\n",
            "Store food Some but not all leaves are edible Examples of edible leave include cabbage kale lettuce mustard parsley and spinach  Humility Happiness \n",
            " Types of Plants \n",
            " Root o Stem O Leaves \n",
            " Flowers fruits and seeds ARaSA\n",
            "\n",
            " Types of Plants \n",
            " Root \n",
            " Stem \n",
            " Leaves \n",
            " Flowers fruits and seeds Leaves adaptation to eat insects A unique leaf modification is seen in the Venus fly trap where the leaves are modified structures to trap prey The leaves of the pitcher plant are modified to form tubelike structures with hairs to trap insects Fig 13 Insectivorous plants Scan this QR code to watch a video on leaves Flowers Fruits and Seeds Along with fruits and seeds flowers help plants reproduce Let us study about these important elements of the plant flowers fruits and seeds Flower Flowers are the reproductive organs of plants They comprise of the stamen and carpel These are surrounded by petals and sepals Structure of the flower Scientific names  Petals Corolla Sepals Calyx  Reproductive Organs Stamens and Carpel\n",
            "A whorl is a circular arrangement of like parts around a point on an axis Parts of the flower are arranged in four whorls Some flowers have all the four whorls and are called complete flowers Eg Eg China rose pea and mustard There are other flowers that lack one or more of the whorls they are called as incomplete flowers Eg date palm and mulberry  Humility Happiness\n",
            "Whorl 3 Stamen Anther Filament SepalsCalyx Whorl 1 Petals Corolla Whorl 2 Fig 14 Parts of a flower Whorl 1 Sepals Calyx The calyx is the outermost whorl It protects the inner whorls The calyx is made up of sepals Sepals are two small green tiny leave like structures at the flowers base Whorl 2 Petals  Corolla The second whorl of the flower is the corolla It contains petals The petals attract the pollinators Pollinators are insects that help the flowers in transferring the pollen from one flower to another This transfer of pollen is how flowers reproduce The bright colours and the scent of petals help them attract pollinators Compassion Humility Happiness \n",
            " Types of Plants Oo O Stem \n",
            " Leaves O Flowers fruits and seeds\n",
            "\n",
            " Types of Plants \n",
            " Root \n",
            " Stem \n",
            " Leaves \n",
            " Flowers fruits and seeds Whorl 3 Stamens The third whorl of a flower is the stamen it is the male reproductive part of a flower The stamen consists of filament and anther The filament is similar to a thread in its structure and its function is to hold the anther The anther sticks out of the filament and it produces pollen grains Whorl 4 Carpel At the centre of the flower is the fourth whorl  the carpel it is the plants female reproductive organ It is also named as the pistil The carpel is composed of four parts the stigma style ovary and ovule The stigma is the topmost part The stigma is sticky and hence can catch grains of pollen dispersed by the wind or the insects The pollen grains then travel down the style which is a long tubelike structure below the stigma The pollen grain passes through the style and reaches the ovary The ovary contains the ovules where the fertilization takes place and\n",
            "seeds are formed When fertilised the ovary sometimes turns into a fruit The fruit in turn holds the seed  9 Humility Happiness AzVeSe\n",
            "Pollination Pollination is a very important part of the life cycle of a flowering plant The transfer of pollen grains from an anther to a stigma of a flower is called pollination Pollination takes place in two forms self pollination and cross pollination Pollination Pollinator  ot Poller Yo  Flower Fruit Petal Seeds Leaf Ster   Sprout Fig 15 Pollination Selfpollination occurs when the pollen from the anther is deposited on the stigma of the same flower or another flower on the same plant Selfpollination 2 A pistil of the same  flower collects pollen 1 Pollen comes loose from stamens Fig 16 Self pollinationTypes Compassion Humility Happiness \n",
            " Types of Plants \n",
            " Root O Stem O Leaves \n",
            " Flowers fruits and seeds\n",
            "\n",
            " Types of Plants \n",
            " Root \n",
            " Stem \n",
            " Leaves \n",
            " Flowers fruits and seeds Crosspollination is the transfer of pollen from the anther of one flower to the stigma of another flower on a different plant Both the plants need to be of the same species Cross Pollination Pollen grains 1Pollen from stamens sticks to a bee as it visits a flower to collect food 3 pollen on the bee sticks to a pistil of a flower on the other plant h Pr Pollen 2The bee travels to another plant of the same type Fig 17 Cross pollination Fertilisation Fertilisation is the union of the male and the female reproductive cells When the pollen from an of flower falls on the stigma of a similar type of flower it germinates This process is called fertilisation The time taken for the tube to reach the ovule may vary from a few hours to up to six months Watch this video to understand the process of fertilisation  Humility Happiness oe\n",
            "The fertilised ovule forms the seed stigma o pollination anther stamen gotten filament style pollen tube ovule embryo sac egg cell ovary petal sepal vascular system P Fig 18 Fertilisation in a flower After The seeds fertilisation the ovule develops into an embryo The embryo develops a surrounding hard wall This is the seed Some of the seeds are edible and used by humans such as almonds Brazil nuts cashews peas pumpkin seeds and sunflower seeds Structure of a Seed The seed contains Radicle from which the root develops Plumule from which the shoot develops RENE e One or two seed leaves called cotyledons e Aseed coat that covers the seed Fig 19 Structure of a seed Compassion Humility Happiness Oo Types of Plants O Root \n",
            " Stem Oo Leaves O Flowers fruits and seeds\n",
            "\n",
            " Types of Plants \n",
            " Root \n",
            " Stem \n",
            " Leaves O Flowers fruits and seeds Plants are classified based upon the number of seed leaves cotyledons in the seed as  Monocots Plants containing one cotyledon such as grasses Dicots Plants that have two cotyledons The Fruit After fertilisation the ovary swells and becomes a fruit that protects the seed from the external environment and also helps in the dispersal of the seed The fruit is either fleshy or dry it facilitates the storage of food Most of the fruits are edible apples grapes peaches pears etc Structure of Fruit A fruit consists of the pericarp or fruit SACS wall and seeds The fruit wall can be Mesocarp dry or fleshy depending on the kind of Endocap fruit In tomato and papaya it is soft and fleshy while in gram it is dry The pericarp csontains three parts Fig 20 Parts of a Apple  Exocarp The outer thin and leathery part which is often thrown away\n",
            " Mesocarp The middle layer that is soft and fleshy and is the edible portion  Endocarp The inner layer that is hard and it encloses the seed Compassion Humility Happiness\n",
            "Keywords Axillary buds The buds present between the stem and the base of leaves Rhizome It is a modified stem that grows horizontally underground Tendrils Slender twining strands that enable a plant to seek support by climbing on other surfaces Venation The arrangement of veins in a leaf is called the pattern Pollen grain A microscopic body that contains the male reproductive cell of a plant Complete flowers Flowers that have all four whorls Incomplete flowers Flowers that lack one or more of the whorls Pollination The transfer of pollen grains from an anther to a stigma of a flower Fertilisation The union of the male and the female reproductive cells Summary Plants are of five types trees herbs shrubs climbers and creepers Root system lies below the soil Roots modify themselves to perform other functions like storage and support  The shoot system is the part of the plant found in the soil It consists of the stem leaves flowers and fruits\n",
            "Leaves are food factories of the plants as they prepare food for the plants by photosynthesis Compassion on Happiness \n",
            " Types of Plants \n",
            " Root O Stem O Leaves \n",
            " Flowers fruits and seeds ARASA\n",
            "\n",
            " Types of Plants \n",
            " Root \n",
            " Stem \n",
            " Leaves O Flowers fruits and seeds Transpiration is the process of water movement through a plant and its evaporation through stomata A typical flower has four main parts calyx corolla stamens and carpel The transfer of pollen from the anther of flower to stigma of the same type of flower pollen is called pollination Fertilisation is the union of the male and the female reproductive cells After fertilisation the ovule develops into an embryo The embryo develops a surrounding hard wall This is the seed After fertilisation the ovary becomes fruit that holds the developing seeds This is the fruit Compassion Humility Happiness\n"
          ]
        }
      ]
    },
    {
      "cell_type": "markdown",
      "source": [
        "## Latexsplitter"
      ],
      "metadata": {
        "id": "EzS7eTcQRlKB"
      }
    },
    {
      "cell_type": "code",
      "source": [
        "for pages in page_content:\n",
        "  print(remove_whitespace_special_characters(pages))"
      ],
      "metadata": {
        "colab": {
          "base_uri": "https://localhost:8080/"
        },
        "id": "_AwRG1pLRnUl",
        "outputId": "08a72209-e25e-4252-e51f-5b6743b9d0fd"
      },
      "execution_count": 78,
      "outputs": [
        {
          "output_type": "stream",
          "name": "stdout",
          "text": [
            "\n",
            " Types of Plants  Root  Stem  Leaves  Flowers fruits and seeds CHAPTER 2 PLANTS Overview There are many kinds of plants Some have flowers some dont some give us fruits some give us vegetables some have thorns and some are poisonous too But they are also alike in many ways Plants have roots Plants have stems Plants have leaves Plants need soil sun and water to live Plants make their own food photosynthesis Plants give us oxygen We will study what is common to all plants in this lesson Types of Plants If you look around carefully all the plants have so many variations Each plant has different shape size habitat and so on Plants grow on land as well as in water Based on the structure of a lants they can be classified into these following categories Trees Trees are big tall and strong plants They have a strong thick and brown stem called the the trunk They have many branches that can hold leaves flowers and fruits They also\n",
            "have very thick and strong roots Examples Neem and Banyan  Humility Happiness Fig 1 Coconut Tree ARASA pens\n",
            "Shrub Shrubs are small or mediumsized Oo plants and they are also called as bushes Types of They are generally smaller than trees Plants They have many stems that are thick and strong Examples Rose Hibiscus  and Tulsi Fig 2 Shrubs Root Herb  Herbs are very small plants They have slender and Stem green stems They are used to add flavour in food Many herbs have medicinal value in them The  banana plant is the worlds largest herb Examples L eaves Mint Coriander and Spinach Fig 3 Mint Climbers  Climbers are plants with thin and Flowers fruits and generally coiled stems They cannot grow straight like a tree or shrub They seeds need support to grow They climb on walls other plants or any other support they get to climb Fig 4 Climber Example Pea Money Plant and Bean Creepers Creepers are plants that grow along the ground They cannot grow upright nor can they climb on other plants or walls They Fig 5 Pumpkin\n",
            "creeper Compassion Humility Happiness oe a it gt  Me wv \n",
            "\n",
            " Types of Plants \n",
            " Root  Stem  Leaves  Flowers fruits and seeds have thin and coiled stems and branches They generally bear very Pa rts of a Pl ant big vegetables and fruits Example  Flower Helps in reproduction Leaf Performs photosynthesis Pumpkin Watermelon and Muskmelon Shoot Basic Structure of a Plant exstem Fruit Protects the seeds The basic structure of a typical Stem Supports the plant has two main systems plant Root R  Root system the structure system not Absorbs water below the ground and L sees e Shoot system the structure above the ground Fig6 Parts of a Plant Each structure has specific parts The Root System The underground part of the plant is called the root They grow downward away from sunlight The roots are extremely important to conserve soil as they prevent soil erosion The root system has three parts one main thick primary root its many side branches and roothairs at the end parts of the root\n",
            "branches Together they are known as the root system  Humility Happiness\n",
            "Types of Root System The root system is of two types Tap root and fibrous root system Tap Root System A taproot is a long thick root that points straight down and they have many small branches of root They resemble a plant that is turned upside down however without any leaves on them Plants with taproots include carrots and dandelions Fibrous Roots Tap Roots Fig 7 Different types of roots Fibrous Root System Fibrous roots are made up of many small roots all about the same size The small roots grow out in many directions from the base of the stem Grasses have fibrous root systems Some roots called adventitious roots arise from other plant organs rather than the root such as from stems or leaves   Happiness O Types of Plants\n",
            "\n",
            " Types of Plants  O Stem  Leaves  Flowers fruits and seeds Functions of Roots Roots have three main functions Anchorage The roots fix the plant firmly to the soil and prevent the plant being blown by the wind or washed away by water You will notice this if you try to uproot a plant Absorption Tiny root hairs on secondary the root absorb water and nutrients from the soil Storage Roots also act as a storage part for food materials for certain plants Eg Carrot beetroot and radish Scan this OR code to watch a video on roots The Shoot System This is the part of a plant that grows above the soil The shoot bears stem buds leaves flowers and fruits Stem Stem connects the roots to the rest of the plant The points on the stem from where the leaves and branches originate are called nodes The part of the stem between two nodes is called internodes shoot tip epidermis axillary bud vein midrib internode Fig 8 Parts of a\n",
            "stem Compassion Humility Happiness\n",
            "The undeveloped shoot called bud is present at the tip of the stem The growing tip of the shoot is called apical bud or terminal bud \n",
            " Types of The buds present between the stem and the base of leaves are called Pent ants axillary buds The axillary buds produce new branches and help in growth O Functions of the stem Root Stems support the plant by holding it upright and helping it bend O towards sunlight They carry water and minerals from the roots to the leaves and distribute food prepared in leaves to different parts of the Stem plant Some stems also store food Sugarcane and celery are examples of stems \n",
            " that grow above the ground and store food Onions garlic and potatoes  Leaves are examples of underground stems Scan this QR code to watch a video on stems  Flowers ol fruits and Leaves seeds The leaf is where the plant manufactures its food by the process of photosynthesis The flat surface of the leaf is ideal for trapping sunlight The leaves\n",
            "also help to exchange gases How can leaves perform so many activities Let us learn about the structure of leaves to understand their functions There are many different types of leaves they come in various sizes and forms Compassion Humility Happiness canes \n",
            "Structure of a leaf Mid rib \n",
            " The leaves of most of the plants Types of have basic structure it includes Pants blade leaf stalk vein and petiole The broad thin surface of the leaf is called the blade It is attached Petiole to a petiole that grows from the \n",
            " 6 S stem of the plant The edge of the leaf structure is termed as margin Veins emalveins Fig 9 Structure of a leaf \n",
            " Stem The blade has thin network of line called as veins The vein that is in the centre of a leaf is termed as midrib Water and dissolved minerals are carried from the soil through the roots and stems of the plant They are then transferred from the leafstalk to the veins of the leaf The food \n",
            " Leaves formed in the leaf are transferred back into the plant through the veins Venation in Leaves  Flowers fruits and     seeds The arrangement of veins in a leaf is called the venation pattern In parallel venation the veins run in straight lines across the length of the leaf\n",
            "without crossing each other Eg Grasses maize and palm Fig 10 Parallel venation and reticulate venationTypes  Humility Happiness CAZVASA pr I\n",
            "In reticulate venation the veins of the leaf are similar to a net wherein the veins cross each other covering the blade Eg Rose and Mango Functions of Leaves Photosynthesis transpiration and food storage are the key functions of leaves Photosynthesis is the process by which plants produce food using energy from sunlight carbon dioxide from the air and water and nutrients from the soil The pigment chlorophyll converts sunlight into food This is the pigment that gives leaves its green colour Leaves are designed to capture sunlight plants transpire water Transpiration is evaporation of water from plants Water evaporates from small pores 4   t water evaporates Te water plus salt goes into the soil called stomata on the underside of leaves Transpiration cools the plants and is also the salt remains behind reason why you feel cool in shade Fig 12 Transpiration Store food Some but not all leaves are edible Examples of edible leave include\n",
            "cabbage kale lettuce mustard parsley and spinach  Humility Happiness \n",
            " Types of Plants \n",
            " Root o Stem O Leaves \n",
            " Flowers fruits and seeds ARaSA\n",
            "\n",
            " Types of Plants \n",
            " Root \n",
            " Stem \n",
            " Leaves \n",
            " Flowers fruits and seeds Leaves adaptation to eat insects A unique leaf modification is seen in the Venus fly trap where the leaves are modified structures to trap prey The leaves of the pitcher plant are modified to form tubelike structures with hairs to trap insects Fig 13 Insectivorous plants Scan this QR code to watch a video on leaves Flowers Fruits and Seeds Along with fruits and seeds flowers help plants reproduce Let us study about these important elements of the plant flowers fruits and seeds Flower Flowers are the reproductive organs of plants They comprise of the stamen and carpel These are surrounded by petals and sepals Structure of the flower Scientific names  Petals Corolla Sepals Calyx  Reproductive Organs Stamens and Carpel A whorl is a circular arrangement of like parts around a point on an axis Parts of the flower are arranged in four whorls Some flowers have all the four\n",
            "whorls and are called complete flowers Eg Eg China rose pea and mustard There are other flowers that lack one or more of the whorls they are called as incomplete flowers Eg date palm and mulberry  Humility Happiness\n",
            "Whorl 3 Stamen Anther Filament SepalsCalyx Whorl 1 Petals Corolla Whorl 2 Fig 14 Parts of a flower Whorl 1 Sepals Calyx The calyx is the outermost whorl It protects the inner whorls The calyx is made up of sepals Sepals are two small green tiny leave like structures at the flowers base Whorl 2 Petals  Corolla The second whorl of the flower is the corolla It contains petals The petals attract the pollinators Pollinators are insects that help the flowers in transferring the pollen from one flower to another This transfer of pollen is how flowers reproduce The bright colours and the scent of petals help them attract pollinators Compassion Humility Happiness \n",
            " Types of Plants Oo O Stem \n",
            " Leaves O Flowers fruits and seeds\n",
            "\n",
            " Types of Plants \n",
            " Root \n",
            " Stem \n",
            " Leaves \n",
            " Flowers fruits and seeds Whorl 3 Stamens The third whorl of a flower is the stamen it is the male reproductive part of a flower The stamen consists of filament and anther The filament is similar to a thread in its structure and its function is to hold the anther The anther sticks out of the filament and it produces pollen grains Whorl 4 Carpel At the centre of the flower is the fourth whorl  the carpel it is the plants female reproductive organ It is also named as the pistil The carpel is composed of four parts the stigma style ovary and ovule The stigma is the topmost part The stigma is sticky and hence can catch grains of pollen dispersed by the wind or the insects The pollen grains then travel down the style which is a long tubelike structure below the stigma The pollen grain passes through the style and reaches the ovary The ovary contains the ovules where the fertilization takes place\n",
            "and seeds are formed When fertilised the ovary sometimes turns into a fruit The fruit in turn holds the seed  9 Humility Happiness AzVeSe\n",
            "Pollination Pollination is a very important part of the life cycle of a flowering plant The transfer of pollen grains from an anther to a stigma of a flower is called pollination Pollination takes place in two forms self pollination and cross pollination Pollination Pollinator  ot Poller Yo  Flower Fruit Petal Seeds Leaf Ster   Sprout Fig 15 Pollination Selfpollination occurs when the pollen from the anther is deposited on the stigma of the same flower or another flower on the same plant Selfpollination 2 A pistil of the same  flower collects pollen 1 Pollen comes loose from stamens Fig 16 Self pollinationTypes Compassion Humility Happiness \n",
            " Types of Plants \n",
            " Root O Stem O Leaves \n",
            " Flowers fruits and seeds\n",
            "\n",
            " Types of Plants \n",
            " Root \n",
            " Stem \n",
            " Leaves \n",
            " Flowers fruits and seeds Crosspollination is the transfer of pollen from the anther of one flower to the stigma of another flower on a different plant Both the plants need to be of the same species Cross Pollination Pollen grains 1Pollen from stamens sticks to a bee as it visits a flower to collect food 3 pollen on the bee sticks to a pistil of a flower on the other plant h Pr Pollen 2The bee travels to another plant of the same type Fig 17 Cross pollination Fertilisation Fertilisation is the union of the male and the female reproductive cells When the pollen from an of flower falls on the stigma of a similar type of flower it germinates This process is called fertilisation The time taken for the tube to reach the ovule may vary from a few hours to up to six months Watch this video to understand the process of fertilisation  Humility Happiness oe\n",
            "The fertilised ovule forms the seed stigma o pollination anther stamen gotten filament style pollen tube ovule embryo sac egg cell ovary petal sepal vascular system P Fig 18 Fertilisation in a flower After The seeds fertilisation the ovule develops into an embryo The embryo develops a surrounding hard wall This is the seed Some of the seeds are edible and used by humans such as almonds Brazil nuts cashews peas pumpkin seeds and sunflower seeds Structure of a Seed The seed contains Radicle from which the root develops Plumule from which the shoot develops RENE e One or two seed leaves called cotyledons e Aseed coat that covers the seed Fig 19 Structure of a seed Compassion Humility Happiness Oo Types of Plants O Root \n",
            " Stem Oo Leaves O Flowers fruits and seeds\n",
            "\n",
            " Types of Plants \n",
            " Root \n",
            " Stem \n",
            " Leaves O Flowers fruits and seeds Plants are classified based upon the number of seed leaves cotyledons in the seed as  Monocots Plants containing one cotyledon such as grasses Dicots Plants that have two cotyledons The Fruit After fertilisation the ovary swells and becomes a fruit that protects the seed from the external environment and also helps in the dispersal of the seed The fruit is either fleshy or dry it facilitates the storage of food Most of the fruits are edible apples grapes peaches pears etc Structure of Fruit A fruit consists of the pericarp or fruit SACS wall and seeds The fruit wall can be Mesocarp dry or fleshy depending on the kind of Endocap fruit In tomato and papaya it is soft and fleshy while in gram it is dry The pericarp csontains three parts Fig 20 Parts of a Apple  Exocarp The outer thin and leathery part which is often thrown away  Mesocarp The middle layer that is\n",
            "soft and fleshy and is the edible portion  Endocarp The inner layer that is hard and it encloses the seed Compassion Humility Happiness\n",
            "Keywords Axillary buds The buds present between the stem and the base of leaves Rhizome It is a modified stem that grows horizontally underground Tendrils Slender twining strands that enable a plant to seek support by climbing on other surfaces Venation The arrangement of veins in a leaf is called the pattern Pollen grain A microscopic body that contains the male reproductive cell of a plant Complete flowers Flowers that have all four whorls Incomplete flowers Flowers that lack one or more of the whorls Pollination The transfer of pollen grains from an anther to a stigma of a flower Fertilisation The union of the male and the female reproductive cells Summary Plants are of five types trees herbs shrubs climbers and creepers Root system lies below the soil Roots modify themselves to perform other functions like storage and support  The shoot system is the part of the plant found in the soil It consists of the stem leaves flowers and\n",
            "fruits Leaves are food factories of the plants as they prepare food for the plants by photosynthesis Compassion on Happiness \n",
            " Types of Plants \n",
            " Root O Stem O Leaves \n",
            " Flowers fruits and seeds ARASA\n",
            "\n",
            " Types of Plants \n",
            " Root \n",
            " Stem \n",
            " Leaves O Flowers fruits and seeds Transpiration is the process of water movement through a plant and its evaporation through stomata A typical flower has four main parts calyx corolla stamens and carpel The transfer of pollen from the anther of flower to stigma of the same type of flower pollen is called pollination Fertilisation is the union of the male and the female reproductive cells After fertilisation the ovule develops into an embryo The embryo develops a surrounding hard wall This is the seed After fertilisation the ovary becomes fruit that holds the developing seeds This is the fruit Compassion Humility Happiness\n"
          ]
        }
      ]
    },
    {
      "cell_type": "code",
      "source": [
        "page_content[0]"
      ],
      "metadata": {
        "colab": {
          "base_uri": "https://localhost:8080/",
          "height": 157
        },
        "id": "kfhWxbNPZpRs",
        "outputId": "5b98516f-53a7-4225-efba-d15efa947ef7"
      },
      "execution_count": 33,
      "outputs": [
        {
          "output_type": "execute_result",
          "data": {
            "text/plain": [
              "'oO\\n\\nTypes of\\n\\nPlants\\n\\n©\\n\\nRoot\\n\\n©\\n\\nStem\\n\\n©\\n\\nLeaves\\n\\n©\\n\\nFlowers,\\n\\nfruits and\\n\\nseeds\\n\\nCHAPTER 2: PLANTS\\n\\nOverview\\n\\nThere are many kinds of plants. Some have flowers, some don’t, some\\n\\ngive us fruits, some give us vegetables, some have thorns and some are\\n\\npoisonous too! But they are also alike in many ways.\\n\\nPlants have roots\\n\\nPlants have stems\\n\\nPlants have leaves\\n\\nPlants need soil, sun and water to live\\n\\nPlants make their own food (photosynthesis)\\n\\nPlants give us oxygen\\n\\nWe will study what is common to all plants in this lesson.\\n\\nTypes of Plants\\n\\nIf you look around carefully, all the plants have so many variations.\\n\\nEach plant has different shape, size, habitat and so on. Plants grow on\\n\\nland as well as in water. Based on the structure of a lants they can be\\n\\nclassified into these following categories:\\n\\nTrees\\n\\nTrees are big, tall and strong plants. They have a strong, thick and brown stem called the the trunk. They have many branches that can hold leaves, flowers and fruits. They also'"
            ],
            "application/vnd.google.colaboratory.intrinsic+json": {
              "type": "string"
            }
          },
          "metadata": {},
          "execution_count": 33
        }
      ]
    },
    {
      "cell_type": "code",
      "source": [
        "metadatas[0]"
      ],
      "metadata": {
        "colab": {
          "base_uri": "https://localhost:8080/"
        },
        "id": "CBrxccvxZ7Gw",
        "outputId": "00d9f25a-ac62-4a09-c040-96de6aee2a13"
      },
      "execution_count": 34,
      "outputs": [
        {
          "output_type": "execute_result",
          "data": {
            "text/plain": [
              "{'chunk': 0,\n",
              " 'source': 'Azvasa',\n",
              " 'text': 'oO\\n\\nTypes of\\n\\nPlants\\n\\n©\\n\\nRoot\\n\\n©\\n\\nStem\\n\\n©\\n\\nLeaves\\n\\n©\\n\\nFlowers,\\n\\nfruits and\\n\\nseeds\\n\\nCHAPTER 2: PLANTS\\n\\nOverview\\n\\nThere are many kinds of plants. Some have flowers, some don’t, some\\n\\ngive us fruits, some give us vegetables, some have thorns and some are\\n\\npoisonous too! But they are also alike in many ways.\\n\\nPlants have roots\\n\\nPlants have stems\\n\\nPlants have leaves\\n\\nPlants need soil, sun and water to live\\n\\nPlants make their own food (photosynthesis)\\n\\nPlants give us oxygen\\n\\nWe will study what is common to all plants in this lesson.\\n\\nTypes of Plants\\n\\nIf you look around carefully, all the plants have so many variations.\\n\\nEach plant has different shape, size, habitat and so on. Plants grow on\\n\\nland as well as in water. Based on the structure of a lants they can be\\n\\nclassified into these following categories:\\n\\nTrees\\n\\nTrees are big, tall and strong plants. They have a strong, thick and brown stem called the the trunk. They have many branches that can hold leaves, flowers and fruits. They also',\n",
              " 'page number': 1}"
            ]
          },
          "metadata": {},
          "execution_count": 34
        }
      ]
    },
    {
      "cell_type": "code",
      "source": [
        "doc = chapter_content[0]"
      ],
      "metadata": {
        "id": "_2QLaH0xa9lV"
      },
      "execution_count": 41,
      "outputs": []
    },
    {
      "cell_type": "code",
      "source": [
        "doc"
      ],
      "metadata": {
        "colab": {
          "base_uri": "https://localhost:8080/"
        },
        "id": "yGBrePazbf73",
        "outputId": "89d4eeec-f5df-4119-eb23-7d1cc0d7e95c"
      },
      "execution_count": 45,
      "outputs": [
        {
          "output_type": "execute_result",
          "data": {
            "text/plain": [
              "Document(page_content='oO\\n\\nTypes of\\n\\nPlants\\n\\n©\\n\\nRoot\\n\\n©\\n\\nStem\\n\\n©\\n\\nLeaves\\n\\n©\\n\\nFlowers,\\n\\nfruits and\\n\\nseeds\\n\\nCHAPTER 2: PLANTS\\n\\nOverview\\n\\nThere are many kinds of plants. Some have flowers, some don’t, some\\n\\ngive us fruits, some give us vegetables, some have thorns and some are\\n\\npoisonous too! But they are also alike in many ways.\\n\\nPlants have roots\\n\\nPlants have stems\\n\\nPlants have leaves\\n\\nPlants need soil, sun and water to live\\n\\nPlants make their own food (photosynthesis)\\n\\nPlants give us oxygen\\n\\nWe will study what is common to all plants in this lesson.\\n\\nTypes of Plants\\n\\nIf you look around carefully, all the plants have so many variations.\\n\\nEach plant has different shape, size, habitat and so on. Plants grow on\\n\\nland as well as in water. Based on the structure of a lants they can be\\n\\nclassified into these following categories:\\n\\nTrees\\n\\nTrees are big, tall and strong plants. They have a strong, thick and brown stem called the the trunk. They have many branches that can hold leaves, flowers and fruits. They also have very thick and strong roots.\\n\\nExamples: Neem and Banyan.\\n\\n~\\n\\n\\n\\nHumility\\n\\n\\n\\nHappiness\\n\\nFig 1: Coconut Tree\\n\\n(ARASA\\n\\npens', metadata={'source': '/content/drive/MyDrive/Plants/plants_page1.pdf'})"
            ]
          },
          "metadata": {},
          "execution_count": 45
        }
      ]
    },
    {
      "cell_type": "code",
      "source": [
        "! pip install -qU pymupdf\n",
        "\n"
      ],
      "metadata": {
        "colab": {
          "base_uri": "https://localhost:8080/"
        },
        "id": "UwgLWnuEkZYA",
        "outputId": "dba30b98-d32f-4dd9-b1b4-43639438d743"
      },
      "execution_count": 57,
      "outputs": [
        {
          "output_type": "stream",
          "name": "stdout",
          "text": [
            "\u001b[2K     \u001b[90m━━━━━━━━━━━━━━━━━━━━━━━━━━━━━━━━━━━━━━━━\u001b[0m \u001b[32m4.3/4.3 MB\u001b[0m \u001b[31m16.5 MB/s\u001b[0m eta \u001b[36m0:00:00\u001b[0m\n",
            "\u001b[2K     \u001b[90m━━━━━━━━━━━━━━━━━━━━━━━━━━━━━━━━━━━━━━━━\u001b[0m \u001b[32m30.6/30.6 MB\u001b[0m \u001b[31m32.5 MB/s\u001b[0m eta \u001b[36m0:00:00\u001b[0m\n",
            "\u001b[?25h"
          ]
        }
      ]
    },
    {
      "cell_type": "code",
      "source": [
        "import fitz  # PyMuPDF\n",
        "\n",
        "def remove_headers_footers(input_pdf_path, output_pdf_path):\n",
        "    # Open the PDF\n",
        "    pdf_document = fitz.open(input_pdf_path)\n",
        "\n",
        "    for page_number in range(pdf_document.page_count):\n",
        "        page = pdf_document[page_number]\n",
        "\n",
        "        # Set the rectangle for the header and footer area (adjust coordinates as needed)\n",
        "        header_footer_rect = fitz.Rect(0, 0, page.rect.width, 100)  # Assuming the header/footer is within the first 100 points\n",
        "\n",
        "        # Extract text in the header and footer area\n",
        "        header_footer_text = page.get_text(\"text\", clip=header_footer_rect)\n",
        "\n",
        "        # Clear the text content in the header and footer area\n",
        "        for item in header_footer_text:\n",
        "            item.set_text(\"\")\n",
        "\n",
        "    # Save the modified PDF\n",
        "    pdf_document.save(output_pdf_path)\n",
        "    pdf_document.close()\n",
        "\n",
        "# Example usage\n",
        "input_pdf_path = '/content/drive/MyDrive/Plants/plant_page_2.pdf'  # Replace with the path to your input PDF\n",
        "output_pdf_path = 'output.pdf'  # Replace with the desired output PDF path\n",
        "\n",
        "remove_headers_footers(input_pdf_path, output_pdf_path)\n",
        "print(\"Headers and footers removed. Modified PDF saved at:\", output_pdf_path)\n"
      ],
      "metadata": {
        "colab": {
          "base_uri": "https://localhost:8080/"
        },
        "id": "dN4KMdkbm8Rr",
        "outputId": "eb56cf9e-9153-4829-8fe8-f2cf83128a57"
      },
      "execution_count": 61,
      "outputs": [
        {
          "output_type": "stream",
          "name": "stdout",
          "text": [
            "Headers and footers removed. Modified PDF saved at: output.pdf\n"
          ]
        }
      ]
    },
    {
      "cell_type": "markdown",
      "source": [
        "# Evaluating the Ideal Chunk Size for a RAG System using LlamaIndex"
      ],
      "metadata": {
        "id": "9FqeieOC5vUB"
      }
    },
    {
      "cell_type": "markdown",
      "source": [
        "# **Introduction**\n",
        "\n",
        "Retrieval-augmented generation (RAG) has introduced an innovative approach that fuses the extensive retrieval capabilities of search systems with the LLM. When implementing a RAG system, one critical parameter that governs the system’s efficiency and performance is the `chunk_size`. How does one discern the optimal chunk size for seamless retrieval? This is where LlamaIndex `Response Evaluation` comes handy. In this blogpost, we'll guide you through the steps to determine the best `chunk size` using LlamaIndex’s `Response Evaluation` module. If you're unfamiliar with the `Response` Evaluation module, we recommend reviewing its [documentation](https://docs.llamaindex.ai/en/latest/core_modules/supporting_modules/evaluation/modules.html) before proceeding."
      ],
      "metadata": {
        "id": "NIvSXj365r2n"
      }
    },
    {
      "cell_type": "markdown",
      "source": [
        "## **Why Chunk Size Matters**\n",
        "\n",
        "Choosing the right `chunk_size` is a critical decision that can influence the efficiency and accuracy of a RAG system in several ways:\n",
        "\n",
        "1. **Relevance and Granularity**: A small `chunk_size`, like 128, yields more granular chunks. This granularity, however, presents a risk: vital information might not be among the top retrieved chunks, especially if the `similarity_top_k` setting is as restrictive as 2. Conversely, a chunk size of 512 is likely to encompass all necessary information within the top chunks, ensuring that answers to queries are readily available. To navigate this, we employ the Faithfulness and Relevancy metrics. These measure the absence of ‘hallucinations’ and the ‘relevancy’ of responses based on the query and the retrieved contexts respectively.\n",
        "2. **Response Generation Time**: As the `chunk_size` increases, so does the volume of information directed into the LLM to generate an answer. While this can ensure a more comprehensive context, it might also slow down the system. Ensuring that the added depth doesn't compromise the system's responsiveness is crucial.\n",
        "\n",
        "In essence, determining the optimal `chunk_size` is about striking a balance: capturing all essential information without sacrificing speed. It's vital to undergo thorough testing with various sizes to find a configuration that suits the specific use-case and dataset."
      ],
      "metadata": {
        "id": "dpbtWrEa53Ct"
      }
    },
    {
      "cell_type": "markdown",
      "source": [
        "## **Setup**\n",
        "\n",
        "Before embarking on the experiment, we need to ensure all requisite modules are imported:"
      ],
      "metadata": {
        "id": "SR8jlf3358_z"
      }
    },
    {
      "cell_type": "code",
      "execution_count": 79,
      "metadata": {
        "id": "ItNWVKRRD67j",
        "colab": {
          "base_uri": "https://localhost:8080/"
        },
        "outputId": "6a3b2bd9-1673-49d7-b3a5-df03d68918cc"
      },
      "outputs": [
        {
          "output_type": "stream",
          "name": "stdout",
          "text": [
            "Collecting llama-index\n",
            "  Downloading llama_index-0.8.42-py3-none-any.whl (877 kB)\n",
            "\u001b[2K     \u001b[90m━━━━━━━━━━━━━━━━━━━━━━━━━━━━━━━━━━━━━━━\u001b[0m \u001b[32m877.7/877.7 kB\u001b[0m \u001b[31m7.0 MB/s\u001b[0m eta \u001b[36m0:00:00\u001b[0m\n",
            "\u001b[?25hCollecting pypdf\n",
            "  Downloading pypdf-3.16.3-py3-none-any.whl (276 kB)\n",
            "\u001b[2K     \u001b[90m━━━━━━━━━━━━━━━━━━━━━━━━━━━━━━━━━━━━━━━\u001b[0m \u001b[32m276.5/276.5 kB\u001b[0m \u001b[31m9.1 MB/s\u001b[0m eta \u001b[36m0:00:00\u001b[0m\n",
            "\u001b[?25hRequirement already satisfied: tiktoken in /usr/local/lib/python3.10/dist-packages (from llama-index) (0.5.1)\n",
            "Requirement already satisfied: dataclasses-json in /usr/local/lib/python3.10/dist-packages (from llama-index) (0.6.1)\n",
            "Requirement already satisfied: langchain>=0.0.303 in /usr/local/lib/python3.10/dist-packages (from llama-index) (0.0.311)\n",
            "Requirement already satisfied: sqlalchemy>=2.0.15 in /usr/local/lib/python3.10/dist-packages (from llama-index) (2.0.21)\n",
            "Requirement already satisfied: numpy in /usr/local/lib/python3.10/dist-packages (from llama-index) (1.23.5)\n",
            "Requirement already satisfied: tenacity<9.0.0,>=8.2.0 in /usr/local/lib/python3.10/dist-packages (from llama-index) (8.2.3)\n",
            "Requirement already satisfied: openai>=0.26.4 in /usr/local/lib/python3.10/dist-packages (from llama-index) (0.28.1)\n",
            "Requirement already satisfied: pandas in /usr/local/lib/python3.10/dist-packages (from llama-index) (1.5.3)\n",
            "Requirement already satisfied: urllib3<2 in /usr/local/lib/python3.10/dist-packages (from llama-index) (1.26.17)\n",
            "Requirement already satisfied: fsspec>=2023.5.0 in /usr/local/lib/python3.10/dist-packages (from llama-index) (2023.6.0)\n",
            "Requirement already satisfied: typing-inspect>=0.8.0 in /usr/local/lib/python3.10/dist-packages (from llama-index) (0.9.0)\n",
            "Requirement already satisfied: typing-extensions>=4.5.0 in /usr/local/lib/python3.10/dist-packages (from llama-index) (4.5.0)\n",
            "Requirement already satisfied: beautifulsoup4 in /usr/local/lib/python3.10/dist-packages (from llama-index) (4.11.2)\n",
            "Requirement already satisfied: nest-asyncio in /usr/local/lib/python3.10/dist-packages (from llama-index) (1.5.8)\n",
            "Requirement already satisfied: nltk in /usr/local/lib/python3.10/dist-packages (from llama-index) (3.8.1)\n",
            "Requirement already satisfied: PyYAML>=5.3 in /usr/local/lib/python3.10/dist-packages (from langchain>=0.0.303->llama-index) (6.0.1)\n",
            "Requirement already satisfied: aiohttp<4.0.0,>=3.8.3 in /usr/local/lib/python3.10/dist-packages (from langchain>=0.0.303->llama-index) (3.8.5)\n",
            "Requirement already satisfied: anyio<4.0 in /usr/local/lib/python3.10/dist-packages (from langchain>=0.0.303->llama-index) (3.7.1)\n",
            "Requirement already satisfied: async-timeout<5.0.0,>=4.0.0 in /usr/local/lib/python3.10/dist-packages (from langchain>=0.0.303->llama-index) (4.0.3)\n",
            "Requirement already satisfied: jsonpatch<2.0,>=1.33 in /usr/local/lib/python3.10/dist-packages (from langchain>=0.0.303->llama-index) (1.33)\n",
            "Requirement already satisfied: langsmith<0.1.0,>=0.0.43 in /usr/local/lib/python3.10/dist-packages (from langchain>=0.0.303->llama-index) (0.0.43)\n",
            "Requirement already satisfied: pydantic<3,>=1 in /usr/local/lib/python3.10/dist-packages (from langchain>=0.0.303->llama-index) (1.10.13)\n",
            "Requirement already satisfied: requests<3,>=2 in /usr/local/lib/python3.10/dist-packages (from langchain>=0.0.303->llama-index) (2.31.0)\n",
            "Requirement already satisfied: marshmallow<4.0.0,>=3.18.0 in /usr/local/lib/python3.10/dist-packages (from dataclasses-json->llama-index) (3.20.1)\n",
            "Requirement already satisfied: tqdm in /usr/local/lib/python3.10/dist-packages (from openai>=0.26.4->llama-index) (4.66.1)\n",
            "Requirement already satisfied: greenlet!=0.4.17 in /usr/local/lib/python3.10/dist-packages (from sqlalchemy>=2.0.15->llama-index) (3.0.0)\n",
            "Requirement already satisfied: mypy-extensions>=0.3.0 in /usr/local/lib/python3.10/dist-packages (from typing-inspect>=0.8.0->llama-index) (1.0.0)\n",
            "Requirement already satisfied: soupsieve>1.2 in /usr/local/lib/python3.10/dist-packages (from beautifulsoup4->llama-index) (2.5)\n",
            "Requirement already satisfied: click in /usr/local/lib/python3.10/dist-packages (from nltk->llama-index) (8.1.7)\n",
            "Requirement already satisfied: joblib in /usr/local/lib/python3.10/dist-packages (from nltk->llama-index) (1.3.2)\n",
            "Requirement already satisfied: regex>=2021.8.3 in /usr/local/lib/python3.10/dist-packages (from nltk->llama-index) (2023.6.3)\n",
            "Requirement already satisfied: python-dateutil>=2.8.1 in /usr/local/lib/python3.10/dist-packages (from pandas->llama-index) (2.8.2)\n",
            "Requirement already satisfied: pytz>=2020.1 in /usr/local/lib/python3.10/dist-packages (from pandas->llama-index) (2023.3.post1)\n",
            "Requirement already satisfied: attrs>=17.3.0 in /usr/local/lib/python3.10/dist-packages (from aiohttp<4.0.0,>=3.8.3->langchain>=0.0.303->llama-index) (23.1.0)\n",
            "Requirement already satisfied: charset-normalizer<4.0,>=2.0 in /usr/local/lib/python3.10/dist-packages (from aiohttp<4.0.0,>=3.8.3->langchain>=0.0.303->llama-index) (3.3.0)\n",
            "Requirement already satisfied: multidict<7.0,>=4.5 in /usr/local/lib/python3.10/dist-packages (from aiohttp<4.0.0,>=3.8.3->langchain>=0.0.303->llama-index) (6.0.4)\n",
            "Requirement already satisfied: yarl<2.0,>=1.0 in /usr/local/lib/python3.10/dist-packages (from aiohttp<4.0.0,>=3.8.3->langchain>=0.0.303->llama-index) (1.9.2)\n",
            "Requirement already satisfied: frozenlist>=1.1.1 in /usr/local/lib/python3.10/dist-packages (from aiohttp<4.0.0,>=3.8.3->langchain>=0.0.303->llama-index) (1.4.0)\n",
            "Requirement already satisfied: aiosignal>=1.1.2 in /usr/local/lib/python3.10/dist-packages (from aiohttp<4.0.0,>=3.8.3->langchain>=0.0.303->llama-index) (1.3.1)\n",
            "Requirement already satisfied: idna>=2.8 in /usr/local/lib/python3.10/dist-packages (from anyio<4.0->langchain>=0.0.303->llama-index) (3.4)\n",
            "Requirement already satisfied: sniffio>=1.1 in /usr/local/lib/python3.10/dist-packages (from anyio<4.0->langchain>=0.0.303->llama-index) (1.3.0)\n",
            "Requirement already satisfied: exceptiongroup in /usr/local/lib/python3.10/dist-packages (from anyio<4.0->langchain>=0.0.303->llama-index) (1.1.3)\n",
            "Requirement already satisfied: jsonpointer>=1.9 in /usr/local/lib/python3.10/dist-packages (from jsonpatch<2.0,>=1.33->langchain>=0.0.303->llama-index) (2.4)\n",
            "Requirement already satisfied: packaging>=17.0 in /usr/local/lib/python3.10/dist-packages (from marshmallow<4.0.0,>=3.18.0->dataclasses-json->llama-index) (23.2)\n",
            "Requirement already satisfied: six>=1.5 in /usr/local/lib/python3.10/dist-packages (from python-dateutil>=2.8.1->pandas->llama-index) (1.16.0)\n",
            "Requirement already satisfied: certifi>=2017.4.17 in /usr/local/lib/python3.10/dist-packages (from requests<3,>=2->langchain>=0.0.303->llama-index) (2023.7.22)\n",
            "Installing collected packages: pypdf, llama-index\n",
            "Successfully installed llama-index-0.8.42 pypdf-3.16.3\n"
          ]
        }
      ],
      "source": [
        "!pip install llama-index pypdf"
      ]
    },
    {
      "cell_type": "code",
      "source": [
        "import nest_asyncio\n",
        "\n",
        "nest_asyncio.apply()\n",
        "\n",
        "from llama_index import (\n",
        "    SimpleDirectoryReader,\n",
        "    VectorStoreIndex,\n",
        "    ServiceContext,\n",
        ")\n",
        "from llama_index.evaluation import (\n",
        "    DatasetGenerator,\n",
        "    FaithfulnessEvaluator,\n",
        "    RelevancyEvaluator\n",
        ")\n",
        "from llama_index.llms import OpenAI\n",
        "\n",
        "import openai\n",
        "import time\n",
        "from getpass import getpass\n",
        "openai.api_key = getpass() # set your openai api key"
      ],
      "metadata": {
        "id": "y9SVm76h58de",
        "colab": {
          "base_uri": "https://localhost:8080/"
        },
        "outputId": "d3486512-3847-4096-cb8c-1eb1ceb82dd2"
      },
      "execution_count": 80,
      "outputs": [
        {
          "name": "stdout",
          "output_type": "stream",
          "text": [
            "··········\n"
          ]
        }
      ]
    },
    {
      "cell_type": "markdown",
      "source": [
        "## **Download Data**\n",
        "\n",
        "We'll be using the Uber 10K SEC Filings for 2021 for this experiment."
      ],
      "metadata": {
        "id": "SvEzZzif6G5O"
      }
    },
    {
      "cell_type": "code",
      "execution_count": 90,
      "metadata": {
        "id": "ZOD_9THEErrc",
        "colab": {
          "base_uri": "https://localhost:8080/"
        },
        "outputId": "06c39166-7533-4cce-bdf2-55c0fcb5d03b"
      },
      "outputs": [
        {
          "output_type": "stream",
          "name": "stdout",
          "text": [
            "--2023-10-10 13:36:32--  https://raw.githubusercontent.com/jerryjliu/llama_index/main/docs/examples/data/10k/uber_2021.pdf\n",
            "Resolving raw.githubusercontent.com (raw.githubusercontent.com)... 185.199.108.133, 185.199.109.133, 185.199.110.133, ...\n",
            "Connecting to raw.githubusercontent.com (raw.githubusercontent.com)|185.199.108.133|:443... connected.\n",
            "HTTP request sent, awaiting response... 200 OK\n",
            "Length: 1880483 (1.8M) [application/octet-stream]\n",
            "Saving to: ‘data/10k/uber_2021.pdf’\n",
            "\n",
            "\rdata/10k/uber_2021.   0%[                    ]       0  --.-KB/s               \rdata/10k/uber_2021. 100%[===================>]   1.79M  --.-KB/s    in 0.07s   \n",
            "\n",
            "2023-10-10 13:36:33 (26.4 MB/s) - ‘data/10k/uber_2021.pdf’ saved [1880483/1880483]\n",
            "\n"
          ]
        }
      ],
      "source": [
        "!mkdir -p 'data/10k/'\n",
        "!wget 'https://raw.githubusercontent.com/jerryjliu/llama_index/main/docs/examples/data/10k/uber_2021.pdf' -O 'data/10k/uber_2021.pdf'"
      ]
    },
    {
      "cell_type": "markdown",
      "source": [
        "## **Load Data**\n",
        "\n",
        "Let’s load our document."
      ],
      "metadata": {
        "id": "bO21UssT6L8N"
      }
    },
    {
      "cell_type": "code",
      "source": [
        "# Load Data\n",
        "\n",
        "reader = SimpleDirectoryReader(\"./data/10k/\")\n",
        "documents = reader.load_data()"
      ],
      "metadata": {
        "id": "x6QdEBd-17OC"
      },
      "execution_count": 91,
      "outputs": []
    },
    {
      "cell_type": "code",
      "source": [
        "documents[0]"
      ],
      "metadata": {
        "colab": {
          "base_uri": "https://localhost:8080/"
        },
        "id": "206ioNf1x2Wg",
        "outputId": "1052a060-6424-40c0-e7df-bd25704e67f0"
      },
      "execution_count": 92,
      "outputs": [
        {
          "output_type": "execute_result",
          "data": {
            "text/plain": [
              "Document(id_='a084fc75-8fd6-4dbf-ba5b-a93b5aaa8e2b', embedding=None, metadata={'page_label': '1', 'file_name': 'uber_2021.pdf'}, excluded_embed_metadata_keys=[], excluded_llm_metadata_keys=[], relationships={}, hash='8236c7b95b366f678fd506883779c1f7b8349b0d0b466a9da6694959abfab3c6', text='UNITED STATESSECURITIES AND EXCHANGE COMMISSION\\nWashington, D.C. 20549\\n____________________________________________ \\nFORM\\n 10-K____________________________________________ \\n(Mark One)\\n☒\\n ANNUAL REPORT PURSUANT TO SECTION 13 OR 15(d) OF THE SECURITIES EXCHANGE ACT OF 1934For the fiscal year ended\\n December 31, 2021OR\\n☐\\n TRANSITION REPORT PURSUANT TO SECTION 13 OR 15(d) OF THE SECURITIES EXCHANGE ACT OF 1934For the transition period from_____ to _____            \\nCommission File Number: 001-38902\\n____________________________________________ \\nUBER TECHNOLOGIES, INC.\\n(Exact name of registrant as specif\\nied in its charter)____________________________________________ \\nDelaware\\n45-2647441 (State or other jurisdiction of inco\\nrporation or organization)(I.R.S. Employer Identification No.) 1515 3rd Street\\nSan Francisco, California 94158\\n(Address of principal executive offic\\nes, including zip code)(415) 612-8582\\n(Registrant’s telephone number, including area code)\\n ____________________________________________\\nSecurities registered pursuant to Sect\\nion 12(b) of the Act:Title of each class\\nTrading Symbol(s) Name of each exchange on which registered Common Stock, par value $0.00001 per share\\nUBER New York Stock Exchange Securities register\\ned pursuant to Section 12(g) of the Act: NoneIndicate by check mark whe\\nther the registrant is a well-known seasoned issuer, as defined in Rule 405 of the Securities Act. Yes  ☒  No ☐Indicate by check mark whe\\nther the registrant is not required to file reports pursuant to Section 13 or Section 15(d) of the Act. Yes  ☐  No  ☒Indicate by\\n check mark whether the registrant (1) has filed all reports required to be filed by Section 13 or 15(d) of the Securities Exchange Act of 1934 during thepreceding\\n 12 months (or for such shorter period that the registrant was required to file such reports), and (2) has been subject to such filing requirements for thepast 90 days. Yes  \\n☒  No ☐Indicate\\n by check mark whether the registrant has submitted electronically every Interactive Data File required to be submitted pursuant to Rule 405 of RegulationS-T (§232.405 of this chapter) during \\nthe preceding 12 months (or for such shorter period that the registrant was required to submit such files). Yes  ☒  No ☐Indicate\\n by check mark whether the registrant is a large accelerated filer, an accelerated filer, a non-accelerated filer, a smaller reporting company, or an emerginggrowth\\n company. See the definitions of “large accelerated filer,” “accelerated filer,” “smaller reporting company,” and “emerging growth company” in Rule 12b-2of the Exchange Act.\\n', start_char_idx=None, end_char_idx=None, text_template='{metadata_str}\\n\\n{content}', metadata_template='{key}: {value}', metadata_seperator='\\n')"
            ]
          },
          "metadata": {},
          "execution_count": 92
        }
      ]
    },
    {
      "cell_type": "markdown",
      "source": [
        "## **Question Generation**\n",
        "\n",
        "To select the right `chunk_size`, we'll compute metrics like Average Response time, Faithfulness, and Relevancy for various `chunk_sizes`. The `DatasetGenerator` will help us generate questions from the documents."
      ],
      "metadata": {
        "id": "jnpPtiz56TYA"
      }
    },
    {
      "cell_type": "code",
      "source": [],
      "metadata": {
        "id": "GdpE0hQHzIsU"
      },
      "execution_count": null,
      "outputs": []
    },
    {
      "cell_type": "code",
      "source": [
        "# To evaluate for each chunk size, we will first generate a set of 40 questions from first 20 pages.\n",
        "eval_documents = documents[:20]\n",
        "data_generator = DatasetGenerator.from_documents(eval_documents)\n",
        "eval_questions = data_generator.generate_questions_from_nodes(num = 40)"
      ],
      "metadata": {
        "id": "26BgDF3L6Z0r",
        "colab": {
          "base_uri": "https://localhost:8080/"
        },
        "outputId": "7c7e6d12-d4f3-492d-da78-f77be84179ef"
      },
      "execution_count": 94,
      "outputs": [
        {
          "output_type": "stream",
          "name": "stderr",
          "text": [
            "WARNING:llama_index.indices.service_context:chunk_size_limit is deprecated, please specify chunk_size instead\n"
          ]
        }
      ]
    },
    {
      "cell_type": "code",
      "source": [
        "eval_questions"
      ],
      "metadata": {
        "colab": {
          "base_uri": "https://localhost:8080/"
        },
        "id": "SzPmltBtyqUW",
        "outputId": "a5c717b0-9dda-4739-f9c9-e011fef8c4c4"
      },
      "execution_count": 96,
      "outputs": [
        {
          "output_type": "execute_result",
          "data": {
            "text/plain": [
              "['What is the fiscal year end date for Uber Technologies, Inc.?',\n",
              " 'In which state is Uber Technologies, Inc. incorporated?',\n",
              " \"What is the address of Uber Technologies, Inc.'s principal executive offices?\",\n",
              " \"What is the trading symbol for Uber Technologies, Inc.'s common stock?\",\n",
              " 'Is Uber Technologies, Inc. a well-known seasoned issuer?',\n",
              " 'Has Uber Technologies, Inc. filed all reports required by the Securities Exchange Act of 1934 in the past 12 months?',\n",
              " 'Has Uber Technologies, Inc. been subject to filing requirements for the past 90 days?',\n",
              " 'Has Uber Technologies, Inc. submitted every Interactive Data File required by Rule 405 of Regulation S-T in the past 12 months?',\n",
              " 'What are the different categories of filers defined in Rule 12b-2 of the Exchange Act?',\n",
              " 'Is Uber Technologies, Inc. considered a large accelerated filer, an accelerated filer, a non-accelerated filer, a smaller reporting company, or an emerging growth company?',\n",
              " 'What is the filing status of the registrant according to the context information?',\n",
              " 'Is the registrant considered an accelerated filer?',\n",
              " 'Has the registrant elected to use the extended transition period for complying with new or revised financial accounting standards?',\n",
              " \"Did the registrant file a report on its management's assessment of the effectiveness of its internal control over financial reporting?\",\n",
              " 'Is the registrant classified as a shell company?',\n",
              " \"What was the aggregate market value of the registrant's common equity held by non-affiliates as of June 30, 2021?\",\n",
              " \"How many shares of the registrant's common stock were outstanding as of February 22, 2022?\",\n",
              " 'Are there any documents incorporated by reference into the Annual Report on Form 10-K?',\n",
              " \"When will the registrant's Definitive Proxy Statement be filed with the Securities and Exchange Commission?\",\n",
              " 'What is the purpose of incorporating portions of the Definitive Proxy Statement into Part III of the Annual Report on Form 10-K?',\n",
              " 'What is the purpose of the \"Special Note Regarding Forward-Looking Statements\" section in the document?',\n",
              " 'What are the potential risks mentioned in the \"Risk Factors\" section?',\n",
              " 'Are there any unresolved staff comments mentioned in the document? If yes, what are they related to?',\n",
              " 'Does Uber Technologies, Inc. have any legal proceedings mentioned in the document? If yes, what are they?',\n",
              " 'Is there any information provided about mine safety disclosures in the document?',\n",
              " \"What is the market for Uber's common equity and are there any related stockholder matters mentioned?\",\n",
              " 'What does the \"Management\\'s Discussion and Analysis of Financial Condition and Results of Operations\" section cover?',\n",
              " 'Are there any quantitative and qualitative disclosures about market risk provided in the document?',\n",
              " 'What financial statements and supplementary data are included in the document?',\n",
              " 'Is there any information about changes in and disagreements with accountants on accounting and financial disclosure?',\n",
              " \"How has the COVID-19 pandemic affected Uber's business operations and financial performance?\",\n",
              " \"What potential impact could litigation and government proceedings have on Uber's relationship with drivers and couriers?\",\n",
              " 'How does Uber plan to effectively compete in highly competitive markets?',\n",
              " \"What are Uber's expectations regarding financial performance, including revenue and potential profitability?\",\n",
              " \"How does Uber anticipate its competitors' use of incentives and promotions will affect its growth and results of operations?\",\n",
              " 'What investments does Uber anticipate making in new products and offerings, and how will these investments impact its results of operations?',\n",
              " 'How does Uber plan to address anticipated technology trends and developments with its products and offerings?',\n",
              " \"What are Uber's expectations for growth in its number of platform users, and how does it plan to attract and retain these users?\",\n",
              " 'How does Uber plan to successfully enter new geographies and manage its international expansion?',\n",
              " 'What steps is Uber taking to comply with existing, modified, or new laws and regulations applying to its business?']"
            ]
          },
          "metadata": {},
          "execution_count": 96
        }
      ]
    },
    {
      "cell_type": "markdown",
      "source": [
        "## Setting Up Evaluators\n",
        "\n",
        "We are setting up the GPT-4 model to serve as the backbone for evaluating the responses generated during the experiment. Two evaluators, `FaithfulnessEvaluator` and `RelevancyEvaluator`, are initialised with the `service_context` .\n",
        "\n",
        "1. **Faithfulness Evaluator** - It is useful for measuring if the response was hallucinated and measures if the response from a query engine matches any source nodes.\n",
        "2. **Relevancy Evaluator** - It is useful for measuring if the query was actually answered by the response and measures if the response + source nodes match the query."
      ],
      "metadata": {
        "id": "C3WwA-0N6dMO"
      }
    },
    {
      "cell_type": "code",
      "source": [
        "# We will use GPT-4 for evaluating the responses\n",
        "gpt4 = OpenAI(temperature=0, model=\"gpt-4\")\n",
        "\n",
        "# Define service context for GPT-4 for evaluation\n",
        "service_context_gpt4 = ServiceContext.from_defaults(llm=gpt4)\n",
        "\n",
        "# Define Faithfulness and Relevancy Evaluators which are based on GPT-4\n",
        "faithfulness_gpt4 = FaithfulnessEvaluator(service_context=service_context_gpt4)\n",
        "relevancy_gpt4 = RelevancyEvaluator(service_context=service_context_gpt4)\n"
      ],
      "metadata": {
        "id": "G2LoMRtr6fnG"
      },
      "execution_count": 97,
      "outputs": []
    },
    {
      "cell_type": "markdown",
      "source": [
        "## **Response Evaluation For A Chunk Size**\n",
        "\n",
        "We evaluate each chunk_size based on 3 metrics.\n",
        "\n",
        "1. Average Response Time.\n",
        "2. Average Faithfulness.\n",
        "3. Average Relevancy.\n",
        "\n",
        "Here's a function, `evaluate_response_time_and_accuracy`, that does just that which has:\n",
        "\n",
        "1. VectorIndex Creation.\n",
        "2. Building the Query Engine**.**\n",
        "3. Metrics Calculation."
      ],
      "metadata": {
        "id": "UUncIIxR6gVz"
      }
    },
    {
      "cell_type": "code",
      "source": [
        "# Define function to calculate average response time, average faithfulness and average relevancy metrics for given chunk size\n",
        "# We use GPT-3.5-Turbo to generate response and GPT-4 to evaluate it.\n",
        "def evaluate_response_time_and_accuracy(chunk_size, eval_questions):\n",
        "    \"\"\"\n",
        "    Evaluate the average response time, faithfulness, and relevancy of responses generated by GPT-3.5-turbo for a given chunk size.\n",
        "\n",
        "    Parameters:\n",
        "    chunk_size (int): The size of data chunks being processed.\n",
        "\n",
        "    Returns:\n",
        "    tuple: A tuple containing the average response time, faithfulness, and relevancy metrics.\n",
        "    \"\"\"\n",
        "\n",
        "    total_response_time = 0\n",
        "    total_faithfulness = 0\n",
        "    total_relevancy = 0\n",
        "\n",
        "    # create vector index\n",
        "    llm = OpenAI(model=\"gpt-3.5-turbo\")\n",
        "    service_context = ServiceContext.from_defaults(llm=llm, chunk_size=chunk_size)\n",
        "    vector_index = VectorStoreIndex.from_documents(\n",
        "        eval_documents, service_context=service_context\n",
        "    )\n",
        "    # build query engine\n",
        "    # By default, similarity_top_k is set to 2. To experiment with different values, pass it as an argument to as_query_engine()\n",
        "    query_engine = vector_index.as_query_engine()\n",
        "    num_questions = len(eval_questions)\n",
        "\n",
        "    # Iterate over each question in eval_questions to compute metrics.\n",
        "    # While BatchEvalRunner can be used for faster evaluations (see: https://docs.llamaindex.ai/en/latest/examples/evaluation/batch_eval.html),\n",
        "    # we're using a loop here to specifically measure response time for different chunk sizes.\n",
        "    for question in eval_questions:\n",
        "        start_time = time.time()\n",
        "        response_vector = query_engine.query(question)\n",
        "        elapsed_time = time.time() - start_time\n",
        "\n",
        "        faithfulness_result = faithfulness_gpt4.evaluate_response(\n",
        "            response=response_vector\n",
        "        ).passing\n",
        "\n",
        "        relevancy_result = relevancy_gpt4.evaluate_response(\n",
        "            query=question, response=response_vector\n",
        "        ).passing\n",
        "\n",
        "        total_response_time += elapsed_time\n",
        "        total_faithfulness += faithfulness_result\n",
        "        total_relevancy += relevancy_result\n",
        "\n",
        "    average_response_time = total_response_time / num_questions\n",
        "    average_faithfulness = total_faithfulness / num_questions\n",
        "    average_relevancy = total_relevancy / num_questions\n",
        "\n",
        "    return average_response_time, average_faithfulness, average_relevancy"
      ],
      "metadata": {
        "id": "dEC2Lr0z6p1N"
      },
      "execution_count": 98,
      "outputs": []
    },
    {
      "cell_type": "markdown",
      "source": [
        "## **Testing Across Different Chunk Sizes**\n",
        "\n",
        "We'll evaluate a range of chunk sizes to identify which offers the most promising metrics"
      ],
      "metadata": {
        "id": "p8DQvTP96s48"
      }
    },
    {
      "cell_type": "code",
      "source": [
        "# Iterate over different chunk sizes to evaluate the metrics to help fix the chunk size.\n",
        "\n",
        "for chunk_size in [128, 256, 512, 1024, 2048]:\n",
        "  avg_response_time, avg_faithfulness, avg_relevancy = evaluate_response_time_and_accuracy(chunk_size,eval_questions)\n",
        "  print(f\"Chunk size {chunk_size} - Average Response time: {avg_response_time:.2f}s, Average Faithfulness: {avg_faithfulness:.2f}, Average Relevancy: {avg_relevancy:.2f}\")"
      ],
      "metadata": {
        "id": "jlKICwXH6Tib",
        "colab": {
          "base_uri": "https://localhost:8080/"
        },
        "outputId": "82135ad5-d695-4eef-b5d2-96562ede8b10"
      },
      "execution_count": 99,
      "outputs": [
        {
          "output_type": "stream",
          "name": "stderr",
          "text": [
            "WARNING:llama_index.llms.openai_utils:Retrying llama_index.llms.openai_utils.completion_with_retry.<locals>._completion_with_retry in 4.0 seconds as it raised Timeout: Request timed out: HTTPSConnectionPool(host='api.openai.com', port=443): Read timed out. (read timeout=600).\n"
          ]
        },
        {
          "output_type": "stream",
          "name": "stdout",
          "text": [
            "Chunk size 128 - Average Response time: 17.19s, Average Faithfulness: 0.88, Average Relevancy: 0.80\n"
          ]
        },
        {
          "output_type": "stream",
          "name": "stderr",
          "text": [
            "WARNING:llama_index.llms.openai_utils:Retrying llama_index.llms.openai_utils.acompletion_with_retry.<locals>._completion_with_retry in 4.0 seconds as it raised APIError: Bad gateway. {\"error\":{\"code\":502,\"message\":\"Bad gateway.\",\"param\":null,\"type\":\"cf_bad_gateway\"}} 502 {'error': {'code': 502, 'message': 'Bad gateway.', 'param': None, 'type': 'cf_bad_gateway'}} <CIMultiDictProxy('Date': 'Tue, 10 Oct 2023 14:06:13 GMT', 'Content-Type': 'application/json', 'Content-Length': '84', 'Connection': 'keep-alive', 'X-Frame-Options': 'SAMEORIGIN', 'Referrer-Policy': 'same-origin', 'Cache-Control': 'private, max-age=0, no-store, no-cache, must-revalidate, post-check=0, pre-check=0', 'Expires': 'Thu, 01 Jan 1970 00:00:01 GMT', 'Server': 'cloudflare', 'CF-RAY': '813f5d906d4528f8-ORD', 'alt-svc': 'h3=\":443\"; ma=86400')>.\n"
          ]
        },
        {
          "output_type": "stream",
          "name": "stdout",
          "text": [
            "Chunk size 256 - Average Response time: 2.27s, Average Faithfulness: 0.88, Average Relevancy: 0.78\n",
            "Chunk size 512 - Average Response time: 2.94s, Average Faithfulness: 0.88, Average Relevancy: 0.85\n",
            "Chunk size 1024 - Average Response time: 2.82s, Average Faithfulness: 0.95, Average Relevancy: 0.93\n",
            "Chunk size 2048 - Average Response time: 2.80s, Average Faithfulness: 0.97, Average Relevancy: 0.93\n"
          ]
        }
      ]
    },
    {
      "cell_type": "markdown",
      "source": [
        "## Reading Unstructured File Reader"
      ],
      "metadata": {
        "id": "4i_zzbLJ9TEV"
      }
    },
    {
      "cell_type": "code",
      "source": [
        "from llama_index import download_loader, SimpleDirectoryReader\n",
        "\n",
        "UnstructuredReader = download_loader('UnstructuredReader')"
      ],
      "metadata": {
        "id": "Rz9Chfzx9XPA"
      },
      "execution_count": 101,
      "outputs": []
    },
    {
      "cell_type": "code",
      "source": [
        "dir_reader = SimpleDirectoryReader('/content/drive/MyDrive/Plants', file_extractor={\n",
        "  \".pdf\": UnstructuredReader(),\n",
        "  \".html\": UnstructuredReader(),\n",
        "})\n",
        "documents = dir_reader.load_data()\n",
        "\n",
        "print(documents)"
      ],
      "metadata": {
        "colab": {
          "base_uri": "https://localhost:8080/"
        },
        "id": "A38M6dooyhLK",
        "outputId": "0064e710-3bf9-44bf-edf5-9e00d6f3b4cd"
      },
      "execution_count": 102,
      "outputs": [
        {
          "output_type": "stream",
          "name": "stderr",
          "text": [
            "[nltk_data] Downloading package punkt to /root/nltk_data...\n",
            "[nltk_data]   Package punkt is already up-to-date!\n",
            "[nltk_data] Downloading package averaged_perceptron_tagger to\n",
            "[nltk_data]     /root/nltk_data...\n",
            "[nltk_data]   Package averaged_perceptron_tagger is already up-to-\n",
            "[nltk_data]       date!\n",
            "[nltk_data] Downloading package punkt to /root/nltk_data...\n",
            "[nltk_data]   Package punkt is already up-to-date!\n",
            "[nltk_data] Downloading package averaged_perceptron_tagger to\n",
            "[nltk_data]     /root/nltk_data...\n",
            "[nltk_data]   Package averaged_perceptron_tagger is already up-to-\n",
            "[nltk_data]       date!\n"
          ]
        },
        {
          "output_type": "stream",
          "name": "stdout",
          "text": [
            "[Document(id_='61ce236b-611d-4c53-af7a-78aa76ef63b8', embedding=None, metadata={}, excluded_embed_metadata_keys=[], excluded_llm_metadata_keys=[], relationships={}, hash='39eafb25f70e7d32a55ac922351d3059139ce13fd241f49d32097aaab6d325c7', text=\"Shrub\\n\\nShrubs are small or medium-sized\\n\\nOo\\n\\nplants and they are also called as bushes. Types of\\n\\nThey are generally smaller than trees. Plants\\n\\nThey have many stems that are thick\\n\\nand strong. Examples: Rose, Hibiscus\\n\\n©\\n\\nand Tulsi. Fig 2: Shrubs Root\\n\\nHerb\\n\\n©\\n\\nHerbs are very small plants. They have slender and Stem\\n\\ngreen stems. They are used to add flavour in food.\\n\\nMany herbs have medicinal value in them. The\\n\\n©\\n\\nbanana plant is the world's largest herb! Examples: L eaves\\n\\nMint, Coriander, and Spinach.\\n\\nFig 3: Mint Climbers ©) Climbers are plants with thin and Flowers, fruits and\\n\\ngenerally coiled stems. They cannot grow straight like a tree or shrub. They seeds need support to grow. They climb on\\n\\nwalls, other plants or any other support\\n\\nthey get to climb’\\n\\nFig 4: Climber\\n\\nExample: Pea, Money Plant and Bean. Creepers\\n\\nCreepers are plants that grow along the ground. They cannot grow upright nor can\\n\\nthey climb on other plants or walls. They\\n\\nFig 5: Pumpkin creeper\\n\\nCompassion\\n\\n\\n\\nHumility\\n\\n\\n\\nHappiness oe\\n\\na it gt” ~-\\n\\n\\n\\n‘Me wv\\n\\n=\", start_char_idx=None, end_char_idx=None, text_template='{metadata_str}\\n\\n{content}', metadata_template='{key}: {value}', metadata_seperator='\\n'), Document(id_='0cef7541-4936-477c-81c2-2864644fb42f', embedding=None, metadata={}, excluded_embed_metadata_keys=[], excluded_llm_metadata_keys=[], relationships={}, hash='ac51ed971c2f27890626cab1c036ad2fb2166c75483c7c03574d0c9a7a08f6b6', text='oO\\n\\nTypes of\\n\\nPlants\\n\\n©\\n\\nRoot\\n\\n©\\n\\nStem\\n\\n©\\n\\nLeaves\\n\\n©\\n\\nFlowers,\\n\\nfruits and\\n\\nseeds\\n\\nCHAPTER 2: PLANTS\\n\\nOverview\\n\\nThere are many kinds of plants. Some have flowers, some don’t, some\\n\\ngive us fruits, some give us vegetables, some have thorns and some are\\n\\npoisonous too! But they are also alike in many ways.\\n\\nPlants have roots\\n\\nPlants have stems\\n\\nPlants have leaves\\n\\nPlants need soil, sun and water to live\\n\\nPlants make their own food (photosynthesis)\\n\\nPlants give us oxygen\\n\\nWe will study what is common to all plants in this lesson.\\n\\nTypes of Plants\\n\\nIf you look around carefully, all the plants have so many variations.\\n\\nEach plant has different shape, size, habitat and so on. Plants grow on\\n\\nland as well as in water. Based on the structure of a lants they can be\\n\\nclassified into these following categories:\\n\\nTrees\\n\\nTrees are big, tall and strong plants. They have a strong, thick and brown stem called the the trunk. They have many branches that can hold leaves, flowers and fruits. They also have very thick and strong roots.\\n\\nExamples: Neem and Banyan.\\n\\n~\\n\\n\\n\\nHumility\\n\\n\\n\\nHappiness\\n\\nFig 1: Coconut Tree\\n\\n(ARASA\\n\\npens', start_char_idx=None, end_char_idx=None, text_template='{metadata_str}\\n\\n{content}', metadata_template='{key}: {value}', metadata_seperator='\\n'), Document(id_='6c13c7af-1882-4c59-88b2-e94f412940fd', embedding=None, metadata={}, excluded_embed_metadata_keys=[], excluded_llm_metadata_keys=[], relationships={}, hash='2c4446e72c60c7ce7f2ffdec9dc060035e52480384a5c330084fa66233778df6', text=\"Whorl 3\\n\\n\\n\\nStamen _“Anther,\\n\\nFilament\\n\\nSepals(Calyx)\\n\\n\\n\\nWhorl 1\\n\\nPetals\\n\\n(Corolla)\\n\\n\\n\\nWhorl 2\\n\\nFig 14 Parts of a flower\\n\\nWhorl 1: Sepals\\n\\n\\n\\nCalyx\\n\\nThe calyx is the outermost whorl. It protects the inner whorls. The calyx is made up of sepals. Sepals are two small green, tiny leave like\\n\\nstructures, at the flower's base. Whorl 2: Petals - Corolla\\n\\nThe second whorl of the flower is the corolla. It contains petals. The petals attract the pollinators. Pollinators are insects that help the flowers in transferring the pollen from one flower to another. This transfer of pollen is how flowers reproduce. The bright colours and the scent of\\n\\npetals help them attract pollinators.\\n\\nCompassion\\n\\n\\n\\nHumility\\n\\n\\n\\nHappiness\\n\\noO\\n\\nTypes of\\n\\nPlants\\n\\nOo :O\\n\\nStem\\n\\noO\\n\\nLeaves\\n\\nO\\n\\nFlowers,\\n\\nfruits and\\n\\nseeds\", start_char_idx=None, end_char_idx=None, text_template='{metadata_str}\\n\\n{content}', metadata_template='{key}: {value}', metadata_seperator='\\n'), Document(id_='85d55eb5-9452-4694-a2e1-478589976460', embedding=None, metadata={}, excluded_embed_metadata_keys=[], excluded_llm_metadata_keys=[], relationships={}, hash='f5bcffcc50aadf5e89c3415bf15815ab22248918a80d86317a3f14fb33d91f81', text='oO\\n\\nTypes of\\n\\nPlants\\n\\noO\\n\\nRoot\\n\\noO\\n\\nStem\\n\\noO\\n\\nLeaves\\n\\noO\\n\\nFlowers,\\n\\nfruits and\\n\\nseeds\\n\\nWhorl 3: Stamens\\n\\nThe third whorl of a flower is the stamen, it is the male reproductive part of a flower. The stamen consists of filament and anther. The filament is similar to a thread in its structure and its function is to hold the anther. The anther sticks out of the filament and it produces pollen\\n\\ngrains.\\n\\nWhorl 4: Carpel\\n\\nAt the centre of the flower is the fourth whorl -- the carpel, it is the plant’s female reproductive organ. It is also named as the pistil. The\\n\\ncarpel is composed of four parts: the stigma, style, ovary and ovule.\\n\\nThe stigma is the topmost part. The stigma is sticky and hence can catch grains of pollen dispersed by the wind or the insects. The pollen grains then travel down the style, which is a long tube-like structure below the stigma. The pollen grain passes through the style and reaches the ovary. The ovary contains the ovules where the fertilization takes place and\\n\\nseeds are formed\\n\\nWhen fertilised, the ovary sometimes turns into a fruit. The fruit, in turn, holds the seed.\\n\\n_ 9\\n\\n\\n\\nHumility\\n\\n\\n\\nHappiness AzVeSe', start_char_idx=None, end_char_idx=None, text_template='{metadata_str}\\n\\n{content}', metadata_template='{key}: {value}', metadata_seperator='\\n'), Document(id_='cc950b15-c18a-44ba-a867-40754cda10cf', embedding=None, metadata={}, excluded_embed_metadata_keys=[], excluded_llm_metadata_keys=[], relationships={}, hash='14ada26526240f639bd0221d7db686582d8a28e523ace897578b28c6ee9e59e5', text='Pollination\\n\\nPollination is a very important part of the life cycle of a flowering plant. The transfer of pollen grains from an anther to a stigma of a flower is called pollination. Pollination takes place in two forms:\\n\\nself\\n\\n\\n\\npollination and cross\\n\\n\\n\\npollination.\\n\\nPollination\\n\\nPollinator — ot\\n\\nPoller Yo ~,\\n\\nFlower.\\n\\nFruit\\n\\nPetal Seeds\\n\\nLeaf.\\n\\nSter\\n\\n¥ }\\n\\n\\n\\n—Sprout\\n\\nFig 15: Pollination\\n\\nSelf-pollination occurs when the pollen from the anther is deposited\\n\\non the stigma of the same flower or another flower on the same plant.\\n\\nSelf-pollination 2. A pistil of the same _ flower collects pollen.\\n\\n1. Pollen comes loose from stamens.\\n\\nFig 16: Self pollinationTypes\\n\\nCompassion\\n\\n\\n\\nHumility\\n\\n\\n\\nHappiness\\n\\noO\\n\\nTypes of\\n\\nPlants\\n\\noO\\n\\nRoot\\n\\nO\\n\\nStem\\n\\nO\\n\\nLeaves\\n\\noO\\n\\nFlowers,\\n\\nfruits and\\n\\nseeds', start_char_idx=None, end_char_idx=None, text_template='{metadata_str}\\n\\n{content}', metadata_template='{key}: {value}', metadata_seperator='\\n'), Document(id_='513b826c-23bd-49db-a724-3f9f37c8c9eb', embedding=None, metadata={}, excluded_embed_metadata_keys=[], excluded_llm_metadata_keys=[], relationships={}, hash='09fd3e0b9e61496e292815d4511187e820a2b6767a47291fa326208a5be4a2c0', text='oO\\n\\nTypes of\\n\\nPlants\\n\\noO\\n\\nRoot\\n\\noO\\n\\nStem\\n\\noO\\n\\nLeaves\\n\\noO\\n\\nFlowers,\\n\\nfruits and\\n\\nseeds\\n\\nCross-pollination is the transfer of pollen from the anther of one flower to the stigma of another flower on a different plant. Both the plants need to be of the same species.\\n\\nCross\\n\\n\\n\\nPollination\\n\\nPollen grains 1.Pollen from stamens sticks to a bee\\n\\nas it visits a flower to collect food\\n\\n3. pollen on the bee sticks to a pistil of a flower on the other plant\\n\\nh\\n\\nPr Pollen\\n\\n2.The bee travels\\n\\nto another plant\\n\\nof the same type\\n\\nFig 17 Cross pollination\\n\\nFertilisation\\n\\nFertilisation is the union of the male and the female reproductive cells. When the pollen from an of flower falls on the stigma of a similar type of flower, it germinates. This process is called fertilisation. The time taken for the tube to reach the ovule may vary from a few hours to up to\\n\\nsix months.\\n\\nWatch this video to understand the process of fertilisation\\n\\n_\\n\\n\\n\\nHumility\\n\\n\\n\\nHappiness oe', start_char_idx=None, end_char_idx=None, text_template='{metadata_str}\\n\\n{content}', metadata_template='{key}: {value}', metadata_seperator='\\n'), Document(id_='77dfe7b7-ab3e-46b4-a803-b2b406b2298f', embedding=None, metadata={}, excluded_embed_metadata_keys=[], excluded_llm_metadata_keys=[], relationships={}, hash='9dd419bc1560edb3c1ab366a6ef0ec8c7f81998cc29d40bbf2d42ce545c889d1', text='The fertilised ovule forms the seed.\\n\\nstigma\\n\\no> pollination\\n\\nanther\\n\\nstamen gotten\\n\\nfilament\\n\\nstyle\\n\\npollen tube\\n\\novule\\n\\nembryo sac\\n\\negg cell\\n\\novary\\n\\npetal\\n\\nsepal\\n\\nvascular system P\\n\\nFig 18 Fertilisation in a flower\\n\\nAfter The seeds fertilisation, the ovule develops into an embryo. The embryo develops a surrounding hard wall. This is the seed. Some of the seeds are edible and used by humans such as almonds, Brazil nuts,\\n\\ncashews, peas, pumpkin seeds, and sunflower seeds. Structure of a Seed\\n\\nThe seed contains:\\n\\nRadicle, from which the root develops\\n\\nPlumule, from which the shoot\\n\\ndevelops RENE e One or two seed leaves called cotyledons e Aseed coat that covers the seed. Fig 19 Structure of a seed\\n\\nCompassion\\n\\n\\n\\nHumility\\n\\n\\n\\nHappiness\\n\\nOo\\n\\nTypes of\\n\\nPlants\\n\\nO\\n\\nRoot\\n\\noO\\n\\nStem\\n\\nOo\\n\\nLeaves\\n\\nO\\n\\nFlowers,\\n\\nfruits and\\n\\nseeds', start_char_idx=None, end_char_idx=None, text_template='{metadata_str}\\n\\n{content}', metadata_template='{key}: {value}', metadata_seperator='\\n'), Document(id_='729effc3-7ef1-487e-b4fd-e400f4c2719e', embedding=None, metadata={}, excluded_embed_metadata_keys=[], excluded_llm_metadata_keys=[], relationships={}, hash='b6d32f7e7d5bf9e4e6323fa331cec887f6ca8d7fc978f5e2447b6a079f403ba4', text='oO\\n\\nTypes of\\n\\nPlants\\n\\noO\\n\\nRoot\\n\\noO\\n\\nStem\\n\\noO\\n\\nLeaves\\n\\nO\\n\\nFlowers,\\n\\nfruits and\\n\\nseeds\\n\\nPlants are classified based upon the number of seed leaves (cotyledons) in the seed as:/\\n\\n¢ Monocots: Plants containing one cotyledon such as grasses.\\n\\nDicots: Plants that have two cotyledons.\\n\\nThe Fruit\\n\\nAfter fertilisation, the ovary swells and becomes a fruit that protects the seed from the external environment and also helps in the dispersal of the seed. The fruit is either fleshy or dry, it facilitates the storage of food. Most of the fruits are edible: apples, grapes, peaches, pears etc.\\n\\nStructure of Fruit\\n\\nA fruit consists of the pericarp or fruit SACS\\n\\nwall, and seeds. The fruit wall can be Mesocarp dry or fleshy depending on the kind of Endocap fruit. In tomato and papaya, it is soft and\\n\\nfleshy, while in gram, it is dry.\\n\\nThe pericarp csontains three parts: Fig 20 Parts of a Apple\\n\\n© Exocarp: The outer thin and leathery part which is often thrown away.\\n\\n© Mesocarp: The middle layer that is soft and fleshy and is the edible portion.\\n\\n¢ Endocarp: The inner layer that is hard and it encloses the seed.\\n\\nCompassion\\n\\n\\n\\nHumility\\n\\n\\n\\nHappiness', start_char_idx=None, end_char_idx=None, text_template='{metadata_str}\\n\\n{content}', metadata_template='{key}: {value}', metadata_seperator='\\n'), Document(id_='3125bb6e-bd8f-45a2-9faf-258627e506c7', embedding=None, metadata={}, excluded_embed_metadata_keys=[], excluded_llm_metadata_keys=[], relationships={}, hash='562e62f0e5c301125b4dcc158a0a8335cc71ac5c22f21ebd0c33bfe65fb10d0d', text='Keywords\\n\\nAxillary buds: The buds present between the stem and the base of leaves.\\n\\nRhizome: It is a modified stem that grows horizontally underground. Tendrils: Slender, twining strands that enable a plant to seek support by climbing on other surfaces.\\n\\nVenation: The arrangement of veins in a leaf is called the pattern. Pollen grain: A microscopic body that contains the male reproductive cell of a plant.\\n\\nComplete flowers: Flowers that have all four whorls.\\n\\nIncomplete flowers: Flowers that lack one or more of the whorls. Pollination: The transfer of pollen grains from an anther to a stigma of a flower.\\n\\nFertilisation: The union of the male and the female reproductive cells.\\n\\nSummary\\n\\nPlants are of five types\\n\\ntrees, herbs, shrubs, climbers and creepers.\\n\\nRoot system lies below the soil.\\n\\nRoots modify themselves to perform other functions like storage and support.\\n\\n¢ The shoot system is the part of the plant found in the soil. It consists of the stem, leaves, flowers and fruits.\\n\\nLeaves are food factories of the plants as they prepare food for the\\n\\nplants by photosynthesis.\\n\\nCompassion\\n\\n\\n\\non\\n\\n\\n\\nHappiness\\n\\noO\\n\\nTypes of\\n\\nPlants\\n\\noO\\n\\nRoot\\n\\nO\\n\\nStem\\n\\nO\\n\\nLeaves\\n\\noO\\n\\nFlowers,\\n\\nfruits and\\n\\nseeds\\n\\n(ARASA', start_char_idx=None, end_char_idx=None, text_template='{metadata_str}\\n\\n{content}', metadata_template='{key}: {value}', metadata_seperator='\\n'), Document(id_='9f80384c-7808-4613-b324-c0acc77524f6', embedding=None, metadata={}, excluded_embed_metadata_keys=[], excluded_llm_metadata_keys=[], relationships={}, hash='2243f11ecd7c680e8a3bd8c461fc1847dcb05385b7a76c87c88c04bb7e4c5606', text='oO\\n\\nTypes of\\n\\nPlants\\n\\noO\\n\\nRoot\\n\\noO\\n\\nStem\\n\\noO\\n\\nLeaves\\n\\nO\\n\\nFlowers,\\n\\nfruits and\\n\\nseeds\\n\\nTranspiration is the process of water movement through a plant and its evaporation through stomata A typical flower has four main parts- calyx, corolla, stamens and carpel.\\n\\nThe transfer of pollen from the anther of flower to stigma of the same type of flower pollen is called pollination.\\n\\nFertilisation is the union of the male and the female reproductive cells.\\n\\nAfter fertilisation, the ovule develops into an embryo. The embryo develops a surrounding hard wall. This is the seed.\\n\\nAfter fertilisation, the ovary becomes fruit that holds the developing seeds. This is the fruit.\\n\\nCompassion\\n\\n\\n\\nHumility\\n\\n\\n\\nHappiness', start_char_idx=None, end_char_idx=None, text_template='{metadata_str}\\n\\n{content}', metadata_template='{key}: {value}', metadata_seperator='\\n'), Document(id_='60185fbe-aa3f-47ea-bf35-59b9af2cdc13', embedding=None, metadata={}, excluded_embed_metadata_keys=[], excluded_llm_metadata_keys=[], relationships={}, hash='09b294ae97ea4ae45a8fee65757794ab9c95823dc6d6f4008f7d6ee693c710d5', text='oO\\n\\nTypes of\\n\\nPlants\\n\\noO\\n\\nRoot\\n\\n©\\n\\nStem\\n\\n©\\n\\nLeaves\\n\\n©\\n\\nFlowers,\\n\\nfruits and\\n\\nseeds\\n\\nhave thin and coiled stems and\\n\\nbranches. They generally bear very Pa rts of a Pl ant big vegetables and fruits. Example: -—\\n\\nFlower\\n\\nHelps in\\n\\nreproduction\\n\\nLeaf\\n\\nPerforms\\n\\nphotosynthesis\\n\\nPumpkin, Watermelon and\\n\\nMuskmelon.\\n\\nShoot\\n\\nBasic Structure of a Plant exstem\\n\\nFruit\\n\\nProtects the\\n\\nseeds\\n\\nThe basic structure of a typical Stem\\n\\nSupports the\\n\\nplant has two main systems: plant\\n\\nRoot R ¢ Root system: the structure system not Absorbs water below the ground and L__ sees e Shoot system: the structure above the ground Fig6: Parts of a Plant\\n\\nEach structure has specific parts’\\n\\nThe Root System\\n\\nThe underground part of the plant is called the root. They grow downward away from sunlight. The roots are extremely important to\\n\\nconserve soil as they prevent soil erosion.\\n\\nThe root system has three parts; one main thick primary root, its many side branches and root-hairs at the end parts of the root branches.\\n\\nTogether they are known as the root system.\\n\\n~\\n\\n\\n\\nHumility\\n\\n\\n\\nHappiness', start_char_idx=None, end_char_idx=None, text_template='{metadata_str}\\n\\n{content}', metadata_template='{key}: {value}', metadata_seperator='\\n'), Document(id_='bb283af7-3a7a-4cc7-99ac-81fd453abe32', embedding=None, metadata={}, excluded_embed_metadata_keys=[], excluded_llm_metadata_keys=[], relationships={}, hash='b08fd983db2927ba0061d6774c3e1177b8764967819f6126b83c7e5f0f663a3c', text='Types of Root System The root system is of two types: Tap root and fibrous root system.\\n\\nTap Root System: A taproot is a long, thick root that points straight down and they have many small branches of root. They resemble a\\n\\nplant that is turned upside down, however, without any leaves on them.\\n\\nPlants with taproots include carrots and dandelions.\\n\\nFibrous Roots Tap Roots\\n\\nFig 7: Different types of roots\\n\\nFibrous Root System: Fibrous roots are made up of many small roots, all about the same size. The small roots grow out in many directions\\n\\nfrom the base of the stem. Grasses have fibrous root systems.\\n\\nSome roots, called adventitious roots, arise from other plant organs\\n\\nrather than the root, such as from stems or leaves.\\n\\n=)\\n\\n\\n\\n)\\n\\n\\n\\nHappiness\\n\\nO\\n\\nTypes of\\n\\nPlants', start_char_idx=None, end_char_idx=None, text_template='{metadata_str}\\n\\n{content}', metadata_template='{key}: {value}', metadata_seperator='\\n'), Document(id_='19e19979-1113-4fe5-b325-fd2c28456a78', embedding=None, metadata={}, excluded_embed_metadata_keys=[], excluded_llm_metadata_keys=[], relationships={}, hash='54239bacb6a4f365e12a61753581a0f2290337ffe9de2667287799bf1f3c7a6e', text='oO\\n\\nTypes of\\n\\nPlants\\n\\n° :O\\n\\nStem.\\n\\n©\\n\\nLeaves\\n\\n©\\n\\nFlowers,\\n\\nfruits and\\n\\nseeds\\n\\nFunctions of Roots\\n\\nRoots have three main functions:\\n\\nAnchorage: The roots fix the plant firmly to the soil and prevent the plant being blown by the wind or washed away by water. You will notice this if you try to uproot a plant.\\n\\nAbsorption: Tiny root hairs on secondary the root absorb water and nutrients from the soil.\\n\\nStorage: Roots also act as a storage part for food materials for certain\\n\\nplants. E.g. Carrot, beetroot and radish.\\n\\nScan this OR code to watch a video on roots.\\n\\nThe Shoot System This is the part of a plant that grows above the soil. The shoot bears\\n\\nstem, buds, leaves, flowers and fruits.\\n\\nStem\\n\\nStem connects the roots to the rest of the plant. The points on the stem from where the leaves and branches originate are called nodes. The part\\n\\nof the stem between two nodes is called internodes.\\n\\nshoot tip\\n\\nepidermis\\n\\naxillary bud\\n\\nvein\\n\\nmidrib\\n\\ninternode Fig 8 Parts of a stem\\n\\nCompassion\\n\\n\\n\\nHumility\\n\\n\\n\\nHappiness', start_char_idx=None, end_char_idx=None, text_template='{metadata_str}\\n\\n{content}', metadata_template='{key}: {value}', metadata_seperator='\\n'), Document(id_='09dc4f73-3eb4-4941-a4df-9ee2ff80ca66', embedding=None, metadata={}, excluded_embed_metadata_keys=[], excluded_llm_metadata_keys=[], relationships={}, hash='aabab23ddfa7e0878f783efcd64b1e7b197d13740d6f8fb53bf52e6dae2e8feb', text='The undeveloped shoot called bud is present at the tip of the stem. The growing tip of the shoot is called apical bud or terminal bud.\\n\\noO\\n\\nTypes of\\n\\nThe buds present between the stem and the base of leaves are called Pent ants\\n\\naxillary buds. The axillary buds produce new branches and help in growth.\\n\\nO\\n\\nFunctions of the stem Root\\n\\nStems support the plant by holding it upright and helping it bend\\n\\nO\\n\\ntowards sunlight. They carry water and minerals from the roots to the leaves and distribute food prepared in leaves to different parts of the Stem plant.\\n\\nSome stems also store food. Sugarcane and celery are examples of stems\\n\\noO\\n\\nthat grow above the ground and store food. Onions, garlic and potatoes | Leaves\\n\\nare examples of underground stems.\\n\\nScan this QR code to watch a video on stems.\\n\\n©\\n\\nFlowers,\\n\\nol fruits and\\n\\nLeaves seeds\\n\\nThe leaf is where the plant manufactures its food by the process of photosynthesis. The flat surface of the leaf is ideal for trapping sunlight. The leaves also help to exchange gases. How can leaves perform so many activities? Let us learn about the structure of leaves to understand their functions. There are many different types of leaves they come in\\n\\nvarious sizes and forms.\\n\\nCompassion\\n\\n\\n\\nHumility\\n\\n\\n\\nHappiness canes\\n\\n=', start_char_idx=None, end_char_idx=None, text_template='{metadata_str}\\n\\n{content}', metadata_template='{key}: {value}', metadata_seperator='\\n'), Document(id_='dea61313-dd85-417a-baa0-008b3f9955e7', embedding=None, metadata={}, excluded_embed_metadata_keys=[], excluded_llm_metadata_keys=[], relationships={}, hash='e93bfe5a03427a7ac11e6860c142a4c7d630fa997a14e039c861086d93ce1fbf', text='Structure of a leaf\\n\\nMid rib\\n\\noO\\n\\nThe leaves of most of the plants\\n\\nTypes of have basic structure, it includes; Pants blade, leaf stalk, vein and petiole.\\n\\nThe broad, thin surface of the leaf\\n\\nis called the blade. It is attached Petiole\\n\\nto a petiole that grows from the\\n\\n[oO\\n\\n6\\n\\nS\\n\\nstem of the plant. The edge of the\\n\\nleaf structure is termed as margin. Veins emalveins\\n\\nFig 9 Structure of a leaf\\n\\noO\\n\\nStem The blade has thin network of line called as veins. The vein that is in the centre of a leaf is termed as midrib. Water and dissolved minerals are carried from the soil through the roots and stems of the plant. They are then transferred from the leafstalk to the veins of the leaf. The food\\n\\noO\\n\\nLeaves formed in the leaf are transferred back into the plant through the veins.\\n\\nVenation in Leaves\\n\\n©\\n\\nFlowers,\\n\\nfruits and . . . . seeds The arrangement of veins in a leaf is called the venation pattern.\\n\\nIn parallel venation, the veins run in straight lines across the length of the leaf without crossing each other. E.g. Grasses, maize and palm.\\n\\nFig 10 Parallel venation and reticulate venationTypes\\n\\n_\\n\\n\\n\\nHumility\\n\\n\\n\\nHappiness (CAZVASA\\n\\npr I', start_char_idx=None, end_char_idx=None, text_template='{metadata_str}\\n\\n{content}', metadata_template='{key}: {value}', metadata_seperator='\\n'), Document(id_='0927f848-3c17-4e2b-9e24-3d34c8e7c02e', embedding=None, metadata={}, excluded_embed_metadata_keys=[], excluded_llm_metadata_keys=[], relationships={}, hash='518545c75c310c91357e147761c0aca264d87e891b495a6c9952d7e9516e584c', text='In reticulate venation, the veins of the leaf are similar to a net, wherein\\n\\nthe veins cross each other covering the blade. E.g. Rose and Mango. Functions of Leaves\\n\\nPhotosynthesis, transpiration and food storage are the key functions of\\n\\nleaves.\\n\\nPhotosynthesis is the process by which plants produce food using energy from sunlight, carbon dioxide from the air, and water and\\n\\nnutrients from the soil.\\n\\nThe pigment chlorophyll converts sunlight into food. This is the pigment that gives leaves its\\n\\ngreen colour. Leaves are designed to capture\\n\\nsunlight.\\n\\nplants\\n\\ntranspire\\n\\nwater\\n\\nTranspiration is evaporation of water from\\n\\nplants. Water evaporates from small pores,\\n\\n(4 ‘ * t water evaporates Te water plus salt goes into the soil\\n\\ncalled stomata, on the underside of leaves.\\n\\nTranspiration cools the plants and is also the\\n\\nsalt remains\\n\\nbehind\\n\\nreason why you feel cool in shade!\\n\\nFig 12 Transpiration\\n\\nStore food: Some, but not all, leaves are edible. Examples of edible leave include cabbage, kale, lettuce, mustard, parsley, and spinach.\\n\\n~\\n\\n\\n\\nHumility\\n\\n\\n\\nHappiness\\n\\noO\\n\\nTypes of\\n\\nPlants\\n\\noO\\n\\nRoot\\n\\no\\n\\nStem\\n\\nO\\n\\nLeaves\\n\\noO\\n\\nFlowers,\\n\\nfruits and\\n\\nseeds\\n\\n(ARaSA', start_char_idx=None, end_char_idx=None, text_template='{metadata_str}\\n\\n{content}', metadata_template='{key}: {value}', metadata_seperator='\\n'), Document(id_='57141153-20a8-4045-bbc0-fbd0e3bd585f', embedding=None, metadata={}, excluded_embed_metadata_keys=[], excluded_llm_metadata_keys=[], relationships={}, hash='55d38b4fca4205d564dad18da99f9db1e12671a276445a5b53af93816e3a9b96', text='oO\\n\\nTypes of\\n\\nPlants\\n\\noO\\n\\nRoot\\n\\noO\\n\\nStem\\n\\noO\\n\\nLeaves\\n\\noO\\n\\nFlowers,\\n\\nfruits and\\n\\nseeds\\n\\nLeaves adaptation to eat insects: A unique leaf modification is seen in the Venus fly trap where the leaves are modified structures to trap prey. The leaves of the pitcher plant are modified to form tube-like structures with\\n\\nhairs to trap insects.\\n\\nFig 13 Insectivorous plants\\n\\nScan this QR code to watch a video on leaves.\\n\\nFlowers, Fruits and Seeds\\n\\nAlong with fruits and seeds, flowers help plants reproduce. Let us study about these important elements of the plant: flowers, fruits and seeds.\\n\\nFlower\\n\\nFlowers are the reproductive organs of plants. They comprise of the stamen and carpel. These are surrounded by petals and sepals.\\n\\nStructure of the flower\\n\\nScientific names:\\n\\n® Petals: Corolla\\n\\nSepals: Calyx\\n\\n© Reproductive Organs: Stamens and Carpel\\n\\nA whorl is a circular arrangement of like parts around a point on an axis. Parts of the flower are arranged in four whorls. Some flowers have all the four whorls and are called complete flowers. E.g. E.g. China rose,\\n\\npea and mustard.\\n\\nThere are other flowers that lack one or more of the whorls; they are\\n\\ncalled as incomplete flowers. E.g. date palm and mulberry.\\n\\n~\\n\\n\\n\\nHumility\\n\\n\\n\\nHappiness', start_char_idx=None, end_char_idx=None, text_template='{metadata_str}\\n\\n{content}', metadata_template='{key}: {value}', metadata_seperator='\\n')]\n"
          ]
        }
      ]
    },
    {
      "cell_type": "code",
      "source": [
        "# To evaluate for each chunk size, we will first generate a set of 40 questions from first 20 pages.\n",
        "eval_documents = documents[:20]\n",
        "data_generator = DatasetGenerator.from_documents(eval_documents)\n",
        "eval_questions = data_generator.generate_questions_from_nodes(num = 40)"
      ],
      "metadata": {
        "colab": {
          "base_uri": "https://localhost:8080/"
        },
        "id": "YmeFn25oAIW4",
        "outputId": "385d2f42-a95a-4e63-d5f5-f396edf3829a"
      },
      "execution_count": 103,
      "outputs": [
        {
          "output_type": "stream",
          "name": "stderr",
          "text": [
            "WARNING:llama_index.indices.service_context:chunk_size_limit is deprecated, please specify chunk_size instead\n"
          ]
        }
      ]
    },
    {
      "cell_type": "code",
      "source": [
        "eval_questions"
      ],
      "metadata": {
        "colab": {
          "base_uri": "https://localhost:8080/"
        },
        "id": "LHCJQNN6AVGL",
        "outputId": "5836b288-ac91-4ad2-f3df-9b4d09678b8b"
      },
      "execution_count": 104,
      "outputs": [
        {
          "output_type": "execute_result",
          "data": {
            "text/plain": [
              "['What are some examples of shrubs mentioned in the context information?',\n",
              " 'How are shrubs different from trees in terms of size?',\n",
              " 'What are some characteristics of herbs mentioned in the context information?',\n",
              " \"Which plant is considered the world's largest herb?\",\n",
              " 'Name some herbs that have medicinal value.',\n",
              " 'How do climbers differ from shrubs and trees in terms of growth pattern?',\n",
              " 'What do climbers need in order to grow?',\n",
              " 'Give examples of climbers mentioned in the context information.',\n",
              " 'How do creepers differ from climbers in terms of growth pattern?',\n",
              " 'Describe the growth pattern of creepers mentioned in the context information.',\n",
              " 'What are the common characteristics of all plants?',\n",
              " 'What are the three main parts of a plant?',\n",
              " 'What are the essential requirements for plants to live?',\n",
              " 'What is the process by which plants make their own food?',\n",
              " 'What is the main function of leaves in a plant?',\n",
              " 'How do plants contribute to the production of oxygen?',\n",
              " 'How can plants be classified based on their structure?',\n",
              " 'What are some examples of trees and their characteristics?',\n",
              " 'What is the significance of the trunk in a tree?',\n",
              " 'Can you describe the coconut tree based on the given information?',\n",
              " 'What is the function of the calyx in a flower?',\n",
              " 'How do petals contribute to the reproduction of flowers?',\n",
              " 'Name the two structures that make up the calyx.',\n",
              " 'What is the purpose of the corolla in a flower?',\n",
              " 'How do petals attract pollinators?',\n",
              " 'What are the pollinators and how do they assist in flower reproduction?',\n",
              " 'Describe the appearance of sepals in a flower.',\n",
              " 'What is the outermost whorl of a flower called?',\n",
              " 'Explain the role of the calyx in protecting the inner whorls of a flower.',\n",
              " 'How do the bright colors and scent of petals help attract pollinators?',\n",
              " 'What are the four whorls of a flower and what are their functions?',\n",
              " 'Describe the structure and function of the stamen in a flower.',\n",
              " 'How does the stigma of a flower play a role in reproduction?',\n",
              " 'Explain the process of pollen grain travel from the stigma to the ovary in a flower.',\n",
              " 'What are the four parts of a carpel and what are their functions?',\n",
              " 'How are seeds formed in a flower and where does fertilization take place?',\n",
              " 'What happens to the ovary after fertilization in some flowers?',\n",
              " 'How does the fruit of a flower contribute to seed dispersal?',\n",
              " \"What is the role of the filament in a flower's stamen?\",\n",
              " 'How do the different parts of a flower work together to ensure successful reproduction?']"
            ]
          },
          "metadata": {},
          "execution_count": 104
        }
      ]
    },
    {
      "cell_type": "markdown",
      "source": [
        "## **Testing Across Different Chunk Sizes**"
      ],
      "metadata": {
        "id": "6MTlPY5eAnPl"
      }
    },
    {
      "cell_type": "code",
      "source": [
        "# Iterate over different chunk sizes to evaluate the metrics to help fix the chunk size.\n",
        "chunk_sizes = []\n",
        "response_time = []\n",
        "faithfulness = []\n",
        "relevancy = []\n",
        "\n",
        "for chunk_size in [128, 256, 512, 1024, 2048]:\n",
        "  avg_response_time, avg_faithfulness, avg_relevancy = evaluate_response_time_and_accuracy(chunk_size,eval_questions)\n",
        "  chunk_sizes.append(chunk_size)\n",
        "  response_time.append(avg_response_time)\n",
        "  faithfulness.append(avg_faithfulness)\n",
        "  relevancy.append(avg_relevancy)\n",
        "  #\n",
        "  print(f\"Chunk size {chunk_size} - Average Response time: {avg_response_time:.2f}s, Average Faithfulness: {avg_faithfulness:.2f}, Average Relevancy: {avg_relevancy:.2f}\")"
      ],
      "metadata": {
        "colab": {
          "base_uri": "https://localhost:8080/"
        },
        "id": "rYkH3w7IAV6O",
        "outputId": "2be1ca56-a6df-4762-e037-bbf1469157d8"
      },
      "execution_count": 105,
      "outputs": [
        {
          "output_type": "stream",
          "name": "stderr",
          "text": [
            "WARNING:llama_index.llms.openai_utils:Retrying llama_index.llms.openai_utils.completion_with_retry.<locals>._completion_with_retry in 4.0 seconds as it raised Timeout: Request timed out: HTTPSConnectionPool(host='api.openai.com', port=443): Read timed out. (read timeout=600).\n",
            "WARNING:llama_index.llms.openai_utils:Retrying llama_index.llms.openai_utils.acompletion_with_retry.<locals>._completion_with_retry in 4.0 seconds as it raised APIError: Bad gateway. {\"error\":{\"code\":502,\"message\":\"Bad gateway.\",\"param\":null,\"type\":\"cf_bad_gateway\"}} 502 {'error': {'code': 502, 'message': 'Bad gateway.', 'param': None, 'type': 'cf_bad_gateway'}} <CIMultiDictProxy('Date': 'Tue, 10 Oct 2023 15:00:47 GMT', 'Content-Type': 'application/json', 'Content-Length': '84', 'Connection': 'keep-alive', 'X-Frame-Options': 'SAMEORIGIN', 'Referrer-Policy': 'same-origin', 'Cache-Control': 'private, max-age=0, no-store, no-cache, must-revalidate, post-check=0, pre-check=0', 'Expires': 'Thu, 01 Jan 1970 00:00:01 GMT', 'Server': 'cloudflare', 'CF-RAY': '813fad7e288c813a-ORD', 'alt-svc': 'h3=\":443\"; ma=86400')>.\n"
          ]
        },
        {
          "output_type": "stream",
          "name": "stdout",
          "text": [
            "Chunk size 128 - Average Response time: 17.50s, Average Faithfulness: 0.95, Average Relevancy: 0.95\n",
            "Chunk size 256 - Average Response time: 2.34s, Average Faithfulness: 0.93, Average Relevancy: 0.93\n",
            "Chunk size 512 - Average Response time: 2.61s, Average Faithfulness: 0.93, Average Relevancy: 0.95\n",
            "Chunk size 1024 - Average Response time: 2.52s, Average Faithfulness: 0.95, Average Relevancy: 0.95\n",
            "Chunk size 2048 - Average Response time: 2.57s, Average Faithfulness: 0.97, Average Relevancy: 0.93\n"
          ]
        }
      ]
    },
    {
      "cell_type": "markdown",
      "source": [
        "## Response- Azvaza"
      ],
      "metadata": {
        "id": "UQf3S4HUOQxb"
      }
    },
    {
      "cell_type": "code",
      "source": [
        "result = pd.DataFrame({'Chunk_Size':chunk_sizes,'Average Response Time': response_time,'Average Faithfulness': faithfulness,'Average Relevancy': relevancy})\n",
        "result\n"
      ],
      "metadata": {
        "colab": {
          "base_uri": "https://localhost:8080/",
          "height": 206
        },
        "id": "Umt_XX5sOVaH",
        "outputId": "74d061fb-b6dc-49ed-d6f6-a9903358a344"
      },
      "execution_count": 106,
      "outputs": [
        {
          "output_type": "execute_result",
          "data": {
            "text/plain": [
              "   Chunk_Size  Average Response Time  Average Faithfulness  Average Relevancy\n",
              "0         128              17.501502                 0.950              0.950\n",
              "1         256               2.338921                 0.925              0.925\n",
              "2         512               2.612032                 0.925              0.950\n",
              "3        1024               2.521067                 0.950              0.950\n",
              "4        2048               2.567891                 0.975              0.925"
            ],
            "text/html": [
              "\n",
              "  <div id=\"df-6a5cf348-0721-45af-bf8e-24855454be68\" class=\"colab-df-container\">\n",
              "    <div>\n",
              "<style scoped>\n",
              "    .dataframe tbody tr th:only-of-type {\n",
              "        vertical-align: middle;\n",
              "    }\n",
              "\n",
              "    .dataframe tbody tr th {\n",
              "        vertical-align: top;\n",
              "    }\n",
              "\n",
              "    .dataframe thead th {\n",
              "        text-align: right;\n",
              "    }\n",
              "</style>\n",
              "<table border=\"1\" class=\"dataframe\">\n",
              "  <thead>\n",
              "    <tr style=\"text-align: right;\">\n",
              "      <th></th>\n",
              "      <th>Chunk_Size</th>\n",
              "      <th>Average Response Time</th>\n",
              "      <th>Average Faithfulness</th>\n",
              "      <th>Average Relevancy</th>\n",
              "    </tr>\n",
              "  </thead>\n",
              "  <tbody>\n",
              "    <tr>\n",
              "      <th>0</th>\n",
              "      <td>128</td>\n",
              "      <td>17.501502</td>\n",
              "      <td>0.950</td>\n",
              "      <td>0.950</td>\n",
              "    </tr>\n",
              "    <tr>\n",
              "      <th>1</th>\n",
              "      <td>256</td>\n",
              "      <td>2.338921</td>\n",
              "      <td>0.925</td>\n",
              "      <td>0.925</td>\n",
              "    </tr>\n",
              "    <tr>\n",
              "      <th>2</th>\n",
              "      <td>512</td>\n",
              "      <td>2.612032</td>\n",
              "      <td>0.925</td>\n",
              "      <td>0.950</td>\n",
              "    </tr>\n",
              "    <tr>\n",
              "      <th>3</th>\n",
              "      <td>1024</td>\n",
              "      <td>2.521067</td>\n",
              "      <td>0.950</td>\n",
              "      <td>0.950</td>\n",
              "    </tr>\n",
              "    <tr>\n",
              "      <th>4</th>\n",
              "      <td>2048</td>\n",
              "      <td>2.567891</td>\n",
              "      <td>0.975</td>\n",
              "      <td>0.925</td>\n",
              "    </tr>\n",
              "  </tbody>\n",
              "</table>\n",
              "</div>\n",
              "    <div class=\"colab-df-buttons\">\n",
              "\n",
              "  <div class=\"colab-df-container\">\n",
              "    <button class=\"colab-df-convert\" onclick=\"convertToInteractive('df-6a5cf348-0721-45af-bf8e-24855454be68')\"\n",
              "            title=\"Convert this dataframe to an interactive table.\"\n",
              "            style=\"display:none;\">\n",
              "\n",
              "  <svg xmlns=\"http://www.w3.org/2000/svg\" height=\"24px\" viewBox=\"0 -960 960 960\">\n",
              "    <path d=\"M120-120v-720h720v720H120Zm60-500h600v-160H180v160Zm220 220h160v-160H400v160Zm0 220h160v-160H400v160ZM180-400h160v-160H180v160Zm440 0h160v-160H620v160ZM180-180h160v-160H180v160Zm440 0h160v-160H620v160Z\"/>\n",
              "  </svg>\n",
              "    </button>\n",
              "\n",
              "  <style>\n",
              "    .colab-df-container {\n",
              "      display:flex;\n",
              "      gap: 12px;\n",
              "    }\n",
              "\n",
              "    .colab-df-convert {\n",
              "      background-color: #E8F0FE;\n",
              "      border: none;\n",
              "      border-radius: 50%;\n",
              "      cursor: pointer;\n",
              "      display: none;\n",
              "      fill: #1967D2;\n",
              "      height: 32px;\n",
              "      padding: 0 0 0 0;\n",
              "      width: 32px;\n",
              "    }\n",
              "\n",
              "    .colab-df-convert:hover {\n",
              "      background-color: #E2EBFA;\n",
              "      box-shadow: 0px 1px 2px rgba(60, 64, 67, 0.3), 0px 1px 3px 1px rgba(60, 64, 67, 0.15);\n",
              "      fill: #174EA6;\n",
              "    }\n",
              "\n",
              "    .colab-df-buttons div {\n",
              "      margin-bottom: 4px;\n",
              "    }\n",
              "\n",
              "    [theme=dark] .colab-df-convert {\n",
              "      background-color: #3B4455;\n",
              "      fill: #D2E3FC;\n",
              "    }\n",
              "\n",
              "    [theme=dark] .colab-df-convert:hover {\n",
              "      background-color: #434B5C;\n",
              "      box-shadow: 0px 1px 3px 1px rgba(0, 0, 0, 0.15);\n",
              "      filter: drop-shadow(0px 1px 2px rgba(0, 0, 0, 0.3));\n",
              "      fill: #FFFFFF;\n",
              "    }\n",
              "  </style>\n",
              "\n",
              "    <script>\n",
              "      const buttonEl =\n",
              "        document.querySelector('#df-6a5cf348-0721-45af-bf8e-24855454be68 button.colab-df-convert');\n",
              "      buttonEl.style.display =\n",
              "        google.colab.kernel.accessAllowed ? 'block' : 'none';\n",
              "\n",
              "      async function convertToInteractive(key) {\n",
              "        const element = document.querySelector('#df-6a5cf348-0721-45af-bf8e-24855454be68');\n",
              "        const dataTable =\n",
              "          await google.colab.kernel.invokeFunction('convertToInteractive',\n",
              "                                                    [key], {});\n",
              "        if (!dataTable) return;\n",
              "\n",
              "        const docLinkHtml = 'Like what you see? Visit the ' +\n",
              "          '<a target=\"_blank\" href=https://colab.research.google.com/notebooks/data_table.ipynb>data table notebook</a>'\n",
              "          + ' to learn more about interactive tables.';\n",
              "        element.innerHTML = '';\n",
              "        dataTable['output_type'] = 'display_data';\n",
              "        await google.colab.output.renderOutput(dataTable, element);\n",
              "        const docLink = document.createElement('div');\n",
              "        docLink.innerHTML = docLinkHtml;\n",
              "        element.appendChild(docLink);\n",
              "      }\n",
              "    </script>\n",
              "  </div>\n",
              "\n",
              "\n",
              "<div id=\"df-32934cae-67ee-4e2d-8b52-852396591dd0\">\n",
              "  <button class=\"colab-df-quickchart\" onclick=\"quickchart('df-32934cae-67ee-4e2d-8b52-852396591dd0')\"\n",
              "            title=\"Suggest charts.\"\n",
              "            style=\"display:none;\">\n",
              "\n",
              "<svg xmlns=\"http://www.w3.org/2000/svg\" height=\"24px\"viewBox=\"0 0 24 24\"\n",
              "     width=\"24px\">\n",
              "    <g>\n",
              "        <path d=\"M19 3H5c-1.1 0-2 .9-2 2v14c0 1.1.9 2 2 2h14c1.1 0 2-.9 2-2V5c0-1.1-.9-2-2-2zM9 17H7v-7h2v7zm4 0h-2V7h2v10zm4 0h-2v-4h2v4z\"/>\n",
              "    </g>\n",
              "</svg>\n",
              "  </button>\n",
              "\n",
              "<style>\n",
              "  .colab-df-quickchart {\n",
              "      --bg-color: #E8F0FE;\n",
              "      --fill-color: #1967D2;\n",
              "      --hover-bg-color: #E2EBFA;\n",
              "      --hover-fill-color: #174EA6;\n",
              "      --disabled-fill-color: #AAA;\n",
              "      --disabled-bg-color: #DDD;\n",
              "  }\n",
              "\n",
              "  [theme=dark] .colab-df-quickchart {\n",
              "      --bg-color: #3B4455;\n",
              "      --fill-color: #D2E3FC;\n",
              "      --hover-bg-color: #434B5C;\n",
              "      --hover-fill-color: #FFFFFF;\n",
              "      --disabled-bg-color: #3B4455;\n",
              "      --disabled-fill-color: #666;\n",
              "  }\n",
              "\n",
              "  .colab-df-quickchart {\n",
              "    background-color: var(--bg-color);\n",
              "    border: none;\n",
              "    border-radius: 50%;\n",
              "    cursor: pointer;\n",
              "    display: none;\n",
              "    fill: var(--fill-color);\n",
              "    height: 32px;\n",
              "    padding: 0;\n",
              "    width: 32px;\n",
              "  }\n",
              "\n",
              "  .colab-df-quickchart:hover {\n",
              "    background-color: var(--hover-bg-color);\n",
              "    box-shadow: 0 1px 2px rgba(60, 64, 67, 0.3), 0 1px 3px 1px rgba(60, 64, 67, 0.15);\n",
              "    fill: var(--button-hover-fill-color);\n",
              "  }\n",
              "\n",
              "  .colab-df-quickchart-complete:disabled,\n",
              "  .colab-df-quickchart-complete:disabled:hover {\n",
              "    background-color: var(--disabled-bg-color);\n",
              "    fill: var(--disabled-fill-color);\n",
              "    box-shadow: none;\n",
              "  }\n",
              "\n",
              "  .colab-df-spinner {\n",
              "    border: 2px solid var(--fill-color);\n",
              "    border-color: transparent;\n",
              "    border-bottom-color: var(--fill-color);\n",
              "    animation:\n",
              "      spin 1s steps(1) infinite;\n",
              "  }\n",
              "\n",
              "  @keyframes spin {\n",
              "    0% {\n",
              "      border-color: transparent;\n",
              "      border-bottom-color: var(--fill-color);\n",
              "      border-left-color: var(--fill-color);\n",
              "    }\n",
              "    20% {\n",
              "      border-color: transparent;\n",
              "      border-left-color: var(--fill-color);\n",
              "      border-top-color: var(--fill-color);\n",
              "    }\n",
              "    30% {\n",
              "      border-color: transparent;\n",
              "      border-left-color: var(--fill-color);\n",
              "      border-top-color: var(--fill-color);\n",
              "      border-right-color: var(--fill-color);\n",
              "    }\n",
              "    40% {\n",
              "      border-color: transparent;\n",
              "      border-right-color: var(--fill-color);\n",
              "      border-top-color: var(--fill-color);\n",
              "    }\n",
              "    60% {\n",
              "      border-color: transparent;\n",
              "      border-right-color: var(--fill-color);\n",
              "    }\n",
              "    80% {\n",
              "      border-color: transparent;\n",
              "      border-right-color: var(--fill-color);\n",
              "      border-bottom-color: var(--fill-color);\n",
              "    }\n",
              "    90% {\n",
              "      border-color: transparent;\n",
              "      border-bottom-color: var(--fill-color);\n",
              "    }\n",
              "  }\n",
              "</style>\n",
              "\n",
              "  <script>\n",
              "    async function quickchart(key) {\n",
              "      const quickchartButtonEl =\n",
              "        document.querySelector('#' + key + ' button');\n",
              "      quickchartButtonEl.disabled = true;  // To prevent multiple clicks.\n",
              "      quickchartButtonEl.classList.add('colab-df-spinner');\n",
              "      try {\n",
              "        const charts = await google.colab.kernel.invokeFunction(\n",
              "            'suggestCharts', [key], {});\n",
              "      } catch (error) {\n",
              "        console.error('Error during call to suggestCharts:', error);\n",
              "      }\n",
              "      quickchartButtonEl.classList.remove('colab-df-spinner');\n",
              "      quickchartButtonEl.classList.add('colab-df-quickchart-complete');\n",
              "    }\n",
              "    (() => {\n",
              "      let quickchartButtonEl =\n",
              "        document.querySelector('#df-32934cae-67ee-4e2d-8b52-852396591dd0 button');\n",
              "      quickchartButtonEl.style.display =\n",
              "        google.colab.kernel.accessAllowed ? 'block' : 'none';\n",
              "    })();\n",
              "  </script>\n",
              "</div>\n",
              "\n",
              "  <div id=\"id_7814b53b-5db0-4c9e-ae46-6cb99beaac03\">\n",
              "    <style>\n",
              "      .colab-df-generate {\n",
              "        background-color: #E8F0FE;\n",
              "        border: none;\n",
              "        border-radius: 50%;\n",
              "        cursor: pointer;\n",
              "        display: none;\n",
              "        fill: #1967D2;\n",
              "        height: 32px;\n",
              "        padding: 0 0 0 0;\n",
              "        width: 32px;\n",
              "      }\n",
              "\n",
              "      .colab-df-generate:hover {\n",
              "        background-color: #E2EBFA;\n",
              "        box-shadow: 0px 1px 2px rgba(60, 64, 67, 0.3), 0px 1px 3px 1px rgba(60, 64, 67, 0.15);\n",
              "        fill: #174EA6;\n",
              "      }\n",
              "\n",
              "      [theme=dark] .colab-df-generate {\n",
              "        background-color: #3B4455;\n",
              "        fill: #D2E3FC;\n",
              "      }\n",
              "\n",
              "      [theme=dark] .colab-df-generate:hover {\n",
              "        background-color: #434B5C;\n",
              "        box-shadow: 0px 1px 3px 1px rgba(0, 0, 0, 0.15);\n",
              "        filter: drop-shadow(0px 1px 2px rgba(0, 0, 0, 0.3));\n",
              "        fill: #FFFFFF;\n",
              "      }\n",
              "    </style>\n",
              "    <button class=\"colab-df-generate\" onclick=\"generateWithVariable('result')\"\n",
              "            title=\"Generate code using this dataframe.\"\n",
              "            style=\"display:none;\">\n",
              "\n",
              "  <svg xmlns=\"http://www.w3.org/2000/svg\" height=\"24px\"viewBox=\"0 0 24 24\"\n",
              "       width=\"24px\">\n",
              "    <path d=\"M7,19H8.4L18.45,9,17,7.55,7,17.6ZM5,21V16.75L18.45,3.32a2,2,0,0,1,2.83,0l1.4,1.43a1.91,1.91,0,0,1,.58,1.4,1.91,1.91,0,0,1-.58,1.4L9.25,21ZM18.45,9,17,7.55Zm-12,3A5.31,5.31,0,0,0,4.9,8.1,5.31,5.31,0,0,0,1,6.5,5.31,5.31,0,0,0,4.9,4.9,5.31,5.31,0,0,0,6.5,1,5.31,5.31,0,0,0,8.1,4.9,5.31,5.31,0,0,0,12,6.5,5.46,5.46,0,0,0,6.5,12Z\"/>\n",
              "  </svg>\n",
              "    </button>\n",
              "    <script>\n",
              "      (() => {\n",
              "      const buttonEl =\n",
              "        document.querySelector('#id_7814b53b-5db0-4c9e-ae46-6cb99beaac03 button.colab-df-generate');\n",
              "      buttonEl.style.display =\n",
              "        google.colab.kernel.accessAllowed ? 'block' : 'none';\n",
              "\n",
              "      buttonEl.onclick = () => {\n",
              "        google.colab.notebook.generateWithVariable('result');\n",
              "      }\n",
              "      })();\n",
              "    </script>\n",
              "  </div>\n",
              "\n",
              "    </div>\n",
              "  </div>\n"
            ]
          },
          "metadata": {},
          "execution_count": 106
        }
      ]
    },
    {
      "cell_type": "code",
      "source": [
        "result.to_csv(\"Chunk_size_analysis.csv\",index=False)"
      ],
      "metadata": {
        "id": "c723ZHZ5OvCa"
      },
      "execution_count": 107,
      "outputs": []
    }
  ],
  "metadata": {
    "colab": {
      "provenance": [],
      "include_colab_link": true
    },
    "kernelspec": {
      "display_name": "Python 3",
      "name": "python3"
    },
    "language_info": {
      "name": "python"
    },
    "widgets": {
      "application/vnd.jupyter.widget-state+json": {
        "977dc709d3b349e4a086fc1183e3a2bd": {
          "model_module": "@jupyter-widgets/controls",
          "model_name": "HBoxModel",
          "model_module_version": "1.5.0",
          "state": {
            "_dom_classes": [],
            "_model_module": "@jupyter-widgets/controls",
            "_model_module_version": "1.5.0",
            "_model_name": "HBoxModel",
            "_view_count": null,
            "_view_module": "@jupyter-widgets/controls",
            "_view_module_version": "1.5.0",
            "_view_name": "HBoxView",
            "box_style": "",
            "children": [
              "IPY_MODEL_4d2f69cd49d246a0b6a45591c8e804b9",
              "IPY_MODEL_16eb50b4f70f4e79a6c2d60d617fb468",
              "IPY_MODEL_6b3f9650c3da4f428021ef34cf2e93c5"
            ],
            "layout": "IPY_MODEL_ee82f1dd22434280879a5487c33a91a0"
          }
        },
        "4d2f69cd49d246a0b6a45591c8e804b9": {
          "model_module": "@jupyter-widgets/controls",
          "model_name": "HTMLModel",
          "model_module_version": "1.5.0",
          "state": {
            "_dom_classes": [],
            "_model_module": "@jupyter-widgets/controls",
            "_model_module_version": "1.5.0",
            "_model_name": "HTMLModel",
            "_view_count": null,
            "_view_module": "@jupyter-widgets/controls",
            "_view_module_version": "1.5.0",
            "_view_name": "HTMLView",
            "description": "",
            "description_tooltip": null,
            "layout": "IPY_MODEL_f30fea1f783543cdaf8aee73f2fd6fba",
            "placeholder": "​",
            "style": "IPY_MODEL_3210143b7a2d4d21ac517bba1ee6f558",
            "value": "100%"
          }
        },
        "16eb50b4f70f4e79a6c2d60d617fb468": {
          "model_module": "@jupyter-widgets/controls",
          "model_name": "FloatProgressModel",
          "model_module_version": "1.5.0",
          "state": {
            "_dom_classes": [],
            "_model_module": "@jupyter-widgets/controls",
            "_model_module_version": "1.5.0",
            "_model_name": "FloatProgressModel",
            "_view_count": null,
            "_view_module": "@jupyter-widgets/controls",
            "_view_module_version": "1.5.0",
            "_view_name": "ProgressView",
            "bar_style": "success",
            "description": "",
            "description_tooltip": null,
            "layout": "IPY_MODEL_d617b556c2b7458b9c98317e4dbeb062",
            "max": 17,
            "min": 0,
            "orientation": "horizontal",
            "style": "IPY_MODEL_31ce9c311a5a4239a49dbec2c72b1387",
            "value": 17
          }
        },
        "6b3f9650c3da4f428021ef34cf2e93c5": {
          "model_module": "@jupyter-widgets/controls",
          "model_name": "HTMLModel",
          "model_module_version": "1.5.0",
          "state": {
            "_dom_classes": [],
            "_model_module": "@jupyter-widgets/controls",
            "_model_module_version": "1.5.0",
            "_model_name": "HTMLModel",
            "_view_count": null,
            "_view_module": "@jupyter-widgets/controls",
            "_view_module_version": "1.5.0",
            "_view_name": "HTMLView",
            "description": "",
            "description_tooltip": null,
            "layout": "IPY_MODEL_f95e6f6ab710486f961a1451b5e96a2f",
            "placeholder": "​",
            "style": "IPY_MODEL_1881d67ceecf43cba9d9e36582c28f0b",
            "value": " 17/17 [00:00&lt;00:00, 533.48it/s]"
          }
        },
        "ee82f1dd22434280879a5487c33a91a0": {
          "model_module": "@jupyter-widgets/base",
          "model_name": "LayoutModel",
          "model_module_version": "1.2.0",
          "state": {
            "_model_module": "@jupyter-widgets/base",
            "_model_module_version": "1.2.0",
            "_model_name": "LayoutModel",
            "_view_count": null,
            "_view_module": "@jupyter-widgets/base",
            "_view_module_version": "1.2.0",
            "_view_name": "LayoutView",
            "align_content": null,
            "align_items": null,
            "align_self": null,
            "border": null,
            "bottom": null,
            "display": null,
            "flex": null,
            "flex_flow": null,
            "grid_area": null,
            "grid_auto_columns": null,
            "grid_auto_flow": null,
            "grid_auto_rows": null,
            "grid_column": null,
            "grid_gap": null,
            "grid_row": null,
            "grid_template_areas": null,
            "grid_template_columns": null,
            "grid_template_rows": null,
            "height": null,
            "justify_content": null,
            "justify_items": null,
            "left": null,
            "margin": null,
            "max_height": null,
            "max_width": null,
            "min_height": null,
            "min_width": null,
            "object_fit": null,
            "object_position": null,
            "order": null,
            "overflow": null,
            "overflow_x": null,
            "overflow_y": null,
            "padding": null,
            "right": null,
            "top": null,
            "visibility": null,
            "width": null
          }
        },
        "f30fea1f783543cdaf8aee73f2fd6fba": {
          "model_module": "@jupyter-widgets/base",
          "model_name": "LayoutModel",
          "model_module_version": "1.2.0",
          "state": {
            "_model_module": "@jupyter-widgets/base",
            "_model_module_version": "1.2.0",
            "_model_name": "LayoutModel",
            "_view_count": null,
            "_view_module": "@jupyter-widgets/base",
            "_view_module_version": "1.2.0",
            "_view_name": "LayoutView",
            "align_content": null,
            "align_items": null,
            "align_self": null,
            "border": null,
            "bottom": null,
            "display": null,
            "flex": null,
            "flex_flow": null,
            "grid_area": null,
            "grid_auto_columns": null,
            "grid_auto_flow": null,
            "grid_auto_rows": null,
            "grid_column": null,
            "grid_gap": null,
            "grid_row": null,
            "grid_template_areas": null,
            "grid_template_columns": null,
            "grid_template_rows": null,
            "height": null,
            "justify_content": null,
            "justify_items": null,
            "left": null,
            "margin": null,
            "max_height": null,
            "max_width": null,
            "min_height": null,
            "min_width": null,
            "object_fit": null,
            "object_position": null,
            "order": null,
            "overflow": null,
            "overflow_x": null,
            "overflow_y": null,
            "padding": null,
            "right": null,
            "top": null,
            "visibility": null,
            "width": null
          }
        },
        "3210143b7a2d4d21ac517bba1ee6f558": {
          "model_module": "@jupyter-widgets/controls",
          "model_name": "DescriptionStyleModel",
          "model_module_version": "1.5.0",
          "state": {
            "_model_module": "@jupyter-widgets/controls",
            "_model_module_version": "1.5.0",
            "_model_name": "DescriptionStyleModel",
            "_view_count": null,
            "_view_module": "@jupyter-widgets/base",
            "_view_module_version": "1.2.0",
            "_view_name": "StyleView",
            "description_width": ""
          }
        },
        "d617b556c2b7458b9c98317e4dbeb062": {
          "model_module": "@jupyter-widgets/base",
          "model_name": "LayoutModel",
          "model_module_version": "1.2.0",
          "state": {
            "_model_module": "@jupyter-widgets/base",
            "_model_module_version": "1.2.0",
            "_model_name": "LayoutModel",
            "_view_count": null,
            "_view_module": "@jupyter-widgets/base",
            "_view_module_version": "1.2.0",
            "_view_name": "LayoutView",
            "align_content": null,
            "align_items": null,
            "align_self": null,
            "border": null,
            "bottom": null,
            "display": null,
            "flex": null,
            "flex_flow": null,
            "grid_area": null,
            "grid_auto_columns": null,
            "grid_auto_flow": null,
            "grid_auto_rows": null,
            "grid_column": null,
            "grid_gap": null,
            "grid_row": null,
            "grid_template_areas": null,
            "grid_template_columns": null,
            "grid_template_rows": null,
            "height": null,
            "justify_content": null,
            "justify_items": null,
            "left": null,
            "margin": null,
            "max_height": null,
            "max_width": null,
            "min_height": null,
            "min_width": null,
            "object_fit": null,
            "object_position": null,
            "order": null,
            "overflow": null,
            "overflow_x": null,
            "overflow_y": null,
            "padding": null,
            "right": null,
            "top": null,
            "visibility": null,
            "width": null
          }
        },
        "31ce9c311a5a4239a49dbec2c72b1387": {
          "model_module": "@jupyter-widgets/controls",
          "model_name": "ProgressStyleModel",
          "model_module_version": "1.5.0",
          "state": {
            "_model_module": "@jupyter-widgets/controls",
            "_model_module_version": "1.5.0",
            "_model_name": "ProgressStyleModel",
            "_view_count": null,
            "_view_module": "@jupyter-widgets/base",
            "_view_module_version": "1.2.0",
            "_view_name": "StyleView",
            "bar_color": null,
            "description_width": ""
          }
        },
        "f95e6f6ab710486f961a1451b5e96a2f": {
          "model_module": "@jupyter-widgets/base",
          "model_name": "LayoutModel",
          "model_module_version": "1.2.0",
          "state": {
            "_model_module": "@jupyter-widgets/base",
            "_model_module_version": "1.2.0",
            "_model_name": "LayoutModel",
            "_view_count": null,
            "_view_module": "@jupyter-widgets/base",
            "_view_module_version": "1.2.0",
            "_view_name": "LayoutView",
            "align_content": null,
            "align_items": null,
            "align_self": null,
            "border": null,
            "bottom": null,
            "display": null,
            "flex": null,
            "flex_flow": null,
            "grid_area": null,
            "grid_auto_columns": null,
            "grid_auto_flow": null,
            "grid_auto_rows": null,
            "grid_column": null,
            "grid_gap": null,
            "grid_row": null,
            "grid_template_areas": null,
            "grid_template_columns": null,
            "grid_template_rows": null,
            "height": null,
            "justify_content": null,
            "justify_items": null,
            "left": null,
            "margin": null,
            "max_height": null,
            "max_width": null,
            "min_height": null,
            "min_width": null,
            "object_fit": null,
            "object_position": null,
            "order": null,
            "overflow": null,
            "overflow_x": null,
            "overflow_y": null,
            "padding": null,
            "right": null,
            "top": null,
            "visibility": null,
            "width": null
          }
        },
        "1881d67ceecf43cba9d9e36582c28f0b": {
          "model_module": "@jupyter-widgets/controls",
          "model_name": "DescriptionStyleModel",
          "model_module_version": "1.5.0",
          "state": {
            "_model_module": "@jupyter-widgets/controls",
            "_model_module_version": "1.5.0",
            "_model_name": "DescriptionStyleModel",
            "_view_count": null,
            "_view_module": "@jupyter-widgets/base",
            "_view_module_version": "1.2.0",
            "_view_name": "StyleView",
            "description_width": ""
          }
        }
      }
    }
  },
  "nbformat": 4,
  "nbformat_minor": 0
}